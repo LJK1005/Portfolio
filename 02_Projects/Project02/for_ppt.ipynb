{
 "cells": [
  {
   "cell_type": "code",
   "execution_count": 1,
   "metadata": {},
   "outputs": [],
   "source": [
    "import pandas as pd\n",
    "import numpy as np\n",
    "import matplotlib.pyplot as plt\n",
    "from matplotlib.gridspec import GridSpec\n",
    "import seaborn as sns"
   ]
  },
  {
   "cell_type": "code",
   "execution_count": 2,
   "metadata": {},
   "outputs": [],
   "source": [
    "df = pd.read_csv(\"./data/Data_Refined.csv\")"
   ]
  },
  {
   "cell_type": "code",
   "execution_count": 3,
   "metadata": {},
   "outputs": [
    {
     "data": {
      "text/plain": [
       "(119892, 31)"
      ]
     },
     "execution_count": 3,
     "metadata": {},
     "output_type": "execute_result"
    }
   ],
   "source": [
    "df.shape"
   ]
  },
  {
   "cell_type": "code",
   "execution_count": 4,
   "metadata": {},
   "outputs": [
    {
     "data": {
      "text/html": [
       "<div>\n",
       "<style scoped>\n",
       "    .dataframe tbody tr th:only-of-type {\n",
       "        vertical-align: middle;\n",
       "    }\n",
       "\n",
       "    .dataframe tbody tr th {\n",
       "        vertical-align: top;\n",
       "    }\n",
       "\n",
       "    .dataframe thead th {\n",
       "        text-align: right;\n",
       "    }\n",
       "</style>\n",
       "<table border=\"1\" class=\"dataframe\">\n",
       "  <thead>\n",
       "    <tr style=\"text-align: right;\">\n",
       "      <th></th>\n",
       "      <th>age</th>\n",
       "      <th>ageCond</th>\n",
       "      <th>birthday</th>\n",
       "      <th>budam</th>\n",
       "      <th>track</th>\n",
       "      <th>weather</th>\n",
       "      <th>hrName</th>\n",
       "      <th>hrNo</th>\n",
       "      <th>hrTool</th>\n",
       "      <th>ord</th>\n",
       "      <th>...</th>\n",
       "      <th>wgHr</th>\n",
       "      <th>wgJk</th>\n",
       "      <th>hrSpd</th>\n",
       "      <th>age_day</th>\n",
       "      <th>trackCat</th>\n",
       "      <th>tr1</th>\n",
       "      <th>tr2</th>\n",
       "      <th>topCntY</th>\n",
       "      <th>topCntT</th>\n",
       "      <th>ills</th>\n",
       "    </tr>\n",
       "  </thead>\n",
       "  <tbody>\n",
       "    <tr>\n",
       "      <th>0</th>\n",
       "      <td>3</td>\n",
       "      <td>3세</td>\n",
       "      <td>2020-04-16</td>\n",
       "      <td>별정A</td>\n",
       "      <td>건조 (2%)</td>\n",
       "      <td>맑음</td>\n",
       "      <td>패스트건</td>\n",
       "      <td>46029</td>\n",
       "      <td>계란형큰,망사+,눈가면-</td>\n",
       "      <td>1</td>\n",
       "      <td>...</td>\n",
       "      <td>496</td>\n",
       "      <td>0</td>\n",
       "      <td>15.990160</td>\n",
       "      <td>1018</td>\n",
       "      <td>건조</td>\n",
       "      <td>8</td>\n",
       "      <td>2</td>\n",
       "      <td>4</td>\n",
       "      <td>5</td>\n",
       "      <td>7</td>\n",
       "    </tr>\n",
       "    <tr>\n",
       "      <th>1</th>\n",
       "      <td>3</td>\n",
       "      <td>연령오픈</td>\n",
       "      <td>2020-04-16</td>\n",
       "      <td>핸디캡</td>\n",
       "      <td>건조 (3%)</td>\n",
       "      <td>비</td>\n",
       "      <td>패스트건</td>\n",
       "      <td>46029</td>\n",
       "      <td>계란형큰,망사</td>\n",
       "      <td>2</td>\n",
       "      <td>...</td>\n",
       "      <td>495</td>\n",
       "      <td>0</td>\n",
       "      <td>16.203704</td>\n",
       "      <td>1060</td>\n",
       "      <td>건조</td>\n",
       "      <td>9</td>\n",
       "      <td>2</td>\n",
       "      <td>4</td>\n",
       "      <td>5</td>\n",
       "      <td>6</td>\n",
       "    </tr>\n",
       "    <tr>\n",
       "      <th>2</th>\n",
       "      <td>3</td>\n",
       "      <td>연령오픈</td>\n",
       "      <td>2020-04-16</td>\n",
       "      <td>핸디캡</td>\n",
       "      <td>건조 (4%)</td>\n",
       "      <td>흐림</td>\n",
       "      <td>패스트건</td>\n",
       "      <td>46029</td>\n",
       "      <td>계란형큰,망사</td>\n",
       "      <td>3</td>\n",
       "      <td>...</td>\n",
       "      <td>487</td>\n",
       "      <td>0</td>\n",
       "      <td>15.911873</td>\n",
       "      <td>1093</td>\n",
       "      <td>건조</td>\n",
       "      <td>11</td>\n",
       "      <td>1</td>\n",
       "      <td>4</td>\n",
       "      <td>5</td>\n",
       "      <td>5</td>\n",
       "    </tr>\n",
       "    <tr>\n",
       "      <th>3</th>\n",
       "      <td>3</td>\n",
       "      <td>연령오픈</td>\n",
       "      <td>2020-04-16</td>\n",
       "      <td>핸디캡</td>\n",
       "      <td>양호 (8%)</td>\n",
       "      <td>맑음</td>\n",
       "      <td>패스트건</td>\n",
       "      <td>46029</td>\n",
       "      <td>계란형큰,망사</td>\n",
       "      <td>1</td>\n",
       "      <td>...</td>\n",
       "      <td>497</td>\n",
       "      <td>0</td>\n",
       "      <td>16.018307</td>\n",
       "      <td>1130</td>\n",
       "      <td>양호</td>\n",
       "      <td>10</td>\n",
       "      <td>1</td>\n",
       "      <td>4</td>\n",
       "      <td>5</td>\n",
       "      <td>19</td>\n",
       "    </tr>\n",
       "    <tr>\n",
       "      <th>4</th>\n",
       "      <td>3</td>\n",
       "      <td>연령오픈</td>\n",
       "      <td>2020-04-16</td>\n",
       "      <td>핸디캡</td>\n",
       "      <td>다습 (10%)</td>\n",
       "      <td>맑음</td>\n",
       "      <td>패스트건</td>\n",
       "      <td>46029</td>\n",
       "      <td>계란형큰,망사</td>\n",
       "      <td>9</td>\n",
       "      <td>...</td>\n",
       "      <td>497</td>\n",
       "      <td>0</td>\n",
       "      <td>15.355086</td>\n",
       "      <td>1163</td>\n",
       "      <td>다습</td>\n",
       "      <td>9</td>\n",
       "      <td>1</td>\n",
       "      <td>4</td>\n",
       "      <td>5</td>\n",
       "      <td>12</td>\n",
       "    </tr>\n",
       "  </tbody>\n",
       "</table>\n",
       "<p>5 rows × 31 columns</p>\n",
       "</div>"
      ],
      "text/plain": [
       "   age ageCond    birthday budam     track weather hrName   hrNo  \\\n",
       "0    3      3세  2020-04-16   별정A   건조 (2%)      맑음   패스트건  46029   \n",
       "1    3    연령오픈  2020-04-16   핸디캡   건조 (3%)       비   패스트건  46029   \n",
       "2    3    연령오픈  2020-04-16   핸디캡   건조 (4%)      흐림   패스트건  46029   \n",
       "3    3    연령오픈  2020-04-16   핸디캡   양호 (8%)      맑음   패스트건  46029   \n",
       "4    3    연령오픈  2020-04-16   핸디캡  다습 (10%)      맑음   패스트건  46029   \n",
       "\n",
       "          hrTool  ord  ... wgHr wgJk      hrSpd age_day  trackCat tr1  tr2  \\\n",
       "0  계란형큰,망사+,눈가면-    1  ...  496    0  15.990160    1018        건조   8    2   \n",
       "1        계란형큰,망사    2  ...  495    0  16.203704    1060        건조   9    2   \n",
       "2        계란형큰,망사    3  ...  487    0  15.911873    1093        건조  11    1   \n",
       "3        계란형큰,망사    1  ...  497    0  16.018307    1130        양호  10    1   \n",
       "4        계란형큰,망사    9  ...  497    0  15.355086    1163        다습   9    1   \n",
       "\n",
       "   topCntY  topCntT ills  \n",
       "0        4        5    7  \n",
       "1        4        5    6  \n",
       "2        4        5    5  \n",
       "3        4        5   19  \n",
       "4        4        5   12  \n",
       "\n",
       "[5 rows x 31 columns]"
      ]
     },
     "execution_count": 4,
     "metadata": {},
     "output_type": "execute_result"
    }
   ],
   "source": [
    "df.head()"
   ]
  },
  {
   "cell_type": "code",
   "execution_count": 5,
   "metadata": {},
   "outputs": [],
   "source": [
    "경주마정보 = pd.read_csv(\"./data/경주마정보_origin.csv\")\n",
    "진료정보 = pd.read_csv(\"./data/마필진료정보_origin.csv\")\n",
    "훈련정보 = pd.read_csv(\"./data/마필훈련정보_origin.csv\")"
   ]
  },
  {
   "cell_type": "code",
   "execution_count": 6,
   "metadata": {},
   "outputs": [
    {
     "data": {
      "text/plain": [
       "((56445, 26), (207804, 8), (2020082, 15))"
      ]
     },
     "execution_count": 6,
     "metadata": {},
     "output_type": "execute_result"
    }
   ],
   "source": [
    "경주마정보.shape, 진료정보.shape, 훈련정보.shape"
   ]
  },
  {
   "cell_type": "code",
   "execution_count": 7,
   "metadata": {},
   "outputs": [],
   "source": [
    "df2 = df[df['rank'] == '국6등급']"
   ]
  },
  {
   "cell_type": "code",
   "execution_count": 8,
   "metadata": {},
   "outputs": [
    {
     "data": {
      "text/plain": [
       "age         0\n",
       "rcNo        0\n",
       "topCntT     0\n",
       "topCntY     0\n",
       "tr2         0\n",
       "tr1         0\n",
       "trackCat    0\n",
       "age_day     0\n",
       "hrSpd       0\n",
       "wgJk        0\n",
       "wgHr        0\n",
       "wgBudam     0\n",
       "sex         0\n",
       "rcDist      0\n",
       "rcTime      0\n",
       "rcDate      0\n",
       "ageCond     0\n",
       "rating      0\n",
       "rank        0\n",
       "plcOdds     0\n",
       "meet        0\n",
       "ordBigo     0\n",
       "ord         0\n",
       "hrTool      0\n",
       "hrNo        0\n",
       "hrName      0\n",
       "weather     0\n",
       "track       0\n",
       "budam       0\n",
       "birthday    0\n",
       "ills        0\n",
       "dtype: int64"
      ]
     },
     "execution_count": 8,
     "metadata": {},
     "output_type": "execute_result"
    }
   ],
   "source": [
    "df2.isnull().sum().sort_values(ascending=False)"
   ]
  },
  {
   "cell_type": "code",
   "execution_count": 9,
   "metadata": {},
   "outputs": [],
   "source": [
    "from scipy.stats import *"
   ]
  },
  {
   "cell_type": "code",
   "execution_count": 10,
   "metadata": {},
   "outputs": [],
   "source": [
    "df2 = df[df['rank'] == '국6등급']"
   ]
  },
  {
   "cell_type": "code",
   "execution_count": 11,
   "metadata": {},
   "outputs": [],
   "source": [
    "df3 = df2.query('hrSpd > 13.5')"
   ]
  },
  {
   "cell_type": "code",
   "execution_count": 12,
   "metadata": {},
   "outputs": [
    {
     "name": "stderr",
     "output_type": "stream",
     "text": [
      "c:\\Users\\yjg10\\anaconda3\\Lib\\site-packages\\scipy\\stats\\_morestats.py:1816: UserWarning: p-value may not be accurate for N > 5000.\n",
      "  warnings.warn(\"p-value may not be accurate for N > 5000.\")\n"
     ]
    },
    {
     "data": {
      "text/plain": [
       "ShapiroResult(statistic=0.9875837564468384, pvalue=7.66510259985675e-43)"
      ]
     },
     "execution_count": 12,
     "metadata": {},
     "output_type": "execute_result"
    }
   ],
   "source": [
    "shapiro(df3['hrSpd'].sort_values())"
   ]
  },
  {
   "cell_type": "code",
   "execution_count": 13,
   "metadata": {},
   "outputs": [
    {
     "data": {
      "image/png": "[encoded data removed]",
      "text/plain": [
       "<Figure size 640x480 with 1 Axes>"
      ]
     },
     "metadata": {},
     "output_type": "display_data"
    }
   ],
   "source": [
    "plt.figure()\n",
    "sns.kdeplot(data = df3, x = 'hrSpd')\n",
    "plt.show()"
   ]
  },
  {
   "cell_type": "code",
   "execution_count": 14,
   "metadata": {},
   "outputs": [
    {
     "data": {
      "text/plain": [
       "AndersonResult(statistic=68.85835973523353, critical_values=array([0.576, 0.656, 0.787, 0.918, 1.092]), significance_level=array([15. , 10. ,  5. ,  2.5,  1. ]), fit_result=  params: FitParams(loc=15.55376067874739, scale=0.372650320052712)\n",
       " success: True\n",
       " message: '`anderson` successfully fit the distribution to the data.')"
      ]
     },
     "execution_count": 14,
     "metadata": {},
     "output_type": "execute_result"
    }
   ],
   "source": [
    "anderson(df3['hrSpd'].sort_values(), dist = 'norm')"
   ]
  },
  {
   "cell_type": "code",
   "execution_count": 20,
   "metadata": {},
   "outputs": [
    {
     "data": {
      "text/plain": [
       "KstestResult(statistic=0.04339731943789421, pvalue=3.1072172484710445e-46, statistic_location=15.384615384615383, statistic_sign=-1)"
      ]
     },
     "execution_count": 20,
     "metadata": {},
     "output_type": "execute_result"
    }
   ],
   "source": [
    "kstest(df3['hrSpd'], 'norm', args = (df3['hrSpd'].mean(), df3['hrSpd'].std()))"
   ]
  },
  {
   "cell_type": "code",
   "execution_count": 21,
   "metadata": {},
   "outputs": [
    {
     "name": "stdout",
     "output_type": "stream",
     "text": [
      "\u001b[1;31mSignature:\u001b[0m \u001b[0mkstest\u001b[0m\u001b[1;33m(\u001b[0m\u001b[0mrvs\u001b[0m\u001b[1;33m,\u001b[0m \u001b[0mcdf\u001b[0m\u001b[1;33m,\u001b[0m \u001b[0margs\u001b[0m\u001b[1;33m=\u001b[0m\u001b[1;33m(\u001b[0m\u001b[1;33m)\u001b[0m\u001b[1;33m,\u001b[0m \u001b[0mN\u001b[0m\u001b[1;33m=\u001b[0m\u001b[1;36m20\u001b[0m\u001b[1;33m,\u001b[0m \u001b[0malternative\u001b[0m\u001b[1;33m=\u001b[0m\u001b[1;34m'two-sided'\u001b[0m\u001b[1;33m,\u001b[0m \u001b[0mmethod\u001b[0m\u001b[1;33m=\u001b[0m\u001b[1;34m'auto'\u001b[0m\u001b[1;33m)\u001b[0m\u001b[1;33m\u001b[0m\u001b[1;33m\u001b[0m\u001b[0m\n",
      "\u001b[1;31mDocstring:\u001b[0m\n",
      "Performs the (one-sample or two-sample) Kolmogorov-Smirnov test for\n",
      "goodness of fit.\n",
      "\n",
      "The one-sample test compares the underlying distribution F(x) of a sample\n",
      "against a given distribution G(x). The two-sample test compares the\n",
      "underlying distributions of two independent samples. Both tests are valid\n",
      "only for continuous distributions.\n",
      "\n",
      "Parameters\n",
      "----------\n",
      "rvs : str, array_like, or callable\n",
      "    If an array, it should be a 1-D array of observations of random\n",
      "    variables.\n",
      "    If a callable, it should be a function to generate random variables;\n",
      "    it is required to have a keyword argument `size`.\n",
      "    If a string, it should be the name of a distribution in `scipy.stats`,\n",
      "    which will be used to generate random variables.\n",
      "cdf : str, array_like or callable\n",
      "    If array_like, it should be a 1-D array of observations of random\n",
      "    variables, and the two-sample test is performed\n",
      "    (and rvs must be array_like).\n",
      "    If a callable, that callable is used to calculate the cdf.\n",
      "    If a string, it should be the name of a distribution in `scipy.stats`,\n",
      "    which will be used as the cdf function.\n",
      "args : tuple, sequence, optional\n",
      "    Distribution parameters, used if `rvs` or `cdf` are strings or\n",
      "    callables.\n",
      "N : int, optional\n",
      "    Sample size if `rvs` is string or callable.  Default is 20.\n",
      "alternative : {'two-sided', 'less', 'greater'}, optional\n",
      "    Defines the null and alternative hypotheses. Default is 'two-sided'.\n",
      "    Please see explanations in the Notes below.\n",
      "method : {'auto', 'exact', 'approx', 'asymp'}, optional\n",
      "    Defines the distribution used for calculating the p-value.\n",
      "    The following options are available (default is 'auto'):\n",
      "\n",
      "      * 'auto' : selects one of the other options.\n",
      "      * 'exact' : uses the exact distribution of test statistic.\n",
      "      * 'approx' : approximates the two-sided probability with twice the\n",
      "        one-sided probability\n",
      "      * 'asymp': uses asymptotic distribution of test statistic\n",
      "\n",
      "Returns\n",
      "-------\n",
      "res: KstestResult\n",
      "    An object containing attributes:\n",
      "\n",
      "    statistic : float\n",
      "        KS test statistic, either D+, D-, or D (the maximum of the two)\n",
      "    pvalue : float\n",
      "        One-tailed or two-tailed p-value.\n",
      "    statistic_location : float\n",
      "        In a one-sample test, this is the value of `rvs`\n",
      "        corresponding with the KS statistic; i.e., the distance between\n",
      "        the empirical distribution function and the hypothesized cumulative\n",
      "        distribution function is measured at this observation.\n",
      "\n",
      "        In a two-sample test, this is the value from `rvs` or `cdf`\n",
      "        corresponding with the KS statistic; i.e., the distance between\n",
      "        the empirical distribution functions is measured at this\n",
      "        observation.\n",
      "    statistic_sign : int\n",
      "        In a one-sample test, this is +1 if the KS statistic is the\n",
      "        maximum positive difference between the empirical distribution\n",
      "        function and the hypothesized cumulative distribution function\n",
      "        (D+); it is -1 if the KS statistic is the maximum negative\n",
      "        difference (D-).\n",
      "\n",
      "        In a two-sample test, this is +1 if the empirical distribution\n",
      "        function of `rvs` exceeds the empirical distribution\n",
      "        function of `cdf` at `statistic_location`, otherwise -1.\n",
      "\n",
      "See Also\n",
      "--------\n",
      "ks_1samp, ks_2samp\n",
      "\n",
      "Notes\n",
      "-----\n",
      "There are three options for the null and corresponding alternative\n",
      "hypothesis that can be selected using the `alternative` parameter.\n",
      "\n",
      "- `two-sided`: The null hypothesis is that the two distributions are\n",
      "  identical, F(x)=G(x) for all x; the alternative is that they are not\n",
      "  identical.\n",
      "\n",
      "- `less`: The null hypothesis is that F(x) >= G(x) for all x; the\n",
      "  alternative is that F(x) < G(x) for at least one x.\n",
      "\n",
      "- `greater`: The null hypothesis is that F(x) <= G(x) for all x; the\n",
      "  alternative is that F(x) > G(x) for at least one x.\n",
      "\n",
      "Note that the alternative hypotheses describe the *CDFs* of the\n",
      "underlying distributions, not the observed values. For example,\n",
      "suppose x1 ~ F and x2 ~ G. If F(x) > G(x) for all x, the values in\n",
      "x1 tend to be less than those in x2.\n",
      "\n",
      "\n",
      "Examples\n",
      "--------\n",
      "Suppose we wish to test the null hypothesis that a sample is distributed\n",
      "according to the standard normal.\n",
      "We choose a confidence level of 95%; that is, we will reject the null\n",
      "hypothesis in favor of the alternative if the p-value is less than 0.05.\n",
      "\n",
      "When testing uniformly distributed data, we would expect the\n",
      "null hypothesis to be rejected.\n",
      "\n",
      ">>> import numpy as np\n",
      ">>> from scipy import stats\n",
      ">>> rng = np.random.default_rng()\n",
      ">>> stats.kstest(stats.uniform.rvs(size=100, random_state=rng),\n",
      "...              stats.norm.cdf)\n",
      "KstestResult(statistic=0.5001899973268688, pvalue=1.1616392184763533e-23)\n",
      "\n",
      "Indeed, the p-value is lower than our threshold of 0.05, so we reject the\n",
      "null hypothesis in favor of the default \"two-sided\" alternative: the data\n",
      "are *not* distributed according to the standard normal.\n",
      "\n",
      "When testing random variates from the standard normal distribution, we\n",
      "expect the data to be consistent with the null hypothesis most of the time.\n",
      "\n",
      ">>> x = stats.norm.rvs(size=100, random_state=rng)\n",
      ">>> stats.kstest(x, stats.norm.cdf)\n",
      "KstestResult(statistic=0.05345882212970396, pvalue=0.9227159037744717)\n",
      "\n",
      "As expected, the p-value of 0.92 is not below our threshold of 0.05, so\n",
      "we cannot reject the null hypothesis.\n",
      "\n",
      "Suppose, however, that the random variates are distributed according to\n",
      "a normal distribution that is shifted toward greater values. In this case,\n",
      "the cumulative density function (CDF) of the underlying distribution tends\n",
      "to be *less* than the CDF of the standard normal. Therefore, we would\n",
      "expect the null hypothesis to be rejected with ``alternative='less'``:\n",
      "\n",
      ">>> x = stats.norm.rvs(size=100, loc=0.5, random_state=rng)\n",
      ">>> stats.kstest(x, stats.norm.cdf, alternative='less')\n",
      "KstestResult(statistic=0.17482387821055168, pvalue=0.001913921057766743)\n",
      "\n",
      "and indeed, with p-value smaller than our threshold, we reject the null\n",
      "hypothesis in favor of the alternative.\n",
      "\n",
      "For convenience, the previous test can be performed using the name of the\n",
      "distribution as the second argument.\n",
      "\n",
      ">>> stats.kstest(x, \"norm\", alternative='less')\n",
      "KstestResult(statistic=0.17482387821055168, pvalue=0.001913921057766743)\n",
      "\n",
      "The examples above have all been one-sample tests identical to those\n",
      "performed by `ks_1samp`. Note that `kstest` can also perform two-sample\n",
      "tests identical to those performed by `ks_2samp`. For example, when two\n",
      "samples are drawn from the same distribution, we expect the data to be\n",
      "consistent with the null hypothesis most of the time.\n",
      "\n",
      ">>> sample1 = stats.laplace.rvs(size=105, random_state=rng)\n",
      ">>> sample2 = stats.laplace.rvs(size=95, random_state=rng)\n",
      ">>> stats.kstest(sample1, sample2)\n",
      "KstestResult(statistic=0.11779448621553884, pvalue=0.4494256912629795)\n",
      "\n",
      "As expected, the p-value of 0.45 is not below our threshold of 0.05, so\n",
      "we cannot reject the null hypothesis.\n",
      "\u001b[1;31mFile:\u001b[0m      c:\\users\\yjg10\\anaconda3\\lib\\site-packages\\scipy\\stats\\_stats_py.py\n",
      "\u001b[1;31mType:\u001b[0m      function"
     ]
    }
   ],
   "source": [
    "?kstest"
   ]
  },
  {
   "cell_type": "code",
   "execution_count": null,
   "metadata": {},
   "outputs": [],
   "source": []
  },
  {
   "cell_type": "code",
   "execution_count": null,
   "metadata": {},
   "outputs": [],
   "source": []
  },
  {
   "cell_type": "code",
   "execution_count": null,
   "metadata": {},
   "outputs": [],
   "source": []
  },
  {
   "cell_type": "code",
   "execution_count": null,
   "metadata": {},
   "outputs": [],
   "source": []
  },
  {
   "cell_type": "code",
   "execution_count": null,
   "metadata": {},
   "outputs": [],
   "source": []
  },
  {
   "cell_type": "code",
   "execution_count": null,
   "metadata": {},
   "outputs": [],
   "source": []
  },
  {
   "cell_type": "code",
   "execution_count": null,
   "metadata": {},
   "outputs": [],
   "source": []
  },
  {
   "cell_type": "code",
   "execution_count": null,
   "metadata": {},
   "outputs": [],
   "source": []
  },
  {
   "cell_type": "code",
   "execution_count": null,
   "metadata": {},
   "outputs": [],
   "source": []
  },
  {
   "cell_type": "code",
   "execution_count": null,
   "metadata": {},
   "outputs": [],
   "source": []
  },
  {
   "cell_type": "code",
   "execution_count": null,
   "metadata": {},
   "outputs": [],
   "source": []
  },
  {
   "cell_type": "code",
   "execution_count": null,
   "metadata": {},
   "outputs": [],
   "source": []
  },
  {
   "cell_type": "code",
   "execution_count": null,
   "metadata": {},
   "outputs": [],
   "source": []
  },
  {
   "cell_type": "code",
   "execution_count": null,
   "metadata": {},
   "outputs": [],
   "source": []
  },
  {
   "cell_type": "code",
   "execution_count": null,
   "metadata": {},
   "outputs": [],
   "source": []
  },
  {
   "cell_type": "code",
   "execution_count": null,
   "metadata": {},
   "outputs": [],
   "source": []
  },
  {
   "cell_type": "code",
   "execution_count": null,
   "metadata": {},
   "outputs": [],
   "source": []
  },
  {
   "cell_type": "code",
   "execution_count": null,
   "metadata": {},
   "outputs": [],
   "source": []
  },
  {
   "cell_type": "code",
   "execution_count": null,
   "metadata": {},
   "outputs": [],
   "source": []
  },
  {
   "cell_type": "code",
   "execution_count": null,
   "metadata": {},
   "outputs": [],
   "source": []
  },
  {
   "cell_type": "code",
   "execution_count": null,
   "metadata": {},
   "outputs": [],
   "source": []
  },
  {
   "cell_type": "code",
   "execution_count": null,
   "metadata": {},
   "outputs": [],
   "source": []
  },
  {
   "cell_type": "code",
   "execution_count": null,
   "metadata": {},
   "outputs": [],
   "source": []
  }
 ],
 "metadata": {
  "kernelspec": {
   "display_name": "base",
   "language": "python",
   "name": "python3"
  },
  "language_info": {
   "codemirror_mode": {
    "name": "ipython",
    "version": 3
   },
   "file_extension": ".py",
   "mimetype": "text/x-python",
   "name": "python",
   "nbconvert_exporter": "python",
   "pygments_lexer": "ipython3",
   "version": "3.11.5"
  }
 },
 "nbformat": 4,
 "nbformat_minor": 2
}
