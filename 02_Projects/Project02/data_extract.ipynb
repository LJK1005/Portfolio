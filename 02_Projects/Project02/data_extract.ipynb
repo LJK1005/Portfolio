{
 "cells": [
  {
   "cell_type": "code",
   "execution_count": 1,
   "metadata": {},
   "outputs": [],
   "source": [
    "import pandas as pd\n",
    "import requests\n",
    "import json\n",
    "import time"
   ]
  },
  {
   "cell_type": "code",
   "execution_count": 3,
   "metadata": {},
   "outputs": [],
   "source": [
    "url = 'https://apis.data.go.kr/B551015/API214_1/RaceDetailResult_1?'\n",
    "key = 'serviceKey=XBGF4fVTIQnCnyrblkIxOvc11aT9HMCuRFLJvlZPqfNLO5JNTFIl7LEhugoAjRQ80hws4B5I9bePSVHSLPNhkQ%3D%3D'\n",
    "page = '&pageNo={0}'\n",
    "rows = '&numOfRows=10000'\n",
    "return_type = '&_type=json'"
   ]
  },
  {
   "cell_type": "code",
   "execution_count": 17,
   "metadata": {},
   "outputs": [],
   "source": [
    "years = ['2023', '2022', '2021', '2020', '2019']\n",
    "months = ['01', '02', '03', '04', '05', '06', '07', '08', '09', '10', '11', '12']"
   ]
  },
  {
   "cell_type": "code",
   "execution_count": 41,
   "metadata": {},
   "outputs": [],
   "source": [
    "rcdate = '&rc_month={1}{2}'"
   ]
  },
  {
   "cell_type": "code",
   "execution_count": 44,
   "metadata": {},
   "outputs": [],
   "source": [
    "df = pd.DataFrame()\n",
    "\n",
    "for i in years:\n",
    "    for j in months:\n",
    "        pageno = 1\n",
    "        while True:\n",
    "            tmp = requests.get((url+key+page+rows+rcdate+return_type).format(pageno, i, j))\n",
    "            pageno += 1\n",
    "            tmp2 = json.loads(tmp.text)\n",
    "            try:\n",
    "                tmp3 = tmp2['response']['body']['items']['item']\n",
    "                df = pd.concat([df, pd.DataFrame(tmp3)], axis = 0)\n",
    "                time.sleep(1)\n",
    "            except:\n",
    "                break"
   ]
  },
  {
   "cell_type": "code",
   "execution_count": 45,
   "metadata": {},
   "outputs": [
    {
     "data": {
      "text/plain": [
       "(122769, 90)"
      ]
     },
     "execution_count": 45,
     "metadata": {},
     "output_type": "execute_result"
    }
   ],
   "source": [
    "df.shape"
   ]
  },
  {
   "cell_type": "code",
   "execution_count": 49,
   "metadata": {},
   "outputs": [],
   "source": [
    "df.to_csv(\"./data/경주정보.csv\", index = False)"
   ]
  },
  {
   "cell_type": "code",
   "execution_count": null,
   "metadata": {},
   "outputs": [],
   "source": []
  }
 ],
 "metadata": {
  "kernelspec": {
   "display_name": "base",
   "language": "python",
   "name": "python3"
  },
  "language_info": {
   "codemirror_mode": {
    "name": "ipython",
    "version": 3
   },
   "file_extension": ".py",
   "mimetype": "text/x-python",
   "name": "python",
   "nbconvert_exporter": "python",
   "pygments_lexer": "ipython3",
   "version": "3.11.5"
  }
 },
 "nbformat": 4,
 "nbformat_minor": 2
}
