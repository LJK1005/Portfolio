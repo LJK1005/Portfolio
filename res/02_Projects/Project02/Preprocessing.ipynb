{
 "cells": [
  {
   "cell_type": "code",
   "execution_count": 1,
   "metadata": {},
   "outputs": [],
   "source": [
    "import pandas as pd\n",
    "import numpy as np\n",
    "import datetime as dt"
   ]
  },
  {
   "cell_type": "markdown",
   "metadata": {},
   "source": [
    "## 원본데이터 가공"
   ]
  },
  {
   "cell_type": "markdown",
   "metadata": {},
   "source": [
    "- 원본데이터 로드"
   ]
  },
  {
   "cell_type": "code",
   "execution_count": 2,
   "metadata": {},
   "outputs": [
    {
     "name": "stderr",
     "output_type": "stream",
     "text": [
      "C:\\Users\\yjg10\\AppData\\Local\\Temp\\ipykernel_19904\\3958561580.py:1: DtypeWarning: Columns (48,82) have mixed types. Specify dtype option on import or set low_memory=False.\n",
      "  df = pd.read_csv(\"./data/경주정보_origin.csv\")\n"
     ]
    }
   ],
   "source": [
    "df = pd.read_csv(\"./data/경주정보_origin.csv\")"
   ]
  },
  {
   "cell_type": "code",
   "execution_count": 3,
   "metadata": {},
   "outputs": [
    {
     "data": {
      "text/plain": [
       "Index(['age', 'ageCond', 'birthday', 'buG1fAccTime', 'buG1fOrd',\n",
       "       'buG2fAccTime', 'buG2fOrd', 'buG3fAccTime', 'buG3fOrd', 'buG4fAccTime',\n",
       "       'buG4fOrd', 'buG6fAccTime', 'buG6fOrd', 'buG8fAccTime', 'buG8fOrd',\n",
       "       'buS1fAccTime', 'buS1fOrd', 'buS1fTime', 'bu_10_8fTime', 'bu_1fGTime',\n",
       "       'bu_2fGTime', 'bu_3fGTime', 'bu_4_2fTime', 'bu_6_4fTime', 'bu_8_6fTime',\n",
       "       'budam', 'buga1', 'buga2', 'buga3', 'chaksun1', 'chaksun2', 'chaksun3',\n",
       "       'chaksun4', 'chaksun5', 'chulNo', 'diffUnit', 'hrName', 'hrNo',\n",
       "       'hrTool', 'ilsu', 'jeG1fTime', 'jeG3fTime', 'jeS1fTime', 'je_1cTime',\n",
       "       'je_2cTime', 'je_3cTime', 'je_4cTime', 'jkName', 'jkNo', 'meet', 'name',\n",
       "       'ord', 'ordBigo', 'owName', 'owNo', 'plcOdds', 'prizeCond', 'rank',\n",
       "       'rankRise', 'rating', 'rcDate', 'rcDay', 'rcDist', 'rcName', 'rcNo',\n",
       "       'rcTime', 'seG1fAccTime', 'seG3fAccTime', 'seS1fAccTime',\n",
       "       'se_1cAccTime', 'se_2cAccTime', 'se_3cAccTime', 'se_4cAccTime', 'sex',\n",
       "       'sjG1fOrd', 'sjG3fOrd', 'sjS1fOrd', 'sj_1cOrd', 'sj_2cOrd', 'sj_3cOrd',\n",
       "       'sj_4cOrd', 'trName', 'trNo', 'track', 'weather', 'wgBudam',\n",
       "       'wgBudamBigo', 'wgHr', 'wgJk', 'winOdds'],\n",
       "      dtype='object')"
      ]
     },
     "execution_count": 3,
     "metadata": {},
     "output_type": "execute_result"
    }
   ],
   "source": [
    "df.columns"
   ]
  },
  {
   "cell_type": "code",
   "execution_count": 4,
   "metadata": {},
   "outputs": [
    {
     "data": {
      "text/html": [
       "<div>\n",
       "<style scoped>\n",
       "    .dataframe tbody tr th:only-of-type {\n",
       "        vertical-align: middle;\n",
       "    }\n",
       "\n",
       "    .dataframe tbody tr th {\n",
       "        vertical-align: top;\n",
       "    }\n",
       "\n",
       "    .dataframe thead th {\n",
       "        text-align: right;\n",
       "    }\n",
       "</style>\n",
       "<table border=\"1\" class=\"dataframe\">\n",
       "  <thead>\n",
       "    <tr style=\"text-align: right;\">\n",
       "      <th></th>\n",
       "      <th>age</th>\n",
       "      <th>ageCond</th>\n",
       "      <th>birthday</th>\n",
       "      <th>buG1fAccTime</th>\n",
       "      <th>buG1fOrd</th>\n",
       "      <th>buG2fAccTime</th>\n",
       "      <th>buG2fOrd</th>\n",
       "      <th>buG3fAccTime</th>\n",
       "      <th>buG3fOrd</th>\n",
       "      <th>buG4fAccTime</th>\n",
       "      <th>...</th>\n",
       "      <th>sj_4cOrd</th>\n",
       "      <th>trName</th>\n",
       "      <th>trNo</th>\n",
       "      <th>track</th>\n",
       "      <th>weather</th>\n",
       "      <th>wgBudam</th>\n",
       "      <th>wgBudamBigo</th>\n",
       "      <th>wgHr</th>\n",
       "      <th>wgJk</th>\n",
       "      <th>winOdds</th>\n",
       "    </tr>\n",
       "  </thead>\n",
       "  <tbody>\n",
       "    <tr>\n",
       "      <th>0</th>\n",
       "      <td>3</td>\n",
       "      <td>3세</td>\n",
       "      <td>20200416</td>\n",
       "      <td>67.5</td>\n",
       "      <td>1</td>\n",
       "      <td>55.1</td>\n",
       "      <td>2</td>\n",
       "      <td>42.8</td>\n",
       "      <td>4</td>\n",
       "      <td>30.4</td>\n",
       "      <td>...</td>\n",
       "      <td>0</td>\n",
       "      <td>조용배</td>\n",
       "      <td>70137</td>\n",
       "      <td>건조 (2%)</td>\n",
       "      <td>맑음</td>\n",
       "      <td>56.0</td>\n",
       "      <td>-</td>\n",
       "      <td>496(-8)</td>\n",
       "      <td>0</td>\n",
       "      <td>2.4</td>\n",
       "    </tr>\n",
       "    <tr>\n",
       "      <th>1</th>\n",
       "      <td>3</td>\n",
       "      <td>3세</td>\n",
       "      <td>20200210</td>\n",
       "      <td>67.7</td>\n",
       "      <td>3</td>\n",
       "      <td>55.0</td>\n",
       "      <td>1</td>\n",
       "      <td>42.7</td>\n",
       "      <td>2</td>\n",
       "      <td>30.1</td>\n",
       "      <td>...</td>\n",
       "      <td>0</td>\n",
       "      <td>권승주</td>\n",
       "      <td>70086</td>\n",
       "      <td>건조 (2%)</td>\n",
       "      <td>맑음</td>\n",
       "      <td>52.0</td>\n",
       "      <td>-</td>\n",
       "      <td>461(-5)</td>\n",
       "      <td>-4</td>\n",
       "      <td>26.9</td>\n",
       "    </tr>\n",
       "    <tr>\n",
       "      <th>2</th>\n",
       "      <td>3</td>\n",
       "      <td>3세</td>\n",
       "      <td>20200324</td>\n",
       "      <td>67.6</td>\n",
       "      <td>2</td>\n",
       "      <td>55.1</td>\n",
       "      <td>4</td>\n",
       "      <td>42.7</td>\n",
       "      <td>3</td>\n",
       "      <td>30.1</td>\n",
       "      <td>...</td>\n",
       "      <td>0</td>\n",
       "      <td>임금만</td>\n",
       "      <td>70128</td>\n",
       "      <td>건조 (2%)</td>\n",
       "      <td>맑음</td>\n",
       "      <td>56.0</td>\n",
       "      <td>-</td>\n",
       "      <td>493(+6)</td>\n",
       "      <td>0</td>\n",
       "      <td>4.3</td>\n",
       "    </tr>\n",
       "    <tr>\n",
       "      <th>3</th>\n",
       "      <td>3</td>\n",
       "      <td>3세</td>\n",
       "      <td>20200327</td>\n",
       "      <td>68.3</td>\n",
       "      <td>4</td>\n",
       "      <td>55.7</td>\n",
       "      <td>6</td>\n",
       "      <td>42.9</td>\n",
       "      <td>5</td>\n",
       "      <td>30.4</td>\n",
       "      <td>...</td>\n",
       "      <td>0</td>\n",
       "      <td>권승주</td>\n",
       "      <td>70086</td>\n",
       "      <td>건조 (2%)</td>\n",
       "      <td>맑음</td>\n",
       "      <td>56.0</td>\n",
       "      <td>-</td>\n",
       "      <td>501(-7)</td>\n",
       "      <td>0</td>\n",
       "      <td>48.2</td>\n",
       "    </tr>\n",
       "    <tr>\n",
       "      <th>4</th>\n",
       "      <td>3</td>\n",
       "      <td>3세</td>\n",
       "      <td>20200108</td>\n",
       "      <td>68.4</td>\n",
       "      <td>6</td>\n",
       "      <td>55.8</td>\n",
       "      <td>7</td>\n",
       "      <td>43.2</td>\n",
       "      <td>9</td>\n",
       "      <td>30.8</td>\n",
       "      <td>...</td>\n",
       "      <td>0</td>\n",
       "      <td>민장기</td>\n",
       "      <td>70136</td>\n",
       "      <td>건조 (2%)</td>\n",
       "      <td>맑음</td>\n",
       "      <td>56.0</td>\n",
       "      <td>-</td>\n",
       "      <td>489(+5)</td>\n",
       "      <td>0</td>\n",
       "      <td>5.1</td>\n",
       "    </tr>\n",
       "  </tbody>\n",
       "</table>\n",
       "<p>5 rows × 90 columns</p>\n",
       "</div>"
      ],
      "text/plain": [
       "   age ageCond  birthday  buG1fAccTime  buG1fOrd  buG2fAccTime  buG2fOrd  \\\n",
       "0    3      3세  20200416          67.5         1          55.1         2   \n",
       "1    3      3세  20200210          67.7         3          55.0         1   \n",
       "2    3      3세  20200324          67.6         2          55.1         4   \n",
       "3    3      3세  20200327          68.3         4          55.7         6   \n",
       "4    3      3세  20200108          68.4         6          55.8         7   \n",
       "\n",
       "   buG3fAccTime  buG3fOrd  buG4fAccTime  ...  sj_4cOrd  trName   trNo  \\\n",
       "0          42.8         4          30.4  ...         0     조용배  70137   \n",
       "1          42.7         2          30.1  ...         0     권승주  70086   \n",
       "2          42.7         3          30.1  ...         0     임금만  70128   \n",
       "3          42.9         5          30.4  ...         0     권승주  70086   \n",
       "4          43.2         9          30.8  ...         0     민장기  70136   \n",
       "\n",
       "     track  weather  wgBudam  wgBudamBigo     wgHr  wgJk  winOdds  \n",
       "0  건조 (2%)       맑음     56.0            -  496(-8)     0      2.4  \n",
       "1  건조 (2%)       맑음     52.0            -  461(-5)    -4     26.9  \n",
       "2  건조 (2%)       맑음     56.0            -  493(+6)     0      4.3  \n",
       "3  건조 (2%)       맑음     56.0            -  501(-7)     0     48.2  \n",
       "4  건조 (2%)       맑음     56.0            -  489(+5)     0      5.1  \n",
       "\n",
       "[5 rows x 90 columns]"
      ]
     },
     "execution_count": 4,
     "metadata": {},
     "output_type": "execute_result"
    }
   ],
   "source": [
    "df.head()"
   ]
  },
  {
   "cell_type": "markdown",
   "metadata": {},
   "source": [
    "- 필요컬럼만 추출"
   ]
  },
  {
   "cell_type": "code",
   "execution_count": 5,
   "metadata": {},
   "outputs": [],
   "source": [
    "cols = ['age', 'ageCond', 'birthday', 'budam', 'track', 'weather', 'hrName', 'hrNo', 'hrTool', 'ord', 'ordBigo','meet', 'plcOdds', 'rank',\n",
    "        'rating', 'rcDate', 'rcNo', 'rcTime', 'rcDist','sex', 'wgBudam', 'wgHr', 'wgJk']"
   ]
  },
  {
   "cell_type": "code",
   "execution_count": 6,
   "metadata": {},
   "outputs": [],
   "source": [
    "df2 = df[cols].copy()"
   ]
  },
  {
   "cell_type": "code",
   "execution_count": 7,
   "metadata": {},
   "outputs": [
    {
     "data": {
      "text/html": [
       "<div>\n",
       "<style scoped>\n",
       "    .dataframe tbody tr th:only-of-type {\n",
       "        vertical-align: middle;\n",
       "    }\n",
       "\n",
       "    .dataframe tbody tr th {\n",
       "        vertical-align: top;\n",
       "    }\n",
       "\n",
       "    .dataframe thead th {\n",
       "        text-align: right;\n",
       "    }\n",
       "</style>\n",
       "<table border=\"1\" class=\"dataframe\">\n",
       "  <thead>\n",
       "    <tr style=\"text-align: right;\">\n",
       "      <th></th>\n",
       "      <th>age</th>\n",
       "      <th>ageCond</th>\n",
       "      <th>birthday</th>\n",
       "      <th>budam</th>\n",
       "      <th>track</th>\n",
       "      <th>weather</th>\n",
       "      <th>hrName</th>\n",
       "      <th>hrNo</th>\n",
       "      <th>hrTool</th>\n",
       "      <th>ord</th>\n",
       "      <th>...</th>\n",
       "      <th>rank</th>\n",
       "      <th>rating</th>\n",
       "      <th>rcDate</th>\n",
       "      <th>rcNo</th>\n",
       "      <th>rcTime</th>\n",
       "      <th>rcDist</th>\n",
       "      <th>sex</th>\n",
       "      <th>wgBudam</th>\n",
       "      <th>wgHr</th>\n",
       "      <th>wgJk</th>\n",
       "    </tr>\n",
       "  </thead>\n",
       "  <tbody>\n",
       "    <tr>\n",
       "      <th>0</th>\n",
       "      <td>3</td>\n",
       "      <td>3세</td>\n",
       "      <td>20200416</td>\n",
       "      <td>별정A</td>\n",
       "      <td>건조 (2%)</td>\n",
       "      <td>맑음</td>\n",
       "      <td>패스트건</td>\n",
       "      <td>46029</td>\n",
       "      <td>계란형큰,망사+,눈가면-</td>\n",
       "      <td>1</td>\n",
       "      <td>...</td>\n",
       "      <td>국6등급</td>\n",
       "      <td>0</td>\n",
       "      <td>20230129</td>\n",
       "      <td>1</td>\n",
       "      <td>81.3</td>\n",
       "      <td>1300.0</td>\n",
       "      <td>거</td>\n",
       "      <td>56.0</td>\n",
       "      <td>496(-8)</td>\n",
       "      <td>0</td>\n",
       "    </tr>\n",
       "    <tr>\n",
       "      <th>1</th>\n",
       "      <td>3</td>\n",
       "      <td>3세</td>\n",
       "      <td>20200210</td>\n",
       "      <td>별정A</td>\n",
       "      <td>건조 (2%)</td>\n",
       "      <td>맑음</td>\n",
       "      <td>다이아보스</td>\n",
       "      <td>45215</td>\n",
       "      <td>Triabit ,망사</td>\n",
       "      <td>2</td>\n",
       "      <td>...</td>\n",
       "      <td>국6등급</td>\n",
       "      <td>0</td>\n",
       "      <td>20230129</td>\n",
       "      <td>1</td>\n",
       "      <td>81.5</td>\n",
       "      <td>1300.0</td>\n",
       "      <td>수</td>\n",
       "      <td>52.0</td>\n",
       "      <td>461(-5)</td>\n",
       "      <td>-4</td>\n",
       "    </tr>\n",
       "    <tr>\n",
       "      <th>2</th>\n",
       "      <td>3</td>\n",
       "      <td>3세</td>\n",
       "      <td>20200324</td>\n",
       "      <td>별정A</td>\n",
       "      <td>건조 (2%)</td>\n",
       "      <td>맑음</td>\n",
       "      <td>황우머니</td>\n",
       "      <td>45403</td>\n",
       "      <td>계란형큰,망사,승인편자+</td>\n",
       "      <td>3</td>\n",
       "      <td>...</td>\n",
       "      <td>국6등급</td>\n",
       "      <td>0</td>\n",
       "      <td>20230129</td>\n",
       "      <td>1</td>\n",
       "      <td>81.5</td>\n",
       "      <td>1300.0</td>\n",
       "      <td>수</td>\n",
       "      <td>56.0</td>\n",
       "      <td>493(+6)</td>\n",
       "      <td>0</td>\n",
       "    </tr>\n",
       "    <tr>\n",
       "      <th>3</th>\n",
       "      <td>3</td>\n",
       "      <td>3세</td>\n",
       "      <td>20200327</td>\n",
       "      <td>별정A</td>\n",
       "      <td>건조 (2%)</td>\n",
       "      <td>맑음</td>\n",
       "      <td>케이골드바</td>\n",
       "      <td>45845</td>\n",
       "      <td>Triabit ,망사</td>\n",
       "      <td>4</td>\n",
       "      <td>...</td>\n",
       "      <td>국6등급</td>\n",
       "      <td>0</td>\n",
       "      <td>20230129</td>\n",
       "      <td>1</td>\n",
       "      <td>82.1</td>\n",
       "      <td>1300.0</td>\n",
       "      <td>수</td>\n",
       "      <td>56.0</td>\n",
       "      <td>501(-7)</td>\n",
       "      <td>0</td>\n",
       "    </tr>\n",
       "    <tr>\n",
       "      <th>4</th>\n",
       "      <td>3</td>\n",
       "      <td>3세</td>\n",
       "      <td>20200108</td>\n",
       "      <td>별정A</td>\n",
       "      <td>건조 (2%)</td>\n",
       "      <td>맑음</td>\n",
       "      <td>캡틴코만도</td>\n",
       "      <td>45167</td>\n",
       "      <td>계란형큰,망사눈</td>\n",
       "      <td>5</td>\n",
       "      <td>...</td>\n",
       "      <td>국6등급</td>\n",
       "      <td>0</td>\n",
       "      <td>20230129</td>\n",
       "      <td>1</td>\n",
       "      <td>82.3</td>\n",
       "      <td>1300.0</td>\n",
       "      <td>거</td>\n",
       "      <td>56.0</td>\n",
       "      <td>489(+5)</td>\n",
       "      <td>0</td>\n",
       "    </tr>\n",
       "  </tbody>\n",
       "</table>\n",
       "<p>5 rows × 23 columns</p>\n",
       "</div>"
      ],
      "text/plain": [
       "   age ageCond  birthday budam    track weather hrName   hrNo         hrTool  \\\n",
       "0    3      3세  20200416   별정A  건조 (2%)      맑음   패스트건  46029  계란형큰,망사+,눈가면-   \n",
       "1    3      3세  20200210   별정A  건조 (2%)      맑음  다이아보스  45215    Triabit ,망사   \n",
       "2    3      3세  20200324   별정A  건조 (2%)      맑음   황우머니  45403  계란형큰,망사,승인편자+   \n",
       "3    3      3세  20200327   별정A  건조 (2%)      맑음  케이골드바  45845    Triabit ,망사   \n",
       "4    3      3세  20200108   별정A  건조 (2%)      맑음  캡틴코만도  45167       계란형큰,망사눈   \n",
       "\n",
       "   ord  ...  rank rating    rcDate rcNo  rcTime  rcDist  sex  wgBudam  \\\n",
       "0    1  ...  국6등급      0  20230129    1    81.3  1300.0    거     56.0   \n",
       "1    2  ...  국6등급      0  20230129    1    81.5  1300.0    수     52.0   \n",
       "2    3  ...  국6등급      0  20230129    1    81.5  1300.0    수     56.0   \n",
       "3    4  ...  국6등급      0  20230129    1    82.1  1300.0    수     56.0   \n",
       "4    5  ...  국6등급      0  20230129    1    82.3  1300.0    거     56.0   \n",
       "\n",
       "      wgHr wgJk  \n",
       "0  496(-8)    0  \n",
       "1  461(-5)   -4  \n",
       "2  493(+6)    0  \n",
       "3  501(-7)    0  \n",
       "4  489(+5)    0  \n",
       "\n",
       "[5 rows x 23 columns]"
      ]
     },
     "execution_count": 7,
     "metadata": {},
     "output_type": "execute_result"
    }
   ],
   "source": [
    "df2.head()"
   ]
  },
  {
   "cell_type": "code",
   "execution_count": 8,
   "metadata": {},
   "outputs": [
    {
     "data": {
      "text/plain": [
       "(122769, 23)"
      ]
     },
     "execution_count": 8,
     "metadata": {},
     "output_type": "execute_result"
    }
   ],
   "source": [
    "df2.shape"
   ]
  },
  {
   "cell_type": "markdown",
   "metadata": {},
   "source": [
    "- 무효경기 및 실격 제외"
   ]
  },
  {
   "cell_type": "code",
   "execution_count": 9,
   "metadata": {},
   "outputs": [],
   "source": [
    "df2.query(\"ord <= 16\", inplace = True)"
   ]
  },
  {
   "cell_type": "code",
   "execution_count": 10,
   "metadata": {},
   "outputs": [
    {
     "data": {
      "text/plain": [
       "(119892, 23)"
      ]
     },
     "execution_count": 10,
     "metadata": {},
     "output_type": "execute_result"
    }
   ],
   "source": [
    "df2.shape"
   ]
  },
  {
   "cell_type": "markdown",
   "metadata": {},
   "source": [
    "- hrSpd 파생변수 생성"
   ]
  },
  {
   "cell_type": "code",
   "execution_count": 11,
   "metadata": {},
   "outputs": [],
   "source": [
    "df2['hrSpd'] = df2['rcDist'] / df2['rcTime']"
   ]
  },
  {
   "cell_type": "markdown",
   "metadata": {},
   "source": [
    "- 날짜데이터 날짜타입으로 변경"
   ]
  },
  {
   "cell_type": "code",
   "execution_count": 12,
   "metadata": {},
   "outputs": [],
   "source": [
    "df2['birthday'] = df2['birthday'].apply(lambda x : pd.to_datetime(str(x)))\n",
    "df2['rcDate'] = df2['rcDate'].apply(lambda x : pd.to_datetime(str(x)))"
   ]
  },
  {
   "cell_type": "markdown",
   "metadata": {},
   "source": [
    "- 일단위 나이 계산"
   ]
  },
  {
   "cell_type": "code",
   "execution_count": 13,
   "metadata": {},
   "outputs": [],
   "source": [
    "df2['age_day'] = (df2['rcDate'] - df2['birthday']).apply(lambda x : x.days)"
   ]
  },
  {
   "cell_type": "markdown",
   "metadata": {},
   "source": [
    "- wgHr int타입으로 변경"
   ]
  },
  {
   "cell_type": "code",
   "execution_count": 14,
   "metadata": {},
   "outputs": [],
   "source": [
    "df2['wgHr'] = df2['wgHr'].apply(lambda x : int(x[:x.find(\"(\")]))"
   ]
  },
  {
   "cell_type": "markdown",
   "metadata": {},
   "source": [
    "- 트랙상태 카테고리 단순화"
   ]
  },
  {
   "cell_type": "code",
   "execution_count": 15,
   "metadata": {},
   "outputs": [],
   "source": [
    "df2['trackCat'] = df2['track'].apply(lambda x : x[:2])"
   ]
  },
  {
   "cell_type": "code",
   "execution_count": 16,
   "metadata": {},
   "outputs": [
    {
     "data": {
      "text/plain": [
       "(119892, 26)"
      ]
     },
     "execution_count": 16,
     "metadata": {},
     "output_type": "execute_result"
    }
   ],
   "source": [
    "df2.shape"
   ]
  },
  {
   "cell_type": "markdown",
   "metadata": {},
   "source": [
    "## 추가데이터 합산"
   ]
  },
  {
   "cell_type": "markdown",
   "metadata": {},
   "source": [
    "- 마필훈련정보 : 훈련일로부터 2주까지의 경기기록에 훈련횟수 합산"
   ]
  },
  {
   "cell_type": "code",
   "execution_count": 2,
   "metadata": {},
   "outputs": [],
   "source": [
    "df_tr = pd.read_csv(\"./data/마필훈련정보_origin.csv\")"
   ]
  },
  {
   "cell_type": "code",
   "execution_count": 3,
   "metadata": {},
   "outputs": [],
   "source": [
    "df_tr['trDate'] = df_tr['trDate'].apply(lambda x : pd.to_datetime(str(x)))\n",
    "df_tr['dateEnd'] = df_tr['trDate'] + dt.timedelta(days = 14)"
   ]
  },
  {
   "cell_type": "code",
   "execution_count": 4,
   "metadata": {},
   "outputs": [
    {
     "data": {
      "text/html": [
       "<div>\n",
       "<style scoped>\n",
       "    .dataframe tbody tr th:only-of-type {\n",
       "        vertical-align: middle;\n",
       "    }\n",
       "\n",
       "    .dataframe tbody tr th {\n",
       "        vertical-align: top;\n",
       "    }\n",
       "\n",
       "    .dataframe thead th {\n",
       "        text-align: right;\n",
       "    }\n",
       "</style>\n",
       "<table border=\"1\" class=\"dataframe\">\n",
       "  <thead>\n",
       "    <tr style=\"text-align: right;\">\n",
       "      <th></th>\n",
       "      <th>chulGubun</th>\n",
       "      <th>hrName</th>\n",
       "      <th>hrNo</th>\n",
       "      <th>meet</th>\n",
       "      <th>part</th>\n",
       "      <th>partNo</th>\n",
       "      <th>prGubun</th>\n",
       "      <th>prNo</th>\n",
       "      <th>run1Cnt</th>\n",
       "      <th>run2Cnt</th>\n",
       "      <th>spTime</th>\n",
       "      <th>stTime</th>\n",
       "      <th>trDate</th>\n",
       "      <th>trName</th>\n",
       "      <th>trTerm</th>\n",
       "      <th>dateEnd</th>\n",
       "    </tr>\n",
       "  </thead>\n",
       "  <tbody>\n",
       "    <tr>\n",
       "      <th>0</th>\n",
       "      <td>금주출전예정</td>\n",
       "      <td>라온더타이거</td>\n",
       "      <td>42251</td>\n",
       "      <td>서울</td>\n",
       "      <td>1</td>\n",
       "      <td>23</td>\n",
       "      <td>-</td>\n",
       "      <td>-</td>\n",
       "      <td>0</td>\n",
       "      <td>1</td>\n",
       "      <td>20230130071900</td>\n",
       "      <td>20230130070800</td>\n",
       "      <td>2023-01-30</td>\n",
       "      <td>박종곤</td>\n",
       "      <td>660.0</td>\n",
       "      <td>2023-02-13</td>\n",
       "    </tr>\n",
       "    <tr>\n",
       "      <th>1</th>\n",
       "      <td>금주출전예정</td>\n",
       "      <td>라온더펄</td>\n",
       "      <td>44204</td>\n",
       "      <td>서울</td>\n",
       "      <td>1</td>\n",
       "      <td>26</td>\n",
       "      <td>기수</td>\n",
       "      <td>080473</td>\n",
       "      <td>0</td>\n",
       "      <td>1</td>\n",
       "      <td>20230130071800</td>\n",
       "      <td>20230130070800</td>\n",
       "      <td>2023-01-30</td>\n",
       "      <td>박종곤</td>\n",
       "      <td>600.0</td>\n",
       "      <td>2023-02-13</td>\n",
       "    </tr>\n",
       "    <tr>\n",
       "      <th>2</th>\n",
       "      <td>금주출전예정</td>\n",
       "      <td>라온더플래터</td>\n",
       "      <td>45172</td>\n",
       "      <td>서울</td>\n",
       "      <td>1</td>\n",
       "      <td>16</td>\n",
       "      <td>-</td>\n",
       "      <td>-</td>\n",
       "      <td>2</td>\n",
       "      <td>0</td>\n",
       "      <td>20230130073500</td>\n",
       "      <td>20230130072400</td>\n",
       "      <td>2023-01-30</td>\n",
       "      <td>박종곤</td>\n",
       "      <td>660.0</td>\n",
       "      <td>2023-02-13</td>\n",
       "    </tr>\n",
       "    <tr>\n",
       "      <th>3</th>\n",
       "      <td>차주출전예정</td>\n",
       "      <td>라온더하이맨</td>\n",
       "      <td>45197</td>\n",
       "      <td>서울</td>\n",
       "      <td>1</td>\n",
       "      <td>20</td>\n",
       "      <td>-</td>\n",
       "      <td>-</td>\n",
       "      <td>1</td>\n",
       "      <td>0</td>\n",
       "      <td>20230130083400</td>\n",
       "      <td>20230130082000</td>\n",
       "      <td>2023-01-30</td>\n",
       "      <td>박종곤</td>\n",
       "      <td>840.0</td>\n",
       "      <td>2023-02-13</td>\n",
       "    </tr>\n",
       "    <tr>\n",
       "      <th>4</th>\n",
       "      <td>차주출전예정</td>\n",
       "      <td>라온샹젤리</td>\n",
       "      <td>42250</td>\n",
       "      <td>서울</td>\n",
       "      <td>1</td>\n",
       "      <td>36</td>\n",
       "      <td>-</td>\n",
       "      <td>-</td>\n",
       "      <td>1</td>\n",
       "      <td>0</td>\n",
       "      <td>20230130081100</td>\n",
       "      <td>20230130075600</td>\n",
       "      <td>2023-01-30</td>\n",
       "      <td>박종곤</td>\n",
       "      <td>900.0</td>\n",
       "      <td>2023-02-13</td>\n",
       "    </tr>\n",
       "  </tbody>\n",
       "</table>\n",
       "</div>"
      ],
      "text/plain": [
       "  chulGubun  hrName   hrNo meet  part  partNo prGubun    prNo  run1Cnt  \\\n",
       "0    금주출전예정  라온더타이거  42251   서울     1      23       -       -        0   \n",
       "1    금주출전예정    라온더펄  44204   서울     1      26      기수  080473        0   \n",
       "2    금주출전예정  라온더플래터  45172   서울     1      16       -       -        2   \n",
       "3    차주출전예정  라온더하이맨  45197   서울     1      20       -       -        1   \n",
       "4    차주출전예정   라온샹젤리  42250   서울     1      36       -       -        1   \n",
       "\n",
       "   run2Cnt          spTime          stTime     trDate trName  trTerm  \\\n",
       "0        1  20230130071900  20230130070800 2023-01-30    박종곤   660.0   \n",
       "1        1  20230130071800  20230130070800 2023-01-30    박종곤   600.0   \n",
       "2        0  20230130073500  20230130072400 2023-01-30    박종곤   660.0   \n",
       "3        0  20230130083400  20230130082000 2023-01-30    박종곤   840.0   \n",
       "4        0  20230130081100  20230130075600 2023-01-30    박종곤   900.0   \n",
       "\n",
       "     dateEnd  \n",
       "0 2023-02-13  \n",
       "1 2023-02-13  \n",
       "2 2023-02-13  \n",
       "3 2023-02-13  \n",
       "4 2023-02-13  "
      ]
     },
     "execution_count": 4,
     "metadata": {},
     "output_type": "execute_result"
    }
   ],
   "source": [
    "df_tr.head()"
   ]
  },
  {
   "cell_type": "code",
   "execution_count": 19,
   "metadata": {},
   "outputs": [],
   "source": [
    "df2.loc[:, 'tr1'] = 0\n",
    "df2.loc[:, 'tr2'] = 0\n",
    "\n",
    "for i in df2.index:\n",
    "    hrno = df2.loc[i, 'hrNo']\n",
    "    rcdate = df2.loc[i, 'rcDate']\n",
    "    tmp_df = df_tr[df_tr['hrNo'] == hrno]\n",
    "    tmp_df = tmp_df.query(\"trDate <= @rcdate and dateEnd >= @rcdate\")\n",
    "    for j in tmp_df.index:\n",
    "        df2.loc[i, 'tr1'] += tmp_df.loc[j, 'run1Cnt']\n",
    "        df2.loc[i, 'tr2'] += tmp_df.loc[j, 'run2Cnt']"
   ]
  },
  {
   "cell_type": "code",
   "execution_count": 20,
   "metadata": {},
   "outputs": [
    {
     "data": {
      "text/plain": [
       "(119892, 28)"
      ]
     },
     "execution_count": 20,
     "metadata": {},
     "output_type": "execute_result"
    }
   ],
   "source": [
    "df2.shape"
   ]
  },
  {
   "cell_type": "markdown",
   "metadata": {},
   "source": [
    "- 경주마정보\n",
    "  - 최근 1년 / 통산 1~3착 횟수 원본 데이터에 합산"
   ]
  },
  {
   "cell_type": "code",
   "execution_count": 21,
   "metadata": {},
   "outputs": [],
   "source": [
    "df_hr = pd.read_csv(\"./data/경주마정보_origin.csv\")"
   ]
  },
  {
   "cell_type": "code",
   "execution_count": 22,
   "metadata": {},
   "outputs": [],
   "source": [
    "df_hr['topCntY'] = df_hr['ord1CntY'] + df_hr['ord2CntY'] + df_hr['ord3CntY']\n",
    "df_hr['topCntT'] = df_hr['ord1CntT'] + df_hr['ord2CntT'] + df_hr['ord3CntT']"
   ]
  },
  {
   "cell_type": "code",
   "execution_count": 23,
   "metadata": {},
   "outputs": [
    {
     "data": {
      "text/plain": [
       "(119892, 28)"
      ]
     },
     "execution_count": 23,
     "metadata": {},
     "output_type": "execute_result"
    }
   ],
   "source": [
    "df2.shape"
   ]
  },
  {
   "cell_type": "code",
   "execution_count": 24,
   "metadata": {},
   "outputs": [],
   "source": [
    "df2 = pd.merge(left = df2, right = df_hr[['hrNo', 'topCntY', 'topCntT']], how = 'inner', on = 'hrNo')"
   ]
  },
  {
   "cell_type": "code",
   "execution_count": 25,
   "metadata": {},
   "outputs": [
    {
     "data": {
      "text/plain": [
       "(119892, 30)"
      ]
     },
     "execution_count": 25,
     "metadata": {},
     "output_type": "execute_result"
    }
   ],
   "source": [
    "df2.shape"
   ]
  },
  {
   "cell_type": "markdown",
   "metadata": {},
   "source": [
    "- 마필진료정보 : 경기 전후 1주일간 받은 질병횟수 기록"
   ]
  },
  {
   "cell_type": "code",
   "execution_count": 26,
   "metadata": {},
   "outputs": [],
   "source": [
    "df_clinic = pd.read_csv(\"./data/마필진료정보_origin.csv\")"
   ]
  },
  {
   "cell_type": "code",
   "execution_count": 27,
   "metadata": {},
   "outputs": [],
   "source": [
    "df_clinic['date'] = df_clinic['clinicDate'].astype('str').astype('datetime64')\n",
    "\n",
    "df_clinic['min_date'] = df_clinic['date'] - dt.timedelta(days = 7)\n",
    "df_clinic['max_date'] = df_clinic['date'] + dt.timedelta(days = 7)\n",
    "df_clinic['illcount'] = df_clinic['illName1'].apply(lambda x : 1 if x != \"-\" else 0) + df_clinic['illName2'].apply(lambda x : 1 if x != \"-\" else 0)"
   ]
  },
  {
   "cell_type": "code",
   "execution_count": 28,
   "metadata": {},
   "outputs": [],
   "source": [
    "df_clinic2 = df_clinic[['min_date', 'max_date', 'illcount', 'hrNo']]"
   ]
  },
  {
   "cell_type": "code",
   "execution_count": 29,
   "metadata": {},
   "outputs": [],
   "source": [
    "df2['ills'] = 0\n",
    "\n",
    "for i in df2.index:\n",
    "    tmp = df_clinic2[df_clinic2['hrNo'] == df2['hrNo'][i]]\n",
    "    m1 = df2['rcDate'][i]\n",
    "    tmp2 = tmp.query('max_date >= @m1 and min_date <= @m1')\n",
    "    if len(tmp2) > 0:\n",
    "        for j in tmp2.index:\n",
    "            df2.loc[i, 'ills'] += tmp2['illcount'][j]"
   ]
  },
  {
   "cell_type": "code",
   "execution_count": 30,
   "metadata": {},
   "outputs": [
    {
     "data": {
      "text/html": [
       "<div>\n",
       "<style scoped>\n",
       "    .dataframe tbody tr th:only-of-type {\n",
       "        vertical-align: middle;\n",
       "    }\n",
       "\n",
       "    .dataframe tbody tr th {\n",
       "        vertical-align: top;\n",
       "    }\n",
       "\n",
       "    .dataframe thead th {\n",
       "        text-align: right;\n",
       "    }\n",
       "</style>\n",
       "<table border=\"1\" class=\"dataframe\">\n",
       "  <thead>\n",
       "    <tr style=\"text-align: right;\">\n",
       "      <th></th>\n",
       "      <th>age</th>\n",
       "      <th>ageCond</th>\n",
       "      <th>birthday</th>\n",
       "      <th>budam</th>\n",
       "      <th>track</th>\n",
       "      <th>weather</th>\n",
       "      <th>hrName</th>\n",
       "      <th>hrNo</th>\n",
       "      <th>hrTool</th>\n",
       "      <th>ord</th>\n",
       "      <th>...</th>\n",
       "      <th>wgHr</th>\n",
       "      <th>wgJk</th>\n",
       "      <th>hrSpd</th>\n",
       "      <th>age_day</th>\n",
       "      <th>trackCat</th>\n",
       "      <th>tr1</th>\n",
       "      <th>tr2</th>\n",
       "      <th>topCntY</th>\n",
       "      <th>topCntT</th>\n",
       "      <th>ills</th>\n",
       "    </tr>\n",
       "  </thead>\n",
       "  <tbody>\n",
       "    <tr>\n",
       "      <th>0</th>\n",
       "      <td>3</td>\n",
       "      <td>3세</td>\n",
       "      <td>2020-04-16</td>\n",
       "      <td>별정A</td>\n",
       "      <td>건조 (2%)</td>\n",
       "      <td>맑음</td>\n",
       "      <td>패스트건</td>\n",
       "      <td>46029</td>\n",
       "      <td>계란형큰,망사+,눈가면-</td>\n",
       "      <td>1</td>\n",
       "      <td>...</td>\n",
       "      <td>496</td>\n",
       "      <td>0</td>\n",
       "      <td>15.990160</td>\n",
       "      <td>1018</td>\n",
       "      <td>건조</td>\n",
       "      <td>8</td>\n",
       "      <td>2</td>\n",
       "      <td>4</td>\n",
       "      <td>5</td>\n",
       "      <td>7</td>\n",
       "    </tr>\n",
       "    <tr>\n",
       "      <th>1</th>\n",
       "      <td>3</td>\n",
       "      <td>연령오픈</td>\n",
       "      <td>2020-04-16</td>\n",
       "      <td>핸디캡</td>\n",
       "      <td>건조 (3%)</td>\n",
       "      <td>비</td>\n",
       "      <td>패스트건</td>\n",
       "      <td>46029</td>\n",
       "      <td>계란형큰,망사</td>\n",
       "      <td>2</td>\n",
       "      <td>...</td>\n",
       "      <td>495</td>\n",
       "      <td>0</td>\n",
       "      <td>16.203704</td>\n",
       "      <td>1060</td>\n",
       "      <td>건조</td>\n",
       "      <td>9</td>\n",
       "      <td>2</td>\n",
       "      <td>4</td>\n",
       "      <td>5</td>\n",
       "      <td>6</td>\n",
       "    </tr>\n",
       "    <tr>\n",
       "      <th>2</th>\n",
       "      <td>3</td>\n",
       "      <td>연령오픈</td>\n",
       "      <td>2020-04-16</td>\n",
       "      <td>핸디캡</td>\n",
       "      <td>건조 (4%)</td>\n",
       "      <td>흐림</td>\n",
       "      <td>패스트건</td>\n",
       "      <td>46029</td>\n",
       "      <td>계란형큰,망사</td>\n",
       "      <td>3</td>\n",
       "      <td>...</td>\n",
       "      <td>487</td>\n",
       "      <td>0</td>\n",
       "      <td>15.911873</td>\n",
       "      <td>1093</td>\n",
       "      <td>건조</td>\n",
       "      <td>11</td>\n",
       "      <td>1</td>\n",
       "      <td>4</td>\n",
       "      <td>5</td>\n",
       "      <td>5</td>\n",
       "    </tr>\n",
       "    <tr>\n",
       "      <th>3</th>\n",
       "      <td>3</td>\n",
       "      <td>연령오픈</td>\n",
       "      <td>2020-04-16</td>\n",
       "      <td>핸디캡</td>\n",
       "      <td>양호 (8%)</td>\n",
       "      <td>맑음</td>\n",
       "      <td>패스트건</td>\n",
       "      <td>46029</td>\n",
       "      <td>계란형큰,망사</td>\n",
       "      <td>1</td>\n",
       "      <td>...</td>\n",
       "      <td>497</td>\n",
       "      <td>0</td>\n",
       "      <td>16.018307</td>\n",
       "      <td>1130</td>\n",
       "      <td>양호</td>\n",
       "      <td>10</td>\n",
       "      <td>1</td>\n",
       "      <td>4</td>\n",
       "      <td>5</td>\n",
       "      <td>19</td>\n",
       "    </tr>\n",
       "    <tr>\n",
       "      <th>4</th>\n",
       "      <td>3</td>\n",
       "      <td>연령오픈</td>\n",
       "      <td>2020-04-16</td>\n",
       "      <td>핸디캡</td>\n",
       "      <td>다습 (10%)</td>\n",
       "      <td>맑음</td>\n",
       "      <td>패스트건</td>\n",
       "      <td>46029</td>\n",
       "      <td>계란형큰,망사</td>\n",
       "      <td>9</td>\n",
       "      <td>...</td>\n",
       "      <td>497</td>\n",
       "      <td>0</td>\n",
       "      <td>15.355086</td>\n",
       "      <td>1163</td>\n",
       "      <td>다습</td>\n",
       "      <td>9</td>\n",
       "      <td>1</td>\n",
       "      <td>4</td>\n",
       "      <td>5</td>\n",
       "      <td>12</td>\n",
       "    </tr>\n",
       "  </tbody>\n",
       "</table>\n",
       "<p>5 rows × 31 columns</p>\n",
       "</div>"
      ],
      "text/plain": [
       "   age ageCond   birthday budam     track weather hrName   hrNo  \\\n",
       "0    3      3세 2020-04-16   별정A   건조 (2%)      맑음   패스트건  46029   \n",
       "1    3    연령오픈 2020-04-16   핸디캡   건조 (3%)       비   패스트건  46029   \n",
       "2    3    연령오픈 2020-04-16   핸디캡   건조 (4%)      흐림   패스트건  46029   \n",
       "3    3    연령오픈 2020-04-16   핸디캡   양호 (8%)      맑음   패스트건  46029   \n",
       "4    3    연령오픈 2020-04-16   핸디캡  다습 (10%)      맑음   패스트건  46029   \n",
       "\n",
       "          hrTool  ord  ... wgHr wgJk      hrSpd age_day  trackCat tr1  tr2  \\\n",
       "0  계란형큰,망사+,눈가면-    1  ...  496    0  15.990160    1018        건조   8    2   \n",
       "1        계란형큰,망사    2  ...  495    0  16.203704    1060        건조   9    2   \n",
       "2        계란형큰,망사    3  ...  487    0  15.911873    1093        건조  11    1   \n",
       "3        계란형큰,망사    1  ...  497    0  16.018307    1130        양호  10    1   \n",
       "4        계란형큰,망사    9  ...  497    0  15.355086    1163        다습   9    1   \n",
       "\n",
       "   topCntY  topCntT ills  \n",
       "0        4        5    7  \n",
       "1        4        5    6  \n",
       "2        4        5    5  \n",
       "3        4        5   19  \n",
       "4        4        5   12  \n",
       "\n",
       "[5 rows x 31 columns]"
      ]
     },
     "execution_count": 30,
     "metadata": {},
     "output_type": "execute_result"
    }
   ],
   "source": [
    "df2.head()"
   ]
  },
  {
   "cell_type": "code",
   "execution_count": 32,
   "metadata": {},
   "outputs": [
    {
     "data": {
      "text/plain": [
       "ageCond     67\n",
       "weather     33\n",
       "age          0\n",
       "rcTime       0\n",
       "topCntT      0\n",
       "topCntY      0\n",
       "tr2          0\n",
       "tr1          0\n",
       "trackCat     0\n",
       "age_day      0\n",
       "hrSpd        0\n",
       "wgJk         0\n",
       "wgHr         0\n",
       "wgBudam      0\n",
       "sex          0\n",
       "rcDist       0\n",
       "rcDate       0\n",
       "rcNo         0\n",
       "rating       0\n",
       "rank         0\n",
       "plcOdds      0\n",
       "meet         0\n",
       "ordBigo      0\n",
       "ord          0\n",
       "hrTool       0\n",
       "hrNo         0\n",
       "hrName       0\n",
       "track        0\n",
       "budam        0\n",
       "birthday     0\n",
       "ills         0\n",
       "dtype: int64"
      ]
     },
     "execution_count": 32,
     "metadata": {},
     "output_type": "execute_result"
    }
   ],
   "source": [
    "df2.isnull().sum().sort_values(ascending=False)"
   ]
  },
  {
   "cell_type": "markdown",
   "metadata": {},
   "source": [
    "- 결측치 처리"
   ]
  },
  {
   "cell_type": "markdown",
   "metadata": {},
   "source": [
    "- ageCond : age 컬럼을 참조하여 적합한 ageCond 카테고리로 배정"
   ]
  },
  {
   "cell_type": "code",
   "execution_count": 26,
   "metadata": {},
   "outputs": [],
   "source": [
    "for i in df2[df2['ageCond'].isnull()].index:\n",
    "    if df2.loc[i, 'age'] == 2:\n",
    "        df2.loc[i, 'ageCond'] = '2세'\n",
    "    else:\n",
    "        df2.loc[i, 'ageCond'] = '3세'"
   ]
  },
  {
   "cell_type": "markdown",
   "metadata": {},
   "source": [
    "- weather : 근처값 대체 (ffill)\n",
    "  - 시계열 데이터가 시간 기준으로 정렬되어 있는지 확인한 후 사용"
   ]
  },
  {
   "cell_type": "code",
   "execution_count": 27,
   "metadata": {},
   "outputs": [],
   "source": [
    "df2['weather'] = df2['weather'].fillna(method = 'ffill')"
   ]
  },
  {
   "cell_type": "markdown",
   "metadata": {},
   "source": [
    "- 저장"
   ]
  },
  {
   "cell_type": "code",
   "execution_count": null,
   "metadata": {},
   "outputs": [],
   "source": [
    "df2.to_csv(\"./data/Data_Refined.csv\", index = False)"
   ]
  },
  {
   "cell_type": "code",
   "execution_count": null,
   "metadata": {},
   "outputs": [],
   "source": [
    "df_t = pd.read_csv(\"./data/Data_Refined.csv\", parse_dates = ['birthday', 'rcDate'])"
   ]
  },
  {
   "cell_type": "code",
   "execution_count": null,
   "metadata": {},
   "outputs": [
    {
     "name": "stdout",
     "output_type": "stream",
     "text": [
      "<class 'pandas.core.frame.DataFrame'>\n",
      "RangeIndex: 119892 entries, 0 to 119891\n",
      "Data columns (total 31 columns):\n",
      " #   Column    Non-Null Count   Dtype         \n",
      "---  ------    --------------   -----         \n",
      " 0   age       119892 non-null  int64         \n",
      " 1   ageCond   119892 non-null  object        \n",
      " 2   birthday  119892 non-null  datetime64[ns]\n",
      " 3   budam     119892 non-null  object        \n",
      " 4   track     119892 non-null  object        \n",
      " 5   weather   119892 non-null  object        \n",
      " 6   hrName    119892 non-null  object        \n",
      " 7   hrNo      119892 non-null  int64         \n",
      " 8   hrTool    119892 non-null  object        \n",
      " 9   ord       119892 non-null  int64         \n",
      " 10  ordBigo   119892 non-null  object        \n",
      " 11  meet      119892 non-null  object        \n",
      " 12  plcOdds   119892 non-null  float64       \n",
      " 13  rank      119892 non-null  object        \n",
      " 14  rating    119892 non-null  int64         \n",
      " 15  rcDate    119892 non-null  datetime64[ns]\n",
      " 16  rcNo      119892 non-null  int64         \n",
      " 17  rcTime    119892 non-null  float64       \n",
      " 18  rcDist    119892 non-null  float64       \n",
      " 19  sex       119892 non-null  object        \n",
      " 20  wgBudam   119892 non-null  float64       \n",
      " 21  wgHr      119892 non-null  int64         \n",
      " 22  wgJk      119892 non-null  int64         \n",
      " 23  hrSpd     119892 non-null  float64       \n",
      " 24  age_day   119892 non-null  int64         \n",
      " 25  trackCat  119892 non-null  object        \n",
      " 26  tr1       119892 non-null  int64         \n",
      " 27  tr2       119892 non-null  int64         \n",
      " 28  topCntY   119892 non-null  int64         \n",
      " 29  topCntT   119892 non-null  int64         \n",
      " 30  ills      119892 non-null  int64         \n",
      "dtypes: datetime64[ns](2), float64(5), int64(13), object(11)\n",
      "memory usage: 28.4+ MB\n"
     ]
    }
   ],
   "source": [
    "df_t.info()"
   ]
  },
  {
   "cell_type": "markdown",
   "metadata": {},
   "source": [
    "- 논문 검증용 데이터 1 : 부모 상금"
   ]
  },
  {
   "cell_type": "code",
   "execution_count": 29,
   "metadata": {},
   "outputs": [],
   "source": [
    "df_pa = pd.read_excel(\"./data/부모상금정보.xlsx\")"
   ]
  },
  {
   "cell_type": "code",
   "execution_count": 31,
   "metadata": {},
   "outputs": [
    {
     "data": {
      "text/plain": [
       "0         28699.2\n",
       "1        310619.0\n",
       "2         26205.6\n",
       "3        242680.5\n",
       "4           867.0\n",
       "           ...   \n",
       "10185     21554.0\n",
       "10186      1093.4\n",
       "10187      5899.2\n",
       "10188     19827.3\n",
       "10189     13370.0\n",
       "Name: paPrize, Length: 10190, dtype: float64"
      ]
     },
     "execution_count": 31,
     "metadata": {},
     "output_type": "execute_result"
    }
   ],
   "source": [
    "df_pa['paPrize'] = df_pa['paPrize'] / 10000\n",
    "df_pa['paPrize']"
   ]
  },
  {
   "cell_type": "code",
   "execution_count": 30,
   "metadata": {},
   "outputs": [
    {
     "data": {
      "text/plain": [
       "0        21049.0\n",
       "1            0.0\n",
       "2         4232.8\n",
       "3            0.0\n",
       "4          341.4\n",
       "          ...   \n",
       "10185    21554.0\n",
       "10186     1093.4\n",
       "10187     5899.2\n",
       "10188    19827.3\n",
       "10189    13370.0\n",
       "Name: moPrize, Length: 10190, dtype: float64"
      ]
     },
     "execution_count": 30,
     "metadata": {},
     "output_type": "execute_result"
    }
   ],
   "source": [
    "df_pa['moPrize'] = df_pa['moPrize'] / 10000\n",
    "df_pa['moPrize']"
   ]
  },
  {
   "cell_type": "code",
   "execution_count": 32,
   "metadata": {},
   "outputs": [],
   "source": [
    "df_pa_merge = pd.merge(df2, df_pa[['hrNo', 'moPrize']], how = 'inner', on = 'hrNo')"
   ]
  },
  {
   "cell_type": "code",
   "execution_count": 33,
   "metadata": {},
   "outputs": [
    {
     "data": {
      "text/html": [
       "<div>\n",
       "<style scoped>\n",
       "    .dataframe tbody tr th:only-of-type {\n",
       "        vertical-align: middle;\n",
       "    }\n",
       "\n",
       "    .dataframe tbody tr th {\n",
       "        vertical-align: top;\n",
       "    }\n",
       "\n",
       "    .dataframe thead th {\n",
       "        text-align: right;\n",
       "    }\n",
       "</style>\n",
       "<table border=\"1\" class=\"dataframe\">\n",
       "  <thead>\n",
       "    <tr style=\"text-align: right;\">\n",
       "      <th></th>\n",
       "      <th>age</th>\n",
       "      <th>ageCond</th>\n",
       "      <th>birthday</th>\n",
       "      <th>budam</th>\n",
       "      <th>track</th>\n",
       "      <th>weather</th>\n",
       "      <th>hrName</th>\n",
       "      <th>hrNo</th>\n",
       "      <th>hrTool</th>\n",
       "      <th>ord</th>\n",
       "      <th>...</th>\n",
       "      <th>wgHr</th>\n",
       "      <th>wgJk</th>\n",
       "      <th>hrSpd</th>\n",
       "      <th>age_day</th>\n",
       "      <th>trackCat</th>\n",
       "      <th>tr1</th>\n",
       "      <th>tr2</th>\n",
       "      <th>topCntY</th>\n",
       "      <th>topCntT</th>\n",
       "      <th>moPrize</th>\n",
       "    </tr>\n",
       "  </thead>\n",
       "  <tbody>\n",
       "    <tr>\n",
       "      <th>0</th>\n",
       "      <td>3</td>\n",
       "      <td>3세</td>\n",
       "      <td>2020-02-10</td>\n",
       "      <td>별정A</td>\n",
       "      <td>건조 (2%)</td>\n",
       "      <td>맑음</td>\n",
       "      <td>다이아보스</td>\n",
       "      <td>45215</td>\n",
       "      <td>Triabit ,망사</td>\n",
       "      <td>2</td>\n",
       "      <td>...</td>\n",
       "      <td>461</td>\n",
       "      <td>-4</td>\n",
       "      <td>15.950920</td>\n",
       "      <td>1084</td>\n",
       "      <td>건조</td>\n",
       "      <td>14</td>\n",
       "      <td>1</td>\n",
       "      <td>3</td>\n",
       "      <td>3</td>\n",
       "      <td>0.0</td>\n",
       "    </tr>\n",
       "    <tr>\n",
       "      <th>1</th>\n",
       "      <td>3</td>\n",
       "      <td>3세</td>\n",
       "      <td>2020-02-10</td>\n",
       "      <td>별정A</td>\n",
       "      <td>건조 (2%)</td>\n",
       "      <td>맑음</td>\n",
       "      <td>다이아보스</td>\n",
       "      <td>45215</td>\n",
       "      <td>Triabit ,망사</td>\n",
       "      <td>1</td>\n",
       "      <td>...</td>\n",
       "      <td>463</td>\n",
       "      <td>-1</td>\n",
       "      <td>15.757576</td>\n",
       "      <td>1117</td>\n",
       "      <td>건조</td>\n",
       "      <td>11</td>\n",
       "      <td>3</td>\n",
       "      <td>3</td>\n",
       "      <td>3</td>\n",
       "      <td>0.0</td>\n",
       "    </tr>\n",
       "    <tr>\n",
       "      <th>2</th>\n",
       "      <td>3</td>\n",
       "      <td>연령오픈</td>\n",
       "      <td>2020-02-10</td>\n",
       "      <td>핸디캡</td>\n",
       "      <td>건조 (3%)</td>\n",
       "      <td>맑음</td>\n",
       "      <td>다이아보스</td>\n",
       "      <td>45215</td>\n",
       "      <td>Triabit ,망사</td>\n",
       "      <td>2</td>\n",
       "      <td>...</td>\n",
       "      <td>465</td>\n",
       "      <td>-1</td>\n",
       "      <td>15.801354</td>\n",
       "      <td>1147</td>\n",
       "      <td>건조</td>\n",
       "      <td>11</td>\n",
       "      <td>3</td>\n",
       "      <td>3</td>\n",
       "      <td>3</td>\n",
       "      <td>0.0</td>\n",
       "    </tr>\n",
       "    <tr>\n",
       "      <th>3</th>\n",
       "      <td>2</td>\n",
       "      <td>2세</td>\n",
       "      <td>2020-02-10</td>\n",
       "      <td>별정A</td>\n",
       "      <td>건조 (2%)</td>\n",
       "      <td>맑음</td>\n",
       "      <td>다이아보스</td>\n",
       "      <td>45215</td>\n",
       "      <td>Triabit +,망사+</td>\n",
       "      <td>6</td>\n",
       "      <td>...</td>\n",
       "      <td>465</td>\n",
       "      <td>0</td>\n",
       "      <td>15.723270</td>\n",
       "      <td>986</td>\n",
       "      <td>건조</td>\n",
       "      <td>13</td>\n",
       "      <td>3</td>\n",
       "      <td>3</td>\n",
       "      <td>3</td>\n",
       "      <td>0.0</td>\n",
       "    </tr>\n",
       "    <tr>\n",
       "      <th>4</th>\n",
       "      <td>2</td>\n",
       "      <td>2세</td>\n",
       "      <td>2020-02-10</td>\n",
       "      <td>별정A</td>\n",
       "      <td>건조 (5%)</td>\n",
       "      <td>흐림</td>\n",
       "      <td>다이아보스</td>\n",
       "      <td>45215</td>\n",
       "      <td>Triabit ,망사</td>\n",
       "      <td>5</td>\n",
       "      <td>...</td>\n",
       "      <td>467</td>\n",
       "      <td>0</td>\n",
       "      <td>15.665796</td>\n",
       "      <td>1014</td>\n",
       "      <td>건조</td>\n",
       "      <td>16</td>\n",
       "      <td>1</td>\n",
       "      <td>3</td>\n",
       "      <td>3</td>\n",
       "      <td>0.0</td>\n",
       "    </tr>\n",
       "  </tbody>\n",
       "</table>\n",
       "<p>5 rows × 31 columns</p>\n",
       "</div>"
      ],
      "text/plain": [
       "   age ageCond   birthday budam    track weather hrName   hrNo         hrTool  \\\n",
       "0    3      3세 2020-02-10   별정A  건조 (2%)      맑음  다이아보스  45215    Triabit ,망사   \n",
       "1    3      3세 2020-02-10   별정A  건조 (2%)      맑음  다이아보스  45215    Triabit ,망사   \n",
       "2    3    연령오픈 2020-02-10   핸디캡  건조 (3%)      맑음  다이아보스  45215    Triabit ,망사   \n",
       "3    2      2세 2020-02-10   별정A  건조 (2%)      맑음  다이아보스  45215  Triabit +,망사+   \n",
       "4    2      2세 2020-02-10   별정A  건조 (5%)      흐림  다이아보스  45215    Triabit ,망사   \n",
       "\n",
       "   ord  ... wgHr wgJk      hrSpd age_day  trackCat tr1  tr2  topCntY  topCntT  \\\n",
       "0    2  ...  461   -4  15.950920    1084        건조  14    1        3        3   \n",
       "1    1  ...  463   -1  15.757576    1117        건조  11    3        3        3   \n",
       "2    2  ...  465   -1  15.801354    1147        건조  11    3        3        3   \n",
       "3    6  ...  465    0  15.723270     986        건조  13    3        3        3   \n",
       "4    5  ...  467    0  15.665796    1014        건조  16    1        3        3   \n",
       "\n",
       "  moPrize  \n",
       "0     0.0  \n",
       "1     0.0  \n",
       "2     0.0  \n",
       "3     0.0  \n",
       "4     0.0  \n",
       "\n",
       "[5 rows x 31 columns]"
      ]
     },
     "execution_count": 33,
     "metadata": {},
     "output_type": "execute_result"
    }
   ],
   "source": [
    "df_pa_merge.head()"
   ]
  },
  {
   "cell_type": "code",
   "execution_count": 34,
   "metadata": {},
   "outputs": [],
   "source": [
    "df_pa_merge.to_csv(\"./data/논문검증용1_2.csv\", index = False)"
   ]
  },
  {
   "cell_type": "code",
   "execution_count": null,
   "metadata": {},
   "outputs": [
    {
     "name": "stdout",
     "output_type": "stream",
     "text": [
      "<class 'pandas.core.frame.DataFrame'>\n",
      "Int64Index: 119892 entries, 0 to 119891\n",
      "Data columns (total 31 columns):\n",
      " #   Column    Non-Null Count   Dtype         \n",
      "---  ------    --------------   -----         \n",
      " 0   age       119892 non-null  int64         \n",
      " 1   ageCond   119892 non-null  object        \n",
      " 2   birthday  119892 non-null  datetime64[ns]\n",
      " 3   budam     119892 non-null  object        \n",
      " 4   track     119892 non-null  object        \n",
      " 5   weather   119892 non-null  object        \n",
      " 6   hrName    119892 non-null  object        \n",
      " 7   hrNo      119892 non-null  int64         \n",
      " 8   hrTool    119892 non-null  object        \n",
      " 9   ord       119892 non-null  int64         \n",
      " 10  ordBigo   119892 non-null  object        \n",
      " 11  meet      119892 non-null  object        \n",
      " 12  plcOdds   119892 non-null  float64       \n",
      " 13  rank      119892 non-null  object        \n",
      " 14  rating    119892 non-null  int64         \n",
      " 15  rcDate    119892 non-null  datetime64[ns]\n",
      " 16  rcNo      119892 non-null  int64         \n",
      " 17  rcTime    119892 non-null  float64       \n",
      " 18  rcDist    119892 non-null  float64       \n",
      " 19  sex       119892 non-null  object        \n",
      " 20  wgBudam   119892 non-null  float64       \n",
      " 21  wgHr      119892 non-null  int64         \n",
      " 22  wgJk      119892 non-null  int64         \n",
      " 23  hrSpd     119892 non-null  float64       \n",
      " 24  age_day   119892 non-null  int64         \n",
      " 25  trackCat  119892 non-null  object        \n",
      " 26  tr1       119892 non-null  int64         \n",
      " 27  tr2       119892 non-null  int64         \n",
      " 28  topCntY   119892 non-null  int64         \n",
      " 29  topCntT   119892 non-null  int64         \n",
      " 30  ills      119892 non-null  int64         \n",
      "dtypes: datetime64[ns](2), float64(5), int64(13), object(11)\n",
      "memory usage: 33.3+ MB\n"
     ]
    }
   ],
   "source": [
    "df2.info()"
   ]
  },
  {
   "cell_type": "code",
   "execution_count": null,
   "metadata": {},
   "outputs": [],
   "source": []
  }
 ],
 "metadata": {
  "kernelspec": {
   "display_name": "base",
   "language": "python",
   "name": "python3"
  },
  "language_info": {
   "codemirror_mode": {
    "name": "ipython",
    "version": 3
   },
   "file_extension": ".py",
   "mimetype": "text/x-python",
   "name": "python",
   "nbconvert_exporter": "python",
   "pygments_lexer": "ipython3",
   "version": "3.11.5"
  }
 },
 "nbformat": 4,
 "nbformat_minor": 2
}
