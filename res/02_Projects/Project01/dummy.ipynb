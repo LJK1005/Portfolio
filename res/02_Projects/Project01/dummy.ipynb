{
 "cells": [
  {
   "cell_type": "code",
   "execution_count": null,
   "metadata": {},
   "outputs": [],
   "source": [
    "\n",
    "    def to_csv(self, x):\n",
    "        for i, v in enumerate(x):\n",
    "            with open(('NaverReview_%02d_%s_%d.csv' % (i, v['product_name'], v['product_price'])).replace(\" \", \"_\").replace(\"/\", \"\"), 'w', encoding = 'utf-8')as f:\n",
    "                f.write('선택상품,리뷰작성일,별점,긍정/부정,리뷰내용\\n')\n",
    "                for j, w in enumerate(v['reviews']):\n",
    "                    self.fmt = '\"{0}\",\"{1}\",\"{2}\",\"{3}\",\"{4}\"\\n'\n",
    "                    f.write(self.fmt.format(\n",
    "                        w['선택상품'], w['리뷰작성일'], w['별점'], w['긍정/부정'], w['리뷰내용'].replace('\"', '\\\"')\n",
    "                    ))\n"
   ]
  }
 ],
 "metadata": {
  "language_info": {
   "name": "python"
  }
 },
 "nbformat": 4,
 "nbformat_minor": 2
}
