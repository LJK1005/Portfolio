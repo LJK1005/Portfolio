{
 "cells": [
  {
   "cell_type": "code",
   "execution_count": 1,
   "metadata": {},
   "outputs": [],
   "source": [
    "import time\n",
    "import requests\n",
    "import pandas as pd\n",
    "import datetime"
   ]
  },
  {
   "cell_type": "code",
   "execution_count": 2,
   "metadata": {},
   "outputs": [],
   "source": [
    "import hashlib\n",
    "import hmac\n",
    "import base64\n",
    "\n",
    "\n",
    "class Signature:\n",
    "\n",
    "    @staticmethod\n",
    "    def generate(timestamp, method, uri, secret_key):\n",
    "        message = \"{}.{}.{}\".format(timestamp, method, uri)\n",
    "        hash = hmac.new(bytes(secret_key, \"utf-8\"), bytes(message, \"utf-8\"), hashlib.sha256)\n",
    "\n",
    "        hash.hexdigest()\n",
    "        return base64.b64encode(hash.digest())"
   ]
  },
  {
   "cell_type": "code",
   "execution_count": 3,
   "metadata": {},
   "outputs": [],
   "source": [
    "BASE_URL = 'https://api.searchad.naver.com'\n",
    "SECRET_KEY = '---'\n",
    "API_KEY = '---'\n",
    "CUSTOMER_ID = '---'"
   ]
  },
  {
   "cell_type": "code",
   "execution_count": 4,
   "metadata": {},
   "outputs": [],
   "source": [
    "def get_header(method, uri, api_key, secret_key, customer_id):\n",
    "    timestamp = str(round(time.time() * 1000))\n",
    "    signature = Signature.generate(timestamp, method, uri, SECRET_KEY)\n",
    "    return {'Content-Type': 'application/json; charset=UTF-8', 'X-Timestamp': timestamp, 'X-API-KEY': API_KEY, 'X-Customer': str(CUSTOMER_ID), 'X-Signature': signature}"
   ]
  },
  {
   "cell_type": "code",
   "execution_count": 5,
   "metadata": {},
   "outputs": [],
   "source": [
    "uri = '/ncc/campaigns'\n",
    "method = 'GET'\n",
    "r = requests.get(BASE_URL + uri, headers=get_header(method, uri, API_KEY, SECRET_KEY, CUSTOMER_ID))\n",
    "\n",
    "budget_list = r.json()"
   ]
  },
  {
   "cell_type": "code",
   "execution_count": 6,
   "metadata": {},
   "outputs": [],
   "source": [
    "df_ratio = pd.read_csv(\"./budget_ratio.csv\")"
   ]
  },
  {
   "cell_type": "code",
   "execution_count": 7,
   "metadata": {},
   "outputs": [],
   "source": [
    "df = pd.read_csv(\"./budget.csv\")\n",
    "df['date'] = pd.to_datetime(df['date'])\n",
    "today = pd.to_datetime(datetime.date.today())\n",
    "budget_amount = df.query('date == @today').iloc[0, 1]"
   ]
  },
  {
   "cell_type": "code",
   "execution_count": 8,
   "metadata": {},
   "outputs": [
    {
     "name": "stdout",
     "output_type": "stream",
     "text": [
      "response status_code = 200\n",
      "response body = {'nccCampaignId': 'cmp-a001-01-000000005946580', 'customerId': 985635, 'name': '1. 파워링크_렌터카_MO_중요', 'userLock': False, 'campaignTp': 'WEB_SITE', 'deliveryMethod': 'ACCELERATED', 'trackingMode': 'AUTO_TRACKING_MODE', 'usePeriod': False, 'dailyBudget': 2700000, 'useDailyBudget': True, 'totalChargeCost': 715022, 'status': 'ELIGIBLE', 'statusReason': 'ELIGIBLE', 'expectCost': 6050, 'migType': 0, 'delFlag': False, 'regTm': '2022-10-26T07:00:24.000Z', 'editTm': '2024-08-20T00:55:36.000Z'}\n",
      "response status_code = 200\n",
      "response body = {'nccCampaignId': 'cmp-a001-01-000000005942643', 'customerId': 985635, 'name': '1. 파워링크_렌터카_PC_중요', 'userLock': False, 'campaignTp': 'WEB_SITE', 'deliveryMethod': 'ACCELERATED', 'trackingMode': 'AUTO_TRACKING_MODE', 'usePeriod': False, 'dailyBudget': 1080000, 'useDailyBudget': True, 'totalChargeCost': 315491, 'status': 'ELIGIBLE', 'statusReason': 'ELIGIBLE', 'expectCost': 3762, 'migType': 0, 'delFlag': False, 'regTm': '2022-10-25T08:58:29.000Z', 'editTm': '2024-08-20T00:24:37.000Z'}\n",
      "response status_code = 200\n",
      "response body = {'nccCampaignId': 'cmp-a001-01-000000006255135', 'customerId': 985635, 'name': '3. 파워링크_렌터카_전기차_M', 'userLock': False, 'campaignTp': 'WEB_SITE', 'deliveryMethod': 'ACCELERATED', 'trackingMode': 'TRACKING_DISABLED', 'usePeriod': False, 'dailyBudget': 860000, 'useDailyBudget': True, 'totalChargeCost': 23925, 'status': 'ELIGIBLE', 'statusReason': 'ELIGIBLE', 'expectCost': 2090, 'migType': 0, 'delFlag': False, 'regTm': '2023-01-18T07:41:38.000Z', 'editTm': '2024-08-20T00:27:39.000Z'}\n",
      "response status_code = 200\n",
      "response body = {'nccCampaignId': 'cmp-a001-01-000000006255141', 'customerId': 985635, 'name': '3. 파워링크_렌터카_전기차_P', 'userLock': False, 'campaignTp': 'WEB_SITE', 'deliveryMethod': 'ACCELERATED', 'trackingMode': 'TRACKING_DISABLED', 'usePeriod': False, 'dailyBudget': 380000, 'useDailyBudget': True, 'totalChargeCost': 2420, 'status': 'ELIGIBLE', 'statusReason': 'ELIGIBLE', 'expectCost': 2299, 'migType': 0, 'delFlag': False, 'regTm': '2023-01-18T07:42:43.000Z', 'editTm': '2024-08-20T00:27:34.000Z'}\n",
      "response status_code = 200\n",
      "response body = {'nccCampaignId': 'cmp-a001-01-000000005174925', 'customerId': 985635, 'name': '1. 파워링크_렌터카_MO', 'userLock': False, 'campaignTp': 'WEB_SITE', 'deliveryMethod': 'ACCELERATED', 'trackingMode': 'AUTO_TRACKING_MODE', 'usePeriod': False, 'dailyBudget': 380000, 'useDailyBudget': True, 'totalChargeCost': 15477, 'status': 'ELIGIBLE', 'statusReason': 'ELIGIBLE', 'expectCost': 121, 'migType': 0, 'delFlag': False, 'regTm': '2022-03-11T03:03:47.000Z', 'editTm': '2024-08-20T00:27:29.000Z'}\n"
     ]
    }
   ],
   "source": [
    "for i in df_ratio.index:\n",
    "    for j in budget_list:\n",
    "        if j['nccCampaignId'] == df_ratio['id'][i]:\n",
    "            target_campaign = j\n",
    "            target_campaign['dailyBudget'] = int(round(budget_amount * df_ratio['ratio'][i], -4))\n",
    "            # print(target_campaign['dailyBudget'])\n",
    "\n",
    "            uri = '/ncc/campaigns/' + target_campaign['nccCampaignId']\n",
    "            method = 'PUT'\n",
    "            r = requests.put(BASE_URL + uri, params = {'fields' : 'budget'}, json = target_campaign, headers=get_header(method, uri, API_KEY, SECRET_KEY, CUSTOMER_ID))\n",
    "\n",
    "            print(\"response status_code = {}\".format(r.status_code))\n",
    "            print(\"response body = {}\".format(r.json()))"
   ]
  },
  {
   "cell_type": "code",
   "execution_count": null,
   "metadata": {},
   "outputs": [],
   "source": []
  },
  {
   "cell_type": "code",
   "execution_count": null,
   "metadata": {},
   "outputs": [],
   "source": []
  }
 ],
 "metadata": {
  "kernelspec": {
   "display_name": "main",
   "language": "python",
   "name": "python3"
  },
  "language_info": {
   "codemirror_mode": {
    "name": "ipython",
    "version": 3
   },
   "file_extension": ".py",
   "mimetype": "text/x-python",
   "name": "python",
   "nbconvert_exporter": "python",
   "pygments_lexer": "ipython3",
   "version": "3.10.14"
  }
 },
 "nbformat": 4,
 "nbformat_minor": 2
}
