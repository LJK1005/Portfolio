{
 "cells": [
  {
   "cell_type": "code",
   "execution_count": 13,
   "metadata": {},
   "outputs": [],
   "source": [
    "import time\n",
    "import random\n",
    "import requests\n",
    "import pandas as pd"
   ]
  },
  {
   "cell_type": "code",
   "execution_count": 2,
   "metadata": {},
   "outputs": [],
   "source": [
    "import hashlib\n",
    "import hmac\n",
    "import base64\n",
    "\n",
    "\n",
    "class Signature:\n",
    "\n",
    "    @staticmethod\n",
    "    def generate(timestamp, method, uri, secret_key):\n",
    "        message = \"{}.{}.{}\".format(timestamp, method, uri)\n",
    "        hash = hmac.new(bytes(secret_key, \"utf-8\"), bytes(message, \"utf-8\"), hashlib.sha256)\n",
    "\n",
    "        hash.hexdigest()\n",
    "        return base64.b64encode(hash.digest())"
   ]
  },
  {
   "cell_type": "code",
   "execution_count": 3,
   "metadata": {},
   "outputs": [],
   "source": [
    "BASE_URL = 'https://api.searchad.naver.com'\n",
    "SECRET_KEY = '---'\n",
    "API_KEY = '---'\n",
    "CUSTOMER_ID = '---'"
   ]
  },
  {
   "cell_type": "code",
   "execution_count": 4,
   "metadata": {},
   "outputs": [],
   "source": [
    "def get_header(method, uri, api_key, secret_key, customer_id):\n",
    "    timestamp = str(round(time.time() * 1000))\n",
    "    signature = Signature.generate(timestamp, method, uri, SECRET_KEY)\n",
    "    return {'Content-Type': 'application/json; charset=UTF-8', 'X-Timestamp': timestamp, 'X-API-KEY': API_KEY, 'X-Customer': str(CUSTOMER_ID), 'X-Signature': signature}"
   ]
  },
  {
   "cell_type": "code",
   "execution_count": 43,
   "metadata": {},
   "outputs": [
    {
     "name": "stdout",
     "output_type": "stream",
     "text": [
      "response status_code = 200\n",
      "response body = [{'sharedBudgetId': 'nsb-a001-01-000000000020483', 'customerId': 985635, 'name': '캠페인_공유예산#2', 'ownerType': 'CAMPAIGN', 'deliveryMethod': 'ACCELERATED', 'dailyBudget': 430000, 'expectCost': 1848, 'budgetLock': False, 'regTm': '2024-08-02T10:49:49.000Z', 'editTm': '2024-08-19T03:17:37.000Z', 'status': 'ELIGIBLE', 'statusReason': 'ELIGIBLE', 'numberInUse': 2}, {'sharedBudgetId': 'nsb-a001-01-000000000020482', 'customerId': 985635, 'name': '캠페인_공유예산#1', 'ownerType': 'CAMPAIGN', 'deliveryMethod': 'ACCELERATED', 'dailyBudget': 5800000, 'expectCost': 12276, 'budgetLock': False, 'regTm': '2024-08-02T10:38:09.000Z', 'editTm': '2024-08-19T03:36:41.000Z', 'status': 'ELIGIBLE', 'statusReason': 'ELIGIBLE', 'numberInUse': 9}]\n"
     ]
    }
   ],
   "source": [
    "uri = '/ncc/shared-budgets'\n",
    "method = 'GET'\n",
    "r = requests.get(BASE_URL + uri, headers=get_header(method, uri, API_KEY, SECRET_KEY, CUSTOMER_ID))\n",
    "\n",
    "print(\"response status_code = {}\".format(r.status_code))\n",
    "print(\"response body = {}\".format(r.json()))\n",
    "target_adgroup = r.json()[0]\n",
    "budget_list = r.json()"
   ]
  },
  {
   "cell_type": "code",
   "execution_count": null,
   "metadata": {},
   "outputs": [],
   "source": [
    "target = 'nsb-a001-01-000000000020482'"
   ]
  },
  {
   "cell_type": "code",
   "execution_count": 25,
   "metadata": {},
   "outputs": [],
   "source": [
    "df = pd.DataFrame(r.json())"
   ]
  },
  {
   "cell_type": "code",
   "execution_count": 27,
   "metadata": {},
   "outputs": [],
   "source": [
    "df.to_csv(\"./test.csv\", index = False, encoding = 'ANSI')"
   ]
  },
  {
   "cell_type": "code",
   "execution_count": 29,
   "metadata": {},
   "outputs": [
    {
     "data": {
      "text/plain": [
       "{'sharedBudgetId': 'nsb-a001-01-000000000020482',\n",
       " 'customerId': 985635,\n",
       " 'name': '캠페인_공유예산#1',\n",
       " 'ownerType': 'CAMPAIGN',\n",
       " 'deliveryMethod': 'ACCELERATED',\n",
       " 'dailyBudget': 5800000,\n",
       " 'expectCost': 14729,\n",
       " 'budgetLock': False,\n",
       " 'regTm': '2024-08-02T10:38:09.000Z',\n",
       " 'editTm': '2024-08-19T03:29:23.000Z',\n",
       " 'status': 'ELIGIBLE',\n",
       " 'statusReason': 'ELIGIBLE',\n",
       " 'numberInUse': 9}"
      ]
     },
     "execution_count": 29,
     "metadata": {},
     "output_type": "execute_result"
    }
   ],
   "source": [
    "testing = r.json()[1]\n",
    "testing"
   ]
  },
  {
   "cell_type": "code",
   "execution_count": 57,
   "metadata": {},
   "outputs": [],
   "source": [
    "testing['dailyBudget'] = 5700000"
   ]
  },
  {
   "cell_type": "code",
   "execution_count": 67,
   "metadata": {},
   "outputs": [
    {
     "data": {
      "text/plain": [
       "{'sharedBudgetId': 'nsb-a001-01-000000000020482',\n",
       " 'customerId': 985635,\n",
       " 'name': '캠페인_공유예산#1',\n",
       " 'ownerType': 'CAMPAIGN',\n",
       " 'deliveryMethod': 'ACCELERATED',\n",
       " 'dailyBudget': 5700000,\n",
       " 'expectCost': 12276,\n",
       " 'budgetLock': False,\n",
       " 'regTm': '2024-08-02T10:38:09.000Z',\n",
       " 'editTm': '2024-08-19T03:36:41.000Z',\n",
       " 'status': 'ELIGIBLE',\n",
       " 'statusReason': 'ELIGIBLE',\n",
       " 'numberInUse': 9}"
      ]
     },
     "execution_count": 67,
     "metadata": {},
     "output_type": "execute_result"
    }
   ],
   "source": [
    "testing2 = budget_list[1]\n",
    "testing2['dailyBudget'] = 5700000\n",
    "testing2"
   ]
  },
  {
   "cell_type": "code",
   "execution_count": 68,
   "metadata": {},
   "outputs": [
    {
     "name": "stdout",
     "output_type": "stream",
     "text": [
      "response status_code = 200\n",
      "response body = {'sharedBudgetId': 'nsb-a001-01-000000000020482', 'customerId': 985635, 'name': '캠페인_공유예산#1', 'ownerType': 'CAMPAIGN', 'deliveryMethod': 'ACCELERATED', 'dailyBudget': 5700000, 'expectCost': 19206, 'budgetLock': False, 'regTm': '2024-08-02T10:38:09.000Z', 'editTm': '2024-08-19T03:47:28.000Z', 'status': 'ELIGIBLE', 'statusReason': 'ELIGIBLE', 'numberInUse': 9}\n"
     ]
    }
   ],
   "source": [
    "uri = '/ncc/shared-budgets/' + testing['sharedBudgetId']\n",
    "method = 'PUT'\n",
    "r = requests.put(BASE_URL + uri, params = {'fields' : 'dailyBudget'}, json = testing2, headers=get_header(method, uri, API_KEY, SECRET_KEY, CUSTOMER_ID))\n",
    "\n",
    "print(\"response status_code = {}\".format(r.status_code))\n",
    "print(\"response body = {}\".format(r.json()))"
   ]
  },
  {
   "cell_type": "code",
   "execution_count": 70,
   "metadata": {},
   "outputs": [],
   "source": [
    "df2 = pd.read_csv(\"./budget.csv\")"
   ]
  },
  {
   "cell_type": "code",
   "execution_count": 73,
   "metadata": {},
   "outputs": [
    {
     "data": {
      "text/plain": [
       "{'sharedBudgetId': 'nsb-a001-01-000000000020482',\n",
       " 'customerId': 985635,\n",
       " 'name': '캠페인_공유예산#1',\n",
       " 'ownerType': 'CAMPAIGN',\n",
       " 'deliveryMethod': 'ACCELERATED',\n",
       " 'dailyBudget': 5700000,\n",
       " 'expectCost': 12276,\n",
       " 'budgetLock': False,\n",
       " 'regTm': '2024-08-02T10:38:09.000Z',\n",
       " 'editTm': '2024-08-19T03:36:41.000Z',\n",
       " 'status': 'ELIGIBLE',\n",
       " 'statusReason': 'ELIGIBLE',\n",
       " 'numberInUse': 9}"
      ]
     },
     "execution_count": 73,
     "metadata": {},
     "output_type": "execute_result"
    }
   ],
   "source": [
    "testing2"
   ]
  },
  {
   "cell_type": "code",
   "execution_count": null,
   "metadata": {},
   "outputs": [],
   "source": []
  },
  {
   "cell_type": "code",
   "execution_count": null,
   "metadata": {},
   "outputs": [],
   "source": []
  },
  {
   "cell_type": "code",
   "execution_count": null,
   "metadata": {},
   "outputs": [],
   "source": []
  }
 ],
 "metadata": {
  "kernelspec": {
   "display_name": "main",
   "language": "python",
   "name": "python3"
  },
  "language_info": {
   "codemirror_mode": {
    "name": "ipython",
    "version": 3
   },
   "file_extension": ".py",
   "mimetype": "text/x-python",
   "name": "python",
   "nbconvert_exporter": "python",
   "pygments_lexer": "ipython3",
   "version": "3.10.14"
  }
 },
 "nbformat": 4,
 "nbformat_minor": 2
}
