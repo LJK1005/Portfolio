{
 "cells": [
  {
   "cell_type": "code",
   "execution_count": 1,
   "metadata": {},
   "outputs": [],
   "source": [
    "import chromedriver_autoinstaller\n",
    "from selenium.webdriver.support.ui import WebDriverWait\n",
    "from bs4 import BeautifulSoup\n",
    "from selenium import webdriver\n",
    "from selenium.webdriver.common.by import By\n",
    "import pandas as pd\n",
    "import time\n",
    "import datetime as dt"
   ]
  },
  {
   "cell_type": "code",
   "execution_count": 2,
   "metadata": {},
   "outputs": [],
   "source": [
    "def rip_11st(x):\n",
    "    prod_data_list = []\n",
    "\n",
    "    for i in x:\n",
    "        prod_data = {}\n",
    "\n",
    "        try:\n",
    "            prod_data['상품명'] = i.find_element(By.CSS_SELECTOR, 'p.info_tit a').text\n",
    "        except:\n",
    "            continue\n",
    "\n",
    "        try:\n",
    "            prod_data['판매가'] = int((i.find_element(By.CSS_SELECTOR, 'strong.sale_price').text).replace(\",\", \"\"))\n",
    "        except:\n",
    "            prod_data['판매가'] = None\n",
    "\n",
    "        try:\n",
    "            prod_data['판매몰'] = i.find_element(By.CSS_SELECTOR, 'p.benefit_tit').text\n",
    "        except:\n",
    "            prod_data['판매몰'] = None\n",
    "\n",
    "        try:\n",
    "            prod_data['이미지'] = i.find_element(By.CSS_SELECTOR, 'div.photo_wrap img').get_attribute('src')\n",
    "        except:\n",
    "            prod_data['이미지'] = None\n",
    "\n",
    "        prod_data_list.append(prod_data)\n",
    "    \n",
    "    return prod_data_list"
   ]
  },
  {
   "cell_type": "code",
   "execution_count": 59,
   "metadata": {},
   "outputs": [],
   "source": [
    "def extract_11st(n, url):\n",
    "    driver = webdriver.Chrome()\n",
    "    driver.get(url)\n",
    "    driver.implicitly_wait(3)\n",
    "\n",
    "    prod_data_all = []\n",
    "    idx = 1\n",
    "\n",
    "    while n >= idx:\n",
    "        for i in range(0, 5):\n",
    "            driver.execute_script(\"window.scrollTo(0, (document.body.scrollHeight)*0.8);\")\n",
    "            time.sleep(0.3)\n",
    "\n",
    "        prod_list = driver.find_elements(By.CSS_SELECTOR, 'div.normal_prd div.total_listitem')\n",
    "        prod_data_all += rip_11st(prod_list)\n",
    "        idx += 1\n",
    "\n",
    "        try:\n",
    "            btn = \"div#list_paging a[data-log-body=\\\"{'btn_name':'%d'}\\\"]\"\n",
    "            button = driver.find_element(By.CSS_SELECTOR, btn % idx)\n",
    "            button.click()\n",
    "        except:\n",
    "            btn = \"div#list_paging a.next\"\n",
    "            button = driver.find_element(By.CSS_SELECTOR, btn)\n",
    "            button.click()\n",
    "    \n",
    "    return prod_data_all"
   ]
  },
  {
   "cell_type": "code",
   "execution_count": 4,
   "metadata": {},
   "outputs": [],
   "source": [
    "url = 'https://www.11st.co.kr/category/DisplayCategory.tmall?method=getDisplayCategory2Depth&dispCtgrNo=1001704'"
   ]
  },
  {
   "cell_type": "code",
   "execution_count": 63,
   "metadata": {},
   "outputs": [],
   "source": [
    "shoes = extract_11st(30, url)"
   ]
  },
  {
   "cell_type": "code",
   "execution_count": 66,
   "metadata": {},
   "outputs": [],
   "source": [
    "pd.DataFrame(shoes).to_csv('shoes.csv', index = False)"
   ]
  },
  {
   "cell_type": "code",
   "execution_count": null,
   "metadata": {},
   "outputs": [],
   "source": []
  },
  {
   "cell_type": "code",
   "execution_count": null,
   "metadata": {},
   "outputs": [],
   "source": []
  },
  {
   "cell_type": "code",
   "execution_count": null,
   "metadata": {},
   "outputs": [],
   "source": []
  },
  {
   "cell_type": "code",
   "execution_count": null,
   "metadata": {},
   "outputs": [],
   "source": []
  },
  {
   "cell_type": "code",
   "execution_count": null,
   "metadata": {},
   "outputs": [],
   "source": []
  },
  {
   "cell_type": "code",
   "execution_count": null,
   "metadata": {},
   "outputs": [],
   "source": []
  },
  {
   "cell_type": "code",
   "execution_count": null,
   "metadata": {},
   "outputs": [],
   "source": []
  },
  {
   "cell_type": "code",
   "execution_count": null,
   "metadata": {},
   "outputs": [],
   "source": []
  }
 ],
 "metadata": {
  "kernelspec": {
   "display_name": "base",
   "language": "python",
   "name": "python3"
  },
  "language_info": {
   "codemirror_mode": {
    "name": "ipython",
    "version": 3
   },
   "file_extension": ".py",
   "mimetype": "text/x-python",
   "name": "python",
   "nbconvert_exporter": "python",
   "pygments_lexer": "ipython3",
   "version": "3.11.5"
  }
 },
 "nbformat": 4,
 "nbformat_minor": 2
}
