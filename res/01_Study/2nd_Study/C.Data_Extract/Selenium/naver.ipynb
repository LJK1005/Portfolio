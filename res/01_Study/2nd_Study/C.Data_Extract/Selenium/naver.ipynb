{
 "cells": [
  {
   "cell_type": "code",
   "execution_count": 1,
   "metadata": {},
   "outputs": [],
   "source": [
    "import chromedriver_autoinstaller\n",
    "from selenium.webdriver.support.ui import WebDriverWait\n",
    "from bs4 import BeautifulSoup\n",
    "from selenium import webdriver\n",
    "from selenium.webdriver.common.by import By\n",
    "import pandas as pd\n",
    "import time\n",
    "import datetime as dt"
   ]
  },
  {
   "cell_type": "code",
   "execution_count": 87,
   "metadata": {},
   "outputs": [],
   "source": [
    "def rip_navershopping(x):\n",
    "    soup = BeautifulSoup(x)\n",
    "    prod_all = soup.select('div.product_item__MDtDF')\n",
    "    prod_list = []\n",
    "\n",
    "    for i in prod_all:\n",
    "        prod_info = {}\n",
    "\n",
    "        try:\n",
    "            prod_info['상품명'] = i.select('a.product_link__TrAac')[0].text\n",
    "        except:\n",
    "            continue\n",
    "\n",
    "        try:\n",
    "            prod_info['상품가격'] = int((i.select('span.price_num__S2p_v')[0].text).replace(\",\",\"\")[:-1])\n",
    "        except:\n",
    "            prod_info['상품가격'] = None\n",
    "\n",
    "        try:\n",
    "            temp = i.select('span.price_delivery__yw_We')[0]\n",
    "            try:\n",
    "                temp.find('span').decompose()\n",
    "            except:\n",
    "                pass\n",
    "            if temp.text == '무료':\n",
    "                prod_info['배송비'] = 0\n",
    "            else:\n",
    "                prod_info['배송비'] = int(temp.text.replace(\",\",\"\")[:-1])\n",
    "        except:\n",
    "            prod_info['배송비'] = None\n",
    "\n",
    "        prod_list.append(prod_info)\n",
    "    \n",
    "    return prod_list"
   ]
  },
  {
   "cell_type": "code",
   "execution_count": 86,
   "metadata": {},
   "outputs": [],
   "source": [
    "def navershop_extract(n):\n",
    "    url = 'https://search.shopping.naver.com/search/all?query=%EC%BD%9C%EB%9D%BC&cat_id=&frm=NVSHATC'\n",
    "    driver = webdriver.Chrome()\n",
    "    driver.get(url)\n",
    "\n",
    "    full_list = []\n",
    "    idx = 1\n",
    "    btn = 'a[data-nclick=\"N=a:pag.page,i:{0}\"]'\n",
    "\n",
    "    while n >= idx:\n",
    "        for i in range(0, 10):\n",
    "            driver.execute_script(\"window.scrollTo(0, document.body.scrollHeight);\")\n",
    "            time.sleep(0.5)\n",
    "\n",
    "        full_list += rip_navershopping(driver.page_source)\n",
    "        idx += 1\n",
    "\n",
    "        button = WebDriverWait(driver, 3).until(lambda x:x.find_element(By.CSS_SELECTOR, btn.format(idx)))\n",
    "        button.click()\n",
    "    \n",
    "    return full_list"
   ]
  },
  {
   "cell_type": "code",
   "execution_count": 88,
   "metadata": {},
   "outputs": [],
   "source": [
    "coke = navershop_extract(30)"
   ]
  },
  {
   "cell_type": "code",
   "execution_count": 92,
   "metadata": {},
   "outputs": [],
   "source": [
    "df = pd.DataFrame(coke)"
   ]
  },
  {
   "cell_type": "code",
   "execution_count": 93,
   "metadata": {},
   "outputs": [],
   "source": [
    "df.to_csv('coke.csv', index = False)"
   ]
  },
  {
   "cell_type": "code",
   "execution_count": null,
   "metadata": {},
   "outputs": [],
   "source": []
  },
  {
   "cell_type": "code",
   "execution_count": null,
   "metadata": {},
   "outputs": [],
   "source": []
  },
  {
   "cell_type": "code",
   "execution_count": null,
   "metadata": {},
   "outputs": [],
   "source": []
  },
  {
   "cell_type": "code",
   "execution_count": null,
   "metadata": {},
   "outputs": [],
   "source": []
  }
 ],
 "metadata": {
  "kernelspec": {
   "display_name": "base",
   "language": "python",
   "name": "python3"
  },
  "language_info": {
   "codemirror_mode": {
    "name": "ipython",
    "version": 3
   },
   "file_extension": ".py",
   "mimetype": "text/x-python",
   "name": "python",
   "nbconvert_exporter": "python",
   "pygments_lexer": "ipython3",
   "version": "3.11.5"
  }
 },
 "nbformat": 4,
 "nbformat_minor": 2
}
