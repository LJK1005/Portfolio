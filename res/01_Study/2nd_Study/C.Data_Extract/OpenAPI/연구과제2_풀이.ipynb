{
 "cells": [
  {
   "cell_type": "markdown",
   "metadata": {},
   "source": [
    "# 연구과제 2\n",
    "\n",
    "## #01. 준비과정\n",
    "\n",
    "### [1] 패키지 참조\n",
    "\n",
    "프로그래스바 구현을 위해 `tqdm` 패키지와 `ipywidgets` 패키지가 필요하다."
   ]
  },
  {
   "cell_type": "code",
   "execution_count": 43,
   "metadata": {},
   "outputs": [],
   "source": [
    "import requests\n",
    "import json\n",
    "import datetime as dt\n",
    "import concurrent.futures as futures\n",
    "from tqdm.notebook import tqdm"
   ]
  },
  {
   "cell_type": "markdown",
   "metadata": {},
   "source": [
    "## #02. CSV 파일 가져오기\n",
    "\n",
    "### [1] 접근할 데이터 URL"
   ]
  },
  {
   "cell_type": "code",
   "execution_count": 44,
   "metadata": {},
   "outputs": [],
   "source": [
    "url = \"https://data.hossam.kr/py/bus_station.csv\""
   ]
  },
  {
   "cell_type": "markdown",
   "metadata": {},
   "source": [
    "### [2] 텍스트 데이터 수집을 위한 접속 객체"
   ]
  },
  {
   "cell_type": "code",
   "execution_count": 45,
   "metadata": {},
   "outputs": [],
   "source": [
    "session = requests.Session()\n",
    "\n",
    "session.headers.update({\n",
    "    \"Referer\": \"\",\n",
    "    \"User-Agent\": \"Mozilla/5.0 (Windows NT 10.0; Win64; x64) AppleWebKit/537.36 (KHTML, like Gecko) Chrome/120.0.0.0 Safari/537.36\"\n",
    "})"
   ]
  },
  {
   "cell_type": "markdown",
   "metadata": {},
   "source": [
    "### [3] 텍스트 데이터 가져오기"
   ]
  },
  {
   "cell_type": "code",
   "execution_count": 46,
   "metadata": {},
   "outputs": [
    {
     "data": {
      "text/plain": [
       "[['정류소번호', '정류소명', 'X좌표', 'Y좌표', '정류소 타입'],\n",
       " ['1001', '종로2가사거리', '126.987752', '37.569808', '중앙차로'],\n",
       " ['1002', '창경궁.서울대학교병원', '126.996522', '37.579433', '중앙차로'],\n",
       " ['1003', '명륜3가.성대입구', '126.998251', '37.582581', '중앙차로'],\n",
       " ['1004', '종로2가.삼일교', '126.9876131', '37.56857927', '중앙차로']]"
      ]
     },
     "execution_count": 46,
     "metadata": {},
     "output_type": "execute_result"
    }
   ],
   "source": [
    "try:\n",
    "    r = session.get(url)\n",
    "    if r.status_code != 200:\n",
    "        msg = \"[%d Error] %s 에러가 발생함\" % (r.status_code, r.reason)\n",
    "        raise Exception(msg)\n",
    "except Exception as e:\n",
    "    print(\"접속에 실패했습니다.\")\n",
    "    print(e)\n",
    "\n",
    "\n",
    "r.encoding = \"euc-kr\"\n",
    "sources = r.text.split(\"\\n\")\n",
    "\n",
    "mydata = []\n",
    "\n",
    "for i in sources:\n",
    "    mydata.append(i.strip().split(\",\"))    \n",
    "\n",
    "mydata[:5]  "
   ]
  },
  {
   "cell_type": "markdown",
   "metadata": {},
   "source": [
    "## #03. 주소 조회하기\n",
    "\n",
    "### [1] 요청변수"
   ]
  },
  {
   "cell_type": "code",
   "execution_count": 47,
   "metadata": {},
   "outputs": [],
   "source": [
    "APIKEY = \"6DBD19F7-1B18-36CE-AD74-FD0E5FAEC01F\""
   ]
  },
  {
   "cell_type": "markdown",
   "metadata": {},
   "source": [
    "### [2] 요청 URL"
   ]
  },
  {
   "cell_type": "code",
   "execution_count": 48,
   "metadata": {},
   "outputs": [],
   "source": [
    "urlFmt = \"https://api.vworld.kr/req/address?service=address&request=getAddress&version=2.0&crs=epsg:4326&point={lat},{lng}&format=json&type=both&zipcode=true&simple=false&key={apikey}\""
   ]
  },
  {
   "cell_type": "markdown",
   "metadata": {},
   "source": [
    "### [3] 주소 조회 함수 정의"
   ]
  },
  {
   "cell_type": "code",
   "execution_count": 49,
   "metadata": {},
   "outputs": [],
   "source": [
    "def queryAddress(session, urlFmt, apikey, lat, lng):\n",
    "    url = urlFmt.format(lat=lat, lng=lng, apikey=apikey)\n",
    "    #print(url)\n",
    "    \n",
    "    try:\n",
    "        r = session.get(url)\n",
    "        if r.status_code != 200:\n",
    "            msg = \"[%d Error] %s 에러가 발생함\" % (r.status_code, r.reason)\n",
    "            raise Exception(msg)\n",
    "    except Exception as e:\n",
    "        print(\"접속에 실패했습니다.\")\n",
    "        print(e)\n",
    "        return\n",
    "        \n",
    "    r.encoding = \"UTF-8\"\n",
    "    mydict = json.loads(r.text)\n",
    "    #print(mydict)\n",
    "    \n",
    "    result = mydict[\"response\"][\"result\"][0]\n",
    "    zipcode = result[\"zipcode\"].strip()\n",
    "    address = result[\"text\"].strip()\n",
    "    #print(zipcode, address)\n",
    "    \n",
    "    return [zipcode, address]"
   ]
  },
  {
   "cell_type": "markdown",
   "metadata": {},
   "source": [
    "### [4] 함수 테스트"
   ]
  },
  {
   "cell_type": "code",
   "execution_count": 50,
   "metadata": {},
   "outputs": [
    {
     "name": "stdout",
     "output_type": "stream",
     "text": [
      "126.987752 37.569808\n",
      "03161\n",
      "서울특별시 종로구 종로2가 84-11\n"
     ]
    }
   ],
   "source": [
    "lat = mydata[1][2]\n",
    "lng = mydata[1][3]\n",
    "print(lat, lng)\n",
    "\n",
    "zipcode, address = queryAddress(session, urlFmt, APIKEY, lat, lng)\n",
    "print(zipcode)\n",
    "print(address)"
   ]
  },
  {
   "cell_type": "markdown",
   "metadata": {},
   "source": [
    "### [5] 비동기 처리 적용"
   ]
  },
  {
   "cell_type": "code",
   "execution_count": 54,
   "metadata": {},
   "outputs": [
    {
     "name": "stdout",
     "output_type": "stream",
     "text": [
      "11291건의 데이터를 조회합니다.\n"
     ]
    },
    {
     "data": {
      "application/vnd.jupyter.widget-view+json": {
       "model_id": "c6e96cb9d888401097366f25097bc9f7",
       "version_major": 2,
       "version_minor": 0
      },
      "text/plain": [
       "  0%|          | 0/11291 [00:00<?, ?it/s]"
      ]
     },
     "metadata": {},
     "output_type": "display_data"
    },
    {
     "ename": "KeyboardInterrupt",
     "evalue": "",
     "output_type": "error",
     "traceback": [
      "\u001b[1;31m---------------------------------------------------------------------------\u001b[0m",
      "\u001b[1;31mKeyboardInterrupt\u001b[0m                         Traceback (most recent call last)",
      "Cell \u001b[1;32mIn[54], line 21\u001b[0m\n\u001b[0;32m     18\u001b[0m fu \u001b[38;5;241m=\u001b[39m executor\u001b[38;5;241m.\u001b[39msubmit(queryAddress, session, urlFmt, APIKEY, lat, lng)\n\u001b[0;32m     20\u001b[0m \u001b[38;5;66;03m# 현재 실행중인 함수(queryAddress)가 리턴하는 값을 반환받는다.\u001b[39;00m\n\u001b[1;32m---> 21\u001b[0m result \u001b[38;5;241m=\u001b[39m \u001b[43mfu\u001b[49m\u001b[38;5;241;43m.\u001b[39;49m\u001b[43mresult\u001b[49m\u001b[43m(\u001b[49m\u001b[43m)\u001b[49m\n\u001b[0;32m     22\u001b[0m dataset\u001b[38;5;241m.\u001b[39mappend(v \u001b[38;5;241m+\u001b[39m result)\n\u001b[0;32m     24\u001b[0m \u001b[38;5;66;03m# 비동기 작업이 종료되었을 때 콜백함수를 호출한다.\u001b[39;00m\n",
      "File \u001b[1;32mc:\\Users\\leekh\\AppData\\Local\\Programs\\Python\\Python312\\Lib\\concurrent\\futures\\_base.py:451\u001b[0m, in \u001b[0;36mFuture.result\u001b[1;34m(self, timeout)\u001b[0m\n\u001b[0;32m    448\u001b[0m \u001b[38;5;28;01melif\u001b[39;00m \u001b[38;5;28mself\u001b[39m\u001b[38;5;241m.\u001b[39m_state \u001b[38;5;241m==\u001b[39m FINISHED:\n\u001b[0;32m    449\u001b[0m     \u001b[38;5;28;01mreturn\u001b[39;00m \u001b[38;5;28mself\u001b[39m\u001b[38;5;241m.\u001b[39m__get_result()\n\u001b[1;32m--> 451\u001b[0m \u001b[38;5;28;43mself\u001b[39;49m\u001b[38;5;241;43m.\u001b[39;49m\u001b[43m_condition\u001b[49m\u001b[38;5;241;43m.\u001b[39;49m\u001b[43mwait\u001b[49m\u001b[43m(\u001b[49m\u001b[43mtimeout\u001b[49m\u001b[43m)\u001b[49m\n\u001b[0;32m    453\u001b[0m \u001b[38;5;28;01mif\u001b[39;00m \u001b[38;5;28mself\u001b[39m\u001b[38;5;241m.\u001b[39m_state \u001b[38;5;129;01min\u001b[39;00m [CANCELLED, CANCELLED_AND_NOTIFIED]:\n\u001b[0;32m    454\u001b[0m     \u001b[38;5;28;01mraise\u001b[39;00m CancelledError()\n",
      "File \u001b[1;32mc:\\Users\\leekh\\AppData\\Local\\Programs\\Python\\Python312\\Lib\\threading.py:334\u001b[0m, in \u001b[0;36mCondition.wait\u001b[1;34m(self, timeout)\u001b[0m\n\u001b[0;32m    332\u001b[0m \u001b[38;5;28;01mtry\u001b[39;00m:    \u001b[38;5;66;03m# restore state no matter what (e.g., KeyboardInterrupt)\u001b[39;00m\n\u001b[0;32m    333\u001b[0m     \u001b[38;5;28;01mif\u001b[39;00m timeout \u001b[38;5;129;01mis\u001b[39;00m \u001b[38;5;28;01mNone\u001b[39;00m:\n\u001b[1;32m--> 334\u001b[0m         \u001b[43mwaiter\u001b[49m\u001b[38;5;241;43m.\u001b[39;49m\u001b[43macquire\u001b[49m\u001b[43m(\u001b[49m\u001b[43m)\u001b[49m\n\u001b[0;32m    335\u001b[0m         gotit \u001b[38;5;241m=\u001b[39m \u001b[38;5;28;01mTrue\u001b[39;00m\n\u001b[0;32m    336\u001b[0m     \u001b[38;5;28;01melse\u001b[39;00m:\n",
      "\u001b[1;31mKeyboardInterrupt\u001b[0m: "
     ]
    }
   ],
   "source": [
    "# 결과를 저장할 빈 리스트\n",
    "dataset = []\n",
    "\n",
    "# 제목행을 제외한 나머지의 길이 --> 변환할 데이터 수\n",
    "total = len(mydata[1:])\n",
    "print(\"%d건의 데이터를 조회합니다.\" % total)\n",
    "\n",
    "# 프로그래스바 객체 생성\n",
    "progress = tqdm(total=total)\n",
    "\n",
    "with futures.ThreadPoolExecutor(max_workers=50) as executor:\n",
    "    for i, v in enumerate(mydata[1:]):\n",
    "        # 한 행에서 위,경도 추출\n",
    "        lat = v[2]\n",
    "        lng = v[3]\n",
    "        \n",
    "        # 비동기 처리 객체를 submit() 메서드로부터 리턴받는다.\n",
    "        fu = executor.submit(queryAddress, session, urlFmt, APIKEY, lat, lng)\n",
    "\n",
    "        # 현재 실행중인 함수(queryAddress)가 리턴하는 값을 반환받는다.\n",
    "        result = fu.result()\n",
    "        dataset.append(v + result)\n",
    "        \n",
    "        # 비동기 작업이 종료되었을 때 콜백함수를 호출한다.\n",
    "        fu.add_done_callback(lambda x : progress.update())\n",
    "        \n",
    "dataset[:5]"
   ]
  },
  {
   "cell_type": "markdown",
   "metadata": {},
   "source": [
    "### [6] 수집 결과를 파일로 저장"
   ]
  },
  {
   "cell_type": "code",
   "execution_count": 55,
   "metadata": {},
   "outputs": [
    {
     "name": "stdout",
     "output_type": "stream",
     "text": [
      "fin :)\n"
     ]
    }
   ],
   "source": [
    "fname = dt.datetime.now().strftime(\"주소조회_%y%m%d_%H%M%S.csv\")\n",
    "\n",
    "with open(fname, \"w\", encoding=\"utf-8\") as f:\n",
    "    f.write(\"정류소번호,정류소명,X좌표,Y좌표,정류소 타입,우편번호,주소\\n\")\n",
    "    \n",
    "    for item in dataset:\n",
    "        f.write(\"%s\\n\" % \",\".join(item))\n",
    "        \n",
    "print(\"fin :)\")"
   ]
  }
 ],
 "metadata": {
  "kernelspec": {
   "display_name": "Python 3",
   "language": "python",
   "name": "python3"
  },
  "language_info": {
   "codemirror_mode": {
    "name": "ipython",
    "version": 3
   },
   "file_extension": ".py",
   "mimetype": "text/x-python",
   "name": "python",
   "nbconvert_exporter": "python",
   "pygments_lexer": "ipython3",
   "version": "3.12.0"
  }
 },
 "nbformat": 4,
 "nbformat_minor": 2
}
