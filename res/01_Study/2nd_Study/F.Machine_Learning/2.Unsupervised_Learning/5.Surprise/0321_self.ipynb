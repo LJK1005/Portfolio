{
 "cells": [
  {
   "cell_type": "code",
   "execution_count": 1,
   "id": "132a6f6d-8f9c-4c5f-9732-2a82949bd77c",
   "metadata": {},
   "outputs": [
    {
     "data": {
      "text/plain": [
       "'Y:\\\\Python\\\\Mega_IT\\\\F.Machine_Learning\\\\3.Unsupervised_Learning\\\\4.Surprise'"
      ]
     },
     "execution_count": 1,
     "metadata": {},
     "output_type": "execute_result"
    }
   ],
   "source": [
    "import os\n",
    "os.chdir(\"Y:\\Python\\Mega_IT\\F.Machine_Learning/3.Unsupervised_Learning/4.Surprise\")\n",
    "os.getcwd()"
   ]
  },
  {
   "cell_type": "code",
   "execution_count": 2,
   "id": "d82c03b1-352a-468f-bae5-83e451cad358",
   "metadata": {},
   "outputs": [
    {
     "name": "stderr",
     "output_type": "stream",
     "text": [
      "Intel(R) Extension for Scikit-learn* enabled (https://github.com/intel/scikit-learn-intelex)\n"
     ]
    }
   ],
   "source": [
    "import sys\n",
    "sys.path.append(\"Y:\\Python\\Mega_IT\")\n",
    "\n",
    "import warnings\n",
    "warnings.filterwarnings('ignore')\n",
    "\n",
    "from yjk_module.preprocessing import *\n",
    "from yjk_module.ml_module import *\n",
    "\n",
    "from sklearnex import patch_sklearn\n",
    "patch_sklearn()"
   ]
  },
  {
   "cell_type": "code",
   "execution_count": 3,
   "id": "9f491e0a-8d20-4a9a-b8f9-dbddd8952f0b",
   "metadata": {},
   "outputs": [],
   "source": [
    "from hossam.util import *\n",
    "from hossam.plot import *\n",
    "from hossam.analysis import *\n",
    "from hossam.classification import *"
   ]
  },
  {
   "cell_type": "code",
   "execution_count": 4,
   "id": "23043b59-b4bf-4779-ae56-4bfe639dd323",
   "metadata": {},
   "outputs": [],
   "source": [
    "from surprise import BaselineOnly, Dataset, Reader, KNNBasic\n",
    "from surprise.model_selection import train_test_split as s_train_test_split, cross_validate as s_cross_validate, GridSearchCV as s_GridSearchCV, RandomizedSearchCV as s_RandomizedSearchCV"
   ]
  },
  {
   "cell_type": "markdown",
   "id": "cebc3b6f-68f3-4701-a51d-79f1dfb9de9b",
   "metadata": {},
   "source": [
    "- 추천시스템 : 비지도 학습, 내부적으로는 SGD를 사용\n",
    "    - 사용자에 대한 인구통계학적인 정보를 사용함 : 나이 / 성별 / 인종을 고려하여 집단(cluster)를 정의하고 이를 분류에 활용\n",
    "    - Recommander system : 비슷한 인구통계학적 특성을 보이는 사람은 취향도 비슷하리라 판단함 (개개인별로 취향이 제각각이므로 정확도가 떨어짐)\n",
    "    - Content filtering : 아이템의 내용에 집중하여 해당 기본 정보를 활용\n",
    "    - Collaborative filtering : 타깃 유저의 데이터와 다른 유저의 데이터를 모두 사용\n",
    "    - 이를 사용하기 위한 surprise 패키지는 사이킷런을 기반으로 하고 있음"
   ]
  },
  {
   "cell_type": "code",
   "execution_count": 5,
   "id": "73eaef10-a151-47d8-8575-1b3dc78c3e14",
   "metadata": {},
   "outputs": [],
   "source": [
    "origin1 = pd.read_excel(\"./data/movie_ratings.xlsx\")"
   ]
  },
  {
   "cell_type": "code",
   "execution_count": 6,
   "id": "d82300cc-b73a-4339-bb28-09956246ce5f",
   "metadata": {},
   "outputs": [],
   "source": [
    "movies = pd.read_excel(\"./data/movie_ratings.xlsx\", sheet_name = 'movies')\n",
    "links = pd.read_excel(\"./data/movie_ratings.xlsx\", sheet_name = 'links')\n",
    "tags = pd.read_excel(\"./data/movie_ratings.xlsx\", sheet_name = 'tags')"
   ]
  },
  {
   "cell_type": "markdown",
   "id": "2eee375d-98af-4a01-9554-baed8313a627",
   "metadata": {},
   "source": [
    "- surprise 패키지는 사용자번호, 아이템번호, 평점번호 3가지의 고정된 데이터를 요구함"
   ]
  },
  {
   "cell_type": "code",
   "execution_count": 7,
   "id": "4b735646-414a-48e4-95d3-331a4bc8de53",
   "metadata": {},
   "outputs": [
    {
     "data": {
      "text/html": [
       "<div>\n",
       "<style scoped>\n",
       "    .dataframe tbody tr th:only-of-type {\n",
       "        vertical-align: middle;\n",
       "    }\n",
       "\n",
       "    .dataframe tbody tr th {\n",
       "        vertical-align: top;\n",
       "    }\n",
       "\n",
       "    .dataframe thead th {\n",
       "        text-align: right;\n",
       "    }\n",
       "</style>\n",
       "<table border=\"1\" class=\"dataframe\">\n",
       "  <thead>\n",
       "    <tr style=\"text-align: right;\">\n",
       "      <th></th>\n",
       "      <th>userId</th>\n",
       "      <th>movieId</th>\n",
       "      <th>rating</th>\n",
       "      <th>timestamp</th>\n",
       "    </tr>\n",
       "  </thead>\n",
       "  <tbody>\n",
       "    <tr>\n",
       "      <th>0</th>\n",
       "      <td>1</td>\n",
       "      <td>1</td>\n",
       "      <td>4.0</td>\n",
       "      <td>964982703</td>\n",
       "    </tr>\n",
       "    <tr>\n",
       "      <th>1</th>\n",
       "      <td>1</td>\n",
       "      <td>3</td>\n",
       "      <td>4.0</td>\n",
       "      <td>964981247</td>\n",
       "    </tr>\n",
       "    <tr>\n",
       "      <th>2</th>\n",
       "      <td>1</td>\n",
       "      <td>6</td>\n",
       "      <td>4.0</td>\n",
       "      <td>964982224</td>\n",
       "    </tr>\n",
       "    <tr>\n",
       "      <th>3</th>\n",
       "      <td>1</td>\n",
       "      <td>47</td>\n",
       "      <td>5.0</td>\n",
       "      <td>964983815</td>\n",
       "    </tr>\n",
       "    <tr>\n",
       "      <th>4</th>\n",
       "      <td>1</td>\n",
       "      <td>50</td>\n",
       "      <td>5.0</td>\n",
       "      <td>964982931</td>\n",
       "    </tr>\n",
       "  </tbody>\n",
       "</table>\n",
       "</div>"
      ],
      "text/plain": [
       "   userId  movieId  rating  timestamp\n",
       "0       1        1     4.0  964982703\n",
       "1       1        3     4.0  964981247\n",
       "2       1        6     4.0  964982224\n",
       "3       1       47     5.0  964983815\n",
       "4       1       50     5.0  964982931"
      ]
     },
     "execution_count": 7,
     "metadata": {},
     "output_type": "execute_result"
    }
   ],
   "source": [
    "origin1.head()"
   ]
  },
  {
   "cell_type": "code",
   "execution_count": 8,
   "id": "dbd2432a-6735-4439-9c4c-cf9df1b7f3ec",
   "metadata": {},
   "outputs": [
    {
     "name": "stdout",
     "output_type": "stream",
     "text": [
      "<class 'pandas.core.frame.DataFrame'>\n",
      "RangeIndex: 100836 entries, 0 to 100835\n",
      "Data columns (total 3 columns):\n",
      " #   Column   Non-Null Count   Dtype  \n",
      "---  ------   --------------   -----  \n",
      " 0   userId   100836 non-null  int64  \n",
      " 1   movieId  100836 non-null  int64  \n",
      " 2   rating   100836 non-null  float64\n",
      "dtypes: float64(1), int64(2)\n",
      "memory usage: 2.3 MB\n"
     ]
    }
   ],
   "source": [
    "df1 = origin1.drop('timestamp', axis = 1)\n",
    "df1.info()"
   ]
  },
  {
   "cell_type": "code",
   "execution_count": 9,
   "id": "e3d1325e-1f87-4a15-b4fa-11c06d5e1962",
   "metadata": {},
   "outputs": [
    {
     "data": {
      "text/html": [
       "<div>\n",
       "<style scoped>\n",
       "    .dataframe tbody tr th:only-of-type {\n",
       "        vertical-align: middle;\n",
       "    }\n",
       "\n",
       "    .dataframe tbody tr th {\n",
       "        vertical-align: top;\n",
       "    }\n",
       "\n",
       "    .dataframe thead th {\n",
       "        text-align: right;\n",
       "    }\n",
       "</style>\n",
       "<table border=\"1\" class=\"dataframe\">\n",
       "  <thead>\n",
       "    <tr style=\"text-align: right;\">\n",
       "      <th></th>\n",
       "      <th>userId</th>\n",
       "      <th>movieId</th>\n",
       "      <th>rating</th>\n",
       "    </tr>\n",
       "  </thead>\n",
       "  <tbody>\n",
       "    <tr>\n",
       "      <th>count</th>\n",
       "      <td>100836.000000</td>\n",
       "      <td>100836.000000</td>\n",
       "      <td>100836.000000</td>\n",
       "    </tr>\n",
       "    <tr>\n",
       "      <th>mean</th>\n",
       "      <td>326.127564</td>\n",
       "      <td>19435.295718</td>\n",
       "      <td>3.501557</td>\n",
       "    </tr>\n",
       "    <tr>\n",
       "      <th>std</th>\n",
       "      <td>182.618491</td>\n",
       "      <td>35530.987199</td>\n",
       "      <td>1.042529</td>\n",
       "    </tr>\n",
       "    <tr>\n",
       "      <th>min</th>\n",
       "      <td>1.000000</td>\n",
       "      <td>1.000000</td>\n",
       "      <td>0.500000</td>\n",
       "    </tr>\n",
       "    <tr>\n",
       "      <th>25%</th>\n",
       "      <td>177.000000</td>\n",
       "      <td>1199.000000</td>\n",
       "      <td>3.000000</td>\n",
       "    </tr>\n",
       "    <tr>\n",
       "      <th>50%</th>\n",
       "      <td>325.000000</td>\n",
       "      <td>2991.000000</td>\n",
       "      <td>3.500000</td>\n",
       "    </tr>\n",
       "    <tr>\n",
       "      <th>75%</th>\n",
       "      <td>477.000000</td>\n",
       "      <td>8122.000000</td>\n",
       "      <td>4.000000</td>\n",
       "    </tr>\n",
       "    <tr>\n",
       "      <th>max</th>\n",
       "      <td>610.000000</td>\n",
       "      <td>193609.000000</td>\n",
       "      <td>5.000000</td>\n",
       "    </tr>\n",
       "  </tbody>\n",
       "</table>\n",
       "</div>"
      ],
      "text/plain": [
       "              userId        movieId         rating\n",
       "count  100836.000000  100836.000000  100836.000000\n",
       "mean      326.127564   19435.295718       3.501557\n",
       "std       182.618491   35530.987199       1.042529\n",
       "min         1.000000       1.000000       0.500000\n",
       "25%       177.000000    1199.000000       3.000000\n",
       "50%       325.000000    2991.000000       3.500000\n",
       "75%       477.000000    8122.000000       4.000000\n",
       "max       610.000000  193609.000000       5.000000"
      ]
     },
     "execution_count": 9,
     "metadata": {},
     "output_type": "execute_result"
    }
   ],
   "source": [
    "df1.describe()"
   ]
  },
  {
   "cell_type": "markdown",
   "id": "a6951868-6888-46b4-b26c-b73b3bd7fda8",
   "metadata": {},
   "source": [
    "- 평점 분포를 알려주는 reader 객체 사용"
   ]
  },
  {
   "cell_type": "code",
   "execution_count": 10,
   "id": "da619f74-ba66-457b-88fe-cf6b28ce4b3e",
   "metadata": {},
   "outputs": [],
   "source": [
    "reader = Reader(rating_scale = (0.5, 5.0))"
   ]
  },
  {
   "cell_type": "markdown",
   "id": "04520b52-035b-4557-8dfe-c68383a48525",
   "metadata": {},
   "source": [
    "- 데이터프레임을 surprise 에서 사용가능한 형태로 가공하는 Dataset 객체에 Reader 객체와 함께 변환"
   ]
  },
  {
   "cell_type": "code",
   "execution_count": 11,
   "id": "fd8659a9-2d09-4cad-bff1-f52046e58ece",
   "metadata": {},
   "outputs": [],
   "source": [
    "data = Dataset.load_from_df(df1, reader)"
   ]
  },
  {
   "cell_type": "markdown",
   "id": "315d4397-53d0-4902-ad9b-701fe677da29",
   "metadata": {},
   "source": [
    "- train / test 분리 : Surprise 패키지 자체 함수 사용"
   ]
  },
  {
   "cell_type": "code",
   "execution_count": 12,
   "id": "38882128-64fc-4624-9d79-1b8ef1754a3d",
   "metadata": {},
   "outputs": [],
   "source": [
    "train, test = s_train_test_split(data, test_size = 0.2, random_state = 0)"
   ]
  },
  {
   "cell_type": "markdown",
   "id": "171c5dc0-fbbc-46f3-bf08-2595145943d7",
   "metadata": {},
   "source": [
    "- 추천 기본 모형 구현"
   ]
  },
  {
   "cell_type": "code",
   "execution_count": 13,
   "id": "c23dd332-5d9a-44f5-aa3d-11f0b3593f41",
   "metadata": {},
   "outputs": [
    {
     "name": "stdout",
     "output_type": "stream",
     "text": [
      "Estimating biases using als...\n"
     ]
    },
    {
     "data": {
      "text/plain": [
       "<surprise.prediction_algorithms.baseline_only.BaselineOnly at 0x15411f2a380>"
      ]
     },
     "execution_count": 13,
     "metadata": {},
     "output_type": "execute_result"
    }
   ],
   "source": [
    "estimator = BaselineOnly()\n",
    "estimator.fit(train)"
   ]
  },
  {
   "cell_type": "markdown",
   "id": "3dee4296-468e-45d8-9ac6-9e5102c2d4a8",
   "metadata": {},
   "source": [
    "- 예측 및 성능 평가"
   ]
  },
  {
   "cell_type": "code",
   "execution_count": 14,
   "id": "1883723c-76ea-4ed5-b7d1-507cda978fa4",
   "metadata": {},
   "outputs": [],
   "source": [
    "from surprise.accuracy import rmse, mae"
   ]
  },
  {
   "cell_type": "code",
   "execution_count": 15,
   "id": "ee05c9f2-7486-4c9d-bccd-7ce74d84e1d0",
   "metadata": {},
   "outputs": [],
   "source": [
    "pred = estimator.test(test)"
   ]
  },
  {
   "cell_type": "code",
   "execution_count": 16,
   "id": "8279ef88-d447-40cb-8a3a-9750f77e9766",
   "metadata": {},
   "outputs": [
    {
     "data": {
      "text/plain": [
       "[Prediction(uid=548, iid=1196, r_ui=3.5, est=4.4688569029292955, details={'was_impossible': False}),\n",
       " Prediction(uid=590, iid=1252, r_ui=3.0, est=3.8284627528627215, details={'was_impossible': False}),\n",
       " Prediction(uid=8, iid=32, r_ui=3.0, est=4.003777018267144, details={'was_impossible': False}),\n",
       " Prediction(uid=217, iid=2993, r_ui=3.0, est=2.9884116522794253, details={'was_impossible': False}),\n",
       " Prediction(uid=51, iid=2613, r_ui=5.0, est=3.4693253210141344, details={'was_impossible': False})]"
      ]
     },
     "execution_count": 16,
     "metadata": {},
     "output_type": "execute_result"
    }
   ],
   "source": [
    "pred[:5]"
   ]
  },
  {
   "cell_type": "markdown",
   "id": "02c3e090-c1b3-4e58-bc1f-bbb3e0eaa50b",
   "metadata": {},
   "source": [
    "- uid : 사용자 번호\n",
    "- iid : 아이템 번호\n",
    "- r_ui : 해당 사용자가 실제로 부여한 평점\n",
    "- est : 예측 평점"
   ]
  },
  {
   "cell_type": "code",
   "execution_count": 17,
   "id": "c7acb733-e639-437d-a04b-6899c2ae5fbd",
   "metadata": {},
   "outputs": [
    {
     "name": "stdout",
     "output_type": "stream",
     "text": [
      "RMSE: 0.8685\n"
     ]
    }
   ],
   "source": [
    "score = rmse(pred)"
   ]
  },
  {
   "cell_type": "code",
   "execution_count": 18,
   "id": "443167a0-a233-4efc-b149-19695c5c926d",
   "metadata": {},
   "outputs": [
    {
     "data": {
      "text/plain": [
       "Prediction(uid=603, iid=3996, r_ui=None, est=3.875007655666056, details={'was_impossible': False})"
      ]
     },
     "execution_count": 18,
     "metadata": {},
     "output_type": "execute_result"
    }
   ],
   "source": [
    "upred = estimator.predict(uid = 603, iid = 3996)\n",
    "upred"
   ]
  },
  {
   "cell_type": "code",
   "execution_count": 19,
   "id": "13b349f9-6e44-49c3-a0e7-d5585a79b1b4",
   "metadata": {},
   "outputs": [
    {
     "data": {
      "text/plain": [
       "3.875007655666056"
      ]
     },
     "execution_count": 19,
     "metadata": {},
     "output_type": "execute_result"
    }
   ],
   "source": [
    "upred.est"
   ]
  },
  {
   "cell_type": "code",
   "execution_count": 20,
   "id": "4d5a9590-a6e9-4a95-9f7d-289505871f08",
   "metadata": {},
   "outputs": [
    {
     "name": "stdout",
     "output_type": "stream",
     "text": [
      "RMSE: 0.8685\n",
      "MAE:  0.6693\n"
     ]
    },
    {
     "data": {
      "text/plain": [
       "(0.8685101467336913, 0.6693169488048113)"
      ]
     },
     "execution_count": 20,
     "metadata": {},
     "output_type": "execute_result"
    }
   ],
   "source": [
    "rmse(pred), mae(pred)"
   ]
  },
  {
   "cell_type": "markdown",
   "id": "5ba8353b-578f-4d4b-8692-3d933f32ead6",
   "metadata": {},
   "source": [
    "- Surprise 객체는 파라미터 설정을 bsl_options에 딕셔너리를 입력하여 진행"
   ]
  },
  {
   "cell_type": "code",
   "execution_count": 21,
   "id": "935a1d91-ec8a-462d-8729-4320e2c3e99b",
   "metadata": {},
   "outputs": [
    {
     "name": "stdout",
     "output_type": "stream",
     "text": [
      "Estimating biases using als...\n",
      "Estimating biases using als...\n",
      "Estimating biases using als...\n",
      "Estimating biases using als...\n",
      "Estimating biases using als...\n",
      "Evaluating RMSE, MAE of algorithm BaselineOnly on 5 split(s).\n",
      "\n",
      "                  Fold 1  Fold 2  Fold 3  Fold 4  Fold 5  Mean    Std     \n",
      "RMSE (testset)    0.8778  0.8759  0.8796  0.8759  0.8744  0.8767  0.0018  \n",
      "MAE (testset)     0.6760  0.6743  0.6771  0.6790  0.6766  0.6766  0.0015  \n",
      "Fit time          0.08    0.07    0.06    0.07    0.09    0.07    0.01    \n",
      "Test time         0.14    0.05    0.05    0.05    0.05    0.07    0.04    \n"
     ]
    }
   ],
   "source": [
    "estimator = BaselineOnly(bsl_options = {\n",
    "    \"method\" : \"als\",\n",
    "    \"n_epochs\": 10,\n",
    "    \"reg_u\" : 10,\n",
    "    \"reg_i\" : 15\n",
    "})\n",
    "cv_result = s_cross_validate(estimator, data, measures = ['RMSE', 'MAE'], cv = 5, verbose = True) # verbose 파라미터는 결과를 출력할지 여부 결정"
   ]
  },
  {
   "cell_type": "code",
   "execution_count": 22,
   "id": "a6b53112-b97a-4f78-851c-dbba2e78c01b",
   "metadata": {},
   "outputs": [
    {
     "data": {
      "text/plain": [
       "{'test_rmse': array([0.87777946, 0.8758704 , 0.87960586, 0.87590708, 0.87441509]),\n",
       " 'test_mae': array([0.67598986, 0.67433018, 0.67714718, 0.67904282, 0.67660337]),\n",
       " 'fit_time': (0.07506847381591797,\n",
       "  0.07006335258483887,\n",
       "  0.06405830383300781,\n",
       "  0.06906294822692871,\n",
       "  0.08507776260375977),\n",
       " 'test_time': (0.14263606071472168,\n",
       "  0.04604172706604004,\n",
       "  0.04604172706604004,\n",
       "  0.04904484748840332,\n",
       "  0.04604291915893555)}"
      ]
     },
     "execution_count": 22,
     "metadata": {},
     "output_type": "execute_result"
    }
   ],
   "source": [
    "cv_result"
   ]
  },
  {
   "cell_type": "code",
   "execution_count": 23,
   "id": "623268f6-8184-4c8d-96ca-bf47ed93fab4",
   "metadata": {},
   "outputs": [
    {
     "name": "stdout",
     "output_type": "stream",
     "text": [
      "RMSE(mean) : 0.8767155795156217\n",
      "MAE(mean) :  0.6766226836114304\n"
     ]
    }
   ],
   "source": [
    "print(\"RMSE(mean) :\", cv_result['test_rmse'].mean())\n",
    "print(\"MAE(mean) : \", cv_result['test_mae'].mean())"
   ]
  },
  {
   "cell_type": "markdown",
   "id": "caeaf22d-81ea-41a5-8054-1d1f7108f4b5",
   "metadata": {},
   "source": [
    "- GridSearch(RandomizedSearch)"
   ]
  },
  {
   "cell_type": "code",
   "execution_count": 24,
   "id": "1ece6e3a-5344-4d63-b896-aa2c133a809b",
   "metadata": {},
   "outputs": [],
   "source": [
    "params = {\n",
    "    'bsl_options': {\n",
    "        \"method\" : ['als', 'sgd'], # 알고리즘\n",
    "        \"n_epochs\" : [10, 20], # 에포크\n",
    "        \"reg_u\" : [10, 12], # 사용자에 대한 정규화 매개변수\n",
    "        \"reg_i\" : [15, 20] # 아이템에 대한 정규화 매개변수\n",
    "    }\n",
    "}\n",
    "\n",
    "grid = s_GridSearchCV(BaselineOnly,\n",
    "                           param_grid = params,\n",
    "                           measures = ['RMSE', 'MAE'],\n",
    "                           cv = 5, n_jobs = -1)\n",
    "\n",
    "grid.fit(data)"
   ]
  },
  {
   "cell_type": "markdown",
   "id": "08c2a551-3e55-4046-a326-7ca7b30dcb8f",
   "metadata": {},
   "source": [
    "- 지표별로 가장 우수한 모델과 파라미터, 점수 제공"
   ]
  },
  {
   "cell_type": "code",
   "execution_count": 25,
   "id": "0b8de7b8-28ad-4f75-9046-376370f091e6",
   "metadata": {},
   "outputs": [
    {
     "data": {
      "text/plain": [
       "{'rmse': <surprise.prediction_algorithms.baseline_only.BaselineOnly at 0x15411f29c60>,\n",
       " 'mae': <surprise.prediction_algorithms.baseline_only.BaselineOnly at 0x15411f29a20>}"
      ]
     },
     "execution_count": 25,
     "metadata": {},
     "output_type": "execute_result"
    }
   ],
   "source": [
    "grid.best_estimator"
   ]
  },
  {
   "cell_type": "code",
   "execution_count": 26,
   "id": "a17753bb-af33-4d64-b58a-7585a4a7bd8f",
   "metadata": {},
   "outputs": [
    {
     "data": {
      "text/plain": [
       "{'rmse': 0.8700752153107182, 'mae': 0.6687645434441856}"
      ]
     },
     "execution_count": 26,
     "metadata": {},
     "output_type": "execute_result"
    }
   ],
   "source": [
    "grid.best_score"
   ]
  },
  {
   "cell_type": "code",
   "execution_count": 27,
   "id": "4ae4994f-51b6-430e-9174-e25ebf15d182",
   "metadata": {},
   "outputs": [
    {
     "data": {
      "text/plain": [
       "{'rmse': {'bsl_options': {'method': 'sgd',\n",
       "   'n_epochs': 20,\n",
       "   'reg_u': 10,\n",
       "   'reg_i': 15}},\n",
       " 'mae': {'bsl_options': {'method': 'sgd',\n",
       "   'n_epochs': 20,\n",
       "   'reg_u': 10,\n",
       "   'reg_i': 15}}}"
      ]
     },
     "execution_count": 27,
     "metadata": {},
     "output_type": "execute_result"
    }
   ],
   "source": [
    "grid.best_params"
   ]
  },
  {
   "cell_type": "code",
   "execution_count": 28,
   "id": "324ab81b-8146-4ce6-a947-b26fe9057e7f",
   "metadata": {},
   "outputs": [],
   "source": [
    "best_est = grid.best_estimator['rmse']"
   ]
  },
  {
   "cell_type": "markdown",
   "id": "b4fd7284-f62a-40d3-8310-7f3fa62093e1",
   "metadata": {},
   "source": [
    "- 이외 다수 알고리즘 존재 (KNNBasic, SVD 등)\n",
    "    - 사용법은 베이스라인과 동일, 하이퍼파라미터만 레퍼런스를 확인하여 별개로 입력"
   ]
  },
  {
   "cell_type": "code",
   "execution_count": 29,
   "id": "65cfe010-44da-489f-8792-883439309ad2",
   "metadata": {},
   "outputs": [],
   "source": [
    "params = {\n",
    "    \"bls_options\" : {\n",
    "        \"k\" : [30, 40, 50],\n",
    "        \"min_k\" : [1, 2, 3],\n",
    "        \"method\" : [\"als\", 'sgd'],\n",
    "        \"n_epochs\" : [20, 40]\n",
    "    },\n",
    "    \"sim_options\" : {\n",
    "        \"name\" : [\"msd\", \"pearson\", \"pearson_baseline\"]\n",
    "    }\n",
    "    \n",
    "}\n",
    "\n",
    "grid = s_RandomizedSearchCV(KNNBasic,\n",
    "                           param_distributions = params,\n",
    "                           measures = ['RMSE', 'MAE'],\n",
    "                           cv = 5, n_jobs = -1)\n",
    "\n",
    "grid.fit(data)"
   ]
  },
  {
   "cell_type": "code",
   "execution_count": 30,
   "id": "b6715318-7379-4db4-b0a9-6cc8922b6bde",
   "metadata": {},
   "outputs": [
    {
     "data": {
      "text/plain": [
       "{'rmse': {'bls_options': 'method',\n",
       "  'sim_options': {'name': 'msd', 'user_based': True}},\n",
       " 'mae': {'bls_options': 'method',\n",
       "  'sim_options': {'name': 'msd', 'user_based': True}}}"
      ]
     },
     "execution_count": 30,
     "metadata": {},
     "output_type": "execute_result"
    }
   ],
   "source": [
    "grid.best_params"
   ]
  },
  {
   "cell_type": "code",
   "execution_count": 31,
   "id": "e695ad9d-e1c7-4167-9bb9-34a83c1acaca",
   "metadata": {},
   "outputs": [
    {
     "data": {
      "text/plain": [
       "{'rmse': <surprise.prediction_algorithms.knns.KNNBasic at 0x15411c82fb0>,\n",
       " 'mae': <surprise.prediction_algorithms.knns.KNNBasic at 0x15408c22440>}"
      ]
     },
     "execution_count": 31,
     "metadata": {},
     "output_type": "execute_result"
    }
   ],
   "source": [
    "grid.best_estimator"
   ]
  },
  {
   "cell_type": "code",
   "execution_count": 32,
   "id": "f3db6d52-e2e4-47d0-9c8c-577c98e86851",
   "metadata": {},
   "outputs": [
    {
     "name": "stdout",
     "output_type": "stream",
     "text": [
      "Computing the msd similarity matrix...\n",
      "Done computing similarity matrix.\n"
     ]
    },
    {
     "data": {
      "text/plain": [
       "[Prediction(uid=548, iid=1196, r_ui=3.5, est=4.119660326001586, details={'actual_k': 40, 'was_impossible': False}),\n",
       " Prediction(uid=590, iid=1252, r_ui=3.0, est=4.339040365451278, details={'actual_k': 40, 'was_impossible': False}),\n",
       " Prediction(uid=8, iid=32, r_ui=3.0, est=4.045567648098331, details={'actual_k': 40, 'was_impossible': False}),\n",
       " Prediction(uid=217, iid=2993, r_ui=3.0, est=3.594863398424905, details={'actual_k': 15, 'was_impossible': False}),\n",
       " Prediction(uid=51, iid=2613, r_ui=5.0, est=2.597772394867796, details={'actual_k': 7, 'was_impossible': False})]"
      ]
     },
     "execution_count": 32,
     "metadata": {},
     "output_type": "execute_result"
    }
   ],
   "source": [
    "estimator = grid.best_estimator['rmse']\n",
    "estimator.fit(train)\n",
    "pred = estimator.test(test)\n",
    "pred[:5]"
   ]
  },
  {
   "cell_type": "code",
   "execution_count": 33,
   "id": "9b14aa20-b678-4411-9ea7-16a1c8494ee2",
   "metadata": {},
   "outputs": [
    {
     "data": {
      "text/plain": [
       "Prediction(uid=603, iid=3996, r_ui=None, est=4.087228116331484, details={'actual_k': 40, 'was_impossible': False})"
      ]
     },
     "execution_count": 33,
     "metadata": {},
     "output_type": "execute_result"
    }
   ],
   "source": [
    "estimator.predict(uid = 603, iid = 3996)"
   ]
  },
  {
   "cell_type": "markdown",
   "id": "4234b8a7-ef92-4ebd-abb2-999a4060e33b",
   "metadata": {},
   "source": [
    "- SVD (행렬분해 기반 잠재요인 협업 필터링)\n",
    "    - 개선된 버전 : SVDpp"
   ]
  },
  {
   "cell_type": "code",
   "execution_count": 34,
   "id": "cbb7cd94-ce5e-4202-8d85-4f6826514ef1",
   "metadata": {},
   "outputs": [],
   "source": [
    "from surprise import SVD, SVDpp"
   ]
  },
  {
   "cell_type": "code",
   "execution_count": 35,
   "id": "51a20a15-4c2e-48db-887c-e41f546c88fd",
   "metadata": {},
   "outputs": [],
   "source": [
    "params = {\n",
    "    \"n_epochs\" : [20, 40, 50],\n",
    "    \"n_factors\" : [100, 200, 300] # 요인 수\n",
    "}\n",
    "\n",
    "grid = s_GridSearchCV(SVD,\n",
    "                           param_grid = params,\n",
    "                           measures = ['RMSE', 'MAE'],\n",
    "                           cv = 5, n_jobs = -1)\n",
    "\n",
    "grid.fit(data)"
   ]
  },
  {
   "cell_type": "code",
   "execution_count": 36,
   "id": "cbbeef89-a59d-40e1-b2c6-fcb2ede2c146",
   "metadata": {},
   "outputs": [
    {
     "data": {
      "text/plain": [
       "[{'n_epochs': 20, 'n_factors': 100},\n",
       " {'n_epochs': 20, 'n_factors': 200},\n",
       " {'n_epochs': 20, 'n_factors': 300},\n",
       " {'n_epochs': 40, 'n_factors': 100},\n",
       " {'n_epochs': 40, 'n_factors': 200},\n",
       " {'n_epochs': 40, 'n_factors': 300},\n",
       " {'n_epochs': 50, 'n_factors': 100},\n",
       " {'n_epochs': 50, 'n_factors': 200},\n",
       " {'n_epochs': 50, 'n_factors': 300}]"
      ]
     },
     "execution_count": 36,
     "metadata": {},
     "output_type": "execute_result"
    }
   ],
   "source": [
    "grid.cv_results['params']"
   ]
  },
  {
   "cell_type": "code",
   "execution_count": 37,
   "id": "c0319839-c92a-4641-ad8e-6afdce2f2a99",
   "metadata": {},
   "outputs": [
    {
     "data": {
      "text/html": [
       "<div>\n",
       "<style scoped>\n",
       "    .dataframe tbody tr th:only-of-type {\n",
       "        vertical-align: middle;\n",
       "    }\n",
       "\n",
       "    .dataframe tbody tr th {\n",
       "        vertical-align: top;\n",
       "    }\n",
       "\n",
       "    .dataframe thead th {\n",
       "        text-align: right;\n",
       "    }\n",
       "</style>\n",
       "<table border=\"1\" class=\"dataframe\">\n",
       "  <thead>\n",
       "    <tr style=\"text-align: right;\">\n",
       "      <th></th>\n",
       "      <th>split0_test_rmse</th>\n",
       "      <th>split1_test_rmse</th>\n",
       "      <th>split2_test_rmse</th>\n",
       "      <th>split3_test_rmse</th>\n",
       "      <th>split4_test_rmse</th>\n",
       "      <th>mean_test_rmse</th>\n",
       "      <th>std_test_rmse</th>\n",
       "      <th>rank_test_rmse</th>\n",
       "      <th>split0_test_mae</th>\n",
       "      <th>split1_test_mae</th>\n",
       "      <th>...</th>\n",
       "      <th>mean_test_mae</th>\n",
       "      <th>std_test_mae</th>\n",
       "      <th>rank_test_mae</th>\n",
       "      <th>mean_fit_time</th>\n",
       "      <th>std_fit_time</th>\n",
       "      <th>mean_test_time</th>\n",
       "      <th>std_test_time</th>\n",
       "      <th>params</th>\n",
       "      <th>param_n_epochs</th>\n",
       "      <th>param_n_factors</th>\n",
       "    </tr>\n",
       "  </thead>\n",
       "  <tbody>\n",
       "    <tr>\n",
       "      <th>0</th>\n",
       "      <td>0.881357</td>\n",
       "      <td>0.871515</td>\n",
       "      <td>0.876339</td>\n",
       "      <td>0.873076</td>\n",
       "      <td>0.870639</td>\n",
       "      <td>0.874585</td>\n",
       "      <td>0.003904</td>\n",
       "      <td>1</td>\n",
       "      <td>0.677376</td>\n",
       "      <td>0.672051</td>\n",
       "      <td>...</td>\n",
       "      <td>0.672173</td>\n",
       "      <td>0.003851</td>\n",
       "      <td>1</td>\n",
       "      <td>0.568023</td>\n",
       "      <td>0.033848</td>\n",
       "      <td>0.121310</td>\n",
       "      <td>0.004669</td>\n",
       "      <td>{'n_epochs': 20, 'n_factors': 100}</td>\n",
       "      <td>20</td>\n",
       "      <td>100</td>\n",
       "    </tr>\n",
       "    <tr>\n",
       "      <th>1</th>\n",
       "      <td>0.885728</td>\n",
       "      <td>0.875037</td>\n",
       "      <td>0.880173</td>\n",
       "      <td>0.882694</td>\n",
       "      <td>0.874257</td>\n",
       "      <td>0.879578</td>\n",
       "      <td>0.004401</td>\n",
       "      <td>5</td>\n",
       "      <td>0.681299</td>\n",
       "      <td>0.674365</td>\n",
       "      <td>...</td>\n",
       "      <td>0.676112</td>\n",
       "      <td>0.004387</td>\n",
       "      <td>6</td>\n",
       "      <td>1.364814</td>\n",
       "      <td>0.081925</td>\n",
       "      <td>0.175461</td>\n",
       "      <td>0.041455</td>\n",
       "      <td>{'n_epochs': 20, 'n_factors': 200}</td>\n",
       "      <td>20</td>\n",
       "      <td>200</td>\n",
       "    </tr>\n",
       "    <tr>\n",
       "      <th>2</th>\n",
       "      <td>0.893582</td>\n",
       "      <td>0.880227</td>\n",
       "      <td>0.889486</td>\n",
       "      <td>0.880869</td>\n",
       "      <td>0.879791</td>\n",
       "      <td>0.884791</td>\n",
       "      <td>0.005666</td>\n",
       "      <td>9</td>\n",
       "      <td>0.688865</td>\n",
       "      <td>0.677762</td>\n",
       "      <td>...</td>\n",
       "      <td>0.681201</td>\n",
       "      <td>0.005442</td>\n",
       "      <td>9</td>\n",
       "      <td>2.171156</td>\n",
       "      <td>0.092340</td>\n",
       "      <td>0.223806</td>\n",
       "      <td>0.037220</td>\n",
       "      <td>{'n_epochs': 20, 'n_factors': 300}</td>\n",
       "      <td>20</td>\n",
       "      <td>300</td>\n",
       "    </tr>\n",
       "    <tr>\n",
       "      <th>3</th>\n",
       "      <td>0.884210</td>\n",
       "      <td>0.879142</td>\n",
       "      <td>0.882687</td>\n",
       "      <td>0.881844</td>\n",
       "      <td>0.874413</td>\n",
       "      <td>0.880459</td>\n",
       "      <td>0.003442</td>\n",
       "      <td>6</td>\n",
       "      <td>0.678983</td>\n",
       "      <td>0.674280</td>\n",
       "      <td>...</td>\n",
       "      <td>0.675694</td>\n",
       "      <td>0.003509</td>\n",
       "      <td>5</td>\n",
       "      <td>1.854194</td>\n",
       "      <td>0.126378</td>\n",
       "      <td>0.200383</td>\n",
       "      <td>0.018836</td>\n",
       "      <td>{'n_epochs': 40, 'n_factors': 100}</td>\n",
       "      <td>40</td>\n",
       "      <td>100</td>\n",
       "    </tr>\n",
       "    <tr>\n",
       "      <th>4</th>\n",
       "      <td>0.887433</td>\n",
       "      <td>0.873643</td>\n",
       "      <td>0.879723</td>\n",
       "      <td>0.879405</td>\n",
       "      <td>0.873064</td>\n",
       "      <td>0.878653</td>\n",
       "      <td>0.005199</td>\n",
       "      <td>3</td>\n",
       "      <td>0.681568</td>\n",
       "      <td>0.672918</td>\n",
       "      <td>...</td>\n",
       "      <td>0.675308</td>\n",
       "      <td>0.004123</td>\n",
       "      <td>4</td>\n",
       "      <td>3.130769</td>\n",
       "      <td>0.099068</td>\n",
       "      <td>0.155843</td>\n",
       "      <td>0.031294</td>\n",
       "      <td>{'n_epochs': 40, 'n_factors': 200}</td>\n",
       "      <td>40</td>\n",
       "      <td>200</td>\n",
       "    </tr>\n",
       "  </tbody>\n",
       "</table>\n",
       "<p>5 rows × 23 columns</p>\n",
       "</div>"
      ],
      "text/plain": [
       "   split0_test_rmse  split1_test_rmse  split2_test_rmse  split3_test_rmse  \\\n",
       "0          0.881357          0.871515          0.876339          0.873076   \n",
       "1          0.885728          0.875037          0.880173          0.882694   \n",
       "2          0.893582          0.880227          0.889486          0.880869   \n",
       "3          0.884210          0.879142          0.882687          0.881844   \n",
       "4          0.887433          0.873643          0.879723          0.879405   \n",
       "\n",
       "   split4_test_rmse  mean_test_rmse  std_test_rmse  rank_test_rmse  \\\n",
       "0          0.870639        0.874585       0.003904               1   \n",
       "1          0.874257        0.879578       0.004401               5   \n",
       "2          0.879791        0.884791       0.005666               9   \n",
       "3          0.874413        0.880459       0.003442               6   \n",
       "4          0.873064        0.878653       0.005199               3   \n",
       "\n",
       "   split0_test_mae  split1_test_mae  ...  mean_test_mae  std_test_mae  \\\n",
       "0         0.677376         0.672051  ...       0.672173      0.003851   \n",
       "1         0.681299         0.674365  ...       0.676112      0.004387   \n",
       "2         0.688865         0.677762  ...       0.681201      0.005442   \n",
       "3         0.678983         0.674280  ...       0.675694      0.003509   \n",
       "4         0.681568         0.672918  ...       0.675308      0.004123   \n",
       "\n",
       "   rank_test_mae  mean_fit_time  std_fit_time  mean_test_time  std_test_time  \\\n",
       "0              1       0.568023      0.033848        0.121310       0.004669   \n",
       "1              6       1.364814      0.081925        0.175461       0.041455   \n",
       "2              9       2.171156      0.092340        0.223806       0.037220   \n",
       "3              5       1.854194      0.126378        0.200383       0.018836   \n",
       "4              4       3.130769      0.099068        0.155843       0.031294   \n",
       "\n",
       "                               params  param_n_epochs  param_n_factors  \n",
       "0  {'n_epochs': 20, 'n_factors': 100}              20              100  \n",
       "1  {'n_epochs': 20, 'n_factors': 200}              20              200  \n",
       "2  {'n_epochs': 20, 'n_factors': 300}              20              300  \n",
       "3  {'n_epochs': 40, 'n_factors': 100}              40              100  \n",
       "4  {'n_epochs': 40, 'n_factors': 200}              40              200  \n",
       "\n",
       "[5 rows x 23 columns]"
      ]
     },
     "execution_count": 37,
     "metadata": {},
     "output_type": "execute_result"
    }
   ],
   "source": [
    "pd.DataFrame(grid.cv_results).head()"
   ]
  },
  {
   "cell_type": "code",
   "execution_count": 38,
   "id": "19cc71c5-81aa-4098-a89e-6a9c0832bb1c",
   "metadata": {},
   "outputs": [
    {
     "data": {
      "text/plain": [
       "[Prediction(uid=548, iid=1196, r_ui=3.5, est=4.399761500431599, details={'was_impossible': False}),\n",
       " Prediction(uid=590, iid=1252, r_ui=3.0, est=3.996613711512641, details={'was_impossible': False}),\n",
       " Prediction(uid=8, iid=32, r_ui=3.0, est=3.8912654751169495, details={'was_impossible': False}),\n",
       " Prediction(uid=217, iid=2993, r_ui=3.0, est=3.062041650957773, details={'was_impossible': False}),\n",
       " Prediction(uid=51, iid=2613, r_ui=5.0, est=3.6097223759482078, details={'was_impossible': False})]"
      ]
     },
     "execution_count": 38,
     "metadata": {},
     "output_type": "execute_result"
    }
   ],
   "source": [
    "estimator = grid.best_estimator['rmse']\n",
    "estimator.fit(train)\n",
    "pred = estimator.test(test)\n",
    "pred[:5]"
   ]
  },
  {
   "cell_type": "code",
   "execution_count": 43,
   "id": "483604af-d9ab-4761-948f-900638578dd2",
   "metadata": {},
   "outputs": [
    {
     "name": "stdout",
     "output_type": "stream",
     "text": [
      "<class 'pandas.core.frame.DataFrame'>\n",
      "RangeIndex: 9742 entries, 0 to 9741\n",
      "Data columns (total 3 columns):\n",
      " #   Column   Non-Null Count  Dtype \n",
      "---  ------   --------------  ----- \n",
      " 0   movieId  9742 non-null   int64 \n",
      " 1   title    9742 non-null   object\n",
      " 2   genres   9742 non-null   object\n",
      "dtypes: int64(1), object(2)\n",
      "memory usage: 228.5+ KB\n"
     ]
    }
   ],
   "source": [
    "movies.info()"
   ]
  },
  {
   "cell_type": "markdown",
   "id": "66d110ed-c664-40d5-992c-3588649e8d5f",
   "metadata": {},
   "source": [
    "- 데이터 재학습"
   ]
  },
  {
   "cell_type": "code",
   "execution_count": 44,
   "id": "0fd888fc-5324-4285-bc72-9027126660b0",
   "metadata": {},
   "outputs": [
    {
     "data": {
      "text/plain": [
       "<surprise.prediction_algorithms.matrix_factorization.SVD at 0x154116b3220>"
      ]
     },
     "execution_count": 44,
     "metadata": {},
     "output_type": "execute_result"
    }
   ],
   "source": [
    "train = data.build_full_trainset()\n",
    "estimator.fit(train)"
   ]
  },
  {
   "cell_type": "markdown",
   "id": "56ac6dd1-80c0-4569-a3c7-55b4e1935bca",
   "metadata": {},
   "source": [
    "- 9번 사용자가 본 영화"
   ]
  },
  {
   "cell_type": "code",
   "execution_count": 52,
   "id": "5aa2c8f8-3467-43d7-b0fa-438fc8450299",
   "metadata": {},
   "outputs": [
    {
     "name": "stdout",
     "output_type": "stream",
     "text": [
      "[41, 187, 223, 371, 627, 922, 923, 1037, 1095, 1198, 1270, 1674, 1987, 2011, 2012, 2023, 2300, 2877, 2901, 3173, 3328, 3735, 4131, 4558, 4993, 5218, 5378, 5445, 5447, 5451, 5481, 5507, 5841, 5843, 5872, 5890, 5891, 5893, 5902, 5952, 5956, 5962, 5965, 5988, 6001, 6044]\n",
      "9번 사용자가 본 영화 수 : 46\n"
     ]
    }
   ],
   "source": [
    "seen_movies = origin1[origin1['userId'] == 9] ['movieId'].tolist()\n",
    "print(seen_movies)\n",
    "print(f\"9번 사용자가 본 영화 수 : {len(seen_movies)}\")"
   ]
  },
  {
   "cell_type": "markdown",
   "id": "ab942011-dac1-474b-a318-7dd1a6f8e117",
   "metadata": {},
   "source": [
    "- 9번 사용자가 보지 않은 영화들 (추천 대상)"
   ]
  },
  {
   "cell_type": "code",
   "execution_count": 47,
   "id": "5d162b5c-2413-46f9-9aa4-5913d380879d",
   "metadata": {},
   "outputs": [
    {
     "data": {
      "text/html": [
       "<div>\n",
       "<style scoped>\n",
       "    .dataframe tbody tr th:only-of-type {\n",
       "        vertical-align: middle;\n",
       "    }\n",
       "\n",
       "    .dataframe tbody tr th {\n",
       "        vertical-align: top;\n",
       "    }\n",
       "\n",
       "    .dataframe thead th {\n",
       "        text-align: right;\n",
       "    }\n",
       "</style>\n",
       "<table border=\"1\" class=\"dataframe\">\n",
       "  <thead>\n",
       "    <tr style=\"text-align: right;\">\n",
       "      <th></th>\n",
       "      <th>movieId</th>\n",
       "      <th>title</th>\n",
       "      <th>genres</th>\n",
       "    </tr>\n",
       "  </thead>\n",
       "  <tbody>\n",
       "    <tr>\n",
       "      <th>37</th>\n",
       "      <td>41</td>\n",
       "      <td>Richard III (1995)</td>\n",
       "      <td>Drama|War</td>\n",
       "    </tr>\n",
       "    <tr>\n",
       "      <th>158</th>\n",
       "      <td>187</td>\n",
       "      <td>Party Girl (1995)</td>\n",
       "      <td>Comedy</td>\n",
       "    </tr>\n",
       "    <tr>\n",
       "      <th>190</th>\n",
       "      <td>223</td>\n",
       "      <td>Clerks (1994)</td>\n",
       "      <td>Comedy</td>\n",
       "    </tr>\n",
       "    <tr>\n",
       "      <th>329</th>\n",
       "      <td>371</td>\n",
       "      <td>Paper, The (1994)</td>\n",
       "      <td>Comedy|Drama</td>\n",
       "    </tr>\n",
       "    <tr>\n",
       "      <th>532</th>\n",
       "      <td>627</td>\n",
       "      <td>Last Supper, The (1995)</td>\n",
       "      <td>Drama|Thriller</td>\n",
       "    </tr>\n",
       "  </tbody>\n",
       "</table>\n",
       "</div>"
      ],
      "text/plain": [
       "     movieId                    title          genres\n",
       "37        41       Richard III (1995)       Drama|War\n",
       "158      187        Party Girl (1995)          Comedy\n",
       "190      223            Clerks (1994)          Comedy\n",
       "329      371        Paper, The (1994)    Comedy|Drama\n",
       "532      627  Last Supper, The (1995)  Drama|Thriller"
      ]
     },
     "execution_count": 47,
     "metadata": {},
     "output_type": "execute_result"
    }
   ],
   "source": [
    "unseen_movies = movies[movies['movieId'].isin(seen_movies)]\n",
    "unseen_movies.head()"
   ]
  },
  {
   "cell_type": "markdown",
   "id": "e43ab000-0296-46a1-965e-f17ce9ad9e52",
   "metadata": {},
   "source": [
    "- 예상평점"
   ]
  },
  {
   "cell_type": "code",
   "execution_count": 60,
   "id": "6529fb98-a6be-4e2e-b6f9-42ee360857bf",
   "metadata": {
    "scrolled": true
   },
   "outputs": [
    {
     "data": {
      "text/html": [
       "<div>\n",
       "<style scoped>\n",
       "    .dataframe tbody tr th:only-of-type {\n",
       "        vertical-align: middle;\n",
       "    }\n",
       "\n",
       "    .dataframe tbody tr th {\n",
       "        vertical-align: top;\n",
       "    }\n",
       "\n",
       "    .dataframe thead th {\n",
       "        text-align: right;\n",
       "    }\n",
       "</style>\n",
       "<table border=\"1\" class=\"dataframe\">\n",
       "  <thead>\n",
       "    <tr style=\"text-align: right;\">\n",
       "      <th></th>\n",
       "      <th>movieId</th>\n",
       "      <th>title</th>\n",
       "      <th>genres</th>\n",
       "      <th>ratings</th>\n",
       "    </tr>\n",
       "  </thead>\n",
       "  <tbody>\n",
       "    <tr>\n",
       "      <th>37</th>\n",
       "      <td>41</td>\n",
       "      <td>Richard III (1995)</td>\n",
       "      <td>Drama|War</td>\n",
       "      <td>3.337392</td>\n",
       "    </tr>\n",
       "    <tr>\n",
       "      <th>158</th>\n",
       "      <td>187</td>\n",
       "      <td>Party Girl (1995)</td>\n",
       "      <td>Comedy</td>\n",
       "      <td>3.336210</td>\n",
       "    </tr>\n",
       "    <tr>\n",
       "      <th>190</th>\n",
       "      <td>223</td>\n",
       "      <td>Clerks (1994)</td>\n",
       "      <td>Comedy</td>\n",
       "      <td>3.810576</td>\n",
       "    </tr>\n",
       "    <tr>\n",
       "      <th>329</th>\n",
       "      <td>371</td>\n",
       "      <td>Paper, The (1994)</td>\n",
       "      <td>Comedy|Drama</td>\n",
       "      <td>2.986796</td>\n",
       "    </tr>\n",
       "    <tr>\n",
       "      <th>532</th>\n",
       "      <td>627</td>\n",
       "      <td>Last Supper, The (1995)</td>\n",
       "      <td>Drama|Thriller</td>\n",
       "      <td>3.276176</td>\n",
       "    </tr>\n",
       "  </tbody>\n",
       "</table>\n",
       "</div>"
      ],
      "text/plain": [
       "     movieId                    title          genres   ratings\n",
       "37        41       Richard III (1995)       Drama|War  3.337392\n",
       "158      187        Party Girl (1995)          Comedy  3.336210\n",
       "190      223            Clerks (1994)          Comedy  3.810576\n",
       "329      371        Paper, The (1994)    Comedy|Drama  2.986796\n",
       "532      627  Last Supper, The (1995)  Drama|Thriller  3.276176"
      ]
     },
     "execution_count": 60,
     "metadata": {},
     "output_type": "execute_result"
    }
   ],
   "source": [
    "unseen_movies['ratings'] = unseen_movies['movieId'].apply(lambda x : estimator.predict(uid = 9, iid = x).est)\n",
    "unseen_movies.head()"
   ]
  },
  {
   "cell_type": "code",
   "execution_count": 61,
   "id": "1bff1cfb-18c6-4886-acdd-eed9554e9cee",
   "metadata": {},
   "outputs": [
    {
     "data": {
      "text/html": [
       "<div>\n",
       "<style scoped>\n",
       "    .dataframe tbody tr th:only-of-type {\n",
       "        vertical-align: middle;\n",
       "    }\n",
       "\n",
       "    .dataframe tbody tr th {\n",
       "        vertical-align: top;\n",
       "    }\n",
       "\n",
       "    .dataframe thead th {\n",
       "        text-align: right;\n",
       "    }\n",
       "</style>\n",
       "<table border=\"1\" class=\"dataframe\">\n",
       "  <thead>\n",
       "    <tr style=\"text-align: right;\">\n",
       "      <th></th>\n",
       "      <th>movieId</th>\n",
       "      <th>title</th>\n",
       "      <th>genres</th>\n",
       "      <th>ratings</th>\n",
       "    </tr>\n",
       "  </thead>\n",
       "  <tbody>\n",
       "    <tr>\n",
       "      <th>900</th>\n",
       "      <td>1198</td>\n",
       "      <td>Raiders of the Lost Ark (Indiana Jones and the...</td>\n",
       "      <td>Action|Adventure</td>\n",
       "      <td>4.368629</td>\n",
       "    </tr>\n",
       "    <tr>\n",
       "      <th>4117</th>\n",
       "      <td>5902</td>\n",
       "      <td>Adaptation (2002)</td>\n",
       "      <td>Comedy|Drama|Romance</td>\n",
       "      <td>4.181557</td>\n",
       "    </tr>\n",
       "    <tr>\n",
       "      <th>3638</th>\n",
       "      <td>4993</td>\n",
       "      <td>Lord of the Rings: The Fellowship of the Ring,...</td>\n",
       "      <td>Adventure|Fantasy</td>\n",
       "      <td>4.156005</td>\n",
       "    </tr>\n",
       "    <tr>\n",
       "      <th>4137</th>\n",
       "      <td>5952</td>\n",
       "      <td>Lord of the Rings: The Two Towers, The (2002)</td>\n",
       "      <td>Adventure|Fantasy</td>\n",
       "      <td>4.146906</td>\n",
       "    </tr>\n",
       "    <tr>\n",
       "      <th>1711</th>\n",
       "      <td>2300</td>\n",
       "      <td>Producers, The (1968)</td>\n",
       "      <td>Comedy</td>\n",
       "      <td>4.137724</td>\n",
       "    </tr>\n",
       "    <tr>\n",
       "      <th>705</th>\n",
       "      <td>923</td>\n",
       "      <td>Citizen Kane (1941)</td>\n",
       "      <td>Drama|Mystery</td>\n",
       "      <td>4.116583</td>\n",
       "    </tr>\n",
       "    <tr>\n",
       "      <th>704</th>\n",
       "      <td>922</td>\n",
       "      <td>Sunset Blvd. (a.k.a. Sunset Boulevard) (1950)</td>\n",
       "      <td>Drama|Film-Noir|Romance</td>\n",
       "      <td>4.053415</td>\n",
       "    </tr>\n",
       "    <tr>\n",
       "      <th>969</th>\n",
       "      <td>1270</td>\n",
       "      <td>Back to the Future (1985)</td>\n",
       "      <td>Adventure|Comedy|Sci-Fi</td>\n",
       "      <td>4.007553</td>\n",
       "    </tr>\n",
       "    <tr>\n",
       "      <th>190</th>\n",
       "      <td>223</td>\n",
       "      <td>Clerks (1994)</td>\n",
       "      <td>Comedy</td>\n",
       "      <td>3.810576</td>\n",
       "    </tr>\n",
       "    <tr>\n",
       "      <th>2494</th>\n",
       "      <td>3328</td>\n",
       "      <td>Ghost Dog: The Way of the Samurai (1999)</td>\n",
       "      <td>Crime|Drama</td>\n",
       "      <td>3.787963</td>\n",
       "    </tr>\n",
       "  </tbody>\n",
       "</table>\n",
       "</div>"
      ],
      "text/plain": [
       "      movieId                                              title  \\\n",
       "900      1198  Raiders of the Lost Ark (Indiana Jones and the...   \n",
       "4117     5902                                  Adaptation (2002)   \n",
       "3638     4993  Lord of the Rings: The Fellowship of the Ring,...   \n",
       "4137     5952      Lord of the Rings: The Two Towers, The (2002)   \n",
       "1711     2300                              Producers, The (1968)   \n",
       "705       923                                Citizen Kane (1941)   \n",
       "704       922      Sunset Blvd. (a.k.a. Sunset Boulevard) (1950)   \n",
       "969      1270                          Back to the Future (1985)   \n",
       "190       223                                      Clerks (1994)   \n",
       "2494     3328           Ghost Dog: The Way of the Samurai (1999)   \n",
       "\n",
       "                       genres   ratings  \n",
       "900          Action|Adventure  4.368629  \n",
       "4117     Comedy|Drama|Romance  4.181557  \n",
       "3638        Adventure|Fantasy  4.156005  \n",
       "4137        Adventure|Fantasy  4.146906  \n",
       "1711                   Comedy  4.137724  \n",
       "705             Drama|Mystery  4.116583  \n",
       "704   Drama|Film-Noir|Romance  4.053415  \n",
       "969   Adventure|Comedy|Sci-Fi  4.007553  \n",
       "190                    Comedy  3.810576  \n",
       "2494              Crime|Drama  3.787963  "
      ]
     },
     "execution_count": 61,
     "metadata": {},
     "output_type": "execute_result"
    }
   ],
   "source": [
    "unseen_movies.sort_values('ratings', ascending=False).head(10)"
   ]
  },
  {
   "cell_type": "markdown",
   "id": "8c756cdc-54bb-4618-ae1d-3b36d2a066f8",
   "metadata": {},
   "source": [
    "- 신규 회원은 예측 불가"
   ]
  },
  {
   "cell_type": "code",
   "execution_count": null,
   "id": "f80a6178-77d3-4300-9a47-c014243959d4",
   "metadata": {},
   "outputs": [],
   "source": []
  },
  {
   "cell_type": "code",
   "execution_count": null,
   "id": "abab862d-518d-461c-99c4-4c691b3fe9c8",
   "metadata": {},
   "outputs": [],
   "source": []
  }
 ],
 "metadata": {
  "kernelspec": {
   "display_name": "Python 3 (ipykernel)",
   "language": "python",
   "name": "python3"
  },
  "language_info": {
   "codemirror_mode": {
    "name": "ipython",
    "version": 3
   },
   "file_extension": ".py",
   "mimetype": "text/x-python",
   "name": "python",
   "nbconvert_exporter": "python",
   "pygments_lexer": "ipython3",
   "version": "3.10.9"
  }
 },
 "nbformat": 4,
 "nbformat_minor": 5
}
