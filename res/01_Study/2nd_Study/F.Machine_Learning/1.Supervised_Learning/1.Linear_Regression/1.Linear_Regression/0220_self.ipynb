{
 "cells": [
  {
   "cell_type": "code",
   "execution_count": 1,
   "metadata": {},
   "outputs": [],
   "source": [
    "import sys\n",
    "import os\n",
    "work_path = os.path.abspath(os.path.join(os.getcwd(), \"../../..\"))\n",
    "sys.path.append(work_path)\n",
    "\n",
    "import numpy as np\n",
    "import pandas as pd\n",
    "from ljk_module.preprocessing import *"
   ]
  },
  {
   "cell_type": "code",
   "execution_count": 75,
   "metadata": {},
   "outputs": [],
   "source": [
    "df = pd.read_excel(\"./data/fish.xlsx\")\n",
    "df2 = pd.read_excel(\"./data/cars.xlsx\")"
   ]
  },
  {
   "cell_type": "code",
   "execution_count": 7,
   "metadata": {},
   "outputs": [
    {
     "data": {
      "text/html": [
       "<div>\n",
       "<style scoped>\n",
       "    .dataframe tbody tr th:only-of-type {\n",
       "        vertical-align: middle;\n",
       "    }\n",
       "\n",
       "    .dataframe tbody tr th {\n",
       "        vertical-align: top;\n",
       "    }\n",
       "\n",
       "    .dataframe thead th {\n",
       "        text-align: right;\n",
       "    }\n",
       "</style>\n",
       "<table border=\"1\" class=\"dataframe\">\n",
       "  <thead>\n",
       "    <tr style=\"text-align: right;\">\n",
       "      <th></th>\n",
       "      <th>길이</th>\n",
       "      <th>높이</th>\n",
       "      <th>두께</th>\n",
       "      <th>무게</th>\n",
       "    </tr>\n",
       "  </thead>\n",
       "  <tbody>\n",
       "    <tr>\n",
       "      <th>0</th>\n",
       "      <td>8.4</td>\n",
       "      <td>2.11</td>\n",
       "      <td>1.41</td>\n",
       "      <td>5.9</td>\n",
       "    </tr>\n",
       "    <tr>\n",
       "      <th>1</th>\n",
       "      <td>13.7</td>\n",
       "      <td>3.53</td>\n",
       "      <td>2.00</td>\n",
       "      <td>32.0</td>\n",
       "    </tr>\n",
       "    <tr>\n",
       "      <th>2</th>\n",
       "      <td>15.0</td>\n",
       "      <td>3.82</td>\n",
       "      <td>2.43</td>\n",
       "      <td>40.0</td>\n",
       "    </tr>\n",
       "    <tr>\n",
       "      <th>3</th>\n",
       "      <td>16.2</td>\n",
       "      <td>4.59</td>\n",
       "      <td>2.63</td>\n",
       "      <td>51.5</td>\n",
       "    </tr>\n",
       "    <tr>\n",
       "      <th>4</th>\n",
       "      <td>17.4</td>\n",
       "      <td>4.59</td>\n",
       "      <td>2.94</td>\n",
       "      <td>70.0</td>\n",
       "    </tr>\n",
       "  </tbody>\n",
       "</table>\n",
       "</div>"
      ],
      "text/plain": [
       "     길이    높이    두께    무게\n",
       "0   8.4  2.11  1.41   5.9\n",
       "1  13.7  3.53  2.00  32.0\n",
       "2  15.0  3.82  2.43  40.0\n",
       "3  16.2  4.59  2.63  51.5\n",
       "4  17.4  4.59  2.94  70.0"
      ]
     },
     "execution_count": 7,
     "metadata": {},
     "output_type": "execute_result"
    }
   ],
   "source": [
    "df.head()"
   ]
  },
  {
   "cell_type": "code",
   "execution_count": 78,
   "metadata": {},
   "outputs": [],
   "source": [
    "from sklearn.preprocessing import PolynomialFeatures, StandardScaler\n",
    "from sklearn.model_selection import train_test_split\n",
    "from sklearn.linear_model import LinearRegression, Ridge, Lasso"
   ]
  },
  {
   "cell_type": "code",
   "execution_count": 64,
   "metadata": {},
   "outputs": [],
   "source": [
    "pl = PolynomialFeatures(degree = 3, include_bias = False)\n",
    "df2 = pl.fit_transform(df.drop('무게', axis = 1))\n",
    "poly_df = pd.DataFrame(df2, columns = pl.get_feature_names_out())\n",
    "ss = StandardScaler()\n",
    "poly_df_2 = pd.DataFrame(ss.fit_transform(poly_df), columns = poly_df.columns)"
   ]
  },
  {
   "cell_type": "code",
   "execution_count": 79,
   "metadata": {},
   "outputs": [
    {
     "data": {
      "text/html": [
       "<div>\n",
       "<style scoped>\n",
       "    .dataframe tbody tr th:only-of-type {\n",
       "        vertical-align: middle;\n",
       "    }\n",
       "\n",
       "    .dataframe tbody tr th {\n",
       "        vertical-align: top;\n",
       "    }\n",
       "\n",
       "    .dataframe thead th {\n",
       "        text-align: right;\n",
       "    }\n",
       "</style>\n",
       "<table border=\"1\" class=\"dataframe\">\n",
       "  <thead>\n",
       "    <tr style=\"text-align: right;\">\n",
       "      <th></th>\n",
       "      <th>길이</th>\n",
       "      <th>높이</th>\n",
       "      <th>두께</th>\n",
       "      <th>길이^2</th>\n",
       "      <th>길이 높이</th>\n",
       "      <th>길이 두께</th>\n",
       "      <th>높이^2</th>\n",
       "      <th>높이 두께</th>\n",
       "      <th>두께^2</th>\n",
       "      <th>길이^3</th>\n",
       "      <th>길이^2 높이</th>\n",
       "      <th>길이^2 두께</th>\n",
       "      <th>길이 높이^2</th>\n",
       "      <th>길이 높이 두께</th>\n",
       "      <th>길이 두께^2</th>\n",
       "      <th>높이^3</th>\n",
       "      <th>높이^2 두께</th>\n",
       "      <th>높이 두께^2</th>\n",
       "      <th>두께^3</th>\n",
       "    </tr>\n",
       "  </thead>\n",
       "  <tbody>\n",
       "    <tr>\n",
       "      <th>0</th>\n",
       "      <td>-2.180225</td>\n",
       "      <td>-2.016507</td>\n",
       "      <td>-1.896175</td>\n",
       "      <td>-1.497943</td>\n",
       "      <td>-1.428186</td>\n",
       "      <td>-1.403939</td>\n",
       "      <td>-1.358064</td>\n",
       "      <td>-1.335908</td>\n",
       "      <td>-1.300665</td>\n",
       "      <td>-1.124139</td>\n",
       "      <td>-1.091464</td>\n",
       "      <td>-1.085538</td>\n",
       "      <td>-1.058564</td>\n",
       "      <td>-1.052965</td>\n",
       "      <td>-1.040440</td>\n",
       "      <td>-1.025463</td>\n",
       "      <td>-1.019961</td>\n",
       "      <td>-1.007577</td>\n",
       "      <td>-0.989089</td>\n",
       "    </tr>\n",
       "    <tr>\n",
       "      <th>1</th>\n",
       "      <td>-1.587434</td>\n",
       "      <td>-1.518703</td>\n",
       "      <td>-1.560774</td>\n",
       "      <td>-1.275113</td>\n",
       "      <td>-1.235186</td>\n",
       "      <td>-1.243176</td>\n",
       "      <td>-1.192006</td>\n",
       "      <td>-1.196934</td>\n",
       "      <td>-1.189907</td>\n",
       "      <td>-1.044659</td>\n",
       "      <td>-1.021938</td>\n",
       "      <td>-1.023999</td>\n",
       "      <td>-0.998045</td>\n",
       "      <td>-0.999288</td>\n",
       "      <td>-0.993930</td>\n",
       "      <td>-0.973039</td>\n",
       "      <td>-0.973388</td>\n",
       "      <td>-0.967142</td>\n",
       "      <td>-0.954907</td>\n",
       "    </tr>\n",
       "    <tr>\n",
       "      <th>2</th>\n",
       "      <td>-1.442032</td>\n",
       "      <td>-1.417039</td>\n",
       "      <td>-1.316328</td>\n",
       "      <td>-1.204133</td>\n",
       "      <td>-1.178873</td>\n",
       "      <td>-1.149649</td>\n",
       "      <td>-1.147811</td>\n",
       "      <td>-1.121318</td>\n",
       "      <td>-1.085040</td>\n",
       "      <td>-1.012378</td>\n",
       "      <td>-0.995280</td>\n",
       "      <td>-0.985773</td>\n",
       "      <td>-0.976177</td>\n",
       "      <td>-0.967472</td>\n",
       "      <td>-0.952701</td>\n",
       "      <td>-0.955223</td>\n",
       "      <td>-0.947064</td>\n",
       "      <td>-0.932772</td>\n",
       "      <td>-0.913146</td>\n",
       "    </tr>\n",
       "    <tr>\n",
       "      <th>3</th>\n",
       "      <td>-1.307815</td>\n",
       "      <td>-1.147103</td>\n",
       "      <td>-1.202633</td>\n",
       "      <td>-1.132907</td>\n",
       "      <td>-1.071415</td>\n",
       "      <td>-1.086030</td>\n",
       "      <td>-1.013541</td>\n",
       "      <td>-1.026429</td>\n",
       "      <td>-1.029328</td>\n",
       "      <td>-0.977169</td>\n",
       "      <td>-0.948571</td>\n",
       "      <td>-0.953772</td>\n",
       "      <td>-0.920605</td>\n",
       "      <td>-0.925326</td>\n",
       "      <td>-0.924038</td>\n",
       "      <td>-0.893151</td>\n",
       "      <td>-0.897231</td>\n",
       "      <td>-0.895324</td>\n",
       "      <td>-0.887871</td>\n",
       "    </tr>\n",
       "    <tr>\n",
       "      <th>4</th>\n",
       "      <td>-1.173599</td>\n",
       "      <td>-1.147103</td>\n",
       "      <td>-1.026405</td>\n",
       "      <td>-1.056201</td>\n",
       "      <td>-1.036717</td>\n",
       "      <td>-0.997670</td>\n",
       "      <td>-1.013541</td>\n",
       "      <td>-0.978020</td>\n",
       "      <td>-0.934271</td>\n",
       "      <td>-0.936337</td>\n",
       "      <td>-0.923521</td>\n",
       "      <td>-0.909183</td>\n",
       "      <td>-0.909129</td>\n",
       "      <td>-0.895959</td>\n",
       "      <td>-0.877229</td>\n",
       "      <td>-0.893151</td>\n",
       "      <td>-0.880916</td>\n",
       "      <td>-0.863036</td>\n",
       "      <td>-0.840375</td>\n",
       "    </tr>\n",
       "  </tbody>\n",
       "</table>\n",
       "</div>"
      ],
      "text/plain": [
       "         길이        높이        두께      길이^2     길이 높이     길이 두께      높이^2  \\\n",
       "0 -2.180225 -2.016507 -1.896175 -1.497943 -1.428186 -1.403939 -1.358064   \n",
       "1 -1.587434 -1.518703 -1.560774 -1.275113 -1.235186 -1.243176 -1.192006   \n",
       "2 -1.442032 -1.417039 -1.316328 -1.204133 -1.178873 -1.149649 -1.147811   \n",
       "3 -1.307815 -1.147103 -1.202633 -1.132907 -1.071415 -1.086030 -1.013541   \n",
       "4 -1.173599 -1.147103 -1.026405 -1.056201 -1.036717 -0.997670 -1.013541   \n",
       "\n",
       "      높이 두께      두께^2      길이^3   길이^2 높이   길이^2 두께   길이 높이^2  길이 높이 두께  \\\n",
       "0 -1.335908 -1.300665 -1.124139 -1.091464 -1.085538 -1.058564 -1.052965   \n",
       "1 -1.196934 -1.189907 -1.044659 -1.021938 -1.023999 -0.998045 -0.999288   \n",
       "2 -1.121318 -1.085040 -1.012378 -0.995280 -0.985773 -0.976177 -0.967472   \n",
       "3 -1.026429 -1.029328 -0.977169 -0.948571 -0.953772 -0.920605 -0.925326   \n",
       "4 -0.978020 -0.934271 -0.936337 -0.923521 -0.909183 -0.909129 -0.895959   \n",
       "\n",
       "    길이 두께^2      높이^3   높이^2 두께   높이 두께^2      두께^3  \n",
       "0 -1.040440 -1.025463 -1.019961 -1.007577 -0.989089  \n",
       "1 -0.993930 -0.973039 -0.973388 -0.967142 -0.954907  \n",
       "2 -0.952701 -0.955223 -0.947064 -0.932772 -0.913146  \n",
       "3 -0.924038 -0.893151 -0.897231 -0.895324 -0.887871  \n",
       "4 -0.877229 -0.893151 -0.880916 -0.863036 -0.840375  "
      ]
     },
     "execution_count": 79,
     "metadata": {},
     "output_type": "execute_result"
    }
   ],
   "source": [
    "poly_df_2.head()"
   ]
  },
  {
   "cell_type": "code",
   "execution_count": 81,
   "metadata": {},
   "outputs": [],
   "source": [
    "x_train, x_test, y_train, y_test = train_test_split(poly_df_2, df['무게'], test_size = 0.25, random_state = 0)"
   ]
  },
  {
   "cell_type": "code",
   "execution_count": 80,
   "metadata": {},
   "outputs": [],
   "source": [
    "lr = LinearRegression()\n",
    "rg = Ridge()\n",
    "la = Lasso()"
   ]
  },
  {
   "cell_type": "code",
   "execution_count": 82,
   "metadata": {},
   "outputs": [
    {
     "data": {
      "text/html": [
       "<style>#sk-container-id-9 {color: black;background-color: white;}#sk-container-id-9 pre{padding: 0;}#sk-container-id-9 div.sk-toggleable {background-color: white;}#sk-container-id-9 label.sk-toggleable__label {cursor: pointer;display: block;width: 100%;margin-bottom: 0;padding: 0.3em;box-sizing: border-box;text-align: center;}#sk-container-id-9 label.sk-toggleable__label-arrow:before {content: \"▸\";float: left;margin-right: 0.25em;color: #696969;}#sk-container-id-9 label.sk-toggleable__label-arrow:hover:before {color: black;}#sk-container-id-9 div.sk-estimator:hover label.sk-toggleable__label-arrow:before {color: black;}#sk-container-id-9 div.sk-toggleable__content {max-height: 0;max-width: 0;overflow: hidden;text-align: left;background-color: #f0f8ff;}#sk-container-id-9 div.sk-toggleable__content pre {margin: 0.2em;color: black;border-radius: 0.25em;background-color: #f0f8ff;}#sk-container-id-9 input.sk-toggleable__control:checked~div.sk-toggleable__content {max-height: 200px;max-width: 100%;overflow: auto;}#sk-container-id-9 input.sk-toggleable__control:checked~label.sk-toggleable__label-arrow:before {content: \"▾\";}#sk-container-id-9 div.sk-estimator input.sk-toggleable__control:checked~label.sk-toggleable__label {background-color: #d4ebff;}#sk-container-id-9 div.sk-label input.sk-toggleable__control:checked~label.sk-toggleable__label {background-color: #d4ebff;}#sk-container-id-9 input.sk-hidden--visually {border: 0;clip: rect(1px 1px 1px 1px);clip: rect(1px, 1px, 1px, 1px);height: 1px;margin: -1px;overflow: hidden;padding: 0;position: absolute;width: 1px;}#sk-container-id-9 div.sk-estimator {font-family: monospace;background-color: #f0f8ff;border: 1px dotted black;border-radius: 0.25em;box-sizing: border-box;margin-bottom: 0.5em;}#sk-container-id-9 div.sk-estimator:hover {background-color: #d4ebff;}#sk-container-id-9 div.sk-parallel-item::after {content: \"\";width: 100%;border-bottom: 1px solid gray;flex-grow: 1;}#sk-container-id-9 div.sk-label:hover label.sk-toggleable__label {background-color: #d4ebff;}#sk-container-id-9 div.sk-serial::before {content: \"\";position: absolute;border-left: 1px solid gray;box-sizing: border-box;top: 0;bottom: 0;left: 50%;z-index: 0;}#sk-container-id-9 div.sk-serial {display: flex;flex-direction: column;align-items: center;background-color: white;padding-right: 0.2em;padding-left: 0.2em;position: relative;}#sk-container-id-9 div.sk-item {position: relative;z-index: 1;}#sk-container-id-9 div.sk-parallel {display: flex;align-items: stretch;justify-content: center;background-color: white;position: relative;}#sk-container-id-9 div.sk-item::before, #sk-container-id-9 div.sk-parallel-item::before {content: \"\";position: absolute;border-left: 1px solid gray;box-sizing: border-box;top: 0;bottom: 0;left: 50%;z-index: -1;}#sk-container-id-9 div.sk-parallel-item {display: flex;flex-direction: column;z-index: 1;position: relative;background-color: white;}#sk-container-id-9 div.sk-parallel-item:first-child::after {align-self: flex-end;width: 50%;}#sk-container-id-9 div.sk-parallel-item:last-child::after {align-self: flex-start;width: 50%;}#sk-container-id-9 div.sk-parallel-item:only-child::after {width: 0;}#sk-container-id-9 div.sk-dashed-wrapped {border: 1px dashed gray;margin: 0 0.4em 0.5em 0.4em;box-sizing: border-box;padding-bottom: 0.4em;background-color: white;}#sk-container-id-9 div.sk-label label {font-family: monospace;font-weight: bold;display: inline-block;line-height: 1.2em;}#sk-container-id-9 div.sk-label-container {text-align: center;}#sk-container-id-9 div.sk-container {/* jupyter's `normalize.less` sets `[hidden] { display: none; }` but bootstrap.min.css set `[hidden] { display: none !important; }` so we also need the `!important` here to be able to override the default hidden behavior on the sphinx rendered scikit-learn.org. See: https://github.com/scikit-learn/scikit-learn/issues/21755 */display: inline-block !important;position: relative;}#sk-container-id-9 div.sk-text-repr-fallback {display: none;}</style><div id=\"sk-container-id-9\" class=\"sk-top-container\"><div class=\"sk-text-repr-fallback\"><pre>Lasso()</pre><b>In a Jupyter environment, please rerun this cell to show the HTML representation or trust the notebook. <br />On GitHub, the HTML representation is unable to render, please try loading this page with nbviewer.org.</b></div><div class=\"sk-container\" hidden><div class=\"sk-item\"><div class=\"sk-estimator sk-toggleable\"><input class=\"sk-toggleable__control sk-hidden--visually\" id=\"sk-estimator-id-9\" type=\"checkbox\" checked><label for=\"sk-estimator-id-9\" class=\"sk-toggleable__label sk-toggleable__label-arrow\">Lasso</label><div class=\"sk-toggleable__content\"><pre>Lasso()</pre></div></div></div></div></div>"
      ],
      "text/plain": [
       "Lasso()"
      ]
     },
     "execution_count": 82,
     "metadata": {},
     "output_type": "execute_result"
    }
   ],
   "source": [
    "lr.fit(x_train, y_train)\n",
    "rg.fit(x_train, y_train)\n",
    "la.fit(x_train, y_train)"
   ]
  },
  {
   "cell_type": "code",
   "execution_count": null,
   "metadata": {},
   "outputs": [],
   "source": []
  },
  {
   "cell_type": "code",
   "execution_count": null,
   "metadata": {},
   "outputs": [],
   "source": []
  },
  {
   "cell_type": "code",
   "execution_count": null,
   "metadata": {},
   "outputs": [],
   "source": []
  },
  {
   "cell_type": "code",
   "execution_count": null,
   "metadata": {},
   "outputs": [],
   "source": []
  },
  {
   "cell_type": "code",
   "execution_count": null,
   "metadata": {},
   "outputs": [],
   "source": []
  },
  {
   "cell_type": "code",
   "execution_count": null,
   "metadata": {},
   "outputs": [],
   "source": []
  },
  {
   "cell_type": "code",
   "execution_count": null,
   "metadata": {},
   "outputs": [],
   "source": []
  },
  {
   "cell_type": "code",
   "execution_count": null,
   "metadata": {},
   "outputs": [],
   "source": []
  },
  {
   "cell_type": "code",
   "execution_count": null,
   "metadata": {},
   "outputs": [],
   "source": []
  },
  {
   "cell_type": "code",
   "execution_count": null,
   "metadata": {},
   "outputs": [],
   "source": []
  },
  {
   "cell_type": "code",
   "execution_count": null,
   "metadata": {},
   "outputs": [],
   "source": []
  },
  {
   "cell_type": "code",
   "execution_count": null,
   "metadata": {},
   "outputs": [],
   "source": []
  },
  {
   "cell_type": "code",
   "execution_count": null,
   "metadata": {},
   "outputs": [],
   "source": []
  },
  {
   "cell_type": "code",
   "execution_count": null,
   "metadata": {},
   "outputs": [],
   "source": []
  },
  {
   "cell_type": "code",
   "execution_count": null,
   "metadata": {},
   "outputs": [],
   "source": []
  },
  {
   "cell_type": "code",
   "execution_count": null,
   "metadata": {},
   "outputs": [],
   "source": []
  }
 ],
 "metadata": {
  "kernelspec": {
   "display_name": "base",
   "language": "python",
   "name": "python3"
  },
  "language_info": {
   "codemirror_mode": {
    "name": "ipython",
    "version": 3
   },
   "file_extension": ".py",
   "mimetype": "text/x-python",
   "name": "python",
   "nbconvert_exporter": "python",
   "pygments_lexer": "ipython3",
   "version": "3.11.5"
  }
 },
 "nbformat": 4,
 "nbformat_minor": 2
}
