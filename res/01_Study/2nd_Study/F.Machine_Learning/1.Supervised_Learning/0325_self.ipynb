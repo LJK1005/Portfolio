{
 "cells": [
  {
   "cell_type": "markdown",
   "id": "8d0fc5aa-4f76-4157-b076-3e96f308d0e7",
   "metadata": {},
   "source": [
    "- 목적에 따라 패키지나 명령어들이 파이썬 버전에 따라 다르고 충돌이 발생할 수 있음\n",
    "- 가상화(env) : 가상의 새로운 프로그래밍 환경을 구현, 버전 파편화로 나타나는 문제를 해결\n",
    "    - 데이터 분석용, 시스템 명령어 개발용 등으로 파이썬 환경을 별개로 만들 수 있음\n",
    "    - 패키지 등 추가적인 환경들은 모든 환경에 직접 깔아줘야 함"
   ]
  },
  {
   "cell_type": "markdown",
   "id": "4c5df40e-2dec-412a-a421-8381805e9c68",
   "metadata": {},
   "source": [
    "- VSCode에서는 프로필 기능을 이용하여 확장기능을 프로필별로 선택하여 설치할 수 있음"
   ]
  },
  {
   "cell_type": "markdown",
   "id": "bd4230b1-ef21-4669-82a1-f44ac5fd94c5",
   "metadata": {},
   "source": [
    "- Git에서 Fork한 수업 패키지는 별도 백업 필요함\n",
    "- 수업 패키지 원본이 업데이트되면 갱신은 원본으로 하고 clone한 원본을 Fork한 저장소에 업로드\n",
    "    - 수정 제안은 Fork한 저장소에서 원본으로 제안하여 진행"
   ]
  },
  {
   "cell_type": "markdown",
   "id": "5e85068c-5bcf-4e24-8c5b-cbd1743535c8",
   "metadata": {},
   "source": [
    "- 리눅스(+ 맥) 환경에서는 파일이나 폴더 앞에 .이 붙으면 숨김처리됨"
   ]
  },
  {
   "cell_type": "code",
   "execution_count": null,
   "id": "0a099acb-1ef7-46fa-84e6-c09725f8010f",
   "metadata": {},
   "outputs": [],
   "source": []
  },
  {
   "cell_type": "code",
   "execution_count": null,
   "id": "2c8adfe2-bb6e-41db-bdd8-76d50037baab",
   "metadata": {},
   "outputs": [],
   "source": []
  },
  {
   "cell_type": "code",
   "execution_count": null,
   "id": "22de1bf7-5d11-4fc6-8b3c-791c05a2bf41",
   "metadata": {},
   "outputs": [],
   "source": []
  },
  {
   "cell_type": "code",
   "execution_count": null,
   "id": "6a8397bf-8302-4206-97ce-4acb16e319e1",
   "metadata": {},
   "outputs": [],
   "source": []
  },
  {
   "cell_type": "code",
   "execution_count": null,
   "id": "3949e2a1-47f7-476e-a75d-e92e3dd9f36e",
   "metadata": {},
   "outputs": [],
   "source": []
  },
  {
   "cell_type": "code",
   "execution_count": null,
   "id": "6c47912a-a126-47fb-a913-37f13e893c34",
   "metadata": {},
   "outputs": [],
   "source": []
  },
  {
   "cell_type": "code",
   "execution_count": null,
   "id": "ebf55e3e-17ae-402a-93f6-5ad00cf6b966",
   "metadata": {},
   "outputs": [],
   "source": []
  },
  {
   "cell_type": "code",
   "execution_count": null,
   "id": "8d3c5fdc-f51d-45c1-8f5c-0bfc8f626330",
   "metadata": {},
   "outputs": [],
   "source": []
  },
  {
   "cell_type": "code",
   "execution_count": null,
   "id": "b44285db-7f3b-44da-93ad-e6c9849a4179",
   "metadata": {},
   "outputs": [],
   "source": []
  }
 ],
 "metadata": {
  "kernelspec": {
   "display_name": "Python 3 (ipykernel)",
   "language": "python",
   "name": "python3"
  },
  "language_info": {
   "codemirror_mode": {
    "name": "ipython",
    "version": 3
   },
   "file_extension": ".py",
   "mimetype": "text/x-python",
   "name": "python",
   "nbconvert_exporter": "python",
   "pygments_lexer": "ipython3",
   "version": "3.10.9"
  }
 },
 "nbformat": 4,
 "nbformat_minor": 5
}
