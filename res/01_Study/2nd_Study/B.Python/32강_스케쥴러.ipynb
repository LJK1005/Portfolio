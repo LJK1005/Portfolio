{
 "cells": [
  {
   "cell_type": "markdown",
   "metadata": {},
   "source": [
    "# 32강 스케쥴러"
   ]
  },
  {
   "cell_type": "markdown",
   "metadata": {},
   "source": [
    "- 스케쥴러\n",
    "  - 특정 시간이나 정해진 간격에 따라어떤 함수가 자동으로 실행되는 처리\n",
    "    - ex) 1시간 마다 한번씩 자동으로 수행되는 기능, 매일 자정에 자동으로 수행되는 기능\n",
    "\n",
    "- 'apscheduler'가 파이썬 공식문서에서 소개되고 있으므로 권장\n",
    "  - pip install apscheduler"
   ]
  },
  {
   "cell_type": "markdown",
   "metadata": {},
   "source": [
    "### 01. 작업 준비\n",
    "\n",
    "- 패키지 참조"
   ]
  },
  {
   "cell_type": "code",
   "execution_count": 6,
   "metadata": {},
   "outputs": [],
   "source": [
    "from apscheduler.schedulers.background import BackgroundScheduler\n",
    "from apscheduler.triggers.cron import CronTrigger\n",
    "from apscheduler.jobstores.base import JobLookupError\n",
    "import datetime as dt\n",
    "import time"
   ]
  },
  {
   "cell_type": "markdown",
   "metadata": {},
   "source": [
    "- 스케쥴에 따라 자동으로 실행될 기능"
   ]
  },
  {
   "cell_type": "code",
   "execution_count": 2,
   "metadata": {},
   "outputs": [],
   "source": [
    "def myjob(name):\n",
    "    currentTime = dt.datetime.now()\n",
    "    timeFormat = currentTime.strftime(\"%Y/%m/%d %H:%M:%S\")\n",
    "    print(f\"[{name}] I'm working... | {timeFormat}\")"
   ]
  },
  {
   "cell_type": "code",
   "execution_count": 3,
   "metadata": {},
   "outputs": [
    {
     "name": "stdout",
     "output_type": "stream",
     "text": [
      "[lee] I'm working... | 2023/12/01 11:07:44\n"
     ]
    }
   ],
   "source": [
    "myjob(\"lee\")"
   ]
  },
  {
   "cell_type": "markdown",
   "metadata": {},
   "source": [
    "### 02. 스케쥴러 등록"
   ]
  },
  {
   "cell_type": "markdown",
   "metadata": {},
   "source": [
    "- 정해진 간격마다 실행하기\n",
    "  - 매 3초마다 실행"
   ]
  },
  {
   "cell_type": "code",
   "execution_count": 4,
   "metadata": {},
   "outputs": [
    {
     "data": {
      "text/plain": [
       "<Job (id=myjob1 name=myjob)>"
      ]
     },
     "execution_count": 4,
     "metadata": {},
     "output_type": "execute_result"
    },
    {
     "name": "stdout",
     "output_type": "stream",
     "text": [
      "[kim] I'm working... | 2023/12/01 11:08:39\n",
      "[kim] I'm working... | 2023/12/01 11:08:42\n"
     ]
    }
   ],
   "source": [
    "sched = BackgroundScheduler()\n",
    "sched.start()\n",
    "\n",
    "sched.add_job(myjob, \"interval\", seconds = 3 ,args = [\"kim\"], id = \"myjob1\")\n",
    "# 파라미터\n",
    "# 1번째 파라미터 : 작업을 수행할 함수 명\n",
    "# 2번째 파라미터 : 스케쥴러를 사용하는 방식, interval은 일정 간격마다\n",
    "# 3번째 파라미터 : 방식에 대한 시간의 단위\n",
    "# args : 수행할 작업의 파라미터\n",
    "# id : 작업의 고유 아이디 지정, 지정하지 않으면 꽤 긴 문자열이 되므로 지정 추천\n",
    "# 함수앞에 ?를 붙이면 파라미터 설명 출력 가능"
   ]
  },
  {
   "cell_type": "markdown",
   "metadata": {},
   "source": [
    "- interval로 사용할 수 있는 파라미터\n",
    "  - 시간 관련 : seconds, minute, hour, day, month, year, week, day_of_week, start_date, end_date 등을 설정 가능\n",
    "    - start_date와 end_date는 datetime 객체로 설정하며, 작업을 수행할 날짜 범위 지정"
   ]
  },
  {
   "cell_type": "markdown",
   "metadata": {},
   "source": [
    "- 스케쥴러에서 작업 제거"
   ]
  },
  {
   "cell_type": "code",
   "execution_count": 5,
   "metadata": {},
   "outputs": [],
   "source": [
    "sched.remove_job(\"myjob1\")\n",
    "# 백그라운드에서 스케쥴러 작업을 중단시키는 코드\n",
    "# 패러미터로 해당 작업의 id를 지정"
   ]
  },
  {
   "cell_type": "markdown",
   "metadata": {},
   "source": [
    "- cron 표현식으로 설정하기\n",
    "  - cron 표현식\n",
    "    - Linux, Mac 등에서 작업 스케쥴러를 등록할 때 사용하는 시간 단위 설정 표현식"
   ]
  },
  {
   "cell_type": "code",
   "execution_count": null,
   "metadata": {},
   "outputs": [],
   "source": [
    "# 공백으로 구분하는 7자리의 값으로 구성됨\n",
    "\n",
    "# ```shell\n",
    "# *******\n",
    "# ```\n",
    "\n",
    "# 각 자리는 순서대로 '초, 분, 시, 일, 월, 요일, 년'을 의미함"
   ]
  },
  {
   "cell_type": "markdown",
   "metadata": {},
   "source": [
    "- 값의 설정 방법\n",
    "\n",
    "| 필드 | 허용되는 값 | 허용되는 특수문자 |\n",
    "|---|---|---|\n",
    "| 초(Seconds) | 0~59 | `,` `-` `*` `/` |\n",
    "| 분(Minuets) | 0~59 | `,` `-` `*` `/` |\n",
    "| 시(Hours) | 0~23 | `,` `-` `*` `/` |\n",
    "| 일(Day of month) | 0~31 | `,` `-` `*` `/` `L` `W` |\n",
    "| 월(Month) | 1~ 12 또는 JAN ~ DEC | `,` `-` `*` `/` |\n",
    "| 요일(Day of week) | 0~6 또는 SUN ~ SAT | `,` `-` `*` `/` `L` `#` |\n",
    "| 년(Year) | 0~59 | `,` `-` `*` `/` |\n",
    "\n",
    "- 특수문자의 의미\n",
    "  - `*` : 모든 값\n",
    "  - `?` : 특정 값이 없음을 의미\n",
    "  - `-` : 범위를 의미 (MON-WED는 월요일부터 수요일까지)\n",
    "  - `,` : 특별한 값일때만 동작 (월, 금)\n",
    "  - `/` : 시작시간 / 단위 (분에서 0/5 = 0분부터 매 5분)\n",
    "  - `L` : 일에서 시작하면 마지막 일, 요일에서는 마지막 요일(토요일)\n",
    "  - `W` : 가장 가까운 평일 (15W는 15일에서 가장 가까운 평일 (월 ~ 금)을 찾음)\n",
    "  - `#` : 몇째 주의  무슨 요일을 표현 (3#2 2번째 주 수요일)\n",
    "\n",
    "> crontab.cronhub.io"
   ]
  },
  {
   "cell_type": "code",
   "execution_count": 36,
   "metadata": {},
   "outputs": [],
   "source": [
    "sched = BackgroundScheduler()\n",
    "sched.start()"
   ]
  },
  {
   "cell_type": "code",
   "execution_count": 37,
   "metadata": {},
   "outputs": [
    {
     "data": {
      "text/plain": [
       "<Job (id=myjob2 name=myjob)>"
      ]
     },
     "execution_count": 37,
     "metadata": {},
     "output_type": "execute_result"
    },
    {
     "name": "stdout",
     "output_type": "stream",
     "text": [
      "[kim] I'm working... | 2023/12/01 11:37:00\n",
      "[kim] I'm working... | 2023/12/01 11:38:00\n",
      "[kim] I'm working... | 2023/12/01 11:39:00\n"
     ]
    }
   ],
   "source": [
    "# 2 * * * * * * -> 매분 2초\n",
    "# 매초마다 2초 간격으로\n",
    "\n",
    "myTrigger = CronTrigger.from_crontab(\"* * * * *\")\n",
    "sched.add_job(myjob, myTrigger, args = [\"kim\"], id = \"myjob2\")"
   ]
  },
  {
   "cell_type": "code",
   "execution_count": 38,
   "metadata": {},
   "outputs": [],
   "source": [
    "sched.remove_job(\"myjob2\")"
   ]
  },
  {
   "cell_type": "code",
   "execution_count": null,
   "metadata": {},
   "outputs": [],
   "source": [
    "# 스케쥴러 종료\n",
    "sched.shutdown()"
   ]
  },
  {
   "cell_type": "markdown",
   "metadata": {},
   "source": [
    "- 특정 시각에 수행"
   ]
  },
  {
   "cell_type": "code",
   "execution_count": null,
   "metadata": {},
   "outputs": [],
   "source": [
    "# 정해진 시각에 1회만 처리하기\n",
    "targetDate = dt.datetime(2023, 12, 1, 11, 43, 0)\n",
    "sched.add_job(myjob, 'date', run_date = targetDate, args = ['park'], id = 'myjob4')"
   ]
  },
  {
   "cell_type": "markdown",
   "metadata": {},
   "source": [
    "- 메일링 리스트 개선"
   ]
  },
  {
   "cell_type": "code",
   "execution_count": 39,
   "metadata": {},
   "outputs": [],
   "source": [
    "# 앞 단원에서 구현한 메일 발송 모듈\n",
    "import MyMailer\n",
    "\n",
    "# 비동기 처리 기능을 제공하는 모듈\n",
    "import concurrent.futures as futures"
   ]
  },
  {
   "cell_type": "code",
   "execution_count": 40,
   "metadata": {},
   "outputs": [],
   "source": [
    "# 메일링 리스트 개선\n",
    "today = dt.datetime.now()\n",
    "year = today.year\n",
    "month = today.month\n",
    "day = today.day\n",
    "\n",
    "fromAddr = \"yijingue@naver.com\"\n",
    "subjectTmpl = \"{name}님의 {yy}년 {mm}월 급여명세서 입니다.\"\n",
    "\n",
    "with open('mailtest/content.txt', 'r', encoding = 'utf-8') as f:\n",
    "    contentTmpl = f.read()"
   ]
  },
  {
   "cell_type": "code",
   "execution_count": 41,
   "metadata": {},
   "outputs": [],
   "source": [
    "# 비동기식 메일 발송\n",
    "def sendmail():\n",
    "    startTime = dt.datetime.now()\n",
    "\n",
    "    with open(\"mailtest/mail_list.csv\", \"r\", encoding = 'euc-kr') as f:\n",
    "        csv = f.readlines()\n",
    "\n",
    "        with futures.ThreadPoolExecutor(max_workers = 10) as executor:\n",
    "            for line in csv:\n",
    "                name, email, file1, file2 = line.strip().split(\",\")\n",
    "                toAddr = \"{email}\".format(email = email)\n",
    "                subject = subjectTmpl.format(name = name, yy = year, mm = month)\n",
    "                content = contentTmpl.format(name = name, yy = year, mm = month, dd = day)\n",
    "            \n",
    "                executor.submit(MyMailer.sendMail, fromAddr, toAddr, subject, content, [file1, file2])\n",
    "\n",
    "    endTime = dt.datetime.now()\n",
    "    workTime = endTime - startTime\n",
    "    print(f\"작업에 소요된 시간은 총 {workTime.seconds}초 입니다.\")"
   ]
  },
  {
   "cell_type": "code",
   "execution_count": 42,
   "metadata": {},
   "outputs": [],
   "source": [
    "sched = BackgroundScheduler()\n",
    "sched.start()"
   ]
  },
  {
   "cell_type": "code",
   "execution_count": 43,
   "metadata": {},
   "outputs": [
    {
     "data": {
      "text/plain": [
       "<Job (id=mail1 name=sendmail)>"
      ]
     },
     "execution_count": 43,
     "metadata": {},
     "output_type": "execute_result"
    },
    {
     "name": "stdout",
     "output_type": "stream",
     "text": [
      "작업에 소요된 시간은 총 2초 입니다.\n",
      "작업에 소요된 시간은 총 0초 입니다.\n",
      "작업에 소요된 시간은 총 1초 입니다.\n",
      "작업에 소요된 시간은 총 0초 입니다.\n",
      "작업에 소요된 시간은 총 0초 입니다.\n"
     ]
    }
   ],
   "source": [
    "sched.add_job(sendmail, 'cron', second = '*/5', id = 'mail1')"
   ]
  },
  {
   "cell_type": "code",
   "execution_count": 45,
   "metadata": {},
   "outputs": [
    {
     "name": "stdout",
     "output_type": "stream",
     "text": [
      "스케쥴러 중지에 실패했습니다. 'No job by the id of mail1 was found'\n"
     ]
    }
   ],
   "source": [
    "try:\n",
    "    sched.remove_job('mail1')\n",
    "    sched.shutdown()\n",
    "except JobLookupError as je:\n",
    "    print(\"스케쥴러 중지에 실패했습니다.\", je)"
   ]
  },
  {
   "cell_type": "code",
   "execution_count": null,
   "metadata": {},
   "outputs": [],
   "source": []
  },
  {
   "cell_type": "code",
   "execution_count": null,
   "metadata": {},
   "outputs": [],
   "source": []
  },
  {
   "cell_type": "code",
   "execution_count": null,
   "metadata": {},
   "outputs": [],
   "source": []
  },
  {
   "cell_type": "code",
   "execution_count": null,
   "metadata": {},
   "outputs": [],
   "source": []
  },
  {
   "cell_type": "code",
   "execution_count": null,
   "metadata": {},
   "outputs": [],
   "source": []
  },
  {
   "cell_type": "code",
   "execution_count": null,
   "metadata": {},
   "outputs": [],
   "source": []
  },
  {
   "cell_type": "code",
   "execution_count": null,
   "metadata": {},
   "outputs": [],
   "source": []
  },
  {
   "cell_type": "code",
   "execution_count": null,
   "metadata": {},
   "outputs": [],
   "source": []
  },
  {
   "cell_type": "code",
   "execution_count": null,
   "metadata": {},
   "outputs": [],
   "source": []
  },
  {
   "cell_type": "code",
   "execution_count": null,
   "metadata": {},
   "outputs": [],
   "source": []
  },
  {
   "cell_type": "code",
   "execution_count": null,
   "metadata": {},
   "outputs": [],
   "source": []
  },
  {
   "cell_type": "code",
   "execution_count": null,
   "metadata": {},
   "outputs": [],
   "source": []
  },
  {
   "cell_type": "code",
   "execution_count": null,
   "metadata": {},
   "outputs": [],
   "source": []
  },
  {
   "cell_type": "code",
   "execution_count": null,
   "metadata": {},
   "outputs": [],
   "source": []
  },
  {
   "cell_type": "code",
   "execution_count": null,
   "metadata": {},
   "outputs": [],
   "source": []
  },
  {
   "cell_type": "code",
   "execution_count": null,
   "metadata": {},
   "outputs": [],
   "source": []
  },
  {
   "cell_type": "code",
   "execution_count": null,
   "metadata": {},
   "outputs": [],
   "source": []
  },
  {
   "cell_type": "code",
   "execution_count": null,
   "metadata": {},
   "outputs": [],
   "source": []
  },
  {
   "cell_type": "code",
   "execution_count": null,
   "metadata": {},
   "outputs": [],
   "source": []
  },
  {
   "cell_type": "code",
   "execution_count": null,
   "metadata": {},
   "outputs": [],
   "source": []
  },
  {
   "cell_type": "code",
   "execution_count": null,
   "metadata": {},
   "outputs": [],
   "source": []
  },
  {
   "cell_type": "code",
   "execution_count": null,
   "metadata": {},
   "outputs": [],
   "source": []
  },
  {
   "cell_type": "code",
   "execution_count": null,
   "metadata": {},
   "outputs": [],
   "source": []
  },
  {
   "cell_type": "code",
   "execution_count": null,
   "metadata": {},
   "outputs": [],
   "source": []
  },
  {
   "cell_type": "code",
   "execution_count": null,
   "metadata": {},
   "outputs": [],
   "source": []
  },
  {
   "cell_type": "code",
   "execution_count": null,
   "metadata": {},
   "outputs": [],
   "source": []
  }
 ],
 "metadata": {
  "kernelspec": {
   "display_name": "base",
   "language": "python",
   "name": "python3"
  },
  "language_info": {
   "codemirror_mode": {
    "name": "ipython",
    "version": 3
   },
   "file_extension": ".py",
   "mimetype": "text/x-python",
   "name": "python",
   "nbconvert_exporter": "python",
   "pygments_lexer": "ipython3",
   "version": "3.10.9"
  }
 },
 "nbformat": 4,
 "nbformat_minor": 2
}
