{
 "cells": [
  {
   "cell_type": "markdown",
   "metadata": {},
   "source": [
    "# 5강 함수와 객체의 이해\n",
    "\n",
    "## 1. 함수의 이해\n",
    "\n",
    "### 함수의 정의와 호출"
   ]
  },
  {
   "cell_type": "code",
   "execution_count": 1,
   "metadata": {},
   "outputs": [],
   "source": [
    "# 함수 정의하기\n",
    "def f(x):\n",
    "    return 2*x + 1 "
   ]
  },
  {
   "cell_type": "code",
   "execution_count": 2,
   "metadata": {},
   "outputs": [
    {
     "name": "stdout",
     "output_type": "stream",
     "text": [
      "5\n"
     ]
    }
   ],
   "source": [
    "# 함수 사용하기 (1)\n",
    "y = f(2)\n",
    "print(y)"
   ]
  },
  {
   "cell_type": "code",
   "execution_count": 3,
   "metadata": {},
   "outputs": [
    {
     "name": "stdout",
     "output_type": "stream",
     "text": [
      "11\n"
     ]
    }
   ],
   "source": [
    "# 함수 사용하기 (2)\n",
    "z = f(5)\n",
    "print(z)"
   ]
  },
  {
   "cell_type": "markdown",
   "metadata": {},
   "source": [
    "### type() 내장함수"
   ]
  },
  {
   "cell_type": "code",
   "execution_count": 4,
   "metadata": {},
   "outputs": [
    {
     "name": "stdout",
     "output_type": "stream",
     "text": [
      "<class 'int'>\n"
     ]
    }
   ],
   "source": [
    "# 정수형 변수의 데이터 타입 확인\n",
    "age = 20\n",
    "typeOfAge = type(age)\n",
    "print(typeOfAge)"
   ]
  },
  {
   "cell_type": "code",
   "execution_count": 5,
   "metadata": {},
   "outputs": [
    {
     "name": "stdout",
     "output_type": "stream",
     "text": [
      "<class 'float'>\n"
     ]
    }
   ],
   "source": [
    "# 실수형 변수의 데이터 타입 확인\n",
    "pi = 3.14\n",
    "typeOfPi = type(pi)\n",
    "print(typeOfPi)"
   ]
  },
  {
   "cell_type": "code",
   "execution_count": 6,
   "metadata": {},
   "outputs": [
    {
     "name": "stdout",
     "output_type": "stream",
     "text": [
      "<class 'str'>\n"
     ]
    }
   ],
   "source": [
    "# 문자열 변수의 데이터 타입 확인\n",
    "message = 'Hello Python'\n",
    "typeOfMessage = type(message)\n",
    "print(typeOfMessage)"
   ]
  },
  {
   "cell_type": "code",
   "execution_count": 7,
   "metadata": {},
   "outputs": [
    {
     "name": "stdout",
     "output_type": "stream",
     "text": [
      "<class 'bool'>\n"
     ]
    }
   ],
   "source": [
    "# 논리형 변수의 데이터 타입 확인\n",
    "ok = True\n",
    "typeOfOk = type(ok)\n",
    "print(typeOfOk)"
   ]
  },
  {
   "cell_type": "code",
   "execution_count": 8,
   "metadata": {},
   "outputs": [
    {
     "name": "stdout",
     "output_type": "stream",
     "text": [
      "Hi\n",
      "<class 'str'>\n"
     ]
    }
   ],
   "source": [
    "msg = input(\"Hello World\")\n",
    "print(msg)\n",
    "print(type(msg))"
   ]
  },
  {
   "cell_type": "code",
   "execution_count": 9,
   "metadata": {},
   "outputs": [
    {
     "name": "stdout",
     "output_type": "stream",
     "text": [
      "숫자 500를 입력했습니다\n"
     ]
    }
   ],
   "source": [
    "num = input('숫자를 입력하세요')\n",
    "\n",
    "try:\n",
    "    num2 = int(num)\n",
    "    print(f\"숫자 {num2}를 입력했습니다\")\n",
    "except:\n",
    "    print(\"숫자가 아님\")"
   ]
  },
  {
   "cell_type": "code",
   "execution_count": 10,
   "metadata": {},
   "outputs": [
    {
     "name": "stdout",
     "output_type": "stream",
     "text": [
      "100.0\n",
      "<class 'float'>\n"
     ]
    }
   ],
   "source": [
    "# 정수를 실수로 변환시 정수 뒤에 \".0\"이 추가됨\n",
    "\n",
    "num1 = 100\n",
    "num2 = float(100)\n",
    "print(num2)\n",
    "print(type(num2))"
   ]
  },
  {
   "cell_type": "code",
   "execution_count": 11,
   "metadata": {},
   "outputs": [
    {
     "name": "stdout",
     "output_type": "stream",
     "text": [
      "5\n",
      "<class 'int'>\n"
     ]
    }
   ],
   "source": [
    "# 실수를 정수로 변환시 소수점 단위는 버림 처리\n",
    "float1 = 5.15\n",
    "int1 = int(float1)\n",
    "print(int1)\n",
    "print(type(int1))"
   ]
  },
  {
   "cell_type": "code",
   "execution_count": 12,
   "metadata": {},
   "outputs": [
    {
     "name": "stdout",
     "output_type": "stream",
     "text": [
      "A B C 100\n",
      "ABC\n"
     ]
    }
   ],
   "source": [
    "# 문장 여러개를 공백으로 구분해서 지정하면 붙여서 출력\n",
    "# ,를 사용할 경우 띄어쓰기로 구분되면 다른 타입의 변수도 사용이 가능함\n",
    "# +를 사용할 경우 연속으로 붙여서 출력되며 다른 타입의 변수는 더할 수 없음\n",
    "\n",
    "print(\"A\", \"B\", \"C\", 100)\n",
    "print(\"A\"+\"B\"+\"C\")"
   ]
  },
  {
   "cell_type": "code",
   "execution_count": 13,
   "metadata": {},
   "outputs": [
    {
     "name": "stdout",
     "output_type": "stream",
     "text": [
      "안녕!하세요~~잘가요\n",
      "!!!\n"
     ]
    }
   ],
   "source": [
    "# print()의 매개변수 end를 지정하면 뒤에 붙일 문구를 변경 가능\n",
    "# 기본값은 줄바꿈(\\n)\n",
    "\n",
    "print(\"안녕\", end = \"!\")\n",
    "print(\"하세요\", end = \"~~\")\n",
    "print(\"잘가요\")\n",
    "print(\"!!!\")"
   ]
  },
  {
   "cell_type": "code",
   "execution_count": 14,
   "metadata": {},
   "outputs": [
    {
     "name": "stdout",
     "output_type": "stream",
     "text": [
      "32\n"
     ]
    }
   ],
   "source": [
    "# 제곱 연산\n",
    "a = pow(2, 5)\n",
    "print(a)"
   ]
  },
  {
   "cell_type": "code",
   "execution_count": 15,
   "metadata": {},
   "outputs": [
    {
     "name": "stdout",
     "output_type": "stream",
     "text": [
      "50\n",
      "20\n"
     ]
    }
   ],
   "source": [
    "# 절댓값 구하기\n",
    "print(abs(50))\n",
    "print(abs(-20))"
   ]
  },
  {
   "cell_type": "code",
   "execution_count": 17,
   "metadata": {},
   "outputs": [],
   "source": [
    "# 실수형 변수의 초기화\n",
    "pi = 3.14"
   ]
  },
  {
   "cell_type": "code",
   "execution_count": 19,
   "metadata": {},
   "outputs": [
    {
     "name": "stdout",
     "output_type": "stream",
     "text": [
      "4\n"
     ]
    }
   ],
   "source": [
    "# 객체에 포함되는 메서드 활용 -> 소수점 올림\n",
    "a = pi.__ceil__()\n",
    "print(a)"
   ]
  },
  {
   "cell_type": "code",
   "execution_count": 20,
   "metadata": {},
   "outputs": [
    {
     "name": "stdout",
     "output_type": "stream",
     "text": [
      "3\n"
     ]
    }
   ],
   "source": [
    "# 객체에 포함되는 메서드 활용 -> 소수점 내림\n",
    "b = pi.__floor__()\n",
    "print(b)"
   ]
  },
  {
   "cell_type": "code",
   "execution_count": null,
   "metadata": {},
   "outputs": [],
   "source": []
  },
  {
   "cell_type": "code",
   "execution_count": null,
   "metadata": {},
   "outputs": [],
   "source": []
  },
  {
   "cell_type": "code",
   "execution_count": null,
   "metadata": {},
   "outputs": [],
   "source": []
  },
  {
   "cell_type": "code",
   "execution_count": null,
   "metadata": {},
   "outputs": [],
   "source": []
  },
  {
   "cell_type": "code",
   "execution_count": null,
   "metadata": {},
   "outputs": [],
   "source": []
  }
 ],
 "metadata": {
  "kernelspec": {
   "display_name": "Python 3 (ipykernel)",
   "language": "python",
   "name": "python3"
  },
  "language_info": {
   "codemirror_mode": {
    "name": "ipython",
    "version": 3
   },
   "file_extension": ".py",
   "mimetype": "text/x-python",
   "name": "python",
   "nbconvert_exporter": "python",
   "pygments_lexer": "ipython3",
   "version": "3.10.9"
  }
 },
 "nbformat": 4,
 "nbformat_minor": 2
}
