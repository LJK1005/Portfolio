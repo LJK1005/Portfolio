{
 "cells": [
  {
   "cell_type": "code",
   "execution_count": null,
   "metadata": {},
   "outputs": [],
   "source": [
    "# 간단한 클래스 정의하기 \n",
    "class Member:\n",
    "    def __init__(self, username, email):\n",
    "        print(\"----- 생성자가 실행되었습니다. -----\")\n",
    "        self.username = username\n",
    "        self.email = email\n",
    "\n",
    "    def view_info(self):\n",
    "        tpl = \"이름: {0} / 이메일: {1}\"\n",
    "        print(tpl.format(self.username, self.email))"
   ]
  }
 ],
 "metadata": {
  "language_info": {
   "name": "python"
  }
 },
 "nbformat": 4,
 "nbformat_minor": 2
}
