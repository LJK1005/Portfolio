{
 "cells": [
  {
   "cell_type": "markdown",
   "metadata": {},
   "source": [
    "# 17강 반복문 - FOR문"
   ]
  },
  {
   "cell_type": "markdown",
   "metadata": {},
   "source": [
    "- for문\n",
    "  - while과 동일하게 주어진 명령을 반복 수행\n",
    "  - range함수(수열), 리스트 등을 이용하여 변수의 변화 범위를 while보다 자유롭게 설정 가능\n",
    "    - range(시작값, 종료값, [, 증가값]) : 시작값부터 종료값 전(-1)까지 증가값씩 증가하는 수열 생성"
   ]
  },
  {
   "cell_type": "code",
   "execution_count": 1,
   "metadata": {},
   "outputs": [
    {
     "name": "stdout",
     "output_type": "stream",
     "text": [
      "x=1\n",
      "x=2\n",
      "x=3\n",
      "x=4\n",
      "x=5\n",
      "x=6\n",
      "x=7\n",
      "x=8\n",
      "x=9\n",
      "x=10\n"
     ]
    }
   ],
   "source": [
    "# x가 1부터 11전까지의 1씩 증가하면서 반복수행\n",
    "for x in range(1, 11):\n",
    "    # 반복이 진행되는 동안 수행할 명령\n",
    "    print(\"x=%d\" % x)"
   ]
  },
  {
   "cell_type": "code",
   "execution_count": 2,
   "metadata": {},
   "outputs": [
    {
     "name": "stdout",
     "output_type": "stream",
     "text": [
      "입력값은 7입니다.\n",
      "--------------------------------------\n",
      "7 x 1 = 7\n",
      "7 x 2 = 14\n",
      "7 x 3 = 21\n",
      "7 x 4 = 28\n",
      "7 x 5 = 35\n",
      "7 x 6 = 42\n",
      "7 x 7 = 49\n",
      "7 x 8 = 56\n",
      "7 x 9 = 63\n"
     ]
    }
   ],
   "source": [
    "x = int(input(\"숫자를 입력하세요.\"))\n",
    "print(\"입력값은 %d입니다.\" % x)\n",
    "print(\"-\" * 38)\n",
    "\n",
    "# -> 1부터 10전까지 1씩 증가하는 값을 y에 설정\n",
    "for y in range(1, 10):\n",
    "    # 반복이 진행되는 동안 수행할 명령\n",
    "    z = x * y\n",
    "    print(\"%d x %d = %d\" % (x, y, z))"
   ]
  },
  {
   "cell_type": "code",
   "execution_count": 3,
   "metadata": {},
   "outputs": [
    {
     "name": "stdout",
     "output_type": "stream",
     "text": [
      "x = 1, sum = 1\n",
      "x = 2, sum = 3\n",
      "x = 3, sum = 6\n",
      "x = 4, sum = 10\n",
      "x = 5, sum = 15\n",
      "x = 6, sum = 21\n",
      "x = 7, sum = 28\n",
      "x = 8, sum = 36\n",
      "x = 9, sum = 45\n",
      "x = 10, sum = 55\n"
     ]
    }
   ],
   "source": [
    "# 1 ~ 10까지의 총 합을 구하기\n",
    "sum = 0 # 총 합을 누적해서 저장할 변수\n",
    "\n",
    "for x in range(1, 11): # x가 1부터 11전까지 1씩 증가하면서 반복수행\n",
    "    # sum이 x만큼 스스로 증가\n",
    "    # -> x가 1 ~ 10까지 변화하게 되므로 결국 sum은 1부터 10까지 순차적으로 증가\n",
    "    sum += x\n",
    "    print(\"x = %d, sum = %d\" % (x, sum))"
   ]
  },
  {
   "cell_type": "code",
   "execution_count": 4,
   "metadata": {},
   "outputs": [
    {
     "name": "stdout",
     "output_type": "stream",
     "text": [
      "a = 0\n",
      "a = 10\n",
      "a = 20\n",
      "a = 30\n",
      "a = 40\n"
     ]
    }
   ],
   "source": [
    "# 0부터 50전(=49)까지 10씩 증가\n",
    "for a in range(0, 50, 10):\n",
    "    print(\"a = %d\" % a)"
   ]
  },
  {
   "cell_type": "code",
   "execution_count": 5,
   "metadata": {},
   "outputs": [
    {
     "name": "stdout",
     "output_type": "stream",
     "text": [
      "b = 10\n",
      "b = 8\n",
      "b = 6\n",
      "b = 4\n",
      "b = 2\n"
     ]
    }
   ],
   "source": [
    "# 10부터 0전(=1)까지 2씩 감소\n",
    "for b in range(10, 0, -2):\n",
    "    print(\"b = %d\" % b)"
   ]
  },
  {
   "cell_type": "markdown",
   "metadata": {},
   "source": [
    "- 인덱스 번호를 기반으로 하는 for문 활용\n",
    "  - 리스트의 인덱스 번호는 0부터 len-1까지 지정되므로 range함수를 활용하여 리스트의 모든 원소에 접근하는 것이 가능\n",
    "  - 리스트 자체를 반복문에 대입하면 리스트의 원소에 직접 접근함"
   ]
  },
  {
   "cell_type": "code",
   "execution_count": 12,
   "metadata": {},
   "outputs": [
    {
     "name": "stdout",
     "output_type": "stream",
     "text": [
      "0번째 원소 : 봄\n",
      "1번째 원소 : 여름\n",
      "2번째 원소 : 가을\n",
      "3번째 원소 : 겨울\n"
     ]
    }
   ],
   "source": [
    "# 원소의 수를 조회한 다음 직접 반복범위 지정하기\n",
    "# -> 단점 : 각 원소가 저장되는 변수가 없기 때문에\n",
    "# 원소에 대한 접근을 리스트를 통해 직접 수행헤야 한다.\n",
    "seasons = ['봄', '여름', '가을', '겨울']\n",
    "\n",
    "size = len(seasons)\n",
    "for i in range(0, size):\n",
    "    print(\"%d번째 원소 : %s\" % (i, seasons[i]))"
   ]
  },
  {
   "cell_type": "code",
   "execution_count": 13,
   "metadata": {},
   "outputs": [
    {
     "name": "stdout",
     "output_type": "stream",
     "text": [
      "python\n",
      "is\n",
      "good\n"
     ]
    }
   ],
   "source": [
    "msg = ['python', 'is', 'good']\n",
    "\n",
    "# -> 리스트의 각 원소를 순차적으로 i에 대입하면서 반복\n",
    "# -> 단점 : 몇 번째 원소인지는 알 수 없다.\n",
    "for i in msg:\n",
    "    print(i)"
   ]
  },
  {
   "cell_type": "code",
   "execution_count": 15,
   "metadata": {},
   "outputs": [
    {
     "name": "stdout",
     "output_type": "stream",
     "text": [
      "총점 : 407, 평균 : 81\n"
     ]
    }
   ],
   "source": [
    "# 성적에 대한 총점과 평균 구하기\n",
    "score = [100, 82, 98, 76, 51]\n",
    "\n",
    "# -> 총점을 저장할 변수\n",
    "total = 0\n",
    "\n",
    "for v in score:\n",
    "    # 총점은 각 원소를 누적해서 더한다.\n",
    "    total += v\n",
    "\n",
    "# 평균은 총 합에서 원소의 수를 나눈다.\n",
    "# -> \"//\"는 나눗셈에서 정수부분의 몫만 구한다.\n",
    "avg = total // len(score)\n",
    "\n",
    "tpl = \"총점 : {0}, 평균 : {1}\"\n",
    "\n",
    "print(tpl.format(total, avg))"
   ]
  },
  {
   "cell_type": "markdown",
   "metadata": {},
   "source": [
    "- enumerate 함수\n",
    "  - enumerate(리스트) 방식으로 리스트를 함수에 입력하면 (인덱스, 원소값)의 형태로 순차적으로 반환함\n",
    "  - 리스트의 인덱스와 원소에 한번에 접근할 수 있음"
   ]
  },
  {
   "cell_type": "code",
   "execution_count": 17,
   "metadata": {},
   "outputs": [
    {
     "name": "stdout",
     "output_type": "stream",
     "text": [
      "0번째 값 >> 서울\n",
      "1번째 값 >> 인천\n",
      "2번째 값 >> 대구\n",
      "3번째 값 >> 대전\n",
      "4번째 값 >> 광주\n",
      "5번째 값 >> 부산\n"
     ]
    }
   ],
   "source": [
    "# i에는 리스트의 인덱스가 저장된다.\n",
    "# v에는 리스트의 값(원소)가 저장된다.\n",
    "# i, v는 단순 변수이므로 개발자 편의에 따라 이름지을 수 있다.\n",
    "city = ['서울', '인천', '대구', '대전', '광주', '부산']\n",
    "\n",
    "for i, v in enumerate(city):\n",
    "    print(\"%d번째 값 >> %s\" % (i, v))"
   ]
  },
  {
   "cell_type": "markdown",
   "metadata": {},
   "source": [
    "## 연구과제"
   ]
  },
  {
   "cell_type": "code",
   "execution_count": 37,
   "metadata": {},
   "outputs": [
    {
     "name": "stdout",
     "output_type": "stream",
     "text": [
      "5040\n"
     ]
    }
   ],
   "source": [
    "s = 1\n",
    "for i in range(1, int(input(\"숫자를 입력하세요\"))+1):\n",
    "    s *= i\n",
    "\n",
    "print(s)"
   ]
  },
  {
   "cell_type": "code",
   "execution_count": null,
   "metadata": {},
   "outputs": [],
   "source": []
  },
  {
   "cell_type": "code",
   "execution_count": null,
   "metadata": {},
   "outputs": [],
   "source": []
  },
  {
   "cell_type": "code",
   "execution_count": null,
   "metadata": {},
   "outputs": [],
   "source": []
  },
  {
   "cell_type": "code",
   "execution_count": null,
   "metadata": {},
   "outputs": [],
   "source": []
  },
  {
   "cell_type": "code",
   "execution_count": null,
   "metadata": {},
   "outputs": [],
   "source": []
  },
  {
   "cell_type": "code",
   "execution_count": null,
   "metadata": {},
   "outputs": [],
   "source": []
  },
  {
   "cell_type": "code",
   "execution_count": null,
   "metadata": {},
   "outputs": [],
   "source": []
  },
  {
   "cell_type": "code",
   "execution_count": null,
   "metadata": {},
   "outputs": [],
   "source": []
  },
  {
   "cell_type": "code",
   "execution_count": null,
   "metadata": {},
   "outputs": [],
   "source": []
  },
  {
   "cell_type": "code",
   "execution_count": null,
   "metadata": {},
   "outputs": [],
   "source": []
  },
  {
   "cell_type": "code",
   "execution_count": null,
   "metadata": {},
   "outputs": [],
   "source": []
  },
  {
   "cell_type": "code",
   "execution_count": null,
   "metadata": {},
   "outputs": [],
   "source": []
  },
  {
   "cell_type": "code",
   "execution_count": null,
   "metadata": {},
   "outputs": [],
   "source": []
  },
  {
   "cell_type": "code",
   "execution_count": null,
   "metadata": {},
   "outputs": [],
   "source": []
  }
 ],
 "metadata": {
  "kernelspec": {
   "display_name": "Python 3",
   "language": "python",
   "name": "python3"
  },
  "language_info": {
   "codemirror_mode": {
    "name": "ipython",
    "version": 3
   },
   "file_extension": ".py",
   "mimetype": "text/x-python",
   "name": "python",
   "nbconvert_exporter": "python",
   "pygments_lexer": "ipython3",
   "version": "3.9.13"
  }
 },
 "nbformat": 4,
 "nbformat_minor": 2
}
