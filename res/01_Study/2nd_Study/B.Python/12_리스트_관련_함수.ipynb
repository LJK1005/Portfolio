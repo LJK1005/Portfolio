{
 "cells": [
  {
   "cell_type": "markdown",
   "metadata": {},
   "source": [
    "# 12강 리스트 관련 함수"
   ]
  },
  {
   "cell_type": "markdown",
   "metadata": {},
   "source": [
    "- 리스트 관련 내장 함수\n",
    "  - len() : 리스트 원소 개수 반환\n",
    "  - del() : 전달받은 변수나 리스트 원소를 메모리에서 삭제\n",
    "  - sorted() : 리스트를 오름차순 정렬\n",
    "    - reverse 매개변수를 True로 지정하면 역순 정렬 가능(내림차순)\n",
    "  - min(), max(), sum() : 최소값, 최대값, 합계 구하기\n",
    "  - list() : 반복 가능한 자료형을 리스트로 변환, 문자열의 경우 문자열을 단어 단위로 쪼개서 리스트로 변환\n",
    "    - tuple() : 동일한 원리로 튜블로 변환\n",
    "  - range(a, b) : a부터 b 이전까지 증가하는 range 객체(수열) 생성\n",
    "    - b 미포함\n",
    "    - range(a, b, c) : a부터 b 이전까지 c씩 증가하는 range 객체 생성"
   ]
  },
  {
   "cell_type": "code",
   "execution_count": 5,
   "metadata": {},
   "outputs": [
    {
     "name": "stdout",
     "output_type": "stream",
     "text": [
      "3\n"
     ]
    }
   ],
   "source": [
    "mylist = [1, 2, 3]\n",
    "print(len(mylist))"
   ]
  },
  {
   "cell_type": "code",
   "execution_count": 6,
   "metadata": {},
   "outputs": [
    {
     "name": "stdout",
     "output_type": "stream",
     "text": [
      "[1, 3]\n"
     ]
    }
   ],
   "source": [
    "mylist = [1, 2, 3]\n",
    "del(mylist[1])\n",
    "print(mylist)"
   ]
  },
  {
   "cell_type": "code",
   "execution_count": 7,
   "metadata": {},
   "outputs": [
    {
     "name": "stdout",
     "output_type": "stream",
     "text": [
      "[4, 2, 5, 3, 1]\n"
     ]
    }
   ],
   "source": [
    "mylist = [4, 2, 5, 3, 1]\n",
    "print(mylist)"
   ]
  },
  {
   "cell_type": "code",
   "execution_count": 8,
   "metadata": {},
   "outputs": [
    {
     "name": "stdout",
     "output_type": "stream",
     "text": [
      "[1, 2, 3, 4, 5]\n"
     ]
    }
   ],
   "source": [
    "# 원소의 순서 정렬\n",
    "asc = sorted(mylist)\n",
    "print(asc)"
   ]
  },
  {
   "cell_type": "code",
   "execution_count": 10,
   "metadata": {},
   "outputs": [
    {
     "name": "stdout",
     "output_type": "stream",
     "text": [
      "[5, 4, 3, 2, 1]\n"
     ]
    }
   ],
   "source": [
    "# 원소의 역순 정렬\n",
    "desc = sorted(mylist, reverse = True)\n",
    "print(desc)"
   ]
  },
  {
   "cell_type": "code",
   "execution_count": 11,
   "metadata": {},
   "outputs": [
    {
     "name": "stdout",
     "output_type": "stream",
     "text": [
      "[4, 2, 5, 3, 1]\n"
     ]
    }
   ],
   "source": [
    "# 원본 출력 확인\n",
    "print(mylist)"
   ]
  },
  {
   "cell_type": "code",
   "execution_count": 12,
   "metadata": {},
   "outputs": [
    {
     "name": "stdout",
     "output_type": "stream",
     "text": [
      "3\n",
      "1\n",
      "6\n"
     ]
    }
   ],
   "source": [
    "# 리스트, 튜플 중에서 최대값, 최소값, 합계 구하기 -> 문자열은 계산 불가\n",
    "\n",
    "a = [1, 2, 3]\n",
    "print(max(a))\n",
    "print(min(a))\n",
    "print(sum(a))"
   ]
  },
  {
   "cell_type": "code",
   "execution_count": 13,
   "metadata": {},
   "outputs": [
    {
     "name": "stdout",
     "output_type": "stream",
     "text": [
      "2.0\n"
     ]
    }
   ],
   "source": [
    "# 평균을 구하는 기능은 없기 때문에 직접 계산해야 함\n",
    "avg = sum(a) / len(a)\n",
    "print(avg)"
   ]
  },
  {
   "cell_type": "code",
   "execution_count": 14,
   "metadata": {},
   "outputs": [
    {
     "name": "stdout",
     "output_type": "stream",
     "text": [
      "['P', 'y', 't', 'h', 'o', 'n']\n"
     ]
    }
   ],
   "source": [
    "# 반복 가능한 자료형을 리스트로 변환\n",
    "# 문자열의 경우 글자들의 모음으로 변환함\n",
    "a = \"Python\"\n",
    "b = list(a)\n",
    "print(b)"
   ]
  },
  {
   "cell_type": "code",
   "execution_count": 15,
   "metadata": {},
   "outputs": [
    {
     "name": "stdout",
     "output_type": "stream",
     "text": [
      "[1, 2, 3]\n"
     ]
    }
   ],
   "source": [
    "# 튜플을 리스트 혹은 튜플로 변환\n",
    "c = (1, 2, 3)\n",
    "d = list(c)\n",
    "print(d)"
   ]
  },
  {
   "cell_type": "code",
   "execution_count": 17,
   "metadata": {},
   "outputs": [
    {
     "name": "stdout",
     "output_type": "stream",
     "text": [
      "(10, 20, 30)\n"
     ]
    }
   ],
   "source": [
    "# 리스트를 리스트 혹은 튜플로 변환\n",
    "e = [10, 20, 30]\n",
    "f = tuple(e)\n",
    "print(f)"
   ]
  },
  {
   "cell_type": "code",
   "execution_count": 18,
   "metadata": {},
   "outputs": [
    {
     "name": "stdout",
     "output_type": "stream",
     "text": [
      "<class 'range'>\n",
      "range(1, 10)\n"
     ]
    }
   ],
   "source": [
    "# 1부터 10번까지 1씩 증가하는 range 객체 생성\n",
    "k = range(1, 10)\n",
    "print(type(k))\n",
    "print(k)"
   ]
  },
  {
   "cell_type": "code",
   "execution_count": 19,
   "metadata": {},
   "outputs": [
    {
     "name": "stdout",
     "output_type": "stream",
     "text": [
      "[1, 2, 3, 4, 5, 6, 7, 8, 9]\n"
     ]
    }
   ],
   "source": [
    "# 생성된 수열 객체를 리스트로 변환\n",
    "z = list(k)\n",
    "print(z)"
   ]
  },
  {
   "cell_type": "code",
   "execution_count": 20,
   "metadata": {},
   "outputs": [
    {
     "name": "stdout",
     "output_type": "stream",
     "text": [
      "[1, 4, 7]\n"
     ]
    }
   ],
   "source": [
    "# 1부터 10 전까지 3씩 증가하는 객체를 list로 변환\n",
    "k = list(range(1, 10, 3))\n",
    "print(k)"
   ]
  },
  {
   "cell_type": "markdown",
   "metadata": {},
   "source": [
    "- 리스트 객체의 메서드\n",
    "  - .count() : 주어진 값과 일치하는 원소의 개수 출력\n",
    "  - .index() : 주어진 값이 처음으로 나타나는 인덱스 반환\n",
    "    - 없으면 에러\n",
    "  - .append() : 주어진 값을 리스트 맨 뒤에 해당 값을 추가\n",
    "    - 리스트를 넣으면 리스트 자체가 원소로 들어감\n",
    "  - .insert(a, b) : 인덱스가 a인 위치에 b를 삽입, 기존 원소들은 뒤로 밀려남\n",
    "  - .pop() : 마지막 요소를 꺼내서 반환하고 원본 리스트에서는 해당 원소를 삭제\n",
    "  - .extend() : 리스트를 넣으면 해당 리스트의 모든 원소를 추가함\n",
    "    - 리스트 + 리스트를 원본에 반영한 것과 동일한 결과\n",
    "  - .remove() : 리스트에서 주어진 값과 일치하는 첫 번째 원소를 삭제\n",
    "  - .reverse() : 리스트의 순서를 뒤집어서 원본에 반영\n",
    "  - .sort() : 리스트를 오름차순으로 정렬하여 원본에 반영\n",
    "    - 매개변수 reverse = True로 지정하면 내림차순으로 원본에 반영\n",
    "  \n",
    "- 문자열의 리스트 관련 메서드\n",
    "  - .split() : 문자열의 메서드, 입력한 값을 기준으로 문자열을 나누어 리스트에 담아 반환\n",
    "  - .join() : 전달받은 리스트의 각 원소 사이에 원본 문자열을 삽입하여 문자열로 반환\n",
    "\n",
    "- 튜플 관련 메서드\n",
    "  - divmod(a, b) : a를 b로 나눈 결과를 (몫, 나머지)의 튜플로 반환"
   ]
  },
  {
   "cell_type": "code",
   "execution_count": 21,
   "metadata": {},
   "outputs": [
    {
     "name": "stdout",
     "output_type": "stream",
     "text": [
      "3\n"
     ]
    }
   ],
   "source": [
    "# 주어진 값과 일치하는 원소의 개수 세기\n",
    "mylist = [1, 2, 3, 2, 4, 2]\n",
    "c = mylist.count(2)\n",
    "print(c)"
   ]
  },
  {
   "cell_type": "code",
   "execution_count": 22,
   "metadata": {},
   "outputs": [
    {
     "name": "stdout",
     "output_type": "stream",
     "text": [
      "3\n"
     ]
    }
   ],
   "source": [
    "mylist = [1, 2, 3, 10, 1, 2, 3, 10]\n",
    "x = mylist.index(10)\n",
    "print(x)"
   ]
  },
  {
   "cell_type": "code",
   "execution_count": 24,
   "metadata": {},
   "outputs": [
    {
     "ename": "ValueError",
     "evalue": "5 is not in list",
     "output_type": "error",
     "traceback": [
      "\u001b[1;31m---------------------------------------------------------------------------\u001b[0m",
      "\u001b[1;31mValueError\u001b[0m                                Traceback (most recent call last)",
      "\u001b[1;32mx:\\LJK\\Python\\Mega_IT\\B.Python\\12_리스트_관련_함수.ipynb 셀 20\u001b[0m line \u001b[0;36m2\n\u001b[0;32m      <a href='vscode-notebook-cell:/x%3A/LJK/Python/Mega_IT/B.Python/12_%EB%A6%AC%EC%8A%A4%ED%8A%B8_%EA%B4%80%EB%A0%A8_%ED%95%A8%EC%88%98.ipynb#X31sZmlsZQ%3D%3D?line=0'>1</a>\u001b[0m \u001b[39m# 원소를 찾지 못하면 -1이 반환되는 것이 아니라, 에러가 발생\u001b[39;00m\n\u001b[1;32m----> <a href='vscode-notebook-cell:/x%3A/LJK/Python/Mega_IT/B.Python/12_%EB%A6%AC%EC%8A%A4%ED%8A%B8_%EA%B4%80%EB%A0%A8_%ED%95%A8%EC%88%98.ipynb#X31sZmlsZQ%3D%3D?line=1'>2</a>\u001b[0m y \u001b[39m=\u001b[39m mylist\u001b[39m.\u001b[39;49mindex(\u001b[39m5\u001b[39;49m)\n\u001b[0;32m      <a href='vscode-notebook-cell:/x%3A/LJK/Python/Mega_IT/B.Python/12_%EB%A6%AC%EC%8A%A4%ED%8A%B8_%EA%B4%80%EB%A0%A8_%ED%95%A8%EC%88%98.ipynb#X31sZmlsZQ%3D%3D?line=2'>3</a>\u001b[0m \u001b[39mprint\u001b[39m(y)\n",
      "\u001b[1;31mValueError\u001b[0m: 5 is not in list"
     ]
    }
   ],
   "source": [
    "# 원소를 찾지 못하면 -1이 반환되는 것이 아니라, 에러가 발생\n",
    "y = mylist.index(5)\n",
    "print(y)"
   ]
  },
  {
   "cell_type": "code",
   "execution_count": 25,
   "metadata": {},
   "outputs": [
    {
     "name": "stdout",
     "output_type": "stream",
     "text": [
      "[1, 2, 3, 4]\n"
     ]
    }
   ],
   "source": [
    "# 맨 뒤에 내용 추가 -> 원본에 직접 반영\n",
    "mylist = [1, 2, 3]\n",
    "mylist.append(4)\n",
    "print(mylist)"
   ]
  },
  {
   "cell_type": "code",
   "execution_count": 26,
   "metadata": {},
   "outputs": [
    {
     "name": "stdout",
     "output_type": "stream",
     "text": [
      "[1, 2, 3, [5, 6]]\n"
     ]
    }
   ],
   "source": [
    "# 리스트를 append 할 경우 2차 리스트로 삽입.\n",
    "mylist = [1, 2, 3]\n",
    "mylist.append([5, 6])\n",
    "print(mylist)"
   ]
  },
  {
   "cell_type": "code",
   "execution_count": 28,
   "metadata": {},
   "outputs": [
    {
     "name": "stdout",
     "output_type": "stream",
     "text": [
      "[1, 10, 2, 3]\n"
     ]
    }
   ],
   "source": [
    "# 중간삽입\n",
    "# -> 1번째 위치에 10을 삽입. 기존의 항목들은 뒤로 밀려남\n",
    "mylist = [1, 2, 3]\n",
    "mylist.insert(1, 10)\n",
    "print(mylist)"
   ]
  },
  {
   "cell_type": "code",
   "execution_count": 29,
   "metadata": {},
   "outputs": [
    {
     "name": "stdout",
     "output_type": "stream",
     "text": [
      "[10, 1, 2, 3]\n"
     ]
    }
   ],
   "source": [
    "# 맨 앞에 삽입\n",
    "# -> 0번째 위치에 10을 삽입. 기존의 항목들은 뒤로 밀려남\n",
    "mylist = [1, 2, 3]\n",
    "mylist.insert(0, 10)\n",
    "print(mylist)"
   ]
  },
  {
   "cell_type": "code",
   "execution_count": 30,
   "metadata": {},
   "outputs": [
    {
     "name": "stdout",
     "output_type": "stream",
     "text": [
      "[1, 2, 3, 10]\n"
     ]
    }
   ],
   "source": [
    "# append와 같은 효과\n",
    "mylist = [1, 2, 3]\n",
    "lastindex = len(mylist)\n",
    "mylist.insert(lastindex, 10)\n",
    "print(mylist)"
   ]
  },
  {
   "cell_type": "code",
   "execution_count": 31,
   "metadata": {},
   "outputs": [
    {
     "name": "stdout",
     "output_type": "stream",
     "text": [
      "3\n",
      "[1, 2]\n"
     ]
    }
   ],
   "source": [
    "# 맨 마지막 요소를 꺼내서 리턴하고 원본에서는 삭제\n",
    "mylist = [1, 2, 3]\n",
    "k = mylist.pop()\n",
    "print(k)\n",
    "print(mylist)"
   ]
  },
  {
   "cell_type": "code",
   "execution_count": 32,
   "metadata": {},
   "outputs": [
    {
     "name": "stdout",
     "output_type": "stream",
     "text": [
      "[1, 2, 3, 10, 9, 8, 7]\n"
     ]
    }
   ],
   "source": [
    "# 'extend()' 메서드를 호출한 원본에 파라미터로 전달된 리스트를 덧붙임.\n",
    "mylist = [1, 2, 3]\n",
    "addon = [10, 9, 8, 7]\n",
    "mylist.extend(addon)\n",
    "print(mylist)"
   ]
  },
  {
   "cell_type": "code",
   "execution_count": 33,
   "metadata": {},
   "outputs": [
    {
     "name": "stdout",
     "output_type": "stream",
     "text": [
      "[1, 2, 3, 1, 2, 3, 10]\n"
     ]
    }
   ],
   "source": [
    "# 주어진 값과 일치하는 첫 번째 원소를 삭제\n",
    "mylist = [1, 2, 3, 10, 1, 2, 3, 10]\n",
    "mylist.remove(10)\n",
    "print(mylist)"
   ]
  },
  {
   "cell_type": "code",
   "execution_count": 34,
   "metadata": {},
   "outputs": [
    {
     "name": "stdout",
     "output_type": "stream",
     "text": [
      "[9, 3, 5, 7, 1]\n"
     ]
    }
   ],
   "source": [
    "# 순서 뒤집기\n",
    "mylist = [1, 7, 5, 3, 9]\n",
    "mylist.reverse()\n",
    "print(mylist)"
   ]
  },
  {
   "cell_type": "code",
   "execution_count": 35,
   "metadata": {},
   "outputs": [
    {
     "name": "stdout",
     "output_type": "stream",
     "text": [
      "[1, 2, 3, 4, 5]\n"
     ]
    }
   ],
   "source": [
    "# 순차정렬(오름차순) -> 객체 원본에 반영됨\n",
    "mylist = [2, 5, 1, 4, 3]\n",
    "mylist.sort()\n",
    "print(mylist)"
   ]
  },
  {
   "cell_type": "code",
   "execution_count": 36,
   "metadata": {},
   "outputs": [
    {
     "name": "stdout",
     "output_type": "stream",
     "text": [
      "[5, 4, 3, 2, 1]\n"
     ]
    }
   ],
   "source": [
    "# 역순정렬(내림차순) -> 객체 원본에 반영됨\n",
    "mylist = [2, 5, 1, 4, 3]\n",
    "mylist.sort(reverse = True)\n",
    "print(mylist)"
   ]
  },
  {
   "cell_type": "code",
   "execution_count": 37,
   "metadata": {},
   "outputs": [
    {
     "name": "stdout",
     "output_type": "stream",
     "text": [
      "['Hello', 'Python', 'World', 'Good']\n"
     ]
    }
   ],
   "source": [
    "# 문자열을 주어진 글자를 기준으로 잘라서 리스트로 변환\n",
    "# -> 문자열 객체에 포함된 함수 사용\n",
    "text = \"Hello,Python,World,Good\"\n",
    "mylist = text.split(\",\")\n",
    "print(mylist)"
   ]
  },
  {
   "cell_type": "code",
   "execution_count": 38,
   "metadata": {},
   "outputs": [
    {
     "name": "stdout",
     "output_type": "stream",
     "text": [
      "Hello$Python$World$Good\n"
     ]
    }
   ],
   "source": [
    "# 문자열(\"$\")이 파라미터로 전달된 리스트의 각 원소를 연결하는 기호로 사용됨\n",
    "dl = \"$\"\n",
    "mylist = ['Hello', 'Python', 'World', 'Good']\n",
    "text = dl.join(mylist)\n",
    "print(text)"
   ]
  },
  {
   "cell_type": "code",
   "execution_count": 40,
   "metadata": {},
   "outputs": [
    {
     "name": "stdout",
     "output_type": "stream",
     "text": [
      "HelloPythonWorldGood\n"
     ]
    }
   ],
   "source": [
    "# 별 다른 기호 없이 리스트를 하나의 문자열로 연결하기\n",
    "empty = \"\"\n",
    "mylist = ['Hello', 'Python', 'World', 'Good']\n",
    "text = empty.join(mylist)\n",
    "print(text)"
   ]
  },
  {
   "cell_type": "code",
   "execution_count": 41,
   "metadata": {},
   "outputs": [
    {
     "name": "stdout",
     "output_type": "stream",
     "text": [
      "Hello Python World Good\n"
     ]
    }
   ],
   "source": [
    "# 리스트의 각 원소를 공백으로 구분한 문자열로 연결하기\n",
    "space = \" \"\n",
    "mylist = ['Hello', 'Python', 'World', 'Good']\n",
    "text = space.join(mylist)\n",
    "print(text)"
   ]
  },
  {
   "cell_type": "code",
   "execution_count": 42,
   "metadata": {},
   "outputs": [
    {
     "name": "stdout",
     "output_type": "stream",
     "text": [
      "(2, 1)\n"
     ]
    }
   ],
   "source": [
    "# 나눗셈의 연산 결과를 정수 부분의 몫과 나머지로 계산하여 튜플로 리턴\n",
    "c = divmod(7, 3)\n",
    "print(c)"
   ]
  },
  {
   "cell_type": "code",
   "execution_count": 43,
   "metadata": {},
   "outputs": [
    {
     "name": "stdout",
     "output_type": "stream",
     "text": [
      "33일 8시간\n"
     ]
    }
   ],
   "source": [
    "hours = 800\n",
    "k = divmod(hours, 24)\n",
    "tpl = \"{0}일 {1}시간\"\n",
    "print(tpl.format(k[0], k[1]))"
   ]
  },
  {
   "cell_type": "code",
   "execution_count": 44,
   "metadata": {},
   "outputs": [
    {
     "name": "stdout",
     "output_type": "stream",
     "text": [
      "33일 8시간\n"
     ]
    }
   ],
   "source": [
    "# 결과가 튜플로 리턴되므로 값을 서로 다른 변수에 나누어 저장할 수 있다.\n",
    "days, hour = divmod(hours, 24)\n",
    "tpl = \"{0}일 {1}시간\"\n",
    "print(tpl.format(days, hour))"
   ]
  },
  {
   "cell_type": "markdown",
   "metadata": {},
   "source": [
    "## 연구과제"
   ]
  },
  {
   "cell_type": "code",
   "execution_count": 61,
   "metadata": {},
   "outputs": [],
   "source": [
    "score = [82, 74, 93, 65, 32, 71, 90, 88, 74]"
   ]
  },
  {
   "cell_type": "code",
   "execution_count": 63,
   "metadata": {},
   "outputs": [],
   "source": [
    "def average(a):\n",
    "    a.sort(reverse = True)\n",
    "    return sum(a[:3]) / 3"
   ]
  },
  {
   "cell_type": "code",
   "execution_count": 64,
   "metadata": {},
   "outputs": [
    {
     "name": "stdout",
     "output_type": "stream",
     "text": [
      "90.33333333333333\n"
     ]
    }
   ],
   "source": [
    "print(average(score))"
   ]
  }
 ],
 "metadata": {
  "kernelspec": {
   "display_name": "Python 3",
   "language": "python",
   "name": "python3"
  },
  "language_info": {
   "codemirror_mode": {
    "name": "ipython",
    "version": 3
   },
   "file_extension": ".py",
   "mimetype": "text/x-python",
   "name": "python",
   "nbconvert_exporter": "python",
   "pygments_lexer": "ipython3",
   "version": "3.9.13"
  }
 },
 "nbformat": 4,
 "nbformat_minor": 2
}
