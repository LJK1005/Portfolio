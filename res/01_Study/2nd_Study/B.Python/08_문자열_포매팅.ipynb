{
 "cells": [
  {
   "cell_type": "markdown",
   "metadata": {},
   "source": [
    "# 8강 문자열 포매팅"
   ]
  },
  {
   "cell_type": "markdown",
   "metadata": {},
   "source": [
    "- 문자열에 포함되는 형식 문자는 %(문자)의 형태로 이루어짐 (% 자체는 %%로 표현)\n",
    "  - 형식 문자를 포함하는 문자열은 print로 출력할 경우 해당 형식문자에 들어갈 값을 문자열 다음에 %를 붙여 지정해주어야 함, 지정한 형식과 다른 데이터를 입력할 경우 에러\n",
    "\n",
    "- 정수형 형식문자(%d)에 자릿수 지정 : %뒤에 숫자를 지정하면 해당 숫자만큼 자리를 확보함, 그냥 쓰면 오른쪽 정렬 -를 쓰면 왼쪽 정렬, 0을 넣으면 빈칸을 0으로 채움 (이 경우 왼쪽 정렬은 불가함, 숫자가 바뀌므로)"
   ]
  },
  {
   "cell_type": "markdown",
   "metadata": {},
   "source": []
  },
  {
   "cell_type": "code",
   "execution_count": 1,
   "metadata": {},
   "outputs": [
    {
     "name": "stdout",
     "output_type": "stream",
     "text": [
      "나는 10000원을 갖고 있다.\n"
     ]
    }
   ],
   "source": [
    "# \"%\" 연산자 뒤의 값이 \"%d\" 를 치환한다.\n",
    "\n",
    "str1 = \"나는 %d원을 갖고 있다.\" % 10000\n",
    "print(str1)"
   ]
  },
  {
   "cell_type": "code",
   "execution_count": 2,
   "metadata": {},
   "outputs": [
    {
     "name": "stdout",
     "output_type": "stream",
     "text": [
      "[123.456789]원 입니다.\n"
     ]
    }
   ],
   "source": [
    "# 실수값 표현하기\n",
    "money = 123.456789\n",
    "print(\"[%f]원 입니다.\" % money)"
   ]
  },
  {
   "cell_type": "code",
   "execution_count": 3,
   "metadata": {},
   "outputs": [
    {
     "name": "stdout",
     "output_type": "stream",
     "text": [
      "Hello Python\n"
     ]
    }
   ],
   "source": [
    "lang = \"Python\"\n",
    "str2 = \"Hello %s\" % lang\n",
    "print(str2)"
   ]
  },
  {
   "cell_type": "code",
   "execution_count": 4,
   "metadata": {},
   "outputs": [
    {
     "name": "stdout",
     "output_type": "stream",
     "text": [
      "정모 날짜는 2023년 1월 1일 입니다.\n",
      "약속 날짜는 2023년 3월 5일 입니다.\n"
     ]
    }
   ],
   "source": [
    "# 형식문자를 포함한 문장만 별도의 변수로 지정\n",
    "str3 = \"%s 날짜는 %d년 %d월 %d일 입니다.\"\n",
    "\n",
    "# 여러 형식문자를 치환할 경우 값들을 별도로 묶는다.\n",
    "msg1 = str3 % (\"정모\", 2023, 1, 1)\n",
    "print(msg1)\n",
    "\n",
    "msg2 = str3 % (\"약속\", 2023, 3, 5)\n",
    "print(msg2)"
   ]
  },
  {
   "cell_type": "code",
   "execution_count": 5,
   "metadata": {},
   "outputs": [
    {
     "name": "stdout",
     "output_type": "stream",
     "text": [
      "[    120000]원을 입금했습니다.\n"
     ]
    }
   ],
   "source": [
    "# 자리수 지정하기 -> 오른쪽 정렬, 빈자리는 공백으로 지정\n",
    "print(\"[%10d]원을 입금했습니다.\" % 120000)"
   ]
  },
  {
   "cell_type": "code",
   "execution_count": 6,
   "metadata": {},
   "outputs": [
    {
     "name": "stdout",
     "output_type": "stream",
     "text": [
      "[0000120000]원을 입금했습니다.\n"
     ]
    }
   ],
   "source": [
    "# 자리수 지정하기 -> 오른쪽 정렬, 빈자리는 0으로 지정\n",
    "print(\"[%010d]원을 입금했습니다.\" % 120000)"
   ]
  },
  {
   "cell_type": "code",
   "execution_count": 7,
   "metadata": {},
   "outputs": [
    {
     "name": "stdout",
     "output_type": "stream",
     "text": [
      "[120000    ]원을 입금했습니다.\n"
     ]
    }
   ],
   "source": [
    "# 자리수 지정하기 -> 왼쪽 정렬, 빈자리는 공백으로 지정 (0 불가)\n",
    "print(\"[%-10d]원을 입금했습니다.\" % 120000)"
   ]
  },
  {
   "cell_type": "code",
   "execution_count": 8,
   "metadata": {},
   "outputs": [
    {
     "name": "stdout",
     "output_type": "stream",
     "text": [
      "[      대한민국]에 살고 있습니다.\n",
      "[대한민국      ]에 살고 있습니다.\n"
     ]
    }
   ],
   "source": [
    "# 문자열의 자리수 지정하기 -> 빈자리는 공백지정만 가능함.\n",
    "print(\"[%10s]에 살고 있습니다.\" % \"대한민국\")\n",
    "print(\"[%-10s]에 살고 있습니다.\" % \"대한민국\")"
   ]
  },
  {
   "cell_type": "markdown",
   "metadata": {},
   "source": [
    "## 실수형 형식문자(%f)의 자릿수 지정\n",
    "\n",
    "- %(A).(B)f\n",
    "  - A는 자리를 확보할 칸 수 지정 (소수점을 포함함), 0일 경우 자릿수 제한이 없으며 생략도 가능\n",
    "  - B는 표기할 소수점 이하값 개수를 지정한다\n",
    "  - -을 붙여서 왼쪽 정렬이 가능하며 0을 % 다음에 붙여서 0을 채우는 것도 가능\n"
   ]
  },
  {
   "cell_type": "code",
   "execution_count": 9,
   "metadata": {},
   "outputs": [
    {
     "name": "stdout",
     "output_type": "stream",
     "text": [
      "[12345.679]원 입니다.\n"
     ]
    }
   ],
   "source": [
    "# 소수점 3자리까지 표현하기 -> 소수점 4째 자리에서 반올림.\n",
    "myMoney = 12345.6789\n",
    "\n",
    "print(\"[%0.3f]원 입니다.\" % myMoney)"
   ]
  },
  {
   "cell_type": "code",
   "execution_count": 10,
   "metadata": {},
   "outputs": [
    {
     "name": "stdout",
     "output_type": "stream",
     "text": [
      "[ 12345.679]원 입니다.\n",
      "[12345.679 ]원 입니다.\n"
     ]
    }
   ],
   "source": [
    "# 소수점 3자리까지 표현하되 전체 글자수는 10글자 (빈자리 공백)\n",
    "# 소수점이 자리수에 포함됨\n",
    "# -> 오른쪽 정렬\n",
    "print(\"[%10.3f]원 입니다.\" % myMoney)\n",
    "# -> 왼쪽 정렬\n",
    "print(\"[%-10.3f]원 입니다.\" % myMoney)"
   ]
  },
  {
   "cell_type": "code",
   "execution_count": 11,
   "metadata": {},
   "outputs": [
    {
     "name": "stdout",
     "output_type": "stream",
     "text": [
      "[012345.679]원 입니다.\n"
     ]
    }
   ],
   "source": [
    "# 소수점 3자리까지 표현하되 전체 글자수는 10글자 (빈자리 0)\n",
    "# -> 빈 자리를 0으로 채우는 경우는 오른쪽 정렬만 가능함.\n",
    "print(\"[%010.3f]원 입니다.\" % myMoney)"
   ]
  },
  {
   "cell_type": "markdown",
   "metadata": {},
   "source": [
    "## 치환문자의 활용\n",
    "\n",
    "- {?} : 치환문자, 치환문자를 포함한 문자열은 해당 문자열 내에 .format() 매서드를 사용하여 치환문자에 들어갈 내용을 입력할 수 있음 (실제 출력은 print와 혼용)\n",
    "- {숫자} 형태의 치환문자를 문자열에 포함시켜 지정할 경우 숫자는 0부터 시작되는 인덱스 번호이며, 데이터 타입은 기록하지 않으며 실제 값 대입 시에도 데이터 타입은 따로 구분하지 않음. 실제 출력시에는 인덱스 번호 순서에 맞게 들어갈 치환문자를 별도로 지정\n",
    "- {문자} 형태의 치환문자를 사용할 수 있음, 이 경우 해당 문자를 format 함수에 매개변수로 들어갈 문자를 지정하기 때문에 순서는 상관없음\n",
    "- 숫자와 문자 형태의 치환문자는 혼용이 가능하며, 숫자의 경우에도 뒤 순서의 인덱스가 실제 문자열 내에서는 앞 순서 인덱스보다 먼저 들어와도 상관없음, 단 format 매개변수 지정 시에는 숫자 인덱스를 먼저 대입하고, 문자 형식의 치환문자는 그 뒤에 지정해야 함\n"
   ]
  },
  {
   "cell_type": "code",
   "execution_count": 12,
   "metadata": {},
   "outputs": [
    {
     "name": "stdout",
     "output_type": "stream",
     "text": [
      "I eat 3 apples\n"
     ]
    }
   ],
   "source": [
    "# 0번째 위치에 format() 함수에 전달된 0번째 값을 대입\n",
    "msg1 = \"I eat {0} apples\"\n",
    "print(msg1.format(3))"
   ]
  },
  {
   "cell_type": "code",
   "execution_count": 13,
   "metadata": {},
   "outputs": [
    {
     "name": "stdout",
     "output_type": "stream",
     "text": [
      "개강일은 2023년 1월 26일 입니다.\n"
     ]
    }
   ],
   "source": [
    "# 여러 개의 값을 혼용하기\n",
    "msg2 = \"{0}은 {1}년 {2}월 {3}일 입니다.\"\n",
    "print(msg2.format(\"개강일\", 2023, 1, 26))"
   ]
  },
  {
   "cell_type": "code",
   "execution_count": 14,
   "metadata": {},
   "outputs": [
    {
     "name": "stdout",
     "output_type": "stream",
     "text": [
      "종강일은 2023년 10월 20일 입니다.\n"
     ]
    }
   ],
   "source": [
    "# 이름으로 넣기 --> format() 매서드에 전달되는 파리미터 순서는 영향이 없다.\n",
    "msg3 = \"{name}은 {yy}년 {mm}월 {dd}일 입니다.\"\n",
    "print(msg3.format(mm = 10, name = \"종강일\", dd = 20, yy = 2023))"
   ]
  },
  {
   "cell_type": "code",
   "execution_count": 15,
   "metadata": {},
   "outputs": [
    {
     "name": "stdout",
     "output_type": "stream",
     "text": [
      "생일은 2023년 1월 31일 입니다.\n"
     ]
    }
   ],
   "source": [
    "# 혼합사용 -> 숫자형식의 치환문자가 format() 매서드 안에서 먼저 위치해야 한다.\n",
    "msg4 = \"{0}은 {yy}년 {mm}월 {dd}일 입니다.\"\n",
    "print(msg4.format(\"생일\", yy = 2023, mm = 1, dd = 31))"
   ]
  },
  {
   "cell_type": "code",
   "execution_count": 16,
   "metadata": {},
   "outputs": [
    {
     "name": "stdout",
     "output_type": "stream",
     "text": [
      "좋은 교과서는 이 책입니다.\n"
     ]
    }
   ],
   "source": [
    "# 인덱스 번호는 format() 함수 내의 순서 -> 형식 문자열 안에서는 자유롭게 배치 가능\n",
    "fmt5 = \"{1} {name}는 이 {0}입니다.\"\n",
    "rst = fmt5.format(\"책\", \"좋은\", name = \"교과서\")\n",
    "print(rst)"
   ]
  },
  {
   "cell_type": "code",
   "execution_count": 17,
   "metadata": {},
   "outputs": [
    {
     "ename": "SyntaxError",
     "evalue": "positional argument follows keyword argument (2757215388.py, line 3)",
     "output_type": "error",
     "traceback": [
      "\u001b[1;36m  Cell \u001b[1;32mIn[17], line 3\u001b[1;36m\u001b[0m\n\u001b[1;33m    err_result = err.format(name = \"교과서\", \"책\", \"좋은\")\u001b[0m\n\u001b[1;37m                                                   ^\u001b[0m\n\u001b[1;31mSyntaxError\u001b[0m\u001b[1;31m:\u001b[0m positional argument follows keyword argument\n"
     ]
    }
   ],
   "source": [
    "# 인덱스 번호보다 이름 매개변수가 먼저 지정되면 에러\n",
    "err = \"이 {0}(은)는 {1} {name} 입니다.\"\n",
    "err_result = err.format(name = \"교과서\", \"책\", \"좋은\")\n",
    "print(err_result)"
   ]
  },
  {
   "cell_type": "markdown",
   "metadata": {},
   "source": [
    "## 치환문자의 출력값 정렬과 공백채우기\n",
    "- {인덱스 : (채울문자) (정렬방법) (자리수)}로 설정\n",
    "  - 채울문자에 빈칸에 채울 문자 지정 가능 (0도 가능)\n",
    "  - 정렬방법 : >는 오른쪽 정렬 <는 왼쪽 정렬 ^는 가운데 정렬\n",
    "  - 자리수는 %포맷과 동일하게 작용\n",
    "  - 소수 처리의 경우 % 포맷과 동일한 기준\n"
   ]
  },
  {
   "cell_type": "code",
   "execution_count": 18,
   "metadata": {},
   "outputs": [
    {
     "name": "stdout",
     "output_type": "stream",
     "text": [
      "[   Hi]!!Python, [  Welcome]~Python\n"
     ]
    }
   ],
   "source": [
    "# 5글자 오른쪽 정렬 -> \"%5s\"와 동일\n",
    "sort1 = \"[{0:>5}]!!Python, [{1:>9}]~Python\"\n",
    "print(sort1.format(\"Hi\", \"Welcome\"))"
   ]
  },
  {
   "cell_type": "code",
   "execution_count": 19,
   "metadata": {},
   "outputs": [
    {
     "name": "stdout",
     "output_type": "stream",
     "text": [
      "[Hi   ]!!Python, [Welcome  ]~Python\n"
     ]
    }
   ],
   "source": [
    "# 5글자 왼쪽 정렬 -> \"%-5s\"와 동일\n",
    "sort1 = \"[{0:<5}]!!Python, [{1:<9}]~Python\"\n",
    "print(sort1.format(\"Hi\", \"Welcome\"))"
   ]
  },
  {
   "cell_type": "code",
   "execution_count": 20,
   "metadata": {},
   "outputs": [
    {
     "name": "stdout",
     "output_type": "stream",
     "text": [
      "[ Hi  ]!!Python, [ Welcome ]~Python\n"
     ]
    }
   ],
   "source": [
    "# 가운데 정렬\n",
    "sort1 = \"[{0:^5}]!!Python, [{1:^9}]~Python\"\n",
    "print(sort1.format(\"Hi\", \"Welcome\"))"
   ]
  },
  {
   "cell_type": "code",
   "execution_count": 21,
   "metadata": {},
   "outputs": [
    {
     "name": "stdout",
     "output_type": "stream",
     "text": [
      "[Hi~~~!!Python!! [**Hello**]!!Python]\n"
     ]
    }
   ],
   "source": [
    "# 공백을 특정 글자로 채우기\n",
    "blank1 = \"[{0:~<5}!!Python!! [{1:*^9}]!!Python]\"\n",
    "print(blank1.format(\"Hi\", \"Hello\"))"
   ]
  },
  {
   "cell_type": "code",
   "execution_count": 22,
   "metadata": {},
   "outputs": [
    {
     "name": "stdout",
     "output_type": "stream",
     "text": [
      "010-****--5678\n"
     ]
    }
   ],
   "source": [
    "phone = \"010-1234-5678\"\n",
    "blank2 = \"{0}-{1:*>4}--{2}\"\n",
    "result = blank2.format(phone[:3], \"\", phone[-4:])\n",
    "print(result)"
   ]
  },
  {
   "cell_type": "code",
   "execution_count": 23,
   "metadata": {},
   "outputs": [
    {
     "name": "stdout",
     "output_type": "stream",
     "text": [
      "123.4568\n"
     ]
    }
   ],
   "source": [
    "# 소수점 4째자리까지 표현하기 -> 5자리에서 반올림\n",
    "float1 = \"{0:0.4f}\"\n",
    "print(float1.format(123.456789))"
   ]
  },
  {
   "cell_type": "code",
   "execution_count": 24,
   "metadata": {},
   "outputs": [
    {
     "name": "stdout",
     "output_type": "stream",
     "text": [
      "[  123.4568]\n"
     ]
    }
   ],
   "source": [
    "# 전체 10글자, 소수점 4째자리까지 표현하기 -> 5째자리에서 반올림\n",
    "float2 = \"[{0:10.4f}]\"\n",
    "print(float2.format(123.456789))"
   ]
  },
  {
   "cell_type": "code",
   "execution_count": 25,
   "metadata": {},
   "outputs": [
    {
     "name": "stdout",
     "output_type": "stream",
     "text": [
      "00123.4568\n"
     ]
    }
   ],
   "source": [
    "# 전체 10글자, 공백은 0, 소수점 4째자리까지 표현하기\n",
    "# 5째자리에서 반올림\n",
    "float3 = \"{0:010.4f}\"\n",
    "print(float3.format(123.456789))"
   ]
  },
  {
   "cell_type": "code",
   "execution_count": 26,
   "metadata": {},
   "outputs": [
    {
     "name": "stdout",
     "output_type": "stream",
     "text": [
      "{python}은 쉽다\n",
      "{python}은 간결하다\n"
     ]
    }
   ],
   "source": [
    "# 문자열에 \"{나  \"}\" 포함시키기 -> 두겹으로 사용\n",
    "my = \"{{python}}은 {0}다\"\n",
    "print(my.format(\"쉽\"))\n",
    "print(my.format(\"간결하\"))"
   ]
  },
  {
   "cell_type": "markdown",
   "metadata": {},
   "source": [
    "## 문자열의 내장함수"
   ]
  },
  {
   "cell_type": "markdown",
   "metadata": {},
   "source": [
    "- 내장함수 len() : 파라미터로 전달된 변수의 길이를 측정하여 출력\n",
    "  - 문자열 변수를 입력하면 글자수를 출력\n",
    "    - 여러가지 문자는 물론, 특수문자, 공백도 1개로 카운트"
   ]
  },
  {
   "cell_type": "code",
   "execution_count": 27,
   "metadata": {},
   "outputs": [
    {
     "name": "stdout",
     "output_type": "stream",
     "text": [
      "12\n"
     ]
    }
   ],
   "source": [
    "# 전체 글자수 세기 -> 한글, 영문 구분 없이 1글자씩 카운트\n",
    "mystr = \"Hello Python\"\n",
    "length = len(mystr)\n",
    "print(length)"
   ]
  },
  {
   "cell_type": "code",
   "execution_count": 28,
   "metadata": {},
   "outputs": [
    {
     "name": "stdout",
     "output_type": "stream",
     "text": [
      "9\n"
     ]
    }
   ],
   "source": [
    "# 반환되는 값을 변수에 저장하지 않고 직접 출력도 가능함.\n",
    "print(len(\"안녕하세요 파이썬\"))"
   ]
  },
  {
   "cell_type": "markdown",
   "metadata": {},
   "source": [
    "- 객체 : 필요에 따라 다른 변수와 함수를 내장하고 있는 특수한 변수\n",
    "  - 메서드 : 객체에 포함되어 있는 함수"
   ]
  },
  {
   "cell_type": "markdown",
   "metadata": {},
   "source": [
    "- 문자열에 포함된 내장함수\n",
    "  - count() : 문자열 내부에 패러미터로 입력된 문자가 몇번 있는지 셈\n",
    "    - 1개 문자 뿐 아니라 단어 단위도 가능\n",
    "  - find() : 문자열에서 패러미터로 입력된 문자가 처음으로 등장하는 인덱스 번호를 반환\n",
    "    - 찾는 문자가 없을 경우 -1 반환\n",
    "  - rfind() : find와 유사하지만 입력된 문자가 마지막으로 등장하는 인덱스 번호를 반환\n",
    "    - 찾는 문자가 없을 경우 -1 반환\n",
    "  - startswith() : 문자열이 패러미터로 입력된 문자열로 시작되면 True 아니면 False 반환\n",
    "    - endswith() : 문자열이 패러미터로 입력된 문자열로 끝나면 Treu 아니면 False 반환\n",
    "  - upper() : 패러미터로 입력된 영문을 모두 대문자로 변환\n",
    "    - lower() : 패러미터로 입력된 영문을 모두 소문자로 변환\n",
    "    - swapcase() : 패러미터로 입력된 영문을 대문자는 소문자로 소문자는 대문자로 변환\n",
    "  - capitalize() : 패러미터로 입력된 첫 번째 글자를 대문자로 변환하여 반환\n",
    "  - title() : 각 단어의 첫 번째 글자를 대문자로 변환하여 반환\n",
    "  - strip() : 입력된 문자열의 양쪽의 공백을 제거하여 반환(엑셀 trim)\n",
    "    - lstrip(), rstrip() : 왼쪽과 오른쪽의 공백을 제거하여 반환\n",
    "  - replace(A, B) : 문자열에서 A를 B로 변경하여 반환"
   ]
  },
  {
   "cell_type": "code",
   "execution_count": 29,
   "metadata": {},
   "outputs": [],
   "source": [
    "# 실습을 위한 샘플 문자열\n",
    "str = \"파이썬 프로그래밍으로 데이터를 분석합니다.\""
   ]
  },
  {
   "cell_type": "code",
   "execution_count": 30,
   "metadata": {},
   "outputs": [
    {
     "name": "stdout",
     "output_type": "stream",
     "text": [
      "2\n",
      "0\n"
     ]
    }
   ],
   "source": [
    "# 글자 카운트\n",
    "print(str.count(\"이\"))\n",
    "print(str.count(\"가\"))"
   ]
  },
  {
   "cell_type": "code",
   "execution_count": 31,
   "metadata": {},
   "outputs": [
    {
     "name": "stdout",
     "output_type": "stream",
     "text": [
      "1\n",
      "0\n"
     ]
    }
   ],
   "source": [
    "# 단어 카운트\n",
    "print(str.count(\"파이썬\"))\n",
    "print(str.count(\"Python\"))"
   ]
  },
  {
   "cell_type": "code",
   "execution_count": 32,
   "metadata": {},
   "outputs": [],
   "source": [
    "# 실습을 위한 문자열\n",
    "message = \"내가 좋아하는 것에만 집중하기로 했다.\""
   ]
  },
  {
   "cell_type": "code",
   "execution_count": 33,
   "metadata": {},
   "outputs": [
    {
     "name": "stdout",
     "output_type": "stream",
     "text": [
      "1\n",
      "-1\n"
     ]
    }
   ],
   "source": [
    "# 글자의 위치 조회 (찾지 못할 경우 -1을 반환한다.)\n",
    "print(message.find(\"가\"))\n",
    "print(message.find(\"나\"))"
   ]
  },
  {
   "cell_type": "code",
   "execution_count": 34,
   "metadata": {},
   "outputs": [
    {
     "name": "stdout",
     "output_type": "stream",
     "text": [
      "12\n",
      "-1\n"
     ]
    }
   ],
   "source": [
    "# 단어의 시작 위치 조회 (찾지 못할 경우 -1을 반환한다.)\n",
    "print(message.find(\"집중\"))\n",
    "print(message.find(\"파이썬\"))"
   ]
  },
  {
   "cell_type": "code",
   "execution_count": 35,
   "metadata": {},
   "outputs": [],
   "source": [
    "# 실습을 위한 문자열\n",
    "sentence = \"사람의 사람에 의한 사람을 위한\""
   ]
  },
  {
   "cell_type": "code",
   "execution_count": 36,
   "metadata": {},
   "outputs": [
    {
     "name": "stdout",
     "output_type": "stream",
     "text": [
      "11\n",
      "-1\n"
     ]
    }
   ],
   "source": [
    "# 글자 검색\n",
    "# -> 마지막으로 나타나는 글자의 왼쪽에서 0부터 카운트\n",
    "# -> 찾지 못할 경우 -1을 리턴\n",
    "print(sentence.rfind(\"사\"))\n",
    "print(sentence.rfind(\"자\"))"
   ]
  },
  {
   "cell_type": "code",
   "execution_count": 37,
   "metadata": {},
   "outputs": [
    {
     "name": "stdout",
     "output_type": "stream",
     "text": [
      "11\n",
      "-1\n"
     ]
    }
   ],
   "source": [
    "# 단어 검색\n",
    "print(sentence.rfind(\"사람\"))\n",
    "print(sentence.rfind(\"인간\"))"
   ]
  },
  {
   "cell_type": "code",
   "execution_count": 38,
   "metadata": {},
   "outputs": [],
   "source": [
    "# 실습을 위한 문자열\n",
    "str = \"Life is too short, You need Python\""
   ]
  },
  {
   "cell_type": "code",
   "execution_count": 39,
   "metadata": {},
   "outputs": [
    {
     "name": "stdout",
     "output_type": "stream",
     "text": [
      "True\n"
     ]
    }
   ],
   "source": [
    "# 대문자 \"L\"로 시작하는지 검사\n",
    "print(str.startswith(\"L\"))"
   ]
  },
  {
   "cell_type": "code",
   "execution_count": 40,
   "metadata": {},
   "outputs": [
    {
     "name": "stdout",
     "output_type": "stream",
     "text": [
      "False\n"
     ]
    }
   ],
   "source": [
    "# 소문자 \"l\"로 시작하는지 검사\n",
    "print(str.startswith(\"l\"))"
   ]
  },
  {
   "cell_type": "code",
   "execution_count": 41,
   "metadata": {},
   "outputs": [
    {
     "name": "stdout",
     "output_type": "stream",
     "text": [
      "True\n"
     ]
    }
   ],
   "source": [
    "# \"Life\"라는 단어로 시작하는지 검사\n",
    "print(str.startswith(\"Life\"))"
   ]
  },
  {
   "cell_type": "code",
   "execution_count": 42,
   "metadata": {},
   "outputs": [
    {
     "name": "stdout",
     "output_type": "stream",
     "text": [
      "False\n"
     ]
    }
   ],
   "source": [
    "# \"life\"라는 단어로 시작하는지 검사\n",
    "print(str.startswith(\"life\"))"
   ]
  },
  {
   "cell_type": "code",
   "execution_count": 43,
   "metadata": {},
   "outputs": [
    {
     "name": "stdout",
     "output_type": "stream",
     "text": [
      "False\n"
     ]
    }
   ],
   "source": [
    "# 대문자 \"N\"으로 끝나는지 검사\n",
    "print(str.endswith(\"N\"))"
   ]
  },
  {
   "cell_type": "code",
   "execution_count": 44,
   "metadata": {},
   "outputs": [
    {
     "name": "stdout",
     "output_type": "stream",
     "text": [
      "True\n"
     ]
    }
   ],
   "source": [
    "# 소문자 \"n\"으로 끝나는지 검사\n",
    "print(str.endswith(\"n\"))"
   ]
  },
  {
   "cell_type": "code",
   "execution_count": 45,
   "metadata": {},
   "outputs": [
    {
     "name": "stdout",
     "output_type": "stream",
     "text": [
      "True\n"
     ]
    }
   ],
   "source": [
    "# \"Python\"이라는 단어로 끝나는지 검사\n",
    "print(str.endswith(\"Python\"))"
   ]
  },
  {
   "cell_type": "code",
   "execution_count": 46,
   "metadata": {},
   "outputs": [
    {
     "name": "stdout",
     "output_type": "stream",
     "text": [
      "False\n"
     ]
    }
   ],
   "source": [
    "# \"python\"이라는 단어로 끝나는지 검사\n",
    "print(str.endswith(\"python\"))"
   ]
  },
  {
   "cell_type": "code",
   "execution_count": 47,
   "metadata": {},
   "outputs": [
    {
     "name": "stdout",
     "output_type": "stream",
     "text": [
      "LIFE IS TOO SHORT, YOU NEED PYTHON\n"
     ]
    }
   ],
   "source": [
    "# 모든 글자를 대문자로 변환\n",
    "upchar = str.upper()\n",
    "print(upchar)"
   ]
  },
  {
   "cell_type": "code",
   "execution_count": 48,
   "metadata": {},
   "outputs": [
    {
     "name": "stdout",
     "output_type": "stream",
     "text": [
      "life is too short, you need python\n"
     ]
    }
   ],
   "source": [
    "# 모든 글자를 소문자로 변환\n",
    "lowchar = str.lower()\n",
    "print(lowchar)"
   ]
  },
  {
   "cell_type": "code",
   "execution_count": 49,
   "metadata": {},
   "outputs": [
    {
     "name": "stdout",
     "output_type": "stream",
     "text": [
      "Life is too short, You need Python\n"
     ]
    }
   ],
   "source": [
    "# 원본은 변하지 않음\n",
    "print(str)"
   ]
  },
  {
   "cell_type": "code",
   "execution_count": 50,
   "metadata": {},
   "outputs": [
    {
     "name": "stdout",
     "output_type": "stream",
     "text": [
      "lIFE IS TOO SHORT, yOU NEED pYTHON\n"
     ]
    }
   ],
   "source": [
    "# 대문자는 소문자로, 소문자는 대문자로 변환한 결과 반환\n",
    "print(str.swapcase())"
   ]
  },
  {
   "cell_type": "code",
   "execution_count": 51,
   "metadata": {},
   "outputs": [
    {
     "name": "stdout",
     "output_type": "stream",
     "text": [
      "Life is too short, you need python\n"
     ]
    }
   ],
   "source": [
    "# 문장의 첫 글자를 대문자로 변환한 결과를 반환\n",
    "print(str.capitalize())"
   ]
  },
  {
   "cell_type": "code",
   "execution_count": 52,
   "metadata": {},
   "outputs": [
    {
     "name": "stdout",
     "output_type": "stream",
     "text": [
      "Life Is Too Short, You Need Python\n"
     ]
    }
   ],
   "source": [
    "# 각 단어의 첫 글자를 대문자로 변환한 결과를 반환한다.\n",
    "print(str.title())"
   ]
  },
  {
   "cell_type": "code",
   "execution_count": 53,
   "metadata": {},
   "outputs": [
    {
     "name": "stdout",
     "output_type": "stream",
     "text": [
      "[          python           ]\n"
     ]
    }
   ],
   "source": [
    "# 실습을 위한 문자열 (앞, 뒤에 공백이 포함됨)\n",
    "k = \"          python           \"\n",
    "print(\"[\" + k + \"]\")"
   ]
  },
  {
   "cell_type": "code",
   "execution_count": 54,
   "metadata": {},
   "outputs": [
    {
     "name": "stdout",
     "output_type": "stream",
     "text": [
      "[python]\n"
     ]
    }
   ],
   "source": [
    "# 앞뒤 공백 제거\n",
    "x = k.strip()\n",
    "print(\"[\" + x + \"]\")"
   ]
  },
  {
   "cell_type": "code",
   "execution_count": 55,
   "metadata": {},
   "outputs": [
    {
     "name": "stdout",
     "output_type": "stream",
     "text": [
      "[python           ]\n"
     ]
    }
   ],
   "source": [
    "# 왼쪽 공백 제거\n",
    "y = k.lstrip()\n",
    "print(\"[\" + y + \"]\")"
   ]
  },
  {
   "cell_type": "code",
   "execution_count": 56,
   "metadata": {},
   "outputs": [
    {
     "name": "stdout",
     "output_type": "stream",
     "text": [
      "[          python]\n"
     ]
    }
   ],
   "source": [
    "# 오른쪽 공백 제거\n",
    "z = k.rstrip()\n",
    "print(\"[\" + z + \"]\")"
   ]
  },
  {
   "cell_type": "code",
   "execution_count": 57,
   "metadata": {},
   "outputs": [
    {
     "name": "stdout",
     "output_type": "stream",
     "text": [
      "Hello Python\n",
      "Hello World\n"
     ]
    }
   ],
   "source": [
    "myMessage = \"Hello World\"\n",
    "\n",
    "# 변수.replace(A, B), 변수에서 A를 B로 변경한 결과를 반환\n",
    "newMessage = myMessage.replace(\"World\", \"Python\")\n",
    "print(newMessage)\n",
    "\n",
    "# 원본은 변화 없음\n",
    "print(myMessage)"
   ]
  },
  {
   "cell_type": "markdown",
   "metadata": {},
   "source": [
    "## 연구과제"
   ]
  },
  {
   "cell_type": "code",
   "execution_count": 84,
   "metadata": {},
   "outputs": [],
   "source": [
    "dir1 = \"C:\\\\myphoto\\\\summer\\\\korea\\\\food.1020.123.png\""
   ]
  },
  {
   "cell_type": "code",
   "execution_count": 85,
   "metadata": {},
   "outputs": [],
   "source": [
    "finalslash = dir1.rfind(\"\\\\\")\n",
    "ext = dir1.rfind(\".\")"
   ]
  },
  {
   "cell_type": "code",
   "execution_count": 86,
   "metadata": {},
   "outputs": [
    {
     "name": "stdout",
     "output_type": "stream",
     "text": [
      "폴더의 위치 : C:\\myphoto\\summer\\korea\n",
      "파일이름 : food.1020.123\n",
      "확장자 : png\n"
     ]
    }
   ],
   "source": [
    "print(\"폴더의 위치 :\", dir1[:finalslash])\n",
    "print(\"파일이름 :\", dir1[finalslash+1:ext])\n",
    "print(\"확장자 :\", dir1[ext+1:])"
   ]
  },
  {
   "cell_type": "code",
   "execution_count": 1,
   "metadata": {},
   "outputs": [
    {
     "name": "stdout",
     "output_type": "stream",
     "text": [
      "A\n"
     ]
    }
   ],
   "source": [
    "print('A')"
   ]
  },
  {
   "cell_type": "code",
   "execution_count": null,
   "metadata": {},
   "outputs": [],
   "source": []
  },
  {
   "cell_type": "code",
   "execution_count": null,
   "metadata": {},
   "outputs": [],
   "source": []
  }
 ],
 "metadata": {
  "kernelspec": {
   "display_name": "Python 3",
   "language": "python",
   "name": "python3"
  },
  "language_info": {
   "codemirror_mode": {
    "name": "ipython",
    "version": 3
   },
   "file_extension": ".py",
   "mimetype": "text/x-python",
   "name": "python",
   "nbconvert_exporter": "python",
   "pygments_lexer": "ipython3",
   "version": "3.9.13"
  }
 },
 "nbformat": 4,
 "nbformat_minor": 2
}
