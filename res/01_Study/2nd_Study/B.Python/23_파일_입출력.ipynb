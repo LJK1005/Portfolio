{
 "cells": [
  {
   "cell_type": "markdown",
   "metadata": {},
   "source": [
    "# 23강 파일 입출력"
   ]
  },
  {
   "cell_type": "markdown",
   "metadata": {},
   "source": [
    "- 파일 입출력\n",
    "  - output : 프로그램에서 프로그램 외부로 내용을 '저장'함\n",
    "  - input : 프로그램 외부에서 파일을 프로그램으로 '읽음'\n",
    "- open() 함수\n",
    "  - 파일을 저장하거나 읽을 수 있는 기능을 제공하는 파일 객체를 리턴하는 함수\n",
    "    - 지정 파라미터\n",
    "      - 파일 경로 : 파일 경로\n",
    "        - 지정된 파일이 존재하지 않으면 파일을 새로 생성하고, 존재하면 해당 파일을 가져옴\n",
    "      - 읽기 모드 : 파일을 읽어들이는 방식 지정\n",
    "        - r : 텍스트 읽기\n",
    "        - w : 텍스트 새로쓰기(기존 내용이 삭제됨)\n",
    "        - a : 텍스트 이어쓰기(기존 내용이 유지됨)\n",
    "        - (r, w, a)b : 바이너리 방식으로 처리 \n",
    "      - 인코딩 : 텍스트 인코딩 방식\n",
    "        - euc-kr, utf-8\n",
    "  - 파일의 편집이 완료되면 객체.close()로 파일을 닫아야 함\n",
    "  - 객체.write는 print와 달리 자동 줄바꿈이 없으므로 줄 바꿈을 위해서는 이스케이프 문자를 사용해야 함"
   ]
  },
  {
   "cell_type": "markdown",
   "metadata": {},
   "source": [
    "- 파일의 경로\n",
    "  - 파일 시스템 내에서 특정 파일이나 폴더의 위치를 나타내는 방식\n",
    "    - 절대경로 : 작업중인 위치에 관계없이 같은 문자열로 접근 가능한 경로 방식\n",
    "      - 파일 시스템의 최상위 위치부터 목적 위치까지 나열\n",
    "    - 상대경로 : 현재 작업중인 파일의 위치를 기준으로 탐색\n",
    "      - ../ : 상위폴더\n",
    "        - 여러 단계의 상위폴더로 이동해야 하면 ../를 여러번 사용\n",
    "          - ex) ../folder1/photo2.jpg\n",
    "      - ./ : 현재폴더\n",
    "        - 현재 폴더 내 다른 파일이나 폴더를 명시할 때는 ./만 붙이거나 생략하고 파일명만 적을 수 있음\n",
    "          - ex) photo3.jpg = ./photo3.jpg"
   ]
  },
  {
   "cell_type": "markdown",
   "metadata": {},
   "source": [
    "- 인코딩 (부호화)\n",
    "  - 컴퓨터에서의 저장이나 통신을 위해 데이터를 부호화하는 고유의 방식\n",
    "    - 확장 ANSI : 국가별로 나누어짐 8비트로 한 글자 표현(영문 7비트 + 조합형 글자 1비트 = 8비트)\n",
    "      - 영어를 제외한 타 국가의 언어는 사용할 수 없음\n",
    "      - 한글 윈도우에서는 euc-kr (=cp949)를 사용, 한글은 글자당 최소 2바이트 사용\n",
    "    - UTF-8 : 다국어를 한번에 표현 가능한 인코딩 체계, 언어와 관계없이 한 글자당 3바이트 사용"
   ]
  },
  {
   "cell_type": "code",
   "execution_count": 14,
   "metadata": {},
   "outputs": [],
   "source": [
    "# 새로운 파일 생성, 혹은 기존의 파일 열기\n",
    "# -> 파일 경로와 파일 열기 모드 설정\n",
    "# -> r : 읽기모드\n",
    "#    w : 쓰기모드(기존의 내용을 덮어씀)\n",
    "#    a : 추가모드(기존의 내용을 유지하고 뒤에 추가)\n",
    "f = open(\"helloworld.txt\", 'w', encoding = 'utf-8')\n",
    "\n",
    "# 파일에 내용 기록하기\n",
    "# -> 두 문장을 연달아서 한 줄에 기록한다\n",
    "# -> 줄바꿈을 원하는 위치에 줄바꿈을 의미하는 이스케이프 문자(\\n)을 사용\n",
    "f.write(\"Hello Python!!!\\n\")\n",
    "f.write(\"안녕하세요, 파이썬!!!\\n\")\n",
    "\n",
    "# open()함수를 단독으로 사용할 경우 파일작업 완료 후 닫기를 반드시 수행.\n",
    "f.close()"
   ]
  },
  {
   "cell_type": "code",
   "execution_count": 15,
   "metadata": {},
   "outputs": [
    {
     "name": "stdout",
     "output_type": "stream",
     "text": [
      "Hello Python!!!\n",
      "안녕하세요, 파이썬!!!\n",
      "\n"
     ]
    }
   ],
   "source": [
    "# 이전 예제에서 생성한 파일을 읽어들이기 위해 연다.\n",
    "# -> 읽기모드(r) 지정에 유의\n",
    "# -> 인코딩 방식은 저장 방식과 동일하게 지정. (다를 경우 에러)\n",
    "f = open(\"helloworld.txt\", 'r', encoding = 'utf-8')\n",
    "\n",
    "# 파일의 모든 내용을 한 번에 문자열로 읽어들인다.\n",
    "# -> 아래와 같이 파일의 모든 내용을 변수에 저장한 것과 동일한 효과\n",
    "#   data = \"Hello Python!!!\\n안녕하세요, 파이썬!!!\"\n",
    "data = f.read()\n",
    "print(data)\n",
    "\n",
    "# open() 함수를 단독으로 사용할 경우 파일작업 완료 후 닫기를 반드시 수행.\n",
    "f.close()"
   ]
  },
  {
   "cell_type": "markdown",
   "metadata": {},
   "source": [
    "- with\n",
    "  - with open() as 이름: ~~ 제어문\n",
    "    - with에서 연 파일 객체는 with문 안에서만 열려있음\n",
    "    - close()를 해주지 않아도 파일이 자동으로 닫힘\n",
    "- 객체.read() : 파일의 모든 내용을 반환\n",
    "  - 객체.readlines()\n",
    "    - 파일 내의 내용을 줄 단위로 나누어 리스트에 담아서 반환함\n",
    "    - 줄을 바꾸는 이스케이프 문자도 내용에 포함됨\n",
    "      - 문자열.strip()을 적용하면 줄바꿈 이스케이프 문자도 삭제됨\n",
    "        - 외부파일은 이스케이프 문자를 포함하므로 보통 strip을 적용"
   ]
  },
  {
   "cell_type": "code",
   "execution_count": 12,
   "metadata": {},
   "outputs": [
    {
     "name": "stdout",
     "output_type": "stream",
     "text": [
      "파일 저장이 완료되었습니다.\n"
     ]
    }
   ],
   "source": [
    "# 이전 예제와 동일하지만 f.close()처리는 자동으로 수행함.\n",
    "with open(\"hellopython.txt\", \"w\", encoding = 'utf-8') as f:\n",
    "    # with 블록 안에서만 파일 객체 f가 유효함\n",
    "    for i in range(0, 10):\n",
    "        f.write(\"%d >> \" % i)\n",
    "        f.write(\"Life is too short, \")\n",
    "        f.write(\"you need python\\n\")\n",
    "    \n",
    "    print(\"파일 저장이 완료되었습니다.\")"
   ]
  },
  {
   "cell_type": "code",
   "execution_count": 13,
   "metadata": {},
   "outputs": [
    {
     "name": "stdout",
     "output_type": "stream",
     "text": [
      "0 >> Life is too short, you need python\n",
      "1 >> Life is too short, you need python\n",
      "2 >> Life is too short, you need python\n",
      "3 >> Life is too short, you need python\n",
      "4 >> Life is too short, you need python\n",
      "5 >> Life is too short, you need python\n",
      "6 >> Life is too short, you need python\n",
      "7 >> Life is too short, you need python\n",
      "8 >> Life is too short, you need python\n",
      "9 >> Life is too short, you need python\n",
      "\n"
     ]
    }
   ],
   "source": [
    "# 일기 모드로 파일 객체 생성하기\n",
    "# 'w'에서 'r'로 모드가 변경되어야 하므로 파일 객체를 새로 생성해야 한다.\n",
    "with open(\"hellopython.txt\", 'r', encoding = 'utf-8') as f:\n",
    "    # 파일의 내용을 변수에 저장함\n",
    "    data = f.read()\n",
    "    print(data)"
   ]
  },
  {
   "cell_type": "code",
   "execution_count": 16,
   "metadata": {},
   "outputs": [
    {
     "name": "stdout",
     "output_type": "stream",
     "text": [
      "['Hello Python!!!\\n', '안녕하세요, 파이썬!!!\\n']\n",
      "------------------------------\n",
      "읽어들인 데이터는 총 2줄 입니다.\n",
      "------------------------------\n",
      "Hello Python!!!\n",
      "안녕하세요, 파이썬!!!\n"
     ]
    }
   ],
   "source": [
    "with open(\"helloworld.txt\", 'r', encoding = 'utf-8') as f:\n",
    "    # 파일의 각 행을 원소로 갖는 리스트 생성\n",
    "    # -> 아래의 구문과 동일한 효과\n",
    "    # lines = [\"Hello Python!!!\\n\", \"안녕하세요. 파이썬!!!\\n\"]\n",
    "    lines = f.readlines()\n",
    "    print(lines)\n",
    "    print(\"-\" * 30)\n",
    "\n",
    "    # 전체 리스트의 크기 확인\n",
    "    size = len(lines)\n",
    "    print(\"읽어들인 데이터는 총 %d줄 입니다.\" % size)\n",
    "    print(\"-\" * 30)\n",
    "\n",
    "    for item in lines:\n",
    "        # 읽어들인 데이터에 줄바꿈 문자가 포함되므로 공백제거 필요\n",
    "        print(item.strip())"
   ]
  },
  {
   "cell_type": "code",
   "execution_count": 21,
   "metadata": {},
   "outputs": [],
   "source": [
    "with open(\"test.txt\", 'w', encoding = 'utf-8') as f:\n",
    "    f.write(\"첫번째 문장입니다\\n\")"
   ]
  },
  {
   "cell_type": "code",
   "execution_count": 22,
   "metadata": {},
   "outputs": [],
   "source": [
    "with open(\"test.txt\", 'a', encoding = 'utf-8') as f:\n",
    "    f.write(\"두번째 문장입니다\")"
   ]
  },
  {
   "cell_type": "code",
   "execution_count": 29,
   "metadata": {},
   "outputs": [
    {
     "name": "stdout",
     "output_type": "stream",
     "text": [
      "첫번째 문장입니다\n",
      "두번째 문장입니다\n"
     ]
    }
   ],
   "source": [
    "with open(\"test.txt\", 'r', encoding = 'utf-8') as f:\n",
    "    lines = f.read()\n",
    "    print(lines)"
   ]
  },
  {
   "cell_type": "code",
   "execution_count": null,
   "metadata": {},
   "outputs": [],
   "source": []
  },
  {
   "cell_type": "code",
   "execution_count": null,
   "metadata": {},
   "outputs": [],
   "source": []
  },
  {
   "cell_type": "code",
   "execution_count": null,
   "metadata": {},
   "outputs": [],
   "source": []
  },
  {
   "cell_type": "code",
   "execution_count": null,
   "metadata": {},
   "outputs": [],
   "source": []
  },
  {
   "cell_type": "code",
   "execution_count": null,
   "metadata": {},
   "outputs": [],
   "source": []
  },
  {
   "cell_type": "code",
   "execution_count": null,
   "metadata": {},
   "outputs": [],
   "source": []
  },
  {
   "cell_type": "code",
   "execution_count": null,
   "metadata": {},
   "outputs": [],
   "source": []
  },
  {
   "cell_type": "code",
   "execution_count": null,
   "metadata": {},
   "outputs": [],
   "source": []
  },
  {
   "cell_type": "code",
   "execution_count": null,
   "metadata": {},
   "outputs": [],
   "source": []
  },
  {
   "cell_type": "code",
   "execution_count": null,
   "metadata": {},
   "outputs": [],
   "source": []
  },
  {
   "cell_type": "code",
   "execution_count": null,
   "metadata": {},
   "outputs": [],
   "source": []
  },
  {
   "cell_type": "code",
   "execution_count": null,
   "metadata": {},
   "outputs": [],
   "source": []
  },
  {
   "cell_type": "code",
   "execution_count": null,
   "metadata": {},
   "outputs": [],
   "source": []
  }
 ],
 "metadata": {
  "kernelspec": {
   "display_name": "base",
   "language": "python",
   "name": "python3"
  },
  "language_info": {
   "codemirror_mode": {
    "name": "ipython",
    "version": 3
   },
   "file_extension": ".py",
   "mimetype": "text/x-python",
   "name": "python",
   "nbconvert_exporter": "python",
   "pygments_lexer": "ipython3",
   "version": "3.10.9"
  }
 },
 "nbformat": 4,
 "nbformat_minor": 2
}
