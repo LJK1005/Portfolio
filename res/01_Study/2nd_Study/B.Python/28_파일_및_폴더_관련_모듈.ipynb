{
 "cells": [
  {
   "cell_type": "markdown",
   "metadata": {},
   "source": [
    "# 28강 파일 및 폴더 관련 모듈"
   ]
  },
  {
   "cell_type": "markdown",
   "metadata": {},
   "source": [
    "- 파이썬에서 사용되는 모듈, 함수, 메서드 등에 대하여 기능을 쉽게 볼수 있도록 표로 정리하기 (파이썬 치트시트)\n",
    "  - 수시로 확인하여 기능이 어떤게 있는지 파악\n",
    "- 내가 알거나 이해하고 있는 기존 기능을 공식 메뉴얼과 대조하여 비교하기\n",
    "  - 깊이를 더해 지식으로 쌓을 수 있음\n",
    "- 생각이나 내용을 정리할 때 옵시디언을 사용하면 좋음\n",
    "\n",
    "- 목표 자격증\n",
    "  - Cos Pro (굳이?)\n",
    "  - SQLD (필수)\n",
    "  - ADsP (필수)\n",
    "  - 사회조사 분석사 2급\n",
    "  - 빅분기"
   ]
  },
  {
   "cell_type": "markdown",
   "metadata": {},
   "source": [
    "- 파이썬 내장모듈\n",
    "  - 파이썬의 기본 기능(내장함수)를 확장하고 추가적인 기능들을 사용할 수 있도록 해 주는 모듈\n",
    "    - 파이썬에 내장되어 있어 별도 다운로드 필요없이 import 가능"
   ]
  },
  {
   "cell_type": "markdown",
   "metadata": {},
   "source": [
    "- 대표 내장 모듈\n",
    "  - 시스템 정보 : sys, os\n",
    "  - 파일, 디렉토리 작업 : os, shutil, glob\n",
    "  - 날짜, 시간 관련 작업 : datetime\n",
    "  - 메일관련 작업 : smtplib, email"
   ]
  },
  {
   "cell_type": "code",
   "execution_count": 2,
   "metadata": {},
   "outputs": [],
   "source": [
    "# 모듈 참조\n",
    "import sys # 현재 시스템의 정보를 제공하는 모듈\n",
    "import os # 운영체제의 기능에 접근할 수 있는 모듈"
   ]
  },
  {
   "cell_type": "code",
   "execution_count": 12,
   "metadata": {},
   "outputs": [
    {
     "name": "stdout",
     "output_type": "stream",
     "text": [
      "win32\n"
     ]
    }
   ],
   "source": [
    "print(sys.platform)\n",
    "\n",
    "# Mac은 타 운영체제 대비 일부 코드가 다를 수 있음"
   ]
  },
  {
   "cell_type": "code",
   "execution_count": 13,
   "metadata": {},
   "outputs": [
    {
     "name": "stdout",
     "output_type": "stream",
     "text": [
      "['03_첫_번째_파이썬_프로그램.ipynb', '20231121.docx', '[파이썬-01일차] 파이썬 시작, 개발환경구성, HelloPython.pdf', '.git', '05_함수와_객체의_이해.ipynb', '[파이썬-03일차] 문자열의 이해, 문자열 포메팅, 문자열 함수.pdf', '06_연산자.ipynb', '07_문자열의_이해.ipynb', '20231122.docx', '04_변수의_이해.ipynb', '[파이썬-02일차] 변수의 이해, 함수와 객체의 이해, 연산자.pdf', '08_문자열_포매팅.ipynb', '[파이썬-04일차] 리스트의 이해+활용+함수.pdf', '10_리스트의_이해.ipynb', '11_리스트의_활용.ipynb', '12_리스트_관련_함수.ipynb', '[파이썬-05일차] 딕셔너리의 이해+활용, 조건문.pdf', '[파이썬-06일차] 반복문(while, for), 흐름제어.pdf', '13_딕셔너리의_이해.ipynb', '14_딕셔너리의_활용.ipynb', '15_조건문.ipynb', '추가문제.pdf', '16_반복문(1).ipynb', '17_반복문(2)_FOR문.ipynb', '18_프로그램_흐름제어.ipynb', '[파이썬-07일차] 문제유형+종합문제.pdf', '19_코딩테스트_기본유형.ipynb', '[파이썬-08일차] 함수의 이해, 파일 입출력, CSV 다루기.pdf', '22__함수의_이해.ipynb', 'hellopython.txt', 'helloworld.txt', 'test.txt', '23_파일_입출력.ipynb', 'grade.csv', 'grade2.csv', 'traffic_acc.csv', '[파이썬-09일차] 클래스와 객체, 생성자+정보은닉+프로퍼티, 모듈의 이해.pdf', '24_CSV_파일의_이해.ipynb', '25_클래스와_객체.ipynb', 'MyMod1.ipynb', 'MyMod2.ipynb', 'MyMod3.ipynb', '27_모듈의_이해.ipynb', '[파이썬-10일차] 파일 및 폴더, 날짜 및 시간, 메일 발송.pdf', '28_파일_및_폴더_관련_모듈.ipynb']\n"
     ]
    }
   ],
   "source": [
    "# 현재 폴더 내의 하위 항목들의 이름을 리스트로 리턴받음\n",
    "# -> \"./\" 혹은 \".\"은 현재 폴더라는 의미\n",
    "# -> \"../\"는 상위 폴더를 의미\n",
    "ls = os.listdir(\"./\")\n",
    "print(ls)"
   ]
  },
  {
   "cell_type": "code",
   "execution_count": 14,
   "metadata": {},
   "outputs": [
    {
     "name": "stdout",
     "output_type": "stream",
     "text": [
      "False\n"
     ]
    }
   ],
   "source": [
    "# 특정 폴더나 파일이 존재하는지 확인 -> 상대경로일 경우 현재 소스파일 기준\n",
    "k = os.path.exists(\"./hello\")\n",
    "print(k)"
   ]
  },
  {
   "cell_type": "code",
   "execution_count": 18,
   "metadata": {},
   "outputs": [
    {
     "name": "stdout",
     "output_type": "stream",
     "text": [
      "x:\\LJK\\Python\\Mega_IT\\B.Python\\hello\n"
     ]
    }
   ],
   "source": [
    "# 절대경로 확인 -> 존재하지 않더라도 경로값은 확인 가능\n",
    "print(os.path.abspath(\"./hello\"))"
   ]
  },
  {
   "cell_type": "code",
   "execution_count": 26,
   "metadata": {},
   "outputs": [
    {
     "name": "stdout",
     "output_type": "stream",
     "text": [
      "hello 폴더를 삭제했습니다.\n"
     ]
    }
   ],
   "source": [
    "if os.path.exists('./hello') == False:\n",
    "    # 없다면 생성\n",
    "    os.mkdir('./hello')\n",
    "    print('hello 폴더를 생성했습니다.')\n",
    "else:\n",
    "    # 있다면 삭제 -> 빈 폴더만 삭제 가능\n",
    "    os.rmdir('./hello')\n",
    "    print('hello 폴더를 삭제했습니다.')"
   ]
  },
  {
   "cell_type": "code",
   "execution_count": 27,
   "metadata": {},
   "outputs": [],
   "source": [
    "# 모듈 참조하기\n",
    "import glob as gl"
   ]
  },
  {
   "cell_type": "code",
   "execution_count": 28,
   "metadata": {},
   "outputs": [
    {
     "name": "stdout",
     "output_type": "stream",
     "text": [
      "['03_첫_번째_파이썬_프로그램.ipynb', '20231121.docx', '[파이썬-01일차] 파이썬 시작, 개발환경구성, HelloPython.pdf', '05_함수와_객체의_이해.ipynb', '[파이썬-03일차] 문자열의 이해, 문자열 포메팅, 문자열 함수.pdf', '06_연산자.ipynb', '07_문자열의_이해.ipynb', '20231122.docx', '04_변수의_이해.ipynb', '[파이썬-02일차] 변수의 이해, 함수와 객체의 이해, 연산자.pdf', '08_문자열_포매팅.ipynb', '[파이썬-04일차] 리스트의 이해+활용+함수.pdf', '10_리스트의_이해.ipynb', '11_리스트의_활용.ipynb', '12_리스트_관련_함수.ipynb', '[파이썬-05일차] 딕셔너리의 이해+활용, 조건문.pdf', '[파이썬-06일차] 반복문(while, for), 흐름제어.pdf', '13_딕셔너리의_이해.ipynb', '14_딕셔너리의_활용.ipynb', '15_조건문.ipynb', '추가문제.pdf', '16_반복문(1).ipynb', '17_반복문(2)_FOR문.ipynb', '18_프로그램_흐름제어.ipynb', '[파이썬-07일차] 문제유형+종합문제.pdf', '19_코딩테스트_기본유형.ipynb', '[파이썬-08일차] 함수의 이해, 파일 입출력, CSV 다루기.pdf', '22__함수의_이해.ipynb', 'hellopython.txt', 'helloworld.txt', 'test.txt', '23_파일_입출력.ipynb', 'grade.csv', 'grade2.csv', 'traffic_acc.csv', '[파이썬-09일차] 클래스와 객체, 생성자+정보은닉+프로퍼티, 모듈의 이해.pdf', '24_CSV_파일의_이해.ipynb', '25_클래스와_객체.ipynb', 'MyMod1.ipynb', 'MyMod2.ipynb', 'MyMod3.ipynb', '27_모듈의_이해.ipynb', '[파이썬-10일차] 파일 및 폴더, 날짜 및 시간, 메일 발송.pdf', '28_파일_및_폴더_관련_모듈.ipynb']\n"
     ]
    }
   ],
   "source": [
    "# 현재 폴더의 모든 하위 요소 조회하기\n",
    "ls = gl.glob('*')\n",
    "print(ls)"
   ]
  },
  {
   "cell_type": "code",
   "execution_count": 29,
   "metadata": {},
   "outputs": [
    {
     "name": "stdout",
     "output_type": "stream",
     "text": [
      "['03_첫_번째_파이썬_프로그램.ipynb', '05_함수와_객체의_이해.ipynb', '06_연산자.ipynb', '07_문자열의_이해.ipynb', '04_변수의_이해.ipynb', '08_문자열_포매팅.ipynb', '10_리스트의_이해.ipynb', '11_리스트의_활용.ipynb', '12_리스트_관련_함수.ipynb', '13_딕셔너리의_이해.ipynb', '14_딕셔너리의_활용.ipynb', '15_조건문.ipynb', '16_반복문(1).ipynb', '17_반복문(2)_FOR문.ipynb', '18_프로그램_흐름제어.ipynb', '19_코딩테스트_기본유형.ipynb', '22__함수의_이해.ipynb', '23_파일_입출력.ipynb', '24_CSV_파일의_이해.ipynb', '25_클래스와_객체.ipynb', 'MyMod1.ipynb', 'MyMod2.ipynb', 'MyMod3.ipynb', '27_모듈의_이해.ipynb', '28_파일_및_폴더_관련_모듈.ipynb']\n"
     ]
    }
   ],
   "source": [
    "# 현재 폴더에서 \".ipynb\" 로 끝나는 모든 요소들 조회\n",
    "ls = gl.glob('*.ipynb')\n",
    "print(ls)"
   ]
  },
  {
   "cell_type": "code",
   "execution_count": 31,
   "metadata": {},
   "outputs": [
    {
     "name": "stdout",
     "output_type": "stream",
     "text": [
      "['20231121.docx', '20231122.docx', '[파이썬-02일차] 변수의 이해, 함수와 객체의 이해, 연산자.pdf', '12_리스트_관련_함수.ipynb', '17_반복문(2)_FOR문.ipynb', '22__함수의_이해.ipynb', '23_파일_입출력.ipynb', 'grade2.csv', '24_CSV_파일의_이해.ipynb', '25_클래스와_객체.ipynb', 'MyMod2.ipynb', '27_모듈의_이해.ipynb', '28_파일_및_폴더_관련_모듈.ipynb']\n"
     ]
    }
   ],
   "source": [
    "# 현재 폴더에서 \"2\"를 포함하는 파일 조회\n",
    "ls = gl.glob('*2*')\n",
    "print(ls)"
   ]
  },
  {
   "cell_type": "code",
   "execution_count": 5,
   "metadata": {},
   "outputs": [
    {
     "name": "stdout",
     "output_type": "stream",
     "text": [
      "python 폴더가 삭제되었습니다.\n"
     ]
    }
   ],
   "source": [
    "import shutil # 파일, 폴더 관련 작업에 확장된 기능을 제공\n",
    "\n",
    "# 현재 작업 위치에서 \"python\" 이라는 이름의 폴더가 없다면?\n",
    "if os.path.exists('python') == False:\n",
    "    # 순환적으로 폴더를 생성함 -> exist_ok = True 옵션은 이미 존재하더라도 에러 발생 안함\n",
    "    os.makedirs('python/test/hello/world', exist_ok = True)\n",
    "    print('python 폴더와 하위 폴더들을 생성 했습니다.')\n",
    "\n",
    "# 그렇지 않다면\n",
    "else:\n",
    "    # 비어있지 않은 폴더도 강제 삭제 -> 존재하지 않는 폴더인 경우 에러\n",
    "    # rmdir은 비어있지 않은 폴더는 삭제하지 못함\n",
    "    shutil.rmtree('python')\n",
    "    print('python 폴더가 삭제되었습니다.')"
   ]
  },
  {
   "cell_type": "code",
   "execution_count": 37,
   "metadata": {},
   "outputs": [
    {
     "name": "stdout",
     "output_type": "stream",
     "text": [
      "python 폴더가 ../created 폴더로 이동되었습니다.\n"
     ]
    }
   ],
   "source": [
    "# 폴더의 이동\n",
    "if os.path.exists('python'):\n",
    "    shutil.move('python', '../created')\n",
    "    print('python 폴더가 ../created 폴더로 이동되었습니다.')"
   ]
  },
  {
   "cell_type": "code",
   "execution_count": 38,
   "metadata": {},
   "outputs": [
    {
     "name": "stdout",
     "output_type": "stream",
     "text": [
      "python 폴더가 copy로 복사되었습니다.\n"
     ]
    }
   ],
   "source": [
    "# 폴더의 복사\n",
    "if os.path.exists('../created'):\n",
    "    shutil.copytree('../created', './copy')\n",
    "    print('python 폴더가 copy로 복사되었습니다.')"
   ]
  },
  {
   "cell_type": "code",
   "execution_count": 7,
   "metadata": {},
   "outputs": [
    {
     "name": "stdout",
     "output_type": "stream",
     "text": [
      "hello.txt 파일을 생성했습니다.\n",
      "hello.txt가 world.txt로 복사되었습니다.\n"
     ]
    }
   ],
   "source": [
    "# os 모듈 내의 path 객체가 갖는 exists() 함수를 사용.\n",
    "# -> \"hello.txt\"라는 파일이 존재하지 않는다면?\n",
    "if not os.path.exists('hello.txt'):\n",
    "    # 테스트용 파일 생성\n",
    "    with open('hello.txt', 'w', encoding = 'utf-8') as f:\n",
    "        f.write(\"Life is too short, you need python\")\n",
    "        print('hello.txt 파일을 생성했습니다.')\n",
    "    \n",
    "    # 생성한 파일을 복사함 -> 이미 존재할 경우 덮어씀\n",
    "    shutil.copy('hello.txt', 'world.txt')\n",
    "    print('hello.txt가 world.txt로 복사되었습니다.')\n",
    "\n",
    "# 그렇지 않다면?\n",
    "# -> 'hello.txt'라는 파일이 존재한다면?\n",
    "else:\n",
    "    os.remove('hello.txt')\n",
    "    print('hello.txt가 삭제되었습니다.')\n",
    "    os.remove('world.txt')\n",
    "    print('world.txt가 삭제되었습니다.')"
   ]
  },
  {
   "cell_type": "code",
   "execution_count": null,
   "metadata": {},
   "outputs": [],
   "source": []
  },
  {
   "cell_type": "code",
   "execution_count": null,
   "metadata": {},
   "outputs": [],
   "source": []
  },
  {
   "cell_type": "code",
   "execution_count": null,
   "metadata": {},
   "outputs": [],
   "source": []
  },
  {
   "cell_type": "code",
   "execution_count": null,
   "metadata": {},
   "outputs": [],
   "source": []
  },
  {
   "cell_type": "code",
   "execution_count": null,
   "metadata": {},
   "outputs": [],
   "source": []
  },
  {
   "cell_type": "code",
   "execution_count": null,
   "metadata": {},
   "outputs": [],
   "source": []
  },
  {
   "cell_type": "code",
   "execution_count": null,
   "metadata": {},
   "outputs": [],
   "source": []
  },
  {
   "cell_type": "code",
   "execution_count": null,
   "metadata": {},
   "outputs": [],
   "source": []
  },
  {
   "cell_type": "code",
   "execution_count": null,
   "metadata": {},
   "outputs": [],
   "source": []
  },
  {
   "cell_type": "code",
   "execution_count": null,
   "metadata": {},
   "outputs": [],
   "source": []
  },
  {
   "cell_type": "code",
   "execution_count": null,
   "metadata": {},
   "outputs": [],
   "source": []
  },
  {
   "cell_type": "code",
   "execution_count": null,
   "metadata": {},
   "outputs": [],
   "source": []
  },
  {
   "cell_type": "code",
   "execution_count": null,
   "metadata": {},
   "outputs": [],
   "source": []
  },
  {
   "cell_type": "code",
   "execution_count": null,
   "metadata": {},
   "outputs": [],
   "source": []
  },
  {
   "cell_type": "code",
   "execution_count": null,
   "metadata": {},
   "outputs": [],
   "source": []
  },
  {
   "cell_type": "code",
   "execution_count": null,
   "metadata": {},
   "outputs": [],
   "source": []
  },
  {
   "cell_type": "code",
   "execution_count": null,
   "metadata": {},
   "outputs": [],
   "source": []
  },
  {
   "cell_type": "code",
   "execution_count": null,
   "metadata": {},
   "outputs": [],
   "source": []
  },
  {
   "cell_type": "code",
   "execution_count": null,
   "metadata": {},
   "outputs": [],
   "source": []
  },
  {
   "cell_type": "code",
   "execution_count": null,
   "metadata": {},
   "outputs": [],
   "source": []
  },
  {
   "cell_type": "code",
   "execution_count": null,
   "metadata": {},
   "outputs": [],
   "source": []
  },
  {
   "cell_type": "code",
   "execution_count": null,
   "metadata": {},
   "outputs": [],
   "source": []
  },
  {
   "cell_type": "code",
   "execution_count": null,
   "metadata": {},
   "outputs": [],
   "source": []
  },
  {
   "cell_type": "code",
   "execution_count": null,
   "metadata": {},
   "outputs": [],
   "source": []
  }
 ],
 "metadata": {
  "kernelspec": {
   "display_name": "base",
   "language": "python",
   "name": "python3"
  },
  "language_info": {
   "codemirror_mode": {
    "name": "ipython",
    "version": 3
   },
   "file_extension": ".py",
   "mimetype": "text/x-python",
   "name": "python",
   "nbconvert_exporter": "python",
   "pygments_lexer": "ipython3",
   "version": "3.10.9"
  }
 },
 "nbformat": 4,
 "nbformat_minor": 2
}
