{
 "cells": [
  {
   "cell_type": "markdown",
   "metadata": {},
   "source": [
    "# 18강 프로그램 흐름제어"
   ]
  },
  {
   "cell_type": "markdown",
   "metadata": {},
   "source": [
    "- if, while, for의 조건문/반복문을 중첩 사용 가능함\n",
    "  - 각 반복/조건문을 적합하게 조합하여 프로그램을 효율적으로 코딩할 수 있음\n",
    "    - while은 상대적으로 사용빈도가 낮음\n",
    "  - 프로그램 작성 시 바깥에서 안쪽으로 진행하는 알고리즘의 흐름을 이해하는 것이 중요"
   ]
  },
  {
   "cell_type": "code",
   "execution_count": 5,
   "metadata": {},
   "outputs": [
    {
     "name": "stdout",
     "output_type": "stream",
     "text": [
      "입력한 점수는 72점 입니다.\n",
      "패스입니다.\n",
      "C입니다.\n"
     ]
    }
   ],
   "source": [
    "point = int(input(\"점수를 입력하세요 : \"))\n",
    "print(\"입력한 점수는 %d점 입니다.\" % point)\n",
    "\n",
    "if point > 70:\n",
    "    print(\"패스입니다.\")\n",
    "\n",
    "    if point > 90:\n",
    "        print(\"A입니다.\")\n",
    "    elif point > 80:\n",
    "        print(\"B입니다\")\n",
    "    else:\n",
    "        print(\"C입니다.\")\n",
    "\n",
    "else:\n",
    "    print(\"패스하지 못했습니다.\")"
   ]
  },
  {
   "cell_type": "code",
   "execution_count": 6,
   "metadata": {},
   "outputs": [
    {
     "name": "stdout",
     "output_type": "stream",
     "text": [
      "입력한 숫자는 10점 입니다.\n",
      "1(은)는 홀수\n",
      "2(은)는 짝수\n",
      "3(은)는 홀수\n",
      "4(은)는 짝수\n",
      "5(은)는 홀수\n",
      "6(은)는 짝수\n",
      "7(은)는 홀수\n",
      "8(은)는 짝수\n",
      "9(은)는 홀수\n",
      "10(은)는 짝수\n",
      "1 ~ 10까지 짝수들의 합 : 30\n",
      "1 ~ 10까지 홀수들의 합 : 25\n"
     ]
    }
   ],
   "source": [
    "number = int(input(\"숫자를 입력하세요 : \"))\n",
    "print(\"입력한 숫자는 %d점 입니다.\" % number)\n",
    "\n",
    "# 총 합을 구하기 위해서는 반복문 전에 0으로 초기화 된 변수가 필요하다.\n",
    "x = 0\n",
    "y = 0\n",
    "\n",
    "for i in range(1, number+1):\n",
    "    if i % 2 == 0:\n",
    "        print(\"%d(은)는 짝수\" % i)\n",
    "        x += i\n",
    "    else:\n",
    "        print(\"%d(은)는 홀수\" % i)\n",
    "        y += i\n",
    "\n",
    "print(\"1 ~ %d까지 짝수들의 합 : %d\" %(number, x))\n",
    "print(\"1 ~ %d까지 홀수들의 합 : %d\" %(number, y))"
   ]
  },
  {
   "cell_type": "code",
   "execution_count": 7,
   "metadata": {},
   "outputs": [
    {
     "name": "stdout",
     "output_type": "stream",
     "text": [
      "0\n",
      "-----\n",
      "1\n",
      "-----\n",
      "2\n",
      "-----\n",
      "3\n",
      "-----\n",
      "4\n"
     ]
    }
   ],
   "source": [
    "for i in range(0, 5):\n",
    "    print(i)\n",
    "    # 조건값이 마지막이 아닌 경우에만 실행하도록 if문을 구성\n",
    "    if i + 1 <5:\n",
    "        print(\"-\" * 5)"
   ]
  },
  {
   "cell_type": "code",
   "execution_count": 8,
   "metadata": {},
   "outputs": [
    {
     "name": "stdout",
     "output_type": "stream",
     "text": [
      "'i'에 대한 반복 수행 시작 -> i = 0\n",
      "\t i = 0, j = 0\n",
      "\t i = 0, j = 1\n",
      "\t i = 0, j = 2\n",
      "\t i = 0, j = 3\n",
      "\t i = 0, j = 4\n",
      "'i'에 대한 반복 수행 종료\n",
      "------------------------------\n",
      "'i'에 대한 반복 수행 시작 -> i = 1\n",
      "\t i = 1, j = 0\n",
      "\t i = 1, j = 1\n",
      "\t i = 1, j = 2\n",
      "\t i = 1, j = 3\n",
      "\t i = 1, j = 4\n",
      "'i'에 대한 반복 수행 종료\n",
      "------------------------------\n",
      "'i'에 대한 반복 수행 시작 -> i = 2\n",
      "\t i = 2, j = 0\n",
      "\t i = 2, j = 1\n",
      "\t i = 2, j = 2\n",
      "\t i = 2, j = 3\n",
      "\t i = 2, j = 4\n",
      "'i'에 대한 반복 수행 종료\n"
     ]
    }
   ],
   "source": [
    "for i in range(0, 3):\n",
    "    print(\"'i'에 대한 반복 수행 시작 -> i = %d\" % i)\n",
    "\n",
    "    for j in range(0, 5):\n",
    "        print(\"\\t i = %d, j = %d\" % (i, j))\n",
    "\n",
    "    print(\"'i'에 대한 반복 수행 종료\")\n",
    "\n",
    "    if i + 1 <3:\n",
    "        print('-' * 30)"
   ]
  },
  {
   "cell_type": "code",
   "execution_count": 9,
   "metadata": {},
   "outputs": [
    {
     "name": "stdout",
     "output_type": "stream",
     "text": [
      "2 x 1 = 2\n",
      "2 x 2 = 4\n",
      "2 x 3 = 6\n",
      "2 x 4 = 8\n",
      "2 x 5 = 10\n",
      "2 x 6 = 12\n",
      "2 x 7 = 14\n",
      "2 x 8 = 16\n",
      "2 x 9 = 18\n",
      "------------------------------\n",
      "3 x 1 = 3\n",
      "3 x 2 = 6\n",
      "3 x 3 = 9\n",
      "3 x 4 = 12\n",
      "3 x 5 = 15\n",
      "3 x 6 = 18\n",
      "3 x 7 = 21\n",
      "3 x 8 = 24\n",
      "3 x 9 = 27\n",
      "------------------------------\n",
      "4 x 1 = 4\n",
      "4 x 2 = 8\n",
      "4 x 3 = 12\n",
      "4 x 4 = 16\n",
      "4 x 5 = 20\n",
      "4 x 6 = 24\n",
      "4 x 7 = 28\n",
      "4 x 8 = 32\n",
      "4 x 9 = 36\n",
      "------------------------------\n",
      "5 x 1 = 5\n",
      "5 x 2 = 10\n",
      "5 x 3 = 15\n",
      "5 x 4 = 20\n",
      "5 x 5 = 25\n",
      "5 x 6 = 30\n",
      "5 x 7 = 35\n",
      "5 x 8 = 40\n",
      "5 x 9 = 45\n",
      "------------------------------\n",
      "6 x 1 = 6\n",
      "6 x 2 = 12\n",
      "6 x 3 = 18\n",
      "6 x 4 = 24\n",
      "6 x 5 = 30\n",
      "6 x 6 = 36\n",
      "6 x 7 = 42\n",
      "6 x 8 = 48\n",
      "6 x 9 = 54\n",
      "------------------------------\n",
      "7 x 1 = 7\n",
      "7 x 2 = 14\n",
      "7 x 3 = 21\n",
      "7 x 4 = 28\n",
      "7 x 5 = 35\n",
      "7 x 6 = 42\n",
      "7 x 7 = 49\n",
      "7 x 8 = 56\n",
      "7 x 9 = 63\n",
      "------------------------------\n",
      "8 x 1 = 8\n",
      "8 x 2 = 16\n",
      "8 x 3 = 24\n",
      "8 x 4 = 32\n",
      "8 x 5 = 40\n",
      "8 x 6 = 48\n",
      "8 x 7 = 56\n",
      "8 x 8 = 64\n",
      "8 x 9 = 72\n",
      "------------------------------\n",
      "9 x 1 = 9\n",
      "9 x 2 = 18\n",
      "9 x 3 = 27\n",
      "9 x 4 = 36\n",
      "9 x 5 = 45\n",
      "9 x 6 = 54\n",
      "9 x 7 = 63\n",
      "9 x 8 = 72\n",
      "9 x 9 = 81\n"
     ]
    }
   ],
   "source": [
    "tpl = \"{0} x {1} = {2}\"\n",
    "\n",
    "# i의 변화범위 2 ~ 9\n",
    "for i in range(2, 10):\n",
    "\n",
    "    # i 가 1 증가하는 동안 j의 값이 매번 1~9까지 새로 시작\n",
    "    for j in range(1, 10):\n",
    "        k = i * j\n",
    "        print(tpl.format(i, j, k))\n",
    "\n",
    "    if i+1 < 10:\n",
    "        print(\"-\" * 30)"
   ]
  },
  {
   "cell_type": "markdown",
   "metadata": {},
   "source": [
    "- 무한루프의 활용\n",
    "  - 반복의 수행범위를 명확하게 판단할 수 없을 경우 의도적으로 무한루프를 걸고 반복의 수행과 중단을 제어하는 별도의 기능을 사용\n",
    "    - break :  반복문 안에서 break를 만나면 반복문을 강제로 종료\n",
    "    - continue : 실행흐름을 강제로 조건식으로 이동시킴\n",
    "\n",
    "- 파이썬의 오버플로우\n",
    "  - 파이썬은 각 변수가 객체로서 존재하기 때문에 C++나 Java처럼 +에서 -로 가는 오버플로우는 작동하지 않으며, 숫자가 그대로 무한히 증가함"
   ]
  },
  {
   "cell_type": "code",
   "execution_count": 10,
   "metadata": {},
   "outputs": [
    {
     "name": "stdout",
     "output_type": "stream",
     "text": [
      "Hello Python (1)\n",
      "Hello Python (3)\n",
      "Hello Python (5)\n",
      "Hello Python (7)\n",
      "Hello Python (9)\n"
     ]
    }
   ],
   "source": [
    "y = 0\n",
    "while True:\n",
    "    y += 1\n",
    "\n",
    "    if y % 2 == 0:\n",
    "        continue\n",
    "\n",
    "    if y > 10:\n",
    "        break\n",
    "\n",
    "    print(\"Hello Python (%d)\" % y)"
   ]
  },
  {
   "cell_type": "markdown",
   "metadata": {},
   "source": [
    "## 연구 과제(1)"
   ]
  },
  {
   "cell_type": "code",
   "execution_count": 18,
   "metadata": {},
   "outputs": [
    {
     "name": "stdout",
     "output_type": "stream",
     "text": [
      "[1, 5]\n",
      "[2, 4]\n",
      "[3, 3]\n",
      "[4, 2]\n",
      "[5, 1]\n",
      "경우의 수는 5개 입니다\n"
     ]
    }
   ],
   "source": [
    "num = 0\n",
    "for i in range(1, 7):\n",
    "    for j in range(1, 7):\n",
    "        if (i+j) == 6:\n",
    "            print([i, j])\n",
    "            num += 1\n",
    "\n",
    "print(f\"경우의 수는 {num}개 입니다\")"
   ]
  },
  {
   "cell_type": "markdown",
   "metadata": {},
   "source": [
    "## 연구과제(2)"
   ]
  },
  {
   "cell_type": "code",
   "execution_count": 17,
   "metadata": {},
   "outputs": [
    {
     "name": "stdout",
     "output_type": "stream",
     "text": [
      "3와 4의 공배수 12\n",
      "3와 4의 공배수 24\n",
      "3와 4의 공배수 36\n",
      "3와 4의 공배수 48\n",
      "3와 4의 공배수 60\n",
      "3와 4의 공배수 72\n",
      "3와 4의 공배수 84\n",
      "3와 4의 공배수 96\n",
      "공배수의 총 합은 432\n"
     ]
    }
   ],
   "source": [
    "x = int(input(\"x 입력\"))\n",
    "y = int(input(\"y 입력\"))\n",
    "k = 0\n",
    "\n",
    "for i in range(1, 101):\n",
    "    if (i % x == 0 and i % y == 0):\n",
    "        print(f\"{x}와 {y}의 공배수 {i}\")\n",
    "        k += i\n",
    "\n",
    "print(f\"공배수의 총 합은 {k}\")"
   ]
  },
  {
   "cell_type": "code",
   "execution_count": null,
   "metadata": {},
   "outputs": [],
   "source": []
  },
  {
   "cell_type": "code",
   "execution_count": null,
   "metadata": {},
   "outputs": [],
   "source": []
  }
 ],
 "metadata": {
  "kernelspec": {
   "display_name": "Python 3",
   "language": "python",
   "name": "python3"
  },
  "language_info": {
   "name": "python",
   "version": "3.9.13"
  }
 },
 "nbformat": 4,
 "nbformat_minor": 2
}
