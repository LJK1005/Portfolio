{
 "cells": [
  {
   "cell_type": "markdown",
   "metadata": {},
   "source": [
    "# 15강 조건문"
   ]
  },
  {
   "cell_type": "markdown",
   "metadata": {},
   "source": [
    "- 조건문\n",
    "  - 무조건 실행되는 것이 아니라 특정 조건을 만족할 경우에만 실행되는 구문"
   ]
  },
  {
   "cell_type": "markdown",
   "metadata": {},
   "source": [
    "- if문\n",
    "  - if문은 조건식이 참일 경우 블록에 속한 구문이 실행됨\n",
    "  - if와 함께 조건식을 명시하고 콜론(:)을 지정하여 하위 블록의 존재를 명시\n",
    "  - 하위 블록(실행문)은 들여쓰기를 하여 if문 아래에 있음을 나타내야 함\n",
    "    - 하위 실행문들은 들여쓰기의 정도를 일치시켜야 함, 그렇지 않으면 에러 발생\n",
    "    - 들여쓰기 하는 방법까지 일치시켜야 함(띄어쓰기 - 탭까지 구분함)\n",
    "      - 여러 환경에서는 탭을 사용시 스페이스바 4번으로 자동 적용"
   ]
  },
  {
   "cell_type": "code",
   "execution_count": 1,
   "metadata": {},
   "outputs": [
    {
     "name": "stdout",
     "output_type": "stream",
     "text": [
      "시험시작\n",
      "합격입니다.\n",
      "시험 끝\n"
     ]
    }
   ],
   "source": [
    "print(\"시험시작\")\n",
    "\n",
    "score = int(input(\"점수를 입력하세요\"))\n",
    "\n",
    "if score >= 60:\n",
    "    print(\"합격입니다.\")\n",
    "\n",
    "print(\"시험 끝\")"
   ]
  },
  {
   "cell_type": "markdown",
   "metadata": {},
   "source": [
    "- 조건이 참으로 감지되는 경우\n",
    "  - bool, 비교식, 논리식 : True\n",
    "  - 숫자형 : 0이 아닌 모든 값\n",
    "  - 문자열 : 빈 문자열(\"\")이 아닌 경우\n",
    "  - 리스트, 튜플, 딕셔너리 : 원소가 하나라도 있을 경우"
   ]
  },
  {
   "cell_type": "code",
   "execution_count": 2,
   "metadata": {},
   "outputs": [
    {
     "name": "stdout",
     "output_type": "stream",
     "text": [
      "택시를 타고\n",
      "집에가자\n"
     ]
    }
   ],
   "source": [
    "money = 10000\n",
    "# money = 0\n",
    "\n",
    "if money:\n",
    "    print(\"택시를 타고\")\n",
    "\n",
    "print(\"집에가자\")"
   ]
  },
  {
   "cell_type": "code",
   "execution_count": 3,
   "metadata": {},
   "outputs": [
    {
     "name": "stdout",
     "output_type": "stream",
     "text": [
      "Python\n",
      "프로그래밍\n"
     ]
    }
   ],
   "source": [
    "name = \"Python\"\n",
    "# name = \"\"\n",
    "\n",
    "if name:\n",
    "    print(name)\n",
    "\n",
    "print(\"프로그래밍\")"
   ]
  },
  {
   "cell_type": "code",
   "execution_count": 5,
   "metadata": {},
   "outputs": [
    {
     "name": "stdout",
     "output_type": "stream",
     "text": [
      "국어: 100, 영어 : 80, 수학 : 70\n",
      "성적처리\n"
     ]
    }
   ],
   "source": [
    "grade = [100, 80, 70]\n",
    "# grade = []\n",
    "\n",
    "if grade:\n",
    "    msg = \"국어: {0}, 영어 : {1}, 수학 : {2}\"\n",
    "    print(msg.format(grade[0], grade[1], grade[2]))\n",
    "\n",
    "print(\"성적처리\")"
   ]
  },
  {
   "cell_type": "code",
   "execution_count": 6,
   "metadata": {},
   "outputs": [
    {
     "name": "stdout",
     "output_type": "stream",
     "text": [
      "19살 입니다.\n",
      "20살이 아닙니다.\n",
      "청소넌입니다.\n"
     ]
    }
   ],
   "source": [
    "myage = int(input(\"나이를 입력하세요.\"))\n",
    "\n",
    "if myage == 19:\n",
    "    print(\"19살 입니다.\")\n",
    "\n",
    "if myage != 20:\n",
    "    print(\"20살이 아닙니다.\")\n",
    "\n",
    "if myage > 19:\n",
    "    print(\"성인입니다.\")\n",
    "\n",
    "if myage <= 19:\n",
    "    print(\"청소넌입니다.\")"
   ]
  },
  {
   "cell_type": "code",
   "execution_count": 7,
   "metadata": {},
   "outputs": [
    {
     "name": "stdout",
     "output_type": "stream",
     "text": [
      "입력값은 78입니다.\n",
      "C학점 입니다.\n"
     ]
    }
   ],
   "source": [
    "point = int(input(\"점수를 입력하세요.\"))\n",
    "print(\"입력값은 %d입니다.\" % point)\n",
    "\n",
    "# AND -> 전체가 참이어야 결과가 참\n",
    "if point > 70 and point <= 80:\n",
    "    print(\"C학점 입니다.\")\n",
    "\n",
    "# OR -> 하나라도 참이면 전체가 참\n",
    "if point <= 70 or point > 80:\n",
    "    print(\"C학점이 아닙니다.\")"
   ]
  },
  {
   "cell_type": "code",
   "execution_count": 8,
   "metadata": {},
   "outputs": [
    {
     "name": "stdout",
     "output_type": "stream",
     "text": [
      "한국사람입니다...(1)\n",
      "한국사람입니다...(4)\n",
      "한국사람입니다...(5)\n"
     ]
    }
   ],
   "source": [
    "isKorean = True\n",
    "# isKorean = False\n",
    "\n",
    "if isKorean == True:\n",
    "    print(\"한국사람입니다...(1)\")\n",
    "\n",
    "if isKorean == False:\n",
    "    print(\"한국사람이 아닙니다...(2)\")\n",
    "\n",
    "if isKorean != True:\n",
    "    print(\"한국사람이 아닙니다...(3)\")\n",
    "\n",
    "if isKorean != False:\n",
    "    print(\"한국사람입니다...(4)\")\n",
    "\n",
    "if isKorean:\n",
    "    print(\"한국사람입니다...(5)\")\n",
    "\n",
    "if not isKorean:\n",
    "    print(\"한국사람이 아닙니다...(6)\")"
   ]
  },
  {
   "cell_type": "markdown",
   "metadata": {},
   "source": [
    "- 기타 연산자\n",
    "  - A in B : B(컬렉션, 문자열)에 A가 포함되어 있을 경우 True\n",
    "  - A not in B : B에 A가 포함되지 않으면 True\n",
    "  - A is B : A와 B가 값과 데이터타입까지 일치해야 True\n",
    "  - A is not B : A와 B가 값과 데이터타입 중 하나라도 다르면 True"
   ]
  },
  {
   "cell_type": "code",
   "execution_count": 9,
   "metadata": {},
   "outputs": [
    {
     "name": "stdout",
     "output_type": "stream",
     "text": [
      "1) x와 y는 같다\n"
     ]
    }
   ],
   "source": [
    "x = 1\n",
    "y = 1.0\n",
    "\n",
    "# 조건을 참으로 인식함\n",
    "if x == y:\n",
    "    print(\"1) x와 y는 같다\")\n",
    "\n",
    "if x is y:\n",
    "    print(\"2) x와 y는 같다\")"
   ]
  },
  {
   "cell_type": "code",
   "execution_count": 10,
   "metadata": {},
   "outputs": [
    {
     "name": "stdout",
     "output_type": "stream",
     "text": [
      "2) b와 c는 다르다\n"
     ]
    }
   ],
   "source": [
    "# 두 값이 서로 다르다면 참인 is not\n",
    "a = 123.0\n",
    "b = 123\n",
    "\n",
    "if a != b:\n",
    "    print(\"1) a와 b는 다르다\")\n",
    "\n",
    "if a is not b:\n",
    "    print(\"2) b와 c는 다르다\")"
   ]
  },
  {
   "cell_type": "code",
   "execution_count": 11,
   "metadata": {},
   "outputs": [],
   "source": [
    "# 예제를 위한 변수 준비\n",
    "user1 = \"hello\"\n",
    "user2 = \"world\"\n",
    "memberlist = ['hello', 'python', 'life']"
   ]
  },
  {
   "cell_type": "code",
   "execution_count": 12,
   "metadata": {},
   "outputs": [
    {
     "name": "stdout",
     "output_type": "stream",
     "text": [
      "True\n"
     ]
    }
   ],
   "source": [
    "# 왼쪽의 변수가 오른쪽의 리스트에 속한 값이므로 참\n",
    "a = user1 in memberlist\n",
    "print(a)"
   ]
  },
  {
   "cell_type": "code",
   "execution_count": 13,
   "metadata": {},
   "outputs": [
    {
     "name": "stdout",
     "output_type": "stream",
     "text": [
      "False\n"
     ]
    }
   ],
   "source": [
    "# 왼쪽의 변수가 오른쪽의 리스트에 속해 있지 않으므로 거짓\n",
    "b = user2 in memberlist\n",
    "print(b)"
   ]
  },
  {
   "cell_type": "code",
   "execution_count": 14,
   "metadata": {},
   "outputs": [
    {
     "name": "stdout",
     "output_type": "stream",
     "text": [
      "hello(은)는 이미 가입되어 있습니다.\n"
     ]
    }
   ],
   "source": [
    "# 조건이 참이므로 결과가 출력됨\n",
    "if user1 in memberlist:\n",
    "    print(user1 + \"(은)는 이미 가입되어 있습니다.\")    "
   ]
  },
  {
   "cell_type": "code",
   "execution_count": 15,
   "metadata": {},
   "outputs": [],
   "source": [
    "# 조건이 거짓이므로 결과가 출력되지 않음\n",
    "if user2 in memberlist:\n",
    "    print(user2 + \"(은)는 이미 가입되어 있습니다.\")"
   ]
  },
  {
   "cell_type": "code",
   "execution_count": 17,
   "metadata": {},
   "outputs": [],
   "source": [
    "# 조건이 거짓이므로 결과가 출력되지 않음\n",
    "if user1 not in memberlist:\n",
    "    print(user1 + \"은(는) 가입되어 있지 않습니다.\")"
   ]
  },
  {
   "cell_type": "code",
   "execution_count": 18,
   "metadata": {},
   "outputs": [
    {
     "name": "stdout",
     "output_type": "stream",
     "text": [
      "world(은)는 가입되어 있지 않습니다.\n"
     ]
    }
   ],
   "source": [
    "# 조건이 참이므로 결과가 출력됨\n",
    "if user2 not in memberlist:\n",
    "    print(user2 + \"(은)는 가입되어 있지 않습니다.\")"
   ]
  },
  {
   "cell_type": "markdown",
   "metadata": {},
   "source": [
    "- else문\n",
    "  - if문과 연동되어 실행되는 구문, 단독으로는 실행할 수 없음\n",
    "  - if문의 조건식이 거짓일 경우에 if문의 구문 대신 실행됨\n",
    "  - 포맷은 if문과 동일"
   ]
  },
  {
   "cell_type": "code",
   "execution_count": 24,
   "metadata": {},
   "outputs": [
    {
     "name": "stdout",
     "output_type": "stream",
     "text": [
      "시험시작\n",
      "입력값은 70입니다.\n",
      "합격입니다.\n",
      "시험 끝\n"
     ]
    }
   ],
   "source": [
    "print(\"시험시작\")\n",
    "\n",
    "score = int(input(\"점수를 입력하세요\"))\n",
    "print(\"입력값은 %d입니다.\" % score)\n",
    "\n",
    "if score >= 60:\n",
    "    print(\"합격입니다.\")\n",
    "else:\n",
    "    print(\"불합격입니다.\")\n",
    "\n",
    "print(\"시험 끝\")"
   ]
  },
  {
   "cell_type": "code",
   "execution_count": 25,
   "metadata": {},
   "outputs": [
    {
     "name": "stdout",
     "output_type": "stream",
     "text": [
      "입력값은 y입니다.\n",
      "한국사람 입니다...(1)\n",
      "한국사람 입니다...(4)\n"
     ]
    }
   ],
   "source": [
    "answer = input(\"한국인입니까? (Y/N)\")\n",
    "print(\"입력값은 %s입니다.\" % answer)\n",
    "\n",
    "if answer.upper() == \"Y\":\n",
    "    isKorean = True\n",
    "else:\n",
    "    isKorean = False\n",
    "\n",
    "# 논리값을 조건으로 사용할 경우 \"만약 이 변수가 참이라면?\"의 의미\n",
    "if isKorean:\n",
    "    print(\"한국사람 입니다...(1)\")\n",
    "else:\n",
    "    print(\"한국사람이 아닙니다...(2)\")\n",
    "\n",
    "# 논리값의 부정형을 조건으로 사용할 경우 \"만약 이 변수가 거짓이라면?\"의 의미\n",
    "if not isKorean:\n",
    "    print(\"한국사람이 아닙니다...(3)\")\n",
    "else:\n",
    "    print(\"한국사람 입니다...(4)\")"
   ]
  },
  {
   "cell_type": "markdown",
   "metadata": {},
   "source": [
    "- elif문\n",
    "  - if와 else 사이에 추가적인 조건과, 실행한 문구를 삽입 가능\n",
    "  - else와 마찬가지로 없어도 됨\n",
    "    - elif는 원하는 만큼 입력 가능\n",
    "  - 위에 쓰여진 순서대로 순차적으로 조건을 확인하여 먼저 참으로 확인된 코드만 실행함"
   ]
  },
  {
   "cell_type": "code",
   "execution_count": 27,
   "metadata": {},
   "outputs": [
    {
     "name": "stdout",
     "output_type": "stream",
     "text": [
      "시험시작\n",
      "입력값은 77입니다.\n",
      "C학점\n",
      "시험 끝\n"
     ]
    }
   ],
   "source": [
    "print(\"시험시작\")\n",
    "\n",
    "point = int(input(\"점수를 입력하세요\"))\n",
    "print(\"입력값은 %d입니다.\" % point)\n",
    "\n",
    "if point > 90:\n",
    "    print(\"A학점\")\n",
    "elif point > 80:\n",
    "    print(\"B학점\")\n",
    "elif point > 70:\n",
    "    print(\"C학점\")\n",
    "elif point > 60:\n",
    "    print(\"D학점\")\n",
    "else:\n",
    "    print(\"F학점\")\n",
    "\n",
    "print(\"시험 끝\")"
   ]
  },
  {
   "cell_type": "markdown",
   "metadata": {},
   "source": [
    "## 연구과제(1)"
   ]
  },
  {
   "cell_type": "code",
   "execution_count": 43,
   "metadata": {},
   "outputs": [
    {
     "name": "stdout",
     "output_type": "stream",
     "text": [
      "당신은 어린이입니다.\n"
     ]
    }
   ],
   "source": [
    "age = int(input(\"나이를 입력하세요 :\"))\n",
    "\n",
    "if age <= 9:\n",
    "    r = \"어린이\"\n",
    "elif age <= 19:\n",
    "    r = \"10대\"\n",
    "elif age <= 29:\n",
    "    r = \"20대\"\n",
    "elif age <= 39:\n",
    "    r = \"30대\"\n",
    "elif age <= 49:\n",
    "    r = \"40대\"\n",
    "elif age <= 59:\n",
    "    r = \"50대\"\n",
    "else:\n",
    "    r = \"노년층\"\n",
    "\n",
    "print(f\"당신은 {r}입니다.\")"
   ]
  },
  {
   "cell_type": "code",
   "execution_count": 48,
   "metadata": {},
   "outputs": [
    {
     "name": "stdout",
     "output_type": "stream",
     "text": [
      "50대\n"
     ]
    }
   ],
   "source": [
    "age = int(input(\"나이를 입력하세요 :\"))\n",
    "\n",
    "level = age // 10\n",
    "\n",
    "if level == 0:\n",
    "    print(\"어린이\")\n",
    "elif level >= 6:\n",
    "    print(\"노년층\")\n",
    "else:\n",
    "    print(\"%d대\" % (level*10))"
   ]
  },
  {
   "cell_type": "markdown",
   "metadata": {},
   "source": [
    "## 연구과제(2)"
   ]
  },
  {
   "cell_type": "code",
   "execution_count": 53,
   "metadata": {},
   "outputs": [
    {
     "name": "stdout",
     "output_type": "stream",
     "text": [
      "정상(안심)\n"
     ]
    }
   ],
   "source": [
    "myHeight = int(input(\"키를 입력하세요.\"))\n",
    "myWeight = int(input(\"몸무게를 입력하세요.\"))\n",
    "\n",
    "if myHeight <= 150:\n",
    "    standardWeight = myHeight - 110\n",
    "else:\n",
    "    standardWeight = (myHeight - 110) * 0.9\n",
    "\n",
    "obesity = (myWeight - standardWeight) / standardWeight * 100\n",
    "\n",
    "if obesity <= 20:\n",
    "    print(\"정상(안심)\")\n",
    "elif obesity <= 30:\n",
    "    print(\"경도비만(주의)\")\n",
    "elif obesity <= 50:\n",
    "    print(\"중등도 비만(위험)\")\n",
    "else:\n",
    "    print(\"고도비만(매우위험)\")"
   ]
  },
  {
   "cell_type": "code",
   "execution_count": null,
   "metadata": {},
   "outputs": [],
   "source": []
  },
  {
   "cell_type": "code",
   "execution_count": null,
   "metadata": {},
   "outputs": [],
   "source": []
  },
  {
   "cell_type": "code",
   "execution_count": null,
   "metadata": {},
   "outputs": [],
   "source": []
  },
  {
   "cell_type": "code",
   "execution_count": null,
   "metadata": {},
   "outputs": [],
   "source": []
  },
  {
   "cell_type": "code",
   "execution_count": null,
   "metadata": {},
   "outputs": [],
   "source": []
  },
  {
   "cell_type": "code",
   "execution_count": null,
   "metadata": {},
   "outputs": [],
   "source": []
  },
  {
   "cell_type": "code",
   "execution_count": null,
   "metadata": {},
   "outputs": [],
   "source": []
  },
  {
   "cell_type": "code",
   "execution_count": null,
   "metadata": {},
   "outputs": [],
   "source": []
  },
  {
   "cell_type": "code",
   "execution_count": null,
   "metadata": {},
   "outputs": [],
   "source": []
  },
  {
   "cell_type": "code",
   "execution_count": null,
   "metadata": {},
   "outputs": [],
   "source": []
  },
  {
   "cell_type": "code",
   "execution_count": null,
   "metadata": {},
   "outputs": [],
   "source": []
  },
  {
   "cell_type": "code",
   "execution_count": null,
   "metadata": {},
   "outputs": [],
   "source": []
  },
  {
   "cell_type": "code",
   "execution_count": null,
   "metadata": {},
   "outputs": [],
   "source": []
  },
  {
   "cell_type": "code",
   "execution_count": null,
   "metadata": {},
   "outputs": [],
   "source": []
  },
  {
   "cell_type": "code",
   "execution_count": null,
   "metadata": {},
   "outputs": [],
   "source": []
  },
  {
   "cell_type": "code",
   "execution_count": null,
   "metadata": {},
   "outputs": [],
   "source": []
  },
  {
   "cell_type": "code",
   "execution_count": null,
   "metadata": {},
   "outputs": [],
   "source": []
  },
  {
   "cell_type": "code",
   "execution_count": null,
   "metadata": {},
   "outputs": [],
   "source": []
  },
  {
   "cell_type": "code",
   "execution_count": null,
   "metadata": {},
   "outputs": [],
   "source": []
  },
  {
   "cell_type": "code",
   "execution_count": null,
   "metadata": {},
   "outputs": [],
   "source": []
  },
  {
   "cell_type": "code",
   "execution_count": null,
   "metadata": {},
   "outputs": [],
   "source": []
  },
  {
   "cell_type": "code",
   "execution_count": null,
   "metadata": {},
   "outputs": [],
   "source": []
  },
  {
   "cell_type": "code",
   "execution_count": null,
   "metadata": {},
   "outputs": [],
   "source": []
  },
  {
   "cell_type": "code",
   "execution_count": null,
   "metadata": {},
   "outputs": [],
   "source": []
  },
  {
   "cell_type": "code",
   "execution_count": null,
   "metadata": {},
   "outputs": [],
   "source": []
  },
  {
   "cell_type": "code",
   "execution_count": null,
   "metadata": {},
   "outputs": [],
   "source": []
  },
  {
   "cell_type": "code",
   "execution_count": null,
   "metadata": {},
   "outputs": [],
   "source": []
  }
 ],
 "metadata": {
  "kernelspec": {
   "display_name": "Python 3",
   "language": "python",
   "name": "python3"
  },
  "language_info": {
   "codemirror_mode": {
    "name": "ipython",
    "version": 3
   },
   "file_extension": ".py",
   "mimetype": "text/x-python",
   "name": "python",
   "nbconvert_exporter": "python",
   "pygments_lexer": "ipython3",
   "version": "3.9.13"
  }
 },
 "nbformat": 4,
 "nbformat_minor": 2
}
