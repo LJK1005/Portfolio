{
 "cells": [
  {
   "cell_type": "markdown",
   "metadata": {},
   "source": [
    "# 31강 비동기 처리"
   ]
  },
  {
   "cell_type": "markdown",
   "metadata": {},
   "source": [
    "- 동기 처리와 비동기 처리\n",
    "  - 동기 처리 : 여러 작업을 직렬로 수행, 한번에 하나의 작업만 수행하므로 실행 속도가 느림\n",
    "  - 비동기 처리 : 여러 작업을 병렬로 수행, 한꺼번에 처리하므로 실행 속도가 빠름"
   ]
  },
  {
   "cell_type": "code",
   "execution_count": 2,
   "metadata": {},
   "outputs": [],
   "source": [
    "# 프로그램에 딜레이를 적용하는 기능을 제공하는 모듈\n",
    "import time\n",
    "\n",
    "# 날짜 처리 모듈\n",
    "import datetime as dt\n",
    "\n",
    "# 앞 단원에서 구현한 메일 발송 모듈\n",
    "import MyMailer\n",
    "\n",
    "# 비동기 처리 기능을 제공하는 모듈\n",
    "import concurrent.futures as futures"
   ]
  },
  {
   "cell_type": "code",
   "execution_count": 1,
   "metadata": {},
   "outputs": [],
   "source": [
    "def timeWork(name, seconds):\n",
    "    print(\"[%s] 작업을 %d초 동안 수행합니다.\" % (name, seconds))\n",
    "    \n",
    "    for i in range(0, seconds):\n",
    "        time.sleep(1)\n",
    "        print(\"[%s] %d초...\" % (name, i+1))\n",
    "\n",
    "    print(\"[%s] 작업이 종료되었습니다.\" % name)"
   ]
  },
  {
   "cell_type": "code",
   "execution_count": 3,
   "metadata": {},
   "outputs": [
    {
     "name": "stdout",
     "output_type": "stream",
     "text": [
      "[A] 작업을 3초 동안 수행합니다.\n",
      "[A] 1초...\n",
      "[A] 2초...\n",
      "[A] 3초...\n",
      "[A] 작업이 종료되었습니다.\n",
      "[B] 작업을 5초 동안 수행합니다.\n",
      "[B] 1초...\n",
      "[B] 2초...\n",
      "[B] 3초...\n",
      "[B] 4초...\n",
      "[B] 5초...\n",
      "[B] 작업이 종료되었습니다.\n",
      "[C] 작업을 2초 동안 수행합니다.\n",
      "[C] 1초...\n",
      "[C] 2초...\n",
      "[C] 작업이 종료되었습니다.\n",
      "작업에 소요된 시간은 총 10초 입니다.\n"
     ]
    }
   ],
   "source": [
    "# 순차적으로 작업이 진행되는 예시\n",
    "startTime = dt.datetime.now()\n",
    "\n",
    "timeWork(\"A\", 3)\n",
    "timeWork(\"B\", 5)\n",
    "timeWork(\"C\", 2)\n",
    "\n",
    "endTime = dt.datetime.now()\n",
    "workTime = endTime - startTime\n",
    "print(\"작업에 소요된 시간은 총 %s초 입니다.\" % workTime.seconds)"
   ]
  },
  {
   "cell_type": "code",
   "execution_count": 4,
   "metadata": {},
   "outputs": [
    {
     "name": "stdout",
     "output_type": "stream",
     "text": [
      "[A] 작업을 3초 동안 수행합니다.\n",
      "[B] 작업을 5초 동안 수행합니다.\n",
      "[C] 작업을 2초 동안 수행합니다.\n",
      "[A] 1초...\n",
      "[C] 1초...\n",
      "[B] 1초...\n",
      "[A] 2초...\n",
      "[C] 2초...\n",
      "[C] 작업이 종료되었습니다.\n",
      "[B] 2초...\n",
      "[A] 3초...\n",
      "[A] 작업이 종료되었습니다.\n",
      "[B] 3초...\n",
      "[B] 4초...\n",
      "[B] 5초...\n",
      "[B] 작업이 종료되었습니다.\n",
      "작업에 소요된 시간은 총 5초 입니다.\n"
     ]
    }
   ],
   "source": [
    "# 비동기 함수를 사용한 병렬 작업 실행 예시\n",
    "startTime = dt.datetime.now()\n",
    "\n",
    "with futures.ThreadPoolExecutor(max_workers = 3) as executor:\n",
    "    executor.submit(timeWork, \"A\", 3)\n",
    "    executor.submit(timeWork, \"B\", 5)\n",
    "    executor.submit(timeWork, \"C\", 2)\n",
    "\n",
    "endTime = dt.datetime.now()\n",
    "workTime = endTime - startTime\n",
    "print(\"작업에 소요된 시간은 총 %s초 입니다.\" % workTime.seconds)"
   ]
  },
  {
   "cell_type": "code",
   "execution_count": 7,
   "metadata": {},
   "outputs": [],
   "source": [
    "# 메일링 리스트 개선\n",
    "today = dt.datetime.now()\n",
    "year = today.year\n",
    "month = today.month\n",
    "day = today.day\n",
    "\n",
    "fromAddr = \"yijingue@naver.com\"\n",
    "subjectTmpl = \"{name}님의 {yy}년 {mm}월 급여명세서 입니다.\"\n",
    "\n",
    "with open('mailtest/content.txt', 'r', encoding = 'utf-8') as f:\n",
    "    contentTmpl = f.read()"
   ]
  },
  {
   "cell_type": "code",
   "execution_count": 11,
   "metadata": {},
   "outputs": [
    {
     "name": "stdout",
     "output_type": "stream",
     "text": [
      "작업에 소요된 시간은 총 2초 입니다.\n"
     ]
    }
   ],
   "source": [
    "# 기존 순차적 방식의 메일 발송\n",
    "startTime = dt.datetime.now()\n",
    "\n",
    "with open(\"mailtest/mail_list.csv\", \"r\", encoding = 'euc-kr') as f:\n",
    "    csv = f.readlines()\n",
    "\n",
    "    for line in csv:\n",
    "        name, email, file1, file2 = line.strip().split(\",\")\n",
    "        toAddr = \"{email}\".format(email = email)\n",
    "        subject = subjectTmpl.format(name = name, yy = year, mm = month)\n",
    "        content = contentTmpl.format(name = name, yy = year, mm = month, dd = day)\n",
    "       \n",
    "        MyMailer.sendMail(fromAddr, toAddr, subject, content, [file1, file2])\n",
    "\n",
    "endTime = dt.datetime.now()\n",
    "workTime = endTime - startTime\n",
    "print(\"작업에 소요된 시간은 총 %s초 입니다.\" % workTime.seconds)"
   ]
  },
  {
   "cell_type": "code",
   "execution_count": 17,
   "metadata": {},
   "outputs": [
    {
     "name": "stdout",
     "output_type": "stream",
     "text": [
      "작업에 소요된 시간은 총 0초 입니다.\n"
     ]
    }
   ],
   "source": [
    "# 비동기식 메일 발송\n",
    "startTime = dt.datetime.now()\n",
    "\n",
    "with open(\"mailtest/mail_list.csv\", \"r\", encoding = 'euc-kr') as f:\n",
    "    csv = f.readlines()\n",
    "\n",
    "    with futures.ThreadPoolExecutor(max_workers = 10) as executor:\n",
    "        for line in csv:\n",
    "            name, email, file1, file2 = line.strip().split(\",\")\n",
    "            toAddr = \"{email}\".format(email = email)\n",
    "            subject = subjectTmpl.format(name = name, yy = year, mm = month)\n",
    "            content = contentTmpl.format(name = name, yy = year, mm = month, dd = day)\n",
    "        \n",
    "            executor.submit(MyMailer.sendMail, fromAddr, toAddr, subject, content, [file1, file2])\n",
    "\n",
    "endTime = dt.datetime.now()\n",
    "workTime = endTime - startTime\n",
    "print(f\"작업에 소요된 시간은 총 {workTime.seconds}초 입니다.\")"
   ]
  },
  {
   "cell_type": "code",
   "execution_count": null,
   "metadata": {},
   "outputs": [],
   "source": []
  },
  {
   "cell_type": "code",
   "execution_count": null,
   "metadata": {},
   "outputs": [],
   "source": []
  },
  {
   "cell_type": "code",
   "execution_count": null,
   "metadata": {},
   "outputs": [],
   "source": []
  },
  {
   "cell_type": "code",
   "execution_count": null,
   "metadata": {},
   "outputs": [],
   "source": []
  },
  {
   "cell_type": "code",
   "execution_count": null,
   "metadata": {},
   "outputs": [],
   "source": []
  },
  {
   "cell_type": "code",
   "execution_count": null,
   "metadata": {},
   "outputs": [],
   "source": []
  },
  {
   "cell_type": "code",
   "execution_count": null,
   "metadata": {},
   "outputs": [],
   "source": []
  },
  {
   "cell_type": "code",
   "execution_count": null,
   "metadata": {},
   "outputs": [],
   "source": []
  },
  {
   "cell_type": "code",
   "execution_count": null,
   "metadata": {},
   "outputs": [],
   "source": []
  },
  {
   "cell_type": "code",
   "execution_count": null,
   "metadata": {},
   "outputs": [],
   "source": []
  },
  {
   "cell_type": "code",
   "execution_count": null,
   "metadata": {},
   "outputs": [],
   "source": []
  },
  {
   "cell_type": "code",
   "execution_count": null,
   "metadata": {},
   "outputs": [],
   "source": []
  },
  {
   "cell_type": "code",
   "execution_count": null,
   "metadata": {},
   "outputs": [],
   "source": []
  },
  {
   "cell_type": "code",
   "execution_count": null,
   "metadata": {},
   "outputs": [],
   "source": []
  },
  {
   "cell_type": "code",
   "execution_count": null,
   "metadata": {},
   "outputs": [],
   "source": []
  },
  {
   "cell_type": "code",
   "execution_count": null,
   "metadata": {},
   "outputs": [],
   "source": []
  },
  {
   "cell_type": "code",
   "execution_count": null,
   "metadata": {},
   "outputs": [],
   "source": []
  },
  {
   "cell_type": "code",
   "execution_count": null,
   "metadata": {},
   "outputs": [],
   "source": []
  },
  {
   "cell_type": "code",
   "execution_count": null,
   "metadata": {},
   "outputs": [],
   "source": []
  },
  {
   "cell_type": "code",
   "execution_count": null,
   "metadata": {},
   "outputs": [],
   "source": []
  },
  {
   "cell_type": "code",
   "execution_count": null,
   "metadata": {},
   "outputs": [],
   "source": []
  },
  {
   "cell_type": "code",
   "execution_count": null,
   "metadata": {},
   "outputs": [],
   "source": []
  },
  {
   "cell_type": "code",
   "execution_count": null,
   "metadata": {},
   "outputs": [],
   "source": []
  },
  {
   "cell_type": "code",
   "execution_count": null,
   "metadata": {},
   "outputs": [],
   "source": []
  },
  {
   "cell_type": "code",
   "execution_count": null,
   "metadata": {},
   "outputs": [],
   "source": []
  },
  {
   "cell_type": "code",
   "execution_count": null,
   "metadata": {},
   "outputs": [],
   "source": []
  },
  {
   "cell_type": "code",
   "execution_count": null,
   "metadata": {},
   "outputs": [],
   "source": []
  },
  {
   "cell_type": "code",
   "execution_count": null,
   "metadata": {},
   "outputs": [],
   "source": []
  },
  {
   "cell_type": "code",
   "execution_count": null,
   "metadata": {},
   "outputs": [],
   "source": []
  }
 ],
 "metadata": {
  "kernelspec": {
   "display_name": "base",
   "language": "python",
   "name": "python3"
  },
  "language_info": {
   "codemirror_mode": {
    "name": "ipython",
    "version": 3
   },
   "file_extension": ".py",
   "mimetype": "text/x-python",
   "name": "python",
   "nbconvert_exporter": "python",
   "pygments_lexer": "ipython3",
   "version": "3.10.9"
  }
 },
 "nbformat": 4,
 "nbformat_minor": 2
}
