{
 "cells": [
  {
   "cell_type": "markdown",
   "metadata": {},
   "source": [
    "# 33강 예외처리"
   ]
  },
  {
   "cell_type": "markdown",
   "metadata": {},
   "source": [
    "### 01. 에러의 종류"
   ]
  },
  {
   "cell_type": "markdown",
   "metadata": {},
   "source": [
    "| 종류 | 설명 |\n",
    "|--|--|\n",
    "| Syntax Error | 문법 에러. 파이썬의 작성 규칙을 지키지 않아 발생하는 에러. 프로그램이 실행될 수 없는 상태 |\n",
    "| Runtime Error | 실행중 에러. 프로그램이 실행도중 예상치 못한 논리적 오류를 만나는 경우. |\n",
    "\n",
    "- 개발자가 예상하지 못한 상황에서 발생되는 Runtime Error를 **예외**라고 한다.\n",
    "  - 즉 예외처리란, 에러에 대비하기 위한 코드 작성 규칙"
   ]
  },
  {
   "cell_type": "markdown",
   "metadata": {},
   "source": [
    "- 예외상황 이해하기"
   ]
  },
  {
   "cell_type": "code",
   "execution_count": 10,
   "metadata": {},
   "outputs": [
    {
     "ename": "ZeroDivisionError",
     "evalue": "division by zero",
     "output_type": "error",
     "traceback": [
      "\u001b[1;31m---------------------------------------------------------------------------\u001b[0m",
      "\u001b[1;31mZeroDivisionError\u001b[0m                         Traceback (most recent call last)",
      "\u001b[1;32mx:\\LJK\\Python\\Mega_IT\\B.Python\\33강_예외처리.ipynb 셀 5\u001b[0m line \u001b[0;36m2\n\u001b[0;32m      <a href='vscode-notebook-cell:/x%3A/LJK/Python/Mega_IT/B.Python/33%EA%B0%95_%EC%98%88%EC%99%B8%EC%B2%98%EB%A6%AC.ipynb#X36sZmlsZQ%3D%3D?line=0'>1</a>\u001b[0m x \u001b[39m=\u001b[39m \u001b[39mint\u001b[39m(\u001b[39minput\u001b[39m(\u001b[39m\"\u001b[39m\u001b[39m숫자를 입력하세요.\u001b[39m\u001b[39m\"\u001b[39m))\n\u001b[1;32m----> <a href='vscode-notebook-cell:/x%3A/LJK/Python/Mega_IT/B.Python/33%EA%B0%95_%EC%98%88%EC%99%B8%EC%B2%98%EB%A6%AC.ipynb#X36sZmlsZQ%3D%3D?line=1'>2</a>\u001b[0m y \u001b[39m=\u001b[39m \u001b[39m100\u001b[39;49m \u001b[39m/\u001b[39;49m x\n\u001b[0;32m      <a href='vscode-notebook-cell:/x%3A/LJK/Python/Mega_IT/B.Python/33%EA%B0%95_%EC%98%88%EC%99%B8%EC%B2%98%EB%A6%AC.ipynb#X36sZmlsZQ%3D%3D?line=2'>3</a>\u001b[0m \u001b[39mprint\u001b[39m(\u001b[39mf\u001b[39m\u001b[39m\"\u001b[39m\u001b[39m결과는 \u001b[39m\u001b[39m{\u001b[39;00my\u001b[39m}\u001b[39;00m\u001b[39m입니다.\u001b[39m\u001b[39m\"\u001b[39m)\n",
      "\u001b[1;31mZeroDivisionError\u001b[0m: division by zero"
     ]
    }
   ],
   "source": [
    "x = int(input(\"숫자를 입력하세요.\"))\n",
    "y = 100 / x\n",
    "print(f\"결과는 {y}입니다.\")"
   ]
  },
  {
   "cell_type": "code",
   "execution_count": 11,
   "metadata": {},
   "outputs": [
    {
     "ename": "OSError",
     "evalue": "[Errno 22] Invalid argument: 'Z:\\\\'",
     "output_type": "error",
     "traceback": [
      "\u001b[1;31m---------------------------------------------------------------------------\u001b[0m",
      "\u001b[1;31mOSError\u001b[0m                                   Traceback (most recent call last)",
      "\u001b[1;32mx:\\LJK\\Python\\Mega_IT\\B.Python\\33강_예외처리.ipynb 셀 6\u001b[0m line \u001b[0;36m4\n\u001b[0;32m      <a href='vscode-notebook-cell:/x%3A/LJK/Python/Mega_IT/B.Python/33%EA%B0%95_%EC%98%88%EC%99%B8%EC%B2%98%EB%A6%AC.ipynb#X35sZmlsZQ%3D%3D?line=0'>1</a>\u001b[0m filePath \u001b[39m=\u001b[39m \u001b[39minput\u001b[39m(\u001b[39m\"\u001b[39m\u001b[39m파일 경로를 입력하세요\u001b[39m\u001b[39m\"\u001b[39m)\n\u001b[0;32m      <a href='vscode-notebook-cell:/x%3A/LJK/Python/Mega_IT/B.Python/33%EA%B0%95_%EC%98%88%EC%99%B8%EC%B2%98%EB%A6%AC.ipynb#X35sZmlsZQ%3D%3D?line=2'>3</a>\u001b[0m \u001b[39m# 파일을 저장할 수 없는 경로\u001b[39;00m\n\u001b[1;32m----> <a href='vscode-notebook-cell:/x%3A/LJK/Python/Mega_IT/B.Python/33%EA%B0%95_%EC%98%88%EC%99%B8%EC%B2%98%EB%A6%AC.ipynb#X35sZmlsZQ%3D%3D?line=3'>4</a>\u001b[0m \u001b[39mwith\u001b[39;00m \u001b[39mopen\u001b[39;49m(filePath, \u001b[39m\"\u001b[39;49m\u001b[39mw\u001b[39;49m\u001b[39m\"\u001b[39;49m, encoding \u001b[39m=\u001b[39;49m \u001b[39m\"\u001b[39;49m\u001b[39mutf-8\u001b[39;49m\u001b[39m\"\u001b[39;49m)\u001b[39mas\u001b[39;00m f:\n\u001b[0;32m      <a href='vscode-notebook-cell:/x%3A/LJK/Python/Mega_IT/B.Python/33%EA%B0%95_%EC%98%88%EC%99%B8%EC%B2%98%EB%A6%AC.ipynb#X35sZmlsZQ%3D%3D?line=4'>5</a>\u001b[0m     f\u001b[39m.\u001b[39mwrite(\u001b[39m\"\u001b[39m\u001b[39m파일 쓰기 테스트입니다.\u001b[39m\u001b[39m\"\u001b[39m)\n",
      "File \u001b[1;32mc:\\Users\\yjg10\\anaconda3\\lib\\site-packages\\IPython\\core\\interactiveshell.py:282\u001b[0m, in \u001b[0;36m_modified_open\u001b[1;34m(file, *args, **kwargs)\u001b[0m\n\u001b[0;32m    275\u001b[0m \u001b[39mif\u001b[39;00m file \u001b[39min\u001b[39;00m {\u001b[39m0\u001b[39m, \u001b[39m1\u001b[39m, \u001b[39m2\u001b[39m}:\n\u001b[0;32m    276\u001b[0m     \u001b[39mraise\u001b[39;00m \u001b[39mValueError\u001b[39;00m(\n\u001b[0;32m    277\u001b[0m         \u001b[39mf\u001b[39m\u001b[39m\"\u001b[39m\u001b[39mIPython won\u001b[39m\u001b[39m'\u001b[39m\u001b[39mt let you open fd=\u001b[39m\u001b[39m{\u001b[39;00mfile\u001b[39m}\u001b[39;00m\u001b[39m by default \u001b[39m\u001b[39m\"\u001b[39m\n\u001b[0;32m    278\u001b[0m         \u001b[39m\"\u001b[39m\u001b[39mas it is likely to crash IPython. If you know what you are doing, \u001b[39m\u001b[39m\"\u001b[39m\n\u001b[0;32m    279\u001b[0m         \u001b[39m\"\u001b[39m\u001b[39myou can use builtins\u001b[39m\u001b[39m'\u001b[39m\u001b[39m open.\u001b[39m\u001b[39m\"\u001b[39m\n\u001b[0;32m    280\u001b[0m     )\n\u001b[1;32m--> 282\u001b[0m \u001b[39mreturn\u001b[39;00m io_open(file, \u001b[39m*\u001b[39margs, \u001b[39m*\u001b[39m\u001b[39m*\u001b[39mkwargs)\n",
      "\u001b[1;31mOSError\u001b[0m: [Errno 22] Invalid argument: 'Z:\\\\'"
     ]
    }
   ],
   "source": [
    "filePath = input(\"파일 경로를 입력하세요\")\n",
    "\n",
    "# 파일을 저장할 수 없는 경로\n",
    "with open(filePath, \"w\", encoding = \"utf-8\")as f:\n",
    "    f.write(\"파일 쓰기 테스트입니다.\")"
   ]
  },
  {
   "cell_type": "markdown",
   "metadata": {},
   "source": [
    "#### 02. 예외처리 구문"
   ]
  },
  {
   "cell_type": "markdown",
   "metadata": {},
   "source": [
    "- 파이썬에서 예외상황이 발생한 경우 작동하도록 하는 문법적 구조"
   ]
  },
  {
   "cell_type": "markdown",
   "metadata": {},
   "source": [
    "- try ~ except\n",
    "  - 예외 상황이 예상되는 코드를 'try' 블록으로 감싼다. 이 블록 안에서 예외가 발생할 경우 연결된 'except' 블록으로 프로그램의 제어가 이동.\n",
    "  - 예외의 종류에 상관없이 예외가 발생하면 except 블록을 수행"
   ]
  },
  {
   "cell_type": "code",
   "execution_count": 15,
   "metadata": {},
   "outputs": [
    {
     "name": "stdout",
     "output_type": "stream",
     "text": [
      "에러가 발생했습니다.\n"
     ]
    }
   ],
   "source": [
    "try:\n",
    "    x = int(input(\"숫자를 입력하세요.\"))\n",
    "\n",
    "    y = 100 / x\n",
    "    print(f\"결과는 {y}입니다.\")\n",
    "except:\n",
    "    print(\"에러가 발생했습니다.\")"
   ]
  },
  {
   "cell_type": "markdown",
   "metadata": {},
   "source": [
    "- 예외의 종류에 따라 다르게 대응하기\n",
    "  - except 뒤에 구체적인 오류 명을 입력하면 오류별로 다른 명령을 수행하게 할 수 있음"
   ]
  },
  {
   "cell_type": "code",
   "execution_count": 17,
   "metadata": {},
   "outputs": [
    {
     "name": "stdout",
     "output_type": "stream",
     "text": [
      "0으로 나눌 수 없습니다.\n"
     ]
    }
   ],
   "source": [
    "try:\n",
    "    x = int(input(\"숫자를 입력하세요.\"))\n",
    "    y = 100 / x\n",
    "    print(f\"결과는 {y}입니다.\")\n",
    "except ValueError:\n",
    "    print(\"숫자만 입력하세요.\")\n",
    "except ZeroDivisionError:\n",
    "    print(\"0으로 나눌 수 없습니다.\")"
   ]
  },
  {
   "cell_type": "markdown",
   "metadata": {},
   "source": [
    "- 에러 정보를 포함하는 객체 사용하기\n",
    "  - except문 뒤에 'as 객체명' 형식으로 에러객체를 전달받아 활용할 수 있다."
   ]
  },
  {
   "cell_type": "code",
   "execution_count": 19,
   "metadata": {},
   "outputs": [
    {
     "name": "stdout",
     "output_type": "stream",
     "text": [
      "0으로 나눌 수 없습니다.\n",
      "division by zero\n"
     ]
    }
   ],
   "source": [
    "try:\n",
    "    x = int(input(\"숫자를 입력하세요.\"))\n",
    "    y = 100 / x\n",
    "    print(f\"결과는 {y}입니다.\")\n",
    "except ValueError as verr:\n",
    "    print(\"숫자만 입력하세요.\")\n",
    "    print(verr)\n",
    "except ZeroDivisionError as zerr:\n",
    "    print(\"0으로 나눌 수 없습니다.\")\n",
    "    print(zerr)"
   ]
  },
  {
   "cell_type": "markdown",
   "metadata": {},
   "source": [
    "- 에러 발생여부에 상관 없이 무조건 실행되는 블록\n",
    "  - finally 문을 붙이면 에러 발생 여부와 관련없이 무조건 마지막에 실행됨"
   ]
  },
  {
   "cell_type": "code",
   "execution_count": 22,
   "metadata": {},
   "outputs": [
    {
     "name": "stdout",
     "output_type": "stream",
     "text": [
      "결과는 10.0입니다.\n",
      "처리가 완료되었습니다.\n"
     ]
    }
   ],
   "source": [
    "try:\n",
    "    x = int(input(\"숫자를 입력하세요.\"))\n",
    "    y = 100 / x\n",
    "    print(f\"결과는 {y}입니다.\")\n",
    "except ValueError as verr:\n",
    "    print(\"숫자만 입력하세요.\")\n",
    "    print(verr)\n",
    "except ZeroDivisionError as zerr:\n",
    "    print(\"0으로 나눌 수 없습니다.\")\n",
    "    print(zerr)\n",
    "finally:\n",
    "    print(\"처리가 완료되었습니다.\")"
   ]
  },
  {
   "cell_type": "markdown",
   "metadata": {},
   "source": [
    "- 가장 간편한 사용 형태\n",
    "  - Exception는 모든 에러를 통칭하는 것으로, as 를 붙여 구체적인 에러메세지를 담아 출력하는 방식으로 사용"
   ]
  },
  {
   "cell_type": "code",
   "execution_count": 24,
   "metadata": {},
   "outputs": [
    {
     "name": "stdout",
     "output_type": "stream",
     "text": [
      "에러가 발생했습니다. invalid literal for int() with base 10: 'asdf'\n",
      "처리가 완료되었습니다.\n"
     ]
    }
   ],
   "source": [
    "try:\n",
    "    x = int(input(\"숫자를 입력하세요.\"))\n",
    "    y = 100 / x\n",
    "    print(f\"결과는 {y}입니다.\")\n",
    "except Exception as e:\n",
    "    print(\"에러가 발생했습니다.\", e)\n",
    "finally:\n",
    "    print(\"처리가 완료되었습니다.\")"
   ]
  },
  {
   "cell_type": "markdown",
   "metadata": {},
   "source": [
    "#### 03. 에러 강제 발생"
   ]
  },
  {
   "cell_type": "markdown",
   "metadata": {},
   "source": [
    "- 기본 구문 형식"
   ]
  },
  {
   "cell_type": "code",
   "execution_count": 55,
   "metadata": {},
   "outputs": [
    {
     "ename": "ValueError",
     "evalue": "똑바로 입력 안하냐?",
     "output_type": "error",
     "traceback": [
      "\u001b[1;31m---------------------------------------------------------------------------\u001b[0m",
      "\u001b[1;31mValueError\u001b[0m                                Traceback (most recent call last)",
      "\u001b[1;32mx:\\LJK\\Python\\Mega_IT\\B.Python\\33강_예외처리.ipynb 셀 21\u001b[0m line \u001b[0;36m1\n\u001b[1;32m----> <a href='vscode-notebook-cell:/x%3A/LJK/Python/Mega_IT/B.Python/33%EA%B0%95_%EC%98%88%EC%99%B8%EC%B2%98%EB%A6%AC.ipynb#X13sZmlsZQ%3D%3D?line=0'>1</a>\u001b[0m \u001b[39mraise\u001b[39;00m \u001b[39mValueError\u001b[39;00m(\u001b[39m\"\u001b[39m\u001b[39m똑바로 입력 안하냐?\u001b[39m\u001b[39m\"\u001b[39m)\n",
      "\u001b[1;31mValueError\u001b[0m: 똑바로 입력 안하냐?"
     ]
    }
   ],
   "source": [
    "raise ValueError(\"똑바로 입력 안하냐?\")"
   ]
  },
  {
   "cell_type": "markdown",
   "metadata": {},
   "source": [
    "- 고전적인 예외 상황처리"
   ]
  },
  {
   "cell_type": "code",
   "execution_count": 56,
   "metadata": {},
   "outputs": [],
   "source": [
    "def oldLogin(userId, userPw):\n",
    "    if not userId:\n",
    "        return -1\n",
    "    \n",
    "    if not userPw:\n",
    "        return -2\n",
    "    \n",
    "    # ... 로그인 처리\n",
    "    return 0"
   ]
  },
  {
   "cell_type": "code",
   "execution_count": 59,
   "metadata": {},
   "outputs": [
    {
     "name": "stdout",
     "output_type": "stream",
     "text": [
      "로그인 성공\n"
     ]
    }
   ],
   "source": [
    "# result1 = oldLogin(\"\", \"1234\")\n",
    "# result1 = oldLogin(\"아야\", \"\")\n",
    "result1 = oldLogin(\"아야\", \"1234\")\n",
    "\n",
    "if result1 == -1:\n",
    "    print(\"아이디를 입력하세요\")\n",
    "elif result1 == -2:\n",
    "    print(\"비밀번호를 입력하세요\")\n",
    "else:\n",
    "    print(\"로그인 성공\")"
   ]
  },
  {
   "cell_type": "markdown",
   "metadata": {},
   "source": [
    "- raise 문을 활용한 예외 처리"
   ]
  },
  {
   "cell_type": "code",
   "execution_count": 62,
   "metadata": {},
   "outputs": [],
   "source": [
    "def newLogin(userId, userPw):\n",
    "    if not userId:\n",
    "        raise Exception(\"아이디를 입력하세요\")\n",
    "    \n",
    "    if not userPw:\n",
    "        raise Exception(\"비밀번호를 입력하세요\")\n",
    "    \n",
    "    # 로그인 처리\n",
    "    return 0"
   ]
  },
  {
   "cell_type": "code",
   "execution_count": 67,
   "metadata": {},
   "outputs": [
    {
     "name": "stdout",
     "output_type": "stream",
     "text": [
      "로그인에 실패했습니다. 아이디를 입력하세요\n"
     ]
    }
   ],
   "source": [
    "try:\n",
    "    # newLogin(\"123\", \"\")\n",
    "    newLogin(\"\", \"123\")\n",
    "    # newLogin(\"123\", \"123\")\n",
    "    print(\"로그인 성공\")\n",
    "except Exception as e:\n",
    "    print(\"로그인에 실패했습니다.\", e)"
   ]
  },
  {
   "cell_type": "code",
   "execution_count": null,
   "metadata": {},
   "outputs": [],
   "source": []
  },
  {
   "cell_type": "code",
   "execution_count": null,
   "metadata": {},
   "outputs": [],
   "source": []
  },
  {
   "cell_type": "code",
   "execution_count": null,
   "metadata": {},
   "outputs": [],
   "source": []
  },
  {
   "cell_type": "code",
   "execution_count": null,
   "metadata": {},
   "outputs": [],
   "source": []
  }
 ],
 "metadata": {
  "kernelspec": {
   "display_name": "base",
   "language": "python",
   "name": "python3"
  },
  "language_info": {
   "codemirror_mode": {
    "name": "ipython",
    "version": 3
   },
   "file_extension": ".py",
   "mimetype": "text/x-python",
   "name": "python",
   "nbconvert_exporter": "python",
   "pygments_lexer": "ipython3",
   "version": "3.10.9"
  }
 },
 "nbformat": 4,
 "nbformat_minor": 2
}
