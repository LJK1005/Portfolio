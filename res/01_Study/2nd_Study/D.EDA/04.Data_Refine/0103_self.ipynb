{
 "cells": [
  {
   "cell_type": "code",
   "execution_count": 1,
   "metadata": {},
   "outputs": [],
   "source": [
    "import pandas as pd\n",
    "import numpy as np\n",
    "import matplotlib.pyplot as plt\n",
    "from sklearn.impute import SimpleImputer"
   ]
  },
  {
   "cell_type": "code",
   "execution_count": 46,
   "metadata": {},
   "outputs": [],
   "source": [
    "from matplotlib import font_manager, rc\n",
    "import matplotlib\n",
    "font_path = \"C:/Windows/Fonts/malgun.ttf\"\n",
    "font_name = font_manager.FontProperties(fname = font_path).get_name()\n",
    "matplotlib.rc(\"font\", family = font_name)"
   ]
  },
  {
   "cell_type": "markdown",
   "metadata": {},
   "source": [
    "- 데이터 정제 : 비정상 데이터의 처리\n",
    "  - 결측치 : 빈값(Null)\n",
    "    - 결측치 삭제(소거법)\n",
    "      - 유의미한 데이터가 소실될 수 있음\n",
    "    - 결측치 대체(고정값 or 산술)\n",
    "  - 이상치 : 정상 범위를 벗어난 값\n",
    "    - 이상치를 감지하는 수식 확인\n",
    "    - 분석가의 주관으로 최종 판단"
   ]
  },
  {
   "cell_type": "markdown",
   "metadata": {},
   "source": [
    "- 결측치 대체\n",
    "  - 평균 대치법 : 데이터의 평균으로 대치\n",
    "  - 다중 대치법 : 결측치 하나하나에 대하여 평균 대치법을 하고 변하는 평균값을 다른 결측치에 대체하는 방식으로 대체 진행"
   ]
  },
  {
   "cell_type": "markdown",
   "metadata": {},
   "source": [
    "- 이상치\n",
    "  - 분석의 목적이나 종류에 따라 분석가의 적절한 판단이 필요\n",
    "  - 잘못 입력, 분석목적에 부합하지 않는 데이터, 의도하거나 의도되지 않은 이상값"
   ]
  },
  {
   "cell_type": "markdown",
   "metadata": {},
   "source": [
    "- 이상치의 판단\n",
    "  - 논리적 판단 : 일반적인 범위를 벗어나는 값을 이상치로 간주\n",
    "    - 단, 학술적으로 검증된 출처 표기가 필요(논문, 학계 공식 발표 등)\n",
    "  - 통계적 기준을 이용(ESD) : 상하위 0.3% or +-표준편차*3\n",
    "  - 상자그림(boxplot) 이용\n",
    "    - IQR : Q3 - Q1\n",
    "    - Q1 - 1.5IQR보다 작거나 Q3 + 1.5IQR보다 크다면 이상치로 간주"
   ]
  },
  {
   "cell_type": "code",
   "execution_count": 15,
   "metadata": {},
   "outputs": [],
   "source": [
    "df = pd.DataFrame([[1, None, 10],\n",
    "                  [5, 5, 5],\n",
    "                  [None, 0, 10]])"
   ]
  },
  {
   "cell_type": "code",
   "execution_count": 20,
   "metadata": {},
   "outputs": [
    {
     "data": {
      "text/html": [
       "<div>\n",
       "<style scoped>\n",
       "    .dataframe tbody tr th:only-of-type {\n",
       "        vertical-align: middle;\n",
       "    }\n",
       "\n",
       "    .dataframe tbody tr th {\n",
       "        vertical-align: top;\n",
       "    }\n",
       "\n",
       "    .dataframe thead th {\n",
       "        text-align: right;\n",
       "    }\n",
       "</style>\n",
       "<table border=\"1\" class=\"dataframe\">\n",
       "  <thead>\n",
       "    <tr style=\"text-align: right;\">\n",
       "      <th></th>\n",
       "      <th>0</th>\n",
       "      <th>1</th>\n",
       "      <th>2</th>\n",
       "    </tr>\n",
       "  </thead>\n",
       "  <tbody>\n",
       "    <tr>\n",
       "      <th>0</th>\n",
       "      <td>1.0</td>\n",
       "      <td>NaN</td>\n",
       "      <td>10</td>\n",
       "    </tr>\n",
       "    <tr>\n",
       "      <th>1</th>\n",
       "      <td>5.0</td>\n",
       "      <td>5.0</td>\n",
       "      <td>5</td>\n",
       "    </tr>\n",
       "    <tr>\n",
       "      <th>2</th>\n",
       "      <td>NaN</td>\n",
       "      <td>0.0</td>\n",
       "      <td>10</td>\n",
       "    </tr>\n",
       "  </tbody>\n",
       "</table>\n",
       "</div>"
      ],
      "text/plain": [
       "     0    1   2\n",
       "0  1.0  NaN  10\n",
       "1  5.0  5.0   5\n",
       "2  NaN  0.0  10"
      ]
     },
     "execution_count": 20,
     "metadata": {},
     "output_type": "execute_result"
    }
   ],
   "source": [
    "df"
   ]
  },
  {
   "cell_type": "code",
   "execution_count": 22,
   "metadata": {},
   "outputs": [],
   "source": [
    "imr = SimpleImputer(missing_values = np.nan, strategy = 'mean')"
   ]
  },
  {
   "cell_type": "code",
   "execution_count": 23,
   "metadata": {},
   "outputs": [],
   "source": [
    "df_imr = imr.fit_transform(df)"
   ]
  },
  {
   "cell_type": "code",
   "execution_count": 24,
   "metadata": {},
   "outputs": [
    {
     "data": {
      "text/plain": [
       "array([[ 1. ,  2.5, 10. ],\n",
       "       [ 5. ,  5. ,  5. ],\n",
       "       [ 3. ,  0. , 10. ]])"
      ]
     },
     "execution_count": 24,
     "metadata": {},
     "output_type": "execute_result"
    }
   ],
   "source": [
    "df_imr"
   ]
  },
  {
   "cell_type": "code",
   "execution_count": 37,
   "metadata": {},
   "outputs": [],
   "source": [
    "origin = pd.read_excel('ref_sample.xlsx', index_col = '이름')"
   ]
  },
  {
   "cell_type": "code",
   "execution_count": 30,
   "metadata": {},
   "outputs": [
    {
     "data": {
      "text/plain": [
       "이름    0\n",
       "국어    1\n",
       "영어    0\n",
       "수학    1\n",
       "과학    2\n",
       "dtype: int64"
      ]
     },
     "execution_count": 30,
     "metadata": {},
     "output_type": "execute_result"
    }
   ],
   "source": [
    "origin.isnull().sum()"
   ]
  },
  {
   "cell_type": "code",
   "execution_count": 33,
   "metadata": {},
   "outputs": [
    {
     "data": {
      "text/html": [
       "<div>\n",
       "<style scoped>\n",
       "    .dataframe tbody tr th:only-of-type {\n",
       "        vertical-align: middle;\n",
       "    }\n",
       "\n",
       "    .dataframe tbody tr th {\n",
       "        vertical-align: top;\n",
       "    }\n",
       "\n",
       "    .dataframe thead th {\n",
       "        text-align: right;\n",
       "    }\n",
       "</style>\n",
       "<table border=\"1\" class=\"dataframe\">\n",
       "  <thead>\n",
       "    <tr style=\"text-align: right;\">\n",
       "      <th></th>\n",
       "      <th>이름</th>\n",
       "      <th>국어</th>\n",
       "      <th>영어</th>\n",
       "      <th>수학</th>\n",
       "      <th>과학</th>\n",
       "    </tr>\n",
       "  </thead>\n",
       "  <tbody>\n",
       "    <tr>\n",
       "      <th>0</th>\n",
       "      <td>철수</td>\n",
       "      <td>98.0</td>\n",
       "      <td>77</td>\n",
       "      <td>88.0</td>\n",
       "      <td>64.0</td>\n",
       "    </tr>\n",
       "    <tr>\n",
       "      <th>1</th>\n",
       "      <td>영희</td>\n",
       "      <td>88.0</td>\n",
       "      <td>120</td>\n",
       "      <td>62.0</td>\n",
       "      <td>72.0</td>\n",
       "    </tr>\n",
       "    <tr>\n",
       "      <th>2</th>\n",
       "      <td>민철</td>\n",
       "      <td>NaN</td>\n",
       "      <td>70</td>\n",
       "      <td>83.0</td>\n",
       "      <td>79.0</td>\n",
       "    </tr>\n",
       "    <tr>\n",
       "      <th>3</th>\n",
       "      <td>수현</td>\n",
       "      <td>63.0</td>\n",
       "      <td>60</td>\n",
       "      <td>31.0</td>\n",
       "      <td>71.0</td>\n",
       "    </tr>\n",
       "    <tr>\n",
       "      <th>4</th>\n",
       "      <td>호영</td>\n",
       "      <td>75.0</td>\n",
       "      <td>50</td>\n",
       "      <td>90.0</td>\n",
       "      <td>NaN</td>\n",
       "    </tr>\n",
       "    <tr>\n",
       "      <th>5</th>\n",
       "      <td>영호</td>\n",
       "      <td>80.0</td>\n",
       "      <td>88</td>\n",
       "      <td>91.0</td>\n",
       "      <td>72.0</td>\n",
       "    </tr>\n",
       "    <tr>\n",
       "      <th>6</th>\n",
       "      <td>용식</td>\n",
       "      <td>82.0</td>\n",
       "      <td>88</td>\n",
       "      <td>NaN</td>\n",
       "      <td>90.0</td>\n",
       "    </tr>\n",
       "    <tr>\n",
       "      <th>7</th>\n",
       "      <td>나영</td>\n",
       "      <td>90.0</td>\n",
       "      <td>92</td>\n",
       "      <td>81.0</td>\n",
       "      <td>NaN</td>\n",
       "    </tr>\n",
       "    <tr>\n",
       "      <th>8</th>\n",
       "      <td>석영</td>\n",
       "      <td>91.0</td>\n",
       "      <td>90</td>\n",
       "      <td>89.0</td>\n",
       "      <td>80.0</td>\n",
       "    </tr>\n",
       "  </tbody>\n",
       "</table>\n",
       "</div>"
      ],
      "text/plain": [
       "   이름    국어   영어    수학    과학\n",
       "0  철수  98.0   77  88.0  64.0\n",
       "1  영희  88.0  120  62.0  72.0\n",
       "2  민철   NaN   70  83.0  79.0\n",
       "3  수현  63.0   60  31.0  71.0\n",
       "4  호영  75.0   50  90.0   NaN\n",
       "5  영호  80.0   88  91.0  72.0\n",
       "6  용식  82.0   88   NaN  90.0\n",
       "7  나영  90.0   92  81.0   NaN\n",
       "8  석영  91.0   90  89.0  80.0"
      ]
     },
     "execution_count": 33,
     "metadata": {},
     "output_type": "execute_result"
    }
   ],
   "source": [
    "origin"
   ]
  },
  {
   "cell_type": "code",
   "execution_count": 35,
   "metadata": {},
   "outputs": [],
   "source": [
    "imr1 = SimpleImputer(missing_values = np.nan, strategy = 'mean')\n",
    "imr2 = SimpleImputer(missing_values = np.nan, strategy = 'median')"
   ]
  },
  {
   "cell_type": "code",
   "execution_count": 40,
   "metadata": {},
   "outputs": [],
   "source": [
    "df1 = pd.DataFrame(imr1.fit_transform(origin), index = origin.index, columns = origin.columns)\n",
    "df2 = pd.DataFrame(imr2.fit_transform(origin), index = origin.index, columns = origin.columns)"
   ]
  },
  {
   "cell_type": "code",
   "execution_count": 41,
   "metadata": {},
   "outputs": [
    {
     "data": {
      "text/html": [
       "<div>\n",
       "<style scoped>\n",
       "    .dataframe tbody tr th:only-of-type {\n",
       "        vertical-align: middle;\n",
       "    }\n",
       "\n",
       "    .dataframe tbody tr th {\n",
       "        vertical-align: top;\n",
       "    }\n",
       "\n",
       "    .dataframe thead th {\n",
       "        text-align: right;\n",
       "    }\n",
       "</style>\n",
       "<table border=\"1\" class=\"dataframe\">\n",
       "  <thead>\n",
       "    <tr style=\"text-align: right;\">\n",
       "      <th></th>\n",
       "      <th>국어</th>\n",
       "      <th>영어</th>\n",
       "      <th>수학</th>\n",
       "      <th>과학</th>\n",
       "    </tr>\n",
       "    <tr>\n",
       "      <th>이름</th>\n",
       "      <th></th>\n",
       "      <th></th>\n",
       "      <th></th>\n",
       "      <th></th>\n",
       "    </tr>\n",
       "  </thead>\n",
       "  <tbody>\n",
       "    <tr>\n",
       "      <th>철수</th>\n",
       "      <td>98.000</td>\n",
       "      <td>77.0</td>\n",
       "      <td>88.000</td>\n",
       "      <td>64.000000</td>\n",
       "    </tr>\n",
       "    <tr>\n",
       "      <th>영희</th>\n",
       "      <td>88.000</td>\n",
       "      <td>120.0</td>\n",
       "      <td>62.000</td>\n",
       "      <td>72.000000</td>\n",
       "    </tr>\n",
       "    <tr>\n",
       "      <th>민철</th>\n",
       "      <td>83.375</td>\n",
       "      <td>70.0</td>\n",
       "      <td>83.000</td>\n",
       "      <td>79.000000</td>\n",
       "    </tr>\n",
       "    <tr>\n",
       "      <th>수현</th>\n",
       "      <td>63.000</td>\n",
       "      <td>60.0</td>\n",
       "      <td>31.000</td>\n",
       "      <td>71.000000</td>\n",
       "    </tr>\n",
       "    <tr>\n",
       "      <th>호영</th>\n",
       "      <td>75.000</td>\n",
       "      <td>50.0</td>\n",
       "      <td>90.000</td>\n",
       "      <td>75.428571</td>\n",
       "    </tr>\n",
       "    <tr>\n",
       "      <th>영호</th>\n",
       "      <td>80.000</td>\n",
       "      <td>88.0</td>\n",
       "      <td>91.000</td>\n",
       "      <td>72.000000</td>\n",
       "    </tr>\n",
       "    <tr>\n",
       "      <th>용식</th>\n",
       "      <td>82.000</td>\n",
       "      <td>88.0</td>\n",
       "      <td>76.875</td>\n",
       "      <td>90.000000</td>\n",
       "    </tr>\n",
       "    <tr>\n",
       "      <th>나영</th>\n",
       "      <td>90.000</td>\n",
       "      <td>92.0</td>\n",
       "      <td>81.000</td>\n",
       "      <td>75.428571</td>\n",
       "    </tr>\n",
       "    <tr>\n",
       "      <th>석영</th>\n",
       "      <td>91.000</td>\n",
       "      <td>90.0</td>\n",
       "      <td>89.000</td>\n",
       "      <td>80.000000</td>\n",
       "    </tr>\n",
       "  </tbody>\n",
       "</table>\n",
       "</div>"
      ],
      "text/plain": [
       "        국어     영어      수학         과학\n",
       "이름                                  \n",
       "철수  98.000   77.0  88.000  64.000000\n",
       "영희  88.000  120.0  62.000  72.000000\n",
       "민철  83.375   70.0  83.000  79.000000\n",
       "수현  63.000   60.0  31.000  71.000000\n",
       "호영  75.000   50.0  90.000  75.428571\n",
       "영호  80.000   88.0  91.000  72.000000\n",
       "용식  82.000   88.0  76.875  90.000000\n",
       "나영  90.000   92.0  81.000  75.428571\n",
       "석영  91.000   90.0  89.000  80.000000"
      ]
     },
     "execution_count": 41,
     "metadata": {},
     "output_type": "execute_result"
    }
   ],
   "source": [
    "df1"
   ]
  },
  {
   "cell_type": "code",
   "execution_count": 42,
   "metadata": {},
   "outputs": [
    {
     "data": {
      "text/html": [
       "<div>\n",
       "<style scoped>\n",
       "    .dataframe tbody tr th:only-of-type {\n",
       "        vertical-align: middle;\n",
       "    }\n",
       "\n",
       "    .dataframe tbody tr th {\n",
       "        vertical-align: top;\n",
       "    }\n",
       "\n",
       "    .dataframe thead th {\n",
       "        text-align: right;\n",
       "    }\n",
       "</style>\n",
       "<table border=\"1\" class=\"dataframe\">\n",
       "  <thead>\n",
       "    <tr style=\"text-align: right;\">\n",
       "      <th></th>\n",
       "      <th>국어</th>\n",
       "      <th>영어</th>\n",
       "      <th>수학</th>\n",
       "      <th>과학</th>\n",
       "    </tr>\n",
       "    <tr>\n",
       "      <th>이름</th>\n",
       "      <th></th>\n",
       "      <th></th>\n",
       "      <th></th>\n",
       "      <th></th>\n",
       "    </tr>\n",
       "  </thead>\n",
       "  <tbody>\n",
       "    <tr>\n",
       "      <th>철수</th>\n",
       "      <td>98.0</td>\n",
       "      <td>77.0</td>\n",
       "      <td>88.0</td>\n",
       "      <td>64.0</td>\n",
       "    </tr>\n",
       "    <tr>\n",
       "      <th>영희</th>\n",
       "      <td>88.0</td>\n",
       "      <td>120.0</td>\n",
       "      <td>62.0</td>\n",
       "      <td>72.0</td>\n",
       "    </tr>\n",
       "    <tr>\n",
       "      <th>민철</th>\n",
       "      <td>85.0</td>\n",
       "      <td>70.0</td>\n",
       "      <td>83.0</td>\n",
       "      <td>79.0</td>\n",
       "    </tr>\n",
       "    <tr>\n",
       "      <th>수현</th>\n",
       "      <td>63.0</td>\n",
       "      <td>60.0</td>\n",
       "      <td>31.0</td>\n",
       "      <td>71.0</td>\n",
       "    </tr>\n",
       "    <tr>\n",
       "      <th>호영</th>\n",
       "      <td>75.0</td>\n",
       "      <td>50.0</td>\n",
       "      <td>90.0</td>\n",
       "      <td>72.0</td>\n",
       "    </tr>\n",
       "    <tr>\n",
       "      <th>영호</th>\n",
       "      <td>80.0</td>\n",
       "      <td>88.0</td>\n",
       "      <td>91.0</td>\n",
       "      <td>72.0</td>\n",
       "    </tr>\n",
       "    <tr>\n",
       "      <th>용식</th>\n",
       "      <td>82.0</td>\n",
       "      <td>88.0</td>\n",
       "      <td>85.5</td>\n",
       "      <td>90.0</td>\n",
       "    </tr>\n",
       "    <tr>\n",
       "      <th>나영</th>\n",
       "      <td>90.0</td>\n",
       "      <td>92.0</td>\n",
       "      <td>81.0</td>\n",
       "      <td>72.0</td>\n",
       "    </tr>\n",
       "    <tr>\n",
       "      <th>석영</th>\n",
       "      <td>91.0</td>\n",
       "      <td>90.0</td>\n",
       "      <td>89.0</td>\n",
       "      <td>80.0</td>\n",
       "    </tr>\n",
       "  </tbody>\n",
       "</table>\n",
       "</div>"
      ],
      "text/plain": [
       "      국어     영어    수학    과학\n",
       "이름                         \n",
       "철수  98.0   77.0  88.0  64.0\n",
       "영희  88.0  120.0  62.0  72.0\n",
       "민철  85.0   70.0  83.0  79.0\n",
       "수현  63.0   60.0  31.0  71.0\n",
       "호영  75.0   50.0  90.0  72.0\n",
       "영호  80.0   88.0  91.0  72.0\n",
       "용식  82.0   88.0  85.5  90.0\n",
       "나영  90.0   92.0  81.0  72.0\n",
       "석영  91.0   90.0  89.0  80.0"
      ]
     },
     "execution_count": 42,
     "metadata": {},
     "output_type": "execute_result"
    }
   ],
   "source": [
    "df2"
   ]
  },
  {
   "cell_type": "code",
   "execution_count": 47,
   "metadata": {},
   "outputs": [
    {
     "data": {
      "text/plain": [
       "<AxesSubplot: >"
      ]
     },
     "execution_count": 47,
     "metadata": {},
     "output_type": "execute_result"
    },
    {
     "data": {
      "image/png": "[encoded data removed]",
      "text/plain": [
       "<Figure size 640x480 with 1 Axes>"
      ]
     },
     "metadata": {},
     "output_type": "display_data"
    }
   ],
   "source": [
    "df1.boxplot()"
   ]
  },
  {
   "cell_type": "markdown",
   "metadata": {},
   "source": [
    "- 네모 상자는 정상범위, 변수에 동그라미가 있을 경우 이상치임을 의미함"
   ]
  },
  {
   "cell_type": "markdown",
   "metadata": {},
   "source": [
    "1. 상자그림을 통해 검출된 국어, 수학 과학 점수\n",
    "2. 분석가의 주관에 따른 영어 점수 (100점 초과)\n",
    "   - 점수가 아무리 낮아도 정상 범위(0~100)라면 답안지를 밀려썼거나 시험 중 실수가 있을 수도 있음\n",
    "   - 정상 범위를 벗어난 경우면 채점에 오류가 있을수 있음"
   ]
  },
  {
   "cell_type": "code",
   "execution_count": 48,
   "metadata": {},
   "outputs": [
    {
     "data": {
      "text/plain": [
       "국어    0\n",
       "영어    1\n",
       "수학    0\n",
       "과학    0\n",
       "dtype: int64"
      ]
     },
     "execution_count": 48,
     "metadata": {},
     "output_type": "execute_result"
    }
   ],
   "source": [
    "df1.loc[df1['영어'] > 100, '영어'] = np.nan\n",
    "df1.isna().sum()"
   ]
  },
  {
   "cell_type": "code",
   "execution_count": 50,
   "metadata": {},
   "outputs": [],
   "source": [
    "imr = SimpleImputer(missing_values = np.nan, strategy = 'mean')\n",
    "df1_2 = pd.DataFrame(imr.fit_transform(df1), columns = df1.columns, index = df1.index)"
   ]
  },
  {
   "cell_type": "markdown",
   "metadata": {},
   "source": [
    "- 극단치 경계값 계산\n",
    "  - 4분위수 : 데이터 표본을 4개의 동일한 부분으로 나누는 값\n",
    "    - `25%`, `50%`, `75%` 지점을 **계산한 값** (데이터에 실존하는 값이 아닐 수도 있음)"
   ]
  },
  {
   "cell_type": "code",
   "execution_count": 56,
   "metadata": {},
   "outputs": [
    {
     "data": {
      "text/html": [
       "<div>\n",
       "<style scoped>\n",
       "    .dataframe tbody tr th:only-of-type {\n",
       "        vertical-align: middle;\n",
       "    }\n",
       "\n",
       "    .dataframe tbody tr th {\n",
       "        vertical-align: top;\n",
       "    }\n",
       "\n",
       "    .dataframe thead th {\n",
       "        text-align: right;\n",
       "    }\n",
       "</style>\n",
       "<table border=\"1\" class=\"dataframe\">\n",
       "  <thead>\n",
       "    <tr style=\"text-align: right;\">\n",
       "      <th></th>\n",
       "      <th>국어</th>\n",
       "      <th>영어</th>\n",
       "      <th>수학</th>\n",
       "      <th>과학</th>\n",
       "    </tr>\n",
       "  </thead>\n",
       "  <tbody>\n",
       "    <tr>\n",
       "      <th>count</th>\n",
       "      <td>9.00000</td>\n",
       "      <td>9.000000</td>\n",
       "      <td>9.000000</td>\n",
       "      <td>9.000000</td>\n",
       "    </tr>\n",
       "    <tr>\n",
       "      <th>mean</th>\n",
       "      <td>83.37500</td>\n",
       "      <td>76.875000</td>\n",
       "      <td>76.875000</td>\n",
       "      <td>75.428571</td>\n",
       "    </tr>\n",
       "    <tr>\n",
       "      <th>std</th>\n",
       "      <td>10.22176</td>\n",
       "      <td>14.589701</td>\n",
       "      <td>19.438605</td>\n",
       "      <td>7.243223</td>\n",
       "    </tr>\n",
       "    <tr>\n",
       "      <th>min</th>\n",
       "      <td>63.00000</td>\n",
       "      <td>50.000000</td>\n",
       "      <td>31.000000</td>\n",
       "      <td>64.000000</td>\n",
       "    </tr>\n",
       "    <tr>\n",
       "      <th>25%</th>\n",
       "      <td>80.00000</td>\n",
       "      <td>70.000000</td>\n",
       "      <td>76.875000</td>\n",
       "      <td>72.000000</td>\n",
       "    </tr>\n",
       "    <tr>\n",
       "      <th>50%</th>\n",
       "      <td>83.37500</td>\n",
       "      <td>77.000000</td>\n",
       "      <td>83.000000</td>\n",
       "      <td>75.428571</td>\n",
       "    </tr>\n",
       "    <tr>\n",
       "      <th>75%</th>\n",
       "      <td>90.00000</td>\n",
       "      <td>88.000000</td>\n",
       "      <td>89.000000</td>\n",
       "      <td>79.000000</td>\n",
       "    </tr>\n",
       "    <tr>\n",
       "      <th>max</th>\n",
       "      <td>98.00000</td>\n",
       "      <td>92.000000</td>\n",
       "      <td>91.000000</td>\n",
       "      <td>90.000000</td>\n",
       "    </tr>\n",
       "  </tbody>\n",
       "</table>\n",
       "</div>"
      ],
      "text/plain": [
       "             국어         영어         수학         과학\n",
       "count   9.00000   9.000000   9.000000   9.000000\n",
       "mean   83.37500  76.875000  76.875000  75.428571\n",
       "std    10.22176  14.589701  19.438605   7.243223\n",
       "min    63.00000  50.000000  31.000000  64.000000\n",
       "25%    80.00000  70.000000  76.875000  72.000000\n",
       "50%    83.37500  77.000000  83.000000  75.428571\n",
       "75%    90.00000  88.000000  89.000000  79.000000\n",
       "max    98.00000  92.000000  91.000000  90.000000"
      ]
     },
     "execution_count": 56,
     "metadata": {},
     "output_type": "execute_result"
    }
   ],
   "source": [
    "df1_2.describe()"
   ]
  },
  {
   "cell_type": "code",
   "execution_count": 57,
   "metadata": {},
   "outputs": [
    {
     "name": "stdout",
     "output_type": "stream",
     "text": [
      "10.0\n"
     ]
    }
   ],
   "source": [
    "Q1 = df1_2['국어'].quantile(.25)\n",
    "Q3 = df1_2['국어'].quantile(.75)\n",
    "iqr = Q3 - Q1\n",
    "print(iqr)"
   ]
  },
  {
   "cell_type": "code",
   "execution_count": 59,
   "metadata": {},
   "outputs": [
    {
     "data": {
      "text/plain": [
       "(105.0, 65.0)"
      ]
     },
     "execution_count": 59,
     "metadata": {},
     "output_type": "execute_result"
    }
   ],
   "source": [
    "outline_max = Q3 + 1.5 * iqr\n",
    "outline_min = Q1 - 1.5 * iqr\n",
    "outline_max, outline_min"
   ]
  },
  {
   "cell_type": "code",
   "execution_count": 61,
   "metadata": {},
   "outputs": [],
   "source": [
    "df1_2.loc[df1_2['국어'] <= outline_min, '국어'] = np.nan"
   ]
  },
  {
   "cell_type": "code",
   "execution_count": 66,
   "metadata": {},
   "outputs": [],
   "source": [
    "df1_2.query(\"국어 > @outline_max\")['국어'] = np.nan"
   ]
  },
  {
   "cell_type": "code",
   "execution_count": 67,
   "metadata": {},
   "outputs": [
    {
     "data": {
      "text/html": [
       "<div>\n",
       "<style scoped>\n",
       "    .dataframe tbody tr th:only-of-type {\n",
       "        vertical-align: middle;\n",
       "    }\n",
       "\n",
       "    .dataframe tbody tr th {\n",
       "        vertical-align: top;\n",
       "    }\n",
       "\n",
       "    .dataframe thead th {\n",
       "        text-align: right;\n",
       "    }\n",
       "</style>\n",
       "<table border=\"1\" class=\"dataframe\">\n",
       "  <thead>\n",
       "    <tr style=\"text-align: right;\">\n",
       "      <th></th>\n",
       "      <th>국어</th>\n",
       "      <th>영어</th>\n",
       "      <th>수학</th>\n",
       "      <th>과학</th>\n",
       "    </tr>\n",
       "    <tr>\n",
       "      <th>이름</th>\n",
       "      <th></th>\n",
       "      <th></th>\n",
       "      <th></th>\n",
       "      <th></th>\n",
       "    </tr>\n",
       "  </thead>\n",
       "  <tbody>\n",
       "    <tr>\n",
       "      <th>철수</th>\n",
       "      <td>98.000</td>\n",
       "      <td>77.000</td>\n",
       "      <td>88.000</td>\n",
       "      <td>64.000000</td>\n",
       "    </tr>\n",
       "    <tr>\n",
       "      <th>영희</th>\n",
       "      <td>88.000</td>\n",
       "      <td>76.875</td>\n",
       "      <td>62.000</td>\n",
       "      <td>72.000000</td>\n",
       "    </tr>\n",
       "    <tr>\n",
       "      <th>민철</th>\n",
       "      <td>83.375</td>\n",
       "      <td>70.000</td>\n",
       "      <td>83.000</td>\n",
       "      <td>79.000000</td>\n",
       "    </tr>\n",
       "    <tr>\n",
       "      <th>수현</th>\n",
       "      <td>NaN</td>\n",
       "      <td>60.000</td>\n",
       "      <td>31.000</td>\n",
       "      <td>71.000000</td>\n",
       "    </tr>\n",
       "    <tr>\n",
       "      <th>호영</th>\n",
       "      <td>75.000</td>\n",
       "      <td>50.000</td>\n",
       "      <td>90.000</td>\n",
       "      <td>75.428571</td>\n",
       "    </tr>\n",
       "    <tr>\n",
       "      <th>영호</th>\n",
       "      <td>80.000</td>\n",
       "      <td>88.000</td>\n",
       "      <td>91.000</td>\n",
       "      <td>72.000000</td>\n",
       "    </tr>\n",
       "    <tr>\n",
       "      <th>용식</th>\n",
       "      <td>82.000</td>\n",
       "      <td>88.000</td>\n",
       "      <td>76.875</td>\n",
       "      <td>90.000000</td>\n",
       "    </tr>\n",
       "    <tr>\n",
       "      <th>나영</th>\n",
       "      <td>90.000</td>\n",
       "      <td>92.000</td>\n",
       "      <td>81.000</td>\n",
       "      <td>75.428571</td>\n",
       "    </tr>\n",
       "    <tr>\n",
       "      <th>석영</th>\n",
       "      <td>91.000</td>\n",
       "      <td>90.000</td>\n",
       "      <td>89.000</td>\n",
       "      <td>80.000000</td>\n",
       "    </tr>\n",
       "  </tbody>\n",
       "</table>\n",
       "</div>"
      ],
      "text/plain": [
       "        국어      영어      수학         과학\n",
       "이름                                   \n",
       "철수  98.000  77.000  88.000  64.000000\n",
       "영희  88.000  76.875  62.000  72.000000\n",
       "민철  83.375  70.000  83.000  79.000000\n",
       "수현     NaN  60.000  31.000  71.000000\n",
       "호영  75.000  50.000  90.000  75.428571\n",
       "영호  80.000  88.000  91.000  72.000000\n",
       "용식  82.000  88.000  76.875  90.000000\n",
       "나영  90.000  92.000  81.000  75.428571\n",
       "석영  91.000  90.000  89.000  80.000000"
      ]
     },
     "execution_count": 67,
     "metadata": {},
     "output_type": "execute_result"
    }
   ],
   "source": [
    "df1_2"
   ]
  },
  {
   "cell_type": "code",
   "execution_count": 75,
   "metadata": {},
   "outputs": [],
   "source": [
    "for i in df1_2.columns:\n",
    "    Q1 = df1_2[i].quantile(.25)\n",
    "    Q3 = df1_2[i].quantile(.75)\n",
    "    iqr = Q3 - Q1\n",
    "    outline_max = Q3 + 1.5 * iqr\n",
    "    outline_min = Q1 - 1.5 * iqr\n",
    "    df1_2.loc[df1_2[i] <= outline_min, i] = np.nan\n",
    "    df1_2.loc[df1_2[i] >= outline_max, i] = np.nan"
   ]
  },
  {
   "cell_type": "code",
   "execution_count": 76,
   "metadata": {},
   "outputs": [
    {
     "data": {
      "text/html": [
       "<div>\n",
       "<style scoped>\n",
       "    .dataframe tbody tr th:only-of-type {\n",
       "        vertical-align: middle;\n",
       "    }\n",
       "\n",
       "    .dataframe tbody tr th {\n",
       "        vertical-align: top;\n",
       "    }\n",
       "\n",
       "    .dataframe thead th {\n",
       "        text-align: right;\n",
       "    }\n",
       "</style>\n",
       "<table border=\"1\" class=\"dataframe\">\n",
       "  <thead>\n",
       "    <tr style=\"text-align: right;\">\n",
       "      <th></th>\n",
       "      <th>국어</th>\n",
       "      <th>영어</th>\n",
       "      <th>수학</th>\n",
       "      <th>과학</th>\n",
       "    </tr>\n",
       "    <tr>\n",
       "      <th>이름</th>\n",
       "      <th></th>\n",
       "      <th></th>\n",
       "      <th></th>\n",
       "      <th></th>\n",
       "    </tr>\n",
       "  </thead>\n",
       "  <tbody>\n",
       "    <tr>\n",
       "      <th>철수</th>\n",
       "      <td>98.000</td>\n",
       "      <td>77.000</td>\n",
       "      <td>88.000</td>\n",
       "      <td>64.000000</td>\n",
       "    </tr>\n",
       "    <tr>\n",
       "      <th>영희</th>\n",
       "      <td>88.000</td>\n",
       "      <td>76.875</td>\n",
       "      <td>62.000</td>\n",
       "      <td>72.000000</td>\n",
       "    </tr>\n",
       "    <tr>\n",
       "      <th>민철</th>\n",
       "      <td>83.375</td>\n",
       "      <td>70.000</td>\n",
       "      <td>83.000</td>\n",
       "      <td>79.000000</td>\n",
       "    </tr>\n",
       "    <tr>\n",
       "      <th>수현</th>\n",
       "      <td>NaN</td>\n",
       "      <td>60.000</td>\n",
       "      <td>NaN</td>\n",
       "      <td>71.000000</td>\n",
       "    </tr>\n",
       "    <tr>\n",
       "      <th>호영</th>\n",
       "      <td>75.000</td>\n",
       "      <td>50.000</td>\n",
       "      <td>90.000</td>\n",
       "      <td>75.428571</td>\n",
       "    </tr>\n",
       "    <tr>\n",
       "      <th>영호</th>\n",
       "      <td>80.000</td>\n",
       "      <td>88.000</td>\n",
       "      <td>91.000</td>\n",
       "      <td>72.000000</td>\n",
       "    </tr>\n",
       "    <tr>\n",
       "      <th>용식</th>\n",
       "      <td>82.000</td>\n",
       "      <td>88.000</td>\n",
       "      <td>76.875</td>\n",
       "      <td>NaN</td>\n",
       "    </tr>\n",
       "    <tr>\n",
       "      <th>나영</th>\n",
       "      <td>90.000</td>\n",
       "      <td>92.000</td>\n",
       "      <td>81.000</td>\n",
       "      <td>75.428571</td>\n",
       "    </tr>\n",
       "    <tr>\n",
       "      <th>석영</th>\n",
       "      <td>91.000</td>\n",
       "      <td>90.000</td>\n",
       "      <td>89.000</td>\n",
       "      <td>80.000000</td>\n",
       "    </tr>\n",
       "  </tbody>\n",
       "</table>\n",
       "</div>"
      ],
      "text/plain": [
       "        국어      영어      수학         과학\n",
       "이름                                   \n",
       "철수  98.000  77.000  88.000  64.000000\n",
       "영희  88.000  76.875  62.000  72.000000\n",
       "민철  83.375  70.000  83.000  79.000000\n",
       "수현     NaN  60.000     NaN  71.000000\n",
       "호영  75.000  50.000  90.000  75.428571\n",
       "영호  80.000  88.000  91.000  72.000000\n",
       "용식  82.000  88.000  76.875        NaN\n",
       "나영  90.000  92.000  81.000  75.428571\n",
       "석영  91.000  90.000  89.000  80.000000"
      ]
     },
     "execution_count": 76,
     "metadata": {},
     "output_type": "execute_result"
    }
   ],
   "source": [
    "df1_2"
   ]
  },
  {
   "cell_type": "code",
   "execution_count": 77,
   "metadata": {},
   "outputs": [
    {
     "data": {
      "text/html": [
       "<div>\n",
       "<style scoped>\n",
       "    .dataframe tbody tr th:only-of-type {\n",
       "        vertical-align: middle;\n",
       "    }\n",
       "\n",
       "    .dataframe tbody tr th {\n",
       "        vertical-align: top;\n",
       "    }\n",
       "\n",
       "    .dataframe thead th {\n",
       "        text-align: right;\n",
       "    }\n",
       "</style>\n",
       "<table border=\"1\" class=\"dataframe\">\n",
       "  <thead>\n",
       "    <tr style=\"text-align: right;\">\n",
       "      <th></th>\n",
       "      <th>국어</th>\n",
       "      <th>영어</th>\n",
       "      <th>수학</th>\n",
       "      <th>과학</th>\n",
       "    </tr>\n",
       "    <tr>\n",
       "      <th>이름</th>\n",
       "      <th></th>\n",
       "      <th></th>\n",
       "      <th></th>\n",
       "      <th></th>\n",
       "    </tr>\n",
       "  </thead>\n",
       "  <tbody>\n",
       "    <tr>\n",
       "      <th>철수</th>\n",
       "      <td>98.000000</td>\n",
       "      <td>77.000</td>\n",
       "      <td>88.000000</td>\n",
       "      <td>64.000000</td>\n",
       "    </tr>\n",
       "    <tr>\n",
       "      <th>영희</th>\n",
       "      <td>88.000000</td>\n",
       "      <td>76.875</td>\n",
       "      <td>62.000000</td>\n",
       "      <td>72.000000</td>\n",
       "    </tr>\n",
       "    <tr>\n",
       "      <th>민철</th>\n",
       "      <td>83.375000</td>\n",
       "      <td>70.000</td>\n",
       "      <td>83.000000</td>\n",
       "      <td>79.000000</td>\n",
       "    </tr>\n",
       "    <tr>\n",
       "      <th>수현</th>\n",
       "      <td>85.921875</td>\n",
       "      <td>60.000</td>\n",
       "      <td>82.609375</td>\n",
       "      <td>71.000000</td>\n",
       "    </tr>\n",
       "    <tr>\n",
       "      <th>호영</th>\n",
       "      <td>75.000000</td>\n",
       "      <td>50.000</td>\n",
       "      <td>90.000000</td>\n",
       "      <td>75.428571</td>\n",
       "    </tr>\n",
       "    <tr>\n",
       "      <th>영호</th>\n",
       "      <td>80.000000</td>\n",
       "      <td>88.000</td>\n",
       "      <td>91.000000</td>\n",
       "      <td>72.000000</td>\n",
       "    </tr>\n",
       "    <tr>\n",
       "      <th>용식</th>\n",
       "      <td>82.000000</td>\n",
       "      <td>88.000</td>\n",
       "      <td>76.875000</td>\n",
       "      <td>73.607143</td>\n",
       "    </tr>\n",
       "    <tr>\n",
       "      <th>나영</th>\n",
       "      <td>90.000000</td>\n",
       "      <td>92.000</td>\n",
       "      <td>81.000000</td>\n",
       "      <td>75.428571</td>\n",
       "    </tr>\n",
       "    <tr>\n",
       "      <th>석영</th>\n",
       "      <td>91.000000</td>\n",
       "      <td>90.000</td>\n",
       "      <td>89.000000</td>\n",
       "      <td>80.000000</td>\n",
       "    </tr>\n",
       "  </tbody>\n",
       "</table>\n",
       "</div>"
      ],
      "text/plain": [
       "           국어      영어         수학         과학\n",
       "이름                                         \n",
       "철수  98.000000  77.000  88.000000  64.000000\n",
       "영희  88.000000  76.875  62.000000  72.000000\n",
       "민철  83.375000  70.000  83.000000  79.000000\n",
       "수현  85.921875  60.000  82.609375  71.000000\n",
       "호영  75.000000  50.000  90.000000  75.428571\n",
       "영호  80.000000  88.000  91.000000  72.000000\n",
       "용식  82.000000  88.000  76.875000  73.607143\n",
       "나영  90.000000  92.000  81.000000  75.428571\n",
       "석영  91.000000  90.000  89.000000  80.000000"
      ]
     },
     "execution_count": 77,
     "metadata": {},
     "output_type": "execute_result"
    }
   ],
   "source": [
    "imr = SimpleImputer(missing_values = np.nan, strategy = 'mean')\n",
    "final_df = pd.DataFrame(imr.fit_transform(df1_2), columns = df1.columns, index = df1.index)\n",
    "final_df"
   ]
  },
  {
   "cell_type": "code",
   "execution_count": null,
   "metadata": {},
   "outputs": [],
   "source": []
  },
  {
   "cell_type": "code",
   "execution_count": null,
   "metadata": {},
   "outputs": [],
   "source": []
  },
  {
   "cell_type": "code",
   "execution_count": null,
   "metadata": {},
   "outputs": [],
   "source": []
  },
  {
   "cell_type": "code",
   "execution_count": null,
   "metadata": {},
   "outputs": [],
   "source": []
  },
  {
   "cell_type": "code",
   "execution_count": null,
   "metadata": {},
   "outputs": [],
   "source": []
  },
  {
   "cell_type": "code",
   "execution_count": null,
   "metadata": {},
   "outputs": [],
   "source": []
  },
  {
   "cell_type": "code",
   "execution_count": null,
   "metadata": {},
   "outputs": [],
   "source": []
  },
  {
   "cell_type": "code",
   "execution_count": null,
   "metadata": {},
   "outputs": [],
   "source": []
  },
  {
   "cell_type": "code",
   "execution_count": null,
   "metadata": {},
   "outputs": [],
   "source": []
  },
  {
   "cell_type": "code",
   "execution_count": null,
   "metadata": {},
   "outputs": [],
   "source": []
  },
  {
   "cell_type": "code",
   "execution_count": null,
   "metadata": {},
   "outputs": [],
   "source": []
  },
  {
   "cell_type": "code",
   "execution_count": null,
   "metadata": {},
   "outputs": [],
   "source": []
  },
  {
   "cell_type": "code",
   "execution_count": null,
   "metadata": {},
   "outputs": [],
   "source": []
  },
  {
   "cell_type": "code",
   "execution_count": null,
   "metadata": {},
   "outputs": [],
   "source": []
  },
  {
   "cell_type": "code",
   "execution_count": null,
   "metadata": {},
   "outputs": [],
   "source": []
  },
  {
   "cell_type": "code",
   "execution_count": null,
   "metadata": {},
   "outputs": [],
   "source": []
  },
  {
   "cell_type": "code",
   "execution_count": null,
   "metadata": {},
   "outputs": [],
   "source": []
  },
  {
   "cell_type": "code",
   "execution_count": null,
   "metadata": {},
   "outputs": [],
   "source": []
  },
  {
   "cell_type": "code",
   "execution_count": null,
   "metadata": {},
   "outputs": [],
   "source": []
  },
  {
   "cell_type": "code",
   "execution_count": null,
   "metadata": {},
   "outputs": [],
   "source": []
  },
  {
   "cell_type": "code",
   "execution_count": null,
   "metadata": {},
   "outputs": [],
   "source": []
  },
  {
   "cell_type": "code",
   "execution_count": null,
   "metadata": {},
   "outputs": [],
   "source": []
  },
  {
   "cell_type": "code",
   "execution_count": null,
   "metadata": {},
   "outputs": [],
   "source": []
  },
  {
   "cell_type": "code",
   "execution_count": null,
   "metadata": {},
   "outputs": [],
   "source": []
  },
  {
   "cell_type": "code",
   "execution_count": null,
   "metadata": {},
   "outputs": [],
   "source": []
  },
  {
   "cell_type": "code",
   "execution_count": null,
   "metadata": {},
   "outputs": [],
   "source": []
  },
  {
   "cell_type": "code",
   "execution_count": null,
   "metadata": {},
   "outputs": [],
   "source": []
  },
  {
   "cell_type": "code",
   "execution_count": null,
   "metadata": {},
   "outputs": [],
   "source": []
  },
  {
   "cell_type": "code",
   "execution_count": null,
   "metadata": {},
   "outputs": [],
   "source": []
  },
  {
   "cell_type": "code",
   "execution_count": null,
   "metadata": {},
   "outputs": [],
   "source": []
  },
  {
   "cell_type": "code",
   "execution_count": null,
   "metadata": {},
   "outputs": [],
   "source": []
  },
  {
   "cell_type": "code",
   "execution_count": null,
   "metadata": {},
   "outputs": [],
   "source": []
  },
  {
   "cell_type": "code",
   "execution_count": null,
   "metadata": {},
   "outputs": [],
   "source": []
  }
 ],
 "metadata": {
  "kernelspec": {
   "display_name": "base",
   "language": "python",
   "name": "python3"
  },
  "language_info": {
   "codemirror_mode": {
    "name": "ipython",
    "version": 3
   },
   "file_extension": ".py",
   "mimetype": "text/x-python",
   "name": "python",
   "nbconvert_exporter": "python",
   "pygments_lexer": "ipython3",
   "version": "3.11.5"
  }
 },
 "nbformat": 4,
 "nbformat_minor": 2
}
