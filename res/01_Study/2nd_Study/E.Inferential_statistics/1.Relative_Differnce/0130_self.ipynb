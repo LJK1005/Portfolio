{
 "cells": [
  {
   "cell_type": "markdown",
   "metadata": {},
   "source": [
    "- 가설검정\n",
    "  - 표본의 정보로 가설의 합당성 여부를 판별, 변수간의 평균에 차이가 있는지를 확인\n",
    "    - 두 그룹간의 평균차이는 가설검정(T-Test), 세 그룹 이상간의 평균차이는 분산분석(F-Test)를 수행\n",
    "    - 범주형 변수간의 관련성과 독립성 검정에는 카이제곱 검정을 사용"
   ]
  },
  {
   "cell_type": "markdown",
   "metadata": {},
   "source": [
    "- 추정 : 표본으로부터 미지의 모수를 추측\n",
    "  - 점추정 : 모수가 특정 값일 것이다 라고 추정, 표본의 평균, 준위수, 최빈값 등을 사용함\n",
    "    - 사실상 불가능한 방법 (대한민국 30대 남성의 평균 월급은 정확히 얼마라고 추정)\n",
    "  - 구간추정 (= 가설검정) : 확률로 표현된 믿음의 정도 하에서 모수가 특정 구간에 있을 것이라고 선언\n",
    "    - 신뢰구간에 대하여 제시 (대한민국 30대 남성의 평균 월급은 200~240만원일 것이다)\n",
    "    - 추정량의 분포에 대한 전제가 주어져야 하며, 그 가능성의 크기(신뢰수준)가 주어져야 함\n",
    "    - 그 방법이 T검정과 F검정"
   ]
  },
  {
   "cell_type": "markdown",
   "metadata": {},
   "source": [
    "- 가설검정의 절차 : 가설 설정 -> 유의수준 설정 -> 검정통계량 산출 -> 기각/채택 판단"
   ]
  },
  {
   "cell_type": "markdown",
   "metadata": {},
   "source": [
    "- 설명변수(독립변수, feature) : x\n",
    "- 반응변수(종속변수) : y\n",
    "\n",
    "- 귀무가설(영가설) : 보통 맞다고 가정하는 가설(정적이며 부정적임)\n",
    "  - 차이가 없다, 연관성이 없다, 효력이 없다 등\n",
    "  - 설명변수가 반응변수에 영향을 주지 않는다\n",
    "\n",
    "- 대립가설 : 증명하고자 하는 가설, 귀무가설과 반대됨\n",
    "  - 차이가 있다, 연관성이 있다, 효과가 있다 등\n",
    "  - 설명변수가 반응변수가 영향을 준다\n",
    "\n",
    "- 머신러닝을 하더라도 독립변수, 종속변수의 관계나 귀무가설, 대립가설을 제시하는 것이 중요함"
   ]
  },
  {
   "cell_type": "markdown",
   "metadata": {},
   "source": [
    "- 검정 통계량\n",
    "  - 데이터 분석에서 중요한 것은 근거\n",
    "    - 데이터 분석의 결과의 근거를 제시하는 것이 가장 중요함\n",
    "    - 보고서와 발표자료에서 근거로서 인용문을 활용해야 함\n",
    "  - 검정 통계량은 관찰된 표본에서 구하는 통계량으로 가설 검정의 진위를 판단하는 기준이 됨\n",
    "    - ex) 백신을 접종한 집단과 그렇지 않은 집단에 대한 감기 발병률"
   ]
  },
  {
   "cell_type": "markdown",
   "metadata": {},
   "source": [
    "- 유의수준(p-value) : 귀무가설이 어떤 정해진 수치를 벗어날 경우 오류라고 판단하는 기준\n",
    "  - 보통 5%(0.05), 이보다 낮은 값이 나타나면 귀무가설을 기각하고 대립가설을 채택 (의료계 등 엄격하게는 1%로 볼 수 있음)\n",
    "  - 데이터가 귀무가설과 양립하는 정도를 수치로 표현\n",
    "  - p-value는 귀무가설이 맞다는 전제 하에, 표본에서 실제로 관찰된 통계치에 부합되는 값이 관찰될 확률 (0 ~ 1)\n",
    "    - ex) 백신 접종시 발병률 : 귀무가설 = 백신의 효과가 없다 -> 관찰된 발병률이 5% 보다 낮으면 귀무가설을 기각하고 백신의 효과가 있다고 판정"
   ]
  },
  {
   "cell_type": "markdown",
   "metadata": {},
   "source": [
    "- 신뢰수준 : 유의수준의 반대 (1 - p)"
   ]
  },
  {
   "cell_type": "markdown",
   "metadata": {},
   "source": [
    "- 데이터 정규성 확인\n",
    "  - 가설검정을 수행하기 위해서는 정규성, 등분산성, 독립성 확인이 필요\n",
    "  - 머신러닝을 포함한 추론통계에서는 반드시 선행되어야 하는 과정\n",
    "    - 샤피로 윌크 검정은 매우 엄격한 정규성 검정으로 실제로 잘 쓰이지는 않음\n",
    "      - 실제 데이터가 샤피로 윌크 검정을 만족하는 경우는 거의 없음 (이상치가 있어서는 안되며 데이터의 좌우대칭이 완벽해야 함)\n",
    "      - 첨도와 왜도를 기준으로 유사 정규성을 확인(Normal Test)하고 머신러닝 등 추론통계를 진행하기도 함\n",
    "        - 첨도 절댓값 7 미만, 왜도 절댓값 2 미만이 그 기준\n",
    "          - 이는 West 등의 1995년 연구결과를 기반으로 한 것이므로 해당 내용이 포함되는 보고서에는 출처 표기가 필요함 (README의 첫번째 출처)\n",
    "          - 엄밀히는 정규성 검정을 해야 하는것이 맞음\n",
    "    - 정규성 검정에서의 귀무가설은 정규분포가 맞다이다\n",
    "      - 따라서 p-value가 0.05 이상이어야 정규분포를 충족한다고 판단함\n",
    "    - 정규성 검정은 표본평균이 평균으로서의 자격이 있는지를 확인하고자 위함임\n",
    "    - 정규성을 만족하지 않을 경우 로그 변환이나 제곱근 변환을 적용하여 정규분포에 가깝게 변환할 필요가 있음\n",
    "      - StandardScaler가 로그 변환의 일종"
   ]
  },
  {
   "cell_type": "markdown",
   "metadata": {},
   "source": [
    "- 데이터 등분산성 확인\n",
    "  - 각각의 그룹 또는 조건에서 오차의 분산이 동일하다는 가정\n",
    "    - 등분산성을 충족하면 분석 결과의 신뢰성이 있다고 판단\n",
    "  - 등분산성은 잔차의 분포로 확인\n",
    "    - 잔차 : 추정값과 실데이터의 각 오차\n",
    "  - 등분산성 검정을 진행하고 통계 기법을 선정\n",
    "    - 등분산성을 만족해야 분산분석이 가능함\n",
    "  - 등분산성 검정의 종류\n",
    "    - 각 검정의 귀무가설은 집단 간의 분산의 차이가 없다(귀무가설이 바람직)\n",
    "    - 데이터가 정규성을 만족할 경우 : Bartlett 검정\n",
    "    - 데이터가 정규성을 만족하지 않을 경우 : Levene 검정\n",
    "      - 회귀분석 등에서 등분산성만을 가정으로 하는 경우가 있는데 이는 정규성을 기본으로 만족한다고 가정하기 때문\n",
    "      - 레빈 검정은 비모수적 검정 방법임"
   ]
  },
  {
   "cell_type": "markdown",
   "metadata": {},
   "source": [
    "- 데이터 독립성 확인\n",
    "  - 시계열 데이터가 아닌 경우 관찰치 간에 상관관계가 없는지 확인\n",
    "  - 일반적으로 데이터 수집시에 독립성이 확보됨"
   ]
  },
  {
   "cell_type": "markdown",
   "metadata": {},
   "source": [
    "- T검정 (유의성 검정)\n",
    "  - 모집단의 분산/표준편차를 모를때 표본의 분산/표준편차를 이용하여 모집단 간에 평균에 통계적으로 유의미한 차이가 있는지 확인하는 기법\n",
    "  - 귀무가설은 집단의 평균이 특정값과 같다 / 크다 / 작다를 모두 설정 가능함\n",
    "  - 검정 통계량 값에 따라 평균의 차이가 나는 가능성에 대한 크기를 계산함\n",
    "  - ex) 백신 접종/미접종간 감염률에 차이가 있는지 확인\n",
    "  - 표본간의 관계에 따라 T검정의 종류가 있음\n",
    "    - 단일 표본 검정 : 1개의 표본에 대하여 특정 값과 비교하여 진행하는 검정\n",
    "    - 독립 표본 검정 : 2개의 표본간의 비교\n",
    "    - 대응 표본 검정 : 1개의 표본의 2가지 관측치를 이용하여 비교 (Before / After 등)\n",
    "    - T검정은 반드시 2개 데이터간의 비교만 가능하며 그 이상 개수의 집단에 대해서는 분산분석을 사용하는 것이 일반적"
   ]
  },
  {
   "cell_type": "markdown",
   "metadata": {},
   "source": [
    "- F검정 (분산분석)\n",
    "  - 3개 이상의 집단간 평균의 차이를 검증\n",
    "  - 2개 집단에서 분산분석을 사용하면 T검정과 결과가 동일\n",
    "  - T검정의 경우에는 특정 값과 다르다는 물론 크거나 작은 가설에 대한 검정도 가능하지만 F검정의 경우에는 집단 갯수 특성에 의하여 같다와 다르다의 검정만이 가능함 (F검정의 귀무가설은 모든 집단의 평균이 같다 1가지 뿐)\n",
    "  - 독립변수/종속변수의 갯수에 따라서 검정의 방법이 다름\n",
    "    - 일원분산분석 : 하나의 독립변수에 대한 종속변수의 평균 차이를 분석\n",
    "    - 이원분산분석 : 2개의 독립변수에 대한 종속변수의 평균 차이를 분석\n",
    "      - 2가지 요인이 종속변수에 미치는 영향을 동시에 조사함\n",
    "  - 3개 이상 집단에 대하여 내부 2개 집단간의 평균이 다른지는 사후 검정으로 확인해야 함"
   ]
  },
  {
   "cell_type": "markdown",
   "metadata": {},
   "source": [
    "- 가설검정의 오류\n",
    "  - 1종 오류 : 귀무가설이 사실임에도 귀무가설을 기각\n",
    "  - 2종 오류 : 귀무가설이 거짓임에도 귀무가설을 채택"
   ]
  },
  {
   "cell_type": "code",
   "execution_count": 47,
   "metadata": {},
   "outputs": [],
   "source": [
    "import warnings\n",
    "warnings.filterwarnings(action='ignore')\n",
    "\n",
    "import sys\n",
    "import seaborn as sb\n",
    "from math import sqrt\n",
    "import matplotlib.pyplot as plt\n",
    "import pandas as pd\n",
    "from scipy.stats import *\n",
    "import numpy as np"
   ]
  },
  {
   "cell_type": "markdown",
   "metadata": {},
   "source": [
    "- 신뢰구간\n",
    "  - 주어진 신뢰수준에 따라 모수가 그 안에 존재할 것으로 예상되는 범위\n",
    "    - 95% 신뢰수준에 대한 범위라면 모수가 95% 확률로 그 안에 속할 것으로 추정\n",
    "    - 추정값의 범위를 제공하여 모평균의 신뢰성을 가늠\n",
    "  - 정확한 신뢰구간을 구하려면 통계학적인 과정과 계산 방법이 필요"
   ]
  },
  {
   "cell_type": "code",
   "execution_count": 2,
   "metadata": {},
   "outputs": [],
   "source": [
    "plt.rcParams[\"font.family\"] = 'Malgun Gothic'\n",
    "plt.rcParams[\"font.size\"] = 12\n",
    "plt.rcParams[\"figure.figsize\"] = (8, 6)\n",
    "plt.rcParams[\"axes.unicode_minus\"] = False"
   ]
  },
  {
   "cell_type": "code",
   "execution_count": 3,
   "metadata": {},
   "outputs": [],
   "source": [
    "df = pd.read_excel(\"./data/height.xlsx\")"
   ]
  },
  {
   "cell_type": "code",
   "execution_count": 4,
   "metadata": {},
   "outputs": [
    {
     "data": {
      "text/html": [
       "<div>\n",
       "<style scoped>\n",
       "    .dataframe tbody tr th:only-of-type {\n",
       "        vertical-align: middle;\n",
       "    }\n",
       "\n",
       "    .dataframe tbody tr th {\n",
       "        vertical-align: top;\n",
       "    }\n",
       "\n",
       "    .dataframe thead th {\n",
       "        text-align: right;\n",
       "    }\n",
       "</style>\n",
       "<table border=\"1\" class=\"dataframe\">\n",
       "  <thead>\n",
       "    <tr style=\"text-align: right;\">\n",
       "      <th></th>\n",
       "      <th>학년</th>\n",
       "      <th>성별</th>\n",
       "      <th>키</th>\n",
       "    </tr>\n",
       "  </thead>\n",
       "  <tbody>\n",
       "    <tr>\n",
       "      <th>0</th>\n",
       "      <td>1</td>\n",
       "      <td>남자</td>\n",
       "      <td>163</td>\n",
       "    </tr>\n",
       "    <tr>\n",
       "      <th>1</th>\n",
       "      <td>2</td>\n",
       "      <td>여자</td>\n",
       "      <td>154</td>\n",
       "    </tr>\n",
       "    <tr>\n",
       "      <th>2</th>\n",
       "      <td>1</td>\n",
       "      <td>남자</td>\n",
       "      <td>171</td>\n",
       "    </tr>\n",
       "    <tr>\n",
       "      <th>3</th>\n",
       "      <td>3</td>\n",
       "      <td>여자</td>\n",
       "      <td>160</td>\n",
       "    </tr>\n",
       "    <tr>\n",
       "      <th>4</th>\n",
       "      <td>4</td>\n",
       "      <td>남자</td>\n",
       "      <td>169</td>\n",
       "    </tr>\n",
       "  </tbody>\n",
       "</table>\n",
       "</div>"
      ],
      "text/plain": [
       "   학년  성별    키\n",
       "0   1  남자  163\n",
       "1   2  여자  154\n",
       "2   1  남자  171\n",
       "3   3  여자  160\n",
       "4   4  남자  169"
      ]
     },
     "execution_count": 4,
     "metadata": {},
     "output_type": "execute_result"
    }
   ],
   "source": [
    "df.head()"
   ]
  },
  {
   "cell_type": "markdown",
   "metadata": {},
   "source": [
    "- 신뢰구간 구하기\n",
    "  - 함수가 따로 없음"
   ]
  },
  {
   "cell_type": "code",
   "execution_count": 5,
   "metadata": {},
   "outputs": [],
   "source": [
    "clevel = 0.95\n",
    "data = df['키']"
   ]
  },
  {
   "cell_type": "markdown",
   "metadata": {},
   "source": [
    "- 샘플 사이즈(len으로 계산)\n",
    "- 자유도 : 총관측치 - 1\n",
    "  - 중복을 허용하지 않는 선택에서 선택이 가능한 횟수 (마지막에 고르는것은 선택지가 없으므로)"
   ]
  },
  {
   "cell_type": "code",
   "execution_count": 6,
   "metadata": {},
   "outputs": [
    {
     "data": {
      "text/plain": [
       "(36, 35)"
      ]
     },
     "execution_count": 6,
     "metadata": {},
     "output_type": "execute_result"
    }
   ],
   "source": [
    "n = len(data)\n",
    "dof = n - 1\n",
    "n, dof"
   ]
  },
  {
   "cell_type": "markdown",
   "metadata": {},
   "source": [
    "- 표본 평균 산출"
   ]
  },
  {
   "cell_type": "code",
   "execution_count": 7,
   "metadata": {},
   "outputs": [
    {
     "data": {
      "text/plain": [
       "167.83333333333334"
      ]
     },
     "execution_count": 7,
     "metadata": {},
     "output_type": "execute_result"
    }
   ],
   "source": [
    "sample_mean = data.mean()\n",
    "sample_mean"
   ]
  },
  {
   "cell_type": "markdown",
   "metadata": {},
   "source": [
    "- 표본 표준편차\n",
    "  - ddof 파라미터를 사용할 경우 표준편차 계산식에서 n으로 나눌지 n-x 값으로 나눌지 설정 가능\n",
    "  - 표본 표준편차는 자유도인 n-1로 나누기 위해서 ddof를 1로 설정"
   ]
  },
  {
   "cell_type": "code",
   "execution_count": 8,
   "metadata": {},
   "outputs": [
    {
     "data": {
      "text/plain": [
       "7.315345905306579"
      ]
     },
     "execution_count": 8,
     "metadata": {},
     "output_type": "execute_result"
    }
   ],
   "source": [
    "sample_std = data.std(ddof = 1)\n",
    "sample_std"
   ]
  },
  {
   "cell_type": "markdown",
   "metadata": {},
   "source": [
    "- 표본 표준오차\n",
    "  - 표준편차 / 샘플크기 ** 0.5"
   ]
  },
  {
   "cell_type": "code",
   "execution_count": 9,
   "metadata": {},
   "outputs": [
    {
     "data": {
      "text/plain": [
       "1.2192243175510964"
      ]
     },
     "execution_count": 9,
     "metadata": {},
     "output_type": "execute_result"
    }
   ],
   "source": [
    "sample_std_error = sample_std / sqrt(n)\n",
    "sample_std_error"
   ]
  },
  {
   "cell_type": "markdown",
   "metadata": {},
   "source": [
    "- t.interval로 신뢰구간 계산 가능\n",
    "  - t.interval(신뢰도, 자유도, loc = 샘플평균, scale = 샘플 표준오차)"
   ]
  },
  {
   "cell_type": "code",
   "execution_count": 10,
   "metadata": {},
   "outputs": [],
   "source": [
    "cmin, cmax = t.interval(clevel, dof, loc = sample_mean, scale = sample_std_error)"
   ]
  },
  {
   "cell_type": "code",
   "execution_count": 11,
   "metadata": {},
   "outputs": [
    {
     "data": {
      "text/plain": [
       "(165.35817637995726, 170.30849028670943)"
      ]
     },
     "execution_count": 11,
     "metadata": {},
     "output_type": "execute_result"
    }
   ],
   "source": [
    "cmin, cmax"
   ]
  },
  {
   "cell_type": "code",
   "execution_count": 12,
   "metadata": {},
   "outputs": [
    {
     "data": {
      "image/png": "[encoded data removed]",
      "text/plain": [
       "<Figure size 800x600 with 1 Axes>"
      ]
     },
     "metadata": {},
     "output_type": "display_data"
    }
   ],
   "source": [
    "plt.figure()\n",
    "\n",
    "sb.kdeplot(data=data)\n",
    "\n",
    "xmin, xmax, ymin, ymax = plt.axis()\n",
    "\n",
    "# 신뢰구간 그리기\n",
    "plt.plot([cmin, cmin], [0, ymax], linestyle=':')\n",
    "plt.plot([cmax, cmax], [0, ymax], linestyle=':')\n",
    "plt.fill_between([cmin, cmax], y1=0, y2=ymax, alpha=0.1)\n",
    "\n",
    "# 평균 그리기\n",
    "plt.plot([sample_mean, sample_mean], [0, ymax], linestyle='--', linewidth=2)\n",
    "\n",
    "plt.text(x=(cmax-cmin)/2+cmin,\n",
    "         y=ymax,\n",
    "         s=\"[%s] %0.1f ~ %0.1f\" % (data.name, cmin, cmax),\n",
    "         horizontalalignment=\"center\",\n",
    "         verticalalignment=\"bottom\",\n",
    "         fontdict={\"size\": 10, \"color\": \"red\"})\n",
    "\n",
    "plt.ylim(0, ymax*1.1)\n",
    "plt.grid()\n",
    "plt.show()\n",
    "plt.close()"
   ]
  },
  {
   "cell_type": "markdown",
   "metadata": {},
   "source": [
    "- 가설검정의 가정\n",
    "  - 정규성, 등분산성, 독립성을 확인\n",
    "  - 독립성은 데이터 수집시에 확보되는게 보통"
   ]
  },
  {
   "cell_type": "code",
   "execution_count": 13,
   "metadata": {},
   "outputs": [],
   "source": [
    "df2 = pd.read_excel(\"./data/store.xlsx\")"
   ]
  },
  {
   "cell_type": "code",
   "execution_count": 14,
   "metadata": {},
   "outputs": [
    {
     "data": {
      "text/html": [
       "<div>\n",
       "<style scoped>\n",
       "    .dataframe tbody tr th:only-of-type {\n",
       "        vertical-align: middle;\n",
       "    }\n",
       "\n",
       "    .dataframe tbody tr th {\n",
       "        vertical-align: top;\n",
       "    }\n",
       "\n",
       "    .dataframe thead th {\n",
       "        text-align: right;\n",
       "    }\n",
       "</style>\n",
       "<table border=\"1\" class=\"dataframe\">\n",
       "  <thead>\n",
       "    <tr style=\"text-align: right;\">\n",
       "      <th></th>\n",
       "      <th>store1</th>\n",
       "      <th>store2</th>\n",
       "    </tr>\n",
       "  </thead>\n",
       "  <tbody>\n",
       "    <tr>\n",
       "      <th>0</th>\n",
       "      <td>34</td>\n",
       "      <td>63</td>\n",
       "    </tr>\n",
       "    <tr>\n",
       "      <th>1</th>\n",
       "      <td>63</td>\n",
       "      <td>85</td>\n",
       "    </tr>\n",
       "    <tr>\n",
       "      <th>2</th>\n",
       "      <td>57</td>\n",
       "      <td>75</td>\n",
       "    </tr>\n",
       "    <tr>\n",
       "      <th>3</th>\n",
       "      <td>50</td>\n",
       "      <td>48</td>\n",
       "    </tr>\n",
       "    <tr>\n",
       "      <th>4</th>\n",
       "      <td>37</td>\n",
       "      <td>58</td>\n",
       "    </tr>\n",
       "  </tbody>\n",
       "</table>\n",
       "</div>"
      ],
      "text/plain": [
       "   store1  store2\n",
       "0      34      63\n",
       "1      63      85\n",
       "2      57      75\n",
       "3      50      48\n",
       "4      37      58"
      ]
     },
     "execution_count": 14,
     "metadata": {},
     "output_type": "execute_result"
    }
   ],
   "source": [
    "df2.head()"
   ]
  },
  {
   "cell_type": "code",
   "execution_count": 15,
   "metadata": {},
   "outputs": [
    {
     "data": {
      "image/png": "[encoded data removed]",
      "text/plain": [
       "<Figure size 800x600 with 1 Axes>"
      ]
     },
     "metadata": {},
     "output_type": "display_data"
    }
   ],
   "source": [
    "plt.figure()\n",
    "sb.histplot(df2, kde=True)\n",
    "plt.grid()\n",
    "plt.show()\n",
    "plt.close()"
   ]
  },
  {
   "cell_type": "markdown",
   "metadata": {},
   "source": [
    "- 그래프의 모양만으로는 정규성을 판단하기는 어려움\n",
    "  - Shapiro-Wilk 검정과 Normal Test 검정으로 정규성을 확인\n",
    "  - 귀무가설이 정규분포를 만족"
   ]
  },
  {
   "cell_type": "code",
   "execution_count": 16,
   "metadata": {},
   "outputs": [
    {
     "data": {
      "text/plain": [
       "(0.9788976311683655, 0.1090397983789444)"
      ]
     },
     "execution_count": 16,
     "metadata": {},
     "output_type": "execute_result"
    }
   ],
   "source": [
    "s, p = shapiro(df2['store1'])\n",
    "s, p"
   ]
  },
  {
   "cell_type": "markdown",
   "metadata": {},
   "source": [
    "- store1은 p-value가 0.109로 정규성을 만족함"
   ]
  },
  {
   "cell_type": "code",
   "execution_count": 17,
   "metadata": {},
   "outputs": [
    {
     "data": {
      "text/plain": [
       "(0.9908225536346436, 0.7308703660964966)"
      ]
     },
     "execution_count": 17,
     "metadata": {},
     "output_type": "execute_result"
    }
   ],
   "source": [
    "s, p = shapiro(df2['store2'])\n",
    "s, p"
   ]
  },
  {
   "cell_type": "markdown",
   "metadata": {},
   "source": [
    "- store2는 p-value가 0.731로 정규성을 만족함\n",
    "  - 일반적인 데이터는 shapiro 검정을 통과하는 경우가 드뭄"
   ]
  },
  {
   "cell_type": "code",
   "execution_count": 18,
   "metadata": {},
   "outputs": [
    {
     "data": {
      "text/plain": [
       "(-0.5060195598563504, 0.42190655934133625)"
      ]
     },
     "execution_count": 18,
     "metadata": {},
     "output_type": "execute_result"
    }
   ],
   "source": [
    "s = skew(df2['store1'])\n",
    "k = kurtosis(df2['store1'])\n",
    "s, k"
   ]
  },
  {
   "cell_type": "code",
   "execution_count": 19,
   "metadata": {},
   "outputs": [
    {
     "data": {
      "text/plain": [
       "(0.25131831644318914, -0.17771343218179636)"
      ]
     },
     "execution_count": 19,
     "metadata": {},
     "output_type": "execute_result"
    }
   ],
   "source": [
    "s = skew(df2['store2'])\n",
    "k = kurtosis(df2['store2'])\n",
    "s, k"
   ]
  },
  {
   "cell_type": "markdown",
   "metadata": {},
   "source": [
    "- 왜도의 절대값 2 미만, 첨도의 절대값이 7 미만이면 정규성을 만족한다고 판단"
   ]
  },
  {
   "cell_type": "code",
   "execution_count": 20,
   "metadata": {},
   "outputs": [
    {
     "data": {
      "text/plain": [
       "(5.651229077834353, 0.059272220548594566)"
      ]
     },
     "execution_count": 20,
     "metadata": {},
     "output_type": "execute_result"
    }
   ],
   "source": [
    "s, p = normaltest(df2['store1'])\n",
    "s, p"
   ]
  },
  {
   "cell_type": "code",
   "execution_count": 21,
   "metadata": {},
   "outputs": [
    {
     "data": {
      "text/plain": [
       "(1.1737719863666414, 0.5560561541363169)"
      ]
     },
     "execution_count": 21,
     "metadata": {},
     "output_type": "execute_result"
    }
   ],
   "source": [
    "s, p = normaltest(df2['store2'])\n",
    "s, p"
   ]
  },
  {
   "cell_type": "markdown",
   "metadata": {},
   "source": [
    "- Normal Test로 한번에 확인 가능\n",
    "  - p-value를 제공함 (0.05 이상이면 정규성 만족)"
   ]
  },
  {
   "cell_type": "code",
   "execution_count": 22,
   "metadata": {},
   "outputs": [
    {
     "name": "stdout",
     "output_type": "stream",
     "text": [
      "[store1] statistic: 5.651, p-value: 0.059, 정규성 충족 여부: True\n",
      "[store2] statistic: 1.174, p-value: 0.556, 정규성 충족 여부: True\n"
     ]
    }
   ],
   "source": [
    "for c in df2.columns:\n",
    "    s, p = normaltest(df2[c])\n",
    "    print(\"[{0}] statistic: {1:.3f}, p-value: {2:.3f}, 정규성 충족 여부: {3}\".format(c, s, p, p >= 0.05))"
   ]
  },
  {
   "cell_type": "markdown",
   "metadata": {},
   "source": [
    "- 등분산성 확인\n",
    "  - 정규성을 만족하면 Bartlett 검정 진행\n",
    "  - 귀무가설이 등분산성 만족"
   ]
  },
  {
   "cell_type": "code",
   "execution_count": 23,
   "metadata": {},
   "outputs": [
    {
     "data": {
      "text/plain": [
       "(2.8439234865544547, 0.09172000691097058)"
      ]
     },
     "execution_count": 23,
     "metadata": {},
     "output_type": "execute_result"
    }
   ],
   "source": [
    "s, p = bartlett(df2['store1'], df2['store2'])\n",
    "s, p"
   ]
  },
  {
   "cell_type": "markdown",
   "metadata": {},
   "source": [
    "- p-value가 0.09이므로 등분산성을 만족\n",
    "  - 집단의 개수가 2개이므로 파라미터를 2개를 썼으나 Bartlett 함수는 파라미터 개수 제한이 없음"
   ]
  },
  {
   "cell_type": "code",
   "execution_count": 24,
   "metadata": {},
   "outputs": [
    {
     "data": {
      "text/plain": [
       "(1.3599959600040419, 0.2449409510155909)"
      ]
     },
     "execution_count": 24,
     "metadata": {},
     "output_type": "execute_result"
    }
   ],
   "source": [
    "s, p = levene(df2['store1'], df2['store2'])\n",
    "s, p"
   ]
  },
  {
   "cell_type": "markdown",
   "metadata": {},
   "source": [
    "- 정규성을 만족하는 데이터이므로 적합한 방법은 아니지만 levene 검정도 Bartlett 검정과 사용 방법이 동일함"
   ]
  },
  {
   "cell_type": "code",
   "execution_count": 28,
   "metadata": {},
   "outputs": [
    {
     "name": "stdout",
     "output_type": "stream",
     "text": [
      "Bartlett 검정: statistic: 2.844, p-value: 0.092, 정규성 충족 여부: True\n"
     ]
    }
   ],
   "source": [
    "normal_dist = True      # 정규성 만족 여부\n",
    "data2 = df2.copy()    # 원본 데이터 복사\n",
    "fields = list(map(lambda x: data2[x], data2.columns))\n",
    "# 2중 함수\n",
    "# 1단 (map) : 첫번째 파라미터 람다식에 data2.columns라는 연속형 데이터에 적용하여 담기\n",
    "# 2단 (lambda) : data2 데이터프레임에서 단일 열을 추출\n",
    "# 최종적으로 각 열의 데이터를 리스트로 추출함\n",
    "\n",
    "if normal_dist:\n",
    "    n = \"Bartlett\"\n",
    "    s, p = bartlett(*fields)\n",
    "else:\n",
    "    n = \"Levene\"\n",
    "    s, p = levene(*fields)\n",
    "# 파라미터에 *리스트 : 리스트의 값을 파라미터로 그대로 삽입하는 방법 (C의 포인터 개념)\n",
    "\n",
    "print(\"{0} 검정: statistic: {1:.3f}, p-value: {2:.3f}, 정규성 충족 여부: {3}\".format(n, s, p, p >= 0.05))"
   ]
  },
  {
   "cell_type": "markdown",
   "metadata": {},
   "source": [
    "- 분석 프로세스\n",
    "  - 정규성 만족? (데이터수가 30개 이상이라면 만족했다고 가정하고 진행 : 중심극한정리)\n",
    "    - 만족하지 않으면 로그변환 등으로 데이터 수정\n",
    "      - 그래도 만족하지 않으면 윌콕슨 검정 등의 검정 방법 실행\n",
    "  - 변수가 2개인가?\n",
    "    - 2개가 아니라면 등분산 검정 진행\n",
    "      - 등분산성을 만족하면 독립표본 t-test\n",
    "      - 만족하지 않으면 독립표본 t-test(등분산 X 옵션)\n",
    "    - 2개라면 등분산 검정 진행\n",
    "      - 대응표본 t-test 검정\n",
    "      - 아니라면 만-휘트니 U 검정"
   ]
  },
  {
   "cell_type": "markdown",
   "metadata": {},
   "source": [
    "- 단일표본 t-test\n",
    "  - 단일표본은 표본이 1개이므로 정규성만 확인하고 등분산성은 확인하지 않음"
   ]
  },
  {
   "cell_type": "code",
   "execution_count": 26,
   "metadata": {},
   "outputs": [],
   "source": [
    "df3 = pd.read_excel(\"./data/temperature.xlsx\")"
   ]
  },
  {
   "cell_type": "code",
   "execution_count": 27,
   "metadata": {},
   "outputs": [
    {
     "data": {
      "text/html": [
       "<div>\n",
       "<style scoped>\n",
       "    .dataframe tbody tr th:only-of-type {\n",
       "        vertical-align: middle;\n",
       "    }\n",
       "\n",
       "    .dataframe tbody tr th {\n",
       "        vertical-align: top;\n",
       "    }\n",
       "\n",
       "    .dataframe thead th {\n",
       "        text-align: right;\n",
       "    }\n",
       "</style>\n",
       "<table border=\"1\" class=\"dataframe\">\n",
       "  <thead>\n",
       "    <tr style=\"text-align: right;\">\n",
       "      <th></th>\n",
       "      <th>체온</th>\n",
       "    </tr>\n",
       "  </thead>\n",
       "  <tbody>\n",
       "    <tr>\n",
       "      <th>0</th>\n",
       "      <td>25.8</td>\n",
       "    </tr>\n",
       "    <tr>\n",
       "      <th>1</th>\n",
       "      <td>24.6</td>\n",
       "    </tr>\n",
       "    <tr>\n",
       "      <th>2</th>\n",
       "      <td>26.1</td>\n",
       "    </tr>\n",
       "    <tr>\n",
       "      <th>3</th>\n",
       "      <td>22.9</td>\n",
       "    </tr>\n",
       "    <tr>\n",
       "      <th>4</th>\n",
       "      <td>25.1</td>\n",
       "    </tr>\n",
       "  </tbody>\n",
       "</table>\n",
       "</div>"
      ],
      "text/plain": [
       "     체온\n",
       "0  25.8\n",
       "1  24.6\n",
       "2  26.1\n",
       "3  22.9\n",
       "4  25.1"
      ]
     },
     "execution_count": 27,
     "metadata": {},
     "output_type": "execute_result"
    }
   ],
   "source": [
    "df3.head()"
   ]
  },
  {
   "cell_type": "code",
   "execution_count": 32,
   "metadata": {},
   "outputs": [
    {
     "data": {
      "image/png": "[encoded data removed]",
      "text/plain": [
       "<Figure size 800x600 with 1 Axes>"
      ]
     },
     "metadata": {},
     "output_type": "display_data"
    }
   ],
   "source": [
    "plt.figure()\n",
    "\n",
    "data = df3['체온']                           # 데이터만 추출\n",
    "max = data.max()                                # 최대값\n",
    "clevel = 0.95                                   # 신뢰수준\n",
    "dof = len(data) - 1                             # 자유도\n",
    "sample_mean = data.mean()                       # 표본평균\n",
    "sample_std = data.std(ddof=1)                   # 표본표준편차\n",
    "sample_std_error = sample_std / sqrt(len(data)) # 표본표준오차\n",
    "\n",
    "# 신뢰구간\n",
    "cmin, cmax = t.interval(clevel, dof, loc=sample_mean, scale=sample_std_error)\n",
    "\n",
    "sb.kdeplot(data=data)\n",
    "\n",
    "xmin, xmax, ymin, ymax = plt.axis()\n",
    "\n",
    "# 신뢰구간 그리기\n",
    "plt.plot([cmin, cmin], [ymin, ymax], linestyle=':')\n",
    "plt.plot([cmax, cmax], [ymin, ymax], linestyle=':')\n",
    "plt.fill_between([cmin, cmax], y1=0, y2=ymax, alpha=0.1)\n",
    "\n",
    "# 평균 그리기\n",
    "plt.plot([sample_mean, sample_mean], [ymin, ymax], linestyle='--', linewidth=2)\n",
    "\n",
    "plt.text(x=(cmax-cmin)/2+cmin,\n",
    "         y=ymax,\n",
    "         s=\"[%s] %0.1f ~ %0.1f\" % (data.name, cmin, cmax),\n",
    "         horizontalalignment=\"center\",\n",
    "         verticalalignment=\"bottom\",\n",
    "         fontdict={\"size\": 12, \"color\": \"red\"})\n",
    "\n",
    "plt.ylim(0, ymax*1.1)\n",
    "\n",
    "txt = \"\"\"커널 밀도 함수 그래프의 모양이 정규분포를 띄고 있으며, 표본평균({:.1f})이 신뢰구간({:.1f} ~ {:.1f})에 포함되어 있으므로,\n",
    "강아지의 체온이 정상범위에 있다고 할 수 있다.\"\"\".format(sample_mean, cmin, cmax)\n",
    "\n",
    "plt.figtext(0.51, 0, txt, wrap=True,\n",
    "            verticalalignment=\"top\", horizontalalignment=\"center\",\n",
    "            fontdict={\"size\": 12, \"weight\": \"light\"})\n",
    "\n",
    "plt.grid()\n",
    "plt.show()\n",
    "plt.close()"
   ]
  },
  {
   "cell_type": "code",
   "execution_count": 33,
   "metadata": {},
   "outputs": [
    {
     "data": {
      "text/plain": [
       "(0.8193876624316508, 0.6638534702347585)"
      ]
     },
     "execution_count": 33,
     "metadata": {},
     "output_type": "execute_result"
    }
   ],
   "source": [
    "s, p = normaltest(df3['체온'])\n",
    "s, p"
   ]
  },
  {
   "cell_type": "markdown",
   "metadata": {},
   "source": [
    "- 정규성 검정\n",
    "  - 0.05 이상이므로 충족함"
   ]
  },
  {
   "cell_type": "code",
   "execution_count": 35,
   "metadata": {},
   "outputs": [
    {
     "data": {
      "text/plain": [
       "TtestResult(statistic=2.7127692953052716, pvalue=0.012145537241648427, df=24)"
      ]
     },
     "execution_count": 35,
     "metadata": {},
     "output_type": "execute_result"
    }
   ],
   "source": [
    "ttest_1samp(df3['체온'], 24.3, alternative = 'two-sided')"
   ]
  },
  {
   "cell_type": "markdown",
   "metadata": {},
   "source": [
    "- 단일표본 검정\n",
    "  - ttest_1samp(데이터, u값)\n",
    "    - 결과\n",
    "      - s : t검정에서는 t값인 검정통계량\n",
    "      - p : p-value\n",
    "  - p-value가 0.01이므로 귀무가설이 기각되어 평균체온이 24.3과 다르다는 결론을 내림 (유의수준 0.05)\n",
    "  - p-value가 0.05 ~ 0.1이면 애매하기 때문에 샘플링을 다시 해봄 (결론 자체는 귀무가설 채택)"
   ]
  },
  {
   "cell_type": "markdown",
   "metadata": {},
   "source": [
    "- 결론 : 출력에서 일표본 T검정에 대한 유의확률값이 0.0121로 통상적인 유의수준 0.05보다 작으므로 유의수준 0.05에서 강아지 25마라의 체온이 추출된 모집단의 평균인 24.3이라고 할 수 없다.\n",
    "  - 위와 같이 결론을 쓰는 것이 중요함"
   ]
  },
  {
   "cell_type": "code",
   "execution_count": 38,
   "metadata": {},
   "outputs": [
    {
     "data": {
      "text/plain": [
       "TtestResult(statistic=2.7127692953052716, pvalue=0.9939272313791758, df=24)"
      ]
     },
     "execution_count": 38,
     "metadata": {},
     "output_type": "execute_result"
    }
   ],
   "source": [
    "ttest_1samp(df3['체온'], 24.3, alternative = 'less')"
   ]
  },
  {
   "cell_type": "markdown",
   "metadata": {},
   "source": [
    "- alternative 파라미터\n",
    "  - less : 대립가설이 u값보다 작다 (귀무가설은 작지 않다)\n",
    "  - greater : 대립가설이 u값보다 크다 (귀무가설은 크지 않다)\n",
    "  - two-sided(기본값) : 대립가설이 u값과 다르다 (귀무가설은 다르지 않다)"
   ]
  },
  {
   "cell_type": "code",
   "execution_count": 41,
   "metadata": {},
   "outputs": [],
   "source": [
    "df4 = pd.read_excel(\"./data/insur.xlsx\")"
   ]
  },
  {
   "cell_type": "markdown",
   "metadata": {},
   "source": [
    "- 생명보험 데이터 : 금액의 모평균이 1억원이라고 볼 수 있는지 검정 (유의수준 5%)"
   ]
  },
  {
   "cell_type": "code",
   "execution_count": 42,
   "metadata": {},
   "outputs": [
    {
     "data": {
      "text/html": [
       "<div>\n",
       "<style scoped>\n",
       "    .dataframe tbody tr th:only-of-type {\n",
       "        vertical-align: middle;\n",
       "    }\n",
       "\n",
       "    .dataframe tbody tr th {\n",
       "        vertical-align: top;\n",
       "    }\n",
       "\n",
       "    .dataframe thead th {\n",
       "        text-align: right;\n",
       "    }\n",
       "</style>\n",
       "<table border=\"1\" class=\"dataframe\">\n",
       "  <thead>\n",
       "    <tr style=\"text-align: right;\">\n",
       "      <th></th>\n",
       "      <th>직업</th>\n",
       "      <th>교육수준</th>\n",
       "      <th>성별</th>\n",
       "      <th>나이</th>\n",
       "      <th>가입금액</th>\n",
       "      <th>월수입</th>\n",
       "    </tr>\n",
       "  </thead>\n",
       "  <tbody>\n",
       "    <tr>\n",
       "      <th>0</th>\n",
       "      <td>1</td>\n",
       "      <td>2</td>\n",
       "      <td>1</td>\n",
       "      <td>35</td>\n",
       "      <td>15.0</td>\n",
       "      <td>100</td>\n",
       "    </tr>\n",
       "    <tr>\n",
       "      <th>1</th>\n",
       "      <td>2</td>\n",
       "      <td>3</td>\n",
       "      <td>1</td>\n",
       "      <td>40</td>\n",
       "      <td>10.0</td>\n",
       "      <td>150</td>\n",
       "    </tr>\n",
       "    <tr>\n",
       "      <th>2</th>\n",
       "      <td>2</td>\n",
       "      <td>3</td>\n",
       "      <td>2</td>\n",
       "      <td>36</td>\n",
       "      <td>8.0</td>\n",
       "      <td>120</td>\n",
       "    </tr>\n",
       "    <tr>\n",
       "      <th>3</th>\n",
       "      <td>3</td>\n",
       "      <td>4</td>\n",
       "      <td>2</td>\n",
       "      <td>38</td>\n",
       "      <td>12.0</td>\n",
       "      <td>140</td>\n",
       "    </tr>\n",
       "    <tr>\n",
       "      <th>4</th>\n",
       "      <td>1</td>\n",
       "      <td>1</td>\n",
       "      <td>1</td>\n",
       "      <td>45</td>\n",
       "      <td>10.0</td>\n",
       "      <td>150</td>\n",
       "    </tr>\n",
       "  </tbody>\n",
       "</table>\n",
       "</div>"
      ],
      "text/plain": [
       "   직업  교육수준  성별  나이  가입금액  월수입\n",
       "0   1     2   1  35  15.0  100\n",
       "1   2     3   1  40  10.0  150\n",
       "2   2     3   2  36   8.0  120\n",
       "3   3     4   2  38  12.0  140\n",
       "4   1     1   1  45  10.0  150"
      ]
     },
     "execution_count": 42,
     "metadata": {},
     "output_type": "execute_result"
    }
   ],
   "source": [
    "df4.head()"
   ]
  },
  {
   "cell_type": "code",
   "execution_count": 44,
   "metadata": {},
   "outputs": [
    {
     "data": {
      "image/png": "[encoded data removed]",
      "text/plain": [
       "<Figure size 800x600 with 1 Axes>"
      ]
     },
     "metadata": {},
     "output_type": "display_data"
    }
   ],
   "source": [
    "plt.figure()\n",
    "\n",
    "data = df4['가입금액']                        # 데이터만 추출\n",
    "max = data.max()                                # 최대값\n",
    "clevel = 0.95                                   # 신뢰수준\n",
    "dof = len(data) - 1                             # 자유도\n",
    "sample_mean = data.mean()                       # 표본평균\n",
    "sample_std = data.std(ddof=1)                   # 표본표준편차\n",
    "sample_std_error = sample_std / sqrt(len(data)) # 표본표준오차\n",
    "\n",
    "# 신뢰구간\n",
    "cmin, cmax = t.interval(clevel, dof, loc=sample_mean, scale=sample_std_error)\n",
    "\n",
    "sb.kdeplot(data=data)\n",
    "\n",
    "xmin, xmax, ymin, ymax = plt.axis()\n",
    "\n",
    "# 신뢰구간 그리기\n",
    "plt.plot([cmin, cmin], [ymin, ymax], linestyle=':')\n",
    "plt.plot([cmax, cmax], [ymin, ymax], linestyle=':')\n",
    "plt.fill_between([cmin, cmax], y1=ymin, y2=ymax, alpha=0.1)\n",
    "\n",
    "# 평균 그리기\n",
    "plt.plot([sample_mean, sample_mean], [ymin, ymax], linestyle='--', linewidth=2)\n",
    "\n",
    "plt.text(x=(cmax-cmin)/2+cmin,\n",
    "         y=ymax,\n",
    "         s=\"[%s] %0.1f ~ %0.1f\" % (data.name, cmin, cmax),\n",
    "         horizontalalignment=\"center\",\n",
    "         verticalalignment=\"bottom\",\n",
    "         fontdict={\"size\": 12, \"color\": \"red\"})\n",
    "\n",
    "plt.ylim(0, ymax*1.1)\n",
    "\n",
    "txt = \"\"\"표본평균({:.1f})이 신뢰구간({:.1f} ~ {:.1f})에 포함되어 있으므로 가입금액의 데이터는 정상범위에 있다고 할 수 있지만,\n",
    "커널 밀도 함수 그래프의 모양을 보았을 때 정규분포를 만족하지는 않고 있다.\"\"\".format(sample_mean, cmin, cmax)\n",
    "\n",
    "plt.figtext(0.51, 0, txt, wrap=True,\n",
    "            verticalalignment=\"top\", horizontalalignment=\"center\",\n",
    "            fontdict={\"size\": 12, \"weight\": \"light\"})\n",
    "\n",
    "plt.grid()\n",
    "plt.show()\n",
    "plt.close()"
   ]
  },
  {
   "cell_type": "code",
   "execution_count": 45,
   "metadata": {},
   "outputs": [
    {
     "data": {
      "text/plain": [
       "(11.437990012772712, 0.0032830086476839664)"
      ]
     },
     "execution_count": 45,
     "metadata": {},
     "output_type": "execute_result"
    }
   ],
   "source": [
    "s, p = normaltest(df4['가입금액'])\n",
    "s, p"
   ]
  },
  {
   "cell_type": "markdown",
   "metadata": {},
   "source": [
    "- 데이터가 정규성을 만족하지 않음"
   ]
  },
  {
   "cell_type": "code",
   "execution_count": 50,
   "metadata": {},
   "outputs": [
    {
     "data": {
      "text/plain": [
       "0    2.708050\n",
       "1    2.302585\n",
       "2    2.079442\n",
       "3    2.484907\n",
       "4    2.302585\n",
       "Name: 가입금액, dtype: float64"
      ]
     },
     "execution_count": 50,
     "metadata": {},
     "output_type": "execute_result"
    }
   ],
   "source": [
    "log_data = np.log(df4['가입금액'])\n",
    "log_data[:5]"
   ]
  },
  {
   "cell_type": "code",
   "execution_count": 49,
   "metadata": {},
   "outputs": [
    {
     "data": {
      "text/plain": [
       "(0.10359880742274598, 0.9495193177915029)"
      ]
     },
     "execution_count": 49,
     "metadata": {},
     "output_type": "execute_result"
    }
   ],
   "source": [
    "s, p = normaltest(log_data)\n",
    "s, p"
   ]
  },
  {
   "cell_type": "markdown",
   "metadata": {},
   "source": [
    "- 로그변환으로 정규성을 만족하도록 수정"
   ]
  },
  {
   "cell_type": "markdown",
   "metadata": {},
   "source": [
    "- 로그변환을 실행하여 u = 1억(10) 또한 np.log(10)으로 변환됨 (np.log = 자연로그, np.log10 = 상용로그)"
   ]
  },
  {
   "cell_type": "code",
   "execution_count": 79,
   "metadata": {},
   "outputs": [
    {
     "data": {
      "text/plain": [
       "'statistic: -0.326, p-value: 0.747, 귀무가설 채택'"
      ]
     },
     "execution_count": 79,
     "metadata": {},
     "output_type": "execute_result"
    }
   ],
   "source": [
    "s, p = ttest_1samp(log_data, np.log(10), alternative = 'two-sided')\n",
    "\"statistic: {0:.3f}, p-value: {1:.3f}, {2}가설 채택\".format(s, p, \"대립\" if p < 0.05 else \"귀무\")"
   ]
  },
  {
   "cell_type": "markdown",
   "metadata": {},
   "source": [
    "- 귀무가설 : 보험 가입금액의 평균은 1억원과 차이가 없다.\n",
    "- 대립가설 : 보험 가입금액의 평균은 1억원과 차이가 있다."
   ]
  },
  {
   "cell_type": "markdown",
   "metadata": {},
   "source": [
    "- 결론 : 단일 표본 검정에서 유의확률이 유의수준 0.05보다 크므로, 보험 가입금액의 모평균이 1억원이라는 가설을 채택한다. 즉, 보험 가입금액의 평균은 1억원과 다르지 않다."
   ]
  },
  {
   "cell_type": "code",
   "execution_count": 78,
   "metadata": {},
   "outputs": [
    {
     "data": {
      "text/plain": [
       "'statistic: -0.326, p-value: 0.374, 귀무가설 채택'"
      ]
     },
     "execution_count": 78,
     "metadata": {},
     "output_type": "execute_result"
    }
   ],
   "source": [
    "s, p = ttest_1samp(log_data, np.log(10), alternative='less')\n",
    "\"statistic: {0:.3f}, p-value: {1:.3f}, {2}가설 채택\".format(s, p, \"대립\" if p < 0.05 else \"귀무\")"
   ]
  },
  {
   "cell_type": "markdown",
   "metadata": {},
   "source": [
    "- 귀무가설 : 보험 가입금액의 평균은 1억원보다 작지 않다.\n",
    "- 대립가설 : 보험 가입금액의 평균은 1억원보다 작다."
   ]
  },
  {
   "cell_type": "markdown",
   "metadata": {},
   "source": [
    "- 결론 : 단일 표본 검정에서 유의확률이 유의수준 0.05보다 크므로, 보험 가입금액의 모평균이 1억원보다 작지 않다는 귀무가설을 채택한다. 즉, 보험 가입금액의 평균은 1억원보다 작지 않다."
   ]
  },
  {
   "cell_type": "code",
   "execution_count": 77,
   "metadata": {},
   "outputs": [
    {
     "data": {
      "text/plain": [
       "'statistic: -0.326, p-value: 0.626, 귀무가설 채택'"
      ]
     },
     "execution_count": 77,
     "metadata": {},
     "output_type": "execute_result"
    }
   ],
   "source": [
    "s, p = ttest_1samp(log_data, np.log(10), alternative='greater')\n",
    "\"statistic: {0:.3f}, p-value: {1:.3f}, {2}가설 채택\".format(s, p, \"대립\" if p < 0.05 else \"귀무\")"
   ]
  },
  {
   "cell_type": "markdown",
   "metadata": {},
   "source": [
    "- 귀무가설 : 보험 가입금액의 평균은 1억원보다 크지 않다.\n",
    "- 대립가설 : 보험 가입금액의 평균은 1억원보다 크다."
   ]
  },
  {
   "cell_type": "markdown",
   "metadata": {},
   "source": [
    "- 결론 : 단일 표본 검정에서 유의확률이 유의수준인 0.05보다 크므로, 보험 가입금액의 모평균이 1억원보다 크지 않다는 귀무가설을 채택한다. 즉, 보험 가입금액의 평균은 1억원보다 크지 않다."
   ]
  },
  {
   "cell_type": "code",
   "execution_count": null,
   "metadata": {},
   "outputs": [],
   "source": []
  }
 ],
 "metadata": {
  "kernelspec": {
   "display_name": "base",
   "language": "python",
   "name": "python3"
  },
  "language_info": {
   "codemirror_mode": {
    "name": "ipython",
    "version": 3
   },
   "file_extension": ".py",
   "mimetype": "text/x-python",
   "name": "python",
   "nbconvert_exporter": "python",
   "pygments_lexer": "ipython3",
   "version": "3.11.5"
  }
 },
 "nbformat": 4,
 "nbformat_minor": 2
}
