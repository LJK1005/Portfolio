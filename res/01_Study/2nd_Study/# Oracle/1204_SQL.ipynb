{
 "cells": [
  {
   "cell_type": "markdown",
   "metadata": {},
   "source": [
    "- DDL : 데이터 정의어\n",
    "- DML : 데이터 조작어\n",
    "- DCL : 데이터 제어어\n",
    "  - 위 3가지 분류는 실무에서는 거의 의미가 없으나 자격증 시험에서는 거의 필수로 나오는 내용"
   ]
  },
  {
   "cell_type": "markdown",
   "metadata": {},
   "source": [
    "- MySQL, Oracle 같은 DBMS는 다른 프로그램의 요청에 따라 데이터의 조회 및 수정 등이 가능\n",
    "  - 본체는 서버가 되며, 외부에서 접근하는 프로그램은 클라이언트\n",
    "    - 본체 DBMS를 DB 서버라고도 함"
   ]
  },
  {
   "cell_type": "markdown",
   "metadata": {},
   "source": [
    "- Excel이 단일 프로그램으로 여러 개의 엑셀 파일을 만들듯이 DBMS도 데이터베이스를 여러개로 나누어 만들 수 있음\n",
    "- Excel이 어떤 엑셀 파일을 열기 위해 더블클릭하여 열듯이 DBMS는 관리하는 데이터베이스를 열어서 데이터에 접근이 가능함\n",
    "- Excel은 시트 단위로 여러개의 표를 관리할 수 있듯이 DBMS는 테이블 단위로 여러개의 표로 된 데이터를 관리할 수 있음"
   ]
  },
  {
   "cell_type": "markdown",
   "metadata": {},
   "source": [
    "- 데이터베이스의 행은 레코드(Record)나 로우(Row)라고 칭하며, 열은 컬럼(Column)이나 필드(Field)라고 칭함 (물리적 DB 용어)\n",
    "  - 논리적 DB와 물리적 DB는 용어가 각기 다르기 떄문에 자격증 준비 시에는 별도로 암기가 필요\n",
    "    - 논리적 DB : 행 = 튜플, 열 = 어트리뷰트"
   ]
  },
  {
   "cell_type": "markdown",
   "metadata": {},
   "source": [
    "- 도메인 지식 : 데이터 자체에 대한 배경지식"
   ]
  },
  {
   "cell_type": "markdown",
   "metadata": {},
   "source": [
    "- DB는 저장할 수 있는 데이터 타입을 사전에 정하고 있으며 해당 타입을 따라서 데이터를 넣어야 함\n",
    "  - 파이썬은 해당 제한에서는 상대적으로 자유로워 데이터 타입 변경이 가능 (강제성이 없는 가이드로서 사전 설정은 가능함, ex) 변수: int 등)"
   ]
  },
  {
   "cell_type": "markdown",
   "metadata": {},
   "source": [
    "- 조회 : select\n",
    "- 입력 : insert\n",
    "- 수정 : update\n",
    "- 삭제 : delete\n",
    "  - 위 명령어들을 DML이라 칭함\n",
    "  - 해당 명령어가 전부가 아닌 첫 번째 호출 단어임"
   ]
  },
  {
   "cell_type": "markdown",
   "metadata": {},
   "source": [
    "- select 문은 *을 사용시 모든 데이터를 호출하므로 실행이 느림\n",
    "  - 조금이라도 빠르게 하기 위해서는 호출할 컬럼 명을 직접 지정해야 함\n",
    "    - 실행 시간은 1초 미만으로 하는 것을 권장"
   ]
  },
  {
   "cell_type": "markdown",
   "metadata": {},
   "source": []
  },
  {
   "cell_type": "markdown",
   "metadata": {},
   "source": []
  },
  {
   "cell_type": "markdown",
   "metadata": {},
   "source": []
  },
  {
   "cell_type": "markdown",
   "metadata": {},
   "source": []
  },
  {
   "cell_type": "markdown",
   "metadata": {},
   "source": []
  },
  {
   "cell_type": "markdown",
   "metadata": {},
   "source": []
  },
  {
   "cell_type": "markdown",
   "metadata": {},
   "source": []
  },
  {
   "cell_type": "markdown",
   "metadata": {},
   "source": []
  },
  {
   "cell_type": "markdown",
   "metadata": {},
   "source": []
  }
 ],
 "metadata": {
  "language_info": {
   "name": "python"
  }
 },
 "nbformat": 4,
 "nbformat_minor": 2
}
