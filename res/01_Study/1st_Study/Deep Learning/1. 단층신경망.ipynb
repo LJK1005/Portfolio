{
 "cells": [
  {
   "cell_type": "code",
   "execution_count": null,
   "id": "c56bb4e8",
   "metadata": {},
   "outputs": [],
   "source": [
    "from tensorflow import keras\n",
    "import matplotlib.pyplot as plt\n",
    "import numpy as np\n",
    "from sklearn.model_selection import cross_validate, train_test_split\n",
    "from sklearn.linear_model import SGDClassifier"
   ]
  },
  {
   "cell_type": "code",
   "execution_count": null,
   "id": "d0d20813",
   "metadata": {
    "scrolled": true
   },
   "outputs": [],
   "source": [
    "from tensorflow.python.client import device_lib\n",
    "device_lib.list_local_devices()"
   ]
  },
  {
   "cell_type": "markdown",
   "id": "3dcb944b",
   "metadata": {},
   "source": [
    "# 데이터 확인"
   ]
  },
  {
   "cell_type": "code",
   "execution_count": null,
   "id": "95405367",
   "metadata": {},
   "outputs": [],
   "source": [
    "# 패션 MNIST 데이터 로드\n",
    "(x_train, y_train), (x_test, y_test) = keras.datasets.fashion_mnist.load_data()"
   ]
  },
  {
   "cell_type": "code",
   "execution_count": null,
   "id": "4f00b635",
   "metadata": {},
   "outputs": [],
   "source": [
    "# load된 훈련데이터 확인\n",
    "print(x_train.shape, y_train.shape)"
   ]
  },
  {
   "cell_type": "markdown",
   "id": "02bc62ba",
   "metadata": {},
   "source": [
    "- 훈련 데이터는 60000개의 이미지로 이루어져 있음\n",
    "- 각 이미지의 크기는 28 x 28\n",
    "- 타깃은 60000개의 원소가 있는 1차원 배열"
   ]
  },
  {
   "cell_type": "code",
   "execution_count": null,
   "id": "65476c16",
   "metadata": {},
   "outputs": [],
   "source": [
    "# 테스트 데이터 확인\n",
    "print(x_test.shape, y_test.shape)"
   ]
  },
  {
   "cell_type": "code",
   "execution_count": null,
   "id": "ab57f708",
   "metadata": {},
   "outputs": [],
   "source": [
    "np.unique(x_test)"
   ]
  },
  {
   "cell_type": "code",
   "execution_count": null,
   "id": "37d594b8",
   "metadata": {},
   "outputs": [],
   "source": [
    "# 샘플 이미지 확인\n",
    "fig, axs = plt.subplots(1, 10, figsize = (15, 15))\n",
    "\n",
    "for i in range(10):\n",
    "    axs[i].imshow(x_train[i], cmap = \"gray_r\")\n",
    "    axs[i].axis(\"off\")\n",
    "plt.show()"
   ]
  },
  {
   "cell_type": "code",
   "execution_count": null,
   "id": "4089899d",
   "metadata": {},
   "outputs": [],
   "source": [
    "# 종속변수 확인\n",
    "print([y_train[i] for i in range(10)])"
   ]
  },
  {
   "cell_type": "markdown",
   "id": "bc3d0c74",
   "metadata": {},
   "source": [
    "- 패션 MNIST 레이블의 의미\n",
    "    - 0 : 티셔츠\n",
    "    - 1 : 바지\n",
    "    - 2 : 스웨터\n",
    "    - 3 : 드레스\n",
    "    - 4 : 코트\n",
    "    - 5 : 샌달\n",
    "    - 6 : 셔츠\n",
    "    - 7 : 스니커즈\n",
    "    - 8 : 가방\n",
    "    - 9 : 앵클부츠"
   ]
  },
  {
   "cell_type": "code",
   "execution_count": null,
   "id": "b6dc6c2b",
   "metadata": {},
   "outputs": [],
   "source": [
    "# 각 레이블 당 샘플 개수 확인\n",
    "print(np.unique(y_train, return_counts = True))"
   ]
  },
  {
   "cell_type": "markdown",
   "id": "1811236c",
   "metadata": {},
   "source": [
    "- 0 ~ 9까지 레이블마다 정확히 6000개의 샘플이 들어 있음"
   ]
  },
  {
   "cell_type": "markdown",
   "id": "da1995fe",
   "metadata": {},
   "source": [
    "# 확률적 경사하강법으로 패션 아이템 분류"
   ]
  },
  {
   "cell_type": "code",
   "execution_count": null,
   "id": "bfb240d3",
   "metadata": {},
   "outputs": [],
   "source": [
    "# SGDClassifier는 2차원 데이터 입력을 다루지 못하기 때문에 데이터를 1차원 배열로 변환\n",
    "scaled_train = x_train / 255.0\n",
    "scaled_train = scaled_train.reshape(-1, 28*28)"
   ]
  },
  {
   "cell_type": "code",
   "execution_count": null,
   "id": "40d3e59a",
   "metadata": {},
   "outputs": [],
   "source": [
    "print(scaled_train.shape)"
   ]
  },
  {
   "cell_type": "code",
   "execution_count": null,
   "id": "d5422efc",
   "metadata": {},
   "outputs": [],
   "source": [
    "sgd = SGDClassifier(loss = \"log\", max_iter = 5, random_state = 4)\n",
    "scores = cross_validate(sgd, scaled_train, y_train, n_jobs = -1)\n",
    "print(np.mean(scores[\"test_score\"]))"
   ]
  },
  {
   "cell_type": "markdown",
   "id": "dc8ef7de",
   "metadata": {},
   "source": [
    "# 인공신경망\n",
    "\n",
    "- 로지스틱 회귀식\n",
    "    - z_티셔츠 = w1 * 픽셀1 + w2 * 픽셀2 + ... + w784 * 픽셀784 + b (y절편)\n",
    "    - z_바지 = w1' * 픽셀1 + w2' * 픽셀2 + ... + w784' * 픽셀784 + b' (y절편)"
   ]
  },
  {
   "cell_type": "markdown",
   "id": "c42340ac",
   "metadata": {},
   "source": [
    "- 로지스틱 회귀\n",
    "<img src = \"./img/logistic_ann.png\">"
   ]
  },
  {
   "cell_type": "markdown",
   "id": "d439b78a",
   "metadata": {},
   "source": [
    "- 인공신경망\n",
    "\n",
    "<img src = \"./img/neuron-node.png\">"
   ]
  },
  {
   "cell_type": "markdown",
   "id": "0010f3b0",
   "metadata": {},
   "source": [
    "- 활성화 함수 자리에 로지스틱 회귀의 softmax가 들어가므로 z1 ~ z10까지 레이블에 대한 확률값을 계산\n",
    "    - 이 z1 ~ z10까지의 뉴런을 바탕으로 클래스를 예측하기 때문에 신경망의 최종값을 만든다는 의미에서 출력층(output layer)라고 부름\n",
    "    \n",
    "- 인공신경망에서는 z값을 계산하는 단위를 뉴런(neuron)이라고 불렀음\n",
    "    - 현재는 뉴런 대신에 유닛(unit)이라는 표현을 사용\n",
    "    \n",
    "- x1 ~ x784 까지를 입력층(input layer)라고 부름\n",
    "    - 입력층은 픽셀값 그 자체이고 특별한 계산을 수행하지는 않음\n",
    "    \n",
    "- 인공 신경망은 1943년 워런 매컬러(Warren McCulloch)와 월터 피츠(Walter Pitts)가 제안한 뉴런 모델로부터 시작됨\n",
    "    - 이를 매컬러-피츠 뉴런 이라고 부름\n",
    "    - 인공 뉴런은 생물학적 뉴런에서 영감을 얻어 만들어짐\n",
    "    \n",
    "1. 생물학적 뉴런은 수상 돌기로부터 신호를 받아 세포체에 모음\n",
    "2. 신호가 어떤 임곗값에 도달하면 축삭 돌기를 통하여 다른 세포에 신호를 전달"
   ]
  },
  {
   "cell_type": "markdown",
   "id": "9c5e589f",
   "metadata": {},
   "source": [
    "## 텐서플로와 케라스\n",
    "\n",
    "- 텐서플로\n",
    "    - 텐서플로는 구글이 2015년 11월 오픈소스로 공개한 딥러닝 라이브러리\n",
    "    - 기본 자료 구조 : Tensor\n",
    "    - Tensor는 다차원 행렬 계산이다\n",
    "    - 라이센스 apache 2.0을 따르기 때문에 상용화, 상업화가 가능\n",
    "    - 방대한 자료\n",
    "    - C++ 코어로 개발\n",
    "    - 공식사이트\n",
    "        - https://www.tensorflow.org\n",
    "    - 구동원리\n",
    "        - 파이썬에서 무거운 작업을 독립적으로 수행하지 않음\n",
    "        - 상호연관있는 수행 작업들을 그래프로 기술하고\n",
    "        - 연산은 파이썬의 바깥쪽, 텐서플로우에서 처리\n",
    "        \n",
    "- 케라스\n",
    "    - 텐서플로의 고수준 API\n",
    "        - 엔진이 아니라 인터페이스\n",
    "        - 현재는 텐서플로우에 keras가 들어가있음"
   ]
  },
  {
   "cell_type": "markdown",
   "id": "0eaafb2c",
   "metadata": {},
   "source": [
    "# pyTorch(파이토치)\n",
    "\n",
    "- 개요\n",
    "    - python/C++/Java 딥러닝 구현을 위한 오픈소스 라이브러리\n",
    "    - gpu 지원은 nvidia만 가능(CUDA만 사용가능)\n",
    "    - Lua(루아, 핵심사용언어), C++ 등으로 개발\n",
    "    - Facebook 인공지능팀 개발(= 뉴욕대 협업)\n",
    "    - 장점\n",
    "        - 복잡하고, 계산양이 많은 그래프를 쉽게 구성함\n",
    "        - 계산 그래프를 확용하면 미분/적분도 간단하게 처리\n",
    "        - GPU 연산을 손쉽게 활용하여 빠른 처리가 가능\n",
    "        \n",
    "- 특징\n",
    "    - numpy를 기반으로 Tensor연산을 GPU로 수행가능\n",
    "    - 자동 미분 시스템을 이용하여, 모델을 손쉽게 구성\n",
    "    - 같이 활용되는 python 패키지\n",
    "        - Scipy\n",
    "        - Numpy\n",
    "        - Cython : 파이썬의 빠른 생산성, 외부 C 라이브러리와 간결하게 연동, 실행속도를 향상\n",
    "    - 학습, 추론속도가 빠르고 다루기도 쉬움"
   ]
  },
  {
   "cell_type": "markdown",
   "id": "7da4f2be",
   "metadata": {},
   "source": [
    "## 딥러닝 라이브러리와 머신러닝 라이브러리의 차이\n",
    "\n",
    "- 그래픽 처리 장치인 GPU를 사용하여 인공 신경망을 훈련\n",
    "    - GPU는 벡터와 행렬 연산에 최적화되어 있기 때문에 곱셈과 덧셈이 많이 수행되는 인공 신경망에 큰 도움이 됨"
   ]
  },
  {
   "cell_type": "code",
   "execution_count": null,
   "id": "7879857b",
   "metadata": {},
   "outputs": [],
   "source": [
    "# 위에서 만든 데이터를 그대로 활용하여 검증세트 나누기\n",
    "scaled_train, scaled_val, y_train, y_val = train_test_split(scaled_train, y_train, test_size = 0.2, random_state = 4)"
   ]
  },
  {
   "cell_type": "code",
   "execution_count": null,
   "id": "77658739",
   "metadata": {},
   "outputs": [],
   "source": [
    "print(scaled_train.shape, y_train.shape)"
   ]
  },
  {
   "cell_type": "code",
   "execution_count": null,
   "id": "f33d6b64",
   "metadata": {},
   "outputs": [],
   "source": [
    "print(scaled_val.shape, y_val.shape)"
   ]
  },
  {
   "cell_type": "markdown",
   "id": "88af7582",
   "metadata": {},
   "source": [
    "## 밀집층(dense layer)\n",
    "\n",
    "- 784개의 픽셀과 10개의 출력층 뉴런이 모두 연결되는 층\n",
    "- 양쪽의 뉴런이 모두 연결하고 있기 때문에 완전 연결층(fully connected layer, 전결합층)이라고도 부름"
   ]
  },
  {
   "cell_type": "code",
   "execution_count": null,
   "id": "b83e34bd",
   "metadata": {},
   "outputs": [],
   "source": [
    "# Dense 클래스의 매개변수 = 뉴런 개수, 출력에 적용할 활성화 함수, 입력의 크기\n",
    "dense = keras.layers.Dense(10, activation = \"softmax\", input_shape = (784,))"
   ]
  },
  {
   "cell_type": "markdown",
   "id": "5286e879",
   "metadata": {},
   "source": [
    "- 뉴련 개수 = 10\n",
    "    - 10개의 레이블이 존재하기 때문\n",
    "    \n",
    "- 활성화함수 = softmax\n",
    "    - 10개의 뉴런에서 출력되는 값을 확률값으로 바꾸기 위해서 softmax 사용\n",
    "    - 만약에 이진분류 문제라면 활성화함수를 시그모이드 함수로 설정하는 것도 가능\n",
    "        - activasion = \"sigmoid\"\n",
    "        \n",
    "- 입력 크기 = (784, )\n",
    "    - 10개의 뉴런이 각각 몇개의 입력을 받는지 튜플로 지정\n",
    "    - 현재 예제에서는 784개의 픽셀값 1차원으로 받기 때문에 (784, )를 입력"
   ]
  },
  {
   "cell_type": "code",
   "execution_count": null,
   "id": "46ad9ce5",
   "metadata": {},
   "outputs": [],
   "source": [
    "# 신경망 모델을 생성\n",
    "model = keras.Sequential()"
   ]
  },
  {
   "cell_type": "code",
   "execution_count": null,
   "id": "b4bf4442",
   "metadata": {},
   "outputs": [],
   "source": [
    "# 신경망 모델에 밀집층을 추가\n",
    "model.add(dense)"
   ]
  },
  {
   "cell_type": "code",
   "execution_count": null,
   "id": "2c61ab47",
   "metadata": {},
   "outputs": [],
   "source": [
    "# 모델 구조 확인\n",
    "model.summary()"
   ]
  },
  {
   "cell_type": "code",
   "execution_count": null,
   "id": "435f6f5d",
   "metadata": {},
   "outputs": [],
   "source": [
    "# 모델을 학습시키기 위한 학습과정을 설정\n",
    "model.compile(loss = \"sparse_categorical_crossentropy\", metrics = \"accuracy\")"
   ]
  },
  {
   "cell_type": "markdown",
   "id": "a5e8b8e6",
   "metadata": {},
   "source": [
    "- loss = \"sparse_categorical_crossentropy\"\n",
    "    - sparse_categorical_crossentropy : 다중 분류에서 주로 사용하는 손실 함수\n",
    "        - 정답의 확률값을 1에 가깝게, 오답의 확률값을 0에 가깝게 만들도록 유도하는 손실 함수\n",
    "    - 이진분류에서는 binary_crossentropy를 사용\n",
    "    \n",
    "- metrics = \"accuracy\"\n",
    "    - 케라스는 모델이 훈련할 때 기본적으로 매 에포크마다 손실 값을 출력해줌\n",
    "    - 손실 값 외에 정확도를 함께 출력해주기 위해 정확도를 나타낼 지표 accuracy를 지정"
   ]
  },
  {
   "cell_type": "code",
   "execution_count": null,
   "id": "4c16db34",
   "metadata": {},
   "outputs": [],
   "source": [
    "model.fit(scaled_train, y_train, epochs = 5)"
   ]
  },
  {
   "cell_type": "code",
   "execution_count": null,
   "id": "d27f16be",
   "metadata": {},
   "outputs": [],
   "source": [
    "# 검증데이터로 성능 평가\n",
    "model.evaluate(scaled_val, y_val)"
   ]
  },
  {
   "cell_type": "code",
   "execution_count": null,
   "id": "a4fa54ab",
   "metadata": {},
   "outputs": [],
   "source": []
  }
 ],
 "metadata": {
  "kernelspec": {
   "display_name": "Python 3 (ipykernel)",
   "language": "python",
   "name": "python3"
  },
  "language_info": {
   "codemirror_mode": {
    "name": "ipython",
    "version": 3
   },
   "file_extension": ".py",
   "mimetype": "text/x-python",
   "name": "python",
   "nbconvert_exporter": "python",
   "pygments_lexer": "ipython3",
   "version": "3.10.9"
  }
 },
 "nbformat": 4,
 "nbformat_minor": 5
}
