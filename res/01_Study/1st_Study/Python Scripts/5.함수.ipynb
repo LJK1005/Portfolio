{
 "cells": [
  {
   "cell_type": "markdown",
   "id": "b42a1a9d",
   "metadata": {},
   "source": [
    "# 파이썬 함수의 구조\n",
    "\n",
    "```\n",
    "def 함수명(매개변수):\n",
    "    <수행할 문장>\n",
    "```"
   ]
  },
  {
   "cell_type": "code",
   "execution_count": 1,
   "id": "1417423c",
   "metadata": {},
   "outputs": [],
   "source": [
    "# welcome 함수 정의\n",
    "def welcome():\n",
    "    print(\"Hello!\")\n",
    "    print(\"Nice to meet you\")"
   ]
  },
  {
   "cell_type": "code",
   "execution_count": 13,
   "id": "bbf2a448",
   "metadata": {},
   "outputs": [
    {
     "name": "stdout",
     "output_type": "stream",
     "text": [
      "Hello!\n",
      "Nice to meet you\n"
     ]
    }
   ],
   "source": [
    "welcome()"
   ]
  },
  {
   "cell_type": "code",
   "execution_count": 14,
   "id": "9298dee2",
   "metadata": {},
   "outputs": [],
   "source": [
    "# add 함수 정의\n",
    "def add(a, b):\n",
    "    return a + b"
   ]
  },
  {
   "cell_type": "code",
   "execution_count": 16,
   "id": "df02c54c",
   "metadata": {},
   "outputs": [
    {
     "name": "stdout",
     "output_type": "stream",
     "text": [
      "7\n"
     ]
    }
   ],
   "source": [
    "a = 3\n",
    "b = 4\n",
    "c = add(a, b)\n",
    "print(c)"
   ]
  },
  {
   "cell_type": "markdown",
   "id": "b789f002",
   "metadata": {},
   "source": [
    "## 함수 사용의 장점\n",
    "\n",
    "- 코드의 용도를 구분\n",
    "- 코드 재사용이 용이\n",
    "- 실수를 방지(오타 등)"
   ]
  },
  {
   "cell_type": "markdown",
   "id": "847db43b",
   "metadata": {},
   "source": [
    "## 매개변수와 인수\n",
    "\n",
    "- 매개변수 : 함수에 입력으로 전달된 값을 받는 변수\n",
    "- 인수: 함수를 호출할 때 전달하는 입력값\n",
    "- 인수와 매개변수는 다른 개념이지만 함수가 호출된 뒤에는 구분이 모호해지므로 구분하지 않는 경우도 있음\n",
    "\n",
    "```\n",
    "def 함수(매개변수):\n",
    "    <수행할 문장>\n",
    "    \n",
    "함수(인수)\n",
    "```\n",
    "\n",
    "- 함수의 처리과정\n",
    "    - 입력값 -> 함수 -> 결괏값\n",
    "    \n",
    "- 함수의 사용법\n",
    "    - 결괏값을 받을 변수 = 함수이름(입력인수1, 입력인수2...)"
   ]
  },
  {
   "cell_type": "markdown",
   "id": "8b9c3bf9",
   "metadata": {},
   "source": [
    "### 입력값이 없는 함수\n",
    "\n",
    "- 입력값이 없는 함수 사용법\n",
    "    - 결괏값을 받을 변수 = 함수 이름()"
   ]
  },
  {
   "cell_type": "code",
   "execution_count": 17,
   "id": "c89fbfa2",
   "metadata": {},
   "outputs": [],
   "source": [
    "def say():\n",
    "    return \"Hi\""
   ]
  },
  {
   "cell_type": "code",
   "execution_count": 18,
   "id": "1b61e012",
   "metadata": {},
   "outputs": [
    {
     "name": "stdout",
     "output_type": "stream",
     "text": [
      "Hi\n"
     ]
    }
   ],
   "source": [
    "a = say()\n",
    "print(a)"
   ]
  },
  {
   "cell_type": "markdown",
   "id": "cd94ec15",
   "metadata": {},
   "source": [
    "### 결괏값이 없는 함수\n",
    "\n",
    "- 결괏값이 없는 함수 사용법\n",
    "    - 함수이름(입력인수1, 입력인수2...)"
   ]
  },
  {
   "cell_type": "code",
   "execution_count": 21,
   "id": "907e7dd3",
   "metadata": {},
   "outputs": [],
   "source": [
    "def add(a, b):\n",
    "    print(f\"{a}, {b}의 합은 {a + b}입니다\")"
   ]
  },
  {
   "cell_type": "code",
   "execution_count": 25,
   "id": "98f7b588",
   "metadata": {},
   "outputs": [
    {
     "name": "stdout",
     "output_type": "stream",
     "text": [
      "3, 4의 합은 7입니다\n"
     ]
    }
   ],
   "source": [
    "add(3,4)"
   ]
  },
  {
   "cell_type": "code",
   "execution_count": 27,
   "id": "c205deaa",
   "metadata": {},
   "outputs": [
    {
     "name": "stdout",
     "output_type": "stream",
     "text": [
      "3, 4의 합은 7입니다\n",
      "None\n"
     ]
    }
   ],
   "source": [
    "# 결괏값 확인\n",
    "a = add(3,4)\n",
    "print(a)"
   ]
  },
  {
   "cell_type": "markdown",
   "id": "d420e623",
   "metadata": {},
   "source": [
    "### 입력값도 결괏값도 없는 함수\n",
    "\n",
    "- 사용법\n",
    "    - 함수이름()"
   ]
  },
  {
   "cell_type": "code",
   "execution_count": 32,
   "id": "47a9e595",
   "metadata": {},
   "outputs": [],
   "source": [
    "def say():\n",
    "    print(\"Hi\")"
   ]
  },
  {
   "cell_type": "code",
   "execution_count": 33,
   "id": "d87a1d3f",
   "metadata": {},
   "outputs": [
    {
     "name": "stdout",
     "output_type": "stream",
     "text": [
      "Hi\n"
     ]
    }
   ],
   "source": [
    "say()"
   ]
  },
  {
   "cell_type": "markdown",
   "id": "4037ac25",
   "metadata": {},
   "source": [
    "### 매개변수 지정하여 호출하기"
   ]
  },
  {
   "cell_type": "code",
   "execution_count": 34,
   "id": "d2d6ca95",
   "metadata": {},
   "outputs": [
    {
     "name": "stdout",
     "output_type": "stream",
     "text": [
      "3, 7의 합은 10입니다\n"
     ]
    }
   ],
   "source": [
    "add(a = 3, b = 7)"
   ]
  },
  {
   "cell_type": "code",
   "execution_count": 35,
   "id": "0cf96a7c",
   "metadata": {},
   "outputs": [
    {
     "name": "stdout",
     "output_type": "stream",
     "text": [
      "3, 5의 합은 8입니다\n"
     ]
    }
   ],
   "source": [
    "add(b = 5, a = 3)"
   ]
  },
  {
   "cell_type": "markdown",
   "id": "5be62a39",
   "metadata": {},
   "source": [
    "# 함수의 결괏값"
   ]
  },
  {
   "cell_type": "code",
   "execution_count": 36,
   "id": "c2007e07",
   "metadata": {},
   "outputs": [],
   "source": [
    "def add_and_mul(a, b):\n",
    "    return a + b, a * b"
   ]
  },
  {
   "cell_type": "code",
   "execution_count": 41,
   "id": "fa2e3e08",
   "metadata": {
    "scrolled": false
   },
   "outputs": [
    {
     "name": "stdout",
     "output_type": "stream",
     "text": [
      "(7, 12)\n"
     ]
    }
   ],
   "source": [
    "result = add_and_mul(3, 4)\n",
    "\n",
    "# 함수의 결괏값은 2개가 아니라 하나의 튜플로 반환되었음\n",
    "print(result)"
   ]
  },
  {
   "cell_type": "code",
   "execution_count": 45,
   "id": "d58c3b6a",
   "metadata": {
    "scrolled": true
   },
   "outputs": [
    {
     "name": "stdout",
     "output_type": "stream",
     "text": [
      "12\n",
      "35\n"
     ]
    }
   ],
   "source": [
    "# 여러개의 변수에 각각 스칼라값을 지정하고 싶을 경우\n",
    "result1, result2 = add_and_mul(5, 7)\n",
    "print(result1)\n",
    "print(result2)"
   ]
  },
  {
   "cell_type": "code",
   "execution_count": 48,
   "id": "24888268",
   "metadata": {},
   "outputs": [],
   "source": [
    "def add_and_mul(a, b):\n",
    "    return a + b\n",
    "    return a * b"
   ]
  },
  {
   "cell_type": "code",
   "execution_count": 50,
   "id": "d874e3c1",
   "metadata": {
    "scrolled": false
   },
   "outputs": [
    {
     "name": "stdout",
     "output_type": "stream",
     "text": [
      "5\n"
     ]
    }
   ],
   "source": [
    "# 함수는 return을 만나는 순간 함수 실행이 종료됨\n",
    "result = add_and_mul(2, 3)\n",
    "print(result)"
   ]
  },
  {
   "cell_type": "markdown",
   "id": "829adb36",
   "metadata": {},
   "source": [
    "### return\n",
    "\n",
    "- 함수를 종료시키고 싶을 때 사용할 수도 있음"
   ]
  },
  {
   "cell_type": "code",
   "execution_count": 53,
   "id": "fe64e84f",
   "metadata": {},
   "outputs": [],
   "source": [
    "def say_nick(nick):\n",
    "    if nick == \"바보\":\n",
    "        return\n",
    "    print(f\"나의 별명은 {nick} 입니다\")"
   ]
  },
  {
   "cell_type": "code",
   "execution_count": 54,
   "id": "a61c262c",
   "metadata": {
    "scrolled": true
   },
   "outputs": [
    {
     "name": "stdout",
     "output_type": "stream",
     "text": [
      "나의 별명은 야호 입니다\n"
     ]
    }
   ],
   "source": [
    "say_nick(\"야호\")"
   ]
  },
  {
   "cell_type": "code",
   "execution_count": 55,
   "id": "06f9fc98",
   "metadata": {},
   "outputs": [],
   "source": [
    "say_nick(\"바보\")"
   ]
  },
  {
   "cell_type": "markdown",
   "id": "f025b5d7",
   "metadata": {},
   "source": [
    "# 디폴트 매개변수\n",
    "\n",
    "- 매개변수로 전달되는 인수가 없는 경우에 기본적으로 사용하는 기본값"
   ]
  },
  {
   "cell_type": "code",
   "execution_count": 57,
   "id": "e84ecb74",
   "metadata": {},
   "outputs": [],
   "source": [
    "def say_myself(name, old, man = True):\n",
    "    print(f\"나의 이름은 {name} 입니다\")\n",
    "    print(f\"나이는 {old} 살입니다\")\n",
    "    \n",
    "    if man:\n",
    "        print(\"남자입니다\")\n",
    "    else:\n",
    "        print(\"여자입니다\")"
   ]
  },
  {
   "cell_type": "code",
   "execution_count": 64,
   "id": "92582171",
   "metadata": {},
   "outputs": [
    {
     "name": "stdout",
     "output_type": "stream",
     "text": [
      "나의 이름은 파이썬 입니다\n",
      "나이는 27 살입니다\n",
      "남자입니다\n"
     ]
    }
   ],
   "source": [
    "say_myself(\"파이썬\", 27)"
   ]
  },
  {
   "cell_type": "code",
   "execution_count": 66,
   "id": "47a96a0d",
   "metadata": {},
   "outputs": [
    {
     "name": "stdout",
     "output_type": "stream",
     "text": [
      "나의 이름은 파이썬 입니다\n",
      "나이는 27 살입니다\n",
      "남자입니다\n"
     ]
    }
   ],
   "source": [
    "say_myself(\"파이썬\", 27, True)"
   ]
  },
  {
   "cell_type": "code",
   "execution_count": 67,
   "id": "9d9be07c",
   "metadata": {},
   "outputs": [
    {
     "name": "stdout",
     "output_type": "stream",
     "text": [
      "나의 이름은 파이썬 입니다\n",
      "나이는 27 살입니다\n",
      "여자입니다\n"
     ]
    }
   ],
   "source": [
    "say_myself(\"파이썬\", 27, False)"
   ]
  },
  {
   "cell_type": "markdown",
   "id": "3fa33271",
   "metadata": {},
   "source": [
    "## 디폴트 매개변수의 위치"
   ]
  },
  {
   "cell_type": "code",
   "execution_count": 68,
   "id": "6d6351a1",
   "metadata": {},
   "outputs": [
    {
     "ename": "SyntaxError",
     "evalue": "non-default argument follows default argument (3844631972.py, line 1)",
     "output_type": "error",
     "traceback": [
      "\u001b[1;36m  Cell \u001b[1;32mIn[68], line 1\u001b[1;36m\u001b[0m\n\u001b[1;33m    def say_myself(name, man = True, old):\u001b[0m\n\u001b[1;37m                                     ^\u001b[0m\n\u001b[1;31mSyntaxError\u001b[0m\u001b[1;31m:\u001b[0m non-default argument follows default argument\n"
     ]
    }
   ],
   "source": [
    "# 파이썬은 인수를 어디에 대입해야할지 알 수 없음\n",
    "def say_myself(name, man = True, old):\n",
    "    print(f\"나의 이름은 {name} 입니다\")\n",
    "    print(f\"나이는 {old} 살입니다\")\n",
    "    \n",
    "    if man:\n",
    "        print(\"남자입니다\")\n",
    "    else:\n",
    "        print(\"여자입니다\")"
   ]
  },
  {
   "cell_type": "code",
   "execution_count": 69,
   "id": "e2e789d1",
   "metadata": {},
   "outputs": [
    {
     "name": "stdout",
     "output_type": "stream",
     "text": [
      "나의 이름은 파이썬 입니다\n",
      "나이는 27 살입니다\n",
      "남자입니다\n"
     ]
    }
   ],
   "source": [
    "say_myself(\"파이썬\", 27)"
   ]
  },
  {
   "cell_type": "markdown",
   "id": "eccfa47e",
   "metadata": {},
   "source": [
    "# 지역변수와 전역변수\n",
    "\n",
    "- 지역변수\n",
    "    - 함수 내부에서 선언한 변수는 함수 내부에서만 사용할 수 있는 변수가 됨\n",
    "    - 함수 외부에서는 지역변수에 접근할 수 없음\n",
    "    \n",
    "- 전역변수\n",
    "    - 함수 외부에서 선안한 변수는 함수 내부에서도 사용 가능"
   ]
  },
  {
   "cell_type": "code",
   "execution_count": 4,
   "id": "1346e80a",
   "metadata": {},
   "outputs": [],
   "source": [
    "def vartest():\n",
    "    var = 10\n",
    "    print(var)"
   ]
  },
  {
   "cell_type": "code",
   "execution_count": 5,
   "id": "3b9452b1",
   "metadata": {},
   "outputs": [
    {
     "ename": "NameError",
     "evalue": "name 'var' is not defined",
     "output_type": "error",
     "traceback": [
      "\u001b[1;31m---------------------------------------------------------------------------\u001b[0m",
      "\u001b[1;31mNameError\u001b[0m                                 Traceback (most recent call last)",
      "Cell \u001b[1;32mIn[5], line 1\u001b[0m\n\u001b[1;32m----> 1\u001b[0m \u001b[43mvar\u001b[49m\n",
      "\u001b[1;31mNameError\u001b[0m: name 'var' is not defined"
     ]
    }
   ],
   "source": [
    "var"
   ]
  },
  {
   "cell_type": "code",
   "execution_count": 6,
   "id": "1623cc20",
   "metadata": {},
   "outputs": [
    {
     "name": "stdout",
     "output_type": "stream",
     "text": [
      "10\n"
     ]
    }
   ],
   "source": [
    "vartest()"
   ]
  },
  {
   "cell_type": "code",
   "execution_count": 7,
   "id": "affd1f10",
   "metadata": {},
   "outputs": [
    {
     "ename": "NameError",
     "evalue": "name 'var' is not defined",
     "output_type": "error",
     "traceback": [
      "\u001b[1;31m---------------------------------------------------------------------------\u001b[0m",
      "\u001b[1;31mNameError\u001b[0m                                 Traceback (most recent call last)",
      "Cell \u001b[1;32mIn[7], line 1\u001b[0m\n\u001b[1;32m----> 1\u001b[0m \u001b[43mvar\u001b[49m\n",
      "\u001b[1;31mNameError\u001b[0m: name 'var' is not defined"
     ]
    }
   ],
   "source": [
    "var"
   ]
  },
  {
   "cell_type": "code",
   "execution_count": 12,
   "id": "6324e551",
   "metadata": {},
   "outputs": [],
   "source": [
    "var2 = 10"
   ]
  },
  {
   "cell_type": "code",
   "execution_count": 13,
   "id": "b413863f",
   "metadata": {},
   "outputs": [],
   "source": [
    "def var2test():\n",
    "    print(var2)"
   ]
  },
  {
   "cell_type": "code",
   "execution_count": 14,
   "id": "38d9a280",
   "metadata": {},
   "outputs": [
    {
     "name": "stdout",
     "output_type": "stream",
     "text": [
      "10\n"
     ]
    }
   ],
   "source": [
    "var2test()"
   ]
  },
  {
   "cell_type": "markdown",
   "id": "599869de",
   "metadata": {},
   "source": [
    "### 전역변수를 함수 내부에서 사용하는 경우\n",
    "\n",
    "- 단순 참조\n",
    "- 전역변수의 값을 변경(비추천)"
   ]
  },
  {
   "cell_type": "code",
   "execution_count": 15,
   "id": "a19e4d31",
   "metadata": {},
   "outputs": [],
   "source": [
    "a = 0"
   ]
  },
  {
   "cell_type": "code",
   "execution_count": 16,
   "id": "8b837cc6",
   "metadata": {},
   "outputs": [],
   "source": [
    "def f():\n",
    "    a = 10\n",
    "    print(a)"
   ]
  },
  {
   "cell_type": "code",
   "execution_count": 17,
   "id": "673dfb21",
   "metadata": {},
   "outputs": [
    {
     "name": "stdout",
     "output_type": "stream",
     "text": [
      "10\n"
     ]
    }
   ],
   "source": [
    "f()"
   ]
  },
  {
   "cell_type": "code",
   "execution_count": 18,
   "id": "3fffa7a0",
   "metadata": {},
   "outputs": [
    {
     "name": "stdout",
     "output_type": "stream",
     "text": [
      "0\n"
     ]
    }
   ],
   "source": [
    "print(a)"
   ]
  },
  {
   "cell_type": "code",
   "execution_count": 35,
   "id": "0de47a39",
   "metadata": {},
   "outputs": [],
   "source": [
    "a = 0\n",
    "\n",
    "def f():\n",
    "    global a # 전역변수 a를 사용하겠다\n",
    "    a = 10\n",
    "    print(a)"
   ]
  },
  {
   "cell_type": "code",
   "execution_count": 36,
   "id": "a8ed0fa7",
   "metadata": {},
   "outputs": [
    {
     "name": "stdout",
     "output_type": "stream",
     "text": [
      "10\n"
     ]
    }
   ],
   "source": [
    "f()"
   ]
  },
  {
   "cell_type": "code",
   "execution_count": 39,
   "id": "faa2cdd9",
   "metadata": {},
   "outputs": [
    {
     "data": {
      "text/plain": [
       "10"
      ]
     },
     "execution_count": 39,
     "metadata": {},
     "output_type": "execute_result"
    }
   ],
   "source": [
    "a"
   ]
  },
  {
   "cell_type": "code",
   "execution_count": 52,
   "id": "74da2c3b",
   "metadata": {},
   "outputs": [],
   "source": [
    "a = 5\n",
    "\n",
    "def g():\n",
    "    b = 1999\n",
    "    return b"
   ]
  },
  {
   "cell_type": "code",
   "execution_count": 53,
   "id": "5c01e81e",
   "metadata": {
    "scrolled": false
   },
   "outputs": [],
   "source": [
    "a = g()"
   ]
  },
  {
   "cell_type": "code",
   "execution_count": 54,
   "id": "e8f8e28c",
   "metadata": {},
   "outputs": [
    {
     "data": {
      "text/plain": [
       "1999"
      ]
     },
     "execution_count": 54,
     "metadata": {},
     "output_type": "execute_result"
    }
   ],
   "source": [
    "a"
   ]
  },
  {
   "cell_type": "markdown",
   "id": "3cac68a8",
   "metadata": {},
   "source": [
    "# 연습문제"
   ]
  },
  {
   "cell_type": "code",
   "execution_count": 46,
   "id": "280f2856",
   "metadata": {},
   "outputs": [],
   "source": [
    "# 1. 몫과 나머지를 구하는 함수를 작성하기\n",
    "# 입력값 : 10, 3\n",
    "# 결과값 : 3, 1\n",
    "\n",
    "def function1(a, b):\n",
    "    return a // b, a % b"
   ]
  },
  {
   "cell_type": "code",
   "execution_count": 47,
   "id": "6933994b",
   "metadata": {},
   "outputs": [
    {
     "data": {
      "text/plain": [
       "(3, 1)"
      ]
     },
     "execution_count": 47,
     "metadata": {},
     "output_type": "execute_result"
    }
   ],
   "source": [
    "function1(10, 3)"
   ]
  },
  {
   "cell_type": "code",
   "execution_count": 55,
   "id": "c20f2381",
   "metadata": {},
   "outputs": [],
   "source": [
    "# 2. 주어진 자연수가 홀수인지 짝수인지 판별해주는 함수를 작성하기\n",
    "# 함수명 : is_odd\n",
    "# 예) 3이 입력되면 True 4가 입력되면 False\n",
    "\n",
    "def is_odd(a):\n",
    "    if a % 2:\n",
    "        return True\n",
    "    else:\n",
    "        return False"
   ]
  },
  {
   "cell_type": "code",
   "execution_count": 56,
   "id": "86dd1f2b",
   "metadata": {},
   "outputs": [
    {
     "data": {
      "text/plain": [
       "True"
      ]
     },
     "execution_count": 56,
     "metadata": {},
     "output_type": "execute_result"
    }
   ],
   "source": [
    "is_odd(3)"
   ]
  },
  {
   "cell_type": "code",
   "execution_count": 57,
   "id": "f3c242e1",
   "metadata": {},
   "outputs": [
    {
     "data": {
      "text/plain": [
       "False"
      ]
     },
     "execution_count": 57,
     "metadata": {},
     "output_type": "execute_result"
    }
   ],
   "source": [
    "is_odd(4)"
   ]
  },
  {
   "cell_type": "code",
   "execution_count": null,
   "id": "e8f4e1e8",
   "metadata": {},
   "outputs": [],
   "source": []
  }
 ],
 "metadata": {
  "kernelspec": {
   "display_name": "Python 3 (ipykernel)",
   "language": "python",
   "name": "python3"
  },
  "language_info": {
   "codemirror_mode": {
    "name": "ipython",
    "version": 3
   },
   "file_extension": ".py",
   "mimetype": "text/x-python",
   "name": "python",
   "nbconvert_exporter": "python",
   "pygments_lexer": "ipython3",
   "version": "3.10.9"
  }
 },
 "nbformat": 4,
 "nbformat_minor": 5
}
