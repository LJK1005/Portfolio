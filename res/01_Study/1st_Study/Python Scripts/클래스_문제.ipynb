{
 "cells": [
  {
   "cell_type": "markdown",
   "id": "bd2045f1",
   "metadata": {},
   "source": [
    "1. Human 클래스에 이름, 나이, 성별을 받는 생성자를 정의하여 아래의 코드를 통해 areum 객체 생성하기\n",
    "```python\n",
    "areum = Human(\"아름\", 25, \"여자\")\n",
    "```"
   ]
  },
  {
   "cell_type": "code",
   "execution_count": 1,
   "id": "10b7964d",
   "metadata": {},
   "outputs": [],
   "source": [
    "class Human:\n",
    "    def who_am_i(self, name, age, sex):\n",
    "        self.name = name\n",
    "        self.age = age\n",
    "        self.sex = sex\n",
    "        \n",
    "    def who(self):\n",
    "        print(f\"이름 : {self.name}, 나이 : {self.age}, 성별 : {self.sex}\")"
   ]
  },
  {
   "cell_type": "code",
   "execution_count": 3,
   "id": "eadc8e1a",
   "metadata": {},
   "outputs": [],
   "source": [
    "areum = Human()"
   ]
  },
  {
   "cell_type": "code",
   "execution_count": 4,
   "id": "805bd6ee",
   "metadata": {},
   "outputs": [],
   "source": [
    "areum.who_am_i(\"아름\", 25, \"여자\")"
   ]
  },
  {
   "cell_type": "markdown",
   "id": "2c9e43b8",
   "metadata": {},
   "source": [
    "2. 1번 문제에서 생성한 areum 객체에서 이름, 나이, 성별을 출력하기"
   ]
  },
  {
   "cell_type": "code",
   "execution_count": null,
   "id": "fe01eabd",
   "metadata": {},
   "outputs": [],
   "source": []
  },
  {
   "cell_type": "markdown",
   "id": "06b340f7",
   "metadata": {},
   "source": [
    "3. 위에서 만든 Human 클래스에서 이름, 나이, 성별을 출력하는 who 메소드 추가하기\n",
    "\n",
    "- 출력예시) 이름 : 아름, 나이 : 25, 성별 : 여자"
   ]
  },
  {
   "cell_type": "code",
   "execution_count": 6,
   "id": "9e1454dd",
   "metadata": {},
   "outputs": [
    {
     "name": "stdout",
     "output_type": "stream",
     "text": [
      "이름 : 아름, 나이 : 25, 성별 : 여자\n"
     ]
    }
   ],
   "source": [
    "areum.who()"
   ]
  },
  {
   "cell_type": "markdown",
   "id": "0d3aa95e",
   "metadata": {},
   "source": [
    "4. Human 클래스에 (이름, 나이, 성별)을 받는 setinfo 메소드 추가하기\n",
    "```python\n",
    "areum.setinfo(\"아름\", 27, \"여자\")\n",
    "```"
   ]
  },
  {
   "cell_type": "code",
   "execution_count": 7,
   "id": "95baaefe",
   "metadata": {},
   "outputs": [],
   "source": [
    "areum.who_am_i(\"아름\", 27, \"여자\")"
   ]
  },
  {
   "cell_type": "code",
   "execution_count": 8,
   "id": "bc9c342f",
   "metadata": {},
   "outputs": [
    {
     "name": "stdout",
     "output_type": "stream",
     "text": [
      "이름 : 아름, 나이 : 27, 성별 : 여자\n"
     ]
    }
   ],
   "source": [
    "areum.who()"
   ]
  },
  {
   "cell_type": "markdown",
   "id": "088c2d99",
   "metadata": {},
   "source": [
    "5. Stock 클래스에 종목명과 종목코드를 받는 생성자를 정의하여 아래의 코드를 통해 samsung 객체 생성하기\n",
    "```python\n",
    "samsung = Stock(\"삼성전자\", \"005930\")\n",
    "```"
   ]
  },
  {
   "cell_type": "code",
   "execution_count": 9,
   "id": "6ebdd8e3",
   "metadata": {},
   "outputs": [],
   "source": [
    "class Stock:\n",
    "    def set_name(self, name):\n",
    "        self.name = name\n",
    "        \n",
    "    def set_code(self, code):\n",
    "        self.code = code\n",
    "        \n",
    "    def printing(self):\n",
    "        print(f\"종목명 : {self.name}\")\n",
    "        print(f\"종목코드 : {self.code}\")"
   ]
  },
  {
   "cell_type": "markdown",
   "id": "6b94671c",
   "metadata": {},
   "source": [
    "6. Stock 클래스에 객체의 종목명을 입력할 수 있는 set_name 메서드를 추가하기\n",
    "```python\n",
    "a = Stock(None, None)\n",
    "a.set_name(\"삼성전자\")\n",
    "```"
   ]
  },
  {
   "cell_type": "code",
   "execution_count": 11,
   "id": "f8d271a3",
   "metadata": {},
   "outputs": [],
   "source": [
    "a = Stock()"
   ]
  },
  {
   "cell_type": "code",
   "execution_count": 12,
   "id": "8080b2ea",
   "metadata": {},
   "outputs": [],
   "source": [
    "a.set_name(\"삼성전자\")"
   ]
  },
  {
   "cell_type": "code",
   "execution_count": null,
   "id": "14d02786",
   "metadata": {},
   "outputs": [],
   "source": []
  },
  {
   "cell_type": "markdown",
   "id": "35acfefb",
   "metadata": {},
   "source": [
    "7. Stock 클래스에 객체의 종목코드를 입력할 수 있는 set_code 메서드를 추가하기\n",
    "```python\n",
    "a = Stock(None, None)\n",
    "a.set_code(\"005930\")\n",
    "```"
   ]
  },
  {
   "cell_type": "code",
   "execution_count": 13,
   "id": "5a79160a",
   "metadata": {},
   "outputs": [],
   "source": [
    "a.set_code(\"005930\")"
   ]
  },
  {
   "cell_type": "code",
   "execution_count": null,
   "id": "abf49210",
   "metadata": {},
   "outputs": [],
   "source": []
  },
  {
   "cell_type": "markdown",
   "id": "215abfe6",
   "metadata": {},
   "source": [
    "8. Stock클래스에 set_name과 set_code 메서드를 이용하여 객체의 종목명과 종목코드를 입력하는 set_info 메서드 추가하기"
   ]
  },
  {
   "cell_type": "code",
   "execution_count": 14,
   "id": "c93a2258",
   "metadata": {},
   "outputs": [
    {
     "name": "stdout",
     "output_type": "stream",
     "text": [
      "종목명 : 삼성전자\n",
      "종목코드 : 005930\n"
     ]
    }
   ],
   "source": [
    "a.printing()"
   ]
  }
 ],
 "metadata": {
  "kernelspec": {
   "display_name": "Python 3 (ipykernel)",
   "language": "python",
   "name": "python3"
  },
  "language_info": {
   "codemirror_mode": {
    "name": "ipython",
    "version": 3
   },
   "file_extension": ".py",
   "mimetype": "text/x-python",
   "name": "python",
   "nbconvert_exporter": "python",
   "pygments_lexer": "ipython3",
   "version": "3.10.9"
  }
 },
 "nbformat": 4,
 "nbformat_minor": 5
}
