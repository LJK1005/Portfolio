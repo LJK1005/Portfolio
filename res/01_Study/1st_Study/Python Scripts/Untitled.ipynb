{
 "cells": [
  {
   "cell_type": "markdown",
   "metadata": {},
   "source": [
    "# 놀자"
   ]
  },
  {
   "cell_type": "markdown",
   "metadata": {},
   "source": [
    "- 2차원 원형"
   ]
  },
  {
   "cell_type": "code",
   "execution_count": 18,
   "metadata": {},
   "outputs": [
    {
     "name": "stdout",
     "output_type": "stream",
     "text": [
      "                              *                              \n",
      "                       ***************                       \n",
      "                    *********************                    \n",
      "                 ***************************                 \n",
      "                *****************************                \n",
      "              *********************************              \n",
      "            *************************************            \n",
      "           ***************************************           \n",
      "          *****************************************          \n",
      "         *******************************************         \n",
      "        *********************************************        \n",
      "       ***********************************************       \n",
      "      *************************************************      \n",
      "      *************************************************      \n",
      "     ***************************************************     \n",
      "     ***************************************************     \n",
      "    *****************************************************    \n",
      "   *******************************************************   \n",
      "   *******************************************************   \n",
      "   *******************************************************   \n",
      "  *********************************************************  \n",
      "  *********************************************************  \n",
      "  *********************************************************  \n",
      " *********************************************************** \n",
      " *********************************************************** \n",
      " *********************************************************** \n",
      " *********************************************************** \n",
      " *********************************************************** \n",
      " *********************************************************** \n",
      " *********************************************************** \n",
      "*************************************************************\n",
      " *********************************************************** \n",
      " *********************************************************** \n",
      " *********************************************************** \n",
      " *********************************************************** \n",
      " *********************************************************** \n",
      " *********************************************************** \n",
      " *********************************************************** \n",
      "  *********************************************************  \n",
      "  *********************************************************  \n",
      "  *********************************************************  \n",
      "   *******************************************************   \n",
      "   *******************************************************   \n",
      "   *******************************************************   \n",
      "    *****************************************************    \n",
      "     ***************************************************     \n",
      "     ***************************************************     \n",
      "      *************************************************      \n",
      "      *************************************************      \n",
      "       ***********************************************       \n",
      "        *********************************************        \n",
      "         *******************************************         \n",
      "          *****************************************          \n",
      "           ***************************************           \n",
      "            *************************************            \n",
      "              *********************************              \n",
      "                *****************************                \n",
      "                 ***************************                 \n",
      "                    *********************                    \n",
      "                       ***************                       \n",
      "                              *                              \n"
     ]
    }
   ],
   "source": [
    "def circle(n):\n",
    "    for i in range(-n, n+1):\n",
    "        for j in range(-n, n+1):\n",
    "            if(i**2 + j**2) <= n**2:\n",
    "                print(\"*\", end = \"\")\n",
    "            else:\n",
    "                print(\" \", end = \"\")\n",
    "        print(\"\")\n",
    "\n",
    "circle(30)"
   ]
  },
  {
   "cell_type": "markdown",
   "metadata": {},
   "source": [
    "- 3차원 구체!!!"
   ]
  },
  {
   "cell_type": "code",
   "execution_count": 13,
   "metadata": {},
   "outputs": [
    {
     "name": "stdout",
     "output_type": "stream",
     "text": [
      "00000000100000000\n",
      "00000344444300000\n",
      "00024556665542000\n",
      "00245667776654200\n",
      "00456777777765400\n",
      "03567788888776530\n",
      "04567888888876540\n",
      "04677888888877640\n",
      "14677888988877641\n",
      "04677888888877640\n",
      "04567888888876540\n",
      "03567788888776530\n",
      "00456777777765400\n",
      "00245667776654200\n",
      "00024556665542000\n",
      "00000344444300000\n",
      "00000000100000000\n"
     ]
    }
   ],
   "source": [
    "n = 8\n",
    "\n",
    "for i in range(-n, n+1):\n",
    "    for j in range(-n, n+1):\n",
    "        z = 0\n",
    "        for k in range(0, n+1):\n",
    "            if (i**2 + j**2 + k**2) <= n**2:\n",
    "                z += 1\n",
    "        print(z, end = \"\")\n",
    "    print(\"\")"
   ]
  },
  {
   "cell_type": "code",
   "execution_count": null,
   "metadata": {},
   "outputs": [],
   "source": []
  },
  {
   "cell_type": "code",
   "execution_count": null,
   "metadata": {},
   "outputs": [],
   "source": []
  },
  {
   "cell_type": "code",
   "execution_count": null,
   "metadata": {},
   "outputs": [],
   "source": []
  },
  {
   "cell_type": "code",
   "execution_count": null,
   "metadata": {},
   "outputs": [],
   "source": []
  },
  {
   "cell_type": "code",
   "execution_count": null,
   "metadata": {},
   "outputs": [],
   "source": []
  },
  {
   "cell_type": "code",
   "execution_count": null,
   "metadata": {},
   "outputs": [],
   "source": []
  },
  {
   "cell_type": "code",
   "execution_count": null,
   "metadata": {},
   "outputs": [],
   "source": []
  },
  {
   "cell_type": "code",
   "execution_count": null,
   "metadata": {},
   "outputs": [],
   "source": []
  },
  {
   "cell_type": "code",
   "execution_count": null,
   "metadata": {},
   "outputs": [],
   "source": []
  },
  {
   "cell_type": "code",
   "execution_count": null,
   "metadata": {},
   "outputs": [],
   "source": []
  },
  {
   "cell_type": "code",
   "execution_count": null,
   "metadata": {},
   "outputs": [],
   "source": []
  },
  {
   "cell_type": "code",
   "execution_count": null,
   "metadata": {},
   "outputs": [],
   "source": []
  },
  {
   "cell_type": "code",
   "execution_count": null,
   "metadata": {},
   "outputs": [],
   "source": []
  },
  {
   "cell_type": "code",
   "execution_count": null,
   "metadata": {},
   "outputs": [],
   "source": []
  },
  {
   "cell_type": "code",
   "execution_count": null,
   "metadata": {},
   "outputs": [],
   "source": []
  },
  {
   "cell_type": "code",
   "execution_count": null,
   "metadata": {},
   "outputs": [],
   "source": []
  },
  {
   "cell_type": "code",
   "execution_count": null,
   "metadata": {},
   "outputs": [],
   "source": []
  },
  {
   "cell_type": "code",
   "execution_count": null,
   "metadata": {},
   "outputs": [],
   "source": []
  },
  {
   "cell_type": "code",
   "execution_count": null,
   "metadata": {},
   "outputs": [],
   "source": []
  },
  {
   "cell_type": "code",
   "execution_count": null,
   "metadata": {},
   "outputs": [],
   "source": []
  },
  {
   "cell_type": "code",
   "execution_count": null,
   "metadata": {},
   "outputs": [],
   "source": []
  },
  {
   "cell_type": "code",
   "execution_count": null,
   "metadata": {},
   "outputs": [],
   "source": []
  },
  {
   "cell_type": "code",
   "execution_count": null,
   "metadata": {},
   "outputs": [],
   "source": []
  },
  {
   "cell_type": "code",
   "execution_count": null,
   "metadata": {},
   "outputs": [],
   "source": []
  },
  {
   "cell_type": "code",
   "execution_count": null,
   "metadata": {},
   "outputs": [],
   "source": []
  },
  {
   "cell_type": "code",
   "execution_count": null,
   "metadata": {},
   "outputs": [],
   "source": []
  },
  {
   "cell_type": "code",
   "execution_count": null,
   "metadata": {},
   "outputs": [],
   "source": []
  },
  {
   "cell_type": "code",
   "execution_count": null,
   "id": "03f9544c",
   "metadata": {},
   "outputs": [],
   "source": []
  }
 ],
 "metadata": {
  "kernelspec": {
   "display_name": "Python 3 (ipykernel)",
   "language": "python",
   "name": "python3"
  },
  "language_info": {
   "codemirror_mode": {
    "name": "ipython",
    "version": 3
   },
   "file_extension": ".py",
   "mimetype": "text/x-python",
   "name": "python",
   "nbconvert_exporter": "python",
   "pygments_lexer": "ipython3",
   "version": "3.9.13"
  }
 },
 "nbformat": 4,
 "nbformat_minor": 5
}
