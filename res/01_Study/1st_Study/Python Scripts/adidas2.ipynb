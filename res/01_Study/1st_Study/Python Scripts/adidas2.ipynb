{
 "cells": [
  {
   "cell_type": "code",
   "execution_count": 7,
   "id": "b158cdf9",
   "metadata": {},
   "outputs": [],
   "source": [
    "import time\n",
    "import pandas as pd\n",
    "from selenium import webdriver\n",
    "from selenium.webdriver.common.by import By\n",
    "from urllib.request import urlopen"
   ]
  },
  {
   "cell_type": "code",
   "execution_count": 8,
   "id": "1347c5cf",
   "metadata": {},
   "outputs": [],
   "source": [
    "url = input(\"URL 입력 : \")\n",
    "\n",
    "driver = webdriver.Chrome()\n",
    "\n",
    "driver.get(url)"
   ]
  },
  {
   "cell_type": "code",
   "execution_count": 9,
   "id": "59c42fda",
   "metadata": {},
   "outputs": [],
   "source": [
    "name_result = []\n",
    "sku_result = []\n",
    "link_result = []\n",
    "\n",
    "time.sleep(3)\n",
    "agree = driver.find_element(by = By.XPATH, value = '//*[@id=\"glass-gdpr-default-consent-accept-button\"]/span[1]')\n",
    "agree.click()"
   ]
  },
  {
   "cell_type": "code",
   "execution_count": 11,
   "id": "486075b7",
   "metadata": {},
   "outputs": [],
   "source": [
    "while True:\n",
    "    time.sleep(7)\n",
    "    try:\n",
    "        cls = driver.find_element(by = By.XPATH, value = '//*[@id=\"account-portal-modal\"]/div/div/button/span')\n",
    "        cls.click()\n",
    "    except:\n",
    "        pass\n",
    "    name = driver.find_elements(by = By.CSS_SELECTOR, value = \"p.glass-product-card__title\")\n",
    "    sku = driver.find_elements(by = By.XPATH, value = \"//div[@data-grid-id]\")\n",
    "    link = driver.find_elements(by = By.CLASS_NAME, value = \"glass-product-card__assets-link\")\n",
    "\n",
    "    for i in name:\n",
    "        name_result.append(i.text)\n",
    "    \n",
    "    for i in sku:\n",
    "        sku_result.append(i.get_attribute(\"data-grid-id\"))\n",
    "    \n",
    "    for i in link:\n",
    "        link_result.append(i.get_attribute(\"href\"))\n",
    "    \n",
    "    try:\n",
    "        nextpage = driver.find_element(by = By.CSS_SELECTOR, value = \"div.pagination__control--next___329Qo a span\")\n",
    "        nextpage.click()\n",
    "    except:\n",
    "        break"
   ]
  },
  {
   "cell_type": "code",
   "execution_count": 14,
   "id": "c90639ca",
   "metadata": {},
   "outputs": [],
   "source": [
    "final = pd.DataFrame({\"SKU\" : sku_result, \"Product Name\" : name_result, \"Link\" : link_result})\n",
    "final.drop_duplicates(inplace = True)\n",
    "final.reset_index(drop = True, inplace = True)\n",
    "final.to_excel(\"./result.xlsx\")"
   ]
  }
 ],
 "metadata": {
  "kernelspec": {
   "display_name": "Python 3 (ipykernel)",
   "language": "python",
   "name": "python3"
  },
  "language_info": {
   "codemirror_mode": {
    "name": "ipython",
    "version": 3
   },
   "file_extension": ".py",
   "mimetype": "text/x-python",
   "name": "python",
   "nbconvert_exporter": "python",
   "pygments_lexer": "ipython3",
   "version": "3.11.5"
  }
 },
 "nbformat": 4,
 "nbformat_minor": 5
}
