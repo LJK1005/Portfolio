{
 "cells": [
  {
   "cell_type": "code",
   "execution_count": 2,
   "id": "ff01b60a-680c-4562-97f8-d781bf3060c9",
   "metadata": {},
   "outputs": [],
   "source": [
    "import warnings\n",
    "warnings.filterwarnings('ignore')\n",
    "\n",
    "import pandas as pd\n",
    "import numpy as np\n",
    "import torch\n",
    "from transformers import GPT2LMHeadModel, PreTrainedTokenizerFast, AdamW\n",
    "from tqdm import tqdm"
   ]
  },
  {
   "cell_type": "code",
   "execution_count": 3,
   "id": "138b1b65",
   "metadata": {},
   "outputs": [
    {
     "data": {
      "text/plain": [
       "'Y:\\\\Python\\\\script\\\\Study\\\\Dacon_0201'"
      ]
     },
     "execution_count": 3,
     "metadata": {},
     "output_type": "execute_result"
    }
   ],
   "source": [
    "import os\n",
    "os.chdir(\"Y:\\Python\\script\\Study\\Dacon_0201\")\n",
    "os.getcwd()"
   ]
  },
  {
   "cell_type": "code",
   "execution_count": 4,
   "id": "474da0b6-e817-4728-a200-41a61f047a88",
   "metadata": {},
   "outputs": [
    {
     "name": "stdout",
     "output_type": "stream",
     "text": [
      "Using device: cuda\n"
     ]
    }
   ],
   "source": [
    "# CUDA 사용 가능 여부 확인\n",
    "device = torch.device(\"cuda\" if torch.cuda.is_available() else \"cpu\")\n",
    "print(f\"Using device: {device}\")"
   ]
  },
  {
   "cell_type": "code",
   "execution_count": 5,
   "id": "23e98fb3-3ddf-4a5e-a0bd-064aaded971a",
   "metadata": {},
   "outputs": [
    {
     "name": "stderr",
     "output_type": "stream",
     "text": [
      "The tokenizer class you load from this checkpoint is not the same type as the class this function is called from. It may result in unexpected tokenization. \n",
      "The tokenizer class you load from this checkpoint is 'GPT2Tokenizer'. \n",
      "The class this function is called from is 'PreTrainedTokenizerFast'.\n",
      "644it [00:01, 470.24it/s]\n"
     ]
    },
    {
     "name": "stdout",
     "output_type": "stream",
     "text": [
      "Done.\n"
     ]
    }
   ],
   "source": [
    "# 데이터 로드\n",
    "data = pd.read_csv('./data/train.csv')\n",
    "\n",
    "# 토크나이저 로드\n",
    "tokenizer = PreTrainedTokenizerFast.from_pretrained('skt/ko-gpt-trinity-1.2B-v0.5', eos_token='</s>')\n",
    "\n",
    "# 데이터 포맷팅 및 토크나이징\n",
    "formatted_data = []\n",
    "for _, row in tqdm(data.iterrows()):\n",
    "    for q_col in ['질문_1', '질문_2']:\n",
    "        for a_col in ['답변_1', '답변_2', '답변_3', '답변_4', '답변_5']:\n",
    "            # 질문과 답변 쌍을 </s> token으로 연결\n",
    "            input_text = row[q_col] + tokenizer.eos_token + row[a_col]\n",
    "            input_ids = tokenizer.encode(input_text, return_tensors='pt')\n",
    "            formatted_data.append(input_ids)\n",
    "print('Done.')"
   ]
  },
  {
   "cell_type": "code",
   "execution_count": 6,
   "id": "292d47b4-5b49-4608-874a-ea35475675ed",
   "metadata": {},
   "outputs": [
    {
     "data": {
      "text/plain": [
       "GPT2LMHeadModel(\n",
       "  (transformer): GPT2Model(\n",
       "    (wte): Embedding(51200, 1920)\n",
       "    (wpe): Embedding(1024, 1920)\n",
       "    (drop): Dropout(p=0.1, inplace=False)\n",
       "    (h): ModuleList(\n",
       "      (0-23): 24 x GPT2Block(\n",
       "        (ln_1): LayerNorm((1920,), eps=1e-05, elementwise_affine=True)\n",
       "        (attn): GPT2Attention(\n",
       "          (c_attn): Conv1D()\n",
       "          (c_proj): Conv1D()\n",
       "          (attn_dropout): Dropout(p=0.1, inplace=False)\n",
       "          (resid_dropout): Dropout(p=0.1, inplace=False)\n",
       "        )\n",
       "        (ln_2): LayerNorm((1920,), eps=1e-05, elementwise_affine=True)\n",
       "        (mlp): GPT2MLP(\n",
       "          (c_fc): Conv1D()\n",
       "          (c_proj): Conv1D()\n",
       "          (act): NewGELUActivation()\n",
       "          (dropout): Dropout(p=0.1, inplace=False)\n",
       "        )\n",
       "      )\n",
       "    )\n",
       "    (ln_f): LayerNorm((1920,), eps=1e-05, elementwise_affine=True)\n",
       "  )\n",
       "  (lm_head): Linear(in_features=1920, out_features=51200, bias=False)\n",
       ")"
      ]
     },
     "execution_count": 6,
     "metadata": {},
     "output_type": "execute_result"
    }
   ],
   "source": [
    "# 모델 로드\n",
    "model = GPT2LMHeadModel.from_pretrained('skt/ko-gpt-trinity-1.2B-v0.5')\n",
    "model.to(device) # 모델을 GPU단으로 이동"
   ]
  },
  {
   "cell_type": "code",
   "execution_count": 7,
   "id": "4d1772c9-b687-427c-83ca-f7fdee99c91b",
   "metadata": {},
   "outputs": [],
   "source": [
    "CFG = {\n",
    "    'LR' : 1e-5, # Learning Rate\n",
    "    'EPOCHS' : 15, # 학습 Epoch\n",
    "    'eps' : 5e-06\n",
    "}"
   ]
  },
  {
   "cell_type": "code",
   "execution_count": 8,
   "id": "bd53a74a-ff1d-474d-9717-42bd3ad7cab4",
   "metadata": {},
   "outputs": [
    {
     "data": {
      "text/plain": [
       "GPT2LMHeadModel(\n",
       "  (transformer): GPT2Model(\n",
       "    (wte): Embedding(51200, 1920)\n",
       "    (wpe): Embedding(1024, 1920)\n",
       "    (drop): Dropout(p=0.1, inplace=False)\n",
       "    (h): ModuleList(\n",
       "      (0-23): 24 x GPT2Block(\n",
       "        (ln_1): LayerNorm((1920,), eps=1e-05, elementwise_affine=True)\n",
       "        (attn): GPT2Attention(\n",
       "          (c_attn): Conv1D()\n",
       "          (c_proj): Conv1D()\n",
       "          (attn_dropout): Dropout(p=0.1, inplace=False)\n",
       "          (resid_dropout): Dropout(p=0.1, inplace=False)\n",
       "        )\n",
       "        (ln_2): LayerNorm((1920,), eps=1e-05, elementwise_affine=True)\n",
       "        (mlp): GPT2MLP(\n",
       "          (c_fc): Conv1D()\n",
       "          (c_proj): Conv1D()\n",
       "          (act): NewGELUActivation()\n",
       "          (dropout): Dropout(p=0.1, inplace=False)\n",
       "        )\n",
       "      )\n",
       "    )\n",
       "    (ln_f): LayerNorm((1920,), eps=1e-05, elementwise_affine=True)\n",
       "  )\n",
       "  (lm_head): Linear(in_features=1920, out_features=51200, bias=False)\n",
       ")"
      ]
     },
     "execution_count": 8,
     "metadata": {},
     "output_type": "execute_result"
    }
   ],
   "source": [
    "# 모델 학습 설정\n",
    "optimizer = AdamW(model.parameters(), lr=CFG['LR'], eps = CFG['eps'])\n",
    "model.train()"
   ]
  },
  {
   "cell_type": "code",
   "execution_count": null,
   "id": "3d2f4e1a-811a-4664-bb1e-6e3cd86011cb",
   "metadata": {
    "scrolled": true
   },
   "outputs": [
    {
     "name": "stderr",
     "output_type": "stream",
     "text": [
      "Epoch 1 - Avg Loss: 1.9983:   3%|█▌                                                 | 201/6440 [00:36<17:37,  5.90it/s]"
     ]
    }
   ],
   "source": [
    "# 모델 학습\n",
    "for epoch in range(CFG['EPOCHS']):\n",
    "    total_loss = 0\n",
    "    progress_bar = tqdm(enumerate(formatted_data), total=len(formatted_data))\n",
    "    for batch_idx, batch in progress_bar:\n",
    "        batch = batch.to(device)\n",
    "        outputs = model(batch, labels=batch)\n",
    "        loss = outputs.loss\n",
    "        loss.backward()\n",
    "        optimizer.step()\n",
    "        optimizer.zero_grad()\n",
    "\n",
    "        total_loss += loss.item()\n",
    "\n",
    "        progress_bar.set_description(f\"Epoch {epoch+1} - Avg Loss: {total_loss / (batch_idx+1):.4f}\")\n",
    "\n",
    "    print(f\"Epoch {epoch+1}/{CFG['EPOCHS']}, Average Loss: {total_loss / len(formatted_data)}\")\n",
    "\n",
    "# 모델 저장\n",
    "model.save_pretrained(\"./hansoldeco-kogpt2_T\")\n",
    "tokenizer.save_pretrained(\"./hansoldeco-kogpt2_T\")"
   ]
  },
  {
   "cell_type": "code",
   "execution_count": 13,
   "id": "1246604c-d4b1-4e27-a9fe-31586b3715ae",
   "metadata": {},
   "outputs": [
    {
     "name": "stderr",
     "output_type": "stream",
     "text": [
      "100%|████████████████████████████████████████████████████████████████████████████████| 130/130 [07:30<00:00,  3.46s/it]\n"
     ]
    }
   ],
   "source": [
    "model_dir = \"./hansoldeco-kogpt2_3\"\n",
    "model = GPT2LMHeadModel.from_pretrained(model_dir)\n",
    "model.to(device)\n",
    "tokenizer = PreTrainedTokenizerFast.from_pretrained(model_dir)\n",
    "\n",
    "test = pd.read_csv('./data/test.csv')\n",
    "preds = []\n",
    "\n",
    "# '질문' 컬럼의 각 질문에 대해 답변 생성\n",
    "for test_question in tqdm(test['질문']):\n",
    "    input_ids = tokenizer.encode(test_question + tokenizer.eos_token, return_tensors='pt')\n",
    "\n",
    "    # 답변 생성\n",
    "    output_sequences = model.generate(\n",
    "        input_ids=input_ids.to(device),\n",
    "        max_length=300,\n",
    "        temperature=0.9,\n",
    "        top_k=1,\n",
    "        top_p=0.9,\n",
    "        repetition_penalty=1.2,\n",
    "        do_sample=True,\n",
    "        num_return_sequences=1\n",
    "    )\n",
    "\n",
    "    # 생성된 텍스트(답변) 저장\n",
    "    for generated_sequence in output_sequences:\n",
    "        full_text = tokenizer.decode(generated_sequence, skip_special_tokens=False)\n",
    "        answer_start = full_text.find(tokenizer.eos_token) + len(tokenizer.eos_token)\n",
    "        answer_only = full_text[answer_start:].strip()\n",
    "        answer_only = answer_only.replace('\\n', ' ')\n",
    "        preds.append(answer_only)"
   ]
  },
  {
   "cell_type": "code",
   "execution_count": 14,
   "id": "1fedb30a-fbd2-4fb6-aad7-4187095d00ae",
   "metadata": {},
   "outputs": [
    {
     "data": {
      "text/plain": [
       "(130, 512)"
      ]
     },
     "execution_count": 14,
     "metadata": {},
     "output_type": "execute_result"
    }
   ],
   "source": [
    "# Test 데이터셋의 모든 질의에 대한 답변으로부터 512 차원의 Embedding Vector 추출\n",
    "from sentence_transformers import SentenceTransformer\n",
    "\n",
    "model = SentenceTransformer('distiluse-base-multilingual-cased-v1')\n",
    "\n",
    "pred_embeddings = model.encode(preds)\n",
    "pred_embeddings.shape"
   ]
  },
  {
   "cell_type": "code",
   "execution_count": 15,
   "id": "d1a467c6-7f31-4582-b76e-df15fc2248ad",
   "metadata": {},
   "outputs": [
    {
     "data": {
      "text/html": [
       "<div>\n",
       "<style scoped>\n",
       "    .dataframe tbody tr th:only-of-type {\n",
       "        vertical-align: middle;\n",
       "    }\n",
       "\n",
       "    .dataframe tbody tr th {\n",
       "        vertical-align: top;\n",
       "    }\n",
       "\n",
       "    .dataframe thead th {\n",
       "        text-align: right;\n",
       "    }\n",
       "</style>\n",
       "<table border=\"1\" class=\"dataframe\">\n",
       "  <thead>\n",
       "    <tr style=\"text-align: right;\">\n",
       "      <th></th>\n",
       "      <th>id</th>\n",
       "      <th>vec_0</th>\n",
       "      <th>vec_1</th>\n",
       "      <th>vec_2</th>\n",
       "      <th>vec_3</th>\n",
       "      <th>vec_4</th>\n",
       "      <th>vec_5</th>\n",
       "      <th>vec_6</th>\n",
       "      <th>vec_7</th>\n",
       "      <th>vec_8</th>\n",
       "      <th>...</th>\n",
       "      <th>vec_502</th>\n",
       "      <th>vec_503</th>\n",
       "      <th>vec_504</th>\n",
       "      <th>vec_505</th>\n",
       "      <th>vec_506</th>\n",
       "      <th>vec_507</th>\n",
       "      <th>vec_508</th>\n",
       "      <th>vec_509</th>\n",
       "      <th>vec_510</th>\n",
       "      <th>vec_511</th>\n",
       "    </tr>\n",
       "  </thead>\n",
       "  <tbody>\n",
       "    <tr>\n",
       "      <th>0</th>\n",
       "      <td>TEST_000</td>\n",
       "      <td>0.020860</td>\n",
       "      <td>0.013327</td>\n",
       "      <td>-0.024121</td>\n",
       "      <td>0.017506</td>\n",
       "      <td>0.111002</td>\n",
       "      <td>0.014007</td>\n",
       "      <td>-0.030595</td>\n",
       "      <td>0.058331</td>\n",
       "      <td>-0.021070</td>\n",
       "      <td>...</td>\n",
       "      <td>-0.009531</td>\n",
       "      <td>-0.059186</td>\n",
       "      <td>0.009969</td>\n",
       "      <td>-0.041596</td>\n",
       "      <td>-0.012163</td>\n",
       "      <td>0.081612</td>\n",
       "      <td>0.012497</td>\n",
       "      <td>-0.017939</td>\n",
       "      <td>-0.023321</td>\n",
       "      <td>0.037912</td>\n",
       "    </tr>\n",
       "    <tr>\n",
       "      <th>1</th>\n",
       "      <td>TEST_001</td>\n",
       "      <td>-0.018419</td>\n",
       "      <td>-0.017479</td>\n",
       "      <td>-0.006128</td>\n",
       "      <td>-0.010644</td>\n",
       "      <td>0.066636</td>\n",
       "      <td>-0.001671</td>\n",
       "      <td>0.024308</td>\n",
       "      <td>0.014272</td>\n",
       "      <td>-0.001419</td>\n",
       "      <td>...</td>\n",
       "      <td>-0.014589</td>\n",
       "      <td>-0.000024</td>\n",
       "      <td>-0.014986</td>\n",
       "      <td>-0.019787</td>\n",
       "      <td>-0.033950</td>\n",
       "      <td>0.060124</td>\n",
       "      <td>-0.012853</td>\n",
       "      <td>0.001638</td>\n",
       "      <td>-0.005587</td>\n",
       "      <td>0.023062</td>\n",
       "    </tr>\n",
       "    <tr>\n",
       "      <th>2</th>\n",
       "      <td>TEST_002</td>\n",
       "      <td>-0.015238</td>\n",
       "      <td>-0.037657</td>\n",
       "      <td>-0.014859</td>\n",
       "      <td>-0.006163</td>\n",
       "      <td>0.118507</td>\n",
       "      <td>-0.020814</td>\n",
       "      <td>0.001047</td>\n",
       "      <td>-0.005111</td>\n",
       "      <td>0.060640</td>\n",
       "      <td>...</td>\n",
       "      <td>-0.008534</td>\n",
       "      <td>-0.025196</td>\n",
       "      <td>0.057599</td>\n",
       "      <td>-0.018881</td>\n",
       "      <td>-0.027957</td>\n",
       "      <td>0.019416</td>\n",
       "      <td>-0.020695</td>\n",
       "      <td>-0.010508</td>\n",
       "      <td>-0.050147</td>\n",
       "      <td>0.074059</td>\n",
       "    </tr>\n",
       "    <tr>\n",
       "      <th>3</th>\n",
       "      <td>TEST_003</td>\n",
       "      <td>0.007679</td>\n",
       "      <td>0.048548</td>\n",
       "      <td>0.008126</td>\n",
       "      <td>0.030630</td>\n",
       "      <td>0.064025</td>\n",
       "      <td>-0.047766</td>\n",
       "      <td>-0.083127</td>\n",
       "      <td>-0.026413</td>\n",
       "      <td>-0.020730</td>\n",
       "      <td>...</td>\n",
       "      <td>-0.034084</td>\n",
       "      <td>-0.003330</td>\n",
       "      <td>0.040001</td>\n",
       "      <td>-0.035059</td>\n",
       "      <td>0.022275</td>\n",
       "      <td>0.023752</td>\n",
       "      <td>-0.018037</td>\n",
       "      <td>-0.007049</td>\n",
       "      <td>-0.055945</td>\n",
       "      <td>0.031932</td>\n",
       "    </tr>\n",
       "    <tr>\n",
       "      <th>4</th>\n",
       "      <td>TEST_004</td>\n",
       "      <td>-0.014829</td>\n",
       "      <td>-0.018740</td>\n",
       "      <td>-0.023440</td>\n",
       "      <td>0.000925</td>\n",
       "      <td>0.108329</td>\n",
       "      <td>-0.022401</td>\n",
       "      <td>0.039849</td>\n",
       "      <td>0.036982</td>\n",
       "      <td>-0.037178</td>\n",
       "      <td>...</td>\n",
       "      <td>0.018803</td>\n",
       "      <td>-0.065277</td>\n",
       "      <td>0.047362</td>\n",
       "      <td>-0.011628</td>\n",
       "      <td>-0.039066</td>\n",
       "      <td>0.005705</td>\n",
       "      <td>0.007572</td>\n",
       "      <td>0.004773</td>\n",
       "      <td>-0.012496</td>\n",
       "      <td>0.072949</td>\n",
       "    </tr>\n",
       "  </tbody>\n",
       "</table>\n",
       "<p>5 rows × 513 columns</p>\n",
       "</div>"
      ],
      "text/plain": [
       "         id     vec_0     vec_1     vec_2     vec_3     vec_4     vec_5  \\\n",
       "0  TEST_000  0.020860  0.013327 -0.024121  0.017506  0.111002  0.014007   \n",
       "1  TEST_001 -0.018419 -0.017479 -0.006128 -0.010644  0.066636 -0.001671   \n",
       "2  TEST_002 -0.015238 -0.037657 -0.014859 -0.006163  0.118507 -0.020814   \n",
       "3  TEST_003  0.007679  0.048548  0.008126  0.030630  0.064025 -0.047766   \n",
       "4  TEST_004 -0.014829 -0.018740 -0.023440  0.000925  0.108329 -0.022401   \n",
       "\n",
       "      vec_6     vec_7     vec_8  ...   vec_502   vec_503   vec_504   vec_505  \\\n",
       "0 -0.030595  0.058331 -0.021070  ... -0.009531 -0.059186  0.009969 -0.041596   \n",
       "1  0.024308  0.014272 -0.001419  ... -0.014589 -0.000024 -0.014986 -0.019787   \n",
       "2  0.001047 -0.005111  0.060640  ... -0.008534 -0.025196  0.057599 -0.018881   \n",
       "3 -0.083127 -0.026413 -0.020730  ... -0.034084 -0.003330  0.040001 -0.035059   \n",
       "4  0.039849  0.036982 -0.037178  ...  0.018803 -0.065277  0.047362 -0.011628   \n",
       "\n",
       "    vec_506   vec_507   vec_508   vec_509   vec_510   vec_511  \n",
       "0 -0.012163  0.081612  0.012497 -0.017939 -0.023321  0.037912  \n",
       "1 -0.033950  0.060124 -0.012853  0.001638 -0.005587  0.023062  \n",
       "2 -0.027957  0.019416 -0.020695 -0.010508 -0.050147  0.074059  \n",
       "3  0.022275  0.023752 -0.018037 -0.007049 -0.055945  0.031932  \n",
       "4 -0.039066  0.005705  0.007572  0.004773 -0.012496  0.072949  \n",
       "\n",
       "[5 rows x 513 columns]"
      ]
     },
     "execution_count": 15,
     "metadata": {},
     "output_type": "execute_result"
    }
   ],
   "source": [
    "submit = pd.read_csv('./data/sample_submission.csv')\n",
    "submit.iloc[:,1:] = pred_embeddings\n",
    "submit.head()"
   ]
  },
  {
   "cell_type": "code",
   "execution_count": 16,
   "id": "f74f71d7-652d-4ab9-8846-8014a3ae108d",
   "metadata": {},
   "outputs": [],
   "source": [
    "submit.to_csv('./baseline_submit_3.csv', index=False)"
   ]
  },
  {
   "cell_type": "code",
   "execution_count": null,
   "id": "761b48a5-39fd-4035-b156-90f1f9258ec6",
   "metadata": {},
   "outputs": [],
   "source": []
  },
  {
   "cell_type": "code",
   "execution_count": null,
   "id": "8a171fa0-4be1-42dd-a061-b792fbdee8a9",
   "metadata": {},
   "outputs": [],
   "source": []
  },
  {
   "cell_type": "code",
   "execution_count": null,
   "id": "bc0a0162-e700-4849-a595-43c86aeb15e3",
   "metadata": {},
   "outputs": [],
   "source": []
  },
  {
   "cell_type": "code",
   "execution_count": null,
   "id": "d2bd4afb-e8a5-4a24-b563-17a65f66cb9e",
   "metadata": {},
   "outputs": [],
   "source": []
  },
  {
   "cell_type": "code",
   "execution_count": null,
   "id": "4bac0596-e49f-4cea-a53b-2153f4077279",
   "metadata": {},
   "outputs": [],
   "source": []
  },
  {
   "cell_type": "code",
   "execution_count": null,
   "id": "c9b1eb1c-e1c7-4172-9f88-e6a40fd98ff6",
   "metadata": {},
   "outputs": [],
   "source": []
  },
  {
   "cell_type": "code",
   "execution_count": null,
   "id": "eccc43f2-9782-4140-8e73-3c9e92d45250",
   "metadata": {},
   "outputs": [],
   "source": []
  },
  {
   "cell_type": "code",
   "execution_count": null,
   "id": "8132124d-ba61-43be-bea6-f7b1db3e1124",
   "metadata": {},
   "outputs": [],
   "source": []
  },
  {
   "cell_type": "code",
   "execution_count": null,
   "id": "297da860-d56d-4d4d-96c7-21ec103f7d00",
   "metadata": {},
   "outputs": [],
   "source": []
  },
  {
   "cell_type": "code",
   "execution_count": null,
   "id": "060fad33-5822-44c0-b0bd-e68e24174d1e",
   "metadata": {},
   "outputs": [],
   "source": []
  },
  {
   "cell_type": "code",
   "execution_count": null,
   "id": "947922c7-b625-4612-976d-dc82146b70f6",
   "metadata": {},
   "outputs": [],
   "source": []
  },
  {
   "cell_type": "code",
   "execution_count": null,
   "id": "1a3b42fb-c552-469e-a332-38d5d9faaad0",
   "metadata": {},
   "outputs": [],
   "source": []
  },
  {
   "cell_type": "code",
   "execution_count": null,
   "id": "14714b32-81a6-49da-a1f3-a7631f9a6c16",
   "metadata": {},
   "outputs": [],
   "source": []
  }
 ],
 "metadata": {
  "kernelspec": {
   "display_name": "Python 3 (ipykernel)",
   "language": "python",
   "name": "python3"
  },
  "language_info": {
   "codemirror_mode": {
    "name": "ipython",
    "version": 3
   },
   "file_extension": ".py",
   "mimetype": "text/x-python",
   "name": "python",
   "nbconvert_exporter": "python",
   "pygments_lexer": "ipython3",
   "version": "3.10.9"
  }
 },
 "nbformat": 4,
 "nbformat_minor": 5
}
