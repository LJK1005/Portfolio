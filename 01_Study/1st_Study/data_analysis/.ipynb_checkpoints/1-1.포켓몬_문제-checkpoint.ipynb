{
 "cells": [
  {
   "cell_type": "code",
   "execution_count": 2,
   "id": "941d6e18",
   "metadata": {},
   "outputs": [],
   "source": [
    "import pandas as pd"
   ]
  },
  {
   "cell_type": "code",
   "execution_count": 2,
   "id": "9e74732d",
   "metadata": {},
   "outputs": [],
   "source": [
    "raw_data = {\"이름\": ['이상해씨', '파이리','꼬부기','캐터피'],\n",
    "            \"진화형\": ['이상해풀','리자드','어니부기','단데기'],\n",
    "            \"타입\": ['풀', '불', '물', '벌레'],\n",
    "            \"체력\": [45, 39, 44, 45],\n",
    "            \"도감등록\": ['yes', 'no','yes','no']                        \n",
    "            }"
   ]
  },
  {
   "cell_type": "markdown",
   "id": "72ae6ee7",
   "metadata": {},
   "source": [
    "# 문제1. raw_data를 데이터프레임 형태로 poke 변수에 할당"
   ]
  },
  {
   "cell_type": "code",
   "execution_count": 5,
   "id": "58688302",
   "metadata": {},
   "outputs": [],
   "source": [
    "poke = pd.DataFrame({\"이름\": ['이상해씨', '파이리','꼬부기','캐터피'],\n",
    "            \"진화형\": ['이상해풀','리자드','어니부기','단데기'],\n",
    "            \"타입\": ['풀', '불', '물', '벌레'],\n",
    "            \"체력\": [45, 39, 44, 45],\n",
    "            \"도감등록\": ['yes', 'no','yes','no']                        \n",
    "            })"
   ]
  },
  {
   "cell_type": "markdown",
   "id": "0e099b6b",
   "metadata": {},
   "source": [
    "# 문제2. 데이터프레임의 컬럼을 이름, 타입, 체력, 진화형, 도감등록 순으로 수정"
   ]
  },
  {
   "cell_type": "code",
   "execution_count": 6,
   "id": "df8f01bd",
   "metadata": {},
   "outputs": [
    {
     "data": {
      "text/html": [
       "<div>\n",
       "<style scoped>\n",
       "    .dataframe tbody tr th:only-of-type {\n",
       "        vertical-align: middle;\n",
       "    }\n",
       "\n",
       "    .dataframe tbody tr th {\n",
       "        vertical-align: top;\n",
       "    }\n",
       "\n",
       "    .dataframe thead th {\n",
       "        text-align: right;\n",
       "    }\n",
       "</style>\n",
       "<table border=\"1\" class=\"dataframe\">\n",
       "  <thead>\n",
       "    <tr style=\"text-align: right;\">\n",
       "      <th></th>\n",
       "      <th>이름</th>\n",
       "      <th>진화형</th>\n",
       "      <th>타입</th>\n",
       "      <th>체력</th>\n",
       "      <th>도감등록</th>\n",
       "    </tr>\n",
       "  </thead>\n",
       "  <tbody>\n",
       "    <tr>\n",
       "      <th>0</th>\n",
       "      <td>이상해씨</td>\n",
       "      <td>이상해풀</td>\n",
       "      <td>풀</td>\n",
       "      <td>45</td>\n",
       "      <td>yes</td>\n",
       "    </tr>\n",
       "    <tr>\n",
       "      <th>1</th>\n",
       "      <td>파이리</td>\n",
       "      <td>리자드</td>\n",
       "      <td>불</td>\n",
       "      <td>39</td>\n",
       "      <td>no</td>\n",
       "    </tr>\n",
       "    <tr>\n",
       "      <th>2</th>\n",
       "      <td>꼬부기</td>\n",
       "      <td>어니부기</td>\n",
       "      <td>물</td>\n",
       "      <td>44</td>\n",
       "      <td>yes</td>\n",
       "    </tr>\n",
       "    <tr>\n",
       "      <th>3</th>\n",
       "      <td>캐터피</td>\n",
       "      <td>단데기</td>\n",
       "      <td>벌레</td>\n",
       "      <td>45</td>\n",
       "      <td>no</td>\n",
       "    </tr>\n",
       "  </tbody>\n",
       "</table>\n",
       "</div>"
      ],
      "text/plain": [
       "     이름   진화형  타입  체력 도감등록\n",
       "0  이상해씨  이상해풀   풀  45  yes\n",
       "1   파이리   리자드   불  39   no\n",
       "2   꼬부기  어니부기   물  44  yes\n",
       "3   캐터피   단데기  벌레  45   no"
      ]
     },
     "execution_count": 6,
     "metadata": {},
     "output_type": "execute_result"
    }
   ],
   "source": [
    "poke.head()"
   ]
  },
  {
   "cell_type": "code",
   "execution_count": 8,
   "id": "62e12650",
   "metadata": {},
   "outputs": [],
   "source": [
    "poke2 = poke[[\"이름\", \"타입\", \"체력\", \"진화형\", \"도감등록\"]]"
   ]
  },
  {
   "cell_type": "code",
   "execution_count": 9,
   "id": "db818125",
   "metadata": {},
   "outputs": [
    {
     "data": {
      "text/html": [
       "<div>\n",
       "<style scoped>\n",
       "    .dataframe tbody tr th:only-of-type {\n",
       "        vertical-align: middle;\n",
       "    }\n",
       "\n",
       "    .dataframe tbody tr th {\n",
       "        vertical-align: top;\n",
       "    }\n",
       "\n",
       "    .dataframe thead th {\n",
       "        text-align: right;\n",
       "    }\n",
       "</style>\n",
       "<table border=\"1\" class=\"dataframe\">\n",
       "  <thead>\n",
       "    <tr style=\"text-align: right;\">\n",
       "      <th></th>\n",
       "      <th>이름</th>\n",
       "      <th>타입</th>\n",
       "      <th>체력</th>\n",
       "      <th>진화형</th>\n",
       "      <th>도감등록</th>\n",
       "    </tr>\n",
       "  </thead>\n",
       "  <tbody>\n",
       "    <tr>\n",
       "      <th>0</th>\n",
       "      <td>이상해씨</td>\n",
       "      <td>풀</td>\n",
       "      <td>45</td>\n",
       "      <td>이상해풀</td>\n",
       "      <td>yes</td>\n",
       "    </tr>\n",
       "    <tr>\n",
       "      <th>1</th>\n",
       "      <td>파이리</td>\n",
       "      <td>불</td>\n",
       "      <td>39</td>\n",
       "      <td>리자드</td>\n",
       "      <td>no</td>\n",
       "    </tr>\n",
       "    <tr>\n",
       "      <th>2</th>\n",
       "      <td>꼬부기</td>\n",
       "      <td>물</td>\n",
       "      <td>44</td>\n",
       "      <td>어니부기</td>\n",
       "      <td>yes</td>\n",
       "    </tr>\n",
       "    <tr>\n",
       "      <th>3</th>\n",
       "      <td>캐터피</td>\n",
       "      <td>벌레</td>\n",
       "      <td>45</td>\n",
       "      <td>단데기</td>\n",
       "      <td>no</td>\n",
       "    </tr>\n",
       "  </tbody>\n",
       "</table>\n",
       "</div>"
      ],
      "text/plain": [
       "     이름  타입  체력   진화형 도감등록\n",
       "0  이상해씨   풀  45  이상해풀  yes\n",
       "1   파이리   불  39   리자드   no\n",
       "2   꼬부기   물  44  어니부기  yes\n",
       "3   캐터피  벌레  45   단데기   no"
      ]
     },
     "execution_count": 9,
     "metadata": {},
     "output_type": "execute_result"
    }
   ],
   "source": [
    "poke2.head()"
   ]
  },
  {
   "cell_type": "code",
   "execution_count": null,
   "id": "0fe22e31",
   "metadata": {},
   "outputs": [],
   "source": []
  },
  {
   "cell_type": "code",
   "execution_count": null,
   "id": "def4bdde",
   "metadata": {},
   "outputs": [],
   "source": []
  },
  {
   "cell_type": "code",
   "execution_count": null,
   "id": "6b3384b9",
   "metadata": {},
   "outputs": [],
   "source": []
  },
  {
   "cell_type": "markdown",
   "id": "22be7455",
   "metadata": {},
   "source": [
    "# 문제3. 서식지 컬럼에 아래의 정보를 추가\n",
    "\n",
    "- 이상해씨 : 공원\n",
    "- 파이리 : 도로\n",
    "- 꼬부기 : 호수\n",
    "- 캐터피 : 숲"
   ]
  },
  {
   "cell_type": "code",
   "execution_count": 19,
   "id": "5bfa53f7",
   "metadata": {},
   "outputs": [],
   "source": [
    "poke3 = pd.DataFrame(data = {\"이름\": ['이상해씨', '파이리','꼬부기','캐터피'],\n",
    "            \"진화형\": ['이상해풀','리자드','어니부기','단데기'],\n",
    "            \"타입\": ['풀', '불', '물', '벌레'],\n",
    "            \"체력\": [45, 39, 44, 45],\n",
    "            \"도감등록\": ['yes', 'no','yes','no'],\n",
    "            \"서식지\" : ['공원', '도로', '호수', '숲']},\n",
    "            columns = ['이름', '타입', '체력', '진화형', '도감등록', '서식지']\n",
    "            )"
   ]
  },
  {
   "cell_type": "code",
   "execution_count": 20,
   "id": "8ba7f0bd",
   "metadata": {},
   "outputs": [
    {
     "data": {
      "text/html": [
       "<div>\n",
       "<style scoped>\n",
       "    .dataframe tbody tr th:only-of-type {\n",
       "        vertical-align: middle;\n",
       "    }\n",
       "\n",
       "    .dataframe tbody tr th {\n",
       "        vertical-align: top;\n",
       "    }\n",
       "\n",
       "    .dataframe thead th {\n",
       "        text-align: right;\n",
       "    }\n",
       "</style>\n",
       "<table border=\"1\" class=\"dataframe\">\n",
       "  <thead>\n",
       "    <tr style=\"text-align: right;\">\n",
       "      <th></th>\n",
       "      <th>이름</th>\n",
       "      <th>타입</th>\n",
       "      <th>체력</th>\n",
       "      <th>진화형</th>\n",
       "      <th>도감등록</th>\n",
       "      <th>서식지</th>\n",
       "    </tr>\n",
       "  </thead>\n",
       "  <tbody>\n",
       "    <tr>\n",
       "      <th>0</th>\n",
       "      <td>이상해씨</td>\n",
       "      <td>풀</td>\n",
       "      <td>45</td>\n",
       "      <td>이상해풀</td>\n",
       "      <td>yes</td>\n",
       "      <td>공원</td>\n",
       "    </tr>\n",
       "    <tr>\n",
       "      <th>1</th>\n",
       "      <td>파이리</td>\n",
       "      <td>불</td>\n",
       "      <td>39</td>\n",
       "      <td>리자드</td>\n",
       "      <td>no</td>\n",
       "      <td>도로</td>\n",
       "    </tr>\n",
       "    <tr>\n",
       "      <th>2</th>\n",
       "      <td>꼬부기</td>\n",
       "      <td>물</td>\n",
       "      <td>44</td>\n",
       "      <td>어니부기</td>\n",
       "      <td>yes</td>\n",
       "      <td>호수</td>\n",
       "    </tr>\n",
       "    <tr>\n",
       "      <th>3</th>\n",
       "      <td>캐터피</td>\n",
       "      <td>벌레</td>\n",
       "      <td>45</td>\n",
       "      <td>단데기</td>\n",
       "      <td>no</td>\n",
       "      <td>숲</td>\n",
       "    </tr>\n",
       "  </tbody>\n",
       "</table>\n",
       "</div>"
      ],
      "text/plain": [
       "     이름  타입  체력   진화형 도감등록 서식지\n",
       "0  이상해씨   풀  45  이상해풀  yes  공원\n",
       "1   파이리   불  39   리자드   no  도로\n",
       "2   꼬부기   물  44  어니부기  yes  호수\n",
       "3   캐터피  벌레  45   단데기   no   숲"
      ]
     },
     "execution_count": 20,
     "metadata": {},
     "output_type": "execute_result"
    }
   ],
   "source": [
    "poke3.head()"
   ]
  },
  {
   "cell_type": "markdown",
   "id": "f2ffe8f1",
   "metadata": {},
   "source": [
    "# 문제4. 각 컬럼의 데이터 자료형 확인"
   ]
  },
  {
   "cell_type": "code",
   "execution_count": 21,
   "id": "5ddad0b5",
   "metadata": {
    "scrolled": true
   },
   "outputs": [
    {
     "name": "stdout",
     "output_type": "stream",
     "text": [
      "<class 'pandas.core.frame.DataFrame'>\n",
      "RangeIndex: 4 entries, 0 to 3\n",
      "Data columns (total 6 columns):\n",
      " #   Column  Non-Null Count  Dtype \n",
      "---  ------  --------------  ----- \n",
      " 0   이름      4 non-null      object\n",
      " 1   타입      4 non-null      object\n",
      " 2   체력      4 non-null      int64 \n",
      " 3   진화형     4 non-null      object\n",
      " 4   도감등록    4 non-null      object\n",
      " 5   서식지     4 non-null      object\n",
      "dtypes: int64(1), object(5)\n",
      "memory usage: 320.0+ bytes\n"
     ]
    }
   ],
   "source": [
    "poke3.info()"
   ]
  }
 ],
 "metadata": {
  "kernelspec": {
   "display_name": "Python 3 (ipykernel)",
   "language": "python",
   "name": "python3"
  },
  "language_info": {
   "codemirror_mode": {
    "name": "ipython",
    "version": 3
   },
   "file_extension": ".py",
   "mimetype": "text/x-python",
   "name": "python",
   "nbconvert_exporter": "python",
   "pygments_lexer": "ipython3",
   "version": "3.10.9"
  }
 },
 "nbformat": 4,
 "nbformat_minor": 5
}
