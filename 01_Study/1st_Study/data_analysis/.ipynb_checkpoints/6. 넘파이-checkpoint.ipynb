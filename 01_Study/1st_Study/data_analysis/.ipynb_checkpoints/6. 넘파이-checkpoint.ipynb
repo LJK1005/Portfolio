{
 "cells": [
  {
   "cell_type": "code",
   "execution_count": 1,
   "id": "6179d108",
   "metadata": {},
   "outputs": [],
   "source": [
    "import numpy as np"
   ]
  },
  {
   "cell_type": "markdown",
   "id": "b6566d45",
   "metadata": {},
   "source": [
    "# 넘파이 배열의 구조\n",
    "\n",
    "- 넘파이 모듈의 기본 배열은 ndarray(n-dimension array 다차원배열)"
   ]
  },
  {
   "cell_type": "code",
   "execution_count": 2,
   "id": "de0aa027",
   "metadata": {},
   "outputs": [],
   "source": [
    "# 리스트를 다차원배열로 변환\n",
    "li = [1, 2, 3, 4]\n",
    "li_arr = np.array(li) # 다차원 배열을 만드는 함수"
   ]
  },
  {
   "cell_type": "code",
   "execution_count": 3,
   "id": "a0dcf333",
   "metadata": {},
   "outputs": [
    {
     "data": {
      "text/plain": [
       "array([1, 2, 3, 4])"
      ]
     },
     "execution_count": 3,
     "metadata": {},
     "output_type": "execute_result"
    }
   ],
   "source": [
    "li_arr"
   ]
  },
  {
   "cell_type": "code",
   "execution_count": 4,
   "id": "ca7eb965",
   "metadata": {},
   "outputs": [
    {
     "data": {
      "text/plain": [
       "numpy.ndarray"
      ]
     },
     "execution_count": 4,
     "metadata": {},
     "output_type": "execute_result"
    }
   ],
   "source": [
    "type(li_arr)"
   ]
  },
  {
   "cell_type": "code",
   "execution_count": 5,
   "id": "8147329f",
   "metadata": {},
   "outputs": [],
   "source": [
    "# 튜플을 다차원배열로 변환\n",
    "tu = (1, 2, 3, 4)\n",
    "tu_arr = np.array(tu)"
   ]
  },
  {
   "cell_type": "code",
   "execution_count": 6,
   "id": "8004a454",
   "metadata": {},
   "outputs": [
    {
     "data": {
      "text/plain": [
       "array([1, 2, 3, 4])"
      ]
     },
     "execution_count": 6,
     "metadata": {},
     "output_type": "execute_result"
    }
   ],
   "source": [
    "tu_arr"
   ]
  },
  {
   "cell_type": "code",
   "execution_count": 7,
   "id": "5e6a9ac7",
   "metadata": {},
   "outputs": [
    {
     "data": {
      "text/plain": [
       "numpy.ndarray"
      ]
     },
     "execution_count": 7,
     "metadata": {},
     "output_type": "execute_result"
    }
   ],
   "source": [
    "type(tu_arr)"
   ]
  },
  {
   "cell_type": "code",
   "execution_count": 8,
   "id": "eb57d63f",
   "metadata": {},
   "outputs": [
    {
     "data": {
      "text/plain": [
       "(2512027496208, 2512027496208)"
      ]
     },
     "execution_count": 8,
     "metadata": {},
     "output_type": "execute_result"
    }
   ],
   "source": [
    "# 넘파이 배열도 mutable의 특징을 가짐\n",
    "# 변수를 다른 변수에 복사한 뒤 데이터를 수정하면 모든 변수의 데이터가 수정됨\n",
    "co_arr = li_arr\n",
    "id(co_arr), id(li_arr)"
   ]
  },
  {
   "cell_type": "code",
   "execution_count": 9,
   "id": "2005c676",
   "metadata": {},
   "outputs": [],
   "source": [
    "co_arr[0] = 100"
   ]
  },
  {
   "cell_type": "code",
   "execution_count": 10,
   "id": "d8487821",
   "metadata": {},
   "outputs": [
    {
     "data": {
      "text/plain": [
       "array([100,   2,   3,   4])"
      ]
     },
     "execution_count": 10,
     "metadata": {},
     "output_type": "execute_result"
    }
   ],
   "source": [
    "co_arr"
   ]
  },
  {
   "cell_type": "code",
   "execution_count": 11,
   "id": "b0233b9e",
   "metadata": {},
   "outputs": [
    {
     "data": {
      "text/plain": [
       "array([100,   2,   3,   4])"
      ]
     },
     "execution_count": 11,
     "metadata": {},
     "output_type": "execute_result"
    }
   ],
   "source": [
    "li_arr"
   ]
  },
  {
   "cell_type": "code",
   "execution_count": 13,
   "id": "55d07ca9",
   "metadata": {},
   "outputs": [
    {
     "data": {
      "text/plain": [
       "(2512022898032, 2512027496208)"
      ]
     },
     "execution_count": 13,
     "metadata": {},
     "output_type": "execute_result"
    }
   ],
   "source": [
    "# 다차원 배열의 값을 복사해서 새로운 배열을 만들면\n",
    "# 동일한 값을 가진 새로운 배열이 만들어지기 떄문에 서로 다른 데이터가 됨\n",
    "new_arr = np.array(li_arr)\n",
    "id(new_arr), id(li_arr)"
   ]
  },
  {
   "cell_type": "code",
   "execution_count": 14,
   "id": "c462820a",
   "metadata": {},
   "outputs": [],
   "source": [
    "new_arr[0] = 99"
   ]
  },
  {
   "cell_type": "code",
   "execution_count": 15,
   "id": "5f2b92dc",
   "metadata": {},
   "outputs": [
    {
     "data": {
      "text/plain": [
       "array([99,  2,  3,  4])"
      ]
     },
     "execution_count": 15,
     "metadata": {},
     "output_type": "execute_result"
    }
   ],
   "source": [
    "new_arr"
   ]
  },
  {
   "cell_type": "code",
   "execution_count": 16,
   "id": "9a80c80b",
   "metadata": {},
   "outputs": [
    {
     "data": {
      "text/plain": [
       "array([100,   2,   3,   4])"
      ]
     },
     "execution_count": 16,
     "metadata": {},
     "output_type": "execute_result"
    }
   ],
   "source": [
    "li_arr"
   ]
  },
  {
   "cell_type": "markdown",
   "id": "e9b7b13d",
   "metadata": {},
   "source": [
    "- 파이썬 리스트는 다양한 자료형을 사용할 수 있지만 넘파이 배열은 같은 자료형만 넣을 수 있음\n",
    "    - 다차원 배열을 생성할 때 자료형을 지정하지 않으면 내부의 원소를 보고 자동으로 추론해서 만듦"
   ]
  },
  {
   "cell_type": "code",
   "execution_count": 17,
   "id": "d0bea3c4",
   "metadata": {},
   "outputs": [
    {
     "data": {
      "text/plain": [
       "array([1., 2., 3., 4.])"
      ]
     },
     "execution_count": 17,
     "metadata": {},
     "output_type": "execute_result"
    }
   ],
   "source": [
    "# float 자료형을 지정해서 다차원 배열 만들기\n",
    "fl_arr = np.array(li, dtype = float)\n",
    "fl_arr"
   ]
  },
  {
   "cell_type": "code",
   "execution_count": 18,
   "id": "c7ae1fdc",
   "metadata": {},
   "outputs": [
    {
     "data": {
      "text/plain": [
       "dtype('float64')"
      ]
     },
     "execution_count": 18,
     "metadata": {},
     "output_type": "execute_result"
    }
   ],
   "source": [
    "fl_arr.dtype"
   ]
  },
  {
   "cell_type": "markdown",
   "id": "5ac815f2",
   "metadata": {},
   "source": [
    "## 2차원 배열이란\n",
    "\n",
    "- 2개의 축을 가지는 배열(행, 열)\n",
    "    - 두 개의 1차원 배열이 쌓여서 하나의 2차원 배열이 만들어짐"
   ]
  },
  {
   "cell_type": "code",
   "execution_count": 19,
   "id": "d771961f",
   "metadata": {},
   "outputs": [],
   "source": [
    "arr2d = np.array([[1, 2, 3], [4, 5, 6]])"
   ]
  },
  {
   "cell_type": "code",
   "execution_count": 21,
   "id": "d16f54ad",
   "metadata": {},
   "outputs": [
    {
     "data": {
      "text/plain": [
       "(2, 3)"
      ]
     },
     "execution_count": 21,
     "metadata": {},
     "output_type": "execute_result"
    }
   ],
   "source": [
    "# 각 축의 원소의 개수\n",
    "arr2d.shape"
   ]
  },
  {
   "cell_type": "code",
   "execution_count": 22,
   "id": "cbc3f589",
   "metadata": {},
   "outputs": [
    {
     "data": {
      "text/plain": [
       "2"
      ]
     },
     "execution_count": 22,
     "metadata": {},
     "output_type": "execute_result"
    }
   ],
   "source": [
    "# 축의 개수\n",
    "arr2d.ndim"
   ]
  },
  {
   "cell_type": "code",
   "execution_count": 27,
   "id": "ccfd5246",
   "metadata": {},
   "outputs": [
    {
     "data": {
      "text/plain": [
       "dtype('int32')"
      ]
     },
     "execution_count": 27,
     "metadata": {},
     "output_type": "execute_result"
    }
   ],
   "source": [
    "arr2d.dtype"
   ]
  },
  {
   "cell_type": "code",
   "execution_count": 28,
   "id": "a6583c8b",
   "metadata": {},
   "outputs": [
    {
     "data": {
      "text/plain": [
       "array([1, 2, 3, 4, 5, 6])"
      ]
     },
     "execution_count": 28,
     "metadata": {},
     "output_type": "execute_result"
    }
   ],
   "source": [
    "# 다차원 배열을 1차원 배열로 조회\n",
    "arr2d.flatten()"
   ]
  },
  {
   "cell_type": "code",
   "execution_count": 29,
   "id": "38acafb9",
   "metadata": {},
   "outputs": [
    {
     "data": {
      "text/plain": [
       "array([100,   2,   3,   4])"
      ]
     },
     "execution_count": 29,
     "metadata": {},
     "output_type": "execute_result"
    }
   ],
   "source": [
    "# 1차원 배열에서 원소 조회하기\n",
    "li_arr"
   ]
  },
  {
   "cell_type": "code",
   "execution_count": 30,
   "id": "1d236ac0",
   "metadata": {},
   "outputs": [
    {
     "data": {
      "text/plain": [
       "100"
      ]
     },
     "execution_count": 30,
     "metadata": {},
     "output_type": "execute_result"
    }
   ],
   "source": [
    "li_arr[0]"
   ]
  },
  {
   "cell_type": "code",
   "execution_count": 31,
   "id": "54c01fc9",
   "metadata": {},
   "outputs": [
    {
     "data": {
      "text/plain": [
       "[[1, 2, 3], [4, 5, 6]]"
      ]
     },
     "execution_count": 31,
     "metadata": {},
     "output_type": "execute_result"
    }
   ],
   "source": [
    "# 다차원배열에서 원소 조회하기\n",
    "list2d = arr2d.tolist() # 배열을 리스트로 변환\n",
    "list2d"
   ]
  },
  {
   "cell_type": "code",
   "execution_count": 33,
   "id": "7d962090",
   "metadata": {},
   "outputs": [
    {
     "data": {
      "text/plain": [
       "2"
      ]
     },
     "execution_count": 33,
     "metadata": {},
     "output_type": "execute_result"
    }
   ],
   "source": [
    "# 리스트는 정수만 이용해서 원소 조회 가능\n",
    "# 따라서 리스트 내 리스트의 원소를 조회할 때는 인덱스를 두 번 사용해야함\n",
    "list2d[0][1]"
   ]
  },
  {
   "cell_type": "code",
   "execution_count": 34,
   "id": "cb043fb4",
   "metadata": {},
   "outputs": [
    {
     "ename": "TypeError",
     "evalue": "list indices must be integers or slices, not tuple",
     "output_type": "error",
     "traceback": [
      "\u001b[1;31m---------------------------------------------------------------------------\u001b[0m",
      "\u001b[1;31mTypeError\u001b[0m                                 Traceback (most recent call last)",
      "Cell \u001b[1;32mIn[34], line 1\u001b[0m\n\u001b[1;32m----> 1\u001b[0m \u001b[43mlist2d\u001b[49m\u001b[43m[\u001b[49m\u001b[38;5;241;43m0\u001b[39;49m\u001b[43m,\u001b[49m\u001b[43m \u001b[49m\u001b[38;5;241;43m1\u001b[39;49m\u001b[43m]\u001b[49m\n",
      "\u001b[1;31mTypeError\u001b[0m: list indices must be integers or slices, not tuple"
     ]
    }
   ],
   "source": [
    "list2d[0, 1]"
   ]
  },
  {
   "cell_type": "code",
   "execution_count": 35,
   "id": "8a1fdb79",
   "metadata": {},
   "outputs": [
    {
     "data": {
      "text/plain": [
       "2"
      ]
     },
     "execution_count": 35,
     "metadata": {},
     "output_type": "execute_result"
    }
   ],
   "source": [
    "# 다차원 배열은 행과 열의 인덱스를 튜플로 조회할 수 있음\n",
    "arr2d[0, 1]"
   ]
  },
  {
   "cell_type": "code",
   "execution_count": 38,
   "id": "03a2f29d",
   "metadata": {},
   "outputs": [],
   "source": [
    "# 슬라이싱\n",
    "arr1 = np.array([[0, 1, 2, 3], [4, 5, 6, 7]])"
   ]
  },
  {
   "cell_type": "code",
   "execution_count": 39,
   "id": "3c6e4915",
   "metadata": {},
   "outputs": [
    {
     "data": {
      "text/plain": [
       "array([[0, 1, 2, 3],\n",
       "       [4, 5, 6, 7]])"
      ]
     },
     "execution_count": 39,
     "metadata": {},
     "output_type": "execute_result"
    }
   ],
   "source": [
    "arr1"
   ]
  },
  {
   "cell_type": "code",
   "execution_count": 47,
   "id": "ed56ffeb",
   "metadata": {},
   "outputs": [
    {
     "data": {
      "text/plain": [
       "array([0, 1, 2, 3])"
      ]
     },
     "execution_count": 47,
     "metadata": {},
     "output_type": "execute_result"
    }
   ],
   "source": [
    "# 첫 번째 행 전체\n",
    "arr1[0, :]"
   ]
  },
  {
   "cell_type": "code",
   "execution_count": 50,
   "id": "19346ed8",
   "metadata": {},
   "outputs": [
    {
     "data": {
      "text/plain": [
       "array([1, 5])"
      ]
     },
     "execution_count": 50,
     "metadata": {},
     "output_type": "execute_result"
    }
   ],
   "source": [
    "# 두 번째 열 전체\n",
    "arr1[:, 1]"
   ]
  },
  {
   "cell_type": "code",
   "execution_count": 51,
   "id": "f371b981",
   "metadata": {},
   "outputs": [
    {
     "data": {
      "text/plain": [
       "array([5, 6, 7])"
      ]
     },
     "execution_count": 51,
     "metadata": {},
     "output_type": "execute_result"
    }
   ],
   "source": [
    "# 두 번째 행의 두 번째 열부터 끝열까지\n",
    "arr1[1, 1:]"
   ]
  },
  {
   "cell_type": "code",
   "execution_count": 53,
   "id": "e8b692ac",
   "metadata": {},
   "outputs": [
    {
     "data": {
      "text/plain": [
       "array([[0, 1],\n",
       "       [4, 5]])"
      ]
     },
     "execution_count": 53,
     "metadata": {},
     "output_type": "execute_result"
    }
   ],
   "source": [
    "# 각 행의 두 번째 열까지만\n",
    "arr1[:, :2]"
   ]
  },
  {
   "cell_type": "markdown",
   "id": "5ab9d5a1",
   "metadata": {},
   "source": [
    "## 파이썬 리스트와 넘파이 배열의 차이\n",
    "\n",
    "- 넘파이 배열은 배열끼리 연산이 가능하지만 파이썬 리스트는 값의 추가만 가능\n",
    "- 넘파이 배열은 숫자와의 연산도 가능하지만 파이썬 리스트는 불가능\n",
    " \n",
    "- 사용 용도\n",
    "    - 파이썬 리스트는 값을 추가하거나 제거하는 일(데이터 관리)에 사용\n",
    "    - 넘파이 배열은 수치 계산이 많고 복잡하거나 다차원배열이 필요할 때 사용"
   ]
  },
  {
   "cell_type": "markdown",
   "id": "d5ad163d",
   "metadata": {},
   "source": [
    "# 연습문제\n",
    "\n",
    "1. 아래의 행렬에서 값 7을 인덱싱\n",
    "2. 아래의 행렬에서 값 14를 인덱싱\n",
    "3. 아래의 행렬에서 배열 [6, 7]을 슬라이싱\n",
    "4. 아래의 행렬에서 배열 [7, 12]를 슬라이싱\n",
    "5. 아래의 행렬에서 배열 [[3, 4], [8, 9]]를 슬라이싱"
   ]
  },
  {
   "cell_type": "code",
   "execution_count": 54,
   "id": "ab17f8df",
   "metadata": {},
   "outputs": [],
   "source": [
    "m = np.array([[0, 1, 2, 3, 4],\n",
    "             [5, 6, 7, 8, 9],\n",
    "              [10, 11, 12, 13, 14]])"
   ]
  },
  {
   "cell_type": "code",
   "execution_count": 57,
   "id": "8c2a15a8",
   "metadata": {
    "scrolled": true
   },
   "outputs": [
    {
     "data": {
      "text/plain": [
       "7"
      ]
     },
     "execution_count": 57,
     "metadata": {},
     "output_type": "execute_result"
    }
   ],
   "source": [
    "m[1, 2]"
   ]
  },
  {
   "cell_type": "code",
   "execution_count": 58,
   "id": "38a8eb47",
   "metadata": {
    "scrolled": true
   },
   "outputs": [
    {
     "data": {
      "text/plain": [
       "14"
      ]
     },
     "execution_count": 58,
     "metadata": {},
     "output_type": "execute_result"
    }
   ],
   "source": [
    "m[2, 4]"
   ]
  },
  {
   "cell_type": "code",
   "execution_count": 59,
   "id": "59009224",
   "metadata": {
    "scrolled": true
   },
   "outputs": [
    {
     "data": {
      "text/plain": [
       "array([6, 7])"
      ]
     },
     "execution_count": 59,
     "metadata": {},
     "output_type": "execute_result"
    }
   ],
   "source": [
    "m[1, 1:3]"
   ]
  },
  {
   "cell_type": "code",
   "execution_count": 61,
   "id": "9b067317",
   "metadata": {
    "scrolled": true
   },
   "outputs": [
    {
     "data": {
      "text/plain": [
       "array([ 7, 12])"
      ]
     },
     "execution_count": 61,
     "metadata": {},
     "output_type": "execute_result"
    }
   ],
   "source": [
    "m[1:3, 2]"
   ]
  },
  {
   "cell_type": "code",
   "execution_count": 62,
   "id": "f59531dc",
   "metadata": {},
   "outputs": [
    {
     "data": {
      "text/plain": [
       "array([[3, 4],\n",
       "       [8, 9]])"
      ]
     },
     "execution_count": 62,
     "metadata": {},
     "output_type": "execute_result"
    }
   ],
   "source": [
    "m[:2, 3:]"
   ]
  },
  {
   "cell_type": "markdown",
   "id": "ce38fec1",
   "metadata": {},
   "source": [
    "# 전치 연산(transpose)\n",
    "\n",
    "- 2차원 배열의 행과 열을 바꾸는 연산"
   ]
  },
  {
   "cell_type": "code",
   "execution_count": 63,
   "id": "4c67bcaf",
   "metadata": {},
   "outputs": [],
   "source": [
    "arr = np.array([[1, 2, 3], [4, 5, 6]])"
   ]
  },
  {
   "cell_type": "code",
   "execution_count": 64,
   "id": "1be4ab6c",
   "metadata": {},
   "outputs": [
    {
     "data": {
      "text/plain": [
       "array([[1, 2, 3],\n",
       "       [4, 5, 6]])"
      ]
     },
     "execution_count": 64,
     "metadata": {},
     "output_type": "execute_result"
    }
   ],
   "source": [
    "arr"
   ]
  },
  {
   "cell_type": "code",
   "execution_count": 65,
   "id": "11df02b3",
   "metadata": {},
   "outputs": [
    {
     "data": {
      "text/plain": [
       "(2, 3)"
      ]
     },
     "execution_count": 65,
     "metadata": {},
     "output_type": "execute_result"
    }
   ],
   "source": [
    "arr.shape"
   ]
  },
  {
   "cell_type": "code",
   "execution_count": 66,
   "id": "f25b4101",
   "metadata": {},
   "outputs": [
    {
     "data": {
      "text/plain": [
       "array([[1, 4],\n",
       "       [2, 5],\n",
       "       [3, 6]])"
      ]
     },
     "execution_count": 66,
     "metadata": {},
     "output_type": "execute_result"
    }
   ],
   "source": [
    "arr.T"
   ]
  },
  {
   "cell_type": "code",
   "execution_count": 72,
   "id": "db04129f",
   "metadata": {},
   "outputs": [
    {
     "data": {
      "text/plain": [
       "(3, 2)"
      ]
     },
     "execution_count": 72,
     "metadata": {},
     "output_type": "execute_result"
    }
   ],
   "source": [
    "arr.T.shape"
   ]
  },
  {
   "cell_type": "markdown",
   "id": "e967c10f",
   "metadata": {},
   "source": [
    "# 배열 크기 변형"
   ]
  },
  {
   "cell_type": "code",
   "execution_count": 74,
   "id": "19611d21",
   "metadata": {},
   "outputs": [
    {
     "data": {
      "text/plain": [
       "array([ 0,  1,  2,  3,  4,  5,  6,  7,  8,  9, 10, 11])"
      ]
     },
     "execution_count": 74,
     "metadata": {},
     "output_type": "execute_result"
    }
   ],
   "source": [
    "arr1 = np.arange(12)\n",
    "arr1"
   ]
  },
  {
   "cell_type": "code",
   "execution_count": 75,
   "id": "2a68ae8c",
   "metadata": {},
   "outputs": [
    {
     "data": {
      "text/plain": [
       "array([[ 0,  1,  2,  3],\n",
       "       [ 4,  5,  6,  7],\n",
       "       [ 8,  9, 10, 11]])"
      ]
     },
     "execution_count": 75,
     "metadata": {},
     "output_type": "execute_result"
    }
   ],
   "source": [
    "arr2 = arr1.reshape(3, 4)\n",
    "arr2"
   ]
  },
  {
   "cell_type": "markdown",
   "id": "fce6e40b",
   "metadata": {},
   "source": [
    "- 사용하는 원소의 수가 정해져 있기 때문에 reshape의 형태 원소 중 하나는 -1로 대체할 수 있음"
   ]
  },
  {
   "cell_type": "code",
   "execution_count": 78,
   "id": "8d68658c",
   "metadata": {},
   "outputs": [
    {
     "data": {
      "text/plain": [
       "array([[ 0,  1,  2,  3],\n",
       "       [ 4,  5,  6,  7],\n",
       "       [ 8,  9, 10, 11]])"
      ]
     },
     "execution_count": 78,
     "metadata": {},
     "output_type": "execute_result"
    }
   ],
   "source": [
    "arr1.reshape(3, -1)"
   ]
  },
  {
   "cell_type": "code",
   "execution_count": 80,
   "id": "5b6fd5e7",
   "metadata": {},
   "outputs": [
    {
     "data": {
      "text/plain": [
       "array([[[ 0,  1,  2],\n",
       "        [ 3,  4,  5]],\n",
       "\n",
       "       [[ 6,  7,  8],\n",
       "        [ 9, 10, 11]]])"
      ]
     },
     "execution_count": 80,
     "metadata": {},
     "output_type": "execute_result"
    }
   ],
   "source": [
    "arr1.reshape(2, 2, -1)"
   ]
  },
  {
   "cell_type": "code",
   "execution_count": 88,
   "id": "3409a8f6",
   "metadata": {},
   "outputs": [
    {
     "data": {
      "text/plain": [
       "array([[[ 0,  1],\n",
       "        [ 2,  3],\n",
       "        [ 4,  5]],\n",
       "\n",
       "       [[ 6,  7],\n",
       "        [ 8,  9],\n",
       "        [10, 11]]])"
      ]
     },
     "execution_count": 88,
     "metadata": {},
     "output_type": "execute_result"
    }
   ],
   "source": [
    "arr1.reshape(2, -1, 2)"
   ]
  },
  {
   "cell_type": "markdown",
   "id": "b24f46f5",
   "metadata": {},
   "source": [
    "# 넘파이 함수의 특징\n",
    "\n",
    "- 벡터화 연산\n",
    "    - 벡터와 행렬의 연산은 구성하는 원소별로 처리하는 것이 보통\n",
    "    - 동일한 인덱스의 원소끼리 계산을 처리하는 것을 벡터화 연산이라고 함\n",
    "    \n",
    "- 유니버설 함수(universal funchtion)\n",
    "    - 벡터화 연산을 지원하는 특별한 함수를 유니버설 함수라고 함"
   ]
  },
  {
   "cell_type": "code",
   "execution_count": 89,
   "id": "4f414255",
   "metadata": {},
   "outputs": [],
   "source": [
    "# 일반 파이썬 함수의 타입 확인\n",
    "def test():\n",
    "    pass"
   ]
  },
  {
   "cell_type": "code",
   "execution_count": 90,
   "id": "d5f9e6dc",
   "metadata": {},
   "outputs": [
    {
     "data": {
      "text/plain": [
       "function"
      ]
     },
     "execution_count": 90,
     "metadata": {},
     "output_type": "execute_result"
    }
   ],
   "source": [
    "type(test)"
   ]
  },
  {
   "cell_type": "code",
   "execution_count": 91,
   "id": "7ce09c38",
   "metadata": {},
   "outputs": [
    {
     "data": {
      "text/plain": [
       "numpy.ufunc"
      ]
     },
     "execution_count": 91,
     "metadata": {},
     "output_type": "execute_result"
    }
   ],
   "source": [
    "# 유니버설 함수 확인\n",
    "type(np.add)"
   ]
  },
  {
   "cell_type": "code",
   "execution_count": 92,
   "id": "9deb9a45",
   "metadata": {},
   "outputs": [
    {
     "data": {
      "text/plain": [
       "function"
      ]
     },
     "execution_count": 92,
     "metadata": {},
     "output_type": "execute_result"
    }
   ],
   "source": [
    "# 넘파이 모듈에는 유니버설 함수도 있고 일반 함수도 있음\n",
    "type(np.sort)"
   ]
  },
  {
   "cell_type": "code",
   "execution_count": 93,
   "id": "078d2b24",
   "metadata": {},
   "outputs": [
    {
     "data": {
      "text/plain": [
       "[[1, 2, 3], [4, 5, 6], [1, 2, 3], [4, 5, 6]]"
      ]
     },
     "execution_count": 93,
     "metadata": {},
     "output_type": "execute_result"
    }
   ],
   "source": [
    "list2d + list2d"
   ]
  },
  {
   "cell_type": "code",
   "execution_count": 94,
   "id": "4e0c64bb",
   "metadata": {
    "scrolled": true
   },
   "outputs": [
    {
     "data": {
      "text/plain": [
       "array([[ 2,  4,  6],\n",
       "       [ 8, 10, 12]])"
      ]
     },
     "execution_count": 94,
     "metadata": {},
     "output_type": "execute_result"
    }
   ],
   "source": [
    "np.add(list2d, list2d)"
   ]
  },
  {
   "cell_type": "markdown",
   "id": "bacc90d8",
   "metadata": {},
   "source": [
    "## 벡터화 연산\n",
    "\n",
    "- 벡터화 연산이 필요한 이유\n",
    "    - data 리스트 내의 각 값에 2를 곱해야 한다면?"
   ]
  },
  {
   "cell_type": "code",
   "execution_count": 3,
   "id": "c074066d",
   "metadata": {},
   "outputs": [
    {
     "data": {
      "text/plain": [
       "[0, 1, 2, 3, 4, 5, 6, 7, 8, 9]"
      ]
     },
     "execution_count": 3,
     "metadata": {},
     "output_type": "execute_result"
    }
   ],
   "source": [
    "# 리스트를 통한 풀이\n",
    "data = list(range(10))\n",
    "data"
   ]
  },
  {
   "cell_type": "code",
   "execution_count": 5,
   "id": "0cc40a46",
   "metadata": {},
   "outputs": [
    {
     "data": {
      "text/plain": [
       "[0, 1, 2, 3, 4, 5, 6, 7, 8, 9, 0, 1, 2, 3, 4, 5, 6, 7, 8, 9]"
      ]
     },
     "execution_count": 5,
     "metadata": {},
     "output_type": "execute_result"
    }
   ],
   "source": [
    "data * 2"
   ]
  },
  {
   "cell_type": "code",
   "execution_count": 6,
   "id": "e4863cbc",
   "metadata": {},
   "outputs": [
    {
     "data": {
      "text/plain": [
       "[0, 2, 4, 6, 8, 10, 12, 14, 16, 18]"
      ]
     },
     "execution_count": 6,
     "metadata": {},
     "output_type": "execute_result"
    }
   ],
   "source": [
    "ans = []\n",
    "\n",
    "for i in data:\n",
    "    ans.append(i * 2)\n",
    "    \n",
    "ans"
   ]
  },
  {
   "cell_type": "code",
   "execution_count": 7,
   "id": "7ccbc265",
   "metadata": {},
   "outputs": [
    {
     "data": {
      "text/plain": [
       "array([0, 1, 2, 3, 4, 5, 6, 7, 8, 9])"
      ]
     },
     "execution_count": 7,
     "metadata": {},
     "output_type": "execute_result"
    }
   ],
   "source": [
    "# 넘파이를 통한 풀이\n",
    "data = np.array(data)\n",
    "data"
   ]
  },
  {
   "cell_type": "code",
   "execution_count": 8,
   "id": "23d05403",
   "metadata": {},
   "outputs": [
    {
     "data": {
      "text/plain": [
       "array([ 0,  2,  4,  6,  8, 10, 12, 14, 16, 18])"
      ]
     },
     "execution_count": 8,
     "metadata": {},
     "output_type": "execute_result"
    }
   ],
   "source": [
    "data * 2"
   ]
  },
  {
   "cell_type": "code",
   "execution_count": 9,
   "id": "a4ea1a6f",
   "metadata": {},
   "outputs": [
    {
     "data": {
      "text/plain": [
       "[0, 2, 4, 6, 8, 10, 12, 14, 16, 18]"
      ]
     },
     "execution_count": 9,
     "metadata": {},
     "output_type": "execute_result"
    }
   ],
   "source": [
    "(data * 2).tolist()"
   ]
  },
  {
   "cell_type": "markdown",
   "id": "089ee4ce",
   "metadata": {},
   "source": [
    "### 넘파이 벡터화 연산\n",
    "\n",
    "- 벡터화 연산은 비교 연산과 논리 연산을 포함한 모든 종류의 수학 연산에 대해 적용됨"
   ]
  },
  {
   "cell_type": "code",
   "execution_count": 10,
   "id": "3ed3d3a1",
   "metadata": {},
   "outputs": [],
   "source": [
    "a = np.array([1, 2, 3])\n",
    "b = np.array([10, 20, 30])"
   ]
  },
  {
   "cell_type": "code",
   "execution_count": 11,
   "id": "d180a0ce",
   "metadata": {},
   "outputs": [
    {
     "data": {
      "text/plain": [
       "array([2, 4, 6])"
      ]
     },
     "execution_count": 11,
     "metadata": {},
     "output_type": "execute_result"
    }
   ],
   "source": [
    "2 * a"
   ]
  },
  {
   "cell_type": "code",
   "execution_count": 12,
   "id": "173f5700",
   "metadata": {},
   "outputs": [
    {
     "data": {
      "text/plain": [
       "array([12, 24, 36])"
      ]
     },
     "execution_count": 12,
     "metadata": {},
     "output_type": "execute_result"
    }
   ],
   "source": [
    "2 * a + b"
   ]
  },
  {
   "cell_type": "code",
   "execution_count": 13,
   "id": "59bee595",
   "metadata": {},
   "outputs": [
    {
     "data": {
      "text/plain": [
       "array([False,  True, False])"
      ]
     },
     "execution_count": 13,
     "metadata": {},
     "output_type": "execute_result"
    }
   ],
   "source": [
    "a == 2"
   ]
  },
  {
   "cell_type": "code",
   "execution_count": 14,
   "id": "3d5ce87f",
   "metadata": {},
   "outputs": [
    {
     "data": {
      "text/plain": [
       "array([False,  True,  True])"
      ]
     },
     "execution_count": 14,
     "metadata": {},
     "output_type": "execute_result"
    }
   ],
   "source": [
    "b > 10"
   ]
  },
  {
   "cell_type": "code",
   "execution_count": 15,
   "id": "4c7902be",
   "metadata": {},
   "outputs": [
    {
     "data": {
      "text/plain": [
       "array([False,  True, False])"
      ]
     },
     "execution_count": 15,
     "metadata": {},
     "output_type": "execute_result"
    }
   ],
   "source": [
    "(a == 2) & (b > 10)"
   ]
  },
  {
   "cell_type": "code",
   "execution_count": 16,
   "id": "7bc3adab",
   "metadata": {},
   "outputs": [
    {
     "data": {
      "text/plain": [
       "array([2])"
      ]
     },
     "execution_count": 16,
     "metadata": {},
     "output_type": "execute_result"
    }
   ],
   "source": [
    "a[a == 2]"
   ]
  },
  {
   "cell_type": "markdown",
   "id": "85695b2f",
   "metadata": {},
   "source": [
    "- 배열끼리의 연산"
   ]
  },
  {
   "cell_type": "code",
   "execution_count": 17,
   "id": "25382483",
   "metadata": {},
   "outputs": [
    {
     "data": {
      "text/plain": [
       "array([6, 7, 8, 9])"
      ]
     },
     "execution_count": 17,
     "metadata": {},
     "output_type": "execute_result"
    }
   ],
   "source": [
    "arr1 = np.arange(6, 10)\n",
    "arr1"
   ]
  },
  {
   "cell_type": "code",
   "execution_count": 19,
   "id": "a3a20d5f",
   "metadata": {},
   "outputs": [
    {
     "data": {
      "text/plain": [
       "array([10, 11, 12, 13])"
      ]
     },
     "execution_count": 19,
     "metadata": {},
     "output_type": "execute_result"
    }
   ],
   "source": [
    "arr2 = np.arange(10, 14)\n",
    "arr2"
   ]
  },
  {
   "cell_type": "code",
   "execution_count": 21,
   "id": "c787c6eb",
   "metadata": {},
   "outputs": [
    {
     "data": {
      "text/plain": [
       "array([ 60,  77,  96, 117])"
      ]
     },
     "execution_count": 21,
     "metadata": {},
     "output_type": "execute_result"
    }
   ],
   "source": [
    "# 두 개의 다차원 배열을 곱하면 동일한 인덱스의 원소끼리 곱셈한 결과인 1차원 배열이 반환\n",
    "arr1 * arr2"
   ]
  },
  {
   "cell_type": "code",
   "execution_count": 22,
   "id": "7617cd6d",
   "metadata": {},
   "outputs": [
    {
     "data": {
      "text/plain": [
       "array([[6],\n",
       "       [7],\n",
       "       [8],\n",
       "       [9]])"
      ]
     },
     "execution_count": 22,
     "metadata": {},
     "output_type": "execute_result"
    }
   ],
   "source": [
    "# arr1에 차원 추가(수직축 추가)\n",
    "new_arr1 = arr1[:, np.newaxis]\n",
    "new_arr1"
   ]
  },
  {
   "cell_type": "code",
   "execution_count": 23,
   "id": "df79a71d",
   "metadata": {},
   "outputs": [
    {
     "data": {
      "text/plain": [
       "(4, 1)"
      ]
     },
     "execution_count": 23,
     "metadata": {},
     "output_type": "execute_result"
    }
   ],
   "source": [
    "new_arr1.shape"
   ]
  },
  {
   "cell_type": "code",
   "execution_count": 24,
   "id": "ebb8ddbe",
   "metadata": {},
   "outputs": [
    {
     "data": {
      "text/plain": [
       "array([[10, 11, 12, 13]])"
      ]
     },
     "execution_count": 24,
     "metadata": {},
     "output_type": "execute_result"
    }
   ],
   "source": [
    "# arr2에 차원 추가(수평축 추가)\n",
    "new_arr2 = arr2[np.newaxis, :]\n",
    "new_arr2"
   ]
  },
  {
   "cell_type": "code",
   "execution_count": 25,
   "id": "6a6e29e3",
   "metadata": {},
   "outputs": [
    {
     "data": {
      "text/plain": [
       "(1, 4)"
      ]
     },
     "execution_count": 25,
     "metadata": {},
     "output_type": "execute_result"
    }
   ],
   "source": [
    "new_arr2.shape"
   ]
  },
  {
   "cell_type": "code",
   "execution_count": 26,
   "id": "7b776ea3",
   "metadata": {},
   "outputs": [
    {
     "data": {
      "text/plain": [
       "array([[ 60,  66,  72,  78],\n",
       "       [ 70,  77,  84,  91],\n",
       "       [ 80,  88,  96, 104],\n",
       "       [ 90,  99, 108, 117]])"
      ]
     },
     "execution_count": 26,
     "metadata": {},
     "output_type": "execute_result"
    }
   ],
   "source": [
    "# 행렬곱 연산\n",
    "new_arr1 * new_arr2"
   ]
  },
  {
   "cell_type": "markdown",
   "id": "f76c6668",
   "metadata": {},
   "source": [
    "## 브로드캐스팅(broadcasting)\n",
    "\n",
    "- 배열끼리 연산을 하기 위해서는 두 배열의 크기가 같아야 함\n",
    "- 서로 다른 크기를 가진 배열의 사칙 연산을 하는 경우 넘파이에서는 크기가 작은 배열을 자동으로 반복 확장하여 크기가 큰 배열에 맞춤"
   ]
  },
  {
   "cell_type": "code",
   "execution_count": 27,
   "id": "e7ddff63",
   "metadata": {},
   "outputs": [
    {
     "data": {
      "text/plain": [
       "array([[16, 17, 18, 19],\n",
       "       [17, 18, 19, 20],\n",
       "       [18, 19, 20, 21],\n",
       "       [19, 20, 21, 22]])"
      ]
     },
     "execution_count": 27,
     "metadata": {},
     "output_type": "execute_result"
    }
   ],
   "source": [
    "new_arr1 + new_arr2"
   ]
  },
  {
   "cell_type": "markdown",
   "id": "dd71b49e",
   "metadata": {},
   "source": [
    "# 연습문제\n",
    "\n",
    "1. 아래의 배열에서 3의 배수를 찾기\n",
    "2. 아래의 배열에서 4로 나누면 1이 남는 수 찾기\n",
    "3. 아래의 배열에서 3을 나누면 나누어지고 4로 나누면 1이 남는 수 찾기"
   ]
  },
  {
   "cell_type": "code",
   "execution_count": 37,
   "id": "f187e06c",
   "metadata": {},
   "outputs": [],
   "source": [
    "x = np.arange(1,21)"
   ]
  },
  {
   "cell_type": "code",
   "execution_count": 38,
   "id": "fad3b49b",
   "metadata": {
    "scrolled": true
   },
   "outputs": [
    {
     "data": {
      "text/plain": [
       "array([ 1,  2,  3,  4,  5,  6,  7,  8,  9, 10, 11, 12, 13, 14, 15, 16, 17,\n",
       "       18, 19, 20])"
      ]
     },
     "execution_count": 38,
     "metadata": {},
     "output_type": "execute_result"
    }
   ],
   "source": [
    "x"
   ]
  },
  {
   "cell_type": "code",
   "execution_count": 44,
   "id": "edfb1e09",
   "metadata": {
    "scrolled": true
   },
   "outputs": [
    {
     "data": {
      "text/plain": [
       "array([ 3,  6,  9, 12, 15, 18])"
      ]
     },
     "execution_count": 44,
     "metadata": {},
     "output_type": "execute_result"
    }
   ],
   "source": [
    "x[x % 3 == 0]"
   ]
  },
  {
   "cell_type": "code",
   "execution_count": 45,
   "id": "3c57c1dd",
   "metadata": {
    "scrolled": true
   },
   "outputs": [
    {
     "data": {
      "text/plain": [
       "array([ 1,  5,  9, 13, 17])"
      ]
     },
     "execution_count": 45,
     "metadata": {},
     "output_type": "execute_result"
    }
   ],
   "source": [
    "x[x % 4 == 1]"
   ]
  },
  {
   "cell_type": "code",
   "execution_count": 46,
   "id": "02d7eb9e",
   "metadata": {
    "scrolled": false
   },
   "outputs": [
    {
     "data": {
      "text/plain": [
       "array([9])"
      ]
     },
     "execution_count": 46,
     "metadata": {},
     "output_type": "execute_result"
    }
   ],
   "source": [
    "x[(x % 3 == 0) & (x % 4 == 1)]"
   ]
  },
  {
   "cell_type": "markdown",
   "id": "f7c09983",
   "metadata": {},
   "source": [
    "## 축에 따른 연산\n",
    "\n",
    "- 동일한 축에 있는 원소들을 계산하기 위해 필요함"
   ]
  },
  {
   "cell_type": "markdown",
   "id": "47099b2d",
   "metadata": {},
   "source": [
    "### 1차원 배열"
   ]
  },
  {
   "cell_type": "code",
   "execution_count": 47,
   "id": "4b9d33aa",
   "metadata": {},
   "outputs": [
    {
     "data": {
      "text/plain": [
       "array([1, 2, 3, 4])"
      ]
     },
     "execution_count": 47,
     "metadata": {},
     "output_type": "execute_result"
    }
   ],
   "source": [
    "arr1 = np.array([1, 2, 3, 4])\n",
    "arr1"
   ]
  },
  {
   "cell_type": "code",
   "execution_count": 49,
   "id": "e122df99",
   "metadata": {},
   "outputs": [
    {
     "name": "stdout",
     "output_type": "stream",
     "text": [
      "10\n",
      "10\n"
     ]
    }
   ],
   "source": [
    "# 합계\n",
    "print(np.sum(arr1))\n",
    "print(arr1.sum())"
   ]
  },
  {
   "cell_type": "code",
   "execution_count": 50,
   "id": "9c8a98aa",
   "metadata": {},
   "outputs": [
    {
     "data": {
      "text/plain": [
       "4"
      ]
     },
     "execution_count": 50,
     "metadata": {},
     "output_type": "execute_result"
    }
   ],
   "source": [
    "# 최댓값\n",
    "arr1.max()"
   ]
  },
  {
   "cell_type": "code",
   "execution_count": 51,
   "id": "90372512",
   "metadata": {},
   "outputs": [
    {
     "data": {
      "text/plain": [
       "1"
      ]
     },
     "execution_count": 51,
     "metadata": {},
     "output_type": "execute_result"
    }
   ],
   "source": [
    "# 최솟값\n",
    "arr1.min()"
   ]
  },
  {
   "cell_type": "code",
   "execution_count": 53,
   "id": "e70a73db",
   "metadata": {
    "scrolled": true
   },
   "outputs": [
    {
     "data": {
      "text/plain": [
       "0"
      ]
     },
     "execution_count": 53,
     "metadata": {},
     "output_type": "execute_result"
    }
   ],
   "source": [
    "# 최솟값의 위치\n",
    "arr1.argmin()"
   ]
  },
  {
   "cell_type": "code",
   "execution_count": 54,
   "id": "f6f866f1",
   "metadata": {},
   "outputs": [
    {
     "data": {
      "text/plain": [
       "3"
      ]
     },
     "execution_count": 54,
     "metadata": {},
     "output_type": "execute_result"
    }
   ],
   "source": [
    "# 최댓값의 위치\n",
    "arr1.argmax()"
   ]
  },
  {
   "cell_type": "code",
   "execution_count": 55,
   "id": "520a111d",
   "metadata": {},
   "outputs": [
    {
     "data": {
      "text/plain": [
       "2.5"
      ]
     },
     "execution_count": 55,
     "metadata": {},
     "output_type": "execute_result"
    }
   ],
   "source": [
    "# 평균\n",
    "arr1.mean()"
   ]
  },
  {
   "cell_type": "code",
   "execution_count": 56,
   "id": "9dafdcfe",
   "metadata": {},
   "outputs": [
    {
     "data": {
      "text/plain": [
       "2.5"
      ]
     },
     "execution_count": 56,
     "metadata": {},
     "output_type": "execute_result"
    }
   ],
   "source": [
    "# 중앙값\n",
    "np.median(arr1)"
   ]
  },
  {
   "cell_type": "markdown",
   "id": "d86813ac",
   "metadata": {},
   "source": [
    "### 2차원 배열"
   ]
  },
  {
   "cell_type": "code",
   "execution_count": 58,
   "id": "d8c87ff4",
   "metadata": {},
   "outputs": [
    {
     "data": {
      "text/plain": [
       "array([[1, 2],\n",
       "       [3, 4]])"
      ]
     },
     "execution_count": 58,
     "metadata": {},
     "output_type": "execute_result"
    }
   ],
   "source": [
    "arr2 = arr1.reshape(2, 2)\n",
    "arr2"
   ]
  },
  {
   "cell_type": "code",
   "execution_count": 62,
   "id": "61689370",
   "metadata": {},
   "outputs": [
    {
     "data": {
      "text/plain": [
       "10"
      ]
     },
     "execution_count": 62,
     "metadata": {},
     "output_type": "execute_result"
    }
   ],
   "source": [
    "# 모든 원소를 더한 합\n",
    "np.sum(arr2)"
   ]
  },
  {
   "cell_type": "code",
   "execution_count": 63,
   "id": "b28d6aec",
   "metadata": {},
   "outputs": [
    {
     "data": {
      "text/plain": [
       "array([4, 6])"
      ]
     },
     "execution_count": 63,
     "metadata": {},
     "output_type": "execute_result"
    }
   ],
   "source": [
    "# 수직 방향으로 같은 열에 속한 원소만 합산\n",
    "np.sum(arr2, axis = 0)"
   ]
  },
  {
   "cell_type": "code",
   "execution_count": 64,
   "id": "75dc1a46",
   "metadata": {},
   "outputs": [
    {
     "data": {
      "text/plain": [
       "array([3, 7])"
      ]
     },
     "execution_count": 64,
     "metadata": {},
     "output_type": "execute_result"
    }
   ],
   "source": [
    "# 수평 방향으로 같은 행에 속한 원소만 합산\n",
    "np.sum(arr2, axis = 1)"
   ]
  },
  {
   "cell_type": "code",
   "execution_count": 65,
   "id": "6a45ead3",
   "metadata": {},
   "outputs": [
    {
     "data": {
      "text/plain": [
       "(2, 2)"
      ]
     },
     "execution_count": 65,
     "metadata": {},
     "output_type": "execute_result"
    }
   ],
   "source": [
    "arr2.shape"
   ]
  },
  {
   "cell_type": "code",
   "execution_count": 70,
   "id": "6f29429c",
   "metadata": {},
   "outputs": [],
   "source": [
    "arr3 = np.arange(1,28).reshape(3, 3, 3)"
   ]
  },
  {
   "cell_type": "code",
   "execution_count": 71,
   "id": "52c25c61",
   "metadata": {},
   "outputs": [
    {
     "data": {
      "text/plain": [
       "array([[[ 1,  2,  3],\n",
       "        [ 4,  5,  6],\n",
       "        [ 7,  8,  9]],\n",
       "\n",
       "       [[10, 11, 12],\n",
       "        [13, 14, 15],\n",
       "        [16, 17, 18]],\n",
       "\n",
       "       [[19, 20, 21],\n",
       "        [22, 23, 24],\n",
       "        [25, 26, 27]]])"
      ]
     },
     "execution_count": 71,
     "metadata": {},
     "output_type": "execute_result"
    }
   ],
   "source": [
    "arr3"
   ]
  },
  {
   "cell_type": "code",
   "execution_count": 93,
   "id": "d6d4026c",
   "metadata": {
    "scrolled": true
   },
   "outputs": [
    {
     "data": {
      "text/plain": [
       "array([[ 6, 15, 24],\n",
       "       [33, 42, 51],\n",
       "       [60, 69, 78]])"
      ]
     },
     "execution_count": 93,
     "metadata": {},
     "output_type": "execute_result"
    }
   ],
   "source": [
    "np.sum(arr3, axis = 2)"
   ]
  },
  {
   "cell_type": "code",
   "execution_count": 96,
   "id": "e558a408",
   "metadata": {},
   "outputs": [],
   "source": [
    "arr4 = np.arange(1, 17).reshape(2, 2, 2, 2)"
   ]
  },
  {
   "cell_type": "code",
   "execution_count": 97,
   "id": "ad0df55a",
   "metadata": {},
   "outputs": [
    {
     "data": {
      "text/plain": [
       "array([[[[ 1,  2],\n",
       "         [ 3,  4]],\n",
       "\n",
       "        [[ 5,  6],\n",
       "         [ 7,  8]]],\n",
       "\n",
       "\n",
       "       [[[ 9, 10],\n",
       "         [11, 12]],\n",
       "\n",
       "        [[13, 14],\n",
       "         [15, 16]]]])"
      ]
     },
     "execution_count": 97,
     "metadata": {},
     "output_type": "execute_result"
    }
   ],
   "source": [
    "arr4"
   ]
  },
  {
   "cell_type": "code",
   "execution_count": 104,
   "id": "54ffdab5",
   "metadata": {},
   "outputs": [
    {
     "data": {
      "text/plain": [
       "array([[[ 4,  6],\n",
       "        [12, 14]],\n",
       "\n",
       "       [[20, 22],\n",
       "        [28, 30]]])"
      ]
     },
     "execution_count": 104,
     "metadata": {},
     "output_type": "execute_result"
    }
   ],
   "source": [
    "np.sum(arr4, axis = 2)"
   ]
  },
  {
   "cell_type": "code",
   "execution_count": 101,
   "id": "e23c6c39",
   "metadata": {},
   "outputs": [
    {
     "data": {
      "text/plain": [
       "array([[0, 7, 9],\n",
       "       [4, 5, 4]])"
      ]
     },
     "execution_count": 101,
     "metadata": {},
     "output_type": "execute_result"
    }
   ],
   "source": [
    "x = np.random.randint(0, 10, (2, 3))\n",
    "x"
   ]
  },
  {
   "cell_type": "code",
   "execution_count": 105,
   "id": "f26e8e7b",
   "metadata": {},
   "outputs": [
    {
     "data": {
      "text/plain": [
       "array([ 4, 12, 13])"
      ]
     },
     "execution_count": 105,
     "metadata": {},
     "output_type": "execute_result"
    }
   ],
   "source": [
    "np.sum(x, axis = 0)"
   ]
  },
  {
   "cell_type": "code",
   "execution_count": 106,
   "id": "f017c84d",
   "metadata": {},
   "outputs": [
    {
     "data": {
      "text/plain": [
       "array([16, 13])"
      ]
     },
     "execution_count": 106,
     "metadata": {},
     "output_type": "execute_result"
    }
   ],
   "source": [
    "np.sum(x, axis = 1)"
   ]
  },
  {
   "cell_type": "markdown",
   "id": "a8955f89",
   "metadata": {},
   "source": [
    "### 3차원 배열"
   ]
  },
  {
   "cell_type": "code",
   "execution_count": 107,
   "id": "78f1515e",
   "metadata": {},
   "outputs": [
    {
     "data": {
      "text/plain": [
       "array([1, 2, 3, 4, 5, 6, 7, 8])"
      ]
     },
     "execution_count": 107,
     "metadata": {},
     "output_type": "execute_result"
    }
   ],
   "source": [
    "arr3 = np.arange(1, 9)\n",
    "arr3"
   ]
  },
  {
   "cell_type": "code",
   "execution_count": 108,
   "id": "1e3ef3c0",
   "metadata": {},
   "outputs": [
    {
     "data": {
      "text/plain": [
       "array([[[1, 2],\n",
       "        [3, 4]],\n",
       "\n",
       "       [[5, 6],\n",
       "        [7, 8]]])"
      ]
     },
     "execution_count": 108,
     "metadata": {},
     "output_type": "execute_result"
    }
   ],
   "source": [
    "arr4 = arr3.reshape(2, 2, 2)\n",
    "arr4"
   ]
  },
  {
   "cell_type": "code",
   "execution_count": 112,
   "id": "9effa77b",
   "metadata": {},
   "outputs": [
    {
     "data": {
      "text/plain": [
       "36"
      ]
     },
     "execution_count": 112,
     "metadata": {},
     "output_type": "execute_result"
    }
   ],
   "source": [
    "# 모든 원소를 더한 합\n",
    "np.sum(arr4)"
   ]
  },
  {
   "cell_type": "code",
   "execution_count": 114,
   "id": "466634b4",
   "metadata": {},
   "outputs": [
    {
     "data": {
      "text/plain": [
       "array([[ 6,  8],\n",
       "       [10, 12]])"
      ]
     },
     "execution_count": 114,
     "metadata": {},
     "output_type": "execute_result"
    }
   ],
   "source": [
    "# 두 개의 행렬의 동일한 인덱스의 원소를 합한 값\n",
    "np.sum(arr4, axis = 0)"
   ]
  },
  {
   "cell_type": "code",
   "execution_count": 115,
   "id": "cead2745",
   "metadata": {},
   "outputs": [
    {
     "data": {
      "text/plain": [
       "array([[ 4,  6],\n",
       "       [12, 14]])"
      ]
     },
     "execution_count": 115,
     "metadata": {},
     "output_type": "execute_result"
    }
   ],
   "source": [
    "# 각 2차원 배열의 0번축의 합\n",
    "np.sum(arr4, axis = 1)"
   ]
  },
  {
   "cell_type": "code",
   "execution_count": 116,
   "id": "8442716a",
   "metadata": {},
   "outputs": [
    {
     "data": {
      "text/plain": [
       "array([[ 3,  7],\n",
       "       [11, 15]])"
      ]
     },
     "execution_count": 116,
     "metadata": {},
     "output_type": "execute_result"
    }
   ],
   "source": [
    "# 각 2차원 배열의 1번축의 합\n",
    "np.sum(arr4, axis = 2)"
   ]
  },
  {
   "cell_type": "code",
   "execution_count": 158,
   "id": "c645d533",
   "metadata": {},
   "outputs": [
    {
     "data": {
      "text/plain": [
       "array([[[3, 8, 1, 9],\n",
       "        [5, 8, 9, 3],\n",
       "        [1, 2, 1, 7]],\n",
       "\n",
       "       [[3, 9, 3, 2],\n",
       "        [9, 9, 6, 9],\n",
       "        [3, 5, 7, 5]]])"
      ]
     },
     "execution_count": 158,
     "metadata": {},
     "output_type": "execute_result"
    }
   ],
   "source": [
    "x = np.random.randint(1, 10, (2, 3, 4))\n",
    "x"
   ]
  },
  {
   "cell_type": "code",
   "execution_count": 159,
   "id": "4a1ffe6b",
   "metadata": {},
   "outputs": [
    {
     "data": {
      "text/plain": [
       "array([24, 41, 27, 35])"
      ]
     },
     "execution_count": 159,
     "metadata": {},
     "output_type": "execute_result"
    }
   ],
   "source": [
    "np.sum(x, axis = (0, 1))"
   ]
  },
  {
   "cell_type": "code",
   "execution_count": 162,
   "id": "4f82c9f3",
   "metadata": {},
   "outputs": [
    {
     "data": {
      "text/plain": [
       "array([38, 58, 31])"
      ]
     },
     "execution_count": 162,
     "metadata": {},
     "output_type": "execute_result"
    }
   ],
   "source": [
    "np.sum(x, axis = (0, 2))"
   ]
  },
  {
   "cell_type": "code",
   "execution_count": 163,
   "id": "0984675a",
   "metadata": {},
   "outputs": [
    {
     "data": {
      "text/plain": [
       "array([57, 70])"
      ]
     },
     "execution_count": 163,
     "metadata": {},
     "output_type": "execute_result"
    }
   ],
   "source": [
    "np.sum(x, axis = (1, 2))"
   ]
  },
  {
   "cell_type": "markdown",
   "id": "d84b1215",
   "metadata": {},
   "source": [
    "# 연습문제\n",
    "\n",
    "- 실수로 이루어진 5x6 형태의 데이터 행렬을 만들고 다음 값을 구한다\n",
    "1. 전체의 최댓값\n",
    "2. 각 행의 합\n",
    "3. 각 행의 최댓값\n",
    "4. 각 열의 평균\n",
    "5. 각 열의 최솟값"
   ]
  },
  {
   "cell_type": "code",
   "execution_count": 164,
   "id": "40b84f3d",
   "metadata": {},
   "outputs": [
    {
     "data": {
      "text/plain": [
       "array([[0.21222394, 0.65925636, 0.37020873, 0.13329411, 0.83501939,\n",
       "        0.78307139],\n",
       "       [0.15489473, 0.23649054, 0.82057677, 0.29982582, 0.92414609,\n",
       "        0.27294568],\n",
       "       [0.62447241, 0.91052486, 0.89850249, 0.05135415, 0.72122189,\n",
       "        0.65324259],\n",
       "       [0.1346241 , 0.78172714, 0.5098933 , 0.87070348, 0.01983614,\n",
       "        0.28926589],\n",
       "       [0.81735746, 0.88124175, 0.13529273, 0.52222748, 0.54279623,\n",
       "        0.80564143]])"
      ]
     },
     "execution_count": 164,
     "metadata": {},
     "output_type": "execute_result"
    }
   ],
   "source": [
    "y = np.random.random((5, 6))\n",
    "y"
   ]
  },
  {
   "cell_type": "code",
   "execution_count": 165,
   "id": "ad34349a",
   "metadata": {},
   "outputs": [
    {
     "data": {
      "text/plain": [
       "0.9241460919476422"
      ]
     },
     "execution_count": 165,
     "metadata": {},
     "output_type": "execute_result"
    }
   ],
   "source": [
    "y.max()"
   ]
  },
  {
   "cell_type": "code",
   "execution_count": 170,
   "id": "ad6a459b",
   "metadata": {},
   "outputs": [
    {
     "data": {
      "text/plain": [
       "array([2.99307392, 2.70887963, 3.85931838, 2.60605005, 3.70455708])"
      ]
     },
     "execution_count": 170,
     "metadata": {},
     "output_type": "execute_result"
    }
   ],
   "source": [
    "np.sum(y, axis = 1)"
   ]
  },
  {
   "cell_type": "code",
   "execution_count": 171,
   "id": "7fdafde6",
   "metadata": {},
   "outputs": [
    {
     "data": {
      "text/plain": [
       "array([0.83501939, 0.92414609, 0.91052486, 0.87070348, 0.88124175])"
      ]
     },
     "execution_count": 171,
     "metadata": {},
     "output_type": "execute_result"
    }
   ],
   "source": [
    "np.max(y, axis = 1)"
   ]
  },
  {
   "cell_type": "code",
   "execution_count": 173,
   "id": "19d04ede",
   "metadata": {},
   "outputs": [
    {
     "data": {
      "text/plain": [
       "array([0.38871453, 0.69384813, 0.5468948 , 0.37548101, 0.60860395,\n",
       "       0.5608334 ])"
      ]
     },
     "execution_count": 173,
     "metadata": {},
     "output_type": "execute_result"
    }
   ],
   "source": [
    "np.mean(y, axis = 0)"
   ]
  },
  {
   "cell_type": "code",
   "execution_count": 172,
   "id": "dc3719ea",
   "metadata": {},
   "outputs": [
    {
     "data": {
      "text/plain": [
       "array([0.1346241 , 0.23649054, 0.13529273, 0.05135415, 0.01983614,\n",
       "       0.27294568])"
      ]
     },
     "execution_count": 172,
     "metadata": {},
     "output_type": "execute_result"
    }
   ],
   "source": [
    "np.min(y, axis = 0)"
   ]
  },
  {
   "cell_type": "code",
   "execution_count": null,
   "id": "2a0f285b",
   "metadata": {},
   "outputs": [],
   "source": []
  },
  {
   "cell_type": "code",
   "execution_count": null,
   "id": "08d2d73e",
   "metadata": {},
   "outputs": [],
   "source": []
  },
  {
   "cell_type": "code",
   "execution_count": null,
   "id": "1bd561f2",
   "metadata": {},
   "outputs": [],
   "source": []
  },
  {
   "cell_type": "code",
   "execution_count": null,
   "id": "6f5a75bf",
   "metadata": {},
   "outputs": [],
   "source": []
  },
  {
   "cell_type": "code",
   "execution_count": null,
   "id": "1e6a2cd6",
   "metadata": {},
   "outputs": [],
   "source": []
  },
  {
   "cell_type": "code",
   "execution_count": null,
   "id": "7fa038d0",
   "metadata": {},
   "outputs": [],
   "source": []
  },
  {
   "cell_type": "code",
   "execution_count": null,
   "id": "51c17c6b",
   "metadata": {},
   "outputs": [],
   "source": []
  },
  {
   "cell_type": "code",
   "execution_count": null,
   "id": "a0cf97f8",
   "metadata": {},
   "outputs": [],
   "source": []
  },
  {
   "cell_type": "code",
   "execution_count": null,
   "id": "57958288",
   "metadata": {},
   "outputs": [],
   "source": []
  },
  {
   "cell_type": "code",
   "execution_count": null,
   "id": "19a1ba0e",
   "metadata": {},
   "outputs": [],
   "source": []
  },
  {
   "cell_type": "code",
   "execution_count": null,
   "id": "458d13a8",
   "metadata": {},
   "outputs": [],
   "source": []
  },
  {
   "cell_type": "code",
   "execution_count": null,
   "id": "c6b3b9e4",
   "metadata": {},
   "outputs": [],
   "source": []
  },
  {
   "cell_type": "code",
   "execution_count": null,
   "id": "99b4cab3",
   "metadata": {},
   "outputs": [],
   "source": []
  },
  {
   "cell_type": "code",
   "execution_count": null,
   "id": "d2f04c78",
   "metadata": {},
   "outputs": [],
   "source": []
  },
  {
   "cell_type": "code",
   "execution_count": null,
   "id": "e6b4d63f",
   "metadata": {},
   "outputs": [],
   "source": []
  },
  {
   "cell_type": "code",
   "execution_count": null,
   "id": "d82dd4f1",
   "metadata": {},
   "outputs": [],
   "source": []
  },
  {
   "cell_type": "code",
   "execution_count": null,
   "id": "99401d5c",
   "metadata": {},
   "outputs": [],
   "source": []
  },
  {
   "cell_type": "code",
   "execution_count": null,
   "id": "2554ccb3",
   "metadata": {},
   "outputs": [],
   "source": []
  }
 ],
 "metadata": {
  "kernelspec": {
   "display_name": "Python 3 (ipykernel)",
   "language": "python",
   "name": "python3"
  },
  "language_info": {
   "codemirror_mode": {
    "name": "ipython",
    "version": 3
   },
   "file_extension": ".py",
   "mimetype": "text/x-python",
   "name": "python",
   "nbconvert_exporter": "python",
   "pygments_lexer": "ipython3",
   "version": "3.10.9"
  }
 },
 "nbformat": 4,
 "nbformat_minor": 5
}
