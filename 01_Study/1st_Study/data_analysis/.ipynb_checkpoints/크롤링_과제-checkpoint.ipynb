{
 "cells": [
  {
   "cell_type": "code",
   "execution_count": 1,
   "id": "04bf4133",
   "metadata": {},
   "outputs": [],
   "source": [
    "# import"
   ]
  },
  {
   "cell_type": "markdown",
   "id": "b3672869",
   "metadata": {},
   "source": [
    "# 과제1-1. 티스토리 크롤링\n",
    "\n",
    "- url : https://ai-dev.tistory.com/1\n",
    "\n",
    "\n",
    "- 제목 수집\n",
    "    - \"크롤링의 세계에 오신 것을 환영합니다.\""
   ]
  },
  {
   "cell_type": "code",
   "execution_count": null,
   "id": "a7dd6400",
   "metadata": {},
   "outputs": [],
   "source": []
  },
  {
   "cell_type": "markdown",
   "id": "40649a6b",
   "metadata": {},
   "source": [
    "- 게시물 내용 수집\n",
    "    - \"Hello, world!\""
   ]
  },
  {
   "cell_type": "code",
   "execution_count": null,
   "id": "50f61b6f",
   "metadata": {},
   "outputs": [],
   "source": []
  },
  {
   "cell_type": "markdown",
   "id": "c77c415a",
   "metadata": {},
   "source": [
    "# 과제 1-2. 티스토리 크롤링\n",
    "\n",
    "- url : https://ai-dev.tistory.com/2\n",
    "\n",
    "\n",
    "- 테이블 내용 수집\n",
    "    - 상품, 색상, 가격, 셔츠1, 빨강, 20000, ......"
   ]
  },
  {
   "cell_type": "code",
   "execution_count": null,
   "id": "92f68e50",
   "metadata": {},
   "outputs": [],
   "source": []
  },
  {
   "cell_type": "markdown",
   "id": "a6b7eab4",
   "metadata": {},
   "source": [
    "- 리스트 수집\n",
    "    - 모니터, CPU, 메모리, 그래픽카드, 하드디스크, 키보드, 마우스"
   ]
  },
  {
   "cell_type": "code",
   "execution_count": null,
   "id": "1152d0de",
   "metadata": {},
   "outputs": [],
   "source": []
  },
  {
   "cell_type": "markdown",
   "id": "28140253",
   "metadata": {},
   "source": [
    "# 과제 2. 네이버 분야별 주요뉴스 수집\n",
    "\n",
    "- url : https://news.naver.com/main/officeList.naver\n",
    "- 화면 오른쪽 아래 분야별 주요뉴스의 기사 제목 수집"
   ]
  },
  {
   "cell_type": "code",
   "execution_count": null,
   "id": "e0378b07",
   "metadata": {},
   "outputs": [],
   "source": []
  },
  {
   "cell_type": "markdown",
   "id": "8e2940ee",
   "metadata": {},
   "source": [
    "# 과제 3. 다음 영화 랭킹 수집\n",
    "\n",
    "- url : https://movie.daum.net/ranking/reservation\n",
    "\n",
    "\n",
    "- 예매순위의 영화제목 수집"
   ]
  },
  {
   "cell_type": "code",
   "execution_count": null,
   "id": "cbe9cb99",
   "metadata": {},
   "outputs": [],
   "source": []
  }
 ],
 "metadata": {
  "kernelspec": {
   "display_name": "Python 3 (ipykernel)",
   "language": "python",
   "name": "python3"
  },
  "language_info": {
   "codemirror_mode": {
    "name": "ipython",
    "version": 3
   },
   "file_extension": ".py",
   "mimetype": "text/x-python",
   "name": "python",
   "nbconvert_exporter": "python",
   "pygments_lexer": "ipython3",
   "version": "3.10.9"
  }
 },
 "nbformat": 4,
 "nbformat_minor": 5
}
