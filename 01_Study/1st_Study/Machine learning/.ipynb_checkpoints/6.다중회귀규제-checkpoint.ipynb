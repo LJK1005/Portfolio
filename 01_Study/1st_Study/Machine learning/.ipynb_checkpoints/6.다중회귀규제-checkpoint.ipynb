{
 "cells": [
  {
   "cell_type": "markdown",
   "metadata": {},
   "source": [
    "# 다중 회귀\n",
    "\n",
    "- 여러 개의 특성을 사용한 선형 회귀\n",
    "- 회귀식\n",
    "    - 종속변수 = w1 * x1 + w2 * x2 + ...... + y절편\n",
    "    \n",
    "<img src = \"./img/multiple_regression.png\">"
   ]
  },
  {
   "cell_type": "markdown",
   "metadata": {},
   "source": [
    "# 특성 공학(feature engineering)\n",
    "\n",
    "- 기존의 특성을 사용해 새로운 특성을 만들어내는 작업\n",
    "- 특성 공학 기법\n",
    "    - 차원 축소(Dimension Reduction)\n",
    "        - 특성 선정(Feature Selection)\n",
    "            - 특성 랭킹 또는 특성 중요도에 따라 선정\n",
    "            - 분석가의 사전 배경 지식을 이용하거나, 랜덤 선정 및 측정을 반복하는 방법\n",
    "        - 특성 추출(Feature Extraction)\n",
    "            - 특성들의 조합으로 새로운 특성을 생성\n",
    "            \n",
    "    - 스케일링(Scaling)\n",
    "        - 변수의 분포가 편향되어 있을 경우, 변수 간의 관계가 잘 드러나지 않는 경우 범위 변환\n",
    "        \n",
    "    - 변형(Transform)\n",
    "        - 기존에 존재하는 변수의 성질을 이용해 다른 변수를 생성하는 방법\n",
    "            - 예) 날짜별 데이터에 주말 여부 추가\n",
    "    \n",
    "    - 비닝(Binning)\n",
    "        - 연속형 변수를 범주형 변수로 변환\n",
    "            - 예) 33세, 47세 -> 30대, 40대\n",
    "    \n",
    "    - 더미(Dummy)\n",
    "        - 범주형 변수를 연속형 변수로 변환\n",
    "        - 기존 특성이나 특성의 조합을 규칙에 따라 수치화하여 추가"
   ]
  },
  {
   "cell_type": "code",
   "execution_count": 1,
   "metadata": {},
   "outputs": [
    {
     "name": "stderr",
     "output_type": "stream",
     "text": [
      "C:\\ProgramData\\Anaconda3\\lib\\importlib\\_bootstrap.py:219: RuntimeWarning: numpy.ufunc size changed, may indicate binary incompatibility. Expected 192 from C header, got 216 from PyObject\n",
      "  return f(*args, **kwds)\n"
     ]
    }
   ],
   "source": [
    "import pandas as pd\n",
    "import numpy as np\n",
    "from sklearn.model_selection import train_test_split\n",
    "from sklearn.preprocessing import PolynomialFeatures, StandardScaler\n",
    "from sklearn.linear_model import LinearRegression, Ridge, Lasso\n",
    "import matplotlib.pyplot as plt"
   ]
  },
  {
   "cell_type": "markdown",
   "metadata": {},
   "source": [
    "# 데이터 준비"
   ]
  },
  {
   "cell_type": "code",
   "execution_count": 2,
   "metadata": {},
   "outputs": [],
   "source": [
    "df = pd.read_csv(\"./data/FISH.csv\")"
   ]
  },
  {
   "cell_type": "code",
   "execution_count": 3,
   "metadata": {},
   "outputs": [],
   "source": [
    "df = df[df[\"Species\"] == \"Perch\"][[\"Weight\", \"Length2\", \"Height\", \"Width\"]]"
   ]
  },
  {
   "cell_type": "code",
   "execution_count": 4,
   "metadata": {},
   "outputs": [
    {
     "data": {
      "text/html": [
       "<div>\n",
       "<style scoped>\n",
       "    .dataframe tbody tr th:only-of-type {\n",
       "        vertical-align: middle;\n",
       "    }\n",
       "\n",
       "    .dataframe tbody tr th {\n",
       "        vertical-align: top;\n",
       "    }\n",
       "\n",
       "    .dataframe thead th {\n",
       "        text-align: right;\n",
       "    }\n",
       "</style>\n",
       "<table border=\"1\" class=\"dataframe\">\n",
       "  <thead>\n",
       "    <tr style=\"text-align: right;\">\n",
       "      <th></th>\n",
       "      <th>Weight</th>\n",
       "      <th>Length2</th>\n",
       "      <th>Height</th>\n",
       "      <th>Width</th>\n",
       "    </tr>\n",
       "  </thead>\n",
       "  <tbody>\n",
       "    <tr>\n",
       "      <th>72</th>\n",
       "      <td>5.9</td>\n",
       "      <td>8.4</td>\n",
       "      <td>2.1120</td>\n",
       "      <td>1.4080</td>\n",
       "    </tr>\n",
       "    <tr>\n",
       "      <th>73</th>\n",
       "      <td>32.0</td>\n",
       "      <td>13.7</td>\n",
       "      <td>3.5280</td>\n",
       "      <td>1.9992</td>\n",
       "    </tr>\n",
       "    <tr>\n",
       "      <th>74</th>\n",
       "      <td>40.0</td>\n",
       "      <td>15.0</td>\n",
       "      <td>3.8240</td>\n",
       "      <td>2.4320</td>\n",
       "    </tr>\n",
       "    <tr>\n",
       "      <th>75</th>\n",
       "      <td>51.5</td>\n",
       "      <td>16.2</td>\n",
       "      <td>4.5924</td>\n",
       "      <td>2.6316</td>\n",
       "    </tr>\n",
       "    <tr>\n",
       "      <th>76</th>\n",
       "      <td>70.0</td>\n",
       "      <td>17.4</td>\n",
       "      <td>4.5880</td>\n",
       "      <td>2.9415</td>\n",
       "    </tr>\n",
       "  </tbody>\n",
       "</table>\n",
       "</div>"
      ],
      "text/plain": [
       "    Weight  Length2  Height   Width\n",
       "72     5.9      8.4  2.1120  1.4080\n",
       "73    32.0     13.7  3.5280  1.9992\n",
       "74    40.0     15.0  3.8240  2.4320\n",
       "75    51.5     16.2  4.5924  2.6316\n",
       "76    70.0     17.4  4.5880  2.9415"
      ]
     },
     "execution_count": 4,
     "metadata": {},
     "output_type": "execute_result"
    }
   ],
   "source": [
    "df.head()"
   ]
  },
  {
   "cell_type": "code",
   "execution_count": 5,
   "metadata": {},
   "outputs": [],
   "source": [
    "X = df.drop(\"Weight\", axis = 1)\n",
    "Y = df[\"Weight\"]"
   ]
  },
  {
   "cell_type": "code",
   "execution_count": 6,
   "metadata": {},
   "outputs": [],
   "source": [
    "x_train, x_test, y_train, y_test = train_test_split(X, Y, test_size = 0.25,\n",
    "                                                    random_state = 4)"
   ]
  },
  {
   "cell_type": "code",
   "execution_count": 7,
   "metadata": {},
   "outputs": [
    {
     "data": {
      "text/plain": [
       "(42, 3)"
      ]
     },
     "execution_count": 7,
     "metadata": {},
     "output_type": "execute_result"
    }
   ],
   "source": [
    "x_train.shape"
   ]
  },
  {
   "cell_type": "code",
   "execution_count": 8,
   "metadata": {},
   "outputs": [
    {
     "data": {
      "text/plain": [
       "array([[1., 2., 3., 4., 6., 9.]])"
      ]
     },
     "execution_count": 8,
     "metadata": {},
     "output_type": "execute_result"
    }
   ],
   "source": [
    "# PolynomialFeatures 사용 예시\n",
    "pf = PolynomialFeatures()\n",
    "pf.fit_transform([[2, 3]])"
   ]
  },
  {
   "cell_type": "code",
   "execution_count": 9,
   "metadata": {},
   "outputs": [
    {
     "data": {
      "text/plain": [
       "['1', 'x0', 'x1', 'x0^2', 'x0 x1', 'x1^2']"
      ]
     },
     "execution_count": 9,
     "metadata": {},
     "output_type": "execute_result"
    }
   ],
   "source": [
    "# 특성이 어떻게 만들어졌는지 확인\n",
    "pf.get_feature_names()"
   ]
  },
  {
   "cell_type": "markdown",
   "metadata": {},
   "source": [
    "- include_bias : 절편을 추가해주는 파라미터\n",
    "    - 사이킷런의 선형 회귀 모델은 자동으로 절편을 추가해주기 때문에 굳이 절편을 추가할 필요가 없음"
   ]
  },
  {
   "cell_type": "code",
   "execution_count": 10,
   "metadata": {},
   "outputs": [
    {
     "data": {
      "text/plain": [
       "array([[2., 3., 4., 6., 9.]])"
      ]
     },
     "execution_count": 10,
     "metadata": {},
     "output_type": "execute_result"
    }
   ],
   "source": [
    "pf = PolynomialFeatures(include_bias = False)\n",
    "pf.fit_transform([[2, 3]])"
   ]
  },
  {
   "cell_type": "code",
   "execution_count": 11,
   "metadata": {},
   "outputs": [],
   "source": [
    "# 실전 적용\n",
    "pf = PolynomialFeatures(include_bias = False)\n",
    "poly_train = pf.fit_transform(x_train)\n",
    "poly_test = pf.transform(x_test)"
   ]
  },
  {
   "cell_type": "code",
   "execution_count": 12,
   "metadata": {},
   "outputs": [
    {
     "data": {
      "text/plain": [
       "(42, 9)"
      ]
     },
     "execution_count": 12,
     "metadata": {},
     "output_type": "execute_result"
    }
   ],
   "source": [
    "poly_train.shape"
   ]
  },
  {
   "cell_type": "markdown",
   "metadata": {},
   "source": [
    "# 모델 훈련"
   ]
  },
  {
   "cell_type": "code",
   "execution_count": 13,
   "metadata": {},
   "outputs": [
    {
     "data": {
      "text/plain": [
       "0.9600610520458416"
      ]
     },
     "execution_count": 13,
     "metadata": {},
     "output_type": "execute_result"
    }
   ],
   "source": [
    "# 특성공학 전 데이터로 학습한 모델\n",
    "lr_org = LinearRegression()\n",
    "lr_org.fit(x_train, y_train)\n",
    "lr_org.score(x_test, y_test)"
   ]
  },
  {
   "cell_type": "code",
   "execution_count": 14,
   "metadata": {},
   "outputs": [
    {
     "data": {
      "text/plain": [
       "0.9347016860138706"
      ]
     },
     "execution_count": 14,
     "metadata": {},
     "output_type": "execute_result"
    }
   ],
   "source": [
    "lr_org.score(x_train, y_train)"
   ]
  },
  {
   "cell_type": "markdown",
   "metadata": {},
   "source": [
    "- 훈련 데이터 평가치가 테스트 데이터 평가치보다 낮음\n",
    "    - 과소적합"
   ]
  },
  {
   "cell_type": "code",
   "execution_count": 15,
   "metadata": {},
   "outputs": [
    {
     "data": {
      "text/plain": [
       "0.971069371154062"
      ]
     },
     "execution_count": 15,
     "metadata": {},
     "output_type": "execute_result"
    }
   ],
   "source": [
    "lr_poly = LinearRegression()\n",
    "lr_poly.fit(poly_train, y_train)\n",
    "lr_poly.score(poly_test, y_test)"
   ]
  },
  {
   "cell_type": "code",
   "execution_count": 16,
   "metadata": {},
   "outputs": [
    {
     "data": {
      "text/plain": [
       "0.9901121643178598"
      ]
     },
     "execution_count": 16,
     "metadata": {},
     "output_type": "execute_result"
    }
   ],
   "source": [
    "lr_poly.score(poly_train, y_train)"
   ]
  },
  {
   "cell_type": "markdown",
   "metadata": {},
   "source": [
    "# 모델 최적화\n",
    "\n",
    "- 특성을 더 추가\n",
    "    - degree 매개변수 : 고차항의 최대 차수를 지정"
   ]
  },
  {
   "cell_type": "code",
   "execution_count": 17,
   "metadata": {},
   "outputs": [
    {
     "data": {
      "text/plain": [
       "(42, 55)"
      ]
     },
     "execution_count": 17,
     "metadata": {},
     "output_type": "execute_result"
    }
   ],
   "source": [
    "pf = PolynomialFeatures(degree = 5, include_bias = False)\n",
    "poly_train5 = pf.fit_transform(x_train)\n",
    "poly_test5 = pf.transform(x_test)\n",
    "poly_train5.shape"
   ]
  },
  {
   "cell_type": "code",
   "execution_count": 18,
   "metadata": {},
   "outputs": [
    {
     "data": {
      "text/plain": [
       "-9.314356750700389"
      ]
     },
     "execution_count": 18,
     "metadata": {},
     "output_type": "execute_result"
    }
   ],
   "source": [
    "lr_poly5 = LinearRegression()\n",
    "lr_poly5.fit(poly_train5, y_train)\n",
    "lr_poly5.score(poly_test5, y_test)"
   ]
  },
  {
   "cell_type": "code",
   "execution_count": 19,
   "metadata": {},
   "outputs": [
    {
     "data": {
      "text/plain": [
       "0.9999999999999872"
      ]
     },
     "execution_count": 19,
     "metadata": {},
     "output_type": "execute_result"
    }
   ],
   "source": [
    "lr_poly5.score(poly_train5, y_train)"
   ]
  },
  {
   "cell_type": "markdown",
   "metadata": {},
   "source": [
    "- 훈련 데이터에 대해서는 완벽하게 학습했음\n",
    "- 테스트 데이터에 대해서는 분산보다 오차가 큼\n",
    "    - 데이터의 평균으로 찍는 것 보다 성능이 떨어짐\n",
    "    - 과대적합이 일어났음"
   ]
  },
  {
   "cell_type": "markdown",
   "metadata": {},
   "source": [
    "# 규제(regularization)\n",
    "\n",
    "- 머신러닝 모델이 훈련 세트를 과도하게 학습하지 못하도록 방지하는 것\n",
    "    - 선형 회귀 모델의 경우에는 특성의 기울기 크기를 제한\n",
    "- 선형 회귀 모델에 규제를 가하는 방법에 따라 릿지(Ridge)모델과 라쏘(Lasso)로 나뉨\n",
    "    - 릿지 모델\n",
    "        - 계수를 제곱한 값을 제한\n",
    "        - l2 규제\n",
    "        \n",
    "    - 라쏘 모델\n",
    "        - 계수의 절댓값을 제한\n",
    "        - l1규제"
   ]
  },
  {
   "cell_type": "code",
   "execution_count": 20,
   "metadata": {},
   "outputs": [],
   "source": [
    "# 일반적으로 선형 회귀 모델에 규제를 적용할 때 계수 값의 크기가 서로 많이 다르면\n",
    "# 제어가 힘듦\n",
    "# 규제 적용 전에 스케일링을 수행\n",
    "ss = StandardScaler()\n",
    "scaled_train = ss.fit_transform(poly_train5)\n",
    "scaled_test = ss.transform(poly_test5)"
   ]
  },
  {
   "cell_type": "markdown",
   "metadata": {},
   "source": [
    "# 릿지 회귀"
   ]
  },
  {
   "cell_type": "code",
   "execution_count": 22,
   "metadata": {},
   "outputs": [
    {
     "data": {
      "text/plain": [
       "0.9621128839439542"
      ]
     },
     "execution_count": 22,
     "metadata": {},
     "output_type": "execute_result"
    }
   ],
   "source": [
    "rid = Ridge()\n",
    "rid.fit(scaled_train, y_train)\n",
    "rid.score(scaled_test, y_test)"
   ]
  },
  {
   "cell_type": "code",
   "execution_count": 23,
   "metadata": {},
   "outputs": [
    {
     "data": {
      "text/plain": [
       "0.989712757119162"
      ]
     },
     "execution_count": 23,
     "metadata": {},
     "output_type": "execute_result"
    }
   ],
   "source": [
    "rid.score(scaled_train, y_train)"
   ]
  },
  {
   "cell_type": "markdown",
   "metadata": {},
   "source": [
    "## 초매개변수(hyperparameter)\n",
    "\n",
    "- 머신러닝 모델이 학습할 수 없고 사람이 설정해야하는 파라미터\n",
    "- 사이킷런 모델에서 하이퍼파라미터는 클래스의 매개변수로 표현됨"
   ]
  },
  {
   "cell_type": "markdown",
   "metadata": {},
   "source": [
    "### 릿지 모델 하이퍼파라미터 튜닝\n",
    "\n",
    "- alpha : 규제의 강도\n",
    "    - alpha 값이 크면\n",
    "        - 규제의 강도가 세짐\n",
    "        - 계수의 값을 줄이고 과소적합을 유도\n",
    "        \n",
    "    - alpha 값이 작으면\n",
    "        - 규제의 강도가 약해짐\n",
    "        - 계수의 값을 덜 줄이고 과대적합 가능성이 커짐"
   ]
  },
  {
   "cell_type": "code",
   "execution_count": null,
   "metadata": {},
   "outputs": [],
   "source": []
  },
  {
   "cell_type": "code",
   "execution_count": null,
   "metadata": {},
   "outputs": [],
   "source": []
  },
  {
   "cell_type": "code",
   "execution_count": null,
   "metadata": {},
   "outputs": [],
   "source": []
  },
  {
   "cell_type": "code",
   "execution_count": null,
   "metadata": {},
   "outputs": [],
   "source": []
  },
  {
   "cell_type": "code",
   "execution_count": null,
   "metadata": {},
   "outputs": [],
   "source": []
  },
  {
   "cell_type": "code",
   "execution_count": null,
   "metadata": {},
   "outputs": [],
   "source": []
  },
  {
   "cell_type": "code",
   "execution_count": null,
   "metadata": {},
   "outputs": [],
   "source": []
  },
  {
   "cell_type": "code",
   "execution_count": null,
   "metadata": {},
   "outputs": [],
   "source": []
  },
  {
   "cell_type": "code",
   "execution_count": null,
   "metadata": {},
   "outputs": [],
   "source": []
  },
  {
   "cell_type": "code",
   "execution_count": null,
   "metadata": {},
   "outputs": [],
   "source": []
  },
  {
   "cell_type": "code",
   "execution_count": null,
   "metadata": {},
   "outputs": [],
   "source": []
  },
  {
   "cell_type": "code",
   "execution_count": null,
   "metadata": {},
   "outputs": [],
   "source": []
  },
  {
   "cell_type": "code",
   "execution_count": null,
   "metadata": {},
   "outputs": [],
   "source": []
  },
  {
   "cell_type": "code",
   "execution_count": null,
   "metadata": {},
   "outputs": [],
   "source": []
  },
  {
   "cell_type": "code",
   "execution_count": null,
   "metadata": {},
   "outputs": [],
   "source": []
  },
  {
   "cell_type": "code",
   "execution_count": null,
   "metadata": {},
   "outputs": [],
   "source": []
  },
  {
   "cell_type": "code",
   "execution_count": null,
   "metadata": {},
   "outputs": [],
   "source": []
  },
  {
   "cell_type": "code",
   "execution_count": null,
   "metadata": {},
   "outputs": [],
   "source": []
  },
  {
   "cell_type": "code",
   "execution_count": null,
   "metadata": {},
   "outputs": [],
   "source": []
  },
  {
   "cell_type": "code",
   "execution_count": null,
   "metadata": {},
   "outputs": [],
   "source": []
  },
  {
   "cell_type": "code",
   "execution_count": null,
   "metadata": {},
   "outputs": [],
   "source": []
  },
  {
   "cell_type": "code",
   "execution_count": null,
   "metadata": {},
   "outputs": [],
   "source": []
  }
 ],
 "metadata": {
  "kernelspec": {
   "display_name": "Python 3 (ipykernel)",
   "language": "python",
   "name": "python3"
  },
  "language_info": {
   "codemirror_mode": {
    "name": "ipython",
    "version": 3
   },
   "file_extension": ".py",
   "mimetype": "text/x-python",
   "name": "python",
   "nbconvert_exporter": "python",
   "pygments_lexer": "ipython3",
   "version": "3.10.9"
  }
 },
 "nbformat": 4,
 "nbformat_minor": 4
}
