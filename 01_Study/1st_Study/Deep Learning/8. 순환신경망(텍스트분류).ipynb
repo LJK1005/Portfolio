{
 "cells": [
  {
   "cell_type": "markdown",
   "id": "d699a141",
   "metadata": {},
   "source": [
    "# IMDB 리뷰 데이터셋\n",
    "\n",
    "- 유명한 인터넷 영화 데이터베이스인 imdb.com 에서 수집한 리뷰를 감상펴에 따라 긍정과 부정으로 분류해 놓은 말뭉치"
   ]
  },
  {
   "cell_type": "markdown",
   "id": "3143b887",
   "metadata": {},
   "source": [
    "## 자연어 처리(netural language processing, NLP)\n",
    "\n",
    "- 컴퓨터를 사용해 인간의 언어를 처리하는 분야\n",
    "- 세부 분야\n",
    "    - 음석 인식\n",
    "    - 기계 번역\n",
    "    - 감성 분석\n",
    "- 자연어 처리 분야에서는 훈련 데이터를 말뭉치(corpus)라고 부름"
   ]
  },
  {
   "cell_type": "markdown",
   "id": "fd6dc915",
   "metadata": {},
   "source": [
    "## 임베딩\n",
    "\n",
    "<img src = \"./img/embedding.png\">\n",
    "\n",
    "- 사람이 쓰는 자연어를 기계가 이해할 수 있는 숫자의 나열인 벡터로 나눈 결과 혹은 그 과정 전체"
   ]
  },
  {
   "cell_type": "markdown",
   "id": "57b3c9ff",
   "metadata": {},
   "source": [
    "- 컴퓨터에서 처리하는 모든 것은 숫자로 이루어진 데이터\n",
    "    - 따라서 텍스트 그 자체를 신경망에 전달하지 않음\n",
    "    - 합성곱 신경망에서 이미지를 다룰 때는 이미지가 정수 픽셀값으로 이루어져 있어서 특별히 변환을 하지 않음\n",
    "    \n",
    "- 텍스트 임베딩의 가장 쉬운 방법은 데이터에 등장하는 단어마다 고유한 정수를 부여하는 것\n",
    "    - 예)\n",
    "        - he : 10\n",
    "        - follows : 11\n",
    "        - the : 12\n",
    "        - cat : 13\n",
    "   - 단어에 매핑되는 정수는 단어의 의미나 크기와 관련이 없음\n",
    "        - he를 10으로 매핑하고 cat을 13에 매핑하더라도 cat이 he보다 좋거나 크다는 뜻이 아님\n",
    "    - 정수 중 몇 가지는 특정한 용도로 예약되어 있는 경우가 많음\n",
    "        - 예) 0 : 패딩, 1 : 문장의 시작, 2 : 어휘 사전에 없는 토큰\n",
    "            - 어휘 사전 : 훈련 세트에서 고유한 단어를 뽑아 만든 목록"
   ]
  },
  {
   "cell_type": "markdown",
   "id": "db5dbc68",
   "metadata": {},
   "source": [
    "- 일반적으로 영어 문장은 모두 소문자로 바꾸고 구둣점을 삭제한 다음 공백을 기준으로 분리\n",
    "    - 이렇게 분리된 단어를 토큰(token)이라고 부름\n",
    "        - 하나의 샘플은 여러 개의 토큰으로 이루어져 있고 이 때 하나의 토큰이 하나의 타임 스텝에 해당\n",
    "    - 영어 말뭉치에서 토큰은 단어와 같이 취급하는 경우가 많음\n",
    "        - 한국어는 조사가 발달되어 있어 공백으로 나누는 것만으로는 부족함\n",
    "            - 일반적으로 한글은 형태소 분석을 통해 토큰을 분리"
   ]
  },
  {
   "cell_type": "markdown",
   "id": "32cbcec3",
   "metadata": {},
   "source": [
    "# 원핫 인코딩을 활용한 RNN 텍스트 분류"
   ]
  },
  {
   "cell_type": "markdown",
   "id": "8590c7c2",
   "metadata": {},
   "source": [
    "## 데이터 준비"
   ]
  },
  {
   "cell_type": "code",
   "execution_count": 1,
   "id": "ec845896",
   "metadata": {},
   "outputs": [
    {
     "name": "stdout",
     "output_type": "stream",
     "text": [
      "WARNING:tensorflow:From C:\\Users\\yjg10\\anaconda3\\Lib\\site-packages\\keras\\src\\losses.py:2976: The name tf.losses.sparse_softmax_cross_entropy is deprecated. Please use tf.compat.v1.losses.sparse_softmax_cross_entropy instead.\n",
      "\n"
     ]
    }
   ],
   "source": [
    "from tensorflow.keras.datasets import imdb\n",
    "from tensorflow.keras.preprocessing.sequence import pad_sequences\n",
    "from tensorflow import keras\n",
    "from sklearn.model_selection import train_test_split\n",
    "import numpy as np\n",
    "import matplotlib.pyplot as plt"
   ]
  },
  {
   "cell_type": "code",
   "execution_count": 2,
   "id": "e5d73735",
   "metadata": {},
   "outputs": [],
   "source": [
    "# 전체 데이터셋에서 가장 자주 등장하는 단어 500개만 사용\n",
    "# num_words : 단어 빈도가 많은 순서로 num_words만큼 보존한다\n",
    "(x_train, y_train), (x_test, y_test) = imdb.load_data(num_words = 500)"
   ]
  },
  {
   "cell_type": "code",
   "execution_count": 3,
   "id": "72b55a63",
   "metadata": {},
   "outputs": [
    {
     "name": "stdout",
     "output_type": "stream",
     "text": [
      "(25000,) (25000,)\n"
     ]
    }
   ],
   "source": [
    "# 훈련 세트, 테스트 세트의 크기 확인\n",
    "print(x_train.shape, x_test.shape)"
   ]
  },
  {
   "cell_type": "code",
   "execution_count": 4,
   "id": "8ceafce5",
   "metadata": {},
   "outputs": [
    {
     "name": "stdout",
     "output_type": "stream",
     "text": [
      "218 189\n"
     ]
    }
   ],
   "source": [
    "# 리뷰의 길이 출력\n",
    "print(len(x_train[0]), len(x_train[1]))"
   ]
  },
  {
   "cell_type": "code",
   "execution_count": 5,
   "id": "92eec7c5",
   "metadata": {},
   "outputs": [
    {
     "data": {
      "text/plain": [
       "list"
      ]
     },
     "execution_count": 5,
     "metadata": {},
     "output_type": "execute_result"
    }
   ],
   "source": [
    "type(x_train[0])"
   ]
  },
  {
   "cell_type": "markdown",
   "id": "81c4d1e0",
   "metadata": {},
   "source": [
    "- 각각 25000개의 샘플로 이루어져 있음\n",
    "- 텍스트 길이가 제각각임\n",
    "    - 고정 크기의 2차원 배열에 담는 것 보다 리뷰마다 별도의 파이썬 리스트로 담아야 메모리를 효율적으로 사용할 수 있음"
   ]
  },
  {
   "cell_type": "code",
   "execution_count": 6,
   "id": "a5778460",
   "metadata": {},
   "outputs": [
    {
     "name": "stdout",
     "output_type": "stream",
     "text": [
      "[1, 14, 22, 16, 43, 2, 2, 2, 2, 65, 458, 2, 66, 2, 4, 173, 36, 256, 5, 25, 100, 43, 2, 112, 50, 2, 2, 9, 35, 480, 284, 5, 150, 4, 172, 112, 167, 2, 336, 385, 39, 4, 172, 2, 2, 17, 2, 38, 13, 447, 4, 192, 50, 16, 6, 147, 2, 19, 14, 22, 4, 2, 2, 469, 4, 22, 71, 87, 12, 16, 43, 2, 38, 76, 15, 13, 2, 4, 22, 17, 2, 17, 12, 16, 2, 18, 2, 5, 62, 386, 12, 8, 316, 8, 106, 5, 4, 2, 2, 16, 480, 66, 2, 33, 4, 130, 12, 16, 38, 2, 5, 25, 124, 51, 36, 135, 48, 25, 2, 33, 6, 22, 12, 215, 28, 77, 52, 5, 14, 407, 16, 82, 2, 8, 4, 107, 117, 2, 15, 256, 4, 2, 7, 2, 5, 2, 36, 71, 43, 2, 476, 26, 400, 317, 46, 7, 4, 2, 2, 13, 104, 88, 4, 381, 15, 297, 98, 32, 2, 56, 26, 141, 6, 194, 2, 18, 4, 226, 22, 21, 134, 476, 26, 480, 5, 144, 30, 2, 18, 51, 36, 28, 224, 92, 25, 104, 4, 226, 65, 16, 38, 2, 88, 12, 16, 283, 5, 16, 2, 113, 103, 32, 15, 16, 2, 19, 178, 32]\n"
     ]
    }
   ],
   "source": [
    "# 첫 번째 리뷰 출력\n",
    "print(x_train[0])"
   ]
  },
  {
   "cell_type": "code",
   "execution_count": 7,
   "id": "64a6a8cb",
   "metadata": {},
   "outputs": [
    {
     "name": "stdout",
     "output_type": "stream",
     "text": [
      "[1 0 0 1 0 0 1 0 1 0 1 0 0 0 0 0 1 1 0 1]\n"
     ]
    }
   ],
   "source": [
    "# 타깃 데이터\n",
    "# 0 : 부정, 1 : 긍정\n",
    "print(y_train[:20])"
   ]
  },
  {
   "cell_type": "code",
   "execution_count": 8,
   "id": "415dcb7a",
   "metadata": {},
   "outputs": [],
   "source": [
    "x_train, x_val, y_train, y_val = train_test_split(x_train, y_train, test_size = 0.2, random_state = 4)"
   ]
  },
  {
   "cell_type": "markdown",
   "id": "ac042912",
   "metadata": {},
   "source": [
    "### 각 리뷰의 길이 확인\n",
    "\n",
    "- 각 리뷰의 길이를 넘파이 배열로 담아 평균 리뷰 걸이, 길이 최솟값, 길이 최댓값을 확인"
   ]
  },
  {
   "cell_type": "code",
   "execution_count": 9,
   "id": "1a14982d",
   "metadata": {},
   "outputs": [],
   "source": [
    "lengths = np.array([len(x) for x in x_train])"
   ]
  },
  {
   "cell_type": "code",
   "execution_count": 10,
   "id": "1be0d75a",
   "metadata": {},
   "outputs": [
    {
     "name": "stdout",
     "output_type": "stream",
     "text": [
      "238.1658 177.0 11 2494\n"
     ]
    }
   ],
   "source": [
    "# 길이 평균값과 중간값, 최솟값, 최댓값\n",
    "print(np.mean(lengths), np.median(lengths), np.min(lengths), np.max(lengths))"
   ]
  },
  {
   "cell_type": "code",
   "execution_count": 11,
   "id": "a9df60ba",
   "metadata": {},
   "outputs": [
    {
     "data": {
      "image/png": "[encoded data removed]",
      "text/plain": [
       "<Figure size 800x600 with 1 Axes>"
      ]
     },
     "metadata": {},
     "output_type": "display_data"
    }
   ],
   "source": [
    "plt.figure()\n",
    "\n",
    "plt.hist(lengths)\n",
    "\n",
    "plt.xlabel(\"length\")\n",
    "plt.ylabel(\"frequency\")\n",
    "plt.show()"
   ]
  },
  {
   "cell_type": "markdown",
   "id": "c48b7664",
   "metadata": {},
   "source": [
    "- 평균이 중간값보다 높은 이유는 아주 큰 데이터가 있기 때문\n",
    "- 대부분의 리뷰는 짧기 때문에 이번 예제에서는 리뷰의 길이를 100에 맞춰서 사용\n",
    "    - 100보다 짧은 리뷰는 길이를 100에 맞추기 위해서 패딩이 필요\n",
    "        - 패딩을 나타내는 토큰으로는 0을 사용"
   ]
  },
  {
   "cell_type": "code",
   "execution_count": 12,
   "id": "5c8b661a",
   "metadata": {},
   "outputs": [],
   "source": [
    "# x_train의 길이를 100으로 맞추기\n",
    "train_seq = pad_sequences(x_train, maxlen = 100)"
   ]
  },
  {
   "cell_type": "markdown",
   "id": "80773570",
   "metadata": {},
   "source": [
    "- maxlen에 원하는 길이를 지정하면 그것보다 긴 경우는 잘나내고 짧은 경우는 0으로 패딩"
   ]
  },
  {
   "cell_type": "code",
   "execution_count": 13,
   "id": "fc321a72",
   "metadata": {},
   "outputs": [
    {
     "name": "stdout",
     "output_type": "stream",
     "text": [
      "(20000, 100)\n"
     ]
    }
   ],
   "source": [
    "# train_seq 크기 확인\n",
    "print(train_seq.shape)"
   ]
  },
  {
   "cell_type": "code",
   "execution_count": 14,
   "id": "8ccf3d3d",
   "metadata": {},
   "outputs": [
    {
     "name": "stdout",
     "output_type": "stream",
     "text": [
      "[ 35   2   2   2   4 481   2   2  53  17   6   2   2  74  15   7   2   2\n",
      "   2   2 198   2   2 467   2 103  94   2   2 350   2   2   2 179   2   5\n",
      "   2   6   2 471  26   2   5 157 125 257   2   2   2   2  56   4   2  17\n",
      "   4   2  37   2 225  53 170  23  74  51   9 112   2  23  35   2   2 177\n",
      "   2   2   2  34   2   2   5   2   2   2  10  10   6   2   2  21   2   2\n",
      " 453   2  34  94 107   2   5  49   2   2]\n"
     ]
    }
   ],
   "source": [
    "print(train_seq[0])"
   ]
  },
  {
   "cell_type": "code",
   "execution_count": 15,
   "id": "5c79849a",
   "metadata": {},
   "outputs": [
    {
     "name": "stdout",
     "output_type": "stream",
     "text": [
      "[1, 2, 2, 2, 106, 18, 4, 2, 2, 7, 6, 2, 351, 2, 2, 116, 17, 2, 2, 2, 18, 49, 2, 2, 2, 21, 2, 2, 2, 314, 2, 14, 2, 2, 365, 9, 6, 2, 7, 2, 2, 2, 5, 2, 114, 2, 2, 23, 94, 55, 2, 381, 48, 2, 2, 2, 2, 2, 5, 2, 2, 66, 36, 92, 79, 8, 81, 32, 15, 76, 262, 315, 4, 2, 2, 2, 2, 121, 36, 2, 2, 11, 6, 2, 315, 4, 2, 2, 8, 2, 6, 2, 19, 158, 2, 2, 2, 449, 253, 21, 14, 9, 54, 4, 2, 48, 2, 2, 9, 2, 200, 2, 5, 2, 105, 103, 6, 2, 2, 7, 2, 5, 2, 2, 2, 429, 257, 85, 4, 107, 216, 8, 35, 2, 15, 2, 98, 2, 257, 2, 2, 5, 28, 6, 2, 2, 14, 62, 140, 23, 8, 297, 6, 2, 173, 11, 4, 2, 333, 320, 7, 4, 65, 19, 15, 2, 2, 2, 131, 68, 2, 402, 23, 2, 225, 53, 21, 51, 75, 79, 9, 2, 5, 14, 9, 2, 34, 15, 2, 43, 2, 50, 2, 277, 15, 238, 43, 97, 25, 2, 2, 2, 8, 79, 15, 46, 7, 4, 2, 10, 10, 4, 2, 9, 2, 2, 21, 2, 2, 18, 12, 5, 14, 186, 2, 224, 8, 2, 19, 94, 2, 2, 2, 2, 106, 17, 4, 172, 2, 9, 2, 120, 5, 120, 174, 5, 25, 124, 142, 9, 24, 179, 208, 5, 4, 2, 2, 266, 83, 297, 150, 285, 15, 127, 2, 2, 99, 2, 21, 4, 2, 2, 9, 2, 4, 2, 2, 229, 9, 242, 6, 117, 99, 2, 18, 94, 205, 52, 21, 50, 26, 49, 2, 2, 2, 2, 5, 2, 353, 24, 2, 5, 2, 2, 2, 2, 458, 9, 2, 2, 5, 364, 2, 21, 79, 6, 2, 2, 5, 2, 35, 2, 2, 2, 4, 481, 2, 2, 53, 17, 6, 2, 2, 74, 15, 7, 2, 2, 2, 2, 198, 2, 2, 467, 2, 103, 94, 2, 2, 350, 2, 2, 2, 179, 2, 5, 2, 6, 2, 471, 26, 2, 5, 157, 125, 257, 2, 2, 2, 2, 56, 4, 2, 17, 4, 2, 37, 2, 225, 53, 170, 23, 74, 51, 9, 112, 2, 23, 35, 2, 2, 177, 2, 2, 2, 34, 2, 2, 5, 2, 2, 2, 10, 10, 6, 2, 2, 21, 2, 2, 453, 2, 34, 94, 107, 2, 5, 49, 2, 2]\n"
     ]
    }
   ],
   "source": [
    "print(x_train[0])"
   ]
  },
  {
   "cell_type": "code",
   "execution_count": 16,
   "id": "214cdc19",
   "metadata": {},
   "outputs": [
    {
     "name": "stdout",
     "output_type": "stream",
     "text": [
      "[453, 2, 34, 94, 107, 2, 5, 49, 2, 2]\n"
     ]
    }
   ],
   "source": [
    "print(x_train[0][-10:])"
   ]
  },
  {
   "cell_type": "markdown",
   "id": "f52de267",
   "metadata": {},
   "source": [
    "- pad_sequences()함수는 기본적으로 maxlen보다 긴 시퀀스의 앞부분을 잘라냄\n",
    "    - 일반적으로 시퀀스의 뒷부분의 정보가 더 유용하기 때문에\n",
    "        - 리뷰끝에 결정적인 소감을 말할 가능성이 높음\n",
    "    - 시퀀스의 뒷부분을 잘라내고 싶다면\n",
    "        - truncating 매개변수 값을 \"post\"로 변경\n",
    "            - 기본값은 \"pre\""
   ]
  },
  {
   "cell_type": "code",
   "execution_count": 17,
   "id": "70872d49",
   "metadata": {},
   "outputs": [
    {
     "data": {
      "text/plain": [
       "array([  0,   0,   0,   0,   0,   0,   0,   0,   0,   0,   0,   0,   0,\n",
       "         0,   0,   0,   0,   0,   0,   0,   0,   0,   0,   0,   0,   0,\n",
       "         0,   0,   0,   0,   0,   0,   0,   0,   0,   0,   0,   0,   0,\n",
       "         0,   0,   0,   0,   0,   0,   0,   1,   2,  31,   7,   4,   2,\n",
       "         7,   4,   2, 182,  14,  22,   9,  24,   2,   8,  30,   2,   4,\n",
       "       350,   2, 108,   7,  32,  58,  10,  10,  48,  25, 296,  14,  22,\n",
       "         5, 197,  12,  16, 233,  85,  74, 389,   2, 387,  72, 124,  89,\n",
       "         2,   2, 239,   9,  17,  52,  17,  12, 214])"
      ]
     },
     "execution_count": 17,
     "metadata": {},
     "output_type": "execute_result"
    }
   ],
   "source": [
    "train_seq[2]"
   ]
  },
  {
   "cell_type": "markdown",
   "id": "d7e61683",
   "metadata": {},
   "source": [
    "- 패딩 토큰은 시퀀스 앞부분에 추가됨\n",
    "    - 시퀀스의 마지막에 있는 단어가 셀의 은닉상태에 가장 큰 영향을 미치게 되기 때문에\n",
    "    - 뒷부분에 패딩을 추가하고 싶다면\n",
    "        - padding 매개변수의 값을 \"post\"로 수정\n",
    "            - 기본값은 \"pre\""
   ]
  },
  {
   "cell_type": "code",
   "execution_count": 18,
   "id": "4a0de376",
   "metadata": {},
   "outputs": [],
   "source": [
    "# 검증 세트의 길이를 100으로 맞추기\n",
    "val_seq = pad_sequences(x_val, maxlen = 100)"
   ]
  },
  {
   "cell_type": "markdown",
   "id": "73c2dbe4",
   "metadata": {},
   "source": [
    "## 모델 구성\n",
    "\n",
    "- 케라스의 SimpleRNN 클래스 사용\n",
    "- 이진 분류\n",
    "    - 출력층은 1개의 뉴런을 가지고 시그모이드 출력층 함수를 사용"
   ]
  },
  {
   "cell_type": "code",
   "execution_count": 19,
   "id": "b7c8e322",
   "metadata": {},
   "outputs": [
    {
     "name": "stdout",
     "output_type": "stream",
     "text": [
      "WARNING:tensorflow:From C:\\Users\\yjg10\\anaconda3\\Lib\\site-packages\\keras\\src\\backend.py:873: The name tf.get_default_graph is deprecated. Please use tf.compat.v1.get_default_graph instead.\n",
      "\n"
     ]
    }
   ],
   "source": [
    "model = keras.Sequential()\n",
    "model.add(keras.layers.SimpleRNN(8, input_shape = (100, 500)))\n",
    "model.add(keras.layers.Dense(1, activation = \"sigmoid\"))"
   ]
  },
  {
   "cell_type": "markdown",
   "id": "464afa52",
   "metadata": {},
   "source": [
    "- SimpleRNN\n",
    "    - 첫 번째 매개변수는 사용할 유닛의 개수\n",
    "    - input_shape\n",
    "        - 입력 차원의 첫 번째 차원은 샘플의 길이\n",
    "        - 입력 차원의 두 번째 차원은 고유한 단어 수(num_words)\n",
    "            - load_data()함수에서 500개의 단어만 사용하도록 지정했기 때문에 이번 예제의 고유한 단어 수는 500\n",
    "   - activation\n",
    "       - 기본값은 \"tanh\"\n",
    "           - 하이퍼볼릭 탄젠트\n",
    "           \n",
    "- 원핫인코딩을 사용하는 이유\n",
    "    - 토큰을 정수로 변환한 데이터를 그대로 신경망에 주입하면 큰 정수가 큰 활성화 출력을 만듦\n",
    "        - 정수 사이에는 어떤 관련도 없고 20번 토큰이 10번 토큰보다 중요한 것이 아님"
   ]
  },
  {
   "cell_type": "code",
   "execution_count": 20,
   "id": "f25029b8",
   "metadata": {},
   "outputs": [],
   "source": [
    "# 케라스에서 제공하는 원핫인코딩을 위한 함수\n",
    "train_oh = keras.utils.to_categorical(train_seq)"
   ]
  },
  {
   "cell_type": "code",
   "execution_count": 21,
   "id": "61e371d0",
   "metadata": {},
   "outputs": [
    {
     "name": "stdout",
     "output_type": "stream",
     "text": [
      "(20000, 100, 500)\n"
     ]
    }
   ],
   "source": [
    "print(train_oh.shape)"
   ]
  },
  {
   "cell_type": "code",
   "execution_count": 22,
   "id": "38eb2564",
   "metadata": {},
   "outputs": [
    {
     "name": "stdout",
     "output_type": "stream",
     "text": [
      "[0. 0. 0. 0. 0. 0. 0. 0. 0. 0. 0. 0. 0. 0. 0. 0. 0. 0. 0. 0. 0. 0. 0. 0.\n",
      " 0. 0. 0. 0. 0. 0. 0. 0. 0. 0. 0. 1. 0. 0. 0. 0. 0. 0. 0. 0. 0. 0. 0. 0.\n",
      " 0. 0. 0. 0. 0. 0. 0. 0. 0. 0. 0. 0. 0. 0. 0. 0. 0. 0. 0. 0. 0. 0. 0. 0.\n",
      " 0. 0. 0. 0. 0. 0. 0. 0. 0. 0. 0. 0. 0. 0. 0. 0. 0. 0. 0. 0. 0. 0. 0. 0.\n",
      " 0. 0. 0. 0.]\n"
     ]
    }
   ],
   "source": [
    "print(train_oh[0][0][:100])"
   ]
  },
  {
   "cell_type": "code",
   "execution_count": 23,
   "id": "416053f9",
   "metadata": {},
   "outputs": [
    {
     "name": "stdout",
     "output_type": "stream",
     "text": [
      "1.0\n"
     ]
    }
   ],
   "source": [
    "print(np.sum(train_oh[0][0]))"
   ]
  },
  {
   "cell_type": "markdown",
   "id": "b7c022fe",
   "metadata": {},
   "source": [
    "- 하나의 원소만 1이고 나머지 원소는 모두 0임"
   ]
  },
  {
   "cell_type": "code",
   "execution_count": 24,
   "id": "1d2457e4",
   "metadata": {},
   "outputs": [],
   "source": [
    "# val_seq 원핫인코딩\n",
    "val_oh = keras.utils.to_categorical(val_seq)"
   ]
  },
  {
   "cell_type": "code",
   "execution_count": 25,
   "id": "a5b545e1",
   "metadata": {},
   "outputs": [
    {
     "name": "stdout",
     "output_type": "stream",
     "text": [
      "Model: \"sequential\"\n",
      "_________________________________________________________________\n",
      " Layer (type)                Output Shape              Param #   \n",
      "=================================================================\n",
      " simple_rnn (SimpleRNN)      (None, 8)                 4072      \n",
      "                                                                 \n",
      " dense (Dense)               (None, 1)                 9         \n",
      "                                                                 \n",
      "=================================================================\n",
      "Total params: 4081 (15.94 KB)\n",
      "Trainable params: 4081 (15.94 KB)\n",
      "Non-trainable params: 0 (0.00 Byte)\n",
      "_________________________________________________________________\n"
     ]
    }
   ],
   "source": [
    "model.summary()"
   ]
  },
  {
   "cell_type": "markdown",
   "id": "7a20b156",
   "metadata": {},
   "source": [
    "- SimpleRNN에 전달할 샘플의 크기는 (100, 500)이지만 순환층은 마지막 타임스텝의 은닉상태만 출력\n",
    "    - 출력의 크기가 순환층의 뉴런 개수와 동일\n",
    "    \n",
    "- 파라미터 개수\n",
    "    - 입력 토큰은 500차원의 원핫인코딩 배열\n",
    "    - 배열이 순환층의 뉴런 8개와 완전연결\n",
    "        -  500 * 8 = 4000\n",
    "    - 순환층의 은닉상태는 다시 다음 타임스텝에 사용하기 위해 또 다른 가중치와 곱해짐\n",
    "        - 은닉 상태의 크기 * 유닛 개수\n",
    "            - 8 * 8 = 64\n",
    "    - 각 뉴런마다 하나의 절편\n",
    "        - 8\n",
    "    - 4000 + 64 + 8 = 4072"
   ]
  },
  {
   "cell_type": "markdown",
   "id": "2ed2ebae",
   "metadata": {},
   "source": [
    "## 모델 훈련"
   ]
  },
  {
   "cell_type": "code",
   "execution_count": 26,
   "id": "7cdf4630",
   "metadata": {},
   "outputs": [],
   "source": [
    "rmsprop  = keras.optimizers.RMSprop(learning_rate = 1e-4)\n",
    "checkpoint_cb = keras.callbacks.ModelCheckpoint(\"./model/best-simplernn-model.h5\", save_best_only = True)\n",
    "early_stopping_cb = keras.callbacks.EarlyStopping(patience = 3, restore_best_weights = True)\n",
    "model.compile(optimizer = rmsprop, loss = \"binary_crossentropy\", metrics = [\"accuracy\"])"
   ]
  },
  {
   "cell_type": "code",
   "execution_count": 27,
   "id": "7939fda3",
   "metadata": {},
   "outputs": [
    {
     "name": "stdout",
     "output_type": "stream",
     "text": [
      "Epoch 1/100\n",
      "WARNING:tensorflow:From C:\\Users\\yjg10\\anaconda3\\Lib\\site-packages\\keras\\src\\utils\\tf_utils.py:492: The name tf.ragged.RaggedTensorValue is deprecated. Please use tf.compat.v1.ragged.RaggedTensorValue instead.\n",
      "\n",
      "WARNING:tensorflow:From C:\\Users\\yjg10\\anaconda3\\Lib\\site-packages\\keras\\src\\engine\\base_layer_utils.py:384: The name tf.executing_eagerly_outside_functions is deprecated. Please use tf.compat.v1.executing_eagerly_outside_functions instead.\n",
      "\n",
      "313/313 [==============================] - 14s 38ms/step - loss: 0.6927 - accuracy: 0.5205 - val_loss: 0.6819 - val_accuracy: 0.5728\n",
      "Epoch 2/100\n",
      "313/313 [==============================] - 7s 23ms/step - loss: 0.6782 - accuracy: 0.5776 - val_loss: 0.6699 - val_accuracy: 0.6088\n",
      "Epoch 3/100\n",
      "313/313 [==============================] - 7s 23ms/step - loss: 0.6645 - accuracy: 0.6205 - val_loss: 0.6572 - val_accuracy: 0.6386\n",
      "Epoch 4/100\n",
      "313/313 [==============================] - 7s 23ms/step - loss: 0.6500 - accuracy: 0.6521 - val_loss: 0.6438 - val_accuracy: 0.6602\n",
      "Epoch 5/100\n",
      "313/313 [==============================] - 8s 24ms/step - loss: 0.6343 - accuracy: 0.6796 - val_loss: 0.6297 - val_accuracy: 0.6800\n",
      "Epoch 6/100\n",
      "313/313 [==============================] - 7s 21ms/step - loss: 0.6177 - accuracy: 0.6983 - val_loss: 0.6148 - val_accuracy: 0.6920\n",
      "Epoch 7/100\n",
      "313/313 [==============================] - 6s 20ms/step - loss: 0.5972 - accuracy: 0.7190 - val_loss: 0.5974 - val_accuracy: 0.7092\n",
      "Epoch 8/100\n",
      "313/313 [==============================] - 8s 25ms/step - loss: 0.5797 - accuracy: 0.7342 - val_loss: 0.5806 - val_accuracy: 0.7226\n",
      "Epoch 9/100\n",
      "313/313 [==============================] - 8s 25ms/step - loss: 0.5636 - accuracy: 0.7438 - val_loss: 0.5679 - val_accuracy: 0.7302\n",
      "Epoch 10/100\n",
      "313/313 [==============================] - 8s 25ms/step - loss: 0.5488 - accuracy: 0.7550 - val_loss: 0.5553 - val_accuracy: 0.7404\n",
      "Epoch 11/100\n",
      "313/313 [==============================] - 7s 23ms/step - loss: 0.5353 - accuracy: 0.7613 - val_loss: 0.5475 - val_accuracy: 0.7394\n",
      "Epoch 12/100\n",
      "313/313 [==============================] - 7s 23ms/step - loss: 0.5220 - accuracy: 0.7675 - val_loss: 0.5447 - val_accuracy: 0.7356\n",
      "Epoch 13/100\n",
      "313/313 [==============================] - 7s 23ms/step - loss: 0.5102 - accuracy: 0.7733 - val_loss: 0.5245 - val_accuracy: 0.7568\n",
      "Epoch 14/100\n",
      "313/313 [==============================] - 7s 23ms/step - loss: 0.4993 - accuracy: 0.7778 - val_loss: 0.5165 - val_accuracy: 0.7592\n",
      "Epoch 15/100\n",
      "313/313 [==============================] - 8s 25ms/step - loss: 0.4889 - accuracy: 0.7833 - val_loss: 0.5076 - val_accuracy: 0.7638\n",
      "Epoch 16/100\n",
      "313/313 [==============================] - 7s 24ms/step - loss: 0.4793 - accuracy: 0.7871 - val_loss: 0.5033 - val_accuracy: 0.7616\n",
      "Epoch 17/100\n",
      "313/313 [==============================] - 8s 25ms/step - loss: 0.4711 - accuracy: 0.7898 - val_loss: 0.4978 - val_accuracy: 0.7686\n",
      "Epoch 18/100\n",
      "313/313 [==============================] - 7s 23ms/step - loss: 0.4644 - accuracy: 0.7948 - val_loss: 0.4911 - val_accuracy: 0.7714\n",
      "Epoch 19/100\n",
      "313/313 [==============================] - 7s 23ms/step - loss: 0.4580 - accuracy: 0.7965 - val_loss: 0.4909 - val_accuracy: 0.7698\n",
      "Epoch 20/100\n",
      "313/313 [==============================] - 7s 24ms/step - loss: 0.4531 - accuracy: 0.7976 - val_loss: 0.4861 - val_accuracy: 0.7734\n",
      "Epoch 21/100\n",
      "313/313 [==============================] - 7s 21ms/step - loss: 0.4486 - accuracy: 0.8018 - val_loss: 0.4796 - val_accuracy: 0.7766\n",
      "Epoch 22/100\n",
      "313/313 [==============================] - 8s 25ms/step - loss: 0.4441 - accuracy: 0.8032 - val_loss: 0.4764 - val_accuracy: 0.7800\n",
      "Epoch 23/100\n",
      "313/313 [==============================] - 7s 23ms/step - loss: 0.4404 - accuracy: 0.8044 - val_loss: 0.4762 - val_accuracy: 0.7752\n",
      "Epoch 24/100\n",
      "313/313 [==============================] - 7s 23ms/step - loss: 0.4371 - accuracy: 0.8066 - val_loss: 0.4706 - val_accuracy: 0.7838\n",
      "Epoch 25/100\n",
      "313/313 [==============================] - 7s 23ms/step - loss: 0.4340 - accuracy: 0.8092 - val_loss: 0.4683 - val_accuracy: 0.7870\n",
      "Epoch 26/100\n",
      "313/313 [==============================] - 7s 23ms/step - loss: 0.4306 - accuracy: 0.8118 - val_loss: 0.4698 - val_accuracy: 0.7822\n",
      "Epoch 27/100\n",
      "313/313 [==============================] - 8s 25ms/step - loss: 0.4284 - accuracy: 0.8113 - val_loss: 0.4703 - val_accuracy: 0.7856\n",
      "Epoch 28/100\n",
      "313/313 [==============================] - 8s 26ms/step - loss: 0.4257 - accuracy: 0.8119 - val_loss: 0.4663 - val_accuracy: 0.7834\n",
      "Epoch 29/100\n",
      "313/313 [==============================] - 7s 24ms/step - loss: 0.4237 - accuracy: 0.8145 - val_loss: 0.4685 - val_accuracy: 0.7860\n",
      "Epoch 30/100\n",
      "313/313 [==============================] - 7s 22ms/step - loss: 0.4219 - accuracy: 0.8156 - val_loss: 0.4641 - val_accuracy: 0.7818\n",
      "Epoch 31/100\n",
      "313/313 [==============================] - 8s 25ms/step - loss: 0.4197 - accuracy: 0.8170 - val_loss: 0.4665 - val_accuracy: 0.7844\n",
      "Epoch 32/100\n",
      "313/313 [==============================] - 10s 33ms/step - loss: 0.4178 - accuracy: 0.8170 - val_loss: 0.4641 - val_accuracy: 0.7878\n",
      "Epoch 33/100\n",
      "313/313 [==============================] - 6s 20ms/step - loss: 0.4164 - accuracy: 0.8185 - val_loss: 0.4708 - val_accuracy: 0.7818\n",
      "Epoch 34/100\n",
      "313/313 [==============================] - 7s 23ms/step - loss: 0.4156 - accuracy: 0.8177 - val_loss: 0.4668 - val_accuracy: 0.7848\n",
      "Epoch 35/100\n",
      "313/313 [==============================] - 8s 27ms/step - loss: 0.4130 - accuracy: 0.8184 - val_loss: 0.4632 - val_accuracy: 0.7814\n",
      "Epoch 36/100\n",
      "313/313 [==============================] - 7s 23ms/step - loss: 0.4117 - accuracy: 0.8194 - val_loss: 0.4742 - val_accuracy: 0.7762\n",
      "Epoch 37/100\n",
      "313/313 [==============================] - 8s 27ms/step - loss: 0.4104 - accuracy: 0.8212 - val_loss: 0.4636 - val_accuracy: 0.7844\n",
      "Epoch 38/100\n",
      "313/313 [==============================] - 8s 25ms/step - loss: 0.4092 - accuracy: 0.8217 - val_loss: 0.4651 - val_accuracy: 0.7894\n"
     ]
    }
   ],
   "source": [
    "history = model.fit(train_oh, y_train, epochs = 100, batch_size = 64,\n",
    "                    validation_data = (val_oh, y_val), callbacks = [checkpoint_cb, early_stopping_cb])"
   ]
  },
  {
   "cell_type": "code",
   "execution_count": 28,
   "id": "7660bfe4",
   "metadata": {},
   "outputs": [
    {
     "data": {
      "image/png": "[encoded data removed]",
      "text/plain": [
       "<Figure size 800x600 with 1 Axes>"
      ]
     },
     "metadata": {},
     "output_type": "display_data"
    }
   ],
   "source": [
    "plt.figure()\n",
    "plt.plot(history.history[\"loss\"], label = \"train_loss\")\n",
    "plt.plot(history.history[\"accuracy\"], label = \"train_acc\")\n",
    "plt.plot(history.history[\"val_loss\"], label = \"val_loss\")\n",
    "plt.plot(history.history[\"val_accuracy\"], label = \"val_acc\")\n",
    "\n",
    "plt.legend()\n",
    "plt.xlabel(\"epoch\")\n",
    "plt.show()"
   ]
  },
  {
   "cell_type": "markdown",
   "id": "d703daf4",
   "metadata": {},
   "source": [
    "- 원핫인코딩의 단점\n",
    "    - 입력 데이터가 매우 커짐"
   ]
  },
  {
   "cell_type": "code",
   "execution_count": 29,
   "id": "ac31397e",
   "metadata": {},
   "outputs": [
    {
     "name": "stdout",
     "output_type": "stream",
     "text": [
      "8000000 4000000000\n"
     ]
    }
   ],
   "source": [
    "print(train_seq.nbytes, train_oh.nbytes)"
   ]
  },
  {
   "cell_type": "code",
   "execution_count": 30,
   "id": "a761ba9c",
   "metadata": {},
   "outputs": [
    {
     "data": {
      "text/plain": [
       "500.0"
      ]
     },
     "execution_count": 30,
     "metadata": {},
     "output_type": "execute_result"
    }
   ],
   "source": [
    "train_oh.nbytes / train_seq.nbytes"
   ]
  },
  {
   "cell_type": "markdown",
   "id": "9d448f71",
   "metadata": {},
   "source": [
    "- 토큰 1개를 500차원으로 늘렸기 때문에 500배가 커짐\n",
    "    - 훈련 데이터가 커질수록 문제가 더 심해짐"
   ]
  },
  {
   "cell_type": "markdown",
   "id": "f3df4eb2",
   "metadata": {},
   "source": [
    "# 단어 임베딩을 활용한 RNN 텍스트 분류\n",
    "\n",
    "<img src = \"./img/embedding.png\">"
   ]
  },
  {
   "cell_type": "markdown",
   "id": "2b11140f",
   "metadata": {},
   "source": [
    "- 단어 임베딩(word embedding)\n",
    "    - 순환 신경망에서 텍스트를 처리할 때 즐겨 사용하는 방법\n",
    "    - 각 단어를 고정된 크기의 실수 벡터로 변환\n",
    "    \n",
    "- 단어 임베딩으로 만들어진 벡터는 원핫인코딩보다 훨씬 의미있는 값으로 채워져 있음\n",
    "    - 자연어 처리에서 더 좋은 성능을 내는 경우가 많음\n",
    "    - 단어 임베딩 벡터를 만드는 층은 Embedding 클래스로 케라스에서 제공\n",
    "        - 처음에는 모든 벡터가 랜덤하게 초기화되고 훈련을 통해 데이터에서 좋은 단어 임베딩을 학습\n",
    "        \n",
    "- 단어 임베딩의 장점\n",
    "    - 입력으로 정수 데이터를 받음\n",
    "        - 원핫인코딩으로 변경된 배열이 아니라 train_seq를 바로 사용할 수 있음\n",
    "        - 메모리를 훨씬 효율적으로 사용할 수 있음\n",
    "    - 원핫인코딩보다 훨씬 작은 크기로도 단어를 잘 표현할 수 있음"
   ]
  },
  {
   "cell_type": "code",
   "execution_count": 31,
   "id": "dadd4bbd",
   "metadata": {},
   "outputs": [],
   "source": [
    "model2 = keras.Sequential()\n",
    "model2.add(keras.layers.Embedding(500, 16, input_length = 100))\n",
    "model2.add(keras.layers.SimpleRNN(8))\n",
    "model2.add(keras.layers.Dense(1, activation = \"sigmoid\"))"
   ]
  },
  {
   "cell_type": "markdown",
   "id": "df0f7c47",
   "metadata": {},
   "source": [
    "- Embedding\n",
    "    - 첫 번째 매개변수는 어휘 사전의 크기\n",
    "        - 앞에서 IMDB 데이터셋에서 500개의 단어만 사용하도록 설정했기 때문에 같은 값으로 설정\n",
    "    - 두 번째 매개변수 임베딩 벡터의 크기\n",
    "    - input_length 매개변수는 입력 시퀀스의 길이\n",
    "        - 앞에서 샘플의 길이를 100으로 맞추어서 같은 값으로 설정"
   ]
  },
  {
   "cell_type": "code",
   "execution_count": 32,
   "id": "b4c90467",
   "metadata": {},
   "outputs": [
    {
     "name": "stdout",
     "output_type": "stream",
     "text": [
      "Model: \"sequential_1\"\n",
      "_________________________________________________________________\n",
      " Layer (type)                Output Shape              Param #   \n",
      "=================================================================\n",
      " embedding (Embedding)       (None, 100, 16)           8000      \n",
      "                                                                 \n",
      " simple_rnn_1 (SimpleRNN)    (None, 8)                 200       \n",
      "                                                                 \n",
      " dense_1 (Dense)             (None, 1)                 9         \n",
      "                                                                 \n",
      "=================================================================\n",
      "Total params: 8209 (32.07 KB)\n",
      "Trainable params: 8209 (32.07 KB)\n",
      "Non-trainable params: 0 (0.00 Byte)\n",
      "_________________________________________________________________\n"
     ]
    }
   ],
   "source": [
    "model2.summary()"
   ]
  },
  {
   "cell_type": "markdown",
   "id": "5fb1bdbe",
   "metadata": {},
   "source": [
    "- Embedding\n",
    "    - (100,) 크기의 입력을 받아 (100, 16) 크기의 출력을 만듦\n",
    "    - 500개의 각 토큰을 크기가 16인 벡터로 변경\n",
    "        - 500 * 16 = 8000개의 파라미터를 가짐\n",
    "        \n",
    "- SimpleRNN\n",
    "    - 임베딩 벡터의 크기가 16, 유닛의 개수가 8\n",
    "        - 16 * 8 = 128\n",
    "    - 은닉 상태에 곱해지는 가중치\n",
    "        - 8 * 8 = 64\n",
    "    - 8개의 절편\n",
    "    - 128 + 64 + 8 = 200"
   ]
  },
  {
   "cell_type": "code",
   "execution_count": 33,
   "id": "dfe289f6",
   "metadata": {},
   "outputs": [],
   "source": [
    "rmsprop  = keras.optimizers.RMSprop(learning_rate = 1e-4)\n",
    "checkpoint_cb = keras.callbacks.ModelCheckpoint(\"./model/best-embedding-model.h5\", save_best_only = True)\n",
    "early_stopping_cb = keras.callbacks.EarlyStopping(patience = 3, restore_best_weights = True)\n",
    "model2.compile(optimizer = rmsprop, loss = \"binary_crossentropy\", metrics = [\"accuracy\"])"
   ]
  },
  {
   "cell_type": "code",
   "execution_count": 34,
   "id": "f999e129",
   "metadata": {},
   "outputs": [
    {
     "name": "stdout",
     "output_type": "stream",
     "text": [
      "Epoch 1/100\n",
      "313/313 [==============================] - 9s 16ms/step - loss: 0.6963 - accuracy: 0.5052 - val_loss: 0.6875 - val_accuracy: 0.5406\n",
      "Epoch 2/100\n",
      "313/313 [==============================] - 5s 15ms/step - loss: 0.6723 - accuracy: 0.6083 - val_loss: 0.6654 - val_accuracy: 0.6308\n",
      "Epoch 3/100\n",
      "313/313 [==============================] - 5s 15ms/step - loss: 0.6500 - accuracy: 0.6747 - val_loss: 0.6480 - val_accuracy: 0.6756\n",
      "Epoch 4/100\n",
      "313/313 [==============================] - 5s 15ms/step - loss: 0.6318 - accuracy: 0.7067 - val_loss: 0.6336 - val_accuracy: 0.6950\n",
      "Epoch 5/100\n",
      "313/313 [==============================] - 5s 14ms/step - loss: 0.6149 - accuracy: 0.7274 - val_loss: 0.6180 - val_accuracy: 0.7158\n",
      "Epoch 6/100\n",
      "313/313 [==============================] - 5s 16ms/step - loss: 0.5989 - accuracy: 0.7409 - val_loss: 0.6054 - val_accuracy: 0.7304\n",
      "Epoch 7/100\n",
      "313/313 [==============================] - 5s 15ms/step - loss: 0.5828 - accuracy: 0.7543 - val_loss: 0.5916 - val_accuracy: 0.7374\n",
      "Epoch 8/100\n",
      "313/313 [==============================] - 5s 14ms/step - loss: 0.5677 - accuracy: 0.7638 - val_loss: 0.5793 - val_accuracy: 0.7430\n",
      "Epoch 9/100\n",
      "313/313 [==============================] - 5s 15ms/step - loss: 0.5533 - accuracy: 0.7699 - val_loss: 0.5686 - val_accuracy: 0.7430\n",
      "Epoch 10/100\n",
      "313/313 [==============================] - 5s 15ms/step - loss: 0.5395 - accuracy: 0.7782 - val_loss: 0.5591 - val_accuracy: 0.7478\n",
      "Epoch 11/100\n",
      "313/313 [==============================] - 5s 16ms/step - loss: 0.5259 - accuracy: 0.7851 - val_loss: 0.5478 - val_accuracy: 0.7530\n",
      "Epoch 12/100\n",
      "313/313 [==============================] - 5s 15ms/step - loss: 0.5134 - accuracy: 0.7895 - val_loss: 0.5387 - val_accuracy: 0.7592\n",
      "Epoch 13/100\n",
      "313/313 [==============================] - 5s 16ms/step - loss: 0.5015 - accuracy: 0.7949 - val_loss: 0.5315 - val_accuracy: 0.7584\n",
      "Epoch 14/100\n",
      "313/313 [==============================] - 6s 18ms/step - loss: 0.4905 - accuracy: 0.8000 - val_loss: 0.5238 - val_accuracy: 0.7568\n",
      "Epoch 15/100\n",
      "313/313 [==============================] - 6s 18ms/step - loss: 0.4803 - accuracy: 0.8034 - val_loss: 0.5210 - val_accuracy: 0.7592\n",
      "Epoch 16/100\n",
      "313/313 [==============================] - 5s 15ms/step - loss: 0.4705 - accuracy: 0.8065 - val_loss: 0.5112 - val_accuracy: 0.7612\n",
      "Epoch 17/100\n",
      "313/313 [==============================] - 4s 14ms/step - loss: 0.4620 - accuracy: 0.8098 - val_loss: 0.5055 - val_accuracy: 0.7654\n",
      "Epoch 18/100\n",
      "313/313 [==============================] - 5s 15ms/step - loss: 0.4540 - accuracy: 0.8111 - val_loss: 0.5023 - val_accuracy: 0.7700\n",
      "Epoch 19/100\n",
      "313/313 [==============================] - 5s 15ms/step - loss: 0.4466 - accuracy: 0.8144 - val_loss: 0.5016 - val_accuracy: 0.7700\n",
      "Epoch 20/100\n",
      "313/313 [==============================] - 5s 15ms/step - loss: 0.4405 - accuracy: 0.8161 - val_loss: 0.4930 - val_accuracy: 0.7688\n",
      "Epoch 21/100\n",
      "313/313 [==============================] - 4s 14ms/step - loss: 0.4346 - accuracy: 0.8194 - val_loss: 0.4926 - val_accuracy: 0.7724\n",
      "Epoch 22/100\n",
      "313/313 [==============================] - 5s 15ms/step - loss: 0.4295 - accuracy: 0.8181 - val_loss: 0.4898 - val_accuracy: 0.7732\n",
      "Epoch 23/100\n",
      "313/313 [==============================] - 4s 14ms/step - loss: 0.4249 - accuracy: 0.8201 - val_loss: 0.4855 - val_accuracy: 0.7712\n",
      "Epoch 24/100\n",
      "313/313 [==============================] - 5s 15ms/step - loss: 0.4212 - accuracy: 0.8218 - val_loss: 0.4845 - val_accuracy: 0.7762\n",
      "Epoch 25/100\n",
      "313/313 [==============================] - 4s 14ms/step - loss: 0.4172 - accuracy: 0.8232 - val_loss: 0.4832 - val_accuracy: 0.7744\n",
      "Epoch 26/100\n",
      "313/313 [==============================] - 4s 14ms/step - loss: 0.4141 - accuracy: 0.8245 - val_loss: 0.4818 - val_accuracy: 0.7766\n",
      "Epoch 27/100\n",
      "313/313 [==============================] - 5s 15ms/step - loss: 0.4105 - accuracy: 0.8246 - val_loss: 0.4781 - val_accuracy: 0.7768\n",
      "Epoch 28/100\n",
      "313/313 [==============================] - 4s 14ms/step - loss: 0.4074 - accuracy: 0.8267 - val_loss: 0.4787 - val_accuracy: 0.7798\n",
      "Epoch 29/100\n",
      "313/313 [==============================] - 4s 14ms/step - loss: 0.4050 - accuracy: 0.8281 - val_loss: 0.4823 - val_accuracy: 0.7794\n",
      "Epoch 30/100\n",
      "313/313 [==============================] - 5s 15ms/step - loss: 0.4022 - accuracy: 0.8293 - val_loss: 0.4776 - val_accuracy: 0.7790\n",
      "Epoch 31/100\n",
      "313/313 [==============================] - 4s 14ms/step - loss: 0.4002 - accuracy: 0.8299 - val_loss: 0.4796 - val_accuracy: 0.7810\n",
      "Epoch 32/100\n",
      "313/313 [==============================] - 4s 14ms/step - loss: 0.3974 - accuracy: 0.8302 - val_loss: 0.4800 - val_accuracy: 0.7786\n",
      "Epoch 33/100\n",
      "313/313 [==============================] - 4s 14ms/step - loss: 0.3959 - accuracy: 0.8329 - val_loss: 0.4789 - val_accuracy: 0.7802\n"
     ]
    }
   ],
   "source": [
    "history = model2.fit(train_seq, y_train, epochs = 100, batch_size = 64,\n",
    "                    validation_data = (val_seq, y_val), callbacks = [checkpoint_cb, early_stopping_cb])"
   ]
  },
  {
   "cell_type": "code",
   "execution_count": 35,
   "id": "fb0a9e7c",
   "metadata": {},
   "outputs": [
    {
     "data": {
      "image/png": "[encoded data removed]",
      "text/plain": [
       "<Figure size 800x600 with 1 Axes>"
      ]
     },
     "metadata": {},
     "output_type": "display_data"
    }
   ],
   "source": [
    "plt.figure()\n",
    "plt.plot(history.history[\"loss\"], label = \"train_loss\")\n",
    "plt.plot(history.history[\"accuracy\"], label = \"train_acc\")\n",
    "plt.plot(history.history[\"val_loss\"], label = \"val_loss\")\n",
    "plt.plot(history.history[\"val_accuracy\"], label = \"val_acc\")\n",
    "\n",
    "plt.legend()\n",
    "plt.xlabel(\"epoch\")\n",
    "plt.show()"
   ]
  },
  {
   "cell_type": "code",
   "execution_count": null,
   "id": "7b1c2e94",
   "metadata": {},
   "outputs": [],
   "source": []
  }
 ],
 "metadata": {
  "kernelspec": {
   "display_name": "Python 3 (ipykernel)",
   "language": "python",
   "name": "python3"
  },
  "language_info": {
   "codemirror_mode": {
    "name": "ipython",
    "version": 3
   },
   "file_extension": ".py",
   "mimetype": "text/x-python",
   "name": "python",
   "nbconvert_exporter": "python",
   "pygments_lexer": "ipython3",
   "version": "3.11.5"
  }
 },
 "nbformat": 4,
 "nbformat_minor": 5
}
