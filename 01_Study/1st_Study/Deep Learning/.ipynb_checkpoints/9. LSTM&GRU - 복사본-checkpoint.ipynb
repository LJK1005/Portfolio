{
 "cells": [
  {
   "cell_type": "markdown",
   "id": "a74d2477",
   "metadata": {},
   "source": [
    "# LSTM(Long Short-Term Memory) 구조\n",
    "\n",
    "<img src = \"./img/rnn_lstm.jpg\" width = 500 height = 500>\n",
    "\n",
    "- 단기 기억을 오래 하기 위해 고안되었음"
   ]
  },
  {
   "cell_type": "markdown",
   "id": "9b6417c5",
   "metadata": {},
   "source": [
    "<img src = \"./img/lstm.png\" width=500 height = 500>"
   ]
  },
  {
   "cell_type": "markdown",
   "id": "cb0ba641",
   "metadata": {},
   "source": [
    "- 은닉 상태를 만드는 방법\n",
    "    - output gate layer(출력 게이트)\n",
    "        1. 입력과 이전 타임스텝의 은닉 상태를 가중치에 곱한 후 활성화 함수를 통과시켜 다음 은닉 상태를 만듦\n",
    "            - 이 때 기본 순환층과는 달리 시그모이드 활성화 함수를 사용\n",
    "        2. tanh 활성화 함수를 통과한 값과 곱해져서 은닉 상태를 만듦\n",
    "- LSTM은 순환 되는 상태가 2개\n",
    "    - 은닉 상태(hidden state)\n",
    "    - 셀 상태(cell state)\n",
    "        - 다음 층으로 전달되지 않고 LSTM 셀에서 순환만 되는 값\n",
    "        \n",
    "- 셀 상태를 계산하는 과정\n",
    "    - forget gate layer(삭제 게이트)\n",
    "        - 정보를 제거하는 역할\n",
    "        1. 입력과 은닉 상태를 또 다른 가중치에 곱한 다음 시그모이드 함수를 통과\n",
    "        2. 이전 타임스텝의 셀 상태와 곱하여 새로운 셀 상태를 만듦\n",
    "            - 이 셀 상태가 오른쪽에서 tanh 함수를 통과하여 새로운 은닉 상태를 만드는 데 기여\n",
    "    - input gate layer(입력 게이트)\n",
    "        - 새로운 정보를 셀 상태에 추가\n",
    "        1. 입력과 은닉 상태를 각기 다른 가중치에 곱함\n",
    "        2. 하나는 시그모이드 함수, 하나는 tanh 함수를 통과\n",
    "        3. 두 결과를 곱함\n",
    "        4. 이전 셀 상태와 더함"
   ]
  },
  {
   "cell_type": "markdown",
   "id": "21123eee",
   "metadata": {},
   "source": [
    "## 데이터 준비"
   ]
  },
  {
   "cell_type": "code",
   "execution_count": 1,
   "id": "1a39f5bc",
   "metadata": {},
   "outputs": [],
   "source": [
    "from tensorflow.keras.datasets import imdb\n",
    "from tensorflow.keras.preprocessing.sequence import pad_sequences\n",
    "from tensorflow import keras\n",
    "from sklearn.model_selection import train_test_split\n",
    "import matplotlib.pyplot as plt"
   ]
  },
  {
   "cell_type": "code",
   "execution_count": 2,
   "id": "77f67d0e",
   "metadata": {},
   "outputs": [],
   "source": [
    "# 데이터 로드\n",
    "(x_train, y_train), (x_test, y_test) = imdb.load_data(num_words = 500)"
   ]
  },
  {
   "cell_type": "code",
   "execution_count": 3,
   "id": "0a4c697c",
   "metadata": {},
   "outputs": [],
   "source": [
    "# 훈련 세트와 검증 세트로 나누기\n",
    "x_train, x_val, y_train, y_val = train_test_split(x_train, y_train, test_size = 0.2, random_state = 4)"
   ]
  },
  {
   "cell_type": "code",
   "execution_count": 4,
   "id": "d5600c0a",
   "metadata": {},
   "outputs": [],
   "source": [
    "# 패딩\n",
    "train_seq = pad_sequences(x_train, maxlen = 100)\n",
    "val_seq = pad_sequences(x_val, maxlen = 100)"
   ]
  },
  {
   "cell_type": "code",
   "execution_count": 5,
   "id": "d3dcb4b0",
   "metadata": {},
   "outputs": [],
   "source": [
    "# LSTM 모델 생성\n",
    "model = keras.Sequential()\n",
    "model.add(keras.layers.Embedding(500, 16, input_length = 100))\n",
    "model.add(keras.layers.LSTM(8))\n",
    "model.add(keras.layers.Dense(1, activation = \"sigmoid\"))"
   ]
  },
  {
   "cell_type": "code",
   "execution_count": 6,
   "id": "88270637",
   "metadata": {},
   "outputs": [
    {
     "name": "stdout",
     "output_type": "stream",
     "text": [
      "Model: \"sequential\"\n",
      "_________________________________________________________________\n",
      " Layer (type)                Output Shape              Param #   \n",
      "=================================================================\n",
      " embedding (Embedding)       (None, 100, 16)           8000      \n",
      "                                                                 \n",
      " lstm (LSTM)                 (None, 8)                 800       \n",
      "                                                                 \n",
      " dense (Dense)               (None, 1)                 9         \n",
      "                                                                 \n",
      "=================================================================\n",
      "Total params: 8,809\n",
      "Trainable params: 8,809\n",
      "Non-trainable params: 0\n",
      "_________________________________________________________________\n"
     ]
    }
   ],
   "source": [
    "model.summary()"
   ]
  },
  {
   "cell_type": "markdown",
   "id": "71ee7c29",
   "metadata": {},
   "source": [
    "- LSTM 셀 파라미터 개수\n",
    "    - ((8 * 8) + (16 * 8) + 8) * 4 = 800"
   ]
  },
  {
   "cell_type": "code",
   "execution_count": 7,
   "id": "e1bdfd7b",
   "metadata": {},
   "outputs": [],
   "source": [
    "rmsprop = keras.optimizers.RMSprop(learning_rate = 1e-4)\n",
    "model.compile(optimizer = rmsprop, loss = \"binary_crossentropy\", metrics = [\"accuracy\"])\n",
    "checkpoint_cb = keras.callbacks.ModelCheckpoint(\"./model/best-lstm-model.h5\", save_best_only = True)\n",
    "early_stoppinb_cb = keras.callbacks.EarlyStopping(patience = 3, restore_best_weights = True)"
   ]
  },
  {
   "cell_type": "code",
   "execution_count": 8,
   "id": "4c865117",
   "metadata": {},
   "outputs": [
    {
     "name": "stdout",
     "output_type": "stream",
     "text": [
      "Epoch 1/100\n",
      "313/313 [==============================] - 4s 5ms/step - loss: 0.6923 - accuracy: 0.5336 - val_loss: 0.6915 - val_accuracy: 0.5576\n",
      "Epoch 2/100\n",
      "313/313 [==============================] - 1s 5ms/step - loss: 0.6899 - accuracy: 0.5911 - val_loss: 0.6882 - val_accuracy: 0.5954\n",
      "Epoch 3/100\n",
      "313/313 [==============================] - 1s 5ms/step - loss: 0.6851 - accuracy: 0.6139 - val_loss: 0.6814 - val_accuracy: 0.6254\n",
      "Epoch 4/100\n",
      "313/313 [==============================] - 1s 5ms/step - loss: 0.6733 - accuracy: 0.6526 - val_loss: 0.6607 - val_accuracy: 0.6684\n",
      "Epoch 5/100\n",
      "313/313 [==============================] - 1s 5ms/step - loss: 0.6256 - accuracy: 0.7083 - val_loss: 0.5967 - val_accuracy: 0.7090\n",
      "Epoch 6/100\n",
      "313/313 [==============================] - 1s 5ms/step - loss: 0.5702 - accuracy: 0.7394 - val_loss: 0.5708 - val_accuracy: 0.7280\n",
      "Epoch 7/100\n",
      "313/313 [==============================] - 1s 5ms/step - loss: 0.5406 - accuracy: 0.7597 - val_loss: 0.5452 - val_accuracy: 0.7424\n",
      "Epoch 8/100\n",
      "313/313 [==============================] - 1s 5ms/step - loss: 0.5174 - accuracy: 0.7748 - val_loss: 0.5256 - val_accuracy: 0.7546\n",
      "Epoch 9/100\n",
      "313/313 [==============================] - 1s 5ms/step - loss: 0.4978 - accuracy: 0.7849 - val_loss: 0.5117 - val_accuracy: 0.7588\n",
      "Epoch 10/100\n",
      "313/313 [==============================] - 1s 5ms/step - loss: 0.4813 - accuracy: 0.7905 - val_loss: 0.4977 - val_accuracy: 0.7692\n",
      "Epoch 11/100\n",
      "313/313 [==============================] - 1s 5ms/step - loss: 0.4676 - accuracy: 0.7968 - val_loss: 0.4917 - val_accuracy: 0.7676\n",
      "Epoch 12/100\n",
      "313/313 [==============================] - 1s 5ms/step - loss: 0.4566 - accuracy: 0.7994 - val_loss: 0.4797 - val_accuracy: 0.7772\n",
      "Epoch 13/100\n",
      "313/313 [==============================] - 1s 5ms/step - loss: 0.4484 - accuracy: 0.8031 - val_loss: 0.4777 - val_accuracy: 0.7702\n",
      "Epoch 14/100\n",
      "313/313 [==============================] - 1s 5ms/step - loss: 0.4415 - accuracy: 0.8069 - val_loss: 0.4708 - val_accuracy: 0.7804\n",
      "Epoch 15/100\n",
      "313/313 [==============================] - 1s 5ms/step - loss: 0.4357 - accuracy: 0.8094 - val_loss: 0.4646 - val_accuracy: 0.7834\n",
      "Epoch 16/100\n",
      "313/313 [==============================] - 1s 5ms/step - loss: 0.4312 - accuracy: 0.8112 - val_loss: 0.4643 - val_accuracy: 0.7800\n",
      "Epoch 17/100\n",
      "313/313 [==============================] - 1s 5ms/step - loss: 0.4274 - accuracy: 0.8136 - val_loss: 0.4620 - val_accuracy: 0.7878\n",
      "Epoch 18/100\n",
      "313/313 [==============================] - 1s 5ms/step - loss: 0.4243 - accuracy: 0.8157 - val_loss: 0.4552 - val_accuracy: 0.7860\n",
      "Epoch 19/100\n",
      "313/313 [==============================] - 1s 5ms/step - loss: 0.4215 - accuracy: 0.8153 - val_loss: 0.4558 - val_accuracy: 0.7858\n",
      "Epoch 20/100\n",
      "313/313 [==============================] - 1s 5ms/step - loss: 0.4190 - accuracy: 0.8169 - val_loss: 0.4523 - val_accuracy: 0.7868\n",
      "Epoch 21/100\n",
      "313/313 [==============================] - 1s 5ms/step - loss: 0.4171 - accuracy: 0.8177 - val_loss: 0.4512 - val_accuracy: 0.7870\n",
      "Epoch 22/100\n",
      "313/313 [==============================] - 1s 5ms/step - loss: 0.4147 - accuracy: 0.8191 - val_loss: 0.4544 - val_accuracy: 0.7902\n",
      "Epoch 23/100\n",
      "313/313 [==============================] - 1s 5ms/step - loss: 0.4134 - accuracy: 0.8171 - val_loss: 0.4470 - val_accuracy: 0.7914\n",
      "Epoch 24/100\n",
      "313/313 [==============================] - 1s 5ms/step - loss: 0.4114 - accuracy: 0.8187 - val_loss: 0.4449 - val_accuracy: 0.7910\n",
      "Epoch 25/100\n",
      "313/313 [==============================] - 1s 5ms/step - loss: 0.4097 - accuracy: 0.8201 - val_loss: 0.4467 - val_accuracy: 0.7864\n",
      "Epoch 26/100\n",
      "313/313 [==============================] - 1s 5ms/step - loss: 0.4085 - accuracy: 0.8206 - val_loss: 0.4442 - val_accuracy: 0.7862\n",
      "Epoch 27/100\n",
      "313/313 [==============================] - 1s 5ms/step - loss: 0.4071 - accuracy: 0.8206 - val_loss: 0.4460 - val_accuracy: 0.7868\n",
      "Epoch 28/100\n",
      "313/313 [==============================] - 1s 5ms/step - loss: 0.4060 - accuracy: 0.8209 - val_loss: 0.4426 - val_accuracy: 0.7892\n",
      "Epoch 29/100\n",
      "313/313 [==============================] - 1s 5ms/step - loss: 0.4048 - accuracy: 0.8212 - val_loss: 0.4388 - val_accuracy: 0.7944\n",
      "Epoch 30/100\n",
      "313/313 [==============================] - 1s 5ms/step - loss: 0.4033 - accuracy: 0.8217 - val_loss: 0.4398 - val_accuracy: 0.7936\n",
      "Epoch 31/100\n",
      "313/313 [==============================] - 1s 5ms/step - loss: 0.4023 - accuracy: 0.8220 - val_loss: 0.4395 - val_accuracy: 0.7962\n",
      "Epoch 32/100\n",
      "313/313 [==============================] - 1s 5ms/step - loss: 0.4019 - accuracy: 0.8245 - val_loss: 0.4410 - val_accuracy: 0.7956\n"
     ]
    }
   ],
   "source": [
    "history = model.fit(train_seq, y_train, epochs = 100, batch_size = 64,\n",
    "                    validation_data = (val_seq, y_val), callbacks = [checkpoint_cb, early_stoppinb_cb])"
   ]
  },
  {
   "cell_type": "code",
   "execution_count": 9,
   "id": "914d3416",
   "metadata": {},
   "outputs": [
    {
     "data": {
      "image/png": "[encoded data removed]",
      "text/plain": [
       "<Figure size 640x480 with 1 Axes>"
      ]
     },
     "metadata": {},
     "output_type": "display_data"
    }
   ],
   "source": [
    "plt.figure()\n",
    "plt.plot(history.history[\"loss\"], label = \"train_loss\")\n",
    "plt.plot(history.history[\"accuracy\"], label = \"train_acc\")\n",
    "plt.plot(history.history[\"val_loss\"], label = \"val_loss\")\n",
    "plt.plot(history.history[\"val_accuracy\"], label = \"val_acc\")\n",
    "\n",
    "plt.legend()\n",
    "plt.xlabel(\"epoch\")\n",
    "plt.show()"
   ]
  },
  {
   "cell_type": "markdown",
   "id": "2d43d14d",
   "metadata": {},
   "source": [
    "# GRU(Grated Recurrent Unit) 구조\n",
    "\n",
    "<img src = \"./img/rnn_lstm_gru.png\">"
   ]
  },
  {
   "cell_type": "markdown",
   "id": "0e5017e6",
   "metadata": {},
   "source": [
    "- LSTM을 간소화한 버전\n",
    "- LSTM처럼 셀 상태를 계산하지 않고 은닉 상태 하나만 포함\n",
    "- LSTM보다 가중치가 적기 때문에 계산량이 적지만 성능은 LSTM과 유사함\n",
    "    - 데이터 양이 적을 때는 GRU의 성능이 더 좋고 데이터 양이 많을 때는 LSTM의 성능이 더 좋아지는 경향이 있음\n",
    "    - GRU와 LSTM중 어떤 것이 더 낫다라고 말할 수는 없음"
   ]
  },
  {
   "cell_type": "markdown",
   "id": "bcc5750b",
   "metadata": {},
   "source": [
    "<img src = \"./img/gru.png\" width=500 height=500>"
   ]
  },
  {
   "cell_type": "markdown",
   "id": "321123b4",
   "metadata": {},
   "source": [
    "- GRU 셀에는 은닉 상태와 입력에 가중치를 곱하고 절편을 더하는 작은 셀 3개가 들어 있음\n",
    "    - 2개는 시그모이드 활성화 함수를 사용하고 하나는 tanh활성화 함수를 사용\n",
    "- reset_gate\n",
    "    - 셀의 출력이 은닉 상태에 바로 곱해져 삭제 게이트 역할을 수행\n",
    "- update_gate\n",
    "    - 어떤 정보를 얼마만큼 유지하고 어떤 정보를 추가할지 결정하는 역할"
   ]
  },
  {
   "cell_type": "code",
   "execution_count": 10,
   "id": "b208324e",
   "metadata": {},
   "outputs": [],
   "source": [
    "# GRU 모델 생성\n",
    "model2 = keras.Sequential()\n",
    "model2.add(keras.layers.Embedding(500, 16, input_length = 100))\n",
    "model2.add(keras.layers.GRU(8))\n",
    "model2.add(keras.layers.Dense(1, activation = \"sigmoid\"))"
   ]
  },
  {
   "cell_type": "code",
   "execution_count": 11,
   "id": "8f43094a",
   "metadata": {},
   "outputs": [
    {
     "name": "stdout",
     "output_type": "stream",
     "text": [
      "Model: \"sequential_1\"\n",
      "_________________________________________________________________\n",
      " Layer (type)                Output Shape              Param #   \n",
      "=================================================================\n",
      " embedding_1 (Embedding)     (None, 100, 16)           8000      \n",
      "                                                                 \n",
      " gru (GRU)                   (None, 8)                 624       \n",
      "                                                                 \n",
      " dense_1 (Dense)             (None, 1)                 9         \n",
      "                                                                 \n",
      "=================================================================\n",
      "Total params: 8,633\n",
      "Trainable params: 8,633\n",
      "Non-trainable params: 0\n",
      "_________________________________________________________________\n"
     ]
    }
   ],
   "source": [
    "model2.summary()"
   ]
  },
  {
   "cell_type": "code",
   "execution_count": 12,
   "id": "ed5c04c5",
   "metadata": {},
   "outputs": [
    {
     "data": {
      "text/plain": [
       "624"
      ]
     },
     "execution_count": 12,
     "metadata": {},
     "output_type": "execute_result"
    }
   ],
   "source": [
    "((16 * 8) + (8 * 8) + 8 + 8) * 3"
   ]
  },
  {
   "cell_type": "code",
   "execution_count": 13,
   "id": "fe534e48",
   "metadata": {},
   "outputs": [],
   "source": [
    "rmsprop = keras.optimizers.RMSprop(learning_rate = 1e-4)\n",
    "model2.compile(optimizer = rmsprop, loss = \"binary_crossentropy\", metrics = [\"accuracy\"])\n",
    "checkpoint_cb = keras.callbacks.ModelCheckpoint(\"./model/best-gru-model.h5\", save_best_only = True)\n",
    "early_stoppinb_cb = keras.callbacks.EarlyStopping(patience = 3, restore_best_weights = True)"
   ]
  },
  {
   "cell_type": "code",
   "execution_count": 14,
   "id": "ff01ed21",
   "metadata": {},
   "outputs": [
    {
     "name": "stdout",
     "output_type": "stream",
     "text": [
      "Epoch 1/100\n",
      "313/313 [==============================] - 2s 5ms/step - loss: 0.6919 - accuracy: 0.5451 - val_loss: 0.6907 - val_accuracy: 0.5714\n",
      "Epoch 2/100\n",
      "313/313 [==============================] - 1s 5ms/step - loss: 0.6890 - accuracy: 0.5896 - val_loss: 0.6872 - val_accuracy: 0.5860\n",
      "Epoch 3/100\n",
      "313/313 [==============================] - 1s 5ms/step - loss: 0.6841 - accuracy: 0.6088 - val_loss: 0.6810 - val_accuracy: 0.6008\n",
      "Epoch 4/100\n",
      "313/313 [==============================] - 1s 5ms/step - loss: 0.6757 - accuracy: 0.6201 - val_loss: 0.6702 - val_accuracy: 0.6252\n",
      "Epoch 5/100\n",
      "313/313 [==============================] - 1s 5ms/step - loss: 0.6612 - accuracy: 0.6424 - val_loss: 0.6512 - val_accuracy: 0.6488\n",
      "Epoch 6/100\n",
      "313/313 [==============================] - 1s 5ms/step - loss: 0.6352 - accuracy: 0.6661 - val_loss: 0.6153 - val_accuracy: 0.6738\n",
      "Epoch 7/100\n",
      "313/313 [==============================] - 1s 5ms/step - loss: 0.5826 - accuracy: 0.7034 - val_loss: 0.5546 - val_accuracy: 0.7214\n",
      "Epoch 8/100\n",
      "313/313 [==============================] - 1s 5ms/step - loss: 0.5327 - accuracy: 0.7397 - val_loss: 0.5269 - val_accuracy: 0.7394\n",
      "Epoch 9/100\n",
      "313/313 [==============================] - 1s 5ms/step - loss: 0.5122 - accuracy: 0.7526 - val_loss: 0.5130 - val_accuracy: 0.7528\n",
      "Epoch 10/100\n",
      "313/313 [==============================] - 1s 5ms/step - loss: 0.4971 - accuracy: 0.7646 - val_loss: 0.4990 - val_accuracy: 0.7608\n",
      "Epoch 11/100\n",
      "313/313 [==============================] - 1s 5ms/step - loss: 0.4843 - accuracy: 0.7739 - val_loss: 0.4894 - val_accuracy: 0.7642\n",
      "Epoch 12/100\n",
      "313/313 [==============================] - 1s 4ms/step - loss: 0.4742 - accuracy: 0.7796 - val_loss: 0.4849 - val_accuracy: 0.7674\n",
      "Epoch 13/100\n",
      "313/313 [==============================] - 1s 4ms/step - loss: 0.4650 - accuracy: 0.7837 - val_loss: 0.4863 - val_accuracy: 0.7676\n",
      "Epoch 14/100\n",
      "313/313 [==============================] - 1s 5ms/step - loss: 0.4583 - accuracy: 0.7873 - val_loss: 0.4747 - val_accuracy: 0.7754\n",
      "Epoch 15/100\n",
      "313/313 [==============================] - 1s 5ms/step - loss: 0.4519 - accuracy: 0.7922 - val_loss: 0.4704 - val_accuracy: 0.7758\n",
      "Epoch 16/100\n",
      "313/313 [==============================] - 1s 5ms/step - loss: 0.4464 - accuracy: 0.7971 - val_loss: 0.4682 - val_accuracy: 0.7762\n",
      "Epoch 17/100\n",
      "313/313 [==============================] - 1s 4ms/step - loss: 0.4417 - accuracy: 0.7998 - val_loss: 0.4652 - val_accuracy: 0.7740\n",
      "Epoch 18/100\n",
      "313/313 [==============================] - 1s 5ms/step - loss: 0.4380 - accuracy: 0.8003 - val_loss: 0.4629 - val_accuracy: 0.7760\n",
      "Epoch 19/100\n",
      "313/313 [==============================] - 1s 5ms/step - loss: 0.4349 - accuracy: 0.8033 - val_loss: 0.4623 - val_accuracy: 0.7782\n",
      "Epoch 20/100\n",
      "313/313 [==============================] - 1s 4ms/step - loss: 0.4314 - accuracy: 0.8051 - val_loss: 0.4713 - val_accuracy: 0.7748\n",
      "Epoch 21/100\n",
      "313/313 [==============================] - 1s 4ms/step - loss: 0.4298 - accuracy: 0.8081 - val_loss: 0.4608 - val_accuracy: 0.7812\n",
      "Epoch 22/100\n",
      "313/313 [==============================] - 1s 4ms/step - loss: 0.4274 - accuracy: 0.8089 - val_loss: 0.4609 - val_accuracy: 0.7796\n",
      "Epoch 23/100\n",
      "313/313 [==============================] - 1s 4ms/step - loss: 0.4257 - accuracy: 0.8076 - val_loss: 0.4563 - val_accuracy: 0.7836\n",
      "Epoch 24/100\n",
      "313/313 [==============================] - 1s 4ms/step - loss: 0.4240 - accuracy: 0.8112 - val_loss: 0.4627 - val_accuracy: 0.7810\n",
      "Epoch 25/100\n",
      "313/313 [==============================] - 1s 4ms/step - loss: 0.4225 - accuracy: 0.8122 - val_loss: 0.4578 - val_accuracy: 0.7812\n",
      "Epoch 26/100\n",
      "313/313 [==============================] - 1s 5ms/step - loss: 0.4216 - accuracy: 0.8117 - val_loss: 0.4534 - val_accuracy: 0.7838\n",
      "Epoch 27/100\n",
      "313/313 [==============================] - 1s 4ms/step - loss: 0.4199 - accuracy: 0.8134 - val_loss: 0.4519 - val_accuracy: 0.7830\n",
      "Epoch 28/100\n",
      "313/313 [==============================] - 1s 5ms/step - loss: 0.4190 - accuracy: 0.8128 - val_loss: 0.4511 - val_accuracy: 0.7806\n",
      "Epoch 29/100\n",
      "313/313 [==============================] - 1s 4ms/step - loss: 0.4178 - accuracy: 0.8135 - val_loss: 0.4560 - val_accuracy: 0.7826\n",
      "Epoch 30/100\n",
      "313/313 [==============================] - 1s 5ms/step - loss: 0.4174 - accuracy: 0.8140 - val_loss: 0.4502 - val_accuracy: 0.7858\n",
      "Epoch 31/100\n",
      "313/313 [==============================] - 1s 4ms/step - loss: 0.4164 - accuracy: 0.8162 - val_loss: 0.4535 - val_accuracy: 0.7840\n",
      "Epoch 32/100\n",
      "313/313 [==============================] - 1s 4ms/step - loss: 0.4157 - accuracy: 0.8156 - val_loss: 0.4500 - val_accuracy: 0.7882\n",
      "Epoch 33/100\n",
      "313/313 [==============================] - 1s 4ms/step - loss: 0.4149 - accuracy: 0.8164 - val_loss: 0.4510 - val_accuracy: 0.7860\n",
      "Epoch 34/100\n",
      "313/313 [==============================] - 1s 4ms/step - loss: 0.4144 - accuracy: 0.8159 - val_loss: 0.4495 - val_accuracy: 0.7872\n",
      "Epoch 35/100\n",
      "313/313 [==============================] - 1s 4ms/step - loss: 0.4141 - accuracy: 0.8165 - val_loss: 0.4501 - val_accuracy: 0.7870\n",
      "Epoch 36/100\n",
      "313/313 [==============================] - 1s 4ms/step - loss: 0.4131 - accuracy: 0.8162 - val_loss: 0.4483 - val_accuracy: 0.7888\n",
      "Epoch 37/100\n",
      "313/313 [==============================] - 1s 4ms/step - loss: 0.4126 - accuracy: 0.8166 - val_loss: 0.4497 - val_accuracy: 0.7878\n",
      "Epoch 38/100\n",
      "313/313 [==============================] - 1s 4ms/step - loss: 0.4126 - accuracy: 0.8176 - val_loss: 0.4500 - val_accuracy: 0.7864\n",
      "Epoch 39/100\n",
      "313/313 [==============================] - 1s 4ms/step - loss: 0.4117 - accuracy: 0.8178 - val_loss: 0.4483 - val_accuracy: 0.7898\n"
     ]
    }
   ],
   "source": [
    "history = model2.fit(train_seq, y_train, epochs = 100, batch_size = 64,\n",
    "                    validation_data = (val_seq, y_val), callbacks = [checkpoint_cb, early_stoppinb_cb])"
   ]
  },
  {
   "cell_type": "code",
   "execution_count": 15,
   "id": "0883fc6d",
   "metadata": {},
   "outputs": [
    {
     "data": {
      "image/png": "[encoded data removed]",
      "text/plain": [
       "<Figure size 640x480 with 1 Axes>"
      ]
     },
     "metadata": {},
     "output_type": "display_data"
    }
   ],
   "source": [
    "plt.figure()\n",
    "plt.plot(history.history[\"loss\"], label = \"train_loss\")\n",
    "plt.plot(history.history[\"accuracy\"], label = \"train_acc\")\n",
    "plt.plot(history.history[\"val_loss\"], label = \"val_loss\")\n",
    "plt.plot(history.history[\"val_accuracy\"], label = \"val_acc\")\n",
    "\n",
    "plt.legend()\n",
    "plt.xlabel(\"epoch\")\n",
    "plt.show()"
   ]
  },
  {
   "cell_type": "code",
   "execution_count": null,
   "id": "cd5af75e",
   "metadata": {},
   "outputs": [],
   "source": []
  },
  {
   "cell_type": "code",
   "execution_count": null,
   "id": "61b36606",
   "metadata": {},
   "outputs": [],
   "source": []
  },
  {
   "cell_type": "code",
   "execution_count": null,
   "id": "f963ec08",
   "metadata": {},
   "outputs": [],
   "source": []
  },
  {
   "cell_type": "code",
   "execution_count": null,
   "id": "2806eacc",
   "metadata": {},
   "outputs": [],
   "source": []
  },
  {
   "cell_type": "code",
   "execution_count": null,
   "id": "323f2f4b",
   "metadata": {},
   "outputs": [],
   "source": []
  },
  {
   "cell_type": "code",
   "execution_count": null,
   "id": "b56aafb8",
   "metadata": {},
   "outputs": [],
   "source": []
  },
  {
   "cell_type": "code",
   "execution_count": null,
   "id": "22d6dcf4",
   "metadata": {},
   "outputs": [],
   "source": []
  },
  {
   "cell_type": "code",
   "execution_count": null,
   "id": "65f0163e",
   "metadata": {},
   "outputs": [],
   "source": []
  },
  {
   "cell_type": "code",
   "execution_count": null,
   "id": "c15f6e02",
   "metadata": {},
   "outputs": [],
   "source": []
  },
  {
   "cell_type": "code",
   "execution_count": null,
   "id": "5de38277",
   "metadata": {},
   "outputs": [],
   "source": []
  },
  {
   "cell_type": "code",
   "execution_count": null,
   "id": "e5ded63e",
   "metadata": {},
   "outputs": [],
   "source": []
  },
  {
   "cell_type": "code",
   "execution_count": null,
   "id": "4144012f",
   "metadata": {},
   "outputs": [],
   "source": []
  },
  {
   "cell_type": "code",
   "execution_count": null,
   "id": "c78d821a",
   "metadata": {},
   "outputs": [],
   "source": []
  },
  {
   "cell_type": "code",
   "execution_count": null,
   "id": "3e3904f7",
   "metadata": {},
   "outputs": [],
   "source": []
  },
  {
   "cell_type": "code",
   "execution_count": null,
   "id": "d41292e7",
   "metadata": {},
   "outputs": [],
   "source": []
  },
  {
   "cell_type": "code",
   "execution_count": null,
   "id": "b94ff68b",
   "metadata": {},
   "outputs": [],
   "source": []
  },
  {
   "cell_type": "code",
   "execution_count": null,
   "id": "4dd534c9",
   "metadata": {},
   "outputs": [],
   "source": []
  },
  {
   "cell_type": "code",
   "execution_count": null,
   "id": "a55b25a5",
   "metadata": {},
   "outputs": [],
   "source": []
  },
  {
   "cell_type": "code",
   "execution_count": null,
   "id": "fb3808c9",
   "metadata": {},
   "outputs": [],
   "source": []
  },
  {
   "cell_type": "code",
   "execution_count": null,
   "id": "9509c6fc",
   "metadata": {},
   "outputs": [],
   "source": []
  },
  {
   "cell_type": "code",
   "execution_count": null,
   "id": "899f2c90",
   "metadata": {},
   "outputs": [],
   "source": []
  },
  {
   "cell_type": "code",
   "execution_count": null,
   "id": "d1d24173",
   "metadata": {},
   "outputs": [],
   "source": []
  },
  {
   "cell_type": "code",
   "execution_count": null,
   "id": "41ee87fd",
   "metadata": {},
   "outputs": [],
   "source": []
  },
  {
   "cell_type": "code",
   "execution_count": null,
   "id": "35a30da0",
   "metadata": {},
   "outputs": [],
   "source": []
  },
  {
   "cell_type": "code",
   "execution_count": null,
   "id": "0c82b647",
   "metadata": {},
   "outputs": [],
   "source": []
  },
  {
   "cell_type": "code",
   "execution_count": null,
   "id": "7a8e0b77",
   "metadata": {},
   "outputs": [],
   "source": []
  },
  {
   "cell_type": "code",
   "execution_count": null,
   "id": "1f65d348",
   "metadata": {},
   "outputs": [],
   "source": []
  },
  {
   "cell_type": "code",
   "execution_count": null,
   "id": "ee52ff7d",
   "metadata": {},
   "outputs": [],
   "source": []
  },
  {
   "cell_type": "code",
   "execution_count": null,
   "id": "3f1d2f8a",
   "metadata": {},
   "outputs": [],
   "source": []
  },
  {
   "cell_type": "code",
   "execution_count": null,
   "id": "31963fee",
   "metadata": {},
   "outputs": [],
   "source": []
  },
  {
   "cell_type": "code",
   "execution_count": null,
   "id": "e6ab201d",
   "metadata": {},
   "outputs": [],
   "source": []
  },
  {
   "cell_type": "code",
   "execution_count": null,
   "id": "579adc17",
   "metadata": {},
   "outputs": [],
   "source": []
  },
  {
   "cell_type": "code",
   "execution_count": null,
   "id": "97d4aa9b",
   "metadata": {},
   "outputs": [],
   "source": []
  },
  {
   "cell_type": "code",
   "execution_count": null,
   "id": "9fd5fec2",
   "metadata": {},
   "outputs": [],
   "source": []
  },
  {
   "cell_type": "code",
   "execution_count": null,
   "id": "90695cec",
   "metadata": {},
   "outputs": [],
   "source": []
  },
  {
   "cell_type": "code",
   "execution_count": null,
   "id": "7a81be13",
   "metadata": {},
   "outputs": [],
   "source": []
  },
  {
   "cell_type": "code",
   "execution_count": null,
   "id": "5cffc04f",
   "metadata": {},
   "outputs": [],
   "source": []
  },
  {
   "cell_type": "code",
   "execution_count": null,
   "id": "776c4d84",
   "metadata": {},
   "outputs": [],
   "source": []
  },
  {
   "cell_type": "code",
   "execution_count": null,
   "id": "ea1ff00e",
   "metadata": {},
   "outputs": [],
   "source": []
  },
  {
   "cell_type": "code",
   "execution_count": null,
   "id": "45423219",
   "metadata": {},
   "outputs": [],
   "source": []
  },
  {
   "cell_type": "code",
   "execution_count": null,
   "id": "b1d443a1",
   "metadata": {},
   "outputs": [],
   "source": []
  },
  {
   "cell_type": "code",
   "execution_count": null,
   "id": "59af7d77",
   "metadata": {},
   "outputs": [],
   "source": []
  },
  {
   "cell_type": "code",
   "execution_count": null,
   "id": "dac14ff4",
   "metadata": {},
   "outputs": [],
   "source": []
  },
  {
   "cell_type": "code",
   "execution_count": null,
   "id": "850e9f4d",
   "metadata": {},
   "outputs": [],
   "source": []
  },
  {
   "cell_type": "code",
   "execution_count": null,
   "id": "6d314abe",
   "metadata": {},
   "outputs": [],
   "source": []
  },
  {
   "cell_type": "code",
   "execution_count": null,
   "id": "c0053335",
   "metadata": {},
   "outputs": [],
   "source": []
  },
  {
   "cell_type": "code",
   "execution_count": null,
   "id": "f3923cb9",
   "metadata": {},
   "outputs": [],
   "source": []
  },
  {
   "cell_type": "code",
   "execution_count": null,
   "id": "adadb5bd",
   "metadata": {},
   "outputs": [],
   "source": []
  },
  {
   "cell_type": "code",
   "execution_count": null,
   "id": "e1cf8feb",
   "metadata": {},
   "outputs": [],
   "source": []
  },
  {
   "cell_type": "code",
   "execution_count": null,
   "id": "ea6085b9",
   "metadata": {},
   "outputs": [],
   "source": []
  },
  {
   "cell_type": "code",
   "execution_count": null,
   "id": "454b0a84",
   "metadata": {},
   "outputs": [],
   "source": []
  },
  {
   "cell_type": "code",
   "execution_count": null,
   "id": "2c5b8a4e",
   "metadata": {},
   "outputs": [],
   "source": []
  },
  {
   "cell_type": "code",
   "execution_count": null,
   "id": "5342cf83",
   "metadata": {},
   "outputs": [],
   "source": []
  },
  {
   "cell_type": "code",
   "execution_count": null,
   "id": "3a072804",
   "metadata": {},
   "outputs": [],
   "source": []
  },
  {
   "cell_type": "code",
   "execution_count": null,
   "id": "d00c225b",
   "metadata": {},
   "outputs": [],
   "source": []
  }
 ],
 "metadata": {
  "kernelspec": {
   "display_name": "Python 3 (ipykernel)",
   "language": "python",
   "name": "python3"
  },
  "language_info": {
   "codemirror_mode": {
    "name": "ipython",
    "version": 3
   },
   "file_extension": ".py",
   "mimetype": "text/x-python",
   "name": "python",
   "nbconvert_exporter": "python",
   "pygments_lexer": "ipython3",
   "version": "3.10.9"
  }
 },
 "nbformat": 4,
 "nbformat_minor": 5
}
