{
 "cells": [
  {
   "cell_type": "code",
   "execution_count": 1,
   "id": "ba60383c",
   "metadata": {},
   "outputs": [],
   "source": [
    "a = 5"
   ]
  },
  {
   "cell_type": "code",
   "execution_count": 5,
   "id": "ea1f3076",
   "metadata": {},
   "outputs": [
    {
     "data": {
      "text/plain": [
       "5"
      ]
     },
     "execution_count": 5,
     "metadata": {},
     "output_type": "execute_result"
    }
   ],
   "source": [
    "a"
   ]
  },
  {
   "cell_type": "code",
   "execution_count": 2,
   "id": "73b117d9",
   "metadata": {},
   "outputs": [
    {
     "name": "stdout",
     "output_type": "stream",
     "text": [
      "<class 'int'>\n"
     ]
    }
   ],
   "source": [
    "print(type(a))"
   ]
  },
  {
   "cell_type": "code",
   "execution_count": 6,
   "id": "6a227fdc",
   "metadata": {},
   "outputs": [],
   "source": [
    "c = str(a)"
   ]
  },
  {
   "cell_type": "code",
   "execution_count": null,
   "id": "f0318e90",
   "metadata": {},
   "outputs": [],
   "source": []
  },
  {
   "cell_type": "code",
   "execution_count": 7,
   "id": "d91fe46c",
   "metadata": {},
   "outputs": [
    {
     "data": {
      "text/plain": [
       "'5'"
      ]
     },
     "execution_count": 7,
     "metadata": {},
     "output_type": "execute_result"
    }
   ],
   "source": [
    "c"
   ]
  },
  {
   "cell_type": "code",
   "execution_count": 9,
   "id": "85db6f9d",
   "metadata": {},
   "outputs": [
    {
     "name": "stdout",
     "output_type": "stream",
     "text": [
      "<class 'str'>\n"
     ]
    }
   ],
   "source": [
    "print(type(c))"
   ]
  },
  {
   "cell_type": "code",
   "execution_count": 15,
   "id": "341c878b",
   "metadata": {},
   "outputs": [
    {
     "name": "stdout",
     "output_type": "stream",
     "text": [
      "숫자 입력> 26\n",
      "\n",
      "26.0 inch\n",
      "66.04 cm\n"
     ]
    }
   ],
   "source": [
    "str_input = input(\"숫자 입력> \")\n",
    "num_input = float(str_input)\n",
    "\n",
    "print()\n",
    "print(num_input, \"inch\")\n",
    "print((num_input * 2.54), \"cm\")"
   ]
  },
  {
   "cell_type": "code",
   "execution_count": 19,
   "id": "0e52fb1b",
   "metadata": {},
   "outputs": [
    {
     "name": "stdout",
     "output_type": "stream",
     "text": [
      "원의 반지름 입력> 5\n",
      "\n",
      "반지름:  5.0\n",
      "둘레 :  31.400000000000002\n",
      "넓이 :  78.5\n"
     ]
    }
   ],
   "source": [
    "num_input = float(input(\"원의 반지름 입력> \"))\n",
    "print()\n",
    "print(\"반지름: \", num_input)\n",
    "print(\"둘레 : \", 2 * 3.14 * num_input)\n",
    "print(\"넓이 : \", 3.14 * num_input ** 2)"
   ]
  },
  {
   "cell_type": "code",
   "execution_count": 22,
   "id": "7cc090e8",
   "metadata": {},
   "outputs": [
    {
     "name": "stdout",
     "output_type": "stream",
     "text": [
      "문자열 입력> 안녕하세요\n",
      "문자열 입력> 아침입니다\n",
      "안녕하세요 아침입니다\n",
      "아침입니다 안녕하세요\n"
     ]
    }
   ],
   "source": [
    "a = input(\"문자열 입력> \")\n",
    "b = input(\"문자열 입력> \")\n",
    "\n",
    "print(a, b)\n",
    "c = a\n",
    "a = b\n",
    "b = c\n",
    "print(a, b)"
   ]
  },
  {
   "cell_type": "code",
   "execution_count": 23,
   "id": "ba4159e2",
   "metadata": {},
   "outputs": [],
   "source": [
    "a = \"{}{}{}{}{}\".format(101, 202, 303, 404, 505)"
   ]
  },
  {
   "cell_type": "code",
   "execution_count": 24,
   "id": "fe4146d6",
   "metadata": {},
   "outputs": [
    {
     "data": {
      "text/plain": [
       "'101202303404505'"
      ]
     },
     "execution_count": 24,
     "metadata": {},
     "output_type": "execute_result"
    }
   ],
   "source": [
    "a"
   ]
  },
  {
   "cell_type": "code",
   "execution_count": 25,
   "id": "8faf3224",
   "metadata": {},
   "outputs": [],
   "source": [
    "b = True"
   ]
  },
  {
   "cell_type": "code",
   "execution_count": 79,
   "id": "1dbb19a8",
   "metadata": {},
   "outputs": [
    {
     "data": {
      "text/plain": [
       "' 52.00000'"
      ]
     },
     "execution_count": 79,
     "metadata": {},
     "output_type": "execute_result"
    }
   ],
   "source": [
    "\"{:9.5f}\".format(52)"
   ]
  },
  {
   "cell_type": "code",
   "execution_count": 80,
   "id": "b587fbd2",
   "metadata": {},
   "outputs": [],
   "source": [
    "d = \"abcde\""
   ]
  },
  {
   "cell_type": "code",
   "execution_count": 91,
   "id": "4ef4b17c",
   "metadata": {},
   "outputs": [],
   "source": [
    "a = \"           부왘\""
   ]
  },
  {
   "cell_type": "code",
   "execution_count": 92,
   "id": "12c3d3ef",
   "metadata": {},
   "outputs": [
    {
     "data": {
      "text/plain": [
       "'           부왘'"
      ]
     },
     "execution_count": 92,
     "metadata": {},
     "output_type": "execute_result"
    }
   ],
   "source": [
    "a"
   ]
  },
  {
   "cell_type": "code",
   "execution_count": 98,
   "id": "8e47b6ec",
   "metadata": {},
   "outputs": [
    {
     "data": {
      "text/plain": [
       "'부왘'"
      ]
     },
     "execution_count": 98,
     "metadata": {},
     "output_type": "execute_result"
    }
   ],
   "source": [
    "a.strip()"
   ]
  },
  {
   "cell_type": "code",
   "execution_count": 100,
   "id": "3bf36e3b",
   "metadata": {},
   "outputs": [],
   "source": [
    "a = \"한국 일본 중국 미국\""
   ]
  },
  {
   "cell_type": "code",
   "execution_count": 101,
   "id": "724df7fb",
   "metadata": {},
   "outputs": [
    {
     "data": {
      "text/plain": [
       "'한국 일본 중국 미국'"
      ]
     },
     "execution_count": 101,
     "metadata": {},
     "output_type": "execute_result"
    }
   ],
   "source": [
    "a"
   ]
  },
  {
   "cell_type": "code",
   "execution_count": 103,
   "id": "d9362daf",
   "metadata": {},
   "outputs": [],
   "source": [
    "b = a.split()"
   ]
  },
  {
   "cell_type": "code",
   "execution_count": 104,
   "id": "cd39ca7b",
   "metadata": {},
   "outputs": [
    {
     "data": {
      "text/plain": [
       "['한국', '일본', '중국', '미국']"
      ]
     },
     "execution_count": 104,
     "metadata": {},
     "output_type": "execute_result"
    }
   ],
   "source": [
    "b"
   ]
  },
  {
   "cell_type": "code",
   "execution_count": 105,
   "id": "f18a3b61",
   "metadata": {},
   "outputs": [
    {
     "data": {
      "text/plain": [
       "list"
      ]
     },
     "execution_count": 105,
     "metadata": {},
     "output_type": "execute_result"
    }
   ],
   "source": [
    "type(b)"
   ]
  },
  {
   "cell_type": "code",
   "execution_count": 111,
   "id": "2fedb7f5",
   "metadata": {
    "scrolled": true
   },
   "outputs": [
    {
     "data": {
      "text/plain": [
       "6"
      ]
     },
     "execution_count": 111,
     "metadata": {},
     "output_type": "execute_result"
    }
   ],
   "source": [
    "a.find(\"중국\")"
   ]
  },
  {
   "cell_type": "code",
   "execution_count": 128,
   "id": "a7313a6e",
   "metadata": {
    "scrolled": true
   },
   "outputs": [
    {
     "name": "stdout",
     "output_type": "stream",
     "text": [
      "> 1번째 숫자: 5050550\n",
      "> 2번째 숫자: 123124124\n",
      "\n",
      "5050550 + 123124124 = 128174674\n"
     ]
    }
   ],
   "source": [
    "a = input(\"> 1번째 숫자: \")\n",
    "b = input(\"> 2번째 숫자: \")\n",
    "print()\n",
    "print(\"{} + {} = {}\".format(a, b, int(a) + int(b)))"
   ]
  },
  {
   "cell_type": "code",
   "execution_count": 122,
   "id": "9efc717d",
   "metadata": {},
   "outputs": [
    {
     "name": "stdout",
     "output_type": "stream",
     "text": [
      "50\n"
     ]
    }
   ],
   "source": [
    "c = int(input())"
   ]
  },
  {
   "cell_type": "code",
   "execution_count": 131,
   "id": "75f095fd",
   "metadata": {},
   "outputs": [],
   "source": [
    "import datetime"
   ]
  },
  {
   "cell_type": "code",
   "execution_count": 135,
   "id": "ad3dd3c2",
   "metadata": {},
   "outputs": [
    {
     "data": {
      "text/plain": [
       "datetime.datetime(2023, 4, 16, 18, 31, 2, 950412)"
      ]
     },
     "execution_count": 135,
     "metadata": {},
     "output_type": "execute_result"
    }
   ],
   "source": [
    "datetime.datetime.now()"
   ]
  },
  {
   "cell_type": "code",
   "execution_count": 150,
   "id": "545df287",
   "metadata": {},
   "outputs": [
    {
     "name": "stdout",
     "output_type": "stream",
     "text": [
      "> 1번째 숫자 : 10\n",
      "> 2번째 숫자 : 10\n",
      "\n",
      "10.0와 10.0는 같습니다\n"
     ]
    }
   ],
   "source": [
    "a = float(input(\"> 1번째 숫자 : \"))\n",
    "b = float(input(\"> 2번째 숫자 : \"))\n",
    "print()\n",
    "\n",
    "if a > b:\n",
    "    print(\"처음 입력했던 {}가 {}보다 더 큽니다\".format(a, b))\n",
    "    \n",
    "elif b > a:\n",
    "    print(\"두 번째로 입력했던 {}가 {}보다 더 큽니다\".format(b, a))\n",
    "    \n",
    "else:\n",
    "    print(\"{}와 {}는 같습니다\".format(a, b))"
   ]
  },
  {
   "cell_type": "code",
   "execution_count": 153,
   "id": "fe540b17",
   "metadata": {},
   "outputs": [
    {
     "name": "stdout",
     "output_type": "stream",
     "text": [
      "숫자 입력 : 15\n",
      "조건에 맞습니다\n"
     ]
    }
   ],
   "source": [
    "x = float(input(\"숫자 입력 : \"))\n",
    "\n",
    "if 10 < x < 20:\n",
    "    print(\"조건에 맞습니다\")\n",
    "    \n",
    "else:\n",
    "    print(\"조건에 맞지 않습니다\")"
   ]
  },
  {
   "cell_type": "code",
   "execution_count": 154,
   "id": "b3bea56c",
   "metadata": {},
   "outputs": [],
   "source": [
    "list1 = [10, 50, 30, \"문자\", \"나\", \"세상에!\", True, False, [\"또다른리스트\", 10, 30]]"
   ]
  },
  {
   "cell_type": "code",
   "execution_count": 155,
   "id": "32681d22",
   "metadata": {},
   "outputs": [
    {
     "data": {
      "text/plain": [
       "[10, 50, 30, '문자', '나', '세상에!', True, False, ['또다른리스트', 10, 30]]"
      ]
     },
     "execution_count": 155,
     "metadata": {},
     "output_type": "execute_result"
    }
   ],
   "source": [
    "list1"
   ]
  },
  {
   "cell_type": "code",
   "execution_count": 156,
   "id": "a5b1228e",
   "metadata": {},
   "outputs": [
    {
     "data": {
      "text/plain": [
       "'문자'"
      ]
     },
     "execution_count": 156,
     "metadata": {},
     "output_type": "execute_result"
    }
   ],
   "source": [
    "list1[3]"
   ]
  },
  {
   "cell_type": "code",
   "execution_count": 160,
   "id": "851a62d2",
   "metadata": {},
   "outputs": [
    {
     "data": {
      "text/plain": [
       "9"
      ]
     },
     "execution_count": 160,
     "metadata": {},
     "output_type": "execute_result"
    }
   ],
   "source": [
    "len(list1)"
   ]
  },
  {
   "cell_type": "code",
   "execution_count": 157,
   "id": "dfba0714",
   "metadata": {},
   "outputs": [
    {
     "data": {
      "text/plain": [
       "True"
      ]
     },
     "execution_count": 157,
     "metadata": {},
     "output_type": "execute_result"
    }
   ],
   "source": [
    "list1[6]"
   ]
  },
  {
   "cell_type": "code",
   "execution_count": 185,
   "id": "415f80e2",
   "metadata": {},
   "outputs": [
    {
     "name": "stdout",
     "output_type": "stream",
     "text": [
      "0번째 인덱스 값 입력 (0을 입력하면 데이터 입력 종료) : 다시\n",
      "리스트에 다시이 입력되었습니다\n",
      "1번째 인덱스 값 입력 (0을 입력하면 데이터 입력 종료) : 해보자\n",
      "리스트에 해보자이 입력되었습니다\n",
      "2번째 인덱스 값 입력 (0을 입력하면 데이터 입력 종료) : 리스트메이커\n",
      "리스트에 리스트메이커이 입력되었습니다\n",
      "3번째 인덱스 값 입력 (0을 입력하면 데이터 입력 종료) : 0\n",
      "종료하려면 Y를 입력하세요Y\n",
      "데이터 입력을 종료합니다.\n",
      "위치 입력 : 100\n",
      "해당 값은 이 리스트의 유효한 인덱스 넘버가 아닙니다\n"
     ]
    }
   ],
   "source": [
    "list1 = []\n",
    "index = 0\n",
    "\n",
    "while True:\n",
    "    input1 = input(f\"{index}번째 인덱스 값 입력 (0을 입력하면 데이터 입력 종료) : \")\n",
    "    \n",
    "    if input1 == \"0\":\n",
    "        input2 = input(\"종료하려면 Y를 입력하세요\")\n",
    "        if input2 == \"Y\":\n",
    "            print(\"데이터 입력을 종료합니다.\")\n",
    "            break\n",
    "            \n",
    "        else:\n",
    "            print(\"리스트에 0이 입력되었습니다.\")\n",
    "            list1.append(input1)\n",
    "            index += 1\n",
    "    else:\n",
    "        print(f\"리스트에 {input1}이 입력되었습니다\")\n",
    "        list1.append(input1)\n",
    "        index += 1\n",
    "\n",
    "check = int(input(\"위치 입력 : \"))\n",
    "\n",
    "if 0 <= check <= len(list1):\n",
    "    print(f\"이 리스트의 {check}번째 인덱스 값은 {list1[check]}입니다.\")\n",
    "    \n",
    "else:\n",
    "    print(\"해당 값은 이 리스트의 유효한 인덱스 넘버가 아닙니다\")"
   ]
  },
  {
   "cell_type": "code",
   "execution_count": 184,
   "id": "15514ea4",
   "metadata": {},
   "outputs": [
    {
     "data": {
      "text/plain": [
       "['1', '2', '6', '100', '500000', '우와', '내가', '짱이다', '0']"
      ]
     },
     "execution_count": 184,
     "metadata": {},
     "output_type": "execute_result"
    }
   ],
   "source": [
    "list1"
   ]
  },
  {
   "cell_type": "code",
   "execution_count": 177,
   "id": "f57c671e",
   "metadata": {},
   "outputs": [
    {
     "name": "stdout",
     "output_type": "stream",
     "text": [
      "입력 ㄱㄱ : Y\n"
     ]
    },
    {
     "data": {
      "text/plain": [
       "True"
      ]
     },
     "execution_count": 177,
     "metadata": {},
     "output_type": "execute_result"
    }
   ],
   "source": [
    "test = input(\"입력 ㄱㄱ : \")\n",
    "test == \"Y\""
   ]
  },
  {
   "cell_type": "code",
   "execution_count": 1,
   "id": "743da442",
   "metadata": {},
   "outputs": [],
   "source": [
    "list1 = [1, 2, 3, 4, 5]"
   ]
  },
  {
   "cell_type": "code",
   "execution_count": 2,
   "id": "e0f27004",
   "metadata": {},
   "outputs": [
    {
     "data": {
      "text/plain": [
       "[1, 2, 3, 4, 5]"
      ]
     },
     "execution_count": 2,
     "metadata": {},
     "output_type": "execute_result"
    }
   ],
   "source": [
    "list1"
   ]
  },
  {
   "cell_type": "code",
   "execution_count": 3,
   "id": "b9f3b391",
   "metadata": {},
   "outputs": [
    {
     "data": {
      "text/plain": [
       "5"
      ]
     },
     "execution_count": 3,
     "metadata": {},
     "output_type": "execute_result"
    }
   ],
   "source": [
    "list1.pop(4)"
   ]
  },
  {
   "cell_type": "code",
   "execution_count": 4,
   "id": "8a291047",
   "metadata": {},
   "outputs": [
    {
     "data": {
      "text/plain": [
       "[1, 2, 3, 4]"
      ]
     },
     "execution_count": 4,
     "metadata": {},
     "output_type": "execute_result"
    }
   ],
   "source": [
    "list1"
   ]
  },
  {
   "cell_type": "code",
   "execution_count": 5,
   "id": "84473977",
   "metadata": {},
   "outputs": [],
   "source": [
    "del list1[2]"
   ]
  },
  {
   "cell_type": "code",
   "execution_count": 6,
   "id": "55650a9c",
   "metadata": {},
   "outputs": [
    {
     "data": {
      "text/plain": [
       "[1, 2, 4]"
      ]
     },
     "execution_count": 6,
     "metadata": {},
     "output_type": "execute_result"
    }
   ],
   "source": [
    "list1"
   ]
  },
  {
   "cell_type": "code",
   "execution_count": 7,
   "id": "a867ce05",
   "metadata": {},
   "outputs": [],
   "source": [
    "list1 = [1, 2, 1, 2, 1, 2]"
   ]
  },
  {
   "cell_type": "code",
   "execution_count": 8,
   "id": "c1c62c92",
   "metadata": {},
   "outputs": [
    {
     "data": {
      "text/plain": [
       "[1, 2, 1, 2, 1, 2]"
      ]
     },
     "execution_count": 8,
     "metadata": {},
     "output_type": "execute_result"
    }
   ],
   "source": [
    "list1"
   ]
  },
  {
   "cell_type": "code",
   "execution_count": 13,
   "id": "fcf795f1",
   "metadata": {},
   "outputs": [],
   "source": [
    "list1.remove(1)"
   ]
  },
  {
   "cell_type": "code",
   "execution_count": 14,
   "id": "ec528c5e",
   "metadata": {},
   "outputs": [
    {
     "data": {
      "text/plain": [
       "[2, 2, 2]"
      ]
     },
     "execution_count": 14,
     "metadata": {},
     "output_type": "execute_result"
    }
   ],
   "source": [
    "list1"
   ]
  },
  {
   "cell_type": "code",
   "execution_count": 15,
   "id": "978fdccd",
   "metadata": {},
   "outputs": [],
   "source": [
    "list1.clear()"
   ]
  },
  {
   "cell_type": "code",
   "execution_count": 16,
   "id": "1a42b486",
   "metadata": {},
   "outputs": [
    {
     "data": {
      "text/plain": [
       "[]"
      ]
     },
     "execution_count": 16,
     "metadata": {},
     "output_type": "execute_result"
    }
   ],
   "source": [
    "list1"
   ]
  },
  {
   "cell_type": "code",
   "execution_count": 17,
   "id": "68c8d2e6",
   "metadata": {},
   "outputs": [],
   "source": [
    "list1 = [1, 2, 3]"
   ]
  },
  {
   "cell_type": "code",
   "execution_count": 18,
   "id": "f4efe435",
   "metadata": {},
   "outputs": [
    {
     "data": {
      "text/plain": [
       "True"
      ]
     },
     "execution_count": 18,
     "metadata": {},
     "output_type": "execute_result"
    }
   ],
   "source": [
    "2 in list1"
   ]
  },
  {
   "cell_type": "code",
   "execution_count": 20,
   "id": "81e12534",
   "metadata": {},
   "outputs": [
    {
     "data": {
      "text/plain": [
       "False"
      ]
     },
     "execution_count": 20,
     "metadata": {},
     "output_type": "execute_result"
    }
   ],
   "source": [
    "4 in list1"
   ]
  },
  {
   "cell_type": "code",
   "execution_count": 21,
   "id": "b70dab1b",
   "metadata": {},
   "outputs": [
    {
     "name": "stdout",
     "output_type": "stream",
     "text": [
      "0\n",
      "1\n",
      "2\n",
      "3\n",
      "4\n"
     ]
    }
   ],
   "source": [
    "for i in range(5):\n",
    "    print(i)"
   ]
  },
  {
   "cell_type": "code",
   "execution_count": 22,
   "id": "f7b356fb",
   "metadata": {},
   "outputs": [],
   "source": [
    "list1 = [1,3,5,7,9]"
   ]
  },
  {
   "cell_type": "code",
   "execution_count": 23,
   "id": "5854123d",
   "metadata": {},
   "outputs": [
    {
     "name": "stdout",
     "output_type": "stream",
     "text": [
      "1\n",
      "3\n",
      "5\n",
      "7\n",
      "9\n"
     ]
    }
   ],
   "source": [
    "for i in list1:\n",
    "    print(i)"
   ]
  },
  {
   "cell_type": "code",
   "execution_count": 24,
   "id": "63761e12",
   "metadata": {},
   "outputs": [],
   "source": [
    "tu1 = (1,3,5,7,9,11)"
   ]
  },
  {
   "cell_type": "code",
   "execution_count": 25,
   "id": "e399b378",
   "metadata": {},
   "outputs": [
    {
     "data": {
      "text/plain": [
       "tuple"
      ]
     },
     "execution_count": 25,
     "metadata": {},
     "output_type": "execute_result"
    }
   ],
   "source": [
    "type(tu1)"
   ]
  },
  {
   "cell_type": "code",
   "execution_count": 26,
   "id": "380c5168",
   "metadata": {},
   "outputs": [
    {
     "name": "stdout",
     "output_type": "stream",
     "text": [
      "1\n",
      "3\n",
      "5\n",
      "7\n",
      "9\n",
      "11\n"
     ]
    }
   ],
   "source": [
    "for i in tu1:\n",
    "    print(i)"
   ]
  },
  {
   "cell_type": "code",
   "execution_count": 27,
   "id": "4d9757b9",
   "metadata": {},
   "outputs": [
    {
     "data": {
      "text/plain": [
       "range(0, 5)"
      ]
     },
     "execution_count": 27,
     "metadata": {},
     "output_type": "execute_result"
    }
   ],
   "source": [
    "range(5)"
   ]
  },
  {
   "cell_type": "code",
   "execution_count": 29,
   "id": "7a78fa8c",
   "metadata": {},
   "outputs": [
    {
     "name": "stdout",
     "output_type": "stream",
     "text": [
      "4\n",
      "6\n",
      "8\n"
     ]
    }
   ],
   "source": [
    "for i in range(4, 10, 2):\n",
    "    print(i)"
   ]
  },
  {
   "cell_type": "code",
   "execution_count": 31,
   "id": "4fdf2824",
   "metadata": {},
   "outputs": [],
   "source": [
    "list1 = [1,2,3]"
   ]
  },
  {
   "cell_type": "code",
   "execution_count": 32,
   "id": "914b2008",
   "metadata": {},
   "outputs": [
    {
     "data": {
      "text/plain": [
       "[1, 2, 3]"
      ]
     },
     "execution_count": 32,
     "metadata": {},
     "output_type": "execute_result"
    }
   ],
   "source": [
    "list1"
   ]
  },
  {
   "cell_type": "code",
   "execution_count": 36,
   "id": "476b4978",
   "metadata": {},
   "outputs": [],
   "source": [
    "list1.extend(list1)"
   ]
  },
  {
   "cell_type": "code",
   "execution_count": 37,
   "id": "fd6b5ef3",
   "metadata": {},
   "outputs": [
    {
     "data": {
      "text/plain": [
       "[1, 2, 3, 1, 2, 3]"
      ]
     },
     "execution_count": 37,
     "metadata": {},
     "output_type": "execute_result"
    }
   ],
   "source": [
    "list1"
   ]
  },
  {
   "cell_type": "code",
   "execution_count": 38,
   "id": "4dc8e374",
   "metadata": {},
   "outputs": [],
   "source": [
    "list1.insert(3, 0)"
   ]
  },
  {
   "cell_type": "code",
   "execution_count": 39,
   "id": "ffda4c1f",
   "metadata": {},
   "outputs": [
    {
     "data": {
      "text/plain": [
       "[1, 2, 3, 0, 1, 2, 3]"
      ]
     },
     "execution_count": 39,
     "metadata": {},
     "output_type": "execute_result"
    }
   ],
   "source": [
    "list1"
   ]
  },
  {
   "cell_type": "code",
   "execution_count": 40,
   "id": "b6898b3e",
   "metadata": {},
   "outputs": [],
   "source": [
    "list1.remove(3)"
   ]
  },
  {
   "cell_type": "code",
   "execution_count": 41,
   "id": "c8b9b128",
   "metadata": {},
   "outputs": [
    {
     "data": {
      "text/plain": [
       "[1, 2, 0, 1, 2, 3]"
      ]
     },
     "execution_count": 41,
     "metadata": {},
     "output_type": "execute_result"
    }
   ],
   "source": [
    "list1"
   ]
  },
  {
   "cell_type": "code",
   "execution_count": 42,
   "id": "c3f505c1",
   "metadata": {},
   "outputs": [
    {
     "data": {
      "text/plain": [
       "1"
      ]
     },
     "execution_count": 42,
     "metadata": {},
     "output_type": "execute_result"
    }
   ],
   "source": [
    "list1.pop(3)"
   ]
  },
  {
   "cell_type": "code",
   "execution_count": 43,
   "id": "eb4b93b7",
   "metadata": {},
   "outputs": [
    {
     "data": {
      "text/plain": [
       "'555'"
      ]
     },
     "execution_count": 43,
     "metadata": {},
     "output_type": "execute_result"
    }
   ],
   "source": [
    "str(555)"
   ]
  },
  {
   "cell_type": "code",
   "execution_count": 44,
   "id": "7da25986",
   "metadata": {},
   "outputs": [],
   "source": [
    "test1 = range(1,10)"
   ]
  },
  {
   "cell_type": "code",
   "execution_count": 45,
   "id": "1bc8c5d2",
   "metadata": {},
   "outputs": [
    {
     "data": {
      "text/plain": [
       "range(1, 10)"
      ]
     },
     "execution_count": 45,
     "metadata": {},
     "output_type": "execute_result"
    }
   ],
   "source": [
    "test1"
   ]
  },
  {
   "cell_type": "code",
   "execution_count": 46,
   "id": "3d19a4be",
   "metadata": {},
   "outputs": [
    {
     "data": {
      "text/plain": [
       "range"
      ]
     },
     "execution_count": 46,
     "metadata": {},
     "output_type": "execute_result"
    }
   ],
   "source": [
    "type(test1)"
   ]
  },
  {
   "cell_type": "code",
   "execution_count": 47,
   "id": "77575572",
   "metadata": {},
   "outputs": [
    {
     "data": {
      "text/plain": [
       "[1, 2, 3, 4, 5, 6, 7, 8, 9]"
      ]
     },
     "execution_count": 47,
     "metadata": {},
     "output_type": "execute_result"
    }
   ],
   "source": [
    "list(test1)"
   ]
  },
  {
   "cell_type": "code",
   "execution_count": 48,
   "id": "780a70f4",
   "metadata": {},
   "outputs": [],
   "source": [
    "dict1 = {\"name\":\"이진규\", \"age\":33}"
   ]
  },
  {
   "cell_type": "code",
   "execution_count": 49,
   "id": "3a275cb9",
   "metadata": {},
   "outputs": [
    {
     "data": {
      "text/plain": [
       "{'name': '이진규', 'age': 33}"
      ]
     },
     "execution_count": 49,
     "metadata": {},
     "output_type": "execute_result"
    }
   ],
   "source": [
    "dict1"
   ]
  },
  {
   "cell_type": "code",
   "execution_count": 51,
   "id": "ec408a02",
   "metadata": {},
   "outputs": [
    {
     "data": {
      "text/plain": [
       "33"
      ]
     },
     "execution_count": 51,
     "metadata": {},
     "output_type": "execute_result"
    }
   ],
   "source": [
    "dict1[\"age\"]"
   ]
  },
  {
   "cell_type": "code",
   "execution_count": 52,
   "id": "82d096a0",
   "metadata": {},
   "outputs": [],
   "source": [
    "dict1[\"weight\"] = 65"
   ]
  },
  {
   "cell_type": "code",
   "execution_count": 55,
   "id": "4e12cb64",
   "metadata": {},
   "outputs": [
    {
     "data": {
      "text/plain": [
       "{'name': '이진규', 'age': 33, 'weight': 65, 5: 3}"
      ]
     },
     "execution_count": 55,
     "metadata": {},
     "output_type": "execute_result"
    }
   ],
   "source": [
    "dict1"
   ]
  },
  {
   "cell_type": "code",
   "execution_count": 54,
   "id": "0c279c15",
   "metadata": {},
   "outputs": [],
   "source": [
    "dict1[5] = 3"
   ]
  },
  {
   "cell_type": "code",
   "execution_count": 63,
   "id": "ab368f75",
   "metadata": {},
   "outputs": [],
   "source": [
    "del dict1[5]"
   ]
  },
  {
   "cell_type": "code",
   "execution_count": 64,
   "id": "9cc3964f",
   "metadata": {},
   "outputs": [
    {
     "data": {
      "text/plain": [
       "{'name': '이진규', 'age': 33, 'weight': 65}"
      ]
     },
     "execution_count": 64,
     "metadata": {},
     "output_type": "execute_result"
    }
   ],
   "source": [
    "dict1"
   ]
  },
  {
   "cell_type": "code",
   "execution_count": 65,
   "id": "f4759dbc",
   "metadata": {},
   "outputs": [
    {
     "data": {
      "text/plain": [
       "True"
      ]
     },
     "execution_count": 65,
     "metadata": {},
     "output_type": "execute_result"
    }
   ],
   "source": [
    "\"name\" in dict1"
   ]
  },
  {
   "cell_type": "code",
   "execution_count": 67,
   "id": "7a620272",
   "metadata": {},
   "outputs": [
    {
     "name": "stdout",
     "output_type": "stream",
     "text": [
      "None\n"
     ]
    }
   ],
   "source": [
    "print(dict1.get(\"없다\"))"
   ]
  },
  {
   "cell_type": "code",
   "execution_count": 68,
   "id": "9a2692ab",
   "metadata": {},
   "outputs": [
    {
     "name": "stdout",
     "output_type": "stream",
     "text": [
      "name\n",
      "age\n",
      "weight\n"
     ]
    }
   ],
   "source": [
    "for a in dict1:\n",
    "    print(a)"
   ]
  },
  {
   "cell_type": "code",
   "execution_count": 70,
   "id": "f8dc166e",
   "metadata": {},
   "outputs": [],
   "source": [
    "del dict1[\"weight\"]"
   ]
  },
  {
   "cell_type": "code",
   "execution_count": 71,
   "id": "983bd71a",
   "metadata": {},
   "outputs": [
    {
     "data": {
      "text/plain": [
       "{'name': '이진규', 'age': 33}"
      ]
     },
     "execution_count": 71,
     "metadata": {},
     "output_type": "execute_result"
    }
   ],
   "source": [
    "dict1"
   ]
  },
  {
   "cell_type": "code",
   "execution_count": 72,
   "id": "8df95f1a",
   "metadata": {},
   "outputs": [],
   "source": [
    "dict1.clear()"
   ]
  },
  {
   "cell_type": "code",
   "execution_count": 73,
   "id": "f57eb538",
   "metadata": {},
   "outputs": [
    {
     "data": {
      "text/plain": [
       "{}"
      ]
     },
     "execution_count": 73,
     "metadata": {},
     "output_type": "execute_result"
    }
   ],
   "source": [
    "dict1"
   ]
  },
  {
   "cell_type": "code",
   "execution_count": 78,
   "id": "0764a608",
   "metadata": {},
   "outputs": [],
   "source": [
    "dict1[\"name\"] = \"구름\""
   ]
  },
  {
   "cell_type": "code",
   "execution_count": 81,
   "id": "f98d5b30",
   "metadata": {},
   "outputs": [
    {
     "data": {
      "text/plain": [
       "{}"
      ]
     },
     "execution_count": 81,
     "metadata": {},
     "output_type": "execute_result"
    }
   ],
   "source": [
    "dict1"
   ]
  },
  {
   "cell_type": "code",
   "execution_count": 80,
   "id": "54a466d8",
   "metadata": {},
   "outputs": [],
   "source": [
    "dict1.clear()"
   ]
  },
  {
   "cell_type": "code",
   "execution_count": 82,
   "id": "9e18ea63",
   "metadata": {},
   "outputs": [],
   "source": [
    "pets = [\n",
    "    {\"name\" : \"구름\", \"age\" : 5},\n",
    "    {\"name\" : \"초코\", \"age\" : 3},\n",
    "    {\"name\" : \"아지\", \"age\" : 1},\n",
    "    {\"name\" : \"호랑이\", \"age\" : 1}]"
   ]
  },
  {
   "cell_type": "code",
   "execution_count": 83,
   "id": "1a036453",
   "metadata": {},
   "outputs": [
    {
     "data": {
      "text/plain": [
       "{'name': '초코', 'age': 3}"
      ]
     },
     "execution_count": 83,
     "metadata": {},
     "output_type": "execute_result"
    }
   ],
   "source": [
    "pets[1]"
   ]
  },
  {
   "cell_type": "code",
   "execution_count": 85,
   "id": "f5c0b63f",
   "metadata": {},
   "outputs": [
    {
     "name": "stdout",
     "output_type": "stream",
     "text": [
      "# 우리 동네 애완 동물들\n",
      "{'name': '구름', 'age': 5}\n",
      "{'name': '초코', 'age': 3}\n",
      "{'name': '아지', 'age': 1}\n",
      "{'name': '호랑이', 'age': 1}\n"
     ]
    }
   ],
   "source": [
    "pets = [\n",
    "    {\"name\" : \"구름\", \"age\" : 5},\n",
    "    {\"name\" : \"초코\", \"age\" : 3},\n",
    "    {\"name\" : \"아지\", \"age\" : 1},\n",
    "    {\"name\" : \"호랑이\", \"age\" : 1}]\n",
    "\n",
    "print(\"# 우리 동네 애완 동물들\")\n",
    "for a in pets:\n",
    "    print(f\"{a}\")"
   ]
  },
  {
   "cell_type": "code",
   "execution_count": 94,
   "id": "a06cf336",
   "metadata": {},
   "outputs": [
    {
     "name": "stdout",
     "output_type": "stream",
     "text": [
      "# 우리 동네 애완 동물들\n",
      "구름 5살\n",
      "초코 3살\n",
      "아지 1살\n",
      "호랑이 1살\n"
     ]
    }
   ],
   "source": [
    "pets = [\n",
    "    {\"name\" : \"구름\", \"age\" : 5},\n",
    "    {\"name\" : \"초코\", \"age\" : 3},\n",
    "    {\"name\" : \"아지\", \"age\" : 1},\n",
    "    {\"name\" : \"호랑이\", \"age\" : 1}]\n",
    "\n",
    "print(\"# 우리 동네 애완 동물들\")\n",
    "for a in pets:\n",
    "    print(a[\"name\"],str(a[\"age\"])+\"살\")"
   ]
  },
  {
   "cell_type": "code",
   "execution_count": 98,
   "id": "885ecac6",
   "metadata": {},
   "outputs": [
    {
     "name": "stdout",
     "output_type": "stream",
     "text": [
      "{1: 3, 2: 4, 3: 4, 4: 4, 6: 4, 7: 5, 5: 2, 8: 2, 9: 2, 0: 2}\n"
     ]
    }
   ],
   "source": [
    "numbers = [1,2,3,2,4,6,7,6,2,1,2,4,6,3,1,3,5,7,4,6,7,8,9,0,0,8,7,5,4,3,7,9]\n",
    "counter = {}\n",
    "\n",
    "for i in numbers:\n",
    "    if counter.get(i) == None:\n",
    "        counter[i] = 1\n",
    "    else:\n",
    "        counter[i] += 1\n",
    "        \n",
    "print(counter)"
   ]
  },
  {
   "cell_type": "code",
   "execution_count": 119,
   "id": "8bd0c356",
   "metadata": {},
   "outputs": [
    {
     "name": "stdout",
     "output_type": "stream",
     "text": [
      "name : 기사\n",
      "sword : 불꽃의 검\n",
      "armor : 풀플레이트\n",
      "skill : 베기\n",
      "skill : 세게 베기\n",
      "skill : 아주 세게 베기\n"
     ]
    }
   ],
   "source": [
    "char1 = {\n",
    "    \"name\" : \"기사\",\n",
    "    \"level\" : 12,\n",
    "    \"items\" : {\n",
    "        \"sword\" : \"불꽃의 검\",\n",
    "        \"armor\" : \"풀플레이트\"},\n",
    "    \"skill\" : [\"베기\", \"세게 베기\", \"아주 세게 베기\"]\n",
    "    }\n",
    "\n",
    "for key in char1:\n",
    "    if type(char1[key]) is str:\n",
    "        print(key, \":\", char1[key])\n",
    "    elif type(char1[key]) is dict:\n",
    "        for a in char1[key]:\n",
    "            print(a, \":\", char1[key][a])\n",
    "    elif type(char1[key]) is list:\n",
    "        for b in char1[key]:\n",
    "            print(key, \":\", b)"
   ]
  },
  {
   "cell_type": "code",
   "execution_count": 118,
   "id": "90d87f61",
   "metadata": {},
   "outputs": [
    {
     "data": {
      "text/plain": [
       "['베기', '세게 베기', '아주 세게 베기']"
      ]
     },
     "execution_count": 118,
     "metadata": {},
     "output_type": "execute_result"
    }
   ],
   "source": [
    "char1[\"skill\"]"
   ]
  },
  {
   "cell_type": "code",
   "execution_count": 122,
   "id": "dbcea53c",
   "metadata": {},
   "outputs": [],
   "source": [
    "list1 = [1,2,312323122131221321321]"
   ]
  },
  {
   "cell_type": "code",
   "execution_count": 123,
   "id": "57ae689c",
   "metadata": {},
   "outputs": [
    {
     "data": {
      "text/plain": [
       "3"
      ]
     },
     "execution_count": 123,
     "metadata": {},
     "output_type": "execute_result"
    }
   ],
   "source": [
    "len(list1)"
   ]
  },
  {
   "cell_type": "code",
   "execution_count": 126,
   "id": "5f1b3573",
   "metadata": {},
   "outputs": [],
   "source": [
    "list1 = [27, 32, 103, 57, 52]"
   ]
  },
  {
   "cell_type": "code",
   "execution_count": 127,
   "id": "dfd1534c",
   "metadata": {},
   "outputs": [
    {
     "data": {
      "text/plain": [
       "range(0, 5)"
      ]
     },
     "execution_count": 127,
     "metadata": {},
     "output_type": "execute_result"
    }
   ],
   "source": [
    "range(len(list1))"
   ]
  },
  {
   "cell_type": "code",
   "execution_count": 130,
   "id": "0fcf555f",
   "metadata": {},
   "outputs": [
    {
     "name": "stdout",
     "output_type": "stream",
     "text": [
      "0번째 반복 : 27\n",
      "1번째 반복 : 32\n",
      "2번째 반복 : 103\n",
      "3번째 반복 : 57\n",
      "4번째 반복 : 52\n"
     ]
    }
   ],
   "source": [
    "for i in range(len(list1)):\n",
    "    print(f\"{i}번째 반복 : {list1[i]}\")"
   ]
  },
  {
   "cell_type": "code",
   "execution_count": 131,
   "id": "638a6133",
   "metadata": {},
   "outputs": [
    {
     "data": {
      "text/plain": [
       "[27, 32, 103, 57, 52]"
      ]
     },
     "execution_count": 131,
     "metadata": {},
     "output_type": "execute_result"
    }
   ],
   "source": [
    "list1"
   ]
  },
  {
   "cell_type": "code",
   "execution_count": 137,
   "id": "5b82f1f8",
   "metadata": {},
   "outputs": [
    {
     "name": "stdout",
     "output_type": "stream",
     "text": [
      "52\n",
      "57\n",
      "103\n",
      "32\n",
      "27\n"
     ]
    }
   ],
   "source": [
    "for i in reversed(list1):\n",
    "    print(i)"
   ]
  },
  {
   "cell_type": "code",
   "execution_count": 139,
   "id": "0b6cea09",
   "metadata": {},
   "outputs": [],
   "source": [
    "import time"
   ]
  },
  {
   "cell_type": "code",
   "execution_count": 140,
   "id": "5d1471e6",
   "metadata": {},
   "outputs": [
    {
     "data": {
      "text/plain": [
       "1682066293.3286405"
      ]
     },
     "execution_count": 140,
     "metadata": {},
     "output_type": "execute_result"
    }
   ],
   "source": [
    "time.time()"
   ]
  },
  {
   "cell_type": "code",
   "execution_count": 141,
   "id": "9c66d66c",
   "metadata": {},
   "outputs": [
    {
     "data": {
      "text/plain": [
       "[0, 1, 2, 3, 4]"
      ]
     },
     "execution_count": 141,
     "metadata": {},
     "output_type": "execute_result"
    }
   ],
   "source": [
    "list(range(0,5))"
   ]
  },
  {
   "cell_type": "code",
   "execution_count": 148,
   "id": "cfe31e95",
   "metadata": {},
   "outputs": [
    {
     "name": "stdout",
     "output_type": "stream",
     "text": [
      "{'name': '기사', 'hp': 200, 'mp': 30, 'level': 5}\n"
     ]
    }
   ],
   "source": [
    "key_list = [\"name\", \"hp\", \"mp\", \"level\"]\n",
    "value_list = [\"기사\", 200, 30, 5]\n",
    "character = {}\n",
    "\n",
    "for a in range(0,4):\n",
    "    character[key_list[a]] = value_list[a]\n",
    "\n",
    "print(character)"
   ]
  },
  {
   "cell_type": "code",
   "execution_count": 156,
   "id": "2c679e0f",
   "metadata": {},
   "outputs": [
    {
     "name": "stdout",
     "output_type": "stream",
     "text": [
      "45을 더할 때 1000를 넘으며 그때의 값은 1035입니다.\n"
     ]
    }
   ],
   "source": [
    "limit = 1000\n",
    "i = 1\n",
    "\n",
    "while sum(range(0,i)) < limit:\n",
    "    i += 1\n",
    "    \n",
    "print(f\"{i-1}을 더할 때 {limit}를 넘으며 그때의 값은 {sum(range(0,i))}입니다.\")"
   ]
  },
  {
   "cell_type": "code",
   "execution_count": 162,
   "id": "0a2f95a8",
   "metadata": {},
   "outputs": [
    {
     "name": "stdout",
     "output_type": "stream",
     "text": [
      "50 * 50 = 2500\n"
     ]
    }
   ],
   "source": [
    "limit = 100\n",
    "a = 0\n",
    "maximum = 0\n",
    "\n",
    "while a < limit:\n",
    "    a += 1\n",
    "    if a * (limit-a) > maximum:\n",
    "        maximum = a * (limit-a)\n",
    "        maxa = a\n",
    "\n",
    "print(f\"{maxa} * {limit-maxa} = {maximum}\")"
   ]
  },
  {
   "cell_type": "code",
   "execution_count": 167,
   "id": "ccfa8f28",
   "metadata": {},
   "outputs": [
    {
     "name": "stdout",
     "output_type": "stream",
     "text": [
      "첫 번째 반복문 : 6\n",
      "첫 번째 반복문 : 5\n",
      "첫 번째 반복문 : 4\n",
      "첫 번째 반복문 : 3\n",
      "첫 번째 반복문 : 2\n",
      "첫 번째 반복문 : 1\n",
      "두 번째 반복문 : 6\n",
      "두 번째 반복문 : 5\n",
      "두 번째 반복문 : 4\n",
      "두 번째 반복문 : 3\n",
      "두 번째 반복문 : 2\n",
      "두 번째 반복문 : 1\n"
     ]
    }
   ],
   "source": [
    "list1 = [1, 2, 3, 4, 5, 6]\n",
    "\n",
    "for i in reversed(list1):\n",
    "    print(f\"첫 번째 반복문 : {i}\")\n",
    "    \n",
    "for i in reversed(list1):\n",
    "    print(f\"두 번째 반복문 : {i}\")"
   ]
  },
  {
   "cell_type": "code",
   "execution_count": 176,
   "id": "891e4fed",
   "metadata": {},
   "outputs": [],
   "source": [
    "list1 = [[1,2], [2,3], [3,4]]"
   ]
  },
  {
   "cell_type": "code",
   "execution_count": 177,
   "id": "4c193603",
   "metadata": {},
   "outputs": [
    {
     "data": {
      "text/plain": [
       "[[1, 2], [2, 3], [3, 4]]"
      ]
     },
     "execution_count": 177,
     "metadata": {},
     "output_type": "execute_result"
    }
   ],
   "source": [
    "list1"
   ]
  },
  {
   "cell_type": "code",
   "execution_count": 179,
   "id": "54d0a9ef",
   "metadata": {},
   "outputs": [
    {
     "data": {
      "text/plain": [
       "<enumerate at 0x1a892187180>"
      ]
     },
     "execution_count": 179,
     "metadata": {},
     "output_type": "execute_result"
    }
   ],
   "source": [
    "enumerate(list1)"
   ]
  },
  {
   "cell_type": "code",
   "execution_count": 180,
   "id": "a2f38904",
   "metadata": {},
   "outputs": [
    {
     "data": {
      "text/plain": [
       "[(0, [1, 2]), (1, [2, 3]), (2, [3, 4])]"
      ]
     },
     "execution_count": 180,
     "metadata": {},
     "output_type": "execute_result"
    }
   ],
   "source": [
    "list(enumerate(list1))"
   ]
  },
  {
   "cell_type": "code",
   "execution_count": 181,
   "id": "581d631b",
   "metadata": {},
   "outputs": [
    {
     "data": {
      "text/plain": [
       "enumerate"
      ]
     },
     "execution_count": 181,
     "metadata": {},
     "output_type": "execute_result"
    }
   ],
   "source": [
    "type(enumerate(list1))"
   ]
  },
  {
   "cell_type": "code",
   "execution_count": 182,
   "id": "489ceb43",
   "metadata": {},
   "outputs": [
    {
     "data": {
      "text/plain": [
       "{'이름': '이진규', '나이': 31, '체중': 65}"
      ]
     },
     "execution_count": 182,
     "metadata": {},
     "output_type": "execute_result"
    }
   ],
   "source": [
    "dict1"
   ]
  },
  {
   "cell_type": "code",
   "execution_count": 183,
   "id": "f7bed479",
   "metadata": {},
   "outputs": [
    {
     "data": {
      "text/plain": [
       "<enumerate at 0x1a89219d740>"
      ]
     },
     "execution_count": 183,
     "metadata": {},
     "output_type": "execute_result"
    }
   ],
   "source": [
    "enumerate(dict1)"
   ]
  },
  {
   "cell_type": "code",
   "execution_count": 185,
   "id": "84e65871",
   "metadata": {},
   "outputs": [
    {
     "data": {
      "text/plain": [
       "[(0, '이름'), (1, '나이'), (2, '체중')]"
      ]
     },
     "execution_count": 185,
     "metadata": {},
     "output_type": "execute_result"
    }
   ],
   "source": [
    "list(enumerate(dict1))"
   ]
  },
  {
   "cell_type": "code",
   "execution_count": 188,
   "id": "a281854b",
   "metadata": {},
   "outputs": [],
   "source": [
    "a = dict1.items()"
   ]
  },
  {
   "cell_type": "code",
   "execution_count": 189,
   "id": "9221c550",
   "metadata": {},
   "outputs": [
    {
     "data": {
      "text/plain": [
       "dict_items([('이름', '이진규'), ('나이', 31), ('체중', 65)])"
      ]
     },
     "execution_count": 189,
     "metadata": {},
     "output_type": "execute_result"
    }
   ],
   "source": [
    "a"
   ]
  },
  {
   "cell_type": "code",
   "execution_count": 192,
   "id": "db717eff",
   "metadata": {},
   "outputs": [
    {
     "data": {
      "text/plain": [
       "[('이름', '이진규'), ('나이', 31), ('체중', 65)]"
      ]
     },
     "execution_count": 192,
     "metadata": {},
     "output_type": "execute_result"
    }
   ],
   "source": [
    "list(a)"
   ]
  },
  {
   "cell_type": "code",
   "execution_count": 193,
   "id": "99b6e222",
   "metadata": {},
   "outputs": [],
   "source": [
    "test = (\"문자열1\" \"문자열2\")"
   ]
  },
  {
   "cell_type": "code",
   "execution_count": 194,
   "id": "247c56a1",
   "metadata": {},
   "outputs": [
    {
     "data": {
      "text/plain": [
       "'문자열1문자열2'"
      ]
     },
     "execution_count": 194,
     "metadata": {},
     "output_type": "execute_result"
    }
   ],
   "source": [
    "test"
   ]
  },
  {
   "cell_type": "code",
   "execution_count": 195,
   "id": "3e730301",
   "metadata": {},
   "outputs": [
    {
     "data": {
      "text/plain": [
       "[[1, 2], [2, 3], [3, 4]]"
      ]
     },
     "execution_count": 195,
     "metadata": {},
     "output_type": "execute_result"
    }
   ],
   "source": [
    "list1"
   ]
  },
  {
   "cell_type": "code",
   "execution_count": 243,
   "id": "056d5af0",
   "metadata": {},
   "outputs": [],
   "source": [
    "a = reversed(list1)"
   ]
  },
  {
   "cell_type": "code",
   "execution_count": 244,
   "id": "6380ca89",
   "metadata": {},
   "outputs": [
    {
     "data": {
      "text/plain": [
       "[3, 4]"
      ]
     },
     "execution_count": 244,
     "metadata": {},
     "output_type": "execute_result"
    }
   ],
   "source": [
    "next(a)"
   ]
  },
  {
   "cell_type": "code",
   "execution_count": 207,
   "id": "a363d899",
   "metadata": {},
   "outputs": [
    {
     "data": {
      "text/plain": [
       "<list_reverseiterator at 0x1a89140e590>"
      ]
     },
     "execution_count": 207,
     "metadata": {},
     "output_type": "execute_result"
    }
   ],
   "source": [
    "a"
   ]
  },
  {
   "cell_type": "code",
   "execution_count": 245,
   "id": "589dbc20",
   "metadata": {},
   "outputs": [
    {
     "data": {
      "text/plain": [
       "<enumerate at 0x1a8920947c0>"
      ]
     },
     "execution_count": 245,
     "metadata": {},
     "output_type": "execute_result"
    }
   ],
   "source": [
    "enumerate(list1)"
   ]
  },
  {
   "cell_type": "code",
   "execution_count": 248,
   "id": "d5a01e6e",
   "metadata": {},
   "outputs": [
    {
     "data": {
      "text/plain": [
       "dict_items([('이름', '이진규'), ('나이', 31), ('체중', 65)])"
      ]
     },
     "execution_count": 248,
     "metadata": {},
     "output_type": "execute_result"
    }
   ],
   "source": [
    "dict1.items()"
   ]
  },
  {
   "cell_type": "code",
   "execution_count": 255,
   "id": "9ac774e9",
   "metadata": {},
   "outputs": [
    {
     "name": "stdout",
     "output_type": "stream",
     "text": [
      "2 : 10\n",
      "5 : 101\n",
      "6 : 110\n",
      "11 : 1011\n",
      "13 : 1101\n",
      "14 : 1110\n",
      "23 : 10111\n",
      "27 : 11011\n",
      "29 : 11101\n",
      "30 : 11110\n",
      "47 : 101111\n",
      "55 : 110111\n",
      "59 : 111011\n",
      "61 : 111101\n",
      "62 : 111110\n",
      "95 : 1011111\n",
      "합계 : 539\n"
     ]
    }
   ],
   "source": [
    "count = 0\n",
    "\n",
    "for i in range(1, 101):\n",
    "    if \"{:b}\".format(i).count(\"0\") == 1:\n",
    "        count += i\n",
    "        print(\"{} : {}\".format(i, \"{:b}\".format(i)))\n",
    "        \n",
    "print(\"합계 :\", count)"
   ]
  },
  {
   "cell_type": "code",
   "execution_count": 256,
   "id": "226544f0",
   "metadata": {},
   "outputs": [],
   "source": [
    "def f(x):\n",
    "    return (2*x)+1"
   ]
  },
  {
   "cell_type": "code",
   "execution_count": 257,
   "id": "36373f39",
   "metadata": {},
   "outputs": [
    {
     "name": "stdout",
     "output_type": "stream",
     "text": [
      "21\n"
     ]
    }
   ],
   "source": [
    "print(f(10))"
   ]
  },
  {
   "cell_type": "code",
   "execution_count": 258,
   "id": "8c4565df",
   "metadata": {},
   "outputs": [],
   "source": [
    "def f(x):\n",
    "    return (x**2)+(x*2)+1"
   ]
  },
  {
   "cell_type": "code",
   "execution_count": 260,
   "id": "0a0ba0d2",
   "metadata": {},
   "outputs": [
    {
     "name": "stdout",
     "output_type": "stream",
     "text": [
      "121\n"
     ]
    }
   ],
   "source": [
    "print(f(10))"
   ]
  },
  {
   "cell_type": "code",
   "execution_count": 261,
   "id": "95d56db9",
   "metadata": {},
   "outputs": [],
   "source": [
    "def mul(*values):\n",
    "    a = 1\n",
    "    for i in values:\n",
    "        a *= i\n",
    "    print(a)"
   ]
  },
  {
   "cell_type": "code",
   "execution_count": 262,
   "id": "9dfee281",
   "metadata": {
    "scrolled": true
   },
   "outputs": [
    {
     "name": "stdout",
     "output_type": "stream",
     "text": [
      "3150\n"
     ]
    }
   ],
   "source": [
    "mul(5,7,9,10)"
   ]
  },
  {
   "cell_type": "code",
   "execution_count": 9,
   "id": "79ecfdbb",
   "metadata": {},
   "outputs": [],
   "source": [
    "cnt = 0\n",
    "\n",
    "def fib(n):\n",
    "    global cnt\n",
    "    cnt += 1\n",
    "    if n == 1:\n",
    "        return 1\n",
    "    if n == 2:\n",
    "        return 1\n",
    "    else:\n",
    "        return fib(n-2) + fib(n-1)"
   ]
  },
  {
   "cell_type": "code",
   "execution_count": 10,
   "id": "fcb4ec76",
   "metadata": {},
   "outputs": [
    {
     "data": {
      "text/plain": [
       "102334155"
      ]
     },
     "execution_count": 10,
     "metadata": {},
     "output_type": "execute_result"
    }
   ],
   "source": [
    "fib(40)"
   ]
  },
  {
   "cell_type": "code",
   "execution_count": 11,
   "id": "d3087583",
   "metadata": {},
   "outputs": [
    {
     "data": {
      "text/plain": [
       "204668309"
      ]
     },
     "execution_count": 11,
     "metadata": {},
     "output_type": "execute_result"
    }
   ],
   "source": [
    "cnt"
   ]
  },
  {
   "cell_type": "code",
   "execution_count": 20,
   "id": "2f5a2370",
   "metadata": {},
   "outputs": [],
   "source": [
    "mem = {1:1, 2:1}\n",
    "\n",
    "def fib2(n):\n",
    "    global mem\n",
    "    if n in mem:\n",
    "        return mem[n]\n",
    "    else:\n",
    "        cal = fib2(n-2) + fib2(n-1)\n",
    "        mem[n] = cal\n",
    "        return cal"
   ]
  },
  {
   "cell_type": "code",
   "execution_count": 33,
   "id": "665f8c03",
   "metadata": {},
   "outputs": [
    {
     "data": {
      "text/plain": [
       "9969216677189303386214405760200"
      ]
     },
     "execution_count": 33,
     "metadata": {},
     "output_type": "execute_result"
    }
   ],
   "source": [
    "fib2(150)"
   ]
  },
  {
   "cell_type": "code",
   "execution_count": 28,
   "id": "c25c9b1e",
   "metadata": {},
   "outputs": [],
   "source": [
    "def flatten(data):\n",
    "    result = []\n",
    "    for i in data:\n",
    "        if type(i) is list:\n",
    "            result += flatten(i)\n",
    "        else:\n",
    "            result.append(i)\n",
    "    return result"
   ]
  },
  {
   "cell_type": "code",
   "execution_count": 29,
   "id": "ea5ce58c",
   "metadata": {},
   "outputs": [],
   "source": [
    "example = [[1, 2, 3], [4, [5, 6]], 7, [8, 9], 9, [7, 8]]"
   ]
  },
  {
   "cell_type": "code",
   "execution_count": 30,
   "id": "89c9c0aa",
   "metadata": {},
   "outputs": [
    {
     "name": "stdout",
     "output_type": "stream",
     "text": [
      "원본: [[1, 2, 3], [4, [5, 6]], 7, [8, 9], 9, [7, 8]]\n",
      "변환: [1, 2, 3, 4, 5, 6, 7, 8, 9, 9, 7, 8]\n"
     ]
    }
   ],
   "source": [
    "print(\"원본:\", example)\n",
    "print(\"변환:\", flatten(example))"
   ]
  },
  {
   "cell_type": "code",
   "execution_count": 75,
   "id": "0d8bd562",
   "metadata": {},
   "outputs": [],
   "source": [
    "minsitpeople = 2\n",
    "maxsitpeople = 10\n",
    "people = 100\n",
    "memo = {}\n",
    "\n",
    "def sol(a, b):\n",
    "    key = str([a, b])\n",
    "    if key in memo:\n",
    "        return memo[key]\n",
    "    if a < 0:\n",
    "        return 0\n",
    "    if a == 0:\n",
    "        return 1\n",
    "    c = 0\n",
    "    for i in range(b, maxsitpeople+1):\n",
    "        c += sol(a-i, i)\n",
    "    memo[key] = c\n",
    "    return c"
   ]
  },
  {
   "cell_type": "code",
   "execution_count": 77,
   "id": "e2aa2b41",
   "metadata": {},
   "outputs": [
    {
     "data": {
      "text/plain": [
       "437420"
      ]
     },
     "execution_count": 77,
     "metadata": {},
     "output_type": "execute_result"
    }
   ],
   "source": [
    "sol(100, 2)"
   ]
  },
  {
   "cell_type": "code",
   "execution_count": 79,
   "id": "f2b896fa",
   "metadata": {},
   "outputs": [],
   "source": [
    "tup1 = 10, 20, 30, 40"
   ]
  },
  {
   "cell_type": "code",
   "execution_count": 81,
   "id": "f25e7844",
   "metadata": {},
   "outputs": [
    {
     "data": {
      "text/plain": [
       "tuple"
      ]
     },
     "execution_count": 81,
     "metadata": {},
     "output_type": "execute_result"
    }
   ],
   "source": [
    "type(tup1)"
   ]
  },
  {
   "cell_type": "code",
   "execution_count": 83,
   "id": "6deb5bcc",
   "metadata": {},
   "outputs": [],
   "source": [
    "a, b, c = 10, 20, 30"
   ]
  },
  {
   "cell_type": "code",
   "execution_count": 84,
   "id": "127032c2",
   "metadata": {},
   "outputs": [
    {
     "data": {
      "text/plain": [
       "10"
      ]
     },
     "execution_count": 84,
     "metadata": {},
     "output_type": "execute_result"
    }
   ],
   "source": [
    "a"
   ]
  },
  {
   "cell_type": "code",
   "execution_count": 86,
   "id": "da457556",
   "metadata": {
    "scrolled": true
   },
   "outputs": [
    {
     "data": {
      "text/plain": [
       "(10, 20, 30)"
      ]
     },
     "execution_count": 86,
     "metadata": {},
     "output_type": "execute_result"
    }
   ],
   "source": [
    "a, b, c"
   ]
  },
  {
   "cell_type": "code",
   "execution_count": null,
   "id": "01f7819c",
   "metadata": {},
   "outputs": [],
   "source": []
  },
  {
   "cell_type": "code",
   "execution_count": null,
   "id": "bf2601b8",
   "metadata": {},
   "outputs": [],
   "source": []
  },
  {
   "cell_type": "code",
   "execution_count": null,
   "id": "4ea20ee8",
   "metadata": {},
   "outputs": [],
   "source": []
  },
  {
   "cell_type": "code",
   "execution_count": null,
   "id": "5b033a4b",
   "metadata": {},
   "outputs": [],
   "source": []
  },
  {
   "cell_type": "code",
   "execution_count": null,
   "id": "264e8eba",
   "metadata": {},
   "outputs": [],
   "source": []
  },
  {
   "cell_type": "code",
   "execution_count": null,
   "id": "244b9af1",
   "metadata": {},
   "outputs": [],
   "source": []
  },
  {
   "cell_type": "code",
   "execution_count": null,
   "id": "acbf4579",
   "metadata": {},
   "outputs": [],
   "source": []
  },
  {
   "cell_type": "code",
   "execution_count": null,
   "id": "b8ab214a",
   "metadata": {},
   "outputs": [],
   "source": []
  },
  {
   "cell_type": "code",
   "execution_count": null,
   "id": "37ec1609",
   "metadata": {},
   "outputs": [],
   "source": []
  },
  {
   "cell_type": "code",
   "execution_count": null,
   "id": "f90f08be",
   "metadata": {},
   "outputs": [],
   "source": []
  },
  {
   "cell_type": "code",
   "execution_count": null,
   "id": "459c4ab6",
   "metadata": {},
   "outputs": [],
   "source": []
  },
  {
   "cell_type": "code",
   "execution_count": null,
   "id": "36680f6c",
   "metadata": {},
   "outputs": [],
   "source": []
  },
  {
   "cell_type": "code",
   "execution_count": null,
   "id": "d613d321",
   "metadata": {},
   "outputs": [],
   "source": []
  },
  {
   "cell_type": "code",
   "execution_count": null,
   "id": "a328a11e",
   "metadata": {},
   "outputs": [],
   "source": []
  },
  {
   "cell_type": "code",
   "execution_count": null,
   "id": "d6c7cbd9",
   "metadata": {},
   "outputs": [],
   "source": []
  },
  {
   "cell_type": "code",
   "execution_count": null,
   "id": "8bfada6b",
   "metadata": {},
   "outputs": [],
   "source": []
  },
  {
   "cell_type": "code",
   "execution_count": null,
   "id": "f5732c8d",
   "metadata": {},
   "outputs": [],
   "source": []
  },
  {
   "cell_type": "code",
   "execution_count": null,
   "id": "550f1cc6",
   "metadata": {},
   "outputs": [],
   "source": []
  },
  {
   "cell_type": "code",
   "execution_count": null,
   "id": "0a1d9ea1",
   "metadata": {},
   "outputs": [],
   "source": []
  },
  {
   "cell_type": "code",
   "execution_count": null,
   "id": "8040ad49",
   "metadata": {},
   "outputs": [],
   "source": []
  },
  {
   "cell_type": "code",
   "execution_count": null,
   "id": "2d54895a",
   "metadata": {},
   "outputs": [],
   "source": []
  },
  {
   "cell_type": "code",
   "execution_count": null,
   "id": "792b5097",
   "metadata": {},
   "outputs": [],
   "source": []
  },
  {
   "cell_type": "code",
   "execution_count": null,
   "id": "b8bb26a3",
   "metadata": {},
   "outputs": [],
   "source": []
  },
  {
   "cell_type": "code",
   "execution_count": null,
   "id": "d66b72dd",
   "metadata": {},
   "outputs": [],
   "source": []
  }
 ],
 "metadata": {
  "kernelspec": {
   "display_name": "Python 3 (ipykernel)",
   "language": "python",
   "name": "python3"
  },
  "language_info": {
   "codemirror_mode": {
    "name": "ipython",
    "version": 3
   },
   "file_extension": ".py",
   "mimetype": "text/x-python",
   "name": "python",
   "nbconvert_exporter": "python",
   "pygments_lexer": "ipython3",
   "version": "3.10.9"
  }
 },
 "nbformat": 4,
 "nbformat_minor": 5
}
