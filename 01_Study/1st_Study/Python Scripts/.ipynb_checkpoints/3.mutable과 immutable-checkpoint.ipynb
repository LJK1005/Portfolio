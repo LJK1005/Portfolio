{
 "cells": [
  {
   "cell_type": "markdown",
   "id": "e99d14c8",
   "metadata": {},
   "source": [
    "- mutable : 생성된 후에 변경이 가능한 자료형\n",
    "    - 리스트, 세트, 딕셔너리\n",
    "    \n",
    "- immutable : 생성된 후에는 변경이 불가능한 자료형\n",
    "    - 정수, 실수, 문자열, 튜플"
   ]
  },
  {
   "cell_type": "markdown",
   "id": "80bcadf2",
   "metadata": {},
   "source": [
    "# mutable"
   ]
  },
  {
   "cell_type": "code",
   "execution_count": 2,
   "id": "523d5b70",
   "metadata": {},
   "outputs": [
    {
     "data": {
      "text/plain": [
       "2595401168448"
      ]
     },
     "execution_count": 2,
     "metadata": {},
     "output_type": "execute_result"
    }
   ],
   "source": [
    "# id() : 변수나 자료형에 메모리 주소를 확인하는 함수\n",
    "me = [1, 2, 3]\n",
    "id(me)"
   ]
  },
  {
   "cell_type": "code",
   "execution_count": 3,
   "id": "00b4fd81",
   "metadata": {},
   "outputs": [
    {
     "data": {
      "text/plain": [
       "2595401168448"
      ]
     },
     "execution_count": 3,
     "metadata": {},
     "output_type": "execute_result"
    }
   ],
   "source": [
    "me.append(4)\n",
    "id(me)"
   ]
  },
  {
   "cell_type": "markdown",
   "id": "4ae01ddf",
   "metadata": {},
   "source": [
    "# immutable"
   ]
  },
  {
   "cell_type": "code",
   "execution_count": 5,
   "id": "436976d9",
   "metadata": {},
   "outputs": [
    {
     "data": {
      "text/plain": [
       "2595315608144"
      ]
     },
     "execution_count": 5,
     "metadata": {},
     "output_type": "execute_result"
    }
   ],
   "source": [
    "me = 10\n",
    "id(me)"
   ]
  },
  {
   "cell_type": "code",
   "execution_count": 6,
   "id": "eeb85810",
   "metadata": {},
   "outputs": [
    {
     "data": {
      "text/plain": [
       "2595315608176"
      ]
     },
     "execution_count": 6,
     "metadata": {},
     "output_type": "execute_result"
    }
   ],
   "source": [
    "me = me + 1\n",
    "id(me)"
   ]
  },
  {
   "cell_type": "markdown",
   "id": "44960b50",
   "metadata": {},
   "source": [
    "# mutable의 특징"
   ]
  },
  {
   "cell_type": "code",
   "execution_count": 7,
   "id": "90de2823",
   "metadata": {},
   "outputs": [
    {
     "name": "stdout",
     "output_type": "stream",
     "text": [
      "2595400312576\n",
      "2595400312576\n"
     ]
    }
   ],
   "source": [
    "me = [1, 2, 3]\n",
    "you = me\n",
    "print(id(me))\n",
    "print(id(you))"
   ]
  },
  {
   "cell_type": "code",
   "execution_count": 8,
   "id": "4cd9c49e",
   "metadata": {},
   "outputs": [
    {
     "name": "stdout",
     "output_type": "stream",
     "text": [
      "2595401177856\n",
      "2595401177216\n"
     ]
    }
   ],
   "source": [
    "me = [1, 2, 3]\n",
    "you = [1, 2, 3]\n",
    "print(id(me))\n",
    "print(id(you))"
   ]
  },
  {
   "cell_type": "code",
   "execution_count": 9,
   "id": "7a29735b",
   "metadata": {},
   "outputs": [
    {
     "name": "stdout",
     "output_type": "stream",
     "text": [
      "2595401169856\n",
      "2595401169856\n"
     ]
    }
   ],
   "source": [
    "me = [1, 2, 3]\n",
    "you = me\n",
    "print(id(me))\n",
    "print(id(you))"
   ]
  },
  {
   "cell_type": "code",
   "execution_count": 10,
   "id": "85f1ce79",
   "metadata": {},
   "outputs": [],
   "source": [
    "you.append(4)"
   ]
  },
  {
   "cell_type": "code",
   "execution_count": 11,
   "id": "6b28ff6a",
   "metadata": {},
   "outputs": [
    {
     "data": {
      "text/plain": [
       "[1, 2, 3, 4]"
      ]
     },
     "execution_count": 11,
     "metadata": {},
     "output_type": "execute_result"
    }
   ],
   "source": [
    "you"
   ]
  },
  {
   "cell_type": "code",
   "execution_count": 12,
   "id": "faa9fe9e",
   "metadata": {},
   "outputs": [
    {
     "data": {
      "text/plain": [
       "[1, 2, 3, 4]"
      ]
     },
     "execution_count": 12,
     "metadata": {},
     "output_type": "execute_result"
    }
   ],
   "source": [
    "me"
   ]
  },
  {
   "cell_type": "markdown",
   "id": "c956855a",
   "metadata": {},
   "source": [
    "# 리스트의 복사"
   ]
  },
  {
   "cell_type": "code",
   "execution_count": 14,
   "id": "0437b52b",
   "metadata": {
    "scrolled": true
   },
   "outputs": [
    {
     "name": "stdout",
     "output_type": "stream",
     "text": [
      "[1, 2, 3, 4]\n",
      "2595401169856\n"
     ]
    }
   ],
   "source": [
    "print(me)\n",
    "print(id(me))"
   ]
  },
  {
   "cell_type": "code",
   "execution_count": 15,
   "id": "ccfbf47d",
   "metadata": {},
   "outputs": [],
   "source": [
    "you = me[:]"
   ]
  },
  {
   "cell_type": "code",
   "execution_count": 16,
   "id": "04f58aa3",
   "metadata": {},
   "outputs": [
    {
     "name": "stdout",
     "output_type": "stream",
     "text": [
      "[1, 2, 3, 4]\n",
      "2595401117376\n"
     ]
    }
   ],
   "source": [
    "print(you)\n",
    "print(id(you))"
   ]
  },
  {
   "cell_type": "code",
   "execution_count": 17,
   "id": "9171b26a",
   "metadata": {},
   "outputs": [],
   "source": [
    "me.append(5)"
   ]
  },
  {
   "cell_type": "code",
   "execution_count": 18,
   "id": "b76256fd",
   "metadata": {},
   "outputs": [
    {
     "name": "stdout",
     "output_type": "stream",
     "text": [
      "[1, 2, 3, 4, 5]\n",
      "[1, 2, 3, 4]\n"
     ]
    }
   ],
   "source": [
    "print(me)\n",
    "print(you)"
   ]
  },
  {
   "cell_type": "code",
   "execution_count": 19,
   "id": "9fd7cd8d",
   "metadata": {},
   "outputs": [],
   "source": [
    "# copy 함수 사용\n",
    "you = me.copy()"
   ]
  },
  {
   "cell_type": "code",
   "execution_count": 20,
   "id": "2de0d557",
   "metadata": {},
   "outputs": [
    {
     "name": "stdout",
     "output_type": "stream",
     "text": [
      "[1, 2, 3, 4, 5]\n",
      "[1, 2, 3, 4, 5]\n",
      "2595401165376\n",
      "2595401169856\n"
     ]
    }
   ],
   "source": [
    "print(you)\n",
    "print(me)\n",
    "print(id(you))\n",
    "print(id(me))"
   ]
  },
  {
   "cell_type": "code",
   "execution_count": 21,
   "id": "1402310a",
   "metadata": {},
   "outputs": [],
   "source": [
    "me.append(6)"
   ]
  },
  {
   "cell_type": "code",
   "execution_count": 22,
   "id": "77629b07",
   "metadata": {},
   "outputs": [
    {
     "name": "stdout",
     "output_type": "stream",
     "text": [
      "[1, 2, 3, 4, 5, 6]\n",
      "[1, 2, 3, 4, 5]\n"
     ]
    }
   ],
   "source": [
    "print(me)\n",
    "print(you)"
   ]
  },
  {
   "cell_type": "code",
   "execution_count": null,
   "id": "ef5b2bfb",
   "metadata": {},
   "outputs": [],
   "source": []
  }
 ],
 "metadata": {
  "kernelspec": {
   "display_name": "Python 3 (ipykernel)",
   "language": "python",
   "name": "python3"
  },
  "language_info": {
   "codemirror_mode": {
    "name": "ipython",
    "version": 3
   },
   "file_extension": ".py",
   "mimetype": "text/x-python",
   "name": "python",
   "nbconvert_exporter": "python",
   "pygments_lexer": "ipython3",
   "version": "3.10.9"
  }
 },
 "nbformat": 4,
 "nbformat_minor": 5
}
