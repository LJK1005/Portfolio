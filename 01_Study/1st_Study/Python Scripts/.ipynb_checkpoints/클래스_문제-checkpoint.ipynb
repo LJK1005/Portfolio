{
 "cells": [
  {
   "cell_type": "markdown",
   "id": "bd2045f1",
   "metadata": {},
   "source": [
    "1. Human 클래스에 이름, 나이, 성별을 받는 생성자를 정의하여 아래의 코드를 통해 areum 객체 생성하기\n",
    "```python\n",
    "areum = Human(\"아름\", 25, \"여자\")\n",
    "```"
   ]
  },
  {
   "cell_type": "code",
   "execution_count": null,
   "id": "10b7964d",
   "metadata": {},
   "outputs": [],
   "source": [
    "class Human:\n",
    "    def who_am_i(self, name, age, sex):\n",
    "        self"
   ]
  },
  {
   "cell_type": "markdown",
   "id": "2c9e43b8",
   "metadata": {},
   "source": [
    "2. 1번 문제에서 생성한 areum 객체에서 이름, 나이, 성별을 출력하기"
   ]
  },
  {
   "cell_type": "code",
   "execution_count": null,
   "id": "fe01eabd",
   "metadata": {},
   "outputs": [],
   "source": []
  },
  {
   "cell_type": "markdown",
   "id": "06b340f7",
   "metadata": {},
   "source": [
    "3. 위에서 만든 Human 클래스에서 이름, 나이, 성별을 출력하는 who 메소드 추가하기\n",
    "\n",
    "- 출력예시) 이름 : 아름, 나이 : 25, 성별 : 여자"
   ]
  },
  {
   "cell_type": "code",
   "execution_count": null,
   "id": "9e1454dd",
   "metadata": {},
   "outputs": [],
   "source": []
  },
  {
   "cell_type": "markdown",
   "id": "0d3aa95e",
   "metadata": {},
   "source": [
    "4. Human 클래스에 (이름, 나이, 성별)을 받는 setinfo 메소드 추가하기\n",
    "```python\n",
    "areum.setinfo(\"아름\", 27, \"여자\")\n",
    "```"
   ]
  },
  {
   "cell_type": "code",
   "execution_count": null,
   "id": "95baaefe",
   "metadata": {},
   "outputs": [],
   "source": []
  },
  {
   "cell_type": "markdown",
   "id": "088c2d99",
   "metadata": {},
   "source": [
    "5. Stock 클래스에 종목명과 종목코드를 받는 생성자를 정의하여 아래의 코드를 통해 samsung 객체 생성하기\n",
    "```python\n",
    "samsung = Stock(\"삼성전자\", \"005930\")\n",
    "```"
   ]
  },
  {
   "cell_type": "code",
   "execution_count": null,
   "id": "6ebdd8e3",
   "metadata": {},
   "outputs": [],
   "source": []
  },
  {
   "cell_type": "markdown",
   "id": "6b94671c",
   "metadata": {},
   "source": [
    "6. Stock 클래스에 객체의 종목명을 입력할 수 있는 set_name 메서드를 추가하기\n",
    "```python\n",
    "a = Stock(None, None)\n",
    "a.set_name(\"삼성전자\")\n",
    "```"
   ]
  },
  {
   "cell_type": "code",
   "execution_count": null,
   "id": "f8d271a3",
   "metadata": {},
   "outputs": [],
   "source": []
  },
  {
   "cell_type": "markdown",
   "id": "35acfefb",
   "metadata": {},
   "source": [
    "7. Stock 클래스에 객체의 종목코드를 입력할 수 있는 set_code 메서드를 추가하기\n",
    "```python\n",
    "a = Stock(None, None)\n",
    "a.set_code(\"005930\")\n",
    "```"
   ]
  },
  {
   "cell_type": "code",
   "execution_count": null,
   "id": "abf49210",
   "metadata": {},
   "outputs": [],
   "source": []
  },
  {
   "cell_type": "markdown",
   "id": "215abfe6",
   "metadata": {},
   "source": [
    "8. Stock클래스에 set_name과 set_code 메서드를 이용하여 객체의 종목명과 종목코드를 입력하는 set_info 메서드 추가하기"
   ]
  },
  {
   "cell_type": "code",
   "execution_count": null,
   "id": "c93a2258",
   "metadata": {},
   "outputs": [],
   "source": []
  }
 ],
 "metadata": {
  "kernelspec": {
   "display_name": "Python 3 (ipykernel)",
   "language": "python",
   "name": "python3"
  },
  "language_info": {
   "codemirror_mode": {
    "name": "ipython",
    "version": 3
   },
   "file_extension": ".py",
   "mimetype": "text/x-python",
   "name": "python",
   "nbconvert_exporter": "python",
   "pygments_lexer": "ipython3",
   "version": "3.10.9"
  }
 },
 "nbformat": 4,
 "nbformat_minor": 5
}
