{
 "cells": [
  {
   "cell_type": "markdown",
   "id": "4a26a53c",
   "metadata": {},
   "source": [
    "<img src = \"./img/control.png\" width = \"700\" height = \"700\">"
   ]
  },
  {
   "cell_type": "code",
   "execution_count": 1,
   "id": "988bbd16",
   "metadata": {},
   "outputs": [],
   "source": [
    "# 마크다운에 이미지 띄우기 가능\n",
    "# <img src = \"./img/control.png\" width = \"500\" height = \"500\">"
   ]
  },
  {
   "cell_type": "markdown",
   "id": "bb925d83",
   "metadata": {},
   "source": [
    "# 조건문\n",
    "\n",
    "- 특정 조건을 만족하는지 여부에 따라 실행하는 코드가 달라야할 때 사용"
   ]
  },
  {
   "cell_type": "code",
   "execution_count": 8,
   "id": "525cd263",
   "metadata": {},
   "outputs": [
    {
     "name": "stdout",
     "output_type": "stream",
     "text": [
      "택시를 타고 가라\n"
     ]
    }
   ],
   "source": [
    "money = True\n",
    "\n",
    "if money:\n",
    "    print(\"택시를 타고 가라\")\n",
    "    \n",
    "else:\n",
    "    print(\"걸어 가라\")"
   ]
  },
  {
   "cell_type": "markdown",
   "id": "4c61c250",
   "metadata": {},
   "source": [
    "## if-else문\n",
    "\n",
    "- 조건식을 만족하는 경우와 만족하지 않는 경우를 구분하여 코드를 작성할 때 사용\n",
    "\n",
    "```\n",
    "if 조건식:\n",
    "    조건식의 결과가 True 일 때 실행문\n",
    "    \n",
    "else:\n",
    "    조건식의 결과가 False 일 때 실행문\n",
    "```\n",
    "\n",
    "- 조건식 : 참과 거짓을 판단하는 문장\n",
    "- ```을 위아래줄에 넣는 것으로 마크다운에도 코드 삽입 가능"
   ]
  },
  {
   "cell_type": "markdown",
   "id": "1e3b99bb",
   "metadata": {},
   "source": [
    "- 비교연산자\n",
    "    - x < y, x > y, x <= y, x>= y\n",
    "    - x == y\n",
    "        - x와 y가 같은지 확인\n",
    "    - x != y\n",
    "        - x와 y가 다른지 확인"
   ]
  },
  {
   "cell_type": "code",
   "execution_count": 10,
   "id": "4bda44fa",
   "metadata": {},
   "outputs": [
    {
     "name": "stdout",
     "output_type": "stream",
     "text": [
      "False\n",
      "True\n",
      "False\n",
      "True\n"
     ]
    }
   ],
   "source": [
    "print(3 < 2)\n",
    "print(3 > 2)\n",
    "print(3 == 2)\n",
    "print(3 != 2)"
   ]
  },
  {
   "cell_type": "code",
   "execution_count": 13,
   "id": "7e4d1ded",
   "metadata": {},
   "outputs": [
    {
     "name": "stdout",
     "output_type": "stream",
     "text": [
      "걸어 가라\n"
     ]
    }
   ],
   "source": [
    "money = 2000\n",
    "pay = 3000\n",
    "\n",
    "if money >= pay:\n",
    "    print(\"택시를 타고 가라\")\n",
    "    \n",
    "else:\n",
    "    print(\"걸어 가라\")"
   ]
  },
  {
   "cell_type": "markdown",
   "id": "1fad89d5",
   "metadata": {},
   "source": [
    "- and, or, not\n",
    "    - x or y\n",
    "        - x와 y 둘 중 하나만 참이어도 참\n",
    "    - x and y\n",
    "        - x와 y 모두 참이어야 참\n",
    "    - not x\n",
    "        - x가 거짓이면 참 (x의 결과를 반대로 뒤집는 개념)"
   ]
  },
  {
   "cell_type": "code",
   "execution_count": 15,
   "id": "03a7d3df",
   "metadata": {},
   "outputs": [
    {
     "name": "stdout",
     "output_type": "stream",
     "text": [
      "택시를 타고 가라\n"
     ]
    }
   ],
   "source": [
    "money = 2000\n",
    "pay = 3000\n",
    "card = True\n",
    "\n",
    "if money >= pay or card:\n",
    "    print(\"택시를 타고 가라\")\n",
    "    \n",
    "else:\n",
    "    print(\"걸어 가라\")"
   ]
  },
  {
   "cell_type": "markdown",
   "id": "d8d81d63",
   "metadata": {},
   "source": [
    "- in, not in\n",
    "    - x in 반복가능한 객체\n",
    "    - x not in 반복가능한 객체\n",
    "    - 객체 : 리스트, 튜플, 문자열같이 단일 데이터를 여러번 뽑아올수 있는 데이터"
   ]
  },
  {
   "cell_type": "code",
   "execution_count": 16,
   "id": "cdef9cc2",
   "metadata": {
    "scrolled": true
   },
   "outputs": [
    {
     "name": "stdout",
     "output_type": "stream",
     "text": [
      "True\n",
      "False\n",
      "True\n",
      "True\n"
     ]
    }
   ],
   "source": [
    "print(1 in [1, 2, 3])\n",
    "print(1 not in [1, 2, 3])\n",
    "print(\"a\" in (\"a\", \"b\", \"c\"))\n",
    "print(\"j\" not in \"python\")"
   ]
  },
  {
   "cell_type": "code",
   "execution_count": 17,
   "id": "913255db",
   "metadata": {},
   "outputs": [
    {
     "name": "stdout",
     "output_type": "stream",
     "text": [
      "택시를 타고 가라\n"
     ]
    }
   ],
   "source": [
    "pocket = [\"paper\", \"cellphone\", \"money\"]\n",
    "\n",
    "if \"money\" in pocket:\n",
    "    print(\"택시를 타고 가라\")\n",
    "    \n",
    "else:\n",
    "    print(\"걸어 가라\")"
   ]
  },
  {
   "cell_type": "markdown",
   "id": "d5e98c5b",
   "metadata": {},
   "source": [
    "## if-elif 문\n",
    "\n",
    "- 특정 조건에 따라 3가지 이상으로 구분해야 할 때 사용\n",
    "\n",
    "```\n",
    "if 조건식1:\n",
    "    조건식1의 결과가 True일 때 실행문\n",
    "    \n",
    "elif 조건식2:\n",
    "    조건식1의 결과가 False 이고, 조건식2의 결과가 True 일 때 실행문\n",
    "    \n",
    "elif 조건식3:\n",
    "    조건식 1, 2의 결과가 모두 False 이고, 조건식3의 결과가 True 일 때 실행문\n",
    "    \n",
    "else:\n",
    "    조건식 1, 2, 3의 결과가 모두 False 일 때 실행문\n",
    "```"
   ]
  },
  {
   "cell_type": "code",
   "execution_count": 29,
   "id": "2ad10fcc",
   "metadata": {},
   "outputs": [
    {
     "name": "stdout",
     "output_type": "stream",
     "text": [
      "카드로 택시를 타고 간다\n"
     ]
    }
   ],
   "source": [
    "# 예) 주머니에 돈이 있으면 택시를 타고, 주머니에 돈은 없지만 카드가 있으면 택시를 타고\n",
    "# 돈도 없고 카드도 없으면 걸어 가라\n",
    "\n",
    "pocket = {\"cellphone\"}\n",
    "card = True\n",
    "\n",
    "if \"money\" in pocket:\n",
    "    print(\"돈으로 택시를 타고 간다\")\n",
    "    \n",
    "elif card:\n",
    "    print(\"카드로 택시를 타고 간다\")\n",
    "    \n",
    "else:\n",
    "    print(\"걸어 간다\")"
   ]
  },
  {
   "cell_type": "code",
   "execution_count": 30,
   "id": "83f56542",
   "metadata": {},
   "outputs": [
    {
     "name": "stdout",
     "output_type": "stream",
     "text": [
      "카드로 택시를 타고 간다\n"
     ]
    }
   ],
   "source": [
    "pocket = {\"cellphone\"}\n",
    "card = True\n",
    "\n",
    "if \"money\" in pocket:\n",
    "    print(\"돈으로 택시를 타고 간다\")\n",
    "    \n",
    "else:\n",
    "    if card:\n",
    "        print(\"카드로 택시를 타고 간다\")\n",
    "    \n",
    "    else:\n",
    "        print(\"걸어 간다\")"
   ]
  },
  {
   "cell_type": "code",
   "execution_count": 32,
   "id": "74d38444",
   "metadata": {},
   "outputs": [
    {
     "name": "stdout",
     "output_type": "stream",
     "text": [
      "거짓\n"
     ]
    }
   ],
   "source": [
    "if None:\n",
    "    print(\"참\")\n",
    "    \n",
    "else:\n",
    "    print(\"거짓\")"
   ]
  },
  {
   "cell_type": "code",
   "execution_count": 33,
   "id": "14896a17",
   "metadata": {},
   "outputs": [
    {
     "data": {
      "text/plain": [
       "False"
      ]
     },
     "execution_count": 33,
     "metadata": {},
     "output_type": "execute_result"
    }
   ],
   "source": [
    "bool(None)"
   ]
  },
  {
   "cell_type": "code",
   "execution_count": 40,
   "id": "d95a5299",
   "metadata": {},
   "outputs": [
    {
     "name": "stdout",
     "output_type": "stream",
     "text": [
      "참\n"
     ]
    }
   ],
   "source": [
    "if :\n",
    "    print(\"참\")\n",
    "    \n",
    "else:\n",
    "    print(\"거짓\")"
   ]
  },
  {
   "cell_type": "code",
   "execution_count": 42,
   "id": "517e2fc2",
   "metadata": {},
   "outputs": [
    {
     "name": "stdout",
     "output_type": "stream",
     "text": [
      "참\n"
     ]
    }
   ],
   "source": [
    "if 3.5:\n",
    "    print(\"참\")\n",
    "    \n",
    "else:\n",
    "    print(\"거짓\")"
   ]
  },
  {
   "cell_type": "code",
   "execution_count": 44,
   "id": "00472dd7",
   "metadata": {},
   "outputs": [
    {
     "name": "stdout",
     "output_type": "stream",
     "text": [
      "거짓\n"
     ]
    }
   ],
   "source": [
    "if \"\":\n",
    "    print(\"참\")\n",
    "    \n",
    "else:\n",
    "    print(\"거짓\")"
   ]
  },
  {
   "cell_type": "markdown",
   "id": "227ac0d4",
   "metadata": {},
   "source": [
    "## 조건부 표현식\n",
    "\n",
    "```\n",
    "<조건문이 참인 경우의 값> if <조건문> else <조건문이 거짓인 경우의 값>\n",
    "```"
   ]
  },
  {
   "cell_type": "code",
   "execution_count": 48,
   "id": "a0550488",
   "metadata": {},
   "outputs": [
    {
     "name": "stdout",
     "output_type": "stream",
     "text": [
      "success\n"
     ]
    }
   ],
   "source": [
    "score = 60\n",
    "\n",
    "if score >= 60:\n",
    "    message = \"success\"\n",
    "    \n",
    "else:\n",
    "    message = \"faliure\"\n",
    "    \n",
    "print(message)"
   ]
  },
  {
   "cell_type": "code",
   "execution_count": 52,
   "id": "08888164",
   "metadata": {},
   "outputs": [
    {
     "name": "stdout",
     "output_type": "stream",
     "text": [
      "faliure\n"
     ]
    }
   ],
   "source": [
    "score = 50\n",
    "\n",
    "message = \"success\" if score >= 60 else \"faliure\"\n",
    "\n",
    "print(message)"
   ]
  },
  {
   "cell_type": "code",
   "execution_count": null,
   "id": "d02f4545",
   "metadata": {},
   "outputs": [],
   "source": []
  }
 ],
 "metadata": {
  "kernelspec": {
   "display_name": "Python 3 (ipykernel)",
   "language": "python",
   "name": "python3"
  },
  "language_info": {
   "codemirror_mode": {
    "name": "ipython",
    "version": 3
   },
   "file_extension": ".py",
   "mimetype": "text/x-python",
   "name": "python",
   "nbconvert_exporter": "python",
   "pygments_lexer": "ipython3",
   "version": "3.10.9"
  }
 },
 "nbformat": 4,
 "nbformat_minor": 5
}
