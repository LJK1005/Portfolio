{
 "cells": [
  {
   "cell_type": "markdown",
   "id": "63c6f17d",
   "metadata": {},
   "source": [
    "# 컬렉션\n",
    "\n",
    "- 여러 값을 하나의 이름으로 묶어서 관리하는 자료형\n",
    "\n",
    "| 컬렉션 | 생성함수 | 특징 | 예시 |\n",
    "| :-- | :-- | :-- | :-- |\n",
    "| 리스트 | list() | 추가, 수정, 삭제가 언제나 가능 | a = [1, 2, 3] |\n",
    "| 튜플 | tuple() | 생성되고 나면 변경 불가능 | a = (1, 2, 3) |\n",
    "| 세트 | set() | 중복된 값의 저장 불가능 | a = {1, 2, 3} |\n",
    "| 딕셔너리 | dict() | 키 + 값으로 관리 | a = {\"age\" : 25} |"
   ]
  },
  {
   "cell_type": "code",
   "execution_count": 1,
   "id": "1a80cbf1",
   "metadata": {},
   "outputs": [
    {
     "name": "stdout",
     "output_type": "stream",
     "text": [
      "[1, 2, 3, 4, 5]\n",
      "<class 'list'>\n",
      "{1, 2, 3, 4}\n",
      "<class 'set'>\n",
      "(2, 2, 3, 4, 5)\n",
      "<class 'tuple'>\n",
      "{'aaa': 1, 'bbb': 2, 'ccc': 3}\n",
      "<class 'dict'>\n"
     ]
    }
   ],
   "source": [
    "li = [1, 2, 3, 4, 5] # 리스트\n",
    "s1 = {1, 2, 3, 3, 4} # 세트\n",
    "tu = (2, 2, 3, 4, 5) # 튜플\n",
    "dic = {\"aaa\" : 1, \"bbb\" : 2, \"ccc\" : 3} # 딕셔너리\n",
    "\n",
    "print(li)\n",
    "print(type(li))\n",
    "print(s1)\n",
    "print(type(s1))\n",
    "print(tu)\n",
    "print(type(tu))\n",
    "print(dic)\n",
    "print(type(dic))"
   ]
  },
  {
   "cell_type": "markdown",
   "id": "39f003f4",
   "metadata": {},
   "source": [
    "# 리스트"
   ]
  },
  {
   "cell_type": "code",
   "execution_count": 2,
   "id": "cd2ebd55",
   "metadata": {},
   "outputs": [
    {
     "data": {
      "text/plain": [
       "[1, 2, 3, 4, 5]"
      ]
     },
     "execution_count": 2,
     "metadata": {},
     "output_type": "execute_result"
    }
   ],
   "source": [
    "li"
   ]
  },
  {
   "cell_type": "code",
   "execution_count": 3,
   "id": "36c95f4a",
   "metadata": {},
   "outputs": [
    {
     "data": {
      "text/plain": [
       "1"
      ]
     },
     "execution_count": 3,
     "metadata": {},
     "output_type": "execute_result"
    }
   ],
   "source": [
    "# 인덱싱, 슬라이싱\n",
    "\n",
    "li[0]"
   ]
  },
  {
   "cell_type": "code",
   "execution_count": 4,
   "id": "34296d01",
   "metadata": {},
   "outputs": [
    {
     "data": {
      "text/plain": [
       "5"
      ]
     },
     "execution_count": 4,
     "metadata": {},
     "output_type": "execute_result"
    }
   ],
   "source": [
    "li[-1]"
   ]
  },
  {
   "cell_type": "code",
   "execution_count": 5,
   "id": "01bd4476",
   "metadata": {},
   "outputs": [
    {
     "data": {
      "text/plain": [
       "[1, 2, 3]"
      ]
     },
     "execution_count": 5,
     "metadata": {},
     "output_type": "execute_result"
    }
   ],
   "source": [
    "li[:3]"
   ]
  },
  {
   "cell_type": "code",
   "execution_count": 6,
   "id": "53ea0413",
   "metadata": {},
   "outputs": [
    {
     "name": "stdout",
     "output_type": "stream",
     "text": [
      "['a', 'b', 'c']\n",
      "a\n"
     ]
    }
   ],
   "source": [
    "# 이중리스트\n",
    "li = [1, 2, 3, [\"a\", \"b\", \"c\"]]\n",
    "\n",
    "print(li[-1])\n",
    "print(li[-1][0])"
   ]
  },
  {
   "cell_type": "markdown",
   "id": "826a4fa7",
   "metadata": {},
   "source": [
    "## 리스트 연산"
   ]
  },
  {
   "cell_type": "code",
   "execution_count": 7,
   "id": "ee9db954",
   "metadata": {},
   "outputs": [
    {
     "data": {
      "text/plain": [
       "[1, 2, 3, 4, 5, 6]"
      ]
     },
     "execution_count": 7,
     "metadata": {},
     "output_type": "execute_result"
    }
   ],
   "source": [
    "# 리스트 병합 (+)\n",
    "a = [1, 2, 3]\n",
    "b = [4, 5, 6]\n",
    "\n",
    "a + b"
   ]
  },
  {
   "cell_type": "code",
   "execution_count": 8,
   "id": "b353f2dd",
   "metadata": {},
   "outputs": [
    {
     "data": {
      "text/plain": [
       "[1, 2, 3, 1, 2, 3]"
      ]
     },
     "execution_count": 8,
     "metadata": {},
     "output_type": "execute_result"
    }
   ],
   "source": [
    "# 리스트 반복 (*)\n",
    "\n",
    "a * 2"
   ]
  },
  {
   "cell_type": "markdown",
   "id": "f91101bd",
   "metadata": {},
   "source": [
    "## 리스트 수정, 삭제"
   ]
  },
  {
   "cell_type": "code",
   "execution_count": 9,
   "id": "37a4466c",
   "metadata": {},
   "outputs": [
    {
     "data": {
      "text/plain": [
       "[1, 2, 3, ['a', 'b', 'c']]"
      ]
     },
     "execution_count": 9,
     "metadata": {},
     "output_type": "execute_result"
    }
   ],
   "source": [
    "li = [1, 2, 3, ['a', 'b', 'c']]\n",
    "\n",
    "li"
   ]
  },
  {
   "cell_type": "code",
   "execution_count": 10,
   "id": "49c70c45",
   "metadata": {},
   "outputs": [],
   "source": [
    "# 삭제\n",
    "\n",
    "del li[-1]"
   ]
  },
  {
   "cell_type": "code",
   "execution_count": 11,
   "id": "e1089410",
   "metadata": {},
   "outputs": [
    {
     "data": {
      "text/plain": [
       "[1, 2, 3]"
      ]
     },
     "execution_count": 11,
     "metadata": {},
     "output_type": "execute_result"
    }
   ],
   "source": [
    "li"
   ]
  },
  {
   "cell_type": "code",
   "execution_count": 12,
   "id": "35880c30",
   "metadata": {},
   "outputs": [
    {
     "data": {
      "text/plain": [
       "3"
      ]
     },
     "execution_count": 12,
     "metadata": {},
     "output_type": "execute_result"
    }
   ],
   "source": [
    "# 수정\n",
    "li = [1, 2, 3]\n",
    "\n",
    "li[2]"
   ]
  },
  {
   "cell_type": "code",
   "execution_count": 13,
   "id": "8a775c27",
   "metadata": {},
   "outputs": [],
   "source": [
    "li[2] = 4"
   ]
  },
  {
   "cell_type": "code",
   "execution_count": 14,
   "id": "cca4d0da",
   "metadata": {},
   "outputs": [
    {
     "data": {
      "text/plain": [
       "[1, 2, 4]"
      ]
     },
     "execution_count": 14,
     "metadata": {},
     "output_type": "execute_result"
    }
   ],
   "source": [
    "li"
   ]
  },
  {
   "cell_type": "code",
   "execution_count": 15,
   "id": "51567b96",
   "metadata": {},
   "outputs": [],
   "source": [
    "# remove 함수를 이용한 삭제 (첫 번째로 나오는 것만 삭제함)\n",
    "li = [1, 2, 4]\n",
    "\n",
    "li.remove(4)"
   ]
  },
  {
   "cell_type": "code",
   "execution_count": 16,
   "id": "95945dea",
   "metadata": {},
   "outputs": [
    {
     "data": {
      "text/plain": [
       "[1, 2]"
      ]
     },
     "execution_count": 16,
     "metadata": {},
     "output_type": "execute_result"
    }
   ],
   "source": [
    "li"
   ]
  },
  {
   "cell_type": "code",
   "execution_count": 17,
   "id": "38f3a89d",
   "metadata": {},
   "outputs": [],
   "source": [
    "li = [1, 2, 3, 1, 2, 3]\n",
    "\n",
    "li.remove(3)"
   ]
  },
  {
   "cell_type": "code",
   "execution_count": 18,
   "id": "d458edbb",
   "metadata": {},
   "outputs": [
    {
     "data": {
      "text/plain": [
       "[1, 2, 1, 2, 3]"
      ]
     },
     "execution_count": 18,
     "metadata": {},
     "output_type": "execute_result"
    }
   ],
   "source": [
    "li"
   ]
  },
  {
   "cell_type": "code",
   "execution_count": 19,
   "id": "e69b00f8",
   "metadata": {},
   "outputs": [
    {
     "data": {
      "text/plain": [
       "3"
      ]
     },
     "execution_count": 19,
     "metadata": {},
     "output_type": "execute_result"
    }
   ],
   "source": [
    "# pop 함수를 이요한 삭제\n",
    "# 리스트의 맨 마지막 요소를 반환하고 해당 요소를 삭제\n",
    "# 반환이란 코드를 실행한 결과를 도출하는 것 (li.pop() = x 이런식으로 활용 가능함)\n",
    "li = [1, 2, 3]\n",
    "\n",
    "li.pop()"
   ]
  },
  {
   "cell_type": "code",
   "execution_count": 20,
   "id": "aecfbf6c",
   "metadata": {},
   "outputs": [
    {
     "data": {
      "text/plain": [
       "[1, 2]"
      ]
     },
     "execution_count": 20,
     "metadata": {},
     "output_type": "execute_result"
    }
   ],
   "source": [
    "li"
   ]
  },
  {
   "cell_type": "code",
   "execution_count": 21,
   "id": "3d64b8a1",
   "metadata": {},
   "outputs": [
    {
     "data": {
      "text/plain": [
       "2"
      ]
     },
     "execution_count": 21,
     "metadata": {},
     "output_type": "execute_result"
    }
   ],
   "source": [
    "# 특정 인덱스의 요소를 반환/삭제하는것도 가능함\n",
    "li = [1, 2, 3]\n",
    "\n",
    "li.pop(1)"
   ]
  },
  {
   "cell_type": "code",
   "execution_count": 22,
   "id": "5fad62f7",
   "metadata": {},
   "outputs": [
    {
     "data": {
      "text/plain": [
       "[1, 3]"
      ]
     },
     "execution_count": 22,
     "metadata": {},
     "output_type": "execute_result"
    }
   ],
   "source": [
    "li"
   ]
  },
  {
   "cell_type": "markdown",
   "id": "bef173e7",
   "metadata": {},
   "source": [
    "## 리스트 관련 함수"
   ]
  },
  {
   "cell_type": "code",
   "execution_count": 23,
   "id": "34d153c6",
   "metadata": {},
   "outputs": [],
   "source": [
    "# 요소 추가\n",
    "li = [1]\n",
    "li.append(5)"
   ]
  },
  {
   "cell_type": "code",
   "execution_count": 24,
   "id": "4b4a7ac7",
   "metadata": {},
   "outputs": [
    {
     "data": {
      "text/plain": [
       "[1, 5]"
      ]
     },
     "execution_count": 24,
     "metadata": {},
     "output_type": "execute_result"
    }
   ],
   "source": [
    "li"
   ]
  },
  {
   "cell_type": "code",
   "execution_count": 25,
   "id": "0e865239",
   "metadata": {},
   "outputs": [],
   "source": [
    "li.append([1, 2, 3])"
   ]
  },
  {
   "cell_type": "code",
   "execution_count": 26,
   "id": "425b8b46",
   "metadata": {},
   "outputs": [
    {
     "data": {
      "text/plain": [
       "[1, 5, [1, 2, 3]]"
      ]
     },
     "execution_count": 26,
     "metadata": {},
     "output_type": "execute_result"
    }
   ],
   "source": [
    "li"
   ]
  },
  {
   "cell_type": "code",
   "execution_count": 27,
   "id": "4f170fa8",
   "metadata": {},
   "outputs": [
    {
     "data": {
      "text/plain": [
       "[4, 1, 2, 3]"
      ]
     },
     "execution_count": 27,
     "metadata": {},
     "output_type": "execute_result"
    }
   ],
   "source": [
    "# 요소 삽입\n",
    "li = [1, 2, 3]\n",
    "\n",
    "li.insert(0,4)\n",
    "\n",
    "li"
   ]
  },
  {
   "cell_type": "code",
   "execution_count": 28,
   "id": "12fd92cf",
   "metadata": {},
   "outputs": [
    {
     "data": {
      "text/plain": [
       "[1, 4, 2, 3]"
      ]
     },
     "execution_count": 28,
     "metadata": {},
     "output_type": "execute_result"
    }
   ],
   "source": [
    "li = [1, 2, 3]\n",
    "\n",
    "li.insert(1,4)\n",
    "\n",
    "li"
   ]
  },
  {
   "cell_type": "code",
   "execution_count": 29,
   "id": "2dfb6299",
   "metadata": {},
   "outputs": [
    {
     "data": {
      "text/plain": [
       "[4, 1, 2, 3, 4, 5]"
      ]
     },
     "execution_count": 29,
     "metadata": {},
     "output_type": "execute_result"
    }
   ],
   "source": [
    "# 리스트 확장\n",
    "li = [4, 1, 2, 3]\n",
    "\n",
    "li.extend([4, 5])\n",
    "\n",
    "li"
   ]
  },
  {
   "cell_type": "code",
   "execution_count": 30,
   "id": "057dc1ec",
   "metadata": {},
   "outputs": [
    {
     "data": {
      "text/plain": [
       "[4, 1, 2, 3, 4, 5]"
      ]
     },
     "execution_count": 30,
     "metadata": {},
     "output_type": "execute_result"
    }
   ],
   "source": [
    "li"
   ]
  },
  {
   "cell_type": "code",
   "execution_count": 31,
   "id": "0a3070af",
   "metadata": {},
   "outputs": [
    {
     "data": {
      "text/plain": [
       "[1, 2, 3, 4]"
      ]
     },
     "execution_count": 31,
     "metadata": {},
     "output_type": "execute_result"
    }
   ],
   "source": [
    "# 리스트 오름차순 정렬\n",
    "li = [1, 4, 3, 2]\n",
    "\n",
    "li.sort()\n",
    "\n",
    "li"
   ]
  },
  {
   "cell_type": "code",
   "execution_count": 32,
   "id": "e565d16e",
   "metadata": {},
   "outputs": [
    {
     "data": {
      "text/plain": [
       "[4, 3, 2, 1]"
      ]
     },
     "execution_count": 32,
     "metadata": {},
     "output_type": "execute_result"
    }
   ],
   "source": [
    "# 리스트 내림차순 정렬\n",
    "li.sort(reverse = True)\n",
    "\n",
    "li"
   ]
  },
  {
   "cell_type": "code",
   "execution_count": 33,
   "id": "4980fc8d",
   "metadata": {},
   "outputs": [
    {
     "ename": "TypeError",
     "evalue": "'<' not supported between instances of 'list' and 'int'",
     "output_type": "error",
     "traceback": [
      "\u001b[1;31m---------------------------------------------------------------------------\u001b[0m",
      "\u001b[1;31mTypeError\u001b[0m                                 Traceback (most recent call last)",
      "\u001b[1;32m~\\AppData\\Local\\Temp\\ipykernel_8136\\3344222923.py\u001b[0m in \u001b[0;36m<module>\u001b[1;34m\u001b[0m\n\u001b[0;32m      1\u001b[0m \u001b[0mli\u001b[0m \u001b[1;33m=\u001b[0m \u001b[1;33m[\u001b[0m\u001b[1;36m1\u001b[0m\u001b[1;33m,\u001b[0m \u001b[1;36m4\u001b[0m\u001b[1;33m,\u001b[0m \u001b[1;36m3\u001b[0m\u001b[1;33m,\u001b[0m \u001b[1;36m2\u001b[0m\u001b[1;33m,\u001b[0m \u001b[1;33m[\u001b[0m\u001b[1;36m3\u001b[0m\u001b[1;33m,\u001b[0m \u001b[1;36m2\u001b[0m\u001b[1;33m,\u001b[0m \u001b[1;36m1\u001b[0m\u001b[1;33m]\u001b[0m\u001b[1;33m]\u001b[0m\u001b[1;33m\u001b[0m\u001b[1;33m\u001b[0m\u001b[0m\n\u001b[1;32m----> 2\u001b[1;33m \u001b[0mli\u001b[0m\u001b[1;33m.\u001b[0m\u001b[0msort\u001b[0m\u001b[1;33m(\u001b[0m\u001b[1;33m)\u001b[0m\u001b[1;33m\u001b[0m\u001b[1;33m\u001b[0m\u001b[0m\n\u001b[0m\u001b[0;32m      3\u001b[0m \u001b[0mli\u001b[0m\u001b[1;33m\u001b[0m\u001b[1;33m\u001b[0m\u001b[0m\n",
      "\u001b[1;31mTypeError\u001b[0m: '<' not supported between instances of 'list' and 'int'"
     ]
    }
   ],
   "source": [
    "li = [1, 4, 3, 2, [3, 2, 1]]\n",
    "li.sort()\n",
    "li"
   ]
  },
  {
   "cell_type": "code",
   "execution_count": 34,
   "id": "63be273a",
   "metadata": {},
   "outputs": [
    {
     "data": {
      "text/plain": [
       "['c', 'b', 'a']"
      ]
     },
     "execution_count": 34,
     "metadata": {},
     "output_type": "execute_result"
    }
   ],
   "source": [
    "li = [\"a\", \"b\", \"c\"]\n",
    "li.sort(reverse = True)\n",
    "li"
   ]
  },
  {
   "cell_type": "code",
   "execution_count": 35,
   "id": "281f9375",
   "metadata": {},
   "outputs": [
    {
     "data": {
      "text/plain": [
       "['d', 'b', 'c', 'a']"
      ]
     },
     "execution_count": 35,
     "metadata": {},
     "output_type": "execute_result"
    }
   ],
   "source": [
    "# 리스트 뒤집기\n",
    "li = [\"a\", \"c\", \"b\", \"d\"]\n",
    "li.reverse()\n",
    "li"
   ]
  },
  {
   "cell_type": "code",
   "execution_count": null,
   "id": "506d5c38",
   "metadata": {},
   "outputs": [],
   "source": [
    "li = [\"a\", \"c\", \"b\", \"d\"]\n",
    "li[::-1]"
   ]
  },
  {
   "cell_type": "code",
   "execution_count": null,
   "id": "80130109",
   "metadata": {},
   "outputs": [],
   "source": [
    "# 위치 반환\n",
    "li = [1, 2, 3]\n",
    "li.index(3)"
   ]
  },
  {
   "cell_type": "code",
   "execution_count": null,
   "id": "031cbc0a",
   "metadata": {},
   "outputs": [],
   "source": [
    "# 리스트에 포함된 요소의 개수 세기\n",
    "li = [1, 2, 3, 1]\n",
    "li.count(1)"
   ]
  },
  {
   "cell_type": "markdown",
   "id": "3818ed5b",
   "metadata": {},
   "source": [
    "# 튜플\n",
    "\n",
    "- 리스트와 유사하지만 튜플은 값의 추가, 삭제, 수정이 불가\n",
    "    - 프로그램이 실행되는 동안 값이 변하면 안되는 경우 주로 사용"
   ]
  },
  {
   "cell_type": "code",
   "execution_count": null,
   "id": "6dadd020",
   "metadata": {},
   "outputs": [],
   "source": [
    "tu = (2, 2, 3, 4, 5)\n",
    "tu"
   ]
  },
  {
   "cell_type": "code",
   "execution_count": null,
   "id": "c0acc31a",
   "metadata": {},
   "outputs": [],
   "source": [
    "del tu[0]"
   ]
  },
  {
   "cell_type": "markdown",
   "id": "1b1acd90",
   "metadata": {},
   "source": [
    "- 인덱싱, 슬라이싱"
   ]
  },
  {
   "cell_type": "code",
   "execution_count": null,
   "id": "4bbdf154",
   "metadata": {},
   "outputs": [],
   "source": [
    "tu[0]"
   ]
  },
  {
   "cell_type": "code",
   "execution_count": null,
   "id": "5eb50457",
   "metadata": {},
   "outputs": [],
   "source": [
    "tu[1:]"
   ]
  },
  {
   "cell_type": "markdown",
   "id": "ba2fe74e",
   "metadata": {},
   "source": [
    "- 튜플 연산"
   ]
  },
  {
   "cell_type": "code",
   "execution_count": null,
   "id": "ae4e9bfa",
   "metadata": {},
   "outputs": [],
   "source": [
    "tu1 = (1, 2)\n",
    "tu2 = (3, 4)\n",
    "\n",
    "tu1 + tu2"
   ]
  },
  {
   "cell_type": "code",
   "execution_count": null,
   "id": "4c78aa1e",
   "metadata": {},
   "outputs": [],
   "source": [
    "tu1 * 2"
   ]
  },
  {
   "cell_type": "markdown",
   "id": "012d6950",
   "metadata": {},
   "source": [
    "# 딕셔너리\n",
    "\n",
    "- 자료의 대응 관계를 나타내는 자료형\n",
    "\n",
    "- 데이터를 조회할 때 key를 통해 value를 구함"
   ]
  },
  {
   "cell_type": "code",
   "execution_count": 36,
   "id": "9f31fb08",
   "metadata": {},
   "outputs": [],
   "source": [
    "dic = {\"name\" : \"andy\", \"birth\" : \"1118\"}"
   ]
  },
  {
   "cell_type": "code",
   "execution_count": 37,
   "id": "b2891f17",
   "metadata": {},
   "outputs": [
    {
     "data": {
      "text/plain": [
       "{'name': 'andy', 'birth': '1118'}"
      ]
     },
     "execution_count": 37,
     "metadata": {},
     "output_type": "execute_result"
    }
   ],
   "source": [
    "dic"
   ]
  },
  {
   "cell_type": "code",
   "execution_count": 38,
   "id": "1a99e1d8",
   "metadata": {},
   "outputs": [
    {
     "data": {
      "text/plain": [
       "'andy'"
      ]
     },
     "execution_count": 38,
     "metadata": {},
     "output_type": "execute_result"
    }
   ],
   "source": [
    "dic[\"name\"]"
   ]
  },
  {
   "cell_type": "code",
   "execution_count": 40,
   "id": "e4fcccb3",
   "metadata": {},
   "outputs": [
    {
     "data": {
      "text/plain": [
       "{'a': [1, 2, 3]}"
      ]
     },
     "execution_count": 40,
     "metadata": {},
     "output_type": "execute_result"
    }
   ],
   "source": [
    "dic = {\"a\" : [1, 2, 3]}\n",
    "dic"
   ]
  },
  {
   "cell_type": "code",
   "execution_count": 41,
   "id": "9f1ad855",
   "metadata": {},
   "outputs": [
    {
     "data": {
      "text/plain": [
       "[1, 2, 3]"
      ]
     },
     "execution_count": 41,
     "metadata": {},
     "output_type": "execute_result"
    }
   ],
   "source": [
    "dic[\"a\"]"
   ]
  },
  {
   "cell_type": "code",
   "execution_count": 42,
   "id": "7c5865fd",
   "metadata": {},
   "outputs": [
    {
     "data": {
      "text/plain": [
       "1"
      ]
     },
     "execution_count": 42,
     "metadata": {},
     "output_type": "execute_result"
    }
   ],
   "source": [
    "dic[\"a\"][0]"
   ]
  },
  {
   "cell_type": "markdown",
   "id": "8e27dec2",
   "metadata": {},
   "source": [
    "- 딕셔러니 추가, 삭제"
   ]
  },
  {
   "cell_type": "code",
   "execution_count": 44,
   "id": "88b906c2",
   "metadata": {},
   "outputs": [
    {
     "data": {
      "text/plain": [
       "{'a': [1, 2, 3]}"
      ]
     },
     "execution_count": 44,
     "metadata": {},
     "output_type": "execute_result"
    }
   ],
   "source": [
    "dic = {\"a\" : [1, 2, 3]}\n",
    "dic"
   ]
  },
  {
   "cell_type": "code",
   "execution_count": 46,
   "id": "c3c2dbed",
   "metadata": {},
   "outputs": [
    {
     "data": {
      "text/plain": [
       "{'a': [1, 2, 3], 'name': 'andy'}"
      ]
     },
     "execution_count": 46,
     "metadata": {},
     "output_type": "execute_result"
    }
   ],
   "source": [
    "dic[\"name\"] = \"andy\"\n",
    "dic"
   ]
  },
  {
   "cell_type": "code",
   "execution_count": 47,
   "id": "e833318c",
   "metadata": {},
   "outputs": [],
   "source": [
    "del dic[\"name\"]"
   ]
  },
  {
   "cell_type": "code",
   "execution_count": 48,
   "id": "73f8cb15",
   "metadata": {},
   "outputs": [
    {
     "data": {
      "text/plain": [
       "{'a': [1, 2, 3]}"
      ]
     },
     "execution_count": 48,
     "metadata": {},
     "output_type": "execute_result"
    }
   ],
   "source": [
    "dic"
   ]
  },
  {
   "cell_type": "markdown",
   "id": "bd41ceea",
   "metadata": {},
   "source": [
    "- 딕셔너리의 key는 고유한 값임\n",
    "    - 중복을 허용하지 않는다\n",
    "    - 동일한 key가 존재하면 어떤 value를 불러와야할지 알 수 없기 때문에"
   ]
  },
  {
   "cell_type": "code",
   "execution_count": 49,
   "id": "be41c146",
   "metadata": {},
   "outputs": [],
   "source": [
    "dic2 = {\"name\" : \"andy\", \"name2\" : \"andy\"}"
   ]
  },
  {
   "cell_type": "code",
   "execution_count": 50,
   "id": "51918a21",
   "metadata": {},
   "outputs": [
    {
     "data": {
      "text/plain": [
       "{'name': 'andy', 'name2': 'andy'}"
      ]
     },
     "execution_count": 50,
     "metadata": {},
     "output_type": "execute_result"
    }
   ],
   "source": [
    "dic2"
   ]
  },
  {
   "cell_type": "code",
   "execution_count": 54,
   "id": "a59599bf",
   "metadata": {},
   "outputs": [],
   "source": [
    "dic3 = {1 : \"a\", 1 : \"b\"}"
   ]
  },
  {
   "cell_type": "code",
   "execution_count": 57,
   "id": "6a875c09",
   "metadata": {},
   "outputs": [
    {
     "data": {
      "text/plain": [
       "{1: 'b'}"
      ]
     },
     "execution_count": 57,
     "metadata": {},
     "output_type": "execute_result"
    }
   ],
   "source": [
    "dic3"
   ]
  },
  {
   "cell_type": "markdown",
   "id": "8c77f8a1",
   "metadata": {},
   "source": [
    "## 딕셔너리 관련 함수"
   ]
  },
  {
   "cell_type": "markdown",
   "id": "a0f3fb72",
   "metadata": {},
   "source": [
    "- key, value, item 리스트"
   ]
  },
  {
   "cell_type": "code",
   "execution_count": 60,
   "id": "09b46f1a",
   "metadata": {},
   "outputs": [],
   "source": [
    "dic = {\"name\" : \"andy\", \"phone\" : \"01199991234\", \"birth\" : \"1118\"}"
   ]
  },
  {
   "cell_type": "code",
   "execution_count": 62,
   "id": "a2a4909f",
   "metadata": {},
   "outputs": [
    {
     "data": {
      "text/plain": [
       "dict_keys(['name', 'phone', 'birth'])"
      ]
     },
     "execution_count": 62,
     "metadata": {},
     "output_type": "execute_result"
    }
   ],
   "source": [
    "dic.keys()"
   ]
  },
  {
   "cell_type": "code",
   "execution_count": 64,
   "id": "c6056ccc",
   "metadata": {},
   "outputs": [
    {
     "data": {
      "text/plain": [
       "dict_values(['andy', '01199991234', '1118'])"
      ]
     },
     "execution_count": 64,
     "metadata": {},
     "output_type": "execute_result"
    }
   ],
   "source": [
    "dic.values()"
   ]
  },
  {
   "cell_type": "code",
   "execution_count": 65,
   "id": "bf392ab7",
   "metadata": {},
   "outputs": [
    {
     "data": {
      "text/plain": [
       "dict_items([('name', 'andy'), ('phone', '01199991234'), ('birth', '1118')])"
      ]
     },
     "execution_count": 65,
     "metadata": {},
     "output_type": "execute_result"
    }
   ],
   "source": [
    "dic.items()"
   ]
  },
  {
   "cell_type": "markdown",
   "id": "8324cb25",
   "metadata": {},
   "source": [
    "- get으로 value 얻기\n",
    "    - 존재하지 않는 키로 값을 가져오려고 할 경우 오류가 발생함\n",
    "        - get으로 key가 없을 경우 기본값을 대신 가져오게 할 수 있음"
   ]
  },
  {
   "cell_type": "code",
   "execution_count": 69,
   "id": "52a4f951",
   "metadata": {},
   "outputs": [
    {
     "ename": "KeyError",
     "evalue": "'foo'",
     "output_type": "error",
     "traceback": [
      "\u001b[1;31m---------------------------------------------------------------------------\u001b[0m",
      "\u001b[1;31mKeyError\u001b[0m                                  Traceback (most recent call last)",
      "\u001b[1;32m~\\AppData\\Local\\Temp\\ipykernel_8136\\1242823110.py\u001b[0m in \u001b[0;36m<module>\u001b[1;34m\u001b[0m\n\u001b[1;32m----> 1\u001b[1;33m \u001b[0mdic\u001b[0m\u001b[1;33m[\u001b[0m\u001b[1;34m\"foo\"\u001b[0m\u001b[1;33m]\u001b[0m\u001b[1;33m\u001b[0m\u001b[1;33m\u001b[0m\u001b[0m\n\u001b[0m",
      "\u001b[1;31mKeyError\u001b[0m: 'foo'"
     ]
    }
   ],
   "source": [
    "dic[\"foo\"]"
   ]
  },
  {
   "cell_type": "code",
   "execution_count": 71,
   "id": "8150f755",
   "metadata": {},
   "outputs": [
    {
     "data": {
      "text/plain": [
       "'bar'"
      ]
     },
     "execution_count": 71,
     "metadata": {},
     "output_type": "execute_result"
    }
   ],
   "source": [
    "dic.get(\"foo\", \"bar\")"
   ]
  },
  {
   "cell_type": "markdown",
   "id": "80962878",
   "metadata": {},
   "source": [
    "- 해당 key가 딕셔너리 안에 있는지 조사하기"
   ]
  },
  {
   "cell_type": "code",
   "execution_count": 72,
   "id": "4664dc70",
   "metadata": {
    "scrolled": true
   },
   "outputs": [
    {
     "data": {
      "text/plain": [
       "{'name': 'andy', 'phone': '01199991234', 'birth': '1118'}"
      ]
     },
     "execution_count": 72,
     "metadata": {},
     "output_type": "execute_result"
    }
   ],
   "source": [
    "dic"
   ]
  },
  {
   "cell_type": "code",
   "execution_count": 73,
   "id": "c56d83ce",
   "metadata": {
    "scrolled": false
   },
   "outputs": [
    {
     "data": {
      "text/plain": [
       "True"
      ]
     },
     "execution_count": 73,
     "metadata": {},
     "output_type": "execute_result"
    }
   ],
   "source": [
    "\"name\" in dic"
   ]
  },
  {
   "cell_type": "code",
   "execution_count": 74,
   "id": "99f6483c",
   "metadata": {
    "scrolled": false
   },
   "outputs": [
    {
     "data": {
      "text/plain": [
       "False"
      ]
     },
     "execution_count": 74,
     "metadata": {},
     "output_type": "execute_result"
    }
   ],
   "source": [
    "\"foo\" in dic"
   ]
  },
  {
   "cell_type": "markdown",
   "id": "bc86c37b",
   "metadata": {},
   "source": [
    "- item 모두 지우기"
   ]
  },
  {
   "cell_type": "code",
   "execution_count": 3,
   "id": "684cd99a",
   "metadata": {
    "scrolled": true
   },
   "outputs": [
    {
     "ename": "NameError",
     "evalue": "name 'dic' is not defined",
     "output_type": "error",
     "traceback": [
      "\u001b[1;31m---------------------------------------------------------------------------\u001b[0m",
      "\u001b[1;31mNameError\u001b[0m                                 Traceback (most recent call last)",
      "\u001b[1;32m~\\AppData\\Local\\Temp\\ipykernel_11192\\1780369169.py\u001b[0m in \u001b[0;36m<module>\u001b[1;34m\u001b[0m\n\u001b[1;32m----> 1\u001b[1;33m \u001b[0mdic\u001b[0m\u001b[1;33m\u001b[0m\u001b[1;33m\u001b[0m\u001b[0m\n\u001b[0m",
      "\u001b[1;31mNameError\u001b[0m: name 'dic' is not defined"
     ]
    }
   ],
   "source": [
    "dic"
   ]
  },
  {
   "cell_type": "code",
   "execution_count": 77,
   "id": "39c1e484",
   "metadata": {},
   "outputs": [
    {
     "data": {
      "text/plain": [
       "{}"
      ]
     },
     "execution_count": 77,
     "metadata": {},
     "output_type": "execute_result"
    }
   ],
   "source": [
    "dic.clear()\n",
    "\n",
    "dic"
   ]
  },
  {
   "cell_type": "markdown",
   "id": "f848bec6",
   "metadata": {},
   "source": [
    "# 세트\n",
    "\n",
    "- 중복을 허용하지 않는다\n",
    "- 순서가 없다"
   ]
  },
  {
   "cell_type": "code",
   "execution_count": 9,
   "id": "c9c5bdf7",
   "metadata": {},
   "outputs": [],
   "source": [
    "set1 = set(\"Hello\") # 문자열을 세트로 변환하면 각 스펠링이 파편화되어 세트로 들어간다"
   ]
  },
  {
   "cell_type": "code",
   "execution_count": 10,
   "id": "bf49dd8c",
   "metadata": {},
   "outputs": [
    {
     "name": "stdout",
     "output_type": "stream",
     "text": [
      "{'H', 'l', 'o', 'e'}\n"
     ]
    }
   ],
   "source": [
    "print(set1) # 순서를 기억하지 않으므로 할때마다 순서가 다를수도 있음"
   ]
  },
  {
   "cell_type": "markdown",
   "id": "32cf8d17",
   "metadata": {},
   "source": [
    "- 교집합, 합집합, 차집합"
   ]
  },
  {
   "cell_type": "code",
   "execution_count": 11,
   "id": "9789eee2",
   "metadata": {},
   "outputs": [],
   "source": [
    "set1 = {1, 2, 3, 4, 5, 6}\n",
    "set2 = {4, 5, 6, 7, 8, 9}"
   ]
  },
  {
   "cell_type": "code",
   "execution_count": 12,
   "id": "58eab474",
   "metadata": {},
   "outputs": [
    {
     "data": {
      "text/plain": [
       "{4, 5, 6}"
      ]
     },
     "execution_count": 12,
     "metadata": {},
     "output_type": "execute_result"
    }
   ],
   "source": [
    "# 교집합\n",
    "set1 & set2"
   ]
  },
  {
   "cell_type": "code",
   "execution_count": 13,
   "id": "9cf297aa",
   "metadata": {},
   "outputs": [
    {
     "data": {
      "text/plain": [
       "{4, 5, 6}"
      ]
     },
     "execution_count": 13,
     "metadata": {},
     "output_type": "execute_result"
    }
   ],
   "source": [
    "set1.intersection(set2)"
   ]
  },
  {
   "cell_type": "code",
   "execution_count": 14,
   "id": "571297b3",
   "metadata": {},
   "outputs": [
    {
     "data": {
      "text/plain": [
       "{1, 2, 3, 4, 5, 6, 7, 8, 9}"
      ]
     },
     "execution_count": 14,
     "metadata": {},
     "output_type": "execute_result"
    }
   ],
   "source": [
    "# 합집합\n",
    "set1 | set2"
   ]
  },
  {
   "cell_type": "code",
   "execution_count": 15,
   "id": "d80c7b58",
   "metadata": {},
   "outputs": [
    {
     "data": {
      "text/plain": [
       "{1, 2, 3, 4, 5, 6, 7, 8, 9}"
      ]
     },
     "execution_count": 15,
     "metadata": {},
     "output_type": "execute_result"
    }
   ],
   "source": [
    "set1.union(set2)"
   ]
  },
  {
   "cell_type": "code",
   "execution_count": 16,
   "id": "31a407b4",
   "metadata": {},
   "outputs": [
    {
     "data": {
      "text/plain": [
       "{1, 2, 3}"
      ]
     },
     "execution_count": 16,
     "metadata": {},
     "output_type": "execute_result"
    }
   ],
   "source": [
    "# 차집합\n",
    "set1 - set2"
   ]
  },
  {
   "cell_type": "code",
   "execution_count": 17,
   "id": "88bb0c6d",
   "metadata": {},
   "outputs": [
    {
     "data": {
      "text/plain": [
       "{7, 8, 9}"
      ]
     },
     "execution_count": 17,
     "metadata": {},
     "output_type": "execute_result"
    }
   ],
   "source": [
    "set2 - set1"
   ]
  },
  {
   "cell_type": "code",
   "execution_count": 18,
   "id": "414bccf4",
   "metadata": {},
   "outputs": [
    {
     "data": {
      "text/plain": [
       "{1, 2, 3}"
      ]
     },
     "execution_count": 18,
     "metadata": {},
     "output_type": "execute_result"
    }
   ],
   "source": [
    "set1.difference(set2)"
   ]
  },
  {
   "cell_type": "code",
   "execution_count": 19,
   "id": "9d6e4fce",
   "metadata": {},
   "outputs": [
    {
     "data": {
      "text/plain": [
       "{7, 8, 9}"
      ]
     },
     "execution_count": 19,
     "metadata": {},
     "output_type": "execute_result"
    }
   ],
   "source": [
    "set2.difference(set1)"
   ]
  },
  {
   "cell_type": "markdown",
   "id": "f4566559",
   "metadata": {},
   "source": [
    "## 세트 관련 함수"
   ]
  },
  {
   "cell_type": "markdown",
   "id": "1a9b510d",
   "metadata": {},
   "source": [
    "- 값 추가"
   ]
  },
  {
   "cell_type": "code",
   "execution_count": 20,
   "id": "6eb7ad8c",
   "metadata": {},
   "outputs": [
    {
     "data": {
      "text/plain": [
       "{1, 2, 3, 4, 5, 6}"
      ]
     },
     "execution_count": 20,
     "metadata": {},
     "output_type": "execute_result"
    }
   ],
   "source": [
    "set1"
   ]
  },
  {
   "cell_type": "code",
   "execution_count": 26,
   "id": "78014385",
   "metadata": {
    "scrolled": true
   },
   "outputs": [],
   "source": [
    "set1.add(7)"
   ]
  },
  {
   "cell_type": "code",
   "execution_count": 22,
   "id": "df8178d7",
   "metadata": {},
   "outputs": [
    {
     "data": {
      "text/plain": [
       "{1, 2, 3, 4, 5, 6, 7}"
      ]
     },
     "execution_count": 22,
     "metadata": {},
     "output_type": "execute_result"
    }
   ],
   "source": [
    "set1"
   ]
  },
  {
   "cell_type": "markdown",
   "id": "c5e4a8ca",
   "metadata": {},
   "source": [
    "- 제거"
   ]
  },
  {
   "cell_type": "code",
   "execution_count": 27,
   "id": "7443e165",
   "metadata": {},
   "outputs": [],
   "source": [
    "set1.remove(2)"
   ]
  },
  {
   "cell_type": "code",
   "execution_count": 28,
   "id": "2ff68cad",
   "metadata": {},
   "outputs": [
    {
     "data": {
      "text/plain": [
       "{1, 3, 4, 5, 6, 7}"
      ]
     },
     "execution_count": 28,
     "metadata": {},
     "output_type": "execute_result"
    }
   ],
   "source": [
    "set1"
   ]
  },
  {
   "cell_type": "code",
   "execution_count": null,
   "id": "be4955ba",
   "metadata": {},
   "outputs": [],
   "source": []
  }
 ],
 "metadata": {
  "kernelspec": {
   "display_name": "Python 3 (ipykernel)",
   "language": "python",
   "name": "python3"
  },
  "language_info": {
   "codemirror_mode": {
    "name": "ipython",
    "version": 3
   },
   "file_extension": ".py",
   "mimetype": "text/x-python",
   "name": "python",
   "nbconvert_exporter": "python",
   "pygments_lexer": "ipython3",
   "version": "3.10.9"
  }
 },
 "nbformat": 4,
 "nbformat_minor": 5
}
