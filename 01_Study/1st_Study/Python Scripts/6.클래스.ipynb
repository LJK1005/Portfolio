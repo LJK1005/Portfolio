{
 "cells": [
  {
   "cell_type": "markdown",
   "id": "e8dcc4f0",
   "metadata": {},
   "source": [
    "# 클래스의 개념\n",
    "\n",
    "- 객체를 만드는 도구\n",
    "- 클래스를 통해 여러 개의 객체를 만들 수 있음\n",
    "- 동일한 클래스에서도 서로 다른 값을 가진 객체가 만들어질 수 있음"
   ]
  },
  {
   "cell_type": "code",
   "execution_count": 1,
   "id": "e67e5172",
   "metadata": {},
   "outputs": [
    {
     "name": "stdout",
     "output_type": "stream",
     "text": [
      "3\n",
      "7\n"
     ]
    }
   ],
   "source": [
    "# 계산시 예시 코드\n",
    "result = 0\n",
    "\n",
    "def cal_add(num):\n",
    "    global result\n",
    "    result += num\n",
    "    return result\n",
    "\n",
    "print(cal_add(3))\n",
    "print(cal_add(4))"
   ]
  },
  {
   "cell_type": "code",
   "execution_count": 2,
   "id": "910f0838",
   "metadata": {},
   "outputs": [],
   "source": [
    "# 만약에 2대의 계산기가 필요한 상황이라면\n",
    "# 별도의 변수, 별도의 함수를 만들어야하는 상황"
   ]
  },
  {
   "cell_type": "code",
   "execution_count": 3,
   "id": "a8e98e85",
   "metadata": {},
   "outputs": [
    {
     "name": "stdout",
     "output_type": "stream",
     "text": [
      "3\n",
      "7\n",
      "5\n",
      "10\n"
     ]
    }
   ],
   "source": [
    "class Calculator:\n",
    "    def __init__(self):\n",
    "        self.result = 0\n",
    "        \n",
    "    def add(self, num):\n",
    "        self.result += num\n",
    "        return self.result\n",
    "    \n",
    "cal1 = Calculator()\n",
    "cal2 = Calculator()\n",
    "\n",
    "print(cal1.add(3))\n",
    "print(cal1.add(4))\n",
    "print(cal2.add(5))\n",
    "print(cal2.add(5))"
   ]
  },
  {
   "cell_type": "code",
   "execution_count": 4,
   "id": "38c9bb3b",
   "metadata": {},
   "outputs": [],
   "source": [
    "class WaffleMachine:\n",
    "    pass"
   ]
  },
  {
   "cell_type": "code",
   "execution_count": 5,
   "id": "30966b9e",
   "metadata": {},
   "outputs": [],
   "source": [
    "# 객체      클래스()\n",
    "waffle = WaffleMachine()"
   ]
  },
  {
   "cell_type": "code",
   "execution_count": 7,
   "id": "02651175",
   "metadata": {},
   "outputs": [
    {
     "data": {
      "text/plain": [
       "<__main__.WaffleMachine at 0x1fa4b1143a0>"
      ]
     },
     "execution_count": 7,
     "metadata": {},
     "output_type": "execute_result"
    }
   ],
   "source": [
    "# 메모리의 0x1fa4b1143a0 주소에 저장된 WaffleMachine 객체\n",
    "waffle"
   ]
  },
  {
   "cell_type": "code",
   "execution_count": 8,
   "id": "43f47aa4",
   "metadata": {
    "scrolled": true
   },
   "outputs": [
    {
     "data": {
      "text/plain": [
       "__main__.WaffleMachine"
      ]
     },
     "execution_count": 8,
     "metadata": {},
     "output_type": "execute_result"
    }
   ],
   "source": [
    "type(waffle)"
   ]
  },
  {
   "cell_type": "markdown",
   "id": "338055dc",
   "metadata": {},
   "source": [
    "## 클래스의 구성\n",
    "\n",
    "- 클래스는 객체가 가져야할 구성요소를 모두 가지고 있어야함\n",
    "    - 객체가 가져야할 값, 기능\n",
    "        - 값 : 이름, 나이, 연락처, 주소 등(변수)\n",
    "        - 기능 : 잔다, 먹는다, 공부한다, 달린다 등(함수)"
   ]
  },
  {
   "cell_type": "markdown",
   "id": "37396814",
   "metadata": {},
   "source": [
    "### 인스턴스 변수와 인스턴스 메소드\n",
    "\n",
    "- 인스턴스 변수 : 클래스를 기반으로 만들어지는 모든 객체들이 각각 따로 저장하는 변수\n",
    "    - 모든 인스턴스 변수는 self라는 키워드를 붙임\n",
    "    \n",
    "- 인스턴스 메소드 : 인스턴스 메소드를 사용하는 메소드\n",
    "    - 인스턴스 변수값에 따라서 각 객체마다 다르게 동작\n",
    "        - 첫 번째 매개변수로 self를 추가"
   ]
  },
  {
   "cell_type": "code",
   "execution_count": 9,
   "id": "de913103",
   "metadata": {},
   "outputs": [],
   "source": [
    "class Person:\n",
    "    def who_am_i(self, name , age, tel, address):\n",
    "        # 인스턴스 메소드 who_am_i\n",
    "        # 모든 Person 클래스의 객체는 who_am_i() 메소드를 호출 가능\n",
    "        # self를 제외한 나머지 매개변수에 실제로 사용될 데이터가 전달\n",
    "        \n",
    "        self.name = name\n",
    "        # 인스턴스 변수 name\n",
    "        # = 오른쪽에 있는 name은 매개변수 name\n",
    "        # who_am_i() 메소드를 호출할 때 전달된 name이 객체의 name이 됨\n",
    "        \n",
    "        self.age = age\n",
    "        self.tel = tel\n",
    "        self.address = address"
   ]
  },
  {
   "cell_type": "code",
   "execution_count": 10,
   "id": "1421a934",
   "metadata": {},
   "outputs": [],
   "source": [
    "# 객체 boy가 생성\n",
    "boy = Person()"
   ]
  },
  {
   "cell_type": "code",
   "execution_count": 12,
   "id": "fe179ee9",
   "metadata": {},
   "outputs": [],
   "source": [
    "boy.who_am_i(\"john\", 15, \"123-1234\", \"seoul\")"
   ]
  },
  {
   "cell_type": "code",
   "execution_count": 15,
   "id": "35894297",
   "metadata": {},
   "outputs": [
    {
     "data": {
      "text/plain": [
       "'seoul'"
      ]
     },
     "execution_count": 15,
     "metadata": {},
     "output_type": "execute_result"
    }
   ],
   "source": [
    "boy.address"
   ]
  },
  {
   "cell_type": "code",
   "execution_count": 16,
   "id": "4c5d4626",
   "metadata": {},
   "outputs": [
    {
     "data": {
      "text/plain": [
       "15"
      ]
     },
     "execution_count": 16,
     "metadata": {},
     "output_type": "execute_result"
    }
   ],
   "source": [
    "boy.age"
   ]
  },
  {
   "cell_type": "code",
   "execution_count": 17,
   "id": "b2f49335",
   "metadata": {},
   "outputs": [
    {
     "data": {
      "text/plain": [
       "'john'"
      ]
     },
     "execution_count": 17,
     "metadata": {},
     "output_type": "execute_result"
    }
   ],
   "source": [
    "boy.name"
   ]
  },
  {
   "cell_type": "code",
   "execution_count": 20,
   "id": "3a966805",
   "metadata": {},
   "outputs": [
    {
     "data": {
      "text/plain": [
       "'123-1234'"
      ]
     },
     "execution_count": 20,
     "metadata": {},
     "output_type": "execute_result"
    }
   ],
   "source": [
    "boy.tel"
   ]
  },
  {
   "cell_type": "code",
   "execution_count": 21,
   "id": "9c5e2de1",
   "metadata": {},
   "outputs": [],
   "source": [
    "class Computer:\n",
    "    def set_spec(self, cpu, ram, vga, ssd):\n",
    "        self.cpu = cpu\n",
    "        self.ram = ram\n",
    "        self.vga = vga\n",
    "        self.ssd = ssd\n",
    "        \n",
    "    def hardware_info(self):\n",
    "        print(f\"CPU = {self.cpu}\")\n",
    "        print(f\"RAM = {self.ram}\")\n",
    "        print(f\"VGA = {self.vga}\")\n",
    "        print(f\"SSD = {self.ssd}\")"
   ]
  },
  {
   "cell_type": "code",
   "execution_count": 23,
   "id": "143799f5",
   "metadata": {},
   "outputs": [],
   "source": [
    "desktop = Computer()"
   ]
  },
  {
   "cell_type": "code",
   "execution_count": 32,
   "id": "e4e3992c",
   "metadata": {},
   "outputs": [],
   "source": [
    "desktop.set_spec(\"i7\", \"16GB\", \"GTX3060\", \"512GB\")"
   ]
  },
  {
   "cell_type": "code",
   "execution_count": 34,
   "id": "1b58bb7e",
   "metadata": {
    "scrolled": true
   },
   "outputs": [
    {
     "name": "stdout",
     "output_type": "stream",
     "text": [
      "CPU = i7\n",
      "RAM = 16GB\n",
      "VGA = GTX3060\n",
      "SSD = 512GB\n"
     ]
    }
   ],
   "source": [
    "desktop.hardware_info()"
   ]
  },
  {
   "cell_type": "code",
   "execution_count": 35,
   "id": "f4b64647",
   "metadata": {},
   "outputs": [],
   "source": [
    "notebook = Computer()"
   ]
  },
  {
   "cell_type": "code",
   "execution_count": 41,
   "id": "4d99e00b",
   "metadata": {},
   "outputs": [],
   "source": [
    "notebook.set_spec(\"i5\", \"8GB\", \"MX300\", \"256GB\")"
   ]
  },
  {
   "cell_type": "code",
   "execution_count": 43,
   "id": "a4b69ba3",
   "metadata": {},
   "outputs": [
    {
     "name": "stdout",
     "output_type": "stream",
     "text": [
      "CPU = i5\n",
      "RAM = 8GB\n",
      "VGA = MX300\n",
      "SSD = 256GB\n"
     ]
    }
   ],
   "source": [
    "notebook.hardware_info()"
   ]
  },
  {
   "cell_type": "code",
   "execution_count": 79,
   "id": "d7c0a7b2",
   "metadata": {},
   "outputs": [],
   "source": [
    "mycomputer = Computer()"
   ]
  },
  {
   "cell_type": "code",
   "execution_count": 80,
   "id": "9700b6a6",
   "metadata": {},
   "outputs": [],
   "source": [
    "mycomputer.set_spec(\"13900KS\", \"32GB\", \"RTX4090\", \"2TB\")"
   ]
  },
  {
   "cell_type": "code",
   "execution_count": 82,
   "id": "7ac54331",
   "metadata": {},
   "outputs": [
    {
     "name": "stdout",
     "output_type": "stream",
     "text": [
      "CPU = 13900KS\n",
      "RAM = 32GB\n",
      "VGA = RTX4090\n",
      "SSD = 2TB\n"
     ]
    }
   ],
   "source": [
    "mycomputer.hardware_info()"
   ]
  },
  {
   "cell_type": "code",
   "execution_count": 49,
   "id": "9121b936",
   "metadata": {},
   "outputs": [],
   "source": [
    "# 객체에서 사용할 인스턴스 변수 생성\n",
    "class FourCal:\n",
    "    def set_data(self, first, second):\n",
    "        self.first = first\n",
    "        self.second = second"
   ]
  },
  {
   "cell_type": "code",
   "execution_count": 51,
   "id": "c34d026f",
   "metadata": {},
   "outputs": [],
   "source": [
    "cal = FourCal()\n",
    "cal.set_data(4, 2)"
   ]
  },
  {
   "cell_type": "code",
   "execution_count": 52,
   "id": "9f313174",
   "metadata": {},
   "outputs": [
    {
     "name": "stdout",
     "output_type": "stream",
     "text": [
      "4\n",
      "2\n"
     ]
    }
   ],
   "source": [
    "print(cal.first)\n",
    "print(cal.second)"
   ]
  },
  {
   "cell_type": "code",
   "execution_count": 53,
   "id": "908b3c5e",
   "metadata": {},
   "outputs": [
    {
     "name": "stdout",
     "output_type": "stream",
     "text": [
      "3\n",
      "7\n"
     ]
    }
   ],
   "source": [
    "test_cal = FourCal()\n",
    "test_cal.set_data(3, 7)\n",
    "print(test_cal.first)\n",
    "print(test_cal.second)"
   ]
  },
  {
   "cell_type": "code",
   "execution_count": 55,
   "id": "4cbd931c",
   "metadata": {},
   "outputs": [
    {
     "name": "stdout",
     "output_type": "stream",
     "text": [
      "4\n"
     ]
    }
   ],
   "source": [
    "# 다른 객체의 영향을 받지 않고 원래의 값을 유지함\n",
    "print(cal.first)"
   ]
  },
  {
   "cell_type": "code",
   "execution_count": 58,
   "id": "104ab370",
   "metadata": {},
   "outputs": [],
   "source": [
    "# 더하기 기능 추가하기\n",
    "class FourCal:\n",
    "    def set_data(self, first, second):\n",
    "        self.first = first\n",
    "        self.second = second\n",
    "        \n",
    "    def add(self):\n",
    "        result = self.first + self.second\n",
    "        return result"
   ]
  },
  {
   "cell_type": "code",
   "execution_count": 59,
   "id": "09588112",
   "metadata": {},
   "outputs": [
    {
     "name": "stdout",
     "output_type": "stream",
     "text": [
      "6\n"
     ]
    }
   ],
   "source": [
    "cal = FourCal()\n",
    "cal.set_data(4, 2)\n",
    "print(cal.add())"
   ]
  },
  {
   "cell_type": "code",
   "execution_count": 60,
   "id": "a70efd1f",
   "metadata": {},
   "outputs": [
    {
     "ename": "AttributeError",
     "evalue": "'FourCal' object has no attribute 'result'",
     "output_type": "error",
     "traceback": [
      "\u001b[1;31m---------------------------------------------------------------------------\u001b[0m",
      "\u001b[1;31mAttributeError\u001b[0m                            Traceback (most recent call last)",
      "Cell \u001b[1;32mIn[60], line 1\u001b[0m\n\u001b[1;32m----> 1\u001b[0m \u001b[43mcal\u001b[49m\u001b[38;5;241;43m.\u001b[39;49m\u001b[43mresult\u001b[49m\n",
      "\u001b[1;31mAttributeError\u001b[0m: 'FourCal' object has no attribute 'result'"
     ]
    }
   ],
   "source": [
    "cal.result"
   ]
  },
  {
   "cell_type": "code",
   "execution_count": 61,
   "id": "27bc0221",
   "metadata": {},
   "outputs": [],
   "source": [
    "# 사칙연산 기능 추가하기\n",
    "class FourCal:\n",
    "    def set_data(self, first, second):\n",
    "        self.first = first\n",
    "        self.second = second\n",
    "        \n",
    "    def add(self):\n",
    "        result = self.first + self.second\n",
    "        return result\n",
    "    \n",
    "    def mul(self):\n",
    "        result = self.first * self.second\n",
    "        return result\n",
    "    \n",
    "    def sub(self):\n",
    "        result = self.first - self.second\n",
    "        return result\n",
    "    \n",
    "    def div(self):\n",
    "        result = self.first / self. second\n",
    "        return result"
   ]
  },
  {
   "cell_type": "code",
   "execution_count": 65,
   "id": "a1c8899d",
   "metadata": {},
   "outputs": [],
   "source": [
    "cal1 = FourCal()\n",
    "cal2 = FourCal()\n",
    "\n",
    "cal1.set_data(4, 2)\n",
    "cal2.set_data(3, 8)"
   ]
  },
  {
   "cell_type": "code",
   "execution_count": 66,
   "id": "d35862b0",
   "metadata": {},
   "outputs": [
    {
     "name": "stdout",
     "output_type": "stream",
     "text": [
      "6\n",
      "8\n",
      "2\n",
      "2.0\n"
     ]
    }
   ],
   "source": [
    "print(cal1.add())\n",
    "print(cal1.mul())\n",
    "print(cal1.sub())\n",
    "print(cal1.div())"
   ]
  },
  {
   "cell_type": "code",
   "execution_count": 78,
   "id": "46aa3bfa",
   "metadata": {},
   "outputs": [
    {
     "name": "stdout",
     "output_type": "stream",
     "text": [
      "11\n",
      "24\n",
      "-5\n",
      "0.375\n"
     ]
    }
   ],
   "source": [
    "print(cal2.add())\n",
    "print(cal2.mul())\n",
    "print(cal2.sub())\n",
    "print(cal2.div())"
   ]
  },
  {
   "cell_type": "markdown",
   "id": "4a12667a",
   "metadata": {},
   "source": [
    "# 생성자\n",
    "\n",
    "- 객체가 생성될 때 자동으로 호출되는 메소드"
   ]
  },
  {
   "cell_type": "code",
   "execution_count": 85,
   "id": "f221f16f",
   "metadata": {},
   "outputs": [
    {
     "ename": "AttributeError",
     "evalue": "'FourCal' object has no attribute 'first'",
     "output_type": "error",
     "traceback": [
      "\u001b[1;31m---------------------------------------------------------------------------\u001b[0m",
      "\u001b[1;31mAttributeError\u001b[0m                            Traceback (most recent call last)",
      "Cell \u001b[1;32mIn[85], line 3\u001b[0m\n\u001b[0;32m      1\u001b[0m \u001b[38;5;66;03m# set_data 메소드를 실행해야만 first와 second가 생성됨\u001b[39;00m\n\u001b[0;32m      2\u001b[0m test_const \u001b[38;5;241m=\u001b[39m FourCal()\n\u001b[1;32m----> 3\u001b[0m \u001b[43mtest_const\u001b[49m\u001b[38;5;241;43m.\u001b[39;49m\u001b[43madd\u001b[49m\u001b[43m(\u001b[49m\u001b[43m)\u001b[49m\n",
      "Cell \u001b[1;32mIn[61], line 8\u001b[0m, in \u001b[0;36mFourCal.add\u001b[1;34m(self)\u001b[0m\n\u001b[0;32m      7\u001b[0m \u001b[38;5;28;01mdef\u001b[39;00m \u001b[38;5;21madd\u001b[39m(\u001b[38;5;28mself\u001b[39m):\n\u001b[1;32m----> 8\u001b[0m     result \u001b[38;5;241m=\u001b[39m \u001b[38;5;28;43mself\u001b[39;49m\u001b[38;5;241;43m.\u001b[39;49m\u001b[43mfirst\u001b[49m \u001b[38;5;241m+\u001b[39m \u001b[38;5;28mself\u001b[39m\u001b[38;5;241m.\u001b[39msecond\n\u001b[0;32m      9\u001b[0m     \u001b[38;5;28;01mreturn\u001b[39;00m result\n",
      "\u001b[1;31mAttributeError\u001b[0m: 'FourCal' object has no attribute 'first'"
     ]
    }
   ],
   "source": [
    "# set_data 메소드를 실행해야만 first와 second가 생성됨\n",
    "test_const = FourCal()\n",
    "test_const.add()"
   ]
  },
  {
   "cell_type": "code",
   "execution_count": 86,
   "id": "8cc22aa3",
   "metadata": {},
   "outputs": [],
   "source": [
    "# 생성자 추가하기\n",
    "class FourCal:\n",
    "    def __init__(self, first, second): # 생성자\n",
    "        self.first = first\n",
    "        self.second = second\n",
    "        \n",
    "    def add(self):\n",
    "        result = self.first + self.second\n",
    "        return result\n",
    "    \n",
    "    def mul(self):\n",
    "        result = self.first * self.second\n",
    "        return result\n",
    "    \n",
    "    def sub(self):\n",
    "        result = self.first - self.second\n",
    "        return result\n",
    "    \n",
    "    def div(self):\n",
    "        result = self.first / self. second\n",
    "        return result"
   ]
  },
  {
   "cell_type": "code",
   "execution_count": 87,
   "id": "447bb21a",
   "metadata": {},
   "outputs": [
    {
     "ename": "TypeError",
     "evalue": "FourCal.__init__() missing 2 required positional arguments: 'first' and 'second'",
     "output_type": "error",
     "traceback": [
      "\u001b[1;31m---------------------------------------------------------------------------\u001b[0m",
      "\u001b[1;31mTypeError\u001b[0m                                 Traceback (most recent call last)",
      "Cell \u001b[1;32mIn[87], line 2\u001b[0m\n\u001b[0;32m      1\u001b[0m \u001b[38;5;66;03m# 생성자의 매개변수를 전달해야 객체를 생성할 수 있음\u001b[39;00m\n\u001b[1;32m----> 2\u001b[0m test_const \u001b[38;5;241m=\u001b[39m\u001b[43mFourCal\u001b[49m\u001b[43m(\u001b[49m\u001b[43m)\u001b[49m\n",
      "\u001b[1;31mTypeError\u001b[0m: FourCal.__init__() missing 2 required positional arguments: 'first' and 'second'"
     ]
    }
   ],
   "source": [
    "# 생성자의 매개변수를 전달해야 객체를 생성할 수 있음\n",
    "test_const =FourCal()"
   ]
  },
  {
   "cell_type": "code",
   "execution_count": 88,
   "id": "4b220acb",
   "metadata": {},
   "outputs": [],
   "source": [
    "test_const = FourCal(4, 2)"
   ]
  },
  {
   "cell_type": "code",
   "execution_count": 89,
   "id": "c769f770",
   "metadata": {},
   "outputs": [
    {
     "name": "stdout",
     "output_type": "stream",
     "text": [
      "4\n",
      "2\n"
     ]
    }
   ],
   "source": [
    "print(test_const.first)\n",
    "print(test_const.second)"
   ]
  },
  {
   "cell_type": "code",
   "execution_count": 90,
   "id": "c465d048",
   "metadata": {},
   "outputs": [
    {
     "data": {
      "text/plain": [
       "6"
      ]
     },
     "execution_count": 90,
     "metadata": {},
     "output_type": "execute_result"
    }
   ],
   "source": [
    "test_const.add()"
   ]
  },
  {
   "cell_type": "code",
   "execution_count": null,
   "id": "31dc9549",
   "metadata": {},
   "outputs": [],
   "source": []
  }
 ],
 "metadata": {
  "kernelspec": {
   "display_name": "Python 3 (ipykernel)",
   "language": "python",
   "name": "python3"
  },
  "language_info": {
   "codemirror_mode": {
    "name": "ipython",
    "version": 3
   },
   "file_extension": ".py",
   "mimetype": "text/x-python",
   "name": "python",
   "nbconvert_exporter": "python",
   "pygments_lexer": "ipython3",
   "version": "3.10.9"
  }
 },
 "nbformat": 4,
 "nbformat_minor": 5
}
