{
 "cells": [
  {
   "cell_type": "markdown",
   "metadata": {},
   "source": [
    "# 로지스틱 회귀의 성능평가 지표\n",
    "\n",
    "> 자세한 설명은 README.md 파일 참고\n",
    "\n",
    "## #01. 준비작업\n",
    "\n",
    "### [1] 패키지 가져오기"
   ]
  },
  {
   "cell_type": "code",
   "execution_count": 1,
   "metadata": {},
   "outputs": [],
   "source": [
    "import sys\n",
    "import os\n",
    "work_path = os.path.abspath(os.path.join(os.getcwd(), \"../..\"))\n",
    "sys.path.append(work_path)\n",
    "\n",
    "from my_helper.util import *\n",
    "from my_helper.plot import *\n",
    "from my_helper.analysis import *\n",
    "from my_helper.classification import *\n",
    "\n",
    "from pandas import DataFrame\n",
    "from sklearn.metrics import log_loss\n",
    "from sklearn.metrics import confusion_matrix, ConfusionMatrixDisplay\n",
    "from sklearn.metrics import accuracy_score, precision_score, recall_score, f1_score, roc_curve, roc_auc_score, classification_report"
   ]
  },
  {
   "cell_type": "markdown",
   "metadata": {},
   "source": [
    "### [2] 데이터 가져오기"
   ]
  },
  {
   "cell_type": "code",
   "execution_count": 2,
   "metadata": {},
   "outputs": [
    {
     "name": "stdout",
     "output_type": "stream",
     "text": [
      "\n",
      "카테고리 정보\n",
      "+-----------+\n",
      "| Outcome   |\n",
      "|-----------|\n",
      "+-----------+\n"
     ]
    }
   ],
   "source": [
    "origin = my_read_excel(\"https://data.hossam.kr/mldata/pima_indians_diabetes.xlsx\", categories=['Outcome'], info=False)"
   ]
  },
  {
   "cell_type": "markdown",
   "metadata": {},
   "source": [
    "## #02. 데이터 전처리 및 로지스틱 분석\n",
    "\n",
    "### [1] 0값을 평균으로 대체"
   ]
  },
  {
   "cell_type": "code",
   "execution_count": 3,
   "metadata": {},
   "outputs": [
    {
     "name": "stdout",
     "output_type": "stream",
     "text": [
      "+--------------------------+---------+----------+----------+-------+---------+---------+---------+-------+\n",
      "|                          |   count |     mean |      std |   min |     25% |     50% |     75% |   max |\n",
      "|--------------------------+---------+----------+----------+-------+---------+---------+---------+-------|\n",
      "| Pregnancies              |     768 |  3.84505 |  3.36958 |     0 |       1 |       3 |       6 |    17 |\n",
      "| Glucose                  |     768 |  121.687 |  30.4359 |    44 |   99.75 |     117 |  140.25 |   199 |\n",
      "| BloodPressure            |     768 |  72.4052 |  12.0963 |    24 |      64 | 72.2026 |      80 |   122 |\n",
      "| SkinThickness            |     768 |  29.1534 |  8.79094 |     7 |      25 | 29.1534 |      32 |    99 |\n",
      "| Insulin                  |     768 |  155.548 |  85.0211 |    14 |   121.5 | 155.548 | 155.548 |   846 |\n",
      "| BMI                      |     768 |  32.4575 |  6.87515 |  18.2 |    27.5 |    32.4 |    36.6 |  67.1 |\n",
      "| DiabetesPedigreeFunction |     768 | 0.471876 | 0.331329 | 0.078 | 0.24375 |  0.3725 | 0.62625 |  2.42 |\n",
      "| Age                      |     768 |  33.2409 |  11.7602 |    21 |      24 |      29 |      41 |    81 |\n",
      "| Outcome                  |     768 | 0.348958 | 0.476951 |     0 |       0 |       0 |       1 |     1 |\n",
      "+--------------------------+---------+----------+----------+-------+---------+---------+---------+-------+\n"
     ]
    }
   ],
   "source": [
    "# 0값을 검사할 피처명 리스트\n",
    "zero_features = ['Glucose', 'BloodPressure','SkinThickness','Insulin','BMI']\n",
    "\n",
    "df = origin.copy()\n",
    "df[zero_features] = df[zero_features].replace(0, np.nan)\n",
    "\n",
    "df2 = my_replace_missing_value(df)\n",
    "my_pretty_table(df2.describe().T)"
   ]
  },
  {
   "cell_type": "markdown",
   "metadata": {},
   "source": [
    "### [3] 스케일링"
   ]
  },
  {
   "cell_type": "code",
   "execution_count": 4,
   "metadata": {},
   "outputs": [
    {
     "name": "stdout",
     "output_type": "stream",
     "text": [
      "+----+---------------+-----------+-----------------+-----------------+--------------+-----------+----------------------------+------------+-----------+\n",
      "|    |   Pregnancies |   Glucose |   BloodPressure |   SkinThickness |      Insulin |       BMI |   DiabetesPedigreeFunction |        Age |   Outcome |\n",
      "|----+---------------+-----------+-----------------+-----------------+--------------+-----------+----------------------------+------------+-----------|\n",
      "|  0 |      0.639947 |  0.865108 |      -0.0335182 |        0.665502 | -3.34508e-16 |  0.166292 |                   0.468492 |      1.426 |         1 |\n",
      "|  1 |     -0.844885 |  -1.20616 |       -0.529859 |      -0.0174634 | -3.34508e-16 | -0.852531 |                  -0.365061 |  -0.190672 |         0 |\n",
      "|  2 |       1.23388 |   2.01581 |       -0.695306 |     8.08794e-16 | -3.34508e-16 |  -1.33283 |                   0.604397 |  -0.105584 |         1 |\n",
      "|  3 |     -0.844885 |  -1.07465 |       -0.529859 |       -0.700429 |    -0.724389 | -0.634212 |                  -0.920763 |   -1.04155 |         0 |\n",
      "|  4 |      -1.14185 |  0.503458 |        -2.68067 |        0.665502 |     0.146551 |   1.54898 |                    5.48491 | -0.0204964 |         1 |\n",
      "+----+---------------+-----------+-----------------+-----------------+--------------+-----------+----------------------------+------------+-----------+\n"
     ]
    }
   ],
   "source": [
    "df3 = my_standard_scaler(df2, yname='Outcome')\n",
    "my_pretty_table(df3.head())"
   ]
  },
  {
   "cell_type": "markdown",
   "metadata": {},
   "source": [
    "### [4] 데이터 분할"
   ]
  },
  {
   "cell_type": "code",
   "execution_count": 5,
   "metadata": {},
   "outputs": [
    {
     "data": {
      "text/plain": [
       "((614, 8), (154, 8), (614,), (154,))"
      ]
     },
     "execution_count": 5,
     "metadata": {},
     "output_type": "execute_result"
    }
   ],
   "source": [
    "x_train, x_test, y_train, y_test = my_train_test_split(df3, yname='Outcome', test_size=0.2, scalling=False)\n",
    "x_train.shape, x_test.shape, y_train.shape, y_test.shape"
   ]
  },
  {
   "cell_type": "markdown",
   "metadata": {},
   "source": [
    "### [4] 로지스틱 분석 모형"
   ]
  },
  {
   "cell_type": "code",
   "execution_count": 6,
   "metadata": {},
   "outputs": [
    {
     "name": "stdout",
     "output_type": "stream",
     "text": [
      "[교차검증]\n",
      "+----+-------+-----------+-------------------+\n",
      "|    |     C | penalty   |   mean_test_score |\n",
      "|----+-------+-----------+-------------------|\n",
      "|  9 |   0.1 | l2        |          0.772065 |\n",
      "| 13 |     1 | l2        |          0.767186 |\n",
      "|  3 | 0.001 |           |          0.765547 |\n",
      "|  7 |  0.01 |           |          0.765547 |\n",
      "| 11 |   0.1 |           |          0.765547 |\n",
      "| 15 |     1 |           |          0.765547 |\n",
      "| 17 |    10 | l2        |          0.765547 |\n",
      "| 19 |    10 |           |          0.765547 |\n",
      "| 21 |   100 | l2        |          0.765547 |\n",
      "| 23 |   100 |           |          0.765547 |\n",
      "|  5 |  0.01 | l2        |          0.755738 |\n",
      "|  1 | 0.001 | l2        |          0.657977 |\n",
      "+----+-------+-----------+-------------------+\n",
      "\n"
     ]
    },
    {
     "data": {
      "text/html": [
       "<style>#sk-container-id-1 {color: black;}#sk-container-id-1 pre{padding: 0;}#sk-container-id-1 div.sk-toggleable {background-color: white;}#sk-container-id-1 label.sk-toggleable__label {cursor: pointer;display: block;width: 100%;margin-bottom: 0;padding: 0.3em;box-sizing: border-box;text-align: center;}#sk-container-id-1 label.sk-toggleable__label-arrow:before {content: \"▸\";float: left;margin-right: 0.25em;color: #696969;}#sk-container-id-1 label.sk-toggleable__label-arrow:hover:before {color: black;}#sk-container-id-1 div.sk-estimator:hover label.sk-toggleable__label-arrow:before {color: black;}#sk-container-id-1 div.sk-toggleable__content {max-height: 0;max-width: 0;overflow: hidden;text-align: left;background-color: #f0f8ff;}#sk-container-id-1 div.sk-toggleable__content pre {margin: 0.2em;color: black;border-radius: 0.25em;background-color: #f0f8ff;}#sk-container-id-1 input.sk-toggleable__control:checked~div.sk-toggleable__content {max-height: 200px;max-width: 100%;overflow: auto;}#sk-container-id-1 input.sk-toggleable__control:checked~label.sk-toggleable__label-arrow:before {content: \"▾\";}#sk-container-id-1 div.sk-estimator input.sk-toggleable__control:checked~label.sk-toggleable__label {background-color: #d4ebff;}#sk-container-id-1 div.sk-label input.sk-toggleable__control:checked~label.sk-toggleable__label {background-color: #d4ebff;}#sk-container-id-1 input.sk-hidden--visually {border: 0;clip: rect(1px 1px 1px 1px);clip: rect(1px, 1px, 1px, 1px);height: 1px;margin: -1px;overflow: hidden;padding: 0;position: absolute;width: 1px;}#sk-container-id-1 div.sk-estimator {font-family: monospace;background-color: #f0f8ff;border: 1px dotted black;border-radius: 0.25em;box-sizing: border-box;margin-bottom: 0.5em;}#sk-container-id-1 div.sk-estimator:hover {background-color: #d4ebff;}#sk-container-id-1 div.sk-parallel-item::after {content: \"\";width: 100%;border-bottom: 1px solid gray;flex-grow: 1;}#sk-container-id-1 div.sk-label:hover label.sk-toggleable__label {background-color: #d4ebff;}#sk-container-id-1 div.sk-serial::before {content: \"\";position: absolute;border-left: 1px solid gray;box-sizing: border-box;top: 0;bottom: 0;left: 50%;z-index: 0;}#sk-container-id-1 div.sk-serial {display: flex;flex-direction: column;align-items: center;background-color: white;padding-right: 0.2em;padding-left: 0.2em;position: relative;}#sk-container-id-1 div.sk-item {position: relative;z-index: 1;}#sk-container-id-1 div.sk-parallel {display: flex;align-items: stretch;justify-content: center;background-color: white;position: relative;}#sk-container-id-1 div.sk-item::before, #sk-container-id-1 div.sk-parallel-item::before {content: \"\";position: absolute;border-left: 1px solid gray;box-sizing: border-box;top: 0;bottom: 0;left: 50%;z-index: -1;}#sk-container-id-1 div.sk-parallel-item {display: flex;flex-direction: column;z-index: 1;position: relative;background-color: white;}#sk-container-id-1 div.sk-parallel-item:first-child::after {align-self: flex-end;width: 50%;}#sk-container-id-1 div.sk-parallel-item:last-child::after {align-self: flex-start;width: 50%;}#sk-container-id-1 div.sk-parallel-item:only-child::after {width: 0;}#sk-container-id-1 div.sk-dashed-wrapped {border: 1px dashed gray;margin: 0 0.4em 0.5em 0.4em;box-sizing: border-box;padding-bottom: 0.4em;background-color: white;}#sk-container-id-1 div.sk-label label {font-family: monospace;font-weight: bold;display: inline-block;line-height: 1.2em;}#sk-container-id-1 div.sk-label-container {text-align: center;}#sk-container-id-1 div.sk-container {/* jupyter's `normalize.less` sets `[hidden] { display: none; }` but bootstrap.min.css set `[hidden] { display: none !important; }` so we also need the `!important` here to be able to override the default hidden behavior on the sphinx rendered scikit-learn.org. See: https://github.com/scikit-learn/scikit-learn/issues/21755 */display: inline-block !important;position: relative;}#sk-container-id-1 div.sk-text-repr-fallback {display: none;}</style><div id=\"sk-container-id-1\" class=\"sk-top-container\"><div class=\"sk-text-repr-fallback\"><pre>LogisticRegression(C=0.1, n_jobs=-1)</pre><b>In a Jupyter environment, please rerun this cell to show the HTML representation or trust the notebook. <br />On GitHub, the HTML representation is unable to render, please try loading this page with nbviewer.org.</b></div><div class=\"sk-container\" hidden><div class=\"sk-item\"><div class=\"sk-estimator sk-toggleable\"><input class=\"sk-toggleable__control sk-hidden--visually\" id=\"sk-estimator-id-1\" type=\"checkbox\" checked><label for=\"sk-estimator-id-1\" class=\"sk-toggleable__label sk-toggleable__label-arrow\">LogisticRegression</label><div class=\"sk-toggleable__content\"><pre>LogisticRegression(C=0.1, n_jobs=-1)</pre></div></div></div></div></div>"
      ],
      "text/plain": [
       "LogisticRegression(C=0.1, n_jobs=-1)"
      ]
     },
     "execution_count": 6,
     "metadata": {},
     "output_type": "execute_result"
    }
   ],
   "source": [
    "model = my_logistic_classification(x_train, y_train, x_test, y_test)\n",
    "model"
   ]
  },
  {
   "cell_type": "markdown",
   "metadata": {},
   "source": [
    "## #03. 로지스틱의 예측값\n",
    "\n",
    "### [1] 예측 결과값\n",
    "\n",
    "`0`, `1`중에서 예측 결과를 의미"
   ]
  },
  {
   "cell_type": "code",
   "execution_count": 7,
   "metadata": {},
   "outputs": [
    {
     "data": {
      "text/plain": [
       "array([1., 0., 1., 0., 0., 1., 1., 0., 1., 0., 1., 0., 0., 0., 1., 0., 0.,\n",
       "       0., 0., 0., 1., 0., 0., 1., 1., 0., 0., 0., 0., 1., 0., 1., 1., 0.,\n",
       "       0., 0., 1., 0., 0., 0., 0., 0., 0., 0., 0., 0., 1., 0., 0., 0., 0.,\n",
       "       0., 0., 0., 0., 0., 0., 0., 1., 1., 0., 0., 1., 0., 0., 0., 1., 0.,\n",
       "       0., 0., 0., 0., 1., 0., 0., 0., 0., 0., 1., 0., 0., 1., 1., 1., 0.,\n",
       "       0., 1., 0., 1., 0., 0., 0., 0., 0., 1., 0., 0., 1., 0., 0., 0., 1.,\n",
       "       0., 0., 0., 0., 0., 1., 0., 0., 1., 0., 1., 1., 1., 0., 0., 1., 0.,\n",
       "       0., 0., 1., 0., 0., 0., 1., 0., 0., 0., 0., 0., 1., 1., 0., 0., 0.,\n",
       "       0., 1., 0., 0., 1., 1., 0., 0., 0., 0., 0., 0., 0., 0., 1., 0., 0.,\n",
       "       0.])"
      ]
     },
     "execution_count": 7,
     "metadata": {},
     "output_type": "execute_result"
    }
   ],
   "source": [
    "y_pred = model.predict(x_test)\n",
    "y_pred"
   ]
  },
  {
   "cell_type": "markdown",
   "metadata": {},
   "source": [
    "### [2] 위,양성 확률\n",
    "\n",
    "`0`으로 분류될 확률과 `1`로 분류될 확률을 의미"
   ]
  },
  {
   "cell_type": "code",
   "execution_count": 8,
   "metadata": {},
   "outputs": [
    {
     "data": {
      "text/plain": [
       "array([[0.14581305, 0.85418695],\n",
       "       [0.63274845, 0.36725155],\n",
       "       [0.42265887, 0.57734113],\n",
       "       [0.94969679, 0.05030321],\n",
       "       [0.90292213, 0.09707787]])"
      ]
     },
     "execution_count": 8,
     "metadata": {},
     "output_type": "execute_result"
    }
   ],
   "source": [
    "y_pred_proba = model.predict_proba(x_test)\n",
    "y_pred_proba[:5]"
   ]
  },
  {
   "cell_type": "code",
   "execution_count": 9,
   "metadata": {},
   "outputs": [
    {
     "name": "stdout",
     "output_type": "stream",
     "text": [
      "+----+------------+------------+\n",
      "|    |   0일 확률 |   1일 확률 |\n",
      "|----+------------+------------|\n",
      "|  0 |   0.145813 |   0.854187 |\n",
      "|  1 |   0.632748 |   0.367252 |\n",
      "|  2 |   0.422659 |   0.577341 |\n",
      "|  3 |   0.949697 |  0.0503032 |\n",
      "|  4 |   0.902922 |  0.0970779 |\n",
      "+----+------------+------------+\n"
     ]
    }
   ],
   "source": [
    "y_pred_df = DataFrame(y_pred_proba, columns=[\"0일 확률\", \"1일 확률\"])\n",
    "my_pretty_table(y_pred_df.head())"
   ]
  },
  {
   "cell_type": "markdown",
   "metadata": {},
   "source": [
    "보통은 `1`로 분류될 확률만 선택적으로 추출함"
   ]
  },
  {
   "cell_type": "code",
   "execution_count": 10,
   "metadata": {},
   "outputs": [
    {
     "data": {
      "text/plain": [
       "array([0.85418695, 0.36725155, 0.57734113, 0.05030321, 0.09707787])"
      ]
     },
     "execution_count": 10,
     "metadata": {},
     "output_type": "execute_result"
    }
   ],
   "source": [
    "y_pred_proba_1 = model.predict_proba(x_test)[:,1]\n",
    "y_pred_proba_1[:5]"
   ]
  },
  {
   "cell_type": "markdown",
   "metadata": {},
   "source": [
    "## #04. 의사결정계수\n",
    "\n",
    "### [1] 로그손실값"
   ]
  },
  {
   "cell_type": "code",
   "execution_count": 11,
   "metadata": {},
   "outputs": [
    {
     "data": {
      "text/plain": [
       "-66.87796503414953"
      ]
     },
     "execution_count": 11,
     "metadata": {},
     "output_type": "execute_result"
    }
   ],
   "source": [
    "log_loss_test = -log_loss(y_test, y_pred_proba, normalize=False)\n",
    "log_loss_test"
   ]
  },
  {
   "cell_type": "markdown",
   "metadata": {},
   "source": [
    "### [2] 로그 손실 계산"
   ]
  },
  {
   "cell_type": "code",
   "execution_count": 12,
   "metadata": {},
   "outputs": [
    {
     "data": {
      "text/plain": [
       "-102.00757977909427"
      ]
     },
     "execution_count": 12,
     "metadata": {},
     "output_type": "execute_result"
    }
   ],
   "source": [
    "y_null = np.ones_like(y_test) * y_test.mean()\n",
    "log_loss_null = -log_loss(y_test, y_null, normalize=False)\n",
    "log_loss_null"
   ]
  },
  {
   "cell_type": "markdown",
   "metadata": {},
   "source": [
    "### [3] 의사결정계수"
   ]
  },
  {
   "cell_type": "code",
   "execution_count": 13,
   "metadata": {},
   "outputs": [
    {
     "data": {
      "text/plain": [
       "0.34438239610253263"
      ]
     },
     "execution_count": 13,
     "metadata": {},
     "output_type": "execute_result"
    }
   ],
   "source": [
    "pseudo_r2 = 1 - (log_loss_test / log_loss_null)\n",
    "pseudo_r2"
   ]
  },
  {
   "cell_type": "markdown",
   "metadata": {},
   "source": [
    "## #05. 혼동행렬(오차행렬)\n",
    "\n",
    "### [1] 혼동행렬 구하기"
   ]
  },
  {
   "cell_type": "code",
   "execution_count": 14,
   "metadata": {},
   "outputs": [
    {
     "data": {
      "text/plain": [
       "array([[86, 10],\n",
       "       [25, 33]], dtype=int64)"
      ]
     },
     "execution_count": 14,
     "metadata": {},
     "output_type": "execute_result"
    }
   ],
   "source": [
    "conf_mat = confusion_matrix(y_test, y_pred)\n",
    "conf_mat"
   ]
  },
  {
   "cell_type": "markdown",
   "metadata": {},
   "source": [
    "### [2] 혼동행렬값 분리"
   ]
  },
  {
   "cell_type": "code",
   "execution_count": 15,
   "metadata": {},
   "outputs": [
    {
     "data": {
      "text/plain": [
       "(86, 33, 25, 10)"
      ]
     },
     "execution_count": 15,
     "metadata": {},
     "output_type": "execute_result"
    }
   ],
   "source": [
    "((TN, FP),(FN, TP)) = conf_mat\n",
    "TN, TP, FN, FP"
   ]
  },
  {
   "cell_type": "markdown",
   "metadata": {},
   "source": [
    "### [3] 혼동행렬에 대한 히트맵"
   ]
  },
  {
   "cell_type": "code",
   "execution_count": 16,
   "metadata": {},
   "outputs": [
    {
     "data": {
      "image/png": "[encoded data removed]",
      "text/plain": [
       "<Figure size 500x375 with 2 Axes>"
      ]
     },
     "metadata": {},
     "output_type": "display_data"
    }
   ],
   "source": [
    "my_heatmap(conf_mat, figsize=(4, 3), dpi=125)"
   ]
  },
  {
   "cell_type": "markdown",
   "metadata": {},
   "source": [
    "### [4] ConfusionMatrixDisplay 함수 사용"
   ]
  },
  {
   "cell_type": "code",
   "execution_count": 17,
   "metadata": {},
   "outputs": [
    {
     "data": {
      "image/png": "[encoded data removed]",
      "text/plain": [
       "<Figure size 500x375 with 2 Axes>"
      ]
     },
     "metadata": {},
     "output_type": "display_data"
    }
   ],
   "source": [
    "plt.figure(figsize=(4,3), dpi=125)\n",
    "ax = plt.gca()\n",
    "\n",
    "ConfusionMatrixDisplay.from_predictions(\n",
    "    y_test, # 관측치\n",
    "    y_pred, # 예측치\n",
    "    display_labels=[\"Negative\", \"Positive\"],\n",
    "    cmap='Blues',\n",
    "    text_kw={'fontsize': 24, 'weight': 'bold'},\n",
    "    ax=ax\n",
    ")\n",
    "\n",
    "# plot.py 파일에서 이미 plt객체를 import하고 있으므로 plt객체 사용 가능\n",
    "plt.show()\n",
    "plt.close()"
   ]
  },
  {
   "cell_type": "markdown",
   "metadata": {},
   "source": [
    "### [5] 성능지표 값들 구하기\n",
    "\n",
    "불균형한 레이블 클래스를 가지는 이진 분류 모델에서는 정확도만 가지고 판단할 경우 신뢰도가 떨어질 수 있다. 이런 경우 정밀도 혹은 재현율을 사용하는 것이 더욱 바람직하다.\n",
    "\n",
    "#### (1) 정확도(Accuracy)\n",
    "\n",
    "전체 데이터(FP+FN+TP+TN)중에서 제대로 판정한 데이터(TP + TN)의 비율\n",
    "\n",
    "$\\text{Accuracy}=\\frac{\\text{정확히 예측한 데이터 건수}}{\\text{전체 예측 데이터 건수}}=\\frac{\\text{TN}+\\text{TP}}{\\text{TN}+\\text{FP}+\\text{FN}+\\text{TP}}$"
   ]
  },
  {
   "cell_type": "code",
   "execution_count": 18,
   "metadata": {},
   "outputs": [
    {
     "data": {
      "text/plain": [
       "0.7727272727272727"
      ]
     },
     "execution_count": 18,
     "metadata": {},
     "output_type": "execute_result"
    }
   ],
   "source": [
    "accuracy = (TP + TN) / (TP + TN + FP + FN)\n",
    "accuracy"
   ]
  },
  {
   "cell_type": "code",
   "execution_count": 19,
   "metadata": {},
   "outputs": [
    {
     "data": {
      "text/plain": [
       "0.7727272727272727"
      ]
     },
     "execution_count": 19,
     "metadata": {},
     "output_type": "execute_result"
    }
   ],
   "source": [
    "accuracy = accuracy_score(y_test, y_pred)\n",
    "accuracy"
   ]
  },
  {
   "cell_type": "markdown",
   "metadata": {},
   "source": [
    "#### (2) 정밀도(Precision)\n",
    "\n",
    "양성으로 예측한 데이터 중에서 관측치도 양성으로 예측한 비율.\n",
    "\n",
    "$\\text{Precision}=\\frac{\\text{예측과 실제 값이 Positive로 일치하는 것들}}{\\text{Positive로 예측한 것들}}=\\frac{\\text{TP}}{\\text{FP}+\\text{TP}}$\n",
    "\n",
    "실제 음성인 데이터를 양성으로 판단하는 것이 더 큰 문제인 경우에 사용한다.(ex: 스팸 메일 분류 모델)"
   ]
  },
  {
   "cell_type": "code",
   "execution_count": 20,
   "metadata": {},
   "outputs": [
    {
     "data": {
      "text/plain": [
       "0.7674418604651163"
      ]
     },
     "execution_count": 20,
     "metadata": {},
     "output_type": "execute_result"
    }
   ],
   "source": [
    "precision = TP / (FP + TP)\n",
    "precision"
   ]
  },
  {
   "cell_type": "code",
   "execution_count": 21,
   "metadata": {},
   "outputs": [
    {
     "data": {
      "text/plain": [
       "0.7674418604651163"
      ]
     },
     "execution_count": 21,
     "metadata": {},
     "output_type": "execute_result"
    }
   ],
   "source": [
    "precision = precision_score(y_test, y_pred)\n",
    "precision"
   ]
  },
  {
   "cell_type": "markdown",
   "metadata": {},
   "source": [
    "#### (3) 재현율(Recall, TPR)\n",
    "\n",
    "실제로 양성인 관측치 중에서 양성으로 예측한 비율\n",
    "\n",
    "TPR(True Positive Rate) 또는 민감도(sensitivity)라고도 한다.\n",
    "\n",
    "$\\text{TPR}=\\frac{\\text{예측과 실제 값이 Positive로 일치하는 것들}}{\\text{실제 값이 Positive인 것들}}=\\frac{\\text{TP}}{\\text{FN}+\\text{TP}}$\n",
    "\n",
    "실제 양성인 데이터를 음성으로 판단하는 것이 더 큰 문제인 경우에 사용한다.(ex: 암 판단 모델)"
   ]
  },
  {
   "cell_type": "code",
   "execution_count": 22,
   "metadata": {},
   "outputs": [
    {
     "data": {
      "text/plain": [
       "0.5689655172413793"
      ]
     },
     "execution_count": 22,
     "metadata": {},
     "output_type": "execute_result"
    }
   ],
   "source": [
    "tpr = TP / (FN + TP)\n",
    "tpr"
   ]
  },
  {
   "cell_type": "code",
   "execution_count": 23,
   "metadata": {},
   "outputs": [
    {
     "data": {
      "text/plain": [
       "0.5689655172413793"
      ]
     },
     "execution_count": 23,
     "metadata": {},
     "output_type": "execute_result"
    }
   ],
   "source": [
    "tpr = recall_score(y_test, y_pred)\n",
    "tpr"
   ]
  },
  {
   "cell_type": "markdown",
   "metadata": {},
   "source": [
    "#### (4) 위양성율, 거짓 양성 비율(Fallout, FPR)\n",
    "\n",
    "실제로는 음성인 관측치 중에서 양성으로 예측한 비율\n",
    "\n",
    "FPR(False Positive Rate)이라고도 한다.\n",
    "\n",
    "$\\text{FPR}=\\frac{\\text{양성으로 예측한 데이터 건수}}{\\text{실제 값이 Negative인 것들}}=\\frac{\\text{FP}}{\\text{FP}+\\text{TN}}$"
   ]
  },
  {
   "cell_type": "code",
   "execution_count": 24,
   "metadata": {},
   "outputs": [
    {
     "data": {
      "text/plain": [
       "0.10416666666666667"
      ]
     },
     "execution_count": 24,
     "metadata": {},
     "output_type": "execute_result"
    }
   ],
   "source": [
    "fpr = FP / (TN + FP)\n",
    "fpr"
   ]
  },
  {
   "cell_type": "markdown",
   "metadata": {},
   "source": [
    "#### (5) 특이성(Specificity, TNR)\n",
    "\n",
    "1에서 위양성률의 값을 뺀 값으로 실제 값 Negative가 정확히 예측되어야 하는 수준을 의미한다.\n",
    "\n",
    "TNR, True Negative Rate\n",
    "\n",
    "$\\text{TNR}=1-FPR=1-\\frac{\\text{FP}}{\\text{FP}+\\text{TN}}$"
   ]
  },
  {
   "cell_type": "code",
   "execution_count": 31,
   "metadata": {},
   "outputs": [
    {
     "data": {
      "text/plain": [
       "0.8958333333333334"
      ]
     },
     "execution_count": 31,
     "metadata": {},
     "output_type": "execute_result"
    }
   ],
   "source": [
    "tnr = 1 - FP / (TN + FP)\n",
    "tnr"
   ]
  },
  {
   "cell_type": "markdown",
   "metadata": {},
   "source": [
    "#### (6) F1 Score\n",
    "\n",
    "정밀도(Precision)와 재현율(Recall)을 결합한 지표이다. \n",
    "\n",
    "정밀도(Precision)와 재현율(Recall)이 어느 한 쪽으로 치우치지 않을 때 상대적으로 높은 값을 가진다.\n",
    "\n",
    "$\\text{F1}=2 \\times \\frac{\\text{Precision} \\times \\text{FPR}}{\\text{Precision}+\\text{FPR}}$"
   ]
  },
  {
   "cell_type": "code",
   "execution_count": 26,
   "metadata": {},
   "outputs": [
    {
     "data": {
      "text/plain": [
       "0.6534653465346535"
      ]
     },
     "execution_count": 26,
     "metadata": {},
     "output_type": "execute_result"
    }
   ],
   "source": [
    "f1 = 2 * (precision * tpr) / (precision + tpr)\n",
    "f1"
   ]
  },
  {
   "cell_type": "code",
   "execution_count": 27,
   "metadata": {},
   "outputs": [
    {
     "data": {
      "text/plain": [
       "0.6534653465346535"
      ]
     },
     "execution_count": 27,
     "metadata": {},
     "output_type": "execute_result"
    }
   ],
   "source": [
    "f1 = f1_score(y_test, y_pred)\n",
    "f1"
   ]
  },
  {
   "cell_type": "markdown",
   "metadata": {},
   "source": [
    "#### (7) ROC Curve\n",
    "\n",
    "재현율(recall, FPR)을 X축으로, 위양성률(fall-out, TPR)을 Y축으로 잡은 그래프"
   ]
  },
  {
   "cell_type": "code",
   "execution_count": 28,
   "metadata": {},
   "outputs": [
    {
     "data": {
      "image/png": "[encoded data removed]",
      "text/plain": [
       "<Figure size 1000x750 with 1 Axes>"
      ]
     },
     "metadata": {},
     "output_type": "display_data"
    }
   ],
   "source": [
    "# 두 번째 파라미터가 판정결과가 아닌 1로 판정할 확률값\n",
    "fpr, tpr, thresholds = roc_curve(y_test, y_pred_proba_1)\n",
    "\n",
    "plt.figure(figsize=(8, 6), dpi=125)\n",
    "sb.lineplot(x=fpr, y=tpr)\n",
    "sb.lineplot(x=[0,1], y=[0,1], color='gray', linestyle='--')\n",
    "plt.xlabel('FPR')\n",
    "plt.ylabel('TPR')\n",
    "plt.xticks(np.round(np.arange(0, 1, 0.1),2))\n",
    "plt.xlim(0,1)\n",
    "plt.ylim(0,1)\n",
    "plt.grid()\n",
    "plt.show()\n",
    "plt.close()"
   ]
  },
  {
   "cell_type": "markdown",
   "metadata": {},
   "source": [
    "#### (8) AUC\n",
    "\n",
    "일반적으로 ROC 곡선 자체는 FPR과 TPR의 변화값을 보는 데 이용하며 분류의 성능 지표로 사용되는 것은 ROC 곡선 면적에 기반한 AUC 값으로 결정된다.\n",
    "\n",
    "ROC 곡선 밑의 면적을 구한 것으로서 일반적으로 1에 가까울수록 좋은 수치이다."
   ]
  },
  {
   "cell_type": "code",
   "execution_count": 29,
   "metadata": {},
   "outputs": [
    {
     "data": {
      "text/plain": [
       "0.8760775862068966"
      ]
     },
     "execution_count": 29,
     "metadata": {},
     "output_type": "execute_result"
    }
   ],
   "source": [
    "auc = roc_auc_score(y_test, y_pred_proba_1)\n",
    "auc"
   ]
  },
  {
   "cell_type": "markdown",
   "metadata": {},
   "source": [
    "#### (9) 분류 결과 보고서"
   ]
  },
  {
   "cell_type": "code",
   "execution_count": 30,
   "metadata": {},
   "outputs": [
    {
     "name": "stdout",
     "output_type": "stream",
     "text": [
      "              precision    recall  f1-score   support\n",
      "\n",
      "    Negative       0.77      0.90      0.83        96\n",
      "    Positive       0.77      0.57      0.65        58\n",
      "\n",
      "    accuracy                           0.77       154\n",
      "   macro avg       0.77      0.73      0.74       154\n",
      "weighted avg       0.77      0.77      0.76       154\n",
      "\n"
     ]
    }
   ],
   "source": [
    "cr = classification_report(y_test, y_pred, target_names=[\"Negative\", \"Positive\"])\n",
    "print(cr)"
   ]
  }
 ],
 "metadata": {
  "kernelspec": {
   "display_name": "Python 3 (ipykernel)",
   "language": "python",
   "name": "python3"
  },
  "language_info": {
   "codemirror_mode": {
    "name": "ipython",
    "version": 3
   },
   "file_extension": ".py",
   "mimetype": "text/x-python",
   "name": "python",
   "nbconvert_exporter": "python",
   "pygments_lexer": "ipython3",
   "version": "3.11.5"
  }
 },
 "nbformat": 4,
 "nbformat_minor": 4
}
