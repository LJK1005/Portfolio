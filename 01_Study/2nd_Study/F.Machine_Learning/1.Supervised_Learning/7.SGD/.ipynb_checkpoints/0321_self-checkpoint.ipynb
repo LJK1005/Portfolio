{
 "cells": [
  {
   "cell_type": "code",
   "execution_count": 1,
   "id": "132a6f6d-8f9c-4c5f-9732-2a82949bd77c",
   "metadata": {},
   "outputs": [
    {
     "data": {
      "text/plain": [
       "'Y:\\\\Python\\\\Mega_IT\\\\F.Machine_Learning\\\\1.Supervised_Learning\\\\7.SGD'"
      ]
     },
     "execution_count": 1,
     "metadata": {},
     "output_type": "execute_result"
    }
   ],
   "source": [
    "import os\n",
    "os.chdir(\"Y:\\Python\\Mega_IT\\F.Machine_Learning/1.Supervised_Learning/7.SGD\")\n",
    "os.getcwd()"
   ]
  },
  {
   "cell_type": "code",
   "execution_count": 2,
   "id": "d82c03b1-352a-468f-bae5-83e451cad358",
   "metadata": {},
   "outputs": [
    {
     "name": "stderr",
     "output_type": "stream",
     "text": [
      "Intel(R) Extension for Scikit-learn* enabled (https://github.com/intel/scikit-learn-intelex)\n"
     ]
    }
   ],
   "source": [
    "import sys\n",
    "sys.path.append(\"Y:\\Python\\Mega_IT\")\n",
    "\n",
    "import warnings\n",
    "warnings.filterwarnings('ignore')\n",
    "\n",
    "from yjk_module.preprocessing import *\n",
    "from yjk_module.ml_module import *\n",
    "\n",
    "from sklearnex import patch_sklearn\n",
    "patch_sklearn()"
   ]
  },
  {
   "cell_type": "code",
   "execution_count": 3,
   "id": "9f491e0a-8d20-4a9a-b8f9-dbddd8952f0b",
   "metadata": {},
   "outputs": [],
   "source": [
    "from hossam.util import *\n",
    "from hossam.plot import *\n",
    "from hossam.analysis import *\n",
    "from hossam.classification import *"
   ]
  },
  {
   "cell_type": "code",
   "execution_count": 4,
   "id": "23043b59-b4bf-4779-ae56-4bfe639dd323",
   "metadata": {},
   "outputs": [],
   "source": [
    "from surprise import BaselineOnly, Dataset, Reader\n",
    "from surprise.model_selection import train_test_split as s_ttsplit"
   ]
  },
  {
   "cell_type": "markdown",
   "id": "cebc3b6f-68f3-4701-a51d-79f1dfb9de9b",
   "metadata": {},
   "source": [
    "- 추천시스템 : 비지도 학습, 내부적으로는 SGD를 사용\n",
    "    - 사용자에 대한 인구통계학적인 정보를 사용함 : 나이 / 성별 / 인종을 고려하여 집단(cluster)를 정의하고 이를 분류에 활용\n",
    "    - Recommander system : 비슷한 인구통계학적 특성을 보이는 사람은 취향도 비슷하리라 판단함 (개개인별로 취향이 제각각이므로 정확도가 떨어짐)\n",
    "    - Content filtering : 아이템의 내용에 집중하여 해당 기본 정보를 활용\n",
    "    - Collaborative filtering : 타깃 유저의 데이터와 다른 유저의 데이터를 모두 사용\n",
    "    - 이를 사용하기 위한 surprise 패키지는 사이킷런을 기반으로 하고 있음"
   ]
  },
  {
   "cell_type": "code",
   "execution_count": 5,
   "id": "73eaef10-a151-47d8-8575-1b3dc78c3e14",
   "metadata": {},
   "outputs": [],
   "source": [
    "origin1 = pd.read_excel(\"./data/movie_ratings.xlsx\")"
   ]
  },
  {
   "cell_type": "code",
   "execution_count": 6,
   "id": "d82300cc-b73a-4339-bb28-09956246ce5f",
   "metadata": {},
   "outputs": [],
   "source": [
    "movies = pd.read_excel(\"./data/movie_ratings.xlsx\", sheet_name = 'movies')\n",
    "links = pd.read_excel(\"./data/movie_ratings.xlsx\", sheet_name = 'links')\n",
    "tags = pd.read_excel(\"./data/movie_ratings.xlsx\", sheet_name = 'tags')"
   ]
  },
  {
   "cell_type": "markdown",
   "id": "2eee375d-98af-4a01-9554-baed8313a627",
   "metadata": {},
   "source": [
    "- surprise 패키지는 사용자번호, 아이템번호, 평점번호 3가지의 고정된 데이터를 요구함"
   ]
  },
  {
   "cell_type": "code",
   "execution_count": 7,
   "id": "4b735646-414a-48e4-95d3-331a4bc8de53",
   "metadata": {},
   "outputs": [
    {
     "data": {
      "text/html": [
       "<div>\n",
       "<style scoped>\n",
       "    .dataframe tbody tr th:only-of-type {\n",
       "        vertical-align: middle;\n",
       "    }\n",
       "\n",
       "    .dataframe tbody tr th {\n",
       "        vertical-align: top;\n",
       "    }\n",
       "\n",
       "    .dataframe thead th {\n",
       "        text-align: right;\n",
       "    }\n",
       "</style>\n",
       "<table border=\"1\" class=\"dataframe\">\n",
       "  <thead>\n",
       "    <tr style=\"text-align: right;\">\n",
       "      <th></th>\n",
       "      <th>userId</th>\n",
       "      <th>movieId</th>\n",
       "      <th>rating</th>\n",
       "      <th>timestamp</th>\n",
       "    </tr>\n",
       "  </thead>\n",
       "  <tbody>\n",
       "    <tr>\n",
       "      <th>0</th>\n",
       "      <td>1</td>\n",
       "      <td>1</td>\n",
       "      <td>4.0</td>\n",
       "      <td>964982703</td>\n",
       "    </tr>\n",
       "    <tr>\n",
       "      <th>1</th>\n",
       "      <td>1</td>\n",
       "      <td>3</td>\n",
       "      <td>4.0</td>\n",
       "      <td>964981247</td>\n",
       "    </tr>\n",
       "    <tr>\n",
       "      <th>2</th>\n",
       "      <td>1</td>\n",
       "      <td>6</td>\n",
       "      <td>4.0</td>\n",
       "      <td>964982224</td>\n",
       "    </tr>\n",
       "    <tr>\n",
       "      <th>3</th>\n",
       "      <td>1</td>\n",
       "      <td>47</td>\n",
       "      <td>5.0</td>\n",
       "      <td>964983815</td>\n",
       "    </tr>\n",
       "    <tr>\n",
       "      <th>4</th>\n",
       "      <td>1</td>\n",
       "      <td>50</td>\n",
       "      <td>5.0</td>\n",
       "      <td>964982931</td>\n",
       "    </tr>\n",
       "  </tbody>\n",
       "</table>\n",
       "</div>"
      ],
      "text/plain": [
       "   userId  movieId  rating  timestamp\n",
       "0       1        1     4.0  964982703\n",
       "1       1        3     4.0  964981247\n",
       "2       1        6     4.0  964982224\n",
       "3       1       47     5.0  964983815\n",
       "4       1       50     5.0  964982931"
      ]
     },
     "execution_count": 7,
     "metadata": {},
     "output_type": "execute_result"
    }
   ],
   "source": [
    "origin1.head()"
   ]
  },
  {
   "cell_type": "code",
   "execution_count": 8,
   "id": "dbd2432a-6735-4439-9c4c-cf9df1b7f3ec",
   "metadata": {},
   "outputs": [
    {
     "name": "stdout",
     "output_type": "stream",
     "text": [
      "<class 'pandas.core.frame.DataFrame'>\n",
      "RangeIndex: 100836 entries, 0 to 100835\n",
      "Data columns (total 3 columns):\n",
      " #   Column   Non-Null Count   Dtype  \n",
      "---  ------   --------------   -----  \n",
      " 0   userId   100836 non-null  int64  \n",
      " 1   movieId  100836 non-null  int64  \n",
      " 2   rating   100836 non-null  float64\n",
      "dtypes: float64(1), int64(2)\n",
      "memory usage: 2.3 MB\n"
     ]
    }
   ],
   "source": [
    "df1 = origin1.drop('timestamp', axis = 1)\n",
    "df1.info()"
   ]
  },
  {
   "cell_type": "code",
   "execution_count": 9,
   "id": "e3d1325e-1f87-4a15-b4fa-11c06d5e1962",
   "metadata": {},
   "outputs": [
    {
     "data": {
      "text/html": [
       "<div>\n",
       "<style scoped>\n",
       "    .dataframe tbody tr th:only-of-type {\n",
       "        vertical-align: middle;\n",
       "    }\n",
       "\n",
       "    .dataframe tbody tr th {\n",
       "        vertical-align: top;\n",
       "    }\n",
       "\n",
       "    .dataframe thead th {\n",
       "        text-align: right;\n",
       "    }\n",
       "</style>\n",
       "<table border=\"1\" class=\"dataframe\">\n",
       "  <thead>\n",
       "    <tr style=\"text-align: right;\">\n",
       "      <th></th>\n",
       "      <th>userId</th>\n",
       "      <th>movieId</th>\n",
       "      <th>rating</th>\n",
       "    </tr>\n",
       "  </thead>\n",
       "  <tbody>\n",
       "    <tr>\n",
       "      <th>count</th>\n",
       "      <td>100836.000000</td>\n",
       "      <td>100836.000000</td>\n",
       "      <td>100836.000000</td>\n",
       "    </tr>\n",
       "    <tr>\n",
       "      <th>mean</th>\n",
       "      <td>326.127564</td>\n",
       "      <td>19435.295718</td>\n",
       "      <td>3.501557</td>\n",
       "    </tr>\n",
       "    <tr>\n",
       "      <th>std</th>\n",
       "      <td>182.618491</td>\n",
       "      <td>35530.987199</td>\n",
       "      <td>1.042529</td>\n",
       "    </tr>\n",
       "    <tr>\n",
       "      <th>min</th>\n",
       "      <td>1.000000</td>\n",
       "      <td>1.000000</td>\n",
       "      <td>0.500000</td>\n",
       "    </tr>\n",
       "    <tr>\n",
       "      <th>25%</th>\n",
       "      <td>177.000000</td>\n",
       "      <td>1199.000000</td>\n",
       "      <td>3.000000</td>\n",
       "    </tr>\n",
       "    <tr>\n",
       "      <th>50%</th>\n",
       "      <td>325.000000</td>\n",
       "      <td>2991.000000</td>\n",
       "      <td>3.500000</td>\n",
       "    </tr>\n",
       "    <tr>\n",
       "      <th>75%</th>\n",
       "      <td>477.000000</td>\n",
       "      <td>8122.000000</td>\n",
       "      <td>4.000000</td>\n",
       "    </tr>\n",
       "    <tr>\n",
       "      <th>max</th>\n",
       "      <td>610.000000</td>\n",
       "      <td>193609.000000</td>\n",
       "      <td>5.000000</td>\n",
       "    </tr>\n",
       "  </tbody>\n",
       "</table>\n",
       "</div>"
      ],
      "text/plain": [
       "              userId        movieId         rating\n",
       "count  100836.000000  100836.000000  100836.000000\n",
       "mean      326.127564   19435.295718       3.501557\n",
       "std       182.618491   35530.987199       1.042529\n",
       "min         1.000000       1.000000       0.500000\n",
       "25%       177.000000    1199.000000       3.000000\n",
       "50%       325.000000    2991.000000       3.500000\n",
       "75%       477.000000    8122.000000       4.000000\n",
       "max       610.000000  193609.000000       5.000000"
      ]
     },
     "execution_count": 9,
     "metadata": {},
     "output_type": "execute_result"
    }
   ],
   "source": [
    "df1.describe()"
   ]
  },
  {
   "cell_type": "markdown",
   "id": "a6951868-6888-46b4-b26c-b73b3bd7fda8",
   "metadata": {},
   "source": [
    "- 평점 분포를 알려주는 reader 객체 사용"
   ]
  },
  {
   "cell_type": "code",
   "execution_count": 10,
   "id": "da619f74-ba66-457b-88fe-cf6b28ce4b3e",
   "metadata": {},
   "outputs": [],
   "source": [
    "reader = Reader(rating_scale = (0.5, 5.0))"
   ]
  },
  {
   "cell_type": "markdown",
   "id": "04520b52-035b-4557-8dfe-c68383a48525",
   "metadata": {},
   "source": [
    "- 데이터프레임을 surprise 에서 사용가능한 형태로 가공하는 Dataset 객체에 Reader 객체를 담아 변환"
   ]
  },
  {
   "cell_type": "code",
   "execution_count": 11,
   "id": "fd8659a9-2d09-4cad-bff1-f52046e58ece",
   "metadata": {},
   "outputs": [],
   "source": [
    "data = Dataset.load_from_df(df1, reader)"
   ]
  },
  {
   "cell_type": "markdown",
   "id": "315d4397-53d0-4902-ad9b-701fe677da29",
   "metadata": {},
   "source": [
    "- train / test 분리 : Surprise 패키지 자체 함수 사용"
   ]
  },
  {
   "cell_type": "code",
   "execution_count": 16,
   "id": "38882128-64fc-4624-9d79-1b8ef1754a3d",
   "metadata": {},
   "outputs": [],
   "source": [
    "train, test = s_ttsplit(data, test_size = 0.2, random_state = 0)"
   ]
  },
  {
   "cell_type": "markdown",
   "id": "171c5dc0-fbbc-46f3-bf08-2595145943d7",
   "metadata": {},
   "source": [
    "- 추천 기본 모형 구현"
   ]
  },
  {
   "cell_type": "code",
   "execution_count": 18,
   "id": "c23dd332-5d9a-44f5-aa3d-11f0b3593f41",
   "metadata": {},
   "outputs": [
    {
     "name": "stdout",
     "output_type": "stream",
     "text": [
      "Estimating biases using als...\n"
     ]
    },
    {
     "data": {
      "text/plain": [
       "<surprise.prediction_algorithms.baseline_only.BaselineOnly at 0x12e387ffe50>"
      ]
     },
     "execution_count": 18,
     "metadata": {},
     "output_type": "execute_result"
    }
   ],
   "source": [
    "estimator = BaselineOnly()\n",
    "estimator.fit(train)"
   ]
  },
  {
   "cell_type": "markdown",
   "id": "3dee4296-468e-45d8-9ac6-9e5102c2d4a8",
   "metadata": {},
   "source": [
    "- 예측 및 성능 평가"
   ]
  },
  {
   "cell_type": "code",
   "execution_count": 19,
   "id": "1883723c-76ea-4ed5-b7d1-507cda978fa4",
   "metadata": {},
   "outputs": [],
   "source": [
    "from surprise.accuracy import rmse"
   ]
  },
  {
   "cell_type": "code",
   "execution_count": 20,
   "id": "ee05c9f2-7486-4c9d-bccd-7ce74d84e1d0",
   "metadata": {},
   "outputs": [],
   "source": [
    "pred = estimator.test(test)"
   ]
  },
  {
   "cell_type": "code",
   "execution_count": 22,
   "id": "8279ef88-d447-40cb-8a3a-9750f77e9766",
   "metadata": {},
   "outputs": [
    {
     "data": {
      "text/plain": [
       "[Prediction(uid=548, iid=1196, r_ui=3.5, est=4.4688569029292955, details={'was_impossible': False}),\n",
       " Prediction(uid=590, iid=1252, r_ui=3.0, est=3.8284627528627215, details={'was_impossible': False}),\n",
       " Prediction(uid=8, iid=32, r_ui=3.0, est=4.003777018267144, details={'was_impossible': False}),\n",
       " Prediction(uid=217, iid=2993, r_ui=3.0, est=2.9884116522794253, details={'was_impossible': False}),\n",
       " Prediction(uid=51, iid=2613, r_ui=5.0, est=3.4693253210141344, details={'was_impossible': False})]"
      ]
     },
     "execution_count": 22,
     "metadata": {},
     "output_type": "execute_result"
    }
   ],
   "source": [
    "pred[:5]"
   ]
  },
  {
   "cell_type": "markdown",
   "id": "02c3e090-c1b3-4e58-bc1f-bbb3e0eaa50b",
   "metadata": {},
   "source": [
    "- uid : 사용자 번호\n",
    "- iid : 아이템 번호\n",
    "- r_ui : 해당 사용자가 실제로 부여한 평점\n",
    "- est : 예측 평점"
   ]
  },
  {
   "cell_type": "code",
   "execution_count": 23,
   "id": "c7acb733-e639-437d-a04b-6899c2ae5fbd",
   "metadata": {},
   "outputs": [
    {
     "name": "stdout",
     "output_type": "stream",
     "text": [
      "RMSE: 0.8685\n"
     ]
    }
   ],
   "source": [
    "score = rmse(pred)"
   ]
  },
  {
   "cell_type": "code",
   "execution_count": null,
   "id": "30458870-9d62-4a90-a245-60b30f9b640f",
   "metadata": {},
   "outputs": [],
   "source": []
  },
  {
   "cell_type": "code",
   "execution_count": null,
   "id": "443167a0-a233-4efc-b149-19695c5c926d",
   "metadata": {},
   "outputs": [],
   "source": []
  },
  {
   "cell_type": "code",
   "execution_count": null,
   "id": "13b349f9-6e44-49c3-a0e7-d5585a79b1b4",
   "metadata": {},
   "outputs": [],
   "source": []
  },
  {
   "cell_type": "code",
   "execution_count": null,
   "id": "4d5a9590-a6e9-4a95-9f7d-289505871f08",
   "metadata": {},
   "outputs": [],
   "source": []
  },
  {
   "cell_type": "code",
   "execution_count": null,
   "id": "7942b0e8-1dd8-40af-bd73-3a661750be3f",
   "metadata": {},
   "outputs": [],
   "source": []
  }
 ],
 "metadata": {
  "kernelspec": {
   "display_name": "Python 3 (ipykernel)",
   "language": "python",
   "name": "python3"
  },
  "language_info": {
   "codemirror_mode": {
    "name": "ipython",
    "version": 3
   },
   "file_extension": ".py",
   "mimetype": "text/x-python",
   "name": "python",
   "nbconvert_exporter": "python",
   "pygments_lexer": "ipython3",
   "version": "3.10.9"
  }
 },
 "nbformat": 4,
 "nbformat_minor": 5
}
