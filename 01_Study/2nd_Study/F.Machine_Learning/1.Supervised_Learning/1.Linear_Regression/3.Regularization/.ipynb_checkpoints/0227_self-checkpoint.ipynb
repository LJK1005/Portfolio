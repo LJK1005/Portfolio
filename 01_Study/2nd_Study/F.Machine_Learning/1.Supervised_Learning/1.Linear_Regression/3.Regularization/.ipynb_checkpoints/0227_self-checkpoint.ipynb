{
 "cells": [
  {
   "cell_type": "code",
   "execution_count": 3,
   "metadata": {},
   "outputs": [],
   "source": [
    "import sys\n",
    "import os\n",
    "work_path = os.path.abspath(os.path.join(os.getcwd(), \"../../..\"))\n",
    "sys.path.append(work_path)\n",
    "\n",
    "from my_helper.regression import *\n",
    "from my_helper.util import *\n",
    "from my_helper.plot import *\n",
    "from my_helper.analysis import *\n",
    "from yjk_module.preprocessing import *\n",
    "\n",
    "import pandas as pd\n",
    "import numpy as np\n",
    "import matplotlib.pyplot as plt\n",
    "import seaborn as sb\n",
    "\n",
    "from sklearn.preprocessing import PolynomialFeatures\n",
    "from sklearn.model_selection import train_test_split, learning_curve\n",
    "from sklearn.linear_model import LinearRegression\n",
    "from sklearn.metrics import r2_score, mean_squared_error, mean_absolute_error"
   ]
  },
  {
   "cell_type": "code",
   "execution_count": 2,
   "metadata": {},
   "outputs": [],
   "source": [
    "plt.rcParams[\"font.family\"] = 'Malgun Gothic'\n",
    "plt.rcParams[\"font.size\"] = 12\n",
    "plt.rcParams[\"figure.figsize\"] = (8, 6)\n",
    "plt.rcParams[\"axes.unicode_minus\"] = False"
   ]
  },
  {
   "cell_type": "markdown",
   "metadata": {},
   "source": [
    "### 세미 프로젝트\n",
    "- 분산분석 등으로 통제요인을 변수에 넣을때 선행 연구를 통한 근거가 요구됨\n",
    "- 시각화\n",
    "  - 도수분포, 상자그림: 이상치 확인\n",
    "  - 산점도 : 종속변수에 영향을 주는 변수, 독립변수간의 상관관계 찾기\n",
    "    - 산점도와 도수분표 등 시각화만으로도 표준화, 이상치, 변수 선정등의 예측을 하고 그 결과를 데이터 분석에 활용해야 함 (변수 추가 등)\n",
    "    - 시각화의 목적을 확실히 하고 진행할 것\n",
    "- 중위 회귀 분석\n",
    "  - 종속변수를 4분위수로 쪼개서 4개의 모델을 각각 생성하여 회귀분석 진행\n",
    "    - 나눈 4분위수로 4개의 다중분류를 적용시켜 그 확률을 가중치로 하는 보팅 앙상블? or 부스팅"
   ]
  },
  {
   "cell_type": "markdown",
   "metadata": {},
   "source": [
    "### 과적합\n",
    "\n",
    "- 과적합(Overfitting)\n",
    "  - 과대적합(Over Fitting) : 모델이 너무 복잡해서 훈련 데이터에만 성능이 좋고 검증 데이터에 대해서는 정확도가 크게 떨어짐\n",
    "    - 해결 : **샘플 수를 늘려 모델이 충분히 학습하도록 함**, 훈련데이터의 특성 수 줄임, 이상치 제거, 파라미터 수가 적은 모델 혹은 단순화 \n",
    "      - 변수를 줄이거나 가중치를 제한하는 방법\n",
    "  - 과소적합(Under Fitting) : 분석 모델이 너무 단순하여 데이터를 제대로 학습하지 못하는 경우\n",
    "    - 변수의 수가 부족하여 학습 능력이 떨어짐 : 훈련 정확도와 검증 정확도가 적은 샘플수에서도 유사하지만 설명력은 모두 낮음\n",
    "    - 해결 : **변수의 수를 늘림**, 파라미터가 더 많은 모델 선택, 학습 알고리즘에 더 좋은 특성 제공(하이퍼파라미터 튜닝), 모델 제약 줄이기"
   ]
  },
  {
   "cell_type": "markdown",
   "metadata": {},
   "source": [
    "- 샘플 수 : 행의 수 (= set 크기)\n",
    "- 변수의 수 : 열의 수"
   ]
  },
  {
   "cell_type": "markdown",
   "metadata": {},
   "source": [
    "- 일반화(= 최적화) : 실제 데이터와 학습 데이터가 차이가 있어도 모델 성능 차이가 나타나지 않게 하는 것\n",
    "  - 속성 줄이기 : 복잡성을 낮추어 과대적합 가능성을 낮춤, 결과에 크게 영향을 주지 않는 속성 제거\n",
    "  - 정규화 : 속성의 단위가 달라 결과에 미치는 영향이 달라지는 것을 방지\n",
    "  - 검증 : 오류의 정도를 측정하고 그 결과를 바탕으로 모델 성능 개선"
   ]
  },
  {
   "cell_type": "markdown",
   "metadata": {},
   "source": [
    "- 학습 곡선(Learning Curve)\n",
    "  - 학습 데이터의 양을 늘려가면서 모델의 성능을 평가하고 이를 시각화\n",
    "    - 과소적합 : 훈련 - 검증 데이터 세트 크기가 작은데도 에러율/성능이 너무 빨리 일치하게 됨(+ 전반적으로 에러율이 높게 유지됨)\n",
    "    - 과대적합 : 훈련 - 검증 데이터간 에러율/성능이 훈련쪽에서 나은 쪽으로 유지됨(+ 샘플 수가 늘어날수록 그 차이는 점점 좁아지거나 유지됨)\n",
    "      - 훈련 - 검증간 성능차이가 점점 좁아지면 샘플을 추가하고 그렇지 않다면 모델/데이터 단순화 등 다른 방법으로 과대적합 해결\n",
    "  - sklearn에서 learning_curve() 함수로 해당 기능 제공"
   ]
  },
  {
   "cell_type": "code",
   "execution_count": 14,
   "metadata": {},
   "outputs": [],
   "source": [
    "df = pd.read_csv(\"./data/Walmart_sales.csv\")\n",
    "df['Date'] = pd.to_datetime(df['Date'], format = '%d-%m-%Y')\n",
    "df['Store'] = df['Store'].astype('category')\n",
    "df['Holiday_Flag'] = df['Holiday_Flag'].astype('category')"
   ]
  },
  {
   "cell_type": "code",
   "execution_count": 15,
   "metadata": {},
   "outputs": [
    {
     "name": "stdout",
     "output_type": "stream",
     "text": [
      "아래와 같이 처리합니다.\n",
      "+-------------+-------------+\n",
      "| 범주        | 처리방법    |\n",
      "|-------------+-------------|\n",
      "| 이상치 처리 | 경계값 대체 |\n",
      "| 결측치 처리 | 중앙값 대체 |\n",
      "| 스케일러    | 표준화      |\n",
      "| 인코딩      | 원핫인코딩  |\n",
      "+-------------+-------------+\n"
     ]
    }
   ],
   "source": [
    "pp = YjkPreprocessor()\n",
    "pp.set_strategy()"
   ]
  },
  {
   "cell_type": "code",
   "execution_count": 29,
   "metadata": {},
   "outputs": [],
   "source": [
    "X = df.copy()\n",
    "Y = X.pop('Weekly_Sales')"
   ]
  },
  {
   "cell_type": "code",
   "execution_count": 33,
   "metadata": {},
   "outputs": [
    {
     "name": "stdout",
     "output_type": "stream",
     "text": [
      "데이터프레임 크기 : (6435, 7)\n",
      "데이터프레임에 결측치는 없습니다.\n",
      "연속형 데이터 컬럼 : ['Temperature', 'Fuel_Price', 'CPI', 'Unemployment'], 총 4개\n",
      "명목형 데이터 컬럼 : ['Store', 'Holiday_Flag'], 총 2개\n",
      "기타 데이터 컬럼 : ['Date'], 총 1개\n",
      "시계열 데이터 컬럼명 : Date\n"
     ]
    }
   ],
   "source": [
    "X_p = pp.fit_transform(X, datetime = 'Date')"
   ]
  },
  {
   "cell_type": "code",
   "execution_count": 34,
   "metadata": {},
   "outputs": [],
   "source": [
    "x_train, x_test, y_train, y_test = train_test_split(X_p, Y, test_size = 0.25, random_state = 0)"
   ]
  },
  {
   "cell_type": "code",
   "execution_count": 35,
   "metadata": {},
   "outputs": [
    {
     "name": "stdout",
     "output_type": "stream",
     "text": [
      "[교차검증]\n",
      "+----+-------------------+\n",
      "|    |   mean_test_score |\n",
      "|----+-------------------|\n",
      "|  0 |          0.919283 |\n",
      "+----+-------------------+\n",
      "\n",
      "[회귀식]\n",
      "Weekly_Sales = -14775.149 * Temperature + -23178.453 * Fuel_Price + -101317.804 * CPI + -30103.151 * Unemployment + -28749681926914832.000 * Store_1 + -28749681926562644.000 * Store_2 + -28749681928058572.000 * Store_3 + -28749681926642036.000 * Store_4 + -28749681928171864.000 * Store_5 + -28749681926920840.000 * Store_6 + -28749681927947592.000 * Store_7 + -28749681927584208.000 * Store_8 + -28749681927941640.000 * Store_9 + -28749681926744188.000 * Store_10 + -28749681927109008.000 * Store_11 + -28749681927586516.000 * Store_12 + -28749681926685468.000 * Store_13 + -28749681926495628.000 * Store_14 + -28749681928044756.000 * Store_15 + -28749681928051176.000 * Store_16 + -28749681927833196.000 * Store_17 + -28749681927570312.000 * Store_18 + -28749681927221492.000 * Store_19 + -28749681926382684.000 * Store_20 + -28749681927708012.000 * Store_21 + -28749681927625848.000 * Store_22 + -28749681927355132.000 * Store_23 + -28749681927283408.000 * Store_24 + -28749681927779404.000 * Store_25 + -28749681927680864.000 * Store_26 + -28749681926867544.000 * Store_27 + -28749681927284204.000 * Store_28 + -28749681928093756.000 * Store_29 + -28749681928028352.000 * Store_30 + -28749681927072472.000 * Store_31 + -28749681927332712.000 * Store_32 + -28749681928390700.000 * Store_33 + -28749681927687128.000 * Store_34 + -28749681927712292.000 * Store_35 + -28749681928094008.000 * Store_36 + -28749681927944424.000 * Store_37 + -28749681928210520.000 * Store_38 + -28749681927007072.000 * Store_39 + -28749681927772068.000 * Store_40 + -28749681927293648.000 * Store_41 + -28749681928093676.000 * Store_42 + -28749681927807764.000 * Store_43 + -28749681928414324.000 * Store_44 + -28749681927739696.000 * Store_45 + -474956594127342464.000 * Holiday_Flag_0 + -474956594127270016.000 * Holiday_Flag_1 + 910696.000 * Date + 503706276054720448.000\n",
      "\n",
      "[회귀분석 성능평가]\n",
      "+--------+----------------+---------------------+---------------------+------------------+---------------------------------+-----------------------+\n",
      "|        |   결정계수(R2) |   평균절대오차(MAE) |   평균제곱오차(MSE) |   평균오차(RMSE) |   평균 절대 백분오차 비율(MAPE) |   평균 비율 오차(MPE) |\n",
      "|--------+----------------+---------------------+---------------------+------------------+---------------------------------+-----------------------|\n",
      "| 데이터 |       0.917344 |             92903.8 |         2.65448e+10 |           162926 |                         8.86716 |              -1.35937 |\n",
      "+--------+----------------+---------------------+---------------------+------------------+---------------------------------+-----------------------+\n",
      "\n",
      "[선형회귀분석 결과보고]\n",
      "+----+--------------+----------------+--------------------+-------------+------------------+----------+------------+---------+\n",
      "|    | 종속변수     | 독립변수       |   B(비표준화 계수) |    표준오차 |   β(표준화 계수) |        t |   유의확률 |     VIF |\n",
      "|----+--------------+----------------+--------------------+-------------+------------------+----------+------------+---------|\n",
      "|  0 | Weekly_Sales | Temperature    |           -14775.1 |      5097.7 |           -0.032 |   -2.898 |      0.004 | 1.49801 |\n",
      "|  1 | Weekly_Sales | Fuel_Price     |           -23178.5 |     7661.19 |           -0.043 |   -3.025 |      0.003 | 3.48629 |\n",
      "|  2 | Weekly_Sales | CPI            |            -101318 |      138208 |            0.068 |   -0.733 |      0.464 | 1101.02 |\n",
      "|  3 | Weekly_Sales | Unemployment   |           -30103.2 |     17147.3 |           -0.058 |   -1.756 |      0.079 | 17.1326 |\n",
      "|  4 | Weekly_Sales | Store_1        |       -2.87497e+16 | 6.57556e+11 |      -1.8834e+12 | -43722.1 |          0 |     inf |\n",
      "|  5 | Weekly_Sales | Store_2        |       -2.87497e+16 | 6.58479e+11 |     -1.90951e+12 | -43660.7 |          0 |     inf |\n",
      "|  6 | Weekly_Sales | Store_3        |       -2.87497e+16 |  6.5992e+11 |     -1.80259e+12 | -43565.4 |          0 |     inf |\n",
      "|  7 | Weekly_Sales | Store_4        |       -2.87497e+16 | 6.59054e+11 |     -2.19648e+12 | -43622.6 |          0 |     inf |\n",
      "|  8 | Weekly_Sales | Store_5        |       -2.87497e+16 | 6.58506e+11 |     -1.71765e+12 | -43658.9 |          0 |     inf |\n",
      "|  9 | Weekly_Sales | Store_6        |       -2.87497e+16 | 6.57358e+11 |     -1.74646e+12 | -43735.2 |          0 |     inf |\n",
      "| 10 | Weekly_Sales | Store_7        |       -2.87497e+16 | 6.59355e+11 |     -1.98558e+12 | -43602.8 |          0 |     inf |\n",
      "| 11 | Weekly_Sales | Store_8        |       -2.87497e+16 | 6.61545e+11 |     -1.74646e+12 | -43458.4 |          0 |     inf |\n",
      "| 12 | Weekly_Sales | Store_9        |       -2.87497e+16 | 6.60162e+11 |     -1.85689e+12 | -43549.5 |          0 |     inf |\n",
      "| 13 | Weekly_Sales | Store_10       |       -2.87497e+16 | 6.63648e+11 |     -1.77476e+12 | -43320.7 |          0 |     inf |\n",
      "| 14 | Weekly_Sales | Store_11       |       -2.87497e+16 | 6.61072e+11 |     -1.93523e+12 | -43489.5 |          0 |     inf |\n",
      "| 15 | Weekly_Sales | Store_12       |       -2.87497e+16 | 6.59931e+11 |     -1.85689e+12 | -43564.7 |          0 |     inf |\n",
      "| 16 | Weekly_Sales | Store_13       |       -2.87497e+16 | 6.59045e+11 |     -1.93523e+12 | -43623.2 |          0 |     inf |\n",
      "| 17 | Weekly_Sales | Store_14       |       -2.87497e+16 | 6.59962e+11 |      -1.8834e+12 | -43562.6 |          0 |     inf |\n",
      "| 18 | Weekly_Sales | Store_15       |       -2.87497e+16 | 6.62581e+11 |      -1.8834e+12 | -43390.4 |          0 |     inf |\n",
      "| 19 | Weekly_Sales | Store_16       |       -2.87497e+16 | 6.60535e+11 |     -1.98558e+12 | -43524.9 |          0 |     inf |\n",
      "| 20 | Weekly_Sales | Store_17       |       -2.87497e+16 | 6.61128e+11 |     -1.77476e+12 | -43485.8 |          0 |     inf |\n",
      "| 21 | Weekly_Sales | Store_18       |       -2.87497e+16 | 6.61646e+11 |     -1.82996e+12 | -43451.8 |          0 |     inf |\n",
      "| 22 | Weekly_Sales | Store_19       |       -2.87497e+16 |  6.6235e+11 |     -2.05857e+12 | -43405.6 |          0 |     inf |\n",
      "| 23 | Weekly_Sales | Store_20       |       -2.87497e+16 | 6.62097e+11 |     -1.93523e+12 | -43422.2 |          0 |     inf |\n",
      "| 24 | Weekly_Sales | Store_21       |       -2.87497e+16 | 6.58479e+11 |     -1.82996e+12 | -43660.7 |          0 |     inf |\n",
      "| 25 | Weekly_Sales | Store_22       |       -2.87497e+16 | 6.59395e+11 |     -1.98558e+12 | -43600.1 |          0 |     inf |\n",
      "| 26 | Weekly_Sales | Store_23       |       -2.87497e+16 | 6.59154e+11 |     -1.93523e+12 | -43616.1 |          0 |     inf |\n",
      "| 27 | Weekly_Sales | Store_24       |       -2.87497e+16 | 6.58652e+11 |     -1.82996e+12 | -43649.3 |          0 |     inf |\n",
      "| 28 | Weekly_Sales | Store_25       |       -2.87497e+16 | 6.62329e+11 |     -1.98558e+12 |   -43407 |          0 |     inf |\n",
      "| 29 | Weekly_Sales | Store_26       |       -2.87497e+16 |  6.5935e+11 |     -1.98558e+12 | -43603.1 |          0 |     inf |\n",
      "| 30 | Weekly_Sales | Store_27       |       -2.87497e+16 | 6.61477e+11 |     -1.71765e+12 | -43462.9 |          0 |     inf |\n",
      "| 31 | Weekly_Sales | Store_28       |       -2.87497e+16 | 6.59009e+11 |     -1.80259e+12 | -43625.6 |          0 |     inf |\n",
      "| 32 | Weekly_Sales | Store_29       |       -2.87497e+16 | 6.60718e+11 |     -1.85689e+12 | -43512.8 |          0 |     inf |\n",
      "| 33 | Weekly_Sales | Store_30       |       -2.87497e+16 | 6.61946e+11 |     -1.82996e+12 | -43432.1 |          0 |     inf |\n",
      "| 34 | Weekly_Sales | Store_31       |       -2.87497e+16 |   6.624e+11 |     -1.98558e+12 | -43402.3 |          0 |     inf |\n",
      "| 35 | Weekly_Sales | Store_32       |       -2.87497e+16 | 6.60972e+11 |     -2.01024e+12 | -43496.1 |          0 |     inf |\n",
      "| 36 | Weekly_Sales | Store_33       |       -2.87497e+16 | 6.59502e+11 |     -2.08227e+12 |   -43593 |          0 |     inf |\n",
      "| 37 | Weekly_Sales | Store_34       |       -2.87497e+16 | 6.58553e+11 |     -2.05857e+12 | -43655.9 |          0 |     inf |\n",
      "| 38 | Weekly_Sales | Store_35       |       -2.87497e+16 | 6.62608e+11 |     -1.98558e+12 | -43388.7 |          0 |     inf |\n",
      "| 39 | Weekly_Sales | Store_36       |       -2.87497e+16 | 6.63308e+11 |     -1.85689e+12 | -43342.9 |          0 |     inf |\n",
      "| 40 | Weekly_Sales | Store_37       |       -2.87497e+16 | 6.59392e+11 |     -1.62792e+12 | -43600.3 |          0 |     inf |\n",
      "| 41 | Weekly_Sales | Store_38       |       -2.87497e+16 |  6.6201e+11 |      -1.8834e+12 | -43427.8 |          0 |     inf |\n",
      "| 42 | Weekly_Sales | Store_39       |       -2.87497e+16 | 6.62391e+11 |     -1.65841e+12 | -43402.9 |          0 |     inf |\n",
      "| 43 | Weekly_Sales | Store_40       |       -2.87497e+16 | 6.60307e+11 |     -1.98558e+12 | -43539.9 |          0 |     inf |\n",
      "| 44 | Weekly_Sales | Store_41       |       -2.87497e+16 |  6.6007e+11 |     -2.08227e+12 | -43555.5 |          0 |     inf |\n",
      "| 45 | Weekly_Sales | Store_42       |       -2.87497e+16 | 6.62732e+11 |     -2.10567e+12 | -43380.5 |          0 |     inf |\n",
      "| 46 | Weekly_Sales | Store_43       |       -2.87497e+16 | 6.56504e+11 |     -1.82996e+12 | -43792.1 |          0 |     inf |\n",
      "| 47 | Weekly_Sales | Store_44       |       -2.87497e+16 | 6.57899e+11 |     -1.80259e+12 | -43699.2 |          0 |     inf |\n",
      "| 48 | Weekly_Sales | Store_45       |       -2.87497e+16 | 6.61346e+11 |     -2.03456e+12 | -43471.4 |          0 |     inf |\n",
      "| 49 | Weekly_Sales | Holiday_Flag_0 |       -4.74957e+17 |         nan |            -0.01 |      nan |        nan |     inf |\n",
      "| 50 | Weekly_Sales | Holiday_Flag_1 |       -4.74957e+17 |         nan |             0.01 |      nan |        nan |     inf |\n",
      "| 51 | Weekly_Sales | Date           |             910696 |      554661 |            0.035 |    1.642 |      0.101 | 11.4155 |\n",
      "+----+--------------+----------------+--------------------+-------------+------------------+----------+------------+---------+\n",
      "\n",
      "𝑅^2(0.917), Adj.𝑅^2(0.915), F(332.095), P-value(1.11e-16), Durbin-Watson(2.008)\n",
      "\n",
      "Weekly_Sales에 대하여 Temperature,Fuel_Price,CPI,Unemployment,Store_1,Store_2,Store_3,Store_4,Store_5,Store_6,Store_7,Store_8,Store_9,Store_10,Store_11,Store_12,Store_13,Store_14,Store_15,Store_16,Store_17,Store_18,Store_19,Store_20,Store_21,Store_22,Store_23,Store_24,Store_25,Store_26,Store_27,Store_28,Store_29,Store_30,Store_31,Store_32,Store_33,Store_34,Store_35,Store_36,Store_37,Store_38,Store_39,Store_40,Store_41,Store_42,Store_43,Store_44,Store_45,Holiday_Flag_0,Holiday_Flag_1,Date로 예측하는 회귀분석을 실시한 결과,\n",
      "이 회귀모형은 통계적으로 유의하다(F(52,1556) = 332.095, p <= 0.05).\n",
      "\n",
      "Temperature의 회귀계수는 -14775.149(p <= 0.05)로, Weekly_Sales에 대하여 유의미한 예측변인인 것으로 나타났다.\n",
      "Fuel_Price의 회귀계수는 -23178.453(p <= 0.05)로, Weekly_Sales에 대하여 유의미한 예측변인인 것으로 나타났다.\n",
      "CPI의 회귀계수는 -101317.804(p > 0.05)로, Weekly_Sales에 대하여 유의하지 않은 예측변인인 것으로 나타났다.\n",
      "Unemployment의 회귀계수는 -30103.151(p > 0.05)로, Weekly_Sales에 대하여 유의하지 않은 예측변인인 것으로 나타났다.\n",
      "Store_1의 회귀계수는 -28749681926914832.000(p <= 0.05)로, Weekly_Sales에 대하여 유의미한 예측변인인 것으로 나타났다.\n",
      "Store_2의 회귀계수는 -28749681926562644.000(p <= 0.05)로, Weekly_Sales에 대하여 유의미한 예측변인인 것으로 나타났다.\n",
      "Store_3의 회귀계수는 -28749681928058572.000(p <= 0.05)로, Weekly_Sales에 대하여 유의미한 예측변인인 것으로 나타났다.\n",
      "Store_4의 회귀계수는 -28749681926642036.000(p <= 0.05)로, Weekly_Sales에 대하여 유의미한 예측변인인 것으로 나타났다.\n",
      "Store_5의 회귀계수는 -28749681928171864.000(p <= 0.05)로, Weekly_Sales에 대하여 유의미한 예측변인인 것으로 나타났다.\n",
      "Store_6의 회귀계수는 -28749681926920840.000(p <= 0.05)로, Weekly_Sales에 대하여 유의미한 예측변인인 것으로 나타났다.\n",
      "Store_7의 회귀계수는 -28749681927947592.000(p <= 0.05)로, Weekly_Sales에 대하여 유의미한 예측변인인 것으로 나타났다.\n",
      "Store_8의 회귀계수는 -28749681927584208.000(p <= 0.05)로, Weekly_Sales에 대하여 유의미한 예측변인인 것으로 나타났다.\n",
      "Store_9의 회귀계수는 -28749681927941640.000(p <= 0.05)로, Weekly_Sales에 대하여 유의미한 예측변인인 것으로 나타났다.\n",
      "Store_10의 회귀계수는 -28749681926744188.000(p <= 0.05)로, Weekly_Sales에 대하여 유의미한 예측변인인 것으로 나타났다.\n",
      "Store_11의 회귀계수는 -28749681927109008.000(p <= 0.05)로, Weekly_Sales에 대하여 유의미한 예측변인인 것으로 나타났다.\n",
      "Store_12의 회귀계수는 -28749681927586516.000(p <= 0.05)로, Weekly_Sales에 대하여 유의미한 예측변인인 것으로 나타났다.\n",
      "Store_13의 회귀계수는 -28749681926685468.000(p <= 0.05)로, Weekly_Sales에 대하여 유의미한 예측변인인 것으로 나타났다.\n",
      "Store_14의 회귀계수는 -28749681926495628.000(p <= 0.05)로, Weekly_Sales에 대하여 유의미한 예측변인인 것으로 나타났다.\n",
      "Store_15의 회귀계수는 -28749681928044756.000(p <= 0.05)로, Weekly_Sales에 대하여 유의미한 예측변인인 것으로 나타났다.\n",
      "Store_16의 회귀계수는 -28749681928051176.000(p <= 0.05)로, Weekly_Sales에 대하여 유의미한 예측변인인 것으로 나타났다.\n",
      "Store_17의 회귀계수는 -28749681927833196.000(p <= 0.05)로, Weekly_Sales에 대하여 유의미한 예측변인인 것으로 나타났다.\n",
      "Store_18의 회귀계수는 -28749681927570312.000(p <= 0.05)로, Weekly_Sales에 대하여 유의미한 예측변인인 것으로 나타났다.\n",
      "Store_19의 회귀계수는 -28749681927221492.000(p <= 0.05)로, Weekly_Sales에 대하여 유의미한 예측변인인 것으로 나타났다.\n",
      "Store_20의 회귀계수는 -28749681926382684.000(p <= 0.05)로, Weekly_Sales에 대하여 유의미한 예측변인인 것으로 나타났다.\n",
      "Store_21의 회귀계수는 -28749681927708012.000(p <= 0.05)로, Weekly_Sales에 대하여 유의미한 예측변인인 것으로 나타났다.\n",
      "Store_22의 회귀계수는 -28749681927625848.000(p <= 0.05)로, Weekly_Sales에 대하여 유의미한 예측변인인 것으로 나타났다.\n",
      "Store_23의 회귀계수는 -28749681927355132.000(p <= 0.05)로, Weekly_Sales에 대하여 유의미한 예측변인인 것으로 나타났다.\n",
      "Store_24의 회귀계수는 -28749681927283408.000(p <= 0.05)로, Weekly_Sales에 대하여 유의미한 예측변인인 것으로 나타났다.\n",
      "Store_25의 회귀계수는 -28749681927779404.000(p <= 0.05)로, Weekly_Sales에 대하여 유의미한 예측변인인 것으로 나타났다.\n",
      "Store_26의 회귀계수는 -28749681927680864.000(p <= 0.05)로, Weekly_Sales에 대하여 유의미한 예측변인인 것으로 나타났다.\n",
      "Store_27의 회귀계수는 -28749681926867544.000(p <= 0.05)로, Weekly_Sales에 대하여 유의미한 예측변인인 것으로 나타났다.\n",
      "Store_28의 회귀계수는 -28749681927284204.000(p <= 0.05)로, Weekly_Sales에 대하여 유의미한 예측변인인 것으로 나타났다.\n",
      "Store_29의 회귀계수는 -28749681928093756.000(p <= 0.05)로, Weekly_Sales에 대하여 유의미한 예측변인인 것으로 나타났다.\n",
      "Store_30의 회귀계수는 -28749681928028352.000(p <= 0.05)로, Weekly_Sales에 대하여 유의미한 예측변인인 것으로 나타났다.\n",
      "Store_31의 회귀계수는 -28749681927072472.000(p <= 0.05)로, Weekly_Sales에 대하여 유의미한 예측변인인 것으로 나타났다.\n",
      "Store_32의 회귀계수는 -28749681927332712.000(p <= 0.05)로, Weekly_Sales에 대하여 유의미한 예측변인인 것으로 나타났다.\n",
      "Store_33의 회귀계수는 -28749681928390700.000(p <= 0.05)로, Weekly_Sales에 대하여 유의미한 예측변인인 것으로 나타났다.\n",
      "Store_34의 회귀계수는 -28749681927687128.000(p <= 0.05)로, Weekly_Sales에 대하여 유의미한 예측변인인 것으로 나타났다.\n",
      "Store_35의 회귀계수는 -28749681927712292.000(p <= 0.05)로, Weekly_Sales에 대하여 유의미한 예측변인인 것으로 나타났다.\n",
      "Store_36의 회귀계수는 -28749681928094008.000(p <= 0.05)로, Weekly_Sales에 대하여 유의미한 예측변인인 것으로 나타났다.\n",
      "Store_37의 회귀계수는 -28749681927944424.000(p <= 0.05)로, Weekly_Sales에 대하여 유의미한 예측변인인 것으로 나타났다.\n",
      "Store_38의 회귀계수는 -28749681928210520.000(p <= 0.05)로, Weekly_Sales에 대하여 유의미한 예측변인인 것으로 나타났다.\n",
      "Store_39의 회귀계수는 -28749681927007072.000(p <= 0.05)로, Weekly_Sales에 대하여 유의미한 예측변인인 것으로 나타났다.\n",
      "Store_40의 회귀계수는 -28749681927772068.000(p <= 0.05)로, Weekly_Sales에 대하여 유의미한 예측변인인 것으로 나타났다.\n",
      "Store_41의 회귀계수는 -28749681927293648.000(p <= 0.05)로, Weekly_Sales에 대하여 유의미한 예측변인인 것으로 나타났다.\n",
      "Store_42의 회귀계수는 -28749681928093676.000(p <= 0.05)로, Weekly_Sales에 대하여 유의미한 예측변인인 것으로 나타났다.\n",
      "Store_43의 회귀계수는 -28749681927807764.000(p <= 0.05)로, Weekly_Sales에 대하여 유의미한 예측변인인 것으로 나타났다.\n",
      "Store_44의 회귀계수는 -28749681928414324.000(p <= 0.05)로, Weekly_Sales에 대하여 유의미한 예측변인인 것으로 나타났다.\n",
      "Store_45의 회귀계수는 -28749681927739696.000(p <= 0.05)로, Weekly_Sales에 대하여 유의미한 예측변인인 것으로 나타났다.\n",
      "Holiday_Flag_0의 회귀계수는 -474956594127342528.000(p > 0.05)로, Weekly_Sales에 대하여 유의하지 않은 예측변인인 것으로 나타났다.\n",
      "Holiday_Flag_1의 회귀계수는 -474956594127270080.000(p > 0.05)로, Weekly_Sales에 대하여 유의하지 않은 예측변인인 것으로 나타났다.\n",
      "Date의 회귀계수는 910696.000(p > 0.05)로, Weekly_Sales에 대하여 유의하지 않은 예측변인인 것으로 나타났다.\n"
     ]
    },
    {
     "data": {
      "text/html": [
       "<style>#sk-container-id-3 {color: black;background-color: white;}#sk-container-id-3 pre{padding: 0;}#sk-container-id-3 div.sk-toggleable {background-color: white;}#sk-container-id-3 label.sk-toggleable__label {cursor: pointer;display: block;width: 100%;margin-bottom: 0;padding: 0.3em;box-sizing: border-box;text-align: center;}#sk-container-id-3 label.sk-toggleable__label-arrow:before {content: \"▸\";float: left;margin-right: 0.25em;color: #696969;}#sk-container-id-3 label.sk-toggleable__label-arrow:hover:before {color: black;}#sk-container-id-3 div.sk-estimator:hover label.sk-toggleable__label-arrow:before {color: black;}#sk-container-id-3 div.sk-toggleable__content {max-height: 0;max-width: 0;overflow: hidden;text-align: left;background-color: #f0f8ff;}#sk-container-id-3 div.sk-toggleable__content pre {margin: 0.2em;color: black;border-radius: 0.25em;background-color: #f0f8ff;}#sk-container-id-3 input.sk-toggleable__control:checked~div.sk-toggleable__content {max-height: 200px;max-width: 100%;overflow: auto;}#sk-container-id-3 input.sk-toggleable__control:checked~label.sk-toggleable__label-arrow:before {content: \"▾\";}#sk-container-id-3 div.sk-estimator input.sk-toggleable__control:checked~label.sk-toggleable__label {background-color: #d4ebff;}#sk-container-id-3 div.sk-label input.sk-toggleable__control:checked~label.sk-toggleable__label {background-color: #d4ebff;}#sk-container-id-3 input.sk-hidden--visually {border: 0;clip: rect(1px 1px 1px 1px);clip: rect(1px, 1px, 1px, 1px);height: 1px;margin: -1px;overflow: hidden;padding: 0;position: absolute;width: 1px;}#sk-container-id-3 div.sk-estimator {font-family: monospace;background-color: #f0f8ff;border: 1px dotted black;border-radius: 0.25em;box-sizing: border-box;margin-bottom: 0.5em;}#sk-container-id-3 div.sk-estimator:hover {background-color: #d4ebff;}#sk-container-id-3 div.sk-parallel-item::after {content: \"\";width: 100%;border-bottom: 1px solid gray;flex-grow: 1;}#sk-container-id-3 div.sk-label:hover label.sk-toggleable__label {background-color: #d4ebff;}#sk-container-id-3 div.sk-serial::before {content: \"\";position: absolute;border-left: 1px solid gray;box-sizing: border-box;top: 0;bottom: 0;left: 50%;z-index: 0;}#sk-container-id-3 div.sk-serial {display: flex;flex-direction: column;align-items: center;background-color: white;padding-right: 0.2em;padding-left: 0.2em;position: relative;}#sk-container-id-3 div.sk-item {position: relative;z-index: 1;}#sk-container-id-3 div.sk-parallel {display: flex;align-items: stretch;justify-content: center;background-color: white;position: relative;}#sk-container-id-3 div.sk-item::before, #sk-container-id-3 div.sk-parallel-item::before {content: \"\";position: absolute;border-left: 1px solid gray;box-sizing: border-box;top: 0;bottom: 0;left: 50%;z-index: -1;}#sk-container-id-3 div.sk-parallel-item {display: flex;flex-direction: column;z-index: 1;position: relative;background-color: white;}#sk-container-id-3 div.sk-parallel-item:first-child::after {align-self: flex-end;width: 50%;}#sk-container-id-3 div.sk-parallel-item:last-child::after {align-self: flex-start;width: 50%;}#sk-container-id-3 div.sk-parallel-item:only-child::after {width: 0;}#sk-container-id-3 div.sk-dashed-wrapped {border: 1px dashed gray;margin: 0 0.4em 0.5em 0.4em;box-sizing: border-box;padding-bottom: 0.4em;background-color: white;}#sk-container-id-3 div.sk-label label {font-family: monospace;font-weight: bold;display: inline-block;line-height: 1.2em;}#sk-container-id-3 div.sk-label-container {text-align: center;}#sk-container-id-3 div.sk-container {/* jupyter's `normalize.less` sets `[hidden] { display: none; }` but bootstrap.min.css set `[hidden] { display: none !important; }` so we also need the `!important` here to be able to override the default hidden behavior on the sphinx rendered scikit-learn.org. See: https://github.com/scikit-learn/scikit-learn/issues/21755 */display: inline-block !important;position: relative;}#sk-container-id-3 div.sk-text-repr-fallback {display: none;}</style><div id=\"sk-container-id-3\" class=\"sk-top-container\"><div class=\"sk-text-repr-fallback\"><pre>LinearRegression(n_jobs=-1)</pre><b>In a Jupyter environment, please rerun this cell to show the HTML representation or trust the notebook. <br />On GitHub, the HTML representation is unable to render, please try loading this page with nbviewer.org.</b></div><div class=\"sk-container\" hidden><div class=\"sk-item\"><div class=\"sk-estimator sk-toggleable\"><input class=\"sk-toggleable__control sk-hidden--visually\" id=\"sk-estimator-id-3\" type=\"checkbox\" checked><label for=\"sk-estimator-id-3\" class=\"sk-toggleable__label sk-toggleable__label-arrow\">LinearRegression</label><div class=\"sk-toggleable__content\"><pre>LinearRegression(n_jobs=-1)</pre></div></div></div></div></div>"
      ],
      "text/plain": [
       "LinearRegression(n_jobs=-1)"
      ]
     },
     "execution_count": 35,
     "metadata": {},
     "output_type": "execute_result"
    }
   ],
   "source": [
    "fit = my_linear_regression(x_train, y_train, x_test, y_test, degree = 1, cv = 5, use_plot = False, figsize = (10, 5),\n",
    "                           report = True)\n",
    "fit"
   ]
  },
  {
   "cell_type": "code",
   "execution_count": 36,
   "metadata": {},
   "outputs": [],
   "source": [
    "train_sizes, train_scores, test_scores = learning_curve(fit, X_p, Y, cv = 10, n_jobs = -1,\n",
    "                                                        train_sizes = np.linspace(0.01, 1, 10),\n",
    "                                                        scoring = 'neg_root_mean_squared_error')"
   ]
  },
  {
   "cell_type": "code",
   "execution_count": 37,
   "metadata": {},
   "outputs": [
    {
     "name": "stdout",
     "output_type": "stream",
     "text": [
      "[  57  694 1331 1968 2605 3242 3879 4516 5153 5791]\n",
      "[[ -30363.86382999 -160146.96232423 -160146.96232423 -160146.96232423\n",
      "  -160146.96232423 -160146.96232423 -160146.96232423 -160146.96232423\n",
      "  -160146.96232423 -160146.96232423]\n",
      " [-151249.05587971 -189229.86926289 -166081.22067032 -166081.22067032\n",
      "  -166081.22067032 -166081.22067032 -166081.22067032 -166081.22067032\n",
      "  -166081.22067032 -166081.22067032]\n",
      " [-189640.68264146 -206915.32191036 -157479.55290289 -152770.26588237\n",
      "  -152770.26588237 -152770.26588237 -152770.26588237 -152770.26588237\n",
      "  -152770.26588237 -152770.26588237]\n",
      " [-176344.55604278 -189128.42983816 -151458.38947875 -180526.61156346\n",
      "  -185085.47212435 -185085.47212435 -185085.47212435 -185085.47212435\n",
      "  -185085.47212435 -185085.47212435]\n",
      " [-186030.52039232 -195413.99154669 -168806.4228841  -189246.54504299\n",
      "  -179063.20901214 -176251.66165913 -176251.66165913 -176251.66165913\n",
      "  -176251.66165913 -176251.66165913]\n",
      " [-181767.95526474 -189802.70035905 -167673.21546999 -184892.93433572\n",
      "  -176394.15144711 -181953.29295736 -182126.19569064 -182126.19569064\n",
      "  -182126.19569064 -182126.19569064]\n",
      " [-172984.94355972 -180120.75493875 -160759.75215345 -175751.72413266\n",
      "  -168312.98446785 -173144.52518471 -180827.63120127 -181064.79686562\n",
      "  -181064.79686562 -181064.79686562]\n",
      " [-166768.86306892 -173326.21872675 -156169.2365727  -169516.70378486\n",
      "  -162829.96953048 -167214.03731843 -173948.40386631 -173642.90718367\n",
      "  -173680.64053645 -173680.64053645]\n",
      " [-163247.98777085 -169131.72494214 -153562.29596128 -165567.2468678\n",
      "  -159635.84698158 -163633.34485836 -169612.6222316  -169271.1616547\n",
      "  -168369.39212353 -168368.34349008]\n",
      " [-157234.89299643 -162671.65224198 -148210.85145523 -159352.14839584\n",
      "  -153866.97654809 -157604.94101821 -163130.07773554 -162789.66075883\n",
      "  -161682.62500869 -164968.05350065]]\n",
      "[[-3.25842984e+06 -1.19292563e+06 -3.58771371e+06 -3.51190569e+06\n",
      "  -2.65545156e+06 -3.14637814e+06 -3.79199499e+06 -4.21262070e+06\n",
      "  -3.39453147e+06 -3.53031783e+06]\n",
      " [-8.32324507e+05 -5.23762466e+05 -6.59122043e+05 -1.19675778e+06\n",
      "  -8.40444088e+05 -7.88730009e+05 -8.85710299e+05 -1.22966135e+06\n",
      "  -1.06422444e+06 -1.25656173e+06]\n",
      " [-6.83121346e+05 -6.32379888e+05 -6.21418730e+05 -9.89031451e+05\n",
      "  -7.24790097e+05 -5.90294677e+05 -7.55188754e+05 -1.04268523e+06\n",
      "  -9.09197192e+05 -1.07232566e+06]\n",
      " [-7.25127656e+05 -4.54181984e+05 -4.52802551e+05 -7.15214111e+05\n",
      "  -5.57939219e+05 -4.37651681e+05 -6.04560822e+05 -8.07150003e+05\n",
      "  -6.95157143e+05 -8.40432203e+05]\n",
      " [-4.08663002e+16 -6.12686565e+16 -4.40425673e+16 -3.94255734e+16\n",
      "  -5.66578515e+05 -3.72080320e+05 -5.03836145e+05 -6.56284869e+05\n",
      "  -5.85844306e+05 -7.02355709e+05]\n",
      " [-5.44144135e+16 -1.26493569e+17 -4.11877372e+16 -5.40632694e+14\n",
      "  -5.43713693e+05 -1.00406254e+17 -5.13396702e+05 -6.74513199e+05\n",
      "  -5.98691346e+05 -7.17769546e+05]\n",
      " [-1.43505353e+16 -3.51586933e+16 -1.22573715e+17 -4.04453863e+16\n",
      "  -1.01900061e+17 -6.76817375e+16 -6.47842709e+15 -2.99617289e+16\n",
      "  -2.99617289e+16 -2.99617289e+16]\n",
      " [-1.52920363e+16 -4.61218868e+16 -6.47135037e+16 -1.37426392e+17\n",
      "  -1.73861754e+16 -3.87448870e+05 -4.79509049e+05 -3.08347620e+16\n",
      "  -1.14321898e+16 -1.14321898e+16]\n",
      " [-3.09436771e+15 -5.21114851e+16 -1.59075301e+17 -3.82408237e+16\n",
      "  -5.57036092e+05 -4.54673209e+16 -1.87806549e+16 -2.21412295e+16\n",
      "  -1.79024528e+16 -3.16513415e+15]\n",
      " [-1.81084772e+16 -8.88878574e+15 -2.34290114e+16 -2.36366559e+15\n",
      "  -1.37629394e+16 -7.08023851e+16 -3.63037007e+17 -2.03072374e+16\n",
      "  -8.75207065e+15 -2.42690815e+16]]\n"
     ]
    }
   ],
   "source": [
    "print(train_sizes)\n",
    "print(train_scores)\n",
    "print(test_scores)"
   ]
  },
  {
   "cell_type": "code",
   "execution_count": 38,
   "metadata": {},
   "outputs": [
    {
     "data": {
      "image/png": "[encoded data removed]",
      "text/plain": [
       "<Figure size 1000x500 with 1 Axes>"
      ]
     },
     "metadata": {},
     "output_type": "display_data"
    }
   ],
   "source": [
    "train_mean = -np.mean(train_scores, axis=1)\n",
    "train_std = -np.std(train_scores, axis=1)\n",
    "test_mean = -np.mean(test_scores, axis=1) \n",
    "test_std = -np.std(test_scores, axis=1)\n",
    "\n",
    "plt.figure(figsize=(10, 5), dpi=100)\n",
    "\n",
    "# 훈련 데이터 수에 따른 훈련 데이터의 score 평균\n",
    "sb.lineplot(x=train_sizes, y=train_mean,  marker='o', markersize=5, label='훈련데이터', color='#ff2200')\n",
    "plt.fill_between(train_sizes, train_mean + train_std, train_mean - train_std, alpha=0.15, color='#ff2200')\n",
    "\n",
    "# 검증 데이터 수에 따른 검증 데이터의 score 평균\n",
    "sb.lineplot(x=train_sizes, y=test_mean, linestyle='--', marker='s', markersize=5, label='검증데이터', color='#0066ff')\n",
    "plt.fill_between(train_sizes, test_mean + test_std, test_mean - test_std, alpha=0.15, color='#0066ff')\n",
    "\n",
    "plt.grid()\n",
    "plt.xlabel('훈련 셋트 크기')\n",
    "plt.ylabel('RMSE')\n",
    "plt.legend()\n",
    "plt.tight_layout()\n",
    "plt.show()\n",
    "plt.close()"
   ]
  },
  {
   "cell_type": "code",
   "execution_count": null,
   "metadata": {},
   "outputs": [],
   "source": []
  },
  {
   "cell_type": "code",
   "execution_count": null,
   "metadata": {},
   "outputs": [],
   "source": []
  },
  {
   "cell_type": "code",
   "execution_count": null,
   "metadata": {},
   "outputs": [],
   "source": []
  },
  {
   "cell_type": "code",
   "execution_count": null,
   "metadata": {},
   "outputs": [],
   "source": []
  }
 ],
 "metadata": {
  "kernelspec": {
   "display_name": "Python 3 (ipykernel)",
   "language": "python",
   "name": "python3"
  },
  "language_info": {
   "codemirror_mode": {
    "name": "ipython",
    "version": 3
   },
   "file_extension": ".py",
   "mimetype": "text/x-python",
   "name": "python",
   "nbconvert_exporter": "python",
   "pygments_lexer": "ipython3",
   "version": "3.11.5"
  }
 },
 "nbformat": 4,
 "nbformat_minor": 2
}
