{
 "cells": [
  {
   "cell_type": "code",
   "execution_count": 1,
   "id": "d63ec6bf",
   "metadata": {},
   "outputs": [
    {
     "data": {
      "text/plain": [
       "'Y:\\\\Python\\\\Mega_IT\\\\E.Inferential_statistics\\\\4.Linear_Regression\\\\3.Regularization'"
      ]
     },
     "execution_count": 1,
     "metadata": {},
     "output_type": "execute_result"
    }
   ],
   "source": [
    "import os\n",
    "os.chdir(\"Y:\\Python\\Mega_IT\\E.Inferential_statistics/4.Linear_Regression/3.Regularization\")\n",
    "os.getcwd()"
   ]
  },
  {
   "cell_type": "code",
   "execution_count": 2,
   "id": "2e31a990",
   "metadata": {},
   "outputs": [],
   "source": [
    "import sys\n",
    "import os\n",
    "work_path = os.path.abspath(os.path.join(os.getcwd(), \"../../..\"))\n",
    "sys.path.append(work_path)\n",
    "\n",
    "from my_helper.regression import *\n",
    "from my_helper.util import *\n",
    "from my_helper.plot import *\n",
    "from my_helper.analysis import *\n",
    "from yjk_module.preprocessing import *\n",
    "from yjk_module.ml_module import *\n",
    "\n",
    "import pandas as pd\n",
    "import numpy as np\n",
    "import matplotlib.pyplot as plt\n",
    "import seaborn as sb\n",
    "\n",
    "from sklearn.preprocessing import PolynomialFeatures\n",
    "from sklearn.model_selection import train_test_split, learning_curve\n",
    "from sklearn.linear_model import LinearRegression, Ridge, Lasso\n",
    "from sklearn.metrics import r2_score, mean_squared_error, mean_absolute_error"
   ]
  },
  {
   "cell_type": "code",
   "execution_count": 3,
   "id": "ad1424ae",
   "metadata": {},
   "outputs": [],
   "source": [
    "df = pd.read_csv(\"./data/Walmart_sales.csv\")"
   ]
  },
  {
   "cell_type": "code",
   "execution_count": 4,
   "id": "3b2e1199",
   "metadata": {},
   "outputs": [
    {
     "data": {
      "text/html": [
       "<div>\n",
       "<style scoped>\n",
       "    .dataframe tbody tr th:only-of-type {\n",
       "        vertical-align: middle;\n",
       "    }\n",
       "\n",
       "    .dataframe tbody tr th {\n",
       "        vertical-align: top;\n",
       "    }\n",
       "\n",
       "    .dataframe thead th {\n",
       "        text-align: right;\n",
       "    }\n",
       "</style>\n",
       "<table border=\"1\" class=\"dataframe\">\n",
       "  <thead>\n",
       "    <tr style=\"text-align: right;\">\n",
       "      <th></th>\n",
       "      <th>Store</th>\n",
       "      <th>Date</th>\n",
       "      <th>Weekly_Sales</th>\n",
       "      <th>Holiday_Flag</th>\n",
       "      <th>Temperature</th>\n",
       "      <th>Fuel_Price</th>\n",
       "      <th>CPI</th>\n",
       "      <th>Unemployment</th>\n",
       "    </tr>\n",
       "  </thead>\n",
       "  <tbody>\n",
       "    <tr>\n",
       "      <th>0</th>\n",
       "      <td>1</td>\n",
       "      <td>05-02-2010</td>\n",
       "      <td>1643690.90</td>\n",
       "      <td>0</td>\n",
       "      <td>42.31</td>\n",
       "      <td>2.572</td>\n",
       "      <td>211.096358</td>\n",
       "      <td>8.106</td>\n",
       "    </tr>\n",
       "    <tr>\n",
       "      <th>1</th>\n",
       "      <td>1</td>\n",
       "      <td>12-02-2010</td>\n",
       "      <td>1641957.44</td>\n",
       "      <td>1</td>\n",
       "      <td>38.51</td>\n",
       "      <td>2.548</td>\n",
       "      <td>211.242170</td>\n",
       "      <td>8.106</td>\n",
       "    </tr>\n",
       "    <tr>\n",
       "      <th>2</th>\n",
       "      <td>1</td>\n",
       "      <td>19-02-2010</td>\n",
       "      <td>1611968.17</td>\n",
       "      <td>0</td>\n",
       "      <td>39.93</td>\n",
       "      <td>2.514</td>\n",
       "      <td>211.289143</td>\n",
       "      <td>8.106</td>\n",
       "    </tr>\n",
       "    <tr>\n",
       "      <th>3</th>\n",
       "      <td>1</td>\n",
       "      <td>26-02-2010</td>\n",
       "      <td>1409727.59</td>\n",
       "      <td>0</td>\n",
       "      <td>46.63</td>\n",
       "      <td>2.561</td>\n",
       "      <td>211.319643</td>\n",
       "      <td>8.106</td>\n",
       "    </tr>\n",
       "    <tr>\n",
       "      <th>4</th>\n",
       "      <td>1</td>\n",
       "      <td>05-03-2010</td>\n",
       "      <td>1554806.68</td>\n",
       "      <td>0</td>\n",
       "      <td>46.50</td>\n",
       "      <td>2.625</td>\n",
       "      <td>211.350143</td>\n",
       "      <td>8.106</td>\n",
       "    </tr>\n",
       "  </tbody>\n",
       "</table>\n",
       "</div>"
      ],
      "text/plain": [
       "   Store        Date  Weekly_Sales  Holiday_Flag  Temperature  Fuel_Price  \\\n",
       "0      1  05-02-2010    1643690.90             0        42.31       2.572   \n",
       "1      1  12-02-2010    1641957.44             1        38.51       2.548   \n",
       "2      1  19-02-2010    1611968.17             0        39.93       2.514   \n",
       "3      1  26-02-2010    1409727.59             0        46.63       2.561   \n",
       "4      1  05-03-2010    1554806.68             0        46.50       2.625   \n",
       "\n",
       "          CPI  Unemployment  \n",
       "0  211.096358         8.106  \n",
       "1  211.242170         8.106  \n",
       "2  211.289143         8.106  \n",
       "3  211.319643         8.106  \n",
       "4  211.350143         8.106  "
      ]
     },
     "execution_count": 4,
     "metadata": {},
     "output_type": "execute_result"
    }
   ],
   "source": [
    "df.head()"
   ]
  },
  {
   "cell_type": "code",
   "execution_count": 5,
   "id": "4c1c7038",
   "metadata": {},
   "outputs": [],
   "source": [
    "df.drop('Date', axis = 1, inplace = True)"
   ]
  },
  {
   "cell_type": "code",
   "execution_count": 6,
   "id": "d0736170",
   "metadata": {},
   "outputs": [],
   "source": [
    "df['Store'] = df['Store'].astype('category')"
   ]
  },
  {
   "cell_type": "code",
   "execution_count": 7,
   "id": "1b5c6d9c",
   "metadata": {},
   "outputs": [],
   "source": [
    "X = df.copy()\n",
    "Y = X.pop('Weekly_Sales')"
   ]
  },
  {
   "cell_type": "code",
   "execution_count": 8,
   "id": "1d4af15a",
   "metadata": {},
   "outputs": [
    {
     "name": "stdout",
     "output_type": "stream",
     "text": [
      "아래와 같이 처리합니다.\n",
      "+-------------+----------------+\n",
      "| 범주        | 처리방법       |\n",
      "|-------------+----------------|\n",
      "| 이상치 처리 | 처리하지 않음  |\n",
      "| 결측치 처리 | 중앙값 대체    |\n",
      "| 스케일러    | StandardScaler |\n",
      "| 인코딩      | 원핫인코딩     |\n",
      "+-------------+----------------+\n"
     ]
    }
   ],
   "source": [
    "pp = YjkPreprocessor()\n",
    "pp.set_strategy(outline = None)"
   ]
  },
  {
   "cell_type": "code",
   "execution_count": 9,
   "id": "3ecbea20",
   "metadata": {},
   "outputs": [
    {
     "name": "stdout",
     "output_type": "stream",
     "text": [
      "데이터프레임 크기 : (6435, 6)\n",
      "데이터프레임에 결측치는 없습니다.\n",
      "연속형 데이터 컬럼 : ['Holiday_Flag', 'Temperature', 'Fuel_Price', 'CPI', 'Unemployment'], 총 5개\n",
      "명목형 데이터 컬럼 : ['Store'], 총 1개\n"
     ]
    }
   ],
   "source": [
    "X_p = pp.fit_transform(X)"
   ]
  },
  {
   "cell_type": "code",
   "execution_count": 10,
   "id": "e0992536",
   "metadata": {},
   "outputs": [
    {
     "data": {
      "text/html": [
       "<div>\n",
       "<style scoped>\n",
       "    .dataframe tbody tr th:only-of-type {\n",
       "        vertical-align: middle;\n",
       "    }\n",
       "\n",
       "    .dataframe tbody tr th {\n",
       "        vertical-align: top;\n",
       "    }\n",
       "\n",
       "    .dataframe thead th {\n",
       "        text-align: right;\n",
       "    }\n",
       "</style>\n",
       "<table border=\"1\" class=\"dataframe\">\n",
       "  <thead>\n",
       "    <tr style=\"text-align: right;\">\n",
       "      <th></th>\n",
       "      <th>Holiday_Flag</th>\n",
       "      <th>Temperature</th>\n",
       "      <th>Fuel_Price</th>\n",
       "      <th>CPI</th>\n",
       "      <th>Unemployment</th>\n",
       "      <th>Store_1</th>\n",
       "      <th>Store_2</th>\n",
       "      <th>Store_3</th>\n",
       "      <th>Store_4</th>\n",
       "      <th>Store_5</th>\n",
       "      <th>...</th>\n",
       "      <th>Store_36</th>\n",
       "      <th>Store_37</th>\n",
       "      <th>Store_38</th>\n",
       "      <th>Store_39</th>\n",
       "      <th>Store_40</th>\n",
       "      <th>Store_41</th>\n",
       "      <th>Store_42</th>\n",
       "      <th>Store_43</th>\n",
       "      <th>Store_44</th>\n",
       "      <th>Store_45</th>\n",
       "    </tr>\n",
       "  </thead>\n",
       "  <tbody>\n",
       "    <tr>\n",
       "      <th>0</th>\n",
       "      <td>-0.274204</td>\n",
       "      <td>-0.995136</td>\n",
       "      <td>-1.713800</td>\n",
       "      <td>1.004175</td>\n",
       "      <td>0.056964</td>\n",
       "      <td>1.0</td>\n",
       "      <td>0.0</td>\n",
       "      <td>0.0</td>\n",
       "      <td>0.0</td>\n",
       "      <td>0.0</td>\n",
       "      <td>...</td>\n",
       "      <td>0.0</td>\n",
       "      <td>0.0</td>\n",
       "      <td>0.0</td>\n",
       "      <td>0.0</td>\n",
       "      <td>0.0</td>\n",
       "      <td>0.0</td>\n",
       "      <td>0.0</td>\n",
       "      <td>0.0</td>\n",
       "      <td>0.0</td>\n",
       "      <td>0.0</td>\n",
       "    </tr>\n",
       "    <tr>\n",
       "      <th>1</th>\n",
       "      <td>3.646917</td>\n",
       "      <td>-1.201170</td>\n",
       "      <td>-1.766089</td>\n",
       "      <td>1.007880</td>\n",
       "      <td>0.056964</td>\n",
       "      <td>1.0</td>\n",
       "      <td>0.0</td>\n",
       "      <td>0.0</td>\n",
       "      <td>0.0</td>\n",
       "      <td>0.0</td>\n",
       "      <td>...</td>\n",
       "      <td>0.0</td>\n",
       "      <td>0.0</td>\n",
       "      <td>0.0</td>\n",
       "      <td>0.0</td>\n",
       "      <td>0.0</td>\n",
       "      <td>0.0</td>\n",
       "      <td>0.0</td>\n",
       "      <td>0.0</td>\n",
       "      <td>0.0</td>\n",
       "      <td>0.0</td>\n",
       "    </tr>\n",
       "    <tr>\n",
       "      <th>2</th>\n",
       "      <td>-0.274204</td>\n",
       "      <td>-1.124178</td>\n",
       "      <td>-1.840166</td>\n",
       "      <td>1.009074</td>\n",
       "      <td>0.056964</td>\n",
       "      <td>1.0</td>\n",
       "      <td>0.0</td>\n",
       "      <td>0.0</td>\n",
       "      <td>0.0</td>\n",
       "      <td>0.0</td>\n",
       "      <td>...</td>\n",
       "      <td>0.0</td>\n",
       "      <td>0.0</td>\n",
       "      <td>0.0</td>\n",
       "      <td>0.0</td>\n",
       "      <td>0.0</td>\n",
       "      <td>0.0</td>\n",
       "      <td>0.0</td>\n",
       "      <td>0.0</td>\n",
       "      <td>0.0</td>\n",
       "      <td>0.0</td>\n",
       "    </tr>\n",
       "    <tr>\n",
       "      <th>3</th>\n",
       "      <td>-0.274204</td>\n",
       "      <td>-0.760907</td>\n",
       "      <td>-1.737766</td>\n",
       "      <td>1.009849</td>\n",
       "      <td>0.056964</td>\n",
       "      <td>1.0</td>\n",
       "      <td>0.0</td>\n",
       "      <td>0.0</td>\n",
       "      <td>0.0</td>\n",
       "      <td>0.0</td>\n",
       "      <td>...</td>\n",
       "      <td>0.0</td>\n",
       "      <td>0.0</td>\n",
       "      <td>0.0</td>\n",
       "      <td>0.0</td>\n",
       "      <td>0.0</td>\n",
       "      <td>0.0</td>\n",
       "      <td>0.0</td>\n",
       "      <td>0.0</td>\n",
       "      <td>0.0</td>\n",
       "      <td>0.0</td>\n",
       "    </tr>\n",
       "    <tr>\n",
       "      <th>4</th>\n",
       "      <td>-0.274204</td>\n",
       "      <td>-0.767955</td>\n",
       "      <td>-1.598328</td>\n",
       "      <td>1.010624</td>\n",
       "      <td>0.056964</td>\n",
       "      <td>1.0</td>\n",
       "      <td>0.0</td>\n",
       "      <td>0.0</td>\n",
       "      <td>0.0</td>\n",
       "      <td>0.0</td>\n",
       "      <td>...</td>\n",
       "      <td>0.0</td>\n",
       "      <td>0.0</td>\n",
       "      <td>0.0</td>\n",
       "      <td>0.0</td>\n",
       "      <td>0.0</td>\n",
       "      <td>0.0</td>\n",
       "      <td>0.0</td>\n",
       "      <td>0.0</td>\n",
       "      <td>0.0</td>\n",
       "      <td>0.0</td>\n",
       "    </tr>\n",
       "  </tbody>\n",
       "</table>\n",
       "<p>5 rows × 50 columns</p>\n",
       "</div>"
      ],
      "text/plain": [
       "   Holiday_Flag  Temperature  Fuel_Price       CPI  Unemployment  Store_1  \\\n",
       "0     -0.274204    -0.995136   -1.713800  1.004175      0.056964      1.0   \n",
       "1      3.646917    -1.201170   -1.766089  1.007880      0.056964      1.0   \n",
       "2     -0.274204    -1.124178   -1.840166  1.009074      0.056964      1.0   \n",
       "3     -0.274204    -0.760907   -1.737766  1.009849      0.056964      1.0   \n",
       "4     -0.274204    -0.767955   -1.598328  1.010624      0.056964      1.0   \n",
       "\n",
       "   Store_2  Store_3  Store_4  Store_5  ...  Store_36  Store_37  Store_38  \\\n",
       "0      0.0      0.0      0.0      0.0  ...       0.0       0.0       0.0   \n",
       "1      0.0      0.0      0.0      0.0  ...       0.0       0.0       0.0   \n",
       "2      0.0      0.0      0.0      0.0  ...       0.0       0.0       0.0   \n",
       "3      0.0      0.0      0.0      0.0  ...       0.0       0.0       0.0   \n",
       "4      0.0      0.0      0.0      0.0  ...       0.0       0.0       0.0   \n",
       "\n",
       "   Store_39  Store_40  Store_41  Store_42  Store_43  Store_44  Store_45  \n",
       "0       0.0       0.0       0.0       0.0       0.0       0.0       0.0  \n",
       "1       0.0       0.0       0.0       0.0       0.0       0.0       0.0  \n",
       "2       0.0       0.0       0.0       0.0       0.0       0.0       0.0  \n",
       "3       0.0       0.0       0.0       0.0       0.0       0.0       0.0  \n",
       "4       0.0       0.0       0.0       0.0       0.0       0.0       0.0  \n",
       "\n",
       "[5 rows x 50 columns]"
      ]
     },
     "execution_count": 10,
     "metadata": {},
     "output_type": "execute_result"
    }
   ],
   "source": [
    "X_p.head()"
   ]
  },
  {
   "cell_type": "code",
   "execution_count": 11,
   "id": "88038537",
   "metadata": {},
   "outputs": [],
   "source": [
    "x_train, x_test, y_train, y_test = train_test_split(X_p, Y, test_size = 0.25, random_state = 0)"
   ]
  },
  {
   "cell_type": "code",
   "execution_count": 12,
   "id": "b51a0e06",
   "metadata": {},
   "outputs": [],
   "source": [
    "li_alpha = range(-4, 5)\n",
    "result_df = pd.DataFrame()\n",
    "\n",
    "for i, v in enumerate(li_alpha):\n",
    "    model = Ridge(alpha = 10 ** v)\n",
    "    model.fit(x_train, y_train)\n",
    "    result_df.loc[i, 'alpha'] = v\n",
    "    result_df.loc[i, 'R2_score_train'] = model.score(x_train, y_train)\n",
    "    result_df.loc[i, 'R2_score_test'] = model.score(x_test, y_test)"
   ]
  },
  {
   "cell_type": "code",
   "execution_count": 13,
   "id": "8f5bbb6b",
   "metadata": {},
   "outputs": [
    {
     "data": {
      "text/html": [
       "<div>\n",
       "<style scoped>\n",
       "    .dataframe tbody tr th:only-of-type {\n",
       "        vertical-align: middle;\n",
       "    }\n",
       "\n",
       "    .dataframe tbody tr th {\n",
       "        vertical-align: top;\n",
       "    }\n",
       "\n",
       "    .dataframe thead th {\n",
       "        text-align: right;\n",
       "    }\n",
       "</style>\n",
       "<table border=\"1\" class=\"dataframe\">\n",
       "  <thead>\n",
       "    <tr style=\"text-align: right;\">\n",
       "      <th></th>\n",
       "      <th>alpha</th>\n",
       "      <th>R2_score_train</th>\n",
       "      <th>R2_score_test</th>\n",
       "    </tr>\n",
       "  </thead>\n",
       "  <tbody>\n",
       "    <tr>\n",
       "      <th>0</th>\n",
       "      <td>-4.0</td>\n",
       "      <td>0.920815</td>\n",
       "      <td>0.917210</td>\n",
       "    </tr>\n",
       "    <tr>\n",
       "      <th>1</th>\n",
       "      <td>-3.0</td>\n",
       "      <td>0.920815</td>\n",
       "      <td>0.917209</td>\n",
       "    </tr>\n",
       "    <tr>\n",
       "      <th>2</th>\n",
       "      <td>-2.0</td>\n",
       "      <td>0.920815</td>\n",
       "      <td>0.917199</td>\n",
       "    </tr>\n",
       "    <tr>\n",
       "      <th>3</th>\n",
       "      <td>-1.0</td>\n",
       "      <td>0.920803</td>\n",
       "      <td>0.917121</td>\n",
       "    </tr>\n",
       "    <tr>\n",
       "      <th>4</th>\n",
       "      <td>0.0</td>\n",
       "      <td>0.920643</td>\n",
       "      <td>0.916824</td>\n",
       "    </tr>\n",
       "    <tr>\n",
       "      <th>5</th>\n",
       "      <td>1.0</td>\n",
       "      <td>0.914117</td>\n",
       "      <td>0.910330</td>\n",
       "    </tr>\n",
       "    <tr>\n",
       "      <th>6</th>\n",
       "      <td>2.0</td>\n",
       "      <td>0.711644</td>\n",
       "      <td>0.709718</td>\n",
       "    </tr>\n",
       "    <tr>\n",
       "      <th>7</th>\n",
       "      <td>3.0</td>\n",
       "      <td>0.187026</td>\n",
       "      <td>0.192470</td>\n",
       "    </tr>\n",
       "    <tr>\n",
       "      <th>8</th>\n",
       "      <td>4.0</td>\n",
       "      <td>0.029895</td>\n",
       "      <td>0.032669</td>\n",
       "    </tr>\n",
       "  </tbody>\n",
       "</table>\n",
       "</div>"
      ],
      "text/plain": [
       "   alpha  R2_score_train  R2_score_test\n",
       "0   -4.0        0.920815       0.917210\n",
       "1   -3.0        0.920815       0.917209\n",
       "2   -2.0        0.920815       0.917199\n",
       "3   -1.0        0.920803       0.917121\n",
       "4    0.0        0.920643       0.916824\n",
       "5    1.0        0.914117       0.910330\n",
       "6    2.0        0.711644       0.709718\n",
       "7    3.0        0.187026       0.192470\n",
       "8    4.0        0.029895       0.032669"
      ]
     },
     "execution_count": 13,
     "metadata": {},
     "output_type": "execute_result"
    }
   ],
   "source": [
    "result_df"
   ]
  },
  {
   "cell_type": "code",
   "execution_count": 14,
   "id": "c90c09b9",
   "metadata": {},
   "outputs": [
    {
     "data": {
      "image/png": "[encoded data removed]",
      "text/plain": [
       "<Figure size 800x600 with 1 Axes>"
      ]
     },
     "metadata": {},
     "output_type": "display_data"
    }
   ],
   "source": [
    "plt.figure()\n",
    "plt.plot(result_df['alpha'], result_df['R2_score_train'], label = 'train')\n",
    "plt.plot(result_df['alpha'], result_df['R2_score_test'], label = 'test')\n",
    "plt.xticks(result_df['alpha'], 10 ** result_df['alpha'])\n",
    "plt.grid()\n",
    "plt.legend()\n",
    "plt.show()"
   ]
  },
  {
   "cell_type": "code",
   "execution_count": 15,
   "id": "d59d10a0",
   "metadata": {},
   "outputs": [],
   "source": [
    "df2 = pd.read_csv(\"./data/Used_Car_Dataset.csv\", index_col = 0)"
   ]
  },
  {
   "cell_type": "code",
   "execution_count": 16,
   "id": "58f6d0d9",
   "metadata": {},
   "outputs": [
    {
     "data": {
      "text/html": [
       "<div>\n",
       "<style scoped>\n",
       "    .dataframe tbody tr th:only-of-type {\n",
       "        vertical-align: middle;\n",
       "    }\n",
       "\n",
       "    .dataframe tbody tr th {\n",
       "        vertical-align: top;\n",
       "    }\n",
       "\n",
       "    .dataframe thead th {\n",
       "        text-align: right;\n",
       "    }\n",
       "</style>\n",
       "<table border=\"1\" class=\"dataframe\">\n",
       "  <thead>\n",
       "    <tr style=\"text-align: right;\">\n",
       "      <th></th>\n",
       "      <th>car_name</th>\n",
       "      <th>registration_year</th>\n",
       "      <th>insurance_validity</th>\n",
       "      <th>fuel_type</th>\n",
       "      <th>seats</th>\n",
       "      <th>kms_driven</th>\n",
       "      <th>ownsership</th>\n",
       "      <th>transmission</th>\n",
       "      <th>manufacturing_year</th>\n",
       "      <th>mileage(kmpl)</th>\n",
       "      <th>engine(cc)</th>\n",
       "      <th>max_power(bhp)</th>\n",
       "      <th>torque(Nm)</th>\n",
       "      <th>price(in lakhs)</th>\n",
       "    </tr>\n",
       "  </thead>\n",
       "  <tbody>\n",
       "    <tr>\n",
       "      <th>0</th>\n",
       "      <td>2017 Mercedes-Benz S-Class S400</td>\n",
       "      <td>Jul-17</td>\n",
       "      <td>Comprehensive</td>\n",
       "      <td>Petrol</td>\n",
       "      <td>5</td>\n",
       "      <td>56000</td>\n",
       "      <td>First Owner</td>\n",
       "      <td>Automatic</td>\n",
       "      <td>2017</td>\n",
       "      <td>7.81</td>\n",
       "      <td>2996.0</td>\n",
       "      <td>2996.0</td>\n",
       "      <td>333.0</td>\n",
       "      <td>63.75</td>\n",
       "    </tr>\n",
       "    <tr>\n",
       "      <th>1</th>\n",
       "      <td>2020 Nissan Magnite Turbo CVT XV Premium Opt BSVI</td>\n",
       "      <td>Jan-21</td>\n",
       "      <td>Comprehensive</td>\n",
       "      <td>Petrol</td>\n",
       "      <td>5</td>\n",
       "      <td>30615</td>\n",
       "      <td>First Owner</td>\n",
       "      <td>Automatic</td>\n",
       "      <td>2020</td>\n",
       "      <td>17.40</td>\n",
       "      <td>999.0</td>\n",
       "      <td>999.0</td>\n",
       "      <td>9863.0</td>\n",
       "      <td>8.99</td>\n",
       "    </tr>\n",
       "    <tr>\n",
       "      <th>2</th>\n",
       "      <td>2018 BMW X1 sDrive 20d xLine</td>\n",
       "      <td>Sep-18</td>\n",
       "      <td>Comprehensive</td>\n",
       "      <td>Diesel</td>\n",
       "      <td>5</td>\n",
       "      <td>24000</td>\n",
       "      <td>First Owner</td>\n",
       "      <td>Automatic</td>\n",
       "      <td>2018</td>\n",
       "      <td>20.68</td>\n",
       "      <td>1995.0</td>\n",
       "      <td>1995.0</td>\n",
       "      <td>188.0</td>\n",
       "      <td>23.75</td>\n",
       "    </tr>\n",
       "    <tr>\n",
       "      <th>3</th>\n",
       "      <td>2019 Kia Seltos GTX Plus</td>\n",
       "      <td>Dec-19</td>\n",
       "      <td>Comprehensive</td>\n",
       "      <td>Petrol</td>\n",
       "      <td>5</td>\n",
       "      <td>18378</td>\n",
       "      <td>First Owner</td>\n",
       "      <td>Manual</td>\n",
       "      <td>2019</td>\n",
       "      <td>16.50</td>\n",
       "      <td>1353.0</td>\n",
       "      <td>1353.0</td>\n",
       "      <td>13808.0</td>\n",
       "      <td>13.56</td>\n",
       "    </tr>\n",
       "    <tr>\n",
       "      <th>4</th>\n",
       "      <td>2019 Skoda Superb LK 1.8 TSI AT</td>\n",
       "      <td>Aug-19</td>\n",
       "      <td>Comprehensive</td>\n",
       "      <td>Petrol</td>\n",
       "      <td>5</td>\n",
       "      <td>44900</td>\n",
       "      <td>First Owner</td>\n",
       "      <td>Automatic</td>\n",
       "      <td>2019</td>\n",
       "      <td>14.67</td>\n",
       "      <td>1798.0</td>\n",
       "      <td>1798.0</td>\n",
       "      <td>17746.0</td>\n",
       "      <td>24.00</td>\n",
       "    </tr>\n",
       "  </tbody>\n",
       "</table>\n",
       "</div>"
      ],
      "text/plain": [
       "                                            car_name registration_year  \\\n",
       "0                    2017 Mercedes-Benz S-Class S400            Jul-17   \n",
       "1  2020 Nissan Magnite Turbo CVT XV Premium Opt BSVI            Jan-21   \n",
       "2                       2018 BMW X1 sDrive 20d xLine            Sep-18   \n",
       "3                           2019 Kia Seltos GTX Plus            Dec-19   \n",
       "4                    2019 Skoda Superb LK 1.8 TSI AT            Aug-19   \n",
       "\n",
       "  insurance_validity fuel_type  seats  kms_driven   ownsership transmission  \\\n",
       "0      Comprehensive    Petrol      5       56000  First Owner    Automatic   \n",
       "1      Comprehensive    Petrol      5       30615  First Owner    Automatic   \n",
       "2      Comprehensive    Diesel      5       24000  First Owner    Automatic   \n",
       "3      Comprehensive    Petrol      5       18378  First Owner       Manual   \n",
       "4      Comprehensive    Petrol      5       44900  First Owner    Automatic   \n",
       "\n",
       "  manufacturing_year  mileage(kmpl)  engine(cc)  max_power(bhp)  torque(Nm)  \\\n",
       "0               2017           7.81      2996.0          2996.0       333.0   \n",
       "1               2020          17.40       999.0           999.0      9863.0   \n",
       "2               2018          20.68      1995.0          1995.0       188.0   \n",
       "3               2019          16.50      1353.0          1353.0     13808.0   \n",
       "4               2019          14.67      1798.0          1798.0     17746.0   \n",
       "\n",
       "   price(in lakhs)  \n",
       "0            63.75  \n",
       "1             8.99  \n",
       "2            23.75  \n",
       "3            13.56  \n",
       "4            24.00  "
      ]
     },
     "execution_count": 16,
     "metadata": {},
     "output_type": "execute_result"
    }
   ],
   "source": [
    "df2.head()"
   ]
  },
  {
   "cell_type": "code",
   "execution_count": 17,
   "id": "bfeae606",
   "metadata": {},
   "outputs": [],
   "source": [
    "df2.drop_duplicates(inplace = True)\n",
    "df2.drop('max_power(bhp)', axis = 1, inplace = True)\n",
    "df2.dropna(inplace = True)\n",
    "df2 = df2[df2['price(in lakhs)'] < 10000]\n",
    "df2 = df2[df2['registration_year'] != 'Third Party insurance']\n",
    "\n",
    "cond = df2[df2['ownsership'].str.contains('cc')]\n",
    "df2.loc[cond.index, 'engine(cc)'] = cond['ownsership'].apply(lambda x : int(x[:-2].strip()))\n",
    "df2.loc[cond.index, 'ownsership'] = 'First Owner'\n",
    "\n",
    "cond = df2[df2['transmission'].str.contains('20')]\n",
    "df.loc[cond.index, 'transmission'] = 'Manual'\n",
    "\n",
    "cond = df2[df2['manufacturing_year'].str.contains('Power')]\n",
    "df2.loc[cond.index, 'manufacturing_year'] = cond['registration_year']\n",
    "df2['manufacturing_year'] = df2['manufacturing_year'].astype('int')\n",
    "\n",
    "cond = df2[df2['registration_year'].str.contains('-')]\n",
    "df2.loc[cond.index, 'registration_year'] = cond['registration_year'].apply(lambda x : int(x[-2:]) + 2000)\n",
    "df2['registration_year'] = df2['registration_year'].astype('int')\n",
    "\n",
    "df2 = df2[df2['engine(cc)'] < 10000]\n",
    "df2['seats'] = df2['seats'].astype('category')\n",
    "\n",
    "rename_dict = {'mileage(kmpl)' : 'mileage',\n",
    "               'engine(cc)' : 'engine',\n",
    "               'torque(Nm)' : 'torque',\n",
    "               'price(in lakhs)' : 'price'}\n",
    "df2.rename(columns = rename_dict, inplace = True)\n",
    "\n",
    "df2 = df2.query('kms_driven < 250000 and torque < 30000 and mileage < 100')\n",
    "\n",
    "df2.reset_index(inplace = True, drop = True)\n",
    "df2.drop('car_name', axis = 1, inplace = True)\n",
    "\n",
    "df2['torque_bin'] = df2['torque'].apply(lambda x : 'high' if x > 4500 else 'low')\n",
    "df2['fuel_trans'] = df2['fuel_type'] + \"_\" + df2['transmission']\n",
    "\n",
    "col_n = ['kms_driven', 'mileage', 'engine', 'torque']\n",
    "pf = PolynomialFeatures(degree = 2, include_bias = False)\n",
    "\n",
    "X_n = df2[col_n]\n",
    "X_o = df2.drop(col_n, axis = 1)\n",
    "X_n = pd.DataFrame(pf.fit_transform(X_n), columns = pf.get_feature_names_out())\n",
    "poly_X = pd.concat([X_n, X_o], axis = 1)"
   ]
  },
  {
   "cell_type": "code",
   "execution_count": 18,
   "id": "53ffd08f",
   "metadata": {},
   "outputs": [],
   "source": [
    "X = poly_X.copy()\n",
    "Y = X.pop('price')"
   ]
  },
  {
   "cell_type": "code",
   "execution_count": 19,
   "id": "e41ddc1e",
   "metadata": {},
   "outputs": [
    {
     "name": "stdout",
     "output_type": "stream",
     "text": [
      "데이터프레임 크기 : (943, 23)\n",
      "데이터프레임에 결측치는 없습니다.\n",
      "연속형 데이터 컬럼 : ['kms_driven', 'mileage', 'engine', 'torque', 'kms_driven^2', 'kms_driven mileage', 'kms_driven engine', 'kms_driven torque', 'mileage^2', 'mileage engine', 'mileage torque', 'engine^2', 'engine torque', 'torque^2', 'registration_year', 'manufacturing_year'], 총 16개\n",
      "명목형 데이터 컬럼 : ['insurance_validity', 'fuel_type', 'seats', 'ownsership', 'transmission', 'torque_bin', 'fuel_trans'], 총 7개\n"
     ]
    }
   ],
   "source": [
    "X_p = pp.fit_transform(X)"
   ]
  },
  {
   "cell_type": "code",
   "execution_count": 20,
   "id": "f6e128fb",
   "metadata": {},
   "outputs": [],
   "source": [
    "x_train2, x_test2, y_train2, y_test2 = train_test_split(X_p, Y, test_size = 0.25, random_state = 0)"
   ]
  },
  {
   "cell_type": "code",
   "execution_count": 21,
   "id": "8fb05c5c",
   "metadata": {},
   "outputs": [],
   "source": [
    "li_alpha = range(-4, 5)\n",
    "result_df = pd.DataFrame()\n",
    "\n",
    "for i, v in enumerate(li_alpha):\n",
    "    model = Ridge(alpha = 10 ** v)\n",
    "    model.fit(x_train2, y_train2)\n",
    "    result_df.loc[i, 'alpha'] = v\n",
    "    result_df.loc[i, 'R2_score_train'] = model.score(x_train2, y_train2)\n",
    "    result_df.loc[i, 'R2_score_test'] = model.score(x_test2, y_test2)"
   ]
  },
  {
   "cell_type": "code",
   "execution_count": 22,
   "id": "c4bbe487",
   "metadata": {},
   "outputs": [
    {
     "data": {
      "text/html": [
       "<div>\n",
       "<style scoped>\n",
       "    .dataframe tbody tr th:only-of-type {\n",
       "        vertical-align: middle;\n",
       "    }\n",
       "\n",
       "    .dataframe tbody tr th {\n",
       "        vertical-align: top;\n",
       "    }\n",
       "\n",
       "    .dataframe thead th {\n",
       "        text-align: right;\n",
       "    }\n",
       "</style>\n",
       "<table border=\"1\" class=\"dataframe\">\n",
       "  <thead>\n",
       "    <tr style=\"text-align: right;\">\n",
       "      <th></th>\n",
       "      <th>alpha</th>\n",
       "      <th>R2_score_train</th>\n",
       "      <th>R2_score_test</th>\n",
       "    </tr>\n",
       "  </thead>\n",
       "  <tbody>\n",
       "    <tr>\n",
       "      <th>0</th>\n",
       "      <td>-4.0</td>\n",
       "      <td>0.675430</td>\n",
       "      <td>0.680070</td>\n",
       "    </tr>\n",
       "    <tr>\n",
       "      <th>1</th>\n",
       "      <td>-3.0</td>\n",
       "      <td>0.675430</td>\n",
       "      <td>0.680076</td>\n",
       "    </tr>\n",
       "    <tr>\n",
       "      <th>2</th>\n",
       "      <td>-2.0</td>\n",
       "      <td>0.675430</td>\n",
       "      <td>0.680137</td>\n",
       "    </tr>\n",
       "    <tr>\n",
       "      <th>3</th>\n",
       "      <td>-1.0</td>\n",
       "      <td>0.675414</td>\n",
       "      <td>0.680698</td>\n",
       "    </tr>\n",
       "    <tr>\n",
       "      <th>4</th>\n",
       "      <td>0.0</td>\n",
       "      <td>0.674441</td>\n",
       "      <td>0.683214</td>\n",
       "    </tr>\n",
       "    <tr>\n",
       "      <th>5</th>\n",
       "      <td>1.0</td>\n",
       "      <td>0.661249</td>\n",
       "      <td>0.674172</td>\n",
       "    </tr>\n",
       "    <tr>\n",
       "      <th>6</th>\n",
       "      <td>2.0</td>\n",
       "      <td>0.619803</td>\n",
       "      <td>0.649455</td>\n",
       "    </tr>\n",
       "    <tr>\n",
       "      <th>7</th>\n",
       "      <td>3.0</td>\n",
       "      <td>0.537264</td>\n",
       "      <td>0.594587</td>\n",
       "    </tr>\n",
       "    <tr>\n",
       "      <th>8</th>\n",
       "      <td>4.0</td>\n",
       "      <td>0.232681</td>\n",
       "      <td>0.265448</td>\n",
       "    </tr>\n",
       "  </tbody>\n",
       "</table>\n",
       "</div>"
      ],
      "text/plain": [
       "   alpha  R2_score_train  R2_score_test\n",
       "0   -4.0        0.675430       0.680070\n",
       "1   -3.0        0.675430       0.680076\n",
       "2   -2.0        0.675430       0.680137\n",
       "3   -1.0        0.675414       0.680698\n",
       "4    0.0        0.674441       0.683214\n",
       "5    1.0        0.661249       0.674172\n",
       "6    2.0        0.619803       0.649455\n",
       "7    3.0        0.537264       0.594587\n",
       "8    4.0        0.232681       0.265448"
      ]
     },
     "execution_count": 22,
     "metadata": {},
     "output_type": "execute_result"
    }
   ],
   "source": [
    "result_df"
   ]
  },
  {
   "cell_type": "code",
   "execution_count": 23,
   "id": "db7836f5",
   "metadata": {},
   "outputs": [
    {
     "data": {
      "image/png": "[encoded data removed]",
      "text/plain": [
       "<Figure size 800x600 with 1 Axes>"
      ]
     },
     "metadata": {},
     "output_type": "display_data"
    }
   ],
   "source": [
    "plt.figure()\n",
    "plt.plot(result_df['alpha'], result_df['R2_score_train'], label = 'train')\n",
    "plt.plot(result_df['alpha'], result_df['R2_score_test'], label = 'test')\n",
    "plt.xticks(result_df['alpha'], 10 ** result_df['alpha'])\n",
    "plt.grid()\n",
    "plt.legend()\n",
    "plt.show()"
   ]
  },
  {
   "cell_type": "markdown",
   "id": "39c53d9b",
   "metadata": {},
   "source": [
    "- 릿지와 라쏘는 변수별로 유의확률과 VIF 값을 구할 수 없음\n",
    "    - 라쏘의 비표준화 계수 0은 해당 변수를 사용하지 않는다는 의미"
   ]
  },
  {
   "cell_type": "code",
   "execution_count": 24,
   "id": "dd230de1",
   "metadata": {},
   "outputs": [],
   "source": [
    "test_model = YjkQuantileRegressor()"
   ]
  },
  {
   "cell_type": "code",
   "execution_count": 25,
   "id": "0a849e4a",
   "metadata": {},
   "outputs": [],
   "source": [
    "data = pd.concat([x_train2, y_train2], axis = 1)"
   ]
  },
  {
   "cell_type": "code",
   "execution_count": 26,
   "id": "720e0b30",
   "metadata": {},
   "outputs": [],
   "source": [
    "from sklearn.ensemble import RandomForestClassifier\n",
    "from xgboost import XGBRegressor\n",
    "from lightgbm import LGBMRegressor\n",
    "from sklearn.metrics import r2_score, mean_absolute_error"
   ]
  },
  {
   "cell_type": "code",
   "execution_count": 27,
   "id": "57109032",
   "metadata": {},
   "outputs": [],
   "source": [
    "test_model.fit(XGBRegressor(max_depth = 9), RandomForestClassifier(max_depth = 9), data, 'price')"
   ]
  },
  {
   "cell_type": "code",
   "execution_count": 28,
   "id": "3572573c",
   "metadata": {},
   "outputs": [],
   "source": [
    "pred = test_model.predict(x_test2, soft = True)"
   ]
  },
  {
   "cell_type": "code",
   "execution_count": 29,
   "id": "1f132910",
   "metadata": {},
   "outputs": [
    {
     "data": {
      "text/plain": [
       "0.7762641235750916"
      ]
     },
     "execution_count": 29,
     "metadata": {},
     "output_type": "execute_result"
    }
   ],
   "source": [
    "r2_score(y_test2, pred)"
   ]
  },
  {
   "cell_type": "code",
   "execution_count": 30,
   "id": "77bbe400",
   "metadata": {},
   "outputs": [],
   "source": [
    "xgb = XGBRegressor(max_depth = 9)"
   ]
  },
  {
   "cell_type": "code",
   "execution_count": 31,
   "id": "c345ee33",
   "metadata": {},
   "outputs": [
    {
     "data": {
      "text/plain": [
       "0.7565902056995826"
      ]
     },
     "execution_count": 31,
     "metadata": {},
     "output_type": "execute_result"
    }
   ],
   "source": [
    "xgb.fit(x_train2, y_train2)\n",
    "xgb.score(x_test2, y_test2)"
   ]
  },
  {
   "cell_type": "code",
   "execution_count": 32,
   "id": "3a1a2f3b",
   "metadata": {},
   "outputs": [
    {
     "data": {
      "text/plain": [
       "0.7652907258457674"
      ]
     },
     "execution_count": 32,
     "metadata": {},
     "output_type": "execute_result"
    }
   ],
   "source": [
    "lgbm = LGBMRegressor(verbose = -1)\n",
    "lgbm.fit(x_train2, y_train2)\n",
    "lgbm.score(x_test2, y_test2)"
   ]
  },
  {
   "cell_type": "code",
   "execution_count": 33,
   "id": "d0af06c6",
   "metadata": {},
   "outputs": [
    {
     "data": {
      "text/plain": [
       "0.6800688917955584"
      ]
     },
     "execution_count": 33,
     "metadata": {},
     "output_type": "execute_result"
    }
   ],
   "source": [
    "lr = LinearRegression()\n",
    "lr.fit(x_train2, y_train2)\n",
    "lr.score(x_test2, y_test2)"
   ]
  },
  {
   "cell_type": "code",
   "execution_count": 34,
   "id": "c510fad4",
   "metadata": {},
   "outputs": [
    {
     "data": {
      "text/plain": [
       "2.8074680114228947"
      ]
     },
     "execution_count": 34,
     "metadata": {},
     "output_type": "execute_result"
    }
   ],
   "source": [
    "mean_absolute_error(y_test2, pred)"
   ]
  },
  {
   "cell_type": "code",
   "execution_count": 35,
   "id": "3cb4343e",
   "metadata": {},
   "outputs": [
    {
     "data": {
      "text/plain": [
       "2.8886335570125254"
      ]
     },
     "execution_count": 35,
     "metadata": {},
     "output_type": "execute_result"
    }
   ],
   "source": [
    "mean_absolute_error(y_test2, xgb.predict(x_test2))"
   ]
  },
  {
   "cell_type": "code",
   "execution_count": 36,
   "id": "61b9df75",
   "metadata": {},
   "outputs": [
    {
     "data": {
      "text/plain": [
       "4.81510630487486"
      ]
     },
     "execution_count": 36,
     "metadata": {},
     "output_type": "execute_result"
    }
   ],
   "source": [
    "mean_absolute_error(y_test2, lr.predict(x_test2))"
   ]
  },
  {
   "cell_type": "code",
   "execution_count": 37,
   "id": "65544ca1",
   "metadata": {},
   "outputs": [
    {
     "name": "stdout",
     "output_type": "stream",
     "text": [
      "사용 가능한 모델 : ['LinearRegressor', 'Ridge', 'Lasso', 'SGDRegressor', 'KneighborsRegressor', 'LinearSVR', 'SVR', 'DecisionTreeRegressor', 'CatBoostRegressor']\n"
     ]
    }
   ],
   "source": [
    "support = YjkRegressorSupport()"
   ]
  },
  {
   "cell_type": "code",
   "execution_count": 38,
   "id": "3c4cc388",
   "metadata": {},
   "outputs": [
    {
     "name": "stdout",
     "output_type": "stream",
     "text": [
      "LinearRegressor 모델 소요 시간 : 0:00:03\n",
      "Ridge 모델 소요 시간 : 0:00:01\n",
      "Lasso 모델 소요 시간 : 0:00:02\n",
      "SGDRegressor 모델 소요 시간 : 0:00:04\n",
      "KneighborsRegressor 모델 소요 시간 : 0:00:00\n",
      "LinearSVR 모델 소요 시간 : 0:00:01\n",
      "SVR 모델 소요 시간 : 0:00:21\n",
      "DecisionTreeRegressor 모델 소요 시간 : 0:00:17\n",
      "CatBoostRegressor 모델 소요 시간 : 0:00:07\n",
      "총 소요 시간 : 0:01:00\n"
     ]
    }
   ],
   "source": [
    "result_df = yjk_regressor_multi_gridsearch(support, x_train, y_train, x_test, y_test, randomized_search = True, include_models = 'all')"
   ]
  },
  {
   "cell_type": "code",
   "execution_count": 39,
   "id": "38dce77a",
   "metadata": {},
   "outputs": [
    {
     "data": {
      "text/html": [
       "<div>\n",
       "<style scoped>\n",
       "    .dataframe tbody tr th:only-of-type {\n",
       "        vertical-align: middle;\n",
       "    }\n",
       "\n",
       "    .dataframe tbody tr th {\n",
       "        vertical-align: top;\n",
       "    }\n",
       "\n",
       "    .dataframe thead th {\n",
       "        text-align: right;\n",
       "    }\n",
       "</style>\n",
       "<table border=\"1\" class=\"dataframe\">\n",
       "  <thead>\n",
       "    <tr style=\"text-align: right;\">\n",
       "      <th></th>\n",
       "      <th>best_model</th>\n",
       "      <th>best_param</th>\n",
       "      <th>rmse_train</th>\n",
       "      <th>rmse_test</th>\n",
       "    </tr>\n",
       "    <tr>\n",
       "      <th>model_name</th>\n",
       "      <th></th>\n",
       "      <th></th>\n",
       "      <th></th>\n",
       "      <th></th>\n",
       "    </tr>\n",
       "  </thead>\n",
       "  <tbody>\n",
       "    <tr>\n",
       "      <th>CatBoostRegressor</th>\n",
       "      <td>&lt;catboost.core.CatBoostRegressor object at 0x0...</td>\n",
       "      <td>{}</td>\n",
       "      <td>1.291967e+05</td>\n",
       "      <td>1.295629e+05</td>\n",
       "    </tr>\n",
       "    <tr>\n",
       "      <th>KneighborsRegressor</th>\n",
       "      <td>KNeighborsRegressor(n_jobs=-1, n_neighbors=4, ...</td>\n",
       "      <td>{'weights': 'distance', 'p': 1, 'n_neighbors': 4}</td>\n",
       "      <td>1.604143e+05</td>\n",
       "      <td>1.513002e+05</td>\n",
       "    </tr>\n",
       "    <tr>\n",
       "      <th>LinearRegressor</th>\n",
       "      <td>LinearRegression(n_jobs=-1)</td>\n",
       "      <td>{}</td>\n",
       "      <td>1.587646e+05</td>\n",
       "      <td>1.630575e+05</td>\n",
       "    </tr>\n",
       "    <tr>\n",
       "      <th>Ridge</th>\n",
       "      <td>Ridge(alpha=0.01)</td>\n",
       "      <td>{'alpha': 0.01}</td>\n",
       "      <td>1.587632e+05</td>\n",
       "      <td>1.630678e+05</td>\n",
       "    </tr>\n",
       "    <tr>\n",
       "      <th>Lasso</th>\n",
       "      <td>Lasso(alpha=0.001)</td>\n",
       "      <td>{'alpha': 0.001}</td>\n",
       "      <td>1.587625e+05</td>\n",
       "      <td>1.630786e+05</td>\n",
       "    </tr>\n",
       "    <tr>\n",
       "      <th>LinearSVR</th>\n",
       "      <td>LinearSVR(C=10, dual=True, loss='squared_epsil...</td>\n",
       "      <td>{'max_iter': 10000, 'loss': 'squared_epsilon_i...</td>\n",
       "      <td>1.587620e+05</td>\n",
       "      <td>1.631057e+05</td>\n",
       "    </tr>\n",
       "    <tr>\n",
       "      <th>DecisionTreeRegressor</th>\n",
       "      <td>DecisionTreeRegressor(min_samples_split=10, ra...</td>\n",
       "      <td>{'splitter': 'random', 'min_samples_split': 10...</td>\n",
       "      <td>1.594762e+05</td>\n",
       "      <td>1.639246e+05</td>\n",
       "    </tr>\n",
       "    <tr>\n",
       "      <th>SVR</th>\n",
       "      <td>SVR(C=10, degree=2, kernel='linear')</td>\n",
       "      <td>{'kernel': 'linear', 'degree': 2, 'C': 10}</td>\n",
       "      <td>5.687500e+05</td>\n",
       "      <td>5.737446e+05</td>\n",
       "    </tr>\n",
       "    <tr>\n",
       "      <th>SGDRegressor</th>\n",
       "      <td>SGDRegressor(alpha=0.1, loss='huber', penalty=...</td>\n",
       "      <td>{'tol': 0.0001, 'penalty': None, 'max_iter': 1...</td>\n",
       "      <td>1.186614e+06</td>\n",
       "      <td>1.196365e+06</td>\n",
       "    </tr>\n",
       "  </tbody>\n",
       "</table>\n",
       "</div>"
      ],
      "text/plain": [
       "                                                              best_model  \\\n",
       "model_name                                                                 \n",
       "CatBoostRegressor      <catboost.core.CatBoostRegressor object at 0x0...   \n",
       "KneighborsRegressor    KNeighborsRegressor(n_jobs=-1, n_neighbors=4, ...   \n",
       "LinearRegressor                              LinearRegression(n_jobs=-1)   \n",
       "Ridge                                                  Ridge(alpha=0.01)   \n",
       "Lasso                                                 Lasso(alpha=0.001)   \n",
       "LinearSVR              LinearSVR(C=10, dual=True, loss='squared_epsil...   \n",
       "DecisionTreeRegressor  DecisionTreeRegressor(min_samples_split=10, ra...   \n",
       "SVR                                 SVR(C=10, degree=2, kernel='linear')   \n",
       "SGDRegressor           SGDRegressor(alpha=0.1, loss='huber', penalty=...   \n",
       "\n",
       "                                                              best_param  \\\n",
       "model_name                                                                 \n",
       "CatBoostRegressor                                                     {}   \n",
       "KneighborsRegressor    {'weights': 'distance', 'p': 1, 'n_neighbors': 4}   \n",
       "LinearRegressor                                                       {}   \n",
       "Ridge                                                    {'alpha': 0.01}   \n",
       "Lasso                                                   {'alpha': 0.001}   \n",
       "LinearSVR              {'max_iter': 10000, 'loss': 'squared_epsilon_i...   \n",
       "DecisionTreeRegressor  {'splitter': 'random', 'min_samples_split': 10...   \n",
       "SVR                           {'kernel': 'linear', 'degree': 2, 'C': 10}   \n",
       "SGDRegressor           {'tol': 0.0001, 'penalty': None, 'max_iter': 1...   \n",
       "\n",
       "                         rmse_train     rmse_test  \n",
       "model_name                                         \n",
       "CatBoostRegressor      1.291967e+05  1.295629e+05  \n",
       "KneighborsRegressor    1.604143e+05  1.513002e+05  \n",
       "LinearRegressor        1.587646e+05  1.630575e+05  \n",
       "Ridge                  1.587632e+05  1.630678e+05  \n",
       "Lasso                  1.587625e+05  1.630786e+05  \n",
       "LinearSVR              1.587620e+05  1.631057e+05  \n",
       "DecisionTreeRegressor  1.594762e+05  1.639246e+05  \n",
       "SVR                    5.687500e+05  5.737446e+05  \n",
       "SGDRegressor           1.186614e+06  1.196365e+06  "
      ]
     },
     "execution_count": 39,
     "metadata": {},
     "output_type": "execute_result"
    }
   ],
   "source": [
    "result_df"
   ]
  },
  {
   "cell_type": "code",
   "execution_count": 40,
   "id": "5f634392",
   "metadata": {},
   "outputs": [
    {
     "name": "stdout",
     "output_type": "stream",
     "text": [
      "[CatBoostRegressor의 파라미터]\n",
      "+-----------------+---------------------------------------------+----------------------+\n",
      "| 파라미터명      | 파라미터 노트                               | 파라미터 범위        |\n",
      "|-----------------+---------------------------------------------+----------------------|\n",
      "| iterations      | Tree 개수                                   | [100, 500]           |\n",
      "| depth           | Tree의 깊이                                 | [-1, 3, 5, 7, 9]     |\n",
      "| learning_rate   | 학습률 지정, 기본 0.009                     | [0.001, 0.009, 0.01] |\n",
      "| random_strength | 무작위성 트리 구조 선택 강도, 과적합 조정용 | [4, 6, 8]            |\n",
      "| l2_leaf_reg     | L2 규제항의 계수                            | [4, 6, 8]            |\n",
      "+-----------------+---------------------------------------------+----------------------+\n"
     ]
    }
   ],
   "source": [
    "support.call_model('CatBoostRegressor', return_model = False)"
   ]
  },
  {
   "cell_type": "code",
   "execution_count": 41,
   "id": "c0342cfe",
   "metadata": {},
   "outputs": [],
   "source": [
    "model = result_df.loc['CatBoostRegressor', 'best_model']"
   ]
  },
  {
   "cell_type": "code",
   "execution_count": 45,
   "id": "490fa89f",
   "metadata": {},
   "outputs": [],
   "source": [
    "model = CatBoostRegressor(verbose = 0, random_state = 0)"
   ]
  },
  {
   "cell_type": "code",
   "execution_count": 48,
   "id": "c49afb1e",
   "metadata": {},
   "outputs": [],
   "source": [
    "params = [0.001, 0.009, 0.01, 0.05, 0.1, 0.5]"
   ]
  },
  {
   "cell_type": "code",
   "execution_count": 49,
   "id": "fda43040",
   "metadata": {},
   "outputs": [
    {
     "data": {
      "image/png": "[encoded data removed]",
      "text/plain": [
       "<Figure size 1200x600 with 1 Axes>"
      ]
     },
     "metadata": {},
     "output_type": "display_data"
    },
    {
     "data": {
      "text/html": [
       "<div>\n",
       "<style scoped>\n",
       "    .dataframe tbody tr th:only-of-type {\n",
       "        vertical-align: middle;\n",
       "    }\n",
       "\n",
       "    .dataframe tbody tr th {\n",
       "        vertical-align: top;\n",
       "    }\n",
       "\n",
       "    .dataframe thead th {\n",
       "        text-align: right;\n",
       "    }\n",
       "</style>\n",
       "<table border=\"1\" class=\"dataframe\">\n",
       "  <thead>\n",
       "    <tr style=\"text-align: right;\">\n",
       "      <th></th>\n",
       "      <th>훈련 데이터</th>\n",
       "      <th>검증 데이터</th>\n",
       "      <th>Min-Max</th>\n",
       "    </tr>\n",
       "    <tr>\n",
       "      <th>learning_rate</th>\n",
       "      <th></th>\n",
       "      <th></th>\n",
       "      <th></th>\n",
       "    </tr>\n",
       "  </thead>\n",
       "  <tbody>\n",
       "    <tr>\n",
       "      <th>0.001</th>\n",
       "      <td>431582.369986</td>\n",
       "      <td>432080.769454</td>\n",
       "      <td>최대값</td>\n",
       "    </tr>\n",
       "    <tr>\n",
       "      <th>0.009</th>\n",
       "      <td>190258.884524</td>\n",
       "      <td>196334.855796</td>\n",
       "      <td></td>\n",
       "    </tr>\n",
       "    <tr>\n",
       "      <th>0.010</th>\n",
       "      <td>180486.503194</td>\n",
       "      <td>187403.726325</td>\n",
       "      <td></td>\n",
       "    </tr>\n",
       "    <tr>\n",
       "      <th>0.050</th>\n",
       "      <td>86186.188754</td>\n",
       "      <td>129553.794434</td>\n",
       "      <td></td>\n",
       "    </tr>\n",
       "    <tr>\n",
       "      <th>0.100</th>\n",
       "      <td>62175.651307</td>\n",
       "      <td>123887.386081</td>\n",
       "      <td></td>\n",
       "    </tr>\n",
       "    <tr>\n",
       "      <th>0.500</th>\n",
       "      <td>20666.483179</td>\n",
       "      <td>121676.413210</td>\n",
       "      <td>최소값</td>\n",
       "    </tr>\n",
       "  </tbody>\n",
       "</table>\n",
       "</div>"
      ],
      "text/plain": [
       "                      훈련 데이터         검증 데이터 Min-Max\n",
       "learning_rate                                      \n",
       "0.001          431582.369986  432080.769454     최대값\n",
       "0.009          190258.884524  196334.855796        \n",
       "0.010          180486.503194  187403.726325        \n",
       "0.050           86186.188754  129553.794434        \n",
       "0.100           62175.651307  123887.386081        \n",
       "0.500           20666.483179  121676.413210     최소값"
      ]
     },
     "execution_count": 49,
     "metadata": {},
     "output_type": "execute_result"
    }
   ],
   "source": [
    "yjk_regression_param_plot(model, x_train, y_train, 'learning_rate', params, x_test, y_test, scoring = 'rmse')"
   ]
  },
  {
   "cell_type": "code",
   "execution_count": null,
   "id": "3caaa0c6",
   "metadata": {},
   "outputs": [],
   "source": []
  },
  {
   "cell_type": "code",
   "execution_count": null,
   "metadata": {},
   "outputs": [],
   "source": []
  },
  {
   "cell_type": "code",
   "execution_count": null,
   "id": "a55e0210",
   "metadata": {},
   "outputs": [],
   "source": []
  },
  {
   "cell_type": "code",
   "execution_count": null,
   "metadata": {},
   "outputs": [],
   "source": []
  },
  {
   "cell_type": "code",
   "execution_count": null,
   "metadata": {},
   "outputs": [],
   "source": []
  },
  {
   "cell_type": "code",
   "execution_count": null,
   "metadata": {},
   "outputs": [],
   "source": []
  },
  {
   "cell_type": "code",
   "execution_count": null,
   "metadata": {},
   "outputs": [],
   "source": []
  },
  {
   "cell_type": "code",
   "execution_count": null,
   "id": "800d692f",
   "metadata": {},
   "outputs": [],
   "source": []
  },
  {
   "cell_type": "code",
   "execution_count": null,
   "metadata": {},
   "outputs": [],
   "source": []
  },
  {
   "cell_type": "code",
   "execution_count": null,
   "id": "5363fb9b",
   "metadata": {},
   "outputs": [],
   "source": []
  },
  {
   "cell_type": "code",
   "execution_count": null,
   "id": "541e4ce4",
   "metadata": {},
   "outputs": [],
   "source": []
  },
  {
   "cell_type": "code",
   "execution_count": null,
   "metadata": {},
   "outputs": [],
   "source": []
  },
  {
   "cell_type": "code",
   "execution_count": null,
   "id": "e563570a",
   "metadata": {},
   "outputs": [],
   "source": []
  },
  {
   "cell_type": "code",
   "execution_count": null,
   "metadata": {},
   "outputs": [],
   "source": []
  },
  {
   "cell_type": "code",
   "execution_count": null,
   "id": "e15c531d",
   "metadata": {},
   "outputs": [],
   "source": []
  },
  {
   "cell_type": "code",
   "execution_count": null,
   "id": "29694d7b",
   "metadata": {},
   "outputs": [],
   "source": []
  }
 ],
 "metadata": {
  "kernelspec": {
   "display_name": "Python 3 (ipykernel)",
   "language": "python",
   "name": "python3"
  },
  "language_info": {
   "codemirror_mode": {
    "name": "ipython",
    "version": 3
   },
   "file_extension": ".py",
   "mimetype": "text/x-python",
   "name": "python",
   "nbconvert_exporter": "python",
   "pygments_lexer": "ipython3",
   "version": "3.10.9"
  }
 },
 "nbformat": 4,
 "nbformat_minor": 5
}
