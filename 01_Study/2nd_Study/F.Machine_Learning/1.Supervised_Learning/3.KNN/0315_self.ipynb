{
 "cells": [
  {
   "cell_type": "code",
   "execution_count": 1,
   "id": "bb01539d-63e9-489a-bac5-08df804eea6d",
   "metadata": {},
   "outputs": [],
   "source": [
    "import sys\n",
    "sys.path.append(\"Y:\\Python\\Mega_IT\")\n",
    "\n",
    "from yjk_module.preprocessing import *\n",
    "from yjk_module.ml_module import *"
   ]
  },
  {
   "cell_type": "code",
   "execution_count": 2,
   "id": "cefadf7a-c004-4885-9f66-878cb8196648",
   "metadata": {},
   "outputs": [],
   "source": [
    "from sklearn.neighbors import KNeighborsClassifier\n",
    "from hossam.util import *\n",
    "from hossam.plot import *\n",
    "from hossam.analysis import *\n",
    "from hossam.classification import *"
   ]
  },
  {
   "cell_type": "markdown",
   "id": "7cc54b03-5db1-4d94-a463-f2cda96c1b58",
   "metadata": {},
   "source": [
    "- KNN (K-Nearest neighbors) : 최근접 이웃 알고리즘\n",
    "    - 거리를 기반으로 하는 분류분석 모델\n",
    "    - 특정 데이터로부터 거리가 가까운 k개의 label을 참조하여 가장 많은 수의 label로 판별\n",
    "    - k는 하이퍼파라미터"
   ]
  },
  {
   "cell_type": "markdown",
   "id": "02804e59-f9b4-4b41-bd2a-0b9306380e72",
   "metadata": {},
   "source": [
    "- 거리 계산 방법\n",
    "    - 유클리디안 / 맨하탄 : 피타고라스 정리와 유사하며 어느 알고리즘을 적용하는지가 하이퍼파라미터가 됨"
   ]
  },
  {
   "cell_type": "markdown",
   "id": "1d6ba1d7-4eea-4506-ba0e-ca1b58976c17",
   "metadata": {},
   "source": [
    "- 특징\n",
    "    - 이상치에 영향을 받지 않음\n",
    "    - 데이터에 가정이 없음\n",
    "    - 모든 데이터에 대한 거리를 계산하므로 느림, 컴퓨터의 메모리를 많이 차지함"
   ]
  },
  {
   "cell_type": "code",
   "execution_count": 3,
   "id": "96c9fb78-f2ba-460e-a696-062349a03db2",
   "metadata": {},
   "outputs": [],
   "source": [
    "origin1 = pd.read_excel(\"./data/iris.xlsx\")"
   ]
  },
  {
   "cell_type": "code",
   "execution_count": 4,
   "id": "ff11af30-fd28-4fbf-a92c-98e21739fae1",
   "metadata": {},
   "outputs": [
    {
     "data": {
      "text/html": [
       "<div>\n",
       "<style scoped>\n",
       "    .dataframe tbody tr th:only-of-type {\n",
       "        vertical-align: middle;\n",
       "    }\n",
       "\n",
       "    .dataframe tbody tr th {\n",
       "        vertical-align: top;\n",
       "    }\n",
       "\n",
       "    .dataframe thead th {\n",
       "        text-align: right;\n",
       "    }\n",
       "</style>\n",
       "<table border=\"1\" class=\"dataframe\">\n",
       "  <thead>\n",
       "    <tr style=\"text-align: right;\">\n",
       "      <th></th>\n",
       "      <th>Sepal.Length</th>\n",
       "      <th>Sepal.Width</th>\n",
       "      <th>Petal.Length</th>\n",
       "      <th>Petal.Width</th>\n",
       "      <th>Species</th>\n",
       "    </tr>\n",
       "  </thead>\n",
       "  <tbody>\n",
       "    <tr>\n",
       "      <th>0</th>\n",
       "      <td>5.1</td>\n",
       "      <td>3.5</td>\n",
       "      <td>1.4</td>\n",
       "      <td>0.2</td>\n",
       "      <td>setosa</td>\n",
       "    </tr>\n",
       "    <tr>\n",
       "      <th>1</th>\n",
       "      <td>4.9</td>\n",
       "      <td>3.0</td>\n",
       "      <td>1.4</td>\n",
       "      <td>0.2</td>\n",
       "      <td>setosa</td>\n",
       "    </tr>\n",
       "    <tr>\n",
       "      <th>2</th>\n",
       "      <td>4.7</td>\n",
       "      <td>3.2</td>\n",
       "      <td>1.3</td>\n",
       "      <td>0.2</td>\n",
       "      <td>setosa</td>\n",
       "    </tr>\n",
       "    <tr>\n",
       "      <th>3</th>\n",
       "      <td>4.6</td>\n",
       "      <td>3.1</td>\n",
       "      <td>1.5</td>\n",
       "      <td>0.2</td>\n",
       "      <td>setosa</td>\n",
       "    </tr>\n",
       "    <tr>\n",
       "      <th>4</th>\n",
       "      <td>5.0</td>\n",
       "      <td>3.6</td>\n",
       "      <td>1.4</td>\n",
       "      <td>0.2</td>\n",
       "      <td>setosa</td>\n",
       "    </tr>\n",
       "  </tbody>\n",
       "</table>\n",
       "</div>"
      ],
      "text/plain": [
       "   Sepal.Length  Sepal.Width  Petal.Length  Petal.Width Species\n",
       "0           5.1          3.5           1.4          0.2  setosa\n",
       "1           4.9          3.0           1.4          0.2  setosa\n",
       "2           4.7          3.2           1.3          0.2  setosa\n",
       "3           4.6          3.1           1.5          0.2  setosa\n",
       "4           5.0          3.6           1.4          0.2  setosa"
      ]
     },
     "execution_count": 4,
     "metadata": {},
     "output_type": "execute_result"
    }
   ],
   "source": [
    "origin1.head()"
   ]
  },
  {
   "cell_type": "markdown",
   "id": "ffc72e6d-d610-46f5-a15e-640219b5e258",
   "metadata": {},
   "source": [
    "- 모델에 따라 스케일링을 하지 않는 것이 성능이 나을 수도 있음"
   ]
  },
  {
   "cell_type": "code",
   "execution_count": 5,
   "id": "43ca8338-becb-4f41-b01c-e345767bb227",
   "metadata": {},
   "outputs": [
    {
     "name": "stdout",
     "output_type": "stream",
     "text": [
      "아래와 같이 처리합니다.\n",
      "+-------------+----------------+\n",
      "| 범주        | 처리방법       |\n",
      "|-------------+----------------|\n",
      "| 이상치 처리 | 처리하지 않음  |\n",
      "| 결측치 처리 | 처리하지 않음  |\n",
      "| 스케일러    | StandardScaler |\n",
      "| 인코딩      | 원핫인코딩     |\n",
      "+-------------+----------------+\n"
     ]
    }
   ],
   "source": [
    "pp = YjkPreprocessor()\n",
    "pp.set_strategy(null = None, outline = None)"
   ]
  },
  {
   "cell_type": "code",
   "execution_count": 6,
   "id": "a37be166-4228-4743-8d6e-16b9703c5e2e",
   "metadata": {},
   "outputs": [
    {
     "name": "stdout",
     "output_type": "stream",
     "text": [
      "데이터프레임 크기 : (150, 5)\n",
      "데이터프레임에 결측치는 없습니다.\n",
      "연속형 데이터 컬럼 : ['Sepal.Length', 'Sepal.Width', 'Petal.Length', 'Petal.Width'], 총 4개\n",
      "종속변수 컬럼명 : Species / 종속변수 라벨링 여부 : False\n"
     ]
    }
   ],
   "source": [
    "df_p = pp.fit_transform(origin1, yname = 'Species')"
   ]
  },
  {
   "cell_type": "code",
   "execution_count": 7,
   "id": "51c34627-ed23-4818-a172-71b842a422d4",
   "metadata": {},
   "outputs": [],
   "source": [
    "X = df_p.copy()\n",
    "Y = X.pop('Species')"
   ]
  },
  {
   "cell_type": "code",
   "execution_count": 8,
   "id": "229e53a4-ac5e-4115-bd5e-c813c067bbf3",
   "metadata": {},
   "outputs": [],
   "source": [
    "x_train, x_test, y_train, y_test = train_test_split(X, Y, test_size = 0.2, stratify = Y, random_state = 0)"
   ]
  },
  {
   "cell_type": "code",
   "execution_count": 9,
   "id": "9695b963-58da-459f-af7c-7401b25b5c7c",
   "metadata": {},
   "outputs": [
    {
     "name": "stdout",
     "output_type": "stream",
     "text": [
      "사용 가능한 모델 : ['LogisticRegression', 'SGDClassifier', 'KNeighborsClassifier']\n"
     ]
    }
   ],
   "source": [
    "support = YjkClassifierSupport()"
   ]
  },
  {
   "cell_type": "code",
   "execution_count": 10,
   "id": "6ac971e9-2e11-4f1d-90e6-ac05a0f47c86",
   "metadata": {},
   "outputs": [],
   "source": [
    "result_df = yjk_classifier_multi_gridsearch(support, x_train, x_test, y_train, y_test, randomized_search = True)"
   ]
  },
  {
   "cell_type": "code",
   "execution_count": 11,
   "id": "b37e051a-5f95-4909-a354-bb21cd3eaa1a",
   "metadata": {},
   "outputs": [
    {
     "data": {
      "text/html": [
       "<div>\n",
       "<style scoped>\n",
       "    .dataframe tbody tr th:only-of-type {\n",
       "        vertical-align: middle;\n",
       "    }\n",
       "\n",
       "    .dataframe tbody tr th {\n",
       "        vertical-align: top;\n",
       "    }\n",
       "\n",
       "    .dataframe thead th {\n",
       "        text-align: right;\n",
       "    }\n",
       "</style>\n",
       "<table border=\"1\" class=\"dataframe\">\n",
       "  <thead>\n",
       "    <tr style=\"text-align: right;\">\n",
       "      <th></th>\n",
       "      <th>best_model</th>\n",
       "      <th>best_param</th>\n",
       "      <th>accuracy_train</th>\n",
       "      <th>accuracy_test</th>\n",
       "    </tr>\n",
       "    <tr>\n",
       "      <th>model_name</th>\n",
       "      <th></th>\n",
       "      <th></th>\n",
       "      <th></th>\n",
       "      <th></th>\n",
       "    </tr>\n",
       "  </thead>\n",
       "  <tbody>\n",
       "    <tr>\n",
       "      <th>LogisticRegression</th>\n",
       "      <td>LogisticRegression(C=0.1, max_iter=500, n_jobs...</td>\n",
       "      <td>{'penalty': None, 'max_iter': 500, 'C': 0.1}</td>\n",
       "      <td>0.975000</td>\n",
       "      <td>1.000000</td>\n",
       "    </tr>\n",
       "    <tr>\n",
       "      <th>KNeighborsClassifier</th>\n",
       "      <td>KNeighborsClassifier(n_jobs=-1, weights='dista...</td>\n",
       "      <td>{'weights': 'distance', 'p': 2, 'n_neighbors': 5}</td>\n",
       "      <td>0.950000</td>\n",
       "      <td>0.966667</td>\n",
       "    </tr>\n",
       "    <tr>\n",
       "      <th>SGDClassifier</th>\n",
       "      <td>SGDClassifier(alpha=0.001, max_iter=100, n_job...</td>\n",
       "      <td>{'tol': 0.01, 'penalty': 'l2', 'max_iter': 100...</td>\n",
       "      <td>0.958333</td>\n",
       "      <td>0.933333</td>\n",
       "    </tr>\n",
       "  </tbody>\n",
       "</table>\n",
       "</div>"
      ],
      "text/plain": [
       "                                                             best_model  \\\n",
       "model_name                                                                \n",
       "LogisticRegression    LogisticRegression(C=0.1, max_iter=500, n_jobs...   \n",
       "KNeighborsClassifier  KNeighborsClassifier(n_jobs=-1, weights='dista...   \n",
       "SGDClassifier         SGDClassifier(alpha=0.001, max_iter=100, n_job...   \n",
       "\n",
       "                                                             best_param  \\\n",
       "model_name                                                                \n",
       "LogisticRegression         {'penalty': None, 'max_iter': 500, 'C': 0.1}   \n",
       "KNeighborsClassifier  {'weights': 'distance', 'p': 2, 'n_neighbors': 5}   \n",
       "SGDClassifier         {'tol': 0.01, 'penalty': 'l2', 'max_iter': 100...   \n",
       "\n",
       "                      accuracy_train  accuracy_test  \n",
       "model_name                                           \n",
       "LogisticRegression          0.975000       1.000000  \n",
       "KNeighborsClassifier        0.950000       0.966667  \n",
       "SGDClassifier               0.958333       0.933333  "
      ]
     },
     "execution_count": 11,
     "metadata": {},
     "output_type": "execute_result"
    }
   ],
   "source": [
    "result_df"
   ]
  },
  {
   "cell_type": "code",
   "execution_count": 12,
   "id": "c8fa7526-d65c-40b3-bc56-f9678dab92d4",
   "metadata": {},
   "outputs": [],
   "source": [
    "model = result_df.iloc[0, 0]"
   ]
  },
  {
   "cell_type": "code",
   "execution_count": 13,
   "id": "ea0314f7-8e28-4a92-991a-18a4209a8788",
   "metadata": {},
   "outputs": [
    {
     "data": {
      "text/plain": [
       "1.0"
      ]
     },
     "execution_count": 13,
     "metadata": {},
     "output_type": "execute_result"
    }
   ],
   "source": [
    "yjk_classification_score(model = model, x = x_test, y = y_test, metrics = 'accuracy')"
   ]
  },
  {
   "cell_type": "code",
   "execution_count": null,
   "id": "834117c2-ee24-41e0-8e8b-d44142f43fe3",
   "metadata": {},
   "outputs": [],
   "source": []
  },
  {
   "cell_type": "code",
   "execution_count": null,
   "id": "7ecbdf91-6c8f-4f56-83b9-e26f3bfe58e1",
   "metadata": {},
   "outputs": [],
   "source": []
  },
  {
   "cell_type": "code",
   "execution_count": null,
   "id": "ab0db222-5911-4630-bab2-0b9f48442a6a",
   "metadata": {},
   "outputs": [],
   "source": []
  },
  {
   "cell_type": "code",
   "execution_count": null,
   "id": "4d6fd1d1-b7a3-4e4c-acd8-c0f87672169b",
   "metadata": {},
   "outputs": [],
   "source": []
  },
  {
   "cell_type": "code",
   "execution_count": null,
   "id": "4b8be339-72e4-40e3-9560-92034daf9272",
   "metadata": {},
   "outputs": [],
   "source": []
  }
 ],
 "metadata": {
  "kernelspec": {
   "display_name": "Python 3 (ipykernel)",
   "language": "python",
   "name": "python3"
  },
  "language_info": {
   "codemirror_mode": {
    "name": "ipython",
    "version": 3
   },
   "file_extension": ".py",
   "mimetype": "text/x-python",
   "name": "python",
   "nbconvert_exporter": "python",
   "pygments_lexer": "ipython3",
   "version": "3.11.5"
  }
 },
 "nbformat": 4,
 "nbformat_minor": 5
}
