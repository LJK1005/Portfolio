{
 "cells": [
  {
   "cell_type": "code",
   "execution_count": null,
   "id": "ece67a62-de5e-408d-91f9-d9a26e71bd39",
   "metadata": {},
   "outputs": [],
   "source": [
    "import sys\n",
    "sys.path.append(\"Y:\\Python\\Mega_IT\")\n",
    "\n",
    "from yjk_module.preprocessing import *\n",
    "from yjk_module.ml_module import *"
   ]
  },
  {
   "cell_type": "code",
   "execution_count": 2,
   "id": "c4111458-ad7b-42ab-8d83-31f183035ff5",
   "metadata": {},
   "outputs": [],
   "source": [
    "from hossam.util import *\n",
    "from hossam.plot import *\n",
    "from hossam.analysis import *\n",
    "from hossam.classification import *"
   ]
  },
  {
   "cell_type": "code",
   "execution_count": 3,
   "id": "70289b2c-2ba5-414a-97a5-bfbc1dec41d0",
   "metadata": {},
   "outputs": [],
   "source": [
    "from sklearn.svm import LinearSVC, SVC"
   ]
  },
  {
   "cell_type": "code",
   "execution_count": null,
   "id": "c86c0de7-2037-4fff-9557-7010cdbd99c6",
   "metadata": {},
   "outputs": [],
   "source": []
  },
  {
   "cell_type": "code",
   "execution_count": null,
   "id": "f762f12e-689f-4e3c-b7c4-1eb0cf54eb11",
   "metadata": {},
   "outputs": [],
   "source": []
  },
  {
   "cell_type": "code",
   "execution_count": null,
   "id": "a56d9459-cbcc-4163-8530-b4dafbd93006",
   "metadata": {},
   "outputs": [],
   "source": []
  },
  {
   "cell_type": "code",
   "execution_count": null,
   "id": "bcb82778-849d-4fc6-9408-976b613e6f4b",
   "metadata": {},
   "outputs": [],
   "source": []
  },
  {
   "cell_type": "code",
   "execution_count": null,
   "id": "727276cc-c9d4-427f-966a-61002913bcfa",
   "metadata": {},
   "outputs": [],
   "source": []
  },
  {
   "cell_type": "code",
   "execution_count": null,
   "id": "21825e27-df41-4eab-8590-1badc096d7c1",
   "metadata": {},
   "outputs": [],
   "source": []
  },
  {
   "cell_type": "code",
   "execution_count": null,
   "id": "52da7245-ed55-4d36-ac12-4c72e65a9fc9",
   "metadata": {},
   "outputs": [],
   "source": []
  },
  {
   "cell_type": "code",
   "execution_count": null,
   "id": "9bca0c10-2d88-4968-bb07-75d7912da071",
   "metadata": {},
   "outputs": [],
   "source": []
  },
  {
   "cell_type": "code",
   "execution_count": null,
   "id": "17eb435f-9379-4cfd-bbf0-7713ce7b64ac",
   "metadata": {},
   "outputs": [],
   "source": []
  },
  {
   "cell_type": "code",
   "execution_count": null,
   "id": "b42861e5-48f8-499f-a1e7-b5baff150c07",
   "metadata": {},
   "outputs": [],
   "source": []
  },
  {
   "cell_type": "code",
   "execution_count": null,
   "id": "82dbac32-14e9-49ed-966b-913cb0a9be59",
   "metadata": {},
   "outputs": [],
   "source": []
  },
  {
   "cell_type": "code",
   "execution_count": null,
   "id": "6759118b-a20f-4e40-afe5-65cfc3d7f427",
   "metadata": {},
   "outputs": [],
   "source": []
  },
  {
   "cell_type": "code",
   "execution_count": null,
   "id": "f861787d-8bf2-4589-8b21-18740c08c5b3",
   "metadata": {},
   "outputs": [],
   "source": []
  },
  {
   "cell_type": "code",
   "execution_count": null,
   "id": "75bb5f54-7c35-4c9c-8281-143d71f72cea",
   "metadata": {},
   "outputs": [],
   "source": []
  },
  {
   "cell_type": "code",
   "execution_count": null,
   "id": "fea3212e-47c4-4645-98c7-9bb537e6f296",
   "metadata": {},
   "outputs": [],
   "source": []
  },
  {
   "cell_type": "code",
   "execution_count": null,
   "id": "43849512-588c-469f-a04d-818f44b145ad",
   "metadata": {},
   "outputs": [],
   "source": []
  },
  {
   "cell_type": "code",
   "execution_count": null,
   "id": "58c18ec7-bf2f-484d-a4c4-c99f362eb0c0",
   "metadata": {},
   "outputs": [],
   "source": []
  },
  {
   "cell_type": "code",
   "execution_count": null,
   "id": "eb4f9202-bf79-4c80-809d-666f88f0f1bb",
   "metadata": {},
   "outputs": [],
   "source": []
  }
 ],
 "metadata": {
  "kernelspec": {
   "display_name": "Python 3 (ipykernel)",
   "language": "python",
   "name": "python3"
  },
  "language_info": {
   "codemirror_mode": {
    "name": "ipython",
    "version": 3
   },
   "file_extension": ".py",
   "mimetype": "text/x-python",
   "name": "python",
   "nbconvert_exporter": "python",
   "pygments_lexer": "ipython3",
   "version": "3.11.5"
  }
 },
 "nbformat": 4,
 "nbformat_minor": 5
}
