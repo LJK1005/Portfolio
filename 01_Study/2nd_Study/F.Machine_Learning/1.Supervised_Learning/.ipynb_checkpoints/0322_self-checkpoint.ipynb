{
 "cells": [
  {
   "cell_type": "markdown",
   "id": "357bf0f6-a114-48b4-acd5-c3d4800eb77b",
   "metadata": {},
   "source": [
    "- 지도학습의 회귀식 기반 알고리즘\n",
    "    - 회귀 (수치 예측) : LinearRegression, Ridge, Lasso\n",
    "    - 분류 : LogisticRegression\n",
    "        - 위 알고리즘들은 통계학을 기반으로 함\n",
    "        - 그렇기 때문에 종속변수에 영향을 미치는 요인을 구체적으로 찾을 수 있음 (VIF, 유의수준을 통하여 변수를 정제)\n",
    "- KNN ~ SGD의 머신러닝 알고리즘\n",
    "    - Naive Bayes를 제외하고 회귀 모델도 적용 가능\n",
    "    - 회귀식을 기반으로 하는 것이 아니기 때문에 계수와 절편이 존재하지 않음\n",
    "        - 독립변수를 기반으로 예측모형을 만드는 것이 목적\n",
    "        - VIF를 계산하여 변수 필터링은 가능"
   ]
  },
  {
   "cell_type": "markdown",
   "id": "f989d2dd-165e-43ee-b35e-395cfc344f2b",
   "metadata": {},
   "source": [
    "- Stack : 선입후출, 먼저 Input된 데이터가 마지막에 Output이 됨\n",
    "    - 함수끼리 호출되는 구조는 콜스택 구조 (함수에서 함수를 호출하면 호출된 함수가 return 하여 먼저 끝남)\n",
    "- Heap : 선입선출, 먼저 Input된 데이터가 먼저 Output이 됨\n",
    "- 모든 과정을 사람이 직접 따라가는 과정을 디버깅이라고 함"
   ]
  },
  {
   "cell_type": "code",
   "execution_count": null,
   "id": "cf9d0077-7a21-44d4-9f12-b83b8b754c98",
   "metadata": {},
   "outputs": [],
   "source": []
  },
  {
   "cell_type": "code",
   "execution_count": null,
   "id": "e725cb54-c442-49c0-90c9-6fa13b962724",
   "metadata": {},
   "outputs": [],
   "source": []
  },
  {
   "cell_type": "code",
   "execution_count": null,
   "id": "b98695e1-92ad-4977-ab1b-7769f37b13c4",
   "metadata": {},
   "outputs": [],
   "source": []
  }
 ],
 "metadata": {
  "kernelspec": {
   "display_name": "Python 3 (ipykernel)",
   "language": "python",
   "name": "python3"
  },
  "language_info": {
   "codemirror_mode": {
    "name": "ipython",
    "version": 3
   },
   "file_extension": ".py",
   "mimetype": "text/x-python",
   "name": "python",
   "nbconvert_exporter": "python",
   "pygments_lexer": "ipython3",
   "version": "3.10.9"
  }
 },
 "nbformat": 4,
 "nbformat_minor": 5
}
