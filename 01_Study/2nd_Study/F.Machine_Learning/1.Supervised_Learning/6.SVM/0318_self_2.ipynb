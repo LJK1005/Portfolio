{
 "cells": [
  {
   "cell_type": "code",
   "execution_count": 1,
   "id": "2102a08a-ef92-4695-b9dd-ba08097cb6ea",
   "metadata": {},
   "outputs": [],
   "source": [
    "import sys\n",
    "sys.path.append(\"Y:\\Python\\Mega_IT\")\n",
    "\n",
    "import warnings\n",
    "warnings.filterwarnings('ignore')\n",
    "\n",
    "from yjk_module.preprocessing import *\n",
    "from yjk_module.ml_module import *"
   ]
  },
  {
   "cell_type": "code",
   "execution_count": 2,
   "id": "3e29151e-8e78-4a1a-8cca-810ce5d2d343",
   "metadata": {},
   "outputs": [],
   "source": [
    "from hossam.util import *\n",
    "from hossam.plot import *\n",
    "from hossam.analysis import *\n",
    "from hossam.classification import *"
   ]
  },
  {
   "cell_type": "code",
   "execution_count": 3,
   "id": "de1e6999-88b4-4c2c-a050-fc6f358909e5",
   "metadata": {},
   "outputs": [],
   "source": [
    "origin1 = pd.read_excel(\"./data/apple_quality.xlsx\")"
   ]
  },
  {
   "cell_type": "code",
   "execution_count": 4,
   "id": "b7b727bf-4a89-4c96-bddb-2123152eb7b0",
   "metadata": {},
   "outputs": [],
   "source": [
    "df1 = origin1.dropna()\n",
    "df1_2 = my_labelling(df1, 'Quality')"
   ]
  },
  {
   "cell_type": "code",
   "execution_count": 5,
   "id": "14ff5825-5d6f-4a82-b321-4bdd29ffb944",
   "metadata": {},
   "outputs": [],
   "source": [
    "df1_3 = df1_2.drop(['Weight', 'Crunchiness'], axis=1)\n",
    "\n",
    "x_train, x_test, y_train, y_test = my_train_test_split(df1_3, yname='Quality', scalling=True)"
   ]
  },
  {
   "cell_type": "code",
   "execution_count": 6,
   "id": "43f1aed1-9aca-4e0f-a37a-3802607efab5",
   "metadata": {},
   "outputs": [
    {
     "name": "stdout",
     "output_type": "stream",
     "text": [
      "사용 가능한 모델 : ['LogisticRegression', 'SGDClassifier', 'KNeighborsClassifier', 'LinearSVC', 'SVC']\n"
     ]
    }
   ],
   "source": [
    "support = YjkClassifierSupport()"
   ]
  },
  {
   "cell_type": "code",
   "execution_count": 7,
   "id": "ace12a22-5d8f-4fcd-aaff-9573090c5467",
   "metadata": {},
   "outputs": [
    {
     "name": "stdout",
     "output_type": "stream",
     "text": [
      "LogisticRegression 모델 소요 시간 : 0:00:03\n",
      "SGDClassifier 모델 소요 시간 : 0:00:05\n",
      "KNeighborsClassifier 모델 소요 시간 : 0:00:01\n",
      "LinearSVC 모델 소요 시간 : 0:00:02\n",
      "SVC 모델 소요 시간 : 0:00:19\n",
      "총 소요 시간 : 0:00:30\n"
     ]
    }
   ],
   "source": [
    "result_df = yjk_classifier_multi_gridsearch(support, x_train, y_train, x_test, y_test, randomized_search = True, secondary_score = \n",
    "                               ['roc_auc', 'recall', 'precision'])"
   ]
  },
  {
   "cell_type": "code",
   "execution_count": 8,
   "id": "9fa91305-a6a9-4f05-a5ca-b5140d7bb2e2",
   "metadata": {},
   "outputs": [
    {
     "data": {
      "text/html": [
       "<div>\n",
       "<style scoped>\n",
       "    .dataframe tbody tr th:only-of-type {\n",
       "        vertical-align: middle;\n",
       "    }\n",
       "\n",
       "    .dataframe tbody tr th {\n",
       "        vertical-align: top;\n",
       "    }\n",
       "\n",
       "    .dataframe thead th {\n",
       "        text-align: right;\n",
       "    }\n",
       "</style>\n",
       "<table border=\"1\" class=\"dataframe\">\n",
       "  <thead>\n",
       "    <tr style=\"text-align: right;\">\n",
       "      <th></th>\n",
       "      <th>best_model</th>\n",
       "      <th>best_param</th>\n",
       "      <th>accuracy_train</th>\n",
       "      <th>accuracy_test</th>\n",
       "      <th>roc_auc_train</th>\n",
       "      <th>roc_auc_test</th>\n",
       "      <th>recall_train</th>\n",
       "      <th>recall_test</th>\n",
       "      <th>precision_train</th>\n",
       "      <th>precision_test</th>\n",
       "    </tr>\n",
       "    <tr>\n",
       "      <th>model_name</th>\n",
       "      <th></th>\n",
       "      <th></th>\n",
       "      <th></th>\n",
       "      <th></th>\n",
       "      <th></th>\n",
       "      <th></th>\n",
       "      <th></th>\n",
       "      <th></th>\n",
       "      <th></th>\n",
       "      <th></th>\n",
       "    </tr>\n",
       "  </thead>\n",
       "  <tbody>\n",
       "    <tr>\n",
       "      <th>SVC</th>\n",
       "      <td>SVC(C=10, degree=2)</td>\n",
       "      <td>{'kernel': 'rbf', 'degree': 2, 'C': 10}</td>\n",
       "      <td>0.846250</td>\n",
       "      <td>0.84125</td>\n",
       "      <td>NaN</td>\n",
       "      <td>NaN</td>\n",
       "      <td>0.901741</td>\n",
       "      <td>0.851010</td>\n",
       "      <td>0.867225</td>\n",
       "      <td>0.832099</td>\n",
       "    </tr>\n",
       "    <tr>\n",
       "      <th>KNeighborsClassifier</th>\n",
       "      <td>KNeighborsClassifier(n_jobs=-1, weights='dista...</td>\n",
       "      <td>{'weights': 'distance', 'p': 2, 'n_neighbors': 5}</td>\n",
       "      <td>0.829688</td>\n",
       "      <td>0.81125</td>\n",
       "      <td>1.000000</td>\n",
       "      <td>0.891824</td>\n",
       "      <td>1.000000</td>\n",
       "      <td>0.828283</td>\n",
       "      <td>1.000000</td>\n",
       "      <td>0.798054</td>\n",
       "    </tr>\n",
       "    <tr>\n",
       "      <th>SGDClassifier</th>\n",
       "      <td>SGDClassifier(alpha=0.01, loss='huber', max_it...</td>\n",
       "      <td>{'tol': 0.0001, 'penalty': 'elasticnet', 'max_...</td>\n",
       "      <td>0.742500</td>\n",
       "      <td>0.71375</td>\n",
       "      <td>NaN</td>\n",
       "      <td>NaN</td>\n",
       "      <td>0.810945</td>\n",
       "      <td>0.797980</td>\n",
       "      <td>0.712179</td>\n",
       "      <td>0.679570</td>\n",
       "    </tr>\n",
       "    <tr>\n",
       "      <th>LogisticRegression</th>\n",
       "      <td>LogisticRegression(C=0.01, n_jobs=-1)</td>\n",
       "      <td>{'penalty': 'l2', 'max_iter': 100, 'C': 0.01}</td>\n",
       "      <td>0.738750</td>\n",
       "      <td>0.71250</td>\n",
       "      <td>0.817706</td>\n",
       "      <td>0.791473</td>\n",
       "      <td>0.755597</td>\n",
       "      <td>0.734848</td>\n",
       "      <td>0.733253</td>\n",
       "      <td>0.699519</td>\n",
       "    </tr>\n",
       "    <tr>\n",
       "      <th>LinearSVC</th>\n",
       "      <td>LinearSVC(C=10, dual=True, loss='hinge', max_i...</td>\n",
       "      <td>{'penalty': 'l2', 'max_iter': 10000, 'loss': '...</td>\n",
       "      <td>0.738125</td>\n",
       "      <td>0.71250</td>\n",
       "      <td>NaN</td>\n",
       "      <td>NaN</td>\n",
       "      <td>0.760572</td>\n",
       "      <td>0.739899</td>\n",
       "      <td>0.727976</td>\n",
       "      <td>0.697619</td>\n",
       "    </tr>\n",
       "  </tbody>\n",
       "</table>\n",
       "</div>"
      ],
      "text/plain": [
       "                                                             best_model  \\\n",
       "model_name                                                                \n",
       "SVC                                                 SVC(C=10, degree=2)   \n",
       "KNeighborsClassifier  KNeighborsClassifier(n_jobs=-1, weights='dista...   \n",
       "SGDClassifier         SGDClassifier(alpha=0.01, loss='huber', max_it...   \n",
       "LogisticRegression                LogisticRegression(C=0.01, n_jobs=-1)   \n",
       "LinearSVC             LinearSVC(C=10, dual=True, loss='hinge', max_i...   \n",
       "\n",
       "                                                             best_param  \\\n",
       "model_name                                                                \n",
       "SVC                             {'kernel': 'rbf', 'degree': 2, 'C': 10}   \n",
       "KNeighborsClassifier  {'weights': 'distance', 'p': 2, 'n_neighbors': 5}   \n",
       "SGDClassifier         {'tol': 0.0001, 'penalty': 'elasticnet', 'max_...   \n",
       "LogisticRegression        {'penalty': 'l2', 'max_iter': 100, 'C': 0.01}   \n",
       "LinearSVC             {'penalty': 'l2', 'max_iter': 10000, 'loss': '...   \n",
       "\n",
       "                      accuracy_train  accuracy_test  roc_auc_train  \\\n",
       "model_name                                                           \n",
       "SVC                         0.846250        0.84125            NaN   \n",
       "KNeighborsClassifier        0.829688        0.81125       1.000000   \n",
       "SGDClassifier               0.742500        0.71375            NaN   \n",
       "LogisticRegression          0.738750        0.71250       0.817706   \n",
       "LinearSVC                   0.738125        0.71250            NaN   \n",
       "\n",
       "                      roc_auc_test  recall_train  recall_test  \\\n",
       "model_name                                                      \n",
       "SVC                            NaN      0.901741     0.851010   \n",
       "KNeighborsClassifier      0.891824      1.000000     0.828283   \n",
       "SGDClassifier                  NaN      0.810945     0.797980   \n",
       "LogisticRegression        0.791473      0.755597     0.734848   \n",
       "LinearSVC                      NaN      0.760572     0.739899   \n",
       "\n",
       "                      precision_train  precision_test  \n",
       "model_name                                             \n",
       "SVC                          0.867225        0.832099  \n",
       "KNeighborsClassifier         1.000000        0.798054  \n",
       "SGDClassifier                0.712179        0.679570  \n",
       "LogisticRegression           0.733253        0.699519  \n",
       "LinearSVC                    0.727976        0.697619  "
      ]
     },
     "execution_count": 8,
     "metadata": {},
     "output_type": "execute_result"
    }
   ],
   "source": [
    "result_df"
   ]
  },
  {
   "cell_type": "code",
   "execution_count": null,
   "id": "41cacb2c-7833-4c75-8233-ed569165ca8d",
   "metadata": {},
   "outputs": [],
   "source": []
  },
  {
   "cell_type": "code",
   "execution_count": null,
   "id": "7ea56b72-e4fc-4660-913e-aa6bf54a0587",
   "metadata": {},
   "outputs": [],
   "source": []
  },
  {
   "cell_type": "code",
   "execution_count": null,
   "id": "0af811e3-4222-440a-8453-e546905d4bd6",
   "metadata": {},
   "outputs": [],
   "source": []
  },
  {
   "cell_type": "code",
   "execution_count": null,
   "id": "a559d9a7-e646-4571-9ca1-c88724ae399b",
   "metadata": {},
   "outputs": [],
   "source": []
  },
  {
   "cell_type": "code",
   "execution_count": null,
   "id": "6b48e2f1-3a96-48d3-9418-c39656c54e95",
   "metadata": {},
   "outputs": [],
   "source": []
  },
  {
   "cell_type": "code",
   "execution_count": null,
   "id": "b6672e11-b421-4437-a4ad-f3ab189a0a5e",
   "metadata": {},
   "outputs": [],
   "source": []
  },
  {
   "cell_type": "code",
   "execution_count": null,
   "id": "3387000b-e32b-42ce-8edf-ea9f8d327305",
   "metadata": {},
   "outputs": [],
   "source": []
  },
  {
   "cell_type": "code",
   "execution_count": null,
   "id": "3fdb3cd1-441e-49af-a1c5-cf55df91629d",
   "metadata": {},
   "outputs": [],
   "source": []
  }
 ],
 "metadata": {
  "kernelspec": {
   "display_name": "Python 3 (ipykernel)",
   "language": "python",
   "name": "python3"
  },
  "language_info": {
   "codemirror_mode": {
    "name": "ipython",
    "version": 3
   },
   "file_extension": ".py",
   "mimetype": "text/x-python",
   "name": "python",
   "nbconvert_exporter": "python",
   "pygments_lexer": "ipython3",
   "version": "3.10.9"
  }
 },
 "nbformat": 4,
 "nbformat_minor": 5
}
