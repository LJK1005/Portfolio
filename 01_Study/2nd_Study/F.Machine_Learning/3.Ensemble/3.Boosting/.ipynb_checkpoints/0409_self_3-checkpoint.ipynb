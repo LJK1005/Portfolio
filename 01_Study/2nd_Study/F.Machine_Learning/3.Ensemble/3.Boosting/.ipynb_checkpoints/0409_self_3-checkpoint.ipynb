{
 "cells": [
  {
   "cell_type": "code",
   "execution_count": 1,
   "id": "d412341e-920f-4570-bed4-bd4dd3856ba9",
   "metadata": {},
   "outputs": [],
   "source": [
    "import sys\n",
    "sys.path.append(\"Y:\\Python\\Mega_IT\")\n",
    "\n",
    "from yjk_module.preprocessing import *\n",
    "from yjk_module.ml_module import *"
   ]
  },
  {
   "cell_type": "code",
   "execution_count": 2,
   "id": "c77b3b3e-232e-4d53-86f2-3de886ae82c4",
   "metadata": {},
   "outputs": [],
   "source": [
    "import warnings\n",
    "warnings.filterwarnings(action='ignore')\n",
    "\n",
    "from hossam.util import *\n",
    "from hossam.plot import *\n",
    "from hossam.analysis import *\n",
    "from hossam.classification import *\n",
    "from hossam.regression import *\n",
    "\n",
    "from xgboost import XGBRegressor, XGBClassifier, plot_importance, to_graphviz\n",
    "from lightgbm import LGBMRegressor, LGBMClassifier, plot_importance\n",
    "from sklearn.model_selection import RandomizedSearchCV"
   ]
  },
  {
   "cell_type": "code",
   "execution_count": 3,
   "id": "04ecaf21-6537-4c4e-803e-a1b1e1f67ee6",
   "metadata": {},
   "outputs": [
    {
     "data": {
      "text/html": [
       "<div>\n",
       "<style scoped>\n",
       "    .dataframe tbody tr th:only-of-type {\n",
       "        vertical-align: middle;\n",
       "    }\n",
       "\n",
       "    .dataframe tbody tr th {\n",
       "        vertical-align: top;\n",
       "    }\n",
       "\n",
       "    .dataframe thead th {\n",
       "        text-align: right;\n",
       "    }\n",
       "</style>\n",
       "<table border=\"1\" class=\"dataframe\">\n",
       "  <thead>\n",
       "    <tr style=\"text-align: right;\">\n",
       "      <th></th>\n",
       "      <th>Pregnancies</th>\n",
       "      <th>Glucose</th>\n",
       "      <th>BloodPressure</th>\n",
       "      <th>SkinThickness</th>\n",
       "      <th>Insulin</th>\n",
       "      <th>BMI</th>\n",
       "      <th>DiabetesPedigreeFunction</th>\n",
       "      <th>Age</th>\n",
       "      <th>Outcome</th>\n",
       "    </tr>\n",
       "  </thead>\n",
       "  <tbody>\n",
       "    <tr>\n",
       "      <th>0</th>\n",
       "      <td>6</td>\n",
       "      <td>148</td>\n",
       "      <td>72</td>\n",
       "      <td>35</td>\n",
       "      <td>0</td>\n",
       "      <td>33.6</td>\n",
       "      <td>0.627</td>\n",
       "      <td>50</td>\n",
       "      <td>1</td>\n",
       "    </tr>\n",
       "    <tr>\n",
       "      <th>1</th>\n",
       "      <td>1</td>\n",
       "      <td>85</td>\n",
       "      <td>66</td>\n",
       "      <td>29</td>\n",
       "      <td>0</td>\n",
       "      <td>26.6</td>\n",
       "      <td>0.351</td>\n",
       "      <td>31</td>\n",
       "      <td>0</td>\n",
       "    </tr>\n",
       "    <tr>\n",
       "      <th>2</th>\n",
       "      <td>8</td>\n",
       "      <td>183</td>\n",
       "      <td>64</td>\n",
       "      <td>0</td>\n",
       "      <td>0</td>\n",
       "      <td>23.3</td>\n",
       "      <td>0.672</td>\n",
       "      <td>32</td>\n",
       "      <td>1</td>\n",
       "    </tr>\n",
       "    <tr>\n",
       "      <th>3</th>\n",
       "      <td>1</td>\n",
       "      <td>89</td>\n",
       "      <td>66</td>\n",
       "      <td>23</td>\n",
       "      <td>94</td>\n",
       "      <td>28.1</td>\n",
       "      <td>0.167</td>\n",
       "      <td>21</td>\n",
       "      <td>0</td>\n",
       "    </tr>\n",
       "    <tr>\n",
       "      <th>4</th>\n",
       "      <td>0</td>\n",
       "      <td>137</td>\n",
       "      <td>40</td>\n",
       "      <td>35</td>\n",
       "      <td>168</td>\n",
       "      <td>43.1</td>\n",
       "      <td>2.288</td>\n",
       "      <td>33</td>\n",
       "      <td>1</td>\n",
       "    </tr>\n",
       "  </tbody>\n",
       "</table>\n",
       "</div>"
      ],
      "text/plain": [
       "   Pregnancies  Glucose  BloodPressure  SkinThickness  Insulin   BMI  \\\n",
       "0            6      148             72             35        0  33.6   \n",
       "1            1       85             66             29        0  26.6   \n",
       "2            8      183             64              0        0  23.3   \n",
       "3            1       89             66             23       94  28.1   \n",
       "4            0      137             40             35      168  43.1   \n",
       "\n",
       "   DiabetesPedigreeFunction  Age  Outcome  \n",
       "0                     0.627   50        1  \n",
       "1                     0.351   31        0  \n",
       "2                     0.672   32        1  \n",
       "3                     0.167   21        0  \n",
       "4                     2.288   33        1  "
      ]
     },
     "execution_count": 3,
     "metadata": {},
     "output_type": "execute_result"
    }
   ],
   "source": [
    "origin1 = pd.read_excel(\"./data/pima_indians_diabetes.xlsx\")\n",
    "origin1.head()"
   ]
  },
  {
   "cell_type": "code",
   "execution_count": 4,
   "id": "9d309e78-b5cb-47b1-97ea-817da991e1d3",
   "metadata": {},
   "outputs": [
    {
     "name": "stdout",
     "output_type": "stream",
     "text": [
      "Glucose 0 건수는 5, 퍼센트는 0.65 %\n",
      "BloodPressure 0 건수는 35, 퍼센트는 4.56 %\n",
      "SkinThickness 0 건수는 227, 퍼센트는 29.56 %\n",
      "Insulin 0 건수는 374, 퍼센트는 48.70 %\n",
      "BMI 0 건수는 11, 퍼센트는 1.43 %\n",
      "------------------------------------------------------------------------------------------\n",
      "Glucose 0 건수는 0, 퍼센트는 0.00 %\n",
      "BloodPressure 0 건수는 0, 퍼센트는 0.00 %\n",
      "SkinThickness 0 건수는 0, 퍼센트는 0.00 %\n",
      "Insulin 0 건수는 0, 퍼센트는 0.00 %\n",
      "BMI 0 건수는 0, 퍼센트는 0.00 %\n"
     ]
    }
   ],
   "source": [
    "# 정제 대상 필드명\n",
    "zero_features = [\"Glucose\", \"BloodPressure\", \"SkinThickness\", \"Insulin\", \"BMI\"]\n",
    "\n",
    "# 0값을 결측치로 대체후 평균으로 다시 치환\n",
    "df1 = origin1.copy()\n",
    "df1[zero_features] = df1[zero_features].replace(0, np.nan)\n",
    "df1_2 = my_replace_missing_value(df1)\n",
    "\n",
    "# 결과확인\n",
    "total_count = len(origin1)\n",
    "\n",
    "for feature in zero_features:\n",
    "    zero_count = origin1[origin1[feature] == 0][feature].count()\n",
    "    print(\n",
    "        \"{0} 0 건수는 {1}, 퍼센트는 {2:.2f} %\".format(\n",
    "            feature, zero_count, 100 * zero_count / total_count\n",
    "        )\n",
    "    )\n",
    "\n",
    "print(\"---\" * 30)\n",
    "\n",
    "for feature in zero_features:\n",
    "    zero_count = df1_2[df1_2[feature] == 0][feature].count()\n",
    "    print(\n",
    "        \"{0} 0 건수는 {1}, 퍼센트는 {2:.2f} %\".format(\n",
    "            feature, zero_count, 100 * zero_count / total_count\n",
    "        )\n",
    "    )"
   ]
  },
  {
   "cell_type": "code",
   "execution_count": 5,
   "id": "db4cb174-3595-4e34-a914-47ec52423b65",
   "metadata": {},
   "outputs": [
    {
     "name": "stdout",
     "output_type": "stream",
     "text": [
      "(614, 8) (154, 8) (614,) (154,)\n"
     ]
    }
   ],
   "source": [
    "x_train, x_test, y_train, y_test = my_train_test_split(df1_2, \"Outcome\", scalling=True)\n",
    "print(x_train.shape, x_test.shape, y_train.shape, y_test.shape)"
   ]
  },
  {
   "cell_type": "code",
   "execution_count": 6,
   "id": "cc828e4e-dc3d-46c7-9829-8f83c02bd8c9",
   "metadata": {},
   "outputs": [
    {
     "name": "stdout",
     "output_type": "stream",
     "text": [
      "사용 가능한 모델 : ['LogisticRegression', 'SGDClassifier', 'KNeighborsClassifier', 'LinearSVC', 'SVC', 'GaussianNB', 'DecisionTreeClassifier', 'RandomForestClassifier', 'AdaBoostClassifier', 'GradientBoostingClassifier', 'XGBClassifier', 'LGBMClassifier', 'CatboostClassifier']\n"
     ]
    }
   ],
   "source": [
    "support = YjkClassifierSupport()"
   ]
  },
  {
   "cell_type": "code",
   "execution_count": 7,
   "id": "56a11660-e117-42ed-9eb0-e3f9ad1db450",
   "metadata": {},
   "outputs": [
    {
     "name": "stdout",
     "output_type": "stream",
     "text": [
      "[LGBMClassifier의 파라미터]\n",
      "+-------------------+-------------------------------------------------------+--------------------+\n",
      "| 파라미터명        | 파라미터 노트                                         | 파라미터 범위      |\n",
      "|-------------------+-------------------------------------------------------+--------------------|\n",
      "| num_leaves        | 트리당 최대 리프 수                                   | [31, 20, 40]       |\n",
      "| learning_rate     | 학습률, 높을수록 속도가 빠르지만 과적합 가능성이 높음 | [0.01, 0.05, 0.1]  |\n",
      "| n_estimators      | 학습을 진행할 부스팅 라운드 수                        | [100, 300, 500]    |\n",
      "| max_depth         | 트리 깊이                                             | [5, 7, 9, 11, -1]  |\n",
      "| subsample         | 트리를 구성하는 데이터 샘플링 비율                    | [0.8, 0.9, 1]      |\n",
      "| colsample_bytree  | 트리를 구성하는 피처의 샘플링 비율                    | [0.6, 0.8, 1]      |\n",
      "| min_child_samples | 결정 트리의 리프 노드가 되기 위해 필요한 샘플 수      | [10, 20, 30]       |\n",
      "| min_child_weight  | 트리를 분할하는데 필요한 모든 관측치의 최소 가중치 합 | [0.001, 0.01, 0.1] |\n",
      "+-------------------+-------------------------------------------------------+--------------------+\n"
     ]
    }
   ],
   "source": [
    "lgbm = support.call_model('LGBMClassifier')"
   ]
  },
  {
   "cell_type": "code",
   "execution_count": 8,
   "id": "8e7ea0ab-1150-46fe-92c2-d7c056d0e79b",
   "metadata": {},
   "outputs": [],
   "source": [
    "grid = GridSearchCV(lgbm, support.get_params(), n_jobs = -1)"
   ]
  },
  {
   "cell_type": "code",
   "execution_count": null,
   "id": "2090ea16-0d4d-4142-a80f-d7e6b3038503",
   "metadata": {},
   "outputs": [],
   "source": [
    "%%time\n",
    "\n",
    "grid.fit(x_train, y_train)"
   ]
  },
  {
   "cell_type": "code",
   "execution_count": null,
   "id": "4dea8dff-727a-4ef1-9aed-2a6f7baa5791",
   "metadata": {},
   "outputs": [],
   "source": []
  },
  {
   "cell_type": "code",
   "execution_count": null,
   "id": "d96e5521-467a-4ae6-8986-cbaa369e0db0",
   "metadata": {},
   "outputs": [],
   "source": []
  },
  {
   "cell_type": "code",
   "execution_count": null,
   "id": "89518380-090c-46ed-b8d1-f899624d51fa",
   "metadata": {},
   "outputs": [],
   "source": []
  },
  {
   "cell_type": "code",
   "execution_count": null,
   "id": "59ac3ffd-b9f7-46a5-8672-b6df30871857",
   "metadata": {},
   "outputs": [],
   "source": []
  },
  {
   "cell_type": "code",
   "execution_count": null,
   "id": "edf7a154-868d-40a4-88b0-308d02a4c886",
   "metadata": {},
   "outputs": [],
   "source": []
  },
  {
   "cell_type": "code",
   "execution_count": null,
   "id": "ad6cd8c0-33ca-4c4a-b963-f34c10d99804",
   "metadata": {},
   "outputs": [],
   "source": []
  },
  {
   "cell_type": "code",
   "execution_count": null,
   "id": "1ffb84a0-48c0-48c4-a442-800856c63e68",
   "metadata": {},
   "outputs": [],
   "source": []
  },
  {
   "cell_type": "code",
   "execution_count": null,
   "id": "fa36629b-bc03-4406-b9bd-c1e5f2ece622",
   "metadata": {},
   "outputs": [],
   "source": []
  },
  {
   "cell_type": "code",
   "execution_count": null,
   "id": "52fa54cb-f12e-4790-aea4-00cdca298c6f",
   "metadata": {},
   "outputs": [],
   "source": []
  },
  {
   "cell_type": "code",
   "execution_count": null,
   "id": "7f56b142-803c-4097-b574-7816d10f1d52",
   "metadata": {},
   "outputs": [],
   "source": []
  },
  {
   "cell_type": "code",
   "execution_count": null,
   "id": "f6576286-4235-499b-bc04-6d3d0f394019",
   "metadata": {},
   "outputs": [],
   "source": []
  },
  {
   "cell_type": "code",
   "execution_count": null,
   "id": "441b4c0f-9326-4bd5-94e9-30c15430ef2a",
   "metadata": {},
   "outputs": [],
   "source": []
  },
  {
   "cell_type": "code",
   "execution_count": null,
   "id": "6f5a8711-a9ed-4ac9-b81c-c396e23b5a15",
   "metadata": {},
   "outputs": [],
   "source": []
  },
  {
   "cell_type": "code",
   "execution_count": null,
   "id": "33185d1c-d9e2-4eb4-9a65-0898f64aa4f6",
   "metadata": {},
   "outputs": [],
   "source": []
  },
  {
   "cell_type": "code",
   "execution_count": null,
   "id": "95ee445a-a09f-4171-8938-d7c6004710de",
   "metadata": {},
   "outputs": [],
   "source": []
  },
  {
   "cell_type": "code",
   "execution_count": null,
   "id": "ad9f9012-9fda-4b61-967c-e756bd4a5da9",
   "metadata": {},
   "outputs": [],
   "source": []
  }
 ],
 "metadata": {
  "kernelspec": {
   "display_name": "Python 3 (ipykernel)",
   "language": "python",
   "name": "python3"
  },
  "language_info": {
   "codemirror_mode": {
    "name": "ipython",
    "version": 3
   },
   "file_extension": ".py",
   "mimetype": "text/x-python",
   "name": "python",
   "nbconvert_exporter": "python",
   "pygments_lexer": "ipython3",
   "version": "3.10.9"
  }
 },
 "nbformat": 4,
 "nbformat_minor": 5
}
