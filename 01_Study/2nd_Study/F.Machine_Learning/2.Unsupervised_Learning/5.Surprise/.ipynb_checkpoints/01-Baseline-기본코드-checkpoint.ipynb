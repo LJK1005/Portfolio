{
 "cells": [
  {
   "cell_type": "markdown",
   "metadata": {},
   "source": [
    "# Baseline 알고리즘 기본 코드\n",
    "\n",
    "## #01. 준비작업\n",
    "\n",
    "### [1] 패키지 가져오기"
   ]
  },
  {
   "cell_type": "code",
   "execution_count": 76,
   "metadata": {},
   "outputs": [
    {
     "name": "stderr",
     "output_type": "stream",
     "text": [
      "Intel(R) Extension for Scikit-learn* enabled (https://github.com/intel/scikit-learn-intelex)\n"
     ]
    }
   ],
   "source": [
    "import warnings\n",
    "warnings.filterwarnings('ignore')\n",
    "\n",
    "# Intel SKlearn 하드웨어 가속 패치 설정\n",
    "import sys\n",
    "if sys.platform == 'win32':\n",
    "    from sklearnex import patch_sklearn\n",
    "    patch_sklearn()\n",
    "\n",
    "from hossam.util import *\n",
    "from hossam.plot import *\n",
    "from hossam.analysis import *\n",
    "\n",
    "from surprise import Reader, Dataset, BaselineOnly\n",
    "from surprise.model_selection import train_test_split, cross_validate, GridSearchCV, RandomizedSearchCV\n",
    "from surprise.accuracy import rmse, mae"
   ]
  },
  {
   "cell_type": "markdown",
   "metadata": {},
   "source": [
    "### [2] 데이터 가져오기"
   ]
  },
  {
   "cell_type": "code",
   "execution_count": 66,
   "metadata": {},
   "outputs": [
    {
     "name": "stdout",
     "output_type": "stream",
     "text": [
      "<class 'pandas.core.frame.DataFrame'>\n",
      "RangeIndex: 100836 entries, 0 to 100835\n",
      "Data columns (total 4 columns):\n",
      " #   Column     Non-Null Count   Dtype  \n",
      "---  ------     --------------   -----  \n",
      " 0   userId     100836 non-null  int64  \n",
      " 1   movieId    100836 non-null  int64  \n",
      " 2   rating     100836 non-null  float64\n",
      " 3   timestamp  100836 non-null  int64  \n",
      "dtypes: float64(1), int64(3)\n",
      "memory usage: 3.1 MB\n",
      "None\n",
      "\n",
      "데이터프레임 상위 5개 행\n",
      "+----+----------+-----------+----------+-------------+\n",
      "|    |   userId |   movieId |   rating |   timestamp |\n",
      "|----+----------+-----------+----------+-------------|\n",
      "|  0 |        1 |         1 |        4 | 9.64983e+08 |\n",
      "|  1 |        1 |         3 |        4 | 9.64981e+08 |\n",
      "|  2 |        1 |         6 |        4 | 9.64982e+08 |\n",
      "|  3 |        1 |        47 |        5 | 9.64984e+08 |\n",
      "|  4 |        1 |        50 |        5 | 9.64983e+08 |\n",
      "+----+----------+-----------+----------+-------------+\n",
      "\n",
      "데이터프레임 하위 5개 행\n",
      "+--------+----------+-----------+----------+-------------+\n",
      "|        |   userId |   movieId |   rating |   timestamp |\n",
      "|--------+----------+-----------+----------+-------------|\n",
      "| 100831 |      610 |    166534 |        4 | 1.49385e+09 |\n",
      "| 100832 |      610 |    168248 |        5 | 1.49385e+09 |\n",
      "| 100833 |      610 |    168250 |        5 | 1.49427e+09 |\n",
      "| 100834 |      610 |    168252 |        5 | 1.49385e+09 |\n",
      "| 100835 |      610 |    170875 |        3 | 1.49385e+09 |\n",
      "+--------+----------+-----------+----------+-------------+\n",
      "\n",
      "기술통계\n",
      "+-----------+---------+-------------+-------------+-------------+-------------+-------------+-------------+------------+-------+\n",
      "|           |   count |        mean |         std |         min |         25% |         50% |         75% |        max |   nan |\n",
      "|-----------+---------+-------------+-------------+-------------+-------------+-------------+-------------+------------+-------|\n",
      "| userId    |  100836 |     326.128 |     182.618 |           1 |         177 |         325 |         477 |        610 |     0 |\n",
      "| movieId   |  100836 |     19435.3 |       35531 |           1 |        1199 |        2991 |        8122 |     193609 |     0 |\n",
      "| rating    |  100836 |     3.50156 |     1.04253 |         0.5 |           3 |         3.5 |           4 |          5 |     0 |\n",
      "| timestamp |  100836 | 1.20595e+09 | 2.16261e+08 | 8.28125e+08 | 1.01912e+09 | 1.18609e+09 | 1.43599e+09 | 1.5378e+09 |     0 |\n",
      "+-----------+---------+-------------+-------------+-------------+-------------+-------------+-------------+------------+-------+\n"
     ]
    }
   ],
   "source": [
    "origin = my_read_excel(\"https://data.hossam.kr/mldata/movie_ratings.xlsx\", sheet_name='ratings')"
   ]
  },
  {
   "cell_type": "markdown",
   "metadata": {},
   "source": [
    "## #02. 데이터 전처리\n",
    "\n",
    "### [1] Surprise 형식의 데이터로 변환\n",
    "\n",
    "`사용자 번호, 아이템 번호, 평점` 구조의 데이터를 만족해야 한다."
   ]
  },
  {
   "cell_type": "code",
   "execution_count": 67,
   "metadata": {},
   "outputs": [
    {
     "data": {
      "text/plain": [
       "<surprise.dataset.DatasetAutoFolds at 0x21d1f328890>"
      ]
     },
     "execution_count": 67,
     "metadata": {},
     "output_type": "execute_result"
    }
   ],
   "source": [
    "df = origin.drop('timestamp', axis=1)\n",
    "\n",
    "# 평점의 분포를 알려준다.\n",
    "reader = Reader(rating_scale=(0.5, 5.0))\n",
    "\n",
    "data = Dataset.load_from_df(df, reader)\n",
    "data"
   ]
  },
  {
   "cell_type": "markdown",
   "metadata": {},
   "source": [
    "## #03. 추천 모형 구현\n",
    "\n",
    "### [1] 기본 코드\n",
    "\n",
    "#### (1) 훈련, 검증 데이터 분리\n",
    "\n",
    "sklearn이 아닌 surprise 자체 함수 사용"
   ]
  },
  {
   "cell_type": "code",
   "execution_count": 68,
   "metadata": {},
   "outputs": [],
   "source": [
    "train, test = train_test_split(data, test_size=0.2, random_state=1234)"
   ]
  },
  {
   "cell_type": "markdown",
   "metadata": {},
   "source": [
    "#### (2) 추천 모형 학습 후 성능 평가"
   ]
  },
  {
   "cell_type": "code",
   "execution_count": 70,
   "metadata": {},
   "outputs": [
    {
     "name": "stdout",
     "output_type": "stream",
     "text": [
      "Estimating biases using als...\n"
     ]
    },
    {
     "data": {
      "text/plain": [
       "[Prediction(uid=603, iid=3996, r_ui=5.0, est=3.865470094018238, details={'was_impossible': False}),\n",
       " Prediction(uid=199, iid=2912, r_ui=4.0, est=3.5270186068257785, details={'was_impossible': False}),\n",
       " Prediction(uid=416, iid=2716, r_ui=2.0, est=3.2531312891488335, details={'was_impossible': False}),\n",
       " Prediction(uid=589, iid=150, r_ui=4.0, est=4.143871102075767, details={'was_impossible': False}),\n",
       " Prediction(uid=307, iid=6755, r_ui=4.0, est=2.6344308636371943, details={'was_impossible': False})]"
      ]
     },
     "execution_count": 70,
     "metadata": {},
     "output_type": "execute_result"
    }
   ],
   "source": [
    "estimator = BaselineOnly()\n",
    "estimator.fit(train)\n",
    "pred = estimator.test(test)\n",
    "pred[:5]"
   ]
  },
  {
   "cell_type": "markdown",
   "metadata": {},
   "source": [
    "> uid: 사용자 번호, iid: 아이템 번호, r_ui: 해당 사용자가 실제로 부여한 평점, est: 예측평점"
   ]
  },
  {
   "cell_type": "markdown",
   "metadata": {},
   "source": [
    "#### (3) 특정 유저가 특정 영화에 부여할 평점 예상"
   ]
  },
  {
   "cell_type": "code",
   "execution_count": 74,
   "metadata": {},
   "outputs": [
    {
     "data": {
      "text/plain": [
       "Prediction(uid=603, iid=3996, r_ui=None, est=3.865470094018238, details={'was_impossible': False})"
      ]
     },
     "execution_count": 74,
     "metadata": {},
     "output_type": "execute_result"
    }
   ],
   "source": [
    "upred = estimator.predict(uid=603, iid=3996)\n",
    "upred"
   ]
  },
  {
   "cell_type": "code",
   "execution_count": 75,
   "metadata": {},
   "outputs": [
    {
     "data": {
      "text/plain": [
       "3.865470094018238"
      ]
     },
     "execution_count": 75,
     "metadata": {},
     "output_type": "execute_result"
    }
   ],
   "source": [
    "upred.est"
   ]
  },
  {
   "cell_type": "markdown",
   "metadata": {},
   "source": [
    "#### (3) 성능평가"
   ]
  },
  {
   "cell_type": "code",
   "execution_count": 77,
   "metadata": {},
   "outputs": [
    {
     "name": "stdout",
     "output_type": "stream",
     "text": [
      "RMSE: 0.8715\n",
      "MAE:  0.6706\n"
     ]
    },
    {
     "data": {
      "text/plain": [
       "(0.8715309792778995, 0.6706040327595953)"
      ]
     },
     "execution_count": 77,
     "metadata": {},
     "output_type": "execute_result"
    }
   ],
   "source": [
    "rmse(pred), mae(pred)"
   ]
  },
  {
   "cell_type": "markdown",
   "metadata": {},
   "source": [
    "### [2] 교차검증\n",
    "\n",
    "#### (1) 교차검증을 위한 하이퍼파라미터 설정"
   ]
  },
  {
   "cell_type": "code",
   "execution_count": 78,
   "metadata": {},
   "outputs": [
    {
     "name": "stdout",
     "output_type": "stream",
     "text": [
      "Estimating biases using als...\n",
      "Estimating biases using als...\n",
      "Estimating biases using als...\n",
      "Estimating biases using als...\n",
      "Estimating biases using als...\n",
      "Evaluating RMSE, MAE of algorithm BaselineOnly on 5 split(s).\n",
      "\n",
      "                  Fold 1  Fold 2  Fold 3  Fold 4  Fold 5  Mean    Std     \n",
      "RMSE (testset)    0.8674  0.8851  0.8797  0.8702  0.8816  0.8768  0.0068  \n",
      "MAE (testset)     0.6667  0.6814  0.6782  0.6738  0.6827  0.6766  0.0058  \n",
      "Fit time          0.22    0.22    0.24    0.22    0.25    0.23    0.01    \n",
      "Test time         0.05    0.15    0.04    0.05    0.14    0.09    0.05    \n"
     ]
    }
   ],
   "source": [
    "estimator = BaselineOnly(bsl_options={\n",
    "    \"method\": \"als\",    # 알고리즘 \"als\" or \"sgd\"\n",
    "    \"n_epochs\": 10,     # 반복횟수 (기본값=10)\n",
    "    \"reg_u\": 10,        # 항목에 대한 정규화 매개변수 (기본값=10)\n",
    "    \"reg_i\": 15         # 사용자를 위한 정규화 매개변수 (기본값=15)\n",
    "})\n",
    "cv_result = cross_validate(estimator, data, measures=['RMSE', 'MAE'], cv=5, verbose=True)"
   ]
  },
  {
   "cell_type": "markdown",
   "metadata": {},
   "source": [
    "#### (2) 교차검증 결과 확인"
   ]
  },
  {
   "cell_type": "code",
   "execution_count": null,
   "metadata": {},
   "outputs": [
    {
     "data": {
      "text/plain": [
       "{'test_rmse': array([0.88060841, 0.88038165, 0.87616103, 0.87408784, 0.87093225]),\n",
       " 'test_mae': array([0.67978885, 0.68081967, 0.67656136, 0.67387679, 0.67081232]),\n",
       " 'fit_time': (0.18599820137023926,\n",
       "  0.19397473335266113,\n",
       "  0.19902825355529785,\n",
       "  0.1960005760192871,\n",
       "  0.19856786727905273),\n",
       " 'test_time': (0.04197525978088379,\n",
       "  0.04301953315734863,\n",
       "  0.13017582893371582,\n",
       "  0.04210782051086426,\n",
       "  0.04202151298522949)}"
      ]
     },
     "execution_count": 57,
     "metadata": {},
     "output_type": "execute_result"
    }
   ],
   "source": [
    "cv_result"
   ]
  },
  {
   "cell_type": "markdown",
   "metadata": {},
   "source": [
    "#### (3) 교차검증 성능 평가 지표 출력"
   ]
  },
  {
   "cell_type": "code",
   "execution_count": null,
   "metadata": {},
   "outputs": [
    {
     "name": "stdout",
     "output_type": "stream",
     "text": [
      "RMSE(mean): 0.8764342370847169\n",
      "MAE(mean): 0.6763717983600578\n"
     ]
    }
   ],
   "source": [
    "print(\"RMSE(mean):\", cv_result['test_rmse'].mean())\n",
    "print(\"MAE(mean):\", cv_result['test_mae'].mean())"
   ]
  },
  {
   "cell_type": "markdown",
   "metadata": {},
   "source": [
    "### [3] 하이퍼파라미터 튜닝\n",
    "\n",
    "#### (1) 학습 모형 구성"
   ]
  },
  {
   "cell_type": "code",
   "execution_count": 79,
   "metadata": {},
   "outputs": [],
   "source": [
    "params = {\n",
    "    'bsl_options': {\n",
    "        \"method\": [\"als\", \"sgd\"],    # 알고리즘 \"als\" or \"sgd\"\n",
    "        \"n_epochs\": [10, 20],        # 반복횟수 (기본값=10)\n",
    "        \"reg_u\": [10, 12],           # 사용자에 대한 정규화 매개변수 (기본값=10)\n",
    "        \"reg_i\": [15, 20]            # 아이템에 대한 정규화 매개변수 (기본값=15)\n",
    "    }\n",
    "}\n",
    "\n",
    "# grid = GridSearchCV(BaselineOnly, \n",
    "#                     param_grid=params, \n",
    "#                     measures=['RMSE', 'MAE'], \n",
    "#                     cv=5, \n",
    "#                     n_jobs=-1)\n",
    "                    \n",
    "grid = RandomizedSearchCV(BaselineOnly, \n",
    "                        param_distributions=params, \n",
    "                        measures=['RMSE', 'MAE'], \n",
    "                        cv=5, \n",
    "                        n_jobs=-1, \n",
    "                        random_state=1234)\n",
    "\n",
    "grid.fit(data)"
   ]
  },
  {
   "cell_type": "markdown",
   "metadata": {},
   "source": [
    "#### (2) 성능 평가 지표 확인"
   ]
  },
  {
   "cell_type": "code",
   "execution_count": null,
   "metadata": {},
   "outputs": [
    {
     "data": {
      "text/plain": [
       "{'rmse': 0.8698217841665166, 'mae': 0.6689836428036566}"
      ]
     },
     "execution_count": 60,
     "metadata": {},
     "output_type": "execute_result"
    }
   ],
   "source": [
    "grid.best_score"
   ]
  },
  {
   "cell_type": "markdown",
   "metadata": {},
   "source": [
    "#### (3) 최적 하이퍼파라미터 확인"
   ]
  },
  {
   "cell_type": "code",
   "execution_count": null,
   "metadata": {},
   "outputs": [
    {
     "data": {
      "text/plain": [
       "{'rmse': {'bsl_options': {'method': 'sgd',\n",
       "   'n_epochs': 20,\n",
       "   'reg_u': 12,\n",
       "   'reg_i': 15}},\n",
       " 'mae': {'bsl_options': {'method': 'sgd',\n",
       "   'n_epochs': 20,\n",
       "   'reg_u': 12,\n",
       "   'reg_i': 15}}}"
      ]
     },
     "execution_count": 61,
     "metadata": {},
     "output_type": "execute_result"
    }
   ],
   "source": [
    "grid.best_params"
   ]
  },
  {
   "cell_type": "markdown",
   "metadata": {},
   "source": [
    "#### (4) 최적 추정기"
   ]
  },
  {
   "cell_type": "code",
   "execution_count": 81,
   "metadata": {},
   "outputs": [
    {
     "data": {
      "text/plain": [
       "{'rmse': <surprise.prediction_algorithms.baseline_only.BaselineOnly at 0x21d2381c0d0>,\n",
       " 'mae': <surprise.prediction_algorithms.baseline_only.BaselineOnly at 0x21d2381fc50>}"
      ]
     },
     "execution_count": 81,
     "metadata": {},
     "output_type": "execute_result"
    }
   ],
   "source": [
    "grid.best_estimator"
   ]
  }
 ],
 "metadata": {
  "kernelspec": {
   "display_name": "Python 3",
   "language": "python",
   "name": "python3"
  },
  "language_info": {
   "codemirror_mode": {
    "name": "ipython",
    "version": 3
   },
   "file_extension": ".py",
   "mimetype": "text/x-python",
   "name": "python",
   "nbconvert_exporter": "python",
   "pygments_lexer": "ipython3",
   "version": "3.11.7"
  }
 },
 "nbformat": 4,
 "nbformat_minor": 2
}
