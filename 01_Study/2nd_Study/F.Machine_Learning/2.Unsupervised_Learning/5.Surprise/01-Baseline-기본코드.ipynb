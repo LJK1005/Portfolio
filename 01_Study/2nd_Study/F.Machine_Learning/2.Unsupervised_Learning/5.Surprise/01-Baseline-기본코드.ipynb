{
 "cells": [
  {
   "cell_type": "markdown",
   "metadata": {},
   "source": [
    "# Baseline 알고리즘 기본 코드\n",
    "\n",
    "사용자 Bias와 아이템 Bias를 고려\n",
    "\n",
    "## #01. 준비작업\n",
    "\n",
    "### [1] 패키지 가져오기"
   ]
  },
  {
   "cell_type": "code",
   "execution_count": 93,
   "metadata": {},
   "outputs": [
    {
     "name": "stderr",
     "output_type": "stream",
     "text": [
      "Intel(R) Extension for Scikit-learn* enabled (https://github.com/intel/scikit-learn-intelex)\n"
     ]
    }
   ],
   "source": [
    "import warnings\n",
    "warnings.filterwarnings('ignore')\n",
    "\n",
    "# Intel SKlearn 하드웨어 가속 패치 설정\n",
    "import sys\n",
    "if sys.platform == 'win32':\n",
    "    from sklearnex import patch_sklearn\n",
    "    patch_sklearn()\n",
    "\n",
    "from hossam.util import *\n",
    "from hossam.plot import *\n",
    "from hossam.analysis import *\n",
    "\n",
    "from surprise import Reader, Dataset, BaselineOnly\n",
    "from surprise.model_selection import train_test_split, cross_validate, GridSearchCV, RandomizedSearchCV\n",
    "from surprise.accuracy import rmse, mae"
   ]
  },
  {
   "cell_type": "markdown",
   "metadata": {},
   "source": [
    "### [2] 데이터 가져오기"
   ]
  },
  {
   "cell_type": "code",
   "execution_count": 94,
   "metadata": {},
   "outputs": [
    {
     "name": "stdout",
     "output_type": "stream",
     "text": [
      "<class 'pandas.core.frame.DataFrame'>\n",
      "RangeIndex: 100836 entries, 0 to 100835\n",
      "Data columns (total 4 columns):\n",
      " #   Column     Non-Null Count   Dtype  \n",
      "---  ------     --------------   -----  \n",
      " 0   userId     100836 non-null  int64  \n",
      " 1   movieId    100836 non-null  int64  \n",
      " 2   rating     100836 non-null  float64\n",
      " 3   timestamp  100836 non-null  int64  \n",
      "dtypes: float64(1), int64(3)\n",
      "memory usage: 3.1 MB\n",
      "None\n",
      "\n",
      "데이터프레임 상위 5개 행\n",
      "+----+----------+-----------+----------+-------------+\n",
      "|    |   userId |   movieId |   rating |   timestamp |\n",
      "|----+----------+-----------+----------+-------------|\n",
      "|  0 |        1 |         1 |        4 | 9.64983e+08 |\n",
      "|  1 |        1 |         3 |        4 | 9.64981e+08 |\n",
      "|  2 |        1 |         6 |        4 | 9.64982e+08 |\n",
      "|  3 |        1 |        47 |        5 | 9.64984e+08 |\n",
      "|  4 |        1 |        50 |        5 | 9.64983e+08 |\n",
      "+----+----------+-----------+----------+-------------+\n",
      "\n",
      "데이터프레임 하위 5개 행\n",
      "+--------+----------+-----------+----------+-------------+\n",
      "|        |   userId |   movieId |   rating |   timestamp |\n",
      "|--------+----------+-----------+----------+-------------|\n",
      "| 100831 |      610 |    166534 |        4 | 1.49385e+09 |\n",
      "| 100832 |      610 |    168248 |        5 | 1.49385e+09 |\n",
      "| 100833 |      610 |    168250 |        5 | 1.49427e+09 |\n",
      "| 100834 |      610 |    168252 |        5 | 1.49385e+09 |\n",
      "| 100835 |      610 |    170875 |        3 | 1.49385e+09 |\n",
      "+--------+----------+-----------+----------+-------------+\n",
      "\n",
      "기술통계\n",
      "+-----------+---------+-------------+-------------+-------------+-------------+-------------+-------------+------------+-------+\n",
      "|           |   count |        mean |         std |         min |         25% |         50% |         75% |        max |   nan |\n",
      "|-----------+---------+-------------+-------------+-------------+-------------+-------------+-------------+------------+-------|\n",
      "| userId    |  100836 |     326.128 |     182.618 |           1 |         177 |         325 |         477 |        610 |     0 |\n",
      "| movieId   |  100836 |     19435.3 |       35531 |           1 |        1199 |        2991 |        8122 |     193609 |     0 |\n",
      "| rating    |  100836 |     3.50156 |     1.04253 |         0.5 |           3 |         3.5 |           4 |          5 |     0 |\n",
      "| timestamp |  100836 | 1.20595e+09 | 2.16261e+08 | 8.28125e+08 | 1.01912e+09 | 1.18609e+09 | 1.43599e+09 | 1.5378e+09 |     0 |\n",
      "+-----------+---------+-------------+-------------+-------------+-------------+-------------+-------------+------------+-------+\n"
     ]
    }
   ],
   "source": [
    "origin = my_read_excel(\"https://data.hossam.kr/mldata/movie_ratings.xlsx\", sheet_name='ratings')"
   ]
  },
  {
   "cell_type": "markdown",
   "metadata": {},
   "source": [
    "## #02. 데이터 전처리\n",
    "\n",
    "### [1] Surprise 형식의 데이터로 변환\n",
    "\n",
    "`사용자 번호, 아이템 번호, 평점` 구조의 데이터를 만족해야 한다."
   ]
  },
  {
   "cell_type": "code",
   "execution_count": 95,
   "metadata": {},
   "outputs": [
    {
     "data": {
      "text/plain": [
       "<surprise.dataset.DatasetAutoFolds at 0x21d22519f90>"
      ]
     },
     "execution_count": 95,
     "metadata": {},
     "output_type": "execute_result"
    }
   ],
   "source": [
    "df = origin.drop('timestamp', axis=1)\n",
    "\n",
    "# 평점의 분포를 알려준다.\n",
    "reader = Reader(rating_scale=(0.5, 5.0))\n",
    "\n",
    "data = Dataset.load_from_df(df, reader)\n",
    "data"
   ]
  },
  {
   "cell_type": "markdown",
   "metadata": {},
   "source": [
    "## #03. 추천 모형 구현\n",
    "\n",
    "### [1] 기본 코드\n",
    "\n",
    "#### (1) 훈련, 검증 데이터 분리\n",
    "\n",
    "sklearn이 아닌 surprise 자체 함수 사용"
   ]
  },
  {
   "cell_type": "code",
   "execution_count": 96,
   "metadata": {},
   "outputs": [],
   "source": [
    "train, test = train_test_split(data, test_size=0.2, random_state=1234)"
   ]
  },
  {
   "cell_type": "markdown",
   "metadata": {},
   "source": [
    "#### (2) 추천 모형 학습 후 성능 평가"
   ]
  },
  {
   "cell_type": "code",
   "execution_count": 97,
   "metadata": {},
   "outputs": [
    {
     "name": "stdout",
     "output_type": "stream",
     "text": [
      "Estimating biases using als...\n"
     ]
    },
    {
     "data": {
      "text/plain": [
       "[Prediction(uid=603, iid=3996, r_ui=5.0, est=3.865470094018238, details={'was_impossible': False}),\n",
       " Prediction(uid=199, iid=2912, r_ui=4.0, est=3.5270186068257785, details={'was_impossible': False}),\n",
       " Prediction(uid=416, iid=2716, r_ui=2.0, est=3.2531312891488335, details={'was_impossible': False}),\n",
       " Prediction(uid=589, iid=150, r_ui=4.0, est=4.143871102075767, details={'was_impossible': False}),\n",
       " Prediction(uid=307, iid=6755, r_ui=4.0, est=2.6344308636371943, details={'was_impossible': False})]"
      ]
     },
     "execution_count": 97,
     "metadata": {},
     "output_type": "execute_result"
    }
   ],
   "source": [
    "estimator = BaselineOnly()\n",
    "estimator.fit(train)\n",
    "pred = estimator.test(test)\n",
    "pred[:5]"
   ]
  },
  {
   "cell_type": "markdown",
   "metadata": {},
   "source": [
    "> uid: 사용자 번호, iid: 아이템 번호, r_ui: 해당 사용자가 실제로 부여한 평점, est: 예측평점"
   ]
  },
  {
   "cell_type": "markdown",
   "metadata": {},
   "source": [
    "#### (3) 특정 유저가 특정 영화에 부여할 평점 예상"
   ]
  },
  {
   "cell_type": "code",
   "execution_count": 98,
   "metadata": {},
   "outputs": [
    {
     "data": {
      "text/plain": [
       "Prediction(uid=603, iid=3996, r_ui=None, est=3.865470094018238, details={'was_impossible': False})"
      ]
     },
     "execution_count": 98,
     "metadata": {},
     "output_type": "execute_result"
    }
   ],
   "source": [
    "upred = estimator.predict(uid=603, iid=3996)\n",
    "upred"
   ]
  },
  {
   "cell_type": "code",
   "execution_count": 99,
   "metadata": {},
   "outputs": [
    {
     "data": {
      "text/plain": [
       "3.865470094018238"
      ]
     },
     "execution_count": 99,
     "metadata": {},
     "output_type": "execute_result"
    }
   ],
   "source": [
    "upred.est"
   ]
  },
  {
   "cell_type": "markdown",
   "metadata": {},
   "source": [
    "#### (3) 성능평가"
   ]
  },
  {
   "cell_type": "code",
   "execution_count": 100,
   "metadata": {},
   "outputs": [
    {
     "name": "stdout",
     "output_type": "stream",
     "text": [
      "RMSE: 0.8715\n",
      "MAE:  0.6706\n"
     ]
    },
    {
     "data": {
      "text/plain": [
       "(0.8715309792778995, 0.6706040327595953)"
      ]
     },
     "execution_count": 100,
     "metadata": {},
     "output_type": "execute_result"
    }
   ],
   "source": [
    "rmse(pred), mae(pred)"
   ]
  },
  {
   "cell_type": "markdown",
   "metadata": {},
   "source": [
    "### [2] 교차검증\n",
    "\n",
    "#### (1) 교차검증을 위한 하이퍼파라미터 설정"
   ]
  },
  {
   "cell_type": "code",
   "execution_count": 101,
   "metadata": {},
   "outputs": [
    {
     "name": "stdout",
     "output_type": "stream",
     "text": [
      "Estimating biases using als...\n",
      "Estimating biases using als...\n",
      "Estimating biases using als...\n",
      "Estimating biases using als...\n",
      "Estimating biases using als...\n",
      "Evaluating RMSE, MAE of algorithm BaselineOnly on 5 split(s).\n",
      "\n",
      "                  Fold 1  Fold 2  Fold 3  Fold 4  Fold 5  Mean    Std     \n",
      "RMSE (testset)    0.8762  0.8797  0.8795  0.8767  0.8696  0.8763  0.0037  \n",
      "MAE (testset)     0.6738  0.6785  0.6797  0.6759  0.6729  0.6762  0.0026  \n",
      "Fit time          0.18    0.19    0.20    0.20    0.20    0.19    0.01    \n",
      "Test time         0.04    0.04    0.04    0.04    0.04    0.04    0.00    \n"
     ]
    }
   ],
   "source": [
    "estimator = BaselineOnly(bsl_options={\n",
    "    \"method\": \"als\",    # 알고리즘 \"als\" or \"sgd\"\n",
    "    \"n_epochs\": 10,     # 반복횟수 (기본값=10)\n",
    "    \"reg_u\": 10,        # 항목에 대한 정규화 매개변수 (기본값=10)\n",
    "    \"reg_i\": 15         # 사용자를 위한 정규화 매개변수 (기본값=15)\n",
    "})\n",
    "cv_result = cross_validate(estimator, data, measures=['RMSE', 'MAE'], cv=5, verbose=True)"
   ]
  },
  {
   "cell_type": "markdown",
   "metadata": {},
   "source": [
    "#### (2) 교차검증 결과 확인"
   ]
  },
  {
   "cell_type": "code",
   "execution_count": 102,
   "metadata": {},
   "outputs": [
    {
     "data": {
      "text/plain": [
       "{'test_rmse': array([0.87616071, 0.87973344, 0.87953172, 0.87667077, 0.86963703]),\n",
       " 'test_mae': array([0.67381834, 0.67850223, 0.67971106, 0.67586788, 0.6728928 ]),\n",
       " 'fit_time': (0.18199968338012695,\n",
       "  0.192002534866333,\n",
       "  0.1960010528564453,\n",
       "  0.19699764251708984,\n",
       "  0.19899702072143555),\n",
       " 'test_time': (0.04099869728088379,\n",
       "  0.04099774360656738,\n",
       "  0.041031599044799805,\n",
       "  0.04400205612182617,\n",
       "  0.04099917411804199)}"
      ]
     },
     "execution_count": 102,
     "metadata": {},
     "output_type": "execute_result"
    }
   ],
   "source": [
    "cv_result"
   ]
  },
  {
   "cell_type": "markdown",
   "metadata": {},
   "source": [
    "#### (3) 교차검증 성능 평가 지표 출력"
   ]
  },
  {
   "cell_type": "code",
   "execution_count": 103,
   "metadata": {},
   "outputs": [
    {
     "name": "stdout",
     "output_type": "stream",
     "text": [
      "RMSE(mean): 0.8763467350072563\n",
      "MAE(mean): 0.6761584620297962\n"
     ]
    }
   ],
   "source": [
    "print(\"RMSE(mean):\", cv_result['test_rmse'].mean())\n",
    "print(\"MAE(mean):\", cv_result['test_mae'].mean())"
   ]
  },
  {
   "cell_type": "markdown",
   "metadata": {},
   "source": [
    "### [3] 하이퍼파라미터 튜닝\n",
    "\n",
    "#### (1) 학습 모형 구성"
   ]
  },
  {
   "cell_type": "code",
   "execution_count": 104,
   "metadata": {},
   "outputs": [],
   "source": [
    "params = {\n",
    "    'bsl_options': {\n",
    "        \"method\": [\"als\", \"sgd\"],    # 알고리즘 \"als\" or \"sgd\"\n",
    "        \"n_epochs\": [10, 20],        # 반복횟수 (기본값=10)\n",
    "        \"reg_u\": [10, 12],           # 사용자에 대한 정규화 매개변수 (기본값=10)\n",
    "        \"reg_i\": [15, 20]            # 아이템에 대한 정규화 매개변수 (기본값=15)\n",
    "    }\n",
    "}\n",
    "\n",
    "# grid = GridSearchCV(BaselineOnly, \n",
    "#                     param_grid=params, \n",
    "#                     measures=['RMSE', 'MAE'], \n",
    "#                     cv=5, \n",
    "#                     n_jobs=-1)\n",
    "                    \n",
    "grid = RandomizedSearchCV(BaselineOnly, \n",
    "                        param_distributions=params, \n",
    "                        measures=['RMSE', 'MAE'], \n",
    "                        cv=5, \n",
    "                        n_jobs=-1, \n",
    "                        random_state=1234)\n",
    "\n",
    "grid.fit(data)"
   ]
  },
  {
   "cell_type": "markdown",
   "metadata": {},
   "source": [
    "#### (2) 성능 평가 지표 확인"
   ]
  },
  {
   "cell_type": "code",
   "execution_count": 105,
   "metadata": {},
   "outputs": [
    {
     "data": {
      "text/plain": [
       "{'rmse': 0.8693399143463537, 'mae': 0.6680779326654303}"
      ]
     },
     "execution_count": 105,
     "metadata": {},
     "output_type": "execute_result"
    }
   ],
   "source": [
    "grid.best_score"
   ]
  },
  {
   "cell_type": "markdown",
   "metadata": {},
   "source": [
    "#### (3) 최적 하이퍼파라미터 확인"
   ]
  },
  {
   "cell_type": "code",
   "execution_count": 106,
   "metadata": {},
   "outputs": [
    {
     "data": {
      "text/plain": [
       "{'rmse': {'bsl_options': {'method': 'sgd',\n",
       "   'n_epochs': 20,\n",
       "   'reg_u': 10,\n",
       "   'reg_i': 15}},\n",
       " 'mae': {'bsl_options': {'method': 'sgd',\n",
       "   'n_epochs': 20,\n",
       "   'reg_u': 10,\n",
       "   'reg_i': 15}}}"
      ]
     },
     "execution_count": 106,
     "metadata": {},
     "output_type": "execute_result"
    }
   ],
   "source": [
    "grid.best_params"
   ]
  },
  {
   "cell_type": "code",
   "execution_count": 110,
   "metadata": {},
   "outputs": [
    {
     "data": {
      "text/plain": [
       "{'split0_test_rmse': array([0.86813757, 0.87228505, 0.86835339, 0.87249151, 0.86812934,\n",
       "        0.87228119, 0.86834602, 0.87248806, 0.86892136, 0.86892136,\n",
       "        0.86892136, 0.86892136, 0.86065042, 0.86065042, 0.86065042,\n",
       "        0.86065042]),\n",
       " 'split1_test_rmse': array([0.87673191, 0.88047836, 0.87690596, 0.88063861, 0.87672207,\n",
       "        0.88047386, 0.87689724, 0.88063463, 0.87745158, 0.87745158,\n",
       "        0.87745158, 0.87745158, 0.87055292, 0.87055292, 0.87055292,\n",
       "        0.87055292]),\n",
       " 'split2_test_rmse': array([0.87753038, 0.88153673, 0.87774535, 0.88174405, 0.87752167,\n",
       "        0.88153271, 0.87773768, 0.8817405 , 0.87766255, 0.87766255,\n",
       "        0.87766255, 0.87766255, 0.87025908, 0.87025908, 0.87025908,\n",
       "        0.87025908]),\n",
       " 'split3_test_rmse': array([0.87522201, 0.87918219, 0.87544556, 0.87939868, 0.87521238,\n",
       "        0.87917782, 0.87543697, 0.87939478, 0.87547721, 0.87547721,\n",
       "        0.87547721, 0.87547721, 0.8681453 , 0.8681453 , 0.8681453 ,\n",
       "        0.8681453 ]),\n",
       " 'split4_test_rmse': array([0.88478143, 0.88899673, 0.88497311, 0.88917793, 0.88477111,\n",
       "        0.88899205, 0.88496401, 0.8891738 , 0.88560482, 0.88560482,\n",
       "        0.88560482, 0.88560482, 0.87709185, 0.87709185, 0.87709185,\n",
       "        0.87709185]),\n",
       " 'mean_test_rmse': array([0.87648066, 0.88049581, 0.87668467, 0.88069016, 0.87647131,\n",
       "        0.88049153, 0.87667638, 0.88068635, 0.8770235 , 0.8770235 ,\n",
       "        0.8770235 , 0.8770235 , 0.86933991, 0.86933991, 0.86933991,\n",
       "        0.86933991]),\n",
       " 'std_test_rmse': array([0.00531525, 0.00533838, 0.00530694, 0.00532994, 0.00531462,\n",
       "        0.00533814, 0.00530643, 0.00532975, 0.00533416, 0.00533416,\n",
       "        0.00533416, 0.00533416, 0.00527908, 0.00527908, 0.00527908,\n",
       "        0.00527908]),\n",
       " 'rank_test_rmse': array([ 6, 14,  8, 16,  5, 13,  7, 15,  9, 10, 11, 12,  1,  2,  3,  4],\n",
       "       dtype=int64),\n",
       " 'split0_test_mae': array([0.67003739, 0.67390188, 0.67031619, 0.6741878 , 0.67003009,\n",
       "        0.67389841, 0.67030931, 0.6741846 , 0.6694661 , 0.6694661 ,\n",
       "        0.6694661 , 0.6694661 , 0.6616687 , 0.6616687 , 0.6616687 ,\n",
       "        0.6616687 ]),\n",
       " 'split1_test_mae': array([0.67597677, 0.67941176, 0.6762473 , 0.67969125, 0.67596711,\n",
       "        0.67940742, 0.67623826, 0.67968728, 0.67540831, 0.67540831,\n",
       "        0.67540831, 0.67540831, 0.66893878, 0.66893878, 0.66893878,\n",
       "        0.66893878]),\n",
       " 'split2_test_mae': array([0.67716287, 0.68103661, 0.67745589, 0.68134099, 0.67715415,\n",
       "        0.68103268, 0.67744789, 0.6813374 , 0.67570526, 0.67570526,\n",
       "        0.67570526, 0.67570526, 0.66853656, 0.66853656, 0.66853656,\n",
       "        0.66853656]),\n",
       " 'split3_test_mae': array([0.67741771, 0.68122472, 0.67771277, 0.6815233 , 0.67740862,\n",
       "        0.68122071, 0.67770446, 0.68151963, 0.67647182, 0.67647182,\n",
       "        0.67647182, 0.67647182, 0.66885223, 0.66885223, 0.66885223,\n",
       "        0.66885223]),\n",
       " 'split4_test_mae': array([0.6815124 , 0.68555838, 0.6818345 , 0.68589173, 0.68150152,\n",
       "        0.68555354, 0.68182463, 0.68588736, 0.68108645, 0.68108645,\n",
       "        0.68108645, 0.68108645, 0.6723934 , 0.6723934 , 0.6723934 ,\n",
       "        0.6723934 ]),\n",
       " 'mean_test_mae': array([0.67642143, 0.68022667, 0.67671333, 0.68052701, 0.6764123 ,\n",
       "        0.68022255, 0.67670491, 0.68052325, 0.67562758, 0.67562758,\n",
       "        0.67562758, 0.67562758, 0.66807793, 0.66807793, 0.66807793,\n",
       "        0.66807793]),\n",
       " 'std_test_mae': array([0.00369903, 0.00376155, 0.00371261, 0.00377676, 0.00369795,\n",
       "        0.00376115, 0.00371171, 0.00377642, 0.00370216, 0.00370216,\n",
       "        0.00370216, 0.00370216, 0.00350007, 0.00350007, 0.00350007,\n",
       "        0.00350007]),\n",
       " 'rank_test_mae': array([10, 14, 12, 16,  9, 13, 11, 15,  5,  6,  7,  8,  1,  2,  3,  4],\n",
       "       dtype=int64),\n",
       " 'mean_fit_time': array([0.06619964, 0.08020892, 0.08979945, 0.05400205, 0.09470587,\n",
       "        0.09459972, 0.09330168, 0.09160085, 0.07800541, 0.07639961,\n",
       "        0.07619958, 0.08959918, 0.16021271, 0.17540011, 0.17410922,\n",
       "        0.16761022]),\n",
       " 'std_fit_time': array([0.01010663, 0.01723015, 0.01760005, 0.00525345, 0.00339882,\n",
       "        0.00382652, 0.00217847, 0.00080059, 0.00140688, 0.00272782,\n",
       "        0.00193416, 0.01197618, 0.0092899 , 0.01112895, 0.01009846,\n",
       "        0.01082198]),\n",
       " 'mean_test_time': array([0.07630291, 0.08870158, 0.07419944, 0.06059966, 0.05850081,\n",
       "        0.06199923, 0.05910249, 0.05699992, 0.05639405, 0.05460019,\n",
       "        0.05419402, 0.05960026, 0.0596065 , 0.06660023, 0.07114568,\n",
       "        0.0578568 ]),\n",
       " 'std_test_time': array([0.01181044, 0.02622644, 0.01188924, 0.00677251, 0.00204733,\n",
       "        0.00268357, 0.00402815, 0.00521471, 0.00294386, 0.00102014,\n",
       "        0.00116246, 0.00382605, 0.00472418, 0.00377272, 0.00236443,\n",
       "        0.00927422]),\n",
       " 'params': [{'bsl_options': {'method': 'als',\n",
       "    'n_epochs': 10,\n",
       "    'reg_u': 10,\n",
       "    'reg_i': 15}},\n",
       "  {'bsl_options': {'method': 'als', 'n_epochs': 10, 'reg_u': 10, 'reg_i': 20}},\n",
       "  {'bsl_options': {'method': 'als', 'n_epochs': 10, 'reg_u': 12, 'reg_i': 15}},\n",
       "  {'bsl_options': {'method': 'als', 'n_epochs': 10, 'reg_u': 12, 'reg_i': 20}},\n",
       "  {'bsl_options': {'method': 'als', 'n_epochs': 20, 'reg_u': 10, 'reg_i': 15}},\n",
       "  {'bsl_options': {'method': 'als', 'n_epochs': 20, 'reg_u': 10, 'reg_i': 20}},\n",
       "  {'bsl_options': {'method': 'als', 'n_epochs': 20, 'reg_u': 12, 'reg_i': 15}},\n",
       "  {'bsl_options': {'method': 'als', 'n_epochs': 20, 'reg_u': 12, 'reg_i': 20}},\n",
       "  {'bsl_options': {'method': 'sgd', 'n_epochs': 10, 'reg_u': 10, 'reg_i': 15}},\n",
       "  {'bsl_options': {'method': 'sgd', 'n_epochs': 10, 'reg_u': 10, 'reg_i': 20}},\n",
       "  {'bsl_options': {'method': 'sgd', 'n_epochs': 10, 'reg_u': 12, 'reg_i': 15}},\n",
       "  {'bsl_options': {'method': 'sgd', 'n_epochs': 10, 'reg_u': 12, 'reg_i': 20}},\n",
       "  {'bsl_options': {'method': 'sgd', 'n_epochs': 20, 'reg_u': 10, 'reg_i': 15}},\n",
       "  {'bsl_options': {'method': 'sgd', 'n_epochs': 20, 'reg_u': 10, 'reg_i': 20}},\n",
       "  {'bsl_options': {'method': 'sgd', 'n_epochs': 20, 'reg_u': 12, 'reg_i': 15}},\n",
       "  {'bsl_options': {'method': 'sgd',\n",
       "    'n_epochs': 20,\n",
       "    'reg_u': 12,\n",
       "    'reg_i': 20}}],\n",
       " 'param_bsl_options': [{'method': 'als',\n",
       "   'n_epochs': 10,\n",
       "   'reg_u': 10,\n",
       "   'reg_i': 15},\n",
       "  {'method': 'als', 'n_epochs': 10, 'reg_u': 10, 'reg_i': 20},\n",
       "  {'method': 'als', 'n_epochs': 10, 'reg_u': 12, 'reg_i': 15},\n",
       "  {'method': 'als', 'n_epochs': 10, 'reg_u': 12, 'reg_i': 20},\n",
       "  {'method': 'als', 'n_epochs': 20, 'reg_u': 10, 'reg_i': 15},\n",
       "  {'method': 'als', 'n_epochs': 20, 'reg_u': 10, 'reg_i': 20},\n",
       "  {'method': 'als', 'n_epochs': 20, 'reg_u': 12, 'reg_i': 15},\n",
       "  {'method': 'als', 'n_epochs': 20, 'reg_u': 12, 'reg_i': 20},\n",
       "  {'method': 'sgd', 'n_epochs': 10, 'reg_u': 10, 'reg_i': 15},\n",
       "  {'method': 'sgd', 'n_epochs': 10, 'reg_u': 10, 'reg_i': 20},\n",
       "  {'method': 'sgd', 'n_epochs': 10, 'reg_u': 12, 'reg_i': 15},\n",
       "  {'method': 'sgd', 'n_epochs': 10, 'reg_u': 12, 'reg_i': 20},\n",
       "  {'method': 'sgd', 'n_epochs': 20, 'reg_u': 10, 'reg_i': 15},\n",
       "  {'method': 'sgd', 'n_epochs': 20, 'reg_u': 10, 'reg_i': 20},\n",
       "  {'method': 'sgd', 'n_epochs': 20, 'reg_u': 12, 'reg_i': 15},\n",
       "  {'method': 'sgd', 'n_epochs': 20, 'reg_u': 12, 'reg_i': 20}]}"
      ]
     },
     "execution_count": 110,
     "metadata": {},
     "output_type": "execute_result"
    }
   ],
   "source": [
    "grid.cv_results"
   ]
  },
  {
   "cell_type": "markdown",
   "metadata": {},
   "source": [
    "#### (4) 최적 추정기"
   ]
  },
  {
   "cell_type": "code",
   "execution_count": 107,
   "metadata": {},
   "outputs": [
    {
     "data": {
      "text/plain": [
       "{'rmse': <surprise.prediction_algorithms.baseline_only.BaselineOnly at 0x21d27daec50>,\n",
       " 'mae': <surprise.prediction_algorithms.baseline_only.BaselineOnly at 0x21d1e186650>}"
      ]
     },
     "execution_count": 107,
     "metadata": {},
     "output_type": "execute_result"
    }
   ],
   "source": [
    "grid.best_estimator"
   ]
  },
  {
   "cell_type": "markdown",
   "metadata": {},
   "source": [
    "#### (5) 최적 추정기를 활용한 컨텐츠 추천\n",
    "\n",
    "학습을 다시 시켜야 한다."
   ]
  },
  {
   "cell_type": "code",
   "execution_count": 108,
   "metadata": {},
   "outputs": [
    {
     "name": "stdout",
     "output_type": "stream",
     "text": [
      "Estimating biases using sgd...\n"
     ]
    },
    {
     "data": {
      "text/plain": [
       "[Prediction(uid=603, iid=3996, r_ui=5.0, est=3.9696392415813557, details={'was_impossible': False}),\n",
       " Prediction(uid=199, iid=2912, r_ui=4.0, est=3.548906012863939, details={'was_impossible': False}),\n",
       " Prediction(uid=416, iid=2716, r_ui=2.0, est=3.0954432297290766, details={'was_impossible': False}),\n",
       " Prediction(uid=589, iid=150, r_ui=4.0, est=4.267549985510884, details={'was_impossible': False}),\n",
       " Prediction(uid=307, iid=6755, r_ui=4.0, est=2.601641316126221, details={'was_impossible': False})]"
      ]
     },
     "execution_count": 108,
     "metadata": {},
     "output_type": "execute_result"
    }
   ],
   "source": [
    "estimator = grid.best_estimator['rmse']\n",
    "estimator.fit(train)\n",
    "pred = estimator.test(test)\n",
    "pred[:5]"
   ]
  },
  {
   "cell_type": "code",
   "execution_count": 109,
   "metadata": {},
   "outputs": [
    {
     "data": {
      "text/plain": [
       "Prediction(uid=603, iid=3996, r_ui=None, est=3.9696392415813557, details={'was_impossible': False})"
      ]
     },
     "execution_count": 109,
     "metadata": {},
     "output_type": "execute_result"
    }
   ],
   "source": [
    "estimator.predict(uid=603, iid=3996)"
   ]
  },
  {
   "cell_type": "code",
   "execution_count": null,
   "metadata": {},
   "outputs": [],
   "source": []
  }
 ],
 "metadata": {
  "kernelspec": {
   "display_name": "Python 3",
   "language": "python",
   "name": "python3"
  },
  "language_info": {
   "codemirror_mode": {
    "name": "ipython",
    "version": 3
   },
   "file_extension": ".py",
   "mimetype": "text/x-python",
   "name": "python",
   "nbconvert_exporter": "python",
   "pygments_lexer": "ipython3",
   "version": "3.11.7"
  }
 },
 "nbformat": 4,
 "nbformat_minor": 2
}
