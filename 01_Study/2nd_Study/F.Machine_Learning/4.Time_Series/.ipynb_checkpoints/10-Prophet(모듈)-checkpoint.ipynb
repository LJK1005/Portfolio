{
 "cells": [
  {
   "cell_type": "markdown",
   "metadata": {},
   "source": [
    "# Prophet 모듈화\n",
    "\n",
    "## #01. 준비작업\n",
    "\n",
    "### [1] 패키지 참조"
   ]
  },
  {
   "cell_type": "code",
   "execution_count": 29,
   "metadata": {},
   "outputs": [],
   "source": [
    "import warnings\n",
    "warnings.filterwarnings(action='ignore')\n",
    "\n",
    "from hossam.util import *\n",
    "from hossam.plot import *\n",
    "from hossam.timeserise import *"
   ]
  },
  {
   "cell_type": "markdown",
   "metadata": {},
   "source": [
    "### [2] 데이터 가져오기"
   ]
  },
  {
   "cell_type": "code",
   "execution_count": 30,
   "metadata": {},
   "outputs": [],
   "source": [
    "origin = my_read_excel(\"https://data.hossam.kr/tsdata/air_passengers.xlsx\", info=False)"
   ]
  },
  {
   "cell_type": "markdown",
   "metadata": {},
   "source": [
    "## #02. 데이터 전처리\n",
    "\n",
    "### [1] 데이터 프레임의 필드 이름 변경\n",
    "\n",
    "prophet 라이브러리의 요구사항에 따라 날짜 필드의 이름을 `ds`로, 데이터의 필드 이름을 `y`로 변경해야 한다.\n",
    "\n",
    "날짜의 데이터 타입은 `datetime` 형식이어야 한다.\n",
    "\n",
    "> 날짜 변수가 인덱스가 아님에 유의"
   ]
  },
  {
   "cell_type": "code",
   "execution_count": 31,
   "metadata": {},
   "outputs": [
    {
     "name": "stdout",
     "output_type": "stream",
     "text": [
      "+----+---------------------+-----+\n",
      "|    | ds                  |   y |\n",
      "|----+---------------------+-----|\n",
      "|  0 | 1949-01-01 00:00:00 | 112 |\n",
      "|  1 | 1949-02-01 00:00:00 | 118 |\n",
      "|  2 | 1949-03-01 00:00:00 | 132 |\n",
      "|  3 | 1949-04-01 00:00:00 | 129 |\n",
      "|  4 | 1949-05-01 00:00:00 | 121 |\n",
      "+----+---------------------+-----+\n"
     ]
    }
   ],
   "source": [
    "df = origin.rename(columns={'Month': 'ds', 'Passengers': 'y'})\n",
    "my_pretty_table(df.head())"
   ]
  },
  {
   "cell_type": "markdown",
   "metadata": {},
   "source": [
    "### [2] 데이터 분할"
   ]
  },
  {
   "cell_type": "code",
   "execution_count": 32,
   "metadata": {},
   "outputs": [
    {
     "data": {
      "text/plain": [
       "((115, 2), (29, 2))"
      ]
     },
     "execution_count": 32,
     "metadata": {},
     "output_type": "execute_result"
    }
   ],
   "source": [
    "train, test = my_timeseries_split(df)\n",
    "train.shape, test.shape"
   ]
  },
  {
   "cell_type": "markdown",
   "metadata": {},
   "source": [
    "## #03. 시계열 학습 모델 구현\n",
    "\n",
    "### [1] 하이퍼파라미터 정의"
   ]
  },
  {
   "cell_type": "code",
   "execution_count": 33,
   "metadata": {},
   "outputs": [],
   "source": [
    "params = {\n",
    "    'changepoint_prior_scale': [0.01, 0.1, 1.0],\n",
    "    'seasonality_prior_scale': [0.01, 0.1, 1.0],\n",
    "    'seasonality_mode': ['additive', 'multiplicative'],\n",
    "    # 'weekly_seasonality': [True, False],\n",
    "    # 'daily_seasonality':  [True, False],\n",
    "    # 'yearly_seasonality': [True, False],\n",
    "}"
   ]
  },
  {
   "cell_type": "markdown",
   "metadata": {},
   "source": [
    "### [2] 기본 호출"
   ]
  },
  {
   "cell_type": "code",
   "execution_count": 40,
   "metadata": {},
   "outputs": [
    {
     "name": "stderr",
     "output_type": "stream",
     "text": [
      "09:51:44 - cmdstanpy - INFO - Chain [1] start processing\n",
      "09:51:44 - cmdstanpy - INFO - Chain [1] start processing\n",
      "09:51:44 - cmdstanpy - INFO - Chain [1] done processing\n",
      "09:51:44 - cmdstanpy - INFO - Chain [1] start processing\n",
      "09:51:44 - cmdstanpy - INFO - Chain [1] start processing\n",
      "09:51:44 - cmdstanpy - INFO - Chain [1] start processing\n",
      "09:51:44 - cmdstanpy - INFO - Chain [1] start processing\n",
      "09:51:44 - cmdstanpy - INFO - Chain [1] start processing\n",
      "09:51:44 - cmdstanpy - INFO - Chain [1] start processing\n",
      "09:51:44 - cmdstanpy - INFO - Chain [1] start processing\n",
      "09:51:44 - cmdstanpy - INFO - Chain [1] start processing\n",
      "09:51:44 - cmdstanpy - INFO - Chain [1] start processing\n",
      "09:51:44 - cmdstanpy - INFO - Chain [1] start processing\n",
      "09:51:44 - cmdstanpy - INFO - Chain [1] start processing\n",
      "09:51:44 - cmdstanpy - INFO - Chain [1] start processing\n",
      "09:51:44 - cmdstanpy - INFO - Chain [1] done processing\n",
      "09:51:44 - cmdstanpy - INFO - Chain [1] start processing\n",
      "09:51:44 - cmdstanpy - INFO - Chain [1] start processing\n",
      "09:51:44 - cmdstanpy - INFO - Chain [1] done processing\n",
      "09:51:44 - cmdstanpy - INFO - Chain [1] done processing\n",
      "09:51:44 - cmdstanpy - INFO - Chain [1] done processing\n",
      "09:51:44 - cmdstanpy - INFO - Chain [1] done processing\n",
      "09:51:44 - cmdstanpy - INFO - Chain [1] done processing\n",
      "09:51:44 - cmdstanpy - INFO - Chain [1] done processing\n",
      "09:51:44 - cmdstanpy - INFO - Chain [1] done processing\n",
      "09:51:44 - cmdstanpy - INFO - Chain [1] done processing\n",
      "09:51:44 - cmdstanpy - INFO - Chain [1] done processing\n",
      "09:51:44 - cmdstanpy - INFO - Chain [1] done processing\n",
      "09:51:44 - cmdstanpy - INFO - Chain [1] done processing\n",
      "09:51:44 - cmdstanpy - INFO - Chain [1] done processing\n",
      "09:51:44 - cmdstanpy - INFO - Chain [1] done processing\n",
      "09:51:44 - cmdstanpy - INFO - Chain [1] done processing\n",
      "09:51:45 - cmdstanpy - INFO - Chain [1] start processing\n",
      "09:51:45 - cmdstanpy - INFO - Chain [1] start processing\n",
      "09:51:45 - cmdstanpy - INFO - Chain [1] done processing\n",
      "09:51:45 - cmdstanpy - INFO - Chain [1] done processing\n"
     ]
    },
    {
     "name": "stdout",
     "output_type": "stream",
     "text": [
      "+----+---------------------------+--------------------+---------------------------+---------+\n",
      "|    |   changepoint_prior_scale | seasonality_mode   |   seasonality_prior_scale |   score |\n",
      "|----+---------------------------+--------------------+---------------------------+---------|\n",
      "|  0 |                         1 | multiplicative     |                         1 |   6.287 |\n",
      "|  1 |                         1 | multiplicative     |                       0.1 | 6.36238 |\n",
      "|  2 |                       0.1 | multiplicative     |                         1 | 8.00414 |\n",
      "|  3 |                       0.1 | multiplicative     |                       0.1 | 8.08156 |\n",
      "|  4 |                         1 | multiplicative     |                      0.01 |  9.4981 |\n",
      "|  5 |                      0.01 | multiplicative     |                         1 | 10.3382 |\n",
      "|  6 |                      0.01 | multiplicative     |                       0.1 |   10.43 |\n",
      "|  7 |                         1 | additive           |                         1 | 14.4007 |\n",
      "|  8 |                         1 | additive           |                       0.1 | 14.4129 |\n",
      "|  9 |                       0.1 | multiplicative     |                      0.01 | 14.8537 |\n",
      "| 10 |                         1 | additive           |                      0.01 | 16.1051 |\n",
      "| 11 |                       0.1 | additive           |                         1 |  16.645 |\n",
      "| 12 |                       0.1 | additive           |                       0.1 | 16.6561 |\n",
      "| 13 |                       0.1 | additive           |                      0.01 | 17.5849 |\n",
      "| 14 |                      0.01 | additive           |                         1 | 19.3154 |\n",
      "| 15 |                      0.01 | additive           |                       0.1 | 19.4794 |\n",
      "| 16 |                      0.01 | additive           |                      0.01 | 20.1702 |\n",
      "| 17 |                      0.01 | multiplicative     |                      0.01 | 21.4541 |\n",
      "+----+---------------------------+--------------------+---------------------------+---------+\n"
     ]
    }
   ],
   "source": [
    "model, param, score, forecast, pred = my_prophet(train, test, **params)"
   ]
  },
  {
   "cell_type": "code",
   "execution_count": null,
   "metadata": {},
   "outputs": [],
   "source": []
  }
 ],
 "metadata": {
  "kernelspec": {
   "display_name": "Python 3 (ipykernel)",
   "language": "python",
   "name": "python3"
  },
  "language_info": {
   "codemirror_mode": {
    "name": "ipython",
    "version": 3
   },
   "file_extension": ".py",
   "mimetype": "text/x-python",
   "name": "python",
   "nbconvert_exporter": "python",
   "pygments_lexer": "ipython3",
   "version": "3.11.7"
  }
 },
 "nbformat": 4,
 "nbformat_minor": 4
}
