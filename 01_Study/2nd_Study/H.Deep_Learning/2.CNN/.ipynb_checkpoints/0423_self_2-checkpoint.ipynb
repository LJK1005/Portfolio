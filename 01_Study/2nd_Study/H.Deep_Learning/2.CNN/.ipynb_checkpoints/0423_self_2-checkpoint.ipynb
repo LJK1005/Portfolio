{
 "cells": [
  {
   "cell_type": "markdown",
   "id": "9803bf9e-1224-43fa-a1a2-9096fce28afd",
   "metadata": {},
   "source": [
    "- 워드 임베딩 : 단어를 벡터(행렬)로 표현\n",
    "    - 희소 표현 (원-핫 벡터)\n",
    "        - 원핫인코딩과 유사, 표현하고자 하는 단어 인덱스 값만 1이고 나머지는 0으로 표현되는 벡터로 표현하는 방법\n",
    "        - 공간적인 낭비가 심하고 계산 속도가 느림\n",
    "    - 밀집 표현 (토큰화)\n",
    "        - 벡터 차원을 분석가가 정한 임의의 값으로 모든 단어 벡터의 차원을 맞춤\n",
    "        - 희소 표현에 비해 벡터의 차원이 조밀해지므로 밀집 벡터라고 부름\n",
    "            - 텐서플로우 - 케라스에서는 토큰화된 단어 벡터를 임베딩 층을 통과시켜 RNN, LSTM, GRU를 이용하여 학습이 가능하도록 처리됨"
   ]
  },
  {
   "cell_type": "markdown",
   "id": "7997c706-9c57-4407-89c3-938fe23e3a4e",
   "metadata": {},
   "source": [
    "- 텐서플로우 토큰화 객체 : Tokenizer\n",
    "    - num_words : 인식 가능한 최대 벡터 길이(단어 수)를 지정\n",
    "    - oov_token : (검증 데이터에) 학습 데이터에 포함되지 않은 단어가 있을 경우 대체할 단어"
   ]
  },
  {
   "cell_type": "markdown",
   "id": "2dcf86f2-c687-4060-bc9b-4c033d75e5aa",
   "metadata": {},
   "source": [
    "- 한글의 토큰화\n",
    "    - 불용어 : 분석에 쓰지 않을 불필요한 단어\n",
    "        - 해당 불용어를 문장에서 제거할 필요가 있음\n",
    "    - 형태소 분리를 먼저 진행하고 불용어를 제거한 이후 한글의 토큰화를 진행함"
   ]
  },
  {
   "cell_type": "code",
   "execution_count": null,
   "id": "ba622b6f-1a22-425c-b5eb-acb2cb02c4f2",
   "metadata": {},
   "outputs": [],
   "source": []
  },
  {
   "cell_type": "code",
   "execution_count": null,
   "id": "fa794910-68a8-45db-994f-987764dc8e20",
   "metadata": {},
   "outputs": [],
   "source": []
  },
  {
   "cell_type": "code",
   "execution_count": null,
   "id": "6b489da1-0ae7-4f66-b4aa-7be002d2e9eb",
   "metadata": {},
   "outputs": [],
   "source": []
  },
  {
   "cell_type": "code",
   "execution_count": null,
   "id": "d26e7d91-c7be-42ea-ab7a-235720a1c0b1",
   "metadata": {},
   "outputs": [],
   "source": []
  },
  {
   "cell_type": "code",
   "execution_count": null,
   "id": "16482f99-fe34-4ec1-a38d-79c2a0f01b5f",
   "metadata": {},
   "outputs": [],
   "source": []
  },
  {
   "cell_type": "code",
   "execution_count": null,
   "id": "45d2d6be-5061-494c-8005-b116efa611d3",
   "metadata": {},
   "outputs": [],
   "source": []
  },
  {
   "cell_type": "code",
   "execution_count": null,
   "id": "80c21061-284f-4b59-9424-df45f78c4595",
   "metadata": {},
   "outputs": [],
   "source": []
  },
  {
   "cell_type": "code",
   "execution_count": null,
   "id": "62cdaa84-7b42-419c-859e-8ab34ea6036e",
   "metadata": {},
   "outputs": [],
   "source": []
  },
  {
   "cell_type": "code",
   "execution_count": null,
   "id": "4902fffd-7ec9-4646-8c11-b7fd3a12711e",
   "metadata": {},
   "outputs": [],
   "source": []
  },
  {
   "cell_type": "code",
   "execution_count": null,
   "id": "83474a56-ddfa-44ea-b57a-db3c0250854d",
   "metadata": {},
   "outputs": [],
   "source": []
  },
  {
   "cell_type": "code",
   "execution_count": null,
   "id": "4b66d975-38d3-45cf-82aa-58eb0ce25dcc",
   "metadata": {},
   "outputs": [],
   "source": []
  },
  {
   "cell_type": "code",
   "execution_count": null,
   "id": "2f3cdf41-22dc-4a66-8362-c0b66246f0a3",
   "metadata": {},
   "outputs": [],
   "source": []
  },
  {
   "cell_type": "code",
   "execution_count": null,
   "id": "b398fb29-1b17-4b02-ae5e-41c8031af969",
   "metadata": {},
   "outputs": [],
   "source": []
  },
  {
   "cell_type": "code",
   "execution_count": null,
   "id": "935f131a-558b-4efc-a4af-dfb6f8fc6478",
   "metadata": {},
   "outputs": [],
   "source": []
  },
  {
   "cell_type": "code",
   "execution_count": null,
   "id": "9c9a666d-c865-49e1-8e33-982457de79d8",
   "metadata": {},
   "outputs": [],
   "source": []
  },
  {
   "cell_type": "code",
   "execution_count": null,
   "id": "4b48b3af-4e4d-4d91-a536-f83cb8b395f4",
   "metadata": {},
   "outputs": [],
   "source": []
  },
  {
   "cell_type": "code",
   "execution_count": null,
   "id": "252c91d0-999e-4973-a347-67189358852d",
   "metadata": {},
   "outputs": [],
   "source": []
  },
  {
   "cell_type": "code",
   "execution_count": null,
   "id": "73ec50e9-a8ae-4d14-9d32-7ecaf99c6a27",
   "metadata": {},
   "outputs": [],
   "source": []
  },
  {
   "cell_type": "code",
   "execution_count": null,
   "id": "b4972f1f-7687-40e0-bbf3-1cbf5c325c3d",
   "metadata": {},
   "outputs": [],
   "source": []
  },
  {
   "cell_type": "code",
   "execution_count": null,
   "id": "8faedb94-efaa-4f95-920f-dd346855752b",
   "metadata": {},
   "outputs": [],
   "source": []
  },
  {
   "cell_type": "code",
   "execution_count": null,
   "id": "06cbfba8-ec78-46c8-a2d9-bfdddee284ef",
   "metadata": {},
   "outputs": [],
   "source": []
  }
 ],
 "metadata": {
  "kernelspec": {
   "display_name": "Python 3 (ipykernel)",
   "language": "python",
   "name": "python3"
  },
  "language_info": {
   "codemirror_mode": {
    "name": "ipython",
    "version": 3
   },
   "file_extension": ".py",
   "mimetype": "text/x-python",
   "name": "python",
   "nbconvert_exporter": "python",
   "pygments_lexer": "ipython3",
   "version": "3.10.12"
  }
 },
 "nbformat": 4,
 "nbformat_minor": 5
}
