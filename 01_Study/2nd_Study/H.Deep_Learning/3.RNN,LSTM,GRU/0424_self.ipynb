{
 "cells": [
  {
   "cell_type": "markdown",
   "id": "a796e06e-7462-4795-b366-7a992001ad50",
   "metadata": {},
   "source": [
    "# IMDB 영화평가 분류"
   ]
  },
  {
   "cell_type": "code",
   "execution_count": 1,
   "id": "8b85be9d-e003-4b6c-bb55-6d9f9e7d7b2b",
   "metadata": {},
   "outputs": [
    {
     "name": "stderr",
     "output_type": "stream",
     "text": [
      "2024-04-24 11:41:41.671442: E external/local_xla/xla/stream_executor/cuda/cuda_dnn.cc:9261] Unable to register cuDNN factory: Attempting to register factory for plugin cuDNN when one has already been registered\n",
      "2024-04-24 11:41:41.671497: E external/local_xla/xla/stream_executor/cuda/cuda_fft.cc:607] Unable to register cuFFT factory: Attempting to register factory for plugin cuFFT when one has already been registered\n",
      "2024-04-24 11:41:41.723261: E external/local_xla/xla/stream_executor/cuda/cuda_blas.cc:1515] Unable to register cuBLAS factory: Attempting to register factory for plugin cuBLAS when one has already been registered\n",
      "2024-04-24 11:41:41.829393: I tensorflow/core/platform/cpu_feature_guard.cc:182] This TensorFlow binary is optimized to use available CPU instructions in performance-critical operations.\n",
      "To enable the following instructions: AVX2 FMA, in other operations, rebuild TensorFlow with the appropriate compiler flags.\n",
      "2024-04-24 11:41:42.590050: W tensorflow/compiler/tf2tensorrt/utils/py_utils.cc:38] TF-TRT Warning: Could not find TensorRT\n"
     ]
    }
   ],
   "source": [
    "# 패키지 로드\n",
    "import warnings\n",
    "warnings.filterwarnings(action=\"ignore\")\n",
    "\n",
    "import pandas as pd\n",
    "import numpy as np\n",
    "import matplotlib.pyplot as plt\n",
    "import seaborn as sns\n",
    "import contractions\n",
    "from sklearn.preprocessing import LabelEncoder\n",
    "from sklearn.model_selection import train_test_split\n",
    "from sklearn.metrics import confusion_matrix\n",
    "import nltk, re\n",
    "from nltk.corpus import stopwords as stw\n",
    "\n",
    "from tensorflow.keras.preprocessing.sequence import pad_sequences\n",
    "from tensorflow.keras.models import Sequential\n",
    "from tensorflow.keras.layers import Dense, Embedding, Flatten\n",
    "from tensorflow.keras.callbacks import EarlyStopping, ReduceLROnPlateau\n",
    "from tensorflow.keras.preprocessing.text import Tokenizer"
   ]
  },
  {
   "cell_type": "code",
   "execution_count": 2,
   "id": "4470d22f-6b2e-482d-b0e1-1a4a824e37b3",
   "metadata": {},
   "outputs": [
    {
     "data": {
      "text/html": [
       "<div>\n",
       "<style scoped>\n",
       "    .dataframe tbody tr th:only-of-type {\n",
       "        vertical-align: middle;\n",
       "    }\n",
       "\n",
       "    .dataframe tbody tr th {\n",
       "        vertical-align: top;\n",
       "    }\n",
       "\n",
       "    .dataframe thead th {\n",
       "        text-align: right;\n",
       "    }\n",
       "</style>\n",
       "<table border=\"1\" class=\"dataframe\">\n",
       "  <thead>\n",
       "    <tr style=\"text-align: right;\">\n",
       "      <th></th>\n",
       "      <th>sentiment</th>\n",
       "      <th>review</th>\n",
       "    </tr>\n",
       "  </thead>\n",
       "  <tbody>\n",
       "    <tr>\n",
       "      <th>0</th>\n",
       "      <td>positive</td>\n",
       "      <td>One of the other reviewers has mentioned that ...</td>\n",
       "    </tr>\n",
       "    <tr>\n",
       "      <th>1</th>\n",
       "      <td>positive</td>\n",
       "      <td>A wonderful little production. &lt;br /&gt;&lt;br /&gt;The...</td>\n",
       "    </tr>\n",
       "    <tr>\n",
       "      <th>2</th>\n",
       "      <td>positive</td>\n",
       "      <td>I thought this was a wonderful way to spend ti...</td>\n",
       "    </tr>\n",
       "    <tr>\n",
       "      <th>3</th>\n",
       "      <td>negative</td>\n",
       "      <td>Basically there's a family where a little boy ...</td>\n",
       "    </tr>\n",
       "    <tr>\n",
       "      <th>4</th>\n",
       "      <td>positive</td>\n",
       "      <td>Petter Mattei's \"Love in the Time of Money\" is...</td>\n",
       "    </tr>\n",
       "  </tbody>\n",
       "</table>\n",
       "</div>"
      ],
      "text/plain": [
       "  sentiment                                             review\n",
       "0  positive  One of the other reviewers has mentioned that ...\n",
       "1  positive  A wonderful little production. <br /><br />The...\n",
       "2  positive  I thought this was a wonderful way to spend ti...\n",
       "3  negative  Basically there's a family where a little boy ...\n",
       "4  positive  Petter Mattei's \"Love in the Time of Money\" is..."
      ]
     },
     "execution_count": 2,
     "metadata": {},
     "output_type": "execute_result"
    }
   ],
   "source": [
    "# 데이터 로드\n",
    "origin = pd.read_excel(\"./data/imdb.xlsx\")\n",
    "origin.head()"
   ]
  },
  {
   "cell_type": "code",
   "execution_count": 3,
   "id": "cecaaf00-31b5-40a1-b7bf-6c02c52a0ddc",
   "metadata": {},
   "outputs": [
    {
     "name": "stdout",
     "output_type": "stream",
     "text": [
      "['negative' 'positive']\n"
     ]
    },
    {
     "data": {
      "text/html": [
       "<div>\n",
       "<style scoped>\n",
       "    .dataframe tbody tr th:only-of-type {\n",
       "        vertical-align: middle;\n",
       "    }\n",
       "\n",
       "    .dataframe tbody tr th {\n",
       "        vertical-align: top;\n",
       "    }\n",
       "\n",
       "    .dataframe thead th {\n",
       "        text-align: right;\n",
       "    }\n",
       "</style>\n",
       "<table border=\"1\" class=\"dataframe\">\n",
       "  <thead>\n",
       "    <tr style=\"text-align: right;\">\n",
       "      <th></th>\n",
       "      <th>sentiment</th>\n",
       "      <th>review</th>\n",
       "    </tr>\n",
       "  </thead>\n",
       "  <tbody>\n",
       "    <tr>\n",
       "      <th>0</th>\n",
       "      <td>1</td>\n",
       "      <td>One of the other reviewers has mentioned that ...</td>\n",
       "    </tr>\n",
       "    <tr>\n",
       "      <th>1</th>\n",
       "      <td>1</td>\n",
       "      <td>A wonderful little production. &lt;br /&gt;&lt;br /&gt;The...</td>\n",
       "    </tr>\n",
       "    <tr>\n",
       "      <th>2</th>\n",
       "      <td>1</td>\n",
       "      <td>I thought this was a wonderful way to spend ti...</td>\n",
       "    </tr>\n",
       "    <tr>\n",
       "      <th>3</th>\n",
       "      <td>0</td>\n",
       "      <td>Basically there's a family where a little boy ...</td>\n",
       "    </tr>\n",
       "    <tr>\n",
       "      <th>4</th>\n",
       "      <td>1</td>\n",
       "      <td>Petter Mattei's \"Love in the Time of Money\" is...</td>\n",
       "    </tr>\n",
       "  </tbody>\n",
       "</table>\n",
       "</div>"
      ],
      "text/plain": [
       "   sentiment                                             review\n",
       "0          1  One of the other reviewers has mentioned that ...\n",
       "1          1  A wonderful little production. <br /><br />The...\n",
       "2          1  I thought this was a wonderful way to spend ti...\n",
       "3          0  Basically there's a family where a little boy ...\n",
       "4          1  Petter Mattei's \"Love in the Time of Money\" is..."
      ]
     },
     "execution_count": 3,
     "metadata": {},
     "output_type": "execute_result"
    }
   ],
   "source": [
    "# 종속변수 라벨링\n",
    "df = origin.copy()\n",
    "\n",
    "le = LabelEncoder()\n",
    "df['sentiment'] = le.fit_transform(df['sentiment'])\n",
    "print(le.classes_)\n",
    "df.head()"
   ]
  },
  {
   "cell_type": "markdown",
   "id": "483acdac-3f7e-4a8e-b43e-72df0e0012b2",
   "metadata": {},
   "source": [
    "## 문자열 전처리"
   ]
  },
  {
   "cell_type": "code",
   "execution_count": 4,
   "id": "c2b6bee6-b318-4831-8109-f9820bc1bbd3",
   "metadata": {},
   "outputs": [
    {
     "name": "stderr",
     "output_type": "stream",
     "text": [
      "[nltk_data] Downloading package stopwords to\n",
      "[nltk_data]     /home/yjg1005/nltk_data...\n",
      "[nltk_data]   Package stopwords is already up-to-date!\n"
     ]
    },
    {
     "data": {
      "text/plain": [
       "['i', 'me', 'my', 'myself', 'we']"
      ]
     },
     "execution_count": 4,
     "metadata": {},
     "output_type": "execute_result"
    }
   ],
   "source": [
    "# 영어 불용어 로드\n",
    "nltk.download(\"stopwords\")\n",
    "stopwords = list(stw.words(\"english\"))\n",
    "stopwords[:5]"
   ]
  },
  {
   "cell_type": "code",
   "execution_count": 5,
   "id": "15c61f53-7421-4be0-a770-3fc5bf8872a1",
   "metadata": {},
   "outputs": [],
   "source": [
    "# 약어, 이메일주소, 태그문등 불필요한 데이터 제거\n",
    "reviews = []\n",
    "\n",
    "for i in df['review'].values:\n",
    "    # 불용어 처리\n",
    "    source = \" \".join([w for w in i.split() if w not in stopwords])\n",
    "\n",
    "    # 약어 처리\n",
    "    source = contractions.fix(source)\n",
    "\n",
    "    # email 제거\n",
    "    source = re.sub(\n",
    "            r\"\\b[a-zA-Z0-9._%+-]+@[a-zA-Z0-9.-]+\\.[a-zA-Z]{2,}\\b\", \"\", source\n",
    "        )\n",
    "\n",
    "    # html 태그 제거\n",
    "    source = re.sub(r\"<[^>]*>\", \"\", source)\n",
    "\n",
    "    # url 제거\n",
    "    source = re.sub(\n",
    "            r\"http[s]?://(?:[a-zA-Z]|[0-9]|[$-_@.&+]|[!*\\\\(\\\\),]|(?:%[0-9a-fA-F][0-9a-fA-F]))+\",\n",
    "            \"\",\n",
    "            source,\n",
    "        )\n",
    "\n",
    "    # 숫자 제거\n",
    "    source = re.sub(r\"\\b[0-9]+\\b\", \"\", source)\n",
    "\n",
    "    # 특수문자 제거\n",
    "    x = re.sub(r\"[^\\w ]+\", \"\", source)\n",
    "    source = \" \".join(x.split())\n",
    "    \n",
    "    reviews.append(source)"
   ]
  },
  {
   "cell_type": "code",
   "execution_count": 6,
   "id": "169e201d-1cd1-4dea-b97f-fdb04d2a5ae2",
   "metadata": {},
   "outputs": [],
   "source": [
    "# 독립, 종속변수 정의\n",
    "X = reviews.copy()\n",
    "Y = df['sentiment']"
   ]
  },
  {
   "cell_type": "code",
   "execution_count": 7,
   "id": "4ec7a3aa-feed-4b7e-a7ec-4555f78c2381",
   "metadata": {},
   "outputs": [
    {
     "name": "stdout",
     "output_type": "stream",
     "text": [
      "전체 단어수: 216419\n",
      "토큰의 크기 : 49998\n",
      "0\n",
      "0\n",
      "0\n",
      "0\n",
      "0\n",
      "0\n",
      "0\n",
      "0\n",
      "0\n",
      "0\n"
     ]
    }
   ],
   "source": [
    "# 텍스트 토큰화\n",
    "tokenizer = Tokenizer(oov_token = '<OOV>')\n",
    "tokenizer.fit_on_texts(X)\n",
    "print(f\"전체 단어수: {len(tokenizer.word_index)+1}\")\n",
    "\n",
    "token_set = tokenizer.texts_to_sequences(X)\n",
    "print(\"토큰의 크기 :\", len(token_set))\n",
    "\n",
    "# 문장별로 <OOV>의 수 카운트\n",
    "i = tokenizer.texts_to_sequences(X[:10])\n",
    "for j in range(10):\n",
    "    print(i[j].count(1))"
   ]
  },
  {
   "cell_type": "code",
   "execution_count": 8,
   "id": "cd8941a7-6bb0-477e-8281-3747f3678658",
   "metadata": {},
   "outputs": [
    {
     "name": "stdout",
     "output_type": "stream",
     "text": [
      "[('one', 50324), ('reviewers', 500), ('mentioned', 1026), ('watching', 8909), ('oz', 256)]\n"
     ]
    }
   ],
   "source": [
    "# 단어별 빈도수 확인 (5개 까지)\n",
    "bins = tokenizer.word_counts.items()\n",
    "print(list(bins)[:5])"
   ]
  },
  {
   "cell_type": "code",
   "execution_count": 9,
   "id": "2dae7460-4379-4c3a-b54e-82a855726463",
   "metadata": {},
   "outputs": [
    {
     "name": "stdout",
     "output_type": "stream",
     "text": [
      "단어 집합(vocabulary)의 크기 : 216418\n",
      "등장 빈도가 30번 미만인 희귀 단어의 수: 201100\n",
      "단어 집합에서 희귀 단어의 비율: 92.92203051502186\n",
      "전체 등장 빈도에서 희귀 단어 등장 빈도 비율: 8.597505256648489\n",
      "단어 집합의 크기 : 15320\n"
     ]
    }
   ],
   "source": [
    "# 사용 빈도가 높다고 판단할 등장 회수\n",
    "threshold = 30\n",
    "\n",
    "# 전체 단어의 수\n",
    "total_cnt = len(tokenizer.word_index)\n",
    "\n",
    "# 등장 빈도수가 threshold보다 작은 단어의 개수를 카운트할 값\n",
    "rare_cnt = 0\n",
    "\n",
    "# 훈련 데이터의 전체 단어 빈도수 총 합\n",
    "total_freq = 0\n",
    "\n",
    "# 등장 빈도수가 threshold보다 작은 단어의 등장 빈도수의 총 합\n",
    "rare_freq = 0\n",
    "\n",
    "# 단어와 빈도수의 쌍(pair)을 key와 value로 받는다.\n",
    "for key, value in tokenizer.word_counts.items():\n",
    "    total_freq = total_freq + value\n",
    "\n",
    "    # 단어의 등장 빈도수가 threshold보다 작으면\n",
    "    if value < threshold:\n",
    "        rare_cnt = rare_cnt + 1\n",
    "        rare_freq = rare_freq + value\n",
    "\n",
    "print(\"단어 집합(vocabulary)의 크기 :\", total_cnt)\n",
    "print(\"등장 빈도가 %s번 미만인 희귀 단어의 수: %s\" % (threshold, rare_cnt))\n",
    "print(\"단어 집합에서 희귀 단어의 비율:\", (rare_cnt / total_cnt) * 100)\n",
    "print(\"전체 등장 빈도에서 희귀 단어 등장 빈도 비율:\", (rare_freq / total_freq) * 100)\n",
    "\n",
    "# 자주 등장하는 단어 집합의 크기 구하기 -> 이 값이 첫 번째 학습층의 input 수가 된다.\n",
    "vocab_size = total_cnt - rare_cnt + 2\n",
    "print(\"단어 집합의 크기 :\", vocab_size)"
   ]
  },
  {
   "cell_type": "code",
   "execution_count": 10,
   "id": "b7c1b26b-0f77-4f8d-a204-4f1ed3d5fc93",
   "metadata": {},
   "outputs": [
    {
     "name": "stdout",
     "output_type": "stream",
     "text": [
      "전체 단어수: 216419\n",
      "토큰의 크기 : 49998\n",
      "15\n",
      "10\n",
      "7\n",
      "2\n",
      "13\n",
      "3\n",
      "11\n",
      "4\n",
      "1\n",
      "1\n"
     ]
    }
   ],
   "source": [
    "# 자주 등장하는 단어 외는 OOV로 처리하여 토큰화 진행\n",
    "tokenizer2 = Tokenizer(oov_token = '<OOV>', num_words = vocab_size)\n",
    "tokenizer2.fit_on_texts(X)\n",
    "print(f\"전체 단어수: {len(tokenizer2.word_index) + 1}\")\n",
    "\n",
    "token_set = tokenizer2.texts_to_sequences(X)\n",
    "print('토큰의 크기 :', len(token_set))\n",
    "\n",
    "i = tokenizer2.texts_to_sequences(X[:10])\n",
    "\n",
    "# 문장별로 <OOV>의 수 카운트\n",
    "for j in range(10):\n",
    "    print(i[j].count(1))"
   ]
  },
  {
   "cell_type": "code",
   "execution_count": 11,
   "id": "ab90a8cf-60f3-4c45-8f95-cd566b60bc04",
   "metadata": {},
   "outputs": [
    {
     "name": "stdout",
     "output_type": "stream",
     "text": [
      "길이가 0인 항목의 수:  0\n",
      "길이가 0인 항목의 인덱스 모음:  []\n",
      "독립변수(덧글) 데이터 수:  49998\n",
      "종속변수(레이블) 데이터 수:  49998\n"
     ]
    }
   ],
   "source": [
    "# 토큰화 결과 길이가 0인 문장 찾기\n",
    "drop_target_index = []\n",
    "\n",
    "for i, v in enumerate(token_set):\n",
    "    if len(v) < 1:\n",
    "        drop_target_index.append(i)\n",
    "\n",
    "print(\"길이가 0인 항목의 수: \", len(drop_target_index))\n",
    "print(\"길이가 0인 항목의 인덱스 모음: \", drop_target_index)\n",
    "\n",
    "# 길이가 0인 데이터 삭제 (현 데이터에서는 없음)\n",
    "token_set2 = np.asarray(token_set, dtype=\"object\")\n",
    "\n",
    "# 토큰 결과에서 해당 위치의 항목들을 삭제한다.\n",
    "fill_token_set = np.delete(token_set2, drop_target_index, axis=0)\n",
    "\n",
    "# 종속변수에서도 같은 위치의 항목들을 삭제해야 한다.\n",
    "label_set = np.delete(Y, drop_target_index, axis=0)\n",
    "\n",
    "print(\"독립변수(덧글) 데이터 수: \", len(fill_token_set))\n",
    "print(\"종속변수(레이블) 데이터 수: \", len(label_set))"
   ]
  },
  {
   "cell_type": "code",
   "execution_count": 12,
   "id": "294a56fb-d80f-486e-8008-637020ed7e3c",
   "metadata": {},
   "outputs": [
    {
     "data": {
      "text/html": [
       "<div>\n",
       "<style scoped>\n",
       "    .dataframe tbody tr th:only-of-type {\n",
       "        vertical-align: middle;\n",
       "    }\n",
       "\n",
       "    .dataframe tbody tr th {\n",
       "        vertical-align: top;\n",
       "    }\n",
       "\n",
       "    .dataframe thead th {\n",
       "        text-align: right;\n",
       "    }\n",
       "</style>\n",
       "<table border=\"1\" class=\"dataframe\">\n",
       "  <thead>\n",
       "    <tr style=\"text-align: right;\">\n",
       "      <th></th>\n",
       "      <th>count</th>\n",
       "    </tr>\n",
       "  </thead>\n",
       "  <tbody>\n",
       "    <tr>\n",
       "      <th>0</th>\n",
       "      <td>181</td>\n",
       "    </tr>\n",
       "    <tr>\n",
       "      <th>1</th>\n",
       "      <td>94</td>\n",
       "    </tr>\n",
       "    <tr>\n",
       "      <th>2</th>\n",
       "      <td>93</td>\n",
       "    </tr>\n",
       "    <tr>\n",
       "      <th>3</th>\n",
       "      <td>72</td>\n",
       "    </tr>\n",
       "    <tr>\n",
       "      <th>4</th>\n",
       "      <td>130</td>\n",
       "    </tr>\n",
       "    <tr>\n",
       "      <th>...</th>\n",
       "      <td>...</td>\n",
       "    </tr>\n",
       "    <tr>\n",
       "      <th>49993</th>\n",
       "      <td>98</td>\n",
       "    </tr>\n",
       "    <tr>\n",
       "      <th>49994</th>\n",
       "      <td>62</td>\n",
       "    </tr>\n",
       "    <tr>\n",
       "      <th>49995</th>\n",
       "      <td>122</td>\n",
       "    </tr>\n",
       "    <tr>\n",
       "      <th>49996</th>\n",
       "      <td>120</td>\n",
       "    </tr>\n",
       "    <tr>\n",
       "      <th>49997</th>\n",
       "      <td>69</td>\n",
       "    </tr>\n",
       "  </tbody>\n",
       "</table>\n",
       "<p>49998 rows × 1 columns</p>\n",
       "</div>"
      ],
      "text/plain": [
       "       count\n",
       "0        181\n",
       "1         94\n",
       "2         93\n",
       "3         72\n",
       "4        130\n",
       "...      ...\n",
       "49993     98\n",
       "49994     62\n",
       "49995    122\n",
       "49996    120\n",
       "49997     69\n",
       "\n",
       "[49998 rows x 1 columns]"
      ]
     },
     "execution_count": 12,
     "metadata": {},
     "output_type": "execute_result"
    }
   ],
   "source": [
    "# 문장별로 몇개의 단어를 포함하고 있는지 확인\n",
    "word_counts = []\n",
    "\n",
    "for s in fill_token_set:\n",
    "    word_counts.append(len(s))\n",
    "\n",
    "count_df = pd.DataFrame({\"count\": word_counts})\n",
    "count_df"
   ]
  },
  {
   "cell_type": "code",
   "execution_count": 13,
   "id": "2c7ac3b0-f00a-432d-a8a4-b730500930c6",
   "metadata": {},
   "outputs": [
    {
     "name": "stdout",
     "output_type": "stream",
     "text": [
      "가장 많은 단어를 사용하는 문장의 단어 수 : 1508\n",
      "가장 적은 단어를 사용하는 문장의 단어수 : 4\n"
     ]
    }
   ],
   "source": [
    "# 가장 많은 단어를 사용한 리뷰와 가장 적은 단어를 사용한 리뷰\n",
    "max_word_count = max(word_counts)\n",
    "min_word_count = min(word_counts)\n",
    "print(\"가장 많은 단어를 사용하는 문장의 단어 수 :\", max_word_count)\n",
    "print(\"가장 적은 단어를 사용하는 문장의 단어수 :\", min_word_count)"
   ]
  },
  {
   "cell_type": "code",
   "execution_count": 14,
   "id": "6b859860-06f7-4780-bf4f-78194bff9a7d",
   "metadata": {},
   "outputs": [
    {
     "name": "stdout",
     "output_type": "stream",
     "text": [
      "After pad_sequences:  1508 1508\n",
      "[0 0 0 0 0 0 0 0 0 0 0 0 0 0 0 0 0 0 0 0 0 0 0 0 0 0 0 0 0 0 0 0 0 0 0 0 0\n",
      " 0 0 0 0 0 0 0 0 0 0 0 0 0]\n"
     ]
    }
   ],
   "source": [
    "# 패딩\n",
    "max_word_count = max(word_counts)\n",
    "# max_word_count = 200\n",
    "pad_token_set = pad_sequences(fill_token_set, maxlen=max_word_count)\n",
    "\n",
    "#  원래 단어의 앞에 ‘지정해준 단어의 길이(max_word_count) – 원래 단어의 길이`만큼 0이 추가된 것을 볼 수 있다.\n",
    "print(\"After pad_sequences: \", len(pad_token_set[0]), len(pad_token_set[1]))\n",
    "print(pad_token_set[0][:50])"
   ]
  },
  {
   "cell_type": "code",
   "execution_count": 15,
   "id": "36a09fd2-e53e-4ae0-9095-69e668ec3755",
   "metadata": {},
   "outputs": [
    {
     "name": "stdout",
     "output_type": "stream",
     "text": [
      "(39998, 1508) (10000, 1508) (39998,) (10000,)\n"
     ]
    }
   ],
   "source": [
    "# 데이터 분할\n",
    "x_train, x_test, y_train, y_test = train_test_split(pad_token_set, Y, test_size = 0.2, random_state = 0)\n",
    "print(x_train.shape, x_test.shape, y_train.shape, y_test.shape)"
   ]
  },
  {
   "cell_type": "code",
   "execution_count": 16,
   "id": "32143d4f-c7c6-4ac3-8b26-ff8d81ff6174",
   "metadata": {},
   "outputs": [
    {
     "name": "stdout",
     "output_type": "stream",
     "text": [
      "Model: \"sequential\"\n",
      "_________________________________________________________________\n",
      " Layer (type)                Output Shape              Param #   \n",
      "=================================================================\n",
      " embedding (Embedding)       (None, 1508, 32)          490240    \n",
      "                                                                 \n",
      " flatten (Flatten)           (None, 48256)             0         \n",
      "                                                                 \n",
      " dense (Dense)               (None, 1)                 48257     \n",
      "                                                                 \n",
      "=================================================================\n",
      "Total params: 538497 (2.05 MB)\n",
      "Trainable params: 538497 (2.05 MB)\n",
      "Non-trainable params: 0 (0.00 Byte)\n",
      "_________________________________________________________________\n"
     ]
    },
    {
     "name": "stderr",
     "output_type": "stream",
     "text": [
      "2024-04-24 11:05:34.315976: I tensorflow/core/common_runtime/gpu/gpu_device.cc:1929] Created device /job:localhost/replica:0/task:0/device:GPU:0 with 22455 MB memory:  -> device: 0, name: NVIDIA GeForce RTX 3090, pci bus id: 0000:08:00.0, compute capability: 8.6\n"
     ]
    }
   ],
   "source": [
    "# 모델 생성 및 컴파일\n",
    "\n",
    "# input_dim : 학습 데이터셋의 단어의 개수\n",
    "# output_dim : 임베딩 벡터의 크기\n",
    "\n",
    "model = Sequential([\n",
    "    Embedding(input_dim = vocab_size, output_dim = 32, input_length = max_word_count),\n",
    "    Flatten(),\n",
    "    Dense(1, activation = 'sigmoid')\n",
    "])\n",
    "\n",
    "model.compile(optimizer = 'adam', loss = 'binary_crossentropy', metrics = ['acc'])\n",
    "model.summary()"
   ]
  },
  {
   "cell_type": "code",
   "execution_count": 20,
   "id": "29346a06-86d6-4809-95e7-089d07f4bf34",
   "metadata": {},
   "outputs": [
    {
     "name": "stdout",
     "output_type": "stream",
     "text": [
      "Epoch 1/1000\n"
     ]
    },
    {
     "name": "stderr",
     "output_type": "stream",
     "text": [
      "2024-04-24 11:06:30.339893: I external/local_tsl/tsl/platform/default/subprocess.cc:304] Start cannot spawn child process: No such file or directory\n"
     ]
    },
    {
     "name": "stdout",
     "output_type": "stream",
     "text": [
      "   1/1250 [..............................] - ETA: 15:17 - loss: 0.6927 - acc: 0.5938"
     ]
    },
    {
     "name": "stderr",
     "output_type": "stream",
     "text": [
      "2024-04-24 11:06:30.579883: I external/local_xla/xla/service/service.cc:168] XLA service 0x7fe4cc942f70 initialized for platform CUDA (this does not guarantee that XLA will be used). Devices:\n",
      "2024-04-24 11:06:30.579902: I external/local_xla/xla/service/service.cc:176]   StreamExecutor device (0): NVIDIA GeForce RTX 3090, Compute Capability 8.6\n",
      "2024-04-24 11:06:30.584467: I tensorflow/compiler/mlir/tensorflow/utils/dump_mlir_util.cc:269] disabling MLIR crash reproducer, set env var `MLIR_CRASH_REPRODUCER_DIRECTORY` to enable.\n",
      "2024-04-24 11:06:30.597473: I external/local_xla/xla/stream_executor/cuda/cuda_dnn.cc:454] Loaded cuDNN version 8902\n",
      "WARNING: All log messages before absl::InitializeLog() is called are written to STDERR\n",
      "I0000 00:00:1713924390.642456   48803 device_compiler.h:186] Compiled cluster using XLA!  This line is logged at most once for the lifetime of the process.\n"
     ]
    },
    {
     "name": "stdout",
     "output_type": "stream",
     "text": [
      "1250/1250 [==============================] - 65s 52ms/step - loss: 0.3570 - acc: 0.8412 - val_loss: 0.2597 - val_acc: 0.8979 - lr: 0.0010\n",
      "Epoch 2/1000\n",
      "1250/1250 [==============================] - 19s 15ms/step - loss: 0.1762 - acc: 0.9341 - val_loss: 0.2751 - val_acc: 0.8914 - lr: 0.0010\n",
      "Epoch 3/1000\n",
      "1250/1250 [==============================] - 12s 10ms/step - loss: 0.0883 - acc: 0.9744 - val_loss: 0.3055 - val_acc: 0.8858 - lr: 0.0010\n",
      "Epoch 4/1000\n",
      "1250/1250 [==============================] - 8s 7ms/step - loss: 0.0349 - acc: 0.9940 - val_loss: 0.3435 - val_acc: 0.8842 - lr: 0.0010\n",
      "Epoch 5/1000\n",
      "1250/1250 [==============================] - 7s 5ms/step - loss: 0.0126 - acc: 0.9989 - val_loss: 0.3855 - val_acc: 0.8825 - lr: 0.0010\n",
      "Epoch 6/1000\n",
      "1250/1250 [==============================] - 4s 3ms/step - loss: 0.0052 - acc: 0.9999 - val_loss: 0.3908 - val_acc: 0.8828 - lr: 1.0000e-04\n",
      "Epoch 7/1000\n",
      "1250/1250 [==============================] - 5s 4ms/step - loss: 0.0046 - acc: 0.9999 - val_loss: 0.3995 - val_acc: 0.8831 - lr: 1.0000e-04\n",
      "Epoch 8/1000\n",
      "1250/1250 [==============================] - 5s 4ms/step - loss: 0.0039 - acc: 0.9999 - val_loss: 0.4097 - val_acc: 0.8844 - lr: 1.0000e-04\n",
      "Epoch 9/1000\n",
      "1250/1250 [==============================] - 6s 4ms/step - loss: 0.0032 - acc: 1.0000 - val_loss: 0.4228 - val_acc: 0.8839 - lr: 1.0000e-04\n",
      "CPU times: user 1min 59s, sys: 4.65 s, total: 2min 3s\n",
      "Wall time: 2min 11s\n"
     ]
    }
   ],
   "source": [
    "%%time\n",
    "# 모델 훈련\n",
    "\n",
    "history = model.fit(x_train, y_train, validation_data = (x_test, y_test), epochs = 1000, callbacks = [\n",
    "    EarlyStopping(patience = 8, restore_best_weights = True),\n",
    "    ReduceLROnPlateau(patience = 4, min_lr = 1e-05)\n",
    "])"
   ]
  },
  {
   "cell_type": "code",
   "execution_count": 21,
   "id": "a99d4484-453b-4849-9f84-85ba1fa551c9",
   "metadata": {},
   "outputs": [
    {
     "data": {
      "image/png": "[encoded data removed]",
      "text/plain": [
       "<Figure size 1200x500 with 2 Axes>"
      ]
     },
     "metadata": {},
     "output_type": "display_data"
    }
   ],
   "source": [
    "# 학습곡선\n",
    "hist_dic = history.history\n",
    "\n",
    "fig, ax = plt.subplots(1, 2, figsize = (12, 5))\n",
    "ax[0].plot(hist_dic['loss'], label = 'loss')\n",
    "ax[0].plot(hist_dic['val_loss'], label = 'val_loss')\n",
    "ax[1].plot(hist_dic['acc'], label = 'acc')\n",
    "ax[1].plot(hist_dic['val_acc'], label = 'val_acc')\n",
    "ax[0].legend()\n",
    "ax[1].legend()\n",
    "ax[0].grid()\n",
    "ax[1].grid()\n",
    "plt.show()"
   ]
  },
  {
   "cell_type": "code",
   "execution_count": 22,
   "id": "fcd9d797-a47f-4d1d-b477-11a2ce5c6cb0",
   "metadata": {},
   "outputs": [
    {
     "name": "stdout",
     "output_type": "stream",
     "text": [
      "313/313 [==============================] - 0s 635us/step\n",
      "10000개의 검증 데이터가 1개의 경우의 수를 갖는다.\n"
     ]
    },
    {
     "data": {
      "text/plain": [
       "array([[0.9525162 ],\n",
       "       [0.00472501],\n",
       "       [0.9971835 ],\n",
       "       ...,\n",
       "       [0.03859142],\n",
       "       [0.01528543],\n",
       "       [0.08128206]], dtype=float32)"
      ]
     },
     "execution_count": 22,
     "metadata": {},
     "output_type": "execute_result"
    }
   ],
   "source": [
    "# 검증 데이터 예측 결과 산정\n",
    "result = model.predict(x_test)\n",
    "data_count, case_count = result.shape\n",
    "print(\"%d개의 검증 데이터가 %d개의 경우의 수를 갖는다.\" % (data_count, case_count))\n",
    "result"
   ]
  },
  {
   "cell_type": "code",
   "execution_count": 23,
   "id": "4ab37e1e-938a-4130-ae1e-37f1826a2355",
   "metadata": {},
   "outputs": [
    {
     "data": {
      "text/plain": [
       "array([1., 0., 1., ..., 0., 0., 0.], dtype=float32)"
      ]
     },
     "execution_count": 23,
     "metadata": {},
     "output_type": "execute_result"
    }
   ],
   "source": [
    "# 예측 결과의 1차원 배열화\n",
    "f_results = result.flatten()\n",
    "f_results = np.round(f_results, 0)\n",
    "f_results"
   ]
  },
  {
   "cell_type": "code",
   "execution_count": 26,
   "id": "7ab656cc-a02a-456e-bab4-7c0918fb0497",
   "metadata": {},
   "outputs": [
    {
     "data": {
      "image/png": "[encoded data removed]",
      "text/plain": [
       "<Figure size 600x500 with 2 Axes>"
      ]
     },
     "metadata": {},
     "output_type": "display_data"
    }
   ],
   "source": [
    "# 혼동행렬\n",
    "c_mat = confusion_matrix(y_test, f_results)\n",
    "\n",
    "plt.figure(figsize = (6, 5))\n",
    "sns.heatmap(c_mat, annot = True, fmt = 'd', cmap = 'Oranges')\n",
    "plt.show()"
   ]
  },
  {
   "cell_type": "code",
   "execution_count": null,
   "id": "fdc3746e-24b6-44f8-b497-9982a36d850f",
   "metadata": {},
   "outputs": [],
   "source": []
  }
 ],
 "metadata": {
  "kernelspec": {
   "display_name": "Python 3 (ipykernel)",
   "language": "python",
   "name": "python3"
  },
  "language_info": {
   "codemirror_mode": {
    "name": "ipython",
    "version": 3
   },
   "file_extension": ".py",
   "mimetype": "text/x-python",
   "name": "python",
   "nbconvert_exporter": "python",
   "pygments_lexer": "ipython3",
   "version": "3.10.12"
  }
 },
 "nbformat": 4,
 "nbformat_minor": 5
}
