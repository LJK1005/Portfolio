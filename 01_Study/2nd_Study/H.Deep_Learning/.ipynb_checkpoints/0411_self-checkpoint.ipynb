{
 "cells": [
  {
   "cell_type": "code",
   "execution_count": 1,
   "id": "63aac297-74cd-47d2-b8cb-654fec275d2d",
   "metadata": {},
   "outputs": [],
   "source": [
    "import sys\n",
    "sys.path.append(\"Y:\\Python\\Mega_IT\")\n",
    "\n",
    "from yjk_module.preprocessing import *\n",
    "from yjk_module.ml_module import *"
   ]
  },
  {
   "cell_type": "code",
   "execution_count": 2,
   "id": "19c1afef-959a-4035-908b-9a42faf680dc",
   "metadata": {},
   "outputs": [],
   "source": [
    "import tensorflow as tf"
   ]
  },
  {
   "cell_type": "markdown",
   "id": "e08c9e57-31e7-45cc-ac28-1f5c01bce4af",
   "metadata": {},
   "source": [
    "- f(x) = W * x + b\n",
    "    - W : 가중치, b : 편향(bias)"
   ]
  },
  {
   "cell_type": "markdown",
   "id": "4d397bfd-cfe1-47f5-803d-768381ca5707",
   "metadata": {},
   "source": [
    "- 텐서플로우의 변수 : 텐서플로우 전용의 변수 체계와 명령어가 필요\n",
    "    - 기존 파이썬 스타일의 입출력은 작동하지 않음\n",
    "- 변수타입\n",
    "    - tf.uint 계열 : 음수를 허용하지 않는 정수 (0 ~)"
   ]
  },
  {
   "cell_type": "code",
   "execution_count": 3,
   "id": "0eef8978-66f7-469b-82ca-5db689d09df6",
   "metadata": {},
   "outputs": [
    {
     "name": "stdout",
     "output_type": "stream",
     "text": [
      "123\n"
     ]
    }
   ],
   "source": [
    "# 암묵적 타입의 변수 생성\n",
    "x = tf.Variable(123)\n",
    "tf.print(x)"
   ]
  },
  {
   "cell_type": "code",
   "execution_count": 4,
   "id": "240b71be-646f-4054-9088-3bb2e50d8a8f",
   "metadata": {},
   "outputs": [
    {
     "name": "stdout",
     "output_type": "stream",
     "text": [
      "223\n"
     ]
    }
   ],
   "source": [
    "y = tf.Variable(x + 100)\n",
    "tf.print(y)"
   ]
  },
  {
   "cell_type": "markdown",
   "id": "8fd62024-2e1a-4668-a8d2-468d9dd1d0db",
   "metadata": {},
   "source": [
    "- 텐서 : 배열의 집합, 연속적으로 데이터를 담음, 차수에 따라서 이름이 달라짐\n",
    "    - Rank : 텐서의 차원\n",
    "        - Rank = 0 : 스칼라\n",
    "        - Rank = 1 : 벡터\n",
    "        - Rank = 2 : 매트릭스\n",
    "        - Rank = 3 : 텐서\n",
    "        - Rank > 3 : n-텐서"
   ]
  },
  {
   "cell_type": "code",
   "execution_count": 11,
   "id": "d25a1257-a78b-4ec8-8709-ed503efdf226",
   "metadata": {},
   "outputs": [
    {
     "name": "stdout",
     "output_type": "stream",
     "text": [
      "3\n",
      "4\n",
      "------------------------------\n",
      "tf.Tensor(7.0, shape=(), dtype=float32)\n",
      "7\n"
     ]
    }
   ],
   "source": [
    "# 명시적 타입의 변수 생성\n",
    "node1 = tf.constant(3.0, dtype = tf.float32, name = 'hello')\n",
    "node2 = tf.constant(4.0, name = 'hello')\n",
    "                  \n",
    "tf.print(node1)\n",
    "tf.print(node2)\n",
    "\n",
    "print(\"-\" * 30) \n",
    "node3 = tf.add(node1, node2)\n",
    "print(node3)\n",
    "tf.print(node3)"
   ]
  },
  {
   "cell_type": "code",
   "execution_count": 12,
   "id": "ee2f3d4c-d478-4473-a38b-442c0ec242f0",
   "metadata": {},
   "outputs": [
    {
     "name": "stdout",
     "output_type": "stream",
     "text": [
      "()\n"
     ]
    },
    {
     "data": {
      "text/plain": [
       "array(100)"
      ]
     },
     "execution_count": 12,
     "metadata": {},
     "output_type": "execute_result"
    }
   ],
   "source": [
    "# 스칼라\n",
    "a = 100\n",
    "ts1 = np.array(a)\n",
    "print(ts1.shape)\n",
    "ts1"
   ]
  },
  {
   "cell_type": "code",
   "execution_count": 13,
   "id": "b1844d2c-c5ad-440f-be14-a215b8b260ff",
   "metadata": {},
   "outputs": [
    {
     "name": "stdout",
     "output_type": "stream",
     "text": [
      "(3,)\n"
     ]
    },
    {
     "data": {
      "text/plain": [
       "array([1, 2, 3])"
      ]
     },
     "execution_count": 13,
     "metadata": {},
     "output_type": "execute_result"
    }
   ],
   "source": [
    "# 벡터\n",
    "b = [1, 2, 3]\n",
    "ts2 = np.array(b)\n",
    "print(ts2.shape)\n",
    "ts2"
   ]
  },
  {
   "cell_type": "code",
   "execution_count": 14,
   "id": "1ac148ee-3336-45a3-9e1a-6a9997b0ea78",
   "metadata": {},
   "outputs": [
    {
     "name": "stdout",
     "output_type": "stream",
     "text": [
      "(2, 3)\n"
     ]
    },
    {
     "data": {
      "text/plain": [
       "array([[ 10,  20,  30],\n",
       "       [100, 200, 300]])"
      ]
     },
     "execution_count": 14,
     "metadata": {},
     "output_type": "execute_result"
    }
   ],
   "source": [
    "# 행렬(matrix)\n",
    "c = [[10, 20, 30], [100, 200, 300]]\n",
    "ts3 = np.array(c)\n",
    "print(ts3.shape)\n",
    "ts3"
   ]
  },
  {
   "cell_type": "code",
   "execution_count": 15,
   "id": "8e3c813d-a5ad-407a-ab7b-661fcbdba662",
   "metadata": {},
   "outputs": [
    {
     "name": "stdout",
     "output_type": "stream",
     "text": [
      "(2, 2, 3)\n"
     ]
    },
    {
     "data": {
      "text/plain": [
       "array([[[-1, -2, -3],\n",
       "        [ 1,  2,  3]],\n",
       "\n",
       "       [[-1,  0,  1],\n",
       "        [ 1,  0, -1]]])"
      ]
     },
     "execution_count": 15,
     "metadata": {},
     "output_type": "execute_result"
    }
   ],
   "source": [
    "# 텐서\n",
    "hello = [[-1, -2, -3], [1, 2, 3]]\n",
    "world = [[-1, 0, 1], [1, 0, -1]]\n",
    "d = [hello, world]\n",
    "ts4 = np.array(d)\n",
    "print(ts4.shape)\n",
    "ts4"
   ]
  },
  {
   "cell_type": "markdown",
   "id": "0a8f7c44-3395-45d0-b0ad-7b94c30e4ea8",
   "metadata": {},
   "source": [
    "- 인공신경망 : 지도학습의 한 갈래\n",
    "    - 여러개의 입력을 받아 출력값을 만듦\n",
    "        - 입력데이터는 미가공 데이터 혹은 (이전 은닉층의) 다른 출력값이 될 수도 있음\n",
    "    - 가중치와 편향에 따라 입력값에 대해 계산을 진행하고 최종 결과물을 출력함 (의사결정 과정)\n",
    "        - 인공신경망의 목표는 최적의 가중치와 편향을 찾는 과정"
   ]
  },
  {
   "cell_type": "markdown",
   "id": "e9c903f1-316b-412b-9aac-9af920a9387c",
   "metadata": {},
   "source": [
    "- 뉴런의 값 : 0 ~ 1의 숫자라는 가정이 있다면 계산 과정에서 이를 위반할 수 있음\n",
    "    - 가중치 / 편향에 의한 계산에 의한 결과 (가중치와 편향은 제한이 없음)\n",
    "    - 활성화 함수 : 해당 결과를 0 ~ 1로 변환하기 위한 함수 \n",
    "        - 여러 값이 활성화 함수를 거친 후에도 값들 사이의 상대적인 크기는 유지되어야 할 필요가 있음\n",
    "            - 따라서 모든 활성화 함수는 우상향을 그림"
   ]
  },
  {
   "cell_type": "markdown",
   "id": "12463ffe-64b7-4c5f-8dbf-a32b15a7df05",
   "metadata": {},
   "source": [
    "- 활성화 함수\n",
    "    - linear : linear를 제외한 모든 함수는 비선형\n",
    "    - sigmoid : 로지스틱 함수 (이진분류)\n",
    "    - 하이퍼볼릭 탄젠트 : 시그모이드와 유사하게 이진 분류에 사용 시그모이드보다 학습 수렴속도가 빠름\n",
    "    - softmax : 다항분류 함수\n",
    "    - relu : 0인가 0이 아닌가에 따라 분류결과를 결정"
   ]
  },
  {
   "cell_type": "markdown",
   "id": "06d51fcb-0a91-422c-ad87-49e2c73df508",
   "metadata": {},
   "source": [
    "- 손실함수 : 학습 단계에서 출력되는 결과값이 실제 값에 근접하도록 적용하는 함수\n",
    "    - 이전 학습 단계에서 찾아낸 W / b 값이 실제 정답과의 차이가 없도록 보정하기 위해 다음에 적용할 값을 찾기 위해 사용하는 수학 함수"
   ]
  },
  {
   "cell_type": "markdown",
   "id": "71f4df77-415e-47f0-96a3-286996e93af4",
   "metadata": {},
   "source": [
    "- 퍼셉트론 : AND, OR, NOR, XOR 같은 논리연산을 수행하는 가장 단순한 알고리즘\n",
    "    - 퍼셉트론은 0과 1의 값만 가질 수 있음 (임계값을 넘으면 1)\n",
    "        - AND, OR은 2개의 입력과 하나의 뉴런으로만 구성 가능한 단층 퍼셉트론\n",
    "        - XOR은 다수의 뉴런을 쌓아서 구성하는 다층 퍼셉트론\n",
    "    - 게이트 : 논리 회로의 기본 구성요소"
   ]
  },
  {
   "cell_type": "code",
   "execution_count": null,
   "id": "9acbb3e0-d1b6-4662-a381-f0d6b121eaaf",
   "metadata": {},
   "outputs": [],
   "source": []
  },
  {
   "cell_type": "code",
   "execution_count": null,
   "id": "5e21f6f7-888c-49a3-ac05-660f82cb1489",
   "metadata": {},
   "outputs": [],
   "source": []
  },
  {
   "cell_type": "code",
   "execution_count": null,
   "id": "7be2b354-4491-469c-aa7c-196fea6304e2",
   "metadata": {},
   "outputs": [],
   "source": []
  },
  {
   "cell_type": "code",
   "execution_count": null,
   "id": "4bb1ef43-c87d-4c53-aee7-c88da0894fd8",
   "metadata": {},
   "outputs": [],
   "source": []
  },
  {
   "cell_type": "code",
   "execution_count": null,
   "id": "19475860-cdc5-451a-99d9-51eb4fa7c4e6",
   "metadata": {},
   "outputs": [],
   "source": []
  },
  {
   "cell_type": "code",
   "execution_count": null,
   "id": "10d0b004-ceb8-40f5-92b3-24185e8161ef",
   "metadata": {},
   "outputs": [],
   "source": []
  }
 ],
 "metadata": {
  "kernelspec": {
   "display_name": "Python 3 (ipykernel)",
   "language": "python",
   "name": "python3"
  },
  "language_info": {
   "codemirror_mode": {
    "name": "ipython",
    "version": 3
   },
   "file_extension": ".py",
   "mimetype": "text/x-python",
   "name": "python",
   "nbconvert_exporter": "python",
   "pygments_lexer": "ipython3",
   "version": "3.10.9"
  }
 },
 "nbformat": 4,
 "nbformat_minor": 5
}
