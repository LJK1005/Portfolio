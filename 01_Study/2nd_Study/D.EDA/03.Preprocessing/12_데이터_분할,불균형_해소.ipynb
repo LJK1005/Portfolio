{
 "cells": [
  {
   "cell_type": "markdown",
   "metadata": {},
   "source": [
    "# 데이터 분할, 불균형 해소\n",
    "\n",
    "머신러닝을 통해 분석 모델을 적용하기 전 수집된 데이터가 분석 모델을 적용하는데 적합하도록 분할하고 데이터의 비율을 균일하게 조정하는 고급 전처리 기법\n",
    "\n",
    "## #01. 준비작업\n",
    "\n",
    "### [1] 주요 개념 정리\n",
    "\n",
    "#### 1) 독립변수($x$)\n",
    "\n",
    "- 결과를 예측하는데 필요한 조건값\n",
    "- 일반적인 $y = ax + b$ 방정식에서 $x$에 해당함\n",
    "- `○○이 ■■에 주는 영향`에서 `○○`에 해당\n",
    "- `설명변수`라고 부르기도 함\n",
    "\n",
    "#### 2) 종속변수($y$)\n",
    "\n",
    "- 머신러닝이 예측하고자 하는 결과값\n",
    "- 일반적인 $y = ax + b$ 방정식에서 $y$에 해당함\n",
    "- `○○이 ■■에 주는 영향`에서 `■■`에 해당\n",
    "- `반응변수`라고 부르기도 함\n",
    "\n",
    "> 추후 뒤에서 좀 더 자세하게 설명합니다.\n",
    "\n",
    "### [2] 패키지 참조\n",
    "\n",
    "`imblearn` 패키지의 설치가 필요하다."
   ]
  },
  {
   "cell_type": "code",
   "execution_count": null,
   "metadata": {},
   "outputs": [],
   "source": [
    "import warnings\n",
    "warnings.filterwarnings(action='ignore')\n",
    "\n",
    "from pandas import read_excel\n",
    "from sklearn.model_selection import train_test_split\n",
    "from imblearn.under_sampling import RandomUnderSampler\n",
    "from imblearn.over_sampling import RandomOverSampler, SMOTE"
   ]
  },
  {
   "cell_type": "markdown",
   "metadata": {},
   "source": [
    "### [3] 샘플 데이터 가져오기"
   ]
  },
  {
   "cell_type": "code",
   "execution_count": null,
   "metadata": {},
   "outputs": [],
   "source": [
    "origin = read_excel('https://data.hossam.kr/edadata/gradeuate.xlsx')\n",
    "origin"
   ]
  },
  {
   "cell_type": "markdown",
   "metadata": {},
   "source": [
    "## #02. 데이터 분할\n",
    "\n",
    "### [1] 독립변수, 종속변수 분리하기"
   ]
  },
  {
   "cell_type": "code",
   "execution_count": null,
   "metadata": {},
   "outputs": [],
   "source": [
    "x = origin.drop(['합격여부'], axis=1)\n",
    "y = origin['합격여부']\n",
    "x.shape, y.shape"
   ]
  },
  {
   "cell_type": "markdown",
   "metadata": {},
   "source": [
    "### [2] 훈련데이터와 검증데이터 분할하기\n",
    "\n",
    "| 구분 | 설명 |\n",
    "|---|---|\n",
    "| 훈련데이터 | 머신러닝이 학습에 활용하기 위한 데이터 |\n",
    "| 검증데이터 | 머신러닝의 학습 결과가 올바른지 검증하는데 사용되는 데이터 |\n",
    "\n",
    "일반적으로 `7(훈련):3(검증)`으로 분할한다.\n",
    "\n",
    "```python\n",
    "x_train, x_test, y_train, y_test = train_test_split(x, y, test_size=int, random_state=int)\n",
    "```\n",
    "\n",
    "| 파라미터 | 설명 |\n",
    "|---|---|\n",
    "| x | 독립변수 |\n",
    "| y | 종속변수 |\n",
    "| test_size | 검증데이터의 비율 (`0~1`) |\n",
    "| random_state | 랜덤시드 값 |"
   ]
  },
  {
   "cell_type": "markdown",
   "metadata": {},
   "source": [
    "#### 데이터 분할하기"
   ]
  },
  {
   "cell_type": "code",
   "execution_count": null,
   "metadata": {},
   "outputs": [],
   "source": [
    "x_train, x_test, y_train, y_test = train_test_split(\n",
    "    x, y, test_size=0.3, random_state=777)\n",
    "x_train.shape, x_test.shape, y_train.shape, y_test.shape"
   ]
  },
  {
   "cell_type": "markdown",
   "metadata": {},
   "source": [
    "#### 분할된 훈련데이터의 종속변수 비율 확인"
   ]
  },
  {
   "cell_type": "code",
   "execution_count": null,
   "metadata": {},
   "outputs": [],
   "source": [
    "y_train.value_counts()"
   ]
  },
  {
   "cell_type": "markdown",
   "metadata": {},
   "source": [
    "## #03. 데이터 불균형 해소\n",
    "\n",
    "데이터를 훈련데이터와 검증데이터로 나눈 후 훈련 데이터에 대해서만 수행해야 한다.\n",
    "\n",
    "### [1] Under Sampling 방식 - Random Under Sampler\n",
    "\n",
    "많은 비율을 차지하는 다수 집단에서 일부만 샘플링하는 방식\n",
    "\n",
    "소수 집단의 데이터가 어느 정도 확보되었다고 여겨질 때, 다수 집단의 데이터를 줄여서 균형을 맞춘다.\n",
    "\n",
    "다수 집단의 유의미한 데이터를 손실할 수 있다는 단점이 있다.\n",
    "\n",
    "#### `sampling_strategy` 파라미터\n",
    "\n",
    "| 값 | 설명 |\n",
    "|--|--|\n",
    "| `majority` | 다수 클래스만 다시 샘플링 |\n",
    "| `not majority` | `다수 아님` - 다수 클래스를 제외한 모든 클래스를 다시 샘플링 |\n",
    "| `not minority` | `소수 아님`- 소수 클래스를 제외한 모든 클래스를 다시 샘플링 |\n",
    "| `all` | 모든 클래스를 다시 샘플링 |\n",
    "| `auto` | 자동 처리 |"
   ]
  },
  {
   "cell_type": "code",
   "execution_count": null,
   "metadata": {},
   "outputs": [],
   "source": [
    "undersampler = RandomUnderSampler(sampling_strategy=\"majority\", random_state=777)\n",
    "x_under, y_under = undersampler.fit_resample(x_train, y_train)\n",
    "print(x_under.shape)\n",
    "\n",
    "y_under.value_counts()"
   ]
  },
  {
   "cell_type": "markdown",
   "metadata": {},
   "source": [
    "### [2] Over Sampling - Random Over Sampler\n",
    "\n",
    "소수 집단에서 복원 추출을 수행하는 방법.\n",
    "\n",
    "언더 샘플링처럼 데이터 중 일부를 취하는 것은 아니기 때문에 데이터 손실은 발생하지 않지만, 동일한 데이터를 여러번 학습 데이터에 포함시키므로 학습 정확도는 높지만 과적합 리스크가 크다.\n",
    "\n",
    "#### `sampling_strategy` 파라미터\n",
    "\n",
    "| 값 | 설명 |\n",
    "|--|--|\n",
    "| `minority` | 소수 클래스만 다시 샘플링 |\n",
    "| `not majority` | `다수 아님` - 다수 클래스를 제외한 모든 클래스를 다시 샘플링 |\n",
    "| `not minority` | `소수 아님`- 소수 클래스를 제외한 모든 클래스를 다시 샘플링 |\n",
    "| `all` | 모든 클래스를 다시 샘플링 |\n",
    "| `auto` | 자동 처리 |"
   ]
  },
  {
   "cell_type": "code",
   "execution_count": null,
   "metadata": {},
   "outputs": [],
   "source": [
    "oversampler = RandomOverSampler(sampling_strategy=\"minority\", random_state=777)\n",
    "x_over, y_over = oversampler.fit_resample(x_train, y_train)\n",
    "print(x_over.shape, y_over.shape)\n",
    "\n",
    "y_over.value_counts()"
   ]
  },
  {
   "cell_type": "markdown",
   "metadata": {},
   "source": [
    "### [3] Over Sampling - SMOTE\n",
    "\n",
    "소수 집단의 데이터를 바탕으로 새로운 데이터를 생성.\n",
    "\n",
    "단순히 소수 집단의 데이터를 복원 추출하는 것이 아니라 소수 집단 데이터를 분석해 어떤 특징이 있는지 살피고 그와 유사한 패턴을 갖는 가짜 데이터를 생성한다.\n",
    "\n",
    "##### `sampling_strategy` 파라미터\n",
    "\n",
    "| 값 | 설명 |\n",
    "|--|--|\n",
    "| `minority` | 소수 클래스만 다시 샘플링 |\n",
    "| `not majority` | `다수 아님` - 다수 클래스를 제외한 모든 클래스를 다시 샘플링 |\n",
    "| `not minority` | `소수 아님`- 소수 클래스를 제외한 모든 클래스를 다시 샘플링 |\n",
    "| `all` | 모든 클래스를 다시 샘플링 |\n",
    "| `auto` | 자동 처리 |\n",
    "\n",
    "혹은 실수 타입으로 설정할 경우 샘플 수의 비율을 의미\n",
    "\n",
    "##### `k_neighbors` 파라미터 (int)\n",
    "\n",
    "합성 샘플을 생성하는데 사용할 샘플의 가장 가까운 이웃 수 (기본값=5)"
   ]
  },
  {
   "cell_type": "code",
   "execution_count": null,
   "metadata": {},
   "outputs": [],
   "source": [
    "smote_sampler = SMOTE(sampling_strategy=\"minority\", k_neighbors=3, random_state=777)\n",
    "x_sm, y_sm = smote_sampler.fit_resample(x_train, y_train)\n",
    "print(x_sm.shape, y_sm.shape)\n",
    "\n",
    "y_sm.value_counts()"
   ]
  }
 ],
 "metadata": {
  "kernelspec": {
   "display_name": "Python 3",
   "language": "python",
   "name": "python3"
  },
  "language_info": {
   "codemirror_mode": {
    "name": "ipython",
    "version": 3
   },
   "file_extension": ".py",
   "mimetype": "text/x-python",
   "name": "python",
   "nbconvert_exporter": "python",
   "pygments_lexer": "ipython3",
   "version": "3.12.0"
  }
 },
 "nbformat": 4,
 "nbformat_minor": 2
}
