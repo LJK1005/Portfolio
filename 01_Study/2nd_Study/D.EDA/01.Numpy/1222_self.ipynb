{
 "cells": [
  {
   "cell_type": "markdown",
   "metadata": {},
   "source": [
    "## Numpy\n",
    "\n",
    "- numpy (Numeric Python)\n",
    "  - 다차원 배열을 쉽게 처리하고 효율적으로 사용할 수 있도록 지원하는 파이썬 패키지\n",
    "  - 데이터 구조 외에도 수치 계산을 위해 효율적으로 구현된 기능을 제공\n",
    "  - 데이터 분석에서 Pandas와 함께 자주 사용하는 도구\n",
    "  - 실제로 데이터 분석을 수행하기 위한 전제 조건은 컴퓨터가 이해할 수 있도록 데이터를 숫자 형식으로 변환하는 것\n",
    "  - 파이썬의 list 자료형은 데이터의 크기가 클 수록 저장 및 가공에 효율성을 보장하지 못함\n",
    "  - 이러한 단점을 보완하기 위한 패키지이기 때문에 Data Science에서 핵심적인 도구로 인식되고 있음"
   ]
  },
  {
   "cell_type": "markdown",
   "metadata": {},
   "source": [
    "- 패키지 참조"
   ]
  },
  {
   "cell_type": "code",
   "execution_count": 1,
   "metadata": {},
   "outputs": [],
   "source": [
    "import numpy as np"
   ]
  },
  {
   "cell_type": "markdown",
   "metadata": {},
   "source": [
    "- Numpy가 제공하는 데이터 타입\n",
    "  - 리스트의 업그레이드 버전인 **배열(array)** 이라는 데이터 타입을 제공\n",
    "\n",
    "- list 타입 : 서로 다른 타입의 원소를 허용 ([1, 'hello', True])\n",
    "- array (ndarray) 타입 : 반드시 모든 원소의 데이터 타입이 동일해야 한다."
   ]
  },
  {
   "cell_type": "markdown",
   "metadata": {},
   "source": [
    "- Numpy 배열의 생성과 기본 활용\n",
    "  - 리스트와 기본 특성은 동일\n",
    "    - 인덱스 번호와 길이의 존재\n",
    "    - 반복문을 통한 원소의 탐색\n",
    "    - 인덱싱, 슬라이싱"
   ]
  },
  {
   "cell_type": "markdown",
   "metadata": {},
   "source": [
    "- 리스트를 통한 1차원(=1행으로 구성) 배열 만들기"
   ]
  },
  {
   "cell_type": "code",
   "execution_count": 2,
   "metadata": {},
   "outputs": [
    {
     "name": "stdout",
     "output_type": "stream",
     "text": [
      "<class 'numpy.ndarray'>\n"
     ]
    },
    {
     "data": {
      "text/plain": [
       "array([1, 3, 5, 7, 9])"
      ]
     },
     "execution_count": 2,
     "metadata": {},
     "output_type": "execute_result"
    }
   ],
   "source": [
    "arr = np.array([1, 3, 5, 7, 9])\n",
    "print(type(arr))\n",
    "arr"
   ]
  },
  {
   "cell_type": "markdown",
   "metadata": {},
   "source": [
    "- 배열의 크기와 각 원소에 접근하지\n",
    "  - 기본 특성은 list와 동일"
   ]
  },
  {
   "cell_type": "code",
   "execution_count": 3,
   "metadata": {},
   "outputs": [
    {
     "name": "stdout",
     "output_type": "stream",
     "text": [
      "배열의 원소는 5개 입니다.\n"
     ]
    }
   ],
   "source": [
    "size = len(arr)\n",
    "print(f'배열의 원소는 {size}개 입니다.')"
   ]
  },
  {
   "cell_type": "markdown",
   "metadata": {},
   "source": [
    "- 배열의 원소\n",
    "  - 인덱스와 마찬가지로 인덱스 번호가 존재"
   ]
  },
  {
   "cell_type": "code",
   "execution_count": 4,
   "metadata": {},
   "outputs": [
    {
     "name": "stdout",
     "output_type": "stream",
     "text": [
      "1\n",
      "3\n",
      "7\n"
     ]
    }
   ],
   "source": [
    "print(arr[0])\n",
    "print(arr[1])\n",
    "print(arr[3])"
   ]
  },
  {
   "cell_type": "markdown",
   "metadata": {},
   "source": [
    "- 반복문을 통한 활용\n",
    "  - 리스트와 동일하게 사용할 수 있음"
   ]
  },
  {
   "cell_type": "code",
   "execution_count": 5,
   "metadata": {},
   "outputs": [
    {
     "name": "stdout",
     "output_type": "stream",
     "text": [
      "0번째 원소 >> 1\n",
      "1번째 원소 >> 3\n",
      "2번째 원소 >> 5\n",
      "3번째 원소 >> 7\n",
      "4번째 원소 >> 9\n"
     ]
    }
   ],
   "source": [
    "for i, v in enumerate(arr):\n",
    "    print(f\"{i}번째 원소 >> {v}\")"
   ]
  },
  {
   "cell_type": "markdown",
   "metadata": {},
   "source": [
    "- Numpy 배열의 특성\n",
    "  - list 타입\n",
    "    - 서로 다른 타입의 원소를 허용"
   ]
  },
  {
   "cell_type": "code",
   "execution_count": 6,
   "metadata": {},
   "outputs": [
    {
     "data": {
      "text/plain": [
       "[100, 3.14, True]"
      ]
     },
     "execution_count": 6,
     "metadata": {},
     "output_type": "execute_result"
    }
   ],
   "source": [
    "arr2 = [100, 3.14, True]\n",
    "arr2"
   ]
  },
  {
   "cell_type": "markdown",
   "metadata": {},
   "source": [
    "- Numpy 배열의 경우\n",
    "  - 'arr2'를 배열로 변환할 경우 원소의 타입이 서로 다른 것을 허용하지 않으므로 가장 포괄적인 형태의 자료형으로 통일함\n",
    "  - 'arr2'의 경우 실수의 포괄범위가 더 크므로 모든 원소가 실수형으로 변환됨"
   ]
  },
  {
   "cell_type": "code",
   "execution_count": 7,
   "metadata": {},
   "outputs": [
    {
     "data": {
      "text/plain": [
       "array([100.  ,   3.14,   1.  ])"
      ]
     },
     "execution_count": 7,
     "metadata": {},
     "output_type": "execute_result"
    }
   ],
   "source": [
    "arr3 = np.array(arr2)\n",
    "arr3"
   ]
  },
  {
   "cell_type": "markdown",
   "metadata": {},
   "source": [
    "- 강제 형 변환\n",
    "  - 'np.array()' 메서드에 'dtype' 파라미터로 특정 타입을 강제 지정할 수 있음\n",
    "  - 실수를 정수로 바꿀 경우 소수점 이하는 반올림이 아닌 버림 처리"
   ]
  },
  {
   "cell_type": "code",
   "execution_count": 8,
   "metadata": {},
   "outputs": [
    {
     "data": {
      "text/plain": [
       "array([100,   3,   1])"
      ]
     },
     "execution_count": 8,
     "metadata": {},
     "output_type": "execute_result"
    }
   ],
   "source": [
    "arr4 = np.array(arr2, dtype = 'int')\n",
    "arr4"
   ]
  },
  {
   "cell_type": "markdown",
   "metadata": {},
   "source": [
    "- 문자열이 포함된 경우\n",
    "  - 모든 프로그래밍 언어에서 가장 표현범위가 넓은 타입은 문자열이다.\n",
    "  - 그러므로 문자열이 포함된 리스트를 배열로 변환할 경우 모든 원소가 문자열이 됨"
   ]
  },
  {
   "cell_type": "code",
   "execution_count": 9,
   "metadata": {},
   "outputs": [
    {
     "name": "stdout",
     "output_type": "stream",
     "text": [
      "['1.2' '3' 'True' '4']\n"
     ]
    }
   ],
   "source": [
    "arr5 = np.array([1.2, 3, True, '4'])\n",
    "print(arr5)"
   ]
  },
  {
   "cell_type": "code",
   "execution_count": 10,
   "metadata": {},
   "outputs": [
    {
     "name": "stdout",
     "output_type": "stream",
     "text": [
      "[1.2, 3, True, '4']\n"
     ]
    }
   ],
   "source": [
    "print([1.2, 3, True, '4'])"
   ]
  },
  {
   "cell_type": "markdown",
   "metadata": {},
   "source": [
    "- print 함수로 리스트와 배열을 출력하면 리스트는 원소간 쉼표가 있고 넘파이 배열은 없음\n",
    "  - 구분하는 가장 좋은 방법은 type함수를 쓰는 것"
   ]
  },
  {
   "cell_type": "markdown",
   "metadata": {},
   "source": [
    "- list 타입으로 역변환\n",
    "  - 서로 호환 가능"
   ]
  },
  {
   "cell_type": "code",
   "execution_count": 11,
   "metadata": {},
   "outputs": [
    {
     "name": "stdout",
     "output_type": "stream",
     "text": [
      "<class 'list'>\n"
     ]
    },
    {
     "data": {
      "text/plain": [
       "['1.2', '3', 'True', '4']"
      ]
     },
     "execution_count": 11,
     "metadata": {},
     "output_type": "execute_result"
    }
   ],
   "source": [
    "mylist = list(arr5)\n",
    "print(type(mylist))\n",
    "mylist"
   ]
  },
  {
   "cell_type": "markdown",
   "metadata": {},
   "source": [
    "- 기초통계량 산출(최대, 최소, 합계, 평균)\n",
    "\n",
    "| 기호 | LaTeX | 의미 |\n",
    "|---|---|---|\n",
    "| $\\Omega$ | `\\Omega` | 모집단 |\n",
    "| $\\mu$ | `\\mu` | 모평균(모집단의 평균, 모수) |\n",
    "| $\\sigma^2$ | `\\sigma^2` | 모분산(모집단의 분산) |\n",
    "| $\\sigma$ | `\\sigma` | 모표준편차(모집단의 표준편차) |\n",
    "| $\\bar{X}$ | `\\bar{X}` | 표본평균(표본집단의 평균) |\n",
    "| $s^2$ | `s^2` | 표본분산(표본집단의 분산) |\n",
    "| $s$ | `s` | 표본표준편차(표본집단의 표준편차) |\n",
    "| $n$ | `n` | 표본크기(표본집단의 데이터 수) |\n",
    "| $\\sum$ | `\\sum` | 합계 |"
   ]
  },
  {
   "cell_type": "markdown",
   "metadata": {},
   "source": [
    "- 1차원 데이터의 경우\n",
    "  - 샘플 데이터"
   ]
  },
  {
   "cell_type": "code",
   "execution_count": 12,
   "metadata": {},
   "outputs": [
    {
     "data": {
      "text/plain": [
       "array([98, 72, 80, 64])"
      ]
     },
     "execution_count": 12,
     "metadata": {},
     "output_type": "execute_result"
    }
   ],
   "source": [
    "myarr = np.array([98, 72, 80, 64])\n",
    "myarr"
   ]
  },
  {
   "cell_type": "markdown",
   "metadata": {},
   "source": [
    "- 최대, 최소, 합계, 평균값"
   ]
  },
  {
   "cell_type": "code",
   "execution_count": 13,
   "metadata": {},
   "outputs": [
    {
     "name": "stdout",
     "output_type": "stream",
     "text": [
      "최대값 : 98\n",
      "최소값 : 64\n",
      "합계 : 314\n",
      "평균 : 78.5\n"
     ]
    }
   ],
   "source": [
    "print(\"최대값 :\", np.max(myarr))\n",
    "print(\"최소값 :\", np.min(myarr))\n",
    "print(\"합계 :\", np.sum(myarr))\n",
    "print(\"평균 :\", np.average(myarr))"
   ]
  },
  {
   "cell_type": "markdown",
   "metadata": {},
   "source": [
    "- 분산, 표준편차\n",
    "  - $편차(d) = 관측값 - 평균$\n",
    "  - $d = y - \\bar{y}$\n",
    "\n",
    "| 구분 | 설명 |\n",
    "|---|---|\n",
    "| 편차 | 관측값($y$)(=실제값, 조사된 값)에서 평균($\\bar{y}$)을 뺀 값 |\n",
    "| 분산 | 편차 제곱의 평균 ($\\sigma^2 = \\bar{d^2}$) |\n",
    "| 표준편차 | 분산의 제곱근 ($\\sigma = \\sqrt{\\bar{d^2}}$) |\n",
    "\n",
    "- 수학식을 표현하는 마크다운의 LaTeX 식 참조"
   ]
  },
  {
   "cell_type": "code",
   "execution_count": 14,
   "metadata": {},
   "outputs": [
    {
     "name": "stdout",
     "output_type": "stream",
     "text": [
      "분산 : 158.75\n",
      "표준편차 : 12.599603168354152\n"
     ]
    }
   ],
   "source": [
    "print(\"분산 :\", np.var(myarr))\n",
    "print(\"표준편차 :\", np.std(myarr))"
   ]
  },
  {
   "cell_type": "markdown",
   "metadata": {},
   "source": [
    "- 연산기능\n",
    "  - 연산자를 사용한 Numpy 배열끼리의 연산\n",
    "    - 위치가 동일한 원소끼리 연산 수행"
   ]
  },
  {
   "cell_type": "code",
   "execution_count": 15,
   "metadata": {},
   "outputs": [
    {
     "name": "stdout",
     "output_type": "stream",
     "text": [
      "[10 15 20 25 30]\n",
      "[2 3 4 5 6]\n"
     ]
    }
   ],
   "source": [
    "arr1 = np.array([10, 15, 20, 25, 30])\n",
    "arr2 = np.array([2, 3, 4, 5, 6])\n",
    "print(arr1)\n",
    "print(arr2)"
   ]
  },
  {
   "cell_type": "code",
   "execution_count": 16,
   "metadata": {},
   "outputs": [
    {
     "data": {
      "text/plain": [
       "array([12, 18, 24, 30, 36])"
      ]
     },
     "execution_count": 16,
     "metadata": {},
     "output_type": "execute_result"
    }
   ],
   "source": [
    "a = arr1 + arr2\n",
    "a"
   ]
  },
  {
   "cell_type": "code",
   "execution_count": 17,
   "metadata": {},
   "outputs": [
    {
     "data": {
      "text/plain": [
       "array([ 8, 12, 16, 20, 24])"
      ]
     },
     "execution_count": 17,
     "metadata": {},
     "output_type": "execute_result"
    }
   ],
   "source": [
    "b = arr1 - arr2\n",
    "b"
   ]
  },
  {
   "cell_type": "code",
   "execution_count": 18,
   "metadata": {},
   "outputs": [
    {
     "data": {
      "text/plain": [
       "array([ 20,  45,  80, 125, 180])"
      ]
     },
     "execution_count": 18,
     "metadata": {},
     "output_type": "execute_result"
    }
   ],
   "source": [
    "c = arr1 * arr2\n",
    "c"
   ]
  },
  {
   "cell_type": "code",
   "execution_count": 19,
   "metadata": {},
   "outputs": [
    {
     "data": {
      "text/plain": [
       "array([5., 5., 5., 5., 5.])"
      ]
     },
     "execution_count": 19,
     "metadata": {},
     "output_type": "execute_result"
    }
   ],
   "source": [
    "d = arr1 / arr2\n",
    "d"
   ]
  },
  {
   "cell_type": "markdown",
   "metadata": {},
   "source": [
    "- 함수를 사용한 Numpy 배열의 연산"
   ]
  },
  {
   "cell_type": "code",
   "execution_count": 20,
   "metadata": {},
   "outputs": [
    {
     "name": "stdout",
     "output_type": "stream",
     "text": [
      "[10 15 20 25 30]\n",
      "[2 3 4 5 6]\n"
     ]
    }
   ],
   "source": [
    "arr1 = np.array([10, 15, 20, 25, 30])\n",
    "arr2 = np.array([2, 3, 4, 5, 6])\n",
    "print(arr1)\n",
    "print(arr2)"
   ]
  },
  {
   "cell_type": "code",
   "execution_count": 21,
   "metadata": {},
   "outputs": [
    {
     "data": {
      "text/plain": [
       "array([12, 18, 24, 30, 36])"
      ]
     },
     "execution_count": 21,
     "metadata": {},
     "output_type": "execute_result"
    }
   ],
   "source": [
    "a = np.add(arr1, arr2)\n",
    "a"
   ]
  },
  {
   "cell_type": "code",
   "execution_count": 22,
   "metadata": {},
   "outputs": [
    {
     "data": {
      "text/plain": [
       "array([ 8, 12, 16, 20, 24])"
      ]
     },
     "execution_count": 22,
     "metadata": {},
     "output_type": "execute_result"
    }
   ],
   "source": [
    "b = np.subtract(arr1, arr2)\n",
    "b"
   ]
  },
  {
   "cell_type": "code",
   "execution_count": 23,
   "metadata": {},
   "outputs": [
    {
     "data": {
      "text/plain": [
       "array([ 20,  45,  80, 125, 180])"
      ]
     },
     "execution_count": 23,
     "metadata": {},
     "output_type": "execute_result"
    }
   ],
   "source": [
    "c = np.multiply(arr1, arr2)\n",
    "c"
   ]
  },
  {
   "cell_type": "code",
   "execution_count": 24,
   "metadata": {},
   "outputs": [
    {
     "data": {
      "text/plain": [
       "array([5., 5., 5., 5., 5.])"
      ]
     },
     "execution_count": 24,
     "metadata": {},
     "output_type": "execute_result"
    }
   ],
   "source": [
    "d = np.divide(arr1, arr2)\n",
    "d"
   ]
  },
  {
   "cell_type": "markdown",
   "metadata": {},
   "source": [
    "- 조건에 맞는 값 추출하기\n",
    "  - 원하는 위치의 값 추출"
   ]
  },
  {
   "cell_type": "code",
   "execution_count": 25,
   "metadata": {},
   "outputs": [],
   "source": [
    "# 철수의 1학년부터 4학년까지의 평균 점수\n",
    "grade = np.array([82, 77, 91, 88])"
   ]
  },
  {
   "cell_type": "code",
   "execution_count": 26,
   "metadata": {},
   "outputs": [
    {
     "data": {
      "text/plain": [
       "array([ True, False,  True, False])"
      ]
     },
     "execution_count": 26,
     "metadata": {},
     "output_type": "execute_result"
    }
   ],
   "source": [
    "# 추출하고자 하는 원본과 같은 사이즈의 배열을 생성\n",
    "# 추출할 값은 True, 그렇지 않으면 False\n",
    "bool_array = np.array([True, False, True, False])\n",
    "bool_array"
   ]
  },
  {
   "cell_type": "code",
   "execution_count": 27,
   "metadata": {},
   "outputs": [
    {
     "data": {
      "text/plain": [
       "array([82, 91])"
      ]
     },
     "execution_count": 27,
     "metadata": {},
     "output_type": "execute_result"
    }
   ],
   "source": [
    "# 조건에 맞는 항목만 1차 배열로 추출\n",
    "result1 = grade[bool_array]\n",
    "result1"
   ]
  },
  {
   "cell_type": "markdown",
   "metadata": {},
   "source": [
    "- 조건에 맞는 원소 추출\n",
    "  - 80이상인 원소를 추출\n",
    "    - 조건을 명시하기 위해 배열의 이름이 조건식에 명시됨"
   ]
  },
  {
   "cell_type": "code",
   "execution_count": 28,
   "metadata": {},
   "outputs": [
    {
     "data": {
      "text/plain": [
       "array([82, 91, 88])"
      ]
     },
     "execution_count": 28,
     "metadata": {},
     "output_type": "execute_result"
    }
   ],
   "source": [
    "result2 = grade[grade >= 80]\n",
    "result2"
   ]
  },
  {
   "cell_type": "markdown",
   "metadata": {},
   "source": [
    "- 80점 이상이고 90점 이하인 데이터만 추려냄"
   ]
  },
  {
   "cell_type": "code",
   "execution_count": 29,
   "metadata": {},
   "outputs": [
    {
     "data": {
      "text/plain": [
       "array([82, 88])"
      ]
     },
     "execution_count": 29,
     "metadata": {},
     "output_type": "execute_result"
    }
   ],
   "source": [
    "result3 = grade[np.logical_and(grade >= 80, grade <= 90)]\n",
    "result3"
   ]
  },
  {
   "cell_type": "markdown",
   "metadata": {},
   "source": [
    "- 80점 미만이거나 90점 초과인 데이터만 추려냄"
   ]
  },
  {
   "cell_type": "code",
   "execution_count": 30,
   "metadata": {},
   "outputs": [
    {
     "data": {
      "text/plain": [
       "array([77, 91])"
      ]
     },
     "execution_count": 30,
     "metadata": {},
     "output_type": "execute_result"
    }
   ],
   "source": [
    "result4 = grade[np.logical_or(grade < 80, grade > 90)]\n",
    "result4"
   ]
  },
  {
   "cell_type": "markdown",
   "metadata": {},
   "source": [
    "- Numpy 도수분포\n",
    "  - 도수 : 특정한 구간 또는 범주에 속하는 자료의 개수\n",
    "    - ex) 시험 점수에서 각 점수 대역에 속하는 학생의 수를 센것이 도수\n",
    "  - 도수분포표 : 도수들을 정리하여 구간별 도수를 표로 나타낸 것\n",
    "    - 평균, 중앙값, 최빈값 같은 중심경향성 통계량을 계산하거나 자료의 분산과 퍼짐 정도를 파악하는데 사용"
   ]
  },
  {
   "cell_type": "code",
   "execution_count": 31,
   "metadata": {},
   "outputs": [
    {
     "data": {
      "text/plain": [
       "array([100,  91,  89,  86,  84,  79,  78,  77,  74,  71,  69,  66,  65,\n",
       "        60,  58,  57,  55])"
      ]
     },
     "execution_count": 31,
     "metadata": {},
     "output_type": "execute_result"
    }
   ],
   "source": [
    "point = np.array([100, 91, 89, 86, 84, 79, 78, 77, 74, 71, 69, 66, 65, 60, 58, 57, 55])\n",
    "point"
   ]
  },
  {
   "cell_type": "markdown",
   "metadata": {},
   "source": [
    "- Numpy의 histogram : 도수분포도\n",
    "  - input : 데이터, 나눌 구간의 수(or 나눌 구간을 직접 정의)\n",
    "  - output : 구간별 데이터 수, 구간 경계\n",
    "    - 5개의 구간으로 나누기"
   ]
  },
  {
   "cell_type": "code",
   "execution_count": 32,
   "metadata": {},
   "outputs": [
    {
     "name": "stdout",
     "output_type": "stream",
     "text": [
      "구간별 데이터 수 : [4 4 4 3 2]\n",
      "구간 경계: [ 55.  64.  73.  82.  91. 100.]\n"
     ]
    }
   ],
   "source": [
    "hist, bins = np.histogram(point, 5)\n",
    "print(\"구간별 데이터 수 :\", hist)\n",
    "print(\"구간 경계:\", bins)"
   ]
  },
  {
   "cell_type": "markdown",
   "metadata": {},
   "source": [
    "- 도수분포표 구성"
   ]
  },
  {
   "cell_type": "code",
   "execution_count": 33,
   "metadata": {},
   "outputs": [
    {
     "name": "stdout",
     "output_type": "stream",
     "text": [
      "55 이상 64 미만 : 4개\n",
      "64 이상 73 미만 : 4개\n",
      "73 이상 82 미만 : 4개\n",
      "82 이상 91 미만 : 3개\n",
      "91 이상 100 이하 : 2개\n"
     ]
    }
   ],
   "source": [
    "s = len(hist)\n",
    "for i in range(0, s):\n",
    "    if i + 1 < s:\n",
    "        tpl = \"%d 이상 %d 미만 : %d개\"\n",
    "    else:\n",
    "        tpl = \"%d 이상 %d 이하 : %d개\"\n",
    "    print(tpl % (bins[i], bins[i+1], hist[i]))"
   ]
  },
  {
   "cell_type": "markdown",
   "metadata": {},
   "source": [
    "- 데이터 구간을 직접 정의하기"
   ]
  },
  {
   "cell_type": "code",
   "execution_count": 34,
   "metadata": {},
   "outputs": [
    {
     "name": "stdout",
     "output_type": "stream",
     "text": [
      "구간별 데이터 수 : [3 4 5 3 2]\n",
      "구간 경계: [ 50  60  70  80  90 100]\n"
     ]
    }
   ],
   "source": [
    "hist, bins = np.histogram(point, [50, 60, 70, 80, 90, 100])\n",
    "print(\"구간별 데이터 수 :\", hist)\n",
    "print(\"구간 경계:\", bins)"
   ]
  },
  {
   "cell_type": "markdown",
   "metadata": {},
   "source": [
    "- 절대도수 : 어떠한 변수에 대한 실제 빈도수\n",
    "  - np.histogram()의 hist 값이 절대도수\n",
    "- 상대도수 : 절대도수를 백분율로 환산한 값\n",
    "  - 각 도수를 도수의 총 합으로 나눈 값"
   ]
  },
  {
   "cell_type": "code",
   "execution_count": 35,
   "metadata": {},
   "outputs": [
    {
     "data": {
      "text/plain": [
       "array([0.17647059, 0.23529412, 0.29411765, 0.17647059, 0.11764706])"
      ]
     },
     "execution_count": 35,
     "metadata": {},
     "output_type": "execute_result"
    }
   ],
   "source": [
    "relative_freq = hist / np.sum(hist)\n",
    "relative_freq"
   ]
  },
  {
   "cell_type": "markdown",
   "metadata": {},
   "source": [
    "- 누적도수 : 절대도수에서 자기 앞 도수를 모두 다 더한 값"
   ]
  },
  {
   "cell_type": "code",
   "execution_count": 36,
   "metadata": {},
   "outputs": [
    {
     "data": {
      "text/plain": [
       "[3, 7, 12, 15, 17]"
      ]
     },
     "execution_count": 36,
     "metadata": {},
     "output_type": "execute_result"
    }
   ],
   "source": [
    "cum_freq = []\n",
    "previous = 0\n",
    "for i in hist:\n",
    "    previous += i\n",
    "    cum_freq.append(previous)\n",
    "\n",
    "cum_freq"
   ]
  },
  {
   "cell_type": "markdown",
   "metadata": {},
   "source": [
    "- 2차원 배열의 생성"
   ]
  },
  {
   "cell_type": "code",
   "execution_count": 37,
   "metadata": {},
   "outputs": [
    {
     "data": {
      "text/plain": [
       "array([[98, 72, 80, 64],\n",
       "       [88, 90, 80, 72],\n",
       "       [92, 88, 82, 76]])"
      ]
     },
     "execution_count": 37,
     "metadata": {},
     "output_type": "execute_result"
    }
   ],
   "source": [
    "# 철수의 학년 - 과목별 점수\n",
    "grade = np.array([\n",
    "    [98, 72, 80, 64],\n",
    "    [88, 90, 80, 72],\n",
    "    [92, 88, 82, 76]\n",
    "])\n",
    "\n",
    "grade"
   ]
  },
  {
   "cell_type": "markdown",
   "metadata": {},
   "source": [
    "- 2차원 배열의 크기\n",
    "  - 차원 크기"
   ]
  },
  {
   "cell_type": "code",
   "execution_count": 38,
   "metadata": {},
   "outputs": [
    {
     "data": {
      "text/plain": [
       "2"
      ]
     },
     "execution_count": 38,
     "metadata": {},
     "output_type": "execute_result"
    }
   ],
   "source": [
    "grade.ndim"
   ]
  },
  {
   "cell_type": "markdown",
   "metadata": {},
   "source": [
    "- 각 차원별 원소 수"
   ]
  },
  {
   "cell_type": "code",
   "execution_count": 39,
   "metadata": {},
   "outputs": [
    {
     "data": {
      "text/plain": [
       "(3, 4)"
      ]
     },
     "execution_count": 39,
     "metadata": {},
     "output_type": "execute_result"
    }
   ],
   "source": [
    "grade.shape"
   ]
  },
  {
   "cell_type": "markdown",
   "metadata": {},
   "source": [
    "- 원소의 데이터 타입"
   ]
  },
  {
   "cell_type": "code",
   "execution_count": 40,
   "metadata": {},
   "outputs": [
    {
     "data": {
      "text/plain": [
       "dtype('int32')"
      ]
     },
     "execution_count": 40,
     "metadata": {},
     "output_type": "execute_result"
    }
   ],
   "source": [
    "grade.dtype"
   ]
  },
  {
   "cell_type": "markdown",
   "metadata": {},
   "source": [
    "- 2차원 배열의 기초통계량\n",
    "  - 각 열끼리 (axis = 0)\n",
    "  - 각 행끼리 (axis = 1)"
   ]
  },
  {
   "cell_type": "code",
   "execution_count": 41,
   "metadata": {},
   "outputs": [
    {
     "name": "stdout",
     "output_type": "stream",
     "text": [
      "<class 'numpy.ndarray'>\n"
     ]
    },
    {
     "data": {
      "text/plain": [
       "array([98, 90, 82, 76])"
      ]
     },
     "execution_count": 41,
     "metadata": {},
     "output_type": "execute_result"
    }
   ],
   "source": [
    "s1 = np.max(grade, axis = 0)\n",
    "print(type(s1))\n",
    "s1"
   ]
  },
  {
   "cell_type": "code",
   "execution_count": 42,
   "metadata": {},
   "outputs": [
    {
     "name": "stdout",
     "output_type": "stream",
     "text": [
      "<class 'numpy.ndarray'>\n"
     ]
    },
    {
     "data": {
      "text/plain": [
       "array([158.75,  50.75,  36.75])"
      ]
     },
     "execution_count": 42,
     "metadata": {},
     "output_type": "execute_result"
    }
   ],
   "source": [
    "s1 = np.var(grade, axis = 1)\n",
    "print(type(s1))\n",
    "s1"
   ]
  },
  {
   "cell_type": "markdown",
   "metadata": {},
   "source": [
    "- 조건검색\n",
    "  - boolean 타입으로 인덱싱\n",
    "  - 조건에 맞는 데이터를 1차원 배열로 출력"
   ]
  },
  {
   "cell_type": "code",
   "execution_count": 43,
   "metadata": {},
   "outputs": [],
   "source": [
    "bool_array = np.array([\n",
    "    [True, False, True, False],\n",
    "    [True, True, True, False],\n",
    "    [True, True, True, False]\n",
    "])"
   ]
  },
  {
   "cell_type": "code",
   "execution_count": 44,
   "metadata": {},
   "outputs": [
    {
     "data": {
      "text/plain": [
       "array([98, 80, 88, 90, 80, 92, 88, 82])"
      ]
     },
     "execution_count": 44,
     "metadata": {},
     "output_type": "execute_result"
    }
   ],
   "source": [
    "result1 = grade[bool_array]\n",
    "result1"
   ]
  },
  {
   "cell_type": "code",
   "execution_count": 45,
   "metadata": {},
   "outputs": [
    {
     "data": {
      "text/plain": [
       "array([98, 80, 88, 90, 80, 92, 88, 82])"
      ]
     },
     "execution_count": 45,
     "metadata": {},
     "output_type": "execute_result"
    }
   ],
   "source": [
    "result2 = grade[grade >= 80]\n",
    "result2"
   ]
  },
  {
   "cell_type": "markdown",
   "metadata": {},
   "source": [
    "- AND 검색"
   ]
  },
  {
   "cell_type": "code",
   "execution_count": 46,
   "metadata": {},
   "outputs": [
    {
     "data": {
      "text/plain": [
       "array([80, 88, 90, 80, 88, 82])"
      ]
     },
     "execution_count": 46,
     "metadata": {},
     "output_type": "execute_result"
    }
   ],
   "source": [
    "result3 = grade[np.logical_and(grade >= 80, grade <= 90)]\n",
    "result3"
   ]
  },
  {
   "cell_type": "markdown",
   "metadata": {},
   "source": [
    "- OR 검색"
   ]
  },
  {
   "cell_type": "code",
   "execution_count": 47,
   "metadata": {},
   "outputs": [
    {
     "data": {
      "text/plain": [
       "array([98, 72, 64, 72, 92, 76])"
      ]
     },
     "execution_count": 47,
     "metadata": {},
     "output_type": "execute_result"
    }
   ],
   "source": [
    "result4 = grade[np.logical_or(grade < 80, grade > 90)]\n",
    "result4"
   ]
  },
  {
   "cell_type": "markdown",
   "metadata": {},
   "source": [
    "- 정형화된 배열 생성\n",
    "  - 모든 원소가 0인 배열"
   ]
  },
  {
   "cell_type": "code",
   "execution_count": 48,
   "metadata": {},
   "outputs": [
    {
     "data": {
      "text/plain": [
       "array([[0., 0., 0., 0.],\n",
       "       [0., 0., 0., 0.],\n",
       "       [0., 0., 0., 0.]])"
      ]
     },
     "execution_count": 48,
     "metadata": {},
     "output_type": "execute_result"
    }
   ],
   "source": [
    "np.zeros((3, 4))"
   ]
  },
  {
   "cell_type": "markdown",
   "metadata": {},
   "source": [
    "- 모든 원소가 1인 배열"
   ]
  },
  {
   "cell_type": "code",
   "execution_count": 49,
   "metadata": {},
   "outputs": [
    {
     "data": {
      "text/plain": [
       "array([[1., 1., 1., 1.],\n",
       "       [1., 1., 1., 1.],\n",
       "       [1., 1., 1., 1.]])"
      ]
     },
     "execution_count": 49,
     "metadata": {},
     "output_type": "execute_result"
    }
   ],
   "source": [
    "np.ones((3, 4))"
   ]
  },
  {
   "cell_type": "markdown",
   "metadata": {},
   "source": [
    "- 모든 원소가 특정 값인 배열"
   ]
  },
  {
   "cell_type": "code",
   "execution_count": 50,
   "metadata": {},
   "outputs": [
    {
     "data": {
      "text/plain": [
       "array([[10, 10, 10, 10],\n",
       "       [10, 10, 10, 10],\n",
       "       [10, 10, 10, 10]])"
      ]
     },
     "execution_count": 50,
     "metadata": {},
     "output_type": "execute_result"
    }
   ],
   "source": [
    "np.full((3, 4), 10)"
   ]
  },
  {
   "cell_type": "markdown",
   "metadata": {},
   "source": [
    "- 단위행렬\n",
    "  - 대각선으로 1이고 나머지 원소는 0인 배열"
   ]
  },
  {
   "cell_type": "code",
   "execution_count": 51,
   "metadata": {},
   "outputs": [
    {
     "data": {
      "text/plain": [
       "array([[1., 0., 0., 0.],\n",
       "       [0., 1., 0., 0.],\n",
       "       [0., 0., 1., 0.],\n",
       "       [0., 0., 0., 1.]])"
      ]
     },
     "execution_count": 51,
     "metadata": {},
     "output_type": "execute_result"
    }
   ],
   "source": [
    "np.eye(4)"
   ]
  },
  {
   "cell_type": "markdown",
   "metadata": {},
   "source": [
    "- 랜덤 배열\n",
    "  - 0부터 1의 범위에서 균등하게 추출하여 N차원 배열을 생성"
   ]
  },
  {
   "cell_type": "code",
   "execution_count": 52,
   "metadata": {},
   "outputs": [
    {
     "data": {
      "text/plain": [
       "array([0.73910033, 0.82479406, 0.30445557, 0.71960344, 0.42566052,\n",
       "       0.62167656, 0.29522426, 0.84261891, 0.7281073 , 0.74805542])"
      ]
     },
     "execution_count": 52,
     "metadata": {},
     "output_type": "execute_result"
    }
   ],
   "source": [
    "np.random.rand(10)"
   ]
  },
  {
   "cell_type": "markdown",
   "metadata": {},
   "source": [
    "- 4행, 3열인 2차원 배열"
   ]
  },
  {
   "cell_type": "code",
   "execution_count": 53,
   "metadata": {},
   "outputs": [
    {
     "data": {
      "text/plain": [
       "array([[0.85877881, 0.6595899 , 0.73830984],\n",
       "       [0.82485437, 0.44027855, 0.64017253],\n",
       "       [0.6183108 , 0.65071664, 0.01096643],\n",
       "       [0.84090207, 0.92125402, 0.88812819]])"
      ]
     },
     "execution_count": 53,
     "metadata": {},
     "output_type": "execute_result"
    }
   ],
   "source": [
    "np.random.rand(4, 3)"
   ]
  },
  {
   "cell_type": "markdown",
   "metadata": {},
   "source": [
    "- 주어진 범위 안에서 정수값을 갖는 랜덤 배열\n",
    "  - 0부터 9 사이의 랜덤값 10개의 원소를 갖는 1차원 배열"
   ]
  },
  {
   "cell_type": "code",
   "execution_count": 54,
   "metadata": {},
   "outputs": [
    {
     "data": {
      "text/plain": [
       "array([1, 6, 4, 0, 4, 8, 5, 4, 1, 0])"
      ]
     },
     "execution_count": 54,
     "metadata": {},
     "output_type": "execute_result"
    }
   ],
   "source": [
    "np.random.randint(0, 9, 10)"
   ]
  },
  {
   "cell_type": "markdown",
   "metadata": {},
   "source": [
    "- 0부터 9사이의 랜덤값을 갖는 3행 4열 2차원 배열"
   ]
  },
  {
   "cell_type": "code",
   "execution_count": 55,
   "metadata": {},
   "outputs": [
    {
     "data": {
      "text/plain": [
       "array([[0, 6, 6, 7],\n",
       "       [8, 8, 0, 5],\n",
       "       [4, 4, 7, 2]])"
      ]
     },
     "execution_count": 55,
     "metadata": {},
     "output_type": "execute_result"
    }
   ],
   "source": [
    "np.random.randint(0, 9, (3, 4))"
   ]
  },
  {
   "cell_type": "markdown",
   "metadata": {},
   "source": [
    "- 표준정규분포를 따르는 임의의 수\n",
    "  - 1차원 배열"
   ]
  },
  {
   "cell_type": "code",
   "execution_count": 115,
   "metadata": {},
   "outputs": [
    {
     "data": {
      "text/plain": [
       "array([-0.18505367, -0.80764849, -1.4465347 ,  0.80029795, -0.30911444,\n",
       "       -0.23346666,  1.73272119,  0.68450111,  0.370825  ,  0.14206181])"
      ]
     },
     "execution_count": 115,
     "metadata": {},
     "output_type": "execute_result"
    }
   ],
   "source": [
    "np.random.randn(10)"
   ]
  },
  {
   "cell_type": "markdown",
   "metadata": {},
   "source": [
    "- 2차원 배열"
   ]
  },
  {
   "cell_type": "code",
   "execution_count": 110,
   "metadata": {},
   "outputs": [
    {
     "data": {
      "text/plain": [
       "array([[-1.84306955, -0.477974  , -0.47965581],\n",
       "       [ 0.6203583 ,  0.69845715,  0.00377089],\n",
       "       [ 0.93184837,  0.33996498, -0.01568211],\n",
       "       [ 0.16092817, -0.19065349, -0.39484951]])"
      ]
     },
     "execution_count": 110,
     "metadata": {},
     "output_type": "execute_result"
    }
   ],
   "source": [
    "np.random.randn(4, 3)"
   ]
  },
  {
   "cell_type": "markdown",
   "metadata": {},
   "source": [
    "- 정규분포를 직접 설정\n",
    "  - 1차원 배열\n",
    "  - 평균은 0, 표준편차 1의 정규분포에서 10개의 수를 추출"
   ]
  },
  {
   "cell_type": "code",
   "execution_count": 101,
   "metadata": {},
   "outputs": [
    {
     "data": {
      "text/plain": [
       "array([ 0.52106488, -0.57578797,  0.14195316, -0.31932842,  0.69153875,\n",
       "        0.69474914, -0.72559738, -1.38336396, -1.5829384 ,  0.61037938])"
      ]
     },
     "execution_count": 101,
     "metadata": {},
     "output_type": "execute_result"
    }
   ],
   "source": [
    "np.random.normal(0, 1, 10)"
   ]
  },
  {
   "cell_type": "markdown",
   "metadata": {},
   "source": [
    "- 2차원 배열"
   ]
  },
  {
   "cell_type": "code",
   "execution_count": 93,
   "metadata": {},
   "outputs": [
    {
     "data": {
      "text/plain": [
       "array([[ 1.18802979,  0.31694261,  0.92085882],\n",
       "       [ 0.31872765,  0.85683061, -0.65102559],\n",
       "       [-1.03424284,  0.68159452, -0.80340966],\n",
       "       [-0.68954978, -0.4555325 ,  0.01747916]])"
      ]
     },
     "execution_count": 93,
     "metadata": {},
     "output_type": "execute_result"
    }
   ],
   "source": [
    "np.random.normal(0, 1, (4, 3))"
   ]
  },
  {
   "cell_type": "markdown",
   "metadata": {},
   "source": [
    "- 랜덤값 고정\n",
    "  - 랜덤이란 사전에 잘 섞여 있는 숫자 셋을 순차적으로 꺼내는 것을 의미\n",
    "  - 랜덤시드는 몇 번째 숫자 셋인지를 의미하는 값\n",
    "  - 이 값을 고정하면 특정 숫자 셋만 사용하라는 의미"
   ]
  },
  {
   "cell_type": "code",
   "execution_count": 79,
   "metadata": {},
   "outputs": [
    {
     "data": {
      "text/plain": [
       "array([[ 1.76405235,  0.40015721,  0.97873798],\n",
       "       [ 2.2408932 ,  1.86755799, -0.97727788],\n",
       "       [ 0.95008842, -0.15135721, -0.10321885],\n",
       "       [ 0.4105985 ,  0.14404357,  1.45427351]])"
      ]
     },
     "execution_count": 79,
     "metadata": {},
     "output_type": "execute_result"
    }
   ],
   "source": [
    "np.random.seed(0)\n",
    "np.random.normal(0, 1, (4, 3))"
   ]
  },
  {
   "cell_type": "code",
   "execution_count": null,
   "metadata": {},
   "outputs": [],
   "source": []
  },
  {
   "cell_type": "code",
   "execution_count": null,
   "metadata": {},
   "outputs": [],
   "source": []
  },
  {
   "cell_type": "code",
   "execution_count": null,
   "metadata": {},
   "outputs": [],
   "source": []
  },
  {
   "cell_type": "code",
   "execution_count": null,
   "metadata": {},
   "outputs": [],
   "source": []
  },
  {
   "cell_type": "code",
   "execution_count": null,
   "metadata": {},
   "outputs": [],
   "source": []
  },
  {
   "cell_type": "code",
   "execution_count": null,
   "metadata": {},
   "outputs": [],
   "source": []
  },
  {
   "cell_type": "code",
   "execution_count": null,
   "metadata": {},
   "outputs": [],
   "source": []
  },
  {
   "cell_type": "code",
   "execution_count": null,
   "metadata": {},
   "outputs": [],
   "source": []
  },
  {
   "cell_type": "code",
   "execution_count": null,
   "metadata": {},
   "outputs": [],
   "source": []
  },
  {
   "cell_type": "code",
   "execution_count": null,
   "metadata": {},
   "outputs": [],
   "source": []
  },
  {
   "cell_type": "code",
   "execution_count": null,
   "metadata": {},
   "outputs": [],
   "source": []
  },
  {
   "cell_type": "code",
   "execution_count": null,
   "metadata": {},
   "outputs": [],
   "source": []
  },
  {
   "cell_type": "code",
   "execution_count": null,
   "metadata": {},
   "outputs": [],
   "source": []
  },
  {
   "cell_type": "code",
   "execution_count": null,
   "metadata": {},
   "outputs": [],
   "source": []
  },
  {
   "cell_type": "code",
   "execution_count": null,
   "metadata": {},
   "outputs": [],
   "source": []
  },
  {
   "cell_type": "code",
   "execution_count": null,
   "metadata": {},
   "outputs": [],
   "source": []
  },
  {
   "cell_type": "code",
   "execution_count": null,
   "metadata": {},
   "outputs": [],
   "source": []
  },
  {
   "cell_type": "code",
   "execution_count": null,
   "metadata": {},
   "outputs": [],
   "source": []
  },
  {
   "cell_type": "code",
   "execution_count": null,
   "metadata": {},
   "outputs": [],
   "source": []
  },
  {
   "cell_type": "code",
   "execution_count": null,
   "metadata": {},
   "outputs": [],
   "source": []
  },
  {
   "cell_type": "code",
   "execution_count": null,
   "metadata": {},
   "outputs": [],
   "source": []
  },
  {
   "cell_type": "code",
   "execution_count": null,
   "metadata": {},
   "outputs": [],
   "source": []
  },
  {
   "cell_type": "code",
   "execution_count": null,
   "metadata": {},
   "outputs": [],
   "source": []
  },
  {
   "cell_type": "code",
   "execution_count": null,
   "metadata": {},
   "outputs": [],
   "source": []
  },
  {
   "cell_type": "code",
   "execution_count": null,
   "metadata": {},
   "outputs": [],
   "source": []
  },
  {
   "cell_type": "code",
   "execution_count": null,
   "metadata": {},
   "outputs": [],
   "source": []
  },
  {
   "cell_type": "code",
   "execution_count": null,
   "metadata": {},
   "outputs": [],
   "source": []
  },
  {
   "cell_type": "code",
   "execution_count": null,
   "metadata": {},
   "outputs": [],
   "source": []
  },
  {
   "cell_type": "code",
   "execution_count": null,
   "metadata": {},
   "outputs": [],
   "source": []
  },
  {
   "cell_type": "code",
   "execution_count": null,
   "metadata": {},
   "outputs": [],
   "source": []
  },
  {
   "cell_type": "code",
   "execution_count": null,
   "metadata": {},
   "outputs": [],
   "source": []
  },
  {
   "cell_type": "code",
   "execution_count": null,
   "metadata": {},
   "outputs": [],
   "source": []
  },
  {
   "cell_type": "code",
   "execution_count": null,
   "metadata": {},
   "outputs": [],
   "source": []
  },
  {
   "cell_type": "code",
   "execution_count": null,
   "metadata": {},
   "outputs": [],
   "source": []
  },
  {
   "cell_type": "code",
   "execution_count": null,
   "metadata": {},
   "outputs": [],
   "source": []
  },
  {
   "cell_type": "code",
   "execution_count": null,
   "metadata": {},
   "outputs": [],
   "source": []
  },
  {
   "cell_type": "code",
   "execution_count": null,
   "metadata": {},
   "outputs": [],
   "source": []
  },
  {
   "cell_type": "code",
   "execution_count": null,
   "metadata": {},
   "outputs": [],
   "source": []
  },
  {
   "cell_type": "code",
   "execution_count": null,
   "metadata": {},
   "outputs": [],
   "source": []
  },
  {
   "cell_type": "code",
   "execution_count": null,
   "metadata": {},
   "outputs": [],
   "source": []
  },
  {
   "cell_type": "code",
   "execution_count": null,
   "metadata": {},
   "outputs": [],
   "source": []
  },
  {
   "cell_type": "code",
   "execution_count": null,
   "metadata": {},
   "outputs": [],
   "source": []
  }
 ],
 "metadata": {
  "kernelspec": {
   "display_name": "base",
   "language": "python",
   "name": "python3"
  },
  "language_info": {
   "codemirror_mode": {
    "name": "ipython",
    "version": 3
   },
   "file_extension": ".py",
   "mimetype": "text/x-python",
   "name": "python",
   "nbconvert_exporter": "python",
   "pygments_lexer": "ipython3",
   "version": "3.11.5"
  }
 },
 "nbformat": 4,
 "nbformat_minor": 2
}
