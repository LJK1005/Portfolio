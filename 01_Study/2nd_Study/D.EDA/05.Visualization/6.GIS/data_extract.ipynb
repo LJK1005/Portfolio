{
 "cells": [
  {
   "cell_type": "code",
   "execution_count": 2,
   "metadata": {},
   "outputs": [],
   "source": [
    "import pandas as pd\n",
    "import requests\n",
    "import json\n",
    "import time"
   ]
  },
  {
   "cell_type": "code",
   "execution_count": 20,
   "metadata": {},
   "outputs": [],
   "source": [
    "url = 'https://apis.data.go.kr/1741000/stdgSexdAgePpltn/selectStdgSexdAgePpltn?serviceKey=XBGF4fVTIQnCnyrblkIxOvc11aT9HMCuRFLJvlZPqfNLO5JNTFIl7LEhugoAjRQ80hws4B5I9bePSVHSLPNhkQ%3D%3D&stdgCd={0}&srchFrYm=202312&srchToYm=202312&lv=2&regSeCd=1&type=JSON&numOfRows=100&pageNo={1}'"
   ]
  },
  {
   "cell_type": "code",
   "execution_count": 1,
   "metadata": {},
   "outputs": [],
   "source": [
    "area = ['1100000000', '2600000000', '2700000000', '2800000000', '2900000000', '3000000000', '3100000000', '3600000000', '4100000000', '4300000000', '4400000000', '4600000000', '4700000000', '4800000000', '5000000000', '5100000000', '5200000000'\n",
    "]"
   ]
  },
  {
   "cell_type": "code",
   "execution_count": 30,
   "metadata": {},
   "outputs": [],
   "source": [
    "df = pd.DataFrame()\n",
    "\n",
    "for i in area:\n",
    "        pageno = 1\n",
    "        while True:\n",
    "            tmp = requests.get(url.format(i, pageno))\n",
    "            pageno += 1\n",
    "            tmp2 = json.loads(tmp.text)\n",
    "            try:\n",
    "                tmp3 = tmp2['Response']['items']['item']\n",
    "                df = pd.concat([df, pd.DataFrame(tmp3)], axis = 0)\n",
    "                time.sleep(1)\n",
    "            except:\n",
    "                break"
   ]
  },
  {
   "cell_type": "code",
   "execution_count": 34,
   "metadata": {},
   "outputs": [],
   "source": [
    "df.reset_index(drop = True, inplace = True)"
   ]
  },
  {
   "cell_type": "code",
   "execution_count": 35,
   "metadata": {},
   "outputs": [],
   "source": [
    "df.to_csv(\"./self/pop.csv\", index = False)"
   ]
  },
  {
   "cell_type": "code",
   "execution_count": 36,
   "metadata": {},
   "outputs": [
    {
     "data": {
      "text/html": [
       "<div>\n",
       "<style scoped>\n",
       "    .dataframe tbody tr th:only-of-type {\n",
       "        vertical-align: middle;\n",
       "    }\n",
       "\n",
       "    .dataframe tbody tr th {\n",
       "        vertical-align: top;\n",
       "    }\n",
       "\n",
       "    .dataframe thead th {\n",
       "        text-align: right;\n",
       "    }\n",
       "</style>\n",
       "<table border=\"1\" class=\"dataframe\">\n",
       "  <thead>\n",
       "    <tr style=\"text-align: right;\">\n",
       "      <th></th>\n",
       "      <th>tong</th>\n",
       "      <th>male50AgeNmprCnt</th>\n",
       "      <th>feml40AgeNmprCnt</th>\n",
       "      <th>male80AgeNmprCnt</th>\n",
       "      <th>male20AgeNmprCnt</th>\n",
       "      <th>stdgNm</th>\n",
       "      <th>ban</th>\n",
       "      <th>totNmprCnt</th>\n",
       "      <th>feml0AgeNmprCnt</th>\n",
       "      <th>male40AgeNmprCnt</th>\n",
       "      <th>...</th>\n",
       "      <th>male0AgeNmprCnt</th>\n",
       "      <th>feml80AgeNmprCnt</th>\n",
       "      <th>male100AgeNmprCnt</th>\n",
       "      <th>maleNmprCnt</th>\n",
       "      <th>sggNm</th>\n",
       "      <th>male60AgeNmprCnt</th>\n",
       "      <th>male70AgeNmprCnt</th>\n",
       "      <th>feml70AgeNmprCnt</th>\n",
       "      <th>admmCd</th>\n",
       "      <th>statsYm</th>\n",
       "    </tr>\n",
       "  </thead>\n",
       "  <tbody>\n",
       "    <tr>\n",
       "      <th>0</th>\n",
       "      <td></td>\n",
       "      <td>11854</td>\n",
       "      <td>9903</td>\n",
       "      <td>2674</td>\n",
       "      <td>10174</td>\n",
       "      <td></td>\n",
       "      <td></td>\n",
       "      <td>139417</td>\n",
       "      <td>2930</td>\n",
       "      <td>9291</td>\n",
       "      <td>...</td>\n",
       "      <td>2989</td>\n",
       "      <td>3970</td>\n",
       "      <td>9</td>\n",
       "      <td>67306</td>\n",
       "      <td>종로구</td>\n",
       "      <td>10365</td>\n",
       "      <td>5211</td>\n",
       "      <td>6292</td>\n",
       "      <td></td>\n",
       "      <td>202312</td>\n",
       "    </tr>\n",
       "    <tr>\n",
       "      <th>1</th>\n",
       "      <td></td>\n",
       "      <td>9529</td>\n",
       "      <td>8225</td>\n",
       "      <td>2101</td>\n",
       "      <td>7979</td>\n",
       "      <td></td>\n",
       "      <td></td>\n",
       "      <td>121312</td>\n",
       "      <td>2751</td>\n",
       "      <td>8544</td>\n",
       "      <td>...</td>\n",
       "      <td>2879</td>\n",
       "      <td>3460</td>\n",
       "      <td>5</td>\n",
       "      <td>58659</td>\n",
       "      <td>중구</td>\n",
       "      <td>9137</td>\n",
       "      <td>4735</td>\n",
       "      <td>5756</td>\n",
       "      <td></td>\n",
       "      <td>202312</td>\n",
       "    </tr>\n",
       "    <tr>\n",
       "      <th>2</th>\n",
       "      <td></td>\n",
       "      <td>16765</td>\n",
       "      <td>15818</td>\n",
       "      <td>3409</td>\n",
       "      <td>13849</td>\n",
       "      <td></td>\n",
       "      <td></td>\n",
       "      <td>213151</td>\n",
       "      <td>5429</td>\n",
       "      <td>15470</td>\n",
       "      <td>...</td>\n",
       "      <td>5660</td>\n",
       "      <td>5496</td>\n",
       "      <td>12</td>\n",
       "      <td>102312</td>\n",
       "      <td>용산구</td>\n",
       "      <td>14294</td>\n",
       "      <td>6880</td>\n",
       "      <td>8742</td>\n",
       "      <td></td>\n",
       "      <td>202312</td>\n",
       "    </tr>\n",
       "    <tr>\n",
       "      <th>3</th>\n",
       "      <td></td>\n",
       "      <td>21870</td>\n",
       "      <td>20401</td>\n",
       "      <td>3976</td>\n",
       "      <td>19821</td>\n",
       "      <td></td>\n",
       "      <td></td>\n",
       "      <td>277361</td>\n",
       "      <td>8203</td>\n",
       "      <td>20525</td>\n",
       "      <td>...</td>\n",
       "      <td>8690</td>\n",
       "      <td>6341</td>\n",
       "      <td>14</td>\n",
       "      <td>134519</td>\n",
       "      <td>성동구</td>\n",
       "      <td>18883</td>\n",
       "      <td>9126</td>\n",
       "      <td>11281</td>\n",
       "      <td></td>\n",
       "      <td>202312</td>\n",
       "    </tr>\n",
       "    <tr>\n",
       "      <th>4</th>\n",
       "      <td></td>\n",
       "      <td>25844</td>\n",
       "      <td>24530</td>\n",
       "      <td>4442</td>\n",
       "      <td>27297</td>\n",
       "      <td></td>\n",
       "      <td></td>\n",
       "      <td>335554</td>\n",
       "      <td>7420</td>\n",
       "      <td>23573</td>\n",
       "      <td>...</td>\n",
       "      <td>7788</td>\n",
       "      <td>6486</td>\n",
       "      <td>13</td>\n",
       "      <td>161277</td>\n",
       "      <td>광진구</td>\n",
       "      <td>21765</td>\n",
       "      <td>10740</td>\n",
       "      <td>12831</td>\n",
       "      <td></td>\n",
       "      <td>202312</td>\n",
       "    </tr>\n",
       "  </tbody>\n",
       "</table>\n",
       "<p>5 rows × 35 columns</p>\n",
       "</div>"
      ],
      "text/plain": [
       "  tong male50AgeNmprCnt feml40AgeNmprCnt male80AgeNmprCnt male20AgeNmprCnt  \\\n",
       "0                 11854             9903             2674            10174   \n",
       "1                  9529             8225             2101             7979   \n",
       "2                 16765            15818             3409            13849   \n",
       "3                 21870            20401             3976            19821   \n",
       "4                 25844            24530             4442            27297   \n",
       "\n",
       "  stdgNm ban totNmprCnt feml0AgeNmprCnt male40AgeNmprCnt  ... male0AgeNmprCnt  \\\n",
       "0                139417            2930             9291  ...            2989   \n",
       "1                121312            2751             8544  ...            2879   \n",
       "2                213151            5429            15470  ...            5660   \n",
       "3                277361            8203            20525  ...            8690   \n",
       "4                335554            7420            23573  ...            7788   \n",
       "\n",
       "  feml80AgeNmprCnt male100AgeNmprCnt maleNmprCnt sggNm male60AgeNmprCnt  \\\n",
       "0             3970                 9       67306   종로구            10365   \n",
       "1             3460                 5       58659    중구             9137   \n",
       "2             5496                12      102312   용산구            14294   \n",
       "3             6341                14      134519   성동구            18883   \n",
       "4             6486                13      161277   광진구            21765   \n",
       "\n",
       "  male70AgeNmprCnt feml70AgeNmprCnt admmCd statsYm  \n",
       "0             5211             6292         202312  \n",
       "1             4735             5756         202312  \n",
       "2             6880             8742         202312  \n",
       "3             9126            11281         202312  \n",
       "4            10740            12831         202312  \n",
       "\n",
       "[5 rows x 35 columns]"
      ]
     },
     "execution_count": 36,
     "metadata": {},
     "output_type": "execute_result"
    }
   ],
   "source": [
    "df.head()"
   ]
  },
  {
   "cell_type": "code",
   "execution_count": 49,
   "metadata": {},
   "outputs": [
    {
     "data": {
      "text/plain": [
       "0      139417\n",
       "1      121312\n",
       "2      213151\n",
       "3      277361\n",
       "4      335554\n",
       "        ...  \n",
       "239     23007\n",
       "240     21056\n",
       "241     32020\n",
       "242     27305\n",
       "243     27710\n",
       "Name: totNmprCnt, Length: 244, dtype: int32"
      ]
     },
     "execution_count": 49,
     "metadata": {},
     "output_type": "execute_result"
    }
   ],
   "source": [
    "df['totNmprCnt'].astype('int')"
   ]
  },
  {
   "cell_type": "code",
   "execution_count": 50,
   "metadata": {},
   "outputs": [
    {
     "data": {
      "text/plain": [
       "0      1111000000\n",
       "1      1114000000\n",
       "2      1117000000\n",
       "3      1120000000\n",
       "4      1121500000\n",
       "          ...    \n",
       "239    5179000000\n",
       "240    5180000000\n",
       "241    5181000000\n",
       "242    5182000000\n",
       "243    5183000000\n",
       "Name: stdgCd, Length: 244, dtype: object"
      ]
     },
     "execution_count": 50,
     "metadata": {},
     "output_type": "execute_result"
    }
   ],
   "source": [
    "df['stdgCd']"
   ]
  },
  {
   "cell_type": "code",
   "execution_count": 56,
   "metadata": {},
   "outputs": [],
   "source": [
    "df2 = df[['totNmprCnt', 'stdgCd']].copy()"
   ]
  },
  {
   "cell_type": "code",
   "execution_count": 57,
   "metadata": {},
   "outputs": [],
   "source": [
    "df2['trans'] = df2['stdgCd'].apply(lambda x : x[:5])"
   ]
  },
  {
   "cell_type": "code",
   "execution_count": 59,
   "metadata": {},
   "outputs": [],
   "source": [
    "df2.to_csv(\"./self/pop_2.csv\", index = False)"
   ]
  },
  {
   "cell_type": "code",
   "execution_count": null,
   "metadata": {},
   "outputs": [],
   "source": []
  },
  {
   "cell_type": "code",
   "execution_count": null,
   "metadata": {},
   "outputs": [],
   "source": []
  },
  {
   "cell_type": "code",
   "execution_count": null,
   "metadata": {},
   "outputs": [],
   "source": []
  },
  {
   "cell_type": "code",
   "execution_count": null,
   "metadata": {},
   "outputs": [],
   "source": []
  },
  {
   "cell_type": "code",
   "execution_count": null,
   "metadata": {},
   "outputs": [],
   "source": []
  },
  {
   "cell_type": "code",
   "execution_count": null,
   "metadata": {},
   "outputs": [],
   "source": []
  },
  {
   "cell_type": "code",
   "execution_count": null,
   "metadata": {},
   "outputs": [],
   "source": []
  }
 ],
 "metadata": {
  "kernelspec": {
   "display_name": "base",
   "language": "python",
   "name": "python3"
  },
  "language_info": {
   "codemirror_mode": {
    "name": "ipython",
    "version": 3
   },
   "file_extension": ".py",
   "mimetype": "text/x-python",
   "name": "python",
   "nbconvert_exporter": "python",
   "pygments_lexer": "ipython3",
   "version": "3.11.5"
  }
 },
 "nbformat": 4,
 "nbformat_minor": 2
}
