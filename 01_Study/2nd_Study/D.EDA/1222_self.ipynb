{
 "cells": [
  {
   "cell_type": "markdown",
   "metadata": {},
   "source": [
    "# 탐색적 데이터 분석 (EDA)"
   ]
  },
  {
   "cell_type": "markdown",
   "metadata": {},
   "source": [
    "1. 데이터 다루기 : list, dict -> numpy -> series -> dataframe (excel sheet)"
   ]
  },
  {
   "cell_type": "markdown",
   "metadata": {},
   "source": [
    "2. 데이터 전처리 : 데이터의 가공\n",
    "   - 행, 열 재배치 및 병합\n",
    "   - 데이터 재구조화\n",
    "   - 데이터 집계\n",
    "   - 파생변수, 더미변수 생성\n",
    "   - 데이터 정규화\n",
    "   - 데이터 분할\n",
    "   - 데이터 증폭"
   ]
  },
  {
   "cell_type": "markdown",
   "metadata": {},
   "source": [
    "3. 시각화 : 그래프"
   ]
  },
  {
   "cell_type": "markdown",
   "metadata": {},
   "source": [
    "4. 기술통계 (기초통계량)"
   ]
  },
  {
   "cell_type": "markdown",
   "metadata": {},
   "source": [
    "5. 데이터 정제"
   ]
  }
 ],
 "metadata": {
  "language_info": {
   "name": "python"
  }
 },
 "nbformat": 4,
 "nbformat_minor": 2
}
