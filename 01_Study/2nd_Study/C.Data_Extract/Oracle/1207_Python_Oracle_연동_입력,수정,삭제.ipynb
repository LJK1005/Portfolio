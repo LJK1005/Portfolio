{
 "cells": [
  {
   "cell_type": "markdown",
   "metadata": {},
   "source": [
    "# Python - Oracle 연동"
   ]
  },
  {
   "cell_type": "markdown",
   "metadata": {},
   "source": [
    "### 패키지 참조\n",
    "\n",
    "- 사용 패키지 : cx_Oracle, sqlalchemy, pandas (+ openpyxl, xlrd)"
   ]
  },
  {
   "cell_type": "code",
   "execution_count": 1,
   "metadata": {},
   "outputs": [],
   "source": [
    "import cx_Oracle as cx\n",
    "from sqlalchemy import create_engine\n",
    "from pandas import DataFrame, read_sql_table"
   ]
  },
  {
   "cell_type": "markdown",
   "metadata": {},
   "source": [
    "### cx_Oracle을 사용한 연동"
   ]
  },
  {
   "cell_type": "markdown",
   "metadata": {},
   "source": [
    "1. 데이터베이스 접속 및 cursor 객체 생성"
   ]
  },
  {
   "cell_type": "code",
   "execution_count": 2,
   "metadata": {},
   "outputs": [],
   "source": [
    "dbcon = cx.connect(\"hr\", \"hr\", \"localhost:1521/xe\")\n",
    "cursor = dbcon.cursor()"
   ]
  },
  {
   "cell_type": "markdown",
   "metadata": {},
   "source": [
    "2. 데이터 저장하기"
   ]
  },
  {
   "cell_type": "markdown",
   "metadata": {},
   "source": [
    "- 저장을 위한 값 입력받기"
   ]
  },
  {
   "cell_type": "code",
   "execution_count": 3,
   "metadata": {},
   "outputs": [
    {
     "data": {
      "text/plain": [
       "('테스트학과', '여기')"
      ]
     },
     "execution_count": 3,
     "metadata": {},
     "output_type": "execute_result"
    }
   ],
   "source": [
    "dname = input(\"학과 이름을 입력하세요.\")\n",
    "loc = input(\"학과의 위치를 입력하세요.\")\n",
    "dname, loc"
   ]
  },
  {
   "cell_type": "markdown",
   "metadata": {},
   "source": [
    "- SQL문은 홑따옴표로 문자열 구분을 판단하는데 이 헛점을 이용하여 SQL문을 의도와 다르게 입력값을 주어 해킹을 하는 기법을 SQL 인젝션 공격이라고 함\n",
    "  - 오라클은 해당 취약점을 수정했으나 MySQL은 해당 헛점 존재\n",
    "  - 이 해킹 방법을 방지하기 위해서는 입력 홑따옴표를 실제 홑따옴표로 인식하도록 replace로 '를 \\\\\\\\'로 바꾸면 됨"
   ]
  },
  {
   "cell_type": "markdown",
   "metadata": {},
   "source": [
    "- 저장을 위한 새로운 시퀀스값 조회"
   ]
  },
  {
   "cell_type": "code",
   "execution_count": 4,
   "metadata": {},
   "outputs": [
    {
     "name": "stdout",
     "output_type": "stream",
     "text": [
      "[(340,)]\n",
      "새로운 시퀀스 번호 : 340\n"
     ]
    }
   ],
   "source": [
    "sql = \"SELECT seq_department.nextval FROM dual\"\n",
    "cursor.execute(sql)\n",
    "result = cursor.fetchall()\n",
    "print(result)\n",
    "\n",
    "seq = result[0][0]\n",
    "print(\"새로운 시퀀스 번호 : %d\" % seq)"
   ]
  },
  {
   "cell_type": "markdown",
   "metadata": {},
   "source": [
    "3. INSERT문 수행"
   ]
  },
  {
   "cell_type": "code",
   "execution_count": 5,
   "metadata": {},
   "outputs": [
    {
     "name": "stdout",
     "output_type": "stream",
     "text": [
      "1개의 행이 저장됨\n"
     ]
    }
   ],
   "source": [
    "sql = \"INSERT INTO department (deptno, dname, loc) VALUES (:1, :2, :3)\"\n",
    "\n",
    "#                     :1    :2    :3\n",
    "cursor.execute(sql, [seq, dname, loc])\n",
    "print(\"%s개의 행이 저장됨\" % cursor.rowcount)\n",
    "\n",
    "# 처리 결과를 실제로 반영함\n",
    "dbcon.commit()\n",
    "\n",
    "# 되돌리기\n",
    "# -> 이미 commit()한 내역은 적용되지 않음\n",
    "# dbcon.rollback()"
   ]
  },
  {
   "cell_type": "markdown",
   "metadata": {},
   "source": [
    "4. UPDATE문 수행"
   ]
  },
  {
   "cell_type": "code",
   "execution_count": 7,
   "metadata": {},
   "outputs": [
    {
     "name": "stdout",
     "output_type": "stream",
     "text": [
      "1개의 행이 갱신됨\n"
     ]
    }
   ],
   "source": [
    "sql = \"UPDATE department SET dname=:1, loc=:2 WHERE deptno=:3\"\n",
    "cursor.execute(sql, ['메가스터디', '신촌', seq])\n",
    "print(\"%s개의 행이 갱신됨\" % cursor.rowcount)\n",
    "dbcon.commit()"
   ]
  },
  {
   "cell_type": "markdown",
   "metadata": {},
   "source": [
    "5. DELETE문 수행"
   ]
  },
  {
   "cell_type": "code",
   "execution_count": 8,
   "metadata": {},
   "outputs": [
    {
     "name": "stdout",
     "output_type": "stream",
     "text": [
      "1개의 행이 삭제됨\n"
     ]
    }
   ],
   "source": [
    "sql = \"DELETE FROM department WHERE deptno=:1\"\n",
    "cursor.execute(sql, [seq])\n",
    "print(\"%s개의 행이 삭제됨\" % cursor.rowcount)\n",
    "dbcon.commit()"
   ]
  },
  {
   "cell_type": "markdown",
   "metadata": {},
   "source": [
    "6. 데이터베이스 접속 해제"
   ]
  },
  {
   "cell_type": "code",
   "execution_count": 9,
   "metadata": {},
   "outputs": [],
   "source": [
    "try:\n",
    "    cursor.close()\n",
    "    dbcon.close()\n",
    "except Exception as e:\n",
    "    print(\"접속 상태가 아닙니다\", e)"
   ]
  },
  {
   "cell_type": "markdown",
   "metadata": {},
   "source": [
    "- 연구과제"
   ]
  },
  {
   "cell_type": "code",
   "execution_count": null,
   "metadata": {},
   "outputs": [],
   "source": [
    "dbcon = cx.connect(\"hr\", \"hr\", \"localhost:1521/xe\")\n",
    "cursor = dbcon.cursor()"
   ]
  },
  {
   "cell_type": "code",
   "execution_count": 25,
   "metadata": {},
   "outputs": [],
   "source": [
    "with open(\"traffic_acc.csv\", \"r\", encoding = \"utf-8\") as f:\n",
    "    csv = f.readlines()\n",
    "\n",
    "data = []\n",
    "\n",
    "for i, v in enumerate(csv):\n",
    "    if i == 0:\n",
    "        continue\n",
    "\n",
    "    line = v.strip().split(\",\")\n",
    "    item = {\"년도\":int(line[0]), \"월\":int(line[1]), \"발생건수\":int(line[2]), \"사망자수\":int(line[3]), \"부상자수\":int(line[4]),}\n",
    "    data.append(item)"
   ]
  },
  {
   "cell_type": "code",
   "execution_count": 42,
   "metadata": {},
   "outputs": [],
   "source": [
    "sql = \"CREATE TABLE Traffic_acc(id number not null, 년도 number not null, 월 number not null, 발생건수 number not null, 사망자수 number not null, 부상자수 number not null, primary key(id))\"\n",
    "cursor.execute(sql)"
   ]
  },
  {
   "cell_type": "code",
   "execution_count": 46,
   "metadata": {},
   "outputs": [],
   "source": [
    "sql = \"CREATE SEQUENCE seq_acc start with 100 increment by 1\"\n",
    "cursor.execute(sql)"
   ]
  },
  {
   "cell_type": "code",
   "execution_count": 48,
   "metadata": {},
   "outputs": [],
   "source": [
    "for i in data:\n",
    "    sql = \"INSERT INTO Traffic_acc (id, 년도, 월, 발생건수, 사망자수, 부상자수) VALUES (seq_acc.nextval, :1, :2, :3, :4, :5)\"\n",
    "    cursor.execute(sql, [i['년도'], i['월'], i['발생건수'], i['사망자수'], i['부상자수']])\n",
    "dbcon.commit()"
   ]
  },
  {
   "cell_type": "code",
   "execution_count": 49,
   "metadata": {},
   "outputs": [],
   "source": [
    "cursor.close()\n",
    "dbcon.close()"
   ]
  },
  {
   "cell_type": "code",
   "execution_count": null,
   "metadata": {},
   "outputs": [],
   "source": []
  },
  {
   "cell_type": "code",
   "execution_count": null,
   "metadata": {},
   "outputs": [],
   "source": []
  },
  {
   "cell_type": "code",
   "execution_count": null,
   "metadata": {},
   "outputs": [],
   "source": []
  },
  {
   "cell_type": "code",
   "execution_count": null,
   "metadata": {},
   "outputs": [],
   "source": []
  },
  {
   "cell_type": "code",
   "execution_count": null,
   "metadata": {},
   "outputs": [],
   "source": []
  }
 ],
 "metadata": {
  "kernelspec": {
   "display_name": "base",
   "language": "python",
   "name": "python3"
  },
  "language_info": {
   "codemirror_mode": {
    "name": "ipython",
    "version": 3
   },
   "file_extension": ".py",
   "mimetype": "text/x-python",
   "name": "python",
   "nbconvert_exporter": "python",
   "pygments_lexer": "ipython3",
   "version": "3.11.5"
  }
 },
 "nbformat": 4,
 "nbformat_minor": 2
}
