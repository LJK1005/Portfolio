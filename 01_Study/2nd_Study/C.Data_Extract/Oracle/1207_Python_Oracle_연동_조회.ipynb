{
 "cells": [
  {
   "cell_type": "markdown",
   "metadata": {},
   "source": [
    "# Python - Oracle 연동"
   ]
  },
  {
   "cell_type": "markdown",
   "metadata": {},
   "source": [
    "### 패키지 참조\n",
    "\n",
    "- 사용 패키지 : cx_Oracle, sqlalchemy, pandas (+ openpyxl, xlrd)"
   ]
  },
  {
   "cell_type": "code",
   "execution_count": 1,
   "metadata": {},
   "outputs": [],
   "source": [
    "import cx_Oracle as cx\n",
    "from sqlalchemy import create_engine\n",
    "from pandas import DataFrame, read_sql_table"
   ]
  },
  {
   "cell_type": "markdown",
   "metadata": {},
   "source": [
    "### cx_Oracle을 사용한 연동\n",
    "- 데이터베이스 연동 과정은 '데이터베이스 접속 -> SQL 실행 객체(cursor) 생성 -> 결과 처리 -> 데이터베이스 접속 해제'의 순서로 진행"
   ]
  },
  {
   "cell_type": "markdown",
   "metadata": {},
   "source": [
    "1. 데이터베이스 접속"
   ]
  },
  {
   "cell_type": "code",
   "execution_count": 20,
   "metadata": {},
   "outputs": [
    {
     "data": {
      "text/plain": [
       "<cx_Oracle.Connection to hr@localhost:1521/xe>"
      ]
     },
     "execution_count": 20,
     "metadata": {},
     "output_type": "execute_result"
    }
   ],
   "source": [
    "dbcon = cx.connect(\"hr\",    # 사용자 이름\n",
    "                   \"hr\",    # 비밀번호\n",
    "                   \"localhost:1521/xe\")  # 데이터베이스 서버 주소\n",
    "\n",
    "dbcon"
   ]
  },
  {
   "cell_type": "markdown",
   "metadata": {},
   "source": [
    "2. Cursor 객체 생성"
   ]
  },
  {
   "cell_type": "code",
   "execution_count": 21,
   "metadata": {},
   "outputs": [],
   "source": [
    "cursor = dbcon.cursor()"
   ]
  },
  {
   "cell_type": "markdown",
   "metadata": {},
   "source": [
    "3. 데이터 조회를 위한 SQL문 수행\n",
    "   - 튜플을 원소로 갖는 리스트 형태로 조회"
   ]
  },
  {
   "cell_type": "code",
   "execution_count": 7,
   "metadata": {},
   "outputs": [
    {
     "name": "stdout",
     "output_type": "stream",
     "text": [
      "[(101, '컴퓨터공학과', '1호관'), (102, '멀티미디어학과', '2호관'), (201, '전자공학과', '3호관'), (202, '컴퓨터공학과', '공학관'), (320, '정보통신학과', '6호관')]\n"
     ]
    }
   ],
   "source": [
    "sql = \"SELECT * FROM department\"\n",
    "\n",
    "try:\n",
    "    cursor.execute(sql)\n",
    "    result = cursor.fetchall()\n",
    "    print(result)\n",
    "except Exception as e:\n",
    "    print(\"데이터 조회 실패\", e)"
   ]
  },
  {
   "cell_type": "markdown",
   "metadata": {},
   "source": [
    "- 딕셔너리를 원소로 갖는 리스트 형태로 조회\n",
    "  - cx_Oracle은 별도의 딕셔너리 형태를 제공하지 않음.\n",
    "  - cursor 객체의 rowfactory 프로퍼티를 직접 재정의 해야 한다.\n",
    "    - lambda 식 사용"
   ]
  },
  {
   "cell_type": "code",
   "execution_count": 9,
   "metadata": {},
   "outputs": [
    {
     "name": "stdout",
     "output_type": "stream",
     "text": [
      "[{'DEPTNO': 101, 'DNAME': '컴퓨터공학과', 'LOC': '1호관'}, {'DEPTNO': 102, 'DNAME': '멀티미디어학과', 'LOC': '2호관'}, {'DEPTNO': 201, 'DNAME': '전자공학과', 'LOC': '3호관'}, {'DEPTNO': 202, 'DNAME': '컴퓨터공학과', 'LOC': '공학관'}, {'DEPTNO': 320, 'DNAME': '정보통신학과', 'LOC': '6호관'}]\n"
     ]
    }
   ],
   "source": [
    "sql = \"SELECT * FROM department\"\n",
    "\n",
    "try:\n",
    "    cursor.execute(sql)\n",
    "\n",
    "    # rowfactory 재정의 - 접속 해제 전까지 최초 1회만 수행하면 된다.\n",
    "    cursor.rowfactory = lambda *args: dict(zip([d[0] for d in cursor.description], args))\n",
    "\n",
    "    result = cursor.fetchall()\n",
    "    print(result)\n",
    "except Exception as e:\n",
    "    print(\"데이터 조회 실패\", e)"
   ]
  },
  {
   "cell_type": "markdown",
   "metadata": {},
   "source": [
    "4. 조회 결과를 활용한 후속 처리\n",
    "    - 수업 내용 활용"
   ]
  },
  {
   "cell_type": "code",
   "execution_count": 10,
   "metadata": {},
   "outputs": [],
   "source": [
    "with open('department.csv', 'w', encoding = 'utf-8') as f:\n",
    "    for i, v, in enumerate(result):\n",
    "        if i == 0:\n",
    "            keys = list(v.keys())\n",
    "            titleLine = \"%s\\n\" % ','.join(keys)\n",
    "            f.write(titleLine)\n",
    "        \n",
    "        values = list(v.values())\n",
    "        # values의 모든 원소를 str 타입으로 변경\n",
    "        values_str = list(map(str, values))\n",
    "\n",
    "        valueLine = '%s\\n' % ','.join(values_str)\n",
    "        f.write(valueLine)"
   ]
  },
  {
   "cell_type": "markdown",
   "metadata": {},
   "source": [
    "- 데이터프레임"
   ]
  },
  {
   "cell_type": "code",
   "execution_count": 11,
   "metadata": {},
   "outputs": [
    {
     "data": {
      "text/html": [
       "<div>\n",
       "<style scoped>\n",
       "    .dataframe tbody tr th:only-of-type {\n",
       "        vertical-align: middle;\n",
       "    }\n",
       "\n",
       "    .dataframe tbody tr th {\n",
       "        vertical-align: top;\n",
       "    }\n",
       "\n",
       "    .dataframe thead th {\n",
       "        text-align: right;\n",
       "    }\n",
       "</style>\n",
       "<table border=\"1\" class=\"dataframe\">\n",
       "  <thead>\n",
       "    <tr style=\"text-align: right;\">\n",
       "      <th></th>\n",
       "      <th>DEPTNO</th>\n",
       "      <th>DNAME</th>\n",
       "      <th>LOC</th>\n",
       "    </tr>\n",
       "  </thead>\n",
       "  <tbody>\n",
       "    <tr>\n",
       "      <th>0</th>\n",
       "      <td>101</td>\n",
       "      <td>컴퓨터공학과</td>\n",
       "      <td>1호관</td>\n",
       "    </tr>\n",
       "    <tr>\n",
       "      <th>1</th>\n",
       "      <td>102</td>\n",
       "      <td>멀티미디어학과</td>\n",
       "      <td>2호관</td>\n",
       "    </tr>\n",
       "    <tr>\n",
       "      <th>2</th>\n",
       "      <td>201</td>\n",
       "      <td>전자공학과</td>\n",
       "      <td>3호관</td>\n",
       "    </tr>\n",
       "    <tr>\n",
       "      <th>3</th>\n",
       "      <td>202</td>\n",
       "      <td>컴퓨터공학과</td>\n",
       "      <td>공학관</td>\n",
       "    </tr>\n",
       "    <tr>\n",
       "      <th>4</th>\n",
       "      <td>320</td>\n",
       "      <td>정보통신학과</td>\n",
       "      <td>6호관</td>\n",
       "    </tr>\n",
       "  </tbody>\n",
       "</table>\n",
       "</div>"
      ],
      "text/plain": [
       "   DEPTNO    DNAME  LOC\n",
       "0     101   컴퓨터공학과  1호관\n",
       "1     102  멀티미디어학과  2호관\n",
       "2     201    전자공학과  3호관\n",
       "3     202   컴퓨터공학과  공학관\n",
       "4     320   정보통신학과  6호관"
      ]
     },
     "execution_count": 11,
     "metadata": {},
     "output_type": "execute_result"
    }
   ],
   "source": [
    "df = DataFrame(result)\n",
    "df"
   ]
  },
  {
   "cell_type": "code",
   "execution_count": 12,
   "metadata": {},
   "outputs": [],
   "source": [
    "df.to_csv(\"department2.csv\", index = False, encoding = 'utf-8')"
   ]
  },
  {
   "cell_type": "markdown",
   "metadata": {},
   "source": [
    "- 데이터프레임 to_csv는 open을 이용한 csv 작성보다 속도가 느려 대용량 데이터에 대해서는 open 사용 권장\n",
    "  - 코드는 to_csv가 간편함"
   ]
  },
  {
   "cell_type": "code",
   "execution_count": 13,
   "metadata": {},
   "outputs": [],
   "source": [
    "df.to_excel(\"department3.xlsx\", index = False)"
   ]
  },
  {
   "cell_type": "markdown",
   "metadata": {},
   "source": [
    "5. 데이터베이스 접속 해제\n",
    "   - cursor 객체와 dbcon 객체를 닫아서 점유하고 있는 메모리를 컴퓨터에 반납해야 한다. (자원 반납)\n",
    "   - 자원 반납은 생성된 역순으로 진행"
   ]
  },
  {
   "cell_type": "code",
   "execution_count": 22,
   "metadata": {},
   "outputs": [],
   "source": [
    "try:\n",
    "    cursor.close()\n",
    "    dbcon.close()\n",
    "except Exception as e:\n",
    "    print(\"접속 상태가 아닙니다\", e)"
   ]
  },
  {
   "cell_type": "markdown",
   "metadata": {},
   "source": [
    "### sqlalchemy를 사용한 연동\n",
    "- 데이터베이스의 종류를 구분하지 않고 공통된 연동 방법을 제공하는 인터페이스"
   ]
  },
  {
   "cell_type": "markdown",
   "metadata": {},
   "source": [
    "1. 데이터베이스 접속하기\n",
    "   - 접속 문자열 생성\n",
    "     - 'oracle+cx_oracle://계정이름:비밀번호@접속주소/SID'"
   ]
  },
  {
   "cell_type": "code",
   "execution_count": 15,
   "metadata": {},
   "outputs": [],
   "source": [
    "conStr = \"oracle+cx_oracle://hr:hr@localhost:1521/xe\""
   ]
  },
  {
   "cell_type": "markdown",
   "metadata": {},
   "source": [
    "- 접속"
   ]
  },
  {
   "cell_type": "code",
   "execution_count": 16,
   "metadata": {},
   "outputs": [],
   "source": [
    "engine = create_engine(conStr)\n",
    "dbcon = engine.connect()"
   ]
  },
  {
   "cell_type": "markdown",
   "metadata": {},
   "source": [
    "2. 데이터 조회하기\n",
    "   - 조회 결과를 pandas의 DataFrame 객체 형태로 반환한다.\n",
    "   - 조회 속도가 cx_Oracle에 비해 확연히 느림"
   ]
  },
  {
   "cell_type": "code",
   "execution_count": 17,
   "metadata": {},
   "outputs": [
    {
     "data": {
      "text/html": [
       "<div>\n",
       "<style scoped>\n",
       "    .dataframe tbody tr th:only-of-type {\n",
       "        vertical-align: middle;\n",
       "    }\n",
       "\n",
       "    .dataframe tbody tr th {\n",
       "        vertical-align: top;\n",
       "    }\n",
       "\n",
       "    .dataframe thead th {\n",
       "        text-align: right;\n",
       "    }\n",
       "</style>\n",
       "<table border=\"1\" class=\"dataframe\">\n",
       "  <thead>\n",
       "    <tr style=\"text-align: right;\">\n",
       "      <th></th>\n",
       "      <th>deptno</th>\n",
       "      <th>dname</th>\n",
       "      <th>loc</th>\n",
       "    </tr>\n",
       "  </thead>\n",
       "  <tbody>\n",
       "    <tr>\n",
       "      <th>0</th>\n",
       "      <td>101</td>\n",
       "      <td>컴퓨터공학과</td>\n",
       "      <td>1호관</td>\n",
       "    </tr>\n",
       "    <tr>\n",
       "      <th>1</th>\n",
       "      <td>102</td>\n",
       "      <td>멀티미디어학과</td>\n",
       "      <td>2호관</td>\n",
       "    </tr>\n",
       "    <tr>\n",
       "      <th>2</th>\n",
       "      <td>201</td>\n",
       "      <td>전자공학과</td>\n",
       "      <td>3호관</td>\n",
       "    </tr>\n",
       "    <tr>\n",
       "      <th>3</th>\n",
       "      <td>202</td>\n",
       "      <td>컴퓨터공학과</td>\n",
       "      <td>공학관</td>\n",
       "    </tr>\n",
       "    <tr>\n",
       "      <th>4</th>\n",
       "      <td>320</td>\n",
       "      <td>정보통신학과</td>\n",
       "      <td>6호관</td>\n",
       "    </tr>\n",
       "  </tbody>\n",
       "</table>\n",
       "</div>"
      ],
      "text/plain": [
       "   deptno    dname  loc\n",
       "0     101   컴퓨터공학과  1호관\n",
       "1     102  멀티미디어학과  2호관\n",
       "2     201    전자공학과  3호관\n",
       "3     202   컴퓨터공학과  공학관\n",
       "4     320   정보통신학과  6호관"
      ]
     },
     "execution_count": 17,
     "metadata": {},
     "output_type": "execute_result"
    }
   ],
   "source": [
    "df = read_sql_table('department', con = dbcon)\n",
    "df"
   ]
  },
  {
   "cell_type": "markdown",
   "metadata": {},
   "source": [
    "- 원하는 컬럼만 조회하기"
   ]
  },
  {
   "cell_type": "code",
   "execution_count": 18,
   "metadata": {},
   "outputs": [
    {
     "data": {
      "text/html": [
       "<div>\n",
       "<style scoped>\n",
       "    .dataframe tbody tr th:only-of-type {\n",
       "        vertical-align: middle;\n",
       "    }\n",
       "\n",
       "    .dataframe tbody tr th {\n",
       "        vertical-align: top;\n",
       "    }\n",
       "\n",
       "    .dataframe thead th {\n",
       "        text-align: right;\n",
       "    }\n",
       "</style>\n",
       "<table border=\"1\" class=\"dataframe\">\n",
       "  <thead>\n",
       "    <tr style=\"text-align: right;\">\n",
       "      <th></th>\n",
       "      <th>studno</th>\n",
       "      <th>name</th>\n",
       "      <th>grade</th>\n",
       "      <th>idnum</th>\n",
       "    </tr>\n",
       "  </thead>\n",
       "  <tbody>\n",
       "    <tr>\n",
       "      <th>0</th>\n",
       "      <td>10101</td>\n",
       "      <td>전인하</td>\n",
       "      <td>4</td>\n",
       "      <td>7907021369824</td>\n",
       "    </tr>\n",
       "    <tr>\n",
       "      <th>1</th>\n",
       "      <td>10102</td>\n",
       "      <td>박미경</td>\n",
       "      <td>1</td>\n",
       "      <td>8405162123648</td>\n",
       "    </tr>\n",
       "    <tr>\n",
       "      <th>2</th>\n",
       "      <td>10103</td>\n",
       "      <td>김영균</td>\n",
       "      <td>3</td>\n",
       "      <td>8103211063421</td>\n",
       "    </tr>\n",
       "    <tr>\n",
       "      <th>3</th>\n",
       "      <td>10104</td>\n",
       "      <td>지은경</td>\n",
       "      <td>2</td>\n",
       "      <td>8004122298371</td>\n",
       "    </tr>\n",
       "    <tr>\n",
       "      <th>4</th>\n",
       "      <td>10105</td>\n",
       "      <td>임유진</td>\n",
       "      <td>2</td>\n",
       "      <td>8301212196482</td>\n",
       "    </tr>\n",
       "    <tr>\n",
       "      <th>5</th>\n",
       "      <td>10106</td>\n",
       "      <td>서재진</td>\n",
       "      <td>1</td>\n",
       "      <td>8511291186273</td>\n",
       "    </tr>\n",
       "    <tr>\n",
       "      <th>6</th>\n",
       "      <td>10107</td>\n",
       "      <td>이광훈</td>\n",
       "      <td>4</td>\n",
       "      <td>8109131276431</td>\n",
       "    </tr>\n",
       "    <tr>\n",
       "      <th>7</th>\n",
       "      <td>10108</td>\n",
       "      <td>류민정</td>\n",
       "      <td>2</td>\n",
       "      <td>8108192157498</td>\n",
       "    </tr>\n",
       "    <tr>\n",
       "      <th>8</th>\n",
       "      <td>10201</td>\n",
       "      <td>김진영</td>\n",
       "      <td>2</td>\n",
       "      <td>8206062186327</td>\n",
       "    </tr>\n",
       "    <tr>\n",
       "      <th>9</th>\n",
       "      <td>10202</td>\n",
       "      <td>오유석</td>\n",
       "      <td>4</td>\n",
       "      <td>7709121128379</td>\n",
       "    </tr>\n",
       "    <tr>\n",
       "      <th>10</th>\n",
       "      <td>10203</td>\n",
       "      <td>하나리</td>\n",
       "      <td>1</td>\n",
       "      <td>8501092378641</td>\n",
       "    </tr>\n",
       "    <tr>\n",
       "      <th>11</th>\n",
       "      <td>10204</td>\n",
       "      <td>윤진욱</td>\n",
       "      <td>3</td>\n",
       "      <td>7904021358671</td>\n",
       "    </tr>\n",
       "    <tr>\n",
       "      <th>12</th>\n",
       "      <td>20101</td>\n",
       "      <td>이동훈</td>\n",
       "      <td>1</td>\n",
       "      <td>8312101128467</td>\n",
       "    </tr>\n",
       "    <tr>\n",
       "      <th>13</th>\n",
       "      <td>20102</td>\n",
       "      <td>박동진</td>\n",
       "      <td>1</td>\n",
       "      <td>8511241639826</td>\n",
       "    </tr>\n",
       "    <tr>\n",
       "      <th>14</th>\n",
       "      <td>20103</td>\n",
       "      <td>김진경</td>\n",
       "      <td>2</td>\n",
       "      <td>8302282169387</td>\n",
       "    </tr>\n",
       "    <tr>\n",
       "      <th>15</th>\n",
       "      <td>20104</td>\n",
       "      <td>조명훈</td>\n",
       "      <td>1</td>\n",
       "      <td>8412141254963</td>\n",
       "    </tr>\n",
       "  </tbody>\n",
       "</table>\n",
       "</div>"
      ],
      "text/plain": [
       "    studno name  grade          idnum\n",
       "0    10101  전인하      4  7907021369824\n",
       "1    10102  박미경      1  8405162123648\n",
       "2    10103  김영균      3  8103211063421\n",
       "3    10104  지은경      2  8004122298371\n",
       "4    10105  임유진      2  8301212196482\n",
       "5    10106  서재진      1  8511291186273\n",
       "6    10107  이광훈      4  8109131276431\n",
       "7    10108  류민정      2  8108192157498\n",
       "8    10201  김진영      2  8206062186327\n",
       "9    10202  오유석      4  7709121128379\n",
       "10   10203  하나리      1  8501092378641\n",
       "11   10204  윤진욱      3  7904021358671\n",
       "12   20101  이동훈      1  8312101128467\n",
       "13   20102  박동진      1  8511241639826\n",
       "14   20103  김진경      2  8302282169387\n",
       "15   20104  조명훈      1  8412141254963"
      ]
     },
     "execution_count": 18,
     "metadata": {},
     "output_type": "execute_result"
    }
   ],
   "source": [
    "df = read_sql_table('student', columns = ['studno', 'name', 'grade', 'idnum'], con = dbcon)\n",
    "df"
   ]
  },
  {
   "cell_type": "markdown",
   "metadata": {},
   "source": [
    "3. 데이터베이스 접속 해제"
   ]
  },
  {
   "cell_type": "code",
   "execution_count": 19,
   "metadata": {},
   "outputs": [],
   "source": [
    "dbcon.close()"
   ]
  },
  {
   "cell_type": "code",
   "execution_count": null,
   "metadata": {},
   "outputs": [],
   "source": []
  },
  {
   "cell_type": "code",
   "execution_count": null,
   "metadata": {},
   "outputs": [],
   "source": []
  },
  {
   "cell_type": "code",
   "execution_count": null,
   "metadata": {},
   "outputs": [],
   "source": []
  },
  {
   "cell_type": "code",
   "execution_count": null,
   "metadata": {},
   "outputs": [],
   "source": []
  },
  {
   "cell_type": "code",
   "execution_count": null,
   "metadata": {},
   "outputs": [],
   "source": []
  },
  {
   "cell_type": "code",
   "execution_count": null,
   "metadata": {},
   "outputs": [],
   "source": []
  }
 ],
 "metadata": {
  "kernelspec": {
   "display_name": "base",
   "language": "python",
   "name": "python3"
  },
  "language_info": {
   "codemirror_mode": {
    "name": "ipython",
    "version": 3
   },
   "file_extension": ".py",
   "mimetype": "text/x-python",
   "name": "python",
   "nbconvert_exporter": "python",
   "pygments_lexer": "ipython3",
   "version": "3.11.5"
  }
 },
 "nbformat": 4,
 "nbformat_minor": 2
}
