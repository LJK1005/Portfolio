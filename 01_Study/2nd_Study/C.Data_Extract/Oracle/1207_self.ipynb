{
 "cells": [
  {
   "cell_type": "code",
   "execution_count": 13,
   "metadata": {},
   "outputs": [],
   "source": [
    "import cx_Oracle as cx\n",
    "from sqlalchemy import create_engine\n",
    "from pandas import DataFrame, read_sql_table\n",
    "import datetime"
   ]
  },
  {
   "cell_type": "code",
   "execution_count": 14,
   "metadata": {},
   "outputs": [
    {
     "data": {
      "text/plain": [
       "<cx_Oracle.Connection to hr@localhost:1521/xe>"
      ]
     },
     "execution_count": 14,
     "metadata": {},
     "output_type": "execute_result"
    }
   ],
   "source": [
    "dbcon = cx.connect(\"hr\",    # 사용자 이름\n",
    "                   \"hr\",    # 비밀번호\n",
    "                   \"localhost:1521/xe\")  # 데이터베이스 서버 주소\n",
    "\n",
    "dbcon"
   ]
  },
  {
   "cell_type": "code",
   "execution_count": 15,
   "metadata": {},
   "outputs": [],
   "source": [
    "cursor = dbcon.cursor()"
   ]
  },
  {
   "cell_type": "code",
   "execution_count": 16,
   "metadata": {},
   "outputs": [],
   "source": [
    "sql = \"select * from student where weight > 70\"\n",
    "\n",
    "cursor.execute(sql)\n",
    "cursor.rowfactory = lambda *args: dict(zip([d[0] for d in cursor.description], args))\n",
    "result = cursor.fetchall()"
   ]
  },
  {
   "cell_type": "code",
   "execution_count": 17,
   "metadata": {},
   "outputs": [
    {
     "data": {
      "text/plain": [
       "[{'STUDNO': 10101,\n",
       "  'NAME': '전인하',\n",
       "  'USERID': 'jun123',\n",
       "  'GRADE': 4,\n",
       "  'IDNUM': '7907021369824',\n",
       "  'BIRTHDATE': datetime.datetime(1979, 7, 2, 0, 0),\n",
       "  'TEL': '051)781-2158',\n",
       "  'HEIGHT': 176,\n",
       "  'WEIGHT': 72,\n",
       "  'DEPTNO': 101,\n",
       "  'PROFNO': 9903},\n",
       " {'STUDNO': 10103,\n",
       "  'NAME': '김영균',\n",
       "  'USERID': 'mandu',\n",
       "  'GRADE': 3,\n",
       "  'IDNUM': '8103211063421',\n",
       "  'BIRTHDATE': datetime.datetime(1981, 3, 21, 0, 0),\n",
       "  'TEL': '051)824-9637',\n",
       "  'HEIGHT': 170,\n",
       "  'WEIGHT': 88,\n",
       "  'DEPTNO': 101,\n",
       "  'PROFNO': 9906},\n",
       " {'STUDNO': 10106,\n",
       "  'NAME': '서재진',\n",
       "  'USERID': 'seolly',\n",
       "  'GRADE': 1,\n",
       "  'IDNUM': '8511291186273',\n",
       "  'BIRTHDATE': datetime.datetime(1985, 11, 29, 0, 0),\n",
       "  'TEL': '051)239-4861',\n",
       "  'HEIGHT': 186,\n",
       "  'WEIGHT': 72,\n",
       "  'DEPTNO': 101,\n",
       "  'PROFNO': None},\n",
       " {'STUDNO': 10107,\n",
       "  'NAME': '이광훈',\n",
       "  'USERID': 'huriky',\n",
       "  'GRADE': 4,\n",
       "  'IDNUM': '8109131276431',\n",
       "  'BIRTHDATE': datetime.datetime(1981, 9, 13, 0, 0),\n",
       "  'TEL': '055)736-4981',\n",
       "  'HEIGHT': 175,\n",
       "  'WEIGHT': 92,\n",
       "  'DEPTNO': 101,\n",
       "  'PROFNO': 9903},\n",
       " {'STUDNO': 10108,\n",
       "  'NAME': '류민정',\n",
       "  'USERID': 'cleansky',\n",
       "  'GRADE': 2,\n",
       "  'IDNUM': '8108192157498',\n",
       "  'BIRTHDATE': datetime.datetime(1981, 8, 19, 0, 0),\n",
       "  'TEL': '055)248-3679',\n",
       "  'HEIGHT': 162,\n",
       "  'WEIGHT': 72,\n",
       "  'DEPTNO': 101,\n",
       "  'PROFNO': 9907},\n",
       " {'STUDNO': 10202,\n",
       "  'NAME': '오유석',\n",
       "  'USERID': 'yousuk',\n",
       "  'GRADE': 4,\n",
       "  'IDNUM': '7709121128379',\n",
       "  'BIRTHDATE': datetime.datetime(1977, 9, 12, 0, 0),\n",
       "  'TEL': '051)724-9618',\n",
       "  'HEIGHT': 177,\n",
       "  'WEIGHT': 92,\n",
       "  'DEPTNO': 102,\n",
       "  'PROFNO': 9905}]"
      ]
     },
     "execution_count": 17,
     "metadata": {},
     "output_type": "execute_result"
    }
   ],
   "source": [
    "result"
   ]
  },
  {
   "cell_type": "code",
   "execution_count": 24,
   "metadata": {},
   "outputs": [],
   "source": [
    "df = DataFrame(result)"
   ]
  },
  {
   "cell_type": "code",
   "execution_count": 19,
   "metadata": {},
   "outputs": [],
   "source": [
    "cursor.close()"
   ]
  },
  {
   "cell_type": "code",
   "execution_count": 20,
   "metadata": {},
   "outputs": [],
   "source": [
    "dbcon.close()"
   ]
  },
  {
   "cell_type": "code",
   "execution_count": 26,
   "metadata": {},
   "outputs": [
    {
     "name": "stdout",
     "output_type": "stream",
     "text": [
      "<class 'pandas.core.frame.DataFrame'>\n",
      "RangeIndex: 6 entries, 0 to 5\n",
      "Data columns (total 11 columns):\n",
      " #   Column     Non-Null Count  Dtype         \n",
      "---  ------     --------------  -----         \n",
      " 0   STUDNO     6 non-null      int64         \n",
      " 1   NAME       6 non-null      object        \n",
      " 2   USERID     6 non-null      object        \n",
      " 3   GRADE      6 non-null      int64         \n",
      " 4   IDNUM      6 non-null      object        \n",
      " 5   BIRTHDATE  6 non-null      datetime64[ns]\n",
      " 6   TEL        6 non-null      object        \n",
      " 7   HEIGHT     6 non-null      int64         \n",
      " 8   WEIGHT     6 non-null      int64         \n",
      " 9   DEPTNO     6 non-null      int64         \n",
      " 10  PROFNO     5 non-null      float64       \n",
      "dtypes: datetime64[ns](1), float64(1), int64(5), object(4)\n",
      "memory usage: 660.0+ bytes\n"
     ]
    }
   ],
   "source": [
    "df.info()"
   ]
  },
  {
   "cell_type": "code",
   "execution_count": null,
   "metadata": {},
   "outputs": [],
   "source": []
  },
  {
   "cell_type": "code",
   "execution_count": null,
   "metadata": {},
   "outputs": [],
   "source": []
  },
  {
   "cell_type": "code",
   "execution_count": null,
   "metadata": {},
   "outputs": [],
   "source": []
  },
  {
   "cell_type": "code",
   "execution_count": null,
   "metadata": {},
   "outputs": [],
   "source": []
  },
  {
   "cell_type": "code",
   "execution_count": null,
   "metadata": {},
   "outputs": [],
   "source": []
  },
  {
   "cell_type": "code",
   "execution_count": null,
   "metadata": {},
   "outputs": [],
   "source": []
  },
  {
   "cell_type": "code",
   "execution_count": null,
   "metadata": {},
   "outputs": [],
   "source": []
  },
  {
   "cell_type": "code",
   "execution_count": null,
   "metadata": {},
   "outputs": [],
   "source": []
  },
  {
   "cell_type": "code",
   "execution_count": null,
   "metadata": {},
   "outputs": [],
   "source": []
  },
  {
   "cell_type": "code",
   "execution_count": null,
   "metadata": {},
   "outputs": [],
   "source": []
  },
  {
   "cell_type": "code",
   "execution_count": null,
   "metadata": {},
   "outputs": [],
   "source": []
  }
 ],
 "metadata": {
  "kernelspec": {
   "display_name": "base",
   "language": "python",
   "name": "python3"
  },
  "language_info": {
   "codemirror_mode": {
    "name": "ipython",
    "version": 3
   },
   "file_extension": ".py",
   "mimetype": "text/x-python",
   "name": "python",
   "nbconvert_exporter": "python",
   "pygments_lexer": "ipython3",
   "version": "3.11.5"
  }
 },
 "nbformat": 4,
 "nbformat_minor": 2
}
