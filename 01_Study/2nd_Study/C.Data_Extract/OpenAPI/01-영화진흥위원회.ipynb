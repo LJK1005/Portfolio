{
 "cells": [
  {
   "cell_type": "markdown",
   "metadata": {},
   "source": [
    "# 영화진흥위원회 OpenAPI 연동\n",
    "\n",
    "## #01. OpenAPI \n",
    "\n",
    "### [1] OpenAPI의 이해\n",
    "\n",
    "누구나 사용할 수 있는 공개된 API\n",
    "\n",
    "데이터를 표준화하고 프로그래밍해 외부 소프트웨어 개발자나 사용자가 바로 활용할 수 있는 형태의 개방 형식.\n",
    "\n",
    "RESTFUL API에서 데이터 조회 기능만 제공하는 경우가 많다.\n",
    "\n",
    "### [2] QueryString\n",
    "\n",
    "다른 웹 프로그램에 URL을 통해서 전달하는 파라미터 문자열\n",
    "\n",
    "```\n",
    "https://www.naver.com/news?이름=값&이름=값...\n",
    "```\n",
    "\n",
    "웹 프로그램은 URL에 포함된 변수를 활용하여 하나의 프로그램이 변수값에 따라 다른 데이터를 표시할 수 있다.\n",
    "\n",
    "### [3] JSON 데이터를 출력하는 웹 프로그램\n",
    "\n",
    "어떤 웹 페이지가 URL에 포함된 파라미터를 통해 선택적으로 데이터를 표현할 수 있고, 이 웹페이지의 표현 형식이 JSON이라면 그 웹페이지는 파라미터에 따라 다른 내용을 제공할 수 있다.\n",
    "\n",
    "## #02. 준비과정\n",
    "\n",
    "### [1] 패키지 참조"
   ]
  },
  {
   "cell_type": "code",
   "execution_count": 1,
   "metadata": {},
   "outputs": [],
   "source": [
    "import requests\n",
    "import json\n",
    "import datetime as dt"
   ]
  },
  {
   "cell_type": "markdown",
   "metadata": {},
   "source": [
    "### [2] 접속할 데이터의 URL\n",
    "\n",
    "변수값을 치환하기 위한 형식 문자열로 구성"
   ]
  },
  {
   "cell_type": "code",
   "execution_count": 2,
   "metadata": {},
   "outputs": [],
   "source": [
    "urlFmt = \"http://www.kobis.or.kr/kobisopenapi/webservice/rest/boxoffice/searchDailyBoxOfficeList.json?key={key}&targetDt={targetDt}\""
   ]
  },
  {
   "cell_type": "markdown",
   "metadata": {},
   "source": [
    "### [3] 요청 변수\n",
    "\n",
    "#### (1) 발급받은 API 키"
   ]
  },
  {
   "cell_type": "code",
   "execution_count": 3,
   "metadata": {},
   "outputs": [],
   "source": [
    "API_KEY = \"6d2cf4aa96725383235c717f2e569f1e\""
   ]
  },
  {
   "cell_type": "markdown",
   "metadata": {},
   "source": [
    "#### (2) 하루 전 날짜 얻기"
   ]
  },
  {
   "cell_type": "code",
   "execution_count": 4,
   "metadata": {},
   "outputs": [
    {
     "data": {
      "text/plain": [
       "'20231209'"
      ]
     },
     "execution_count": 4,
     "metadata": {},
     "output_type": "execute_result"
    }
   ],
   "source": [
    "date = dt.datetime.now() - dt.timedelta(days=1)\n",
    "yesterday = date.strftime(\"%Y%m%d\")\n",
    "yesterday"
   ]
  },
  {
   "cell_type": "markdown",
   "metadata": {},
   "source": [
    "## #03. 데이터 요청하기\n",
    "\n",
    "### [1] 세션 생성"
   ]
  },
  {
   "cell_type": "code",
   "execution_count": 5,
   "metadata": {},
   "outputs": [],
   "source": [
    "session = requests.Session()\n",
    "\n",
    "session.headers.update({\n",
    "    \"Referer\": \"\",\n",
    "    \"User-Agent\": \"Mozilla/5.0 (Windows NT 10.0; Win64; x64) AppleWebKit/537.36 (KHTML, like Gecko) Chrome/120.0.0.0 Safari/537.36\"\n",
    "})"
   ]
  },
  {
   "cell_type": "markdown",
   "metadata": {},
   "source": [
    "### [2] 데이터 가져오기"
   ]
  },
  {
   "cell_type": "code",
   "execution_count": 6,
   "metadata": {},
   "outputs": [],
   "source": [
    "url = urlFmt.format(key=API_KEY, targetDt=yesterday)\n",
    "\n",
    "try:\n",
    "    r = session.get(url)\n",
    "    \n",
    "    if r.status_code != 200:\n",
    "        msg = \"[%d Error] %s 에러가 발생함\" % (r.status_code, r.reason)\n",
    "        raise Exception(msg)\n",
    "except Exception as e:\n",
    "    print(\"접속에 실패했습니다.\")\n",
    "    print(e)"
   ]
  },
  {
   "cell_type": "markdown",
   "metadata": {},
   "source": [
    "### [3] 수신된 응답 결과 확인"
   ]
  },
  {
   "cell_type": "code",
   "execution_count": 7,
   "metadata": {},
   "outputs": [
    {
     "name": "stdout",
     "output_type": "stream",
     "text": [
      "<class 'dict'>\n"
     ]
    },
    {
     "data": {
      "text/plain": [
       "{'boxOfficeResult': {'boxofficeType': '일별 박스오피스',\n",
       "  'showRange': '20231209~20231209',\n",
       "  'dailyBoxOfficeList': [{'rnum': '1',\n",
       "    'rank': '1',\n",
       "    'rankInten': '0',\n",
       "    'rankOldAndNew': 'OLD',\n",
       "    'movieCd': '20212866',\n",
       "    'movieNm': '서울의 봄',\n",
       "    'openDt': '2023-11-22',\n",
       "    'salesAmt': '6305387146',\n",
       "    'salesShare': '76.3',\n",
       "    'salesInten': '3468244688',\n",
       "    'salesChange': '122.2',\n",
       "    'salesAcc': '61338908193',\n",
       "    'audiCnt': '626195',\n",
       "    'audiInten': '336262',\n",
       "    'audiChange': '116',\n",
       "    'audiAcc': '6387789',\n",
       "    'scrnCnt': '2301',\n",
       "    'showCnt': '9332'},\n",
       "   {'rnum': '2',\n",
       "    'rank': '2',\n",
       "    'rankInten': '0',\n",
       "    'rankOldAndNew': 'OLD',\n",
       "    'movieCd': '20190324',\n",
       "    'movieNm': '3일의 휴가',\n",
       "    'openDt': '2023-12-06',\n",
       "    'salesAmt': '526035962',\n",
       "    'salesShare': '6.4',\n",
       "    'salesInten': '161596027',\n",
       "    'salesChange': '44.3',\n",
       "    'salesAcc': '1558974957',\n",
       "    'audiCnt': '53731',\n",
       "    'audiInten': '15361',\n",
       "    'audiChange': '40',\n",
       "    'audiAcc': '166266',\n",
       "    'scrnCnt': '863',\n",
       "    'showCnt': '2205'},\n",
       "   {'rnum': '3',\n",
       "    'rank': '3',\n",
       "    'rankInten': '0',\n",
       "    'rankOldAndNew': 'OLD',\n",
       "    'movieCd': '20235098',\n",
       "    'movieNm': '나폴레옹',\n",
       "    'openDt': '2023-12-06',\n",
       "    'salesAmt': '328442961',\n",
       "    'salesShare': '4.0',\n",
       "    'salesInten': '121862909',\n",
       "    'salesChange': '59',\n",
       "    'salesAcc': '1151595090',\n",
       "    'audiCnt': '30906',\n",
       "    'audiInten': '10427',\n",
       "    'audiChange': '50.9',\n",
       "    'audiAcc': '112628',\n",
       "    'scrnCnt': '761',\n",
       "    'showCnt': '1633'},\n",
       "   {'rnum': '4',\n",
       "    'rank': '4',\n",
       "    'rankInten': '0',\n",
       "    'rankOldAndNew': 'OLD',\n",
       "    'movieCd': '20202247',\n",
       "    'movieNm': '싱글 인 서울',\n",
       "    'openDt': '2023-11-29',\n",
       "    'salesAmt': '204821648',\n",
       "    'salesShare': '2.5',\n",
       "    'salesInten': '82391744',\n",
       "    'salesChange': '67.3',\n",
       "    'salesAcc': '2983291326',\n",
       "    'audiCnt': '19906',\n",
       "    'audiInten': '7101',\n",
       "    'audiChange': '55.5',\n",
       "    'audiAcc': '320138',\n",
       "    'scrnCnt': '618',\n",
       "    'showCnt': '1041'},\n",
       "   {'rnum': '5',\n",
       "    'rank': '5',\n",
       "    'rankInten': '35',\n",
       "    'rankOldAndNew': 'OLD',\n",
       "    'movieCd': '20234673',\n",
       "    'movieNm': '뽀로로 극장판 슈퍼스타 대모험',\n",
       "    'openDt': '2023-12-13',\n",
       "    'salesAmt': '152992871',\n",
       "    'salesShare': '1.9',\n",
       "    'salesInten': '151861871',\n",
       "    'salesChange': '13427.2',\n",
       "    'salesAcc': '167298871',\n",
       "    'audiCnt': '15839',\n",
       "    'audiInten': '15668',\n",
       "    'audiChange': '9162.6',\n",
       "    'audiAcc': '17919',\n",
       "    'scrnCnt': '436',\n",
       "    'showCnt': '738'},\n",
       "   {'rnum': '6',\n",
       "    'rank': '6',\n",
       "    'rankInten': '-1',\n",
       "    'rankOldAndNew': 'OLD',\n",
       "    'movieCd': '20234114',\n",
       "    'movieNm': '괴물',\n",
       "    'openDt': '2023-11-29',\n",
       "    'salesAmt': '158189754',\n",
       "    'salesShare': '1.9',\n",
       "    'salesInten': '55960873',\n",
       "    'salesChange': '54.7',\n",
       "    'salesAcc': '1799700113',\n",
       "    'audiCnt': '15217',\n",
       "    'audiInten': '4939',\n",
       "    'audiChange': '48.1',\n",
       "    'audiAcc': '189890',\n",
       "    'scrnCnt': '360',\n",
       "    'showCnt': '471'},\n",
       "   {'rnum': '7',\n",
       "    'rank': '7',\n",
       "    'rankInten': '0',\n",
       "    'rankOldAndNew': 'OLD',\n",
       "    'movieCd': '20235030',\n",
       "    'movieNm': '프레디의 피자가게',\n",
       "    'openDt': '2023-11-15',\n",
       "    'salesAmt': '139293437',\n",
       "    'salesShare': '1.7',\n",
       "    'salesInten': '113698563',\n",
       "    'salesChange': '444.2',\n",
       "    'salesAcc': '6605059767',\n",
       "    'audiCnt': '13771',\n",
       "    'audiInten': '11153',\n",
       "    'audiChange': '426',\n",
       "    'audiAcc': '677060',\n",
       "    'scrnCnt': '312',\n",
       "    'showCnt': '447'},\n",
       "   {'rnum': '8',\n",
       "    'rank': '8',\n",
       "    'rankInten': '2',\n",
       "    'rankOldAndNew': 'OLD',\n",
       "    'movieCd': '20234664',\n",
       "    'movieNm': '그대들은 어떻게 살 것인가',\n",
       "    'openDt': '2023-10-25',\n",
       "    'salesAmt': '29069820',\n",
       "    'salesShare': '0.4',\n",
       "    'salesInten': '16289194',\n",
       "    'salesChange': '127.5',\n",
       "    'salesAcc': '19371554671',\n",
       "    'audiCnt': '4095',\n",
       "    'audiInten': '2572',\n",
       "    'audiChange': '168.9',\n",
       "    'audiAcc': '1988641',\n",
       "    'scrnCnt': '87',\n",
       "    'showCnt': '103'},\n",
       "   {'rnum': '9',\n",
       "    'rank': '9',\n",
       "    'rankInten': '-3',\n",
       "    'rankOldAndNew': 'OLD',\n",
       "    'movieCd': '20235697',\n",
       "    'movieNm': '엔시티 네이션 : 투 더 월드 인 시네마',\n",
       "    'openDt': '2023-12-06',\n",
       "    'salesAmt': '91157000',\n",
       "    'salesShare': '1.1',\n",
       "    'salesInten': '33451000',\n",
       "    'salesChange': '58',\n",
       "    'salesAcc': '374318500',\n",
       "    'audiCnt': '4039',\n",
       "    'audiInten': '1416',\n",
       "    'audiChange': '54',\n",
       "    'audiAcc': '16910',\n",
       "    'scrnCnt': '85',\n",
       "    'showCnt': '214'},\n",
       "   {'rnum': '10',\n",
       "    'rank': '10',\n",
       "    'rankInten': '-1',\n",
       "    'rankOldAndNew': 'OLD',\n",
       "    'movieCd': '20210087',\n",
       "    'movieNm': '듄',\n",
       "    'openDt': '2021-10-20',\n",
       "    'salesAmt': '57901610',\n",
       "    'salesShare': '0.7',\n",
       "    'salesInten': '17038740',\n",
       "    'salesChange': '41.7',\n",
       "    'salesAcc': '18144640160',\n",
       "    'audiCnt': '3353',\n",
       "    'audiInten': '1041',\n",
       "    'audiChange': '45',\n",
       "    'audiAcc': '1633411',\n",
       "    'scrnCnt': '36',\n",
       "    'showCnt': '60'}]}}"
      ]
     },
     "execution_count": 7,
     "metadata": {},
     "output_type": "execute_result"
    }
   ],
   "source": [
    "r.encoding = \"utf-8\"\n",
    "mydict = json.loads(r.text)\n",
    "print(type(mydict))\n",
    "mydict"
   ]
  },
  {
   "cell_type": "markdown",
   "metadata": {},
   "source": [
    "## #04. 데이터 활용\n",
    "\n",
    "> 데이터를 어떻게 활용하는지는 분석 목적에 따라 다양하게 구현될 수 있다."
   ]
  },
  {
   "cell_type": "code",
   "execution_count": 8,
   "metadata": {},
   "outputs": [
    {
     "name": "stdout",
     "output_type": "stream",
     "text": [
      "fin :)\n"
     ]
    }
   ],
   "source": [
    "fname = \"박스오피스_%s.csv\" % yesterday\n",
    "with open(fname, \"w\", encoding=\"utf-8\") as f:\n",
    "    f.write(\"제목,개봉일,관람객수,누적관람객수\\n\")\n",
    "    \n",
    "    for item in mydict['boxOfficeResult']['dailyBoxOfficeList']:\n",
    "        f.write(\"%s,%s,%s,%s\\n\" % (item['movieNm'], item['openDt'], item['audiCnt'], item['audiAcc']))\n",
    "        \n",
    "print(\"fin :)\")"
   ]
  }
 ],
 "metadata": {
  "kernelspec": {
   "display_name": "Python 3",
   "language": "python",
   "name": "python3"
  },
  "language_info": {
   "codemirror_mode": {
    "name": "ipython",
    "version": 3
   },
   "file_extension": ".py",
   "mimetype": "text/x-python",
   "name": "python",
   "nbconvert_exporter": "python",
   "pygments_lexer": "ipython3",
   "version": "3.12.0"
  }
 },
 "nbformat": 4,
 "nbformat_minor": 2
}
