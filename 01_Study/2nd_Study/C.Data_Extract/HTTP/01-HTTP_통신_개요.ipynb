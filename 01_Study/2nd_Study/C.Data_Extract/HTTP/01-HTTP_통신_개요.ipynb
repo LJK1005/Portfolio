{
 "cells": [
  {
   "cell_type": "markdown",
   "metadata": {},
   "source": [
    "# HTTP 통신 개요\n",
    "\n",
    "## #01. 준비과정\n",
    "\n",
    "### [1] 패키지 참조\n",
    "\n",
    "`requests` 패키지 설치가 필요하다."
   ]
  },
  {
   "cell_type": "code",
   "execution_count": 30,
   "metadata": {},
   "outputs": [],
   "source": [
    "import requests"
   ]
  },
  {
   "cell_type": "markdown",
   "metadata": {},
   "source": [
    "### [2] 접속할 데이터의 URL"
   ]
  },
  {
   "cell_type": "code",
   "execution_count": 31,
   "metadata": {},
   "outputs": [],
   "source": [
    "url = \"https://data.hossam.kr/py/sample.txt\""
   ]
  },
  {
   "cell_type": "markdown",
   "metadata": {},
   "source": [
    "## #02. 데이터 요청하기\n",
    "\n",
    "### [1] 세션 생성\n",
    "\n",
    "| `세션`: 통신에서 말하는 하나의 접속 단위 혹은 접속을 수행하는 객체"
   ]
  },
  {
   "cell_type": "code",
   "execution_count": 32,
   "metadata": {},
   "outputs": [],
   "source": [
    "# 접속 객체 생성\n",
    "session = requests.Session()"
   ]
  },
  {
   "cell_type": "markdown",
   "metadata": {},
   "source": [
    "### [2] 세션에 클라이언트 정보 주입\n",
    "\n",
    "일부 웹 시스템은 정상적인 웹 브라우저의 접속이 아닌경우 응답을 거부하도록 구현되어 있다."
   ]
  },
  {
   "cell_type": "code",
   "execution_count": 33,
   "metadata": {},
   "outputs": [],
   "source": [
    "session.headers.update({\n",
    "    \"Referer\": \"\",\n",
    "    \"User-Agent\": \"Mozilla/5.0 (Windows NT 10.0; Win64; x64) AppleWebKit/537.36 (KHTML, like Gecko) Chrome/120.0.0.0 Safari/537.36\"\n",
    "})"
   ]
  },
  {
   "cell_type": "markdown",
   "metadata": {},
   "source": [
    "### [3] 데이터 가져오기\n",
    "\n",
    "#### HTTP 상태값\n",
    "\n",
    "웹 사이트 도메인 자체가 잘못된 경우는 접속 자체가 불가능하기 때문에 python단에서 예외가 발생한다. 이 경우 예외처리 구문으로 대응할 수 있다.\n",
    "\n",
    "웹 사이트 도메인은 정상이지만 그 사이트 안에서 존재하지 않는 페이지에 접근할 경우 예외가 발생하지 않는다.\n",
    "\n",
    "이 때는 웹 사이트에서 반환하는 결과값(`r.status_code`)로 접속의 성공/실패 여부를 판별해야 하는데 이를 HTTP 상태값이라고 한다.\n",
    "\n",
    "| 상태값 | 설명 |\n",
    "|---|---|\n",
    "| 200 | OK |\n",
    "| 400 | 잘못된 요청 (URL 형식 에러) |\n",
    "| 401 | 권한 없음 |\n",
    "| 403 | 서버가 요청 거부 |\n",
    "| 404 | 페이지를 찾을 수 없음 |\n",
    "| 500 | 내부 서버 오류 (접속 대상 시스템의 에러) |\n",
    "| 501 | 구현되지 않음 |"
   ]
  },
  {
   "cell_type": "code",
   "execution_count": 34,
   "metadata": {},
   "outputs": [],
   "source": [
    "try:\n",
    "    r = session.get(url)\n",
    "    \n",
    "    if r.status_code != 200:\n",
    "        msg = \"[%d Error] %s 에러가 발생함\" % (r.status_code, r.reason)\n",
    "        raise Exception(msg)\n",
    "except Exception as e:\n",
    "    print(\"접속에 실패했습니다.\")\n",
    "    print(e)"
   ]
  },
  {
   "cell_type": "markdown",
   "metadata": {},
   "source": [
    "### [4] 수신된 응답 결과 확인"
   ]
  },
  {
   "cell_type": "code",
   "execution_count": 35,
   "metadata": {},
   "outputs": [
    {
     "name": "stdout",
     "output_type": "stream",
     "text": [
      "<class 'str'>\n",
      "안녕하세요.\n",
      "\n",
      "이 파일은 HTTP Client 기능을 구현한 후 결과를 확인하기 위한 샘플 파일입니다.\n",
      "\n"
     ]
    }
   ],
   "source": [
    "r.encoding = \"utf-8\"\n",
    "print(type(r.text))\n",
    "print(r.text)"
   ]
  }
 ],
 "metadata": {
  "kernelspec": {
   "display_name": "Python 3",
   "language": "python",
   "name": "python3"
  },
  "language_info": {
   "codemirror_mode": {
    "name": "ipython",
    "version": 3
   },
   "file_extension": ".py",
   "mimetype": "text/x-python",
   "name": "python",
   "nbconvert_exporter": "python",
   "pygments_lexer": "ipython3",
   "version": "3.11.5"
  }
 },
 "nbformat": 4,
 "nbformat_minor": 2
}
