{
 "cells": [
  {
   "cell_type": "markdown",
   "metadata": {},
   "source": [
    "# 10강 리스트의 이해"
   ]
  },
  {
   "cell_type": "markdown",
   "metadata": {},
   "source": [
    "- 리스트 : 변수를 그룹으로 묶은 형태의 한 종류, 대괄호[]에 값들을 담을 수 있으며 서로 다른 타입의 데이터들이 저장될 수 있음\n",
    "  - 리스트에는 각 변수의 칸이 있으며, 0부터 일련번호가 지정됨(인덱스)"
   ]
  },
  {
   "cell_type": "code",
   "execution_count": 5,
   "metadata": {},
   "outputs": [
    {
     "data": {
      "text/plain": [
       "[98, 82, 73, 64, 100]"
      ]
     },
     "execution_count": 5,
     "metadata": {},
     "output_type": "execute_result"
    }
   ],
   "source": [
    "# 5명의 학생에 대한 성적 나열 -> 정수형의 원소만 갖는 리스트\n",
    "grade = [98, 82, 73, 64, 100]\n",
    "grade"
   ]
  },
  {
   "cell_type": "code",
   "execution_count": 6,
   "metadata": {},
   "outputs": [
    {
     "data": {
      "text/plain": [
       "['철수', '영희', '나영', '민식', '호영']"
      ]
     },
     "execution_count": 6,
     "metadata": {},
     "output_type": "execute_result"
    }
   ],
   "source": [
    "# 각 학생의 이름에 대한 나열 -> 문자열 타입의 원소만 갖는 리스트\n",
    "names = [\"철수\", \"영희\", \"나영\", \"민식\", \"호영\"]\n",
    "names"
   ]
  },
  {
   "cell_type": "code",
   "execution_count": 7,
   "metadata": {},
   "outputs": [
    {
     "data": {
      "text/plain": [
       "['철수', 17, 162.4, 68.5, '남자', True]"
      ]
     },
     "execution_count": 7,
     "metadata": {},
     "output_type": "execute_result"
    }
   ],
   "source": [
    "# 서로 다른 자료형들을 함께 사용 가능\n",
    "student = [\"철수\", 17, 162.4, 68.5, \"남자\", True]\n",
    "student"
   ]
  },
  {
   "cell_type": "markdown",
   "metadata": {},
   "source": [
    "- 리스트에 존재하지 않는 인덱스에는 접근할 수 없음\n",
    "  - 데이터 변경, 추가가 순차적이더라도 일단 인덱스가 없으면 적용 불가"
   ]
  },
  {
   "cell_type": "code",
   "execution_count": 8,
   "metadata": {},
   "outputs": [
    {
     "name": "stdout",
     "output_type": "stream",
     "text": [
      "10\n",
      "20\n",
      "30\n"
     ]
    }
   ],
   "source": [
    "# 인덱스 번호를 통해 각 원소에 접근할 수 있다.\n",
    "items = [10, 20, 30]\n",
    "print(items[0])\n",
    "print(items[1])\n",
    "print(items[2])"
   ]
  },
  {
   "cell_type": "code",
   "execution_count": 9,
   "metadata": {},
   "outputs": [
    {
     "name": "stdout",
     "output_type": "stream",
     "text": [
      "[100, 200, 300]\n",
      "[0, 50, 100]\n"
     ]
    }
   ],
   "source": [
    "# 값의 변경\n",
    "mydata = [100, 200, 300]\n",
    "print(mydata)\n",
    "\n",
    "mydata[0] = 0\n",
    "mydata[1] = mydata[1] - 150\n",
    "mydata[2] //= 3\n",
    "print(mydata)"
   ]
  },
  {
   "cell_type": "code",
   "execution_count": 10,
   "metadata": {},
   "outputs": [
    {
     "name": "stdout",
     "output_type": "stream",
     "text": [
      "철수(이)의 점수는 92점 입니다.\n",
      "민영(이)의 점수는 86점 입니다.\n",
      "영수(이)의 점수는 91점 입니다.\n"
     ]
    }
   ],
   "source": [
    "stud1 = ['철수', 92]\n",
    "stud2 = ['민영', 86]\n",
    "stud3 = ['영수', 91]\n",
    "\n",
    "# 리스트의 원소를 직접 출력하는 활용 예시\n",
    "msg = \"{0}(이)의 점수는 {1}점 입니다.\"\n",
    "print(msg.format(stud1[0], stud1[1]))\n",
    "print(msg.format(stud2[0], stud2[1]))\n",
    "print(msg.format(stud3[0], stud3[1]))"
   ]
  },
  {
   "cell_type": "markdown",
   "metadata": {},
   "source": [
    "- 리스트의 연산\n",
    "  - 덧셈 : 리스트끼리 덧셈을 하면 리스트가 순서대로 연결됨\n",
    "    - 리스트에는 숫자나 문자를 더할 수 없음\n",
    "  - 곱셈 : 리스트에 자연수를 곱하면 리스트가 해당 수만큼 반복되는 리스트가 생성됨\n",
    "    - 리스트끼리는 곱할 수 없음"
   ]
  },
  {
   "cell_type": "code",
   "execution_count": 11,
   "metadata": {},
   "outputs": [
    {
     "name": "stdout",
     "output_type": "stream",
     "text": [
      "[10, 20, 30]\n",
      "[40, 50, 60]\n"
     ]
    }
   ],
   "source": [
    "# 실습을 위한 리스트 정의\n",
    "list1 = [10, 20, 30]\n",
    "list2 = [40, 50, 60]\n",
    "print(list1)\n",
    "print(list2)"
   ]
  },
  {
   "cell_type": "code",
   "execution_count": 12,
   "metadata": {},
   "outputs": [
    {
     "name": "stdout",
     "output_type": "stream",
     "text": [
      "[10, 20, 30, 40, 50, 60]\n"
     ]
    }
   ],
   "source": [
    "# 리스트끼리의 덧셈은 단순 병함\n",
    "list3 = list1 + list2\n",
    "print(list3)"
   ]
  },
  {
   "cell_type": "code",
   "execution_count": 13,
   "metadata": {},
   "outputs": [
    {
     "name": "stdout",
     "output_type": "stream",
     "text": [
      "[10, 20, 30, 10, 20, 30, 10, 20, 30, 10, 20, 30, 10, 20, 30]\n"
     ]
    }
   ],
   "source": [
    "# 리스트와 정수의 곱셈은 동일 내용을 반복한다.\n",
    "list4 = list1 * 5\n",
    "print(list4)"
   ]
  },
  {
   "cell_type": "code",
   "execution_count": null,
   "metadata": {},
   "outputs": [],
   "source": [
    "# 리스트의 연산 에러케이스\n",
    "\n",
    "print(list1 + 10) # 리스트 + 정수\n",
    "print(list1 + \"hi\") # 리스트 + 문자열\n",
    "print(list1 * list2) # 리스트 * 리스트"
   ]
  },
  {
   "cell_type": "markdown",
   "metadata": {},
   "source": [
    "## 2차원 리스트"
   ]
  },
  {
   "cell_type": "markdown",
   "metadata": {},
   "source": [
    "- 1차원 리스트 : 1단으로만 존재하는 리스트로 열 개념만 존재\n",
    "- 2차원 리스트 : 1차원 리스트의 원소에 새로운 리스트를 넣은 형태\n",
    "  - 1차원 리스트의 각 칸은 행, 행별로 추가된 리스트가 열의 개념이 되어 행렬을 구성함\n",
    "- 다차원 리스트 : 리스트 내부에 리스트를 계속 넣어 여러 단계로 구성된 리스트\n",
    "  - 실무에서는 2차원 리스트를 초과하는 형태는 잘 쓰지 않음"
   ]
  },
  {
   "cell_type": "code",
   "execution_count": 14,
   "metadata": {},
   "outputs": [
    {
     "name": "stdout",
     "output_type": "stream",
     "text": [
      "[['철수', 98], ['영희', 82], ['나영', 73]]\n"
     ]
    }
   ],
   "source": [
    "# 각 학생별 이름, 점수 정의\n",
    "stud1 = [\"철수\", 98]\n",
    "stud2 = [\"영희\", 82]\n",
    "stud3 = [\"나영\", 73]\n",
    "\n",
    "# 리스트를 원소로 갖는 새로운 리스트 정의\n",
    "studentGroup = [stud1, stud2, stud3]\n",
    "print(studentGroup)"
   ]
  },
  {
   "cell_type": "code",
   "execution_count": 15,
   "metadata": {},
   "outputs": [
    {
     "name": "stdout",
     "output_type": "stream",
     "text": [
      "[['민식', 64, 172.3], ['호영', 100, 175.8], ['철민', 89, 168.7]]\n"
     ]
    }
   ],
   "source": [
    "# 2차원 리스트의 일괄 생성\n",
    "# -> 바깥의 리스트에 속한 원소들은 행을 구성하고, 안쪽의 리스트에 속한 원소들은 열을 구성한다.\n",
    "\n",
    "studentGroup2 = [\n",
    "    [\"민식\", 64, 172.3],\n",
    "    [\"호영\", 100, 175.8],\n",
    "    [\"철민\", 89, 168.7]\n",
    "]\n",
    "\n",
    "print(studentGroup2)"
   ]
  },
  {
   "cell_type": "code",
   "execution_count": 16,
   "metadata": {},
   "outputs": [],
   "source": [
    "# 실습을 위한 리스트 정의\n",
    "학생 = [[\"민식\", 64, 172.3], [\"호영\", 100, 175.8], [\"철민\", 89, 168.7]]"
   ]
  },
  {
   "cell_type": "code",
   "execution_count": 17,
   "metadata": {},
   "outputs": [
    {
     "name": "stdout",
     "output_type": "stream",
     "text": [
      "['민식', 64, 172.3]\n"
     ]
    }
   ],
   "source": [
    "# 0번째 행에 대한 접근\n",
    "print(학생[0])"
   ]
  },
  {
   "cell_type": "code",
   "execution_count": 18,
   "metadata": {},
   "outputs": [
    {
     "name": "stdout",
     "output_type": "stream",
     "text": [
      "['호영', 100, 175.8]\n"
     ]
    }
   ],
   "source": [
    "# 1번째 행에 대한 접근\n",
    "print(학생[1])"
   ]
  },
  {
   "cell_type": "code",
   "execution_count": 19,
   "metadata": {},
   "outputs": [
    {
     "name": "stdout",
     "output_type": "stream",
     "text": [
      "['철민', 89, 168.7]\n"
     ]
    }
   ],
   "source": [
    "# 2번째 행에 대한 접근\n",
    "print(학생[2])"
   ]
  },
  {
   "cell_type": "code",
   "execution_count": 20,
   "metadata": {},
   "outputs": [],
   "source": [
    "# 문자열 형식 지정\n",
    "fmt = \"{name}(이)의 몸무게는 {weight}kg이고, 키는 {height}cm 입니다.\""
   ]
  },
  {
   "cell_type": "code",
   "execution_count": 21,
   "metadata": {},
   "outputs": [
    {
     "name": "stdout",
     "output_type": "stream",
     "text": [
      "민식(이)의 몸무게는 64kg이고, 키는 172.3cm 입니다.\n",
      "호영(이)의 몸무게는 100kg이고, 키는 175.8cm 입니다.\n",
      "철민(이)의 몸무게는 89kg이고, 키는 168.7cm 입니다.\n"
     ]
    }
   ],
   "source": [
    "print(fmt.format(name = 학생[0][0], weight = 학생[0][1], height = 학생[0][2]))\n",
    "print(fmt.format(name = 학생[1][0], weight = 학생[1][1], height = 학생[1][2]))\n",
    "print(fmt.format(name = 학생[2][0], weight = 학생[2][1], height = 학생[2][2]))"
   ]
  },
  {
   "cell_type": "code",
   "execution_count": null,
   "metadata": {},
   "outputs": [],
   "source": []
  },
  {
   "cell_type": "code",
   "execution_count": null,
   "metadata": {},
   "outputs": [],
   "source": []
  },
  {
   "cell_type": "code",
   "execution_count": null,
   "metadata": {},
   "outputs": [],
   "source": []
  },
  {
   "cell_type": "code",
   "execution_count": null,
   "metadata": {},
   "outputs": [],
   "source": []
  },
  {
   "cell_type": "code",
   "execution_count": null,
   "metadata": {},
   "outputs": [],
   "source": []
  },
  {
   "cell_type": "code",
   "execution_count": null,
   "metadata": {},
   "outputs": [],
   "source": []
  },
  {
   "cell_type": "code",
   "execution_count": null,
   "metadata": {},
   "outputs": [],
   "source": []
  },
  {
   "cell_type": "code",
   "execution_count": null,
   "metadata": {},
   "outputs": [],
   "source": []
  },
  {
   "cell_type": "code",
   "execution_count": null,
   "metadata": {},
   "outputs": [],
   "source": []
  },
  {
   "cell_type": "code",
   "execution_count": null,
   "metadata": {},
   "outputs": [],
   "source": []
  },
  {
   "cell_type": "code",
   "execution_count": null,
   "metadata": {},
   "outputs": [],
   "source": []
  },
  {
   "cell_type": "code",
   "execution_count": null,
   "metadata": {},
   "outputs": [],
   "source": []
  },
  {
   "cell_type": "code",
   "execution_count": null,
   "metadata": {},
   "outputs": [],
   "source": []
  },
  {
   "cell_type": "code",
   "execution_count": null,
   "metadata": {},
   "outputs": [],
   "source": []
  }
 ],
 "metadata": {
  "kernelspec": {
   "display_name": "Python 3",
   "language": "python",
   "name": "python3"
  },
  "language_info": {
   "codemirror_mode": {
    "name": "ipython",
    "version": 3
   },
   "file_extension": ".py",
   "mimetype": "text/x-python",
   "name": "python",
   "nbconvert_exporter": "python",
   "pygments_lexer": "ipython3",
   "version": "3.9.13"
  }
 },
 "nbformat": 4,
 "nbformat_minor": 2
}
