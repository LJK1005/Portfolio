{
 "cells": [
  {
   "cell_type": "markdown",
   "metadata": {},
   "source": [
    "# 25강 클래스와 객체"
   ]
  },
  {
   "cell_type": "markdown",
   "metadata": {},
   "source": [
    "- 객체지향 언어 (4세대 언어)\n",
    "  - 객체가 중심이 되는 프로그래밍 패러다임(유행)\n",
    "- 객체(=Object)\n",
    "  - 필요에 따라 다른 변수와 함수를 내장하고 있는 특수한 형태의 변수"
   ]
  },
  {
   "cell_type": "markdown",
   "metadata": {},
   "source": [
    "- 객체를 구성하는 단위\n",
    "  - 객체는 데이터와 기능으로 구성됨\n",
    "    - 데이터는 변수로 표현되며, 객체 안에 포함된 변수를 멤버변수라고 칭함 (명사적 특성)\n",
    "    - 기능은 함수로 표현되며, 객체 안에 포함된 함수는 메서드라고 칭함 (동사적 특성)"
   ]
  },
  {
   "cell_type": "markdown",
   "metadata": {},
   "source": [
    "- 프로그래밍의 데이터 종류\n",
    "  - 변수 : 단일 데이터\n",
    "  - 배열 : 같은 종류의 데이터만 묶어 그룹화\n",
    "  - 구조체 : 서로 다른 종류의 데이터를 그룹화\n",
    "  - 클래스 객체 : 함수를 포함하는 구조체\n",
    "  - 객체 배열 : 객체를 그룹화 (크기가 제한됨)\n",
    "  - List (Hash Array) : 크기 제한이 없으며, 종류를 가리지 않는 컬렉션\n",
    "    - 파이썬은 이 구조를 따르지 않아 변수 -> 리스트로 바로 개념이 이동함"
   ]
  },
  {
   "cell_type": "markdown",
   "metadata": {},
   "source": [
    "- 클래스(Class)\n",
    "  - 객체의 설계도 역할을 하는 프로그램 소스\n",
    "    - 클래스를 이용하면 동일한 구조를 갖는 객체를 여러 개 생성할 수 있음\n",
    "    - 생성된 객체는 각각 독립적으로 동작함"
   ]
  },
  {
   "cell_type": "markdown",
   "metadata": {},
   "source": [
    "- 클래스의 구조\n",
    "  - class라는 예약어와 클래스의 이름을 명시하고 콜론으로 블록을 구성함\n",
    "  - 내부에 멤버변수와 메서드가 포함\n",
    "    - 메서드를 정의 할 때에는 변수 설정시 반드시 첫번쨰로 self를 명시해야 함\n",
    "  - 멤버변수, 메서드, 혹은 두가지 모두를 포함하는 클래스는 자유롭게 설정 가능"
   ]
  },
  {
   "cell_type": "markdown",
   "metadata": {},
   "source": [
    "- 클래스의 호출\n",
    "  - 클래스이름()의 형태로 변수에 저장하면 클래스 객체가 됨\n",
    "    - 변수에 저장된 객체는 클래스의 모든 기능을 부여받음\n",
    "  - 클래스가 부여된 객체는 멤버변수나 메서드에 점(.)을 통해서 호출할 수 있음"
   ]
  },
  {
   "cell_type": "code",
   "execution_count": 1,
   "metadata": {},
   "outputs": [],
   "source": [
    "# 변수들을 그룹화 한 클래스 정의\n",
    "class Member:\n",
    "    userid = None\n",
    "    email = None\n",
    "    phone = None"
   ]
  },
  {
   "cell_type": "code",
   "execution_count": 2,
   "metadata": {},
   "outputs": [
    {
     "name": "stdout",
     "output_type": "stream",
     "text": [
      "leekh\n",
      "leekh@naver.com\n",
      "01023456789\n"
     ]
    }
   ],
   "source": [
    "# 객체 생성하기 -> 변수이름 = 클래스이름()\n",
    "mem1 = Member()\n",
    "\n",
    "# 객체의 멤버변수에 데이터 저장하기\n",
    "mem1.userid = \"leekh\"\n",
    "mem1.email = 'leekh@naver.com'\n",
    "mem1.phone = '01023456789'\n",
    "\n",
    "# 객체에게 부여된 멤버변수 출력하기\n",
    "print(mem1.userid)\n",
    "print(mem1.email)\n",
    "print(mem1.phone)"
   ]
  },
  {
   "cell_type": "code",
   "execution_count": 3,
   "metadata": {},
   "outputs": [
    {
     "name": "stdout",
     "output_type": "stream",
     "text": [
      "life\n",
      "life@naver.com\n",
      "01098765432\n"
     ]
    }
   ],
   "source": [
    "# 객체 안에 내장된 변수는 일반 변수와 동일하게 사용 가능.\n",
    "# -> 값을 변경하는 것도 가능.\n",
    "\n",
    "mem1.userid = \"life\"\n",
    "mem1.email = \"life@naver.com\"\n",
    "mem1.phone = \"01098765432\"\n",
    "print(mem1.userid)\n",
    "print(mem1.email)\n",
    "print(mem1.phone)"
   ]
  },
  {
   "cell_type": "code",
   "execution_count": 4,
   "metadata": {},
   "outputs": [
    {
     "name": "stdout",
     "output_type": "stream",
     "text": [
      "hello\n",
      "hello@daum.com\n",
      "01087682342\n"
     ]
    }
   ],
   "source": [
    "mem2 = Member()\n",
    "mem2.userid = \"hello\"\n",
    "mem2.email = \"hello@daum.com\"\n",
    "mem2.phone = \"01087682342\"\n",
    "print(mem2.userid)\n",
    "print(mem2.email)\n",
    "print(mem2.phone)"
   ]
  },
  {
   "cell_type": "markdown",
   "metadata": {},
   "source": [
    "- 클래스의 메서드\n",
    "  - 메서드는 정의할 때 첫 번째 파라미터로 self 부여\n",
    "    - 실제 메서드를 실행할 때 self에 해당되는 값은 넣을 필요가 없음\n",
    "    - self가 사용되는 경우\n",
    "      - 클래스 내의 메서드 간에 서로 호출이 필요할 경우 클래스명을 self로 칭하여 클래스 내부 메서드를 호출할 수 있음"
   ]
  },
  {
   "cell_type": "code",
   "execution_count": 5,
   "metadata": {},
   "outputs": [],
   "source": [
    "class Calc:\n",
    "    # 클래스에 포함되는 함수들은 반드시 첫 번째 파라미터 self를 정의해야 한다.\n",
    "    def plus(self, x, y):\n",
    "        return x + y\n",
    "    \n",
    "    def minus(self, x, y):\n",
    "        return x - y\n",
    "    \n",
    "    def all(self, x, y):\n",
    "        # 같은 클래스에 소속된 함수들끼리 호출할 경우\n",
    "        # self.함수이름() 형식으로 접근 가능.\n",
    "        a = self.plus(x, y)\n",
    "        b = self.minus(x, y)\n",
    "\n",
    "        # 튜플로 묶어서 여러개의 값을 한번에 리턴\n",
    "        return (a, b)"
   ]
  },
  {
   "cell_type": "code",
   "execution_count": 6,
   "metadata": {},
   "outputs": [
    {
     "name": "stdout",
     "output_type": "stream",
     "text": [
      "30\n",
      "50\n"
     ]
    }
   ],
   "source": [
    "# 생성되는 객체는 클래스에 정의된 모든 함수를 부여받는다.\n",
    "my = Calc()\n",
    "\n",
    "# 메서드(=함수)에 정의된 self는 호출시에 값을 전달하지 않는다.\n",
    "print(my.plus(10, 20))\n",
    "print(my.minus(100, 50))"
   ]
  },
  {
   "cell_type": "code",
   "execution_count": 7,
   "metadata": {},
   "outputs": [
    {
     "name": "stdout",
     "output_type": "stream",
     "text": [
      "(300, -100)\n",
      "300\n",
      "-100\n"
     ]
    }
   ],
   "source": [
    "k = my.all(100, 200)\n",
    "print(k)\n",
    "print(k[0])\n",
    "print(k[1])"
   ]
  },
  {
   "cell_type": "code",
   "execution_count": 8,
   "metadata": {},
   "outputs": [
    {
     "name": "stdout",
     "output_type": "stream",
     "text": [
      "400\n",
      "200\n"
     ]
    }
   ],
   "source": [
    "p, m = my.all(300, 100)\n",
    "print(p)\n",
    "print(m)"
   ]
  },
  {
   "cell_type": "markdown",
   "metadata": {},
   "source": [
    "- 지역변수와 전역변수\n",
    "  - 전역변수 : 클래스에서 정의된 멤버변수는 메서드를 포함한 모든 클래스 객체 내에서 활용가능함\n",
    "  - 지역변수 : 클래스 내부 메서드에서 정의된 변수는 해당 메서드 내에서만 사용 가능"
   ]
  },
  {
   "cell_type": "code",
   "execution_count": 9,
   "metadata": {},
   "outputs": [],
   "source": [
    "# 변수와 함수를 모두 내장하는 클래스 정의\n",
    "class Member:\n",
    "    # 클래스 레벨에서 정의된 변수는 내장되어 있는 함수들끼리 공유한다. (= 전역변수)\n",
    "    username = None\n",
    "    email = None\n",
    "\n",
    "    def join(self, username, email):\n",
    "        # 파라미터로 전달된 값들을 멤버변수에 복사 -> 데이터 입력\n",
    "        # 파라미터나 메서드 안에서 정의된 변수들은 그 함수 밖에서는 식별할 수 없음(지역변수)\n",
    "        self.username = username\n",
    "        self.email = email\n",
    "\n",
    "    def view_info(self):\n",
    "        # join()에 의해서 설정된 값들을 활용 -> 데이터 출력\n",
    "        print(self.username)\n",
    "        print(self.email)"
   ]
  },
  {
   "cell_type": "code",
   "execution_count": 11,
   "metadata": {},
   "outputs": [
    {
     "name": "stdout",
     "output_type": "stream",
     "text": [
      "leekh\n",
      "leekh@gmail.com\n"
     ]
    }
   ],
   "source": [
    "# 클래스의 기능을 객체에 부여하기\n",
    "mem1 = Member()\n",
    "mem1.join(\"leekh\", \"leekh@gmail.com\")\n",
    "mem1.view_info()"
   ]
  },
  {
   "cell_type": "markdown",
   "metadata": {},
   "source": [
    "- 생성자\n",
    "  - 객체가 생성될 때 자동으로 실행되는 특수한 형태의 메서드\n",
    "    - 값을 리턴하지 않음 (return을 적어도 작동하지 않음)\n",
    "    - 메서드 이름은 __init__으로 고정\n",
    "    - 객체 생성 시 특성(멤버변수)를 초기화하기 위해 사용함\n",
    "    - 생성자도 메서드이기 때문에 파라미터 부여가 가능하며, 해당 파라미터에 들어갈 변수는 클래스 객체 생성시에 전달이 필요함\n",
    "      - 다수의 객체 생성 시 코드 축약이 가능함"
   ]
  },
  {
   "cell_type": "code",
   "execution_count": 12,
   "metadata": {},
   "outputs": [],
   "source": [
    "# 생성자를 갖는 클래스 정의하기\n",
    "class UserAccount:\n",
    "    # 멤버변수의 정의\n",
    "    username = None\n",
    "    email = None\n",
    "\n",
    "    # 생성자를 통한 멤버변수 초기화\n",
    "    def __init__(self):\n",
    "        print(\"----- 생성자가 실행되었습니다. -----\")\n",
    "        self.username = \"야옹이\"\n",
    "        self.email = \"yaong@gmail.com\"\n",
    "\n",
    "    def say_hello(self):\n",
    "        tpl = \"안녕하세요, 저는 {0}이고, 이메일은 {1}입니다.\"\n",
    "        print(tpl.format(self.username, self.email))"
   ]
  },
  {
   "cell_type": "code",
   "execution_count": 13,
   "metadata": {},
   "outputs": [
    {
     "name": "stdout",
     "output_type": "stream",
     "text": [
      "----- 생성자가 실행되었습니다. -----\n"
     ]
    }
   ],
   "source": [
    "# 객체를 생성과 동시에 생성자가 자동으로 실행됨을 알 수 있음\n",
    "ua = UserAccount()"
   ]
  },
  {
   "cell_type": "code",
   "execution_count": 14,
   "metadata": {},
   "outputs": [
    {
     "name": "stdout",
     "output_type": "stream",
     "text": [
      "안녕하세요, 저는 야옹이이고, 이메일은 yaong@gmail.com입니다.\n"
     ]
    }
   ],
   "source": [
    "# 메서드를 호출하면 생성자에 의해 멤버변수에 할당된 값이 출력된다.\n",
    "ua.say_hello()"
   ]
  },
  {
   "cell_type": "code",
   "execution_count": 15,
   "metadata": {},
   "outputs": [],
   "source": [
    "# 파라미터를 갖는 생성자 정의\n",
    "class UserInfo:\n",
    "    username = None\n",
    "    email = None\n",
    "\n",
    "    def __init__(self, username, email):\n",
    "        print(\"----- 생성자가 실행되었습니다. -----\")\n",
    "        self.username = username\n",
    "        self.email = email\n",
    "\n",
    "    def view_info(self):\n",
    "        tpl = \"이름 : {0} / 이메일 : {1}\"\n",
    "        print(tpl.format(self.username, self.email))"
   ]
  },
  {
   "cell_type": "code",
   "execution_count": 16,
   "metadata": {},
   "outputs": [
    {
     "name": "stdout",
     "output_type": "stream",
     "text": [
      "----- 생성자가 실행되었습니다. -----\n",
      "이름 : 야옹이 / 이메일 : yaong@gmail.com\n"
     ]
    }
   ],
   "source": [
    "# 생성자가 파라미터를 갖는 클래스에 대한 객체를 생성\n",
    "uinfo = UserInfo(\"야옹이\", \"yaong@gmail.com\")\n",
    "uinfo.view_info()"
   ]
  },
  {
   "cell_type": "code",
   "execution_count": 17,
   "metadata": {},
   "outputs": [],
   "source": [
    "class Unit:\n",
    "    name = None\n",
    "    hp = None\n",
    "    dps = None\n",
    "\n",
    "    # 객체의 특성을 초기화 하기 위한 생성자 정의\n",
    "    def __init__(self, name, hp, dps):\n",
    "        self.name = name # 이름\n",
    "        self.hp = hp # 체력(health point)\n",
    "        self.dps = dps # 초당공격력(damage per second)\n",
    "        print(\"[%s] 체력 : %d, 공격력 : %d\" % (name, hp, dps))\n",
    "\n",
    "    # 객체가 수행해야 하는 동작들을 함수 형태로 정의\n",
    "    def move(self, position):\n",
    "        print(\"%s(이)가 %s까지 이동합니다.\" % (self.name, position))\n",
    "\n",
    "    def attack(self, target):\n",
    "        print(\"%s(이)가 %s(을)를 공격합니다. 데미지 : %d\" % (self.name, target, self.dps))"
   ]
  },
  {
   "cell_type": "code",
   "execution_count": 18,
   "metadata": {},
   "outputs": [
    {
     "name": "stdout",
     "output_type": "stream",
     "text": [
      "[질럿1호] 체력 : 100, 공격력 : 10\n",
      "[질럿2호] 체력 : 100, 공격력 : 12\n",
      "[드라군1호] 체력 : 120, 공격력 : 20\n",
      "[드라군4호] 체력 : 150, 공격력 : 35\n"
     ]
    }
   ],
   "source": [
    "# 객체를 생성하면서 생성자를 통해 각 객체의 특성을 정의\n",
    "u1 = Unit(\"질럿1호\", 100, 10)\n",
    "u2 = Unit(\"질럿2호\", 100, 12)\n",
    "u3 = Unit(\"드라군1호\", 120, 20)\n",
    "u4 = Unit(\"드라군4호\", 150, 35)"
   ]
  },
  {
   "cell_type": "code",
   "execution_count": 20,
   "metadata": {},
   "outputs": [
    {
     "name": "stdout",
     "output_type": "stream",
     "text": [
      "질럿1호(이)가 적 본진까지 이동합니다.\n",
      "드라군1호(이)가 적 본진까지 이동합니다.\n",
      "질럿1호(이)가 적 본진(을)를 공격합니다. 데미지 : 10\n",
      "드라군1호(이)가 적 본진(을)를 공격합니다. 데미지 : 20\n",
      "질럿2호(이)가 적 멀티까지 이동합니다.\n",
      "드라군4호(이)가 적 멀티까지 이동합니다.\n",
      "질럿2호(이)가 적 멀티(을)를 공격합니다. 데미지 : 12\n",
      "드라군4호(이)가 적 멀티(을)를 공격합니다. 데미지 : 35\n"
     ]
    }
   ],
   "source": [
    "u1.move(\"적 본진\")\n",
    "u3.move(\"적 본진\")\n",
    "u1.attack(\"적 본진\")\n",
    "u3.attack(\"적 본진\")\n",
    "\n",
    "u2.move(\"적 멀티\")\n",
    "u4.move(\"적 멀티\")\n",
    "u2.attack(\"적 멀티\")\n",
    "u4.attack(\"적 멀티\")"
   ]
  },
  {
   "cell_type": "markdown",
   "metadata": {},
   "source": [
    "- 정보은닉\n",
    "  - 객체지향 언어적 요소(문법)을 이용하여 객체에 대한 구체적인 정보(멤버변수)를 노출시키지 않도록 하는 기법\n",
    "  - 객체를 사용하는 측의 실수로 인한 오작동 방지"
   ]
  },
  {
   "cell_type": "code",
   "execution_count": 101,
   "metadata": {},
   "outputs": [],
   "source": [
    "class SchoolMember:\n",
    "    point = None\n",
    "\n",
    "    def __init__(self, p = 0):\n",
    "        self.setPoint(p)\n",
    "\n",
    "    def setPoint(self, value):\n",
    "        if value < 0:\n",
    "            value = 0\n",
    "\n",
    "        if value > 100:\n",
    "            value = 100\n",
    "\n",
    "        self.point = value\n",
    "\n",
    "    def getPoint(self):\n",
    "        return self.point"
   ]
  },
  {
   "cell_type": "code",
   "execution_count": 103,
   "metadata": {},
   "outputs": [
    {
     "name": "stdout",
     "output_type": "stream",
     "text": [
      "점수는 100점 입니다.\n"
     ]
    }
   ],
   "source": [
    "smem1 = SchoolMember(253)\n",
    "print(\"점수는 %d점 입니다.\" % smem1.getPoint())"
   ]
  },
  {
   "cell_type": "code",
   "execution_count": 104,
   "metadata": {},
   "outputs": [
    {
     "name": "stdout",
     "output_type": "stream",
     "text": [
      "점수는 0점 입니다.\n"
     ]
    }
   ],
   "source": [
    "smem1.setPoint(-12312)\n",
    "print(\"점수는 %d점 입니다.\" % smem1.getPoint())"
   ]
  },
  {
   "cell_type": "code",
   "execution_count": 105,
   "metadata": {},
   "outputs": [
    {
     "name": "stdout",
     "output_type": "stream",
     "text": [
      "점수는 12345점 입니다.\n"
     ]
    }
   ],
   "source": [
    "# 멤버변수에 직접 접근하면 적합하지 않은 값에 노출됨\n",
    "smem1.point = 12345\n",
    "print(\"점수는 %d점 입니다.\" % smem1.getPoint())"
   ]
  },
  {
   "cell_type": "markdown",
   "metadata": {},
   "source": [
    "- 접근 한정자\n",
    "  - 변수나 메서드명 앞에 언더바를 일정 갯수 붙여서 멤버변수나 메서드를 보호\n",
    "    - (_) 1개 : 같은 패키지 내에서는 객체를 통한 접근이 가능하나 다른 패키지에 속한 클래스 간에는 객체를 통한 접근이 불가능\n",
    "    - (_) 2개 : 객체를 통한 접근이 불가능하며 자손 클래스에게도 상속되지 않음"
   ]
  },
  {
   "cell_type": "markdown",
   "metadata": {},
   "source": [
    "- 은닉된 멤버변수에 접근하는 메서드\n",
    "  - 멤버변수가 은닉되면 프로그램의 근본적인 목적인 데이터 접근 방법이 제한되므로 메서드를 통하여 간접적으로 접근해야함\n",
    "  - getter / setter\n",
    "    - getter : def get~(self)로 나타나는 메서드로 은닉된 멤버변수 값을 리턴\n",
    "    - setter : def set~(self, param)로 나타나는 메서드로 은닉된 멤버변수에 값을 지정함\n",
    "    - 필수적으로 지정을 해야하는것은 아니나 암묵적인 규칙임"
   ]
  },
  {
   "cell_type": "code",
   "execution_count": 107,
   "metadata": {},
   "outputs": [
    {
     "name": "stdout",
     "output_type": "stream",
     "text": [
      "public = 100\n",
      "protected = 200\n"
     ]
    },
    {
     "ename": "AttributeError",
     "evalue": "'Hello' object has no attribute '__c'",
     "output_type": "error",
     "traceback": [
      "\u001b[1;31m---------------------------------------------------------------------------\u001b[0m",
      "\u001b[1;31mAttributeError\u001b[0m                            Traceback (most recent call last)",
      "\u001b[1;32mx:\\LJK\\Python\\Mega_IT\\B.Python\\25_클래스와_객체.ipynb 셀 36\u001b[0m line \u001b[0;36m1\n\u001b[0;32m     <a href='vscode-notebook-cell:/x%3A/LJK/Python/Mega_IT/B.Python/25_%ED%81%B4%EB%9E%98%EC%8A%A4%EC%99%80_%EA%B0%9D%EC%B2%B4.ipynb#Y132sZmlsZQ%3D%3D?line=11'>12</a>\u001b[0m \u001b[39mprint\u001b[39m(\u001b[39m\"\u001b[39m\u001b[39mpublic = \u001b[39m\u001b[39m%d\u001b[39;00m\u001b[39m\"\u001b[39m \u001b[39m%\u001b[39m h\u001b[39m.\u001b[39ma)\n\u001b[0;32m     <a href='vscode-notebook-cell:/x%3A/LJK/Python/Mega_IT/B.Python/25_%ED%81%B4%EB%9E%98%EC%8A%A4%EC%99%80_%EA%B0%9D%EC%B2%B4.ipynb#Y132sZmlsZQ%3D%3D?line=12'>13</a>\u001b[0m \u001b[39mprint\u001b[39m(\u001b[39m\"\u001b[39m\u001b[39mprotected = \u001b[39m\u001b[39m%d\u001b[39;00m\u001b[39m\"\u001b[39m \u001b[39m%\u001b[39m h\u001b[39m.\u001b[39m_b)\n\u001b[1;32m---> <a href='vscode-notebook-cell:/x%3A/LJK/Python/Mega_IT/B.Python/25_%ED%81%B4%EB%9E%98%EC%8A%A4%EC%99%80_%EA%B0%9D%EC%B2%B4.ipynb#Y132sZmlsZQ%3D%3D?line=13'>14</a>\u001b[0m \u001b[39mprint\u001b[39m(\u001b[39m\"\u001b[39m\u001b[39mprivate = \u001b[39m\u001b[39m%d\u001b[39;00m\u001b[39m\"\u001b[39m \u001b[39m%\u001b[39m h\u001b[39m.\u001b[39;49m__c)\n",
      "\u001b[1;31mAttributeError\u001b[0m: 'Hello' object has no attribute '__c'"
     ]
    }
   ],
   "source": [
    "class Hello:\n",
    "    a = None\n",
    "    _b = None\n",
    "    __c = None\n",
    "\n",
    "    def __init__(self):\n",
    "        self.a = 100 # public\n",
    "        self._b = 200 # protected (거의 사용 안함)\n",
    "        self.__c = 300 # private\n",
    "\n",
    "h = Hello()\n",
    "print(\"public = %d\" % h.a)\n",
    "print(\"protected = %d\" % h._b)\n",
    "print(\"private = %d\" % h.__c) # 객체를 통해 private로 정의된 멤버변수에는 접근 불가"
   ]
  },
  {
   "cell_type": "code",
   "execution_count": 108,
   "metadata": {},
   "outputs": [],
   "source": [
    "class Student:\n",
    "    __name = None\n",
    "    __point = None\n",
    "\n",
    "    def __init__(self, name = None, point = 0):\n",
    "        self.__name = name\n",
    "        self.__point = point\n",
    "\n",
    "    def getName(self):\n",
    "        return self.__name\n",
    "    \n",
    "    def setName(self, value):\n",
    "        self.__name = value\n",
    "\n",
    "    def getPoint(self):\n",
    "        return self.__point\n",
    "    \n",
    "    def setPoint(self, value):\n",
    "        # 파라미터의 적절성은 검사할 수 있다.\n",
    "        if (value < 0): value = 0\n",
    "        if (value > 100): value = 100\n",
    "        self.__point = value"
   ]
  },
  {
   "cell_type": "code",
   "execution_count": 109,
   "metadata": {},
   "outputs": [
    {
     "name": "stdout",
     "output_type": "stream",
     "text": [
      "김민수의 점수는 -123점 입니다.\n",
      "이광호의 점수는 100점 입니다.\n"
     ]
    }
   ],
   "source": [
    "tpl = \"{0}의 점수는 {1}점 입니다.\"\n",
    "\n",
    "# 객체 생성시 데이터 주입\n",
    "s1 = Student(\"김민수\", -123)\n",
    "print(tpl.format(s1.getName(), s1.getPoint()))\n",
    "\n",
    "# 객체가 갖고 있는 데이터 수정\n",
    "s1.setName(\"이광호\")\n",
    "s1.setPoint(120)\n",
    "print(tpl.format(s1.getName(), s1.getPoint()))\n"
   ]
  },
  {
   "cell_type": "markdown",
   "metadata": {},
   "source": [
    "- 프로퍼티\n",
    "  - getter와 setter를 변수처럼 쓸 수 있는 기능\n",
    "    - @property 뒤에 getter를 먼저 정의하고 해당 메서드 이름과 동일하도록 @이름.setter 뒤에 setter를 정의하면 프로퍼티로 묶임\n",
    "      - @는 데코레이터라고 함\n",
    "    - 메서드 이름이 꼭 같을 필요는 없으나 편의상 통일함"
   ]
  },
  {
   "cell_type": "code",
   "execution_count": 119,
   "metadata": {},
   "outputs": [],
   "source": [
    "class Terran:\n",
    "    # 멤버변수 정의\n",
    "    __name = None\n",
    "    __dps = None\n",
    "\n",
    "    # 객체의 특성을 초기화 하기 위한 생성자 정의\n",
    "    def __init__(self, name = None, dps = 0):\n",
    "        # setter 프로퍼티에게 파라미터를 전달하여 멤버변수 초기화\n",
    "        self.name = name\n",
    "        self.dps = dps\n",
    "\n",
    "    @property\n",
    "    def name(self):\n",
    "        return self.__name\n",
    "    \n",
    "    @name.setter\n",
    "    def name(self, value):\n",
    "        self.__name = value\n",
    "\n",
    "    @property\n",
    "    def dps(self):\n",
    "        return self.__dps\n",
    "    \n",
    "    @dps.setter\n",
    "    def dps(self, value):\n",
    "        self.__dps = value\n",
    "\n",
    "    # 객체가 수행해야 하는 동작들을 함수 형태로 정의\n",
    "    def move(self, position):\n",
    "        print(\"%s(이)가 %s까지 이동합니다.\" % (self.name, position))\n",
    "\n",
    "    def attack(self, target):\n",
    "        print(\"%s이(가) %s(을)를 공격합니다. 데미지 : %d\" % (self.name, target, self.dps))"
   ]
  },
  {
   "cell_type": "code",
   "execution_count": 120,
   "metadata": {},
   "outputs": [
    {
     "name": "stdout",
     "output_type": "stream",
     "text": [
      "마린1호(이)가 적 본진까지 이동합니다.\n",
      "마린1호이(가) 적 본진(을)를 공격합니다. 데미지 : 50\n"
     ]
    }
   ],
   "source": [
    "t1 = Terran()\n",
    "t1.name = \"마린1호\"\n",
    "t1.dps = 50\n",
    "\n",
    "t1.move(\"적 본진\")\n",
    "t1.attack(\"적 본진\")"
   ]
  },
  {
   "cell_type": "code",
   "execution_count": null,
   "metadata": {},
   "outputs": [],
   "source": []
  },
  {
   "cell_type": "code",
   "execution_count": null,
   "metadata": {},
   "outputs": [],
   "source": []
  },
  {
   "cell_type": "code",
   "execution_count": null,
   "metadata": {},
   "outputs": [],
   "source": []
  },
  {
   "cell_type": "code",
   "execution_count": null,
   "metadata": {},
   "outputs": [],
   "source": []
  },
  {
   "cell_type": "code",
   "execution_count": null,
   "metadata": {},
   "outputs": [],
   "source": []
  },
  {
   "cell_type": "code",
   "execution_count": null,
   "metadata": {},
   "outputs": [],
   "source": []
  },
  {
   "cell_type": "code",
   "execution_count": null,
   "metadata": {},
   "outputs": [],
   "source": []
  },
  {
   "cell_type": "code",
   "execution_count": null,
   "metadata": {},
   "outputs": [],
   "source": []
  },
  {
   "cell_type": "code",
   "execution_count": null,
   "metadata": {},
   "outputs": [],
   "source": []
  },
  {
   "cell_type": "code",
   "execution_count": null,
   "metadata": {},
   "outputs": [],
   "source": []
  }
 ],
 "metadata": {
  "kernelspec": {
   "display_name": "base",
   "language": "python",
   "name": "python3"
  },
  "language_info": {
   "codemirror_mode": {
    "name": "ipython",
    "version": 3
   },
   "file_extension": ".py",
   "mimetype": "text/x-python",
   "name": "python",
   "nbconvert_exporter": "python",
   "pygments_lexer": "ipython3",
   "version": "3.10.9"
  }
 },
 "nbformat": 4,
 "nbformat_minor": 2
}
