{
 "cells": [
  {
   "cell_type": "markdown",
   "metadata": {},
   "source": [
    "# 14강 딕셔너리의 활용"
   ]
  },
  {
   "cell_type": "markdown",
   "metadata": {},
   "source": [
    "- 딕셔너리 관련 내장함수\n",
    "  - len() : 원소의 수를 출력(key 기준)\n",
    "  - del() : 입력한 값을 key에서 찾아 삭제, 없으면 에러"
   ]
  },
  {
   "cell_type": "code",
   "execution_count": 1,
   "metadata": {},
   "outputs": [
    {
     "data": {
      "text/plain": [
       "3"
      ]
     },
     "execution_count": 1,
     "metadata": {},
     "output_type": "execute_result"
    }
   ],
   "source": [
    "point = {\"korean\" : 98, \"math\" : 77, \"english\" : 82}\n",
    "len(point)"
   ]
  },
  {
   "cell_type": "code",
   "execution_count": 3,
   "metadata": {},
   "outputs": [
    {
     "name": "stdout",
     "output_type": "stream",
     "text": [
      "{'korean': 98, 'math': 77, 'english': 82}\n",
      "{'korean': 98, 'math': 77}\n"
     ]
    }
   ],
   "source": [
    "point = {\"korean\" : 98, \"math\" : 77, \"english\" : 82}\n",
    "print(point)\n",
    "\n",
    "# 특정 원소 삭제 -> 존재하지 않는 키를 삭제할 경우 에러 발생\n",
    "del(point['english'])\n",
    "print(point)"
   ]
  },
  {
   "cell_type": "markdown",
   "metadata": {},
   "source": [
    "- 딕셔너리의 메서드\n",
    "    - .get() : 입력한 key의 value를 반환\n",
    "      - 기본적인 기능은 [\"키\"]와 같으나 해당 key가 없더라도 에러가 아닌 None을 반환\n",
    "    - .keys() : 딕셔너리의 모든 key를 dict_keys 객체로 반환 -> list로 변환 가능\n",
    "    - .values() : 딕셔너리의 모든 value를 dict_values 객체로 반환 -> list로 변환 가능\n",
    "    - .items() : 딕셔너리의 모든 데이터를 튜플 형태로 묶어 dict_items 객체로 반환\n",
    "    - .update() : 딕셔너리를 입력하면 기존 딕셔너리에 입력 딕셔너리의 데이터를 추가함\n",
    "    - .copy() : 깊은 복사\n",
    "    - .clear() : 딕셔너리의 모든 원소를 삭제"
   ]
  },
  {
   "cell_type": "code",
   "execution_count": 5,
   "metadata": {},
   "outputs": [
    {
     "name": "stdout",
     "output_type": "stream",
     "text": [
      "철수\n"
     ]
    }
   ],
   "source": [
    "# 샘플 데이터\n",
    "dic = {\"name\" : \"철수\", \"phone\" : \"010-1234-5678\", \"birth\" : \"0115\"}\n",
    "\n",
    "# 특정 key에 대응하는 값 얻기 -> dic[\"name\"]과 동일\n",
    "print(dic.get(\"name\"))"
   ]
  },
  {
   "cell_type": "code",
   "execution_count": 6,
   "metadata": {},
   "outputs": [
    {
     "name": "stdout",
     "output_type": "stream",
     "text": [
      "None\n"
     ]
    }
   ],
   "source": [
    "# 존재하지 않는 key에 접근하는 경우 -> 에러아님 (None 반환)\n",
    "print(dic.get(\"gender\"))"
   ]
  },
  {
   "cell_type": "code",
   "execution_count": 7,
   "metadata": {},
   "outputs": [
    {
     "ename": "KeyError",
     "evalue": "'c'",
     "output_type": "error",
     "traceback": [
      "\u001b[1;31m---------------------------------------------------------------------------\u001b[0m",
      "\u001b[1;31mKeyError\u001b[0m                                  Traceback (most recent call last)",
      "\u001b[1;32mx:\\LJK\\Python\\Mega_IT\\B.Python\\14_딕셔너리의_활용.ipynb 셀 8\u001b[0m line \u001b[0;36m3\n\u001b[0;32m      <a href='vscode-notebook-cell:/x%3A/LJK/Python/Mega_IT/B.Python/14_%EB%94%95%EC%85%94%EB%84%88%EB%A6%AC%EC%9D%98_%ED%99%9C%EC%9A%A9.ipynb#Y110sZmlsZQ%3D%3D?line=0'>1</a>\u001b[0m \u001b[39m# 존재하지 않는 key에 접근하는 경우 -> 에러\u001b[39;00m\n\u001b[0;32m      <a href='vscode-notebook-cell:/x%3A/LJK/Python/Mega_IT/B.Python/14_%EB%94%95%EC%85%94%EB%84%88%EB%A6%AC%EC%9D%98_%ED%99%9C%EC%9A%A9.ipynb#Y110sZmlsZQ%3D%3D?line=1'>2</a>\u001b[0m foo \u001b[39m=\u001b[39m {\u001b[39m\"\u001b[39m\u001b[39ma\u001b[39m\u001b[39m\"\u001b[39m : \u001b[39m100\u001b[39m, \u001b[39m\"\u001b[39m\u001b[39mb\u001b[39m\u001b[39m\"\u001b[39m : \u001b[39m200\u001b[39m}\n\u001b[1;32m----> <a href='vscode-notebook-cell:/x%3A/LJK/Python/Mega_IT/B.Python/14_%EB%94%95%EC%85%94%EB%84%88%EB%A6%AC%EC%9D%98_%ED%99%9C%EC%9A%A9.ipynb#Y110sZmlsZQ%3D%3D?line=2'>3</a>\u001b[0m \u001b[39mprint\u001b[39m(foo[\u001b[39m\"\u001b[39;49m\u001b[39mc\u001b[39;49m\u001b[39m\"\u001b[39;49m])\n",
      "\u001b[1;31mKeyError\u001b[0m: 'c'"
     ]
    }
   ],
   "source": [
    "# 존재하지 않는 key에 접근하는 경우 -> 에러\n",
    "foo = {\"a\" : 100, \"b\" : 200}\n",
    "print(foo[\"c\"])"
   ]
  },
  {
   "cell_type": "code",
   "execution_count": 8,
   "metadata": {},
   "outputs": [
    {
     "name": "stdout",
     "output_type": "stream",
     "text": [
      "300\n"
     ]
    }
   ],
   "source": [
    "# get 함수는 전달하는 key가 존재하지 않을 경우 대신 반환될 값을 함께 설정 가능\n",
    "print(foo.get(\"c\", 300))"
   ]
  },
  {
   "cell_type": "code",
   "execution_count": 9,
   "metadata": {},
   "outputs": [],
   "source": [
    "성적표 = {\"국어\" : 92, \"수학\" : 88, \"영어\" : 72}"
   ]
  },
  {
   "cell_type": "code",
   "execution_count": 10,
   "metadata": {},
   "outputs": [
    {
     "name": "stdout",
     "output_type": "stream",
     "text": [
      "dict_keys(['국어', '수학', '영어'])\n"
     ]
    }
   ],
   "source": [
    "# Key만 모아서 dict_keys라는 객체로 반환\n",
    "keys = 성적표.keys()\n",
    "print(keys)"
   ]
  },
  {
   "cell_type": "code",
   "execution_count": 13,
   "metadata": {},
   "outputs": [
    {
     "name": "stdout",
     "output_type": "stream",
     "text": [
      "['국어', '수학', '영어']\n"
     ]
    }
   ],
   "source": [
    "# dict_keys를 list로 반환\n",
    "key_list = list(keys)\n",
    "print(key_list)"
   ]
  },
  {
   "cell_type": "code",
   "execution_count": 14,
   "metadata": {},
   "outputs": [
    {
     "name": "stdout",
     "output_type": "stream",
     "text": [
      "['국어', '수학', '영어']\n"
     ]
    }
   ],
   "source": [
    "# 변환과정(keys() -> list())을 일괄 처리\n",
    "keyList = list(성적표.keys())\n",
    "print(keyList)"
   ]
  },
  {
   "cell_type": "code",
   "execution_count": 15,
   "metadata": {},
   "outputs": [
    {
     "name": "stdout",
     "output_type": "stream",
     "text": [
      "dict_values([92, 88, 72])\n"
     ]
    }
   ],
   "source": [
    "# Value만 모아서 dict_values 객체로 반환\n",
    "values = 성적표.values()\n",
    "print(values)"
   ]
  },
  {
   "cell_type": "code",
   "execution_count": 17,
   "metadata": {},
   "outputs": [
    {
     "name": "stdout",
     "output_type": "stream",
     "text": [
      "[92, 88, 72]\n"
     ]
    }
   ],
   "source": [
    "# dict_values를 list로 반환\n",
    "value_list = list(values)\n",
    "print(value_list)"
   ]
  },
  {
   "cell_type": "code",
   "execution_count": 18,
   "metadata": {},
   "outputs": [
    {
     "name": "stdout",
     "output_type": "stream",
     "text": [
      "[92, 88, 72]\n"
     ]
    }
   ],
   "source": [
    "# 변환 과정 (keys() -> list())을 일괄 처리\n",
    "valueList = list(성적표.values())\n",
    "print(valueList)"
   ]
  },
  {
   "cell_type": "code",
   "execution_count": 19,
   "metadata": {},
   "outputs": [
    {
     "name": "stdout",
     "output_type": "stream",
     "text": [
      "dict_items([('국어', 92), ('수학', 88), ('영어', 72)])\n"
     ]
    }
   ],
   "source": [
    "# key-value를 쌍으로 묶은 튜플들의 모음인 dict_items 객체 얻기\n",
    "items = 성적표.items()\n",
    "print(items)"
   ]
  },
  {
   "cell_type": "code",
   "execution_count": 20,
   "metadata": {},
   "outputs": [
    {
     "name": "stdout",
     "output_type": "stream",
     "text": [
      "[('국어', 92), ('수학', 88), ('영어', 72)]\n"
     ]
    }
   ],
   "source": [
    "# dict_items를 list로 변환\n",
    "lists = list(items)\n",
    "print(lists)"
   ]
  },
  {
   "cell_type": "code",
   "execution_count": 21,
   "metadata": {},
   "outputs": [
    {
     "name": "stdout",
     "output_type": "stream",
     "text": [
      "[('국어', 92), ('수학', 88), ('영어', 72)]\n"
     ]
    }
   ],
   "source": [
    "# 변환 과정(dict_items() -> list())을 일괄 처리\n",
    "print(list(성적표.items()))"
   ]
  },
  {
   "cell_type": "code",
   "execution_count": 22,
   "metadata": {},
   "outputs": [
    {
     "name": "stdout",
     "output_type": "stream",
     "text": [
      "{'국어': 92, '수학': 88, '영어': 72, '물리': 78, '화학': 82}\n"
     ]
    }
   ],
   "source": [
    "성적표1 = {\"국어\" : 92, \"수학\" : 88, \"영어\" : 72}\n",
    "성적표2 = {\"물리\" : 78, \"화학\" : 82}\n",
    "\n",
    "# '성적표1'에 '성적표2'를 결합시킴\n",
    "성적표1.update(성적표2)\n",
    "print(성적표1)"
   ]
  },
  {
   "cell_type": "code",
   "execution_count": 23,
   "metadata": {},
   "outputs": [
    {
     "name": "stdout",
     "output_type": "stream",
     "text": [
      "{'국어': 92, '수학': 88, '영어': 72, '물리': 78, '화학': 82}\n"
     ]
    }
   ],
   "source": [
    "# 딕셔너리 객체의 복사\n",
    "# -> 딕셔너리끼리의 대입도 리스트의 경우와 마찬가지로 얕은 복사가 수행되므로\n",
    "# 깊은 복사를 위해서는 copy() 메서드가 필요함\n",
    "성적표최종 = 성적표1.copy()\n",
    "print(성적표최종)"
   ]
  },
  {
   "cell_type": "code",
   "execution_count": 24,
   "metadata": {},
   "outputs": [
    {
     "name": "stdout",
     "output_type": "stream",
     "text": [
      "{'a': 100, 'b': 200}\n",
      "{}\n"
     ]
    }
   ],
   "source": [
    "bar = {\"a\" : 100, \"b\" : 200}\n",
    "print(bar)\n",
    "\n",
    "# 모든 원소 삭제\n",
    "bar.clear()\n",
    "print(bar)"
   ]
  },
  {
   "cell_type": "code",
   "execution_count": null,
   "metadata": {},
   "outputs": [],
   "source": []
  }
 ],
 "metadata": {
  "kernelspec": {
   "display_name": "Python 3",
   "language": "python",
   "name": "python3"
  },
  "language_info": {
   "codemirror_mode": {
    "name": "ipython",
    "version": 3
   },
   "file_extension": ".py",
   "mimetype": "text/x-python",
   "name": "python",
   "nbconvert_exporter": "python",
   "pygments_lexer": "ipython3",
   "version": "3.9.13"
  }
 },
 "nbformat": 4,
 "nbformat_minor": 2
}
