{
 "cells": [
  {
   "cell_type": "markdown",
   "metadata": {},
   "source": [
    "# 29강 날짜 및 시간 관련 기능"
   ]
  },
  {
   "cell_type": "markdown",
   "metadata": {},
   "source": [
    "- 날짜와 시각에 관련된 모듈 datetime\n",
    "  - datetime.datetime.now() : 시스템의 현재 시각을 저장하는 객체 리턴 (실행시점 기준)\n",
    "    - 리턴받은 객체에는 현재 시간 정보를 포함\n",
    "      - .year : 년 ~ .microsecond : 1/1000초\n",
    "      - .weekday : 요일 출력 (0 : 월요일 ~ 6 : 일요일)"
   ]
  },
  {
   "cell_type": "code",
   "execution_count": 1,
   "metadata": {},
   "outputs": [],
   "source": [
    "# 모듈 참조\n",
    "# -> 날짜 처리 모듈(datetime)에 dt라는 별칭 적용\n",
    "import datetime as dt"
   ]
  },
  {
   "cell_type": "code",
   "execution_count": 2,
   "metadata": {},
   "outputs": [
    {
     "name": "stdout",
     "output_type": "stream",
     "text": [
      "2023-11-30 11:51:40.314153\n"
     ]
    }
   ],
   "source": [
    "# 현재 시각을 갖는 객체 가져오기\n",
    "now_time = dt.datetime.now()\n",
    "print(now_time)"
   ]
  },
  {
   "cell_type": "code",
   "execution_count": 3,
   "metadata": {},
   "outputs": [
    {
     "name": "stdout",
     "output_type": "stream",
     "text": [
      "오늘은 2023년 11월 30일 입니다.\n"
     ]
    }
   ],
   "source": [
    "# 년, 월, 일 성분 추출\n",
    "msg = \"오늘은 %d년 %d월 %d일 입니다.\"\n",
    "print(msg % (now_time.year, now_time.month, now_time.day))"
   ]
  },
  {
   "cell_type": "code",
   "execution_count": 4,
   "metadata": {},
   "outputs": [
    {
     "name": "stdout",
     "output_type": "stream",
     "text": [
      "지금은 11시 51분 40초 입니다.\n"
     ]
    }
   ],
   "source": [
    "# 시, 분, 초 성분 추출\n",
    "msg = \"지금은 %d시 %d분 %d초 입니다.\"\n",
    "print(msg % (now_time.hour, now_time.minute, now_time.second))"
   ]
  },
  {
   "cell_type": "code",
   "execution_count": 5,
   "metadata": {},
   "outputs": [
    {
     "name": "stdout",
     "output_type": "stream",
     "text": [
      "3\n",
      "목\n"
     ]
    }
   ],
   "source": [
    "# 현재 요일의 인덱스 조회\n",
    "d = now_time.weekday()\n",
    "print(d)\n",
    "\n",
    "# 조회한 요일 인덱스를 튜플에 적용하여 요일 이름 가져오기\n",
    "days = (\"월\", \"화\", \"수\", \"목\", \"금\", \"토\", \"일\")\n",
    "print(days[d])"
   ]
  },
  {
   "cell_type": "markdown",
   "metadata": {},
   "source": [
    "- 날짜 성분에 대한 형식 문자열\n",
    "  - .strftime : 날짜를 원하는 포맷의 문자열로 출력할 수 있음\n",
    "    - 년, 월, 일에 대한 여러가지 포맷이 존재함 : 파이썬 공식 메뉴얼에서 추가 확인 가능"
   ]
  },
  {
   "cell_type": "code",
   "execution_count": 6,
   "metadata": {},
   "outputs": [
    {
     "name": "stdout",
     "output_type": "stream",
     "text": [
      "23-11-30 11:51:40\n"
     ]
    }
   ],
   "source": [
    "print(now_time.strftime(\"%y-%m-%d %H:%M:%S\"))"
   ]
  },
  {
   "cell_type": "code",
   "execution_count": 7,
   "metadata": {},
   "outputs": [
    {
     "name": "stdout",
     "output_type": "stream",
     "text": [
      "2023년 11월 30일 11시 51분 40초\n"
     ]
    }
   ],
   "source": [
    "print(now_time.strftime(\"%Y년 %m월 %d일 %H시 %M분 %S초\"))"
   ]
  },
  {
   "cell_type": "markdown",
   "metadata": {},
   "source": [
    "- 원하는 시점을 직접 지정하여 날짜 객체 생성 가능\n",
    "  - datetime.datetime(년, 월, 일, 시, 분, 초)\n",
    "- 날짜를 의미하는 문자열의 포맷을 잡아주면 날짜를 인지하여 객체로 추출하는 기능\n",
    "  - datetime.datetime.strptime(문자열, \"포맷\")\n",
    "- 날짜 객체의 특정 성분 값 변경\n",
    "  - .replace() : 변경하지 않을 성분은 생략"
   ]
  },
  {
   "cell_type": "code",
   "execution_count": 8,
   "metadata": {},
   "outputs": [
    {
     "name": "stdout",
     "output_type": "stream",
     "text": [
      "18-08-30 13:26:55\n"
     ]
    }
   ],
   "source": [
    "someday = dt.datetime(2018, 8, 30, 13, 26, 55)\n",
    "day_str = someday.strftime(\"%y-%m-%d %H:%M:%S\")\n",
    "print(day_str)"
   ]
  },
  {
   "cell_type": "code",
   "execution_count": 9,
   "metadata": {},
   "outputs": [
    {
     "ename": "ValueError",
     "evalue": "day is out of range for month",
     "output_type": "error",
     "traceback": [
      "\u001b[1;31m---------------------------------------------------------------------------\u001b[0m",
      "\u001b[1;31mValueError\u001b[0m                                Traceback (most recent call last)",
      "\u001b[1;32mx:\\LJK\\Python\\Mega_IT\\B.Python\\29_날짜_및_시간_관련_기능.ipynb 셀 13\u001b[0m line \u001b[0;36m2\n\u001b[0;32m      <a href='vscode-notebook-cell:/x%3A/LJK/Python/Mega_IT/B.Python/29_%EB%82%A0%EC%A7%9C_%EB%B0%8F_%EC%8B%9C%EA%B0%84_%EA%B4%80%EB%A0%A8_%EA%B8%B0%EB%8A%A5.ipynb#X43sZmlsZQ%3D%3D?line=0'>1</a>\u001b[0m \u001b[39m# 존재하지 않는 시각으로 설정할 경우 에러 발생\u001b[39;00m\n\u001b[1;32m----> <a href='vscode-notebook-cell:/x%3A/LJK/Python/Mega_IT/B.Python/29_%EB%82%A0%EC%A7%9C_%EB%B0%8F_%EC%8B%9C%EA%B0%84_%EA%B4%80%EB%A0%A8_%EA%B8%B0%EB%8A%A5.ipynb#X43sZmlsZQ%3D%3D?line=1'>2</a>\u001b[0m someday \u001b[39m=\u001b[39m dt\u001b[39m.\u001b[39;49mdatetime(\u001b[39m2018\u001b[39;49m, \u001b[39m12\u001b[39;49m, \u001b[39m32\u001b[39;49m, \u001b[39m0\u001b[39;49m, \u001b[39m0\u001b[39;49m, \u001b[39m0\u001b[39;49m)\n\u001b[0;32m      <a href='vscode-notebook-cell:/x%3A/LJK/Python/Mega_IT/B.Python/29_%EB%82%A0%EC%A7%9C_%EB%B0%8F_%EC%8B%9C%EA%B0%84_%EA%B4%80%EB%A0%A8_%EA%B8%B0%EB%8A%A5.ipynb#X43sZmlsZQ%3D%3D?line=2'>3</a>\u001b[0m day_str \u001b[39m=\u001b[39m someday\u001b[39m.\u001b[39mstrftime(\u001b[39m\"\u001b[39m\u001b[39m%\u001b[39m\u001b[39my-\u001b[39m\u001b[39m%\u001b[39m\u001b[39mm-\u001b[39m\u001b[39m%d\u001b[39;00m\u001b[39m \u001b[39m\u001b[39m%\u001b[39m\u001b[39mH:\u001b[39m\u001b[39m%\u001b[39m\u001b[39mM:\u001b[39m\u001b[39m%\u001b[39m\u001b[39mS\u001b[39m\u001b[39m\"\u001b[39m)\n\u001b[0;32m      <a href='vscode-notebook-cell:/x%3A/LJK/Python/Mega_IT/B.Python/29_%EB%82%A0%EC%A7%9C_%EB%B0%8F_%EC%8B%9C%EA%B0%84_%EA%B4%80%EB%A0%A8_%EA%B8%B0%EB%8A%A5.ipynb#X43sZmlsZQ%3D%3D?line=3'>4</a>\u001b[0m \u001b[39mprint\u001b[39m(day_str)\n",
      "\u001b[1;31mValueError\u001b[0m: day is out of range for month"
     ]
    }
   ],
   "source": [
    "# 존재하지 않는 시각으로 설정할 경우 에러 발생\n",
    "someday = dt.datetime(2018, 12, 32, 0, 0, 0)\n",
    "day_str = someday.strftime(\"%y-%m-%d %H:%M:%S\")\n",
    "print(day_str)"
   ]
  },
  {
   "cell_type": "code",
   "execution_count": 11,
   "metadata": {},
   "outputs": [
    {
     "name": "stdout",
     "output_type": "stream",
     "text": [
      "17-01-02 14:44:00\n"
     ]
    }
   ],
   "source": [
    "date_str = \"2017년 01월 02일 14시 44분\"\n",
    "# 문자열에 대한 날짜 형식을 지정하면 문자열에서 날짜 성분을 추출하여 객체를 생성한다.\n",
    "oldday = dt.datetime.strptime(date_str, \"%Y년 %m월 %d일 %H시 %M분\")\n",
    "print(oldday.strftime(\"%y-%m-%d %H:%M:%S\"))"
   ]
  },
  {
   "cell_type": "code",
   "execution_count": 12,
   "metadata": {},
   "outputs": [
    {
     "name": "stdout",
     "output_type": "stream",
     "text": [
      "23-11-30 11:58:26\n",
      "18-11-16 15:58:26\n"
     ]
    }
   ],
   "source": [
    "foo = dt.datetime.now()\n",
    "print(foo.strftime(\"%y-%m-%d %H:%M:%S\"))\n",
    "\n",
    "change_date = foo.replace(year = 2018, day = 16, hour = 15)\n",
    "print(change_date.strftime(\"%y-%m-%d %H:%M:%S\"))"
   ]
  },
  {
   "cell_type": "markdown",
   "metadata": {},
   "source": [
    "- 날짜간의 연산\n",
    "  - 날짜끼리는 뺄셈만 가능하며 출력되는 데이터타입은 timedelta 형식\n",
    "    - 날짜간의 덧셈은 불가능함\n",
    "  - timedelta는 일수와 초 단위 변수만 가지고 있음"
   ]
  },
  {
   "cell_type": "code",
   "execution_count": 13,
   "metadata": {},
   "outputs": [
    {
     "name": "stdout",
     "output_type": "stream",
     "text": [
      "31 days, 12:00:08.378359\n"
     ]
    }
   ],
   "source": [
    "# 두 날짜 만들기\n",
    "# -> 오늘날짜\n",
    "dt1 = dt.datetime.now()\n",
    "# -> 내년 1월1일 자정\n",
    "dt2 = dt.datetime(dt1.year+1, 1, 1, 0, 0, 0)\n",
    "\n",
    "# 두 날짜의 차를 구한 결과는 timedelta 객체형식이 된다.\n",
    "# -> datetime 모듈에 정의되어 있는 객체형식임.\n",
    "td = dt2 - dt1\n",
    "# -> ex) 25 days, 21:04:12.386733\n",
    "print(td)"
   ]
  },
  {
   "cell_type": "markdown",
   "metadata": {},
   "source": [
    "- timedelta는 datetime.timedelta()로 직접 생성할 수 있음\n",
    "  - timedelta는 날짜 객체에 더하거나 뺄 수 있음"
   ]
  },
  {
   "cell_type": "code",
   "execution_count": 15,
   "metadata": {},
   "outputs": [
    {
     "name": "stdout",
     "output_type": "stream",
     "text": [
      "31\n",
      "43208\n",
      "올해는 31일 남았습니다.\n"
     ]
    }
   ],
   "source": [
    "# 날짜만 추출\n",
    "print(td.days) # ex) 245일\n",
    "# 날짜를 제외하고 시간, 분, 초 단위를 모두 초로 합산한 값.\n",
    "print(td.seconds) # ex) 9800초\n",
    "print(\"올해는 %d일 남았습니다.\" % td.days)"
   ]
  },
  {
   "cell_type": "code",
   "execution_count": 16,
   "metadata": {},
   "outputs": [
    {
     "name": "stdout",
     "output_type": "stream",
     "text": [
      "2721608.378359\n"
     ]
    }
   ],
   "source": [
    "result = td.total_seconds()\n",
    "print(result)"
   ]
  },
  {
   "cell_type": "code",
   "execution_count": 17,
   "metadata": {},
   "outputs": [
    {
     "name": "stdout",
     "output_type": "stream",
     "text": [
      "2024-03-09 13:02:27\n"
     ]
    }
   ],
   "source": [
    "# timedelta 객체 만들기(더하거나 뺄 값) -> 100일 + 3600초\n",
    "d = dt.timedelta(days = 100, seconds = 3600)\n",
    "\n",
    "# 특정시각(혹은 현재시각)에 timedelta 객체를 더해 연산결과를 얻을 수 있다.\n",
    "now_time = dt.datetime.now()\n",
    "\n",
    "# 연산 결과는 datetime 객체가 된다.\n",
    "after_time = now_time + d\n",
    "\n",
    "print(after_time.strftime(\"%Y-%m-%d %H:%M:%S\"))"
   ]
  },
  {
   "cell_type": "code",
   "execution_count": null,
   "metadata": {},
   "outputs": [],
   "source": []
  },
  {
   "cell_type": "code",
   "execution_count": null,
   "metadata": {},
   "outputs": [],
   "source": []
  },
  {
   "cell_type": "code",
   "execution_count": null,
   "metadata": {},
   "outputs": [],
   "source": []
  },
  {
   "cell_type": "code",
   "execution_count": null,
   "metadata": {},
   "outputs": [],
   "source": []
  }
 ],
 "metadata": {
  "kernelspec": {
   "display_name": "base",
   "language": "python",
   "name": "python3"
  },
  "language_info": {
   "codemirror_mode": {
    "name": "ipython",
    "version": 3
   },
   "file_extension": ".py",
   "mimetype": "text/x-python",
   "name": "python",
   "nbconvert_exporter": "python",
   "pygments_lexer": "ipython3",
   "version": "3.10.9"
  }
 },
 "nbformat": 4,
 "nbformat_minor": 2
}
