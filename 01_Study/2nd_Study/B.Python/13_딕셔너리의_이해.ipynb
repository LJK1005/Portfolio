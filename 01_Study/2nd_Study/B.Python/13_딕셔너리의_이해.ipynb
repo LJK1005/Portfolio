{
 "cells": [
  {
   "cell_type": "markdown",
   "metadata": {},
   "source": [
    "# 13강 딕셔너리의 이해"
   ]
  },
  {
   "cell_type": "markdown",
   "metadata": {},
   "source": [
    "- 딕셔너리의 기본형식\n",
    "  - 중괄호{}로 표현\n",
    "  - 원소는 \"이름:값\"의 형태로 나열하며 원소별로는 ,로 구분함\n",
    "  - 이름은 key, 값은 value라고 칭함 -> key와 value의 쌍으로 구성된 자료 구조\n",
    "    - key는 중복을 허용하지 않으며 하나의 key에 값이 여러번 대입되면 가장 마지막에 정의된 항목이 기존 값을 덮어씀\n",
    "    - key가 인덱스의 역할을 하기 때문에 리스트와 같은 방식의 인덱싱과 슬라이싱은 사용 불가"
   ]
  },
  {
   "cell_type": "code",
   "execution_count": 1,
   "metadata": {},
   "outputs": [
    {
     "name": "stdout",
     "output_type": "stream",
     "text": [
      "{'name': '철수', 'phone': '010-1234-5678', 'birth': '0115'}\n"
     ]
    }
   ],
   "source": [
    "# 딕셔너리 정의하기\n",
    "mydic = {\"name\" : \"철수\", \"phone\" : \"010-1234-5678\", \"birth\" : \"0115\"}\n",
    "print(mydic)"
   ]
  },
  {
   "cell_type": "code",
   "execution_count": 2,
   "metadata": {},
   "outputs": [
    {
     "name": "stdout",
     "output_type": "stream",
     "text": [
      "철수\n"
     ]
    }
   ],
   "source": [
    "print(mydic[\"name\"]) # 특정 원소에 접근하고 직접 출력"
   ]
  },
  {
   "cell_type": "code",
   "execution_count": 3,
   "metadata": {},
   "outputs": [
    {
     "name": "stdout",
     "output_type": "stream",
     "text": [
      "010-1234-5678\n"
     ]
    }
   ],
   "source": [
    "phone = mydic[\"phone\"] # 특정 원소에 접근하고 다른 변수에 복사\n",
    "print(phone)"
   ]
  },
  {
   "cell_type": "code",
   "execution_count": 4,
   "metadata": {},
   "outputs": [
    {
     "name": "stdout",
     "output_type": "stream",
     "text": [
      "{'name': '호영', 'phone': '010-1234-5678', 'birth': '0115'}\n"
     ]
    }
   ],
   "source": [
    "mydic[\"name\"] = \"호영\" # 특정 원소의 값을 변경\n",
    "print(mydic)"
   ]
  },
  {
   "cell_type": "code",
   "execution_count": 5,
   "metadata": {},
   "outputs": [
    {
     "ename": "KeyError",
     "evalue": "'c'",
     "output_type": "error",
     "traceback": [
      "\u001b[1;31m---------------------------------------------------------------------------\u001b[0m",
      "\u001b[1;31mKeyError\u001b[0m                                  Traceback (most recent call last)",
      "\u001b[1;32mx:\\LJK\\Python\\Mega_IT\\B.Python\\13_딕셔너리의_이해.ipynb 셀 7\u001b[0m line \u001b[0;36m3\n\u001b[0;32m      <a href='vscode-notebook-cell:/x%3A/LJK/Python/Mega_IT/B.Python/13_%EB%94%95%EC%85%94%EB%84%88%EB%A6%AC%EC%9D%98_%EC%9D%B4%ED%95%B4.ipynb#Y103sZmlsZQ%3D%3D?line=0'>1</a>\u001b[0m \u001b[39m# 존재하지 않는 키의 값을 사용하면 에러\u001b[39;00m\n\u001b[0;32m      <a href='vscode-notebook-cell:/x%3A/LJK/Python/Mega_IT/B.Python/13_%EB%94%95%EC%85%94%EB%84%88%EB%A6%AC%EC%9D%98_%EC%9D%B4%ED%95%B4.ipynb#Y103sZmlsZQ%3D%3D?line=1'>2</a>\u001b[0m foo \u001b[39m=\u001b[39m {\u001b[39m\"\u001b[39m\u001b[39ma\u001b[39m\u001b[39m\"\u001b[39m : \u001b[39m100\u001b[39m, \u001b[39m\"\u001b[39m\u001b[39mb\u001b[39m\u001b[39m\"\u001b[39m : \u001b[39m200\u001b[39m}\n\u001b[1;32m----> <a href='vscode-notebook-cell:/x%3A/LJK/Python/Mega_IT/B.Python/13_%EB%94%95%EC%85%94%EB%84%88%EB%A6%AC%EC%9D%98_%EC%9D%B4%ED%95%B4.ipynb#Y103sZmlsZQ%3D%3D?line=2'>3</a>\u001b[0m \u001b[39mprint\u001b[39m(foo[\u001b[39m\"\u001b[39;49m\u001b[39mc\u001b[39;49m\u001b[39m\"\u001b[39;49m])\n",
      "\u001b[1;31mKeyError\u001b[0m: 'c'"
     ]
    }
   ],
   "source": [
    "# 존재하지 않는 키의 값을 사용하면 에러\n",
    "foo = {\"a\" : 100, \"b\" : 200}\n",
    "print(foo[\"c\"])"
   ]
  },
  {
   "cell_type": "code",
   "execution_count": 6,
   "metadata": {},
   "outputs": [
    {
     "name": "stdout",
     "output_type": "stream",
     "text": [
      "{'a': 100, 'b': 200, 'c': 300}\n"
     ]
    }
   ],
   "source": [
    "# 존재하지 않는 키에 값을 할당하면 딕셔너리가 확장됨\n",
    "foo = {\"a\" : 100, \"b\" : 200}\n",
    "foo[\"c\"] = 300\n",
    "print(foo)"
   ]
  },
  {
   "cell_type": "code",
   "execution_count": 7,
   "metadata": {},
   "outputs": [
    {
     "name": "stdout",
     "output_type": "stream",
     "text": [
      "python\n",
      "{'msg': 'python'}\n"
     ]
    }
   ],
   "source": [
    "# 키가 중복될 경우 하나를 제외한 나머지는 무시됨.\n",
    "# -> 일반적으로 나중에 정의된 항목이 이전에 정의된 항목을 덮어 씀\n",
    "data = {\"msg\" : \"hello\", \"msg\" : \"world\", \"msg\" : \"python\"}\n",
    "print(data[\"msg\"])\n",
    "print(data)"
   ]
  },
  {
   "cell_type": "markdown",
   "metadata": {},
   "source": [
    "- 리스트와 딕셔너리는 서로 혹은 자기 자신을 원소로 가질 수 있음\n",
    "  - ex) 딕셔너리의 value에 리스트를 담아서 하나의 key에 여러개의 값을 저장 가능"
   ]
  },
  {
   "cell_type": "code",
   "execution_count": 8,
   "metadata": {},
   "outputs": [
    {
     "name": "stdout",
     "output_type": "stream",
     "text": [
      "[철수] 나이: 16세, 키 : 172.4cm\n",
      "[민수] 나이: 17세, 키 : 168.2cm\n",
      "[호영] 나이: 19세, 키 : 170.5cm\n"
     ]
    }
   ],
   "source": [
    "student = {\n",
    "    \"name\" : [\"철수\", \"민수\", \"호영\"],\n",
    "    \"age\" : [16, 17, 19],\n",
    "    \"height\" : [172.4, 168.2, 170.5]\n",
    "}\n",
    "\n",
    "tpl = \"[%s] 나이: %d세, 키 : %0.1fcm\"\n",
    "print(tpl % (student['name'][0], student['age'][0], student['height'][0]))\n",
    "print(tpl % (student['name'][1], student['age'][1], student['height'][1]))\n",
    "print(tpl % (student['name'][2], student['age'][2], student['height'][2]))"
   ]
  },
  {
   "cell_type": "code",
   "execution_count": 9,
   "metadata": {},
   "outputs": [],
   "source": [
    "# 리스트의 원소가 딕셔너리가 되는 경우\n",
    "grade = [\n",
    "    {\"name\" : \"철수\", \"kor\" : 95, \"eng\" : 85},\n",
    "    {\"name\" : \"영희\", \"kor\" : 92, \"eng\" : 90},\n",
    "    {\"name\" : \"철민\", \"kor\" : 88, \"eng\" : 76}\n",
    "]"
   ]
  },
  {
   "cell_type": "code",
   "execution_count": 10,
   "metadata": {},
   "outputs": [
    {
     "name": "stdout",
     "output_type": "stream",
     "text": [
      "0번째 원소: {'name': '철수', 'kor': 95, 'eng': 85}\n",
      "1번째 원소: {'name': '영희', 'kor': 92, 'eng': 90}\n",
      "2번째 원소: {'name': '철민', 'kor': 88, 'eng': 76}\n"
     ]
    }
   ],
   "source": [
    "print(\"0번째 원소: %s\" % grade[0])\n",
    "print(\"1번째 원소: %s\" % grade[1])\n",
    "print(\"2번째 원소: %s\" % grade[2])"
   ]
  },
  {
   "cell_type": "code",
   "execution_count": 11,
   "metadata": {},
   "outputs": [
    {
     "name": "stdout",
     "output_type": "stream",
     "text": [
      "철수의 국어점수:95, 영어점수:85\n",
      "영희의 국어점수:92, 영어점수:90\n",
      "철민의 국어점수:88, 영어점수:76\n"
     ]
    }
   ],
   "source": [
    "tpl = \"{0}의 국어점수:{1}, 영어점수:{2}\"\n",
    "print(tpl.format(grade[0][\"name\"], grade[0][\"kor\"], grade[0][\"eng\"]))\n",
    "print(tpl.format(grade[1][\"name\"], grade[1][\"kor\"], grade[1][\"eng\"]))\n",
    "print(tpl.format(grade[2][\"name\"], grade[2][\"kor\"], grade[2][\"eng\"]))"
   ]
  },
  {
   "cell_type": "code",
   "execution_count": 12,
   "metadata": {},
   "outputs": [],
   "source": [
    "phone = {\n",
    "    \"apple\" : {\n",
    "        \"name\" : \"iPhone\",\n",
    "        \"price\" : \"$200\"\n",
    "    },\n",
    "    \"samsung\" : {\n",
    "        \"name\" : \"Galaxy\",\n",
    "        \"price\" : \"200만원\"\n",
    "    }\n",
    "}"
   ]
  },
  {
   "cell_type": "code",
   "execution_count": 13,
   "metadata": {},
   "outputs": [
    {
     "name": "stdout",
     "output_type": "stream",
     "text": [
      "iPhone의 가격은 $200입니다.\n",
      "Galaxy의 가격은 200만원입니다.\n"
     ]
    }
   ],
   "source": [
    "tpl = \"%s의 가격은 %s입니다.\"\n",
    "print(tpl % (phone['apple']['name'], phone['apple']['price']))\n",
    "print(tpl % (phone['samsung']['name'], phone['samsung']['price']))"
   ]
  },
  {
   "cell_type": "code",
   "execution_count": 15,
   "metadata": {},
   "outputs": [],
   "source": [
    "lectures = {\n",
    "    \"teacher\" : \"이광호 강사\",\n",
    "    \"category\" : \"프로그래밍\",\n",
    "    \"subject\" : [\n",
    "        {\"no\" : 1, \"title\" : \"파이썬 프로그래밍\", \"date\" : \"2023-03-01\"},\n",
    "        {\"no\" : 2, \"title\" : \"자바 프로그래밍\", \"date\" : \"2023-04-01\"},\n",
    "        {\"no\" : 3, \"title\" : \"데이터분석\", \"date\" : \"2023-05-01\"}\n",
    "    ]\n",
    "}"
   ]
  },
  {
   "cell_type": "code",
   "execution_count": 16,
   "metadata": {},
   "outputs": [
    {
     "name": "stdout",
     "output_type": "stream",
     "text": [
      "[이광호 강사가 진행하는 프로그래밍 수업]\n",
      "1. 파이썬 프로그래밍 -> 개강일 : 2023-03-01\n",
      "2. 자바 프로그래밍 -> 개강일 : 2023-04-01\n",
      "3. 데이터분석 -> 개강일 : 2023-05-01\n"
     ]
    }
   ],
   "source": [
    "print(\"[%s가 진행하는 %s 수업]\" % (lectures['teacher'], lectures['category']))\n",
    "\n",
    "tpl = \"%d. %s -> 개강일 : %s\"\n",
    "print(tpl % (lectures['subject'][0]['no'], lectures['subject'][0]['title'], lectures['subject'][0]['date']))\n",
    "print(tpl % (lectures['subject'][1]['no'], lectures['subject'][1]['title'], lectures['subject'][1]['date']))\n",
    "print(tpl % (lectures['subject'][2]['no'], lectures['subject'][2]['title'], lectures['subject'][2]['date']))"
   ]
  },
  {
   "cell_type": "code",
   "execution_count": null,
   "metadata": {},
   "outputs": [],
   "source": []
  },
  {
   "cell_type": "code",
   "execution_count": null,
   "metadata": {},
   "outputs": [],
   "source": []
  },
  {
   "cell_type": "code",
   "execution_count": null,
   "metadata": {},
   "outputs": [],
   "source": []
  },
  {
   "cell_type": "code",
   "execution_count": null,
   "metadata": {},
   "outputs": [],
   "source": []
  },
  {
   "cell_type": "code",
   "execution_count": null,
   "metadata": {},
   "outputs": [],
   "source": []
  },
  {
   "cell_type": "code",
   "execution_count": null,
   "metadata": {},
   "outputs": [],
   "source": []
  },
  {
   "cell_type": "code",
   "execution_count": null,
   "metadata": {},
   "outputs": [],
   "source": []
  },
  {
   "cell_type": "code",
   "execution_count": null,
   "metadata": {},
   "outputs": [],
   "source": []
  },
  {
   "cell_type": "code",
   "execution_count": null,
   "metadata": {},
   "outputs": [],
   "source": []
  },
  {
   "cell_type": "code",
   "execution_count": null,
   "metadata": {},
   "outputs": [],
   "source": []
  },
  {
   "cell_type": "code",
   "execution_count": null,
   "metadata": {},
   "outputs": [],
   "source": []
  },
  {
   "cell_type": "code",
   "execution_count": null,
   "metadata": {},
   "outputs": [],
   "source": []
  },
  {
   "cell_type": "code",
   "execution_count": null,
   "metadata": {},
   "outputs": [],
   "source": []
  },
  {
   "cell_type": "code",
   "execution_count": null,
   "metadata": {},
   "outputs": [],
   "source": []
  },
  {
   "cell_type": "code",
   "execution_count": null,
   "metadata": {},
   "outputs": [],
   "source": []
  },
  {
   "cell_type": "code",
   "execution_count": null,
   "metadata": {},
   "outputs": [],
   "source": []
  },
  {
   "cell_type": "code",
   "execution_count": null,
   "metadata": {},
   "outputs": [],
   "source": []
  },
  {
   "cell_type": "code",
   "execution_count": null,
   "metadata": {},
   "outputs": [],
   "source": []
  },
  {
   "cell_type": "code",
   "execution_count": null,
   "metadata": {},
   "outputs": [],
   "source": []
  },
  {
   "cell_type": "code",
   "execution_count": null,
   "metadata": {},
   "outputs": [],
   "source": []
  },
  {
   "cell_type": "code",
   "execution_count": null,
   "metadata": {},
   "outputs": [],
   "source": []
  },
  {
   "cell_type": "code",
   "execution_count": null,
   "metadata": {},
   "outputs": [],
   "source": []
  },
  {
   "cell_type": "code",
   "execution_count": null,
   "metadata": {},
   "outputs": [],
   "source": []
  },
  {
   "cell_type": "code",
   "execution_count": null,
   "metadata": {},
   "outputs": [],
   "source": []
  },
  {
   "cell_type": "code",
   "execution_count": null,
   "metadata": {},
   "outputs": [],
   "source": []
  },
  {
   "cell_type": "code",
   "execution_count": null,
   "metadata": {},
   "outputs": [],
   "source": []
  },
  {
   "cell_type": "code",
   "execution_count": null,
   "metadata": {},
   "outputs": [],
   "source": []
  },
  {
   "cell_type": "code",
   "execution_count": null,
   "metadata": {},
   "outputs": [],
   "source": []
  },
  {
   "cell_type": "code",
   "execution_count": null,
   "metadata": {},
   "outputs": [],
   "source": []
  },
  {
   "cell_type": "code",
   "execution_count": null,
   "metadata": {},
   "outputs": [],
   "source": []
  },
  {
   "cell_type": "code",
   "execution_count": null,
   "metadata": {},
   "outputs": [],
   "source": []
  },
  {
   "cell_type": "code",
   "execution_count": null,
   "metadata": {},
   "outputs": [],
   "source": []
  },
  {
   "cell_type": "code",
   "execution_count": null,
   "metadata": {},
   "outputs": [],
   "source": []
  },
  {
   "cell_type": "code",
   "execution_count": null,
   "metadata": {},
   "outputs": [],
   "source": []
  }
 ],
 "metadata": {
  "kernelspec": {
   "display_name": "Python 3",
   "language": "python",
   "name": "python3"
  },
  "language_info": {
   "codemirror_mode": {
    "name": "ipython",
    "version": 3
   },
   "file_extension": ".py",
   "mimetype": "text/x-python",
   "name": "python",
   "nbconvert_exporter": "python",
   "pygments_lexer": "ipython3",
   "version": "3.9.13"
  }
 },
 "nbformat": 4,
 "nbformat_minor": 2
}
