{
 "cells": [
  {
   "cell_type": "markdown",
   "metadata": {},
   "source": [
    "# 11강 리스트의 활용"
   ]
  },
  {
   "cell_type": "markdown",
   "metadata": {},
   "source": [
    "- 문자열과 마찬가지로 리스트의 원소에는 0부터 시작되는 인덱스 번호가 지정됨\n",
    "  - 인덱스 번호를 활용하여 리스트의 원소 출력, 다른 변수에 복사, 리스트의 특정 원소값을 변경할 수 있음\n",
    "  - 리스트도 인덱스 번호를 이용한 인덱싱과 슬라이싱이 가능함"
   ]
  },
  {
   "cell_type": "code",
   "execution_count": 7,
   "metadata": {},
   "outputs": [
    {
     "name": "stdout",
     "output_type": "stream",
     "text": [
      "20\n",
      "30\n"
     ]
    }
   ],
   "source": [
    "mylist = [10, 20, 30]\n",
    "print(mylist[1]) # 1번째 원소에 접근 -> 0부터 카운트\n",
    "print(mylist[-1]) # -1번째 원소에 접근 -> -1부터 카운트"
   ]
  },
  {
   "cell_type": "code",
   "execution_count": 8,
   "metadata": {},
   "outputs": [
    {
     "name": "stdout",
     "output_type": "stream",
     "text": [
      "10\n"
     ]
    }
   ],
   "source": [
    "# 0번쨰 리스트의 원소를 다른 변수에 복사\n",
    "first = mylist[0]\n",
    "print(first)"
   ]
  },
  {
   "cell_type": "code",
   "execution_count": 9,
   "metadata": {},
   "outputs": [
    {
     "name": "stdout",
     "output_type": "stream",
     "text": [
      "[10, 200, 30]\n"
     ]
    }
   ],
   "source": [
    "# 1번째 원소의 값을 다른 값으로 변경\n",
    "mylist[1] = 200\n",
    "print(mylist)"
   ]
  },
  {
   "cell_type": "code",
   "execution_count": 10,
   "metadata": {},
   "outputs": [
    {
     "name": "stdout",
     "output_type": "stream",
     "text": [
      "[70, 80]\n",
      "[70, 80]\n"
     ]
    }
   ],
   "source": [
    "mylist = [60, 70, 80, 90, 100]\n",
    "print(mylist[1:3]) # list의 1번째 부터 3번째 전까지 -> 3번째 원소는 포함되지 않음\n",
    "print(mylist[1:-2]) # list의 1번째 부터 뒤에서부터 2번째 다음까지"
   ]
  },
  {
   "cell_type": "code",
   "execution_count": 11,
   "metadata": {},
   "outputs": [
    {
     "name": "stdout",
     "output_type": "stream",
     "text": [
      "[90, 100]\n",
      "[60, 70, 80]\n",
      "[60, 70, 80, 90, 100]\n"
     ]
    }
   ],
   "source": [
    "print(mylist[3:]) # 3번째부터 끝까지 -> 3번째 원소 포함됨\n",
    "print(mylist[:3]) # 처음부터 3번째 전까지 -> 3번째 원소 포함안됨\n",
    "print(mylist[:]) # list의 모든 원소"
   ]
  },
  {
   "cell_type": "markdown",
   "metadata": {},
   "source": [
    "- 리스트의 원소 교체 : 리스트에 슬라이싱을 이용하여 특정 인덱스 구간을 인덱스로 대체할 수 있음\n",
    "  - 인덱스 구간 크기와 대입할 리스트의 크기는 일치하지 않아도 대체 가능\n",
    "    - 대입할 리스트의 크기가 크면 리스트가 확장되고 작으면 리스트가 축소됨\n",
    "    - 대입하는 리스트가 원소가 없으면 해당 인덱스 구간의 데이터는 삭제됨"
   ]
  },
  {
   "cell_type": "code",
   "execution_count": 12,
   "metadata": {},
   "outputs": [
    {
     "name": "stdout",
     "output_type": "stream",
     "text": [
      "[1, 20, 30, 40, 5]\n"
     ]
    }
   ],
   "source": [
    "foo = [1, 2, 3, 4, 5]\n",
    "\n",
    "# 리스트의 1번째부터 4번째 전까지의 3개의 원소를 다른 값으로 일괄 교체\n",
    "foo[1:4] = [20, 30, 40]\n",
    "print(foo)"
   ]
  },
  {
   "cell_type": "code",
   "execution_count": 13,
   "metadata": {},
   "outputs": [
    {
     "name": "stdout",
     "output_type": "stream",
     "text": [
      "[6, 100, 200, 300, 400, 500, 600, 700, 10]\n"
     ]
    }
   ],
   "source": [
    "hello = [6, 7, 8, 9, 10]\n",
    "\n",
    "# 3개의 원소 범위에 7개의 원소를 갖는 리스트 대입 -> 확장\n",
    "hello[1:4] = [100, 200, 300, 400, 500, 600, 700]\n",
    "print(hello)"
   ]
  },
  {
   "cell_type": "code",
   "execution_count": 14,
   "metadata": {},
   "outputs": [
    {
     "name": "stdout",
     "output_type": "stream",
     "text": [
      "[11, 1000, 2000, 15]\n"
     ]
    }
   ],
   "source": [
    "world = [11, 12, 13, 14, 15]\n",
    "\n",
    "# 3개의 원소 범위에 2개의 원소를 갖는 리스트 대입 -> 축소\n",
    "world[1:4] = [1000, 2000]\n",
    "print(world)"
   ]
  },
  {
   "cell_type": "code",
   "execution_count": 15,
   "metadata": {},
   "outputs": [
    {
     "name": "stdout",
     "output_type": "stream",
     "text": [
      "[11, 55]\n"
     ]
    }
   ],
   "source": [
    "bar = [11, 22, 33, 44, 55]\n",
    "\n",
    "# 3개의 원소 범위에 빈 리스트 대입 -> 삭제\n",
    "bar[1:4] = []\n",
    "print(bar)"
   ]
  },
  {
   "cell_type": "markdown",
   "metadata": {},
   "source": [
    "- 튜플 : 기본적인 특징은 리스트와 비슷하지만 한번 정의된 튜플은 내용을 절대로 수정할 수 없음 (읽기 전용)\n",
    "  - 인덱싱, 슬라이싱, 비파괴적 연산은 모두 가능"
   ]
  },
  {
   "cell_type": "code",
   "execution_count": 16,
   "metadata": {},
   "outputs": [
    {
     "name": "stdout",
     "output_type": "stream",
     "text": [
      "(98, 82, 73, 64, 100)\n"
     ]
    }
   ],
   "source": [
    "# 5명의 학생에 대한 성적 나열\n",
    "grade = (98, 82, 73, 64, 100)\n",
    "print(grade)"
   ]
  },
  {
   "cell_type": "code",
   "execution_count": 17,
   "metadata": {},
   "outputs": [
    {
     "name": "stdout",
     "output_type": "stream",
     "text": [
      "('철수', '영희', '나영', '민식', '호영')\n"
     ]
    }
   ],
   "source": [
    "# 각 학생의 이름에 대한 나열\n",
    "names = (\"철수\", \"영희\", \"나영\", \"민식\" , \"호영\")\n",
    "print(names)"
   ]
  },
  {
   "cell_type": "code",
   "execution_count": 18,
   "metadata": {},
   "outputs": [
    {
     "name": "stdout",
     "output_type": "stream",
     "text": [
      "('철수', 98)\n"
     ]
    }
   ],
   "source": [
    "# 자료형에 대한 혼합 사용도 가능함\n",
    "stud1 = (\"철수\", 98)\n",
    "print(stud1)"
   ]
  },
  {
   "cell_type": "code",
   "execution_count": 19,
   "metadata": {},
   "outputs": [
    {
     "name": "stdout",
     "output_type": "stream",
     "text": [
      "철수\n",
      "98\n"
     ]
    }
   ],
   "source": [
    "# 값 읽기\n",
    "print(stud1[0])\n",
    "print(stud1[1])"
   ]
  },
  {
   "cell_type": "code",
   "execution_count": 20,
   "metadata": {},
   "outputs": [
    {
     "ename": "TypeError",
     "evalue": "'tuple' object does not support item assignment",
     "output_type": "error",
     "traceback": [
      "\u001b[1;31m---------------------------------------------------------------------------\u001b[0m",
      "\u001b[1;31mTypeError\u001b[0m                                 Traceback (most recent call last)",
      "\u001b[1;32mx:\\LJK\\Python\\Mega_IT\\B.Python\\11_리스트의_활용.ipynb 셀 18\u001b[0m line \u001b[0;36m2\n\u001b[0;32m      <a href='vscode-notebook-cell:/x%3A/LJK/Python/Mega_IT/B.Python/11_%EB%A6%AC%EC%8A%A4%ED%8A%B8%EC%9D%98_%ED%99%9C%EC%9A%A9.ipynb#Y112sZmlsZQ%3D%3D?line=0'>1</a>\u001b[0m \u001b[39m# 값의 변경 -> 튜플은 값의 변경이 불가능하므로 에러\u001b[39;00m\n\u001b[1;32m----> <a href='vscode-notebook-cell:/x%3A/LJK/Python/Mega_IT/B.Python/11_%EB%A6%AC%EC%8A%A4%ED%8A%B8%EC%9D%98_%ED%99%9C%EC%9A%A9.ipynb#Y112sZmlsZQ%3D%3D?line=1'>2</a>\u001b[0m stud1[\u001b[39m0\u001b[39;49m] \u001b[39m=\u001b[39m \u001b[39m\"\u001b[39m\u001b[39m철호\u001b[39m\u001b[39m\"\u001b[39m\n",
      "\u001b[1;31mTypeError\u001b[0m: 'tuple' object does not support item assignment"
     ]
    }
   ],
   "source": [
    "# 값의 변경 -> 튜플은 값의 변경이 불가능하므로 에러\n",
    "stud1[0] = \"철호\""
   ]
  },
  {
   "cell_type": "markdown",
   "metadata": {},
   "source": [
    "- 리스트와 튜플의 구조분해 : 리스트/튜플의 크기와 동일한 갯수의 변수를 컴마로 나열하여 변수선언을 한꺼번에 할 수 있음"
   ]
  },
  {
   "cell_type": "code",
   "execution_count": 21,
   "metadata": {},
   "outputs": [
    {
     "name": "stdout",
     "output_type": "stream",
     "text": [
      "python\n",
      "bigdata\n"
     ]
    }
   ],
   "source": [
    "# 리스트의 구조분해\n",
    "a, b = [\"python\", \"bigdata\"]\n",
    "print(a)\n",
    "print(b)"
   ]
  },
  {
   "cell_type": "code",
   "execution_count": 22,
   "metadata": {},
   "outputs": [
    {
     "name": "stdout",
     "output_type": "stream",
     "text": [
      "python\n",
      "bigdata\n"
     ]
    }
   ],
   "source": [
    "# 튜플의 구조분해\n",
    "a, b = (\"python\", \"bigdata\")\n",
    "print(a)\n",
    "print(b)"
   ]
  },
  {
   "cell_type": "code",
   "execution_count": 23,
   "metadata": {},
   "outputs": [
    {
     "ename": "ValueError",
     "evalue": "too many values to unpack (expected 3)",
     "output_type": "error",
     "traceback": [
      "\u001b[1;31m---------------------------------------------------------------------------\u001b[0m",
      "\u001b[1;31mValueError\u001b[0m                                Traceback (most recent call last)",
      "\u001b[1;32mx:\\LJK\\Python\\Mega_IT\\B.Python\\11_리스트의_활용.ipynb 셀 22\u001b[0m line \u001b[0;36m2\n\u001b[0;32m      <a href='vscode-notebook-cell:/x%3A/LJK/Python/Mega_IT/B.Python/11_%EB%A6%AC%EC%8A%A4%ED%8A%B8%EC%9D%98_%ED%99%9C%EC%9A%A9.ipynb#Y115sZmlsZQ%3D%3D?line=0'>1</a>\u001b[0m \u001b[39m# 선언된 변수의 수와 리스트의 원소 수가 다르면 에러가 발생한다.\u001b[39;00m\n\u001b[1;32m----> <a href='vscode-notebook-cell:/x%3A/LJK/Python/Mega_IT/B.Python/11_%EB%A6%AC%EC%8A%A4%ED%8A%B8%EC%9D%98_%ED%99%9C%EC%9A%A9.ipynb#Y115sZmlsZQ%3D%3D?line=1'>2</a>\u001b[0m a, b, c \u001b[39m=\u001b[39m [\u001b[39m10\u001b[39m, \u001b[39m20\u001b[39m, \u001b[39m30\u001b[39m, \u001b[39m40\u001b[39m]\n",
      "\u001b[1;31mValueError\u001b[0m: too many values to unpack (expected 3)"
     ]
    }
   ],
   "source": [
    "# 선언된 변수의 수와 리스트의 원소 수가 다르면 에러가 발생한다.\n",
    "a, b, c = [10, 20, 30, 40]"
   ]
  },
  {
   "cell_type": "markdown",
   "metadata": {},
   "source": [
    "- 깊은 복사와 얕은 복사\n",
    "  - 리스트의 경우 변수끼리의 대입을 하고 한쪽의 변수를 수정하면 다른 쪽의 변수가 수정됨\n",
    "    - 해당 특성을 얕은복사라고 함(참조복사)\n",
    "      - 리스트 자체는 언제나 4byte이며, 리스트가 담는 것은 실제 값이 들어갈 다른 곳의 좌표를 지정할 뿐, 리스트의 원소를 담지 않으므로 진짜 원본이 바뀌면 같은 주소를 공유하는 모든 리스트의 값이 변경됨\n",
    "    - 상수에는 해당되지 않는 특성\n",
    "  - 슬라이싱, copy()를 이용하여 복사하거나 원본을 참조하지 않고 다른 리스트를 만든 후 값을 원본과 동일하게 수정할 경우 한쪽이 수정되더라도 다른 쪽의 변수는 수정되지 않음\n",
    "    - 이 경우 두 리스트는 서로 다른 메모리 주소를 참조하게 됨(깊은복사)"
   ]
  },
  {
   "cell_type": "code",
   "execution_count": 24,
   "metadata": {},
   "outputs": [
    {
     "name": "stdout",
     "output_type": "stream",
     "text": [
      "100\n",
      "100\n"
     ]
    }
   ],
   "source": [
    "# 숫자형, 문자열, 논리값을 대입할 경우 변수값으 복사\n",
    "a = 100\n",
    "b = a\n",
    "print(a)\n",
    "print(b)"
   ]
  },
  {
   "cell_type": "code",
   "execution_count": 25,
   "metadata": {},
   "outputs": [
    {
     "name": "stdout",
     "output_type": "stream",
     "text": [
      "100\n",
      "200\n"
     ]
    }
   ],
   "source": [
    "# 복사본을 변경하더라도 원본에는 변화가 없다. (반대의 경우도 마찬가지)\n",
    "b = 200\n",
    "print(a)\n",
    "print(b)"
   ]
  },
  {
   "cell_type": "code",
   "execution_count": 26,
   "metadata": {},
   "outputs": [
    {
     "name": "stdout",
     "output_type": "stream",
     "text": [
      "[1, 2, 3]\n",
      "[1, 2, 3]\n"
     ]
    }
   ],
   "source": [
    "# 객체의 참조 -> 리스트, 딕셔너리 등\n",
    "foo = [1, 2, 3]\n",
    "bar = foo\n",
    "print(foo)\n",
    "print(bar)"
   ]
  },
  {
   "cell_type": "code",
   "execution_count": 27,
   "metadata": {},
   "outputs": [
    {
     "name": "stdout",
     "output_type": "stream",
     "text": [
      "[1, 20, 3]\n",
      "[1, 20, 3]\n"
     ]
    }
   ],
   "source": [
    "# 참조된 복사본을 변경하면 원본도 함께 변경됨. (반대의 경우도 마찬가지)\n",
    "bar[1] = 20\n",
    "print(foo)\n",
    "print(bar)"
   ]
  },
  {
   "cell_type": "code",
   "execution_count": 28,
   "metadata": {},
   "outputs": [
    {
     "name": "stdout",
     "output_type": "stream",
     "text": [
      "[1, 2, 3]\n",
      "[1, 2, 1000]\n"
     ]
    }
   ],
   "source": [
    "# 리스트 복사 (고전적인 방법)\n",
    "# -> 같은 길이의 리스트를 만들고 각 원소를 일일히 복사함.\n",
    "bar = [1, 2, 3]\n",
    "cp1 = [0, 0, 0]\n",
    "cp1[0] = bar[0]\n",
    "cp1[1] = bar[1]\n",
    "cp1[2] = bar[2]\n",
    "\n",
    "# -> 복사본을 변경하더라도 원본에 변화없음.\n",
    "cp1[2] = 1000\n",
    "print(bar)\n",
    "print(cp1)"
   ]
  },
  {
   "cell_type": "code",
   "execution_count": 29,
   "metadata": {},
   "outputs": [
    {
     "name": "stdout",
     "output_type": "stream",
     "text": [
      "[100, 200, 300]\n",
      "[100, 12345, 300]\n"
     ]
    }
   ],
   "source": [
    "# 슬라이싱을 활용한 방법\n",
    "hello = [100, 200, 300]\n",
    "cp2 = hello[:]\n",
    "\n",
    "# -> 복사본을 변경하더라도 원본에 변화없음.\n",
    "cp2[1] = 12345\n",
    "print(hello)\n",
    "print(cp2)"
   ]
  },
  {
   "cell_type": "code",
   "execution_count": 30,
   "metadata": {},
   "outputs": [
    {
     "name": "stdout",
     "output_type": "stream",
     "text": [
      "['hello', 'python', 'world']\n",
      "['nice', 'python', 'world']\n"
     ]
    }
   ],
   "source": [
    "# 리스트 객체의 함수를 사용하는 방법\n",
    "world = [\"hello\", \"python\", \"world\"]\n",
    "cp3 = world.copy()\n",
    "\n",
    "# -> 복사본을 변경하더라도 원본에 영향이 없다.\n",
    "cp3[0] = \"nice\"\n",
    "print(world)\n",
    "print(cp3)"
   ]
  }
 ],
 "metadata": {
  "kernelspec": {
   "display_name": "Python 3",
   "language": "python",
   "name": "python3"
  },
  "language_info": {
   "codemirror_mode": {
    "name": "ipython",
    "version": 3
   },
   "file_extension": ".py",
   "mimetype": "text/x-python",
   "name": "python",
   "nbconvert_exporter": "python",
   "pygments_lexer": "ipython3",
   "version": "3.9.13"
  }
 },
 "nbformat": 4,
 "nbformat_minor": 2
}
