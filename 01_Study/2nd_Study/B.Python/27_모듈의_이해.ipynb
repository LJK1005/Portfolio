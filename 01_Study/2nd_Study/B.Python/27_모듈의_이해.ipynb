{
 "cells": [
  {
   "cell_type": "markdown",
   "metadata": {},
   "source": [
    "# 27강 모듈의 이해"
   ]
  },
  {
   "cell_type": "markdown",
   "metadata": {},
   "source": [
    "- 모듈\n",
    "  - 재사용이 가능한 단위(함수, 클래식, 객체)들을 다른 프로그램에서 재사용할 목적으로 별도 파일로 분리해놓은 형태\n",
    "  - 분리했던 파일들을 필요한대로 재조립하여 그 안에 정의된 기능을 활용"
   ]
  },
  {
   "cell_type": "markdown",
   "metadata": {},
   "source": [
    "-  모듈 불러오기\n",
    "   -  import (파일이름)의 방식으로 모듈을 통째로 불러올 수 있음\n",
    "      -  뒤에 as (별칭)을 붙이면 해당 별칭으로 해당 모듈을 호출\n",
    "   - 모듈의 특정 객체만 사용할 경우 from (파일이름) import (하위객체)로 일부만 로드 가능\n",
    "     - 이 경우에도 as를 붙여 별칭 지정 가능"
   ]
  },
  {
   "cell_type": "markdown",
   "metadata": {},
   "source": [
    "- 함수~클래스를 포함하는 모듈의 모음이 라이브러리, 이를 배포할 목적으로 하나로 정리한 패키지를 배포할 수 있는 플랫폼이 있음\n",
    "  - pip 명령어를 사용하여 원하는 패키지 설치를 관리"
   ]
  },
  {
   "cell_type": "code",
   "execution_count": 1,
   "metadata": {},
   "outputs": [
    {
     "name": "stdout",
     "output_type": "stream",
     "text": [
      "importing Jupyter notebook from MyMod1.ipynb\n"
     ]
    }
   ],
   "source": [
    "# ipynb 형식의 모듈을 참조할 수 있도록 하는 패키지 참조\n",
    "import import_ipynb\n",
    "\n",
    "# 직접 작성한 모듈 참조\n",
    "import MyMod1"
   ]
  },
  {
   "cell_type": "code",
   "execution_count": 2,
   "metadata": {},
   "outputs": [
    {
     "name": "stdout",
     "output_type": "stream",
     "text": [
      "7\n",
      "-1\n"
     ]
    }
   ],
   "source": [
    "# 참조한 파일에 정의된 함수는 '파일이름.함수명' 형식으로 접근\n",
    "print(MyMod1.plus(3, 4))\n",
    "print(MyMod1.minus(3, 4))"
   ]
  },
  {
   "cell_type": "code",
   "execution_count": 3,
   "metadata": {},
   "outputs": [
    {
     "name": "stdout",
     "output_type": "stream",
     "text": [
      "7\n",
      "-1\n"
     ]
    }
   ],
   "source": [
    "import MyMod1 as hello\n",
    "\n",
    "# 모듈에 포함된 기능들은 '별칭이름.함수명'형식으로 접근\n",
    "print(hello.plus(3, 4))\n",
    "print(hello.minus(3,4))"
   ]
  },
  {
   "cell_type": "code",
   "execution_count": 4,
   "metadata": {},
   "outputs": [
    {
     "name": "stdout",
     "output_type": "stream",
     "text": [
      "importing Jupyter notebook from Mymod1.ipynb\n",
      "7\n"
     ]
    },
    {
     "ename": "NameError",
     "evalue": "name 'minus' is not defined",
     "output_type": "error",
     "traceback": [
      "\u001b[1;31m---------------------------------------------------------------------------\u001b[0m",
      "\u001b[1;31mNameError\u001b[0m                                 Traceback (most recent call last)",
      "\u001b[1;32mx:\\LJK\\Python\\Mega_IT\\B.Python\\27_모듈의_이해.ipynb 셀 8\u001b[0m line \u001b[0;36m7\n\u001b[0;32m      <a href='vscode-notebook-cell:/x%3A/LJK/Python/Mega_IT/B.Python/27_%EB%AA%A8%EB%93%88%EC%9D%98_%EC%9D%B4%ED%95%B4.ipynb#X10sZmlsZQ%3D%3D?line=3'>4</a>\u001b[0m \u001b[39mprint\u001b[39m(plus(\u001b[39m3\u001b[39m, \u001b[39m4\u001b[39m))\n\u001b[0;32m      <a href='vscode-notebook-cell:/x%3A/LJK/Python/Mega_IT/B.Python/27_%EB%AA%A8%EB%93%88%EC%9D%98_%EC%9D%B4%ED%95%B4.ipynb#X10sZmlsZQ%3D%3D?line=5'>6</a>\u001b[0m \u001b[39m# minus 함수는 import 하지 않았으므로 사용 불가\u001b[39;00m\n\u001b[1;32m----> <a href='vscode-notebook-cell:/x%3A/LJK/Python/Mega_IT/B.Python/27_%EB%AA%A8%EB%93%88%EC%9D%98_%EC%9D%B4%ED%95%B4.ipynb#X10sZmlsZQ%3D%3D?line=6'>7</a>\u001b[0m \u001b[39mprint\u001b[39m(minus(\u001b[39m3\u001b[39m, \u001b[39m4\u001b[39m))\n",
      "\u001b[1;31mNameError\u001b[0m: name 'minus' is not defined"
     ]
    }
   ],
   "source": [
    "from Mymod1 import plus\n",
    "\n",
    "# 골라서 가져온 기능들은 앞에 모듈이름을 적용하지 않고 직접 접근한다\n",
    "print(plus(3, 4))\n",
    "\n",
    "# minus 함수는 import 하지 않았으므로 사용 불가\n",
    "print(minus(3, 4))"
   ]
  },
  {
   "cell_type": "code",
   "execution_count": 5,
   "metadata": {},
   "outputs": [
    {
     "name": "stdout",
     "output_type": "stream",
     "text": [
      "importing Jupyter notebook from MyMod2.ipynb\n",
      "----- 생성자가 실행되었습니다. -----\n",
      "이름: 파이썬학생 / 이메일: leekh4232@gmail.com\n"
     ]
    }
   ],
   "source": [
    "import MyMod2\n",
    "\n",
    "# MyMod2에 정의된 Member라는 클래스에 \"모듈이름.클래스이름\" 형식으로 접근\n",
    "# -> import된 클래스는 정의된 기능을 다른 변수에 부여해야 사용가능. = 객체\n",
    "# -> 클래스에 생성자가 포함되어 있고 생성자가 파라미터를 갖는 경우\n",
    "# 객체 생성시에 생성자 파라미터를 전달해야함.\n",
    "\n",
    "mem = MyMod2.Member('파이썬학생', 'leekh4232@gmail.com')\n",
    "mem.view_info()"
   ]
  },
  {
   "cell_type": "code",
   "execution_count": 6,
   "metadata": {},
   "outputs": [
    {
     "name": "stdout",
     "output_type": "stream",
     "text": [
      "----- 생성자가 실행되었습니다. -----\n",
      "이름: 파이썬학생 / 이메일: leekh4232@gmail.com\n"
     ]
    }
   ],
   "source": [
    "# MyMod2 모듈에 User라는 별칭을 적용하여 import\n",
    "import MyMod2 as User\n",
    "\n",
    "mem = User.Member('파이썬학생', 'leekh4232@gmail.com')\n",
    "mem.view_info()"
   ]
  },
  {
   "cell_type": "code",
   "execution_count": 7,
   "metadata": {},
   "outputs": [
    {
     "name": "stdout",
     "output_type": "stream",
     "text": [
      "----- 생성자가 실행되었습니다. -----\n",
      "이름: 파이썬학생 / 이메일: leekh4232@gmail.com\n"
     ]
    }
   ],
   "source": [
    "# MyMod2 모듈에서 Member라는 이름의 기능만 지정해서 참조\n",
    "from MyMod2 import Member\n",
    "\n",
    "# from절로 특정 기능만 골라서 참조한 경우 파일이름이나 별칭 없이 직접 접근.\n",
    "# 참조된 기능이 클래스이므로, 객체로 생성해야만 사용가능.\n",
    "mem = Member('파이썬학생', 'leekh4232@gmail.com')\n",
    "mem.view_info()"
   ]
  },
  {
   "cell_type": "code",
   "execution_count": 12,
   "metadata": {},
   "outputs": [
    {
     "name": "stdout",
     "output_type": "stream",
     "text": [
      "importing Jupyter notebook from MyMod3.ipynb\n",
      "45\n",
      "15\n"
     ]
    }
   ],
   "source": [
    "import MyMod3\n",
    "\n",
    "# 모듈안에 객체를 통해서 기능에 접근.\n",
    "print(MyMod3.my_calc.plus(30, 15))\n",
    "print(MyMod3.my_calc.minus(30, 15))"
   ]
  },
  {
   "cell_type": "code",
   "execution_count": 13,
   "metadata": {},
   "outputs": [
    {
     "name": "stdout",
     "output_type": "stream",
     "text": [
      "45\n",
      "15\n"
     ]
    }
   ],
   "source": [
    "import MyMod3 as MyObject\n",
    "\n",
    "print(MyObject.my_calc.plus(30, 15))\n",
    "print(MyObject.my_calc.minus(30, 15))"
   ]
  },
  {
   "cell_type": "code",
   "execution_count": 14,
   "metadata": {},
   "outputs": [
    {
     "name": "stdout",
     "output_type": "stream",
     "text": [
      "45\n",
      "15\n"
     ]
    }
   ],
   "source": [
    "# 모듈에 정의된 특정 기능(여기서는 객체)만 골라서 참조\n",
    "from MyMod3 import my_calc\n",
    "\n",
    "print(my_calc.plus(30, 15))\n",
    "print(my_calc.minus(30, 15))"
   ]
  },
  {
   "cell_type": "code",
   "execution_count": 15,
   "metadata": {},
   "outputs": [
    {
     "name": "stdout",
     "output_type": "stream",
     "text": [
      "45\n",
      "15\n"
     ]
    }
   ],
   "source": [
    "from MyMod3 import my_calc as cl\n",
    "print(cl.plus(30, 15))\n",
    "print(cl.minus(30, 15))"
   ]
  },
  {
   "cell_type": "code",
   "execution_count": null,
   "metadata": {},
   "outputs": [],
   "source": []
  },
  {
   "cell_type": "code",
   "execution_count": null,
   "metadata": {},
   "outputs": [],
   "source": []
  },
  {
   "cell_type": "code",
   "execution_count": null,
   "metadata": {},
   "outputs": [],
   "source": []
  },
  {
   "cell_type": "code",
   "execution_count": null,
   "metadata": {},
   "outputs": [],
   "source": []
  },
  {
   "cell_type": "code",
   "execution_count": null,
   "metadata": {},
   "outputs": [],
   "source": []
  },
  {
   "cell_type": "code",
   "execution_count": null,
   "metadata": {},
   "outputs": [],
   "source": []
  },
  {
   "cell_type": "code",
   "execution_count": null,
   "metadata": {},
   "outputs": [],
   "source": []
  },
  {
   "cell_type": "code",
   "execution_count": null,
   "metadata": {},
   "outputs": [],
   "source": []
  }
 ],
 "metadata": {
  "kernelspec": {
   "display_name": "Python 3 (ipykernel)",
   "language": "python",
   "name": "python3"
  },
  "language_info": {
   "codemirror_mode": {
    "name": "ipython",
    "version": 3
   },
   "file_extension": ".py",
   "mimetype": "text/x-python",
   "name": "python",
   "nbconvert_exporter": "python",
   "pygments_lexer": "ipython3",
   "version": "3.10.9"
  }
 },
 "nbformat": 4,
 "nbformat_minor": 4
}
