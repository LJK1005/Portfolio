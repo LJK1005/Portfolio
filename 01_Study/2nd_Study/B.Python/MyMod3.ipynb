{
 "cells": [
  {
   "cell_type": "code",
   "execution_count": null,
   "metadata": {},
   "outputs": [],
   "source": [
    "class Calc:\n",
    "    def plus(self, x, y):\n",
    "        return x + y\n",
    "    \n",
    "    def minus(self, x, y):\n",
    "        return x - y\n",
    "    \n",
    "# 모듈안에 클래스의 기능을 부여받은 객체 생성.\n",
    "my_calc = Calc()"
   ]
  }
 ],
 "metadata": {
  "language_info": {
   "name": "python"
  }
 },
 "nbformat": 4,
 "nbformat_minor": 2
}
