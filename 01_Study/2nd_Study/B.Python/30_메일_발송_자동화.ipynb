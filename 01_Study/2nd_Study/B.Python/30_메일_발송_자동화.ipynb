{
 "cells": [
  {
   "cell_type": "markdown",
   "metadata": {},
   "source": [
    "# 30강 메일 발송 자동화"
   ]
  },
  {
   "cell_type": "markdown",
   "metadata": {},
   "source": [
    "- SMTP 서버\n",
    "  - 외부 프로그램의 요청에 따라 메일을 발송하고 응답을 반환하는 시스템\n",
    "  - 파이썬 자체는 메일을 발송할수 없어 외부 SMTP와 연동을 통해 메일을 발송"
   ]
  },
  {
   "cell_type": "code",
   "execution_count": 1,
   "metadata": {},
   "outputs": [],
   "source": [
    "# -> 경로 정보를 취득하기 위한 모듈\n",
    "import os.path\n",
    "# -> 발송서버와 연동하기 위한 모듈\n",
    "from smtplib import SMTP\n",
    "# -> 본문 구성 기능\n",
    "from email.mime.text import MIMEText\n",
    "# -> 파일을 Multipart 형식으로 변환\n",
    "from email.mime.application import MIMEApplication\n",
    "# -> 파일을 본문에 추가하는 기능 제공\n",
    "from email.mime.multipart import MIMEMultipart"
   ]
  },
  {
   "cell_type": "code",
   "execution_count": 2,
   "metadata": {},
   "outputs": [],
   "source": [
    "# 보내는 사람 주소 (로그인 계정과 동일해야 함)\n",
    "from_addr = \"yijingue@naver.com\"\n",
    "\n",
    "# 받는 사람 주소\n",
    "to_addr = \"yijingue@gmail.com\"\n",
    "\n",
    "# 제목\n",
    "subject = \"파이썬 메일 발송 테스트 입니다.\"\n",
    "\n",
    "# 본문내용 작성 -> 삼중 따옴표 안에서는 줄바꿈이 자유롭다\n",
    "content = \"\"\"안녕하세요. 파이썬으로 발송하는 메일입니다.\n",
    "\n",
    "잘 발송되는지 확인해보도록 하겠습니다.\n",
    "\n",
    "하나 둘 ~ 셋\"\"\"\n",
    "\n",
    "# 첨부파일이 필요 없는 경우\n",
    "# files = []\n",
    "\n",
    "# 첨부파일이 필요한 경우 (파일이 실제로 존재해야 함)\n",
    "files = [\"hello.txt\", 'world.txt']"
   ]
  },
  {
   "cell_type": "code",
   "execution_count": 3,
   "metadata": {},
   "outputs": [],
   "source": [
    "# 컨텐츠 형식 (plain or html)\n",
    "content_type = \"plain\"\n",
    "\n",
    "# 로그인 계정 이름(네이버 = 아이디, 구글 = 메일주소)\n",
    "username = \"\"\n",
    "\n",
    "# 비밀번호 (네이버 = 개인비밀번호, 애플리케이션 비밀번호, 구글 = 앱 비밀번호)\n",
    "password = \"\"\n",
    "\n",
    "# 구글 발송 서버 주소와 포트 (고정값)\n",
    "# smtp = \"smtp.gmail.com\"\n",
    "# port = 587\n",
    "\n",
    "# 네이버 발송 서버 주소와 포트 (고정값)\n",
    "smtp = \"smtp.naver.com\"\n",
    "port = 465"
   ]
  },
  {
   "cell_type": "code",
   "execution_count": 4,
   "metadata": {},
   "outputs": [],
   "source": [
    "# 메일 발송 정보를 저장하기 위한 객체\n",
    "msg = MIMEMultipart()\n",
    "\n",
    "msg['Subject'] = subject # 메일 제목\n",
    "msg['From'] = from_addr # 보내는 사람\n",
    "msg['To'] = to_addr # 받는 사람\n",
    "\n",
    "# 본문 설정 -> 메일의 내용과 형식 지정\n",
    "msg.attach(MIMEText(content, content_type))"
   ]
  },
  {
   "cell_type": "code",
   "execution_count": 5,
   "metadata": {},
   "outputs": [],
   "source": [
    "# 리스트 변수의 원소가 하나라도 존재할 경우 True\n",
    "if files:\n",
    "    for f in files:\n",
    "        # 바이너리(b) 형식으로 읽기(r) : 바이너리 읽기는 인코딩 설정 필요X\n",
    "        with open(f, 'rb') as a_file:\n",
    "            # 전체 경로에서 파일의 이름만 추출\n",
    "            basename = os.path.basename(f)\n",
    "            # 파일의 내용과 파일이름을 메일에 첨부할 형식으로 변환\n",
    "            part = MIMEApplication(a_file.read(), Name = basename)\n",
    "\n",
    "            # 파일첨부\n",
    "            part['Content-Disposition'] = 'attachment; filename=\"%s\"' % basename\n",
    "            msg.attach(part)"
   ]
  },
  {
   "cell_type": "code",
   "execution_count": 6,
   "metadata": {},
   "outputs": [
    {
     "data": {
      "text/plain": [
       "(221, b'2.0.0 Closing connection CEub39fKSuC-byOhqb7IrA - nsmtp')"
      ]
     },
     "execution_count": 6,
     "metadata": {},
     "output_type": "execute_result"
    }
   ],
   "source": [
    "mail = SMTP(smtp)\n",
    "# 메일 서버 접속\n",
    "mail.ehlo()\n",
    "# 메일 서버 연동 설정\n",
    "mail.starttls()\n",
    "# 메일 서버 로그인\n",
    "mail.login(username, password)\n",
    "# 메일 보내기\n",
    "mail.sendmail(from_addr, to_addr, msg.as_string())\n",
    "# 메일 서버 접속 종료\n",
    "mail.quit()"
   ]
  },
  {
   "cell_type": "markdown",
   "metadata": {},
   "source": [
    "# 30-1 메일링 리스트"
   ]
  },
  {
   "cell_type": "code",
   "execution_count": 1,
   "metadata": {},
   "outputs": [],
   "source": [
    "import MyMailer\n",
    "import datetime as dt"
   ]
  },
  {
   "cell_type": "code",
   "execution_count": 2,
   "metadata": {},
   "outputs": [
    {
     "name": "stdout",
     "output_type": "stream",
     "text": [
      "2023 11 30\n"
     ]
    }
   ],
   "source": [
    "today = dt.datetime.now()\n",
    "year = today.year\n",
    "month = today.month\n",
    "day = today.day\n",
    "print(year, month, day)"
   ]
  },
  {
   "cell_type": "code",
   "execution_count": 6,
   "metadata": {},
   "outputs": [],
   "source": [
    "# 메일 발신자 정보\n",
    "fromAddr = \"yijingue@naver.com\"\n",
    "\n",
    "# 메일 제목을 위한 템플릿\n",
    "subjectTmpl = \"{name}님의 {yy}년 {mm}월 급여명세서 입니다.\""
   ]
  },
  {
   "cell_type": "code",
   "execution_count": 4,
   "metadata": {},
   "outputs": [
    {
     "name": "stdout",
     "output_type": "stream",
     "text": [
      "안녕하세요 {name}님\n",
      "\n",
      "{yy}년도 {mm}월 급여명세서와 결산보고서 보내드립니다.\n",
      "\n",
      "귀하의 노고에 감사드립니다.\n",
      "\n",
      "- {yy}년 {mm}월 {dd}일 / 운영지원팀 드림\n"
     ]
    }
   ],
   "source": [
    "with open('mailtest/content.txt', 'r', encoding = 'utf-8') as f:\n",
    "    contentTmpl = f.read()\n",
    "    print(contentTmpl)"
   ]
  },
  {
   "cell_type": "code",
   "execution_count": 9,
   "metadata": {},
   "outputs": [],
   "source": [
    "with open(\"mailtest/mail_list.csv\", \"r\", encoding = 'euc-kr') as f:\n",
    "    csv = f.readlines()\n",
    "\n",
    "    # CSV의 라인 수 만큼 반복\n",
    "    for line in csv:\n",
    "        # 한 줄의 내용을 분리\n",
    "        name, email, file1, file2 = line.strip().split(\",\")\n",
    "        # print(name, email, file1, file2)\n",
    "\n",
    "        toAddr = \"{email}\".format(email = email)\n",
    "        # print(toAddr)\n",
    "\n",
    "        # 메일 제목\n",
    "        subject = subjectTmpl.format(name = name, yy = year, mm = month)\n",
    "        # print(subject)\n",
    "\n",
    "        # 메일 내용\n",
    "        content = contentTmpl.format(name = name, yy = year, mm = month, dd = day)\n",
    "        # print(content)\n",
    "\n",
    "        # 메일 보내기\n",
    "        MyMailer.sendMail(fromAddr, toAddr, subject, content, [file1, file2])"
   ]
  },
  {
   "cell_type": "code",
   "execution_count": null,
   "metadata": {},
   "outputs": [],
   "source": []
  },
  {
   "cell_type": "code",
   "execution_count": null,
   "metadata": {},
   "outputs": [],
   "source": []
  },
  {
   "cell_type": "code",
   "execution_count": null,
   "metadata": {},
   "outputs": [],
   "source": []
  },
  {
   "cell_type": "code",
   "execution_count": null,
   "metadata": {},
   "outputs": [],
   "source": []
  },
  {
   "cell_type": "code",
   "execution_count": null,
   "metadata": {},
   "outputs": [],
   "source": []
  },
  {
   "cell_type": "code",
   "execution_count": null,
   "metadata": {},
   "outputs": [],
   "source": []
  },
  {
   "cell_type": "code",
   "execution_count": null,
   "metadata": {},
   "outputs": [],
   "source": []
  },
  {
   "cell_type": "code",
   "execution_count": null,
   "metadata": {},
   "outputs": [],
   "source": []
  },
  {
   "cell_type": "code",
   "execution_count": null,
   "metadata": {},
   "outputs": [],
   "source": []
  },
  {
   "cell_type": "code",
   "execution_count": null,
   "metadata": {},
   "outputs": [],
   "source": []
  },
  {
   "cell_type": "code",
   "execution_count": null,
   "metadata": {},
   "outputs": [],
   "source": []
  },
  {
   "cell_type": "code",
   "execution_count": null,
   "metadata": {},
   "outputs": [],
   "source": []
  },
  {
   "cell_type": "code",
   "execution_count": null,
   "metadata": {},
   "outputs": [],
   "source": []
  },
  {
   "cell_type": "code",
   "execution_count": null,
   "metadata": {},
   "outputs": [],
   "source": []
  },
  {
   "cell_type": "code",
   "execution_count": null,
   "metadata": {},
   "outputs": [],
   "source": []
  },
  {
   "cell_type": "code",
   "execution_count": null,
   "metadata": {},
   "outputs": [],
   "source": []
  },
  {
   "cell_type": "code",
   "execution_count": null,
   "metadata": {},
   "outputs": [],
   "source": []
  },
  {
   "cell_type": "code",
   "execution_count": null,
   "metadata": {},
   "outputs": [],
   "source": []
  },
  {
   "cell_type": "code",
   "execution_count": null,
   "metadata": {},
   "outputs": [],
   "source": []
  },
  {
   "cell_type": "code",
   "execution_count": null,
   "metadata": {},
   "outputs": [],
   "source": []
  },
  {
   "cell_type": "code",
   "execution_count": null,
   "metadata": {},
   "outputs": [],
   "source": []
  },
  {
   "cell_type": "code",
   "execution_count": null,
   "metadata": {},
   "outputs": [],
   "source": []
  },
  {
   "cell_type": "code",
   "execution_count": null,
   "metadata": {},
   "outputs": [],
   "source": []
  },
  {
   "cell_type": "code",
   "execution_count": null,
   "metadata": {},
   "outputs": [],
   "source": []
  },
  {
   "cell_type": "code",
   "execution_count": null,
   "metadata": {},
   "outputs": [],
   "source": []
  },
  {
   "cell_type": "code",
   "execution_count": null,
   "metadata": {},
   "outputs": [],
   "source": []
  }
 ],
 "metadata": {
  "kernelspec": {
   "display_name": "base",
   "language": "python",
   "name": "python3"
  },
  "language_info": {
   "codemirror_mode": {
    "name": "ipython",
    "version": 3
   },
   "file_extension": ".py",
   "mimetype": "text/x-python",
   "name": "python",
   "nbconvert_exporter": "python",
   "pygments_lexer": "ipython3",
   "version": "3.10.9"
  }
 },
 "nbformat": 4,
 "nbformat_minor": 2
}
