{
 "cells": [
  {
   "cell_type": "markdown",
   "metadata": {},
   "source": [
    "# 22강 함수의 이해"
   ]
  },
  {
   "cell_type": "markdown",
   "metadata": {},
   "source": [
    "- 프로그래밍에서의 함수\n",
    "  - 특정 기능(=연산)을 그룹화해서 재사용하기 위한 단위\n",
    "- 함수는 def 함수이름():  연산식... 으로 정의\n",
    "  - 함수를 정의하는 것만으로는 아무 동작도 하지 않음\n",
    "  - 함수이름() 의 방식으로 함수를 호출해야 내부 연산이 실행됨"
   ]
  },
  {
   "cell_type": "code",
   "execution_count": 1,
   "metadata": {},
   "outputs": [],
   "source": [
    "def say_hello():\n",
    "    print(\"Hello Python\")\n",
    "    print(\"안녕 파이썬\")"
   ]
  },
  {
   "cell_type": "code",
   "execution_count": 2,
   "metadata": {},
   "outputs": [
    {
     "name": "stdout",
     "output_type": "stream",
     "text": [
      "Hello Python\n",
      "안녕 파이썬\n",
      "Hello Python\n",
      "안녕 파이썬\n"
     ]
    }
   ],
   "source": [
    "say_hello()\n",
    "say_hello()"
   ]
  },
  {
   "cell_type": "markdown",
   "metadata": {},
   "source": [
    "- 함수의 파라미터\n",
    "  - 함수는 실행되는데 필요한 조건값인 매개변수/파라미터 (x...)가 필요할 수 있으며 이는 함수이름(매개변수)로 전달해야 함\n",
    "    - 필수적인 파라미터는 전달하지 않으면 에러가 발생하며 함수가 실행되지 않음\n",
    "    - 함수 정의에서 매개변수는 여러 개 만들 수 있음 (다중 파라미터), 매개변수 간은 컴마(,)로 구분"
   ]
  },
  {
   "cell_type": "code",
   "execution_count": 5,
   "metadata": {},
   "outputs": [],
   "source": [
    "def f(x):\n",
    "    y = x + 1\n",
    "    tpl = \"f({0}) => {0} + 1 = {1}\"\n",
    "    print(tpl.format(x, y))"
   ]
  },
  {
   "cell_type": "code",
   "execution_count": 6,
   "metadata": {},
   "outputs": [
    {
     "name": "stdout",
     "output_type": "stream",
     "text": [
      "f(2) => 2 + 1 = 3\n"
     ]
    }
   ],
   "source": [
    "f(2)"
   ]
  },
  {
   "cell_type": "code",
   "execution_count": 7,
   "metadata": {},
   "outputs": [
    {
     "name": "stdout",
     "output_type": "stream",
     "text": [
      "f(3) => 3 + 1 = 4\n"
     ]
    }
   ],
   "source": [
    "f(3)"
   ]
  },
  {
   "cell_type": "code",
   "execution_count": 8,
   "metadata": {},
   "outputs": [],
   "source": [
    "def foo(count):\n",
    "    for i in range(0, count):\n",
    "        print(\"Hello World\")"
   ]
  },
  {
   "cell_type": "code",
   "execution_count": 9,
   "metadata": {},
   "outputs": [
    {
     "name": "stdout",
     "output_type": "stream",
     "text": [
      "Hello World\n",
      "Hello World\n"
     ]
    }
   ],
   "source": [
    "foo(2)"
   ]
  },
  {
   "cell_type": "code",
   "execution_count": 10,
   "metadata": {},
   "outputs": [
    {
     "ename": "TypeError",
     "evalue": "foo() missing 1 required positional argument: 'count'",
     "output_type": "error",
     "traceback": [
      "\u001b[1;31m---------------------------------------------------------------------------\u001b[0m",
      "\u001b[1;31mTypeError\u001b[0m                                 Traceback (most recent call last)",
      "\u001b[1;32mx:\\LJK\\Python\\Mega_IT\\B.Python\\22강_함수의_이해.ipynb 셀 11\u001b[0m line \u001b[0;36m1\n\u001b[1;32m----> <a href='vscode-notebook-cell:/x%3A/LJK/Python/Mega_IT/B.Python/22%EA%B0%95_%ED%95%A8%EC%88%98%EC%9D%98_%EC%9D%B4%ED%95%B4.ipynb#W4sZmlsZQ%3D%3D?line=0'>1</a>\u001b[0m foo()\n",
      "\u001b[1;31mTypeError\u001b[0m: foo() missing 1 required positional argument: 'count'"
     ]
    }
   ],
   "source": [
    "foo()"
   ]
  },
  {
   "cell_type": "code",
   "execution_count": 13,
   "metadata": {},
   "outputs": [],
   "source": [
    "def hello(x, y):\n",
    "    z = x + y\n",
    "    tpl = \"hello({0},{1}) => {0} + {1} = {2}\"\n",
    "    print(tpl.format(x, y, z))"
   ]
  },
  {
   "cell_type": "code",
   "execution_count": 14,
   "metadata": {},
   "outputs": [
    {
     "name": "stdout",
     "output_type": "stream",
     "text": [
      "hello(2,1) => 2 + 1 = 3\n"
     ]
    }
   ],
   "source": [
    "hello(2, 1)"
   ]
  },
  {
   "cell_type": "code",
   "execution_count": 15,
   "metadata": {},
   "outputs": [
    {
     "name": "stdout",
     "output_type": "stream",
     "text": [
      "hello(5,3) => 5 + 3 = 8\n"
     ]
    }
   ],
   "source": [
    "hello(5, 3)"
   ]
  },
  {
   "cell_type": "markdown",
   "metadata": {},
   "source": [
    "- 파라미터의 기본값\n",
    "  - 함수와 파라미터를 정의하면서 뒤에서부터 차례대로 기본값을 지정할 수 있음\n",
    "    - 입력이 필요한 파라미터 앞에 배치할 수 없음\n",
    "  - 기본값이 지정된 파라미터는 함수 실행시 파라미터 입력에서 생략 가능\n",
    "    - 전달이 필요한 파라미터를 먼저 순서대로 입력해야 함\n",
    "  - 함수 호출시 각 파라미터의 이름에 값을 직접 대입하면 순서 상관없이 입력 가능\n",
    "    - 이 경우에도 기본값이 있는 파라미터는 생략 가능"
   ]
  },
  {
   "cell_type": "code",
   "execution_count": 24,
   "metadata": {},
   "outputs": [],
   "source": [
    "def sum1(x, y, z = 0):\n",
    "    tpl = \"sum({0} + {1} + {2}) -> {0} + {1} + {2} = {3}\"\n",
    "    print(tpl.format(x, y, z, x+y+z))"
   ]
  },
  {
   "cell_type": "code",
   "execution_count": 25,
   "metadata": {},
   "outputs": [
    {
     "name": "stdout",
     "output_type": "stream",
     "text": [
      "sum(1 + 2 + 3) -> 1 + 2 + 3 = 6\n"
     ]
    }
   ],
   "source": [
    "# 모든 파라미터값을 전달하여 함수 호출\n",
    "sum1(1, 2, 3)"
   ]
  },
  {
   "cell_type": "code",
   "execution_count": 26,
   "metadata": {},
   "outputs": [
    {
     "name": "stdout",
     "output_type": "stream",
     "text": [
      "sum(10 + 20 + 0) -> 10 + 20 + 0 = 30\n"
     ]
    }
   ],
   "source": [
    "# 초기값이 설정된 파라미터는 호출시에 생략 가능함. -> 생략된 파라미터는 초기값으로 설정됨.\n",
    "sum1(10, 20)"
   ]
  },
  {
   "cell_type": "code",
   "execution_count": 27,
   "metadata": {},
   "outputs": [],
   "source": [
    "def record(name, kor = 0, eng = 0):\n",
    "    print(\"%s의 국어점수는 %d점이고, 영어점수는 %d점 입니다.\" % (name, kor, eng))"
   ]
  },
  {
   "cell_type": "code",
   "execution_count": 28,
   "metadata": {},
   "outputs": [
    {
     "name": "stdout",
     "output_type": "stream",
     "text": [
      "이광호의 국어점수는 92점이고, 영어점수는 77점 입니다.\n"
     ]
    }
   ],
   "source": [
    "# 파라미터의 이름을 지정한 함수 호출 -> 파라미터 전달 순서를 무시할 수 있다.\n",
    "record(kor = 92, name = '이광호', eng = 77)"
   ]
  },
  {
   "cell_type": "code",
   "execution_count": 29,
   "metadata": {},
   "outputs": [
    {
     "name": "stdout",
     "output_type": "stream",
     "text": [
      "홍민영의 국어점수는 0점이고, 영어점수는 80점 입니다.\n"
     ]
    }
   ],
   "source": [
    "# 함수에 정의된 기본값 활용\n",
    "record('홍민영', eng = 80)"
   ]
  },
  {
   "cell_type": "markdown",
   "metadata": {},
   "source": [
    "- 함수의 리턴\n",
    "  - 함수는 자신이 포함하고 있는 수식에 대한 결과를 반환할 수 있음\n",
    "  - 함수가 연산결과를 자신이 호출된 자리에 반환하는 것을 \"리턴\"이라고 하며, 이 값을 리턴값이라고 함\n",
    "  - return으로 리턴을 정의할 수 있음\n",
    "  - 함수는 return을 만나면 즉시 종료됨"
   ]
  },
  {
   "cell_type": "code",
   "execution_count": 14,
   "metadata": {},
   "outputs": [],
   "source": [
    "def plus(x, y):\n",
    "    z = x + y\n",
    "    return z # 자신이 호출된 위치로 값을 되돌려준다."
   ]
  },
  {
   "cell_type": "code",
   "execution_count": 15,
   "metadata": {},
   "outputs": [
    {
     "name": "stdout",
     "output_type": "stream",
     "text": [
      "30\n"
     ]
    }
   ],
   "source": [
    "a = plus(10, 20) # 리턴값을 다른 변수에 할당하기\n",
    "print(a)"
   ]
  },
  {
   "cell_type": "code",
   "execution_count": 16,
   "metadata": {},
   "outputs": [
    {
     "name": "stdout",
     "output_type": "stream",
     "text": [
      "300\n"
     ]
    }
   ],
   "source": [
    "print(plus(100, 200)) # 리턴값을 갖는 함수는 그 결과를 직접 출력할 수 있다."
   ]
  },
  {
   "cell_type": "code",
   "execution_count": 17,
   "metadata": {},
   "outputs": [
    {
     "name": "stdout",
     "output_type": "stream",
     "text": [
      "112\n"
     ]
    }
   ],
   "source": [
    "b = plus(5, 7) + 100 # 리턴값을 갖는 함수는 그 결과를 다른 연산에 활용할 수 있다.\n",
    "print(b)"
   ]
  },
  {
   "cell_type": "code",
   "execution_count": 18,
   "metadata": {},
   "outputs": [],
   "source": [
    "# return문을 중간에 만나는 경우 그 즉시 수행을 종료한다.\n",
    "def foo(x, y):\n",
    "    if x < 10 or y < 10:\n",
    "        return 0\n",
    "    \n",
    "    z = x + y\n",
    "    return z"
   ]
  },
  {
   "cell_type": "code",
   "execution_count": 19,
   "metadata": {},
   "outputs": [
    {
     "name": "stdout",
     "output_type": "stream",
     "text": [
      "300\n"
     ]
    }
   ],
   "source": [
    "# 함수 안에 정의된 if문의 조건이 거짓이 되므로 if문은 실행되지 않는다.\n",
    "print(foo(100, 200))"
   ]
  },
  {
   "cell_type": "code",
   "execution_count": 20,
   "metadata": {},
   "outputs": [
    {
     "name": "stdout",
     "output_type": "stream",
     "text": [
      "0\n"
     ]
    }
   ],
   "source": [
    "# 함수 안에 정의된 if문의 조건이 성립하므로 실행이 중단되어 z값을 리턴하지 않는다.\n",
    "print(foo(1, 2))"
   ]
  },
  {
   "cell_type": "code",
   "execution_count": 21,
   "metadata": {},
   "outputs": [],
   "source": [
    "# 두 개 이상의 값을 튜플이나 리스트로 묶어서 한번에 리턴\n",
    "def bar():\n",
    "    x = 1\n",
    "    y = 2\n",
    "    return (x, y)"
   ]
  },
  {
   "cell_type": "code",
   "execution_count": 22,
   "metadata": {},
   "outputs": [
    {
     "name": "stdout",
     "output_type": "stream",
     "text": [
      "(1, 2) => 1, 2\n"
     ]
    }
   ],
   "source": [
    "# 함수의 리턴값이 튜플이므로 인덱스 번호를 통해 원소에 접근한다.\n",
    "a = bar()\n",
    "print(\"%s => %d, %d\" % (a, a[0], a[1]))"
   ]
  },
  {
   "cell_type": "code",
   "execution_count": 24,
   "metadata": {},
   "outputs": [
    {
     "name": "stdout",
     "output_type": "stream",
     "text": [
      "1\n",
      "2\n"
     ]
    }
   ],
   "source": [
    "# 'a, b = (1, 2)' 의 구조분해를 활용하면 연속성 자료형 리턴값을 개별변수로 분리 가능\n",
    "m, n = bar()\n",
    "print(m)\n",
    "print(n)"
   ]
  },
  {
   "cell_type": "code",
   "execution_count": 1,
   "metadata": {},
   "outputs": [],
   "source": [
    "a = 100\n",
    "b = 200\n",
    "\n",
    "def foo():\n",
    "    c = a + b # 함수 안에서는 함수 밖의 변수 식별 가능 (지역변수)\n",
    "    print(c)"
   ]
  },
  {
   "cell_type": "code",
   "execution_count": 2,
   "metadata": {},
   "outputs": [
    {
     "name": "stdout",
     "output_type": "stream",
     "text": [
      "300\n"
     ]
    }
   ],
   "source": [
    "foo()"
   ]
  },
  {
   "cell_type": "code",
   "execution_count": 3,
   "metadata": {},
   "outputs": [
    {
     "ename": "NameError",
     "evalue": "name 'c' is not defined",
     "output_type": "error",
     "traceback": [
      "\u001b[1;31m---------------------------------------------------------------------------\u001b[0m",
      "\u001b[1;31mNameError\u001b[0m                                 Traceback (most recent call last)",
      "\u001b[1;32mx:\\LJK\\Python\\Mega_IT\\B.Python\\22강_함수의_이해.ipynb 셀 35\u001b[0m line \u001b[0;36m1\n\u001b[1;32m----> <a href='vscode-notebook-cell:/x%3A/LJK/Python/Mega_IT/B.Python/22%EA%B0%95_%ED%95%A8%EC%88%98%EC%9D%98_%EC%9D%B4%ED%95%B4.ipynb#X46sZmlsZQ%3D%3D?line=0'>1</a>\u001b[0m \u001b[39mprint\u001b[39m(c)\n",
      "\u001b[1;31mNameError\u001b[0m: name 'c' is not defined"
     ]
    }
   ],
   "source": [
    "print(c)"
   ]
  },
  {
   "cell_type": "code",
   "execution_count": null,
   "metadata": {},
   "outputs": [],
   "source": []
  },
  {
   "cell_type": "code",
   "execution_count": null,
   "metadata": {},
   "outputs": [],
   "source": []
  },
  {
   "cell_type": "code",
   "execution_count": null,
   "metadata": {},
   "outputs": [],
   "source": []
  },
  {
   "cell_type": "code",
   "execution_count": null,
   "metadata": {},
   "outputs": [],
   "source": []
  },
  {
   "cell_type": "code",
   "execution_count": null,
   "metadata": {},
   "outputs": [],
   "source": []
  },
  {
   "cell_type": "code",
   "execution_count": null,
   "metadata": {},
   "outputs": [],
   "source": []
  },
  {
   "cell_type": "code",
   "execution_count": null,
   "metadata": {},
   "outputs": [],
   "source": []
  },
  {
   "cell_type": "code",
   "execution_count": null,
   "metadata": {},
   "outputs": [],
   "source": []
  },
  {
   "cell_type": "code",
   "execution_count": null,
   "metadata": {},
   "outputs": [],
   "source": []
  },
  {
   "cell_type": "code",
   "execution_count": null,
   "metadata": {},
   "outputs": [],
   "source": []
  },
  {
   "cell_type": "code",
   "execution_count": null,
   "metadata": {},
   "outputs": [],
   "source": []
  },
  {
   "cell_type": "code",
   "execution_count": null,
   "metadata": {},
   "outputs": [],
   "source": []
  },
  {
   "cell_type": "code",
   "execution_count": null,
   "metadata": {},
   "outputs": [],
   "source": []
  },
  {
   "cell_type": "code",
   "execution_count": null,
   "metadata": {},
   "outputs": [],
   "source": []
  },
  {
   "cell_type": "code",
   "execution_count": null,
   "metadata": {},
   "outputs": [],
   "source": []
  },
  {
   "cell_type": "code",
   "execution_count": null,
   "metadata": {},
   "outputs": [],
   "source": []
  },
  {
   "cell_type": "code",
   "execution_count": null,
   "metadata": {},
   "outputs": [],
   "source": []
  },
  {
   "cell_type": "code",
   "execution_count": null,
   "metadata": {},
   "outputs": [],
   "source": []
  },
  {
   "cell_type": "code",
   "execution_count": null,
   "metadata": {},
   "outputs": [],
   "source": []
  }
 ],
 "metadata": {
  "kernelspec": {
   "display_name": "base",
   "language": "python",
   "name": "python3"
  },
  "language_info": {
   "codemirror_mode": {
    "name": "ipython",
    "version": 3
   },
   "file_extension": ".py",
   "mimetype": "text/x-python",
   "name": "python",
   "nbconvert_exporter": "python",
   "pygments_lexer": "ipython3",
   "version": "3.10.9"
  }
 },
 "nbformat": 4,
 "nbformat_minor": 2
}
