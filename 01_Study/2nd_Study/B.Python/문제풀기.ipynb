{
 "cells": [
  {
   "cell_type": "code",
   "execution_count": 418,
   "metadata": {},
   "outputs": [
    {
     "name": "stdout",
     "output_type": "stream",
     "text": [
      "유효함\n"
     ]
    }
   ],
   "source": [
    "ID = \"1234567890123\"\n",
    "iden = [2, 3, 4, 5, 6, 7, 8, 9, 2, 3, 4, 5]\n",
    "splitid = []\n",
    "\n",
    "for i in ID[:-1]:\n",
    "    splitid.append(int(i))\n",
    "\n",
    "n = 0\n",
    "for i in range(0, len(splitid)):\n",
    "    n += iden[i] * splitid[i]\n",
    "\n",
    "n2 = n % 11\n",
    "n3 = 11 - n2\n",
    "n4 = n3 % 10\n",
    "\n",
    "if n4 == int(ID[-1]):\n",
    "    print(\"유효함\")\n",
    "else:\n",
    "    print(\"유효하지 않음\")"
   ]
  },
  {
   "cell_type": "code",
   "execution_count": 424,
   "metadata": {},
   "outputs": [
    {
     "name": "stdout",
     "output_type": "stream",
     "text": [
      "정상\n"
     ]
    }
   ],
   "source": [
    "ID = \"1234567890123\"\n",
    "iden = [2, 3, 4, 5, 6, 7, 8, 9, 2, 3, 4, 5]\n",
    "\n",
    "total = 0\n",
    "\n",
    "for i in range(0, len(ID)-1):\n",
    "    v = int(ID[i])\n",
    "    v *= iden[i]\n",
    "    total += v\n",
    "\n",
    "result = (11 - (total % 11)) % 10\n",
    "\n",
    "if result == int(ID[-1]):\n",
    "    print(\"정상\")\n",
    "else:\n",
    "    print(\"비정상\")"
   ]
  },
  {
   "cell_type": "code",
   "execution_count": 6,
   "metadata": {},
   "outputs": [],
   "source": [
    "import random"
   ]
  },
  {
   "cell_type": "code",
   "execution_count": 71,
   "metadata": {},
   "outputs": [
    {
     "name": "stdout",
     "output_type": "stream",
     "text": [
      "[4, 45, 2, 10, 36, 37]\n"
     ]
    }
   ],
   "source": [
    "lotto = [None] * 6\n",
    "idx = 0\n",
    "\n",
    "while True:\n",
    "    if idx == len(lotto):\n",
    "        break\n",
    "    a = random.randrange(1, 46)\n",
    "    if not a in lotto:\n",
    "        lotto[idx] = a\n",
    "        idx += 1\n",
    "\n",
    "print(lotto)"
   ]
  },
  {
   "cell_type": "code",
   "execution_count": null,
   "metadata": {},
   "outputs": [],
   "source": []
  },
  {
   "cell_type": "code",
   "execution_count": null,
   "metadata": {},
   "outputs": [],
   "source": []
  },
  {
   "cell_type": "code",
   "execution_count": null,
   "metadata": {},
   "outputs": [],
   "source": []
  },
  {
   "cell_type": "code",
   "execution_count": null,
   "metadata": {},
   "outputs": [],
   "source": []
  },
  {
   "cell_type": "code",
   "execution_count": null,
   "metadata": {},
   "outputs": [],
   "source": []
  },
  {
   "cell_type": "code",
   "execution_count": null,
   "metadata": {},
   "outputs": [],
   "source": []
  },
  {
   "cell_type": "code",
   "execution_count": null,
   "metadata": {},
   "outputs": [],
   "source": []
  },
  {
   "cell_type": "code",
   "execution_count": null,
   "metadata": {},
   "outputs": [],
   "source": []
  },
  {
   "cell_type": "code",
   "execution_count": null,
   "metadata": {},
   "outputs": [],
   "source": []
  },
  {
   "cell_type": "code",
   "execution_count": null,
   "metadata": {},
   "outputs": [],
   "source": []
  },
  {
   "cell_type": "code",
   "execution_count": null,
   "metadata": {},
   "outputs": [],
   "source": []
  },
  {
   "cell_type": "code",
   "execution_count": null,
   "metadata": {},
   "outputs": [],
   "source": []
  },
  {
   "cell_type": "code",
   "execution_count": null,
   "metadata": {},
   "outputs": [],
   "source": []
  },
  {
   "cell_type": "code",
   "execution_count": null,
   "metadata": {},
   "outputs": [],
   "source": []
  },
  {
   "cell_type": "code",
   "execution_count": null,
   "metadata": {},
   "outputs": [],
   "source": []
  },
  {
   "cell_type": "code",
   "execution_count": null,
   "metadata": {},
   "outputs": [],
   "source": []
  },
  {
   "cell_type": "code",
   "execution_count": null,
   "metadata": {},
   "outputs": [],
   "source": []
  }
 ],
 "metadata": {
  "kernelspec": {
   "display_name": "base",
   "language": "python",
   "name": "python3"
  },
  "language_info": {
   "codemirror_mode": {
    "name": "ipython",
    "version": 3
   },
   "file_extension": ".py",
   "mimetype": "text/x-python",
   "name": "python",
   "nbconvert_exporter": "python",
   "pygments_lexer": "ipython3",
   "version": "3.10.9"
  }
 },
 "nbformat": 4,
 "nbformat_minor": 2
}
