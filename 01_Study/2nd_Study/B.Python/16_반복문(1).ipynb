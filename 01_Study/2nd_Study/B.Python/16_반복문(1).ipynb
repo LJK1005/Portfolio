{
 "cells": [
  {
   "cell_type": "markdown",
   "metadata": {},
   "source": [
    "# 16강 반복문(1)"
   ]
  },
  {
   "cell_type": "markdown",
   "metadata": {},
   "source": [
    "- while문\n",
    "  - 주어진 조건식이 참일 동안 블록 안을 반복적으로 수행\n",
    "  - 반복문을 사용할 때는 무한루프에 주의"
   ]
  },
  {
   "cell_type": "code",
   "execution_count": 1,
   "metadata": {},
   "outputs": [
    {
     "name": "stdout",
     "output_type": "stream",
     "text": [
      "x = 1\n",
      "x = 2\n",
      "x = 3\n",
      "x = 4\n",
      "x = 5\n",
      "x = 6\n",
      "x = 7\n",
      "x = 8\n",
      "x = 9\n",
      "x = 10\n",
      "------------------------------\n",
      "x의 최종값 = 11\n"
     ]
    }
   ],
   "source": [
    "x = 1 # 초기식\n",
    "while x <= 10: # 조건식 -> x가 10보다 작거나 같은 동안 반복수행\n",
    "    print(\"x = %d\" % x) # 증감식 -> 조건에 사용되는 값을 변경\n",
    "    x += 1\n",
    "\n",
    "print(\"-\" * 30)\n",
    "print(\"x의 최종값 = %d\" % x)"
   ]
  },
  {
   "cell_type": "code",
   "execution_count": 2,
   "metadata": {},
   "outputs": [
    {
     "name": "stdout",
     "output_type": "stream",
     "text": [
      "입력값은 8입니다.\n",
      "------------------------------\n",
      "8 x 1 = 8\n",
      "8 x 2 = 16\n",
      "8 x 3 = 24\n",
      "8 x 4 = 32\n",
      "8 x 5 = 40\n",
      "8 x 6 = 48\n",
      "8 x 7 = 56\n",
      "8 x 8 = 64\n",
      "8 x 9 = 72\n"
     ]
    }
   ],
   "source": [
    "x = int(input(\"숫자를 입력하세요.\"))\n",
    "print(\"입력값은 %d입니다.\" % x)\n",
    "print(\"-\" *30)\n",
    "\n",
    "# 구구단 출력하기\n",
    "y = 1 # 초기식\n",
    "while y < 10: # 조건식 -> 10보다 작다이므로 10은 포함되지 않음.\n",
    "    z = x * y # 반복이 진행되는 동안 수행할 명령\n",
    "    print(\"%d x %d = %d\" % (x, y, z))\n",
    "    y += 1 # 증감식 -> y가 1씩 증가함"
   ]
  },
  {
   "cell_type": "markdown",
   "metadata": {},
   "source": [
    "- 반복하면서 누적될 데이터를 구하는 상황의 경우 해당 데이터를 저장할 변수를 초기화하여 선언하는것이 좋음"
   ]
  },
  {
   "cell_type": "code",
   "execution_count": 3,
   "metadata": {},
   "outputs": [
    {
     "name": "stdout",
     "output_type": "stream",
     "text": [
      "x = 1, sum = 1\n",
      "x = 2, sum = 3\n",
      "x = 3, sum = 6\n",
      "x = 4, sum = 10\n",
      "x = 5, sum = 15\n",
      "x = 6, sum = 21\n",
      "x = 7, sum = 28\n",
      "x = 8, sum = 36\n",
      "x = 9, sum = 45\n",
      "x = 10, sum = 55\n"
     ]
    }
   ],
   "source": [
    "# 1~10까지의 총 합을 구하기\n",
    "x = 1 # 초기식\n",
    "sum = 0 # 총 합을 누적해서 저장할 변수\n",
    "while x <= 10: # 조건식 -> x가 10보다 작거나 같은 동안 반복수행\n",
    "    sum += x\n",
    "    print(\"x = %d, sum = %d\" % (x, sum))\n",
    "    x += 1 # 증감식 조건에 사용되는 값을 변경"
   ]
  },
  {
   "cell_type": "code",
   "execution_count": 4,
   "metadata": {},
   "outputs": [
    {
     "name": "stdout",
     "output_type": "stream",
     "text": [
      "a = 0\n",
      "a = 10\n",
      "a = 20\n",
      "a = 30\n",
      "a = 40\n"
     ]
    }
   ],
   "source": [
    "# 0부터 50전(=49)까지 10씩 증가\n",
    "a = 0\n",
    "while a < 50:\n",
    "    print(\"a = %d\" % a)\n",
    "    a += 10"
   ]
  },
  {
   "cell_type": "code",
   "execution_count": 5,
   "metadata": {},
   "outputs": [
    {
     "name": "stdout",
     "output_type": "stream",
     "text": [
      "b = 10\n",
      "b = 8\n",
      "b = 6\n",
      "b = 4\n",
      "b = 2\n"
     ]
    }
   ],
   "source": [
    "# 10부터 0전(=1)까지 2씩 감소\n",
    "b = 10\n",
    "while b > 0:\n",
    "    print(\"b = %d\" % b)\n",
    "    b -= 2"
   ]
  },
  {
   "cell_type": "code",
   "execution_count": 6,
   "metadata": {},
   "outputs": [
    {
     "name": "stdout",
     "output_type": "stream",
     "text": [
      "10\n",
      "20\n",
      "30\n",
      "40\n",
      "50\n"
     ]
    }
   ],
   "source": [
    "mylist = [10, 20, 30, 40, 50] # 실습을 위한 리스트 준비\n",
    "size = len(mylist) # 리스트의 전체 원소 수\n",
    "i = 0 # 0부터 카운트 할 리스트의 인덱스\n",
    "\n",
    "# 인덱스가 전체 원소 수 보다 작은 동안 반복\n",
    "while i < size:\n",
    "    print(mylist[i])\n",
    "    i += 1 # 다음번 원소 탐색을 위해 인덱스 1 증가"
   ]
  },
  {
   "cell_type": "code",
   "execution_count": 7,
   "metadata": {},
   "outputs": [
    {
     "name": "stdout",
     "output_type": "stream",
     "text": [
      "총점 : 428, 평균 : 85.6\n"
     ]
    }
   ],
   "source": [
    "성적표 = [92, 88, 76, 90, 82] # 실습을 위한 리스트 준비\n",
    "과목수 = len(성적표) # 리스트의 전체 원소 수\n",
    "i = 0 # 0부터 카운트 할 리스트의 인덱스\n",
    "합계점수 = 0 # 합산을 위한 변수를 0으로 초기화\n",
    "\n",
    "# 인덱스가 과목수 보다 작은 동안 반복\n",
    "while i < 과목수:\n",
    "    합계점수 += 성적표[i]\n",
    "    i += 1 # 다음번 원소 탐색을 위해 인덱스 1 증가\n",
    "\n",
    "평균점수 = 합계점수 / 과목수\n",
    "\n",
    "print(\"총점 : %d, 평균 : %0.1f\" % (합계점수, 평균점수))"
   ]
  },
  {
   "cell_type": "markdown",
   "metadata": {},
   "source": [
    "## 연구과제"
   ]
  },
  {
   "cell_type": "code",
   "execution_count": 10,
   "metadata": {},
   "outputs": [
    {
     "name": "stdout",
     "output_type": "stream",
     "text": [
      "2550\n"
     ]
    }
   ],
   "source": [
    "a = 0\n",
    "sum = 0\n",
    "while a <= 100:\n",
    "    sum += a\n",
    "    a += 2\n",
    "\n",
    "print(sum)"
   ]
  },
  {
   "cell_type": "code",
   "execution_count": 20,
   "metadata": {},
   "outputs": [
    {
     "name": "stdout",
     "output_type": "stream",
     "text": [
      "{'A': 3, 'O': 3, 'B': 2, 'AB': 2}\n"
     ]
    }
   ],
   "source": [
    "stud = ['A', 'A', 'A', 'O', 'B', 'B', 'O', 'AB', 'AB', 'O']\n",
    "result = {}\n",
    "\n",
    "l = 0\n",
    "while l < len(stud):\n",
    "    try:\n",
    "        result[stud[l]] += 1\n",
    "        l += 1\n",
    "    except:\n",
    "        result[stud[l]] = 1\n",
    "        l += 1\n",
    "\n",
    "print(result)"
   ]
  },
  {
   "cell_type": "markdown",
   "metadata": {},
   "source": [
    "## 추가문제"
   ]
  },
  {
   "cell_type": "code",
   "execution_count": 65,
   "metadata": {},
   "outputs": [
    {
     "name": "stdout",
     "output_type": "stream",
     "text": [
      "당신은 29세 남자입니다.\n"
     ]
    }
   ],
   "source": [
    "ssn = input(\"주민번호 앞자리 전체와 뒷자리 맨앞 1자리만 입력\")\n",
    "\n",
    "year = int(ssn[:2])\n",
    "sex_c = int(ssn[-1])\n",
    "\n",
    "if sex_c in [1, 2]:\n",
    "    year += 1900\n",
    "else:\n",
    "    year += 2000\n",
    "\n",
    "if sex_c in [1, 3]:\n",
    "    sex = \"남자\"\n",
    "else:\n",
    "    sex = \"여자\"\n",
    "\n",
    "age = 2023 - year + 1\n",
    "\n",
    "print(f\"당신은 {age}세 {sex}입니다.\")"
   ]
  },
  {
   "cell_type": "code",
   "execution_count": 36,
   "metadata": {},
   "outputs": [
    {
     "name": "stdout",
     "output_type": "stream",
     "text": [
      "F\n"
     ]
    }
   ],
   "source": [
    "i = int(input(\"시험 점수를 입력하세요\"))\n",
    "\n",
    "if i < 0:\n",
    "    print(\"유효한 점수가 아닙니다.\")\n",
    "elif i < 60:\n",
    "    print(\"F\")\n",
    "elif i < 70:\n",
    "    print(\"D\")\n",
    "elif i < 80:\n",
    "    print(\"C\")\n",
    "elif i < 90:\n",
    "    print(\"B\")\n",
    "elif i <= 100:\n",
    "    print(\"A\")\n",
    "else:\n",
    "    print(\"유효한 점수가 아닙니다.\")"
   ]
  },
  {
   "cell_type": "code",
   "execution_count": 58,
   "metadata": {},
   "outputs": [
    {
     "name": "stdout",
     "output_type": "stream",
     "text": [
      "4000\n"
     ]
    }
   ],
   "source": [
    "num = 0\n",
    "i = 1\n",
    "while i < 10001:\n",
    "    num += str(i).count(\"8\")\n",
    "    i += 1\n",
    "\n",
    "print(num)"
   ]
  },
  {
   "cell_type": "code",
   "execution_count": 43,
   "metadata": {},
   "outputs": [
    {
     "name": "stdout",
     "output_type": "stream",
     "text": [
      "1번째 : 60\n",
      "2번째 : 36\n",
      "3번째 : 21\n",
      "4번째 : 12\n",
      "5번째 : 7\n",
      "6번째 : 4\n",
      "7번째 : 2\n",
      "8번째 : 1\n",
      "9번째 : 0\n",
      "8번 튀어오름\n"
     ]
    }
   ],
   "source": [
    "num = 0\n",
    "h = 100\n",
    "\n",
    "while h > 0:\n",
    "    num += 1\n",
    "    h = int(h / 5 * 3)\n",
    "    print(f\"{num}번째 : {h}\")\n",
    "\n",
    "print(f\"{num-1}번 튀어오름\")"
   ]
  },
  {
   "cell_type": "code",
   "execution_count": 64,
   "metadata": {},
   "outputs": [
    {
     "name": "stdout",
     "output_type": "stream",
     "text": [
      "0\n"
     ]
    }
   ],
   "source": [
    "i = input(\"가격 개수 보유금액\")\n",
    "\n",
    "a = i.split(\" \")\n",
    "\n",
    "k, n, m = a\n",
    "K = int(k)\n",
    "N = int(n)\n",
    "M = int(m)\n",
    "\n",
    "x = K*N - M\n",
    "\n",
    "print(int((x + abs(x)) * 0.5))"
   ]
  },
  {
   "cell_type": "code",
   "execution_count": null,
   "metadata": {},
   "outputs": [],
   "source": []
  },
  {
   "cell_type": "code",
   "execution_count": null,
   "metadata": {},
   "outputs": [],
   "source": []
  },
  {
   "cell_type": "code",
   "execution_count": null,
   "metadata": {},
   "outputs": [],
   "source": []
  },
  {
   "cell_type": "code",
   "execution_count": null,
   "metadata": {},
   "outputs": [],
   "source": []
  },
  {
   "cell_type": "code",
   "execution_count": null,
   "metadata": {},
   "outputs": [],
   "source": []
  },
  {
   "cell_type": "code",
   "execution_count": null,
   "metadata": {},
   "outputs": [],
   "source": []
  },
  {
   "cell_type": "code",
   "execution_count": null,
   "metadata": {},
   "outputs": [],
   "source": []
  },
  {
   "cell_type": "code",
   "execution_count": null,
   "metadata": {},
   "outputs": [],
   "source": []
  },
  {
   "cell_type": "code",
   "execution_count": null,
   "metadata": {},
   "outputs": [],
   "source": []
  },
  {
   "cell_type": "code",
   "execution_count": null,
   "metadata": {},
   "outputs": [],
   "source": []
  },
  {
   "cell_type": "code",
   "execution_count": null,
   "metadata": {},
   "outputs": [],
   "source": []
  },
  {
   "cell_type": "code",
   "execution_count": null,
   "metadata": {},
   "outputs": [],
   "source": []
  }
 ],
 "metadata": {
  "kernelspec": {
   "display_name": "Python 3",
   "language": "python",
   "name": "python3"
  },
  "language_info": {
   "codemirror_mode": {
    "name": "ipython",
    "version": 3
   },
   "file_extension": ".py",
   "mimetype": "text/x-python",
   "name": "python",
   "nbconvert_exporter": "python",
   "pygments_lexer": "ipython3",
   "version": "3.9.13"
  }
 },
 "nbformat": 4,
 "nbformat_minor": 2
}
