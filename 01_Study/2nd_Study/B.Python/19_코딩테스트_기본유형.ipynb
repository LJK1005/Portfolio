{
 "cells": [
  {
   "cell_type": "markdown",
   "metadata": {},
   "source": [
    "# 19강 코딩 테스트 기본 유형"
   ]
  },
  {
   "cell_type": "markdown",
   "metadata": {},
   "source": [
    "- 별 찍기 문제 : 중첩된 반복문에서 자식 반복문의 수행 범위를 동적으로 설정하는 문제\n",
    "  - 바깥쪽의 반복문이 행을 담당하고 안쪽의 반복문은 열을 담당함"
   ]
  },
  {
   "cell_type": "code",
   "execution_count": 1,
   "metadata": {},
   "outputs": [
    {
     "name": "stdout",
     "output_type": "stream",
     "text": [
      "*\n",
      "**\n",
      "***\n",
      "****\n",
      "*****\n"
     ]
    }
   ],
   "source": [
    "# 행을 담당하는 반복문\n",
    "for i in range(0, 5):\n",
    "    # 매 행마다 출력할 내용을 초기화\n",
    "    star = \"\"\n",
    "\n",
    "    # 열을 담당하는 반복문 -> 행이 증가함에 따라 반복횟수가 1씩 늘어난다.\n",
    "    for j in range(0, i+1):\n",
    "        star += \"*\"\n",
    "\n",
    "    print(star)"
   ]
  },
  {
   "cell_type": "code",
   "execution_count": 2,
   "metadata": {},
   "outputs": [
    {
     "name": "stdout",
     "output_type": "stream",
     "text": [
      "*****\n",
      "****\n",
      "***\n",
      "**\n",
      "*\n"
     ]
    }
   ],
   "source": [
    "# 역방향 별\n",
    "# 행을 담당하는 반복문\n",
    "for i in range(0, 5):\n",
    "    # 매 행마다 출력할 내용을 초기화\n",
    "    star = \"\"\n",
    "\n",
    "    # 열을 담당하는 반복문 -> 행이 증가함에 따라 반복횟수가 1씩 늘어난다.\n",
    "    for j in range(0, 5-i):\n",
    "        star += \"*\"\n",
    "\n",
    "    print(star)"
   ]
  },
  {
   "cell_type": "markdown",
   "metadata": {},
   "source": [
    "- 리스트의 탐색\n",
    "  - 리스트의 원소를 탐색할 때는 인덱스를 이용\n",
    "    - len(리스트)로 인덱스 값의 범위를 확인할 수 있음"
   ]
  },
  {
   "cell_type": "code",
   "execution_count": 3,
   "metadata": {},
   "outputs": [
    {
     "name": "stdout",
     "output_type": "stream",
     "text": [
      "총합 = 403, 평균 = 80\n"
     ]
    }
   ],
   "source": [
    "# 주어진 데이터\n",
    "point = [72, 88, 95, 63, 85]\n",
    "\n",
    "# 총 합을 구하기 위해서는 반복문 시작 전에 합계를 저장할 변수를 0으로 초기화 한다.\n",
    "total = 0\n",
    "\n",
    "# 리스트의 길이\n",
    "size = len(point)\n",
    "\n",
    "# 1차원 리스트의 모든 원소를 탐색할 수 있는 반복문 구성\n",
    "for i in range(0, size):\n",
    "    total += point[i]\n",
    "\n",
    "# 총 합을 리스트 원소의 수로 나누면 평균을 구할 수 있음\n",
    "average = total / size\n",
    "\n",
    "print(\"총합 = %d, 평균 = %d\" % (total, average))"
   ]
  },
  {
   "cell_type": "code",
   "execution_count": 4,
   "metadata": {},
   "outputs": [
    {
     "name": "stdout",
     "output_type": "stream",
     "text": [
      "총합 = 403, 평균 = 80\n"
     ]
    }
   ],
   "source": [
    "# 주어진 데이터\n",
    "point = [72, 88, 95, 63, 85]\n",
    "\n",
    "# 총 합을 구하기 위해서는 반복문 시작 전에 합계를 저장할 변수를 0으로 초기화 한다.\n",
    "total = 0\n",
    "\n",
    "# for 문은 리스트의 모든 원소를 직접 탐색할 수 있다.\n",
    "for p in point:\n",
    "    total += p\n",
    "\n",
    "# 총 합을 리스트 원소의 수로 나누면 평균을 구할 수 있다.\n",
    "average = total / len(point)\n",
    "\n",
    "print(\"총합 = %d, 평균 = %d\" % (total, average))"
   ]
  },
  {
   "cell_type": "markdown",
   "metadata": {},
   "source": [
    "- 2차원 리스트의 원소 출력\n",
    "  - 2차원 리스트는 각 원소가 각각 개별적인 리스트인 경우\n",
    "    - 2차원 리스트의 원소를 출력하면 원소로 포함된 개별 리스트가 출력됨\n",
    "      - for 문을 2중으로 사용하면 최종적인 개별 원소에 접근 가능"
   ]
  },
  {
   "cell_type": "code",
   "execution_count": 5,
   "metadata": {},
   "outputs": [
    {
     "name": "stdout",
     "output_type": "stream",
     "text": [
      "size = 2\n",
      "0번째 데이터 -> [88, 72, 83, 90]\n",
      "0번째 데이터 : 총합 = 333, 평균 = 83\n",
      "1번째 데이터 -> [63, 77, 72, 80]\n",
      "1번째 데이터 : 총합 = 292, 평균 = 73\n"
     ]
    }
   ],
   "source": [
    "mydata = [[88, 72, 83, 90], [63, 77, 72, 80]]\n",
    "\n",
    "size = len(mydata)\n",
    "print(\"size = %d\" % size)\n",
    "\n",
    "for i in range(0, size):\n",
    "    # i번째 행에 포함되어 있는 개별 리스트를 출력\n",
    "    print(\"%d번째 데이터 -> %s\" % (i, mydata[i]))\n",
    "\n",
    "    total = 0\n",
    "    size2 = len(mydata[i])\n",
    "\n",
    "    for j in range(0, size2):\n",
    "        total += mydata[i][j]\n",
    "\n",
    "    average = total / size2\n",
    "\n",
    "    print(\"%d번째 데이터 : 총합 = %d, 평균 = %d\" % (i, total, average))"
   ]
  },
  {
   "cell_type": "code",
   "execution_count": 6,
   "metadata": {},
   "outputs": [
    {
     "name": "stdout",
     "output_type": "stream",
     "text": [
      "이번에 출력되는 데이터 -> [88, 72, 83, 90]\n",
      "[88, 72, 83, 90]에 대한 총합 = 333, 평균 = 83\n",
      "이번에 출력되는 데이터 -> [63, 77, 72, 80]\n",
      "[63, 77, 72, 80]에 대한 총합 = 292, 평균 = 73\n"
     ]
    }
   ],
   "source": [
    "mydata = [[88, 72, 83, 90], [63, 77, 72, 80]]\n",
    "\n",
    "for row in mydata:\n",
    "    # mydata의 원소 하나인 리스트를 출력.\n",
    "    print(\"이번에 출력되는 데이터 -> %s\" % (row))\n",
    "\n",
    "    total = 0\n",
    "    for col in row:\n",
    "        total += col\n",
    "    average = total / len(row)\n",
    "\n",
    "    print(\"%s에 대한 총합 = %d, 평균 = %d\" % (row, total, average))"
   ]
  },
  {
   "cell_type": "markdown",
   "metadata": {},
   "source": [
    "- 리스트의 정렬\n",
    "  - 리스트 내부의 순서나 배열을 바꿀 때 각 인덱스에 직접 접근해야 할 때가 있음\n",
    "    - 내장함수가 항상 올바르게 작동하는 것은 아님"
   ]
  },
  {
   "cell_type": "code",
   "execution_count": 7,
   "metadata": {},
   "outputs": [
    {
     "name": "stdout",
     "output_type": "stream",
     "text": [
      "[5, 3, 7, 1, 9]\n",
      "[9, 1, 7, 3, 5]\n"
     ]
    }
   ],
   "source": [
    "# 원본 리스트\n",
    "mylist = [5, 3, 7, 1, 9]\n",
    "print(mylist)\n",
    "\n",
    "# 리스트의 길이 = 5\n",
    "size = len(mylist)\n",
    "\n",
    "# 리스트의 길이를 2로 나눈 정수 부분의 몫 = 2\n",
    "# 리스트의 길이가 홀수인 경우 가운데 원소는 위치 변경이 필요없음\n",
    "# 나눗셈의 나머지를 버리고 정수 부분의 몫만 취함\n",
    "\n",
    "half = size // 2\n",
    "# 리스트의 반 만큼만 반복 수행 -> 0부터 2전 까지\n",
    "for i in range(0, half):\n",
    "    # i번째 항목의 반대쪽에 위치한 원소의 인덱스를 구함\n",
    "    p = size - i - 1\n",
    "\n",
    "    # i번째 원소와 p번째 원소의 값을 맞바꾼다.\n",
    "    mylist[i], mylist[p] = mylist[p], mylist[i]\n",
    "\n",
    "# 결과출력\n",
    "print(mylist)"
   ]
  },
  {
   "cell_type": "code",
   "execution_count": 8,
   "metadata": {},
   "outputs": [
    {
     "name": "stdout",
     "output_type": "stream",
     "text": [
      "[5, 3, 7, 1, 9]\n",
      "[1, 3, 5, 7, 9]\n"
     ]
    }
   ],
   "source": [
    "# 리스트 오름차순 정렬\n",
    "# 원본 리스트\n",
    "mylist = [5, 3, 7, 1, 9]\n",
    "print(mylist)\n",
    "\n",
    "# 리스트의 길이\n",
    "size = len(mylist)\n",
    "\n",
    "# 처음부터 뒤에서 두 번째 것까지만 반복\n",
    "for i in range(0, size - 1):\n",
    "    # i번째 다음부터 끝까지 반복\n",
    "    for j in range(i+1, size):\n",
    "        # i번째가 j번째보다 값이 크다면\n",
    "        if mylist[i] > mylist[j]:\n",
    "            # 두 원소를 맞바꿈\n",
    "            mylist[i], mylist[j] = mylist[j], mylist[i]\n",
    "\n",
    "# 결과 출력\n",
    "print(mylist)"
   ]
  },
  {
   "cell_type": "markdown",
   "metadata": {},
   "source": [
    "## 연구과제(1)"
   ]
  },
  {
   "cell_type": "code",
   "execution_count": 56,
   "metadata": {},
   "outputs": [
    {
     "name": "stdout",
     "output_type": "stream",
     "text": [
      "349500\n"
     ]
    }
   ],
   "source": [
    "hours = [4, 3, 3, 4, 5, 7, 6]\n",
    "pay = 0\n",
    "for i, j in enumerate(hours):\n",
    "    if i > 4:\n",
    "       pay += 13000 * j\n",
    "    else:\n",
    "        pay += 9500 * j\n",
    "    \n",
    "print(pay) "
   ]
  },
  {
   "cell_type": "code",
   "execution_count": 57,
   "metadata": {},
   "outputs": [
    {
     "name": "stdout",
     "output_type": "stream",
     "text": [
      "349500\n"
     ]
    }
   ],
   "source": [
    "hours = [4, 3, 3, 4, 5, 7, 6]\n",
    "pay = 0\n",
    "for i, j in enumerate(hours):\n",
    "    if i > 4:\n",
    "       x = 13000\n",
    "    else:\n",
    "        x = 9500\n",
    "    \n",
    "    pay += j * x\n",
    "    \n",
    "print(pay) "
   ]
  },
  {
   "cell_type": "markdown",
   "metadata": {},
   "source": [
    "## 연구과제(2)"
   ]
  },
  {
   "cell_type": "code",
   "execution_count": 63,
   "metadata": {},
   "outputs": [
    {
     "name": "stdout",
     "output_type": "stream",
     "text": [
      "404816.4\n"
     ]
    }
   ],
   "source": [
    "items = [{\"수량\" : 291, \"단가\" : 500}, {\"수량\" : 586, \"단가\" : 320}, {\"수량\" : 460, \"단가\" : 100}\n",
    "         ,{\"수량\" : 558, \"단가\" : 120}, {\"수량\" : 18, \"단가\" : 92}, {\"수량\" : 72, \"단가\" : 30}]\n",
    "\n",
    "sum = 0\n",
    "\n",
    "for i in items:\n",
    "    sum += i[\"수량\"] * i[\"단가\"]\n",
    "\n",
    "sum *= 0.9\n",
    "print(\"%.1f\" % sum)"
   ]
  },
  {
   "cell_type": "markdown",
   "metadata": {},
   "source": [
    "## 중간점검 문제"
   ]
  },
  {
   "cell_type": "markdown",
   "metadata": {},
   "source": [
    "### 1번"
   ]
  },
  {
   "cell_type": "code",
   "execution_count": 6,
   "metadata": {},
   "outputs": [
    {
     "name": "stdout",
     "output_type": "stream",
     "text": [
      "이진수 1개는 2개의 정보를 표시가능\n",
      "이진수 2개는 4개의 정보를 표시가능\n",
      "이진수 3개는 8개의 정보를 표시가능\n",
      "이진수 4개는 16개의 정보를 표시가능\n",
      "이진수 5개는 32개의 정보를 표시가능\n",
      "이진수 6개는 64개의 정보를 표시가능\n",
      "이진수 7개는 128개의 정보를 표시가능\n",
      "이진수 8개는 256개의 정보를 표시가능\n",
      "이진수 9개는 512개의 정보를 표시가능\n",
      "이진수 10개는 1024개의 정보를 표시가능\n"
     ]
    }
   ],
   "source": [
    "i = 1\n",
    "while i < 11:\n",
    "    print(f\"이진수 {i}개는 {2 ** i}개의 정보를 표시가능\")\n",
    "    i += 1"
   ]
  },
  {
   "cell_type": "markdown",
   "metadata": {},
   "source": [
    "## 2번"
   ]
  },
  {
   "cell_type": "code",
   "execution_count": 7,
   "metadata": {},
   "outputs": [
    {
     "name": "stdout",
     "output_type": "stream",
     "text": [
      "이진수 1개는 2개의 정보를 표시가능\n",
      "이진수 2개는 4개의 정보를 표시가능\n",
      "이진수 3개는 8개의 정보를 표시가능\n",
      "이진수 4개는 16개의 정보를 표시가능\n",
      "이진수 5개는 32개의 정보를 표시가능\n",
      "이진수 6개는 64개의 정보를 표시가능\n",
      "이진수 7개는 128개의 정보를 표시가능\n",
      "이진수 8개는 256개의 정보를 표시가능\n",
      "이진수 9개는 512개의 정보를 표시가능\n",
      "이진수 10개는 1024개의 정보를 표시가능\n"
     ]
    }
   ],
   "source": [
    "for i in range(1, 11):\n",
    "    print(f\"이진수 {i}개는 {2 ** i}개의 정보를 표시가능\")"
   ]
  },
  {
   "cell_type": "markdown",
   "metadata": {},
   "source": [
    "### 3번"
   ]
  },
  {
   "cell_type": "code",
   "execution_count": 13,
   "metadata": {},
   "outputs": [
    {
     "name": "stdout",
     "output_type": "stream",
     "text": [
      "0 1 2 3 \n",
      "1 2 3 4 \n",
      "2 3 4 5 \n",
      "3 4 5 6 \n"
     ]
    }
   ],
   "source": [
    "for i in range(0, 4):\n",
    "    for j in range(i, i+4):\n",
    "        print(j, end = \" \")\n",
    "\n",
    "    print(\"\")"
   ]
  },
  {
   "cell_type": "code",
   "execution_count": 20,
   "metadata": {},
   "outputs": [
    {
     "name": "stdout",
     "output_type": "stream",
     "text": [
      "0 1 2 3\n",
      "1 2 3 4\n",
      "2 3 4 5\n",
      "3 4 5 6\n"
     ]
    }
   ],
   "source": [
    "for i in range(0, 4):\n",
    "    str = \"\"\n",
    "    for j in range(0, 4):\n",
    "        str += \"%d\" % (i + j)\n",
    "\n",
    "        if j + 1 < 4:\n",
    "            str += \" \"\n",
    "    print(str)"
   ]
  },
  {
   "cell_type": "markdown",
   "metadata": {},
   "source": [
    "#### 4번"
   ]
  },
  {
   "cell_type": "code",
   "execution_count": 27,
   "metadata": {},
   "outputs": [
    {
     "name": "stdout",
     "output_type": "stream",
     "text": [
      "1\n",
      "12\n",
      "123\n",
      "1234\n",
      "12345\n",
      "123456\n",
      "1234567\n"
     ]
    }
   ],
   "source": [
    "def numbers(n):\n",
    "    for i in range(1, n+1):\n",
    "        for j in range(1, i+1):\n",
    "            print(j, end = \"\")\n",
    "        print(\"\")\n",
    "\n",
    "numbers(7)"
   ]
  },
  {
   "cell_type": "code",
   "execution_count": 21,
   "metadata": {},
   "outputs": [
    {
     "name": "stdout",
     "output_type": "stream",
     "text": [
      "1\n",
      "12\n",
      "123\n",
      "1234\n",
      "12345\n",
      "123456\n",
      "1234567\n"
     ]
    }
   ],
   "source": [
    "for i in range(0, 7):\n",
    "    str = \"\"\n",
    "    for j in range(0, i + 1):\n",
    "        str += \"%d\" % (j + 1)\n",
    "    \n",
    "    print(str)"
   ]
  },
  {
   "cell_type": "markdown",
   "metadata": {},
   "source": [
    "- ChatGPT 사용시 붙이면 좋은 문구\n",
    "  - 아래 python 소스코드와 각 행에 설명을 위한 주석과 실행 결과를 알려달라고 붙이기"
   ]
  },
  {
   "cell_type": "markdown",
   "metadata": {},
   "source": [
    "### 5번"
   ]
  },
  {
   "cell_type": "code",
   "execution_count": 23,
   "metadata": {},
   "outputs": [
    {
     "name": "stdout",
     "output_type": "stream",
     "text": [
      "2 x 1 = 2\n",
      "2 x 2 = 4\n",
      "2 x 3 = 6\n",
      "2 x 4 = 8\n",
      "2 x 5 = 10\n",
      "2 x 6 = 12\n",
      "2 x 7 = 14\n",
      "2 x 8 = 16\n",
      "2 x 9 = 18\n",
      "------------------------------\n",
      "4 x 1 = 4\n",
      "4 x 2 = 8\n",
      "4 x 3 = 12\n",
      "4 x 4 = 16\n",
      "4 x 5 = 20\n",
      "4 x 6 = 24\n",
      "4 x 7 = 28\n",
      "4 x 8 = 32\n",
      "4 x 9 = 36\n",
      "------------------------------\n",
      "6 x 1 = 6\n",
      "6 x 2 = 12\n",
      "6 x 3 = 18\n",
      "6 x 4 = 24\n",
      "6 x 5 = 30\n",
      "6 x 6 = 36\n",
      "6 x 7 = 42\n",
      "6 x 8 = 48\n",
      "6 x 9 = 54\n",
      "------------------------------\n",
      "8 x 1 = 8\n",
      "8 x 2 = 16\n",
      "8 x 3 = 24\n",
      "8 x 4 = 32\n",
      "8 x 5 = 40\n",
      "8 x 6 = 48\n",
      "8 x 7 = 56\n",
      "8 x 8 = 64\n",
      "8 x 9 = 72\n",
      "------------------------------\n"
     ]
    }
   ],
   "source": [
    "n = int(input(\"1이나 2 입력\"))\n",
    "\n",
    "for i in range(2, 10):\n",
    "    if i % 2 != n-1:\n",
    "        for j in range(1, 10):\n",
    "            print(f\"{i} x {j} = {i*j}\")\n",
    "        print(\"-\" * 30)    "
   ]
  },
  {
   "cell_type": "code",
   "execution_count": null,
   "metadata": {},
   "outputs": [],
   "source": [
    "number = int(input(\"1 혹은 2를 입력하세요\"))\n",
    "\n",
    "for i in range(4-number, 10, 2):\n",
    "    for j in range(1, 10):\n",
    "        print(\"%d x  %d = %d\" % (i, j, i * j))"
   ]
  },
  {
   "cell_type": "markdown",
   "metadata": {},
   "source": [
    "### 6번"
   ]
  },
  {
   "cell_type": "code",
   "execution_count": 16,
   "metadata": {},
   "outputs": [
    {
     "data": {
      "text/plain": [
       "[False, True, True, False, True]"
      ]
     },
     "execution_count": 16,
     "metadata": {},
     "output_type": "execute_result"
    }
   ],
   "source": [
    "mylist = [True, False, False, True, False]\n",
    "\n",
    "for i, j in enumerate(mylist):\n",
    "    mylist[i] = not j\n",
    "\n",
    "mylist"
   ]
  },
  {
   "cell_type": "markdown",
   "metadata": {},
   "source": [
    "### 7번"
   ]
  },
  {
   "cell_type": "code",
   "execution_count": 28,
   "metadata": {},
   "outputs": [
    {
     "name": "stdout",
     "output_type": "stream",
     "text": [
      "609000\n"
     ]
    }
   ],
   "source": [
    "hours = [7, 5, 8, 6, 6, 7, 10]\n",
    "pay = 0\n",
    "for i, j in enumerate(hours):\n",
    "    if i > 4:\n",
    "       pay += 17000 * j\n",
    "    else:\n",
    "        pay += 10000 * j\n",
    "    \n",
    "print(pay) "
   ]
  },
  {
   "cell_type": "markdown",
   "metadata": {},
   "source": [
    "### 8번"
   ]
  },
  {
   "cell_type": "code",
   "execution_count": 30,
   "metadata": {},
   "outputs": [],
   "source": [
    "price = [38000, 20000, 17900, 17900]\n",
    "qty = [6, 4, 3, 5]"
   ]
  },
  {
   "cell_type": "markdown",
   "metadata": {},
   "source": [
    "#### 8-1"
   ]
  },
  {
   "cell_type": "code",
   "execution_count": 19,
   "metadata": {},
   "outputs": [
    {
     "name": "stdout",
     "output_type": "stream",
     "text": [
      "451200\n"
     ]
    }
   ],
   "source": [
    "money = 0\n",
    "for i in range(0, len(price)):\n",
    "    money += price[i] * qty[i]\n",
    "\n",
    "print(money)"
   ]
  },
  {
   "cell_type": "markdown",
   "metadata": {},
   "source": [
    "#### 8-2"
   ]
  },
  {
   "cell_type": "code",
   "execution_count": 20,
   "metadata": {},
   "outputs": [
    {
     "name": "stdout",
     "output_type": "stream",
     "text": [
      "228000\n"
     ]
    }
   ],
   "source": [
    "price2 = []\n",
    "\n",
    "for i in range(0, len(price)):\n",
    "    price2.append(price[i] * qty[i])\n",
    "\n",
    "print(max(price2))"
   ]
  },
  {
   "cell_type": "code",
   "execution_count": 31,
   "metadata": {},
   "outputs": [
    {
     "name": "stdout",
     "output_type": "stream",
     "text": [
      "228000\n"
     ]
    }
   ],
   "source": [
    "max = price[0] * qty[0]\n",
    "\n",
    "for i in range(1, len(price)):\n",
    "    k = price[i] * qty[i]\n",
    "\n",
    "    if max < k:\n",
    "        max = k\n",
    "\n",
    "print(max)"
   ]
  },
  {
   "cell_type": "markdown",
   "metadata": {},
   "source": [
    "#### 8-3"
   ]
  },
  {
   "cell_type": "code",
   "execution_count": 21,
   "metadata": {},
   "outputs": [
    {
     "data": {
      "text/plain": [
       "[228000, 80000, 53700, 89500]"
      ]
     },
     "execution_count": 21,
     "metadata": {},
     "output_type": "execute_result"
    }
   ],
   "source": [
    "price2"
   ]
  },
  {
   "cell_type": "code",
   "execution_count": 22,
   "metadata": {},
   "outputs": [
    {
     "name": "stdout",
     "output_type": "stream",
     "text": [
      "3\n"
     ]
    }
   ],
   "source": [
    "free = 0\n",
    "for i in price2:\n",
    "    if i >= 80000:\n",
    "        free += 1\n",
    "\n",
    "print(free)"
   ]
  },
  {
   "cell_type": "markdown",
   "metadata": {},
   "source": [
    "### 9번"
   ]
  },
  {
   "cell_type": "code",
   "execution_count": 23,
   "metadata": {},
   "outputs": [
    {
     "name": "stdout",
     "output_type": "stream",
     "text": [
      "민영 91\n",
      "새정 90\n",
      "승기 88\n",
      "재석 82\n",
      "광수 62\n",
      "종민 54\n"
     ]
    }
   ],
   "source": [
    "names = ['재석', '민영', '종민', '광수', '승기', '새정']\n",
    "points = [82, 91, 54, 62, 88, 90]\n",
    "\n",
    "for i in range(0, len(points)-1):\n",
    "    for j in range(i+1, len(points)):\n",
    "        if points[i] < points[j]:\n",
    "            points[i], points[j] = points[j], points[i]\n",
    "            names[i], names[j] = names[j], names[i]\n",
    "\n",
    "for i in range(0, len(names)):\n",
    "    print(names[i], points[i])"
   ]
  },
  {
   "cell_type": "code",
   "execution_count": 51,
   "metadata": {},
   "outputs": [
    {
     "name": "stdout",
     "output_type": "stream",
     "text": [
      "[4, 1, 6, 5, 3, 2]\n",
      "{4: {'재석': 82}, 1: {'민영': 91}, 6: {'종민': 54}, 5: {'광수': 62}, 3: {'승기': 88}, 2: {'새정': 90}}\n",
      "{'민영': 91}\n",
      "{'새정': 90}\n",
      "{'승기': 88}\n",
      "{'재석': 82}\n",
      "{'광수': 62}\n",
      "{'종민': 54}\n"
     ]
    }
   ],
   "source": [
    "names = ['재석', '민영', '종민', '광수', '승기', '새정']\n",
    "points = [82, 91, 54, 62, 88, 90]\n",
    "comb = {}\n",
    "rank = []\n",
    "\n",
    "for i in range(0, len(names)):\n",
    "    rank2 = 0\n",
    "    for j in range(0, len(names)):\n",
    "        if points[i] <= points[j]:\n",
    "            rank2 += 1\n",
    "    rank.append(rank2)\n",
    "\n",
    "print(rank)\n",
    "\n",
    "for i, j in enumerate(rank):\n",
    "    comb[j] = {names[i] : points[i]}\n",
    "\n",
    "print(comb)\n",
    "\n",
    "for i in range(1, len(comb) + 1):\n",
    "    print(comb[i])"
   ]
  },
  {
   "cell_type": "markdown",
   "metadata": {},
   "source": [
    "#### 10번"
   ]
  },
  {
   "cell_type": "code",
   "execution_count": 59,
   "metadata": {},
   "outputs": [
    {
     "data": {
      "text/plain": [
       "[[1, 0, 0, 0, 0],\n",
       " [0, 1, 0, 0, 0],\n",
       " [0, 0, 1, 0, 0],\n",
       " [0, 0, 0, 1, 0],\n",
       " [0, 0, 0, 0, 1]]"
      ]
     },
     "execution_count": 59,
     "metadata": {},
     "output_type": "execute_result"
    }
   ],
   "source": [
    "num = 5\n",
    "matrix = []\n",
    "\n",
    "for i in range(0, num):\n",
    "    matrix.append([])\n",
    "    for j in range(0, num):\n",
    "        matrix[i].append(int(i == j))\n",
    "\n",
    "matrix"
   ]
  },
  {
   "cell_type": "code",
   "execution_count": 60,
   "metadata": {},
   "outputs": [
    {
     "data": {
      "text/plain": [
       "[[1, 0, 0, 0, 0],\n",
       " [0, 1, 0, 0, 0],\n",
       " [0, 0, 1, 0, 0],\n",
       " [0, 0, 0, 1, 0],\n",
       " [0, 0, 0, 0, 1]]"
      ]
     },
     "execution_count": 60,
     "metadata": {},
     "output_type": "execute_result"
    }
   ],
   "source": [
    "matrix = [\n",
    "    [None, None, None, None, None],\n",
    "    [None, None, None, None, None],\n",
    "    [None, None, None, None, None],\n",
    "    [None, None, None, None, None],\n",
    "    [None, None, None, None, None]\n",
    "]\n",
    "\n",
    "for i in range(0, len(matrix)):\n",
    "    for j in range(0, len(matrix[i])):\n",
    "        matrix[i][j] = int(i == j)\n",
    "\n",
    "matrix"
   ]
  },
  {
   "cell_type": "markdown",
   "metadata": {},
   "source": [
    "#### 11번"
   ]
  },
  {
   "cell_type": "code",
   "execution_count": 26,
   "metadata": {},
   "outputs": [
    {
     "name": "stdout",
     "output_type": "stream",
     "text": [
      "1번째 >> 5\n",
      "4번째 >> Q\n",
      "5번째 >> A\n",
      "가져올 수 있는 카드의 수 : 3장\n"
     ]
    }
   ],
   "source": [
    "card1 = [1, 5, 7, 'J', 'Q', 'A']\n",
    "card2 = [2, 3, 4, 5, 'Q', 'K', 'A']\n",
    "\n",
    "duplicated = 0\n",
    "for i in card2:\n",
    "    if i in card1:\n",
    "        idx = card1.index(i)\n",
    "        print(f\"{idx}번째 >> {card1[idx]}\")\n",
    "        duplicated += 1\n",
    "\n",
    "print(f\"가져올 수 있는 카드의 수 : {duplicated}장\")"
   ]
  },
  {
   "cell_type": "code",
   "execution_count": 62,
   "metadata": {},
   "outputs": [
    {
     "name": "stdout",
     "output_type": "stream",
     "text": [
      "1번째 >> 5\n",
      "4번째 >> Q\n",
      "5번째 >> A\n",
      "가져올 수 있는 카드 수 : 3\n"
     ]
    }
   ],
   "source": [
    "cs = [1, 5, 7, 'J', 'Q', 'A']\n",
    "yh = [2, 3, 4, 5, 'Q', 'K', 'A']\n",
    "\n",
    "count = 0\n",
    "for y in yh:\n",
    "    for i, c in enumerate(cs):\n",
    "        if y == c:\n",
    "            count += 1\n",
    "            print(\"%d번째 >> %s\" % (i, c))\n",
    "            break\n",
    "\n",
    "print(\"가져올 수 있는 카드 수 : %d\" % count)"
   ]
  },
  {
   "cell_type": "markdown",
   "metadata": {},
   "source": [
    "#### 12번"
   ]
  },
  {
   "cell_type": "code",
   "execution_count": 8,
   "metadata": {},
   "outputs": [],
   "source": [
    "covid19 = [\n",
    "    {\"date\":\"0125\", \"active\" : 426},\n",
    "    {\"date\":\"0126\", \"active\" : 343},\n",
    "    {\"date\":\"0127\", \"active\" : 547},\n",
    "    {\"date\":\"0128\", \"active\" : 490},\n",
    "    {\"date\":\"0129\", \"active\" : 460},\n",
    "    {\"date\":\"0130\", \"active\" : 443},\n",
    "    {\"date\":\"0131\", \"active\" : 338},\n",
    "    {\"date\":\"0201\", \"active\" : 299}\n",
    "]"
   ]
  },
  {
   "cell_type": "markdown",
   "metadata": {},
   "source": [
    "##### 12-1"
   ]
  },
  {
   "cell_type": "code",
   "execution_count": 10,
   "metadata": {},
   "outputs": [
    {
     "name": "stdout",
     "output_type": "stream",
     "text": [
      "누적 확진자 수 : 3346\n",
      "평균 확진자 수 : 418.25\n"
     ]
    }
   ],
   "source": [
    "total = 0\n",
    "\n",
    "for i in covid19:\n",
    "    total += i[\"active\"]\n",
    "\n",
    "print(f\"누적 확진자 수 : {total}\")\n",
    "print(f\"평균 확진자 수 : {total/len(covid19):0.2f}\")"
   ]
  },
  {
   "cell_type": "markdown",
   "metadata": {},
   "source": [
    "#### 12-2"
   ]
  },
  {
   "cell_type": "code",
   "execution_count": 12,
   "metadata": {},
   "outputs": [
    {
     "name": "stdout",
     "output_type": "stream",
     "text": [
      "확진자가 가장 많이 나타난 날 : 0127\n"
     ]
    }
   ],
   "source": [
    "max_covid_date = covid19[0]['date']\n",
    "max_covid_num = covid19[0]['active']\n",
    "\n",
    "for i in covid19:\n",
    "    if i[\"active\"] > max_covid_num:\n",
    "        max_covid_date = i['date']\n",
    "        max_covid_num = i['active']\n",
    "\n",
    "print(f\"확진자가 가장 많이 나타난 날 : {max_covid_date}\")"
   ]
  }
 ],
 "metadata": {
  "kernelspec": {
   "display_name": "base",
   "language": "python",
   "name": "python3"
  },
  "language_info": {
   "codemirror_mode": {
    "name": "ipython",
    "version": 3
   },
   "file_extension": ".py",
   "mimetype": "text/x-python",
   "name": "python",
   "nbconvert_exporter": "python",
   "pygments_lexer": "ipython3",
   "version": "3.10.9"
  }
 },
 "nbformat": 4,
 "nbformat_minor": 2
}
