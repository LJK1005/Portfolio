{
 "cells": [
  {
   "cell_type": "code",
   "execution_count": 48,
   "id": "dbb6de15",
   "metadata": {},
   "outputs": [],
   "source": [
    "import pandas as pd\n",
    "import numpy as np\n",
    "import matplotlib.pyplot as plt"
   ]
  },
  {
   "cell_type": "code",
   "execution_count": 2,
   "id": "a0f3366b",
   "metadata": {},
   "outputs": [],
   "source": [
    "df = pd.read_csv(\"./study2/train.csv\", index_col = \"id\")"
   ]
  },
  {
   "cell_type": "code",
   "execution_count": 3,
   "id": "a76f0e85",
   "metadata": {},
   "outputs": [
    {
     "data": {
      "text/html": [
       "<div>\n",
       "<style scoped>\n",
       "    .dataframe tbody tr th:only-of-type {\n",
       "        vertical-align: middle;\n",
       "    }\n",
       "\n",
       "    .dataframe tbody tr th {\n",
       "        vertical-align: top;\n",
       "    }\n",
       "\n",
       "    .dataframe thead th {\n",
       "        text-align: right;\n",
       "    }\n",
       "</style>\n",
       "<table border=\"1\" class=\"dataframe\">\n",
       "  <thead>\n",
       "    <tr style=\"text-align: right;\">\n",
       "      <th></th>\n",
       "      <th>surgery</th>\n",
       "      <th>age</th>\n",
       "      <th>hospital_number</th>\n",
       "      <th>rectal_temp</th>\n",
       "      <th>pulse</th>\n",
       "      <th>respiratory_rate</th>\n",
       "      <th>temp_of_extremities</th>\n",
       "      <th>peripheral_pulse</th>\n",
       "      <th>mucous_membrane</th>\n",
       "      <th>capillary_refill_time</th>\n",
       "      <th>...</th>\n",
       "      <th>packed_cell_volume</th>\n",
       "      <th>total_protein</th>\n",
       "      <th>abdomo_appearance</th>\n",
       "      <th>abdomo_protein</th>\n",
       "      <th>surgical_lesion</th>\n",
       "      <th>lesion_1</th>\n",
       "      <th>lesion_2</th>\n",
       "      <th>lesion_3</th>\n",
       "      <th>cp_data</th>\n",
       "      <th>outcome</th>\n",
       "    </tr>\n",
       "    <tr>\n",
       "      <th>id</th>\n",
       "      <th></th>\n",
       "      <th></th>\n",
       "      <th></th>\n",
       "      <th></th>\n",
       "      <th></th>\n",
       "      <th></th>\n",
       "      <th></th>\n",
       "      <th></th>\n",
       "      <th></th>\n",
       "      <th></th>\n",
       "      <th></th>\n",
       "      <th></th>\n",
       "      <th></th>\n",
       "      <th></th>\n",
       "      <th></th>\n",
       "      <th></th>\n",
       "      <th></th>\n",
       "      <th></th>\n",
       "      <th></th>\n",
       "      <th></th>\n",
       "      <th></th>\n",
       "    </tr>\n",
       "  </thead>\n",
       "  <tbody>\n",
       "    <tr>\n",
       "      <th>0</th>\n",
       "      <td>yes</td>\n",
       "      <td>adult</td>\n",
       "      <td>530001</td>\n",
       "      <td>38.1</td>\n",
       "      <td>132.0</td>\n",
       "      <td>24.0</td>\n",
       "      <td>cool</td>\n",
       "      <td>reduced</td>\n",
       "      <td>dark_cyanotic</td>\n",
       "      <td>more_3_sec</td>\n",
       "      <td>...</td>\n",
       "      <td>57.0</td>\n",
       "      <td>8.5</td>\n",
       "      <td>serosanguious</td>\n",
       "      <td>3.4</td>\n",
       "      <td>yes</td>\n",
       "      <td>2209</td>\n",
       "      <td>0</td>\n",
       "      <td>0</td>\n",
       "      <td>no</td>\n",
       "      <td>died</td>\n",
       "    </tr>\n",
       "    <tr>\n",
       "      <th>1</th>\n",
       "      <td>yes</td>\n",
       "      <td>adult</td>\n",
       "      <td>533836</td>\n",
       "      <td>37.5</td>\n",
       "      <td>88.0</td>\n",
       "      <td>12.0</td>\n",
       "      <td>cool</td>\n",
       "      <td>normal</td>\n",
       "      <td>pale_cyanotic</td>\n",
       "      <td>more_3_sec</td>\n",
       "      <td>...</td>\n",
       "      <td>33.0</td>\n",
       "      <td>64.0</td>\n",
       "      <td>serosanguious</td>\n",
       "      <td>2.0</td>\n",
       "      <td>yes</td>\n",
       "      <td>2208</td>\n",
       "      <td>0</td>\n",
       "      <td>0</td>\n",
       "      <td>no</td>\n",
       "      <td>euthanized</td>\n",
       "    </tr>\n",
       "    <tr>\n",
       "      <th>2</th>\n",
       "      <td>yes</td>\n",
       "      <td>adult</td>\n",
       "      <td>529812</td>\n",
       "      <td>38.3</td>\n",
       "      <td>120.0</td>\n",
       "      <td>28.0</td>\n",
       "      <td>cool</td>\n",
       "      <td>reduced</td>\n",
       "      <td>pale_pink</td>\n",
       "      <td>less_3_sec</td>\n",
       "      <td>...</td>\n",
       "      <td>37.0</td>\n",
       "      <td>6.4</td>\n",
       "      <td>serosanguious</td>\n",
       "      <td>3.4</td>\n",
       "      <td>yes</td>\n",
       "      <td>5124</td>\n",
       "      <td>0</td>\n",
       "      <td>0</td>\n",
       "      <td>no</td>\n",
       "      <td>lived</td>\n",
       "    </tr>\n",
       "    <tr>\n",
       "      <th>3</th>\n",
       "      <td>yes</td>\n",
       "      <td>adult</td>\n",
       "      <td>5262541</td>\n",
       "      <td>37.1</td>\n",
       "      <td>72.0</td>\n",
       "      <td>30.0</td>\n",
       "      <td>cold</td>\n",
       "      <td>reduced</td>\n",
       "      <td>pale_pink</td>\n",
       "      <td>more_3_sec</td>\n",
       "      <td>...</td>\n",
       "      <td>53.0</td>\n",
       "      <td>7.0</td>\n",
       "      <td>cloudy</td>\n",
       "      <td>3.9</td>\n",
       "      <td>yes</td>\n",
       "      <td>2208</td>\n",
       "      <td>0</td>\n",
       "      <td>0</td>\n",
       "      <td>yes</td>\n",
       "      <td>lived</td>\n",
       "    </tr>\n",
       "    <tr>\n",
       "      <th>4</th>\n",
       "      <td>no</td>\n",
       "      <td>adult</td>\n",
       "      <td>5299629</td>\n",
       "      <td>38.0</td>\n",
       "      <td>52.0</td>\n",
       "      <td>48.0</td>\n",
       "      <td>normal</td>\n",
       "      <td>normal</td>\n",
       "      <td>normal_pink</td>\n",
       "      <td>less_3_sec</td>\n",
       "      <td>...</td>\n",
       "      <td>47.0</td>\n",
       "      <td>7.3</td>\n",
       "      <td>cloudy</td>\n",
       "      <td>2.6</td>\n",
       "      <td>no</td>\n",
       "      <td>0</td>\n",
       "      <td>0</td>\n",
       "      <td>0</td>\n",
       "      <td>yes</td>\n",
       "      <td>lived</td>\n",
       "    </tr>\n",
       "  </tbody>\n",
       "</table>\n",
       "<p>5 rows × 28 columns</p>\n",
       "</div>"
      ],
      "text/plain": [
       "   surgery    age  hospital_number  rectal_temp  pulse  respiratory_rate  \\\n",
       "id                                                                         \n",
       "0      yes  adult           530001         38.1  132.0              24.0   \n",
       "1      yes  adult           533836         37.5   88.0              12.0   \n",
       "2      yes  adult           529812         38.3  120.0              28.0   \n",
       "3      yes  adult          5262541         37.1   72.0              30.0   \n",
       "4       no  adult          5299629         38.0   52.0              48.0   \n",
       "\n",
       "   temp_of_extremities peripheral_pulse mucous_membrane capillary_refill_time  \\\n",
       "id                                                                              \n",
       "0                 cool          reduced   dark_cyanotic            more_3_sec   \n",
       "1                 cool           normal   pale_cyanotic            more_3_sec   \n",
       "2                 cool          reduced       pale_pink            less_3_sec   \n",
       "3                 cold          reduced       pale_pink            more_3_sec   \n",
       "4               normal           normal     normal_pink            less_3_sec   \n",
       "\n",
       "    ... packed_cell_volume total_protein abdomo_appearance abdomo_protein  \\\n",
       "id  ...                                                                     \n",
       "0   ...               57.0           8.5     serosanguious            3.4   \n",
       "1   ...               33.0          64.0     serosanguious            2.0   \n",
       "2   ...               37.0           6.4     serosanguious            3.4   \n",
       "3   ...               53.0           7.0            cloudy            3.9   \n",
       "4   ...               47.0           7.3            cloudy            2.6   \n",
       "\n",
       "   surgical_lesion  lesion_1 lesion_2 lesion_3  cp_data     outcome  \n",
       "id                                                                   \n",
       "0              yes      2209        0        0       no        died  \n",
       "1              yes      2208        0        0       no  euthanized  \n",
       "2              yes      5124        0        0       no       lived  \n",
       "3              yes      2208        0        0      yes       lived  \n",
       "4               no         0        0        0      yes       lived  \n",
       "\n",
       "[5 rows x 28 columns]"
      ]
     },
     "execution_count": 3,
     "metadata": {},
     "output_type": "execute_result"
    }
   ],
   "source": [
    "df.head()"
   ]
  },
  {
   "cell_type": "code",
   "execution_count": 4,
   "id": "57eda1bd",
   "metadata": {},
   "outputs": [
    {
     "data": {
      "text/plain": [
       "(1235, 28)"
      ]
     },
     "execution_count": 4,
     "metadata": {},
     "output_type": "execute_result"
    }
   ],
   "source": [
    "df.shape"
   ]
  },
  {
   "cell_type": "code",
   "execution_count": 5,
   "id": "c7386133",
   "metadata": {},
   "outputs": [
    {
     "name": "stdout",
     "output_type": "stream",
     "text": [
      "<class 'pandas.core.frame.DataFrame'>\n",
      "Int64Index: 1235 entries, 0 to 1234\n",
      "Data columns (total 28 columns):\n",
      " #   Column                 Non-Null Count  Dtype  \n",
      "---  ------                 --------------  -----  \n",
      " 0   surgery                1235 non-null   object \n",
      " 1   age                    1235 non-null   object \n",
      " 2   hospital_number        1235 non-null   int64  \n",
      " 3   rectal_temp            1235 non-null   float64\n",
      " 4   pulse                  1235 non-null   float64\n",
      " 5   respiratory_rate       1235 non-null   float64\n",
      " 6   temp_of_extremities    1235 non-null   object \n",
      " 7   peripheral_pulse       1235 non-null   object \n",
      " 8   mucous_membrane        1235 non-null   object \n",
      " 9   capillary_refill_time  1235 non-null   object \n",
      " 10  pain                   1235 non-null   object \n",
      " 11  peristalsis            1235 non-null   object \n",
      " 12  abdominal_distention   1235 non-null   object \n",
      " 13  nasogastric_tube       1235 non-null   object \n",
      " 14  nasogastric_reflux     1235 non-null   object \n",
      " 15  nasogastric_reflux_ph  1235 non-null   float64\n",
      " 16  rectal_exam_feces      1235 non-null   object \n",
      " 17  abdomen                1235 non-null   object \n",
      " 18  packed_cell_volume     1235 non-null   float64\n",
      " 19  total_protein          1235 non-null   float64\n",
      " 20  abdomo_appearance      1235 non-null   object \n",
      " 21  abdomo_protein         1235 non-null   float64\n",
      " 22  surgical_lesion        1235 non-null   object \n",
      " 23  lesion_1               1235 non-null   int64  \n",
      " 24  lesion_2               1235 non-null   int64  \n",
      " 25  lesion_3               1235 non-null   int64  \n",
      " 26  cp_data                1235 non-null   object \n",
      " 27  outcome                1235 non-null   object \n",
      "dtypes: float64(7), int64(4), object(17)\n",
      "memory usage: 279.8+ KB\n"
     ]
    }
   ],
   "source": [
    "df.info()"
   ]
  },
  {
   "cell_type": "code",
   "execution_count": 6,
   "id": "0b6b2504",
   "metadata": {},
   "outputs": [
    {
     "data": {
      "text/html": [
       "<div>\n",
       "<style scoped>\n",
       "    .dataframe tbody tr th:only-of-type {\n",
       "        vertical-align: middle;\n",
       "    }\n",
       "\n",
       "    .dataframe tbody tr th {\n",
       "        vertical-align: top;\n",
       "    }\n",
       "\n",
       "    .dataframe thead th {\n",
       "        text-align: right;\n",
       "    }\n",
       "</style>\n",
       "<table border=\"1\" class=\"dataframe\">\n",
       "  <thead>\n",
       "    <tr style=\"text-align: right;\">\n",
       "      <th></th>\n",
       "      <th>hospital_number</th>\n",
       "      <th>rectal_temp</th>\n",
       "      <th>pulse</th>\n",
       "      <th>respiratory_rate</th>\n",
       "      <th>nasogastric_reflux_ph</th>\n",
       "      <th>packed_cell_volume</th>\n",
       "      <th>total_protein</th>\n",
       "      <th>abdomo_protein</th>\n",
       "      <th>lesion_1</th>\n",
       "      <th>lesion_2</th>\n",
       "      <th>lesion_3</th>\n",
       "    </tr>\n",
       "  </thead>\n",
       "  <tbody>\n",
       "    <tr>\n",
       "      <th>count</th>\n",
       "      <td>1.235000e+03</td>\n",
       "      <td>1235.000000</td>\n",
       "      <td>1235.000000</td>\n",
       "      <td>1235.000000</td>\n",
       "      <td>1235.000000</td>\n",
       "      <td>1235.000000</td>\n",
       "      <td>1235.000000</td>\n",
       "      <td>1235.000000</td>\n",
       "      <td>1235.000000</td>\n",
       "      <td>1235.000000</td>\n",
       "      <td>1235.000000</td>\n",
       "    </tr>\n",
       "    <tr>\n",
       "      <th>mean</th>\n",
       "      <td>9.545004e+05</td>\n",
       "      <td>38.202186</td>\n",
       "      <td>79.574089</td>\n",
       "      <td>30.054251</td>\n",
       "      <td>4.382591</td>\n",
       "      <td>49.602429</td>\n",
       "      <td>21.388016</td>\n",
       "      <td>3.290931</td>\n",
       "      <td>3832.496356</td>\n",
       "      <td>14.612146</td>\n",
       "      <td>3.577328</td>\n",
       "    </tr>\n",
       "    <tr>\n",
       "      <th>std</th>\n",
       "      <td>1.356403e+06</td>\n",
       "      <td>0.788668</td>\n",
       "      <td>29.108638</td>\n",
       "      <td>16.452066</td>\n",
       "      <td>1.937357</td>\n",
       "      <td>10.535800</td>\n",
       "      <td>26.676453</td>\n",
       "      <td>1.589195</td>\n",
       "      <td>5436.733774</td>\n",
       "      <td>193.705735</td>\n",
       "      <td>88.858953</td>\n",
       "    </tr>\n",
       "    <tr>\n",
       "      <th>min</th>\n",
       "      <td>5.213990e+05</td>\n",
       "      <td>35.400000</td>\n",
       "      <td>30.000000</td>\n",
       "      <td>8.000000</td>\n",
       "      <td>1.000000</td>\n",
       "      <td>23.000000</td>\n",
       "      <td>3.500000</td>\n",
       "      <td>0.100000</td>\n",
       "      <td>0.000000</td>\n",
       "      <td>0.000000</td>\n",
       "      <td>0.000000</td>\n",
       "    </tr>\n",
       "    <tr>\n",
       "      <th>25%</th>\n",
       "      <td>5.288000e+05</td>\n",
       "      <td>37.800000</td>\n",
       "      <td>53.000000</td>\n",
       "      <td>18.000000</td>\n",
       "      <td>2.000000</td>\n",
       "      <td>43.000000</td>\n",
       "      <td>6.600000</td>\n",
       "      <td>2.000000</td>\n",
       "      <td>2205.000000</td>\n",
       "      <td>0.000000</td>\n",
       "      <td>0.000000</td>\n",
       "    </tr>\n",
       "    <tr>\n",
       "      <th>50%</th>\n",
       "      <td>5.297770e+05</td>\n",
       "      <td>38.200000</td>\n",
       "      <td>76.000000</td>\n",
       "      <td>28.000000</td>\n",
       "      <td>4.500000</td>\n",
       "      <td>48.000000</td>\n",
       "      <td>7.500000</td>\n",
       "      <td>3.000000</td>\n",
       "      <td>2209.000000</td>\n",
       "      <td>0.000000</td>\n",
       "      <td>0.000000</td>\n",
       "    </tr>\n",
       "    <tr>\n",
       "      <th>75%</th>\n",
       "      <td>5.341450e+05</td>\n",
       "      <td>38.600000</td>\n",
       "      <td>100.000000</td>\n",
       "      <td>36.000000</td>\n",
       "      <td>6.000000</td>\n",
       "      <td>57.000000</td>\n",
       "      <td>9.100000</td>\n",
       "      <td>4.300000</td>\n",
       "      <td>3205.000000</td>\n",
       "      <td>0.000000</td>\n",
       "      <td>0.000000</td>\n",
       "    </tr>\n",
       "    <tr>\n",
       "      <th>max</th>\n",
       "      <td>5.305129e+06</td>\n",
       "      <td>40.800000</td>\n",
       "      <td>184.000000</td>\n",
       "      <td>96.000000</td>\n",
       "      <td>7.500000</td>\n",
       "      <td>75.000000</td>\n",
       "      <td>89.000000</td>\n",
       "      <td>10.100000</td>\n",
       "      <td>41110.000000</td>\n",
       "      <td>3112.000000</td>\n",
       "      <td>2209.000000</td>\n",
       "    </tr>\n",
       "  </tbody>\n",
       "</table>\n",
       "</div>"
      ],
      "text/plain": [
       "       hospital_number  rectal_temp        pulse  respiratory_rate  \\\n",
       "count     1.235000e+03  1235.000000  1235.000000       1235.000000   \n",
       "mean      9.545004e+05    38.202186    79.574089         30.054251   \n",
       "std       1.356403e+06     0.788668    29.108638         16.452066   \n",
       "min       5.213990e+05    35.400000    30.000000          8.000000   \n",
       "25%       5.288000e+05    37.800000    53.000000         18.000000   \n",
       "50%       5.297770e+05    38.200000    76.000000         28.000000   \n",
       "75%       5.341450e+05    38.600000   100.000000         36.000000   \n",
       "max       5.305129e+06    40.800000   184.000000         96.000000   \n",
       "\n",
       "       nasogastric_reflux_ph  packed_cell_volume  total_protein  \\\n",
       "count            1235.000000         1235.000000    1235.000000   \n",
       "mean                4.382591           49.602429      21.388016   \n",
       "std                 1.937357           10.535800      26.676453   \n",
       "min                 1.000000           23.000000       3.500000   \n",
       "25%                 2.000000           43.000000       6.600000   \n",
       "50%                 4.500000           48.000000       7.500000   \n",
       "75%                 6.000000           57.000000       9.100000   \n",
       "max                 7.500000           75.000000      89.000000   \n",
       "\n",
       "       abdomo_protein      lesion_1     lesion_2     lesion_3  \n",
       "count     1235.000000   1235.000000  1235.000000  1235.000000  \n",
       "mean         3.290931   3832.496356    14.612146     3.577328  \n",
       "std          1.589195   5436.733774   193.705735    88.858953  \n",
       "min          0.100000      0.000000     0.000000     0.000000  \n",
       "25%          2.000000   2205.000000     0.000000     0.000000  \n",
       "50%          3.000000   2209.000000     0.000000     0.000000  \n",
       "75%          4.300000   3205.000000     0.000000     0.000000  \n",
       "max         10.100000  41110.000000  3112.000000  2209.000000  "
      ]
     },
     "execution_count": 6,
     "metadata": {},
     "output_type": "execute_result"
    }
   ],
   "source": [
    "df.describe()"
   ]
  },
  {
   "cell_type": "code",
   "execution_count": 100,
   "id": "2effa390",
   "metadata": {},
   "outputs": [],
   "source": [
    "test = pd.read_csv(\"./study2/test.csv\", index_col = \"id\")"
   ]
  },
  {
   "cell_type": "code",
   "execution_count": 93,
   "id": "4367c698",
   "metadata": {
    "scrolled": true
   },
   "outputs": [
    {
     "data": {
      "text/html": [
       "<div>\n",
       "<style scoped>\n",
       "    .dataframe tbody tr th:only-of-type {\n",
       "        vertical-align: middle;\n",
       "    }\n",
       "\n",
       "    .dataframe tbody tr th {\n",
       "        vertical-align: top;\n",
       "    }\n",
       "\n",
       "    .dataframe thead th {\n",
       "        text-align: right;\n",
       "    }\n",
       "</style>\n",
       "<table border=\"1\" class=\"dataframe\">\n",
       "  <thead>\n",
       "    <tr style=\"text-align: right;\">\n",
       "      <th></th>\n",
       "      <th>surgery</th>\n",
       "      <th>age</th>\n",
       "      <th>hospital_number</th>\n",
       "      <th>rectal_temp</th>\n",
       "      <th>pulse</th>\n",
       "      <th>respiratory_rate</th>\n",
       "      <th>temp_of_extremities</th>\n",
       "      <th>peripheral_pulse</th>\n",
       "      <th>mucous_membrane</th>\n",
       "      <th>capillary_refill_time</th>\n",
       "      <th>...</th>\n",
       "      <th>abdomen</th>\n",
       "      <th>packed_cell_volume</th>\n",
       "      <th>total_protein</th>\n",
       "      <th>abdomo_appearance</th>\n",
       "      <th>abdomo_protein</th>\n",
       "      <th>surgical_lesion</th>\n",
       "      <th>lesion_1</th>\n",
       "      <th>lesion_2</th>\n",
       "      <th>lesion_3</th>\n",
       "      <th>cp_data</th>\n",
       "    </tr>\n",
       "    <tr>\n",
       "      <th>id</th>\n",
       "      <th></th>\n",
       "      <th></th>\n",
       "      <th></th>\n",
       "      <th></th>\n",
       "      <th></th>\n",
       "      <th></th>\n",
       "      <th></th>\n",
       "      <th></th>\n",
       "      <th></th>\n",
       "      <th></th>\n",
       "      <th></th>\n",
       "      <th></th>\n",
       "      <th></th>\n",
       "      <th></th>\n",
       "      <th></th>\n",
       "      <th></th>\n",
       "      <th></th>\n",
       "      <th></th>\n",
       "      <th></th>\n",
       "      <th></th>\n",
       "      <th></th>\n",
       "    </tr>\n",
       "  </thead>\n",
       "  <tbody>\n",
       "    <tr>\n",
       "      <th>1235</th>\n",
       "      <td>no</td>\n",
       "      <td>adult</td>\n",
       "      <td>534053</td>\n",
       "      <td>38.6</td>\n",
       "      <td>40.0</td>\n",
       "      <td>20.0</td>\n",
       "      <td>normal</td>\n",
       "      <td>normal</td>\n",
       "      <td>normal_pink</td>\n",
       "      <td>less_3_sec</td>\n",
       "      <td>...</td>\n",
       "      <td>distend_small</td>\n",
       "      <td>42.0</td>\n",
       "      <td>7.5</td>\n",
       "      <td>clear</td>\n",
       "      <td>2.3</td>\n",
       "      <td>no</td>\n",
       "      <td>0</td>\n",
       "      <td>0</td>\n",
       "      <td>0</td>\n",
       "      <td>no</td>\n",
       "    </tr>\n",
       "    <tr>\n",
       "      <th>1236</th>\n",
       "      <td>yes</td>\n",
       "      <td>adult</td>\n",
       "      <td>528469</td>\n",
       "      <td>38.2</td>\n",
       "      <td>112.0</td>\n",
       "      <td>48.0</td>\n",
       "      <td>cool</td>\n",
       "      <td>reduced</td>\n",
       "      <td>bright_pink</td>\n",
       "      <td>more_3_sec</td>\n",
       "      <td>...</td>\n",
       "      <td>distend_small</td>\n",
       "      <td>44.0</td>\n",
       "      <td>6.0</td>\n",
       "      <td>serosanguious</td>\n",
       "      <td>2.6</td>\n",
       "      <td>no</td>\n",
       "      <td>2208</td>\n",
       "      <td>0</td>\n",
       "      <td>0</td>\n",
       "      <td>yes</td>\n",
       "    </tr>\n",
       "    <tr>\n",
       "      <th>1237</th>\n",
       "      <td>yes</td>\n",
       "      <td>adult</td>\n",
       "      <td>528178</td>\n",
       "      <td>37.7</td>\n",
       "      <td>66.0</td>\n",
       "      <td>12.0</td>\n",
       "      <td>cool</td>\n",
       "      <td>normal</td>\n",
       "      <td>bright_red</td>\n",
       "      <td>less_3_sec</td>\n",
       "      <td>...</td>\n",
       "      <td>distend_small</td>\n",
       "      <td>31.5</td>\n",
       "      <td>6.0</td>\n",
       "      <td>cloudy</td>\n",
       "      <td>1.6</td>\n",
       "      <td>yes</td>\n",
       "      <td>2205</td>\n",
       "      <td>0</td>\n",
       "      <td>0</td>\n",
       "      <td>yes</td>\n",
       "    </tr>\n",
       "    <tr>\n",
       "      <th>1238</th>\n",
       "      <td>no</td>\n",
       "      <td>adult</td>\n",
       "      <td>534784</td>\n",
       "      <td>37.1</td>\n",
       "      <td>88.0</td>\n",
       "      <td>20.0</td>\n",
       "      <td>cool</td>\n",
       "      <td>reduced</td>\n",
       "      <td>pale_cyanotic</td>\n",
       "      <td>less_3_sec</td>\n",
       "      <td>...</td>\n",
       "      <td>distend_large</td>\n",
       "      <td>75.0</td>\n",
       "      <td>81.0</td>\n",
       "      <td>None</td>\n",
       "      <td>1.0</td>\n",
       "      <td>yes</td>\n",
       "      <td>1400</td>\n",
       "      <td>0</td>\n",
       "      <td>0</td>\n",
       "      <td>no</td>\n",
       "    </tr>\n",
       "    <tr>\n",
       "      <th>1239</th>\n",
       "      <td>yes</td>\n",
       "      <td>adult</td>\n",
       "      <td>529840</td>\n",
       "      <td>38.3</td>\n",
       "      <td>50.0</td>\n",
       "      <td>12.0</td>\n",
       "      <td>None</td>\n",
       "      <td>normal</td>\n",
       "      <td>bright_pink</td>\n",
       "      <td>less_3_sec</td>\n",
       "      <td>...</td>\n",
       "      <td>distend_small</td>\n",
       "      <td>37.0</td>\n",
       "      <td>6.8</td>\n",
       "      <td>cloudy</td>\n",
       "      <td>2.6</td>\n",
       "      <td>yes</td>\n",
       "      <td>2208</td>\n",
       "      <td>0</td>\n",
       "      <td>0</td>\n",
       "      <td>yes</td>\n",
       "    </tr>\n",
       "  </tbody>\n",
       "</table>\n",
       "<p>5 rows × 27 columns</p>\n",
       "</div>"
      ],
      "text/plain": [
       "     surgery    age  hospital_number  rectal_temp  pulse  respiratory_rate  \\\n",
       "id                                                                           \n",
       "1235      no  adult           534053         38.6   40.0              20.0   \n",
       "1236     yes  adult           528469         38.2  112.0              48.0   \n",
       "1237     yes  adult           528178         37.7   66.0              12.0   \n",
       "1238      no  adult           534784         37.1   88.0              20.0   \n",
       "1239     yes  adult           529840         38.3   50.0              12.0   \n",
       "\n",
       "     temp_of_extremities peripheral_pulse mucous_membrane  \\\n",
       "id                                                          \n",
       "1235              normal           normal     normal_pink   \n",
       "1236                cool          reduced     bright_pink   \n",
       "1237                cool           normal      bright_red   \n",
       "1238                cool          reduced   pale_cyanotic   \n",
       "1239                None           normal     bright_pink   \n",
       "\n",
       "     capillary_refill_time  ...        abdomen packed_cell_volume  \\\n",
       "id                          ...                                     \n",
       "1235            less_3_sec  ...  distend_small               42.0   \n",
       "1236            more_3_sec  ...  distend_small               44.0   \n",
       "1237            less_3_sec  ...  distend_small               31.5   \n",
       "1238            less_3_sec  ...  distend_large               75.0   \n",
       "1239            less_3_sec  ...  distend_small               37.0   \n",
       "\n",
       "     total_protein abdomo_appearance abdomo_protein  surgical_lesion lesion_1  \\\n",
       "id                                                                              \n",
       "1235           7.5             clear            2.3               no        0   \n",
       "1236           6.0     serosanguious            2.6               no     2208   \n",
       "1237           6.0            cloudy            1.6              yes     2205   \n",
       "1238          81.0              None            1.0              yes     1400   \n",
       "1239           6.8            cloudy            2.6              yes     2208   \n",
       "\n",
       "     lesion_2  lesion_3  cp_data  \n",
       "id                                \n",
       "1235        0         0       no  \n",
       "1236        0         0      yes  \n",
       "1237        0         0      yes  \n",
       "1238        0         0       no  \n",
       "1239        0         0      yes  \n",
       "\n",
       "[5 rows x 27 columns]"
      ]
     },
     "execution_count": 93,
     "metadata": {},
     "output_type": "execute_result"
    }
   ],
   "source": [
    "test.head()"
   ]
  },
  {
   "cell_type": "code",
   "execution_count": 9,
   "id": "5ebc09d9",
   "metadata": {},
   "outputs": [
    {
     "data": {
      "text/plain": [
       "Index(['surgery', 'age', 'hospital_number', 'rectal_temp', 'pulse',\n",
       "       'respiratory_rate', 'temp_of_extremities', 'peripheral_pulse',\n",
       "       'mucous_membrane', 'capillary_refill_time', 'pain', 'peristalsis',\n",
       "       'abdominal_distention', 'nasogastric_tube', 'nasogastric_reflux',\n",
       "       'nasogastric_reflux_ph', 'rectal_exam_feces', 'abdomen',\n",
       "       'packed_cell_volume', 'total_protein', 'abdomo_appearance',\n",
       "       'abdomo_protein', 'surgical_lesion', 'lesion_1', 'lesion_2', 'lesion_3',\n",
       "       'cp_data', 'outcome'],\n",
       "      dtype='object')"
      ]
     },
     "execution_count": 9,
     "metadata": {},
     "output_type": "execute_result"
    }
   ],
   "source": [
    "df.columns"
   ]
  },
  {
   "cell_type": "code",
   "execution_count": 10,
   "id": "73524f9a",
   "metadata": {},
   "outputs": [],
   "source": [
    "obj = ['surgery', 'age', 'temp_of_extremities', 'peripheral_pulse', 'mucous_membrane', 'capillary_refill_time', 'pain', 'peristalsis', 'abdominal_distention', 'nasogastric_tube', 'nasogastric_reflux', 'rectal_exam_feces', 'abdomen', 'abdomo_appearance', 'surgical_lesion', 'cp_data']"
   ]
  },
  {
   "cell_type": "code",
   "execution_count": 11,
   "id": "9ae2d38a",
   "metadata": {},
   "outputs": [],
   "source": [
    "df['capillary_refill_time'].replace(3, '3', inplace = True)"
   ]
  },
  {
   "cell_type": "code",
   "execution_count": 12,
   "id": "3ded7200",
   "metadata": {},
   "outputs": [
    {
     "name": "stdout",
     "output_type": "stream",
     "text": [
      "['yes' 'no']\n",
      "['adult' 'young']\n",
      "['cool' 'cold' 'normal' 'warm' 'None']\n",
      "['reduced' 'normal' 'None' 'absent' 'increased']\n",
      "['dark_cyanotic' 'pale_cyanotic' 'pale_pink' 'normal_pink' 'bright_pink'\n",
      " 'bright_red' 'None']\n",
      "['more_3_sec' 'less_3_sec' 'None' '3']\n",
      "['depressed' 'mild_pain' 'extreme_pain' 'alert' 'severe_pain' 'None'\n",
      " 'slight']\n",
      "['absent' 'hypomotile' 'normal' 'hypermotile' 'None' 'distend_small']\n",
      "['slight' 'moderate' 'none' 'severe' 'None']\n",
      "['slight' 'none' 'significant' 'None']\n",
      "['less_1_liter' 'more_1_liter' 'none' 'None' 'slight']\n",
      "['decreased' 'absent' 'None' 'normal' 'increased' 'serosanguious']\n",
      "['distend_small' 'distend_large' 'normal' 'firm' 'None' 'other']\n",
      "['serosanguious' 'cloudy' 'clear' 'None']\n",
      "['yes' 'no']\n",
      "['no' 'yes']\n"
     ]
    }
   ],
   "source": [
    "# 그래프로 확인\n",
    "\n",
    "for i in obj:\n",
    "    print(df[i].unique())"
   ]
  },
  {
   "cell_type": "code",
   "execution_count": 13,
   "id": "6f25e2ae",
   "metadata": {},
   "outputs": [],
   "source": [
    "df.replace('None', np.nan, inplace = True)"
   ]
  },
  {
   "cell_type": "code",
   "execution_count": 14,
   "id": "3ee18b9b",
   "metadata": {},
   "outputs": [
    {
     "data": {
      "text/plain": [
       "surgery                    0\n",
       "age                        0\n",
       "hospital_number            0\n",
       "rectal_temp                0\n",
       "pulse                      0\n",
       "respiratory_rate           0\n",
       "temp_of_extremities       39\n",
       "peripheral_pulse          60\n",
       "mucous_membrane           21\n",
       "capillary_refill_time      6\n",
       "pain                      44\n",
       "peristalsis               20\n",
       "abdominal_distention      23\n",
       "nasogastric_tube          80\n",
       "nasogastric_reflux        21\n",
       "nasogastric_reflux_ph      0\n",
       "rectal_exam_feces        190\n",
       "abdomen                  213\n",
       "packed_cell_volume         0\n",
       "total_protein              0\n",
       "abdomo_appearance         48\n",
       "abdomo_protein             0\n",
       "surgical_lesion            0\n",
       "lesion_1                   0\n",
       "lesion_2                   0\n",
       "lesion_3                   0\n",
       "cp_data                    0\n",
       "outcome                    0\n",
       "dtype: int64"
      ]
     },
     "execution_count": 14,
     "metadata": {},
     "output_type": "execute_result"
    }
   ],
   "source": [
    "df.isna().sum()"
   ]
  },
  {
   "cell_type": "code",
   "execution_count": 15,
   "id": "f65a345a",
   "metadata": {},
   "outputs": [
    {
     "name": "stdout",
     "output_type": "stream",
     "text": [
      "<class 'pandas.core.frame.DataFrame'>\n",
      "Int64Index: 1235 entries, 0 to 1234\n",
      "Data columns (total 28 columns):\n",
      " #   Column                 Non-Null Count  Dtype  \n",
      "---  ------                 --------------  -----  \n",
      " 0   surgery                1235 non-null   object \n",
      " 1   age                    1235 non-null   object \n",
      " 2   hospital_number        1235 non-null   int64  \n",
      " 3   rectal_temp            1235 non-null   float64\n",
      " 4   pulse                  1235 non-null   float64\n",
      " 5   respiratory_rate       1235 non-null   float64\n",
      " 6   temp_of_extremities    1196 non-null   object \n",
      " 7   peripheral_pulse       1175 non-null   object \n",
      " 8   mucous_membrane        1214 non-null   object \n",
      " 9   capillary_refill_time  1229 non-null   object \n",
      " 10  pain                   1191 non-null   object \n",
      " 11  peristalsis            1215 non-null   object \n",
      " 12  abdominal_distention   1212 non-null   object \n",
      " 13  nasogastric_tube       1155 non-null   object \n",
      " 14  nasogastric_reflux     1214 non-null   object \n",
      " 15  nasogastric_reflux_ph  1235 non-null   float64\n",
      " 16  rectal_exam_feces      1045 non-null   object \n",
      " 17  abdomen                1022 non-null   object \n",
      " 18  packed_cell_volume     1235 non-null   float64\n",
      " 19  total_protein          1235 non-null   float64\n",
      " 20  abdomo_appearance      1187 non-null   object \n",
      " 21  abdomo_protein         1235 non-null   float64\n",
      " 22  surgical_lesion        1235 non-null   object \n",
      " 23  lesion_1               1235 non-null   int64  \n",
      " 24  lesion_2               1235 non-null   int64  \n",
      " 25  lesion_3               1235 non-null   int64  \n",
      " 26  cp_data                1235 non-null   object \n",
      " 27  outcome                1235 non-null   object \n",
      "dtypes: float64(7), int64(4), object(17)\n",
      "memory usage: 279.8+ KB\n"
     ]
    }
   ],
   "source": [
    "df.info()"
   ]
  },
  {
   "cell_type": "code",
   "execution_count": 16,
   "id": "b84c2662",
   "metadata": {},
   "outputs": [],
   "source": [
    "none_obj = ['temp_of_extremities', 'peripheral_pulse', 'mucous_membrane', 'capillary_refill_time', 'pain', 'peristalsis', 'abdominal_distention', 'nasogastric_tube', 'nasogastric_reflux', 'rectal_exam_feces', 'abdomen', 'abdomo_appearance']"
   ]
  },
  {
   "cell_type": "code",
   "execution_count": 17,
   "id": "1f3f6bd9",
   "metadata": {},
   "outputs": [
    {
     "data": {
      "text/plain": [
       "'cool'"
      ]
     },
     "execution_count": 17,
     "metadata": {},
     "output_type": "execute_result"
    }
   ],
   "source": [
    "df['temp_of_extremities'].mode()[0]"
   ]
  },
  {
   "cell_type": "code",
   "execution_count": 17,
   "id": "33ba42d5",
   "metadata": {},
   "outputs": [],
   "source": [
    "for i in none_obj:\n",
    "    df[i].fillna(df[i].mode()[0], inplace = True)"
   ]
  },
  {
   "cell_type": "code",
   "execution_count": 18,
   "id": "6a4e6342",
   "metadata": {},
   "outputs": [
    {
     "name": "stdout",
     "output_type": "stream",
     "text": [
      "<class 'pandas.core.frame.DataFrame'>\n",
      "Int64Index: 1235 entries, 0 to 1234\n",
      "Data columns (total 28 columns):\n",
      " #   Column                 Non-Null Count  Dtype  \n",
      "---  ------                 --------------  -----  \n",
      " 0   surgery                1235 non-null   object \n",
      " 1   age                    1235 non-null   object \n",
      " 2   hospital_number        1235 non-null   int64  \n",
      " 3   rectal_temp            1235 non-null   float64\n",
      " 4   pulse                  1235 non-null   float64\n",
      " 5   respiratory_rate       1235 non-null   float64\n",
      " 6   temp_of_extremities    1235 non-null   object \n",
      " 7   peripheral_pulse       1235 non-null   object \n",
      " 8   mucous_membrane        1235 non-null   object \n",
      " 9   capillary_refill_time  1235 non-null   object \n",
      " 10  pain                   1235 non-null   object \n",
      " 11  peristalsis            1235 non-null   object \n",
      " 12  abdominal_distention   1235 non-null   object \n",
      " 13  nasogastric_tube       1235 non-null   object \n",
      " 14  nasogastric_reflux     1235 non-null   object \n",
      " 15  nasogastric_reflux_ph  1235 non-null   float64\n",
      " 16  rectal_exam_feces      1235 non-null   object \n",
      " 17  abdomen                1235 non-null   object \n",
      " 18  packed_cell_volume     1235 non-null   float64\n",
      " 19  total_protein          1235 non-null   float64\n",
      " 20  abdomo_appearance      1235 non-null   object \n",
      " 21  abdomo_protein         1235 non-null   float64\n",
      " 22  surgical_lesion        1235 non-null   object \n",
      " 23  lesion_1               1235 non-null   int64  \n",
      " 24  lesion_2               1235 non-null   int64  \n",
      " 25  lesion_3               1235 non-null   int64  \n",
      " 26  cp_data                1235 non-null   object \n",
      " 27  outcome                1235 non-null   object \n",
      "dtypes: float64(7), int64(4), object(17)\n",
      "memory usage: 279.8+ KB\n"
     ]
    }
   ],
   "source": [
    "df.info()"
   ]
  },
  {
   "cell_type": "code",
   "execution_count": 19,
   "id": "e50d6006",
   "metadata": {},
   "outputs": [
    {
     "name": "stdout",
     "output_type": "stream",
     "text": [
      "['yes' 'no']\n",
      "['adult' 'young']\n",
      "['cool' 'cold' 'normal' 'warm']\n",
      "['reduced' 'normal' 'absent' 'increased']\n",
      "['dark_cyanotic' 'pale_cyanotic' 'pale_pink' 'normal_pink' 'bright_pink'\n",
      " 'bright_red']\n",
      "['more_3_sec' 'less_3_sec' '3']\n",
      "['depressed' 'mild_pain' 'extreme_pain' 'alert' 'severe_pain' 'slight']\n",
      "['absent' 'hypomotile' 'normal' 'hypermotile' 'distend_small']\n",
      "['slight' 'moderate' 'none' 'severe']\n",
      "['slight' 'none' 'significant']\n",
      "['less_1_liter' 'more_1_liter' 'none' 'slight']\n",
      "['decreased' 'absent' 'normal' 'increased' 'serosanguious']\n",
      "['distend_small' 'distend_large' 'normal' 'firm' 'other']\n",
      "['serosanguious' 'cloudy' 'clear']\n",
      "['yes' 'no']\n",
      "['no' 'yes']\n"
     ]
    }
   ],
   "source": [
    "for i in obj:\n",
    "    print(df[i].unique())"
   ]
  },
  {
   "cell_type": "code",
   "execution_count": 20,
   "id": "c773a612",
   "metadata": {},
   "outputs": [],
   "source": [
    "obj_a = ['surgery', 'surgical_lesion', 'cp_data']\n",
    "obj_b = ['age', 'temp_of_extremities', 'peripheral_pulse', 'mucous_membrane', 'capillary_refill_time', 'pain', 'peristalsis', 'abdominal_distention', 'nasogastric_tube', 'nasogastric_reflux', 'rectal_exam_feces', 'abdomen', 'abdomo_appearance']"
   ]
  },
  {
   "cell_type": "code",
   "execution_count": 21,
   "id": "7fdbd65b",
   "metadata": {},
   "outputs": [],
   "source": [
    "for i in obj_a:\n",
    "    df[i] = df[i].map({'yes' : 1, 'no' : 0})"
   ]
  },
  {
   "cell_type": "code",
   "execution_count": 22,
   "id": "c5764eba",
   "metadata": {},
   "outputs": [
    {
     "name": "stdout",
     "output_type": "stream",
     "text": [
      "['adult' 'young']\n",
      "['cool' 'cold' 'normal' 'warm']\n",
      "['reduced' 'normal' 'absent' 'increased']\n",
      "['dark_cyanotic' 'pale_cyanotic' 'pale_pink' 'normal_pink' 'bright_pink'\n",
      " 'bright_red']\n",
      "['more_3_sec' 'less_3_sec' '3']\n",
      "['depressed' 'mild_pain' 'extreme_pain' 'alert' 'severe_pain' 'slight']\n",
      "['absent' 'hypomotile' 'normal' 'hypermotile' 'distend_small']\n",
      "['slight' 'moderate' 'none' 'severe']\n",
      "['slight' 'none' 'significant']\n",
      "['less_1_liter' 'more_1_liter' 'none' 'slight']\n",
      "['decreased' 'absent' 'normal' 'increased' 'serosanguious']\n",
      "['distend_small' 'distend_large' 'normal' 'firm' 'other']\n",
      "['serosanguious' 'cloudy' 'clear']\n"
     ]
    }
   ],
   "source": [
    "for i in obj_b:\n",
    "    print(df[i].unique())"
   ]
  },
  {
   "cell_type": "code",
   "execution_count": 23,
   "id": "0cd25526",
   "metadata": {},
   "outputs": [],
   "source": [
    "df['age'] = df['age'].map({'adult' : 1, 'young' : 0})\n",
    "df['temp_of_extremities'] = df['temp_of_extremities'].map({'cold' : 0, 'cool' : 1, 'normal' : 2, 'warm' : 3})\n",
    "df['peripheral_pulse'] = df['peripheral_pulse'].map({'absent' : 0, 'reduced' : 1, 'normal' : 2, 'increased' : 3})\n",
    "df['mucous_membrane'] = df['mucous_membrane'].map({'dark_cyanotic' : 0, 'pale_cyanotic' : 1, 'pale_pink' : 2, 'normal_pink' : 3, 'bright_pink' : 4, 'bright_red' : 5})\n",
    "df['capillary_refill_time'] = df['capillary_refill_time'].map({'less_3_sec' : 0, '3' : 1, 'more_3_sec' : 2})\n",
    "df['pain'] = df['pain'].map({'slight' : 0, 'depressed' : 1, 'mild_pain' : 2, 'severe_pain' : 3, 'extreme_pain' : 4, 'alert' : 5})\n",
    "df['peristalsis'] = df['peristalsis'].map({'absent': 0, 'normal': 1, 'hypomotile' : 2, 'distend_small' : 3, 'hypermotile' : 4})\n",
    "df['abdominal_distention'] = df['abdominal_distention'].map({'none' : 0, 'slight' : 1, 'moderate' : 2, 'severe' : 3})\n",
    "df['nasogastric_tube'] = df['nasogastric_tube'].map({'none' : 0, 'slight' : 1, 'significant' : 2})\n",
    "df['nasogastric_reflux'] = df['nasogastric_reflux'].map({'none' : 0, 'slight' : 1, 'less_1_liter' : 2, 'more_1_liter' : 3})\n",
    "df['rectal_exam_feces'] = df['rectal_exam_feces'].map({'absent': 0, 'decreased': 1, 'normal' : 2, 'increased' : 3, 'serosanguious' : 4})\n",
    "df['abdomen'] = df['abdomen'].map({'other': 0, 'normal': 1, 'distend_small' : 2, 'distend_large' : 3, 'firm' : 4})\n",
    "df['abdomo_appearance'] = df['abdomo_appearance'].map({'clear' : 0, 'cloudy' : 1, 'serosanguious' : 2})"
   ]
  },
  {
   "cell_type": "code",
   "execution_count": 24,
   "id": "23cddc49",
   "metadata": {},
   "outputs": [
    {
     "name": "stdout",
     "output_type": "stream",
     "text": [
      "<class 'pandas.core.frame.DataFrame'>\n",
      "Int64Index: 1235 entries, 0 to 1234\n",
      "Data columns (total 28 columns):\n",
      " #   Column                 Non-Null Count  Dtype  \n",
      "---  ------                 --------------  -----  \n",
      " 0   surgery                1235 non-null   int64  \n",
      " 1   age                    1235 non-null   int64  \n",
      " 2   hospital_number        1235 non-null   int64  \n",
      " 3   rectal_temp            1235 non-null   float64\n",
      " 4   pulse                  1235 non-null   float64\n",
      " 5   respiratory_rate       1235 non-null   float64\n",
      " 6   temp_of_extremities    1235 non-null   int64  \n",
      " 7   peripheral_pulse       1235 non-null   int64  \n",
      " 8   mucous_membrane        1235 non-null   int64  \n",
      " 9   capillary_refill_time  1235 non-null   int64  \n",
      " 10  pain                   1235 non-null   int64  \n",
      " 11  peristalsis            1235 non-null   int64  \n",
      " 12  abdominal_distention   1235 non-null   int64  \n",
      " 13  nasogastric_tube       1235 non-null   int64  \n",
      " 14  nasogastric_reflux     1235 non-null   int64  \n",
      " 15  nasogastric_reflux_ph  1235 non-null   float64\n",
      " 16  rectal_exam_feces      1235 non-null   int64  \n",
      " 17  abdomen                1235 non-null   int64  \n",
      " 18  packed_cell_volume     1235 non-null   float64\n",
      " 19  total_protein          1235 non-null   float64\n",
      " 20  abdomo_appearance      1235 non-null   int64  \n",
      " 21  abdomo_protein         1235 non-null   float64\n",
      " 22  surgical_lesion        1235 non-null   int64  \n",
      " 23  lesion_1               1235 non-null   int64  \n",
      " 24  lesion_2               1235 non-null   int64  \n",
      " 25  lesion_3               1235 non-null   int64  \n",
      " 26  cp_data                1235 non-null   int64  \n",
      " 27  outcome                1235 non-null   object \n",
      "dtypes: float64(7), int64(20), object(1)\n",
      "memory usage: 279.8+ KB\n"
     ]
    }
   ],
   "source": [
    "df.info()"
   ]
  },
  {
   "cell_type": "code",
   "execution_count": 25,
   "id": "7103b102",
   "metadata": {},
   "outputs": [
    {
     "data": {
      "text/plain": [
       "array(['died', 'euthanized', 'lived'], dtype=object)"
      ]
     },
     "execution_count": 25,
     "metadata": {},
     "output_type": "execute_result"
    }
   ],
   "source": [
    "df['outcome'].unique()"
   ]
  },
  {
   "cell_type": "code",
   "execution_count": 26,
   "id": "95f49449",
   "metadata": {},
   "outputs": [],
   "source": [
    "# 서열관계 체크\n",
    "\n",
    "df['outcome'] = df['outcome'].map({'lived' : 0, 'euthanized' : 1, 'died' : 2})"
   ]
  },
  {
   "cell_type": "code",
   "execution_count": 27,
   "id": "32d59363",
   "metadata": {},
   "outputs": [],
   "source": [
    "df.drop(['hospital_number'], axis = 1, inplace = True)"
   ]
  },
  {
   "cell_type": "code",
   "execution_count": 28,
   "id": "3f39e142",
   "metadata": {},
   "outputs": [
    {
     "data": {
      "text/html": [
       "<div>\n",
       "<style scoped>\n",
       "    .dataframe tbody tr th:only-of-type {\n",
       "        vertical-align: middle;\n",
       "    }\n",
       "\n",
       "    .dataframe tbody tr th {\n",
       "        vertical-align: top;\n",
       "    }\n",
       "\n",
       "    .dataframe thead th {\n",
       "        text-align: right;\n",
       "    }\n",
       "</style>\n",
       "<table border=\"1\" class=\"dataframe\">\n",
       "  <thead>\n",
       "    <tr style=\"text-align: right;\">\n",
       "      <th></th>\n",
       "      <th>surgery</th>\n",
       "      <th>age</th>\n",
       "      <th>rectal_temp</th>\n",
       "      <th>pulse</th>\n",
       "      <th>respiratory_rate</th>\n",
       "      <th>temp_of_extremities</th>\n",
       "      <th>peripheral_pulse</th>\n",
       "      <th>mucous_membrane</th>\n",
       "      <th>capillary_refill_time</th>\n",
       "      <th>pain</th>\n",
       "      <th>...</th>\n",
       "      <th>packed_cell_volume</th>\n",
       "      <th>total_protein</th>\n",
       "      <th>abdomo_appearance</th>\n",
       "      <th>abdomo_protein</th>\n",
       "      <th>surgical_lesion</th>\n",
       "      <th>lesion_1</th>\n",
       "      <th>lesion_2</th>\n",
       "      <th>lesion_3</th>\n",
       "      <th>cp_data</th>\n",
       "      <th>outcome</th>\n",
       "    </tr>\n",
       "    <tr>\n",
       "      <th>id</th>\n",
       "      <th></th>\n",
       "      <th></th>\n",
       "      <th></th>\n",
       "      <th></th>\n",
       "      <th></th>\n",
       "      <th></th>\n",
       "      <th></th>\n",
       "      <th></th>\n",
       "      <th></th>\n",
       "      <th></th>\n",
       "      <th></th>\n",
       "      <th></th>\n",
       "      <th></th>\n",
       "      <th></th>\n",
       "      <th></th>\n",
       "      <th></th>\n",
       "      <th></th>\n",
       "      <th></th>\n",
       "      <th></th>\n",
       "      <th></th>\n",
       "      <th></th>\n",
       "    </tr>\n",
       "  </thead>\n",
       "  <tbody>\n",
       "    <tr>\n",
       "      <th>0</th>\n",
       "      <td>1</td>\n",
       "      <td>1</td>\n",
       "      <td>38.1</td>\n",
       "      <td>132.0</td>\n",
       "      <td>24.0</td>\n",
       "      <td>1</td>\n",
       "      <td>1</td>\n",
       "      <td>0</td>\n",
       "      <td>2</td>\n",
       "      <td>1</td>\n",
       "      <td>...</td>\n",
       "      <td>57.0</td>\n",
       "      <td>8.5</td>\n",
       "      <td>2</td>\n",
       "      <td>3.4</td>\n",
       "      <td>1</td>\n",
       "      <td>2209</td>\n",
       "      <td>0</td>\n",
       "      <td>0</td>\n",
       "      <td>0</td>\n",
       "      <td>2</td>\n",
       "    </tr>\n",
       "    <tr>\n",
       "      <th>1</th>\n",
       "      <td>1</td>\n",
       "      <td>1</td>\n",
       "      <td>37.5</td>\n",
       "      <td>88.0</td>\n",
       "      <td>12.0</td>\n",
       "      <td>1</td>\n",
       "      <td>2</td>\n",
       "      <td>1</td>\n",
       "      <td>2</td>\n",
       "      <td>2</td>\n",
       "      <td>...</td>\n",
       "      <td>33.0</td>\n",
       "      <td>64.0</td>\n",
       "      <td>2</td>\n",
       "      <td>2.0</td>\n",
       "      <td>1</td>\n",
       "      <td>2208</td>\n",
       "      <td>0</td>\n",
       "      <td>0</td>\n",
       "      <td>0</td>\n",
       "      <td>1</td>\n",
       "    </tr>\n",
       "    <tr>\n",
       "      <th>2</th>\n",
       "      <td>1</td>\n",
       "      <td>1</td>\n",
       "      <td>38.3</td>\n",
       "      <td>120.0</td>\n",
       "      <td>28.0</td>\n",
       "      <td>1</td>\n",
       "      <td>1</td>\n",
       "      <td>2</td>\n",
       "      <td>0</td>\n",
       "      <td>4</td>\n",
       "      <td>...</td>\n",
       "      <td>37.0</td>\n",
       "      <td>6.4</td>\n",
       "      <td>2</td>\n",
       "      <td>3.4</td>\n",
       "      <td>1</td>\n",
       "      <td>5124</td>\n",
       "      <td>0</td>\n",
       "      <td>0</td>\n",
       "      <td>0</td>\n",
       "      <td>0</td>\n",
       "    </tr>\n",
       "    <tr>\n",
       "      <th>3</th>\n",
       "      <td>1</td>\n",
       "      <td>1</td>\n",
       "      <td>37.1</td>\n",
       "      <td>72.0</td>\n",
       "      <td>30.0</td>\n",
       "      <td>0</td>\n",
       "      <td>1</td>\n",
       "      <td>2</td>\n",
       "      <td>2</td>\n",
       "      <td>2</td>\n",
       "      <td>...</td>\n",
       "      <td>53.0</td>\n",
       "      <td>7.0</td>\n",
       "      <td>1</td>\n",
       "      <td>3.9</td>\n",
       "      <td>1</td>\n",
       "      <td>2208</td>\n",
       "      <td>0</td>\n",
       "      <td>0</td>\n",
       "      <td>1</td>\n",
       "      <td>0</td>\n",
       "    </tr>\n",
       "    <tr>\n",
       "      <th>4</th>\n",
       "      <td>0</td>\n",
       "      <td>1</td>\n",
       "      <td>38.0</td>\n",
       "      <td>52.0</td>\n",
       "      <td>48.0</td>\n",
       "      <td>2</td>\n",
       "      <td>2</td>\n",
       "      <td>3</td>\n",
       "      <td>0</td>\n",
       "      <td>5</td>\n",
       "      <td>...</td>\n",
       "      <td>47.0</td>\n",
       "      <td>7.3</td>\n",
       "      <td>1</td>\n",
       "      <td>2.6</td>\n",
       "      <td>0</td>\n",
       "      <td>0</td>\n",
       "      <td>0</td>\n",
       "      <td>0</td>\n",
       "      <td>1</td>\n",
       "      <td>0</td>\n",
       "    </tr>\n",
       "  </tbody>\n",
       "</table>\n",
       "<p>5 rows × 27 columns</p>\n",
       "</div>"
      ],
      "text/plain": [
       "    surgery  age  rectal_temp  pulse  respiratory_rate  temp_of_extremities  \\\n",
       "id                                                                            \n",
       "0         1    1         38.1  132.0              24.0                    1   \n",
       "1         1    1         37.5   88.0              12.0                    1   \n",
       "2         1    1         38.3  120.0              28.0                    1   \n",
       "3         1    1         37.1   72.0              30.0                    0   \n",
       "4         0    1         38.0   52.0              48.0                    2   \n",
       "\n",
       "    peripheral_pulse  mucous_membrane  capillary_refill_time  pain  ...  \\\n",
       "id                                                                  ...   \n",
       "0                  1                0                      2     1  ...   \n",
       "1                  2                1                      2     2  ...   \n",
       "2                  1                2                      0     4  ...   \n",
       "3                  1                2                      2     2  ...   \n",
       "4                  2                3                      0     5  ...   \n",
       "\n",
       "    packed_cell_volume  total_protein  abdomo_appearance  abdomo_protein  \\\n",
       "id                                                                         \n",
       "0                 57.0            8.5                  2             3.4   \n",
       "1                 33.0           64.0                  2             2.0   \n",
       "2                 37.0            6.4                  2             3.4   \n",
       "3                 53.0            7.0                  1             3.9   \n",
       "4                 47.0            7.3                  1             2.6   \n",
       "\n",
       "    surgical_lesion  lesion_1  lesion_2  lesion_3  cp_data  outcome  \n",
       "id                                                                   \n",
       "0                 1      2209         0         0        0        2  \n",
       "1                 1      2208         0         0        0        1  \n",
       "2                 1      5124         0         0        0        0  \n",
       "3                 1      2208         0         0        1        0  \n",
       "4                 0         0         0         0        1        0  \n",
       "\n",
       "[5 rows x 27 columns]"
      ]
     },
     "execution_count": 28,
     "metadata": {},
     "output_type": "execute_result"
    }
   ],
   "source": [
    "df.head()"
   ]
  },
  {
   "cell_type": "code",
   "execution_count": 98,
   "id": "38ba8504",
   "metadata": {},
   "outputs": [],
   "source": [
    "def transform(df1):\n",
    "    obj = ['surgery', 'age', 'temp_of_extremities', 'peripheral_pulse', 'mucous_membrane', 'capillary_refill_time', 'pain', 'peristalsis', 'abdominal_distention', 'nasogastric_tube', 'nasogastric_reflux', 'rectal_exam_feces', 'abdomen', 'abdomo_appearance', 'surgical_lesion', 'cp_data']\n",
    "    df1['capillary_refill_time'].replace(3, '3', inplace = True)\n",
    "    df1.replace('None', np.nan, inplace = True)\n",
    "    none_obj = ['temp_of_extremities', 'peripheral_pulse', 'mucous_membrane', 'capillary_refill_time', 'pain', 'peristalsis', 'abdominal_distention', 'nasogastric_tube', 'nasogastric_reflux', 'rectal_exam_feces', 'abdomen', 'abdomo_appearance']\n",
    "    for i in none_obj:\n",
    "        df1[i].fillna(df1[i].mode()[0], inplace = True)\n",
    "    obj_a = ['surgery', 'surgical_lesion', 'cp_data']\n",
    "    obj_b = ['age', 'temp_of_extremities', 'peripheral_pulse', 'mucous_membrane', 'capillary_refill_time', 'pain', 'peristalsis', 'abdominal_distention', 'nasogastric_tube', 'nasogastric_reflux', 'rectal_exam_feces', 'abdomen', 'abdomo_appearance']\n",
    "    for i in obj_a:\n",
    "        df1[i] = df1[i].map({'yes' : 1, 'no' : 0})\n",
    "    df1['age'] = df1['age'].map({'adult' : 1, 'young' : 0})\n",
    "    df1['temp_of_extremities'] = df1['temp_of_extremities'].map({'cold' : 0, 'cool' : 1, 'normal' : 2, 'warm' : 3})\n",
    "    df1['peripheral_pulse'] = df1['peripheral_pulse'].map({'absent' : 0, 'reduced' : 1, 'normal' : 2, 'increased' : 3})\n",
    "    df1['mucous_membrane'] = df1['mucous_membrane'].map({'dark_cyanotic' : 0, 'pale_cyanotic' : 1, 'pale_pink' : 2, 'normal_pink' : 3, 'bright_pink' : 4, 'bright_red' : 5})\n",
    "    df1['capillary_refill_time'] = df1['capillary_refill_time'].map({'less_3_sec' : 0, '3' : 1, 'more_3_sec' : 2})\n",
    "    df1['pain'] = df1['pain'].map({'slight' : 0, 'depressed' : 1, 'mild_pain' : 2, 'severe_pain' : 3, 'extreme_pain' : 4, 'alert' : 5})\n",
    "    df1['peristalsis'] = df1['peristalsis'].map({'absent': 0, 'normal': 1, 'hypomotile' : 2, 'distend_small' : 3, 'hypermotile' : 4})\n",
    "    df1['abdominal_distention'] = df1['abdominal_distention'].map({'none' : 0, 'slight' : 1, 'moderate' : 2, 'severe' : 3})\n",
    "    df1['nasogastric_tube'] = df1['nasogastric_tube'].map({'none' : 0, 'slight' : 1, 'significant' : 2})\n",
    "    df1['nasogastric_reflux'] = df1['nasogastric_reflux'].map({'none' : 0, 'slight' : 1, 'less_1_liter' : 2, 'more_1_liter' : 3})\n",
    "    df1['rectal_exam_feces'] = df1['rectal_exam_feces'].map({'absent': 0, 'decreased': 1, 'normal' : 2, 'increased' : 3, 'serosanguious' : 4})\n",
    "    df1['abdomen'] = df1['abdomen'].map({'other': 0, 'normal': 1, 'distend_small' : 2, 'distend_large' : 3, 'firm' : 4})\n",
    "    df1['abdomo_appearance'] = df1['abdomo_appearance'].map({'clear' : 0, 'cloudy' : 1, 'serosanguious' : 2})\n",
    "    df1.drop(['hospital_number'], axis = 1, inplace = True)\n",
    "    \n",
    "    return df1"
   ]
  },
  {
   "cell_type": "code",
   "execution_count": 101,
   "id": "10346cc5",
   "metadata": {},
   "outputs": [],
   "source": [
    "test1 = transform(test)"
   ]
  },
  {
   "cell_type": "code",
   "execution_count": 103,
   "id": "6c146569",
   "metadata": {},
   "outputs": [
    {
     "data": {
      "text/html": [
       "<div>\n",
       "<style scoped>\n",
       "    .dataframe tbody tr th:only-of-type {\n",
       "        vertical-align: middle;\n",
       "    }\n",
       "\n",
       "    .dataframe tbody tr th {\n",
       "        vertical-align: top;\n",
       "    }\n",
       "\n",
       "    .dataframe thead th {\n",
       "        text-align: right;\n",
       "    }\n",
       "</style>\n",
       "<table border=\"1\" class=\"dataframe\">\n",
       "  <thead>\n",
       "    <tr style=\"text-align: right;\">\n",
       "      <th></th>\n",
       "      <th>surgery</th>\n",
       "      <th>age</th>\n",
       "      <th>rectal_temp</th>\n",
       "      <th>pulse</th>\n",
       "      <th>respiratory_rate</th>\n",
       "      <th>temp_of_extremities</th>\n",
       "      <th>peripheral_pulse</th>\n",
       "      <th>mucous_membrane</th>\n",
       "      <th>capillary_refill_time</th>\n",
       "      <th>pain</th>\n",
       "      <th>...</th>\n",
       "      <th>abdomen</th>\n",
       "      <th>packed_cell_volume</th>\n",
       "      <th>total_protein</th>\n",
       "      <th>abdomo_appearance</th>\n",
       "      <th>abdomo_protein</th>\n",
       "      <th>surgical_lesion</th>\n",
       "      <th>lesion_1</th>\n",
       "      <th>lesion_2</th>\n",
       "      <th>lesion_3</th>\n",
       "      <th>cp_data</th>\n",
       "    </tr>\n",
       "    <tr>\n",
       "      <th>id</th>\n",
       "      <th></th>\n",
       "      <th></th>\n",
       "      <th></th>\n",
       "      <th></th>\n",
       "      <th></th>\n",
       "      <th></th>\n",
       "      <th></th>\n",
       "      <th></th>\n",
       "      <th></th>\n",
       "      <th></th>\n",
       "      <th></th>\n",
       "      <th></th>\n",
       "      <th></th>\n",
       "      <th></th>\n",
       "      <th></th>\n",
       "      <th></th>\n",
       "      <th></th>\n",
       "      <th></th>\n",
       "      <th></th>\n",
       "      <th></th>\n",
       "      <th></th>\n",
       "    </tr>\n",
       "  </thead>\n",
       "  <tbody>\n",
       "    <tr>\n",
       "      <th>1235</th>\n",
       "      <td>0</td>\n",
       "      <td>1</td>\n",
       "      <td>38.6</td>\n",
       "      <td>40.0</td>\n",
       "      <td>20.0</td>\n",
       "      <td>2</td>\n",
       "      <td>2</td>\n",
       "      <td>3</td>\n",
       "      <td>0</td>\n",
       "      <td>2.0</td>\n",
       "      <td>...</td>\n",
       "      <td>2</td>\n",
       "      <td>42.0</td>\n",
       "      <td>7.5</td>\n",
       "      <td>0</td>\n",
       "      <td>2.3</td>\n",
       "      <td>0</td>\n",
       "      <td>0</td>\n",
       "      <td>0</td>\n",
       "      <td>0</td>\n",
       "      <td>0</td>\n",
       "    </tr>\n",
       "    <tr>\n",
       "      <th>1236</th>\n",
       "      <td>1</td>\n",
       "      <td>1</td>\n",
       "      <td>38.2</td>\n",
       "      <td>112.0</td>\n",
       "      <td>48.0</td>\n",
       "      <td>1</td>\n",
       "      <td>1</td>\n",
       "      <td>4</td>\n",
       "      <td>2</td>\n",
       "      <td>1.0</td>\n",
       "      <td>...</td>\n",
       "      <td>2</td>\n",
       "      <td>44.0</td>\n",
       "      <td>6.0</td>\n",
       "      <td>2</td>\n",
       "      <td>2.6</td>\n",
       "      <td>0</td>\n",
       "      <td>2208</td>\n",
       "      <td>0</td>\n",
       "      <td>0</td>\n",
       "      <td>1</td>\n",
       "    </tr>\n",
       "    <tr>\n",
       "      <th>1237</th>\n",
       "      <td>1</td>\n",
       "      <td>1</td>\n",
       "      <td>37.7</td>\n",
       "      <td>66.0</td>\n",
       "      <td>12.0</td>\n",
       "      <td>1</td>\n",
       "      <td>2</td>\n",
       "      <td>5</td>\n",
       "      <td>0</td>\n",
       "      <td>2.0</td>\n",
       "      <td>...</td>\n",
       "      <td>2</td>\n",
       "      <td>31.5</td>\n",
       "      <td>6.0</td>\n",
       "      <td>1</td>\n",
       "      <td>1.6</td>\n",
       "      <td>1</td>\n",
       "      <td>2205</td>\n",
       "      <td>0</td>\n",
       "      <td>0</td>\n",
       "      <td>1</td>\n",
       "    </tr>\n",
       "    <tr>\n",
       "      <th>1238</th>\n",
       "      <td>0</td>\n",
       "      <td>1</td>\n",
       "      <td>37.1</td>\n",
       "      <td>88.0</td>\n",
       "      <td>20.0</td>\n",
       "      <td>1</td>\n",
       "      <td>1</td>\n",
       "      <td>1</td>\n",
       "      <td>0</td>\n",
       "      <td>1.0</td>\n",
       "      <td>...</td>\n",
       "      <td>3</td>\n",
       "      <td>75.0</td>\n",
       "      <td>81.0</td>\n",
       "      <td>2</td>\n",
       "      <td>1.0</td>\n",
       "      <td>1</td>\n",
       "      <td>1400</td>\n",
       "      <td>0</td>\n",
       "      <td>0</td>\n",
       "      <td>0</td>\n",
       "    </tr>\n",
       "    <tr>\n",
       "      <th>1239</th>\n",
       "      <td>1</td>\n",
       "      <td>1</td>\n",
       "      <td>38.3</td>\n",
       "      <td>50.0</td>\n",
       "      <td>12.0</td>\n",
       "      <td>1</td>\n",
       "      <td>2</td>\n",
       "      <td>4</td>\n",
       "      <td>0</td>\n",
       "      <td>2.0</td>\n",
       "      <td>...</td>\n",
       "      <td>2</td>\n",
       "      <td>37.0</td>\n",
       "      <td>6.8</td>\n",
       "      <td>1</td>\n",
       "      <td>2.6</td>\n",
       "      <td>1</td>\n",
       "      <td>2208</td>\n",
       "      <td>0</td>\n",
       "      <td>0</td>\n",
       "      <td>1</td>\n",
       "    </tr>\n",
       "  </tbody>\n",
       "</table>\n",
       "<p>5 rows × 26 columns</p>\n",
       "</div>"
      ],
      "text/plain": [
       "      surgery  age  rectal_temp  pulse  respiratory_rate  temp_of_extremities  \\\n",
       "id                                                                              \n",
       "1235        0    1         38.6   40.0              20.0                    2   \n",
       "1236        1    1         38.2  112.0              48.0                    1   \n",
       "1237        1    1         37.7   66.0              12.0                    1   \n",
       "1238        0    1         37.1   88.0              20.0                    1   \n",
       "1239        1    1         38.3   50.0              12.0                    1   \n",
       "\n",
       "      peripheral_pulse  mucous_membrane  capillary_refill_time  pain  ...  \\\n",
       "id                                                                    ...   \n",
       "1235                 2                3                      0   2.0  ...   \n",
       "1236                 1                4                      2   1.0  ...   \n",
       "1237                 2                5                      0   2.0  ...   \n",
       "1238                 1                1                      0   1.0  ...   \n",
       "1239                 2                4                      0   2.0  ...   \n",
       "\n",
       "      abdomen  packed_cell_volume  total_protein  abdomo_appearance  \\\n",
       "id                                                                    \n",
       "1235        2                42.0            7.5                  0   \n",
       "1236        2                44.0            6.0                  2   \n",
       "1237        2                31.5            6.0                  1   \n",
       "1238        3                75.0           81.0                  2   \n",
       "1239        2                37.0            6.8                  1   \n",
       "\n",
       "      abdomo_protein  surgical_lesion  lesion_1  lesion_2  lesion_3  cp_data  \n",
       "id                                                                            \n",
       "1235             2.3                0         0         0         0        0  \n",
       "1236             2.6                0      2208         0         0        1  \n",
       "1237             1.6                1      2205         0         0        1  \n",
       "1238             1.0                1      1400         0         0        0  \n",
       "1239             2.6                1      2208         0         0        1  \n",
       "\n",
       "[5 rows x 26 columns]"
      ]
     },
     "execution_count": 103,
     "metadata": {},
     "output_type": "execute_result"
    }
   ],
   "source": [
    "test1.head()"
   ]
  },
  {
   "cell_type": "code",
   "execution_count": 49,
   "id": "d1f333ef",
   "metadata": {},
   "outputs": [],
   "source": [
    "col = df.columns"
   ]
  },
  {
   "cell_type": "code",
   "execution_count": 56,
   "id": "a9b485ed",
   "metadata": {},
   "outputs": [],
   "source": [
    "col0 = df[df['outcome'] == 0]\n",
    "col1 = df[df['outcome'] == 1]\n",
    "col2 = df[df['outcome'] == 2]"
   ]
  },
  {
   "cell_type": "code",
   "execution_count": 126,
   "id": "0bd5538a",
   "metadata": {
    "scrolled": true
   },
   "outputs": [
    {
     "data": {
      "image/png": "[encoded data removed]",
      "text/plain": [
       "<Figure size 640x480 with 3 Axes>"
      ]
     },
     "metadata": {},
     "output_type": "display_data"
    },
    {
     "data": {
      "image/png": "[encoded data removed]",
      "text/plain": [
       "<Figure size 640x480 with 3 Axes>"
      ]
     },
     "metadata": {},
     "output_type": "display_data"
    },
    {
     "data": {
      "image/png": "[encoded data removed]",
      "text/plain": [
       "<Figure size 640x480 with 3 Axes>"
      ]
     },
     "metadata": {},
     "output_type": "display_data"
    },
    {
     "data": {
      "image/png": "[encoded data removed]",
      "text/plain": [
       "<Figure size 640x480 with 3 Axes>"
      ]
     },
     "metadata": {},
     "output_type": "display_data"
    },
    {
     "data": {
      "image/png": "[encoded data removed]",
      "text/plain": [
       "<Figure size 640x480 with 3 Axes>"
      ]
     },
     "metadata": {},
     "output_type": "display_data"
    },
    {
     "data": {
      "image/png": "[encoded data removed]",
      "text/plain": [
       "<Figure size 640x480 with 3 Axes>"
      ]
     },
     "metadata": {},
     "output_type": "display_data"
    },
    {
     "data": {
      "image/png": "[encoded data removed]",
      "text/plain": [
       "<Figure size 640x480 with 3 Axes>"
      ]
     },
     "metadata": {},
     "output_type": "display_data"
    },
    {
     "data": {
      "image/png": "[encoded data removed]",
      "text/plain": [
       "<Figure size 640x480 with 3 Axes>"
      ]
     },
     "metadata": {},
     "output_type": "display_data"
    },
    {
     "data": {
      "image/png": "[encoded data removed]",
      "text/plain": [
       "<Figure size 640x480 with 3 Axes>"
      ]
     },
     "metadata": {},
     "output_type": "display_data"
    },
    {
     "data": {
      "image/png": "[encoded data removed]",
      "text/plain": [
       "<Figure size 640x480 with 3 Axes>"
      ]
     },
     "metadata": {},
     "output_type": "display_data"
    },
    {
     "data": {
      "image/png": "[encoded data removed]",
      "text/plain": [
       "<Figure size 640x480 with 3 Axes>"
      ]
     },
     "metadata": {},
     "output_type": "display_data"
    },
    {
     "data": {
      "image/png": "[encoded data removed]",
      "text/plain": [
       "<Figure size 640x480 with 3 Axes>"
      ]
     },
     "metadata": {},
     "output_type": "display_data"
    },
    {
     "data": {
      "image/png": "[encoded data removed]",
      "text/plain": [
       "<Figure size 640x480 with 3 Axes>"
      ]
     },
     "metadata": {},
     "output_type": "display_data"
    },
    {
     "data": {
      "image/png": "[encoded data removed]",
      "text/plain": [
       "<Figure size 640x480 with 3 Axes>"
      ]
     },
     "metadata": {},
     "output_type": "display_data"
    },
    {
     "data": {
      "image/png": "[encoded data removed]",
      "text/plain": [
       "<Figure size 640x480 with 3 Axes>"
      ]
     },
     "metadata": {},
     "output_type": "display_data"
    },
    {
     "data": {
      "image/png": "[encoded data removed]",
      "text/plain": [
       "<Figure size 640x480 with 3 Axes>"
      ]
     },
     "metadata": {},
     "output_type": "display_data"
    },
    {
     "data": {
      "image/png": "[encoded data removed]",
      "text/plain": [
       "<Figure size 640x480 with 3 Axes>"
      ]
     },
     "metadata": {},
     "output_type": "display_data"
    },
    {
     "data": {
      "image/png": "[encoded data removed]",
      "text/plain": [
       "<Figure size 640x480 with 3 Axes>"
      ]
     },
     "metadata": {},
     "output_type": "display_data"
    },
    {
     "data": {
      "image/png": "[encoded data removed]",
      "text/plain": [
       "<Figure size 640x480 with 3 Axes>"
      ]
     },
     "metadata": {},
     "output_type": "display_data"
    },
    {
     "data": {
      "image/png": "[encoded data removed]",
      "text/plain": [
       "<Figure size 640x480 with 3 Axes>"
      ]
     },
     "metadata": {},
     "output_type": "display_data"
    },
    {
     "data": {
      "image/png": "[encoded data removed]",
      "text/plain": [
       "<Figure size 640x480 with 3 Axes>"
      ]
     },
     "metadata": {},
     "output_type": "display_data"
    },
    {
     "data": {
      "image/png": "[encoded data removed]",
      "text/plain": [
       "<Figure size 640x480 with 3 Axes>"
      ]
     },
     "metadata": {},
     "output_type": "display_data"
    },
    {
     "data": {
      "image/png": "[encoded data removed]",
      "text/plain": [
       "<Figure size 640x480 with 3 Axes>"
      ]
     },
     "metadata": {},
     "output_type": "display_data"
    },
    {
     "data": {
      "image/png": "[encoded data removed]",
      "text/plain": [
       "<Figure size 640x480 with 3 Axes>"
      ]
     },
     "metadata": {},
     "output_type": "display_data"
    },
    {
     "data": {
      "image/png": "[encoded data removed]",
      "text/plain": [
       "<Figure size 640x480 with 3 Axes>"
      ]
     },
     "metadata": {},
     "output_type": "display_data"
    },
    {
     "data": {
      "image/png": "[encoded data removed]",
      "text/plain": [
       "<Figure size 640x480 with 3 Axes>"
      ]
     },
     "metadata": {},
     "output_type": "display_data"
    },
    {
     "data": {
      "image/png": "[encoded data removed]",
      "text/plain": [
       "<Figure size 640x480 with 3 Axes>"
      ]
     },
     "metadata": {},
     "output_type": "display_data"
    }
   ],
   "source": [
    "for i in col:\n",
    "    plt.subplot(1, 3, 1)\n",
    "    plt.hist(col0[i])\n",
    "    plt.ylim(0, 600)\n",
    "    plt.title(i)\n",
    "    plt.subplot(1, 3, 2)\n",
    "    plt.hist(col1[i])\n",
    "    plt.ylim(0, 600)\n",
    "    plt.subplot(1, 3, 3)\n",
    "    plt.hist(col2[i])\n",
    "    plt.ylim(0, 600)\n",
    "    plt.show()"
   ]
  },
  {
   "cell_type": "code",
   "execution_count": 50,
   "id": "e80d1c52",
   "metadata": {
    "scrolled": true
   },
   "outputs": [
    {
     "data": {
      "text/plain": [
       "Index(['surgery', 'age', 'rectal_temp', 'pulse', 'respiratory_rate',\n",
       "       'temp_of_extremities', 'peripheral_pulse', 'mucous_membrane',\n",
       "       'capillary_refill_time', 'pain', 'peristalsis', 'abdominal_distention',\n",
       "       'nasogastric_tube', 'nasogastric_reflux', 'nasogastric_reflux_ph',\n",
       "       'rectal_exam_feces', 'abdomen', 'packed_cell_volume', 'total_protein',\n",
       "       'abdomo_appearance', 'abdomo_protein', 'surgical_lesion', 'lesion_1',\n",
       "       'lesion_2', 'lesion_3', 'cp_data', 'outcome'],\n",
       "      dtype='object')"
      ]
     },
     "execution_count": 50,
     "metadata": {},
     "output_type": "execute_result"
    }
   ],
   "source": [
    "col"
   ]
  },
  {
   "cell_type": "code",
   "execution_count": 29,
   "id": "e1ee0c1d",
   "metadata": {},
   "outputs": [],
   "source": [
    "from sklearn.model_selection import train_test_split\n",
    "from sklearn.preprocessing import StandardScaler"
   ]
  },
  {
   "cell_type": "code",
   "execution_count": 30,
   "id": "1398f793",
   "metadata": {},
   "outputs": [],
   "source": [
    "X = df.drop(['outcome'], axis = 1)\n",
    "Y = df['outcome']"
   ]
  },
  {
   "cell_type": "code",
   "execution_count": 31,
   "id": "0397ebb1",
   "metadata": {},
   "outputs": [],
   "source": [
    "ss = StandardScaler()"
   ]
  },
  {
   "cell_type": "code",
   "execution_count": 32,
   "id": "57f30c8c",
   "metadata": {},
   "outputs": [],
   "source": [
    "x_train, x_test, y_train, y_test = train_test_split(X, Y, test_size = 0.25, random_state = 1)"
   ]
  },
  {
   "cell_type": "code",
   "execution_count": 33,
   "id": "e841b7da",
   "metadata": {},
   "outputs": [],
   "source": [
    "scaled_train = ss.fit_transform(x_train)\n",
    "scaled_test = ss.transform(x_test)"
   ]
  },
  {
   "cell_type": "code",
   "execution_count": 79,
   "id": "b70fdde1",
   "metadata": {},
   "outputs": [],
   "source": [
    "from tensorflow import keras\n",
    "from tensorflow import test"
   ]
  },
  {
   "cell_type": "code",
   "execution_count": 80,
   "id": "8cbf2e0b",
   "metadata": {
    "scrolled": true
   },
   "outputs": [
    {
     "data": {
      "text/plain": [
       "True"
      ]
     },
     "execution_count": 80,
     "metadata": {},
     "output_type": "execute_result"
    }
   ],
   "source": [
    "test.is_built_with_cuda()"
   ]
  },
  {
   "cell_type": "code",
   "execution_count": 38,
   "id": "3d32341a",
   "metadata": {},
   "outputs": [],
   "source": [
    "model = keras.Sequential()"
   ]
  },
  {
   "cell_type": "code",
   "execution_count": 39,
   "id": "f6fe56dc",
   "metadata": {},
   "outputs": [],
   "source": [
    "model.add(keras.layers.Dense(50, activation = \"relu\", input_shape = (x_train.shape[1], )))"
   ]
  },
  {
   "cell_type": "code",
   "execution_count": 40,
   "id": "e003b909",
   "metadata": {},
   "outputs": [],
   "source": [
    "# 최상단에 CNN. 사이에 배치 노멀\n",
    "\n",
    "model.add(keras.layers.Dropout(0.2))\n",
    "model.add(keras.layers.Dense(10, activation = \"relu\"))"
   ]
  },
  {
   "cell_type": "code",
   "execution_count": 41,
   "id": "0256f4b4",
   "metadata": {},
   "outputs": [],
   "source": [
    "model.add(keras.layers.Dense(3, activation = 'softmax'))"
   ]
  },
  {
   "cell_type": "code",
   "execution_count": 42,
   "id": "3b14d93b",
   "metadata": {
    "scrolled": true
   },
   "outputs": [
    {
     "name": "stdout",
     "output_type": "stream",
     "text": [
      "Model: \"sequential\"\n",
      "_________________________________________________________________\n",
      " Layer (type)                Output Shape              Param #   \n",
      "=================================================================\n",
      " dense (Dense)               (None, 50)                1350      \n",
      "                                                                 \n",
      " dropout (Dropout)           (None, 50)                0         \n",
      "                                                                 \n",
      " dense_1 (Dense)             (None, 10)                510       \n",
      "                                                                 \n",
      " dense_2 (Dense)             (None, 3)                 33        \n",
      "                                                                 \n",
      "=================================================================\n",
      "Total params: 1,893\n",
      "Trainable params: 1,893\n",
      "Non-trainable params: 0\n",
      "_________________________________________________________________\n"
     ]
    }
   ],
   "source": [
    "model.summary()"
   ]
  },
  {
   "cell_type": "code",
   "execution_count": 43,
   "id": "c09e7b17",
   "metadata": {},
   "outputs": [],
   "source": [
    "checkpoint_cb = keras.callbacks.ModelCheckpoint(\"./model/best-model.h5\", save_best_only = True)\n",
    "early_stopping_cb = keras.callbacks.EarlyStopping(patience = 7, restore_best_weights = True)"
   ]
  },
  {
   "cell_type": "code",
   "execution_count": 44,
   "id": "7c77ed69",
   "metadata": {},
   "outputs": [],
   "source": [
    "model.compile(optimizer='adam', loss='sparse_categorical_crossentropy', metrics='accuracy')"
   ]
  },
  {
   "cell_type": "code",
   "execution_count": 45,
   "id": "39af2c16",
   "metadata": {},
   "outputs": [
    {
     "name": "stdout",
     "output_type": "stream",
     "text": [
      "Epoch 1/1000\n",
      "24/24 [==============================] - 1s 8ms/step - loss: 1.1647 - accuracy: 0.3662 - val_loss: 1.0151 - val_accuracy: 0.5269\n",
      "Epoch 2/1000\n",
      "24/24 [==============================] - 0s 3ms/step - loss: 1.0212 - accuracy: 0.4919 - val_loss: 0.9093 - val_accuracy: 0.5914\n",
      "Epoch 3/1000\n",
      "24/24 [==============================] - 0s 2ms/step - loss: 0.9277 - accuracy: 0.5703 - val_loss: 0.8579 - val_accuracy: 0.6022\n",
      "Epoch 4/1000\n",
      "24/24 [==============================] - 0s 5ms/step - loss: 0.9100 - accuracy: 0.5959 - val_loss: 0.8183 - val_accuracy: 0.6237\n",
      "Epoch 5/1000\n",
      "24/24 [==============================] - 0s 3ms/step - loss: 0.8747 - accuracy: 0.6230 - val_loss: 0.7904 - val_accuracy: 0.6505\n",
      "Epoch 6/1000\n",
      "24/24 [==============================] - 0s 2ms/step - loss: 0.8465 - accuracy: 0.6189 - val_loss: 0.7654 - val_accuracy: 0.6613\n",
      "Epoch 7/1000\n",
      "24/24 [==============================] - 0s 2ms/step - loss: 0.8306 - accuracy: 0.6473 - val_loss: 0.7509 - val_accuracy: 0.6559\n",
      "Epoch 8/1000\n",
      "24/24 [==============================] - 0s 3ms/step - loss: 0.8251 - accuracy: 0.6270 - val_loss: 0.7391 - val_accuracy: 0.6452\n",
      "Epoch 9/1000\n",
      "24/24 [==============================] - 0s 3ms/step - loss: 0.7875 - accuracy: 0.6514 - val_loss: 0.7312 - val_accuracy: 0.6559\n",
      "Epoch 10/1000\n",
      "24/24 [==============================] - 0s 3ms/step - loss: 0.7717 - accuracy: 0.6824 - val_loss: 0.7279 - val_accuracy: 0.6774\n",
      "Epoch 11/1000\n",
      "24/24 [==============================] - 0s 3ms/step - loss: 0.7771 - accuracy: 0.6527 - val_loss: 0.7235 - val_accuracy: 0.6935\n",
      "Epoch 12/1000\n",
      "24/24 [==============================] - 0s 3ms/step - loss: 0.7681 - accuracy: 0.6500 - val_loss: 0.7202 - val_accuracy: 0.6828\n",
      "Epoch 13/1000\n",
      "24/24 [==============================] - 0s 3ms/step - loss: 0.7474 - accuracy: 0.6716 - val_loss: 0.7157 - val_accuracy: 0.6882\n",
      "Epoch 14/1000\n",
      "24/24 [==============================] - 0s 2ms/step - loss: 0.7513 - accuracy: 0.6676 - val_loss: 0.7161 - val_accuracy: 0.6828\n",
      "Epoch 15/1000\n",
      "24/24 [==============================] - 0s 2ms/step - loss: 0.7563 - accuracy: 0.6608 - val_loss: 0.7149 - val_accuracy: 0.6828\n",
      "Epoch 16/1000\n",
      "24/24 [==============================] - 0s 2ms/step - loss: 0.7242 - accuracy: 0.6730 - val_loss: 0.7165 - val_accuracy: 0.6774\n",
      "Epoch 17/1000\n",
      "24/24 [==============================] - 0s 2ms/step - loss: 0.7241 - accuracy: 0.6865 - val_loss: 0.7169 - val_accuracy: 0.6774\n",
      "Epoch 18/1000\n",
      "24/24 [==============================] - 0s 2ms/step - loss: 0.7215 - accuracy: 0.6703 - val_loss: 0.7154 - val_accuracy: 0.6774\n",
      "Epoch 19/1000\n",
      "24/24 [==============================] - 0s 2ms/step - loss: 0.7267 - accuracy: 0.6784 - val_loss: 0.7144 - val_accuracy: 0.6882\n",
      "Epoch 20/1000\n",
      "24/24 [==============================] - 0s 2ms/step - loss: 0.7102 - accuracy: 0.6797 - val_loss: 0.7112 - val_accuracy: 0.6828\n",
      "Epoch 21/1000\n",
      "24/24 [==============================] - 0s 2ms/step - loss: 0.7058 - accuracy: 0.6757 - val_loss: 0.7105 - val_accuracy: 0.6774\n",
      "Epoch 22/1000\n",
      "24/24 [==============================] - 0s 3ms/step - loss: 0.7103 - accuracy: 0.6784 - val_loss: 0.7097 - val_accuracy: 0.6828\n",
      "Epoch 23/1000\n",
      "24/24 [==============================] - 0s 3ms/step - loss: 0.7040 - accuracy: 0.6838 - val_loss: 0.7075 - val_accuracy: 0.6882\n",
      "Epoch 24/1000\n",
      "24/24 [==============================] - 0s 2ms/step - loss: 0.6961 - accuracy: 0.6878 - val_loss: 0.7095 - val_accuracy: 0.6774\n",
      "Epoch 25/1000\n",
      "24/24 [==============================] - 0s 2ms/step - loss: 0.6853 - accuracy: 0.7108 - val_loss: 0.7116 - val_accuracy: 0.6828\n",
      "Epoch 26/1000\n",
      "24/24 [==============================] - 0s 2ms/step - loss: 0.6725 - accuracy: 0.7108 - val_loss: 0.7165 - val_accuracy: 0.6774\n",
      "Epoch 27/1000\n",
      "24/24 [==============================] - 0s 2ms/step - loss: 0.6945 - accuracy: 0.6811 - val_loss: 0.7195 - val_accuracy: 0.6882\n",
      "Epoch 28/1000\n",
      "24/24 [==============================] - 0s 2ms/step - loss: 0.6819 - accuracy: 0.6932 - val_loss: 0.7176 - val_accuracy: 0.6882\n",
      "Epoch 29/1000\n",
      "24/24 [==============================] - 0s 2ms/step - loss: 0.6687 - accuracy: 0.7027 - val_loss: 0.7169 - val_accuracy: 0.6882\n",
      "Epoch 30/1000\n",
      "24/24 [==============================] - 0s 2ms/step - loss: 0.6667 - accuracy: 0.6986 - val_loss: 0.7182 - val_accuracy: 0.6935\n"
     ]
    }
   ],
   "source": [
    "history = model.fit(scaled_train, y_train, epochs = 1000, validation_split = 0.2, callbacks = [checkpoint_cb, early_stopping_cb])"
   ]
  },
  {
   "cell_type": "code",
   "execution_count": 105,
   "id": "b7181b7e",
   "metadata": {},
   "outputs": [],
   "source": [
    "scaled_pre = ss.transform(test1)"
   ]
  },
  {
   "cell_type": "code",
   "execution_count": 107,
   "id": "60a66222",
   "metadata": {},
   "outputs": [
    {
     "name": "stdout",
     "output_type": "stream",
     "text": [
      "26/26 [==============================] - 0s 997us/step\n"
     ]
    }
   ],
   "source": [
    "pred = model.predict(scaled_pre)"
   ]
  },
  {
   "cell_type": "code",
   "execution_count": 108,
   "id": "c0694ffd",
   "metadata": {},
   "outputs": [
    {
     "data": {
      "text/plain": [
       "array([[0.9596704 , 0.0175011 , 0.02282834],\n",
       "       [0.35728645, 0.10202073, 0.5406928 ],\n",
       "       [0.83033437, 0.01327888, 0.15638678],\n",
       "       ...,\n",
       "       [0.16181485, 0.11184926, 0.7263358 ],\n",
       "       [0.8500514 , 0.04388576, 0.1060629 ],\n",
       "       [0.6653946 , 0.11369692, 0.22090851]], dtype=float32)"
      ]
     },
     "execution_count": 108,
     "metadata": {},
     "output_type": "execute_result"
    }
   ],
   "source": [
    "pred"
   ]
  },
  {
   "cell_type": "code",
   "execution_count": 112,
   "id": "d66d1542",
   "metadata": {},
   "outputs": [],
   "source": [
    "fin = []\n",
    "\n",
    "for i in pred:\n",
    "    fin.append(np.argmax(i))"
   ]
  },
  {
   "cell_type": "code",
   "execution_count": 121,
   "id": "df9a65cd",
   "metadata": {},
   "outputs": [],
   "source": [
    "final = pd.DataFrame(fin, index = test1.index, columns = ['outcome'])"
   ]
  },
  {
   "cell_type": "code",
   "execution_count": 123,
   "id": "9bd1b40d",
   "metadata": {},
   "outputs": [],
   "source": [
    "final['outcome'].replace(0, 'lived', inplace = True)\n",
    "final['outcome'].replace(1, 'euthanized', inplace = True)\n",
    "final['outcome'].replace(2, 'died', inplace = True)"
   ]
  },
  {
   "cell_type": "code",
   "execution_count": 124,
   "id": "f0a4ae1c",
   "metadata": {},
   "outputs": [
    {
     "data": {
      "text/html": [
       "<div>\n",
       "<style scoped>\n",
       "    .dataframe tbody tr th:only-of-type {\n",
       "        vertical-align: middle;\n",
       "    }\n",
       "\n",
       "    .dataframe tbody tr th {\n",
       "        vertical-align: top;\n",
       "    }\n",
       "\n",
       "    .dataframe thead th {\n",
       "        text-align: right;\n",
       "    }\n",
       "</style>\n",
       "<table border=\"1\" class=\"dataframe\">\n",
       "  <thead>\n",
       "    <tr style=\"text-align: right;\">\n",
       "      <th></th>\n",
       "      <th>outcome</th>\n",
       "    </tr>\n",
       "    <tr>\n",
       "      <th>id</th>\n",
       "      <th></th>\n",
       "    </tr>\n",
       "  </thead>\n",
       "  <tbody>\n",
       "    <tr>\n",
       "      <th>1235</th>\n",
       "      <td>lived</td>\n",
       "    </tr>\n",
       "    <tr>\n",
       "      <th>1236</th>\n",
       "      <td>died</td>\n",
       "    </tr>\n",
       "    <tr>\n",
       "      <th>1237</th>\n",
       "      <td>lived</td>\n",
       "    </tr>\n",
       "    <tr>\n",
       "      <th>1238</th>\n",
       "      <td>euthanized</td>\n",
       "    </tr>\n",
       "    <tr>\n",
       "      <th>1239</th>\n",
       "      <td>lived</td>\n",
       "    </tr>\n",
       "  </tbody>\n",
       "</table>\n",
       "</div>"
      ],
      "text/plain": [
       "         outcome\n",
       "id              \n",
       "1235       lived\n",
       "1236        died\n",
       "1237       lived\n",
       "1238  euthanized\n",
       "1239       lived"
      ]
     },
     "execution_count": 124,
     "metadata": {},
     "output_type": "execute_result"
    }
   ],
   "source": [
    "final.head()"
   ]
  },
  {
   "cell_type": "code",
   "execution_count": 125,
   "id": "26ba5046",
   "metadata": {},
   "outputs": [],
   "source": [
    "final.to_csv(\"./study2/final.csv\")"
   ]
  },
  {
   "cell_type": "code",
   "execution_count": null,
   "id": "e5e8f9e8",
   "metadata": {},
   "outputs": [],
   "source": [
    "# 케글에서 맛있는거 찾자"
   ]
  },
  {
   "cell_type": "code",
   "execution_count": null,
   "id": "f2d4ba4d",
   "metadata": {},
   "outputs": [],
   "source": []
  },
  {
   "cell_type": "code",
   "execution_count": null,
   "id": "4efd7554",
   "metadata": {},
   "outputs": [],
   "source": []
  },
  {
   "cell_type": "code",
   "execution_count": null,
   "id": "881ea809",
   "metadata": {},
   "outputs": [],
   "source": []
  }
 ],
 "metadata": {
  "kernelspec": {
   "display_name": "Python 3 (ipykernel)",
   "language": "python",
   "name": "python3"
  },
  "language_info": {
   "codemirror_mode": {
    "name": "ipython",
    "version": 3
   },
   "file_extension": ".py",
   "mimetype": "text/x-python",
   "name": "python",
   "nbconvert_exporter": "python",
   "pygments_lexer": "ipython3",
   "version": "3.10.9"
  }
 },
 "nbformat": 4,
 "nbformat_minor": 5
}
