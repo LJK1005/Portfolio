{
 "cells": [
  {
   "cell_type": "code",
   "execution_count": 107,
   "metadata": {},
   "outputs": [],
   "source": [
    "import pandas as pd\n",
    "import numpy as np\n",
    "from sklearn.preprocessing import MinMaxScaler, StandardScaler, RobustScaler\n",
    "from tensorflow import keras\n",
    "from sklearn.model_selection import train_test_split\n",
    "from xgboost import XGBRegressor\n",
    "from lightgbm import LGBMRegressor\n",
    "from sklearn.ensemble import GradientBoostingRegressor, RandomForestRegressor\n",
    "import matplotlib.pyplot as plt\n",
    "from sklearn.metrics import mean_absolute_error, mean_squared_log_error"
   ]
  },
  {
   "cell_type": "code",
   "execution_count": 4,
   "metadata": {},
   "outputs": [],
   "source": [
    "from matplotlib import font_manager, rc\n",
    "import matplotlib\n",
    "font_path = \"C:/Windows/Fonts/malgun.ttf\"\n",
    "font_name = font_manager.FontProperties(fname = font_path).get_name()\n",
    "matplotlib.rc(\"font\", family = font_name)"
   ]
  },
  {
   "cell_type": "code",
   "execution_count": 2,
   "metadata": {},
   "outputs": [],
   "source": [
    "df = pd.read_csv(\"./Study/Dacon_1206/data/train.csv\")\n",
    "test = pd.read_csv(\"./Study/Dacon_1206/data/test.csv\")"
   ]
  },
  {
   "cell_type": "code",
   "execution_count": 3,
   "metadata": {},
   "outputs": [
    {
     "data": {
      "text/html": [
       "<div>\n",
       "<style scoped>\n",
       "    .dataframe tbody tr th:only-of-type {\n",
       "        vertical-align: middle;\n",
       "    }\n",
       "\n",
       "    .dataframe tbody tr th {\n",
       "        vertical-align: top;\n",
       "    }\n",
       "\n",
       "    .dataframe thead th {\n",
       "        text-align: right;\n",
       "    }\n",
       "</style>\n",
       "<table border=\"1\" class=\"dataframe\">\n",
       "  <thead>\n",
       "    <tr style=\"text-align: right;\">\n",
       "      <th></th>\n",
       "      <th>ID</th>\n",
       "      <th>사고일시</th>\n",
       "      <th>요일</th>\n",
       "      <th>기상상태</th>\n",
       "      <th>시군구</th>\n",
       "      <th>도로형태</th>\n",
       "      <th>노면상태</th>\n",
       "      <th>사고유형</th>\n",
       "    </tr>\n",
       "  </thead>\n",
       "  <tbody>\n",
       "    <tr>\n",
       "      <th>0</th>\n",
       "      <td>ACCIDENT_39609</td>\n",
       "      <td>2022-01-01 01</td>\n",
       "      <td>토요일</td>\n",
       "      <td>맑음</td>\n",
       "      <td>대구광역시 수성구 상동</td>\n",
       "      <td>교차로 - 교차로안</td>\n",
       "      <td>건조</td>\n",
       "      <td>차대사람</td>\n",
       "    </tr>\n",
       "    <tr>\n",
       "      <th>1</th>\n",
       "      <td>ACCIDENT_39610</td>\n",
       "      <td>2022-01-01 01</td>\n",
       "      <td>토요일</td>\n",
       "      <td>맑음</td>\n",
       "      <td>대구광역시 수성구 지산동</td>\n",
       "      <td>단일로 - 기타</td>\n",
       "      <td>건조</td>\n",
       "      <td>차대사람</td>\n",
       "    </tr>\n",
       "    <tr>\n",
       "      <th>2</th>\n",
       "      <td>ACCIDENT_39611</td>\n",
       "      <td>2022-01-01 04</td>\n",
       "      <td>토요일</td>\n",
       "      <td>맑음</td>\n",
       "      <td>대구광역시 수성구 수성동2가</td>\n",
       "      <td>교차로 - 교차로안</td>\n",
       "      <td>건조</td>\n",
       "      <td>차대차</td>\n",
       "    </tr>\n",
       "    <tr>\n",
       "      <th>3</th>\n",
       "      <td>ACCIDENT_39612</td>\n",
       "      <td>2022-01-01 04</td>\n",
       "      <td>토요일</td>\n",
       "      <td>맑음</td>\n",
       "      <td>대구광역시 수성구 신매동</td>\n",
       "      <td>단일로 - 기타</td>\n",
       "      <td>건조</td>\n",
       "      <td>차대차</td>\n",
       "    </tr>\n",
       "    <tr>\n",
       "      <th>4</th>\n",
       "      <td>ACCIDENT_39613</td>\n",
       "      <td>2022-01-01 06</td>\n",
       "      <td>토요일</td>\n",
       "      <td>맑음</td>\n",
       "      <td>대구광역시 달서구 감삼동</td>\n",
       "      <td>교차로 - 교차로안</td>\n",
       "      <td>건조</td>\n",
       "      <td>차대차</td>\n",
       "    </tr>\n",
       "  </tbody>\n",
       "</table>\n",
       "</div>"
      ],
      "text/plain": [
       "               ID           사고일시   요일 기상상태              시군구        도로형태 노면상태  \\\n",
       "0  ACCIDENT_39609  2022-01-01 01  토요일   맑음     대구광역시 수성구 상동  교차로 - 교차로안   건조   \n",
       "1  ACCIDENT_39610  2022-01-01 01  토요일   맑음    대구광역시 수성구 지산동    단일로 - 기타   건조   \n",
       "2  ACCIDENT_39611  2022-01-01 04  토요일   맑음  대구광역시 수성구 수성동2가  교차로 - 교차로안   건조   \n",
       "3  ACCIDENT_39612  2022-01-01 04  토요일   맑음    대구광역시 수성구 신매동    단일로 - 기타   건조   \n",
       "4  ACCIDENT_39613  2022-01-01 06  토요일   맑음    대구광역시 달서구 감삼동  교차로 - 교차로안   건조   \n",
       "\n",
       "   사고유형  \n",
       "0  차대사람  \n",
       "1  차대사람  \n",
       "2   차대차  \n",
       "3   차대차  \n",
       "4   차대차  "
      ]
     },
     "execution_count": 3,
     "metadata": {},
     "output_type": "execute_result"
    }
   ],
   "source": [
    "test.head()"
   ]
  },
  {
   "cell_type": "code",
   "execution_count": 5,
   "metadata": {},
   "outputs": [],
   "source": [
    "df['사고시간'] = df['사고일시'].str.split(\" \").str.get(1)\n",
    "df['사고일시'] = df['사고일시'].str.split(\" \").str.get(0)\n",
    "df['사고일시'] = pd.to_datetime(df['사고일시'])\n",
    "df['분기'] = df['사고일시'].dt.quarter.astype('object')\n",
    "df.drop('사고일시', axis = 1, inplace = True)\n",
    "\n",
    "test['사고시간'] = test['사고일시'].str.split(\" \").str.get(1)\n",
    "test['사고일시'] = test['사고일시'].str.split(\" \").str.get(0)\n",
    "test['사고일시'] = pd.to_datetime(test['사고일시'])\n",
    "test['분기'] = test['사고일시'].dt.quarter.astype('object')\n",
    "test.drop('사고일시', axis = 1, inplace = True)"
   ]
  },
  {
   "cell_type": "code",
   "execution_count": 6,
   "metadata": {},
   "outputs": [],
   "source": [
    "df['군구'] = df['시군구'].str.split(\" \").str.get(1)\n",
    "df['동'] = df['시군구'].str.split(\" \").str.get(2)\n",
    "df.drop('시군구', axis = 1, inplace = True)\n",
    "\n",
    "test['군구'] = test['시군구'].str.split(\" \").str.get(1)\n",
    "test['동'] = test['시군구'].str.split(\" \").str.get(2)\n",
    "test.drop('시군구', axis = 1, inplace = True)"
   ]
  },
  {
   "cell_type": "code",
   "execution_count": 7,
   "metadata": {},
   "outputs": [],
   "source": [
    "df['노면상태'].replace({\n",
    "    '기타':0, '침수':0, '적설':0, '건조':1, '젖음/습기':2, '서리/결빙':3\n",
    "}, inplace = True)\n",
    "\n",
    "test['노면상태'].replace({\n",
    "    '기타':0, '침수':0, '적설':0, '건조':1, '젖음/습기':2, '서리/결빙':3\n",
    "}, inplace = True)"
   ]
  },
  {
   "cell_type": "code",
   "execution_count": 8,
   "metadata": {},
   "outputs": [],
   "source": [
    "df['사고유형'].replace({\n",
    "    '차량단독':1, '차대차':0, '차대사람':2\n",
    "}, inplace = True)\n",
    "\n",
    "test['사고유형'].replace({\n",
    "    '차량단독':1, '차대차':0, '차대사람':2\n",
    "}, inplace = True)"
   ]
  },
  {
   "cell_type": "code",
   "execution_count": 9,
   "metadata": {},
   "outputs": [],
   "source": [
    "data1 = pd.read_csv('./Study/Dacon_1206/data/external_open/대구 CCTV 정보.csv', encoding='ANSI')\n",
    "data2 = pd.read_csv('./Study/Dacon_1206/data/external_open/대구 보안등 정보.csv', encoding='ANSI', low_memory = False)\n",
    "data3 = pd.read_csv('./Study/Dacon_1206/data/external_open/대구 어린이 보호 구역 정보.csv', encoding='ANSI')\n",
    "data4 = pd.read_csv('./Study/Dacon_1206/data/external_open/대구 주차장 정보.csv', encoding='ANSI')"
   ]
  },
  {
   "cell_type": "code",
   "execution_count": 10,
   "metadata": {},
   "outputs": [],
   "source": [
    "cond1 = data1['단속구분'] == 1\n",
    "cond2 = data1['단속구분'] == 2\n",
    "data1_1 = data1[cond1|cond2]"
   ]
  },
  {
   "cell_type": "code",
   "execution_count": 11,
   "metadata": {},
   "outputs": [],
   "source": [
    "spd = data1_1.groupby('시군구명').mean(numeric_only = True)['제한속도']"
   ]
  },
  {
   "cell_type": "code",
   "execution_count": 12,
   "metadata": {},
   "outputs": [],
   "source": [
    "df['단속카메라수'] = df['군구'].replace(data1_1['시군구명'].value_counts())\n",
    "test['단속카메라수'] = test['군구'].replace(data1_1['시군구명'].value_counts())"
   ]
  },
  {
   "cell_type": "code",
   "execution_count": 13,
   "metadata": {},
   "outputs": [],
   "source": [
    "df['평균제한속도'] = df['군구'].replace(spd)\n",
    "test['평균제한속도'] = test['군구'].replace(spd)"
   ]
  },
  {
   "cell_type": "code",
   "execution_count": 14,
   "metadata": {},
   "outputs": [
    {
     "data": {
      "text/html": [
       "<div>\n",
       "<style scoped>\n",
       "    .dataframe tbody tr th:only-of-type {\n",
       "        vertical-align: middle;\n",
       "    }\n",
       "\n",
       "    .dataframe tbody tr th {\n",
       "        vertical-align: top;\n",
       "    }\n",
       "\n",
       "    .dataframe thead th {\n",
       "        text-align: right;\n",
       "    }\n",
       "</style>\n",
       "<table border=\"1\" class=\"dataframe\">\n",
       "  <thead>\n",
       "    <tr style=\"text-align: right;\">\n",
       "      <th></th>\n",
       "      <th>ID</th>\n",
       "      <th>요일</th>\n",
       "      <th>기상상태</th>\n",
       "      <th>도로형태</th>\n",
       "      <th>노면상태</th>\n",
       "      <th>사고유형</th>\n",
       "      <th>사고시간</th>\n",
       "      <th>분기</th>\n",
       "      <th>군구</th>\n",
       "      <th>동</th>\n",
       "      <th>단속카메라수</th>\n",
       "      <th>평균제한속도</th>\n",
       "    </tr>\n",
       "  </thead>\n",
       "  <tbody>\n",
       "    <tr>\n",
       "      <th>0</th>\n",
       "      <td>ACCIDENT_39609</td>\n",
       "      <td>토요일</td>\n",
       "      <td>맑음</td>\n",
       "      <td>교차로 - 교차로안</td>\n",
       "      <td>1</td>\n",
       "      <td>2</td>\n",
       "      <td>01</td>\n",
       "      <td>1</td>\n",
       "      <td>수성구</td>\n",
       "      <td>상동</td>\n",
       "      <td>95</td>\n",
       "      <td>48.631579</td>\n",
       "    </tr>\n",
       "    <tr>\n",
       "      <th>1</th>\n",
       "      <td>ACCIDENT_39610</td>\n",
       "      <td>토요일</td>\n",
       "      <td>맑음</td>\n",
       "      <td>단일로 - 기타</td>\n",
       "      <td>1</td>\n",
       "      <td>2</td>\n",
       "      <td>01</td>\n",
       "      <td>1</td>\n",
       "      <td>수성구</td>\n",
       "      <td>지산동</td>\n",
       "      <td>95</td>\n",
       "      <td>48.631579</td>\n",
       "    </tr>\n",
       "    <tr>\n",
       "      <th>2</th>\n",
       "      <td>ACCIDENT_39611</td>\n",
       "      <td>토요일</td>\n",
       "      <td>맑음</td>\n",
       "      <td>교차로 - 교차로안</td>\n",
       "      <td>1</td>\n",
       "      <td>0</td>\n",
       "      <td>04</td>\n",
       "      <td>1</td>\n",
       "      <td>수성구</td>\n",
       "      <td>수성동2가</td>\n",
       "      <td>95</td>\n",
       "      <td>48.631579</td>\n",
       "    </tr>\n",
       "    <tr>\n",
       "      <th>3</th>\n",
       "      <td>ACCIDENT_39612</td>\n",
       "      <td>토요일</td>\n",
       "      <td>맑음</td>\n",
       "      <td>단일로 - 기타</td>\n",
       "      <td>1</td>\n",
       "      <td>0</td>\n",
       "      <td>04</td>\n",
       "      <td>1</td>\n",
       "      <td>수성구</td>\n",
       "      <td>신매동</td>\n",
       "      <td>95</td>\n",
       "      <td>48.631579</td>\n",
       "    </tr>\n",
       "    <tr>\n",
       "      <th>4</th>\n",
       "      <td>ACCIDENT_39613</td>\n",
       "      <td>토요일</td>\n",
       "      <td>맑음</td>\n",
       "      <td>교차로 - 교차로안</td>\n",
       "      <td>1</td>\n",
       "      <td>0</td>\n",
       "      <td>06</td>\n",
       "      <td>1</td>\n",
       "      <td>달서구</td>\n",
       "      <td>감삼동</td>\n",
       "      <td>140</td>\n",
       "      <td>43.785714</td>\n",
       "    </tr>\n",
       "  </tbody>\n",
       "</table>\n",
       "</div>"
      ],
      "text/plain": [
       "               ID   요일 기상상태        도로형태  노면상태  사고유형 사고시간 분기   군구      동  \\\n",
       "0  ACCIDENT_39609  토요일   맑음  교차로 - 교차로안     1     2   01  1  수성구     상동   \n",
       "1  ACCIDENT_39610  토요일   맑음    단일로 - 기타     1     2   01  1  수성구    지산동   \n",
       "2  ACCIDENT_39611  토요일   맑음  교차로 - 교차로안     1     0   04  1  수성구  수성동2가   \n",
       "3  ACCIDENT_39612  토요일   맑음    단일로 - 기타     1     0   04  1  수성구    신매동   \n",
       "4  ACCIDENT_39613  토요일   맑음  교차로 - 교차로안     1     0   06  1  달서구    감삼동   \n",
       "\n",
       "   단속카메라수     평균제한속도  \n",
       "0      95  48.631579  \n",
       "1      95  48.631579  \n",
       "2      95  48.631579  \n",
       "3      95  48.631579  \n",
       "4     140  43.785714  "
      ]
     },
     "execution_count": 14,
     "metadata": {},
     "output_type": "execute_result"
    }
   ],
   "source": [
    "test.head()"
   ]
  },
  {
   "cell_type": "code",
   "execution_count": 15,
   "metadata": {},
   "outputs": [
    {
     "data": {
      "text/html": [
       "<div>\n",
       "<style scoped>\n",
       "    .dataframe tbody tr th:only-of-type {\n",
       "        vertical-align: middle;\n",
       "    }\n",
       "\n",
       "    .dataframe tbody tr th {\n",
       "        vertical-align: top;\n",
       "    }\n",
       "\n",
       "    .dataframe thead th {\n",
       "        text-align: right;\n",
       "    }\n",
       "</style>\n",
       "<table border=\"1\" class=\"dataframe\">\n",
       "  <thead>\n",
       "    <tr style=\"text-align: right;\">\n",
       "      <th></th>\n",
       "      <th>ID</th>\n",
       "      <th>요일</th>\n",
       "      <th>기상상태</th>\n",
       "      <th>도로형태</th>\n",
       "      <th>노면상태</th>\n",
       "      <th>사고유형</th>\n",
       "      <th>사고유형 - 세부분류</th>\n",
       "      <th>법규위반</th>\n",
       "      <th>가해운전자 차종</th>\n",
       "      <th>가해운전자 성별</th>\n",
       "      <th>...</th>\n",
       "      <th>중상자수</th>\n",
       "      <th>경상자수</th>\n",
       "      <th>부상자수</th>\n",
       "      <th>ECLO</th>\n",
       "      <th>사고시간</th>\n",
       "      <th>분기</th>\n",
       "      <th>군구</th>\n",
       "      <th>동</th>\n",
       "      <th>단속카메라수</th>\n",
       "      <th>평균제한속도</th>\n",
       "    </tr>\n",
       "  </thead>\n",
       "  <tbody>\n",
       "    <tr>\n",
       "      <th>0</th>\n",
       "      <td>ACCIDENT_00000</td>\n",
       "      <td>화요일</td>\n",
       "      <td>맑음</td>\n",
       "      <td>단일로 - 기타</td>\n",
       "      <td>1</td>\n",
       "      <td>2</td>\n",
       "      <td>길가장자리구역통행중</td>\n",
       "      <td>안전운전불이행</td>\n",
       "      <td>승용</td>\n",
       "      <td>여</td>\n",
       "      <td>...</td>\n",
       "      <td>1</td>\n",
       "      <td>0</td>\n",
       "      <td>0</td>\n",
       "      <td>5</td>\n",
       "      <td>00</td>\n",
       "      <td>1</td>\n",
       "      <td>중구</td>\n",
       "      <td>대신동</td>\n",
       "      <td>26</td>\n",
       "      <td>50.000000</td>\n",
       "    </tr>\n",
       "    <tr>\n",
       "      <th>1</th>\n",
       "      <td>ACCIDENT_00001</td>\n",
       "      <td>화요일</td>\n",
       "      <td>흐림</td>\n",
       "      <td>단일로 - 기타</td>\n",
       "      <td>1</td>\n",
       "      <td>2</td>\n",
       "      <td>보도통행중</td>\n",
       "      <td>기타</td>\n",
       "      <td>승용</td>\n",
       "      <td>남</td>\n",
       "      <td>...</td>\n",
       "      <td>0</td>\n",
       "      <td>1</td>\n",
       "      <td>0</td>\n",
       "      <td>3</td>\n",
       "      <td>00</td>\n",
       "      <td>1</td>\n",
       "      <td>달서구</td>\n",
       "      <td>감삼동</td>\n",
       "      <td>140</td>\n",
       "      <td>43.785714</td>\n",
       "    </tr>\n",
       "    <tr>\n",
       "      <th>2</th>\n",
       "      <td>ACCIDENT_00002</td>\n",
       "      <td>화요일</td>\n",
       "      <td>맑음</td>\n",
       "      <td>단일로 - 기타</td>\n",
       "      <td>1</td>\n",
       "      <td>2</td>\n",
       "      <td>차도통행중</td>\n",
       "      <td>안전운전불이행</td>\n",
       "      <td>승용</td>\n",
       "      <td>남</td>\n",
       "      <td>...</td>\n",
       "      <td>0</td>\n",
       "      <td>1</td>\n",
       "      <td>0</td>\n",
       "      <td>3</td>\n",
       "      <td>01</td>\n",
       "      <td>1</td>\n",
       "      <td>수성구</td>\n",
       "      <td>두산동</td>\n",
       "      <td>95</td>\n",
       "      <td>48.631579</td>\n",
       "    </tr>\n",
       "    <tr>\n",
       "      <th>3</th>\n",
       "      <td>ACCIDENT_00003</td>\n",
       "      <td>화요일</td>\n",
       "      <td>맑음</td>\n",
       "      <td>단일로 - 기타</td>\n",
       "      <td>1</td>\n",
       "      <td>0</td>\n",
       "      <td>추돌</td>\n",
       "      <td>안전운전불이행</td>\n",
       "      <td>승용</td>\n",
       "      <td>남</td>\n",
       "      <td>...</td>\n",
       "      <td>1</td>\n",
       "      <td>0</td>\n",
       "      <td>0</td>\n",
       "      <td>5</td>\n",
       "      <td>02</td>\n",
       "      <td>1</td>\n",
       "      <td>북구</td>\n",
       "      <td>복현동</td>\n",
       "      <td>123</td>\n",
       "      <td>45.040650</td>\n",
       "    </tr>\n",
       "    <tr>\n",
       "      <th>4</th>\n",
       "      <td>ACCIDENT_00004</td>\n",
       "      <td>화요일</td>\n",
       "      <td>맑음</td>\n",
       "      <td>단일로 - 기타</td>\n",
       "      <td>1</td>\n",
       "      <td>0</td>\n",
       "      <td>추돌</td>\n",
       "      <td>안전운전불이행</td>\n",
       "      <td>승용</td>\n",
       "      <td>남</td>\n",
       "      <td>...</td>\n",
       "      <td>0</td>\n",
       "      <td>1</td>\n",
       "      <td>0</td>\n",
       "      <td>3</td>\n",
       "      <td>04</td>\n",
       "      <td>1</td>\n",
       "      <td>동구</td>\n",
       "      <td>신암동</td>\n",
       "      <td>78</td>\n",
       "      <td>49.743590</td>\n",
       "    </tr>\n",
       "  </tbody>\n",
       "</table>\n",
       "<p>5 rows × 27 columns</p>\n",
       "</div>"
      ],
      "text/plain": [
       "               ID   요일 기상상태      도로형태  노면상태  사고유형 사고유형 - 세부분류     법규위반  \\\n",
       "0  ACCIDENT_00000  화요일   맑음  단일로 - 기타     1     2  길가장자리구역통행중  안전운전불이행   \n",
       "1  ACCIDENT_00001  화요일   흐림  단일로 - 기타     1     2       보도통행중       기타   \n",
       "2  ACCIDENT_00002  화요일   맑음  단일로 - 기타     1     2       차도통행중  안전운전불이행   \n",
       "3  ACCIDENT_00003  화요일   맑음  단일로 - 기타     1     0          추돌  안전운전불이행   \n",
       "4  ACCIDENT_00004  화요일   맑음  단일로 - 기타     1     0          추돌  안전운전불이행   \n",
       "\n",
       "  가해운전자 차종 가해운전자 성별  ... 중상자수 경상자수 부상자수 ECLO 사고시간 분기   군구    동  단속카메라수  \\\n",
       "0       승용        여  ...    1    0    0    5   00  1   중구  대신동      26   \n",
       "1       승용        남  ...    0    1    0    3   00  1  달서구  감삼동     140   \n",
       "2       승용        남  ...    0    1    0    3   01  1  수성구  두산동      95   \n",
       "3       승용        남  ...    1    0    0    5   02  1   북구  복현동     123   \n",
       "4       승용        남  ...    0    1    0    3   04  1   동구  신암동      78   \n",
       "\n",
       "      평균제한속도  \n",
       "0  50.000000  \n",
       "1  43.785714  \n",
       "2  48.631579  \n",
       "3  45.040650  \n",
       "4  49.743590  \n",
       "\n",
       "[5 rows x 27 columns]"
      ]
     },
     "execution_count": 15,
     "metadata": {},
     "output_type": "execute_result"
    }
   ],
   "source": [
    "df.head()"
   ]
  },
  {
   "cell_type": "code",
   "execution_count": 16,
   "metadata": {},
   "outputs": [
    {
     "name": "stdout",
     "output_type": "stream",
     "text": [
      "<class 'pandas.core.frame.DataFrame'>\n",
      "RangeIndex: 39609 entries, 0 to 39608\n",
      "Data columns (total 27 columns):\n",
      " #   Column       Non-Null Count  Dtype  \n",
      "---  ------       --------------  -----  \n",
      " 0   ID           39609 non-null  object \n",
      " 1   요일           39609 non-null  object \n",
      " 2   기상상태         39609 non-null  object \n",
      " 3   도로형태         39609 non-null  object \n",
      " 4   노면상태         39609 non-null  int64  \n",
      " 5   사고유형         39609 non-null  int64  \n",
      " 6   사고유형 - 세부분류  39609 non-null  object \n",
      " 7   법규위반         39609 non-null  object \n",
      " 8   가해운전자 차종     39609 non-null  object \n",
      " 9   가해운전자 성별     39609 non-null  object \n",
      " 10  가해운전자 연령     39609 non-null  object \n",
      " 11  가해운전자 상해정도   39609 non-null  object \n",
      " 12  피해운전자 차종     38618 non-null  object \n",
      " 13  피해운전자 성별     38618 non-null  object \n",
      " 14  피해운전자 연령     38618 non-null  object \n",
      " 15  피해운전자 상해정도   38618 non-null  object \n",
      " 16  사망자수         39609 non-null  int64  \n",
      " 17  중상자수         39609 non-null  int64  \n",
      " 18  경상자수         39609 non-null  int64  \n",
      " 19  부상자수         39609 non-null  int64  \n",
      " 20  ECLO         39609 non-null  int64  \n",
      " 21  사고시간         39609 non-null  object \n",
      " 22  분기           39609 non-null  object \n",
      " 23  군구           39609 non-null  object \n",
      " 24  동            39609 non-null  object \n",
      " 25  단속카메라수       39609 non-null  int64  \n",
      " 26  평균제한속도       39609 non-null  float64\n",
      "dtypes: float64(1), int64(8), object(18)\n",
      "memory usage: 8.2+ MB\n"
     ]
    }
   ],
   "source": [
    "df.info()"
   ]
  },
  {
   "cell_type": "code",
   "execution_count": 17,
   "metadata": {},
   "outputs": [
    {
     "name": "stdout",
     "output_type": "stream",
     "text": [
      "<class 'pandas.core.frame.DataFrame'>\n",
      "RangeIndex: 10963 entries, 0 to 10962\n",
      "Data columns (total 12 columns):\n",
      " #   Column  Non-Null Count  Dtype  \n",
      "---  ------  --------------  -----  \n",
      " 0   ID      10963 non-null  object \n",
      " 1   요일      10963 non-null  object \n",
      " 2   기상상태    10963 non-null  object \n",
      " 3   도로형태    10963 non-null  object \n",
      " 4   노면상태    10963 non-null  int64  \n",
      " 5   사고유형    10963 non-null  int64  \n",
      " 6   사고시간    10963 non-null  object \n",
      " 7   분기      10963 non-null  object \n",
      " 8   군구      10963 non-null  object \n",
      " 9   동       10963 non-null  object \n",
      " 10  단속카메라수  10963 non-null  int64  \n",
      " 11  평균제한속도  10963 non-null  float64\n",
      "dtypes: float64(1), int64(3), object(8)\n",
      "memory usage: 1.0+ MB\n"
     ]
    }
   ],
   "source": [
    "test.info()"
   ]
  },
  {
   "cell_type": "code",
   "execution_count": 18,
   "metadata": {},
   "outputs": [],
   "source": [
    "df.drop('동', axis = 1, inplace = True)\n",
    "test.drop('동', axis = 1, inplace = True)"
   ]
  },
  {
   "cell_type": "code",
   "execution_count": 19,
   "metadata": {},
   "outputs": [
    {
     "data": {
      "image/png": "[encoded data removed]",
      "text/plain": [
       "<Figure size 640x480 with 1 Axes>"
      ]
     },
     "metadata": {},
     "output_type": "display_data"
    }
   ],
   "source": [
    "plt.title(\"차대사람\")\n",
    "plt.hist([df[df['사고유형'] == 2]['사망자수'], df[df['사고유형'] == 2]['중상자수'], df[df['사고유형'] == 2]['경상자수'], df[df['사고유형'] == 2]['부상자수']], label = ['사망', '중상', '경상', '부상'])\n",
    "plt.legend()\n",
    "plt.show()"
   ]
  },
  {
   "cell_type": "code",
   "execution_count": 20,
   "metadata": {},
   "outputs": [
    {
     "data": {
      "image/png": "[encoded data removed]",
      "text/plain": [
       "<Figure size 640x480 with 1 Axes>"
      ]
     },
     "metadata": {},
     "output_type": "display_data"
    }
   ],
   "source": [
    "plt.title(\"차량단독\")\n",
    "plt.hist([df[df['사고유형'] == 1]['사망자수'], df[df['사고유형'] == 1]['중상자수'], df[df['사고유형'] == 1]['경상자수'], df[df['사고유형'] == 1]['부상자수']], label = ['사망', '중상', '경상', '부상'], bins = 20, range = (0, 5))\n",
    "plt.legend()\n",
    "plt.show()"
   ]
  },
  {
   "cell_type": "code",
   "execution_count": 21,
   "metadata": {},
   "outputs": [
    {
     "data": {
      "image/png": "[encoded data removed]",
      "text/plain": [
       "<Figure size 640x480 with 1 Axes>"
      ]
     },
     "metadata": {},
     "output_type": "display_data"
    }
   ],
   "source": [
    "plt.title(\"차대차\")\n",
    "plt.hist([df[df['사고유형'] == 0]['사망자수'], df[df['사고유형'] == 0]['중상자수'], df[df['사고유형'] == 0]['경상자수'], df[df['사고유형'] == 0]['부상자수']], label = ['사망', '중상', '경상', '부상'], bins = 20, range = (0, 4))\n",
    "plt.legend()\n",
    "plt.show()"
   ]
  },
  {
   "cell_type": "code",
   "execution_count": 22,
   "metadata": {},
   "outputs": [
    {
     "data": {
      "text/html": [
       "<div>\n",
       "<style scoped>\n",
       "    .dataframe tbody tr th:only-of-type {\n",
       "        vertical-align: middle;\n",
       "    }\n",
       "\n",
       "    .dataframe tbody tr th {\n",
       "        vertical-align: top;\n",
       "    }\n",
       "\n",
       "    .dataframe thead th {\n",
       "        text-align: right;\n",
       "    }\n",
       "</style>\n",
       "<table border=\"1\" class=\"dataframe\">\n",
       "  <thead>\n",
       "    <tr style=\"text-align: right;\">\n",
       "      <th></th>\n",
       "      <th>사망자수</th>\n",
       "      <th>중상자수</th>\n",
       "      <th>경상자수</th>\n",
       "      <th>부상자수</th>\n",
       "    </tr>\n",
       "    <tr>\n",
       "      <th>사고유형</th>\n",
       "      <th></th>\n",
       "      <th></th>\n",
       "      <th></th>\n",
       "      <th></th>\n",
       "    </tr>\n",
       "  </thead>\n",
       "  <tbody>\n",
       "    <tr>\n",
       "      <th>0</th>\n",
       "      <td>0.004310</td>\n",
       "      <td>0.237848</td>\n",
       "      <td>1.194526</td>\n",
       "      <td>0.128677</td>\n",
       "    </tr>\n",
       "    <tr>\n",
       "      <th>1</th>\n",
       "      <td>0.046418</td>\n",
       "      <td>0.336024</td>\n",
       "      <td>0.533804</td>\n",
       "      <td>0.260343</td>\n",
       "    </tr>\n",
       "    <tr>\n",
       "      <th>2</th>\n",
       "      <td>0.018294</td>\n",
       "      <td>0.365725</td>\n",
       "      <td>0.569003</td>\n",
       "      <td>0.099078</td>\n",
       "    </tr>\n",
       "  </tbody>\n",
       "</table>\n",
       "</div>"
      ],
      "text/plain": [
       "          사망자수      중상자수      경상자수      부상자수\n",
       "사고유형                                        \n",
       "0     0.004310  0.237848  1.194526  0.128677\n",
       "1     0.046418  0.336024  0.533804  0.260343\n",
       "2     0.018294  0.365725  0.569003  0.099078"
      ]
     },
     "execution_count": 22,
     "metadata": {},
     "output_type": "execute_result"
    }
   ],
   "source": [
    "df.groupby('사고유형').mean(numeric_only = True)[['사망자수', '중상자수', '경상자수', '부상자수']]"
   ]
  },
  {
   "cell_type": "markdown",
   "metadata": {},
   "source": [
    "- 0 : 차대차, 1 : 차량단독, 2 : 차대사람"
   ]
  },
  {
   "cell_type": "code",
   "execution_count": 23,
   "metadata": {},
   "outputs": [
    {
     "data": {
      "text/html": [
       "<div>\n",
       "<style scoped>\n",
       "    .dataframe tbody tr th:only-of-type {\n",
       "        vertical-align: middle;\n",
       "    }\n",
       "\n",
       "    .dataframe tbody tr th {\n",
       "        vertical-align: top;\n",
       "    }\n",
       "\n",
       "    .dataframe thead th {\n",
       "        text-align: right;\n",
       "    }\n",
       "</style>\n",
       "<table border=\"1\" class=\"dataframe\">\n",
       "  <thead>\n",
       "    <tr style=\"text-align: right;\">\n",
       "      <th></th>\n",
       "      <th>사망자수</th>\n",
       "      <th>중상자수</th>\n",
       "      <th>경상자수</th>\n",
       "      <th>부상자수</th>\n",
       "    </tr>\n",
       "    <tr>\n",
       "      <th>평균제한속도</th>\n",
       "      <th></th>\n",
       "      <th></th>\n",
       "      <th></th>\n",
       "      <th></th>\n",
       "    </tr>\n",
       "  </thead>\n",
       "  <tbody>\n",
       "    <tr>\n",
       "      <th>43.785714</th>\n",
       "      <td>0.004752</td>\n",
       "      <td>0.239308</td>\n",
       "      <td>1.089576</td>\n",
       "      <td>0.105652</td>\n",
       "    </tr>\n",
       "    <tr>\n",
       "      <th>44.500000</th>\n",
       "      <td>0.005471</td>\n",
       "      <td>0.243845</td>\n",
       "      <td>1.073857</td>\n",
       "      <td>0.128175</td>\n",
       "    </tr>\n",
       "    <tr>\n",
       "      <th>45.040650</th>\n",
       "      <td>0.008271</td>\n",
       "      <td>0.283609</td>\n",
       "      <td>1.021504</td>\n",
       "      <td>0.122406</td>\n",
       "    </tr>\n",
       "    <tr>\n",
       "      <th>47.272727</th>\n",
       "      <td>0.007439</td>\n",
       "      <td>0.281259</td>\n",
       "      <td>1.048641</td>\n",
       "      <td>0.149070</td>\n",
       "    </tr>\n",
       "    <tr>\n",
       "      <th>47.524752</th>\n",
       "      <td>0.020961</td>\n",
       "      <td>0.316950</td>\n",
       "      <td>1.061077</td>\n",
       "      <td>0.094687</td>\n",
       "    </tr>\n",
       "    <tr>\n",
       "      <th>48.631579</th>\n",
       "      <td>0.004324</td>\n",
       "      <td>0.250932</td>\n",
       "      <td>1.104816</td>\n",
       "      <td>0.114955</td>\n",
       "    </tr>\n",
       "    <tr>\n",
       "      <th>49.743590</th>\n",
       "      <td>0.010110</td>\n",
       "      <td>0.267366</td>\n",
       "      <td>1.108219</td>\n",
       "      <td>0.126943</td>\n",
       "    </tr>\n",
       "    <tr>\n",
       "      <th>50.000000</th>\n",
       "      <td>0.011369</td>\n",
       "      <td>0.247385</td>\n",
       "      <td>0.971805</td>\n",
       "      <td>0.275580</td>\n",
       "    </tr>\n",
       "  </tbody>\n",
       "</table>\n",
       "</div>"
      ],
      "text/plain": [
       "               사망자수      중상자수      경상자수      부상자수\n",
       "평균제한속도                                           \n",
       "43.785714  0.004752  0.239308  1.089576  0.105652\n",
       "44.500000  0.005471  0.243845  1.073857  0.128175\n",
       "45.040650  0.008271  0.283609  1.021504  0.122406\n",
       "47.272727  0.007439  0.281259  1.048641  0.149070\n",
       "47.524752  0.020961  0.316950  1.061077  0.094687\n",
       "48.631579  0.004324  0.250932  1.104816  0.114955\n",
       "49.743590  0.010110  0.267366  1.108219  0.126943\n",
       "50.000000  0.011369  0.247385  0.971805  0.275580"
      ]
     },
     "execution_count": 23,
     "metadata": {},
     "output_type": "execute_result"
    }
   ],
   "source": [
    "df.groupby('평균제한속도').mean(numeric_only = True)[['사망자수', '중상자수', '경상자수', '부상자수']]"
   ]
  },
  {
   "cell_type": "code",
   "execution_count": 24,
   "metadata": {},
   "outputs": [
    {
     "data": {
      "text/html": [
       "<div>\n",
       "<style scoped>\n",
       "    .dataframe tbody tr th:only-of-type {\n",
       "        vertical-align: middle;\n",
       "    }\n",
       "\n",
       "    .dataframe tbody tr th {\n",
       "        vertical-align: top;\n",
       "    }\n",
       "\n",
       "    .dataframe thead th {\n",
       "        text-align: right;\n",
       "    }\n",
       "</style>\n",
       "<table border=\"1\" class=\"dataframe\">\n",
       "  <thead>\n",
       "    <tr style=\"text-align: right;\">\n",
       "      <th></th>\n",
       "      <th>사망자수</th>\n",
       "      <th>중상자수</th>\n",
       "      <th>경상자수</th>\n",
       "      <th>부상자수</th>\n",
       "    </tr>\n",
       "    <tr>\n",
       "      <th>단속카메라수</th>\n",
       "      <th></th>\n",
       "      <th></th>\n",
       "      <th></th>\n",
       "      <th></th>\n",
       "    </tr>\n",
       "  </thead>\n",
       "  <tbody>\n",
       "    <tr>\n",
       "      <th>26</th>\n",
       "      <td>0.011369</td>\n",
       "      <td>0.247385</td>\n",
       "      <td>0.971805</td>\n",
       "      <td>0.275580</td>\n",
       "    </tr>\n",
       "    <tr>\n",
       "      <th>40</th>\n",
       "      <td>0.005471</td>\n",
       "      <td>0.243845</td>\n",
       "      <td>1.073857</td>\n",
       "      <td>0.128175</td>\n",
       "    </tr>\n",
       "    <tr>\n",
       "      <th>55</th>\n",
       "      <td>0.007439</td>\n",
       "      <td>0.281259</td>\n",
       "      <td>1.048641</td>\n",
       "      <td>0.149070</td>\n",
       "    </tr>\n",
       "    <tr>\n",
       "      <th>78</th>\n",
       "      <td>0.010110</td>\n",
       "      <td>0.267366</td>\n",
       "      <td>1.108219</td>\n",
       "      <td>0.126943</td>\n",
       "    </tr>\n",
       "    <tr>\n",
       "      <th>95</th>\n",
       "      <td>0.004324</td>\n",
       "      <td>0.250932</td>\n",
       "      <td>1.104816</td>\n",
       "      <td>0.114955</td>\n",
       "    </tr>\n",
       "    <tr>\n",
       "      <th>101</th>\n",
       "      <td>0.020961</td>\n",
       "      <td>0.316950</td>\n",
       "      <td>1.061077</td>\n",
       "      <td>0.094687</td>\n",
       "    </tr>\n",
       "    <tr>\n",
       "      <th>123</th>\n",
       "      <td>0.008271</td>\n",
       "      <td>0.283609</td>\n",
       "      <td>1.021504</td>\n",
       "      <td>0.122406</td>\n",
       "    </tr>\n",
       "    <tr>\n",
       "      <th>140</th>\n",
       "      <td>0.004752</td>\n",
       "      <td>0.239308</td>\n",
       "      <td>1.089576</td>\n",
       "      <td>0.105652</td>\n",
       "    </tr>\n",
       "  </tbody>\n",
       "</table>\n",
       "</div>"
      ],
      "text/plain": [
       "            사망자수      중상자수      경상자수      부상자수\n",
       "단속카메라수                                        \n",
       "26      0.011369  0.247385  0.971805  0.275580\n",
       "40      0.005471  0.243845  1.073857  0.128175\n",
       "55      0.007439  0.281259  1.048641  0.149070\n",
       "78      0.010110  0.267366  1.108219  0.126943\n",
       "95      0.004324  0.250932  1.104816  0.114955\n",
       "101     0.020961  0.316950  1.061077  0.094687\n",
       "123     0.008271  0.283609  1.021504  0.122406\n",
       "140     0.004752  0.239308  1.089576  0.105652"
      ]
     },
     "execution_count": 24,
     "metadata": {},
     "output_type": "execute_result"
    }
   ],
   "source": [
    "df.groupby('단속카메라수').mean(numeric_only = True)[['사망자수', '중상자수', '경상자수', '부상자수']]"
   ]
  },
  {
   "cell_type": "code",
   "execution_count": 25,
   "metadata": {},
   "outputs": [
    {
     "data": {
      "text/html": [
       "<div>\n",
       "<style scoped>\n",
       "    .dataframe tbody tr th:only-of-type {\n",
       "        vertical-align: middle;\n",
       "    }\n",
       "\n",
       "    .dataframe tbody tr th {\n",
       "        vertical-align: top;\n",
       "    }\n",
       "\n",
       "    .dataframe thead th {\n",
       "        text-align: right;\n",
       "    }\n",
       "</style>\n",
       "<table border=\"1\" class=\"dataframe\">\n",
       "  <thead>\n",
       "    <tr style=\"text-align: right;\">\n",
       "      <th></th>\n",
       "      <th>노면상태</th>\n",
       "      <th>사고유형</th>\n",
       "      <th>사망자수</th>\n",
       "      <th>중상자수</th>\n",
       "      <th>경상자수</th>\n",
       "      <th>부상자수</th>\n",
       "      <th>ECLO</th>\n",
       "      <th>단속카메라수</th>\n",
       "      <th>평균제한속도</th>\n",
       "    </tr>\n",
       "  </thead>\n",
       "  <tbody>\n",
       "    <tr>\n",
       "      <th>count</th>\n",
       "      <td>39609.000000</td>\n",
       "      <td>39609.000000</td>\n",
       "      <td>39609.000000</td>\n",
       "      <td>39609.000000</td>\n",
       "      <td>39609.000000</td>\n",
       "      <td>39609.000000</td>\n",
       "      <td>39609.000000</td>\n",
       "      <td>39609.000000</td>\n",
       "      <td>39609.000000</td>\n",
       "    </tr>\n",
       "    <tr>\n",
       "      <th>mean</th>\n",
       "      <td>1.077912</td>\n",
       "      <td>0.370042</td>\n",
       "      <td>0.007776</td>\n",
       "      <td>0.262365</td>\n",
       "      <td>1.070085</td>\n",
       "      <td>0.126865</td>\n",
       "      <td>4.726704</td>\n",
       "      <td>98.151405</td>\n",
       "      <td>46.580373</td>\n",
       "    </tr>\n",
       "    <tr>\n",
       "      <th>std</th>\n",
       "      <td>0.276292</td>\n",
       "      <td>0.760361</td>\n",
       "      <td>0.090109</td>\n",
       "      <td>0.500845</td>\n",
       "      <td>0.992034</td>\n",
       "      <td>0.394670</td>\n",
       "      <td>3.207206</td>\n",
       "      <td>35.634551</td>\n",
       "      <td>2.333149</td>\n",
       "    </tr>\n",
       "    <tr>\n",
       "      <th>min</th>\n",
       "      <td>0.000000</td>\n",
       "      <td>0.000000</td>\n",
       "      <td>0.000000</td>\n",
       "      <td>0.000000</td>\n",
       "      <td>0.000000</td>\n",
       "      <td>0.000000</td>\n",
       "      <td>1.000000</td>\n",
       "      <td>26.000000</td>\n",
       "      <td>43.785714</td>\n",
       "    </tr>\n",
       "    <tr>\n",
       "      <th>25%</th>\n",
       "      <td>1.000000</td>\n",
       "      <td>0.000000</td>\n",
       "      <td>0.000000</td>\n",
       "      <td>0.000000</td>\n",
       "      <td>0.000000</td>\n",
       "      <td>0.000000</td>\n",
       "      <td>3.000000</td>\n",
       "      <td>78.000000</td>\n",
       "      <td>44.500000</td>\n",
       "    </tr>\n",
       "    <tr>\n",
       "      <th>50%</th>\n",
       "      <td>1.000000</td>\n",
       "      <td>0.000000</td>\n",
       "      <td>0.000000</td>\n",
       "      <td>0.000000</td>\n",
       "      <td>1.000000</td>\n",
       "      <td>0.000000</td>\n",
       "      <td>3.000000</td>\n",
       "      <td>95.000000</td>\n",
       "      <td>47.272727</td>\n",
       "    </tr>\n",
       "    <tr>\n",
       "      <th>75%</th>\n",
       "      <td>1.000000</td>\n",
       "      <td>0.000000</td>\n",
       "      <td>0.000000</td>\n",
       "      <td>0.000000</td>\n",
       "      <td>1.000000</td>\n",
       "      <td>0.000000</td>\n",
       "      <td>6.000000</td>\n",
       "      <td>123.000000</td>\n",
       "      <td>48.631579</td>\n",
       "    </tr>\n",
       "    <tr>\n",
       "      <th>max</th>\n",
       "      <td>3.000000</td>\n",
       "      <td>2.000000</td>\n",
       "      <td>2.000000</td>\n",
       "      <td>6.000000</td>\n",
       "      <td>22.000000</td>\n",
       "      <td>10.000000</td>\n",
       "      <td>74.000000</td>\n",
       "      <td>140.000000</td>\n",
       "      <td>50.000000</td>\n",
       "    </tr>\n",
       "  </tbody>\n",
       "</table>\n",
       "</div>"
      ],
      "text/plain": [
       "               노면상태          사고유형          사망자수          중상자수          경상자수  \\\n",
       "count  39609.000000  39609.000000  39609.000000  39609.000000  39609.000000   \n",
       "mean       1.077912      0.370042      0.007776      0.262365      1.070085   \n",
       "std        0.276292      0.760361      0.090109      0.500845      0.992034   \n",
       "min        0.000000      0.000000      0.000000      0.000000      0.000000   \n",
       "25%        1.000000      0.000000      0.000000      0.000000      0.000000   \n",
       "50%        1.000000      0.000000      0.000000      0.000000      1.000000   \n",
       "75%        1.000000      0.000000      0.000000      0.000000      1.000000   \n",
       "max        3.000000      2.000000      2.000000      6.000000     22.000000   \n",
       "\n",
       "               부상자수          ECLO        단속카메라수        평균제한속도  \n",
       "count  39609.000000  39609.000000  39609.000000  39609.000000  \n",
       "mean       0.126865      4.726704     98.151405     46.580373  \n",
       "std        0.394670      3.207206     35.634551      2.333149  \n",
       "min        0.000000      1.000000     26.000000     43.785714  \n",
       "25%        0.000000      3.000000     78.000000     44.500000  \n",
       "50%        0.000000      3.000000     95.000000     47.272727  \n",
       "75%        0.000000      6.000000    123.000000     48.631579  \n",
       "max       10.000000     74.000000    140.000000     50.000000  "
      ]
     },
     "execution_count": 25,
     "metadata": {},
     "output_type": "execute_result"
    }
   ],
   "source": [
    "df.describe()"
   ]
  },
  {
   "cell_type": "code",
   "execution_count": 26,
   "metadata": {},
   "outputs": [
    {
     "data": {
      "text/html": [
       "<div>\n",
       "<style scoped>\n",
       "    .dataframe tbody tr th:only-of-type {\n",
       "        vertical-align: middle;\n",
       "    }\n",
       "\n",
       "    .dataframe tbody tr th {\n",
       "        vertical-align: top;\n",
       "    }\n",
       "\n",
       "    .dataframe thead th {\n",
       "        text-align: right;\n",
       "    }\n",
       "</style>\n",
       "<table border=\"1\" class=\"dataframe\">\n",
       "  <thead>\n",
       "    <tr style=\"text-align: right;\">\n",
       "      <th></th>\n",
       "      <th>ID</th>\n",
       "      <th>요일</th>\n",
       "      <th>기상상태</th>\n",
       "      <th>도로형태</th>\n",
       "      <th>사고유형 - 세부분류</th>\n",
       "      <th>법규위반</th>\n",
       "      <th>가해운전자 차종</th>\n",
       "      <th>가해운전자 성별</th>\n",
       "      <th>가해운전자 연령</th>\n",
       "      <th>가해운전자 상해정도</th>\n",
       "      <th>피해운전자 차종</th>\n",
       "      <th>피해운전자 성별</th>\n",
       "      <th>피해운전자 연령</th>\n",
       "      <th>피해운전자 상해정도</th>\n",
       "      <th>사고시간</th>\n",
       "      <th>분기</th>\n",
       "      <th>군구</th>\n",
       "    </tr>\n",
       "  </thead>\n",
       "  <tbody>\n",
       "    <tr>\n",
       "      <th>count</th>\n",
       "      <td>39609</td>\n",
       "      <td>39609</td>\n",
       "      <td>39609</td>\n",
       "      <td>39609</td>\n",
       "      <td>39609</td>\n",
       "      <td>39609</td>\n",
       "      <td>39609</td>\n",
       "      <td>39609</td>\n",
       "      <td>39609</td>\n",
       "      <td>39609</td>\n",
       "      <td>38618</td>\n",
       "      <td>38618</td>\n",
       "      <td>38618</td>\n",
       "      <td>38618</td>\n",
       "      <td>39609</td>\n",
       "      <td>39609</td>\n",
       "      <td>39609</td>\n",
       "    </tr>\n",
       "    <tr>\n",
       "      <th>unique</th>\n",
       "      <td>39609</td>\n",
       "      <td>7</td>\n",
       "      <td>6</td>\n",
       "      <td>11</td>\n",
       "      <td>14</td>\n",
       "      <td>11</td>\n",
       "      <td>12</td>\n",
       "      <td>3</td>\n",
       "      <td>89</td>\n",
       "      <td>6</td>\n",
       "      <td>13</td>\n",
       "      <td>3</td>\n",
       "      <td>97</td>\n",
       "      <td>6</td>\n",
       "      <td>24</td>\n",
       "      <td>4</td>\n",
       "      <td>8</td>\n",
       "    </tr>\n",
       "    <tr>\n",
       "      <th>top</th>\n",
       "      <td>ACCIDENT_00000</td>\n",
       "      <td>금요일</td>\n",
       "      <td>맑음</td>\n",
       "      <td>단일로 - 기타</td>\n",
       "      <td>측면충돌</td>\n",
       "      <td>안전운전불이행</td>\n",
       "      <td>승용</td>\n",
       "      <td>남</td>\n",
       "      <td>60세</td>\n",
       "      <td>상해없음</td>\n",
       "      <td>승용</td>\n",
       "      <td>남</td>\n",
       "      <td>59세</td>\n",
       "      <td>경상</td>\n",
       "      <td>18</td>\n",
       "      <td>4</td>\n",
       "      <td>달서구</td>\n",
       "    </tr>\n",
       "    <tr>\n",
       "      <th>freq</th>\n",
       "      <td>1</td>\n",
       "      <td>6179</td>\n",
       "      <td>36181</td>\n",
       "      <td>19485</td>\n",
       "      <td>17104</td>\n",
       "      <td>21876</td>\n",
       "      <td>26705</td>\n",
       "      <td>29052</td>\n",
       "      <td>1031</td>\n",
       "      <td>29309</td>\n",
       "      <td>20315</td>\n",
       "      <td>27505</td>\n",
       "      <td>867</td>\n",
       "      <td>25034</td>\n",
       "      <td>3398</td>\n",
       "      <td>10505</td>\n",
       "      <td>9891</td>\n",
       "    </tr>\n",
       "  </tbody>\n",
       "</table>\n",
       "</div>"
      ],
      "text/plain": [
       "                    ID     요일   기상상태      도로형태 사고유형 - 세부분류     법규위반 가해운전자 차종  \\\n",
       "count            39609  39609  39609     39609       39609    39609    39609   \n",
       "unique           39609      7      6        11          14       11       12   \n",
       "top     ACCIDENT_00000    금요일     맑음  단일로 - 기타        측면충돌  안전운전불이행       승용   \n",
       "freq                 1   6179  36181     19485       17104    21876    26705   \n",
       "\n",
       "       가해운전자 성별 가해운전자 연령 가해운전자 상해정도 피해운전자 차종 피해운전자 성별 피해운전자 연령 피해운전자 상해정도  \\\n",
       "count     39609    39609      39609    38618    38618    38618      38618   \n",
       "unique        3       89          6       13        3       97          6   \n",
       "top           남      60세       상해없음       승용        남      59세         경상   \n",
       "freq      29052     1031      29309    20315    27505      867      25034   \n",
       "\n",
       "         사고시간     분기     군구  \n",
       "count   39609  39609  39609  \n",
       "unique     24      4      8  \n",
       "top        18      4    달서구  \n",
       "freq     3398  10505   9891  "
      ]
     },
     "execution_count": 26,
     "metadata": {},
     "output_type": "execute_result"
    }
   ],
   "source": [
    "df.describe(include = 'O')"
   ]
  },
  {
   "cell_type": "code",
   "execution_count": 27,
   "metadata": {},
   "outputs": [],
   "source": [
    "test_id = test.pop('ID')\n",
    "df.drop('ID', axis = 1, inplace = True)"
   ]
  },
  {
   "cell_type": "code",
   "execution_count": 28,
   "metadata": {},
   "outputs": [],
   "source": [
    "col_n = test.select_dtypes(['int64', 'float64']).columns\n",
    "col_o = test.select_dtypes('object').columns"
   ]
  },
  {
   "cell_type": "code",
   "execution_count": 29,
   "metadata": {},
   "outputs": [],
   "source": [
    "Y = df[['사망자수', '중상자수', '경상자수', '부상자수']]"
   ]
  },
  {
   "cell_type": "code",
   "execution_count": 30,
   "metadata": {},
   "outputs": [],
   "source": [
    "df_n = df[col_n]\n",
    "df_o = df[col_o]\n",
    "\n",
    "test_n = test[col_n]\n",
    "test_o = test[col_o]"
   ]
  },
  {
   "cell_type": "code",
   "execution_count": 31,
   "metadata": {},
   "outputs": [],
   "source": [
    "rs = RobustScaler()\n",
    "df_n = pd.DataFrame(rs.fit_transform(df_n), columns = col_n)\n",
    "test_n = pd.DataFrame(rs.transform(test_n), columns = col_n)"
   ]
  },
  {
   "cell_type": "code",
   "execution_count": 32,
   "metadata": {},
   "outputs": [
    {
     "name": "stderr",
     "output_type": "stream",
     "text": [
      "C:\\Users\\yjg10\\AppData\\Local\\Temp\\ipykernel_26060\\189694091.py:3: FutureWarning: In a future version, the Index constructor will not infer numeric dtypes when passed object-dtype sequences (matching Series behavior)\n",
      "  obj = pd.get_dummies(obj)\n"
     ]
    }
   ],
   "source": [
    "obj = pd.concat([df_o, test_o], axis = 0)\n",
    "\n",
    "obj = pd.get_dummies(obj)\n",
    "\n",
    "df_o = obj.iloc[:len(df_o)]\n",
    "test_o = obj.iloc[len(df_o):]"
   ]
  },
  {
   "cell_type": "code",
   "execution_count": 33,
   "metadata": {},
   "outputs": [],
   "source": [
    "df2 = pd.concat([df_n, df_o], axis = 1)\n",
    "test2 = pd.concat([test_n, test_o], axis = 1)"
   ]
  },
  {
   "cell_type": "code",
   "execution_count": 34,
   "metadata": {},
   "outputs": [
    {
     "data": {
      "text/plain": [
       "((39609, 64), (10963, 64))"
      ]
     },
     "execution_count": 34,
     "metadata": {},
     "output_type": "execute_result"
    }
   ],
   "source": [
    "df2.shape, test2.shape"
   ]
  },
  {
   "cell_type": "code",
   "execution_count": 35,
   "metadata": {},
   "outputs": [],
   "source": [
    "y1, y2, y3, y4 = Y.iloc[:, 0], Y.iloc[:, 1], Y.iloc[:, 2], Y.iloc[:, 3]"
   ]
  },
  {
   "cell_type": "code",
   "execution_count": 108,
   "metadata": {},
   "outputs": [],
   "source": [
    "class ml():\n",
    "    train_x = None\n",
    "    train_y = None\n",
    "    \n",
    "    def __init__ (self, A, B):\n",
    "        self.train_x = A\n",
    "        self.train_y = B\n",
    "\n",
    "    def split(self, size):\n",
    "        self.X_tr, self.X_val, self.y_tr, self.y_val = train_test_split(self.train_x, self.train_y, test_size = size, random_state = 0)\n",
    "\n",
    "    def model_fit(self, md):\n",
    "        self.model = md\n",
    "        self.model.fit(self.X_tr, self.y_tr)\n",
    "    \n",
    "    def model_predict(self, test):\n",
    "        self.pred = self.model.predict(self.X_val)\n",
    "        print(mean_squared_log_error(self.y_val, self.pred))\n",
    "        self.final = self.model.predict(test)\n",
    "        return self.final"
   ]
  },
  {
   "cell_type": "code",
   "execution_count": 45,
   "metadata": {},
   "outputs": [],
   "source": [
    "rf = RandomForestRegressor(max_depth = 15, n_estimators = 500)"
   ]
  },
  {
   "cell_type": "code",
   "execution_count": 46,
   "metadata": {},
   "outputs": [
    {
     "name": "stdout",
     "output_type": "stream",
     "text": [
      "0.014910449544113278\n"
     ]
    }
   ],
   "source": [
    "M1 = ml(df2, y1)\n",
    "M1.split(0.2)\n",
    "M1.model_fit(rf)\n",
    "pred1 = M1.model_predict(test2)"
   ]
  },
  {
   "cell_type": "code",
   "execution_count": 47,
   "metadata": {},
   "outputs": [
    {
     "name": "stdout",
     "output_type": "stream",
     "text": [
      "0.38424112951021183\n"
     ]
    }
   ],
   "source": [
    "M2 = ml(df2, y2)\n",
    "M2.split(0.2)\n",
    "M2.model_fit(rf)\n",
    "pred2 = M2.model_predict(test2)"
   ]
  },
  {
   "cell_type": "code",
   "execution_count": 48,
   "metadata": {},
   "outputs": [
    {
     "name": "stdout",
     "output_type": "stream",
     "text": [
      "0.6669389724870438\n"
     ]
    }
   ],
   "source": [
    "M3 = ml(df2, y3)\n",
    "M3.split(0.2)\n",
    "M3.model_fit(rf)\n",
    "pred3 = M3.model_predict(test2)"
   ]
  },
  {
   "cell_type": "code",
   "execution_count": 49,
   "metadata": {},
   "outputs": [
    {
     "name": "stdout",
     "output_type": "stream",
     "text": [
      "0.22542340667997424\n"
     ]
    }
   ],
   "source": [
    "M4 = ml(df2, y4)\n",
    "M4.split(0.2)\n",
    "M4.model_fit(rf)\n",
    "pred4 = M4.model_predict(test2)"
   ]
  },
  {
   "cell_type": "code",
   "execution_count": 50,
   "metadata": {},
   "outputs": [],
   "source": [
    "eclo = pred1*10 + pred2*5 + pred3*3 + pred4"
   ]
  },
  {
   "cell_type": "code",
   "execution_count": 51,
   "metadata": {},
   "outputs": [],
   "source": [
    "final = pd.DataFrame({\n",
    "    'ID':test_id,'ECLO':eclo \n",
    "})"
   ]
  },
  {
   "cell_type": "code",
   "execution_count": 53,
   "metadata": {},
   "outputs": [],
   "source": [
    "final.to_csv(\"submission_1st.csv\", index = False)"
   ]
  },
  {
   "cell_type": "code",
   "execution_count": 74,
   "metadata": {},
   "outputs": [],
   "source": [
    "dl = keras.Sequential()\n",
    "dl.add(keras.layers.Dense(100, activation = 'relu', input_shape = (df2.shape[1], )))\n",
    "dl.add(keras.layers.Dropout(0.2))\n",
    "dl.add(keras.layers.Dense(50, activation = 'relu'))\n",
    "dl.add(keras.layers.Dropout(0.1))\n",
    "dl.add(keras.layers.Dense(4))"
   ]
  },
  {
   "cell_type": "code",
   "execution_count": 75,
   "metadata": {},
   "outputs": [],
   "source": [
    "checkpoint_cb = keras.callbacks.ModelCheckpoint(\"./model/best-model.h5\", save_best_only = True)\n",
    "early_stopping_cb = keras.callbacks.EarlyStopping(patience = 10, restore_best_weights = True)"
   ]
  },
  {
   "cell_type": "code",
   "execution_count": 76,
   "metadata": {},
   "outputs": [],
   "source": [
    "dl.compile(optimizer = 'adam', loss = 'mse', metrics =  'mean_absolute_error')"
   ]
  },
  {
   "cell_type": "code",
   "execution_count": 77,
   "metadata": {},
   "outputs": [],
   "source": [
    "x_train, x_val, y_train, y_val = train_test_split(df2, Y, test_size = 0.2, random_state = 0)"
   ]
  },
  {
   "cell_type": "code",
   "execution_count": 78,
   "metadata": {},
   "outputs": [
    {
     "name": "stdout",
     "output_type": "stream",
     "text": [
      "Epoch 1/1000\n",
      "496/496 [==============================] - 1s 2ms/step - loss: 0.3583 - mean_absolute_error: 0.3454 - val_loss: 0.3473 - val_mean_absolute_error: 0.3134\n",
      "Epoch 2/1000\n",
      "496/496 [==============================] - 1s 2ms/step - loss: 0.3347 - mean_absolute_error: 0.3268 - val_loss: 0.3453 - val_mean_absolute_error: 0.3271\n",
      "Epoch 3/1000\n",
      "496/496 [==============================] - 1s 2ms/step - loss: 0.3321 - mean_absolute_error: 0.3247 - val_loss: 0.3447 - val_mean_absolute_error: 0.3183\n",
      "Epoch 4/1000\n",
      "496/496 [==============================] - 1s 1ms/step - loss: 0.3303 - mean_absolute_error: 0.3242 - val_loss: 0.3453 - val_mean_absolute_error: 0.3193\n",
      "Epoch 5/1000\n",
      "496/496 [==============================] - 1s 1ms/step - loss: 0.3280 - mean_absolute_error: 0.3233 - val_loss: 0.3452 - val_mean_absolute_error: 0.3209\n",
      "Epoch 6/1000\n",
      "496/496 [==============================] - 1s 1ms/step - loss: 0.3268 - mean_absolute_error: 0.3226 - val_loss: 0.3474 - val_mean_absolute_error: 0.3195\n",
      "Epoch 7/1000\n",
      "496/496 [==============================] - 1s 1ms/step - loss: 0.3255 - mean_absolute_error: 0.3227 - val_loss: 0.3460 - val_mean_absolute_error: 0.3175\n",
      "Epoch 8/1000\n",
      "496/496 [==============================] - 1s 1ms/step - loss: 0.3244 - mean_absolute_error: 0.3222 - val_loss: 0.3465 - val_mean_absolute_error: 0.3167\n",
      "Epoch 9/1000\n",
      "496/496 [==============================] - 1s 1ms/step - loss: 0.3235 - mean_absolute_error: 0.3219 - val_loss: 0.3470 - val_mean_absolute_error: 0.3280\n",
      "Epoch 10/1000\n",
      "496/496 [==============================] - 1s 1ms/step - loss: 0.3230 - mean_absolute_error: 0.3219 - val_loss: 0.3465 - val_mean_absolute_error: 0.3237\n",
      "Epoch 11/1000\n",
      "496/496 [==============================] - 1s 1ms/step - loss: 0.3223 - mean_absolute_error: 0.3213 - val_loss: 0.3467 - val_mean_absolute_error: 0.3234\n",
      "Epoch 12/1000\n",
      "496/496 [==============================] - 1s 1ms/step - loss: 0.3213 - mean_absolute_error: 0.3209 - val_loss: 0.3458 - val_mean_absolute_error: 0.3257\n",
      "Epoch 13/1000\n",
      "496/496 [==============================] - 1s 1ms/step - loss: 0.3205 - mean_absolute_error: 0.3212 - val_loss: 0.3481 - val_mean_absolute_error: 0.3204\n"
     ]
    }
   ],
   "source": [
    "history = dl.fit(x_train, y_train, epochs = 1000, batch_size = 64,\n",
    "                 validation_data = (x_val, y_val), callbacks = [checkpoint_cb, early_stopping_cb])"
   ]
  },
  {
   "cell_type": "code",
   "execution_count": 79,
   "metadata": {},
   "outputs": [
    {
     "name": "stdout",
     "output_type": "stream",
     "text": [
      "343/343 [==============================] - 0s 502us/step\n"
     ]
    }
   ],
   "source": [
    "dl_pred = dl.predict(test2)"
   ]
  },
  {
   "cell_type": "code",
   "execution_count": 80,
   "metadata": {},
   "outputs": [
    {
     "data": {
      "text/plain": [
       "array([[ 1.94159746e-02,  3.30515444e-01,  5.27181983e-01,\n",
       "         8.69556069e-02],\n",
       "       [ 2.65967511e-02,  3.29451710e-01,  4.89604712e-01,\n",
       "         9.27097499e-02],\n",
       "       [ 1.15484977e-02,  3.02191556e-01,  1.12399423e+00,\n",
       "         1.15736365e-01],\n",
       "       ...,\n",
       "       [-5.30865975e-04,  1.70771211e-01,  1.29950976e+00,\n",
       "         9.53219533e-02],\n",
       "       [-2.70208251e-03,  1.68983668e-01,  1.30559039e+00,\n",
       "         1.06628656e-01],\n",
       "       [ 3.28556262e-03,  2.23276824e-01,  1.30601013e+00,\n",
       "         1.18919820e-01]], dtype=float32)"
      ]
     },
     "execution_count": 80,
     "metadata": {},
     "output_type": "execute_result"
    }
   ],
   "source": [
    "dl_pred"
   ]
  },
  {
   "cell_type": "code",
   "execution_count": 82,
   "metadata": {},
   "outputs": [
    {
     "data": {
      "text/html": [
       "<div>\n",
       "<style scoped>\n",
       "    .dataframe tbody tr th:only-of-type {\n",
       "        vertical-align: middle;\n",
       "    }\n",
       "\n",
       "    .dataframe tbody tr th {\n",
       "        vertical-align: top;\n",
       "    }\n",
       "\n",
       "    .dataframe thead th {\n",
       "        text-align: right;\n",
       "    }\n",
       "</style>\n",
       "<table border=\"1\" class=\"dataframe\">\n",
       "  <thead>\n",
       "    <tr style=\"text-align: right;\">\n",
       "      <th></th>\n",
       "      <th>0</th>\n",
       "      <th>1</th>\n",
       "      <th>2</th>\n",
       "      <th>3</th>\n",
       "    </tr>\n",
       "  </thead>\n",
       "  <tbody>\n",
       "    <tr>\n",
       "      <th>0</th>\n",
       "      <td>0.019416</td>\n",
       "      <td>0.330515</td>\n",
       "      <td>0.527182</td>\n",
       "      <td>0.086956</td>\n",
       "    </tr>\n",
       "    <tr>\n",
       "      <th>1</th>\n",
       "      <td>0.026597</td>\n",
       "      <td>0.329452</td>\n",
       "      <td>0.489605</td>\n",
       "      <td>0.092710</td>\n",
       "    </tr>\n",
       "    <tr>\n",
       "      <th>2</th>\n",
       "      <td>0.011548</td>\n",
       "      <td>0.302192</td>\n",
       "      <td>1.123994</td>\n",
       "      <td>0.115736</td>\n",
       "    </tr>\n",
       "    <tr>\n",
       "      <th>3</th>\n",
       "      <td>0.014203</td>\n",
       "      <td>0.239536</td>\n",
       "      <td>1.120964</td>\n",
       "      <td>0.130067</td>\n",
       "    </tr>\n",
       "    <tr>\n",
       "      <th>4</th>\n",
       "      <td>0.009706</td>\n",
       "      <td>0.264565</td>\n",
       "      <td>0.986840</td>\n",
       "      <td>0.111743</td>\n",
       "    </tr>\n",
       "    <tr>\n",
       "      <th>...</th>\n",
       "      <td>...</td>\n",
       "      <td>...</td>\n",
       "      <td>...</td>\n",
       "      <td>...</td>\n",
       "    </tr>\n",
       "    <tr>\n",
       "      <th>10958</th>\n",
       "      <td>0.001707</td>\n",
       "      <td>0.157745</td>\n",
       "      <td>1.540761</td>\n",
       "      <td>0.148130</td>\n",
       "    </tr>\n",
       "    <tr>\n",
       "      <th>10959</th>\n",
       "      <td>-0.002626</td>\n",
       "      <td>0.192030</td>\n",
       "      <td>1.243730</td>\n",
       "      <td>0.114600</td>\n",
       "    </tr>\n",
       "    <tr>\n",
       "      <th>10960</th>\n",
       "      <td>-0.000531</td>\n",
       "      <td>0.170771</td>\n",
       "      <td>1.299510</td>\n",
       "      <td>0.095322</td>\n",
       "    </tr>\n",
       "    <tr>\n",
       "      <th>10961</th>\n",
       "      <td>-0.002702</td>\n",
       "      <td>0.168984</td>\n",
       "      <td>1.305590</td>\n",
       "      <td>0.106629</td>\n",
       "    </tr>\n",
       "    <tr>\n",
       "      <th>10962</th>\n",
       "      <td>0.003286</td>\n",
       "      <td>0.223277</td>\n",
       "      <td>1.306010</td>\n",
       "      <td>0.118920</td>\n",
       "    </tr>\n",
       "  </tbody>\n",
       "</table>\n",
       "<p>10963 rows × 4 columns</p>\n",
       "</div>"
      ],
      "text/plain": [
       "              0         1         2         3\n",
       "0      0.019416  0.330515  0.527182  0.086956\n",
       "1      0.026597  0.329452  0.489605  0.092710\n",
       "2      0.011548  0.302192  1.123994  0.115736\n",
       "3      0.014203  0.239536  1.120964  0.130067\n",
       "4      0.009706  0.264565  0.986840  0.111743\n",
       "...         ...       ...       ...       ...\n",
       "10958  0.001707  0.157745  1.540761  0.148130\n",
       "10959 -0.002626  0.192030  1.243730  0.114600\n",
       "10960 -0.000531  0.170771  1.299510  0.095322\n",
       "10961 -0.002702  0.168984  1.305590  0.106629\n",
       "10962  0.003286  0.223277  1.306010  0.118920\n",
       "\n",
       "[10963 rows x 4 columns]"
      ]
     },
     "execution_count": 82,
     "metadata": {},
     "output_type": "execute_result"
    }
   ],
   "source": [
    "pd.DataFrame(dl_pred)"
   ]
  },
  {
   "cell_type": "code",
   "execution_count": 96,
   "metadata": {},
   "outputs": [],
   "source": [
    "dl2 = keras.Sequential()"
   ]
  },
  {
   "cell_type": "code",
   "execution_count": 97,
   "metadata": {},
   "outputs": [],
   "source": [
    "dl2.add(keras.layers.Conv1D(filters = 64, kernel_size = 2, activation = 'relu', input_shape = (df2.shape[1], 1)))\n",
    "dl2.add(keras.layers.MaxPool1D(pool_size = 3))\n",
    "dl2.add(keras.layers.Flatten())\n",
    "dl2.add(keras.layers.Dense(10, activation = 'relu'))\n",
    "dl2.add(keras.layers.Dropout(0.2))\n",
    "dl2.add(keras.layers.Dense(4))"
   ]
  },
  {
   "cell_type": "code",
   "execution_count": 98,
   "metadata": {},
   "outputs": [],
   "source": [
    "dl2.compile(optimizer = 'adam', loss = 'mse', metrics = 'mean_absolute_error')"
   ]
  },
  {
   "cell_type": "code",
   "execution_count": 99,
   "metadata": {},
   "outputs": [
    {
     "name": "stdout",
     "output_type": "stream",
     "text": [
      "Epoch 1/1000\n",
      "496/496 [==============================] - 1s 2ms/step - loss: 0.3720 - mean_absolute_error: 0.3621 - val_loss: 0.3526 - val_mean_absolute_error: 0.3206\n",
      "Epoch 2/1000\n",
      "496/496 [==============================] - 1s 2ms/step - loss: 0.3440 - mean_absolute_error: 0.3382 - val_loss: 0.3475 - val_mean_absolute_error: 0.3209\n",
      "Epoch 3/1000\n",
      "496/496 [==============================] - 1s 2ms/step - loss: 0.3386 - mean_absolute_error: 0.3311 - val_loss: 0.3473 - val_mean_absolute_error: 0.3208\n",
      "Epoch 4/1000\n",
      "496/496 [==============================] - 1s 1ms/step - loss: 0.3360 - mean_absolute_error: 0.3274 - val_loss: 0.3467 - val_mean_absolute_error: 0.3255\n",
      "Epoch 5/1000\n",
      "496/496 [==============================] - 1s 1ms/step - loss: 0.3343 - mean_absolute_error: 0.3259 - val_loss: 0.3462 - val_mean_absolute_error: 0.3262\n",
      "Epoch 6/1000\n",
      "496/496 [==============================] - 1s 1ms/step - loss: 0.3330 - mean_absolute_error: 0.3249 - val_loss: 0.3464 - val_mean_absolute_error: 0.3204\n",
      "Epoch 7/1000\n",
      "496/496 [==============================] - 1s 2ms/step - loss: 0.3327 - mean_absolute_error: 0.3239 - val_loss: 0.3467 - val_mean_absolute_error: 0.3209\n",
      "Epoch 8/1000\n",
      "496/496 [==============================] - 1s 2ms/step - loss: 0.3320 - mean_absolute_error: 0.3233 - val_loss: 0.3460 - val_mean_absolute_error: 0.3257\n",
      "Epoch 9/1000\n",
      "496/496 [==============================] - 1s 2ms/step - loss: 0.3321 - mean_absolute_error: 0.3235 - val_loss: 0.3461 - val_mean_absolute_error: 0.3230\n",
      "Epoch 10/1000\n",
      "496/496 [==============================] - 1s 2ms/step - loss: 0.3316 - mean_absolute_error: 0.3231 - val_loss: 0.3463 - val_mean_absolute_error: 0.3166\n",
      "Epoch 11/1000\n",
      "496/496 [==============================] - 1s 2ms/step - loss: 0.3317 - mean_absolute_error: 0.3231 - val_loss: 0.3461 - val_mean_absolute_error: 0.3217\n",
      "Epoch 12/1000\n",
      "496/496 [==============================] - 1s 1ms/step - loss: 0.3318 - mean_absolute_error: 0.3231 - val_loss: 0.3479 - val_mean_absolute_error: 0.3180\n",
      "Epoch 13/1000\n",
      "496/496 [==============================] - 1s 1ms/step - loss: 0.3317 - mean_absolute_error: 0.3232 - val_loss: 0.3466 - val_mean_absolute_error: 0.3198\n",
      "Epoch 14/1000\n",
      "496/496 [==============================] - 1s 2ms/step - loss: 0.3313 - mean_absolute_error: 0.3229 - val_loss: 0.3459 - val_mean_absolute_error: 0.3229\n",
      "Epoch 15/1000\n",
      "496/496 [==============================] - 1s 2ms/step - loss: 0.3312 - mean_absolute_error: 0.3235 - val_loss: 0.3472 - val_mean_absolute_error: 0.3177\n",
      "Epoch 16/1000\n",
      "496/496 [==============================] - 1s 2ms/step - loss: 0.3311 - mean_absolute_error: 0.3230 - val_loss: 0.3457 - val_mean_absolute_error: 0.3248\n",
      "Epoch 17/1000\n",
      "496/496 [==============================] - 1s 2ms/step - loss: 0.3309 - mean_absolute_error: 0.3234 - val_loss: 0.3462 - val_mean_absolute_error: 0.3204\n",
      "Epoch 18/1000\n",
      "496/496 [==============================] - 1s 2ms/step - loss: 0.3312 - mean_absolute_error: 0.3232 - val_loss: 0.3465 - val_mean_absolute_error: 0.3179\n",
      "Epoch 19/1000\n",
      "496/496 [==============================] - 1s 1ms/step - loss: 0.3311 - mean_absolute_error: 0.3231 - val_loss: 0.3453 - val_mean_absolute_error: 0.3220\n",
      "Epoch 20/1000\n",
      "496/496 [==============================] - 1s 1ms/step - loss: 0.3307 - mean_absolute_error: 0.3230 - val_loss: 0.3456 - val_mean_absolute_error: 0.3213\n",
      "Epoch 21/1000\n",
      "496/496 [==============================] - 1s 2ms/step - loss: 0.3307 - mean_absolute_error: 0.3231 - val_loss: 0.3458 - val_mean_absolute_error: 0.3210\n",
      "Epoch 22/1000\n",
      "496/496 [==============================] - 1s 2ms/step - loss: 0.3306 - mean_absolute_error: 0.3235 - val_loss: 0.3457 - val_mean_absolute_error: 0.3213\n",
      "Epoch 23/1000\n",
      "496/496 [==============================] - 1s 2ms/step - loss: 0.3312 - mean_absolute_error: 0.3228 - val_loss: 0.3454 - val_mean_absolute_error: 0.3223\n",
      "Epoch 24/1000\n",
      "496/496 [==============================] - 1s 2ms/step - loss: 0.3307 - mean_absolute_error: 0.3237 - val_loss: 0.3471 - val_mean_absolute_error: 0.3163\n",
      "Epoch 25/1000\n",
      "496/496 [==============================] - 1s 2ms/step - loss: 0.3309 - mean_absolute_error: 0.3229 - val_loss: 0.3455 - val_mean_absolute_error: 0.3223\n",
      "Epoch 26/1000\n",
      "496/496 [==============================] - 1s 2ms/step - loss: 0.3310 - mean_absolute_error: 0.3236 - val_loss: 0.3454 - val_mean_absolute_error: 0.3185\n",
      "Epoch 27/1000\n",
      "496/496 [==============================] - 1s 2ms/step - loss: 0.3305 - mean_absolute_error: 0.3230 - val_loss: 0.3455 - val_mean_absolute_error: 0.3221\n",
      "Epoch 28/1000\n",
      "496/496 [==============================] - 1s 2ms/step - loss: 0.3307 - mean_absolute_error: 0.3230 - val_loss: 0.3455 - val_mean_absolute_error: 0.3215\n",
      "Epoch 29/1000\n",
      "496/496 [==============================] - 1s 1ms/step - loss: 0.3306 - mean_absolute_error: 0.3229 - val_loss: 0.3454 - val_mean_absolute_error: 0.3204\n"
     ]
    }
   ],
   "source": [
    "history = dl2.fit(x_train, y_train, epochs = 1000, batch_size = 64,\n",
    "                 validation_data = (x_val, y_val), callbacks = [checkpoint_cb, early_stopping_cb])"
   ]
  },
  {
   "cell_type": "code",
   "execution_count": 100,
   "metadata": {},
   "outputs": [
    {
     "name": "stdout",
     "output_type": "stream",
     "text": [
      "343/343 [==============================] - 0s 611us/step\n"
     ]
    },
    {
     "data": {
      "text/plain": [
       "array([[0.02046241, 0.36321875, 0.6133327 , 0.0999551 ],\n",
       "       [0.01990713, 0.35950407, 0.6239142 , 0.10152768],\n",
       "       [0.01392303, 0.32063243, 1.248079  , 0.11257712],\n",
       "       ...,\n",
       "       [0.00612121, 0.22473639, 1.339639  , 0.11446098],\n",
       "       [0.00606269, 0.22587332, 1.3638086 , 0.12143036],\n",
       "       [0.00869437, 0.24955507, 1.4056875 , 0.10908867]], dtype=float32)"
      ]
     },
     "execution_count": 100,
     "metadata": {},
     "output_type": "execute_result"
    }
   ],
   "source": [
    "dl2.predict(test2)"
   ]
  },
  {
   "cell_type": "code",
   "execution_count": 101,
   "metadata": {},
   "outputs": [
    {
     "name": "stdout",
     "output_type": "stream",
     "text": [
      "343/343 [==============================] - 0s 604us/step\n"
     ]
    }
   ],
   "source": [
    "final2 = pd.DataFrame(dl2.predict(test2))"
   ]
  },
  {
   "cell_type": "code",
   "execution_count": 102,
   "metadata": {},
   "outputs": [
    {
     "data": {
      "text/html": [
       "<div>\n",
       "<style scoped>\n",
       "    .dataframe tbody tr th:only-of-type {\n",
       "        vertical-align: middle;\n",
       "    }\n",
       "\n",
       "    .dataframe tbody tr th {\n",
       "        vertical-align: top;\n",
       "    }\n",
       "\n",
       "    .dataframe thead th {\n",
       "        text-align: right;\n",
       "    }\n",
       "</style>\n",
       "<table border=\"1\" class=\"dataframe\">\n",
       "  <thead>\n",
       "    <tr style=\"text-align: right;\">\n",
       "      <th></th>\n",
       "      <th>0</th>\n",
       "      <th>1</th>\n",
       "      <th>2</th>\n",
       "      <th>3</th>\n",
       "    </tr>\n",
       "  </thead>\n",
       "  <tbody>\n",
       "    <tr>\n",
       "      <th>0</th>\n",
       "      <td>0.020462</td>\n",
       "      <td>0.363219</td>\n",
       "      <td>0.613333</td>\n",
       "      <td>0.099955</td>\n",
       "    </tr>\n",
       "    <tr>\n",
       "      <th>1</th>\n",
       "      <td>0.019907</td>\n",
       "      <td>0.359504</td>\n",
       "      <td>0.623914</td>\n",
       "      <td>0.101528</td>\n",
       "    </tr>\n",
       "    <tr>\n",
       "      <th>2</th>\n",
       "      <td>0.013923</td>\n",
       "      <td>0.320632</td>\n",
       "      <td>1.248079</td>\n",
       "      <td>0.112577</td>\n",
       "    </tr>\n",
       "    <tr>\n",
       "      <th>3</th>\n",
       "      <td>0.011749</td>\n",
       "      <td>0.287364</td>\n",
       "      <td>1.323334</td>\n",
       "      <td>0.105120</td>\n",
       "    </tr>\n",
       "    <tr>\n",
       "      <th>4</th>\n",
       "      <td>0.011368</td>\n",
       "      <td>0.296034</td>\n",
       "      <td>1.045540</td>\n",
       "      <td>0.107665</td>\n",
       "    </tr>\n",
       "    <tr>\n",
       "      <th>...</th>\n",
       "      <td>...</td>\n",
       "      <td>...</td>\n",
       "      <td>...</td>\n",
       "      <td>...</td>\n",
       "    </tr>\n",
       "    <tr>\n",
       "      <th>10958</th>\n",
       "      <td>0.003190</td>\n",
       "      <td>0.171098</td>\n",
       "      <td>1.536044</td>\n",
       "      <td>0.107252</td>\n",
       "    </tr>\n",
       "    <tr>\n",
       "      <th>10959</th>\n",
       "      <td>0.005266</td>\n",
       "      <td>0.213005</td>\n",
       "      <td>1.345195</td>\n",
       "      <td>0.115812</td>\n",
       "    </tr>\n",
       "    <tr>\n",
       "      <th>10960</th>\n",
       "      <td>0.006121</td>\n",
       "      <td>0.224736</td>\n",
       "      <td>1.339639</td>\n",
       "      <td>0.114461</td>\n",
       "    </tr>\n",
       "    <tr>\n",
       "      <th>10961</th>\n",
       "      <td>0.006063</td>\n",
       "      <td>0.225873</td>\n",
       "      <td>1.363809</td>\n",
       "      <td>0.121430</td>\n",
       "    </tr>\n",
       "    <tr>\n",
       "      <th>10962</th>\n",
       "      <td>0.008694</td>\n",
       "      <td>0.249555</td>\n",
       "      <td>1.405687</td>\n",
       "      <td>0.109089</td>\n",
       "    </tr>\n",
       "  </tbody>\n",
       "</table>\n",
       "<p>10963 rows × 4 columns</p>\n",
       "</div>"
      ],
      "text/plain": [
       "              0         1         2         3\n",
       "0      0.020462  0.363219  0.613333  0.099955\n",
       "1      0.019907  0.359504  0.623914  0.101528\n",
       "2      0.013923  0.320632  1.248079  0.112577\n",
       "3      0.011749  0.287364  1.323334  0.105120\n",
       "4      0.011368  0.296034  1.045540  0.107665\n",
       "...         ...       ...       ...       ...\n",
       "10958  0.003190  0.171098  1.536044  0.107252\n",
       "10959  0.005266  0.213005  1.345195  0.115812\n",
       "10960  0.006121  0.224736  1.339639  0.114461\n",
       "10961  0.006063  0.225873  1.363809  0.121430\n",
       "10962  0.008694  0.249555  1.405687  0.109089\n",
       "\n",
       "[10963 rows x 4 columns]"
      ]
     },
     "execution_count": 102,
     "metadata": {},
     "output_type": "execute_result"
    }
   ],
   "source": [
    "final2"
   ]
  },
  {
   "cell_type": "code",
   "execution_count": 103,
   "metadata": {},
   "outputs": [],
   "source": [
    "eclo2 = final2[0]*10 + final2[1]*5 + final2[2]*3 + final2[3]"
   ]
  },
  {
   "cell_type": "code",
   "execution_count": 104,
   "metadata": {},
   "outputs": [
    {
     "data": {
      "text/plain": [
       "0        3.960671\n",
       "1        3.969862\n",
       "2        5.599206\n",
       "3        5.629427\n",
       "4        4.838135\n",
       "           ...   \n",
       "10958    5.602774\n",
       "10959    5.269081\n",
       "10960    5.318272\n",
       "10961    5.402850\n",
       "10962    5.660871\n",
       "Length: 10963, dtype: float32"
      ]
     },
     "execution_count": 104,
     "metadata": {},
     "output_type": "execute_result"
    }
   ],
   "source": [
    "eclo2"
   ]
  },
  {
   "cell_type": "code",
   "execution_count": 105,
   "metadata": {},
   "outputs": [],
   "source": [
    "final2_submit = pd.DataFrame({\n",
    "    'ID':test_id,'ECLO':eclo2 \n",
    "})"
   ]
  },
  {
   "cell_type": "code",
   "execution_count": 106,
   "metadata": {},
   "outputs": [],
   "source": [
    "final2_submit.to_csv('submission_3th.csv', index = False)"
   ]
  },
  {
   "cell_type": "code",
   "execution_count": null,
   "metadata": {},
   "outputs": [],
   "source": []
  },
  {
   "cell_type": "code",
   "execution_count": null,
   "metadata": {},
   "outputs": [],
   "source": []
  },
  {
   "cell_type": "code",
   "execution_count": null,
   "metadata": {},
   "outputs": [],
   "source": []
  },
  {
   "cell_type": "code",
   "execution_count": null,
   "metadata": {},
   "outputs": [],
   "source": []
  },
  {
   "cell_type": "code",
   "execution_count": null,
   "metadata": {},
   "outputs": [],
   "source": []
  },
  {
   "cell_type": "code",
   "execution_count": null,
   "metadata": {},
   "outputs": [],
   "source": []
  },
  {
   "cell_type": "code",
   "execution_count": null,
   "metadata": {},
   "outputs": [],
   "source": []
  },
  {
   "cell_type": "code",
   "execution_count": null,
   "metadata": {},
   "outputs": [],
   "source": []
  },
  {
   "cell_type": "code",
   "execution_count": null,
   "metadata": {},
   "outputs": [],
   "source": []
  },
  {
   "cell_type": "code",
   "execution_count": null,
   "metadata": {},
   "outputs": [],
   "source": []
  },
  {
   "cell_type": "code",
   "execution_count": null,
   "metadata": {},
   "outputs": [],
   "source": []
  },
  {
   "cell_type": "code",
   "execution_count": null,
   "metadata": {},
   "outputs": [],
   "source": []
  }
 ],
 "metadata": {
  "kernelspec": {
   "display_name": "Python 3 (ipykernel)",
   "language": "python",
   "name": "python3"
  },
  "language_info": {
   "codemirror_mode": {
    "name": "ipython",
    "version": 3
   },
   "file_extension": ".py",
   "mimetype": "text/x-python",
   "name": "python",
   "nbconvert_exporter": "python",
   "pygments_lexer": "ipython3",
   "version": "3.10.9"
  }
 },
 "nbformat": 4,
 "nbformat_minor": 2
}
